{
 "cells": [
  {
   "cell_type": "markdown",
   "metadata": {},
   "source": [
    "# Исследование закономерности успешности компьютерных игр"
   ]
  },
  {
   "cell_type": "markdown",
   "metadata": {},
   "source": [
    "Задача: выявить определяющие успешность игры закономерности. Это позволит сделать ставку на потенциально популярный продукт и спланировать рекламные кампании.\\\n",
    "Заказчик: интернет-магазин «Стримчик», который продаёт по всему миру компьютерные игры\n",
    "Исходные данные: исторические данные из открытых источников о продажах игр, оценки пользователей и экспертов, жанры и платформы (например, Xbox или PlayStation).\n"
   ]
  },
  {
   "cell_type": "markdown",
   "metadata": {},
   "source": [
    "## Изучение данных из файла"
   ]
  },
  {
   "cell_type": "code",
   "execution_count": 1,
   "metadata": {},
   "outputs": [],
   "source": [
    "import pandas as pd\n",
    "import numpy as np\n",
    "import matplotlib.pyplot as plt\n",
    "import seaborn as sns\n",
    "from scipy import stats as st"
   ]
  },
  {
   "cell_type": "markdown",
   "metadata": {},
   "source": [
    "Прочитаем файл с информацией и посмотрим 10 случайных строк и общую информацию"
   ]
  },
  {
   "cell_type": "code",
   "execution_count": 2,
   "metadata": {},
   "outputs": [
    {
     "data": {
      "text/html": [
       "<div>\n",
       "<style scoped>\n",
       "    .dataframe tbody tr th:only-of-type {\n",
       "        vertical-align: middle;\n",
       "    }\n",
       "\n",
       "    .dataframe tbody tr th {\n",
       "        vertical-align: top;\n",
       "    }\n",
       "\n",
       "    .dataframe thead th {\n",
       "        text-align: right;\n",
       "    }\n",
       "</style>\n",
       "<table border=\"1\" class=\"dataframe\">\n",
       "  <thead>\n",
       "    <tr style=\"text-align: right;\">\n",
       "      <th></th>\n",
       "      <th>Name</th>\n",
       "      <th>Platform</th>\n",
       "      <th>Year_of_Release</th>\n",
       "      <th>Genre</th>\n",
       "      <th>NA_sales</th>\n",
       "      <th>EU_sales</th>\n",
       "      <th>JP_sales</th>\n",
       "      <th>Other_sales</th>\n",
       "      <th>Critic_Score</th>\n",
       "      <th>User_Score</th>\n",
       "      <th>Rating</th>\n",
       "    </tr>\n",
       "  </thead>\n",
       "  <tbody>\n",
       "    <tr>\n",
       "      <th>14230</th>\n",
       "      <td>Rakushou! Pachi-Slot Sengen 5: Rio Paradise</td>\n",
       "      <td>PS2</td>\n",
       "      <td>2007.0</td>\n",
       "      <td>Misc</td>\n",
       "      <td>0.00</td>\n",
       "      <td>0.00</td>\n",
       "      <td>0.03</td>\n",
       "      <td>0.00</td>\n",
       "      <td>NaN</td>\n",
       "      <td>NaN</td>\n",
       "      <td>NaN</td>\n",
       "    </tr>\n",
       "    <tr>\n",
       "      <th>14043</th>\n",
       "      <td>Nobunaga's Ambition II</td>\n",
       "      <td>3DS</td>\n",
       "      <td>2015.0</td>\n",
       "      <td>Strategy</td>\n",
       "      <td>0.00</td>\n",
       "      <td>0.00</td>\n",
       "      <td>0.04</td>\n",
       "      <td>0.00</td>\n",
       "      <td>NaN</td>\n",
       "      <td>NaN</td>\n",
       "      <td>NaN</td>\n",
       "    </tr>\n",
       "    <tr>\n",
       "      <th>3158</th>\n",
       "      <td>Up</td>\n",
       "      <td>DS</td>\n",
       "      <td>2009.0</td>\n",
       "      <td>Action</td>\n",
       "      <td>0.30</td>\n",
       "      <td>0.27</td>\n",
       "      <td>0.00</td>\n",
       "      <td>0.07</td>\n",
       "      <td>NaN</td>\n",
       "      <td>tbd</td>\n",
       "      <td>E</td>\n",
       "    </tr>\n",
       "    <tr>\n",
       "      <th>22</th>\n",
       "      <td>Super Mario Bros. 3</td>\n",
       "      <td>NES</td>\n",
       "      <td>1988.0</td>\n",
       "      <td>Platform</td>\n",
       "      <td>9.54</td>\n",
       "      <td>3.44</td>\n",
       "      <td>3.84</td>\n",
       "      <td>0.46</td>\n",
       "      <td>NaN</td>\n",
       "      <td>NaN</td>\n",
       "      <td>NaN</td>\n",
       "    </tr>\n",
       "    <tr>\n",
       "      <th>110</th>\n",
       "      <td>Mario Kart 8</td>\n",
       "      <td>WiiU</td>\n",
       "      <td>2014.0</td>\n",
       "      <td>Racing</td>\n",
       "      <td>3.15</td>\n",
       "      <td>2.15</td>\n",
       "      <td>1.28</td>\n",
       "      <td>0.51</td>\n",
       "      <td>88.0</td>\n",
       "      <td>9.1</td>\n",
       "      <td>E</td>\n",
       "    </tr>\n",
       "    <tr>\n",
       "      <th>1988</th>\n",
       "      <td>ATV: Quad Power Racing</td>\n",
       "      <td>PS</td>\n",
       "      <td>2000.0</td>\n",
       "      <td>Racing</td>\n",
       "      <td>0.58</td>\n",
       "      <td>0.39</td>\n",
       "      <td>0.00</td>\n",
       "      <td>0.07</td>\n",
       "      <td>42.0</td>\n",
       "      <td>tbd</td>\n",
       "      <td>E</td>\n",
       "    </tr>\n",
       "    <tr>\n",
       "      <th>7130</th>\n",
       "      <td>64 de Hakken! Tamagotchi Minna de Tamagotchi W...</td>\n",
       "      <td>N64</td>\n",
       "      <td>1997.0</td>\n",
       "      <td>Misc</td>\n",
       "      <td>0.00</td>\n",
       "      <td>0.00</td>\n",
       "      <td>0.22</td>\n",
       "      <td>0.00</td>\n",
       "      <td>NaN</td>\n",
       "      <td>NaN</td>\n",
       "      <td>NaN</td>\n",
       "    </tr>\n",
       "    <tr>\n",
       "      <th>8849</th>\n",
       "      <td>Derby Stallion 64</td>\n",
       "      <td>N64</td>\n",
       "      <td>2001.0</td>\n",
       "      <td>Sports</td>\n",
       "      <td>0.00</td>\n",
       "      <td>0.00</td>\n",
       "      <td>0.15</td>\n",
       "      <td>0.00</td>\n",
       "      <td>NaN</td>\n",
       "      <td>NaN</td>\n",
       "      <td>NaN</td>\n",
       "    </tr>\n",
       "    <tr>\n",
       "      <th>14602</th>\n",
       "      <td>Star Wars: The Force Unleashed II</td>\n",
       "      <td>PC</td>\n",
       "      <td>2010.0</td>\n",
       "      <td>Action</td>\n",
       "      <td>0.03</td>\n",
       "      <td>0.00</td>\n",
       "      <td>0.00</td>\n",
       "      <td>0.00</td>\n",
       "      <td>59.0</td>\n",
       "      <td>5.8</td>\n",
       "      <td>T</td>\n",
       "    </tr>\n",
       "    <tr>\n",
       "      <th>106</th>\n",
       "      <td>Tekken 3</td>\n",
       "      <td>PS</td>\n",
       "      <td>1998.0</td>\n",
       "      <td>Fighting</td>\n",
       "      <td>3.27</td>\n",
       "      <td>2.22</td>\n",
       "      <td>1.40</td>\n",
       "      <td>0.29</td>\n",
       "      <td>96.0</td>\n",
       "      <td>9.1</td>\n",
       "      <td>T</td>\n",
       "    </tr>\n",
       "  </tbody>\n",
       "</table>\n",
       "</div>"
      ],
      "text/plain": [
       "                                                    Name Platform  \\\n",
       "14230        Rakushou! Pachi-Slot Sengen 5: Rio Paradise      PS2   \n",
       "14043                             Nobunaga's Ambition II      3DS   \n",
       "3158                                                  Up       DS   \n",
       "22                                   Super Mario Bros. 3      NES   \n",
       "110                                         Mario Kart 8     WiiU   \n",
       "1988                              ATV: Quad Power Racing       PS   \n",
       "7130   64 de Hakken! Tamagotchi Minna de Tamagotchi W...      N64   \n",
       "8849                                   Derby Stallion 64      N64   \n",
       "14602                  Star Wars: The Force Unleashed II       PC   \n",
       "106                                             Tekken 3       PS   \n",
       "\n",
       "       Year_of_Release     Genre  NA_sales  EU_sales  JP_sales  Other_sales  \\\n",
       "14230           2007.0      Misc      0.00      0.00      0.03         0.00   \n",
       "14043           2015.0  Strategy      0.00      0.00      0.04         0.00   \n",
       "3158            2009.0    Action      0.30      0.27      0.00         0.07   \n",
       "22              1988.0  Platform      9.54      3.44      3.84         0.46   \n",
       "110             2014.0    Racing      3.15      2.15      1.28         0.51   \n",
       "1988            2000.0    Racing      0.58      0.39      0.00         0.07   \n",
       "7130            1997.0      Misc      0.00      0.00      0.22         0.00   \n",
       "8849            2001.0    Sports      0.00      0.00      0.15         0.00   \n",
       "14602           2010.0    Action      0.03      0.00      0.00         0.00   \n",
       "106             1998.0  Fighting      3.27      2.22      1.40         0.29   \n",
       "\n",
       "       Critic_Score User_Score Rating  \n",
       "14230           NaN        NaN    NaN  \n",
       "14043           NaN        NaN    NaN  \n",
       "3158            NaN        tbd      E  \n",
       "22              NaN        NaN    NaN  \n",
       "110            88.0        9.1      E  \n",
       "1988           42.0        tbd      E  \n",
       "7130            NaN        NaN    NaN  \n",
       "8849            NaN        NaN    NaN  \n",
       "14602          59.0        5.8      T  \n",
       "106            96.0        9.1      T  "
      ]
     },
     "execution_count": 2,
     "metadata": {},
     "output_type": "execute_result"
    }
   ],
   "source": [
    "data = pd.read_csv('Ya_data/games.csv')\n",
    "\n",
    "data.sample(10, random_state = 1)"
   ]
  },
  {
   "cell_type": "code",
   "execution_count": 3,
   "metadata": {
    "scrolled": true
   },
   "outputs": [
    {
     "name": "stdout",
     "output_type": "stream",
     "text": [
      "<class 'pandas.core.frame.DataFrame'>\n",
      "RangeIndex: 16715 entries, 0 to 16714\n",
      "Data columns (total 11 columns):\n",
      " #   Column           Non-Null Count  Dtype  \n",
      "---  ------           --------------  -----  \n",
      " 0   Name             16713 non-null  object \n",
      " 1   Platform         16715 non-null  object \n",
      " 2   Year_of_Release  16446 non-null  float64\n",
      " 3   Genre            16713 non-null  object \n",
      " 4   NA_sales         16715 non-null  float64\n",
      " 5   EU_sales         16715 non-null  float64\n",
      " 6   JP_sales         16715 non-null  float64\n",
      " 7   Other_sales      16715 non-null  float64\n",
      " 8   Critic_Score     8137 non-null   float64\n",
      " 9   User_Score       10014 non-null  object \n",
      " 10  Rating           9949 non-null   object \n",
      "dtypes: float64(6), object(5)\n",
      "memory usage: 1.4+ MB\n"
     ]
    }
   ],
   "source": [
    "data.info()"
   ]
  },
  {
   "cell_type": "code",
   "execution_count": 4,
   "metadata": {},
   "outputs": [
    {
     "data": {
      "text/plain": [
       "Platform           0.000000\n",
       "NA_sales           0.000000\n",
       "EU_sales           0.000000\n",
       "JP_sales           0.000000\n",
       "Other_sales        0.000000\n",
       "Name               0.000120\n",
       "Genre              0.000120\n",
       "Year_of_Release    0.016093\n",
       "User_Score         0.400897\n",
       "Rating             0.404786\n",
       "Critic_Score       0.513192\n",
       "dtype: float64"
      ]
     },
     "execution_count": 4,
     "metadata": {},
     "output_type": "execute_result"
    }
   ],
   "source": [
    "data.isna().mean().sort_values() #поcмотрим относительное количество пропусков в столбцах"
   ]
  },
  {
   "cell_type": "markdown",
   "metadata": {},
   "source": [
    "### Вывод"
   ]
  },
  {
   "cell_type": "markdown",
   "metadata": {},
   "source": [
    "Из общей информации видно, что: \n",
    "Данные содержат 16715 строк и 11 столбцов:\n",
    "Name — название игры\\\n",
    "Platform — платформа\\\n",
    "Year_of_Release — год выпуска\\\n",
    "Genre — жанр игры\\\n",
    "NA_sales — продажи в Северной Америке (миллионы проданных копий)\\\n",
    "EU_sales — продажи в Европе (миллионы проданных копий)\\\n",
    "JP_sales — продажи в Японии (миллионы проданных копий)\\\n",
    "Other_sales — продажи в других странах (миллионы проданных копий)\\\n",
    "Critic_Score — оценка критиков (максимум 100)\\\n",
    "User_Score — оценка пользователей (максимум 10)\\\n",
    "Rating — рейтинг от организации ESRB (англ. Entertainment Software Rating Board). Эта ассоциация определяет рейтинг компьютерных игр и присваивает им подходящую возрастную категорию.\n",
    "\n",
    "Name и Genre имеют 2 пропуска; Critic_Score, User_Score и Rating имеют 40 - 50 % пропусков; Year_of_Release имеет около 2%  пропусков\\\n",
    "User_Score имеет неверный формат"
   ]
  },
  {
   "cell_type": "markdown",
   "metadata": {},
   "source": [
    "## Подготовка данных"
   ]
  },
  {
   "cell_type": "markdown",
   "metadata": {},
   "source": [
    "### Приведем названия столбцов к нижнему регистру"
   ]
  },
  {
   "cell_type": "code",
   "execution_count": 5,
   "metadata": {},
   "outputs": [
    {
     "data": {
      "text/plain": [
       "Index(['name', 'platform', 'year_of_release', 'genre', 'na_sales', 'eu_sales',\n",
       "       'jp_sales', 'other_sales', 'critic_score', 'user_score', 'rating'],\n",
       "      dtype='object')"
      ]
     },
     "execution_count": 5,
     "metadata": {},
     "output_type": "execute_result"
    }
   ],
   "source": [
    "data.columns = data.columns.str.lower()\n",
    "data.columns"
   ]
  },
  {
   "cell_type": "markdown",
   "metadata": {},
   "source": [
    "### Преобразуем данные в нужные типы"
   ]
  },
  {
   "cell_type": "markdown",
   "metadata": {},
   "source": [
    "Преобразуем данные в столбце user_score в числовые. В столбце user_score имеется аббревиатура tbd которая переводится как \"Подлежит определению\", т.е это пропуски. Таких значений 2424. Заменим их на NaN."
   ]
  },
  {
   "cell_type": "code",
   "execution_count": 6,
   "metadata": {
    "scrolled": true
   },
   "outputs": [
    {
     "data": {
      "text/plain": [
       "2424"
      ]
     },
     "execution_count": 6,
     "metadata": {},
     "output_type": "execute_result"
    }
   ],
   "source": [
    "data.loc[data['user_score'] == 'tbd']['user_score'].count()"
   ]
  },
  {
   "cell_type": "code",
   "execution_count": 7,
   "metadata": {},
   "outputs": [
    {
     "data": {
      "text/plain": [
       "name                object\n",
       "platform            object\n",
       "year_of_release    float64\n",
       "genre               object\n",
       "na_sales           float64\n",
       "eu_sales           float64\n",
       "jp_sales           float64\n",
       "other_sales        float64\n",
       "critic_score       float64\n",
       "user_score         float64\n",
       "rating              object\n",
       "dtype: object"
      ]
     },
     "execution_count": 7,
     "metadata": {},
     "output_type": "execute_result"
    }
   ],
   "source": [
    "data['user_score'] = pd.to_numeric(data['user_score'], errors = 'coerce')\n",
    "data.dtypes"
   ]
  },
  {
   "cell_type": "code",
   "execution_count": null,
   "metadata": {},
   "outputs": [],
   "source": []
  },
  {
   "cell_type": "markdown",
   "metadata": {},
   "source": [
    "### Обработка пропусков"
   ]
  },
  {
   "cell_type": "markdown",
   "metadata": {},
   "source": [
    "Посмотрим данные с пропусками по year_of_release. "
   ]
  },
  {
   "cell_type": "markdown",
   "metadata": {},
   "source": [
    "Часть игр содержит в своем названии  год, который может отличастся с годом релиза на 1 год, но всеже лучше чем медиана."
   ]
  },
  {
   "cell_type": "markdown",
   "metadata": {},
   "source": [
    "Извлечем эту информацию"
   ]
  },
  {
   "cell_type": "code",
   "execution_count": 8,
   "metadata": {},
   "outputs": [
    {
     "data": {
      "text/html": [
       "<div>\n",
       "<style scoped>\n",
       "    .dataframe tbody tr th:only-of-type {\n",
       "        vertical-align: middle;\n",
       "    }\n",
       "\n",
       "    .dataframe tbody tr th {\n",
       "        vertical-align: top;\n",
       "    }\n",
       "\n",
       "    .dataframe thead th {\n",
       "        text-align: right;\n",
       "    }\n",
       "</style>\n",
       "<table border=\"1\" class=\"dataframe\">\n",
       "  <thead>\n",
       "    <tr style=\"text-align: right;\">\n",
       "      <th></th>\n",
       "      <th>0</th>\n",
       "    </tr>\n",
       "  </thead>\n",
       "  <tbody>\n",
       "    <tr>\n",
       "      <th>183</th>\n",
       "      <td>2004.0</td>\n",
       "    </tr>\n",
       "    <tr>\n",
       "      <th>377</th>\n",
       "      <td>2004.0</td>\n",
       "    </tr>\n",
       "    <tr>\n",
       "      <th>475</th>\n",
       "      <td>2006.0</td>\n",
       "    </tr>\n",
       "    <tr>\n",
       "      <th>1650</th>\n",
       "      <td>2003.0</td>\n",
       "    </tr>\n",
       "    <tr>\n",
       "      <th>2572</th>\n",
       "      <td>2009.0</td>\n",
       "    </tr>\n",
       "    <tr>\n",
       "      <th>3486</th>\n",
       "      <td>2002.0</td>\n",
       "    </tr>\n",
       "    <tr>\n",
       "      <th>4775</th>\n",
       "      <td>2003.0</td>\n",
       "    </tr>\n",
       "    <tr>\n",
       "      <th>5156</th>\n",
       "      <td>2003.0</td>\n",
       "    </tr>\n",
       "    <tr>\n",
       "      <th>5336</th>\n",
       "      <td>2013.0</td>\n",
       "    </tr>\n",
       "    <tr>\n",
       "      <th>5655</th>\n",
       "      <td>2005.0</td>\n",
       "    </tr>\n",
       "    <tr>\n",
       "      <th>5889</th>\n",
       "      <td>2003.0</td>\n",
       "    </tr>\n",
       "    <tr>\n",
       "      <th>8918</th>\n",
       "      <td>2005.0</td>\n",
       "    </tr>\n",
       "    <tr>\n",
       "      <th>13195</th>\n",
       "      <td>2011.0</td>\n",
       "    </tr>\n",
       "    <tr>\n",
       "      <th>13929</th>\n",
       "      <td>2006.0</td>\n",
       "    </tr>\n",
       "    <tr>\n",
       "      <th>15953</th>\n",
       "      <td>2008.0</td>\n",
       "    </tr>\n",
       "    <tr>\n",
       "      <th>16079</th>\n",
       "      <td>2007.0</td>\n",
       "    </tr>\n",
       "    <tr>\n",
       "      <th>16373</th>\n",
       "      <td>2008.0</td>\n",
       "    </tr>\n",
       "  </tbody>\n",
       "</table>\n",
       "</div>"
      ],
      "text/plain": [
       "            0\n",
       "183    2004.0\n",
       "377    2004.0\n",
       "475    2006.0\n",
       "1650   2003.0\n",
       "2572   2009.0\n",
       "3486   2002.0\n",
       "4775   2003.0\n",
       "5156   2003.0\n",
       "5336   2013.0\n",
       "5655   2005.0\n",
       "5889   2003.0\n",
       "8918   2005.0\n",
       "13195  2011.0\n",
       "13929  2006.0\n",
       "15953  2008.0\n",
       "16079  2007.0\n",
       "16373  2008.0"
      ]
     },
     "execution_count": 8,
     "metadata": {},
     "output_type": "execute_result"
    }
   ],
   "source": [
    "year_by_name = data[data['year_of_release'].isnull()]['name'].str.extract('([0-9]{4})').dropna().astype(float)\n",
    "year_by_name"
   ]
  },
  {
   "cell_type": "markdown",
   "metadata": {},
   "source": [
    "Посмотрим что мы нашли. В основном это спортивные симуляторы, которые выходят в год названия, или годом ранее. Некоторые названия повторияются, это теже игры на разных платформах."
   ]
  },
  {
   "cell_type": "code",
   "execution_count": 9,
   "metadata": {},
   "outputs": [
    {
     "data": {
      "text/html": [
       "<div>\n",
       "<style scoped>\n",
       "    .dataframe tbody tr th:only-of-type {\n",
       "        vertical-align: middle;\n",
       "    }\n",
       "\n",
       "    .dataframe tbody tr th {\n",
       "        vertical-align: top;\n",
       "    }\n",
       "\n",
       "    .dataframe thead th {\n",
       "        text-align: right;\n",
       "    }\n",
       "</style>\n",
       "<table border=\"1\" class=\"dataframe\">\n",
       "  <thead>\n",
       "    <tr style=\"text-align: right;\">\n",
       "      <th></th>\n",
       "      <th>name</th>\n",
       "      <th>platform</th>\n",
       "    </tr>\n",
       "  </thead>\n",
       "  <tbody>\n",
       "    <tr>\n",
       "      <th>183</th>\n",
       "      <td>Madden NFL 2004</td>\n",
       "      <td>PS2</td>\n",
       "    </tr>\n",
       "    <tr>\n",
       "      <th>377</th>\n",
       "      <td>FIFA Soccer 2004</td>\n",
       "      <td>PS2</td>\n",
       "    </tr>\n",
       "    <tr>\n",
       "      <th>475</th>\n",
       "      <td>wwe Smackdown vs. Raw 2006</td>\n",
       "      <td>PS2</td>\n",
       "    </tr>\n",
       "    <tr>\n",
       "      <th>1650</th>\n",
       "      <td>NASCAR Thunder 2003</td>\n",
       "      <td>PS2</td>\n",
       "    </tr>\n",
       "    <tr>\n",
       "      <th>2572</th>\n",
       "      <td>PES 2009: Pro Evolution Soccer</td>\n",
       "      <td>PSP</td>\n",
       "    </tr>\n",
       "    <tr>\n",
       "      <th>3486</th>\n",
       "      <td>Madden NFL 2002</td>\n",
       "      <td>XB</td>\n",
       "    </tr>\n",
       "    <tr>\n",
       "      <th>4775</th>\n",
       "      <td>NFL GameDay 2003</td>\n",
       "      <td>PS2</td>\n",
       "    </tr>\n",
       "    <tr>\n",
       "      <th>5156</th>\n",
       "      <td>NBA Live 2003</td>\n",
       "      <td>XB</td>\n",
       "    </tr>\n",
       "    <tr>\n",
       "      <th>5336</th>\n",
       "      <td>Tomb Raider (2013)</td>\n",
       "      <td>PC</td>\n",
       "    </tr>\n",
       "    <tr>\n",
       "      <th>5655</th>\n",
       "      <td>All-Star Baseball 2005</td>\n",
       "      <td>PS2</td>\n",
       "    </tr>\n",
       "    <tr>\n",
       "      <th>5889</th>\n",
       "      <td>NBA Live 2003</td>\n",
       "      <td>GC</td>\n",
       "    </tr>\n",
       "    <tr>\n",
       "      <th>8918</th>\n",
       "      <td>All-Star Baseball 2005</td>\n",
       "      <td>XB</td>\n",
       "    </tr>\n",
       "    <tr>\n",
       "      <th>13195</th>\n",
       "      <td>Tour de France 2011</td>\n",
       "      <td>X360</td>\n",
       "    </tr>\n",
       "    <tr>\n",
       "      <th>13929</th>\n",
       "      <td>Sega Rally 2006</td>\n",
       "      <td>PS2</td>\n",
       "    </tr>\n",
       "    <tr>\n",
       "      <th>15953</th>\n",
       "      <td>PDC World Championship Darts 2008</td>\n",
       "      <td>DS</td>\n",
       "    </tr>\n",
       "    <tr>\n",
       "      <th>16079</th>\n",
       "      <td>Football Manager 2007</td>\n",
       "      <td>X360</td>\n",
       "    </tr>\n",
       "    <tr>\n",
       "      <th>16373</th>\n",
       "      <td>PDC World Championship Darts 2008</td>\n",
       "      <td>PSP</td>\n",
       "    </tr>\n",
       "  </tbody>\n",
       "</table>\n",
       "</div>"
      ],
      "text/plain": [
       "                                    name platform\n",
       "183                      Madden NFL 2004      PS2\n",
       "377                     FIFA Soccer 2004      PS2\n",
       "475           wwe Smackdown vs. Raw 2006      PS2\n",
       "1650                 NASCAR Thunder 2003      PS2\n",
       "2572      PES 2009: Pro Evolution Soccer      PSP\n",
       "3486                     Madden NFL 2002       XB\n",
       "4775                    NFL GameDay 2003      PS2\n",
       "5156                       NBA Live 2003       XB\n",
       "5336                  Tomb Raider (2013)       PC\n",
       "5655              All-Star Baseball 2005      PS2\n",
       "5889                       NBA Live 2003       GC\n",
       "8918              All-Star Baseball 2005       XB\n",
       "13195                Tour de France 2011     X360\n",
       "13929                    Sega Rally 2006      PS2\n",
       "15953  PDC World Championship Darts 2008       DS\n",
       "16079              Football Manager 2007     X360\n",
       "16373  PDC World Championship Darts 2008      PSP"
      ]
     },
     "execution_count": 9,
     "metadata": {},
     "output_type": "execute_result"
    }
   ],
   "source": [
    "data.loc[year_by_name.index, ['name', 'platform']]"
   ]
  },
  {
   "cell_type": "markdown",
   "metadata": {},
   "source": [
    "Заменим пропуски на года из названия."
   ]
  },
  {
   "cell_type": "code",
   "execution_count": 10,
   "metadata": {},
   "outputs": [],
   "source": [
    "data.loc[year_by_name.index, 'year_of_release'] = year_by_name.values"
   ]
  },
  {
   "cell_type": "code",
   "execution_count": 11,
   "metadata": {},
   "outputs": [
    {
     "data": {
      "text/plain": [
       "platform           0.000000\n",
       "na_sales           0.000000\n",
       "eu_sales           0.000000\n",
       "jp_sales           0.000000\n",
       "other_sales        0.000000\n",
       "name               0.000120\n",
       "genre              0.000120\n",
       "year_of_release    0.015076\n",
       "rating             0.404786\n",
       "critic_score       0.513192\n",
       "user_score         0.545917\n",
       "dtype: float64"
      ]
     },
     "execution_count": 11,
     "metadata": {},
     "output_type": "execute_result"
    }
   ],
   "source": [
    "data.isna().mean().sort_values()"
   ]
  },
  {
   "cell_type": "markdown",
   "metadata": {},
   "source": [
    "Колличество пропусков year_of_release немного сократилось. С остальными пропусками ничего не поделать. Пропуски в оценке пользователей и критиков слишком непредсказуемы. "
   ]
  },
  {
   "cell_type": "markdown",
   "metadata": {},
   "source": [
    "### Суммарные продажи во всех регионах "
   ]
  },
  {
   "cell_type": "code",
   "execution_count": 12,
   "metadata": {
    "scrolled": true
   },
   "outputs": [
    {
     "data": {
      "text/html": [
       "<div>\n",
       "<style scoped>\n",
       "    .dataframe tbody tr th:only-of-type {\n",
       "        vertical-align: middle;\n",
       "    }\n",
       "\n",
       "    .dataframe tbody tr th {\n",
       "        vertical-align: top;\n",
       "    }\n",
       "\n",
       "    .dataframe thead th {\n",
       "        text-align: right;\n",
       "    }\n",
       "</style>\n",
       "<table border=\"1\" class=\"dataframe\">\n",
       "  <thead>\n",
       "    <tr style=\"text-align: right;\">\n",
       "      <th></th>\n",
       "      <th>name</th>\n",
       "      <th>platform</th>\n",
       "      <th>year_of_release</th>\n",
       "      <th>genre</th>\n",
       "      <th>na_sales</th>\n",
       "      <th>eu_sales</th>\n",
       "      <th>jp_sales</th>\n",
       "      <th>other_sales</th>\n",
       "      <th>critic_score</th>\n",
       "      <th>user_score</th>\n",
       "      <th>rating</th>\n",
       "      <th>total_sales</th>\n",
       "    </tr>\n",
       "  </thead>\n",
       "  <tbody>\n",
       "    <tr>\n",
       "      <th>0</th>\n",
       "      <td>Wii Sports</td>\n",
       "      <td>Wii</td>\n",
       "      <td>2006.0</td>\n",
       "      <td>Sports</td>\n",
       "      <td>41.36</td>\n",
       "      <td>28.96</td>\n",
       "      <td>3.77</td>\n",
       "      <td>8.45</td>\n",
       "      <td>76.0</td>\n",
       "      <td>8.0</td>\n",
       "      <td>E</td>\n",
       "      <td>82.54</td>\n",
       "    </tr>\n",
       "    <tr>\n",
       "      <th>1</th>\n",
       "      <td>Super Mario Bros.</td>\n",
       "      <td>NES</td>\n",
       "      <td>1985.0</td>\n",
       "      <td>Platform</td>\n",
       "      <td>29.08</td>\n",
       "      <td>3.58</td>\n",
       "      <td>6.81</td>\n",
       "      <td>0.77</td>\n",
       "      <td>NaN</td>\n",
       "      <td>NaN</td>\n",
       "      <td>NaN</td>\n",
       "      <td>40.24</td>\n",
       "    </tr>\n",
       "    <tr>\n",
       "      <th>2</th>\n",
       "      <td>Mario Kart Wii</td>\n",
       "      <td>Wii</td>\n",
       "      <td>2008.0</td>\n",
       "      <td>Racing</td>\n",
       "      <td>15.68</td>\n",
       "      <td>12.76</td>\n",
       "      <td>3.79</td>\n",
       "      <td>3.29</td>\n",
       "      <td>82.0</td>\n",
       "      <td>8.3</td>\n",
       "      <td>E</td>\n",
       "      <td>35.52</td>\n",
       "    </tr>\n",
       "    <tr>\n",
       "      <th>3</th>\n",
       "      <td>Wii Sports Resort</td>\n",
       "      <td>Wii</td>\n",
       "      <td>2009.0</td>\n",
       "      <td>Sports</td>\n",
       "      <td>15.61</td>\n",
       "      <td>10.93</td>\n",
       "      <td>3.28</td>\n",
       "      <td>2.95</td>\n",
       "      <td>80.0</td>\n",
       "      <td>8.0</td>\n",
       "      <td>E</td>\n",
       "      <td>32.77</td>\n",
       "    </tr>\n",
       "    <tr>\n",
       "      <th>4</th>\n",
       "      <td>Pokemon Red/Pokemon Blue</td>\n",
       "      <td>GB</td>\n",
       "      <td>1996.0</td>\n",
       "      <td>Role-Playing</td>\n",
       "      <td>11.27</td>\n",
       "      <td>8.89</td>\n",
       "      <td>10.22</td>\n",
       "      <td>1.00</td>\n",
       "      <td>NaN</td>\n",
       "      <td>NaN</td>\n",
       "      <td>NaN</td>\n",
       "      <td>31.38</td>\n",
       "    </tr>\n",
       "  </tbody>\n",
       "</table>\n",
       "</div>"
      ],
      "text/plain": [
       "                       name platform  year_of_release         genre  na_sales  \\\n",
       "0                Wii Sports      Wii           2006.0        Sports     41.36   \n",
       "1         Super Mario Bros.      NES           1985.0      Platform     29.08   \n",
       "2            Mario Kart Wii      Wii           2008.0        Racing     15.68   \n",
       "3         Wii Sports Resort      Wii           2009.0        Sports     15.61   \n",
       "4  Pokemon Red/Pokemon Blue       GB           1996.0  Role-Playing     11.27   \n",
       "\n",
       "   eu_sales  jp_sales  other_sales  critic_score  user_score rating  \\\n",
       "0     28.96      3.77         8.45          76.0         8.0      E   \n",
       "1      3.58      6.81         0.77           NaN         NaN    NaN   \n",
       "2     12.76      3.79         3.29          82.0         8.3      E   \n",
       "3     10.93      3.28         2.95          80.0         8.0      E   \n",
       "4      8.89     10.22         1.00           NaN         NaN    NaN   \n",
       "\n",
       "   total_sales  \n",
       "0        82.54  \n",
       "1        40.24  \n",
       "2        35.52  \n",
       "3        32.77  \n",
       "4        31.38  "
      ]
     },
     "execution_count": 12,
     "metadata": {},
     "output_type": "execute_result"
    }
   ],
   "source": [
    "# Суммарные продажи запишем в новый столбец total_sales\n",
    "data['total_sales'] = data[['na_sales', 'eu_sales', 'jp_sales', 'other_sales']].sum(axis=1)\n",
    "data.head()"
   ]
  },
  {
   "cell_type": "markdown",
   "metadata": {},
   "source": [
    "### Вывод"
   ]
  },
  {
   "cell_type": "markdown",
   "metadata": {},
   "source": [
    "Преобразовали данные. Заполнили немного пропусков в годах релиза. Посчитали суммарные продажи во всех регионах."
   ]
  },
  {
   "cell_type": "markdown",
   "metadata": {},
   "source": [
    "## Исследовательский анализ данных"
   ]
  },
  {
   "cell_type": "markdown",
   "metadata": {},
   "source": [
    "### Распределение игр по годам"
   ]
  },
  {
   "cell_type": "code",
   "execution_count": 13,
   "metadata": {
    "scrolled": false
   },
   "outputs": [
    {
     "data": {
      "image/png": "[encoded data removed]",
      "text/plain": [
       "<Figure size 1080x504 with 1 Axes>"
      ]
     },
     "metadata": {
      "needs_background": "light"
     },
     "output_type": "display_data"
    }
   ],
   "source": [
    "data['year_of_release'].hist(bins=100, figsize=(15,7))\n",
    "plt.title('Гистрограмма количеества выпущенных игр по годам')\n",
    "plt.show()"
   ]
  },
  {
   "cell_type": "markdown",
   "metadata": {},
   "source": [
    "С 1995 года наблюдается резкий рост числа выпущеных игр."
   ]
  },
  {
   "cell_type": "markdown",
   "metadata": {},
   "source": [
    "### Платформы с наибольшими суммарными продажами"
   ]
  },
  {
   "cell_type": "markdown",
   "metadata": {},
   "source": [
    "Построим рейтинг платформ по суммарным продажам. "
   ]
  },
  {
   "cell_type": "code",
   "execution_count": 14,
   "metadata": {},
   "outputs": [
    {
     "data": {
      "text/plain": [
       "platform\n",
       "PS2     1255.77\n",
       "X360     971.42\n",
       "PS3      939.65\n",
       "Wii      907.51\n",
       "DS       806.12\n",
       "PS       730.86\n",
       "GBA      317.85\n",
       "PS4      314.14\n",
       "PSP      294.05\n",
       "PC       259.52\n",
       "Name: total_sales, dtype: float64"
      ]
     },
     "execution_count": 14,
     "metadata": {},
     "output_type": "execute_result"
    }
   ],
   "source": [
    "platform_top = data.groupby('platform')['total_sales'].sum().sort_values(ascending = False).head(10)\n",
    "platform_top"
   ]
  },
  {
   "cell_type": "code",
   "execution_count": 15,
   "metadata": {},
   "outputs": [
    {
     "data": {
      "image/png": "[encoded data removed]",
      "text/plain": [
       "<Figure size 1080x720 with 1 Axes>"
      ]
     },
     "metadata": {
      "needs_background": "light"
     },
     "output_type": "display_data"
    }
   ],
   "source": [
    "fig, ax = plt.subplots()\n",
    "\n",
    "for i in platform_top.index:\n",
    "    data.loc[data['platform'] == i].groupby('year_of_release')['total_sales'].sum()\\\n",
    "    .plot(ax = ax, label = i, figsize=(15,10), alpha = 0.5, style='o-')\n",
    "\n",
    "ax.set_title('Распределение продаж по годам для самых популярных платформ')\n",
    "plt.xlim([1990, 2016])\n",
    "ax.set_ylabel('Суммарные продажи')\n",
    "plt.legend()\n",
    "#plt.title('Распределение продаж по годам для самых популярных платформ')\n",
    "\n",
    "plt.show()"
   ]
  },
  {
   "cell_type": "markdown",
   "metadata": {},
   "source": [
    "Судя по графику время жизни платформы 5-10 лет. За актуальный возьмем период 2007 - 2016 гг.\n",
    "У DS можно заметить артефакт. Игра 1985 года. Консоль вышла в 2004."
   ]
  },
  {
   "cell_type": "code",
   "execution_count": 16,
   "metadata": {},
   "outputs": [],
   "source": [
    "data_actual = data.query('year_of_release >= 2012') #выкинем лишние данные"
   ]
  },
  {
   "cell_type": "markdown",
   "metadata": {},
   "source": [
    "### Потенциально прибыльные платформы"
   ]
  },
  {
   "cell_type": "markdown",
   "metadata": {},
   "source": [
    "Посмотрим какие платформы растут или падают среди лидеров за последние 5 лет и выберем потенциально прибыльные."
   ]
  },
  {
   "cell_type": "code",
   "execution_count": 17,
   "metadata": {},
   "outputs": [
    {
     "data": {
      "text/plain": [
       "platform\n",
       "PS4     314.14\n",
       "PS3     288.79\n",
       "X360    236.54\n",
       "3DS     194.61\n",
       "XOne    159.32\n",
       "WiiU     82.19\n",
       "PC       63.00\n",
       "Name: total_sales, dtype: float64"
      ]
     },
     "execution_count": 17,
     "metadata": {},
     "output_type": "execute_result"
    }
   ],
   "source": [
    "Potentially_platform_top = data_actual.groupby('platform')['total_sales']\\\n",
    ".sum().sort_values(ascending = False).head(7)\n",
    "Potentially_platform_top"
   ]
  },
  {
   "cell_type": "code",
   "execution_count": 18,
   "metadata": {},
   "outputs": [
    {
     "data": {
      "image/png": "[encoded data removed]",
      "text/plain": [
       "<Figure size 1080x720 with 1 Axes>"
      ]
     },
     "metadata": {
      "needs_background": "light"
     },
     "output_type": "display_data"
    }
   ],
   "source": [
    "fig, ax = plt.subplots()\n",
    "\n",
    "for i in Potentially_platform_top.index:\n",
    "    data_actual.loc[data_actual['platform'] == i].groupby('year_of_release')['total_sales']\\\n",
    "    .sum().plot(ax = ax, label = i, figsize=(15,10), alpha = 0.5, style = 'o-')\n",
    "\n",
    "ax.set_title('Распределение продаж по годам для самых популярных платформ')\n",
    "ax.set_ylabel('Суммарные продажи')\n",
    "plt.legend()\n",
    "plt.show()"
   ]
  },
  {
   "cell_type": "markdown",
   "metadata": {},
   "source": [
    "В 2013 годау произошла смена поколений. 2 Растущие поалтформы PS4 и XOne, которые пришли на смену PS3 и X360 соответсвенно. Падение в 2016 году видимо связато с тем, что данные по нему не полные. "
   ]
  },
  {
   "cell_type": "markdown",
   "metadata": {},
   "source": [
    "### «ящик с усами» по глобальным продажам игр"
   ]
  },
  {
   "cell_type": "code",
   "execution_count": 19,
   "metadata": {},
   "outputs": [],
   "source": [
    "data_actual = data_actual.query(\"platform == @Potentially_platform_top.index.to_list()\") #выкинем лишние данные"
   ]
  },
  {
   "cell_type": "code",
   "execution_count": 20,
   "metadata": {
    "scrolled": false
   },
   "outputs": [
    {
     "data": {
      "image/png": "[encoded data removed]",
      "text/plain": [
       "<Figure size 1080x1080 with 1 Axes>"
      ]
     },
     "metadata": {
      "needs_background": "light"
     },
     "output_type": "display_data"
    }
   ],
   "source": [
    "#построим ящик с усами\n",
    "ax = plt.subplots(figsize=(15,15))\n",
    "ax = sns.boxplot(x=\"platform\", y=\"total_sales\", data=data_actual)"
   ]
  },
  {
   "cell_type": "markdown",
   "metadata": {},
   "source": [
    "PS3 и X360 показывают примерно одинаковые медианные значения, как и пришедшие им на смену PS4 и XOne. Выбросы это хитовые игры бьющие рекорды продаж. Тут PS4 обганяет XOne."
   ]
  },
  {
   "cell_type": "markdown",
   "metadata": {},
   "source": [
    "### Влияние отзывов на продажи внутри платформы"
   ]
  },
  {
   "cell_type": "markdown",
   "metadata": {},
   "source": [
    "Рассмотрим как влияют отзывы пользователей и критиков на продажи на примере популярной платформы PS3"
   ]
  },
  {
   "cell_type": "code",
   "execution_count": 21,
   "metadata": {},
   "outputs": [],
   "source": [
    "def sales_dep_by_patform(platform_name):\n",
    "    platform_data = data_actual.query(\"platform == @platform_name\")\n",
    "    fig, (ax1, ax2) = plt.subplots(1,2, figsize=(15,5))\n",
    "    platform_data.plot(x='critic_score', y='total_sales', kind='scatter', alpha = 0.2, title = 'Зависимость продаж от отзывов критиков', ax=ax1)\n",
    "    platform_data.plot(x='user_score', y='total_sales', kind='scatter', alpha = 0.2, title = 'Зависимость продаж от отзывов пользователей',ax=ax2)\n",
    "    print('Коэффициент корреляции для отзывов критиков:{:.2f}' .format(platform_data['critic_score'].corr(platform_data['total_sales'])))\n",
    "    print('Коэффициент корреляции для отзывов пользователей:{:.2f}' .format(platform_data['user_score'].corr(platform_data['total_sales'])))"
   ]
  },
  {
   "cell_type": "code",
   "execution_count": 22,
   "metadata": {
    "scrolled": false
   },
   "outputs": [
    {
     "name": "stdout",
     "output_type": "stream",
     "text": [
      "Коэффициент корреляции для отзывов критиков:0.33\n",
      "Коэффициент корреляции для отзывов пользователей:-0.01\n"
     ]
    },
    {
     "data": {
      "image/png": "[encoded data removed]",
      "text/plain": [
       "<Figure size 1080x360 with 2 Axes>"
      ]
     },
     "metadata": {
      "needs_background": "light"
     },
     "output_type": "display_data"
    }
   ],
   "source": [
    "sales_dep_by_patform('PS3')"
   ]
  },
  {
   "cell_type": "markdown",
   "metadata": {},
   "source": [
    "Высокие оценки критиков гораздо сильнее повышают продажи продажи нежели высокие оценки пользователей."
   ]
  },
  {
   "cell_type": "markdown",
   "metadata": {},
   "source": [
    "### Соотношение выводов с продажами игр на других платформах"
   ]
  },
  {
   "cell_type": "markdown",
   "metadata": {},
   "source": [
    "Соотнесем выводы с продажами игр на других платформах. Рассмотрим зависимости на платформах PS4 и XOne"
   ]
  },
  {
   "cell_type": "code",
   "execution_count": 23,
   "metadata": {},
   "outputs": [
    {
     "name": "stdout",
     "output_type": "stream",
     "text": [
      "Коэффициент корреляции для отзывов критиков:0.41\n",
      "Коэффициент корреляции для отзывов пользователей:-0.03\n"
     ]
    },
    {
     "data": {
      "image/png": "[encoded data removed]",
      "text/plain": [
       "<Figure size 1080x360 with 2 Axes>"
      ]
     },
     "metadata": {
      "needs_background": "light"
     },
     "output_type": "display_data"
    }
   ],
   "source": [
    "sales_dep_by_patform('PS4')"
   ]
  },
  {
   "cell_type": "code",
   "execution_count": 24,
   "metadata": {},
   "outputs": [
    {
     "name": "stdout",
     "output_type": "stream",
     "text": [
      "Коэффициент корреляции для отзывов критиков:0.42\n",
      "Коэффициент корреляции для отзывов пользователей:-0.07\n"
     ]
    },
    {
     "data": {
      "image/png": "[encoded data removed]",
      "text/plain": [
       "<Figure size 1080x360 with 2 Axes>"
      ]
     },
     "metadata": {
      "needs_background": "light"
     },
     "output_type": "display_data"
    }
   ],
   "source": [
    "sales_dep_by_patform('XOne')"
   ]
  },
  {
   "cell_type": "markdown",
   "metadata": {},
   "source": [
    "В других группах наблюдается аналогичная ситуация."
   ]
  },
  {
   "cell_type": "markdown",
   "metadata": {},
   "source": [
    "###  Общее распределение игр по жанрам"
   ]
  },
  {
   "cell_type": "code",
   "execution_count": 25,
   "metadata": {},
   "outputs": [
    {
     "data": {
      "text/plain": [
       "<AxesSubplot:title={'center':'Распределение игр по жанрам (общее колличество продаж)'}, xlabel='genre'>"
      ]
     },
     "execution_count": 25,
     "metadata": {},
     "output_type": "execute_result"
    },
    {
     "data": {
      "image/png": "[encoded data removed]",
      "text/plain": [
       "<Figure size 1080x504 with 1 Axes>"
      ]
     },
     "metadata": {
      "needs_background": "light"
     },
     "output_type": "display_data"
    }
   ],
   "source": [
    "data_actual.groupby('genre')['total_sales'].sum().sort_values().plot(kind = 'bar', figsize=(15,7), title = 'Распределение игр по жанрам (общее колличество продаж)')"
   ]
  },
  {
   "cell_type": "markdown",
   "metadata": {},
   "source": [
    "Саммые прибыльные жанры Action, Shooter, Sports.  Самые низкие продпжи в жанрах Puzzle, Strategy, Adventure"
   ]
  },
  {
   "cell_type": "markdown",
   "metadata": {},
   "source": [
    "### Вывод"
   ]
  },
  {
   "cell_type": "markdown",
   "metadata": {},
   "source": [
    "Ограничили актуальный временной период анализа 2007-2016гг исходя из того что время жизни платформы 5-10 лет. Смена поколений платформ произошла в 2013 году. Растущие платформы PS4 и XOne заменяют падающие PS3 и X360 соответсвенно. На увеличение продаж сильно влияют высокие оценки критиков. Наиболее популярные жанры экшен и шутер."
   ]
  },
  {
   "cell_type": "markdown",
   "metadata": {},
   "source": [
    "## Портрет пользователя каждого региона"
   ]
  },
  {
   "cell_type": "code",
   "execution_count": 26,
   "metadata": {},
   "outputs": [],
   "source": [
    "def popular_by_region(param_name, title):\n",
    "    \n",
    "    fig, axes = plt.subplots(ncols=3, figsize=(17,6))\n",
    "    for region, label, ax in [('na_sales', 'в Северной Америке:',axes[0]),\n",
    "                             ('eu_sales', 'в Европе:',axes[1]),\n",
    "                             ('jp_sales', 'в Японии:',axes[2])]:\n",
    "        data_actual.groupby(param_name)[region].sum().sort_values(ascending = False).head(5)\\\n",
    "        .plot(kind = 'pie', autopct='%1.0f%%',ax=ax, ylabel='')\n",
    "        ax.set_title(label)\n",
    "    fig.suptitle(title)\n",
    "    plt.show()"
   ]
  },
  {
   "cell_type": "markdown",
   "metadata": {},
   "source": [
    "### Самые популярные платформы (топ-5)"
   ]
  },
  {
   "cell_type": "code",
   "execution_count": 27,
   "metadata": {},
   "outputs": [
    {
     "data": {
      "image/png": "[encoded data removed]",
      "text/plain": [
       "<Figure size 1224x432 with 3 Axes>"
      ]
     },
     "metadata": {},
     "output_type": "display_data"
    }
   ],
   "source": [
    "popular_by_region('platform', 'Самые популярные платформы (топ-5)')"
   ]
  },
  {
   "cell_type": "markdown",
   "metadata": {},
   "source": [
    "В Северной Америке и Европе рынок делят платформы от Microsoft (X360, XOne) и Sony(PS3 и PS4). В Японии на первых местах домашние платформы (3DS, PS3, PS4, WiiU). "
   ]
  },
  {
   "cell_type": "markdown",
   "metadata": {},
   "source": [
    "### Самые популярные жанры (топ-5)"
   ]
  },
  {
   "cell_type": "code",
   "execution_count": 28,
   "metadata": {},
   "outputs": [
    {
     "data": {
      "image/png": "[encoded data removed]",
      "text/plain": [
       "<Figure size 1224x432 with 3 Axes>"
      ]
     },
     "metadata": {},
     "output_type": "display_data"
    }
   ],
   "source": [
    "popular_by_region('genre', 'Самые популярные жанры (топ-5)')"
   ]
  },
  {
   "cell_type": "markdown",
   "metadata": {},
   "source": [
    "В Северной Америке и Европе больше игреют в экшены, шутеры, спроотвные и ролевые игры. В японии основную долю занимают ролевые игры и экшен. Разные ивилизации - разные интересы."
   ]
  },
  {
   "cell_type": "markdown",
   "metadata": {},
   "source": [
    "### Влияние рейтинга ESRB на продажи в отдельном регионе (топ-5)"
   ]
  },
  {
   "cell_type": "code",
   "execution_count": 29,
   "metadata": {},
   "outputs": [],
   "source": [
    "data_actual['rating'] = data_actual['rating'].fillna('NR') # Пометим пропуски NR - NotRated"
   ]
  },
  {
   "cell_type": "code",
   "execution_count": 30,
   "metadata": {},
   "outputs": [
    {
     "data": {
      "image/png": "[encoded data removed]",
      "text/plain": [
       "<Figure size 1224x432 with 3 Axes>"
      ]
     },
     "metadata": {},
     "output_type": "display_data"
    }
   ],
   "source": [
    "popular_by_region('rating', 'Самые популярные рейтинги ESRB (топ-5)')"
   ]
  },
  {
   "cell_type": "markdown",
   "metadata": {},
   "source": [
    "В Северной Америке и Европе распределение долей почти одинаковое. Самую большую долю составляют игры с отметкой \"для взрослых\", потом идут \"для всех\", \"без рейтинга\", \"для подростков\" и \"для всех от 10 лет\". В японии картина отличется. Больше половинв игр тут продается \"без рейтинга\". Далее 3 рейтинга распределены почти в равных пропорциях. Видимо эта рейтинговая система не пользуется спросом в Японии."
   ]
  },
  {
   "cell_type": "markdown",
   "metadata": {},
   "source": [
    "### Вывод"
   ]
  },
  {
   "cell_type": "markdown",
   "metadata": {},
   "source": [
    "**Портрет пользрвателя Северной америки и Европы**\\\n",
    "Платформа: X360, XOne, PS3, PS4.\\\n",
    "Жанр:Экшен, шутер\\\n",
    "Ретинг ESRB: \"для всзрослых\"\\\n",
    "\\\n",
    "**Портрет пользрвателя Японии**\\\n",
    "Платформа: 3DS, PS3, PS4.\\\n",
    "Жанр: Ролевая, Экшен\\\n",
    "Ретинг ESRB: \"Без рейтинга\""
   ]
  },
  {
   "cell_type": "markdown",
   "metadata": {},
   "source": [
    "## Проверка гипотез"
   ]
  },
  {
   "cell_type": "markdown",
   "metadata": {},
   "source": [
    "### Средние пользовательские рейтинги платформ Xbox One и PC одинаковые"
   ]
  },
  {
   "cell_type": "code",
   "execution_count": 31,
   "metadata": {},
   "outputs": [],
   "source": [
    "## Сформируем сравниваемыеаемые выборки\n",
    "sample_XOne = data_actual[(data_actual['platform'] == 'XOne')]['user_score']\n",
    "sample_PC = data_actual[(data_actual['platform'] == 'PC')]['user_score']"
   ]
  },
  {
   "cell_type": "markdown",
   "metadata": {},
   "source": [
    "Посчитаем средний пользовательский рейтинг, его дисперсию и стандартное отклонение для платформы XOne"
   ]
  },
  {
   "cell_type": "code",
   "execution_count": 32,
   "metadata": {
    "scrolled": true
   },
   "outputs": [
    {
     "data": {
      "text/plain": [
       "mean    6.521429\n",
       "var     1.906997\n",
       "std     1.380941\n",
       "Name: user_score, dtype: float64"
      ]
     },
     "execution_count": 32,
     "metadata": {},
     "output_type": "execute_result"
    }
   ],
   "source": [
    "sample_XOne.agg(['mean', 'var', 'std'])"
   ]
  },
  {
   "cell_type": "markdown",
   "metadata": {},
   "source": [
    "Посчитаем средний пользовательский рейтинг, его дисперсию и стандартное отклонение для платформы PC"
   ]
  },
  {
   "cell_type": "code",
   "execution_count": 33,
   "metadata": {
    "scrolled": true
   },
   "outputs": [
    {
     "data": {
      "text/plain": [
       "mean    6.438647\n",
       "var     2.777722\n",
       "std     1.666650\n",
       "Name: user_score, dtype: float64"
      ]
     },
     "execution_count": 33,
     "metadata": {},
     "output_type": "execute_result"
    }
   ],
   "source": [
    "sample_PC.agg(['mean', 'var', 'std'])"
   ]
  },
  {
   "cell_type": "markdown",
   "metadata": {},
   "source": [
    "Построим гистрограммы для пользовательского рейтинга"
   ]
  },
  {
   "cell_type": "code",
   "execution_count": 34,
   "metadata": {},
   "outputs": [
    {
     "data": {
      "image/png": "[encoded data removed]",
      "text/plain": [
       "<Figure size 1080x504 with 1 Axes>"
      ]
     },
     "metadata": {
      "needs_background": "light"
     },
     "output_type": "display_data"
    }
   ],
   "source": [
    "sample_XOne.hist(bins = 30, figsize=(15,7), alpha = 0.5)\n",
    "sample_PC.hist(bins = 30, figsize=(15,7), alpha = 0.5)\n",
    "plt.title('Гистрограммы пользовательского рейтинга для сравниваемых платформ')\n",
    "plt.legend(['XOne', 'PC'])\n",
    "plt.show()"
   ]
  },
  {
   "cell_type": "markdown",
   "metadata": {},
   "source": [
    "Сформулируем гипотезы:\\\n",
    "Среднийе пользовательские рейтинги для платформ XOne и PC равны - нулевая гипотеза Н0\\\n",
    "Среднийе пользовательские рейтинги для платформ XOne и PC различны - альтернативная гипотеза Н1"
   ]
  },
  {
   "cell_type": "code",
   "execution_count": 35,
   "metadata": {},
   "outputs": [
    {
     "name": "stdout",
     "output_type": "stream",
     "text": [
      "p-значение: 0.5926118514134983\n",
      "Не получилось отвергнуть нулевую гипотезу\n"
     ]
    }
   ],
   "source": [
    "# Проверка гипотезы о равенстве среднего двух генеральных совокупностей по взятым из них выборкам\n",
    "alpha = 0.01 #Уровень значимости\n",
    "results = st.ttest_ind(sample_XOne, sample_PC, nan_policy = 'omit' , equal_var = False) \n",
    "results.pvalue\n",
    "\n",
    "print('p-значение:', results.pvalue)\n",
    "\n",
    "if results.pvalue < alpha:\n",
    "    print(\"Отвергаем нулевую гипотезу\")\n",
    "else:\n",
    "    print(\"Не получилось отвергнуть нулевую гипотезу\")"
   ]
  },
  {
   "cell_type": "markdown",
   "metadata": {},
   "source": [
    "### Средние пользовательские рейтинги жанров Action и Sports разные"
   ]
  },
  {
   "cell_type": "code",
   "execution_count": 36,
   "metadata": {},
   "outputs": [],
   "source": [
    "## Сформируем срантваемые выборки\n",
    "sample_Action = data_actual[data_actual['genre'] == 'Action']['user_score']\n",
    "sample_Sports = data_actual[data_actual['genre'] == 'Sports']['user_score']"
   ]
  },
  {
   "cell_type": "markdown",
   "metadata": {},
   "source": [
    "Посчитаем средний пользовательский рейтинг, его дисперсию и стандартное отклонение для жанра Action"
   ]
  },
  {
   "cell_type": "code",
   "execution_count": 37,
   "metadata": {
    "scrolled": true
   },
   "outputs": [
    {
     "data": {
      "text/plain": [
       "mean    6.811915\n",
       "var     1.812694\n",
       "std     1.346363\n",
       "Name: user_score, dtype: float64"
      ]
     },
     "execution_count": 37,
     "metadata": {},
     "output_type": "execute_result"
    }
   ],
   "source": [
    "sample_Action.agg(['mean', 'var', 'std'])"
   ]
  },
  {
   "cell_type": "markdown",
   "metadata": {},
   "source": [
    "Посчитаем средний пользовательский рейтинг, его дисперсию и стандартное отклонение для жанра Sports"
   ]
  },
  {
   "cell_type": "code",
   "execution_count": 38,
   "metadata": {
    "scrolled": true
   },
   "outputs": [
    {
     "data": {
      "text/plain": [
       "mean    5.420879\n",
       "var     2.890280\n",
       "std     1.700082\n",
       "Name: user_score, dtype: float64"
      ]
     },
     "execution_count": 38,
     "metadata": {},
     "output_type": "execute_result"
    }
   ],
   "source": [
    "sample_Sports.agg(['mean', 'var', 'std'])"
   ]
  },
  {
   "cell_type": "markdown",
   "metadata": {},
   "source": [
    "Построим гистрограммы для пользовательского рейтинга"
   ]
  },
  {
   "cell_type": "code",
   "execution_count": 39,
   "metadata": {},
   "outputs": [
    {
     "data": {
      "image/png": "[encoded data removed]",
      "text/plain": [
       "<Figure size 1080x504 with 1 Axes>"
      ]
     },
     "metadata": {
      "needs_background": "light"
     },
     "output_type": "display_data"
    }
   ],
   "source": [
    "sample_Action.hist(bins = 30, figsize=(15,7), alpha = 0.5)\n",
    "sample_Sports.hist(bins = 30, figsize=(15,7), alpha = 0.5)\n",
    "plt.title('Гистрограммы пользовательского рейтинга для сравниваемых жанров')\n",
    "plt.legend(['Action', 'Sports'])\n",
    "plt.show()"
   ]
  },
  {
   "cell_type": "markdown",
   "metadata": {},
   "source": [
    "Сформулируем гипотезы:\\\n",
    "Среднийе пользовательские рейтинги для жанров Action и Sports равны - нулевая гипотеза Н0\\\n",
    "Среднийе пользовательские рейтинги для жанров Action и Sports различны - альтернативная гипотеза Н1"
   ]
  },
  {
   "cell_type": "code",
   "execution_count": 40,
   "metadata": {},
   "outputs": [
    {
     "name": "stdout",
     "output_type": "stream",
     "text": [
      "p-значение: 5.965036450010899e-20\n",
      "Отвергаем нулевую гипотезу\n"
     ]
    }
   ],
   "source": [
    "# Проверка гипотезы о равенстве среднего двух генеральных совокупностей по взятым из них выборкам\n",
    "alpha = 0.01 #Уровень значимости\n",
    "results = st.ttest_ind(sample_Action, sample_Sports, nan_policy = 'omit', equal_var = False) #Дисперсии сильно отличаются\n",
    "results.pvalue\n",
    "\n",
    "print('p-значение:', results.pvalue)\n",
    "\n",
    "if results.pvalue < alpha:\n",
    "    print(\"Отвергаем нулевую гипотезу\")\n",
    "else:\n",
    "    print(\"Не получилось отвергнуть нулевую гипотезу\")"
   ]
  },
  {
   "cell_type": "markdown",
   "metadata": {},
   "source": [
    "### Вывод"
   ]
  },
  {
   "cell_type": "markdown",
   "metadata": {},
   "source": [
    "Средние пользовательские рейтинги платформ Xbox One и PC одинаковые\\\n",
    "Средние пользовательские рейтинги жанров Action и Sports разные"
   ]
  },
  {
   "cell_type": "markdown",
   "metadata": {},
   "source": [
    "## Общий вывод"
   ]
  },
  {
   "cell_type": "markdown",
   "metadata": {},
   "source": [
    "Основные результаты исследования:\\\n",
    "Время жизни платформы 5-10 лет.\\\n",
    "В 2013 году произошла смена поколений платформ. \\\n",
    "Растущие платформы PS4 и XOne заменяют падающие PS3 и X360 соответсвенно. Основную ставку следует сделать на новые платформы. Но устаревающие платформы занимают еще значительную долю рынка.\\\n",
    "На увеличение продаж сильно влияют высокие оценки критиков.\\\n",
    "Наиболее популярные жанры экшен и шутер.\\\n",
    "Большинство продаваемых игр (~40%)  имеет рейтинг \"для взрослых\"\n",
    "\n",
    "Для японского рынка есть некоторые особенности:\\\n",
    "Здесь больше половины продаж занимает платформа 3DS, остальную часть занимают PS3, PS4 и WiiU\\\n",
    "Наиболее популярные жанры экшен и ролевые игры.\\\n",
    "Система рейтингов видимо не пользуется тут популярностью. Больше половины игр продается без рейтинга.\n",
    "\n",
    "\n",
    "Проверка гипотез показала, что с высоким уронем значимости 1%:\\\n",
    "Средние пользовательские рейтинги платформ Xbox One и PC одинаковые\\\n",
    "Средние пользовательские рейтинги жанров Action и Sports разные\n"
   ]
  }
 ],
 "metadata": {
  "ExecuteTimeLog": [
   {
    "duration": 767,
    "start_time": "2021-08-03T16:32:16.044Z"
   },
   {
    "duration": 49,
    "start_time": "2021-08-03T16:32:16.813Z"
   },
   {
    "duration": 50,
    "start_time": "2021-08-03T16:32:24.193Z"
   },
   {
    "duration": 14,
    "start_time": "2021-08-03T16:33:10.184Z"
   },
   {
    "duration": 23,
    "start_time": "2021-08-03T16:57:03.564Z"
   },
   {
    "duration": 518,
    "start_time": "2021-08-03T16:57:42.042Z"
   },
   {
    "duration": 23,
    "start_time": "2021-08-03T16:59:02.643Z"
   },
   {
    "duration": 66,
    "start_time": "2021-08-03T17:09:40.911Z"
   },
   {
    "duration": 65,
    "start_time": "2021-08-03T17:09:57.791Z"
   },
   {
    "duration": 18,
    "start_time": "2021-08-03T17:09:58.967Z"
   },
   {
    "duration": 19,
    "start_time": "2021-08-03T17:15:54.494Z"
   },
   {
    "duration": 6,
    "start_time": "2021-08-03T18:22:37.871Z"
   },
   {
    "duration": 5,
    "start_time": "2021-08-03T18:23:07.445Z"
   },
   {
    "duration": 30,
    "start_time": "2021-08-03T18:23:15.179Z"
   },
   {
    "duration": 7,
    "start_time": "2021-08-03T18:25:30.160Z"
   },
   {
    "duration": 258,
    "start_time": "2021-08-03T18:34:20.888Z"
   },
   {
    "duration": 305,
    "start_time": "2021-08-03T18:35:14.972Z"
   },
   {
    "duration": 324,
    "start_time": "2021-08-03T18:38:47.291Z"
   },
   {
    "duration": 309,
    "start_time": "2021-08-03T18:39:02.754Z"
   },
   {
    "duration": 6,
    "start_time": "2021-08-03T18:42:57.503Z"
   },
   {
    "duration": 272,
    "start_time": "2021-08-03T18:44:18.837Z"
   },
   {
    "duration": 7,
    "start_time": "2021-08-03T18:44:34.981Z"
   },
   {
    "duration": 12,
    "start_time": "2021-08-03T18:50:42.412Z"
   },
   {
    "duration": 12,
    "start_time": "2021-08-03T18:51:21.414Z"
   },
   {
    "duration": 32,
    "start_time": "2021-08-03T18:51:43.700Z"
   },
   {
    "duration": 14,
    "start_time": "2021-08-03T18:52:20.752Z"
   },
   {
    "duration": 9,
    "start_time": "2021-08-03T18:52:34.667Z"
   },
   {
    "duration": 756,
    "start_time": "2021-08-03T18:52:43.165Z"
   },
   {
    "duration": 87,
    "start_time": "2021-08-03T18:52:43.924Z"
   },
   {
    "duration": 14,
    "start_time": "2021-08-03T18:52:44.014Z"
   },
   {
    "duration": 41,
    "start_time": "2021-08-03T18:52:44.031Z"
   },
   {
    "duration": 8,
    "start_time": "2021-08-03T18:52:44.076Z"
   },
   {
    "duration": 13,
    "start_time": "2021-08-03T18:52:44.086Z"
   },
   {
    "duration": 431,
    "start_time": "2021-08-03T19:01:13.083Z"
   },
   {
    "duration": 31,
    "start_time": "2021-08-03T19:01:34.929Z"
   },
   {
    "duration": 43,
    "start_time": "2021-08-03T19:18:02.335Z"
   },
   {
    "duration": 16,
    "start_time": "2021-08-03T19:18:59.423Z"
   },
   {
    "duration": 32,
    "start_time": "2021-08-03T19:19:35.782Z"
   },
   {
    "duration": 765,
    "start_time": "2021-08-03T19:19:48.668Z"
   },
   {
    "duration": 88,
    "start_time": "2021-08-03T19:19:49.436Z"
   },
   {
    "duration": 14,
    "start_time": "2021-08-03T19:19:49.527Z"
   },
   {
    "duration": 19,
    "start_time": "2021-08-03T19:19:49.556Z"
   },
   {
    "duration": 10,
    "start_time": "2021-08-03T19:19:49.579Z"
   },
   {
    "duration": 48,
    "start_time": "2021-08-03T19:19:49.591Z"
   },
   {
    "duration": 15,
    "start_time": "2021-08-03T19:19:49.655Z"
   },
   {
    "duration": 33,
    "start_time": "2021-08-03T19:31:42.441Z"
   },
   {
    "duration": 13,
    "start_time": "2021-08-03T19:31:50.865Z"
   },
   {
    "duration": 15,
    "start_time": "2021-08-03T19:32:30.445Z"
   },
   {
    "duration": 353,
    "start_time": "2021-08-03T19:32:52.221Z"
   },
   {
    "duration": 269,
    "start_time": "2021-08-03T19:35:44.414Z"
   },
   {
    "duration": 271,
    "start_time": "2021-08-03T19:36:07.165Z"
   },
   {
    "duration": 717,
    "start_time": "2021-08-03T19:36:17.189Z"
   },
   {
    "duration": 85,
    "start_time": "2021-08-03T19:36:17.909Z"
   },
   {
    "duration": 15,
    "start_time": "2021-08-03T19:36:18.002Z"
   },
   {
    "duration": 35,
    "start_time": "2021-08-03T19:36:18.019Z"
   },
   {
    "duration": 7,
    "start_time": "2021-08-03T19:36:18.067Z"
   },
   {
    "duration": 348,
    "start_time": "2021-08-03T19:36:18.076Z"
   },
   {
    "duration": -902,
    "start_time": "2021-08-03T19:36:19.328Z"
   },
   {
    "duration": 279,
    "start_time": "2021-08-03T19:38:14.376Z"
   },
   {
    "duration": 318,
    "start_time": "2021-08-03T19:38:24.929Z"
   },
   {
    "duration": 1847,
    "start_time": "2021-08-03T19:38:59.736Z"
   },
   {
    "duration": 12,
    "start_time": "2021-08-03T19:39:52.520Z"
   },
   {
    "duration": 16,
    "start_time": "2021-08-03T19:39:59.127Z"
   },
   {
    "duration": 320,
    "start_time": "2021-08-03T19:56:40.464Z"
   },
   {
    "duration": 5,
    "start_time": "2021-08-03T20:18:40.444Z"
   },
   {
    "duration": 13,
    "start_time": "2021-08-03T20:18:47.290Z"
   },
   {
    "duration": 736,
    "start_time": "2021-08-03T20:19:06.629Z"
   },
   {
    "duration": 76,
    "start_time": "2021-08-03T20:19:07.368Z"
   },
   {
    "duration": 18,
    "start_time": "2021-08-03T20:19:07.448Z"
   },
   {
    "duration": 13,
    "start_time": "2021-08-03T20:19:07.469Z"
   },
   {
    "duration": 6,
    "start_time": "2021-08-03T20:19:07.485Z"
   },
   {
    "duration": 383,
    "start_time": "2021-08-03T20:19:07.493Z"
   },
   {
    "duration": -929,
    "start_time": "2021-08-03T20:19:08.809Z"
   },
   {
    "duration": 5,
    "start_time": "2021-08-03T20:25:43.283Z"
   },
   {
    "duration": 14,
    "start_time": "2021-08-03T20:25:47.684Z"
   },
   {
    "duration": 731,
    "start_time": "2021-08-03T20:25:54.891Z"
   },
   {
    "duration": 78,
    "start_time": "2021-08-03T20:25:55.624Z"
   },
   {
    "duration": 14,
    "start_time": "2021-08-03T20:25:55.705Z"
   },
   {
    "duration": 15,
    "start_time": "2021-08-03T20:25:55.721Z"
   },
   {
    "duration": 7,
    "start_time": "2021-08-03T20:25:55.757Z"
   },
   {
    "duration": 27,
    "start_time": "2021-08-03T20:25:55.768Z"
   },
   {
    "duration": 32,
    "start_time": "2021-08-03T20:25:55.798Z"
   },
   {
    "duration": 9,
    "start_time": "2021-08-03T20:28:04.430Z"
   },
   {
    "duration": 10,
    "start_time": "2021-08-03T20:28:15.560Z"
   },
   {
    "duration": 8,
    "start_time": "2021-08-03T20:29:48.047Z"
   },
   {
    "duration": 9,
    "start_time": "2021-08-03T20:30:00.542Z"
   },
   {
    "duration": 735,
    "start_time": "2021-08-03T20:31:13.182Z"
   },
   {
    "duration": 81,
    "start_time": "2021-08-03T20:31:13.919Z"
   },
   {
    "duration": 13,
    "start_time": "2021-08-03T20:31:14.004Z"
   },
   {
    "duration": 12,
    "start_time": "2021-08-03T20:31:14.020Z"
   },
   {
    "duration": 24,
    "start_time": "2021-08-03T20:31:14.035Z"
   },
   {
    "duration": 17,
    "start_time": "2021-08-03T20:31:14.062Z"
   },
   {
    "duration": 15,
    "start_time": "2021-08-03T20:31:14.082Z"
   },
   {
    "duration": 88,
    "start_time": "2021-08-03T20:33:06.644Z"
   },
   {
    "duration": 16,
    "start_time": "2021-08-03T20:33:16.994Z"
   },
   {
    "duration": 9,
    "start_time": "2021-08-03T20:33:47.386Z"
   },
   {
    "duration": 779,
    "start_time": "2021-08-03T20:33:56.541Z"
   },
   {
    "duration": 81,
    "start_time": "2021-08-03T20:33:57.323Z"
   },
   {
    "duration": 16,
    "start_time": "2021-08-03T20:33:57.408Z"
   },
   {
    "duration": 37,
    "start_time": "2021-08-03T20:33:57.428Z"
   },
   {
    "duration": 7,
    "start_time": "2021-08-03T20:33:57.475Z"
   },
   {
    "duration": 13,
    "start_time": "2021-08-03T20:33:57.485Z"
   },
   {
    "duration": 18,
    "start_time": "2021-08-03T20:33:57.500Z"
   },
   {
    "duration": 16,
    "start_time": "2021-08-03T20:34:18.693Z"
   },
   {
    "duration": 728,
    "start_time": "2021-08-03T20:34:26.905Z"
   },
   {
    "duration": 82,
    "start_time": "2021-08-03T20:34:27.635Z"
   },
   {
    "duration": 16,
    "start_time": "2021-08-03T20:34:27.721Z"
   },
   {
    "duration": 35,
    "start_time": "2021-08-03T20:34:27.740Z"
   },
   {
    "duration": 6,
    "start_time": "2021-08-03T20:34:27.778Z"
   },
   {
    "duration": 40,
    "start_time": "2021-08-03T20:34:27.786Z"
   },
   {
    "duration": 36,
    "start_time": "2021-08-03T20:34:27.828Z"
   },
   {
    "duration": 24,
    "start_time": "2021-08-03T20:40:41.415Z"
   },
   {
    "duration": 24,
    "start_time": "2021-08-03T20:41:02.305Z"
   },
   {
    "duration": 23,
    "start_time": "2021-08-03T20:42:01.424Z"
   },
   {
    "duration": 359,
    "start_time": "2021-08-03T20:43:37.824Z"
   },
   {
    "duration": 23,
    "start_time": "2021-08-03T20:43:59.869Z"
   },
   {
    "duration": 260,
    "start_time": "2021-08-03T21:14:03.728Z"
   },
   {
    "duration": 7,
    "start_time": "2021-08-03T21:14:45.076Z"
   },
   {
    "duration": 9,
    "start_time": "2021-08-03T21:17:08.767Z"
   },
   {
    "duration": 21,
    "start_time": "2021-08-03T21:17:24.841Z"
   },
   {
    "duration": 7166,
    "start_time": "2021-08-03T21:21:10.027Z"
   },
   {
    "duration": 31,
    "start_time": "2021-08-03T21:21:33.455Z"
   },
   {
    "duration": 1027,
    "start_time": "2021-08-03T21:30:42.788Z"
   },
   {
    "duration": 396,
    "start_time": "2021-08-03T21:30:53.628Z"
   },
   {
    "duration": 5284,
    "start_time": "2021-08-03T21:31:05.140Z"
   },
   {
    "duration": 1038,
    "start_time": "2021-08-03T21:31:28.316Z"
   },
   {
    "duration": 38,
    "start_time": "2021-08-03T21:38:16.037Z"
   },
   {
    "duration": 27,
    "start_time": "2021-08-03T21:38:43.589Z"
   },
   {
    "duration": 25,
    "start_time": "2021-08-03T21:39:22.546Z"
   },
   {
    "duration": 26,
    "start_time": "2021-08-03T21:39:44.281Z"
   },
   {
    "duration": 27,
    "start_time": "2021-08-03T21:40:01.914Z"
   },
   {
    "duration": 39,
    "start_time": "2021-08-03T21:40:21.554Z"
   },
   {
    "duration": 26,
    "start_time": "2021-08-03T21:40:25.521Z"
   },
   {
    "duration": 26,
    "start_time": "2021-08-03T21:42:17.489Z"
   },
   {
    "duration": 26,
    "start_time": "2021-08-03T21:43:12.912Z"
   },
   {
    "duration": 26,
    "start_time": "2021-08-03T21:43:28.201Z"
   },
   {
    "duration": 32,
    "start_time": "2021-08-03T21:43:46.896Z"
   },
   {
    "duration": 32,
    "start_time": "2021-08-03T21:44:16.409Z"
   },
   {
    "duration": 6606,
    "start_time": "2021-08-03T21:44:25.456Z"
   },
   {
    "duration": 33,
    "start_time": "2021-08-03T21:44:47.113Z"
   },
   {
    "duration": 6538,
    "start_time": "2021-08-03T21:45:21.393Z"
   },
   {
    "duration": 33,
    "start_time": "2021-08-03T21:46:50.416Z"
   },
   {
    "duration": 41,
    "start_time": "2021-08-03T21:56:51.661Z"
   },
   {
    "duration": 30,
    "start_time": "2021-08-03T21:58:29.677Z"
   },
   {
    "duration": 40,
    "start_time": "2021-08-03T21:59:13.661Z"
   },
   {
    "duration": 41,
    "start_time": "2021-08-03T21:59:27.983Z"
   },
   {
    "duration": 6574,
    "start_time": "2021-08-03T21:59:42.712Z"
   },
   {
    "duration": 45,
    "start_time": "2021-08-03T22:00:15.549Z"
   },
   {
    "duration": 44,
    "start_time": "2021-08-03T22:00:41.441Z"
   },
   {
    "duration": 46,
    "start_time": "2021-08-03T22:01:30.550Z"
   },
   {
    "duration": 24,
    "start_time": "2021-08-03T22:01:58.663Z"
   },
   {
    "duration": 37,
    "start_time": "2021-08-03T22:03:09.980Z"
   },
   {
    "duration": 85,
    "start_time": "2021-08-03T22:04:25.452Z"
   },
   {
    "duration": 286,
    "start_time": "2021-08-03T22:06:21.963Z"
   },
   {
    "duration": 296,
    "start_time": "2021-08-03T22:08:14.787Z"
   },
   {
    "duration": 316,
    "start_time": "2021-08-03T22:09:24.149Z"
   },
   {
    "duration": 17,
    "start_time": "2021-08-03T22:09:56.933Z"
   },
   {
    "duration": 18,
    "start_time": "2021-08-03T22:11:26.571Z"
   },
   {
    "duration": 250,
    "start_time": "2021-08-03T22:12:13.953Z"
   },
   {
    "duration": 33,
    "start_time": "2021-08-03T22:12:20.434Z"
   },
   {
    "duration": 28,
    "start_time": "2021-08-03T22:13:47.589Z"
   },
   {
    "duration": 11,
    "start_time": "2021-08-03T22:14:21.849Z"
   },
   {
    "duration": 777,
    "start_time": "2021-08-03T22:14:56.227Z"
   },
   {
    "duration": 81,
    "start_time": "2021-08-03T22:14:57.007Z"
   },
   {
    "duration": 15,
    "start_time": "2021-08-03T22:14:57.091Z"
   },
   {
    "duration": 13,
    "start_time": "2021-08-03T22:14:57.108Z"
   },
   {
    "duration": 33,
    "start_time": "2021-08-03T22:14:57.124Z"
   },
   {
    "duration": 24,
    "start_time": "2021-08-03T22:14:57.159Z"
   },
   {
    "duration": 30,
    "start_time": "2021-08-03T22:14:57.185Z"
   },
   {
    "duration": 38,
    "start_time": "2021-08-03T22:14:57.218Z"
   },
   {
    "duration": 34,
    "start_time": "2021-08-03T22:14:57.260Z"
   },
   {
    "duration": 989,
    "start_time": "2021-08-03T22:14:57.296Z"
   },
   {
    "duration": 42,
    "start_time": "2021-08-03T22:14:58.288Z"
   },
   {
    "duration": 21,
    "start_time": "2021-08-03T22:14:58.354Z"
   },
   {
    "duration": 31,
    "start_time": "2021-08-03T22:14:58.378Z"
   },
   {
    "duration": 10,
    "start_time": "2021-08-03T22:14:58.411Z"
   },
   {
    "duration": 60,
    "start_time": "2021-08-03T22:14:58.424Z"
   },
   {
    "duration": 9,
    "start_time": "2021-08-03T22:15:17.995Z"
   },
   {
    "duration": 9,
    "start_time": "2021-08-03T22:16:14.122Z"
   },
   {
    "duration": 15,
    "start_time": "2021-08-03T22:17:00.233Z"
   },
   {
    "duration": 9,
    "start_time": "2021-08-03T22:18:02.680Z"
   },
   {
    "duration": 11,
    "start_time": "2021-08-03T22:18:24.080Z"
   },
   {
    "duration": 30,
    "start_time": "2021-08-03T22:18:29.616Z"
   },
   {
    "duration": 6466,
    "start_time": "2021-08-03T22:18:55.265Z"
   },
   {
    "duration": 7,
    "start_time": "2021-08-03T22:19:13.496Z"
   },
   {
    "duration": 747,
    "start_time": "2021-08-03T22:19:29.012Z"
   },
   {
    "duration": 77,
    "start_time": "2021-08-03T22:19:29.763Z"
   },
   {
    "duration": 24,
    "start_time": "2021-08-03T22:19:29.843Z"
   },
   {
    "duration": 14,
    "start_time": "2021-08-03T22:19:29.871Z"
   },
   {
    "duration": 8,
    "start_time": "2021-08-03T22:19:29.887Z"
   },
   {
    "duration": 16,
    "start_time": "2021-08-03T22:19:29.897Z"
   },
   {
    "duration": 48,
    "start_time": "2021-08-03T22:19:29.916Z"
   },
   {
    "duration": 27,
    "start_time": "2021-08-03T22:19:29.968Z"
   },
   {
    "duration": 72,
    "start_time": "2021-08-03T22:19:29.999Z"
   },
   {
    "duration": 982,
    "start_time": "2021-08-03T22:19:30.074Z"
   },
   {
    "duration": 48,
    "start_time": "2021-08-03T22:19:31.060Z"
   },
   {
    "duration": 16,
    "start_time": "2021-08-03T22:19:31.111Z"
   },
   {
    "duration": 10,
    "start_time": "2021-08-03T22:19:31.155Z"
   },
   {
    "duration": 25,
    "start_time": "2021-08-03T22:19:31.168Z"
   },
   {
    "duration": 16,
    "start_time": "2021-08-03T22:19:31.196Z"
   },
   {
    "duration": 14,
    "start_time": "2021-08-03T22:19:31.215Z"
   },
   {
    "duration": 92,
    "start_time": "2021-08-03T22:20:47.721Z"
   },
   {
    "duration": 10,
    "start_time": "2021-08-03T22:20:53.600Z"
   },
   {
    "duration": 12,
    "start_time": "2021-08-03T22:20:57.469Z"
   },
   {
    "duration": 13,
    "start_time": "2021-08-03T22:22:07.720Z"
   },
   {
    "duration": 10,
    "start_time": "2021-08-03T22:23:06.135Z"
   },
   {
    "duration": 56,
    "start_time": "2021-08-03T22:25:31.529Z"
   },
   {
    "duration": 14,
    "start_time": "2021-08-03T22:25:33.935Z"
   },
   {
    "duration": 25,
    "start_time": "2021-08-03T22:26:25.703Z"
   },
   {
    "duration": 24,
    "start_time": "2021-08-03T22:27:27.697Z"
   },
   {
    "duration": 34,
    "start_time": "2021-08-03T22:27:31.359Z"
   },
   {
    "duration": 13,
    "start_time": "2021-08-03T22:27:31.975Z"
   },
   {
    "duration": 9,
    "start_time": "2021-08-03T22:27:37.742Z"
   },
   {
    "duration": 9,
    "start_time": "2021-08-03T22:27:43.694Z"
   },
   {
    "duration": 19,
    "start_time": "2021-08-03T22:28:17.902Z"
   },
   {
    "duration": 96,
    "start_time": "2021-08-03T22:31:32.029Z"
   },
   {
    "duration": 110,
    "start_time": "2021-08-03T22:31:59.646Z"
   },
   {
    "duration": 378,
    "start_time": "2021-08-03T22:32:22.727Z"
   },
   {
    "duration": 30,
    "start_time": "2021-08-03T22:35:37.766Z"
   },
   {
    "duration": 714,
    "start_time": "2021-08-03T22:35:56.906Z"
   },
   {
    "duration": 82,
    "start_time": "2021-08-03T22:35:57.624Z"
   },
   {
    "duration": 15,
    "start_time": "2021-08-03T22:35:57.715Z"
   },
   {
    "duration": 17,
    "start_time": "2021-08-03T22:35:57.754Z"
   },
   {
    "duration": 9,
    "start_time": "2021-08-03T22:35:57.773Z"
   },
   {
    "duration": 17,
    "start_time": "2021-08-03T22:35:57.784Z"
   },
   {
    "duration": 14,
    "start_time": "2021-08-03T22:35:57.805Z"
   },
   {
    "duration": 30,
    "start_time": "2021-08-03T22:35:57.855Z"
   },
   {
    "duration": 33,
    "start_time": "2021-08-03T22:35:57.887Z"
   },
   {
    "duration": 1010,
    "start_time": "2021-08-03T22:35:57.953Z"
   },
   {
    "duration": 42,
    "start_time": "2021-08-03T22:35:58.968Z"
   },
   {
    "duration": 16,
    "start_time": "2021-08-03T22:35:59.013Z"
   },
   {
    "duration": 18,
    "start_time": "2021-08-03T22:35:59.056Z"
   },
   {
    "duration": 14,
    "start_time": "2021-08-03T22:35:59.076Z"
   },
   {
    "duration": 434,
    "start_time": "2021-08-03T22:35:59.093Z"
   },
   {
    "duration": -933,
    "start_time": "2021-08-03T22:36:00.463Z"
   },
   {
    "duration": -941,
    "start_time": "2021-08-03T22:36:00.472Z"
   },
   {
    "duration": 12,
    "start_time": "2021-08-03T22:36:32.716Z"
   },
   {
    "duration": 15,
    "start_time": "2021-08-03T22:42:21.361Z"
   },
   {
    "duration": 15,
    "start_time": "2021-08-03T22:43:10.673Z"
   },
   {
    "duration": 250,
    "start_time": "2021-08-03T22:44:32.747Z"
   },
   {
    "duration": 7,
    "start_time": "2021-08-03T22:45:28.251Z"
   },
   {
    "duration": 15,
    "start_time": "2021-08-03T22:45:36.162Z"
   },
   {
    "duration": 15,
    "start_time": "2021-08-03T22:46:16.984Z"
   },
   {
    "duration": 269,
    "start_time": "2021-08-03T22:46:26.984Z"
   },
   {
    "duration": 292,
    "start_time": "2021-08-03T22:46:46.256Z"
   },
   {
    "duration": 272,
    "start_time": "2021-08-03T22:47:36.914Z"
   },
   {
    "duration": 11,
    "start_time": "2021-08-03T22:47:59.224Z"
   },
   {
    "duration": 9,
    "start_time": "2021-08-03T22:52:28.103Z"
   },
   {
    "duration": 698,
    "start_time": "2021-08-03T22:52:56.706Z"
   },
   {
    "duration": 78,
    "start_time": "2021-08-03T22:52:57.407Z"
   },
   {
    "duration": 16,
    "start_time": "2021-08-03T22:52:57.489Z"
   },
   {
    "duration": 12,
    "start_time": "2021-08-03T22:52:57.508Z"
   },
   {
    "duration": 34,
    "start_time": "2021-08-03T22:52:57.522Z"
   },
   {
    "duration": 10,
    "start_time": "2021-08-03T22:52:57.559Z"
   },
   {
    "duration": 17,
    "start_time": "2021-08-03T22:52:57.572Z"
   },
   {
    "duration": 69,
    "start_time": "2021-08-03T22:52:57.594Z"
   },
   {
    "duration": 32,
    "start_time": "2021-08-03T22:52:57.665Z"
   },
   {
    "duration": 956,
    "start_time": "2021-08-03T22:52:57.700Z"
   },
   {
    "duration": 42,
    "start_time": "2021-08-03T22:52:58.659Z"
   },
   {
    "duration": 16,
    "start_time": "2021-08-03T22:52:58.703Z"
   },
   {
    "duration": 48,
    "start_time": "2021-08-03T22:52:58.721Z"
   },
   {
    "duration": 348,
    "start_time": "2021-08-03T22:52:58.772Z"
   },
   {
    "duration": -943,
    "start_time": "2021-08-03T22:53:00.066Z"
   },
   {
    "duration": -945,
    "start_time": "2021-08-03T22:53:00.070Z"
   },
   {
    "duration": -946,
    "start_time": "2021-08-03T22:53:00.072Z"
   },
   {
    "duration": 86,
    "start_time": "2021-08-03T22:54:44.087Z"
   },
   {
    "duration": 12,
    "start_time": "2021-08-03T22:54:56.926Z"
   },
   {
    "duration": 15,
    "start_time": "2021-08-03T22:55:04.150Z"
   },
   {
    "duration": 15,
    "start_time": "2021-08-03T22:55:34.095Z"
   },
   {
    "duration": 14,
    "start_time": "2021-08-03T22:55:51.655Z"
   },
   {
    "duration": 21,
    "start_time": "2021-08-03T22:55:59.119Z"
   },
   {
    "duration": 16,
    "start_time": "2021-08-03T22:56:00.558Z"
   },
   {
    "duration": 6,
    "start_time": "2021-08-03T22:56:15.175Z"
   },
   {
    "duration": 29,
    "start_time": "2021-08-03T22:56:57.182Z"
   },
   {
    "duration": 28,
    "start_time": "2021-08-03T23:00:48.704Z"
   },
   {
    "duration": 23,
    "start_time": "2021-08-03T23:00:49.693Z"
   },
   {
    "duration": 7,
    "start_time": "2021-08-03T23:00:51.614Z"
   },
   {
    "duration": 30,
    "start_time": "2021-08-03T23:00:53.182Z"
   },
   {
    "duration": 750,
    "start_time": "2021-08-03T23:01:02.051Z"
   },
   {
    "duration": 79,
    "start_time": "2021-08-03T23:01:02.804Z"
   },
   {
    "duration": 14,
    "start_time": "2021-08-03T23:01:02.886Z"
   },
   {
    "duration": 29,
    "start_time": "2021-08-03T23:01:02.903Z"
   },
   {
    "duration": 22,
    "start_time": "2021-08-03T23:01:02.934Z"
   },
   {
    "duration": 28,
    "start_time": "2021-08-03T23:01:02.958Z"
   },
   {
    "duration": 39,
    "start_time": "2021-08-03T23:01:02.988Z"
   },
   {
    "duration": 23,
    "start_time": "2021-08-03T23:01:03.031Z"
   },
   {
    "duration": 28,
    "start_time": "2021-08-03T23:01:03.056Z"
   },
   {
    "duration": 916,
    "start_time": "2021-08-03T23:01:03.086Z"
   },
   {
    "duration": 57,
    "start_time": "2021-08-03T23:01:04.005Z"
   },
   {
    "duration": 16,
    "start_time": "2021-08-03T23:01:04.065Z"
   },
   {
    "duration": 41,
    "start_time": "2021-08-03T23:01:04.083Z"
   },
   {
    "duration": 30,
    "start_time": "2021-08-03T23:01:04.127Z"
   },
   {
    "duration": 28,
    "start_time": "2021-08-03T23:01:04.160Z"
   },
   {
    "duration": 17,
    "start_time": "2021-08-03T23:01:04.190Z"
   },
   {
    "duration": 20,
    "start_time": "2021-08-03T23:01:04.210Z"
   },
   {
    "duration": 43,
    "start_time": "2021-08-03T23:01:04.232Z"
   },
   {
    "duration": 30,
    "start_time": "2021-08-03T23:02:54.893Z"
   },
   {
    "duration": 24,
    "start_time": "2021-08-03T23:02:55.996Z"
   },
   {
    "duration": 8,
    "start_time": "2021-08-03T23:03:03.204Z"
   },
   {
    "duration": 17,
    "start_time": "2021-08-03T23:04:41.132Z"
   },
   {
    "duration": 28,
    "start_time": "2021-08-03T23:04:43.475Z"
   },
   {
    "duration": 19,
    "start_time": "2021-08-03T23:04:44.036Z"
   },
   {
    "duration": 8,
    "start_time": "2021-08-03T23:04:45.310Z"
   },
   {
    "duration": 29,
    "start_time": "2021-08-03T23:04:45.924Z"
   },
   {
    "duration": 30,
    "start_time": "2021-08-03T23:04:57.707Z"
   },
   {
    "duration": 822,
    "start_time": "2021-08-03T23:05:06.905Z"
   },
   {
    "duration": 78,
    "start_time": "2021-08-03T23:05:07.733Z"
   },
   {
    "duration": 15,
    "start_time": "2021-08-03T23:05:07.814Z"
   },
   {
    "duration": 39,
    "start_time": "2021-08-03T23:05:07.831Z"
   },
   {
    "duration": 40,
    "start_time": "2021-08-03T23:05:07.873Z"
   },
   {
    "duration": 37,
    "start_time": "2021-08-03T23:05:07.916Z"
   },
   {
    "duration": 24,
    "start_time": "2021-08-03T23:05:07.955Z"
   },
   {
    "duration": 42,
    "start_time": "2021-08-03T23:05:07.983Z"
   },
   {
    "duration": 29,
    "start_time": "2021-08-03T23:05:08.028Z"
   },
   {
    "duration": 932,
    "start_time": "2021-08-03T23:05:08.060Z"
   },
   {
    "duration": 40,
    "start_time": "2021-08-03T23:05:08.995Z"
   },
   {
    "duration": 34,
    "start_time": "2021-08-03T23:05:09.037Z"
   },
   {
    "duration": 40,
    "start_time": "2021-08-03T23:05:09.073Z"
   },
   {
    "duration": 38,
    "start_time": "2021-08-03T23:05:09.116Z"
   },
   {
    "duration": 56,
    "start_time": "2021-08-03T23:05:09.156Z"
   },
   {
    "duration": 47,
    "start_time": "2021-08-03T23:05:09.215Z"
   },
   {
    "duration": 23,
    "start_time": "2021-08-03T23:05:09.264Z"
   },
   {
    "duration": 15,
    "start_time": "2021-08-03T23:05:09.290Z"
   },
   {
    "duration": 47,
    "start_time": "2021-08-03T23:05:09.308Z"
   },
   {
    "duration": 296,
    "start_time": "2021-08-04T12:53:27.995Z"
   },
   {
    "duration": 584,
    "start_time": "2021-08-04T12:53:33.877Z"
   },
   {
    "duration": 59,
    "start_time": "2021-08-04T12:53:34.463Z"
   },
   {
    "duration": 9,
    "start_time": "2021-08-04T12:53:34.524Z"
   },
   {
    "duration": 16,
    "start_time": "2021-08-04T12:53:34.534Z"
   },
   {
    "duration": 6,
    "start_time": "2021-08-04T12:53:34.552Z"
   },
   {
    "duration": 28,
    "start_time": "2021-08-04T12:53:34.560Z"
   },
   {
    "duration": 22,
    "start_time": "2021-08-04T12:53:34.590Z"
   },
   {
    "duration": 26,
    "start_time": "2021-08-04T12:53:34.614Z"
   },
   {
    "duration": 20,
    "start_time": "2021-08-04T12:53:34.642Z"
   },
   {
    "duration": 678,
    "start_time": "2021-08-04T12:53:34.664Z"
   },
   {
    "duration": 31,
    "start_time": "2021-08-04T12:53:35.345Z"
   },
   {
    "duration": 11,
    "start_time": "2021-08-04T12:53:35.378Z"
   },
   {
    "duration": 12,
    "start_time": "2021-08-04T12:53:35.391Z"
   },
   {
    "duration": 40,
    "start_time": "2021-08-04T12:53:35.404Z"
   },
   {
    "duration": 23,
    "start_time": "2021-08-04T12:53:35.446Z"
   },
   {
    "duration": 13,
    "start_time": "2021-08-04T12:53:35.471Z"
   },
   {
    "duration": 12,
    "start_time": "2021-08-04T12:53:35.486Z"
   },
   {
    "duration": 5,
    "start_time": "2021-08-04T12:53:35.500Z"
   },
   {
    "duration": 52,
    "start_time": "2021-08-04T12:53:35.507Z"
   },
   {
    "duration": 11,
    "start_time": "2021-08-04T12:54:01.640Z"
   },
   {
    "duration": 12,
    "start_time": "2021-08-04T12:54:24.279Z"
   },
   {
    "duration": 341,
    "start_time": "2021-08-04T12:57:17.022Z"
   },
   {
    "duration": 21,
    "start_time": "2021-08-04T12:57:56.630Z"
   },
   {
    "duration": 21,
    "start_time": "2021-08-04T12:58:03.270Z"
   },
   {
    "duration": 41,
    "start_time": "2021-08-04T12:58:04.214Z"
   },
   {
    "duration": 6,
    "start_time": "2021-08-04T12:58:05.414Z"
   },
   {
    "duration": 20,
    "start_time": "2021-08-04T12:58:06.047Z"
   },
   {
    "duration": 105,
    "start_time": "2021-08-04T12:59:47.142Z"
   },
   {
    "duration": 575,
    "start_time": "2021-08-04T12:59:53.383Z"
   },
   {
    "duration": 54,
    "start_time": "2021-08-04T12:59:53.960Z"
   },
   {
    "duration": 9,
    "start_time": "2021-08-04T12:59:54.016Z"
   },
   {
    "duration": 8,
    "start_time": "2021-08-04T12:59:54.027Z"
   },
   {
    "duration": 5,
    "start_time": "2021-08-04T12:59:54.040Z"
   },
   {
    "duration": 10,
    "start_time": "2021-08-04T12:59:54.046Z"
   },
   {
    "duration": 16,
    "start_time": "2021-08-04T12:59:54.058Z"
   },
   {
    "duration": 15,
    "start_time": "2021-08-04T12:59:54.077Z"
   },
   {
    "duration": 18,
    "start_time": "2021-08-04T12:59:54.093Z"
   },
   {
    "duration": 699,
    "start_time": "2021-08-04T12:59:54.112Z"
   },
   {
    "duration": 30,
    "start_time": "2021-08-04T12:59:54.812Z"
   },
   {
    "duration": 12,
    "start_time": "2021-08-04T12:59:54.843Z"
   },
   {
    "duration": 12,
    "start_time": "2021-08-04T12:59:54.857Z"
   },
   {
    "duration": 12,
    "start_time": "2021-08-04T12:59:54.871Z"
   },
   {
    "duration": 18,
    "start_time": "2021-08-04T12:59:54.885Z"
   },
   {
    "duration": 65,
    "start_time": "2021-08-04T12:59:54.904Z"
   },
   {
    "duration": 8,
    "start_time": "2021-08-04T12:59:54.972Z"
   },
   {
    "duration": 5,
    "start_time": "2021-08-04T12:59:54.982Z"
   },
   {
    "duration": 15,
    "start_time": "2021-08-04T12:59:54.989Z"
   },
   {
    "duration": 32,
    "start_time": "2021-08-04T13:00:16.327Z"
   },
   {
    "duration": 456,
    "start_time": "2021-08-04T13:00:25.838Z"
   },
   {
    "duration": 270,
    "start_time": "2021-08-04T13:01:47.495Z"
   },
   {
    "duration": 7,
    "start_time": "2021-08-04T13:02:25.573Z"
   },
   {
    "duration": 491,
    "start_time": "2021-08-04T13:03:13.364Z"
   },
   {
    "duration": 20,
    "start_time": "2021-08-04T13:44:17.600Z"
   },
   {
    "duration": 6261,
    "start_time": "2021-08-04T13:45:16.699Z"
   },
   {
    "duration": 7,
    "start_time": "2021-08-04T13:45:38.570Z"
   },
   {
    "duration": 532,
    "start_time": "2021-08-04T13:45:55.008Z"
   },
   {
    "duration": 57,
    "start_time": "2021-08-04T13:45:55.549Z"
   },
   {
    "duration": 10,
    "start_time": "2021-08-04T13:45:55.607Z"
   },
   {
    "duration": 19,
    "start_time": "2021-08-04T13:45:55.618Z"
   },
   {
    "duration": 15,
    "start_time": "2021-08-04T13:45:55.638Z"
   },
   {
    "duration": 15,
    "start_time": "2021-08-04T13:45:55.655Z"
   },
   {
    "duration": 23,
    "start_time": "2021-08-04T13:45:55.672Z"
   },
   {
    "duration": 23,
    "start_time": "2021-08-04T13:45:55.697Z"
   },
   {
    "duration": 20,
    "start_time": "2021-08-04T13:45:55.722Z"
   },
   {
    "duration": 656,
    "start_time": "2021-08-04T13:45:55.745Z"
   },
   {
    "duration": 25,
    "start_time": "2021-08-04T13:45:56.403Z"
   },
   {
    "duration": 29,
    "start_time": "2021-08-04T13:45:56.429Z"
   },
   {
    "duration": 9,
    "start_time": "2021-08-04T13:45:56.460Z"
   },
   {
    "duration": 16,
    "start_time": "2021-08-04T13:45:56.470Z"
   },
   {
    "duration": 7,
    "start_time": "2021-08-04T13:45:56.488Z"
   },
   {
    "duration": 344,
    "start_time": "2021-08-04T13:45:56.497Z"
   },
   {
    "duration": -800,
    "start_time": "2021-08-04T13:45:57.644Z"
   },
   {
    "duration": -801,
    "start_time": "2021-08-04T13:45:57.646Z"
   },
   {
    "duration": -803,
    "start_time": "2021-08-04T13:45:57.648Z"
   },
   {
    "duration": -804,
    "start_time": "2021-08-04T13:45:57.650Z"
   },
   {
    "duration": 270,
    "start_time": "2021-08-04T13:46:44.926Z"
   },
   {
    "duration": 280,
    "start_time": "2021-08-04T13:46:59.607Z"
   },
   {
    "duration": 259,
    "start_time": "2021-08-04T13:47:03.623Z"
   },
   {
    "duration": 579,
    "start_time": "2021-08-04T13:47:20.150Z"
   },
   {
    "duration": 58,
    "start_time": "2021-08-04T13:47:20.731Z"
   },
   {
    "duration": 11,
    "start_time": "2021-08-04T13:47:20.792Z"
   },
   {
    "duration": 9,
    "start_time": "2021-08-04T13:47:20.805Z"
   },
   {
    "duration": 5,
    "start_time": "2021-08-04T13:47:20.816Z"
   },
   {
    "duration": 8,
    "start_time": "2021-08-04T13:47:20.843Z"
   },
   {
    "duration": 9,
    "start_time": "2021-08-04T13:47:20.855Z"
   },
   {
    "duration": 15,
    "start_time": "2021-08-04T13:47:20.867Z"
   },
   {
    "duration": 18,
    "start_time": "2021-08-04T13:47:20.884Z"
   },
   {
    "duration": 687,
    "start_time": "2021-08-04T13:47:20.904Z"
   },
   {
    "duration": 25,
    "start_time": "2021-08-04T13:47:21.593Z"
   },
   {
    "duration": 22,
    "start_time": "2021-08-04T13:47:21.619Z"
   },
   {
    "duration": 15,
    "start_time": "2021-08-04T13:47:21.643Z"
   },
   {
    "duration": 9,
    "start_time": "2021-08-04T13:47:21.660Z"
   },
   {
    "duration": 14,
    "start_time": "2021-08-04T13:47:21.670Z"
   },
   {
    "duration": 376,
    "start_time": "2021-08-04T13:47:21.686Z"
   },
   {
    "duration": -776,
    "start_time": "2021-08-04T13:47:22.840Z"
   },
   {
    "duration": -779,
    "start_time": "2021-08-04T13:47:22.844Z"
   },
   {
    "duration": -779,
    "start_time": "2021-08-04T13:47:22.845Z"
   },
   {
    "duration": -780,
    "start_time": "2021-08-04T13:47:22.847Z"
   },
   {
    "duration": 5,
    "start_time": "2021-08-04T13:48:14.905Z"
   },
   {
    "duration": 3404,
    "start_time": "2021-08-04T13:52:04.912Z"
   },
   {
    "duration": 3313,
    "start_time": "2021-08-04T13:52:20.274Z"
   },
   {
    "duration": 4,
    "start_time": "2021-08-04T13:53:04.281Z"
   },
   {
    "duration": 4,
    "start_time": "2021-08-04T13:53:10.088Z"
   },
   {
    "duration": 540,
    "start_time": "2021-08-04T13:53:14.785Z"
   },
   {
    "duration": 66,
    "start_time": "2021-08-04T13:53:15.326Z"
   },
   {
    "duration": 14,
    "start_time": "2021-08-04T13:53:15.394Z"
   },
   {
    "duration": 20,
    "start_time": "2021-08-04T13:53:15.410Z"
   },
   {
    "duration": 14,
    "start_time": "2021-08-04T13:53:15.432Z"
   },
   {
    "duration": 18,
    "start_time": "2021-08-04T13:53:15.447Z"
   },
   {
    "duration": 22,
    "start_time": "2021-08-04T13:53:15.466Z"
   },
   {
    "duration": 20,
    "start_time": "2021-08-04T13:53:15.491Z"
   },
   {
    "duration": 28,
    "start_time": "2021-08-04T13:53:15.514Z"
   },
   {
    "duration": 655,
    "start_time": "2021-08-04T13:53:15.545Z"
   },
   {
    "duration": 25,
    "start_time": "2021-08-04T13:53:16.202Z"
   },
   {
    "duration": 28,
    "start_time": "2021-08-04T13:53:16.229Z"
   },
   {
    "duration": 8,
    "start_time": "2021-08-04T13:53:16.259Z"
   },
   {
    "duration": 11,
    "start_time": "2021-08-04T13:53:16.269Z"
   },
   {
    "duration": 7,
    "start_time": "2021-08-04T13:53:16.281Z"
   },
   {
    "duration": 321,
    "start_time": "2021-08-04T13:53:16.290Z"
   },
   {
    "duration": -797,
    "start_time": "2021-08-04T13:53:17.410Z"
   },
   {
    "duration": -798,
    "start_time": "2021-08-04T13:53:17.412Z"
   },
   {
    "duration": -803,
    "start_time": "2021-08-04T13:53:17.418Z"
   },
   {
    "duration": -803,
    "start_time": "2021-08-04T13:53:17.419Z"
   },
   {
    "duration": 599,
    "start_time": "2021-08-04T13:53:28.229Z"
   },
   {
    "duration": 69,
    "start_time": "2021-08-04T13:53:28.830Z"
   },
   {
    "duration": 12,
    "start_time": "2021-08-04T13:53:28.902Z"
   },
   {
    "duration": 11,
    "start_time": "2021-08-04T13:53:28.916Z"
   },
   {
    "duration": 8,
    "start_time": "2021-08-04T13:53:28.942Z"
   },
   {
    "duration": 15,
    "start_time": "2021-08-04T13:53:28.952Z"
   },
   {
    "duration": 11,
    "start_time": "2021-08-04T13:53:28.969Z"
   },
   {
    "duration": 14,
    "start_time": "2021-08-04T13:53:28.982Z"
   },
   {
    "duration": 18,
    "start_time": "2021-08-04T13:53:28.998Z"
   },
   {
    "duration": 669,
    "start_time": "2021-08-04T13:53:29.018Z"
   },
   {
    "duration": 26,
    "start_time": "2021-08-04T13:53:29.689Z"
   },
   {
    "duration": 25,
    "start_time": "2021-08-04T13:53:29.716Z"
   },
   {
    "duration": 11,
    "start_time": "2021-08-04T13:53:29.749Z"
   },
   {
    "duration": 17,
    "start_time": "2021-08-04T13:53:29.761Z"
   },
   {
    "duration": 34,
    "start_time": "2021-08-04T13:53:29.779Z"
   },
   {
    "duration": 353,
    "start_time": "2021-08-04T13:53:29.815Z"
   },
   {
    "duration": -801,
    "start_time": "2021-08-04T13:53:30.971Z"
   },
   {
    "duration": -801,
    "start_time": "2021-08-04T13:53:30.973Z"
   },
   {
    "duration": -802,
    "start_time": "2021-08-04T13:53:30.975Z"
   },
   {
    "duration": -801,
    "start_time": "2021-08-04T13:53:30.977Z"
   },
   {
    "duration": 6,
    "start_time": "2021-08-04T13:53:49.653Z"
   },
   {
    "duration": 6,
    "start_time": "2021-08-04T13:54:01.685Z"
   },
   {
    "duration": 542,
    "start_time": "2021-08-04T13:55:12.682Z"
   },
   {
    "duration": 58,
    "start_time": "2021-08-04T13:55:13.226Z"
   },
   {
    "duration": 11,
    "start_time": "2021-08-04T13:55:13.287Z"
   },
   {
    "duration": 9,
    "start_time": "2021-08-04T13:55:13.299Z"
   },
   {
    "duration": 16,
    "start_time": "2021-08-04T13:55:13.310Z"
   },
   {
    "duration": 18,
    "start_time": "2021-08-04T13:55:13.328Z"
   },
   {
    "duration": 12,
    "start_time": "2021-08-04T13:55:13.348Z"
   },
   {
    "duration": 19,
    "start_time": "2021-08-04T13:55:13.362Z"
   },
   {
    "duration": 18,
    "start_time": "2021-08-04T13:55:13.382Z"
   },
   {
    "duration": 726,
    "start_time": "2021-08-04T13:55:13.401Z"
   },
   {
    "duration": 41,
    "start_time": "2021-08-04T13:55:14.128Z"
   },
   {
    "duration": 10,
    "start_time": "2021-08-04T13:55:14.171Z"
   },
   {
    "duration": 12,
    "start_time": "2021-08-04T13:55:14.182Z"
   },
   {
    "duration": 18,
    "start_time": "2021-08-04T13:55:14.196Z"
   },
   {
    "duration": 7,
    "start_time": "2021-08-04T13:55:14.215Z"
   },
   {
    "duration": 340,
    "start_time": "2021-08-04T13:55:14.224Z"
   },
   {
    "duration": -793,
    "start_time": "2021-08-04T13:55:15.359Z"
   },
   {
    "duration": -796,
    "start_time": "2021-08-04T13:55:15.363Z"
   },
   {
    "duration": -797,
    "start_time": "2021-08-04T13:55:15.364Z"
   },
   {
    "duration": 9,
    "start_time": "2021-08-04T13:55:42.873Z"
   },
   {
    "duration": 17,
    "start_time": "2021-08-04T13:56:38.889Z"
   },
   {
    "duration": 7,
    "start_time": "2021-08-04T13:57:06.089Z"
   },
   {
    "duration": 248,
    "start_time": "2021-08-04T13:59:36.824Z"
   },
   {
    "duration": 530,
    "start_time": "2021-08-04T13:59:44.792Z"
   },
   {
    "duration": 60,
    "start_time": "2021-08-04T13:59:45.324Z"
   },
   {
    "duration": 16,
    "start_time": "2021-08-04T13:59:45.389Z"
   },
   {
    "duration": 14,
    "start_time": "2021-08-04T13:59:45.407Z"
   },
   {
    "duration": 21,
    "start_time": "2021-08-04T13:59:45.423Z"
   },
   {
    "duration": 11,
    "start_time": "2021-08-04T13:59:45.446Z"
   },
   {
    "duration": 14,
    "start_time": "2021-08-04T13:59:45.460Z"
   },
   {
    "duration": 23,
    "start_time": "2021-08-04T13:59:45.476Z"
   },
   {
    "duration": 43,
    "start_time": "2021-08-04T13:59:45.500Z"
   },
   {
    "duration": 668,
    "start_time": "2021-08-04T13:59:45.544Z"
   },
   {
    "duration": 30,
    "start_time": "2021-08-04T13:59:46.214Z"
   },
   {
    "duration": 12,
    "start_time": "2021-08-04T13:59:46.246Z"
   },
   {
    "duration": 22,
    "start_time": "2021-08-04T13:59:46.260Z"
   },
   {
    "duration": 17,
    "start_time": "2021-08-04T13:59:46.284Z"
   },
   {
    "duration": 344,
    "start_time": "2021-08-04T13:59:46.303Z"
   },
   {
    "duration": -790,
    "start_time": "2021-08-04T13:59:47.439Z"
   },
   {
    "duration": -797,
    "start_time": "2021-08-04T13:59:47.447Z"
   },
   {
    "duration": -798,
    "start_time": "2021-08-04T13:59:47.449Z"
   },
   {
    "duration": 242,
    "start_time": "2021-08-04T14:00:31.307Z"
   },
   {
    "duration": 5,
    "start_time": "2021-08-04T14:02:23.427Z"
   },
   {
    "duration": 5,
    "start_time": "2021-08-04T14:02:33.442Z"
   },
   {
    "duration": 583,
    "start_time": "2021-08-04T14:02:55.606Z"
   },
   {
    "duration": 54,
    "start_time": "2021-08-04T14:02:56.192Z"
   },
   {
    "duration": 9,
    "start_time": "2021-08-04T14:02:56.248Z"
   },
   {
    "duration": 8,
    "start_time": "2021-08-04T14:02:56.258Z"
   },
   {
    "duration": 5,
    "start_time": "2021-08-04T14:02:56.268Z"
   },
   {
    "duration": 7,
    "start_time": "2021-08-04T14:02:56.274Z"
   },
   {
    "duration": 10,
    "start_time": "2021-08-04T14:02:56.282Z"
   },
   {
    "duration": 48,
    "start_time": "2021-08-04T14:02:56.294Z"
   },
   {
    "duration": 18,
    "start_time": "2021-08-04T14:02:56.343Z"
   },
   {
    "duration": 640,
    "start_time": "2021-08-04T14:02:56.362Z"
   },
   {
    "duration": 24,
    "start_time": "2021-08-04T14:02:57.003Z"
   },
   {
    "duration": 19,
    "start_time": "2021-08-04T14:02:57.029Z"
   },
   {
    "duration": 8,
    "start_time": "2021-08-04T14:02:57.050Z"
   },
   {
    "duration": 11,
    "start_time": "2021-08-04T14:02:57.059Z"
   },
   {
    "duration": 4,
    "start_time": "2021-08-04T14:02:57.071Z"
   },
   {
    "duration": 12,
    "start_time": "2021-08-04T14:02:57.076Z"
   },
   {
    "duration": 5,
    "start_time": "2021-08-04T14:02:57.090Z"
   },
   {
    "duration": 46,
    "start_time": "2021-08-04T14:02:57.097Z"
   },
   {
    "duration": 4721,
    "start_time": "2021-08-04T14:03:34.825Z"
   },
   {
    "duration": 4983,
    "start_time": "2021-08-04T14:03:44.699Z"
   },
   {
    "duration": 16,
    "start_time": "2021-08-04T14:04:00.922Z"
   },
   {
    "duration": 553,
    "start_time": "2021-08-04T14:04:17.854Z"
   },
   {
    "duration": 55,
    "start_time": "2021-08-04T14:04:18.409Z"
   },
   {
    "duration": 9,
    "start_time": "2021-08-04T14:04:18.466Z"
   },
   {
    "duration": 8,
    "start_time": "2021-08-04T14:04:18.477Z"
   },
   {
    "duration": 4,
    "start_time": "2021-08-04T14:04:18.487Z"
   },
   {
    "duration": 6,
    "start_time": "2021-08-04T14:04:18.493Z"
   },
   {
    "duration": 11,
    "start_time": "2021-08-04T14:04:18.500Z"
   },
   {
    "duration": 37,
    "start_time": "2021-08-04T14:04:18.514Z"
   },
   {
    "duration": 17,
    "start_time": "2021-08-04T14:04:18.553Z"
   },
   {
    "duration": 708,
    "start_time": "2021-08-04T14:04:18.572Z"
   },
   {
    "duration": 24,
    "start_time": "2021-08-04T14:04:19.281Z"
   },
   {
    "duration": 10,
    "start_time": "2021-08-04T14:04:19.307Z"
   },
   {
    "duration": 26,
    "start_time": "2021-08-04T14:04:19.318Z"
   },
   {
    "duration": 10,
    "start_time": "2021-08-04T14:04:19.345Z"
   },
   {
    "duration": 22,
    "start_time": "2021-08-04T14:04:19.357Z"
   },
   {
    "duration": 15,
    "start_time": "2021-08-04T14:04:19.381Z"
   },
   {
    "duration": 16,
    "start_time": "2021-08-04T14:04:19.398Z"
   },
   {
    "duration": 20,
    "start_time": "2021-08-04T14:04:19.416Z"
   },
   {
    "duration": 332,
    "start_time": "2021-08-04T14:04:58.091Z"
   },
   {
    "duration": 6,
    "start_time": "2021-08-04T14:05:04.458Z"
   },
   {
    "duration": 4,
    "start_time": "2021-08-04T14:05:15.322Z"
   },
   {
    "duration": 7,
    "start_time": "2021-08-04T14:05:31.369Z"
   },
   {
    "duration": 8,
    "start_time": "2021-08-04T14:05:41.265Z"
   },
   {
    "duration": 19,
    "start_time": "2021-08-04T14:06:00.099Z"
   },
   {
    "duration": 6659,
    "start_time": "2021-08-04T14:06:10.802Z"
   },
   {
    "duration": 8,
    "start_time": "2021-08-04T14:06:18.386Z"
   },
   {
    "duration": 579,
    "start_time": "2021-08-04T14:07:06.027Z"
   },
   {
    "duration": 55,
    "start_time": "2021-08-04T14:07:06.610Z"
   },
   {
    "duration": 9,
    "start_time": "2021-08-04T14:07:06.666Z"
   },
   {
    "duration": 11,
    "start_time": "2021-08-04T14:07:06.676Z"
   },
   {
    "duration": 5,
    "start_time": "2021-08-04T14:07:06.688Z"
   },
   {
    "duration": 9,
    "start_time": "2021-08-04T14:07:06.694Z"
   },
   {
    "duration": 35,
    "start_time": "2021-08-04T14:07:06.706Z"
   },
   {
    "duration": 17,
    "start_time": "2021-08-04T14:07:06.743Z"
   },
   {
    "duration": 17,
    "start_time": "2021-08-04T14:07:06.762Z"
   },
   {
    "duration": 642,
    "start_time": "2021-08-04T14:07:06.781Z"
   },
   {
    "duration": 33,
    "start_time": "2021-08-04T14:07:07.425Z"
   },
   {
    "duration": 12,
    "start_time": "2021-08-04T14:07:07.459Z"
   },
   {
    "duration": 11,
    "start_time": "2021-08-04T14:07:07.473Z"
   },
   {
    "duration": 15,
    "start_time": "2021-08-04T14:07:07.485Z"
   },
   {
    "duration": 6,
    "start_time": "2021-08-04T14:07:07.502Z"
   },
   {
    "duration": 8,
    "start_time": "2021-08-04T14:07:07.510Z"
   },
   {
    "duration": 6,
    "start_time": "2021-08-04T14:07:07.541Z"
   },
   {
    "duration": 20,
    "start_time": "2021-08-04T14:07:07.548Z"
   },
   {
    "duration": 8,
    "start_time": "2021-08-04T14:07:49.773Z"
   },
   {
    "duration": 5,
    "start_time": "2021-08-04T14:14:47.958Z"
   },
   {
    "duration": 6,
    "start_time": "2021-08-04T14:26:51.515Z"
   },
   {
    "duration": 894,
    "start_time": "2021-08-04T19:04:43.223Z"
   },
   {
    "duration": 101,
    "start_time": "2021-08-04T19:04:44.120Z"
   },
   {
    "duration": 17,
    "start_time": "2021-08-04T19:04:44.229Z"
   },
   {
    "duration": 37,
    "start_time": "2021-08-04T19:04:44.249Z"
   },
   {
    "duration": 7,
    "start_time": "2021-08-04T19:04:44.288Z"
   },
   {
    "duration": 11,
    "start_time": "2021-08-04T19:04:44.298Z"
   },
   {
    "duration": 70,
    "start_time": "2021-08-04T19:04:44.314Z"
   },
   {
    "duration": 29,
    "start_time": "2021-08-04T19:04:44.387Z"
   },
   {
    "duration": 68,
    "start_time": "2021-08-04T19:04:44.419Z"
   },
   {
    "duration": 93,
    "start_time": "2021-08-04T19:04:44.489Z"
   },
   {
    "duration": -1101,
    "start_time": "2021-08-04T19:04:45.685Z"
   },
   {
    "duration": -1103,
    "start_time": "2021-08-04T19:04:45.689Z"
   },
   {
    "duration": -1103,
    "start_time": "2021-08-04T19:04:45.691Z"
   },
   {
    "duration": -1107,
    "start_time": "2021-08-04T19:04:45.697Z"
   },
   {
    "duration": -1109,
    "start_time": "2021-08-04T19:04:45.701Z"
   },
   {
    "duration": -1110,
    "start_time": "2021-08-04T19:04:45.704Z"
   },
   {
    "duration": -1111,
    "start_time": "2021-08-04T19:04:45.706Z"
   },
   {
    "duration": -1111,
    "start_time": "2021-08-04T19:04:45.708Z"
   },
   {
    "duration": -1112,
    "start_time": "2021-08-04T19:04:45.711Z"
   },
   {
    "duration": 697,
    "start_time": "2021-08-04T19:05:00.139Z"
   },
   {
    "duration": 73,
    "start_time": "2021-08-04T19:05:00.839Z"
   },
   {
    "duration": 14,
    "start_time": "2021-08-04T19:05:00.915Z"
   },
   {
    "duration": 24,
    "start_time": "2021-08-04T19:05:00.932Z"
   },
   {
    "duration": 26,
    "start_time": "2021-08-04T19:05:00.958Z"
   },
   {
    "duration": 20,
    "start_time": "2021-08-04T19:05:00.987Z"
   },
   {
    "duration": 32,
    "start_time": "2021-08-04T19:05:01.009Z"
   },
   {
    "duration": 58,
    "start_time": "2021-08-04T19:05:01.044Z"
   },
   {
    "duration": 43,
    "start_time": "2021-08-04T19:05:01.105Z"
   },
   {
    "duration": 34,
    "start_time": "2021-08-04T19:05:01.150Z"
   },
   {
    "duration": 17,
    "start_time": "2021-08-04T19:05:01.187Z"
   },
   {
    "duration": 85,
    "start_time": "2021-08-04T19:05:01.207Z"
   },
   {
    "duration": -1090,
    "start_time": "2021-08-04T19:05:02.385Z"
   },
   {
    "duration": -1090,
    "start_time": "2021-08-04T19:05:02.386Z"
   },
   {
    "duration": -1090,
    "start_time": "2021-08-04T19:05:02.388Z"
   },
   {
    "duration": -1098,
    "start_time": "2021-08-04T19:05:02.397Z"
   },
   {
    "duration": -1098,
    "start_time": "2021-08-04T19:05:02.399Z"
   },
   {
    "duration": -1100,
    "start_time": "2021-08-04T19:05:02.402Z"
   },
   {
    "duration": 770,
    "start_time": "2021-08-04T19:05:59.242Z"
   },
   {
    "duration": 95,
    "start_time": "2021-08-04T19:06:00.015Z"
   },
   {
    "duration": 14,
    "start_time": "2021-08-04T19:06:00.113Z"
   },
   {
    "duration": 19,
    "start_time": "2021-08-04T19:06:00.130Z"
   },
   {
    "duration": 33,
    "start_time": "2021-08-04T19:06:00.152Z"
   },
   {
    "duration": 16,
    "start_time": "2021-08-04T19:06:00.188Z"
   },
   {
    "duration": 56,
    "start_time": "2021-08-04T19:06:00.206Z"
   },
   {
    "duration": 22,
    "start_time": "2021-08-04T19:06:00.265Z"
   },
   {
    "duration": 19,
    "start_time": "2021-08-04T19:06:00.292Z"
   },
   {
    "duration": 217,
    "start_time": "2021-08-04T19:06:00.314Z"
   },
   {
    "duration": -1092,
    "start_time": "2021-08-04T19:06:01.626Z"
   },
   {
    "duration": -1092,
    "start_time": "2021-08-04T19:06:01.627Z"
   },
   {
    "duration": -1091,
    "start_time": "2021-08-04T19:06:01.628Z"
   },
   {
    "duration": -1090,
    "start_time": "2021-08-04T19:06:01.629Z"
   },
   {
    "duration": -1089,
    "start_time": "2021-08-04T19:06:01.630Z"
   },
   {
    "duration": -1097,
    "start_time": "2021-08-04T19:06:01.640Z"
   },
   {
    "duration": -1099,
    "start_time": "2021-08-04T19:06:01.643Z"
   },
   {
    "duration": -1099,
    "start_time": "2021-08-04T19:06:01.645Z"
   },
   {
    "duration": 713,
    "start_time": "2021-08-04T19:06:19.811Z"
   },
   {
    "duration": 78,
    "start_time": "2021-08-04T19:06:20.526Z"
   },
   {
    "duration": 13,
    "start_time": "2021-08-04T19:06:20.608Z"
   },
   {
    "duration": 13,
    "start_time": "2021-08-04T19:06:20.624Z"
   },
   {
    "duration": 6,
    "start_time": "2021-08-04T19:06:20.639Z"
   },
   {
    "duration": 44,
    "start_time": "2021-08-04T19:06:20.647Z"
   },
   {
    "duration": 29,
    "start_time": "2021-08-04T19:06:20.693Z"
   },
   {
    "duration": 15,
    "start_time": "2021-08-04T19:06:20.726Z"
   },
   {
    "duration": 43,
    "start_time": "2021-08-04T19:06:20.744Z"
   },
   {
    "duration": 14,
    "start_time": "2021-08-04T19:06:20.789Z"
   },
   {
    "duration": 12,
    "start_time": "2021-08-04T19:06:20.805Z"
   },
   {
    "duration": 111,
    "start_time": "2021-08-04T19:06:20.820Z"
   },
   {
    "duration": -1087,
    "start_time": "2021-08-04T19:06:22.020Z"
   },
   {
    "duration": -1086,
    "start_time": "2021-08-04T19:06:22.021Z"
   },
   {
    "duration": -1091,
    "start_time": "2021-08-04T19:06:22.027Z"
   },
   {
    "duration": -1091,
    "start_time": "2021-08-04T19:06:22.029Z"
   },
   {
    "duration": -1092,
    "start_time": "2021-08-04T19:06:22.031Z"
   },
   {
    "duration": 709,
    "start_time": "2021-08-04T19:06:32.688Z"
   },
   {
    "duration": 74,
    "start_time": "2021-08-04T19:06:33.400Z"
   },
   {
    "duration": 15,
    "start_time": "2021-08-04T19:06:33.484Z"
   },
   {
    "duration": 14,
    "start_time": "2021-08-04T19:06:33.503Z"
   },
   {
    "duration": 7,
    "start_time": "2021-08-04T19:06:33.520Z"
   },
   {
    "duration": 52,
    "start_time": "2021-08-04T19:06:33.530Z"
   },
   {
    "duration": 29,
    "start_time": "2021-08-04T19:06:33.584Z"
   },
   {
    "duration": 16,
    "start_time": "2021-08-04T19:06:33.616Z"
   },
   {
    "duration": 7,
    "start_time": "2021-08-04T19:06:33.635Z"
   },
   {
    "duration": 46,
    "start_time": "2021-08-04T19:06:33.645Z"
   },
   {
    "duration": 26,
    "start_time": "2021-08-04T19:06:33.694Z"
   },
   {
    "duration": 10,
    "start_time": "2021-08-04T19:06:33.722Z"
   },
   {
    "duration": 49,
    "start_time": "2021-08-04T19:06:33.734Z"
   },
   {
    "duration": 42,
    "start_time": "2021-08-04T19:06:33.785Z"
   },
   {
    "duration": 22,
    "start_time": "2021-08-04T19:06:33.829Z"
   },
   {
    "duration": 885,
    "start_time": "2021-08-04T19:06:33.854Z"
   },
   {
    "duration": 45,
    "start_time": "2021-08-04T19:09:59.300Z"
   },
   {
    "duration": 44,
    "start_time": "2021-08-04T19:11:45.924Z"
   },
   {
    "duration": 675,
    "start_time": "2021-08-04T19:12:21.541Z"
   },
   {
    "duration": 38,
    "start_time": "2021-08-04T19:12:57.156Z"
   },
   {
    "duration": 58,
    "start_time": "2021-08-04T19:13:21.812Z"
   },
   {
    "duration": 12,
    "start_time": "2021-08-04T19:17:06.587Z"
   },
   {
    "duration": 32,
    "start_time": "2021-08-04T19:17:23.738Z"
   },
   {
    "duration": 144,
    "start_time": "2021-08-04T19:19:38.890Z"
   },
   {
    "duration": 13,
    "start_time": "2021-08-04T19:19:48.674Z"
   },
   {
    "duration": 5745,
    "start_time": "2021-08-04T19:24:56.689Z"
   },
   {
    "duration": 22,
    "start_time": "2021-08-04T19:25:29.425Z"
   },
   {
    "duration": 24,
    "start_time": "2021-08-04T19:27:03.360Z"
   },
   {
    "duration": 43,
    "start_time": "2021-08-04T19:36:02.690Z"
   },
   {
    "duration": 14,
    "start_time": "2021-08-04T19:36:48.053Z"
   },
   {
    "duration": 308,
    "start_time": "2021-08-04T19:37:10.798Z"
   },
   {
    "duration": 289,
    "start_time": "2021-08-04T19:37:26.157Z"
   },
   {
    "duration": 2040,
    "start_time": "2021-08-04T19:37:44.053Z"
   },
   {
    "duration": 11,
    "start_time": "2021-08-04T19:38:13.397Z"
   },
   {
    "duration": 688,
    "start_time": "2021-08-04T19:38:26.503Z"
   },
   {
    "duration": 69,
    "start_time": "2021-08-04T19:38:27.194Z"
   },
   {
    "duration": 17,
    "start_time": "2021-08-04T19:38:27.266Z"
   },
   {
    "duration": 12,
    "start_time": "2021-08-04T19:38:27.287Z"
   },
   {
    "duration": 6,
    "start_time": "2021-08-04T19:38:27.302Z"
   },
   {
    "duration": 10,
    "start_time": "2021-08-04T19:38:27.310Z"
   },
   {
    "duration": 70,
    "start_time": "2021-08-04T19:38:27.322Z"
   },
   {
    "duration": 16,
    "start_time": "2021-08-04T19:38:27.395Z"
   },
   {
    "duration": 14,
    "start_time": "2021-08-04T19:38:27.413Z"
   },
   {
    "duration": 17,
    "start_time": "2021-08-04T19:38:27.429Z"
   },
   {
    "duration": 40,
    "start_time": "2021-08-04T19:38:27.448Z"
   },
   {
    "duration": 18,
    "start_time": "2021-08-04T19:38:27.491Z"
   },
   {
    "duration": 8,
    "start_time": "2021-08-04T19:38:27.512Z"
   },
   {
    "duration": 932,
    "start_time": "2021-08-04T19:38:27.522Z"
   },
   {
    "duration": 32,
    "start_time": "2021-08-04T19:38:39.364Z"
   },
   {
    "duration": 13,
    "start_time": "2021-08-04T19:38:52.926Z"
   },
   {
    "duration": 11,
    "start_time": "2021-08-04T19:39:28.003Z"
   },
   {
    "duration": 10,
    "start_time": "2021-08-04T19:39:41.619Z"
   },
   {
    "duration": 10,
    "start_time": "2021-08-04T19:39:59.698Z"
   },
   {
    "duration": 10,
    "start_time": "2021-08-04T19:57:19.914Z"
   },
   {
    "duration": 345,
    "start_time": "2021-08-04T19:59:59.398Z"
   },
   {
    "duration": 242,
    "start_time": "2021-08-04T20:00:14.806Z"
   },
   {
    "duration": 246,
    "start_time": "2021-08-04T20:03:22.854Z"
   },
   {
    "duration": 3,
    "start_time": "2021-08-04T20:03:47.141Z"
   },
   {
    "duration": 12,
    "start_time": "2021-08-04T20:03:53.157Z"
   },
   {
    "duration": 698,
    "start_time": "2021-08-04T20:04:05.804Z"
   },
   {
    "duration": 72,
    "start_time": "2021-08-04T20:04:06.504Z"
   },
   {
    "duration": 14,
    "start_time": "2021-08-04T20:04:06.582Z"
   },
   {
    "duration": 12,
    "start_time": "2021-08-04T20:04:06.599Z"
   },
   {
    "duration": 5,
    "start_time": "2021-08-04T20:04:06.614Z"
   },
   {
    "duration": 14,
    "start_time": "2021-08-04T20:04:06.622Z"
   },
   {
    "duration": 69,
    "start_time": "2021-08-04T20:04:06.639Z"
   },
   {
    "duration": 15,
    "start_time": "2021-08-04T20:04:06.712Z"
   },
   {
    "duration": 17,
    "start_time": "2021-08-04T20:04:06.730Z"
   },
   {
    "duration": 38,
    "start_time": "2021-08-04T20:04:06.749Z"
   },
   {
    "duration": 11,
    "start_time": "2021-08-04T20:04:06.790Z"
   },
   {
    "duration": 8,
    "start_time": "2021-08-04T20:04:06.803Z"
   },
   {
    "duration": 11,
    "start_time": "2021-08-04T20:04:06.814Z"
   },
   {
    "duration": 12,
    "start_time": "2021-08-04T20:04:06.827Z"
   },
   {
    "duration": 906,
    "start_time": "2021-08-04T20:04:06.842Z"
   },
   {
    "duration": 3636,
    "start_time": "2021-08-04T20:05:39.222Z"
   },
   {
    "duration": 3866,
    "start_time": "2021-08-04T20:06:24.268Z"
   },
   {
    "duration": 3318,
    "start_time": "2021-08-04T20:07:01.867Z"
   },
   {
    "duration": 762,
    "start_time": "2021-08-04T20:07:25.204Z"
   },
   {
    "duration": 71,
    "start_time": "2021-08-04T20:07:25.969Z"
   },
   {
    "duration": 14,
    "start_time": "2021-08-04T20:07:26.043Z"
   },
   {
    "duration": 29,
    "start_time": "2021-08-04T20:07:26.059Z"
   },
   {
    "duration": 7,
    "start_time": "2021-08-04T20:07:26.091Z"
   },
   {
    "duration": 10,
    "start_time": "2021-08-04T20:07:26.100Z"
   },
   {
    "duration": 31,
    "start_time": "2021-08-04T20:07:26.113Z"
   },
   {
    "duration": 15,
    "start_time": "2021-08-04T20:07:26.183Z"
   },
   {
    "duration": 14,
    "start_time": "2021-08-04T20:07:26.201Z"
   },
   {
    "duration": 9,
    "start_time": "2021-08-04T20:07:26.218Z"
   },
   {
    "duration": 12,
    "start_time": "2021-08-04T20:07:26.229Z"
   },
   {
    "duration": 46,
    "start_time": "2021-08-04T20:07:26.243Z"
   },
   {
    "duration": 11,
    "start_time": "2021-08-04T20:07:26.292Z"
   },
   {
    "duration": 3306,
    "start_time": "2021-08-04T20:07:26.306Z"
   },
   {
    "duration": -44,
    "start_time": "2021-08-04T20:07:29.658Z"
   },
   {
    "duration": 3535,
    "start_time": "2021-08-04T20:07:52.759Z"
   },
   {
    "duration": 689,
    "start_time": "2021-08-04T20:08:02.893Z"
   },
   {
    "duration": 68,
    "start_time": "2021-08-04T20:08:03.585Z"
   },
   {
    "duration": 14,
    "start_time": "2021-08-04T20:08:03.656Z"
   },
   {
    "duration": 12,
    "start_time": "2021-08-04T20:08:03.682Z"
   },
   {
    "duration": 6,
    "start_time": "2021-08-04T20:08:03.696Z"
   },
   {
    "duration": 9,
    "start_time": "2021-08-04T20:08:03.704Z"
   },
   {
    "duration": 31,
    "start_time": "2021-08-04T20:08:03.715Z"
   },
   {
    "duration": 13,
    "start_time": "2021-08-04T20:08:03.783Z"
   },
   {
    "duration": 15,
    "start_time": "2021-08-04T20:08:03.798Z"
   },
   {
    "duration": 17,
    "start_time": "2021-08-04T20:08:03.816Z"
   },
   {
    "duration": 12,
    "start_time": "2021-08-04T20:08:03.837Z"
   },
   {
    "duration": 37,
    "start_time": "2021-08-04T20:08:03.851Z"
   },
   {
    "duration": 35,
    "start_time": "2021-08-04T20:08:03.890Z"
   },
   {
    "duration": 9,
    "start_time": "2021-08-04T20:08:03.927Z"
   },
   {
    "duration": 951,
    "start_time": "2021-08-04T20:08:03.939Z"
   },
   {
    "duration": 15,
    "start_time": "2021-08-04T20:08:53.246Z"
   },
   {
    "duration": 725,
    "start_time": "2021-08-04T20:09:10.814Z"
   },
   {
    "duration": 73,
    "start_time": "2021-08-04T20:09:11.542Z"
   },
   {
    "duration": 14,
    "start_time": "2021-08-04T20:09:11.617Z"
   },
   {
    "duration": 12,
    "start_time": "2021-08-04T20:09:11.634Z"
   },
   {
    "duration": 6,
    "start_time": "2021-08-04T20:09:11.648Z"
   },
   {
    "duration": 8,
    "start_time": "2021-08-04T20:09:11.683Z"
   },
   {
    "duration": 35,
    "start_time": "2021-08-04T20:09:11.694Z"
   },
   {
    "duration": 16,
    "start_time": "2021-08-04T20:09:11.732Z"
   },
   {
    "duration": 42,
    "start_time": "2021-08-04T20:09:11.751Z"
   },
   {
    "duration": 13,
    "start_time": "2021-08-04T20:09:11.795Z"
   },
   {
    "duration": 13,
    "start_time": "2021-08-04T20:09:11.810Z"
   },
   {
    "duration": 8,
    "start_time": "2021-08-04T20:09:11.825Z"
   },
   {
    "duration": 49,
    "start_time": "2021-08-04T20:09:11.836Z"
   },
   {
    "duration": 23,
    "start_time": "2021-08-04T20:09:11.887Z"
   },
   {
    "duration": 897,
    "start_time": "2021-08-04T20:09:11.912Z"
   },
   {
    "duration": 15,
    "start_time": "2021-08-04T20:30:02.030Z"
   },
   {
    "duration": 6752,
    "start_time": "2021-08-04T20:31:37.411Z"
   },
   {
    "duration": 12,
    "start_time": "2021-08-04T20:32:18.194Z"
   },
   {
    "duration": 285,
    "start_time": "2021-08-04T20:32:36.754Z"
   },
   {
    "duration": 315,
    "start_time": "2021-08-04T20:33:35.944Z"
   },
   {
    "duration": 195,
    "start_time": "2021-08-04T20:33:55.704Z"
   },
   {
    "duration": 195,
    "start_time": "2021-08-04T20:34:06.967Z"
   },
   {
    "duration": 235,
    "start_time": "2021-08-04T20:35:49.072Z"
   },
   {
    "duration": 7,
    "start_time": "2021-08-04T20:35:55.647Z"
   },
   {
    "duration": 6,
    "start_time": "2021-08-04T20:37:07.575Z"
   },
   {
    "duration": 39,
    "start_time": "2021-08-04T20:37:20.115Z"
   },
   {
    "duration": 22,
    "start_time": "2021-08-04T20:38:26.226Z"
   },
   {
    "duration": 9,
    "start_time": "2021-08-04T22:18:24.741Z"
   },
   {
    "duration": 671,
    "start_time": "2021-08-04T22:19:39.879Z"
   },
   {
    "duration": 6,
    "start_time": "2021-08-04T22:23:07.566Z"
   },
   {
    "duration": 9,
    "start_time": "2021-08-04T22:23:29.184Z"
   },
   {
    "duration": 13,
    "start_time": "2021-08-04T22:25:10.441Z"
   },
   {
    "duration": 1028,
    "start_time": "2021-08-04T22:28:09.788Z"
   },
   {
    "duration": 249,
    "start_time": "2021-08-04T22:28:43.748Z"
   },
   {
    "duration": 252,
    "start_time": "2021-08-04T22:29:31.055Z"
   },
   {
    "duration": 4,
    "start_time": "2021-08-04T22:30:26.739Z"
   },
   {
    "duration": 525,
    "start_time": "2021-08-04T22:30:33.404Z"
   },
   {
    "duration": 1015,
    "start_time": "2021-08-04T22:30:47.672Z"
   },
   {
    "duration": 65,
    "start_time": "2021-08-04T22:30:48.690Z"
   },
   {
    "duration": 27,
    "start_time": "2021-08-04T22:30:48.761Z"
   },
   {
    "duration": 13,
    "start_time": "2021-08-04T22:30:48.790Z"
   },
   {
    "duration": 6,
    "start_time": "2021-08-04T22:30:48.806Z"
   },
   {
    "duration": 12,
    "start_time": "2021-08-04T22:30:48.815Z"
   },
   {
    "duration": 63,
    "start_time": "2021-08-04T22:30:48.831Z"
   },
   {
    "duration": 15,
    "start_time": "2021-08-04T22:30:48.897Z"
   },
   {
    "duration": 24,
    "start_time": "2021-08-04T22:30:48.914Z"
   },
   {
    "duration": 20,
    "start_time": "2021-08-04T22:30:48.940Z"
   },
   {
    "duration": 27,
    "start_time": "2021-08-04T22:30:48.962Z"
   },
   {
    "duration": 8,
    "start_time": "2021-08-04T22:30:48.992Z"
   },
   {
    "duration": 11,
    "start_time": "2021-08-04T22:30:49.002Z"
   },
   {
    "duration": 38,
    "start_time": "2021-08-04T22:30:49.015Z"
   },
   {
    "duration": 640,
    "start_time": "2021-08-04T22:30:49.083Z"
   },
   {
    "duration": 14,
    "start_time": "2021-08-04T22:30:49.726Z"
   },
   {
    "duration": 912,
    "start_time": "2021-08-04T22:30:49.743Z"
   },
   {
    "duration": 722,
    "start_time": "2021-08-04T22:31:37.051Z"
   },
   {
    "duration": 573,
    "start_time": "2021-08-04T22:33:43.097Z"
   },
   {
    "duration": 494,
    "start_time": "2021-08-04T22:33:51.954Z"
   },
   {
    "duration": 621,
    "start_time": "2021-08-04T22:34:01.961Z"
   },
   {
    "duration": 628,
    "start_time": "2021-08-04T22:35:15.322Z"
   },
   {
    "duration": 9,
    "start_time": "2021-08-04T22:38:30.700Z"
   },
   {
    "duration": 11,
    "start_time": "2021-08-04T22:39:18.480Z"
   },
   {
    "duration": 10,
    "start_time": "2021-08-04T22:43:37.279Z"
   },
   {
    "duration": 10,
    "start_time": "2021-08-04T22:43:47.097Z"
   },
   {
    "duration": 10,
    "start_time": "2021-08-04T22:44:59.572Z"
   },
   {
    "duration": 98,
    "start_time": "2021-08-04T22:45:24.710Z"
   },
   {
    "duration": 10,
    "start_time": "2021-08-04T22:45:51.713Z"
   },
   {
    "duration": 9,
    "start_time": "2021-08-04T22:46:14.981Z"
   },
   {
    "duration": 37,
    "start_time": "2021-08-04T22:46:28.664Z"
   },
   {
    "duration": 11,
    "start_time": "2021-08-04T22:46:40.197Z"
   },
   {
    "duration": 10,
    "start_time": "2021-08-04T22:48:02.638Z"
   },
   {
    "duration": 12,
    "start_time": "2021-08-04T22:48:50.743Z"
   },
   {
    "duration": 413,
    "start_time": "2021-08-04T22:50:21.952Z"
   },
   {
    "duration": 11,
    "start_time": "2021-08-04T22:54:44.740Z"
   },
   {
    "duration": 420,
    "start_time": "2021-08-04T23:02:45.333Z"
   },
   {
    "duration": 575,
    "start_time": "2021-08-04T23:03:34.369Z"
   },
   {
    "duration": 491,
    "start_time": "2021-08-04T23:04:32.616Z"
   },
   {
    "duration": 409,
    "start_time": "2021-08-04T23:05:41.032Z"
   },
   {
    "duration": 491,
    "start_time": "2021-08-04T23:05:55.568Z"
   },
   {
    "duration": 393,
    "start_time": "2021-08-04T23:06:29.681Z"
   },
   {
    "duration": 342,
    "start_time": "2021-08-04T23:06:50.664Z"
   },
   {
    "duration": 92,
    "start_time": "2021-08-04T23:17:26.590Z"
   },
   {
    "duration": 79,
    "start_time": "2021-08-04T23:17:36.580Z"
   },
   {
    "duration": 364,
    "start_time": "2021-08-04T23:17:57.301Z"
   },
   {
    "duration": 374,
    "start_time": "2021-08-04T23:22:51.476Z"
   },
   {
    "duration": 387,
    "start_time": "2021-08-04T23:25:12.355Z"
   },
   {
    "duration": 372,
    "start_time": "2021-08-04T23:27:24.819Z"
   },
   {
    "duration": 311,
    "start_time": "2021-08-04T23:32:53.454Z"
   },
   {
    "duration": 436,
    "start_time": "2021-08-04T23:34:06.032Z"
   },
   {
    "duration": 835,
    "start_time": "2021-08-04T23:34:20.356Z"
   },
   {
    "duration": 65,
    "start_time": "2021-08-04T23:34:21.193Z"
   },
   {
    "duration": 26,
    "start_time": "2021-08-04T23:34:21.261Z"
   },
   {
    "duration": 12,
    "start_time": "2021-08-04T23:34:21.290Z"
   },
   {
    "duration": 7,
    "start_time": "2021-08-04T23:34:21.305Z"
   },
   {
    "duration": 13,
    "start_time": "2021-08-04T23:34:21.314Z"
   },
   {
    "duration": 71,
    "start_time": "2021-08-04T23:34:21.329Z"
   },
   {
    "duration": 17,
    "start_time": "2021-08-04T23:34:21.405Z"
   },
   {
    "duration": 15,
    "start_time": "2021-08-04T23:34:21.425Z"
   },
   {
    "duration": 45,
    "start_time": "2021-08-04T23:34:21.443Z"
   },
   {
    "duration": 14,
    "start_time": "2021-08-04T23:34:21.491Z"
   },
   {
    "duration": 11,
    "start_time": "2021-08-04T23:34:21.508Z"
   },
   {
    "duration": 11,
    "start_time": "2021-08-04T23:34:21.522Z"
   },
   {
    "duration": 73,
    "start_time": "2021-08-04T23:34:21.536Z"
   },
   {
    "duration": 646,
    "start_time": "2021-08-04T23:34:21.612Z"
   },
   {
    "duration": 27,
    "start_time": "2021-08-04T23:34:22.261Z"
   },
   {
    "duration": 337,
    "start_time": "2021-08-04T23:34:22.290Z"
   },
   {
    "duration": 906,
    "start_time": "2021-08-04T23:34:22.630Z"
   },
   {
    "duration": 407,
    "start_time": "2021-08-04T23:34:57.155Z"
   },
   {
    "duration": 378,
    "start_time": "2021-08-04T23:35:34.051Z"
   },
   {
    "duration": 322,
    "start_time": "2021-08-04T23:36:34.563Z"
   },
   {
    "duration": 298,
    "start_time": "2021-08-04T23:36:37.907Z"
   },
   {
    "duration": 280,
    "start_time": "2021-08-04T23:37:05.438Z"
   },
   {
    "duration": 289,
    "start_time": "2021-08-04T23:37:34.354Z"
   },
   {
    "duration": 468,
    "start_time": "2021-08-04T23:38:14.818Z"
   },
   {
    "duration": 382,
    "start_time": "2021-08-04T23:43:24.961Z"
   },
   {
    "duration": 409,
    "start_time": "2021-08-04T23:44:06.586Z"
   },
   {
    "duration": 510,
    "start_time": "2021-08-04T23:47:59.727Z"
   },
   {
    "duration": 548,
    "start_time": "2021-08-04T23:48:24.848Z"
   },
   {
    "duration": 261,
    "start_time": "2021-08-04T23:48:43.750Z"
   },
   {
    "duration": 5,
    "start_time": "2021-08-04T23:49:12.494Z"
   },
   {
    "duration": 6,
    "start_time": "2021-08-04T23:49:54.166Z"
   },
   {
    "duration": 484,
    "start_time": "2021-08-04T23:51:01.862Z"
   },
   {
    "duration": 476,
    "start_time": "2021-08-04T23:52:33.285Z"
   },
   {
    "duration": 100,
    "start_time": "2021-08-04T23:53:01.761Z"
   },
   {
    "duration": 481,
    "start_time": "2021-08-04T23:53:11.598Z"
   },
   {
    "duration": 487,
    "start_time": "2021-08-04T23:53:41.623Z"
   },
   {
    "duration": 468,
    "start_time": "2021-08-04T23:55:21.222Z"
   },
   {
    "duration": 1338,
    "start_time": "2021-08-05T08:53:12.090Z"
   },
   {
    "duration": 1062,
    "start_time": "2021-08-05T08:53:21.873Z"
   },
   {
    "duration": 68,
    "start_time": "2021-08-05T08:53:22.938Z"
   },
   {
    "duration": 19,
    "start_time": "2021-08-05T08:53:23.010Z"
   },
   {
    "duration": 18,
    "start_time": "2021-08-05T08:53:23.032Z"
   },
   {
    "duration": 37,
    "start_time": "2021-08-05T08:53:23.052Z"
   },
   {
    "duration": 11,
    "start_time": "2021-08-05T08:53:23.091Z"
   },
   {
    "duration": 41,
    "start_time": "2021-08-05T08:53:23.105Z"
   },
   {
    "duration": 45,
    "start_time": "2021-08-05T08:53:23.148Z"
   },
   {
    "duration": 17,
    "start_time": "2021-08-05T08:53:23.197Z"
   },
   {
    "duration": 13,
    "start_time": "2021-08-05T08:53:23.217Z"
   },
   {
    "duration": 55,
    "start_time": "2021-08-05T08:53:23.233Z"
   },
   {
    "duration": 8,
    "start_time": "2021-08-05T08:53:23.290Z"
   },
   {
    "duration": 11,
    "start_time": "2021-08-05T08:53:23.301Z"
   },
   {
    "duration": 31,
    "start_time": "2021-08-05T08:53:23.314Z"
   },
   {
    "duration": 652,
    "start_time": "2021-08-05T08:53:23.348Z"
   },
   {
    "duration": 12,
    "start_time": "2021-08-05T08:53:24.002Z"
   },
   {
    "duration": 13,
    "start_time": "2021-08-05T08:53:24.016Z"
   },
   {
    "duration": 497,
    "start_time": "2021-08-05T08:53:24.031Z"
   },
   {
    "duration": 885,
    "start_time": "2021-08-05T08:53:24.530Z"
   },
   {
    "duration": 475,
    "start_time": "2021-08-05T08:53:48.339Z"
   },
   {
    "duration": 10,
    "start_time": "2021-08-05T08:57:55.670Z"
   },
   {
    "duration": 5,
    "start_time": "2021-08-05T08:57:56.708Z"
   },
   {
    "duration": 672,
    "start_time": "2021-08-05T08:57:59.580Z"
   },
   {
    "duration": 563,
    "start_time": "2021-08-05T08:58:35.412Z"
   },
   {
    "duration": 605,
    "start_time": "2021-08-05T08:58:57.803Z"
   },
   {
    "duration": 703,
    "start_time": "2021-08-05T08:59:11.323Z"
   },
   {
    "duration": 592,
    "start_time": "2021-08-05T09:01:36.409Z"
   },
   {
    "duration": 924,
    "start_time": "2021-08-05T09:01:58.337Z"
   },
   {
    "duration": 701,
    "start_time": "2021-08-05T09:02:14.981Z"
   },
   {
    "duration": 12,
    "start_time": "2021-08-05T09:05:29.811Z"
   },
   {
    "duration": 6,
    "start_time": "2021-08-05T09:05:32.090Z"
   },
   {
    "duration": 805,
    "start_time": "2021-08-05T09:05:37.120Z"
   },
   {
    "duration": 12,
    "start_time": "2021-08-05T09:06:29.809Z"
   },
   {
    "duration": 5,
    "start_time": "2021-08-05T09:06:30.650Z"
   },
   {
    "duration": 737,
    "start_time": "2021-08-05T09:06:31.418Z"
   },
   {
    "duration": 648,
    "start_time": "2021-08-05T12:33:41.131Z"
   },
   {
    "duration": 50,
    "start_time": "2021-08-05T12:33:41.780Z"
   },
   {
    "duration": 9,
    "start_time": "2021-08-05T12:33:41.832Z"
   },
   {
    "duration": 8,
    "start_time": "2021-08-05T12:33:41.843Z"
   },
   {
    "duration": 4,
    "start_time": "2021-08-05T12:33:41.852Z"
   },
   {
    "duration": 9,
    "start_time": "2021-08-05T12:33:41.857Z"
   },
   {
    "duration": 40,
    "start_time": "2021-08-05T12:33:41.868Z"
   },
   {
    "duration": 11,
    "start_time": "2021-08-05T12:33:41.910Z"
   },
   {
    "duration": 9,
    "start_time": "2021-08-05T12:33:41.923Z"
   },
   {
    "duration": 8,
    "start_time": "2021-08-05T12:33:41.933Z"
   },
   {
    "duration": 10,
    "start_time": "2021-08-05T12:33:41.942Z"
   },
   {
    "duration": 39,
    "start_time": "2021-08-05T12:33:41.953Z"
   },
   {
    "duration": 8,
    "start_time": "2021-08-05T12:33:41.994Z"
   },
   {
    "duration": 17,
    "start_time": "2021-08-05T12:33:42.003Z"
   },
   {
    "duration": 373,
    "start_time": "2021-08-05T12:33:42.022Z"
   },
   {
    "duration": 9,
    "start_time": "2021-08-05T12:33:42.397Z"
   },
   {
    "duration": 4,
    "start_time": "2021-08-05T12:33:42.407Z"
   },
   {
    "duration": 454,
    "start_time": "2021-08-05T12:33:42.413Z"
   },
   {
    "duration": 618,
    "start_time": "2021-08-05T12:33:42.868Z"
   },
   {
    "duration": 584,
    "start_time": "2021-08-05T14:48:59.144Z"
   },
   {
    "duration": 48,
    "start_time": "2021-08-05T14:48:59.729Z"
   },
   {
    "duration": 12,
    "start_time": "2021-08-05T14:48:59.779Z"
   },
   {
    "duration": 8,
    "start_time": "2021-08-05T14:48:59.793Z"
   },
   {
    "duration": 15,
    "start_time": "2021-08-05T14:48:59.802Z"
   },
   {
    "duration": 13,
    "start_time": "2021-08-05T14:48:59.818Z"
   },
   {
    "duration": 21,
    "start_time": "2021-08-05T14:48:59.832Z"
   },
   {
    "duration": 9,
    "start_time": "2021-08-05T14:48:59.855Z"
   },
   {
    "duration": 10,
    "start_time": "2021-08-05T14:48:59.866Z"
   },
   {
    "duration": 18,
    "start_time": "2021-08-05T14:48:59.877Z"
   },
   {
    "duration": 17,
    "start_time": "2021-08-05T14:48:59.897Z"
   },
   {
    "duration": 8,
    "start_time": "2021-08-05T14:48:59.916Z"
   },
   {
    "duration": 11,
    "start_time": "2021-08-05T14:48:59.926Z"
   },
   {
    "duration": 23,
    "start_time": "2021-08-05T14:48:59.938Z"
   },
   {
    "duration": 361,
    "start_time": "2021-08-05T14:48:59.962Z"
   },
   {
    "duration": 8,
    "start_time": "2021-08-05T14:49:00.325Z"
   },
   {
    "duration": 12,
    "start_time": "2021-08-05T14:49:00.335Z"
   },
   {
    "duration": 497,
    "start_time": "2021-08-05T14:49:00.349Z"
   },
   {
    "duration": 668,
    "start_time": "2021-08-05T14:49:00.848Z"
   },
   {
    "duration": 9,
    "start_time": "2021-08-05T14:55:18.666Z"
   },
   {
    "duration": 8,
    "start_time": "2021-08-05T15:03:28.600Z"
   },
   {
    "duration": 432,
    "start_time": "2021-08-05T15:14:24.029Z"
   },
   {
    "duration": 471,
    "start_time": "2021-08-05T15:14:35.805Z"
   },
   {
    "duration": 7,
    "start_time": "2021-08-05T15:16:01.125Z"
   },
   {
    "duration": 8,
    "start_time": "2021-08-05T15:16:07.111Z"
   },
   {
    "duration": 606,
    "start_time": "2021-08-05T15:16:13.436Z"
   },
   {
    "duration": 49,
    "start_time": "2021-08-05T15:16:14.044Z"
   },
   {
    "duration": 8,
    "start_time": "2021-08-05T15:16:14.097Z"
   },
   {
    "duration": 16,
    "start_time": "2021-08-05T15:16:14.107Z"
   },
   {
    "duration": 6,
    "start_time": "2021-08-05T15:16:14.125Z"
   },
   {
    "duration": 13,
    "start_time": "2021-08-05T15:16:14.132Z"
   },
   {
    "duration": 21,
    "start_time": "2021-08-05T15:16:14.148Z"
   },
   {
    "duration": 29,
    "start_time": "2021-08-05T15:16:14.171Z"
   },
   {
    "duration": 19,
    "start_time": "2021-08-05T15:16:14.201Z"
   },
   {
    "duration": 11,
    "start_time": "2021-08-05T15:16:14.221Z"
   },
   {
    "duration": 17,
    "start_time": "2021-08-05T15:16:14.234Z"
   },
   {
    "duration": 22,
    "start_time": "2021-08-05T15:16:14.253Z"
   },
   {
    "duration": 27,
    "start_time": "2021-08-05T15:16:14.277Z"
   },
   {
    "duration": 23,
    "start_time": "2021-08-05T15:16:14.305Z"
   },
   {
    "duration": 488,
    "start_time": "2021-08-05T15:16:14.330Z"
   },
   {
    "duration": 8,
    "start_time": "2021-08-05T15:16:14.820Z"
   },
   {
    "duration": 506,
    "start_time": "2021-08-05T15:16:14.830Z"
   },
   {
    "duration": 7,
    "start_time": "2021-08-05T15:16:15.337Z"
   },
   {
    "duration": 21,
    "start_time": "2021-08-05T15:16:15.345Z"
   },
   {
    "duration": 480,
    "start_time": "2021-08-05T15:16:15.368Z"
   },
   {
    "duration": 7568,
    "start_time": "2021-08-05T15:16:15.850Z"
   },
   {
    "duration": 684,
    "start_time": "2021-08-05T15:16:34.774Z"
   },
   {
    "duration": 50,
    "start_time": "2021-08-05T15:16:35.460Z"
   },
   {
    "duration": 10,
    "start_time": "2021-08-05T15:16:35.511Z"
   },
   {
    "duration": 20,
    "start_time": "2021-08-05T15:16:35.522Z"
   },
   {
    "duration": 7,
    "start_time": "2021-08-05T15:16:35.543Z"
   },
   {
    "duration": 14,
    "start_time": "2021-08-05T15:16:35.551Z"
   },
   {
    "duration": 18,
    "start_time": "2021-08-05T15:16:35.567Z"
   },
   {
    "duration": 11,
    "start_time": "2021-08-05T15:16:35.587Z"
   },
   {
    "duration": 18,
    "start_time": "2021-08-05T15:16:35.600Z"
   },
   {
    "duration": 13,
    "start_time": "2021-08-05T15:16:35.619Z"
   },
   {
    "duration": 14,
    "start_time": "2021-08-05T15:16:35.633Z"
   },
   {
    "duration": 9,
    "start_time": "2021-08-05T15:16:35.649Z"
   },
   {
    "duration": 15,
    "start_time": "2021-08-05T15:16:35.659Z"
   },
   {
    "duration": 27,
    "start_time": "2021-08-05T15:16:35.676Z"
   },
   {
    "duration": 352,
    "start_time": "2021-08-05T15:16:35.705Z"
   },
   {
    "duration": 9,
    "start_time": "2021-08-05T15:16:36.059Z"
   },
   {
    "duration": 536,
    "start_time": "2021-08-05T15:16:36.069Z"
   },
   {
    "duration": 6,
    "start_time": "2021-08-05T15:16:36.607Z"
   },
   {
    "duration": 7,
    "start_time": "2021-08-05T15:16:36.615Z"
   },
   {
    "duration": 476,
    "start_time": "2021-08-05T15:16:36.624Z"
   },
   {
    "duration": 7410,
    "start_time": "2021-08-05T15:16:37.101Z"
   },
   {
    "duration": 690,
    "start_time": "2021-08-05T15:18:36.828Z"
   },
   {
    "duration": 48,
    "start_time": "2021-08-05T15:18:37.520Z"
   },
   {
    "duration": 9,
    "start_time": "2021-08-05T15:18:37.570Z"
   },
   {
    "duration": 13,
    "start_time": "2021-08-05T15:18:37.581Z"
   },
   {
    "duration": 4,
    "start_time": "2021-08-05T15:18:37.596Z"
   },
   {
    "duration": 9,
    "start_time": "2021-08-05T15:18:37.601Z"
   },
   {
    "duration": 19,
    "start_time": "2021-08-05T15:18:37.612Z"
   },
   {
    "duration": 9,
    "start_time": "2021-08-05T15:18:37.634Z"
   },
   {
    "duration": 11,
    "start_time": "2021-08-05T15:18:37.644Z"
   },
   {
    "duration": 36,
    "start_time": "2021-08-05T15:18:37.656Z"
   },
   {
    "duration": 8,
    "start_time": "2021-08-05T15:18:37.694Z"
   },
   {
    "duration": 6,
    "start_time": "2021-08-05T15:18:37.704Z"
   },
   {
    "duration": 9,
    "start_time": "2021-08-05T15:18:37.712Z"
   },
   {
    "duration": 18,
    "start_time": "2021-08-05T15:18:37.722Z"
   },
   {
    "duration": 471,
    "start_time": "2021-08-05T15:18:37.741Z"
   },
   {
    "duration": 8,
    "start_time": "2021-08-05T15:18:38.213Z"
   },
   {
    "duration": 427,
    "start_time": "2021-08-05T15:18:38.223Z"
   },
   {
    "duration": 6,
    "start_time": "2021-08-05T15:18:38.651Z"
   },
   {
    "duration": 12,
    "start_time": "2021-08-05T15:18:38.659Z"
   },
   {
    "duration": 423,
    "start_time": "2021-08-05T15:18:38.672Z"
   },
   {
    "duration": 6997,
    "start_time": "2021-08-05T15:18:39.096Z"
   },
   {
    "duration": 6,
    "start_time": "2021-08-05T15:19:48.881Z"
   },
   {
    "duration": 8,
    "start_time": "2021-08-05T15:19:54.315Z"
   },
   {
    "duration": 443,
    "start_time": "2021-08-05T15:19:55.105Z"
   },
   {
    "duration": 6,
    "start_time": "2021-08-05T15:20:48.212Z"
   },
   {
    "duration": 7,
    "start_time": "2021-08-05T15:20:50.177Z"
   },
   {
    "duration": 404,
    "start_time": "2021-08-05T15:20:51.960Z"
   },
   {
    "duration": 8,
    "start_time": "2021-08-05T15:21:45.073Z"
   },
   {
    "duration": 341,
    "start_time": "2021-08-05T15:21:47.196Z"
   },
   {
    "duration": 5,
    "start_time": "2021-08-05T15:22:12.189Z"
   },
   {
    "duration": 8,
    "start_time": "2021-08-05T15:22:14.152Z"
   },
   {
    "duration": 347,
    "start_time": "2021-08-05T15:22:14.777Z"
   },
   {
    "duration": 6,
    "start_time": "2021-08-05T15:22:25.880Z"
   },
   {
    "duration": 8,
    "start_time": "2021-08-05T15:22:27.657Z"
   },
   {
    "duration": 340,
    "start_time": "2021-08-05T15:22:29.489Z"
   },
   {
    "duration": 6,
    "start_time": "2021-08-05T15:23:33.384Z"
   },
   {
    "duration": 7,
    "start_time": "2021-08-05T15:23:33.920Z"
   },
   {
    "duration": 343,
    "start_time": "2021-08-05T15:23:34.712Z"
   },
   {
    "duration": 732,
    "start_time": "2021-08-05T15:23:43.529Z"
   },
   {
    "duration": 48,
    "start_time": "2021-08-05T15:23:44.263Z"
   },
   {
    "duration": 9,
    "start_time": "2021-08-05T15:23:44.313Z"
   },
   {
    "duration": 10,
    "start_time": "2021-08-05T15:23:44.324Z"
   },
   {
    "duration": 5,
    "start_time": "2021-08-05T15:23:44.336Z"
   },
   {
    "duration": 8,
    "start_time": "2021-08-05T15:23:44.343Z"
   },
   {
    "duration": 43,
    "start_time": "2021-08-05T15:23:44.352Z"
   },
   {
    "duration": 9,
    "start_time": "2021-08-05T15:23:44.398Z"
   },
   {
    "duration": 10,
    "start_time": "2021-08-05T15:23:44.409Z"
   },
   {
    "duration": 6,
    "start_time": "2021-08-05T15:23:44.420Z"
   },
   {
    "duration": 8,
    "start_time": "2021-08-05T15:23:44.428Z"
   },
   {
    "duration": 8,
    "start_time": "2021-08-05T15:23:44.437Z"
   },
   {
    "duration": 12,
    "start_time": "2021-08-05T15:23:44.446Z"
   },
   {
    "duration": 44,
    "start_time": "2021-08-05T15:23:44.459Z"
   },
   {
    "duration": 355,
    "start_time": "2021-08-05T15:23:44.505Z"
   },
   {
    "duration": 8,
    "start_time": "2021-08-05T15:23:44.862Z"
   },
   {
    "duration": 441,
    "start_time": "2021-08-05T15:23:44.872Z"
   },
   {
    "duration": 6,
    "start_time": "2021-08-05T15:23:45.315Z"
   },
   {
    "duration": 8,
    "start_time": "2021-08-05T15:23:45.323Z"
   },
   {
    "duration": 352,
    "start_time": "2021-08-05T15:23:45.333Z"
   },
   {
    "duration": 7747,
    "start_time": "2021-08-05T15:23:45.686Z"
   },
   {
    "duration": 7,
    "start_time": "2021-08-05T15:29:35.340Z"
   },
   {
    "duration": 772,
    "start_time": "2021-08-05T15:29:42.157Z"
   },
   {
    "duration": 50,
    "start_time": "2021-08-05T15:29:42.931Z"
   },
   {
    "duration": 9,
    "start_time": "2021-08-05T15:29:42.983Z"
   },
   {
    "duration": 12,
    "start_time": "2021-08-05T15:29:42.994Z"
   },
   {
    "duration": 13,
    "start_time": "2021-08-05T15:29:43.007Z"
   },
   {
    "duration": 12,
    "start_time": "2021-08-05T15:29:43.021Z"
   },
   {
    "duration": 19,
    "start_time": "2021-08-05T15:29:43.035Z"
   },
   {
    "duration": 9,
    "start_time": "2021-08-05T15:29:43.056Z"
   },
   {
    "duration": 14,
    "start_time": "2021-08-05T15:29:43.068Z"
   },
   {
    "duration": 19,
    "start_time": "2021-08-05T15:29:43.084Z"
   },
   {
    "duration": 22,
    "start_time": "2021-08-05T15:29:43.104Z"
   },
   {
    "duration": 11,
    "start_time": "2021-08-05T15:29:43.128Z"
   },
   {
    "duration": 25,
    "start_time": "2021-08-05T15:29:43.140Z"
   },
   {
    "duration": 21,
    "start_time": "2021-08-05T15:29:43.166Z"
   },
   {
    "duration": 351,
    "start_time": "2021-08-05T15:29:43.188Z"
   },
   {
    "duration": 8,
    "start_time": "2021-08-05T15:29:43.541Z"
   },
   {
    "duration": 427,
    "start_time": "2021-08-05T15:29:43.551Z"
   },
   {
    "duration": 5,
    "start_time": "2021-08-05T15:29:43.980Z"
   },
   {
    "duration": 6,
    "start_time": "2021-08-05T15:29:43.991Z"
   },
   {
    "duration": 436,
    "start_time": "2021-08-05T15:29:43.999Z"
   },
   {
    "duration": 634,
    "start_time": "2021-08-05T15:29:44.437Z"
   },
   {
    "duration": 414,
    "start_time": "2021-08-05T15:30:31.976Z"
   },
   {
    "duration": 640,
    "start_time": "2021-08-05T15:30:40.397Z"
   },
   {
    "duration": 53,
    "start_time": "2021-08-05T15:30:41.039Z"
   },
   {
    "duration": 11,
    "start_time": "2021-08-05T15:30:41.095Z"
   },
   {
    "duration": 12,
    "start_time": "2021-08-05T15:30:41.108Z"
   },
   {
    "duration": 11,
    "start_time": "2021-08-05T15:30:41.121Z"
   },
   {
    "duration": 21,
    "start_time": "2021-08-05T15:30:41.133Z"
   },
   {
    "duration": 28,
    "start_time": "2021-08-05T15:30:41.156Z"
   },
   {
    "duration": 12,
    "start_time": "2021-08-05T15:30:41.191Z"
   },
   {
    "duration": 18,
    "start_time": "2021-08-05T15:30:41.205Z"
   },
   {
    "duration": 11,
    "start_time": "2021-08-05T15:30:41.225Z"
   },
   {
    "duration": 17,
    "start_time": "2021-08-05T15:30:41.238Z"
   },
   {
    "duration": 9,
    "start_time": "2021-08-05T15:30:41.257Z"
   },
   {
    "duration": 30,
    "start_time": "2021-08-05T15:30:41.268Z"
   },
   {
    "duration": 25,
    "start_time": "2021-08-05T15:30:41.300Z"
   },
   {
    "duration": 394,
    "start_time": "2021-08-05T15:30:41.327Z"
   },
   {
    "duration": 9,
    "start_time": "2021-08-05T15:30:41.723Z"
   },
   {
    "duration": 444,
    "start_time": "2021-08-05T15:30:41.734Z"
   },
   {
    "duration": 13,
    "start_time": "2021-08-05T15:30:42.180Z"
   },
   {
    "duration": 11,
    "start_time": "2021-08-05T15:30:42.195Z"
   },
   {
    "duration": 353,
    "start_time": "2021-08-05T15:30:42.208Z"
   },
   {
    "duration": 639,
    "start_time": "2021-08-05T15:30:42.563Z"
   },
   {
    "duration": 8,
    "start_time": "2021-08-05T15:37:06.769Z"
   },
   {
    "duration": 9,
    "start_time": "2021-08-05T15:37:09.437Z"
   },
   {
    "duration": 412,
    "start_time": "2021-08-05T15:37:10.188Z"
   },
   {
    "duration": 7,
    "start_time": "2021-08-05T15:37:34.139Z"
   },
   {
    "duration": 369,
    "start_time": "2021-08-05T15:37:34.739Z"
   },
   {
    "duration": 6,
    "start_time": "2021-08-05T15:37:51.268Z"
   },
   {
    "duration": 7,
    "start_time": "2021-08-05T15:37:52.852Z"
   },
   {
    "duration": 6,
    "start_time": "2021-08-05T15:38:02.394Z"
   },
   {
    "duration": 8,
    "start_time": "2021-08-05T15:38:03.742Z"
   },
   {
    "duration": 340,
    "start_time": "2021-08-05T15:38:06.380Z"
   },
   {
    "duration": 6,
    "start_time": "2021-08-05T15:39:15.887Z"
   },
   {
    "duration": 8,
    "start_time": "2021-08-05T15:39:16.511Z"
   },
   {
    "duration": 368,
    "start_time": "2021-08-05T15:39:17.095Z"
   },
   {
    "duration": 8,
    "start_time": "2021-08-05T15:39:30.442Z"
   },
   {
    "duration": 365,
    "start_time": "2021-08-05T15:39:31.158Z"
   },
   {
    "duration": 7,
    "start_time": "2021-08-05T15:39:40.924Z"
   },
   {
    "duration": 413,
    "start_time": "2021-08-05T15:39:43.443Z"
   },
   {
    "duration": 6,
    "start_time": "2021-08-05T15:40:35.031Z"
   },
   {
    "duration": 6,
    "start_time": "2021-08-05T15:40:48.754Z"
   },
   {
    "duration": 7,
    "start_time": "2021-08-05T15:40:49.387Z"
   },
   {
    "duration": 424,
    "start_time": "2021-08-05T15:40:50.098Z"
   },
   {
    "duration": 9,
    "start_time": "2021-08-05T15:42:21.357Z"
   },
   {
    "duration": 10,
    "start_time": "2021-08-05T15:42:36.738Z"
   },
   {
    "duration": 10,
    "start_time": "2021-08-05T15:42:55.586Z"
   },
   {
    "duration": 10,
    "start_time": "2021-08-05T15:43:24.988Z"
   },
   {
    "duration": 348,
    "start_time": "2021-08-05T15:43:25.546Z"
   },
   {
    "duration": 10,
    "start_time": "2021-08-05T15:47:27.715Z"
   },
   {
    "duration": 416,
    "start_time": "2021-08-05T15:47:30.082Z"
   },
   {
    "duration": 10,
    "start_time": "2021-08-05T15:48:28.135Z"
   },
   {
    "duration": 348,
    "start_time": "2021-08-05T15:48:28.813Z"
   },
   {
    "duration": 9,
    "start_time": "2021-08-05T15:56:35.235Z"
   },
   {
    "duration": 399,
    "start_time": "2021-08-05T15:56:37.678Z"
   },
   {
    "duration": 10,
    "start_time": "2021-08-05T15:57:40.190Z"
   },
   {
    "duration": 10,
    "start_time": "2021-08-05T15:58:07.601Z"
   },
   {
    "duration": 415,
    "start_time": "2021-08-05T15:58:08.135Z"
   },
   {
    "duration": 1699,
    "start_time": "2021-08-05T16:32:48.134Z"
   },
   {
    "duration": 1278,
    "start_time": "2021-08-05T16:33:42.684Z"
   },
   {
    "duration": 1389,
    "start_time": "2021-08-05T16:34:17.521Z"
   },
   {
    "duration": 529,
    "start_time": "2021-08-05T16:40:30.912Z"
   },
   {
    "duration": 688,
    "start_time": "2021-08-05T16:49:06.289Z"
   },
   {
    "duration": 49,
    "start_time": "2021-08-05T16:49:06.978Z"
   },
   {
    "duration": 8,
    "start_time": "2021-08-05T16:49:07.029Z"
   },
   {
    "duration": 12,
    "start_time": "2021-08-05T16:49:07.039Z"
   },
   {
    "duration": 5,
    "start_time": "2021-08-05T16:49:07.053Z"
   },
   {
    "duration": 6,
    "start_time": "2021-08-05T16:49:07.059Z"
   },
   {
    "duration": 32,
    "start_time": "2021-08-05T16:49:07.067Z"
   },
   {
    "duration": 8,
    "start_time": "2021-08-05T16:49:07.102Z"
   },
   {
    "duration": 7,
    "start_time": "2021-08-05T16:49:07.112Z"
   },
   {
    "duration": 7,
    "start_time": "2021-08-05T16:49:07.121Z"
   },
   {
    "duration": 10,
    "start_time": "2021-08-05T16:49:07.130Z"
   },
   {
    "duration": 9,
    "start_time": "2021-08-05T16:49:07.141Z"
   },
   {
    "duration": 10,
    "start_time": "2021-08-05T16:49:07.151Z"
   },
   {
    "duration": 12,
    "start_time": "2021-08-05T16:49:07.191Z"
   },
   {
    "duration": 350,
    "start_time": "2021-08-05T16:49:07.205Z"
   },
   {
    "duration": 8,
    "start_time": "2021-08-05T16:49:07.557Z"
   },
   {
    "duration": 418,
    "start_time": "2021-08-05T16:49:07.567Z"
   },
   {
    "duration": 6,
    "start_time": "2021-08-05T16:49:07.991Z"
   },
   {
    "duration": 10,
    "start_time": "2021-08-05T16:49:07.998Z"
   },
   {
    "duration": 363,
    "start_time": "2021-08-05T16:49:08.009Z"
   },
   {
    "duration": 982,
    "start_time": "2021-08-05T16:49:08.374Z"
   },
   {
    "duration": -445,
    "start_time": "2021-08-05T16:49:09.803Z"
   },
   {
    "duration": 670,
    "start_time": "2021-08-05T16:50:34.927Z"
   },
   {
    "duration": 1400,
    "start_time": "2021-08-05T16:50:46.535Z"
   },
   {
    "duration": 374,
    "start_time": "2021-08-05T16:57:18.628Z"
   },
   {
    "duration": 117,
    "start_time": "2021-08-05T16:59:12.480Z"
   },
   {
    "duration": 433,
    "start_time": "2021-08-05T17:04:17.287Z"
   },
   {
    "duration": 11201,
    "start_time": "2021-08-05T17:12:12.781Z"
   },
   {
    "duration": 236,
    "start_time": "2021-08-05T17:12:37.468Z"
   },
   {
    "duration": 654,
    "start_time": "2021-08-05T17:12:52.243Z"
   },
   {
    "duration": 48,
    "start_time": "2021-08-05T17:12:52.899Z"
   },
   {
    "duration": 9,
    "start_time": "2021-08-05T17:12:52.949Z"
   },
   {
    "duration": 14,
    "start_time": "2021-08-05T17:12:52.959Z"
   },
   {
    "duration": 4,
    "start_time": "2021-08-05T17:12:52.975Z"
   },
   {
    "duration": 14,
    "start_time": "2021-08-05T17:12:52.980Z"
   },
   {
    "duration": 25,
    "start_time": "2021-08-05T17:12:52.996Z"
   },
   {
    "duration": 9,
    "start_time": "2021-08-05T17:12:53.023Z"
   },
   {
    "duration": 14,
    "start_time": "2021-08-05T17:12:53.034Z"
   },
   {
    "duration": 12,
    "start_time": "2021-08-05T17:12:53.050Z"
   },
   {
    "duration": 15,
    "start_time": "2021-08-05T17:12:53.063Z"
   },
   {
    "duration": 11,
    "start_time": "2021-08-05T17:12:53.080Z"
   },
   {
    "duration": 15,
    "start_time": "2021-08-05T17:12:53.092Z"
   },
   {
    "duration": 16,
    "start_time": "2021-08-05T17:12:53.109Z"
   },
   {
    "duration": 364,
    "start_time": "2021-08-05T17:12:53.127Z"
   },
   {
    "duration": 9,
    "start_time": "2021-08-05T17:12:53.493Z"
   },
   {
    "duration": 441,
    "start_time": "2021-08-05T17:12:53.503Z"
   },
   {
    "duration": 8,
    "start_time": "2021-08-05T17:12:53.946Z"
   },
   {
    "duration": 14,
    "start_time": "2021-08-05T17:12:53.956Z"
   },
   {
    "duration": 374,
    "start_time": "2021-08-05T17:12:53.972Z"
   },
   {
    "duration": 11214,
    "start_time": "2021-08-05T17:12:54.348Z"
   },
   {
    "duration": 414,
    "start_time": "2021-08-05T17:13:05.564Z"
   },
   {
    "duration": -462,
    "start_time": "2021-08-05T17:13:06.442Z"
   },
   {
    "duration": 18,
    "start_time": "2021-08-05T17:13:46.382Z"
   },
   {
    "duration": 560,
    "start_time": "2021-08-05T17:14:16.998Z"
   },
   {
    "duration": 80,
    "start_time": "2021-08-05T17:18:22.301Z"
   },
   {
    "duration": 6,
    "start_time": "2021-08-05T17:19:01.952Z"
   },
   {
    "duration": 5,
    "start_time": "2021-08-05T17:19:06.940Z"
   },
   {
    "duration": 7,
    "start_time": "2021-08-05T17:19:07.464Z"
   },
   {
    "duration": 591,
    "start_time": "2021-08-05T17:19:18.847Z"
   },
   {
    "duration": 48,
    "start_time": "2021-08-05T17:19:19.440Z"
   },
   {
    "duration": 9,
    "start_time": "2021-08-05T17:19:19.490Z"
   },
   {
    "duration": 8,
    "start_time": "2021-08-05T17:19:19.500Z"
   },
   {
    "duration": 5,
    "start_time": "2021-08-05T17:19:19.510Z"
   },
   {
    "duration": 7,
    "start_time": "2021-08-05T17:19:19.517Z"
   },
   {
    "duration": 19,
    "start_time": "2021-08-05T17:19:19.526Z"
   },
   {
    "duration": 9,
    "start_time": "2021-08-05T17:19:19.548Z"
   },
   {
    "duration": 33,
    "start_time": "2021-08-05T17:19:19.559Z"
   },
   {
    "duration": 7,
    "start_time": "2021-08-05T17:19:19.594Z"
   },
   {
    "duration": 11,
    "start_time": "2021-08-05T17:19:19.602Z"
   },
   {
    "duration": 8,
    "start_time": "2021-08-05T17:19:19.615Z"
   },
   {
    "duration": 11,
    "start_time": "2021-08-05T17:19:19.624Z"
   },
   {
    "duration": 20,
    "start_time": "2021-08-05T17:19:19.636Z"
   },
   {
    "duration": 365,
    "start_time": "2021-08-05T17:19:19.658Z"
   },
   {
    "duration": 9,
    "start_time": "2021-08-05T17:19:20.025Z"
   },
   {
    "duration": 432,
    "start_time": "2021-08-05T17:19:20.036Z"
   },
   {
    "duration": 7,
    "start_time": "2021-08-05T17:19:20.469Z"
   },
   {
    "duration": 19,
    "start_time": "2021-08-05T17:19:20.477Z"
   },
   {
    "duration": 361,
    "start_time": "2021-08-05T17:19:20.497Z"
   },
   {
    "duration": 7,
    "start_time": "2021-08-05T17:19:20.859Z"
   },
   {
    "duration": 31,
    "start_time": "2021-08-05T17:19:20.867Z"
   },
   {
    "duration": 409,
    "start_time": "2021-08-05T17:19:20.900Z"
   },
   {
    "duration": 613,
    "start_time": "2021-08-05T17:19:21.311Z"
   },
   {
    "duration": 291,
    "start_time": "2021-08-05T17:22:27.602Z"
   },
   {
    "duration": 341,
    "start_time": "2021-08-05T17:24:57.751Z"
   },
   {
    "duration": 7,
    "start_time": "2021-08-05T17:27:19.732Z"
   },
   {
    "duration": 5,
    "start_time": "2021-08-05T17:27:23.608Z"
   },
   {
    "duration": 8,
    "start_time": "2021-08-05T17:27:24.276Z"
   },
   {
    "duration": 678,
    "start_time": "2021-08-05T17:27:30.270Z"
   },
   {
    "duration": 54,
    "start_time": "2021-08-05T17:27:30.950Z"
   },
   {
    "duration": 10,
    "start_time": "2021-08-05T17:27:31.006Z"
   },
   {
    "duration": 16,
    "start_time": "2021-08-05T17:27:31.018Z"
   },
   {
    "duration": 11,
    "start_time": "2021-08-05T17:27:31.036Z"
   },
   {
    "duration": 16,
    "start_time": "2021-08-05T17:27:31.049Z"
   },
   {
    "duration": 25,
    "start_time": "2021-08-05T17:27:31.067Z"
   },
   {
    "duration": 11,
    "start_time": "2021-08-05T17:27:31.095Z"
   },
   {
    "duration": 14,
    "start_time": "2021-08-05T17:27:31.108Z"
   },
   {
    "duration": 18,
    "start_time": "2021-08-05T17:27:31.124Z"
   },
   {
    "duration": 15,
    "start_time": "2021-08-05T17:27:31.144Z"
   },
   {
    "duration": 15,
    "start_time": "2021-08-05T17:27:31.161Z"
   },
   {
    "duration": 20,
    "start_time": "2021-08-05T17:27:31.177Z"
   },
   {
    "duration": 25,
    "start_time": "2021-08-05T17:27:31.199Z"
   },
   {
    "duration": 411,
    "start_time": "2021-08-05T17:27:31.225Z"
   },
   {
    "duration": 13,
    "start_time": "2021-08-05T17:27:31.638Z"
   },
   {
    "duration": 505,
    "start_time": "2021-08-05T17:27:31.653Z"
   },
   {
    "duration": 8,
    "start_time": "2021-08-05T17:27:32.160Z"
   },
   {
    "duration": 35,
    "start_time": "2021-08-05T17:27:32.169Z"
   },
   {
    "duration": 422,
    "start_time": "2021-08-05T17:27:32.206Z"
   },
   {
    "duration": 8,
    "start_time": "2021-08-05T17:27:32.630Z"
   },
   {
    "duration": 9,
    "start_time": "2021-08-05T17:27:32.640Z"
   },
   {
    "duration": 395,
    "start_time": "2021-08-05T17:27:32.652Z"
   },
   {
    "duration": -455,
    "start_time": "2021-08-05T17:27:33.503Z"
   },
   {
    "duration": 10,
    "start_time": "2021-08-05T17:28:13.050Z"
   },
   {
    "duration": 619,
    "start_time": "2021-08-05T17:28:19.252Z"
   },
   {
    "duration": 50,
    "start_time": "2021-08-05T17:28:19.872Z"
   },
   {
    "duration": 10,
    "start_time": "2021-08-05T17:28:19.924Z"
   },
   {
    "duration": 9,
    "start_time": "2021-08-05T17:28:19.936Z"
   },
   {
    "duration": 4,
    "start_time": "2021-08-05T17:28:19.947Z"
   },
   {
    "duration": 6,
    "start_time": "2021-08-05T17:28:19.953Z"
   },
   {
    "duration": 45,
    "start_time": "2021-08-05T17:28:19.961Z"
   },
   {
    "duration": 11,
    "start_time": "2021-08-05T17:28:20.008Z"
   },
   {
    "duration": 13,
    "start_time": "2021-08-05T17:28:20.021Z"
   },
   {
    "duration": 7,
    "start_time": "2021-08-05T17:28:20.036Z"
   },
   {
    "duration": 11,
    "start_time": "2021-08-05T17:28:20.045Z"
   },
   {
    "duration": 33,
    "start_time": "2021-08-05T17:28:20.058Z"
   },
   {
    "duration": 8,
    "start_time": "2021-08-05T17:28:20.093Z"
   },
   {
    "duration": 17,
    "start_time": "2021-08-05T17:28:20.103Z"
   },
   {
    "duration": 650,
    "start_time": "2021-08-05T17:28:20.122Z"
   },
   {
    "duration": 18,
    "start_time": "2021-08-05T17:28:20.774Z"
   },
   {
    "duration": 701,
    "start_time": "2021-08-05T17:28:20.794Z"
   },
   {
    "duration": 9,
    "start_time": "2021-08-05T17:28:21.497Z"
   },
   {
    "duration": 12,
    "start_time": "2021-08-05T17:28:21.508Z"
   },
   {
    "duration": 597,
    "start_time": "2021-08-05T17:28:21.522Z"
   },
   {
    "duration": 12,
    "start_time": "2021-08-05T17:28:22.122Z"
   },
   {
    "duration": 20,
    "start_time": "2021-08-05T17:28:22.136Z"
   },
   {
    "duration": 1545,
    "start_time": "2021-08-05T17:28:22.159Z"
   },
   {
    "duration": 627,
    "start_time": "2021-08-05T17:28:23.706Z"
   },
   {
    "duration": 13,
    "start_time": "2021-08-05T17:30:07.925Z"
   },
   {
    "duration": 10,
    "start_time": "2021-08-05T17:30:13.813Z"
   },
   {
    "duration": 469,
    "start_time": "2021-08-05T17:31:57.104Z"
   },
   {
    "duration": 670,
    "start_time": "2021-08-05T17:32:05.075Z"
   },
   {
    "duration": 50,
    "start_time": "2021-08-05T17:32:05.746Z"
   },
   {
    "duration": 9,
    "start_time": "2021-08-05T17:32:05.798Z"
   },
   {
    "duration": 10,
    "start_time": "2021-08-05T17:32:05.809Z"
   },
   {
    "duration": 9,
    "start_time": "2021-08-05T17:32:05.820Z"
   },
   {
    "duration": 9,
    "start_time": "2021-08-05T17:32:05.830Z"
   },
   {
    "duration": 26,
    "start_time": "2021-08-05T17:32:05.840Z"
   },
   {
    "duration": 28,
    "start_time": "2021-08-05T17:32:05.868Z"
   },
   {
    "duration": 11,
    "start_time": "2021-08-05T17:32:05.898Z"
   },
   {
    "duration": 7,
    "start_time": "2021-08-05T17:32:05.910Z"
   },
   {
    "duration": 13,
    "start_time": "2021-08-05T17:32:05.918Z"
   },
   {
    "duration": 10,
    "start_time": "2021-08-05T17:32:05.933Z"
   },
   {
    "duration": 11,
    "start_time": "2021-08-05T17:32:05.945Z"
   },
   {
    "duration": 35,
    "start_time": "2021-08-05T17:32:05.957Z"
   },
   {
    "duration": 353,
    "start_time": "2021-08-05T17:32:05.994Z"
   },
   {
    "duration": 9,
    "start_time": "2021-08-05T17:32:06.348Z"
   },
   {
    "duration": 441,
    "start_time": "2021-08-05T17:32:06.359Z"
   },
   {
    "duration": 6,
    "start_time": "2021-08-05T17:32:06.802Z"
   },
   {
    "duration": 11,
    "start_time": "2021-08-05T17:32:06.809Z"
   },
   {
    "duration": 373,
    "start_time": "2021-08-05T17:32:06.821Z"
   },
   {
    "duration": 388,
    "start_time": "2021-08-05T17:32:07.196Z"
   },
   {
    "duration": -453,
    "start_time": "2021-08-05T17:32:08.039Z"
   },
   {
    "duration": -459,
    "start_time": "2021-08-05T17:32:08.046Z"
   },
   {
    "duration": -462,
    "start_time": "2021-08-05T17:32:08.050Z"
   },
   {
    "duration": 10,
    "start_time": "2021-08-05T17:32:54.583Z"
   },
   {
    "duration": 11,
    "start_time": "2021-08-05T17:33:40.346Z"
   },
   {
    "duration": 10,
    "start_time": "2021-08-05T17:34:15.124Z"
   },
   {
    "duration": -469,
    "start_time": "2021-08-05T17:34:33.385Z"
   },
   {
    "duration": 10,
    "start_time": "2021-08-05T17:34:41.025Z"
   },
   {
    "duration": 11,
    "start_time": "2021-08-05T17:35:11.265Z"
   },
   {
    "duration": 238,
    "start_time": "2021-08-05T17:35:53.428Z"
   },
   {
    "duration": 663,
    "start_time": "2021-08-05T17:36:01.204Z"
   },
   {
    "duration": 51,
    "start_time": "2021-08-05T17:36:01.869Z"
   },
   {
    "duration": 9,
    "start_time": "2021-08-05T17:36:01.922Z"
   },
   {
    "duration": 15,
    "start_time": "2021-08-05T17:36:01.933Z"
   },
   {
    "duration": 15,
    "start_time": "2021-08-05T17:36:01.950Z"
   },
   {
    "duration": 25,
    "start_time": "2021-08-05T17:36:01.966Z"
   },
   {
    "duration": 28,
    "start_time": "2021-08-05T17:36:01.993Z"
   },
   {
    "duration": 11,
    "start_time": "2021-08-05T17:36:02.023Z"
   },
   {
    "duration": 15,
    "start_time": "2021-08-05T17:36:02.036Z"
   },
   {
    "duration": 17,
    "start_time": "2021-08-05T17:36:02.052Z"
   },
   {
    "duration": 16,
    "start_time": "2021-08-05T17:36:02.071Z"
   },
   {
    "duration": 25,
    "start_time": "2021-08-05T17:36:02.089Z"
   },
   {
    "duration": 7,
    "start_time": "2021-08-05T17:36:02.116Z"
   },
   {
    "duration": 20,
    "start_time": "2021-08-05T17:36:02.124Z"
   },
   {
    "duration": 354,
    "start_time": "2021-08-05T17:36:02.145Z"
   },
   {
    "duration": 9,
    "start_time": "2021-08-05T17:36:02.500Z"
   },
   {
    "duration": 441,
    "start_time": "2021-08-05T17:36:02.510Z"
   },
   {
    "duration": 6,
    "start_time": "2021-08-05T17:36:02.952Z"
   },
   {
    "duration": 19,
    "start_time": "2021-08-05T17:36:02.960Z"
   },
   {
    "duration": 367,
    "start_time": "2021-08-05T17:36:02.980Z"
   },
   {
    "duration": 559,
    "start_time": "2021-08-05T17:36:03.349Z"
   },
   {
    "duration": -485,
    "start_time": "2021-08-05T17:36:04.395Z"
   },
   {
    "duration": -487,
    "start_time": "2021-08-05T17:36:04.398Z"
   },
   {
    "duration": -489,
    "start_time": "2021-08-05T17:36:04.401Z"
   },
   {
    "duration": 5,
    "start_time": "2021-08-05T17:36:43.157Z"
   },
   {
    "duration": 270,
    "start_time": "2021-08-05T17:38:14.519Z"
   },
   {
    "duration": 586,
    "start_time": "2021-08-05T17:38:33.345Z"
   },
   {
    "duration": 49,
    "start_time": "2021-08-05T17:38:33.934Z"
   },
   {
    "duration": 11,
    "start_time": "2021-08-05T17:38:33.985Z"
   },
   {
    "duration": 11,
    "start_time": "2021-08-05T17:38:33.998Z"
   },
   {
    "duration": 5,
    "start_time": "2021-08-05T17:38:34.011Z"
   },
   {
    "duration": 7,
    "start_time": "2021-08-05T17:38:34.017Z"
   },
   {
    "duration": 24,
    "start_time": "2021-08-05T17:38:34.027Z"
   },
   {
    "duration": 39,
    "start_time": "2021-08-05T17:38:34.054Z"
   },
   {
    "duration": 10,
    "start_time": "2021-08-05T17:38:34.094Z"
   },
   {
    "duration": 8,
    "start_time": "2021-08-05T17:38:34.106Z"
   },
   {
    "duration": 9,
    "start_time": "2021-08-05T17:38:34.116Z"
   },
   {
    "duration": 7,
    "start_time": "2021-08-05T17:38:34.127Z"
   },
   {
    "duration": 9,
    "start_time": "2021-08-05T17:38:34.135Z"
   },
   {
    "duration": 49,
    "start_time": "2021-08-05T17:38:34.146Z"
   },
   {
    "duration": 502,
    "start_time": "2021-08-05T17:38:34.197Z"
   },
   {
    "duration": 10,
    "start_time": "2021-08-05T17:38:34.701Z"
   },
   {
    "duration": 437,
    "start_time": "2021-08-05T17:38:34.712Z"
   },
   {
    "duration": 8,
    "start_time": "2021-08-05T17:38:35.151Z"
   },
   {
    "duration": 11,
    "start_time": "2021-08-05T17:38:35.160Z"
   },
   {
    "duration": 360,
    "start_time": "2021-08-05T17:38:35.191Z"
   },
   {
    "duration": 4,
    "start_time": "2021-08-05T17:38:35.553Z"
   },
   {
    "duration": 476,
    "start_time": "2021-08-05T17:38:35.559Z"
   },
   {
    "duration": -526,
    "start_time": "2021-08-05T17:38:36.564Z"
   },
   {
    "duration": -529,
    "start_time": "2021-08-05T17:38:36.568Z"
   },
   {
    "duration": -531,
    "start_time": "2021-08-05T17:38:36.571Z"
   },
   {
    "duration": 6,
    "start_time": "2021-08-05T17:38:45.128Z"
   },
   {
    "duration": 7,
    "start_time": "2021-08-05T17:38:50.120Z"
   },
   {
    "duration": 83,
    "start_time": "2021-08-05T17:38:50.496Z"
   },
   {
    "duration": 599,
    "start_time": "2021-08-05T17:39:55.127Z"
   },
   {
    "duration": 18,
    "start_time": "2021-08-05T17:39:56.688Z"
   },
   {
    "duration": 4,
    "start_time": "2021-08-05T17:42:19.694Z"
   },
   {
    "duration": 4,
    "start_time": "2021-08-05T17:42:28.126Z"
   },
   {
    "duration": 4,
    "start_time": "2021-08-05T17:42:39.871Z"
   },
   {
    "duration": 380,
    "start_time": "2021-08-05T17:42:57.057Z"
   },
   {
    "duration": 748,
    "start_time": "2021-08-05T17:43:06.434Z"
   },
   {
    "duration": 48,
    "start_time": "2021-08-05T17:43:07.184Z"
   },
   {
    "duration": 9,
    "start_time": "2021-08-05T17:43:07.234Z"
   },
   {
    "duration": 21,
    "start_time": "2021-08-05T17:43:07.245Z"
   },
   {
    "duration": 5,
    "start_time": "2021-08-05T17:43:07.267Z"
   },
   {
    "duration": 8,
    "start_time": "2021-08-05T17:43:07.273Z"
   },
   {
    "duration": 24,
    "start_time": "2021-08-05T17:43:07.282Z"
   },
   {
    "duration": 12,
    "start_time": "2021-08-05T17:43:07.308Z"
   },
   {
    "duration": 10,
    "start_time": "2021-08-05T17:43:07.322Z"
   },
   {
    "duration": 10,
    "start_time": "2021-08-05T17:43:07.334Z"
   },
   {
    "duration": 11,
    "start_time": "2021-08-05T17:43:07.345Z"
   },
   {
    "duration": 8,
    "start_time": "2021-08-05T17:43:07.357Z"
   },
   {
    "duration": 7,
    "start_time": "2021-08-05T17:43:07.392Z"
   },
   {
    "duration": 15,
    "start_time": "2021-08-05T17:43:07.400Z"
   },
   {
    "duration": 360,
    "start_time": "2021-08-05T17:43:07.417Z"
   },
   {
    "duration": 16,
    "start_time": "2021-08-05T17:43:07.779Z"
   },
   {
    "duration": 421,
    "start_time": "2021-08-05T17:43:07.797Z"
   },
   {
    "duration": 5,
    "start_time": "2021-08-05T17:43:08.220Z"
   },
   {
    "duration": 9,
    "start_time": "2021-08-05T17:43:08.227Z"
   },
   {
    "duration": 369,
    "start_time": "2021-08-05T17:43:08.237Z"
   },
   {
    "duration": 3,
    "start_time": "2021-08-05T17:43:08.607Z"
   },
   {
    "duration": 405,
    "start_time": "2021-08-05T17:43:08.612Z"
   },
   {
    "duration": -516,
    "start_time": "2021-08-05T17:43:09.535Z"
   },
   {
    "duration": -521,
    "start_time": "2021-08-05T17:43:09.540Z"
   },
   {
    "duration": -526,
    "start_time": "2021-08-05T17:43:09.546Z"
   },
   {
    "duration": 6,
    "start_time": "2021-08-05T17:43:56.598Z"
   },
   {
    "duration": 19,
    "start_time": "2021-08-05T17:43:57.931Z"
   },
   {
    "duration": 4,
    "start_time": "2021-08-05T17:44:24.962Z"
   },
   {
    "duration": 4,
    "start_time": "2021-08-05T17:44:25.665Z"
   },
   {
    "duration": 235,
    "start_time": "2021-08-05T17:47:54.451Z"
   },
   {
    "duration": 4,
    "start_time": "2021-08-05T17:48:15.182Z"
   },
   {
    "duration": 233,
    "start_time": "2021-08-05T17:48:42.972Z"
   },
   {
    "duration": 4,
    "start_time": "2021-08-05T17:50:12.319Z"
   },
   {
    "duration": 4,
    "start_time": "2021-08-05T17:50:29.335Z"
   },
   {
    "duration": 4,
    "start_time": "2021-08-05T17:50:36.592Z"
   },
   {
    "duration": 5,
    "start_time": "2021-08-05T17:50:54.329Z"
   },
   {
    "duration": 637,
    "start_time": "2021-08-05T17:50:58.685Z"
   },
   {
    "duration": 49,
    "start_time": "2021-08-05T17:50:59.323Z"
   },
   {
    "duration": 11,
    "start_time": "2021-08-05T17:50:59.374Z"
   },
   {
    "duration": 10,
    "start_time": "2021-08-05T17:50:59.391Z"
   },
   {
    "duration": 4,
    "start_time": "2021-08-05T17:50:59.403Z"
   },
   {
    "duration": 7,
    "start_time": "2021-08-05T17:50:59.409Z"
   },
   {
    "duration": 18,
    "start_time": "2021-08-05T17:50:59.417Z"
   },
   {
    "duration": 9,
    "start_time": "2021-08-05T17:50:59.437Z"
   },
   {
    "duration": 45,
    "start_time": "2021-08-05T17:50:59.448Z"
   },
   {
    "duration": 7,
    "start_time": "2021-08-05T17:50:59.494Z"
   },
   {
    "duration": 10,
    "start_time": "2021-08-05T17:50:59.503Z"
   },
   {
    "duration": 6,
    "start_time": "2021-08-05T17:50:59.515Z"
   },
   {
    "duration": 9,
    "start_time": "2021-08-05T17:50:59.522Z"
   },
   {
    "duration": 17,
    "start_time": "2021-08-05T17:50:59.532Z"
   },
   {
    "duration": 396,
    "start_time": "2021-08-05T17:50:59.550Z"
   },
   {
    "duration": 9,
    "start_time": "2021-08-05T17:50:59.947Z"
   },
   {
    "duration": 444,
    "start_time": "2021-08-05T17:50:59.958Z"
   },
   {
    "duration": 7,
    "start_time": "2021-08-05T17:51:00.404Z"
   },
   {
    "duration": 12,
    "start_time": "2021-08-05T17:51:00.412Z"
   },
   {
    "duration": 428,
    "start_time": "2021-08-05T17:51:00.426Z"
   },
   {
    "duration": 310,
    "start_time": "2021-08-05T17:51:00.856Z"
   },
   {
    "duration": -464,
    "start_time": "2021-08-05T17:51:01.632Z"
   },
   {
    "duration": -466,
    "start_time": "2021-08-05T17:51:01.635Z"
   },
   {
    "duration": -467,
    "start_time": "2021-08-05T17:51:01.637Z"
   },
   {
    "duration": -467,
    "start_time": "2021-08-05T17:51:01.639Z"
   },
   {
    "duration": -468,
    "start_time": "2021-08-05T17:51:01.641Z"
   },
   {
    "duration": 8,
    "start_time": "2021-08-05T17:52:12.161Z"
   },
   {
    "duration": 491,
    "start_time": "2021-08-05T17:52:12.800Z"
   },
   {
    "duration": 7,
    "start_time": "2021-08-05T17:52:26.757Z"
   },
   {
    "duration": 10,
    "start_time": "2021-08-05T17:54:40.693Z"
   },
   {
    "duration": 358,
    "start_time": "2021-08-05T17:54:47.219Z"
   },
   {
    "duration": 329,
    "start_time": "2021-08-05T17:54:58.572Z"
   },
   {
    "duration": 4,
    "start_time": "2021-08-05T17:55:11.638Z"
   },
   {
    "duration": 6,
    "start_time": "2021-08-05T17:55:32.308Z"
   },
   {
    "duration": 18,
    "start_time": "2021-08-05T17:55:32.891Z"
   },
   {
    "duration": 610,
    "start_time": "2021-08-05T17:55:34.340Z"
   },
   {
    "duration": 504,
    "start_time": "2021-08-05T17:59:29.587Z"
   },
   {
    "duration": 617,
    "start_time": "2021-08-05T17:59:52.571Z"
   },
   {
    "duration": 238,
    "start_time": "2021-08-05T18:05:08.211Z"
   },
   {
    "duration": 137,
    "start_time": "2021-08-05T18:06:10.808Z"
   },
   {
    "duration": 318,
    "start_time": "2021-08-05T18:06:23.881Z"
   },
   {
    "duration": 617,
    "start_time": "2021-08-05T18:06:40.497Z"
   },
   {
    "duration": 65,
    "start_time": "2021-08-05T18:06:41.116Z"
   },
   {
    "duration": 13,
    "start_time": "2021-08-05T18:06:41.184Z"
   },
   {
    "duration": 12,
    "start_time": "2021-08-05T18:06:41.199Z"
   },
   {
    "duration": 7,
    "start_time": "2021-08-05T18:06:41.213Z"
   },
   {
    "duration": 7,
    "start_time": "2021-08-05T18:06:41.221Z"
   },
   {
    "duration": 24,
    "start_time": "2021-08-05T18:06:41.229Z"
   },
   {
    "duration": 40,
    "start_time": "2021-08-05T18:06:41.256Z"
   },
   {
    "duration": 16,
    "start_time": "2021-08-05T18:06:41.299Z"
   },
   {
    "duration": 24,
    "start_time": "2021-08-05T18:06:41.317Z"
   },
   {
    "duration": 14,
    "start_time": "2021-08-05T18:06:41.343Z"
   },
   {
    "duration": 27,
    "start_time": "2021-08-05T18:06:41.359Z"
   },
   {
    "duration": 18,
    "start_time": "2021-08-05T18:06:41.388Z"
   },
   {
    "duration": 23,
    "start_time": "2021-08-05T18:06:41.407Z"
   },
   {
    "duration": 544,
    "start_time": "2021-08-05T18:06:41.432Z"
   },
   {
    "duration": 20,
    "start_time": "2021-08-05T18:06:41.978Z"
   },
   {
    "duration": 619,
    "start_time": "2021-08-05T18:06:42.000Z"
   },
   {
    "duration": 8,
    "start_time": "2021-08-05T18:06:42.621Z"
   },
   {
    "duration": 21,
    "start_time": "2021-08-05T18:06:42.630Z"
   },
   {
    "duration": 699,
    "start_time": "2021-08-05T18:06:42.653Z"
   },
   {
    "duration": -482,
    "start_time": "2021-08-05T18:06:43.836Z"
   },
   {
    "duration": -482,
    "start_time": "2021-08-05T18:06:43.838Z"
   },
   {
    "duration": -488,
    "start_time": "2021-08-05T18:06:43.844Z"
   },
   {
    "duration": -489,
    "start_time": "2021-08-05T18:06:43.846Z"
   },
   {
    "duration": 419,
    "start_time": "2021-08-05T18:07:15.976Z"
   },
   {
    "duration": 507,
    "start_time": "2021-08-05T18:07:19.874Z"
   },
   {
    "duration": 23,
    "start_time": "2021-08-05T18:07:20.663Z"
   },
   {
    "duration": 7,
    "start_time": "2021-08-05T18:07:27.883Z"
   },
   {
    "duration": 29,
    "start_time": "2021-08-05T18:07:30.297Z"
   },
   {
    "duration": 484,
    "start_time": "2021-08-05T18:07:31.407Z"
   },
   {
    "duration": 311,
    "start_time": "2021-08-05T18:13:44.361Z"
   },
   {
    "duration": 10,
    "start_time": "2021-08-05T18:22:33.171Z"
   },
   {
    "duration": 647,
    "start_time": "2021-08-05T18:22:42.412Z"
   },
   {
    "duration": 740,
    "start_time": "2021-08-05T18:23:21.352Z"
   },
   {
    "duration": 69,
    "start_time": "2021-08-05T18:23:22.095Z"
   },
   {
    "duration": 10,
    "start_time": "2021-08-05T18:23:22.166Z"
   },
   {
    "duration": 9,
    "start_time": "2021-08-05T18:23:22.178Z"
   },
   {
    "duration": 10,
    "start_time": "2021-08-05T18:23:22.189Z"
   },
   {
    "duration": 8,
    "start_time": "2021-08-05T18:23:22.203Z"
   },
   {
    "duration": 21,
    "start_time": "2021-08-05T18:23:22.213Z"
   },
   {
    "duration": 10,
    "start_time": "2021-08-05T18:23:22.236Z"
   },
   {
    "duration": 10,
    "start_time": "2021-08-05T18:23:22.248Z"
   },
   {
    "duration": 9,
    "start_time": "2021-08-05T18:23:22.259Z"
   },
   {
    "duration": 16,
    "start_time": "2021-08-05T18:23:22.269Z"
   },
   {
    "duration": 13,
    "start_time": "2021-08-05T18:23:22.287Z"
   },
   {
    "duration": 11,
    "start_time": "2021-08-05T18:23:22.308Z"
   },
   {
    "duration": 20,
    "start_time": "2021-08-05T18:23:22.321Z"
   },
   {
    "duration": 397,
    "start_time": "2021-08-05T18:23:22.343Z"
   },
   {
    "duration": 9,
    "start_time": "2021-08-05T18:23:22.741Z"
   },
   {
    "duration": 774,
    "start_time": "2021-08-05T18:23:22.752Z"
   },
   {
    "duration": 7,
    "start_time": "2021-08-05T18:23:23.528Z"
   },
   {
    "duration": 12,
    "start_time": "2021-08-05T18:23:23.537Z"
   },
   {
    "duration": 583,
    "start_time": "2021-08-05T18:23:23.551Z"
   },
   {
    "duration": 8,
    "start_time": "2021-08-05T18:23:24.136Z"
   },
   {
    "duration": 27,
    "start_time": "2021-08-05T18:23:24.146Z"
   },
   {
    "duration": 521,
    "start_time": "2021-08-05T18:23:24.193Z"
   },
   {
    "duration": 703,
    "start_time": "2021-08-05T18:23:24.716Z"
   },
   {
    "duration": 307,
    "start_time": "2021-08-05T18:41:32.035Z"
   },
   {
    "duration": 342,
    "start_time": "2021-08-05T18:41:46.346Z"
   },
   {
    "duration": 379,
    "start_time": "2021-08-05T18:42:02.570Z"
   },
   {
    "duration": 323,
    "start_time": "2021-08-05T19:19:46.877Z"
   },
   {
    "duration": 23,
    "start_time": "2021-08-05T19:19:59.904Z"
   },
   {
    "duration": 274,
    "start_time": "2021-08-05T19:22:25.808Z"
   },
   {
    "duration": 246,
    "start_time": "2021-08-05T19:23:25.002Z"
   },
   {
    "duration": 7,
    "start_time": "2021-08-05T19:26:37.647Z"
   },
   {
    "duration": 602,
    "start_time": "2021-08-05T19:26:53.724Z"
   },
   {
    "duration": 48,
    "start_time": "2021-08-05T19:26:54.330Z"
   },
   {
    "duration": 13,
    "start_time": "2021-08-05T19:26:54.380Z"
   },
   {
    "duration": 19,
    "start_time": "2021-08-05T19:26:54.395Z"
   },
   {
    "duration": 34,
    "start_time": "2021-08-05T19:26:54.416Z"
   },
   {
    "duration": 19,
    "start_time": "2021-08-05T19:26:54.451Z"
   },
   {
    "duration": 25,
    "start_time": "2021-08-05T19:26:54.472Z"
   },
   {
    "duration": 9,
    "start_time": "2021-08-05T19:26:54.500Z"
   },
   {
    "duration": 14,
    "start_time": "2021-08-05T19:26:54.511Z"
   },
   {
    "duration": 12,
    "start_time": "2021-08-05T19:26:54.526Z"
   },
   {
    "duration": 16,
    "start_time": "2021-08-05T19:26:54.539Z"
   },
   {
    "duration": 10,
    "start_time": "2021-08-05T19:26:54.556Z"
   },
   {
    "duration": 27,
    "start_time": "2021-08-05T19:26:54.567Z"
   },
   {
    "duration": 15,
    "start_time": "2021-08-05T19:26:54.595Z"
   },
   {
    "duration": 421,
    "start_time": "2021-08-05T19:26:54.612Z"
   },
   {
    "duration": 9,
    "start_time": "2021-08-05T19:26:55.034Z"
   },
   {
    "duration": 428,
    "start_time": "2021-08-05T19:26:55.044Z"
   },
   {
    "duration": 18,
    "start_time": "2021-08-05T19:26:55.473Z"
   },
   {
    "duration": 8,
    "start_time": "2021-08-05T19:26:55.493Z"
   },
   {
    "duration": 379,
    "start_time": "2021-08-05T19:26:55.503Z"
   },
   {
    "duration": 11,
    "start_time": "2021-08-05T19:26:55.884Z"
   },
   {
    "duration": 447,
    "start_time": "2021-08-05T19:26:55.896Z"
   },
   {
    "duration": 70,
    "start_time": "2021-08-05T19:26:56.345Z"
   },
   {
    "duration": -488,
    "start_time": "2021-08-05T19:26:56.906Z"
   },
   {
    "duration": -491,
    "start_time": "2021-08-05T19:26:56.910Z"
   },
   {
    "duration": 572,
    "start_time": "2021-08-05T19:28:32.238Z"
   },
   {
    "duration": 48,
    "start_time": "2021-08-05T19:28:32.812Z"
   },
   {
    "duration": 9,
    "start_time": "2021-08-05T19:28:32.862Z"
   },
   {
    "duration": 8,
    "start_time": "2021-08-05T19:28:32.873Z"
   },
   {
    "duration": 10,
    "start_time": "2021-08-05T19:28:32.883Z"
   },
   {
    "duration": 7,
    "start_time": "2021-08-05T19:28:32.895Z"
   },
   {
    "duration": 19,
    "start_time": "2021-08-05T19:28:32.903Z"
   },
   {
    "duration": 10,
    "start_time": "2021-08-05T19:28:32.924Z"
   },
   {
    "duration": 8,
    "start_time": "2021-08-05T19:28:32.936Z"
   },
   {
    "duration": 7,
    "start_time": "2021-08-05T19:28:32.946Z"
   },
   {
    "duration": 41,
    "start_time": "2021-08-05T19:28:32.955Z"
   },
   {
    "duration": 6,
    "start_time": "2021-08-05T19:28:32.997Z"
   },
   {
    "duration": 9,
    "start_time": "2021-08-05T19:28:33.004Z"
   },
   {
    "duration": 18,
    "start_time": "2021-08-05T19:28:33.014Z"
   },
   {
    "duration": 372,
    "start_time": "2021-08-05T19:28:33.033Z"
   },
   {
    "duration": 8,
    "start_time": "2021-08-05T19:28:33.407Z"
   },
   {
    "duration": 419,
    "start_time": "2021-08-05T19:28:33.417Z"
   },
   {
    "duration": 6,
    "start_time": "2021-08-05T19:28:33.838Z"
   },
   {
    "duration": 10,
    "start_time": "2021-08-05T19:28:33.845Z"
   },
   {
    "duration": 383,
    "start_time": "2021-08-05T19:28:33.857Z"
   },
   {
    "duration": 6,
    "start_time": "2021-08-05T19:28:34.242Z"
   },
   {
    "duration": 432,
    "start_time": "2021-08-05T19:28:34.249Z"
   },
   {
    "duration": 76,
    "start_time": "2021-08-05T19:28:34.683Z"
   },
   {
    "duration": -475,
    "start_time": "2021-08-05T19:28:35.237Z"
   },
   {
    "duration": -476,
    "start_time": "2021-08-05T19:28:35.239Z"
   },
   {
    "duration": 8,
    "start_time": "2021-08-05T19:30:46.813Z"
   },
   {
    "duration": 9,
    "start_time": "2021-08-05T19:31:49.953Z"
   },
   {
    "duration": 8,
    "start_time": "2021-08-05T19:32:18.516Z"
   },
   {
    "duration": 7,
    "start_time": "2021-08-05T19:33:09.583Z"
   },
   {
    "duration": 579,
    "start_time": "2021-08-05T19:34:08.450Z"
   },
   {
    "duration": 52,
    "start_time": "2021-08-05T19:34:09.031Z"
   },
   {
    "duration": 9,
    "start_time": "2021-08-05T19:34:09.084Z"
   },
   {
    "duration": 8,
    "start_time": "2021-08-05T19:34:09.095Z"
   },
   {
    "duration": 4,
    "start_time": "2021-08-05T19:34:09.104Z"
   },
   {
    "duration": 10,
    "start_time": "2021-08-05T19:34:09.110Z"
   },
   {
    "duration": 19,
    "start_time": "2021-08-05T19:34:09.121Z"
   },
   {
    "duration": 11,
    "start_time": "2021-08-05T19:34:09.142Z"
   },
   {
    "duration": 42,
    "start_time": "2021-08-05T19:34:09.155Z"
   },
   {
    "duration": 7,
    "start_time": "2021-08-05T19:34:09.199Z"
   },
   {
    "duration": 11,
    "start_time": "2021-08-05T19:34:09.208Z"
   },
   {
    "duration": 6,
    "start_time": "2021-08-05T19:34:09.222Z"
   },
   {
    "duration": 14,
    "start_time": "2021-08-05T19:34:09.230Z"
   },
   {
    "duration": 21,
    "start_time": "2021-08-05T19:34:09.245Z"
   },
   {
    "duration": 543,
    "start_time": "2021-08-05T19:34:09.267Z"
   },
   {
    "duration": 8,
    "start_time": "2021-08-05T19:34:09.812Z"
   },
   {
    "duration": 440,
    "start_time": "2021-08-05T19:34:09.822Z"
   },
   {
    "duration": 6,
    "start_time": "2021-08-05T19:34:10.264Z"
   },
   {
    "duration": 36,
    "start_time": "2021-08-05T19:34:10.272Z"
   },
   {
    "duration": 379,
    "start_time": "2021-08-05T19:34:10.309Z"
   },
   {
    "duration": 6,
    "start_time": "2021-08-05T19:34:10.689Z"
   },
   {
    "duration": 434,
    "start_time": "2021-08-05T19:34:10.697Z"
   },
   {
    "duration": 73,
    "start_time": "2021-08-05T19:34:11.134Z"
   },
   {
    "duration": -467,
    "start_time": "2021-08-05T19:34:11.677Z"
   },
   {
    "duration": -470,
    "start_time": "2021-08-05T19:34:11.681Z"
   },
   {
    "duration": 613,
    "start_time": "2021-08-05T19:36:46.705Z"
   },
   {
    "duration": 47,
    "start_time": "2021-08-05T19:36:47.320Z"
   },
   {
    "duration": 9,
    "start_time": "2021-08-05T19:36:47.369Z"
   },
   {
    "duration": 14,
    "start_time": "2021-08-05T19:36:47.380Z"
   },
   {
    "duration": 4,
    "start_time": "2021-08-05T19:36:47.396Z"
   },
   {
    "duration": 9,
    "start_time": "2021-08-05T19:36:47.401Z"
   },
   {
    "duration": 7,
    "start_time": "2021-08-05T19:36:47.411Z"
   },
   {
    "duration": 10,
    "start_time": "2021-08-05T19:36:47.419Z"
   },
   {
    "duration": 16,
    "start_time": "2021-08-05T19:36:47.432Z"
   },
   {
    "duration": 9,
    "start_time": "2021-08-05T19:36:47.449Z"
   },
   {
    "duration": 8,
    "start_time": "2021-08-05T19:36:47.491Z"
   },
   {
    "duration": 5,
    "start_time": "2021-08-05T19:36:47.501Z"
   },
   {
    "duration": 21,
    "start_time": "2021-08-05T19:36:47.507Z"
   },
   {
    "duration": 19,
    "start_time": "2021-08-05T19:36:47.530Z"
   },
   {
    "duration": 532,
    "start_time": "2021-08-05T19:36:47.550Z"
   },
   {
    "duration": 16,
    "start_time": "2021-08-05T19:36:48.084Z"
   },
   {
    "duration": 603,
    "start_time": "2021-08-05T19:36:48.102Z"
   },
   {
    "duration": 8,
    "start_time": "2021-08-05T19:36:48.707Z"
   },
   {
    "duration": 13,
    "start_time": "2021-08-05T19:36:48.717Z"
   },
   {
    "duration": 546,
    "start_time": "2021-08-05T19:36:48.732Z"
   },
   {
    "duration": 13,
    "start_time": "2021-08-05T19:36:49.280Z"
   },
   {
    "duration": 475,
    "start_time": "2021-08-05T19:36:49.295Z"
   },
   {
    "duration": 78,
    "start_time": "2021-08-05T19:36:49.771Z"
   },
   {
    "duration": -469,
    "start_time": "2021-08-05T19:36:50.319Z"
   },
   {
    "duration": -471,
    "start_time": "2021-08-05T19:36:50.322Z"
   },
   {
    "duration": 6,
    "start_time": "2021-08-05T19:38:30.481Z"
   },
   {
    "duration": 602,
    "start_time": "2021-08-05T19:38:43.717Z"
   },
   {
    "duration": 48,
    "start_time": "2021-08-05T19:38:44.321Z"
   },
   {
    "duration": 9,
    "start_time": "2021-08-05T19:38:44.371Z"
   },
   {
    "duration": 10,
    "start_time": "2021-08-05T19:38:44.382Z"
   },
   {
    "duration": 4,
    "start_time": "2021-08-05T19:38:44.393Z"
   },
   {
    "duration": 7,
    "start_time": "2021-08-05T19:38:44.399Z"
   },
   {
    "duration": 7,
    "start_time": "2021-08-05T19:38:44.407Z"
   },
   {
    "duration": 9,
    "start_time": "2021-08-05T19:38:44.416Z"
   },
   {
    "duration": 16,
    "start_time": "2021-08-05T19:38:44.427Z"
   },
   {
    "duration": 9,
    "start_time": "2021-08-05T19:38:44.445Z"
   },
   {
    "duration": 42,
    "start_time": "2021-08-05T19:38:44.456Z"
   },
   {
    "duration": 6,
    "start_time": "2021-08-05T19:38:44.500Z"
   },
   {
    "duration": 12,
    "start_time": "2021-08-05T19:38:44.508Z"
   },
   {
    "duration": 16,
    "start_time": "2021-08-05T19:38:44.521Z"
   },
   {
    "duration": 355,
    "start_time": "2021-08-05T19:38:44.538Z"
   },
   {
    "duration": 9,
    "start_time": "2021-08-05T19:38:44.894Z"
   },
   {
    "duration": 422,
    "start_time": "2021-08-05T19:38:44.905Z"
   },
   {
    "duration": 6,
    "start_time": "2021-08-05T19:38:45.329Z"
   },
   {
    "duration": 11,
    "start_time": "2021-08-05T19:38:45.336Z"
   },
   {
    "duration": 375,
    "start_time": "2021-08-05T19:38:45.348Z"
   },
   {
    "duration": 6,
    "start_time": "2021-08-05T19:38:45.725Z"
   },
   {
    "duration": 439,
    "start_time": "2021-08-05T19:38:45.733Z"
   },
   {
    "duration": 83,
    "start_time": "2021-08-05T19:38:46.175Z"
   },
   {
    "duration": -470,
    "start_time": "2021-08-05T19:38:46.730Z"
   },
   {
    "duration": -473,
    "start_time": "2021-08-05T19:38:46.734Z"
   },
   {
    "duration": 297,
    "start_time": "2021-08-05T19:42:06.552Z"
   },
   {
    "duration": 464,
    "start_time": "2021-08-05T19:43:15.665Z"
   },
   {
    "duration": 474,
    "start_time": "2021-08-05T19:44:24.354Z"
   },
   {
    "duration": 524,
    "start_time": "2021-08-05T19:45:50.206Z"
   },
   {
    "duration": 524,
    "start_time": "2021-08-05T19:46:57.912Z"
   },
   {
    "duration": 487,
    "start_time": "2021-08-05T19:47:40.040Z"
   },
   {
    "duration": 484,
    "start_time": "2021-08-05T19:48:27.552Z"
   },
   {
    "duration": 507,
    "start_time": "2021-08-05T19:52:05.034Z"
   },
   {
    "duration": 461,
    "start_time": "2021-08-05T19:53:09.156Z"
   },
   {
    "duration": 566,
    "start_time": "2021-08-05T19:54:21.061Z"
   },
   {
    "duration": 627,
    "start_time": "2021-08-05T19:56:36.792Z"
   },
   {
    "duration": 525,
    "start_time": "2021-08-05T19:57:50.116Z"
   },
   {
    "duration": 549,
    "start_time": "2021-08-05T19:58:52.075Z"
   },
   {
    "duration": 556,
    "start_time": "2021-08-05T19:59:23.080Z"
   },
   {
    "duration": 658,
    "start_time": "2021-08-05T20:01:33.206Z"
   },
   {
    "duration": 713,
    "start_time": "2021-08-05T20:04:34.263Z"
   },
   {
    "duration": 541,
    "start_time": "2021-08-05T20:05:03.987Z"
   },
   {
    "duration": 443,
    "start_time": "2021-08-05T20:16:57.816Z"
   },
   {
    "duration": 475,
    "start_time": "2021-08-05T20:17:41.179Z"
   },
   {
    "duration": 5,
    "start_time": "2021-08-05T20:23:25.452Z"
   },
   {
    "duration": 315,
    "start_time": "2021-08-05T20:23:26.776Z"
   },
   {
    "duration": 475,
    "start_time": "2021-08-05T20:23:40.631Z"
   },
   {
    "duration": 5,
    "start_time": "2021-08-05T20:23:52.789Z"
   },
   {
    "duration": 513,
    "start_time": "2021-08-05T20:23:54.702Z"
   },
   {
    "duration": 652,
    "start_time": "2021-08-05T22:23:04.783Z"
   },
   {
    "duration": 539,
    "start_time": "2021-08-05T22:23:24.898Z"
   },
   {
    "duration": 570,
    "start_time": "2021-08-05T22:24:16.541Z"
   },
   {
    "duration": 47,
    "start_time": "2021-08-05T22:24:17.113Z"
   },
   {
    "duration": 9,
    "start_time": "2021-08-05T22:24:17.162Z"
   },
   {
    "duration": 8,
    "start_time": "2021-08-05T22:24:17.172Z"
   },
   {
    "duration": 11,
    "start_time": "2021-08-05T22:24:17.182Z"
   },
   {
    "duration": 8,
    "start_time": "2021-08-05T22:24:17.194Z"
   },
   {
    "duration": 9,
    "start_time": "2021-08-05T22:24:17.203Z"
   },
   {
    "duration": 8,
    "start_time": "2021-08-05T22:24:17.215Z"
   },
   {
    "duration": 17,
    "start_time": "2021-08-05T22:24:17.226Z"
   },
   {
    "duration": 9,
    "start_time": "2021-08-05T22:24:17.244Z"
   },
   {
    "duration": 44,
    "start_time": "2021-08-05T22:24:17.254Z"
   },
   {
    "duration": 6,
    "start_time": "2021-08-05T22:24:17.299Z"
   },
   {
    "duration": 11,
    "start_time": "2021-08-05T22:24:17.306Z"
   },
   {
    "duration": 20,
    "start_time": "2021-08-05T22:24:17.318Z"
   },
   {
    "duration": 349,
    "start_time": "2021-08-05T22:24:17.339Z"
   },
   {
    "duration": 9,
    "start_time": "2021-08-05T22:24:17.691Z"
   },
   {
    "duration": 415,
    "start_time": "2021-08-05T22:24:17.702Z"
   },
   {
    "duration": 7,
    "start_time": "2021-08-05T22:24:18.119Z"
   },
   {
    "duration": 10,
    "start_time": "2021-08-05T22:24:18.127Z"
   },
   {
    "duration": 376,
    "start_time": "2021-08-05T22:24:18.138Z"
   },
   {
    "duration": 6,
    "start_time": "2021-08-05T22:24:18.516Z"
   },
   {
    "duration": 420,
    "start_time": "2021-08-05T22:24:18.523Z"
   },
   {
    "duration": 3,
    "start_time": "2021-08-05T22:24:18.946Z"
   },
   {
    "duration": 479,
    "start_time": "2021-08-05T22:24:18.951Z"
   },
   {
    "duration": 494,
    "start_time": "2021-08-05T22:24:19.431Z"
   },
   {
    "duration": 615,
    "start_time": "2021-08-05T22:24:19.927Z"
   },
   {
    "duration": 657,
    "start_time": "2021-08-05T22:24:44.861Z"
   },
   {
    "duration": 4,
    "start_time": "2021-08-05T22:26:04.838Z"
   },
   {
    "duration": 606,
    "start_time": "2021-08-05T22:26:14.309Z"
   },
   {
    "duration": 4,
    "start_time": "2021-08-05T22:28:43.438Z"
   },
   {
    "duration": 540,
    "start_time": "2021-08-05T22:28:44.181Z"
   },
   {
    "duration": 4,
    "start_time": "2021-08-05T22:29:31.735Z"
   },
   {
    "duration": 471,
    "start_time": "2021-08-05T22:29:32.351Z"
   },
   {
    "duration": 480,
    "start_time": "2021-08-05T22:29:46.391Z"
   },
   {
    "duration": 634,
    "start_time": "2021-08-05T22:30:24.296Z"
   },
   {
    "duration": 48,
    "start_time": "2021-08-05T22:30:24.934Z"
   },
   {
    "duration": 9,
    "start_time": "2021-08-05T22:30:24.984Z"
   },
   {
    "duration": 8,
    "start_time": "2021-08-05T22:30:24.995Z"
   },
   {
    "duration": 4,
    "start_time": "2021-08-05T22:30:25.004Z"
   },
   {
    "duration": 7,
    "start_time": "2021-08-05T22:30:25.009Z"
   },
   {
    "duration": 7,
    "start_time": "2021-08-05T22:30:25.018Z"
   },
   {
    "duration": 11,
    "start_time": "2021-08-05T22:30:25.026Z"
   },
   {
    "duration": 18,
    "start_time": "2021-08-05T22:30:25.039Z"
   },
   {
    "duration": 37,
    "start_time": "2021-08-05T22:30:25.059Z"
   },
   {
    "duration": 10,
    "start_time": "2021-08-05T22:30:25.097Z"
   },
   {
    "duration": 5,
    "start_time": "2021-08-05T22:30:25.108Z"
   },
   {
    "duration": 10,
    "start_time": "2021-08-05T22:30:25.114Z"
   },
   {
    "duration": 18,
    "start_time": "2021-08-05T22:30:25.126Z"
   },
   {
    "duration": 351,
    "start_time": "2021-08-05T22:30:25.145Z"
   },
   {
    "duration": 9,
    "start_time": "2021-08-05T22:30:25.497Z"
   },
   {
    "duration": 413,
    "start_time": "2021-08-05T22:30:25.508Z"
   },
   {
    "duration": 6,
    "start_time": "2021-08-05T22:30:25.923Z"
   },
   {
    "duration": 10,
    "start_time": "2021-08-05T22:30:25.930Z"
   },
   {
    "duration": 371,
    "start_time": "2021-08-05T22:30:25.942Z"
   },
   {
    "duration": 8,
    "start_time": "2021-08-05T22:30:26.315Z"
   },
   {
    "duration": 431,
    "start_time": "2021-08-05T22:30:26.326Z"
   },
   {
    "duration": 3,
    "start_time": "2021-08-05T22:30:26.759Z"
   },
   {
    "duration": 470,
    "start_time": "2021-08-05T22:30:26.764Z"
   },
   {
    "duration": 490,
    "start_time": "2021-08-05T22:30:27.236Z"
   },
   {
    "duration": -881,
    "start_time": "2021-08-05T22:30:28.609Z"
   },
   {
    "duration": 498,
    "start_time": "2021-08-05T22:32:16.231Z"
   },
   {
    "duration": 486,
    "start_time": "2021-08-05T22:34:32.893Z"
   },
   {
    "duration": 454,
    "start_time": "2021-08-05T22:34:59.243Z"
   },
   {
    "duration": 546,
    "start_time": "2021-08-05T22:35:09.196Z"
   },
   {
    "duration": 20,
    "start_time": "2021-08-05T22:38:04.442Z"
   },
   {
    "duration": 4,
    "start_time": "2021-08-05T22:39:05.201Z"
   },
   {
    "duration": 297,
    "start_time": "2021-08-05T22:39:05.873Z"
   },
   {
    "duration": 21,
    "start_time": "2021-08-05T22:39:17.706Z"
   },
   {
    "duration": 475,
    "start_time": "2021-08-05T22:39:18.687Z"
   },
   {
    "duration": 7,
    "start_time": "2021-08-05T22:40:13.674Z"
   },
   {
    "duration": 8,
    "start_time": "2021-08-05T22:40:32.018Z"
   },
   {
    "duration": 434,
    "start_time": "2021-08-05T22:41:23.312Z"
   },
   {
    "duration": 8,
    "start_time": "2021-08-05T22:41:36.785Z"
   },
   {
    "duration": 7,
    "start_time": "2021-08-05T22:41:59.240Z"
   },
   {
    "duration": 8,
    "start_time": "2021-08-05T22:43:05.920Z"
   },
   {
    "duration": 9,
    "start_time": "2021-08-05T22:43:11.064Z"
   },
   {
    "duration": 4,
    "start_time": "2021-08-05T22:43:28.224Z"
   },
   {
    "duration": 521,
    "start_time": "2021-08-05T22:43:29.088Z"
   },
   {
    "duration": 7,
    "start_time": "2021-08-05T22:43:40.103Z"
   },
   {
    "duration": 513,
    "start_time": "2021-08-05T22:43:40.859Z"
   },
   {
    "duration": 4,
    "start_time": "2021-08-05T22:48:36.927Z"
   },
   {
    "duration": 460,
    "start_time": "2021-08-05T22:48:37.783Z"
   },
   {
    "duration": 7,
    "start_time": "2021-08-05T22:48:42.647Z"
   },
   {
    "duration": 624,
    "start_time": "2021-08-05T22:48:46.550Z"
   },
   {
    "duration": 484,
    "start_time": "2021-08-05T22:48:51.134Z"
   },
   {
    "duration": 5,
    "start_time": "2021-08-05T22:49:15.095Z"
   },
   {
    "duration": 556,
    "start_time": "2021-08-05T22:49:15.880Z"
   },
   {
    "duration": 524,
    "start_time": "2021-08-05T22:49:17.495Z"
   },
   {
    "duration": 576,
    "start_time": "2021-08-05T22:51:34.670Z"
   },
   {
    "duration": 446,
    "start_time": "2021-08-05T22:54:10.045Z"
   },
   {
    "duration": 5,
    "start_time": "2021-08-05T22:56:51.461Z"
   },
   {
    "duration": 5,
    "start_time": "2021-08-05T22:57:00.239Z"
   },
   {
    "duration": 2106,
    "start_time": "2021-08-05T22:58:05.556Z"
   },
   {
    "duration": 1138,
    "start_time": "2021-08-05T23:01:58.823Z"
   },
   {
    "duration": 234,
    "start_time": "2021-08-05T23:02:21.269Z"
   },
   {
    "duration": 560,
    "start_time": "2021-08-05T23:02:57.764Z"
   },
   {
    "duration": 555,
    "start_time": "2021-08-05T23:05:13.778Z"
   },
   {
    "duration": 543,
    "start_time": "2021-08-05T23:05:15.386Z"
   },
   {
    "duration": 86,
    "start_time": "2021-08-05T23:07:02.025Z"
   },
   {
    "duration": 485,
    "start_time": "2021-08-05T23:07:08.144Z"
   },
   {
    "duration": 483,
    "start_time": "2021-08-05T23:07:09.850Z"
   },
   {
    "duration": 12,
    "start_time": "2021-08-05T23:14:32.851Z"
   },
   {
    "duration": 6,
    "start_time": "2021-08-05T23:14:59.611Z"
   },
   {
    "duration": 7,
    "start_time": "2021-08-05T23:15:22.472Z"
   },
   {
    "duration": 161,
    "start_time": "2021-08-05T23:16:32.734Z"
   },
   {
    "duration": 244,
    "start_time": "2021-08-05T23:17:15.325Z"
   },
   {
    "duration": 211,
    "start_time": "2021-08-05T23:19:22.855Z"
   },
   {
    "duration": 226,
    "start_time": "2021-08-05T23:19:39.254Z"
   },
   {
    "duration": 210,
    "start_time": "2021-08-05T23:20:59.246Z"
   },
   {
    "duration": 216,
    "start_time": "2021-08-05T23:21:22.278Z"
   },
   {
    "duration": 457,
    "start_time": "2021-08-05T23:21:54.973Z"
   },
   {
    "duration": 217,
    "start_time": "2021-08-05T23:27:16.309Z"
   },
   {
    "duration": 14,
    "start_time": "2021-08-05T23:30:50.556Z"
   },
   {
    "duration": 246,
    "start_time": "2021-08-05T23:31:15.395Z"
   },
   {
    "duration": 251,
    "start_time": "2021-08-05T23:31:52.222Z"
   },
   {
    "duration": 296,
    "start_time": "2021-08-05T23:32:24.595Z"
   },
   {
    "duration": 279,
    "start_time": "2021-08-05T23:32:58.634Z"
   },
   {
    "duration": 245,
    "start_time": "2021-08-05T23:33:54.482Z"
   },
   {
    "duration": 256,
    "start_time": "2021-08-05T23:34:21.491Z"
   },
   {
    "duration": 22,
    "start_time": "2021-08-05T23:34:44.546Z"
   },
   {
    "duration": 241,
    "start_time": "2021-08-05T23:35:44.250Z"
   },
   {
    "duration": 266,
    "start_time": "2021-08-05T23:36:53.962Z"
   },
   {
    "duration": 21,
    "start_time": "2021-08-05T23:37:15.058Z"
   },
   {
    "duration": 245,
    "start_time": "2021-08-05T23:38:19.458Z"
   },
   {
    "duration": 249,
    "start_time": "2021-08-05T23:41:36.295Z"
   },
   {
    "duration": 233,
    "start_time": "2021-08-05T23:42:10.800Z"
   },
   {
    "duration": 235,
    "start_time": "2021-08-05T23:42:25.744Z"
   },
   {
    "duration": 19,
    "start_time": "2021-08-05T23:43:48.639Z"
   },
   {
    "duration": 21,
    "start_time": "2021-08-05T23:44:34.008Z"
   },
   {
    "duration": 263,
    "start_time": "2021-08-05T23:44:48.807Z"
   },
   {
    "duration": 334,
    "start_time": "2021-08-05T23:47:24.510Z"
   },
   {
    "duration": 272,
    "start_time": "2021-08-05T23:50:40.612Z"
   },
   {
    "duration": 316,
    "start_time": "2021-08-05T23:57:31.060Z"
   },
   {
    "duration": 245,
    "start_time": "2021-08-06T00:03:24.826Z"
   },
   {
    "duration": 553,
    "start_time": "2021-08-06T00:05:43.458Z"
   },
   {
    "duration": 616,
    "start_time": "2021-08-06T00:05:56.312Z"
   },
   {
    "duration": 231,
    "start_time": "2021-08-06T00:07:11.624Z"
   },
   {
    "duration": 239,
    "start_time": "2021-08-06T00:07:39.457Z"
   },
   {
    "duration": 236,
    "start_time": "2021-08-06T00:09:14.728Z"
   },
   {
    "duration": 942,
    "start_time": "2021-08-06T10:11:45.274Z"
   },
   {
    "duration": 72,
    "start_time": "2021-08-06T10:11:46.218Z"
   },
   {
    "duration": 15,
    "start_time": "2021-08-06T10:11:46.292Z"
   },
   {
    "duration": 12,
    "start_time": "2021-08-06T10:11:46.310Z"
   },
   {
    "duration": 6,
    "start_time": "2021-08-06T10:11:46.325Z"
   },
   {
    "duration": 53,
    "start_time": "2021-08-06T10:11:46.334Z"
   },
   {
    "duration": 11,
    "start_time": "2021-08-06T10:11:46.389Z"
   },
   {
    "duration": 17,
    "start_time": "2021-08-06T10:11:46.403Z"
   },
   {
    "duration": 43,
    "start_time": "2021-08-06T10:11:46.423Z"
   },
   {
    "duration": 30,
    "start_time": "2021-08-06T10:11:46.468Z"
   },
   {
    "duration": 15,
    "start_time": "2021-08-06T10:11:46.501Z"
   },
   {
    "duration": 12,
    "start_time": "2021-08-06T10:11:46.518Z"
   },
   {
    "duration": 28,
    "start_time": "2021-08-06T10:11:46.533Z"
   },
   {
    "duration": 41,
    "start_time": "2021-08-06T10:11:46.563Z"
   },
   {
    "duration": 652,
    "start_time": "2021-08-06T10:11:46.607Z"
   },
   {
    "duration": 25,
    "start_time": "2021-08-06T10:11:47.262Z"
   },
   {
    "duration": 750,
    "start_time": "2021-08-06T10:11:47.289Z"
   },
   {
    "duration": 10,
    "start_time": "2021-08-06T10:11:48.041Z"
   },
   {
    "duration": 36,
    "start_time": "2021-08-06T10:11:48.054Z"
   },
   {
    "duration": 673,
    "start_time": "2021-08-06T10:11:48.092Z"
   },
   {
    "duration": 24,
    "start_time": "2021-08-06T10:11:48.768Z"
   },
   {
    "duration": 715,
    "start_time": "2021-08-06T10:11:48.795Z"
   },
   {
    "duration": 5,
    "start_time": "2021-08-06T10:11:49.514Z"
   },
   {
    "duration": 820,
    "start_time": "2021-08-06T10:11:49.522Z"
   },
   {
    "duration": 794,
    "start_time": "2021-08-06T10:11:50.344Z"
   },
   {
    "duration": 813,
    "start_time": "2021-08-06T10:11:51.140Z"
   },
   {
    "duration": 145,
    "start_time": "2021-08-06T10:11:51.955Z"
   },
   {
    "duration": -1019,
    "start_time": "2021-08-06T10:11:53.121Z"
   },
   {
    "duration": -1021,
    "start_time": "2021-08-06T10:11:53.124Z"
   },
   {
    "duration": 15,
    "start_time": "2021-08-06T10:23:04.951Z"
   },
   {
    "duration": 14,
    "start_time": "2021-08-06T10:23:09.555Z"
   },
   {
    "duration": 1059,
    "start_time": "2021-08-06T10:23:18.643Z"
   },
   {
    "duration": 15,
    "start_time": "2021-08-06T10:23:36.091Z"
   },
   {
    "duration": 914,
    "start_time": "2021-08-06T10:23:58.340Z"
   },
   {
    "duration": 14,
    "start_time": "2021-08-06T10:24:25.259Z"
   },
   {
    "duration": 658,
    "start_time": "2021-08-06T10:24:27.011Z"
   },
   {
    "duration": 428,
    "start_time": "2021-08-06T10:24:55.679Z"
   },
   {
    "duration": 11,
    "start_time": "2021-08-06T10:31:21.319Z"
   },
   {
    "duration": 143,
    "start_time": "2021-08-06T10:36:01.025Z"
   },
   {
    "duration": 424,
    "start_time": "2021-08-06T10:36:07.832Z"
   },
   {
    "duration": 5,
    "start_time": "2021-08-06T10:36:40.497Z"
   },
   {
    "duration": 448,
    "start_time": "2021-08-06T10:37:07.625Z"
   },
   {
    "duration": 17,
    "start_time": "2021-08-06T10:37:28.776Z"
   },
   {
    "duration": 17,
    "start_time": "2021-08-06T10:38:36.000Z"
   },
   {
    "duration": 17,
    "start_time": "2021-08-06T10:38:54.882Z"
   },
   {
    "duration": 136,
    "start_time": "2021-08-06T10:51:12.751Z"
   },
   {
    "duration": 6,
    "start_time": "2021-08-06T10:55:45.404Z"
   },
   {
    "duration": 19,
    "start_time": "2021-08-06T10:57:36.921Z"
   },
   {
    "duration": 17,
    "start_time": "2021-08-06T10:57:49.370Z"
   },
   {
    "duration": 18,
    "start_time": "2021-08-06T10:58:18.498Z"
   },
   {
    "duration": 16,
    "start_time": "2021-08-06T10:58:40.254Z"
   },
   {
    "duration": 278,
    "start_time": "2021-08-06T11:10:18.530Z"
   },
   {
    "duration": 184,
    "start_time": "2021-08-06T11:10:44.095Z"
   },
   {
    "duration": 262,
    "start_time": "2021-08-06T11:11:13.311Z"
   },
   {
    "duration": 330,
    "start_time": "2021-08-06T11:12:14.455Z"
   },
   {
    "duration": 596,
    "start_time": "2021-08-06T11:12:50.822Z"
   },
   {
    "duration": 597,
    "start_time": "2021-08-06T11:14:07.214Z"
   },
   {
    "duration": 644,
    "start_time": "2021-08-06T11:14:33.798Z"
   },
   {
    "duration": 622,
    "start_time": "2021-08-06T11:15:46.279Z"
   },
   {
    "duration": 689,
    "start_time": "2021-08-06T11:29:47.178Z"
   },
   {
    "duration": 590,
    "start_time": "2021-08-06T11:49:49.124Z"
   },
   {
    "duration": 629,
    "start_time": "2021-08-06T11:50:00.768Z"
   },
   {
    "duration": 607,
    "start_time": "2021-08-06T11:50:12.181Z"
   },
   {
    "duration": 658,
    "start_time": "2021-08-06T11:50:19.570Z"
   },
   {
    "duration": 10188,
    "start_time": "2021-08-06T11:59:44.082Z"
   },
   {
    "duration": 34,
    "start_time": "2021-08-06T12:00:06.784Z"
   },
   {
    "duration": 381,
    "start_time": "2021-08-06T12:03:30.128Z"
   },
   {
    "duration": 175,
    "start_time": "2021-08-06T12:03:38.622Z"
   },
   {
    "duration": 376,
    "start_time": "2021-08-06T12:03:51.944Z"
   },
   {
    "duration": 11,
    "start_time": "2021-08-06T12:04:00.367Z"
   },
   {
    "duration": 391,
    "start_time": "2021-08-06T12:04:25.950Z"
   },
   {
    "duration": 11,
    "start_time": "2021-08-06T12:05:11.279Z"
   },
   {
    "duration": 852,
    "start_time": "2021-08-06T12:06:19.213Z"
   },
   {
    "duration": 441,
    "start_time": "2021-08-06T12:06:29.174Z"
   },
   {
    "duration": 47,
    "start_time": "2021-08-06T12:12:38.814Z"
   },
   {
    "duration": 55,
    "start_time": "2021-08-06T12:12:58.077Z"
   },
   {
    "duration": 7,
    "start_time": "2021-08-06T12:13:31.608Z"
   },
   {
    "duration": 11,
    "start_time": "2021-08-06T12:13:36.502Z"
   },
   {
    "duration": 12,
    "start_time": "2021-08-06T12:14:35.099Z"
   },
   {
    "duration": 14,
    "start_time": "2021-08-06T12:15:17.680Z"
   },
   {
    "duration": 15,
    "start_time": "2021-08-06T12:19:32.497Z"
   },
   {
    "duration": 15,
    "start_time": "2021-08-06T12:19:47.329Z"
   },
   {
    "duration": 556,
    "start_time": "2021-08-06T12:20:09.417Z"
   },
   {
    "duration": 930,
    "start_time": "2021-08-06T12:21:08.766Z"
   },
   {
    "duration": 72,
    "start_time": "2021-08-06T12:21:09.699Z"
   },
   {
    "duration": 19,
    "start_time": "2021-08-06T12:21:09.774Z"
   },
   {
    "duration": 13,
    "start_time": "2021-08-06T12:21:09.796Z"
   },
   {
    "duration": 6,
    "start_time": "2021-08-06T12:21:09.811Z"
   },
   {
    "duration": 12,
    "start_time": "2021-08-06T12:21:09.820Z"
   },
   {
    "duration": 52,
    "start_time": "2021-08-06T12:21:09.835Z"
   },
   {
    "duration": 22,
    "start_time": "2021-08-06T12:21:09.890Z"
   },
   {
    "duration": 707,
    "start_time": "2021-08-06T12:21:09.915Z"
   },
   {
    "duration": -1044,
    "start_time": "2021-08-06T12:21:11.669Z"
   },
   {
    "duration": -1045,
    "start_time": "2021-08-06T12:21:11.672Z"
   },
   {
    "duration": -1046,
    "start_time": "2021-08-06T12:21:11.675Z"
   },
   {
    "duration": -1048,
    "start_time": "2021-08-06T12:21:11.678Z"
   },
   {
    "duration": -1050,
    "start_time": "2021-08-06T12:21:11.681Z"
   },
   {
    "duration": -1050,
    "start_time": "2021-08-06T12:21:11.683Z"
   },
   {
    "duration": -1051,
    "start_time": "2021-08-06T12:21:11.685Z"
   },
   {
    "duration": -1051,
    "start_time": "2021-08-06T12:21:11.687Z"
   },
   {
    "duration": -1052,
    "start_time": "2021-08-06T12:21:11.689Z"
   },
   {
    "duration": -1052,
    "start_time": "2021-08-06T12:21:11.691Z"
   },
   {
    "duration": -1053,
    "start_time": "2021-08-06T12:21:11.693Z"
   },
   {
    "duration": -1055,
    "start_time": "2021-08-06T12:21:11.696Z"
   },
   {
    "duration": -1058,
    "start_time": "2021-08-06T12:21:11.701Z"
   },
   {
    "duration": -1060,
    "start_time": "2021-08-06T12:21:11.704Z"
   },
   {
    "duration": -1068,
    "start_time": "2021-08-06T12:21:11.713Z"
   },
   {
    "duration": -1070,
    "start_time": "2021-08-06T12:21:11.716Z"
   },
   {
    "duration": -1071,
    "start_time": "2021-08-06T12:21:11.719Z"
   },
   {
    "duration": -1072,
    "start_time": "2021-08-06T12:21:11.721Z"
   },
   {
    "duration": -1076,
    "start_time": "2021-08-06T12:21:11.726Z"
   },
   {
    "duration": -1079,
    "start_time": "2021-08-06T12:21:11.730Z"
   },
   {
    "duration": -1086,
    "start_time": "2021-08-06T12:21:11.739Z"
   },
   {
    "duration": -1088,
    "start_time": "2021-08-06T12:21:11.742Z"
   },
   {
    "duration": 425,
    "start_time": "2021-08-06T12:22:31.879Z"
   },
   {
    "duration": 44,
    "start_time": "2021-08-06T12:24:10.760Z"
   },
   {
    "duration": 14,
    "start_time": "2021-08-06T12:25:00.767Z"
   },
   {
    "duration": 54,
    "start_time": "2021-08-06T12:25:44.462Z"
   },
   {
    "duration": 49,
    "start_time": "2021-08-06T12:27:30.183Z"
   },
   {
    "duration": 1572,
    "start_time": "2021-08-06T12:44:48.409Z"
   },
   {
    "duration": 71,
    "start_time": "2021-08-06T12:44:49.984Z"
   },
   {
    "duration": 15,
    "start_time": "2021-08-06T12:44:50.059Z"
   },
   {
    "duration": 13,
    "start_time": "2021-08-06T12:44:50.087Z"
   },
   {
    "duration": 7,
    "start_time": "2021-08-06T12:44:50.102Z"
   },
   {
    "duration": 17,
    "start_time": "2021-08-06T12:44:50.111Z"
   },
   {
    "duration": 11,
    "start_time": "2021-08-06T12:44:50.131Z"
   },
   {
    "duration": 49,
    "start_time": "2021-08-06T12:44:50.144Z"
   },
   {
    "duration": 18,
    "start_time": "2021-08-06T12:44:50.199Z"
   },
   {
    "duration": 14,
    "start_time": "2021-08-06T12:44:50.221Z"
   },
   {
    "duration": 48,
    "start_time": "2021-08-06T12:44:50.238Z"
   },
   {
    "duration": 19,
    "start_time": "2021-08-06T12:44:50.289Z"
   },
   {
    "duration": 137,
    "start_time": "2021-08-06T12:44:50.311Z"
   },
   {
    "duration": -1046,
    "start_time": "2021-08-06T12:44:51.496Z"
   },
   {
    "duration": -1047,
    "start_time": "2021-08-06T12:44:51.499Z"
   },
   {
    "duration": -1049,
    "start_time": "2021-08-06T12:44:51.502Z"
   },
   {
    "duration": -1051,
    "start_time": "2021-08-06T12:44:51.506Z"
   },
   {
    "duration": -1052,
    "start_time": "2021-08-06T12:44:51.508Z"
   },
   {
    "duration": -1052,
    "start_time": "2021-08-06T12:44:51.510Z"
   },
   {
    "duration": -1059,
    "start_time": "2021-08-06T12:44:51.518Z"
   },
   {
    "duration": -1060,
    "start_time": "2021-08-06T12:44:51.521Z"
   },
   {
    "duration": -1063,
    "start_time": "2021-08-06T12:44:51.525Z"
   },
   {
    "duration": -1066,
    "start_time": "2021-08-06T12:44:51.530Z"
   },
   {
    "duration": -1068,
    "start_time": "2021-08-06T12:44:51.533Z"
   },
   {
    "duration": -1069,
    "start_time": "2021-08-06T12:44:51.536Z"
   },
   {
    "duration": -1071,
    "start_time": "2021-08-06T12:44:51.539Z"
   },
   {
    "duration": -1073,
    "start_time": "2021-08-06T12:44:51.542Z"
   },
   {
    "duration": -1077,
    "start_time": "2021-08-06T12:44:51.548Z"
   },
   {
    "duration": -1079,
    "start_time": "2021-08-06T12:44:51.551Z"
   },
   {
    "duration": -1080,
    "start_time": "2021-08-06T12:44:51.554Z"
   },
   {
    "duration": 910,
    "start_time": "2021-08-06T12:50:35.608Z"
   },
   {
    "duration": 73,
    "start_time": "2021-08-06T12:50:36.521Z"
   },
   {
    "duration": 14,
    "start_time": "2021-08-06T12:50:36.597Z"
   },
   {
    "duration": 20,
    "start_time": "2021-08-06T12:50:36.613Z"
   },
   {
    "duration": 10,
    "start_time": "2021-08-06T12:50:36.635Z"
   },
   {
    "duration": 38,
    "start_time": "2021-08-06T12:50:36.647Z"
   },
   {
    "duration": 11,
    "start_time": "2021-08-06T12:50:36.687Z"
   },
   {
    "duration": 15,
    "start_time": "2021-08-06T12:50:36.701Z"
   },
   {
    "duration": 21,
    "start_time": "2021-08-06T12:50:36.719Z"
   },
   {
    "duration": 12,
    "start_time": "2021-08-06T12:50:36.742Z"
   },
   {
    "duration": 6,
    "start_time": "2021-08-06T12:50:36.786Z"
   },
   {
    "duration": 16,
    "start_time": "2021-08-06T12:50:36.794Z"
   },
   {
    "duration": 134,
    "start_time": "2021-08-06T12:50:36.812Z"
   },
   {
    "duration": -1066,
    "start_time": "2021-08-06T12:50:38.015Z"
   },
   {
    "duration": -1068,
    "start_time": "2021-08-06T12:50:38.018Z"
   },
   {
    "duration": -1069,
    "start_time": "2021-08-06T12:50:38.021Z"
   },
   {
    "duration": -1071,
    "start_time": "2021-08-06T12:50:38.024Z"
   },
   {
    "duration": -1086,
    "start_time": "2021-08-06T12:50:38.041Z"
   },
   {
    "duration": -1089,
    "start_time": "2021-08-06T12:50:38.045Z"
   },
   {
    "duration": -1090,
    "start_time": "2021-08-06T12:50:38.047Z"
   },
   {
    "duration": -1091,
    "start_time": "2021-08-06T12:50:38.049Z"
   },
   {
    "duration": -1091,
    "start_time": "2021-08-06T12:50:38.051Z"
   },
   {
    "duration": -1092,
    "start_time": "2021-08-06T12:50:38.053Z"
   },
   {
    "duration": -1094,
    "start_time": "2021-08-06T12:50:38.056Z"
   },
   {
    "duration": -1096,
    "start_time": "2021-08-06T12:50:38.059Z"
   },
   {
    "duration": -1099,
    "start_time": "2021-08-06T12:50:38.063Z"
   },
   {
    "duration": -1099,
    "start_time": "2021-08-06T12:50:38.065Z"
   },
   {
    "duration": -1100,
    "start_time": "2021-08-06T12:50:38.067Z"
   },
   {
    "duration": -1102,
    "start_time": "2021-08-06T12:50:38.070Z"
   },
   {
    "duration": -1104,
    "start_time": "2021-08-06T12:50:38.073Z"
   },
   {
    "duration": 1023,
    "start_time": "2021-08-06T12:50:58.934Z"
   },
   {
    "duration": 71,
    "start_time": "2021-08-06T12:50:59.960Z"
   },
   {
    "duration": 14,
    "start_time": "2021-08-06T12:51:00.034Z"
   },
   {
    "duration": 37,
    "start_time": "2021-08-06T12:51:00.051Z"
   },
   {
    "duration": 7,
    "start_time": "2021-08-06T12:51:00.091Z"
   },
   {
    "duration": 22,
    "start_time": "2021-08-06T12:51:00.100Z"
   },
   {
    "duration": 13,
    "start_time": "2021-08-06T12:51:00.125Z"
   },
   {
    "duration": 46,
    "start_time": "2021-08-06T12:51:00.141Z"
   },
   {
    "duration": 17,
    "start_time": "2021-08-06T12:51:00.191Z"
   },
   {
    "duration": 13,
    "start_time": "2021-08-06T12:51:00.211Z"
   },
   {
    "duration": 17,
    "start_time": "2021-08-06T12:51:00.227Z"
   },
   {
    "duration": 41,
    "start_time": "2021-08-06T12:51:00.246Z"
   },
   {
    "duration": 22,
    "start_time": "2021-08-06T12:51:00.289Z"
   },
   {
    "duration": 668,
    "start_time": "2021-08-06T12:51:00.313Z"
   },
   {
    "duration": 12,
    "start_time": "2021-08-06T12:51:00.986Z"
   },
   {
    "duration": 785,
    "start_time": "2021-08-06T12:51:01.000Z"
   },
   {
    "duration": 9,
    "start_time": "2021-08-06T12:51:01.787Z"
   },
   {
    "duration": 44,
    "start_time": "2021-08-06T12:51:01.798Z"
   },
   {
    "duration": 694,
    "start_time": "2021-08-06T12:51:01.845Z"
   },
   {
    "duration": 9,
    "start_time": "2021-08-06T12:51:02.541Z"
   },
   {
    "duration": 856,
    "start_time": "2021-08-06T12:51:02.552Z"
   },
   {
    "duration": 6,
    "start_time": "2021-08-06T12:51:03.410Z"
   },
   {
    "duration": 856,
    "start_time": "2021-08-06T12:51:03.418Z"
   },
   {
    "duration": 817,
    "start_time": "2021-08-06T12:51:04.276Z"
   },
   {
    "duration": 899,
    "start_time": "2021-08-06T12:51:05.097Z"
   },
   {
    "duration": 466,
    "start_time": "2021-08-06T12:51:05.999Z"
   },
   {
    "duration": 624,
    "start_time": "2021-08-06T12:51:06.471Z"
   },
   {
    "duration": 716,
    "start_time": "2021-08-06T12:51:07.097Z"
   },
   {
    "duration": 938,
    "start_time": "2021-08-06T12:51:07.815Z"
   },
   {
    "duration": 606,
    "start_time": "2021-08-06T12:51:57.297Z"
   },
   {
    "duration": 621,
    "start_time": "2021-08-06T12:52:00.679Z"
   },
   {
    "duration": 573,
    "start_time": "2021-08-06T12:53:08.056Z"
   },
   {
    "duration": 675,
    "start_time": "2021-08-06T12:56:03.728Z"
   },
   {
    "duration": 580,
    "start_time": "2021-08-06T12:56:38.238Z"
   },
   {
    "duration": 475,
    "start_time": "2021-08-06T15:15:16.725Z"
   },
   {
    "duration": 38,
    "start_time": "2021-08-06T15:15:25.051Z"
   },
   {
    "duration": 13,
    "start_time": "2021-08-06T15:16:12.649Z"
   },
   {
    "duration": 34,
    "start_time": "2021-08-06T15:19:28.975Z"
   },
   {
    "duration": 483,
    "start_time": "2021-08-06T15:20:53.315Z"
   },
   {
    "duration": 175,
    "start_time": "2021-08-06T15:23:21.828Z"
   },
   {
    "duration": 1856,
    "start_time": "2021-08-06T15:23:34.772Z"
   },
   {
    "duration": 36,
    "start_time": "2021-08-06T15:26:19.076Z"
   },
   {
    "duration": 34,
    "start_time": "2021-08-06T15:27:43.778Z"
   },
   {
    "duration": 34,
    "start_time": "2021-08-06T15:27:51.927Z"
   },
   {
    "duration": 11,
    "start_time": "2021-08-06T15:28:31.082Z"
   },
   {
    "duration": 13,
    "start_time": "2021-08-06T15:31:21.329Z"
   },
   {
    "duration": 10,
    "start_time": "2021-08-06T15:33:05.012Z"
   },
   {
    "duration": 460,
    "start_time": "2021-08-06T15:37:04.002Z"
   },
   {
    "duration": 8,
    "start_time": "2021-08-06T15:38:19.073Z"
   },
   {
    "duration": 9,
    "start_time": "2021-08-06T15:39:18.976Z"
   },
   {
    "duration": 533,
    "start_time": "2021-08-06T15:40:59.702Z"
   },
   {
    "duration": 536,
    "start_time": "2021-08-06T15:43:31.092Z"
   },
   {
    "duration": 724,
    "start_time": "2021-08-06T15:43:46.139Z"
   },
   {
    "duration": 684,
    "start_time": "2021-08-06T15:44:03.433Z"
   },
   {
    "duration": 9,
    "start_time": "2021-08-06T15:50:09.750Z"
   },
   {
    "duration": 14,
    "start_time": "2021-08-06T15:50:16.444Z"
   },
   {
    "duration": 679,
    "start_time": "2021-08-06T15:50:17.348Z"
   },
   {
    "duration": 9,
    "start_time": "2021-08-06T15:50:24.107Z"
   },
   {
    "duration": 726,
    "start_time": "2021-08-06T15:50:24.806Z"
   },
   {
    "duration": 6,
    "start_time": "2021-08-06T15:50:28.435Z"
   },
   {
    "duration": 951,
    "start_time": "2021-08-06T15:50:29.059Z"
   },
   {
    "duration": 899,
    "start_time": "2021-08-06T15:50:31.587Z"
   },
   {
    "duration": 793,
    "start_time": "2021-08-06T15:50:32.489Z"
   },
   {
    "duration": 419,
    "start_time": "2021-08-06T15:50:34.850Z"
   },
   {
    "duration": 593,
    "start_time": "2021-08-06T15:50:38.291Z"
   },
   {
    "duration": 680,
    "start_time": "2021-08-06T15:50:41.683Z"
   },
   {
    "duration": 582,
    "start_time": "2021-08-06T15:50:44.037Z"
   },
   {
    "duration": 378,
    "start_time": "2021-08-06T15:50:48.963Z"
   },
   {
    "duration": 14,
    "start_time": "2021-08-06T15:52:12.072Z"
   },
   {
    "duration": 135,
    "start_time": "2021-08-06T15:52:14.441Z"
   },
   {
    "duration": 9,
    "start_time": "2021-08-06T15:52:21.644Z"
   },
   {
    "duration": 10,
    "start_time": "2021-08-06T15:52:24.434Z"
   },
   {
    "duration": 589,
    "start_time": "2021-08-06T15:52:29.179Z"
   },
   {
    "duration": 392,
    "start_time": "2021-08-06T16:08:09.259Z"
   },
   {
    "duration": 560,
    "start_time": "2021-08-06T16:08:53.317Z"
   },
   {
    "duration": 1382,
    "start_time": "2021-08-06T16:08:58.792Z"
   },
   {
    "duration": 74,
    "start_time": "2021-08-06T16:09:00.177Z"
   },
   {
    "duration": 15,
    "start_time": "2021-08-06T16:09:00.254Z"
   },
   {
    "duration": 22,
    "start_time": "2021-08-06T16:09:00.272Z"
   },
   {
    "duration": 24,
    "start_time": "2021-08-06T16:09:00.297Z"
   },
   {
    "duration": 20,
    "start_time": "2021-08-06T16:09:00.323Z"
   },
   {
    "duration": 16,
    "start_time": "2021-08-06T16:09:00.345Z"
   },
   {
    "duration": 28,
    "start_time": "2021-08-06T16:09:00.364Z"
   },
   {
    "duration": 17,
    "start_time": "2021-08-06T16:09:00.395Z"
   },
   {
    "duration": 13,
    "start_time": "2021-08-06T16:09:00.414Z"
   },
   {
    "duration": 13,
    "start_time": "2021-08-06T16:09:00.429Z"
   },
   {
    "duration": 43,
    "start_time": "2021-08-06T16:09:00.444Z"
   },
   {
    "duration": 26,
    "start_time": "2021-08-06T16:09:00.489Z"
   },
   {
    "duration": 666,
    "start_time": "2021-08-06T16:09:00.517Z"
   },
   {
    "duration": 12,
    "start_time": "2021-08-06T16:09:01.186Z"
   },
   {
    "duration": 761,
    "start_time": "2021-08-06T16:09:01.200Z"
   },
   {
    "duration": 21,
    "start_time": "2021-08-06T16:09:01.964Z"
   },
   {
    "duration": 38,
    "start_time": "2021-08-06T16:09:01.988Z"
   },
   {
    "duration": 701,
    "start_time": "2021-08-06T16:09:02.029Z"
   },
   {
    "duration": 8,
    "start_time": "2021-08-06T16:09:02.733Z"
   },
   {
    "duration": 709,
    "start_time": "2021-08-06T16:09:02.744Z"
   },
   {
    "duration": 6,
    "start_time": "2021-08-06T16:09:03.456Z"
   },
   {
    "duration": 896,
    "start_time": "2021-08-06T16:09:03.467Z"
   },
   {
    "duration": 805,
    "start_time": "2021-08-06T16:09:04.366Z"
   },
   {
    "duration": 807,
    "start_time": "2021-08-06T16:09:05.174Z"
   },
   {
    "duration": 440,
    "start_time": "2021-08-06T16:09:05.983Z"
   },
   {
    "duration": 691,
    "start_time": "2021-08-06T16:09:06.425Z"
   },
   {
    "duration": 626,
    "start_time": "2021-08-06T16:09:07.118Z"
   },
   {
    "duration": 597,
    "start_time": "2021-08-06T16:09:07.746Z"
   },
   {
    "duration": 14,
    "start_time": "2021-08-06T16:09:08.346Z"
   },
   {
    "duration": 28,
    "start_time": "2021-08-06T16:09:08.362Z"
   },
   {
    "duration": 10,
    "start_time": "2021-08-06T16:09:08.393Z"
   },
   {
    "duration": 643,
    "start_time": "2021-08-06T16:09:08.405Z"
   },
   {
    "duration": 10,
    "start_time": "2021-08-06T16:09:09.051Z"
   },
   {
    "duration": 955,
    "start_time": "2021-08-06T16:09:09.064Z"
   },
   {
    "duration": 12,
    "start_time": "2021-08-06T16:10:46.735Z"
   },
   {
    "duration": 9,
    "start_time": "2021-08-06T16:10:48.144Z"
   },
   {
    "duration": 10,
    "start_time": "2021-08-06T16:10:50.154Z"
   },
   {
    "duration": 713,
    "start_time": "2021-08-06T16:10:51.799Z"
   },
   {
    "duration": 7,
    "start_time": "2021-08-06T16:10:55.301Z"
   },
   {
    "duration": 7,
    "start_time": "2021-08-06T16:13:01.966Z"
   },
   {
    "duration": 13,
    "start_time": "2021-08-06T16:14:17.853Z"
   },
   {
    "duration": 9,
    "start_time": "2021-08-06T16:14:19.964Z"
   },
   {
    "duration": 9,
    "start_time": "2021-08-06T16:14:21.363Z"
   },
   {
    "duration": 606,
    "start_time": "2021-08-06T16:14:24.140Z"
   },
   {
    "duration": 8,
    "start_time": "2021-08-06T16:14:27.174Z"
   },
   {
    "duration": 17,
    "start_time": "2021-08-06T16:16:26.897Z"
   },
   {
    "duration": 10,
    "start_time": "2021-08-06T16:16:28.499Z"
   },
   {
    "duration": 8,
    "start_time": "2021-08-06T16:16:29.765Z"
   },
   {
    "duration": 578,
    "start_time": "2021-08-06T16:16:31.245Z"
   },
   {
    "duration": 8,
    "start_time": "2021-08-06T16:16:35.388Z"
   },
   {
    "duration": 16,
    "start_time": "2021-08-06T16:22:09.536Z"
   },
   {
    "duration": 8,
    "start_time": "2021-08-06T16:22:10.794Z"
   },
   {
    "duration": 8,
    "start_time": "2021-08-06T16:22:11.813Z"
   },
   {
    "duration": 592,
    "start_time": "2021-08-06T16:22:12.797Z"
   },
   {
    "duration": 8,
    "start_time": "2021-08-06T16:22:15.222Z"
   },
   {
    "duration": 16,
    "start_time": "2021-08-06T16:24:03.299Z"
   },
   {
    "duration": 9,
    "start_time": "2021-08-06T16:27:02.423Z"
   },
   {
    "duration": 16,
    "start_time": "2021-08-06T16:27:32.491Z"
   },
   {
    "duration": 567,
    "start_time": "2021-08-06T16:27:53.099Z"
   },
   {
    "duration": 40,
    "start_time": "2021-08-06T16:28:55.273Z"
   },
   {
    "duration": 35,
    "start_time": "2021-08-06T16:31:19.397Z"
   },
   {
    "duration": 33,
    "start_time": "2021-08-06T16:31:41.745Z"
   },
   {
    "duration": 35,
    "start_time": "2021-08-06T16:32:22.371Z"
   },
   {
    "duration": 37,
    "start_time": "2021-08-06T16:32:30.476Z"
   },
   {
    "duration": 14,
    "start_time": "2021-08-06T16:32:51.072Z"
   },
   {
    "duration": 35,
    "start_time": "2021-08-06T16:32:56.835Z"
   },
   {
    "duration": 9,
    "start_time": "2021-08-06T16:32:59.521Z"
   },
   {
    "duration": 9,
    "start_time": "2021-08-06T16:33:01.105Z"
   },
   {
    "duration": 598,
    "start_time": "2021-08-06T16:33:05.746Z"
   },
   {
    "duration": 7,
    "start_time": "2021-08-06T16:33:34.420Z"
   },
   {
    "duration": 35,
    "start_time": "2021-08-06T16:34:38.069Z"
   },
   {
    "duration": 35,
    "start_time": "2021-08-06T16:35:34.960Z"
   },
   {
    "duration": 36,
    "start_time": "2021-08-06T16:35:54.901Z"
   },
   {
    "duration": 16,
    "start_time": "2021-08-06T16:36:13.241Z"
   },
   {
    "duration": 8,
    "start_time": "2021-08-06T16:36:15.144Z"
   },
   {
    "duration": 8,
    "start_time": "2021-08-06T16:36:17.024Z"
   },
   {
    "duration": 687,
    "start_time": "2021-08-06T16:36:23.883Z"
   },
   {
    "duration": 8,
    "start_time": "2021-08-06T16:36:27.857Z"
   },
   {
    "duration": 14,
    "start_time": "2021-08-06T16:37:31.191Z"
   },
   {
    "duration": 9,
    "start_time": "2021-08-06T16:37:32.183Z"
   },
   {
    "duration": 9,
    "start_time": "2021-08-06T16:37:33.327Z"
   },
   {
    "duration": 580,
    "start_time": "2021-08-06T16:37:34.371Z"
   },
   {
    "duration": 9,
    "start_time": "2021-08-06T16:37:41.048Z"
   },
   {
    "duration": 7,
    "start_time": "2021-08-06T16:38:27.620Z"
   },
   {
    "duration": 7,
    "start_time": "2021-08-06T16:38:41.607Z"
   },
   {
    "duration": 15,
    "start_time": "2021-08-06T16:39:01.552Z"
   },
   {
    "duration": 9,
    "start_time": "2021-08-06T16:39:02.949Z"
   },
   {
    "duration": 9,
    "start_time": "2021-08-06T16:39:04.486Z"
   },
   {
    "duration": 598,
    "start_time": "2021-08-06T16:39:06.028Z"
   },
   {
    "duration": 7,
    "start_time": "2021-08-06T16:39:08.391Z"
   },
   {
    "duration": 13,
    "start_time": "2021-08-06T16:39:28.510Z"
   },
   {
    "duration": 9,
    "start_time": "2021-08-06T16:39:29.646Z"
   },
   {
    "duration": 8,
    "start_time": "2021-08-06T16:39:30.800Z"
   },
   {
    "duration": 594,
    "start_time": "2021-08-06T16:39:32.242Z"
   },
   {
    "duration": 8,
    "start_time": "2021-08-06T16:39:34.855Z"
   },
   {
    "duration": 17,
    "start_time": "2021-08-06T16:39:43.798Z"
   },
   {
    "duration": 9,
    "start_time": "2021-08-06T16:39:44.695Z"
   },
   {
    "duration": 9,
    "start_time": "2021-08-06T16:39:45.727Z"
   },
   {
    "duration": 594,
    "start_time": "2021-08-06T16:39:49.327Z"
   },
   {
    "duration": 8,
    "start_time": "2021-08-06T16:39:52.265Z"
   },
   {
    "duration": 8,
    "start_time": "2021-08-06T16:40:42.934Z"
   },
   {
    "duration": 8,
    "start_time": "2021-08-06T16:40:53.155Z"
   },
   {
    "duration": 16,
    "start_time": "2021-08-06T16:42:29.593Z"
   },
   {
    "duration": 9,
    "start_time": "2021-08-06T16:42:30.510Z"
   },
   {
    "duration": 8,
    "start_time": "2021-08-06T16:42:31.453Z"
   },
   {
    "duration": 696,
    "start_time": "2021-08-06T16:42:32.389Z"
   },
   {
    "duration": 592,
    "start_time": "2021-08-06T16:42:52.159Z"
   },
   {
    "duration": 8,
    "start_time": "2021-08-06T16:43:11.605Z"
   },
   {
    "duration": 7,
    "start_time": "2021-08-06T16:43:19.033Z"
   },
   {
    "duration": 8,
    "start_time": "2021-08-06T16:43:58.374Z"
   },
   {
    "duration": 7,
    "start_time": "2021-08-06T16:44:16.614Z"
   },
   {
    "duration": 7,
    "start_time": "2021-08-06T16:44:55.309Z"
   },
   {
    "duration": 8,
    "start_time": "2021-08-06T16:48:06.295Z"
   },
   {
    "duration": 1385,
    "start_time": "2021-08-06T17:25:57.161Z"
   },
   {
    "duration": 72,
    "start_time": "2021-08-06T17:25:58.549Z"
   },
   {
    "duration": 16,
    "start_time": "2021-08-06T17:25:58.625Z"
   },
   {
    "duration": 17,
    "start_time": "2021-08-06T17:25:58.645Z"
   },
   {
    "duration": 7,
    "start_time": "2021-08-06T17:25:58.685Z"
   },
   {
    "duration": 12,
    "start_time": "2021-08-06T17:25:58.695Z"
   },
   {
    "duration": 14,
    "start_time": "2021-08-06T17:25:58.710Z"
   },
   {
    "duration": 13,
    "start_time": "2021-08-06T17:25:58.729Z"
   },
   {
    "duration": 17,
    "start_time": "2021-08-06T17:25:58.787Z"
   },
   {
    "duration": 12,
    "start_time": "2021-08-06T17:25:58.806Z"
   },
   {
    "duration": 8,
    "start_time": "2021-08-06T17:25:58.820Z"
   },
   {
    "duration": 17,
    "start_time": "2021-08-06T17:25:58.830Z"
   },
   {
    "duration": 51,
    "start_time": "2021-08-06T17:25:58.849Z"
   },
   {
    "duration": 667,
    "start_time": "2021-08-06T17:25:58.904Z"
   },
   {
    "duration": 17,
    "start_time": "2021-08-06T17:25:59.573Z"
   },
   {
    "duration": 769,
    "start_time": "2021-08-06T17:25:59.593Z"
   },
   {
    "duration": 21,
    "start_time": "2021-08-06T17:26:00.365Z"
   },
   {
    "duration": 13,
    "start_time": "2021-08-06T17:26:00.389Z"
   },
   {
    "duration": 701,
    "start_time": "2021-08-06T17:26:00.405Z"
   },
   {
    "duration": 10,
    "start_time": "2021-08-06T17:26:01.109Z"
   },
   {
    "duration": 705,
    "start_time": "2021-08-06T17:26:01.121Z"
   },
   {
    "duration": 5,
    "start_time": "2021-08-06T17:26:01.829Z"
   },
   {
    "duration": 827,
    "start_time": "2021-08-06T17:26:01.839Z"
   },
   {
    "duration": 798,
    "start_time": "2021-08-06T17:26:02.669Z"
   },
   {
    "duration": 793,
    "start_time": "2021-08-06T17:26:03.469Z"
   },
   {
    "duration": 446,
    "start_time": "2021-08-06T17:26:04.264Z"
   },
   {
    "duration": 689,
    "start_time": "2021-08-06T17:26:04.713Z"
   },
   {
    "duration": 626,
    "start_time": "2021-08-06T17:26:05.404Z"
   },
   {
    "duration": 584,
    "start_time": "2021-08-06T17:26:06.032Z"
   },
   {
    "duration": 15,
    "start_time": "2021-08-06T17:26:06.618Z"
   },
   {
    "duration": 16,
    "start_time": "2021-08-06T17:26:06.635Z"
   },
   {
    "duration": 10,
    "start_time": "2021-08-06T17:26:06.653Z"
   },
   {
    "duration": 601,
    "start_time": "2021-08-06T17:26:06.686Z"
   },
   {
    "duration": 7,
    "start_time": "2021-08-06T17:26:07.290Z"
   },
   {
    "duration": 17,
    "start_time": "2021-08-06T17:26:07.299Z"
   },
   {
    "duration": 9,
    "start_time": "2021-08-06T17:26:07.318Z"
   },
   {
    "duration": 11,
    "start_time": "2021-08-06T17:26:07.329Z"
   },
   {
    "duration": 678,
    "start_time": "2021-08-06T17:26:07.343Z"
   },
   {
    "duration": 7,
    "start_time": "2021-08-06T17:26:08.024Z"
   },
   {
    "duration": 139,
    "start_time": "2021-08-06T17:26:08.034Z"
   },
   {
    "duration": 1322,
    "start_time": "2021-08-06T17:26:20.829Z"
   },
   {
    "duration": 70,
    "start_time": "2021-08-06T17:26:22.154Z"
   },
   {
    "duration": 13,
    "start_time": "2021-08-06T17:26:22.227Z"
   },
   {
    "duration": 13,
    "start_time": "2021-08-06T17:26:22.243Z"
   },
   {
    "duration": 31,
    "start_time": "2021-08-06T17:26:22.259Z"
   },
   {
    "duration": 18,
    "start_time": "2021-08-06T17:26:22.292Z"
   },
   {
    "duration": 19,
    "start_time": "2021-08-06T17:26:22.312Z"
   },
   {
    "duration": 17,
    "start_time": "2021-08-06T17:26:22.333Z"
   },
   {
    "duration": 38,
    "start_time": "2021-08-06T17:26:22.354Z"
   },
   {
    "duration": 12,
    "start_time": "2021-08-06T17:26:22.395Z"
   },
   {
    "duration": 12,
    "start_time": "2021-08-06T17:26:22.409Z"
   },
   {
    "duration": 18,
    "start_time": "2021-08-06T17:26:22.423Z"
   },
   {
    "duration": 44,
    "start_time": "2021-08-06T17:26:22.443Z"
   },
   {
    "duration": 649,
    "start_time": "2021-08-06T17:26:22.489Z"
   },
   {
    "duration": 13,
    "start_time": "2021-08-06T17:26:23.141Z"
   },
   {
    "duration": 752,
    "start_time": "2021-08-06T17:26:23.156Z"
   },
   {
    "duration": 9,
    "start_time": "2021-08-06T17:26:23.911Z"
   },
   {
    "duration": 17,
    "start_time": "2021-08-06T17:26:23.922Z"
   },
   {
    "duration": 707,
    "start_time": "2021-08-06T17:26:23.941Z"
   },
   {
    "duration": 8,
    "start_time": "2021-08-06T17:26:24.650Z"
   },
   {
    "duration": 708,
    "start_time": "2021-08-06T17:26:24.660Z"
   },
   {
    "duration": 15,
    "start_time": "2021-08-06T17:26:25.370Z"
   },
   {
    "duration": 801,
    "start_time": "2021-08-06T17:26:25.388Z"
   },
   {
    "duration": 779,
    "start_time": "2021-08-06T17:26:26.192Z"
   },
   {
    "duration": 879,
    "start_time": "2021-08-06T17:26:26.974Z"
   },
   {
    "duration": 442,
    "start_time": "2021-08-06T17:26:27.857Z"
   },
   {
    "duration": 613,
    "start_time": "2021-08-06T17:26:28.304Z"
   },
   {
    "duration": 629,
    "start_time": "2021-08-06T17:26:28.921Z"
   },
   {
    "duration": 599,
    "start_time": "2021-08-06T17:26:29.552Z"
   },
   {
    "duration": 15,
    "start_time": "2021-08-06T17:26:30.154Z"
   },
   {
    "duration": 39,
    "start_time": "2021-08-06T17:26:30.171Z"
   },
   {
    "duration": 22,
    "start_time": "2021-08-06T17:26:30.212Z"
   },
   {
    "duration": 682,
    "start_time": "2021-08-06T17:26:30.236Z"
   },
   {
    "duration": 6,
    "start_time": "2021-08-06T17:26:30.921Z"
   },
   {
    "duration": 20,
    "start_time": "2021-08-06T17:26:30.930Z"
   },
   {
    "duration": 13,
    "start_time": "2021-08-06T17:26:30.953Z"
   },
   {
    "duration": 22,
    "start_time": "2021-08-06T17:26:30.969Z"
   },
   {
    "duration": 596,
    "start_time": "2021-08-06T17:26:30.993Z"
   },
   {
    "duration": 7,
    "start_time": "2021-08-06T17:26:31.591Z"
   },
   {
    "duration": 154,
    "start_time": "2021-08-06T17:29:32.900Z"
   },
   {
    "duration": 1340,
    "start_time": "2021-08-06T17:30:48.305Z"
   },
   {
    "duration": 71,
    "start_time": "2021-08-06T17:30:49.648Z"
   },
   {
    "duration": 14,
    "start_time": "2021-08-06T17:30:49.722Z"
   },
   {
    "duration": 13,
    "start_time": "2021-08-06T17:30:49.739Z"
   },
   {
    "duration": 32,
    "start_time": "2021-08-06T17:30:49.754Z"
   },
   {
    "duration": 10,
    "start_time": "2021-08-06T17:30:49.788Z"
   },
   {
    "duration": 12,
    "start_time": "2021-08-06T17:30:49.800Z"
   },
   {
    "duration": 13,
    "start_time": "2021-08-06T17:30:49.816Z"
   },
   {
    "duration": 20,
    "start_time": "2021-08-06T17:30:49.832Z"
   },
   {
    "duration": 13,
    "start_time": "2021-08-06T17:30:49.885Z"
   },
   {
    "duration": 9,
    "start_time": "2021-08-06T17:30:49.900Z"
   },
   {
    "duration": 14,
    "start_time": "2021-08-06T17:30:49.911Z"
   },
   {
    "duration": 58,
    "start_time": "2021-08-06T17:30:49.927Z"
   },
   {
    "duration": 776,
    "start_time": "2021-08-06T17:30:49.988Z"
   },
   {
    "duration": 21,
    "start_time": "2021-08-06T17:30:50.767Z"
   },
   {
    "duration": 743,
    "start_time": "2021-08-06T17:30:50.790Z"
   },
   {
    "duration": 12,
    "start_time": "2021-08-06T17:30:51.537Z"
   },
   {
    "duration": 40,
    "start_time": "2021-08-06T17:30:51.552Z"
   },
   {
    "duration": 1150,
    "start_time": "2021-08-06T17:30:51.595Z"
   },
   {
    "duration": 12,
    "start_time": "2021-08-06T17:30:52.749Z"
   },
   {
    "duration": 1153,
    "start_time": "2021-08-06T17:30:52.764Z"
   },
   {
    "duration": 8,
    "start_time": "2021-08-06T17:30:53.920Z"
   },
   {
    "duration": 947,
    "start_time": "2021-08-06T17:30:53.933Z"
   },
   {
    "duration": 792,
    "start_time": "2021-08-06T17:30:54.886Z"
   },
   {
    "duration": 776,
    "start_time": "2021-08-06T17:30:55.684Z"
   },
   {
    "duration": 538,
    "start_time": "2021-08-06T17:30:56.463Z"
   },
   {
    "duration": 683,
    "start_time": "2021-08-06T17:30:57.003Z"
   },
   {
    "duration": 624,
    "start_time": "2021-08-06T17:30:57.689Z"
   },
   {
    "duration": 599,
    "start_time": "2021-08-06T17:30:58.316Z"
   },
   {
    "duration": 18,
    "start_time": "2021-08-06T17:30:58.919Z"
   },
   {
    "duration": 10,
    "start_time": "2021-08-06T17:30:58.940Z"
   },
   {
    "duration": 39,
    "start_time": "2021-08-06T17:30:58.952Z"
   },
   {
    "duration": 603,
    "start_time": "2021-08-06T17:30:58.993Z"
   },
   {
    "duration": 7,
    "start_time": "2021-08-06T17:30:59.598Z"
   },
   {
    "duration": 18,
    "start_time": "2021-08-06T17:30:59.607Z"
   },
   {
    "duration": 9,
    "start_time": "2021-08-06T17:30:59.627Z"
   },
   {
    "duration": 10,
    "start_time": "2021-08-06T17:30:59.638Z"
   },
   {
    "duration": 706,
    "start_time": "2021-08-06T17:30:59.651Z"
   },
   {
    "duration": 7,
    "start_time": "2021-08-06T17:31:00.360Z"
   },
   {
    "duration": 2580,
    "start_time": "2021-08-06T17:35:08.223Z"
   },
   {
    "duration": 71,
    "start_time": "2021-08-06T17:35:10.806Z"
   },
   {
    "duration": 19,
    "start_time": "2021-08-06T17:35:10.879Z"
   },
   {
    "duration": 12,
    "start_time": "2021-08-06T17:35:10.901Z"
   },
   {
    "duration": 17,
    "start_time": "2021-08-06T17:35:10.915Z"
   },
   {
    "duration": 20,
    "start_time": "2021-08-06T17:35:10.934Z"
   },
   {
    "duration": 35,
    "start_time": "2021-08-06T17:35:10.957Z"
   },
   {
    "duration": 16,
    "start_time": "2021-08-06T17:35:10.996Z"
   },
   {
    "duration": 19,
    "start_time": "2021-08-06T17:35:11.014Z"
   },
   {
    "duration": 12,
    "start_time": "2021-08-06T17:35:11.036Z"
   },
   {
    "duration": 36,
    "start_time": "2021-08-06T17:35:11.050Z"
   },
   {
    "duration": 18,
    "start_time": "2021-08-06T17:35:11.089Z"
   },
   {
    "duration": 30,
    "start_time": "2021-08-06T17:35:11.109Z"
   },
   {
    "duration": 632,
    "start_time": "2021-08-06T17:35:11.141Z"
   },
   {
    "duration": 16,
    "start_time": "2021-08-06T17:35:11.776Z"
   },
   {
    "duration": 749,
    "start_time": "2021-08-06T17:35:11.794Z"
   },
   {
    "duration": 7,
    "start_time": "2021-08-06T17:35:12.546Z"
   },
   {
    "duration": 38,
    "start_time": "2021-08-06T17:35:12.556Z"
   },
   {
    "duration": 682,
    "start_time": "2021-08-06T17:35:12.596Z"
   },
   {
    "duration": 10,
    "start_time": "2021-08-06T17:35:13.284Z"
   },
   {
    "duration": 692,
    "start_time": "2021-08-06T17:35:13.296Z"
   },
   {
    "duration": 6,
    "start_time": "2021-08-06T17:35:13.991Z"
   },
   {
    "duration": 854,
    "start_time": "2021-08-06T17:35:14.002Z"
   },
   {
    "duration": 813,
    "start_time": "2021-08-06T17:35:14.859Z"
   },
   {
    "duration": 885,
    "start_time": "2021-08-06T17:35:15.675Z"
   },
   {
    "duration": 437,
    "start_time": "2021-08-06T17:35:16.562Z"
   },
   {
    "duration": 700,
    "start_time": "2021-08-06T17:35:17.002Z"
   },
   {
    "duration": 625,
    "start_time": "2021-08-06T17:35:17.704Z"
   },
   {
    "duration": 607,
    "start_time": "2021-08-06T17:35:18.332Z"
   },
   {
    "duration": 17,
    "start_time": "2021-08-06T17:35:18.942Z"
   },
   {
    "duration": 32,
    "start_time": "2021-08-06T17:35:18.962Z"
   },
   {
    "duration": 19,
    "start_time": "2021-08-06T17:35:18.997Z"
   },
   {
    "duration": 609,
    "start_time": "2021-08-06T17:35:19.018Z"
   },
   {
    "duration": 6,
    "start_time": "2021-08-06T17:35:19.629Z"
   },
   {
    "duration": 17,
    "start_time": "2021-08-06T17:35:19.638Z"
   },
   {
    "duration": 29,
    "start_time": "2021-08-06T17:35:19.658Z"
   },
   {
    "duration": 14,
    "start_time": "2021-08-06T17:35:19.689Z"
   },
   {
    "duration": 664,
    "start_time": "2021-08-06T17:35:19.706Z"
   },
   {
    "duration": 16,
    "start_time": "2021-08-06T17:35:20.373Z"
   },
   {
    "duration": 444,
    "start_time": "2021-08-06T18:00:14.823Z"
   },
   {
    "duration": 1396,
    "start_time": "2021-08-06T18:00:17.646Z"
   },
   {
    "duration": 72,
    "start_time": "2021-08-06T18:00:19.044Z"
   },
   {
    "duration": 15,
    "start_time": "2021-08-06T18:00:19.119Z"
   },
   {
    "duration": 32,
    "start_time": "2021-08-06T18:00:19.137Z"
   },
   {
    "duration": 7,
    "start_time": "2021-08-06T18:00:19.172Z"
   },
   {
    "duration": 12,
    "start_time": "2021-08-06T18:00:19.181Z"
   },
   {
    "duration": 16,
    "start_time": "2021-08-06T18:00:19.195Z"
   },
   {
    "duration": 13,
    "start_time": "2021-08-06T18:00:19.215Z"
   },
   {
    "duration": 382,
    "start_time": "2021-08-06T18:00:19.269Z"
   },
   {
    "duration": 21452,
    "start_time": "2021-08-06T17:59:58.203Z"
   },
   {
    "duration": 21441,
    "start_time": "2021-08-06T17:59:58.215Z"
   },
   {
    "duration": 21441,
    "start_time": "2021-08-06T17:59:58.217Z"
   },
   {
    "duration": 21440,
    "start_time": "2021-08-06T17:59:58.219Z"
   },
   {
    "duration": 21440,
    "start_time": "2021-08-06T17:59:58.221Z"
   },
   {
    "duration": 21439,
    "start_time": "2021-08-06T17:59:58.223Z"
   },
   {
    "duration": 21434,
    "start_time": "2021-08-06T17:59:58.230Z"
   },
   {
    "duration": 21433,
    "start_time": "2021-08-06T17:59:58.232Z"
   },
   {
    "duration": 21432,
    "start_time": "2021-08-06T17:59:58.235Z"
   },
   {
    "duration": 21431,
    "start_time": "2021-08-06T17:59:58.237Z"
   },
   {
    "duration": 21430,
    "start_time": "2021-08-06T17:59:58.239Z"
   },
   {
    "duration": 21431,
    "start_time": "2021-08-06T17:59:58.240Z"
   },
   {
    "duration": 21428,
    "start_time": "2021-08-06T17:59:58.247Z"
   },
   {
    "duration": 21427,
    "start_time": "2021-08-06T17:59:58.249Z"
   },
   {
    "duration": 21426,
    "start_time": "2021-08-06T17:59:58.252Z"
   },
   {
    "duration": 21425,
    "start_time": "2021-08-06T17:59:58.254Z"
   },
   {
    "duration": 21424,
    "start_time": "2021-08-06T17:59:58.256Z"
   },
   {
    "duration": 21424,
    "start_time": "2021-08-06T17:59:58.258Z"
   },
   {
    "duration": 21420,
    "start_time": "2021-08-06T17:59:58.264Z"
   },
   {
    "duration": 21419,
    "start_time": "2021-08-06T17:59:58.266Z"
   },
   {
    "duration": 21418,
    "start_time": "2021-08-06T17:59:58.268Z"
   },
   {
    "duration": 21419,
    "start_time": "2021-08-06T17:59:58.269Z"
   },
   {
    "duration": 21418,
    "start_time": "2021-08-06T17:59:58.271Z"
   },
   {
    "duration": 21417,
    "start_time": "2021-08-06T17:59:58.273Z"
   },
   {
    "duration": 21410,
    "start_time": "2021-08-06T17:59:58.281Z"
   },
   {
    "duration": 21409,
    "start_time": "2021-08-06T17:59:58.283Z"
   },
   {
    "duration": 21409,
    "start_time": "2021-08-06T17:59:58.285Z"
   },
   {
    "duration": 21408,
    "start_time": "2021-08-06T17:59:58.287Z"
   },
   {
    "duration": 21407,
    "start_time": "2021-08-06T17:59:58.289Z"
   },
   {
    "duration": 21407,
    "start_time": "2021-08-06T17:59:58.290Z"
   },
   {
    "duration": 21384,
    "start_time": "2021-08-06T17:59:58.315Z"
   },
   {
    "duration": 367,
    "start_time": "2021-08-06T18:00:55.123Z"
   },
   {
    "duration": 381,
    "start_time": "2021-08-06T18:01:21.570Z"
   },
   {
    "duration": 394,
    "start_time": "2021-08-06T18:02:02.204Z"
   },
   {
    "duration": 49,
    "start_time": "2021-08-06T18:02:11.883Z"
   },
   {
    "duration": 5,
    "start_time": "2021-08-06T18:02:26.006Z"
   },
   {
    "duration": 72,
    "start_time": "2021-08-06T18:02:26.014Z"
   },
   {
    "duration": 17,
    "start_time": "2021-08-06T18:02:26.090Z"
   },
   {
    "duration": 15,
    "start_time": "2021-08-06T18:02:26.110Z"
   },
   {
    "duration": 6,
    "start_time": "2021-08-06T18:02:26.127Z"
   },
   {
    "duration": 10,
    "start_time": "2021-08-06T18:02:26.168Z"
   },
   {
    "duration": 15,
    "start_time": "2021-08-06T18:02:26.180Z"
   },
   {
    "duration": 12,
    "start_time": "2021-08-06T18:02:26.199Z"
   },
   {
    "duration": 87,
    "start_time": "2021-08-06T18:02:26.214Z"
   },
   {
    "duration": 16,
    "start_time": "2021-08-06T18:02:26.303Z"
   },
   {
    "duration": 23,
    "start_time": "2021-08-06T18:02:26.321Z"
   },
   {
    "duration": 21,
    "start_time": "2021-08-06T18:02:26.347Z"
   },
   {
    "duration": 12,
    "start_time": "2021-08-06T18:02:26.370Z"
   },
   {
    "duration": 27,
    "start_time": "2021-08-06T18:02:26.384Z"
   },
   {
    "duration": 675,
    "start_time": "2021-08-06T18:02:26.413Z"
   },
   {
    "duration": 14,
    "start_time": "2021-08-06T18:02:27.091Z"
   },
   {
    "duration": 773,
    "start_time": "2021-08-06T18:02:27.107Z"
   },
   {
    "duration": 8,
    "start_time": "2021-08-06T18:02:27.883Z"
   },
   {
    "duration": 15,
    "start_time": "2021-08-06T18:02:27.893Z"
   },
   {
    "duration": 715,
    "start_time": "2021-08-06T18:02:27.910Z"
   },
   {
    "duration": 9,
    "start_time": "2021-08-06T18:02:28.628Z"
   },
   {
    "duration": 708,
    "start_time": "2021-08-06T18:02:28.639Z"
   },
   {
    "duration": 14,
    "start_time": "2021-08-06T18:02:29.353Z"
   },
   {
    "duration": 806,
    "start_time": "2021-08-06T18:02:29.370Z"
   },
   {
    "duration": 860,
    "start_time": "2021-08-06T18:02:30.178Z"
   },
   {
    "duration": 936,
    "start_time": "2021-08-06T18:02:31.040Z"
   },
   {
    "duration": 466,
    "start_time": "2021-08-06T18:02:31.978Z"
   },
   {
    "duration": 696,
    "start_time": "2021-08-06T18:02:32.447Z"
   },
   {
    "duration": 635,
    "start_time": "2021-08-06T18:02:33.145Z"
   },
   {
    "duration": 610,
    "start_time": "2021-08-06T18:02:33.782Z"
   },
   {
    "duration": 16,
    "start_time": "2021-08-06T18:02:34.394Z"
   },
   {
    "duration": 11,
    "start_time": "2021-08-06T18:02:34.412Z"
   },
   {
    "duration": 9,
    "start_time": "2021-08-06T18:02:34.426Z"
   },
   {
    "duration": 623,
    "start_time": "2021-08-06T18:02:34.468Z"
   },
   {
    "duration": 7,
    "start_time": "2021-08-06T18:02:35.094Z"
   },
   {
    "duration": 13,
    "start_time": "2021-08-06T18:02:35.104Z"
   },
   {
    "duration": 9,
    "start_time": "2021-08-06T18:02:35.120Z"
   },
   {
    "duration": 38,
    "start_time": "2021-08-06T18:02:35.131Z"
   },
   {
    "duration": 673,
    "start_time": "2021-08-06T18:02:35.172Z"
   },
   {
    "duration": 8,
    "start_time": "2021-08-06T18:02:35.848Z"
   },
   {
    "duration": 38,
    "start_time": "2021-08-06T18:03:25.402Z"
   },
   {
    "duration": 4,
    "start_time": "2021-08-06T18:03:40.007Z"
   },
   {
    "duration": 67,
    "start_time": "2021-08-06T18:03:40.013Z"
   },
   {
    "duration": 15,
    "start_time": "2021-08-06T18:03:40.083Z"
   },
   {
    "duration": 15,
    "start_time": "2021-08-06T18:03:40.101Z"
   },
   {
    "duration": 7,
    "start_time": "2021-08-06T18:03:40.118Z"
   },
   {
    "duration": 45,
    "start_time": "2021-08-06T18:03:40.127Z"
   },
   {
    "duration": 11,
    "start_time": "2021-08-06T18:03:40.174Z"
   },
   {
    "duration": 26,
    "start_time": "2021-08-06T18:03:40.187Z"
   },
   {
    "duration": 44,
    "start_time": "2021-08-06T18:03:47.313Z"
   },
   {
    "duration": 10607,
    "start_time": "2021-08-06T18:10:24.268Z"
   },
   {
    "duration": 4,
    "start_time": "2021-08-06T18:10:53.760Z"
   },
   {
    "duration": 70,
    "start_time": "2021-08-06T18:10:53.766Z"
   },
   {
    "duration": 35,
    "start_time": "2021-08-06T18:10:53.839Z"
   },
   {
    "duration": 16,
    "start_time": "2021-08-06T18:10:53.876Z"
   },
   {
    "duration": 6,
    "start_time": "2021-08-06T18:10:53.894Z"
   },
   {
    "duration": 10,
    "start_time": "2021-08-06T18:10:53.902Z"
   },
   {
    "duration": 60,
    "start_time": "2021-08-06T18:10:53.914Z"
   },
   {
    "duration": 13,
    "start_time": "2021-08-06T18:10:53.978Z"
   },
   {
    "duration": 16,
    "start_time": "2021-08-06T18:10:53.994Z"
   },
   {
    "duration": 12,
    "start_time": "2021-08-06T18:10:54.013Z"
   },
   {
    "duration": 42,
    "start_time": "2021-08-06T18:10:54.027Z"
   },
   {
    "duration": 13,
    "start_time": "2021-08-06T18:10:54.071Z"
   },
   {
    "duration": 23,
    "start_time": "2021-08-06T18:10:54.087Z"
   },
   {
    "duration": 694,
    "start_time": "2021-08-06T18:10:54.113Z"
   },
   {
    "duration": 13,
    "start_time": "2021-08-06T18:10:54.810Z"
   },
   {
    "duration": 774,
    "start_time": "2021-08-06T18:10:54.825Z"
   },
   {
    "duration": 1701,
    "start_time": "2021-08-06T18:10:55.602Z"
   },
   {
    "duration": 9,
    "start_time": "2021-08-06T18:10:57.305Z"
   },
   {
    "duration": 63,
    "start_time": "2021-08-06T18:10:57.316Z"
   },
   {
    "duration": 874,
    "start_time": "2021-08-06T18:10:57.381Z"
   },
   {
    "duration": 13,
    "start_time": "2021-08-06T18:10:58.257Z"
   },
   {
    "duration": 706,
    "start_time": "2021-08-06T18:10:58.272Z"
   },
   {
    "duration": 6,
    "start_time": "2021-08-06T18:10:58.983Z"
   },
   {
    "duration": 785,
    "start_time": "2021-08-06T18:10:58.992Z"
   },
   {
    "duration": 850,
    "start_time": "2021-08-06T18:10:59.779Z"
   },
   {
    "duration": 1050,
    "start_time": "2021-08-06T18:11:00.631Z"
   },
   {
    "duration": 460,
    "start_time": "2021-08-06T18:11:01.685Z"
   },
   {
    "duration": 619,
    "start_time": "2021-08-06T18:11:02.148Z"
   },
   {
    "duration": 792,
    "start_time": "2021-08-06T18:11:02.769Z"
   },
   {
    "duration": 589,
    "start_time": "2021-08-06T18:11:03.563Z"
   },
   {
    "duration": 20,
    "start_time": "2021-08-06T18:11:04.155Z"
   },
   {
    "duration": 15,
    "start_time": "2021-08-06T18:11:04.177Z"
   },
   {
    "duration": 15,
    "start_time": "2021-08-06T18:11:04.195Z"
   },
   {
    "duration": 761,
    "start_time": "2021-08-06T18:11:04.212Z"
   },
   {
    "duration": 7,
    "start_time": "2021-08-06T18:11:04.976Z"
   },
   {
    "duration": 30,
    "start_time": "2021-08-06T18:11:04.985Z"
   },
   {
    "duration": 52,
    "start_time": "2021-08-06T18:11:05.017Z"
   },
   {
    "duration": 20,
    "start_time": "2021-08-06T18:11:05.072Z"
   },
   {
    "duration": 763,
    "start_time": "2021-08-06T18:11:05.094Z"
   },
   {
    "duration": 10,
    "start_time": "2021-08-06T18:11:05.860Z"
   },
   {
    "duration": 117,
    "start_time": "2021-08-06T18:14:38.069Z"
   },
   {
    "duration": 136,
    "start_time": "2021-08-06T18:17:38.707Z"
   },
   {
    "duration": 99,
    "start_time": "2021-08-06T18:20:44.915Z"
   },
   {
    "duration": 116,
    "start_time": "2021-08-06T18:24:24.066Z"
   },
   {
    "duration": 115,
    "start_time": "2021-08-06T18:30:34.159Z"
   },
   {
    "duration": 1115,
    "start_time": "2021-08-06T22:10:19.933Z"
   },
   {
    "duration": 1351,
    "start_time": "2021-08-06T22:10:28.655Z"
   },
   {
    "duration": 73,
    "start_time": "2021-08-06T22:10:30.009Z"
   },
   {
    "duration": 14,
    "start_time": "2021-08-06T22:10:30.087Z"
   },
   {
    "duration": 19,
    "start_time": "2021-08-06T22:10:30.104Z"
   },
   {
    "duration": 35,
    "start_time": "2021-08-06T22:10:30.126Z"
   },
   {
    "duration": 25,
    "start_time": "2021-08-06T22:10:30.163Z"
   },
   {
    "duration": 11,
    "start_time": "2021-08-06T22:10:30.192Z"
   },
   {
    "duration": 12,
    "start_time": "2021-08-06T22:10:30.207Z"
   },
   {
    "duration": 49,
    "start_time": "2021-08-06T22:10:30.222Z"
   },
   {
    "duration": 18,
    "start_time": "2021-08-06T22:10:30.274Z"
   },
   {
    "duration": 12,
    "start_time": "2021-08-06T22:10:30.295Z"
   },
   {
    "duration": 47,
    "start_time": "2021-08-06T22:10:30.310Z"
   },
   {
    "duration": 31,
    "start_time": "2021-08-06T22:10:30.360Z"
   },
   {
    "duration": 937,
    "start_time": "2021-08-06T22:10:30.395Z"
   },
   {
    "duration": 29,
    "start_time": "2021-08-06T22:10:31.335Z"
   },
   {
    "duration": 737,
    "start_time": "2021-08-06T22:10:31.366Z"
   },
   {
    "duration": 2103,
    "start_time": "2021-08-06T22:10:32.106Z"
   },
   {
    "duration": 48,
    "start_time": "2021-08-06T22:10:34.211Z"
   },
   {
    "duration": 23,
    "start_time": "2021-08-06T22:10:34.261Z"
   },
   {
    "duration": 772,
    "start_time": "2021-08-06T22:10:34.287Z"
   },
   {
    "duration": 8,
    "start_time": "2021-08-06T22:10:35.062Z"
   },
   {
    "duration": 668,
    "start_time": "2021-08-06T22:10:35.075Z"
   },
   {
    "duration": 10,
    "start_time": "2021-08-06T22:10:35.746Z"
   },
   {
    "duration": 968,
    "start_time": "2021-08-06T22:10:35.758Z"
   },
   {
    "duration": 896,
    "start_time": "2021-08-06T22:10:36.729Z"
   },
   {
    "duration": 881,
    "start_time": "2021-08-06T22:10:37.627Z"
   },
   {
    "duration": 422,
    "start_time": "2021-08-06T22:10:38.510Z"
   },
   {
    "duration": 610,
    "start_time": "2021-08-06T22:10:38.934Z"
   },
   {
    "duration": 615,
    "start_time": "2021-08-06T22:10:39.547Z"
   },
   {
    "duration": 733,
    "start_time": "2021-08-06T22:10:40.165Z"
   },
   {
    "duration": 56,
    "start_time": "2021-08-06T22:10:40.900Z"
   },
   {
    "duration": 9,
    "start_time": "2021-08-06T22:10:40.958Z"
   },
   {
    "duration": 9,
    "start_time": "2021-08-06T22:10:40.969Z"
   },
   {
    "duration": 737,
    "start_time": "2021-08-06T22:10:40.981Z"
   },
   {
    "duration": 7,
    "start_time": "2021-08-06T22:10:41.720Z"
   },
   {
    "duration": 30,
    "start_time": "2021-08-06T22:10:41.730Z"
   },
   {
    "duration": 9,
    "start_time": "2021-08-06T22:10:41.762Z"
   },
   {
    "duration": 10,
    "start_time": "2021-08-06T22:10:41.773Z"
   },
   {
    "duration": 705,
    "start_time": "2021-08-06T22:10:41.786Z"
   },
   {
    "duration": 7,
    "start_time": "2021-08-06T22:10:42.493Z"
   },
   {
    "duration": 155,
    "start_time": "2021-08-07T11:01:48.768Z"
   },
   {
    "duration": 1458,
    "start_time": "2021-08-07T11:06:14.718Z"
   },
   {
    "duration": 80,
    "start_time": "2021-08-07T11:06:16.179Z"
   },
   {
    "duration": 14,
    "start_time": "2021-08-07T11:06:16.262Z"
   },
   {
    "duration": 17,
    "start_time": "2021-08-07T11:06:16.286Z"
   },
   {
    "duration": 8,
    "start_time": "2021-08-07T11:06:16.307Z"
   },
   {
    "duration": 13,
    "start_time": "2021-08-07T11:06:16.318Z"
   },
   {
    "duration": 5,
    "start_time": "2021-08-07T11:06:16.334Z"
   },
   {
    "duration": 137,
    "start_time": "2021-08-07T11:06:22.069Z"
   },
   {
    "duration": 174,
    "start_time": "2021-08-07T11:06:50.159Z"
   },
   {
    "duration": 179,
    "start_time": "2021-08-07T11:08:49.555Z"
   },
   {
    "duration": 124,
    "start_time": "2021-08-07T11:08:57.425Z"
   },
   {
    "duration": 16,
    "start_time": "2021-08-07T11:09:20.434Z"
   },
   {
    "duration": 9,
    "start_time": "2021-08-07T11:09:37.042Z"
   },
   {
    "duration": 11466,
    "start_time": "2021-08-07T11:17:21.856Z"
   },
   {
    "duration": 28,
    "start_time": "2021-08-07T11:18:22.753Z"
   },
   {
    "duration": 4,
    "start_time": "2021-08-07T11:18:40.473Z"
   },
   {
    "duration": 94,
    "start_time": "2021-08-07T11:18:40.480Z"
   },
   {
    "duration": 23,
    "start_time": "2021-08-07T11:18:40.578Z"
   },
   {
    "duration": 17,
    "start_time": "2021-08-07T11:18:40.604Z"
   },
   {
    "duration": 15,
    "start_time": "2021-08-07T11:18:40.625Z"
   },
   {
    "duration": 51,
    "start_time": "2021-08-07T11:18:40.643Z"
   },
   {
    "duration": 3,
    "start_time": "2021-08-07T11:18:40.698Z"
   },
   {
    "duration": 32,
    "start_time": "2021-08-07T11:18:40.704Z"
   },
   {
    "duration": 28,
    "start_time": "2021-08-07T11:18:40.739Z"
   },
   {
    "duration": 43,
    "start_time": "2021-08-07T11:18:40.770Z"
   },
   {
    "duration": 14,
    "start_time": "2021-08-07T11:18:40.816Z"
   },
   {
    "duration": 18,
    "start_time": "2021-08-07T11:18:40.832Z"
   },
   {
    "duration": 38,
    "start_time": "2021-08-07T11:18:44.460Z"
   },
   {
    "duration": 666,
    "start_time": "2021-08-07T11:20:08.093Z"
   },
   {
    "duration": 15,
    "start_time": "2021-08-07T11:21:16.162Z"
   },
   {
    "duration": 801,
    "start_time": "2021-08-07T11:21:16.860Z"
   },
   {
    "duration": 2893,
    "start_time": "2021-08-07T11:21:24.841Z"
   },
   {
    "duration": 1526,
    "start_time": "2021-08-07T11:21:30.816Z"
   },
   {
    "duration": 1159,
    "start_time": "2021-08-07T11:31:11.851Z"
   },
   {
    "duration": 1304,
    "start_time": "2021-08-07T11:33:45.133Z"
   },
   {
    "duration": 19,
    "start_time": "2021-08-07T11:46:05.022Z"
   },
   {
    "duration": 20,
    "start_time": "2021-08-07T11:47:23.844Z"
   },
   {
    "duration": 14,
    "start_time": "2021-08-07T11:47:32.948Z"
   },
   {
    "duration": 16,
    "start_time": "2021-08-07T11:47:52.793Z"
   },
   {
    "duration": 703,
    "start_time": "2021-08-07T11:48:34.906Z"
   },
   {
    "duration": 709,
    "start_time": "2021-08-07T11:49:53.866Z"
   },
   {
    "duration": 13,
    "start_time": "2021-08-07T11:52:19.577Z"
   },
   {
    "duration": 7,
    "start_time": "2021-08-07T11:54:36.354Z"
   },
   {
    "duration": 10,
    "start_time": "2021-08-07T11:54:39.456Z"
   },
   {
    "duration": 752,
    "start_time": "2021-08-07T11:54:44.057Z"
   },
   {
    "duration": 8,
    "start_time": "2021-08-07T11:56:12.663Z"
   },
   {
    "duration": 13,
    "start_time": "2021-08-07T11:56:16.399Z"
   },
   {
    "duration": 700,
    "start_time": "2021-08-07T11:56:21.814Z"
   },
   {
    "duration": 10,
    "start_time": "2021-08-07T11:56:48.656Z"
   },
   {
    "duration": 15,
    "start_time": "2021-08-07T11:56:50.694Z"
   },
   {
    "duration": 731,
    "start_time": "2021-08-07T11:56:51.375Z"
   },
   {
    "duration": 8,
    "start_time": "2021-08-07T11:57:08.461Z"
   },
   {
    "duration": 7,
    "start_time": "2021-08-07T12:01:23.134Z"
   },
   {
    "duration": 8,
    "start_time": "2021-08-07T12:01:30.310Z"
   },
   {
    "duration": 13,
    "start_time": "2021-08-07T12:01:31.701Z"
   },
   {
    "duration": 711,
    "start_time": "2021-08-07T12:01:34.400Z"
   },
   {
    "duration": 799,
    "start_time": "2021-08-07T12:04:58.739Z"
   },
   {
    "duration": 8,
    "start_time": "2021-08-07T12:05:50.364Z"
   },
   {
    "duration": 709,
    "start_time": "2021-08-07T12:05:54.155Z"
   },
   {
    "duration": 712,
    "start_time": "2021-08-07T12:07:19.356Z"
   },
   {
    "duration": 6,
    "start_time": "2021-08-07T12:07:23.379Z"
   },
   {
    "duration": 896,
    "start_time": "2021-08-07T12:07:24.788Z"
   },
   {
    "duration": 939,
    "start_time": "2021-08-07T12:07:29.603Z"
   },
   {
    "duration": 1047,
    "start_time": "2021-08-07T12:07:33.379Z"
   },
   {
    "duration": 462,
    "start_time": "2021-08-07T12:07:39.123Z"
   },
   {
    "duration": 635,
    "start_time": "2021-08-07T12:08:26.915Z"
   },
   {
    "duration": 623,
    "start_time": "2021-08-07T12:08:49.646Z"
   },
   {
    "duration": 629,
    "start_time": "2021-08-07T12:08:53.131Z"
   },
   {
    "duration": 632,
    "start_time": "2021-08-07T12:09:26.860Z"
   },
   {
    "duration": 272,
    "start_time": "2021-08-07T12:16:25.843Z"
   },
   {
    "duration": 1180,
    "start_time": "2021-08-07T12:19:05.539Z"
   },
   {
    "duration": 1031,
    "start_time": "2021-08-07T12:19:17.833Z"
   },
   {
    "duration": 1103,
    "start_time": "2021-08-07T12:29:39.686Z"
   },
   {
    "duration": 1267,
    "start_time": "2021-08-07T12:29:49.587Z"
   },
   {
    "duration": 1023,
    "start_time": "2021-08-07T12:30:04.505Z"
   },
   {
    "duration": 1131,
    "start_time": "2021-08-07T12:31:20.792Z"
   },
   {
    "duration": 664,
    "start_time": "2021-08-07T12:37:56.590Z"
   },
   {
    "duration": 1009,
    "start_time": "2021-08-07T12:38:19.919Z"
   },
   {
    "duration": 270,
    "start_time": "2021-08-07T12:38:36.509Z"
   },
   {
    "duration": 1090,
    "start_time": "2021-08-07T12:39:10.205Z"
   },
   {
    "duration": 1005,
    "start_time": "2021-08-07T12:39:32.086Z"
   },
   {
    "duration": 987,
    "start_time": "2021-08-07T12:40:27.084Z"
   },
   {
    "duration": 1119,
    "start_time": "2021-08-07T12:41:56.476Z"
   },
   {
    "duration": 957,
    "start_time": "2021-08-07T12:42:23.790Z"
   },
   {
    "duration": 397,
    "start_time": "2021-08-07T12:43:06.235Z"
   },
   {
    "duration": 419,
    "start_time": "2021-08-07T12:49:20.802Z"
   },
   {
    "duration": 484,
    "start_time": "2021-08-07T12:50:51.856Z"
   },
   {
    "duration": 461,
    "start_time": "2021-08-07T12:51:07.163Z"
   },
   {
    "duration": 146,
    "start_time": "2021-08-07T12:51:47.768Z"
   },
   {
    "duration": 425,
    "start_time": "2021-08-07T12:51:59.541Z"
   },
   {
    "duration": 465,
    "start_time": "2021-08-07T12:52:14.129Z"
   },
   {
    "duration": 1056,
    "start_time": "2021-08-07T12:55:24.518Z"
   },
   {
    "duration": 1114,
    "start_time": "2021-08-07T12:55:45.560Z"
   },
   {
    "duration": 1077,
    "start_time": "2021-08-07T12:56:05.836Z"
   },
   {
    "duration": 674,
    "start_time": "2021-08-07T12:56:32.023Z"
   },
   {
    "duration": 758,
    "start_time": "2021-08-07T12:58:08.915Z"
   },
   {
    "duration": 664,
    "start_time": "2021-08-07T12:58:56.306Z"
   },
   {
    "duration": 699,
    "start_time": "2021-08-07T12:59:10.686Z"
   },
   {
    "duration": 715,
    "start_time": "2021-08-07T12:59:20.949Z"
   },
   {
    "duration": 801,
    "start_time": "2021-08-07T13:00:03.174Z"
   },
   {
    "duration": 675,
    "start_time": "2021-08-07T13:03:57.381Z"
   },
   {
    "duration": 130,
    "start_time": "2021-08-07T13:08:31.027Z"
   },
   {
    "duration": 1323,
    "start_time": "2021-08-07T13:08:37.812Z"
   },
   {
    "duration": 1110,
    "start_time": "2021-08-07T13:10:28.717Z"
   },
   {
    "duration": 724,
    "start_time": "2021-08-07T13:12:53.813Z"
   },
   {
    "duration": 773,
    "start_time": "2021-08-07T13:13:58.874Z"
   },
   {
    "duration": 1004,
    "start_time": "2021-08-07T13:14:21.718Z"
   },
   {
    "duration": 800,
    "start_time": "2021-08-07T13:14:52.147Z"
   },
   {
    "duration": 777,
    "start_time": "2021-08-07T13:15:02.686Z"
   },
   {
    "duration": 768,
    "start_time": "2021-08-07T13:15:20.340Z"
   },
   {
    "duration": 18,
    "start_time": "2021-08-07T13:17:28.292Z"
   },
   {
    "duration": 18,
    "start_time": "2021-08-07T13:17:30.480Z"
   },
   {
    "duration": 843,
    "start_time": "2021-08-07T13:17:32.285Z"
   },
   {
    "duration": 9,
    "start_time": "2021-08-07T13:17:48.294Z"
   },
   {
    "duration": 821,
    "start_time": "2021-08-07T13:17:49.690Z"
   },
   {
    "duration": 9,
    "start_time": "2021-08-07T13:18:01.437Z"
   },
   {
    "duration": 867,
    "start_time": "2021-08-07T13:18:02.225Z"
   },
   {
    "duration": 1016,
    "start_time": "2021-08-07T13:18:05.472Z"
   },
   {
    "duration": 981,
    "start_time": "2021-08-07T13:18:06.491Z"
   },
   {
    "duration": 483,
    "start_time": "2021-08-07T13:18:08.156Z"
   },
   {
    "duration": 788,
    "start_time": "2021-08-07T13:18:13.962Z"
   },
   {
    "duration": 10,
    "start_time": "2021-08-07T13:19:13.297Z"
   },
   {
    "duration": 10,
    "start_time": "2021-08-07T13:19:14.240Z"
   },
   {
    "duration": 828,
    "start_time": "2021-08-07T13:19:14.504Z"
   },
   {
    "duration": 20,
    "start_time": "2021-08-07T13:19:15.680Z"
   },
   {
    "duration": 816,
    "start_time": "2021-08-07T13:19:16.488Z"
   },
   {
    "duration": 8,
    "start_time": "2021-08-07T13:19:17.816Z"
   },
   {
    "duration": 1047,
    "start_time": "2021-08-07T13:19:18.105Z"
   },
   {
    "duration": 1074,
    "start_time": "2021-08-07T13:19:20.146Z"
   },
   {
    "duration": 1170,
    "start_time": "2021-08-07T13:19:21.224Z"
   },
   {
    "duration": 509,
    "start_time": "2021-08-07T13:19:23.533Z"
   },
   {
    "duration": 743,
    "start_time": "2021-08-07T13:19:25.791Z"
   },
   {
    "duration": 1711,
    "start_time": "2021-08-07T13:19:44.824Z"
   },
   {
    "duration": 84,
    "start_time": "2021-08-07T13:19:46.537Z"
   },
   {
    "duration": 18,
    "start_time": "2021-08-07T13:19:46.624Z"
   },
   {
    "duration": 17,
    "start_time": "2021-08-07T13:19:46.646Z"
   },
   {
    "duration": 31,
    "start_time": "2021-08-07T13:19:46.666Z"
   },
   {
    "duration": 19,
    "start_time": "2021-08-07T13:19:46.700Z"
   },
   {
    "duration": 5,
    "start_time": "2021-08-07T13:19:46.722Z"
   },
   {
    "duration": 16,
    "start_time": "2021-08-07T13:19:46.738Z"
   },
   {
    "duration": 26,
    "start_time": "2021-08-07T13:19:46.792Z"
   },
   {
    "duration": 15,
    "start_time": "2021-08-07T13:19:46.820Z"
   },
   {
    "duration": 6,
    "start_time": "2021-08-07T13:19:46.838Z"
   },
   {
    "duration": 55,
    "start_time": "2021-08-07T13:19:46.846Z"
   },
   {
    "duration": 32,
    "start_time": "2021-08-07T13:19:46.907Z"
   },
   {
    "duration": 791,
    "start_time": "2021-08-07T13:19:46.942Z"
   },
   {
    "duration": 16,
    "start_time": "2021-08-07T13:19:47.737Z"
   },
   {
    "duration": 893,
    "start_time": "2021-08-07T13:19:47.756Z"
   },
   {
    "duration": 3162,
    "start_time": "2021-08-07T13:19:48.652Z"
   },
   {
    "duration": 13,
    "start_time": "2021-08-07T13:19:51.817Z"
   },
   {
    "duration": 61,
    "start_time": "2021-08-07T13:19:51.844Z"
   },
   {
    "duration": 944,
    "start_time": "2021-08-07T13:19:51.910Z"
   },
   {
    "duration": 10,
    "start_time": "2021-08-07T13:19:52.858Z"
   },
   {
    "duration": 978,
    "start_time": "2021-08-07T13:19:52.893Z"
   },
   {
    "duration": 9,
    "start_time": "2021-08-07T13:19:53.887Z"
   },
   {
    "duration": 1298,
    "start_time": "2021-08-07T13:19:53.901Z"
   },
   {
    "duration": 1104,
    "start_time": "2021-08-07T13:19:55.203Z"
   },
   {
    "duration": 1019,
    "start_time": "2021-08-07T13:19:56.315Z"
   },
   {
    "duration": 533,
    "start_time": "2021-08-07T13:19:57.337Z"
   },
   {
    "duration": 773,
    "start_time": "2021-08-07T13:19:57.873Z"
   },
   {
    "duration": 822,
    "start_time": "2021-08-07T13:19:58.649Z"
   },
   {
    "duration": 742,
    "start_time": "2021-08-07T13:19:59.474Z"
   },
   {
    "duration": 21,
    "start_time": "2021-08-07T13:20:00.223Z"
   },
   {
    "duration": 10,
    "start_time": "2021-08-07T13:20:00.247Z"
   },
   {
    "duration": 16,
    "start_time": "2021-08-07T13:20:00.290Z"
   },
   {
    "duration": 764,
    "start_time": "2021-08-07T13:20:00.309Z"
   },
   {
    "duration": 17,
    "start_time": "2021-08-07T13:20:01.076Z"
   },
   {
    "duration": 39,
    "start_time": "2021-08-07T13:20:01.097Z"
   },
   {
    "duration": 11,
    "start_time": "2021-08-07T13:20:01.139Z"
   },
   {
    "duration": 16,
    "start_time": "2021-08-07T13:20:01.153Z"
   },
   {
    "duration": 807,
    "start_time": "2021-08-07T13:20:01.193Z"
   },
   {
    "duration": 15,
    "start_time": "2021-08-07T13:20:02.002Z"
   },
   {
    "duration": 882,
    "start_time": "2021-08-07T13:30:45.462Z"
   },
   {
    "duration": 692,
    "start_time": "2021-08-07T13:33:38.841Z"
   },
   {
    "duration": 818,
    "start_time": "2021-08-07T13:35:45.129Z"
   },
   {
    "duration": 13,
    "start_time": "2021-08-07T13:36:36.368Z"
   },
   {
    "duration": 13,
    "start_time": "2021-08-07T13:37:11.168Z"
   },
   {
    "duration": 6,
    "start_time": "2021-08-07T13:37:26.134Z"
   },
   {
    "duration": 689,
    "start_time": "2021-08-07T13:37:53.201Z"
   },
   {
    "duration": 9,
    "start_time": "2021-08-07T13:38:40.056Z"
   },
   {
    "duration": 13,
    "start_time": "2021-08-07T13:39:25.417Z"
   },
   {
    "duration": 13,
    "start_time": "2021-08-07T13:39:40.136Z"
   },
   {
    "duration": 11,
    "start_time": "2021-08-07T13:40:04.767Z"
   },
   {
    "duration": 810,
    "start_time": "2021-08-07T13:40:30.895Z"
   },
   {
    "duration": 7,
    "start_time": "2021-08-07T13:41:46.729Z"
   },
   {
    "duration": 954,
    "start_time": "2021-08-07T13:42:21.048Z"
   },
   {
    "duration": 12,
    "start_time": "2021-08-07T13:44:54.410Z"
   },
   {
    "duration": 7,
    "start_time": "2021-08-07T13:45:16.775Z"
   },
   {
    "duration": 9,
    "start_time": "2021-08-07T13:46:01.261Z"
   },
   {
    "duration": 11,
    "start_time": "2021-08-07T13:46:16.590Z"
   },
   {
    "duration": 11,
    "start_time": "2021-08-07T13:47:08.097Z"
   },
   {
    "duration": 688,
    "start_time": "2021-08-07T13:47:13.247Z"
   },
   {
    "duration": 6,
    "start_time": "2021-08-07T13:50:59.377Z"
   },
   {
    "duration": 13,
    "start_time": "2021-08-07T14:16:12.058Z"
   },
   {
    "duration": 14,
    "start_time": "2021-08-07T14:16:44.103Z"
   },
   {
    "duration": 9,
    "start_time": "2021-08-07T14:16:48.446Z"
   },
   {
    "duration": 10,
    "start_time": "2021-08-07T14:16:49.934Z"
   },
   {
    "duration": 727,
    "start_time": "2021-08-07T14:16:53.269Z"
   },
   {
    "duration": 6,
    "start_time": "2021-08-07T14:17:12.230Z"
   },
   {
    "duration": 7,
    "start_time": "2021-08-07T14:19:55.351Z"
   },
   {
    "duration": 9,
    "start_time": "2021-08-07T14:19:58.245Z"
   },
   {
    "duration": 12,
    "start_time": "2021-08-07T14:19:59.989Z"
   },
   {
    "duration": 681,
    "start_time": "2021-08-07T14:20:01.444Z"
   },
   {
    "duration": 7,
    "start_time": "2021-08-07T14:20:06.445Z"
   },
   {
    "duration": 8,
    "start_time": "2021-08-07T14:22:05.554Z"
   },
   {
    "duration": 14,
    "start_time": "2021-08-07T14:22:51.115Z"
   },
   {
    "duration": 12,
    "start_time": "2021-08-07T14:23:15.381Z"
   },
   {
    "duration": 12,
    "start_time": "2021-08-07T14:23:17.502Z"
   },
   {
    "duration": 10,
    "start_time": "2021-08-07T14:23:19.319Z"
   },
   {
    "duration": 859,
    "start_time": "2021-08-07T14:23:25.018Z"
   },
   {
    "duration": 8,
    "start_time": "2021-08-07T14:23:34.267Z"
   },
   {
    "duration": 14,
    "start_time": "2021-08-07T14:24:23.141Z"
   },
   {
    "duration": 1554,
    "start_time": "2021-08-07T14:25:39.633Z"
   },
   {
    "duration": 80,
    "start_time": "2021-08-07T14:25:41.190Z"
   },
   {
    "duration": 31,
    "start_time": "2021-08-07T14:25:41.275Z"
   },
   {
    "duration": 23,
    "start_time": "2021-08-07T14:25:41.309Z"
   },
   {
    "duration": 7,
    "start_time": "2021-08-07T14:25:41.335Z"
   },
   {
    "duration": 52,
    "start_time": "2021-08-07T14:25:41.345Z"
   },
   {
    "duration": 6,
    "start_time": "2021-08-07T14:25:41.400Z"
   },
   {
    "duration": 22,
    "start_time": "2021-08-07T14:25:41.412Z"
   },
   {
    "duration": 20,
    "start_time": "2021-08-07T14:25:41.437Z"
   },
   {
    "duration": 44,
    "start_time": "2021-08-07T14:25:41.460Z"
   },
   {
    "duration": 14,
    "start_time": "2021-08-07T14:25:41.507Z"
   },
   {
    "duration": 13,
    "start_time": "2021-08-07T14:25:41.524Z"
   },
   {
    "duration": 84,
    "start_time": "2021-08-07T14:25:41.540Z"
   },
   {
    "duration": 744,
    "start_time": "2021-08-07T14:25:41.627Z"
   },
   {
    "duration": 36,
    "start_time": "2021-08-07T14:25:42.374Z"
   },
   {
    "duration": 1159,
    "start_time": "2021-08-07T14:25:42.413Z"
   },
   {
    "duration": 3228,
    "start_time": "2021-08-07T14:25:43.575Z"
   },
   {
    "duration": 10,
    "start_time": "2021-08-07T14:25:46.806Z"
   },
   {
    "duration": 11,
    "start_time": "2021-08-07T14:25:46.821Z"
   },
   {
    "duration": 1231,
    "start_time": "2021-08-07T14:25:46.835Z"
   },
   {
    "duration": 22,
    "start_time": "2021-08-07T14:25:48.070Z"
   },
   {
    "duration": 769,
    "start_time": "2021-08-07T14:25:48.095Z"
   },
   {
    "duration": 5,
    "start_time": "2021-08-07T14:25:48.870Z"
   },
   {
    "duration": 1096,
    "start_time": "2021-08-07T14:25:48.889Z"
   },
   {
    "duration": 1152,
    "start_time": "2021-08-07T14:25:49.991Z"
   },
   {
    "duration": 942,
    "start_time": "2021-08-07T14:25:51.146Z"
   },
   {
    "duration": 559,
    "start_time": "2021-08-07T14:25:52.090Z"
   },
   {
    "duration": 853,
    "start_time": "2021-08-07T14:25:52.652Z"
   },
   {
    "duration": 1026,
    "start_time": "2021-08-07T14:25:53.508Z"
   },
   {
    "duration": 7,
    "start_time": "2021-08-07T14:25:54.537Z"
   },
   {
    "duration": 956,
    "start_time": "2021-08-07T14:25:54.548Z"
   },
   {
    "duration": 14,
    "start_time": "2021-08-07T14:25:55.508Z"
   },
   {
    "duration": 21,
    "start_time": "2021-08-07T14:25:55.526Z"
   },
   {
    "duration": 45,
    "start_time": "2021-08-07T14:25:55.551Z"
   },
   {
    "duration": 1062,
    "start_time": "2021-08-07T14:25:55.600Z"
   },
   {
    "duration": 29,
    "start_time": "2021-08-07T14:25:56.666Z"
   },
   {
    "duration": 26,
    "start_time": "2021-08-07T14:25:56.702Z"
   },
   {
    "duration": 12,
    "start_time": "2021-08-07T14:25:56.732Z"
   },
   {
    "duration": 13,
    "start_time": "2021-08-07T14:25:56.746Z"
   },
   {
    "duration": 891,
    "start_time": "2021-08-07T14:25:56.762Z"
   },
   {
    "duration": 39,
    "start_time": "2021-08-07T14:25:57.657Z"
   },
   {
    "duration": 384,
    "start_time": "2021-08-07T16:18:51.794Z"
   },
   {
    "duration": 1389,
    "start_time": "2021-08-07T16:18:54.345Z"
   },
   {
    "duration": 75,
    "start_time": "2021-08-07T16:18:55.736Z"
   },
   {
    "duration": 16,
    "start_time": "2021-08-07T16:18:55.814Z"
   },
   {
    "duration": 46,
    "start_time": "2021-08-07T16:18:55.833Z"
   },
   {
    "duration": 10,
    "start_time": "2021-08-07T16:18:55.881Z"
   },
   {
    "duration": 13,
    "start_time": "2021-08-07T16:18:55.893Z"
   },
   {
    "duration": 3,
    "start_time": "2021-08-07T16:18:55.908Z"
   },
   {
    "duration": 17,
    "start_time": "2021-08-07T16:18:55.915Z"
   },
   {
    "duration": 54,
    "start_time": "2021-08-07T16:18:55.935Z"
   },
   {
    "duration": 13,
    "start_time": "2021-08-07T16:18:55.992Z"
   },
   {
    "duration": 17,
    "start_time": "2021-08-07T16:18:56.008Z"
   },
   {
    "duration": 19,
    "start_time": "2021-08-07T16:18:56.027Z"
   },
   {
    "duration": 53,
    "start_time": "2021-08-07T16:18:56.048Z"
   },
   {
    "duration": 791,
    "start_time": "2021-08-07T16:18:56.103Z"
   },
   {
    "duration": 13,
    "start_time": "2021-08-07T16:18:56.896Z"
   },
   {
    "duration": 808,
    "start_time": "2021-08-07T16:18:56.911Z"
   },
   {
    "duration": 2255,
    "start_time": "2021-08-07T16:18:57.722Z"
   },
   {
    "duration": 9,
    "start_time": "2021-08-07T16:18:59.980Z"
   },
   {
    "duration": 11,
    "start_time": "2021-08-07T16:18:59.992Z"
   },
   {
    "duration": 845,
    "start_time": "2021-08-07T16:19:00.006Z"
   },
   {
    "duration": 20,
    "start_time": "2021-08-07T16:19:00.854Z"
   },
   {
    "duration": 720,
    "start_time": "2021-08-07T16:19:00.878Z"
   },
   {
    "duration": 7,
    "start_time": "2021-08-07T16:19:01.605Z"
   },
   {
    "duration": 928,
    "start_time": "2021-08-07T16:19:01.616Z"
   },
   {
    "duration": 942,
    "start_time": "2021-08-07T16:19:02.547Z"
   },
   {
    "duration": 902,
    "start_time": "2021-08-07T16:19:03.491Z"
   },
   {
    "duration": 459,
    "start_time": "2021-08-07T16:19:04.396Z"
   },
   {
    "duration": 710,
    "start_time": "2021-08-07T16:19:04.858Z"
   },
   {
    "duration": 1292,
    "start_time": "2021-08-07T16:19:05.571Z"
   },
   {
    "duration": 13508,
    "start_time": "2021-08-07T16:18:53.359Z"
   },
   {
    "duration": 13508,
    "start_time": "2021-08-07T16:18:53.363Z"
   },
   {
    "duration": 13502,
    "start_time": "2021-08-07T16:18:53.371Z"
   },
   {
    "duration": 13500,
    "start_time": "2021-08-07T16:18:53.375Z"
   },
   {
    "duration": 13501,
    "start_time": "2021-08-07T16:18:53.378Z"
   },
   {
    "duration": 13500,
    "start_time": "2021-08-07T16:18:53.381Z"
   },
   {
    "duration": 13495,
    "start_time": "2021-08-07T16:18:53.388Z"
   },
   {
    "duration": 13494,
    "start_time": "2021-08-07T16:18:53.390Z"
   },
   {
    "duration": 13493,
    "start_time": "2021-08-07T16:18:53.393Z"
   },
   {
    "duration": 13490,
    "start_time": "2021-08-07T16:18:53.397Z"
   },
   {
    "duration": 13484,
    "start_time": "2021-08-07T16:18:53.404Z"
   },
   {
    "duration": 13483,
    "start_time": "2021-08-07T16:18:53.407Z"
   },
   {
    "duration": 13481,
    "start_time": "2021-08-07T16:18:53.410Z"
   },
   {
    "duration": 133,
    "start_time": "2021-08-07T16:20:11.618Z"
   },
   {
    "duration": 422,
    "start_time": "2021-08-07T16:20:29.479Z"
   },
   {
    "duration": 414,
    "start_time": "2021-08-07T16:20:37.324Z"
   },
   {
    "duration": 584,
    "start_time": "2021-08-07T16:20:45.295Z"
   },
   {
    "duration": 659,
    "start_time": "2021-08-07T16:20:53.543Z"
   },
   {
    "duration": 882,
    "start_time": "2021-08-07T16:20:58.023Z"
   },
   {
    "duration": 905,
    "start_time": "2021-08-07T16:21:04.235Z"
   },
   {
    "duration": 902,
    "start_time": "2021-08-07T16:21:17.403Z"
   },
   {
    "duration": 116,
    "start_time": "2021-08-07T16:24:56.138Z"
   },
   {
    "duration": 1105,
    "start_time": "2021-09-03T17:22:39.643Z"
   },
   {
    "duration": 1297,
    "start_time": "2021-09-03T17:22:47.224Z"
   },
   {
    "duration": 66,
    "start_time": "2021-09-03T17:22:48.528Z"
   },
   {
    "duration": 14,
    "start_time": "2021-09-03T17:22:48.596Z"
   },
   {
    "duration": 11,
    "start_time": "2021-09-03T17:22:48.613Z"
   },
   {
    "duration": 37,
    "start_time": "2021-09-03T17:22:48.627Z"
   },
   {
    "duration": 9,
    "start_time": "2021-09-03T17:22:48.666Z"
   },
   {
    "duration": 5,
    "start_time": "2021-09-03T17:22:48.677Z"
   },
   {
    "duration": 24,
    "start_time": "2021-09-03T17:22:48.686Z"
   },
   {
    "duration": 16,
    "start_time": "2021-09-03T17:22:48.714Z"
   },
   {
    "duration": 37,
    "start_time": "2021-09-03T17:22:48.732Z"
   },
   {
    "duration": 8,
    "start_time": "2021-09-03T17:22:48.771Z"
   },
   {
    "duration": 18,
    "start_time": "2021-09-03T17:22:48.781Z"
   },
   {
    "duration": 24,
    "start_time": "2021-09-03T17:22:48.801Z"
   },
   {
    "duration": 640,
    "start_time": "2021-09-03T17:22:48.827Z"
   },
   {
    "duration": 12,
    "start_time": "2021-09-03T17:22:49.470Z"
   },
   {
    "duration": 718,
    "start_time": "2021-09-03T17:22:49.484Z"
   },
   {
    "duration": 1968,
    "start_time": "2021-09-03T17:22:50.204Z"
   },
   {
    "duration": 9,
    "start_time": "2021-09-03T17:22:52.174Z"
   },
   {
    "duration": 11,
    "start_time": "2021-09-03T17:22:52.185Z"
   },
   {
    "duration": 813,
    "start_time": "2021-09-03T17:22:52.199Z"
   },
   {
    "duration": 8,
    "start_time": "2021-09-03T17:22:53.014Z"
   },
   {
    "duration": 670,
    "start_time": "2021-09-03T17:22:53.024Z"
   },
   {
    "duration": 6,
    "start_time": "2021-09-03T17:22:53.696Z"
   },
   {
    "duration": 876,
    "start_time": "2021-09-03T17:22:53.705Z"
   },
   {
    "duration": 840,
    "start_time": "2021-09-03T17:22:54.584Z"
   },
   {
    "duration": 794,
    "start_time": "2021-09-03T17:22:55.430Z"
   },
   {
    "duration": 445,
    "start_time": "2021-09-03T17:22:56.227Z"
   },
   {
    "duration": 761,
    "start_time": "2021-09-03T17:22:56.675Z"
   },
   {
    "duration": 853,
    "start_time": "2021-09-03T17:22:57.438Z"
   },
   {
    "duration": 667,
    "start_time": "2021-09-03T17:22:58.294Z"
   },
   {
    "duration": 6,
    "start_time": "2021-09-03T17:22:58.964Z"
   },
   {
    "duration": 639,
    "start_time": "2021-09-03T17:22:58.973Z"
   },
   {
    "duration": 7,
    "start_time": "2021-09-03T17:22:59.614Z"
   },
   {
    "duration": 26,
    "start_time": "2021-09-03T17:22:59.623Z"
   },
   {
    "duration": 12,
    "start_time": "2021-09-03T17:22:59.652Z"
   },
   {
    "duration": 599,
    "start_time": "2021-09-03T17:22:59.667Z"
   },
   {
    "duration": 9,
    "start_time": "2021-09-03T17:23:00.268Z"
   },
   {
    "duration": 13,
    "start_time": "2021-09-03T17:23:00.279Z"
   },
   {
    "duration": 21,
    "start_time": "2021-09-03T17:23:00.294Z"
   },
   {
    "duration": 28,
    "start_time": "2021-09-03T17:23:00.318Z"
   },
   {
    "duration": 714,
    "start_time": "2021-09-03T17:23:00.348Z"
   },
   {
    "duration": 9,
    "start_time": "2021-09-03T17:23:01.064Z"
   }
  ],
  "kernelspec": {
   "display_name": "Python 3 (ipykernel)",
   "language": "python",
   "name": "python3"
  },
  "language_info": {
   "codemirror_mode": {
    "name": "ipython",
    "version": 3
   },
   "file_extension": ".py",
   "mimetype": "text/x-python",
   "name": "python",
   "nbconvert_exporter": "python",
   "pygments_lexer": "ipython3",
   "version": "3.9.7"
  },
  "toc": {
   "base_numbering": 1,
   "nav_menu": {},
   "number_sections": true,
   "sideBar": true,
   "skip_h1_title": true,
   "title_cell": "Table of Contents",
   "title_sidebar": "Contents",
   "toc_cell": true,
   "toc_position": {
    "height": "calc(100% - 180px)",
    "left": "10px",
    "top": "150px",
    "width": "422.391px"
   },
   "toc_section_display": true,
   "toc_window_display": true
  }
 },
 "nbformat": 4,
 "nbformat_minor": 2
}
