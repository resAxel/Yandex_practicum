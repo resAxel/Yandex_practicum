{
 "cells": [
  {
   "cell_type": "markdown",
   "metadata": {},
   "source": [
    "# Рекомендация тарифов"
   ]
  },
  {
   "cell_type": "markdown",
   "metadata": {},
   "source": [
    "В вашем распоряжении данные о поведении клиентов, которые уже перешли на эти тарифы (из проекта курса «Статистический анализ данных»). Нужно построить модель для задачи классификации, которая выберет подходящий тариф. Предобработка данных не понадобится — вы её уже сделали.\n",
    "\n",
    "Постройте модель с максимально большим значением *accuracy*. Чтобы сдать проект успешно, нужно довести долю правильных ответов по крайней мере до 0.75. Проверьте *accuracy* на тестовой выборке самостоятельно."
   ]
  },
  {
   "cell_type": "code",
   "execution_count": 1,
   "metadata": {},
   "outputs": [],
   "source": [
    "import pandas as pd\n",
    "from sklearn.model_selection import train_test_split\n",
    "from sklearn.tree import DecisionTreeClassifier\n",
    "from sklearn.ensemble import RandomForestClassifier\n",
    "from sklearn.linear_model import LogisticRegression\n",
    "from sklearn.metrics import accuracy_score\n",
    "from sklearn.model_selection import GridSearchCV"
   ]
  },
  {
   "cell_type": "markdown",
   "metadata": {},
   "source": [
    "## Откройте и изучите файл"
   ]
  },
  {
   "cell_type": "code",
   "execution_count": 2,
   "metadata": {},
   "outputs": [
    {
     "data": {
      "text/html": [
       "<div>\n",
       "<style scoped>\n",
       "    .dataframe tbody tr th:only-of-type {\n",
       "        vertical-align: middle;\n",
       "    }\n",
       "\n",
       "    .dataframe tbody tr th {\n",
       "        vertical-align: top;\n",
       "    }\n",
       "\n",
       "    .dataframe thead th {\n",
       "        text-align: right;\n",
       "    }\n",
       "</style>\n",
       "<table border=\"1\" class=\"dataframe\">\n",
       "  <thead>\n",
       "    <tr style=\"text-align: right;\">\n",
       "      <th></th>\n",
       "      <th>calls</th>\n",
       "      <th>minutes</th>\n",
       "      <th>messages</th>\n",
       "      <th>mb_used</th>\n",
       "      <th>is_ultra</th>\n",
       "    </tr>\n",
       "  </thead>\n",
       "  <tbody>\n",
       "    <tr>\n",
       "      <th>1415</th>\n",
       "      <td>82.0</td>\n",
       "      <td>507.89</td>\n",
       "      <td>88.0</td>\n",
       "      <td>17543.37</td>\n",
       "      <td>1</td>\n",
       "    </tr>\n",
       "    <tr>\n",
       "      <th>916</th>\n",
       "      <td>50.0</td>\n",
       "      <td>375.91</td>\n",
       "      <td>35.0</td>\n",
       "      <td>12388.40</td>\n",
       "      <td>0</td>\n",
       "    </tr>\n",
       "    <tr>\n",
       "      <th>1670</th>\n",
       "      <td>83.0</td>\n",
       "      <td>540.49</td>\n",
       "      <td>41.0</td>\n",
       "      <td>9127.74</td>\n",
       "      <td>0</td>\n",
       "    </tr>\n",
       "    <tr>\n",
       "      <th>686</th>\n",
       "      <td>79.0</td>\n",
       "      <td>562.99</td>\n",
       "      <td>19.0</td>\n",
       "      <td>25508.19</td>\n",
       "      <td>1</td>\n",
       "    </tr>\n",
       "    <tr>\n",
       "      <th>2951</th>\n",
       "      <td>78.0</td>\n",
       "      <td>531.29</td>\n",
       "      <td>20.0</td>\n",
       "      <td>9217.25</td>\n",
       "      <td>0</td>\n",
       "    </tr>\n",
       "    <tr>\n",
       "      <th>654</th>\n",
       "      <td>53.0</td>\n",
       "      <td>478.18</td>\n",
       "      <td>78.0</td>\n",
       "      <td>20152.53</td>\n",
       "      <td>0</td>\n",
       "    </tr>\n",
       "    <tr>\n",
       "      <th>2827</th>\n",
       "      <td>73.0</td>\n",
       "      <td>582.47</td>\n",
       "      <td>33.0</td>\n",
       "      <td>12095.91</td>\n",
       "      <td>0</td>\n",
       "    </tr>\n",
       "    <tr>\n",
       "      <th>1466</th>\n",
       "      <td>31.0</td>\n",
       "      <td>172.10</td>\n",
       "      <td>25.0</td>\n",
       "      <td>31077.59</td>\n",
       "      <td>0</td>\n",
       "    </tr>\n",
       "    <tr>\n",
       "      <th>2223</th>\n",
       "      <td>28.0</td>\n",
       "      <td>222.21</td>\n",
       "      <td>30.0</td>\n",
       "      <td>22986.30</td>\n",
       "      <td>0</td>\n",
       "    </tr>\n",
       "    <tr>\n",
       "      <th>2639</th>\n",
       "      <td>68.0</td>\n",
       "      <td>523.56</td>\n",
       "      <td>14.0</td>\n",
       "      <td>18910.66</td>\n",
       "      <td>0</td>\n",
       "    </tr>\n",
       "  </tbody>\n",
       "</table>\n",
       "</div>"
      ],
      "text/plain": [
       "      calls  minutes  messages   mb_used  is_ultra\n",
       "1415   82.0   507.89      88.0  17543.37         1\n",
       "916    50.0   375.91      35.0  12388.40         0\n",
       "1670   83.0   540.49      41.0   9127.74         0\n",
       "686    79.0   562.99      19.0  25508.19         1\n",
       "2951   78.0   531.29      20.0   9217.25         0\n",
       "654    53.0   478.18      78.0  20152.53         0\n",
       "2827   73.0   582.47      33.0  12095.91         0\n",
       "1466   31.0   172.10      25.0  31077.59         0\n",
       "2223   28.0   222.21      30.0  22986.30         0\n",
       "2639   68.0   523.56      14.0  18910.66         0"
      ]
     },
     "execution_count": 2,
     "metadata": {},
     "output_type": "execute_result"
    }
   ],
   "source": [
    "df = pd.read_csv('Ya_data/users_behavior.csv')\n",
    "df.sample(10, random_state = 12345)"
   ]
  },
  {
   "cell_type": "code",
   "execution_count": 3,
   "metadata": {},
   "outputs": [
    {
     "name": "stdout",
     "output_type": "stream",
     "text": [
      "<class 'pandas.core.frame.DataFrame'>\n",
      "RangeIndex: 3214 entries, 0 to 3213\n",
      "Data columns (total 5 columns):\n",
      " #   Column    Non-Null Count  Dtype  \n",
      "---  ------    --------------  -----  \n",
      " 0   calls     3214 non-null   float64\n",
      " 1   minutes   3214 non-null   float64\n",
      " 2   messages  3214 non-null   float64\n",
      " 3   mb_used   3214 non-null   float64\n",
      " 4   is_ultra  3214 non-null   int64  \n",
      "dtypes: float64(4), int64(1)\n",
      "memory usage: 125.7 KB\n"
     ]
    }
   ],
   "source": [
    "df.info()"
   ]
  },
  {
   "cell_type": "markdown",
   "metadata": {},
   "source": [
    "В датасете 3213 объектов. Каждый объект в наборе данных — это информация о поведении одного пользователя за месяц.  \n",
    "Известно:  \n",
    "сalls — количество звонков,  \n",
    "minutes — суммарная длительность звонков в минутах,  \n",
    "messages — количество sms-сообщений,  \n",
    "mb_used — израсходованный интернет-трафик в Мб,  \n",
    "is_ultra — каким тарифом пользовался в течение месяца («Ультра» — 1, «Смарт» — 0).  \n",
    "Пропусков нет."
   ]
  },
  {
   "cell_type": "markdown",
   "metadata": {},
   "source": [
    "## Разбейте данные на выборки"
   ]
  },
  {
   "cell_type": "code",
   "execution_count": 4,
   "metadata": {
    "scrolled": false
   },
   "outputs": [
    {
     "name": "stdout",
     "output_type": "stream",
     "text": [
      "Обучающие объекты: признаки (1928, 4), цель (1928,)\n",
      "Валидационные объекты: признаки (643, 4), цель (643,)\n",
      "Тестовые объекты: признаки (643, 4), цель (643,)\n"
     ]
    }
   ],
   "source": [
    "#выделим целевой признак\n",
    "features = df.drop('is_ultra', axis = 1)\n",
    "target = df['is_ultra']\n",
    "# разобьем нанные на 3 части: обучающая, валидационную и тестовую выборки в соотношнии 3:1:1\n",
    "\n",
    "features_train, features_test_valid, target_train, target_test_valid = train_test_split(features, target, \n",
    "                                                                            test_size=0.4, \n",
    "                                                                            random_state=12345)\n",
    "\n",
    "features_valid, features_test, target_valid, target_test = train_test_split(features_test_valid, target_test_valid, \n",
    "                                                                            test_size=0.5, \n",
    "                                                                            random_state=12345)\n",
    "\n",
    "\n",
    "print('Обучающие объекты: признаки {}, цель {}'.format(features_train.shape, target_train.shape))\n",
    "print('Валидационные объекты: признаки {}, цель {}'.format(features_valid.shape, target_valid.shape))\n",
    "print('Тестовые объекты: признаки {}, цель {}'.format(features_test.shape, target_test.shape))"
   ]
  },
  {
   "cell_type": "markdown",
   "metadata": {},
   "source": [
    "## Исследуйте модели"
   ]
  },
  {
   "cell_type": "markdown",
   "metadata": {},
   "source": [
    "### Решающее дерево"
   ]
  },
  {
   "cell_type": "markdown",
   "metadata": {},
   "source": [
    "Рассмотрим применение модели \"Решающее дерево\" и подберем для нее оптимальный параметр \"максимальная глубина\" исходя из критерия максимального значения метрики качества Accuracy для валидационной авборки. Максимальную глубину будем менять в диапазоне 1-5."
   ]
  },
  {
   "cell_type": "code",
   "execution_count": 5,
   "metadata": {},
   "outputs": [
    {
     "name": "stdout",
     "output_type": "stream",
     "text": [
      "Accuracy лучшей модели на валидационной выборке: 0.7853810264385692 Максимальная глубина: 3\n"
     ]
    }
   ],
   "source": [
    "best_model_1 = None\n",
    "best_result_1 = 0\n",
    "for depth_1 in range(1, 6):\n",
    "    model_1 = DecisionTreeClassifier(random_state=666, max_depth=depth_1)\n",
    "    model_1.fit(features_train, target_train)\n",
    "    predictions_1 = model_1.predict(features_valid)\n",
    "    result_1 = accuracy_score(target_valid, predictions_1)\n",
    "    if result_1 > best_result_1:\n",
    "        best_model_1 = model_1\n",
    "        best_result_1 = result_1\n",
    "        best_depth_1 = depth_1\n",
    "        \n",
    "print(\"Accuracy лучшей модели на валидационной выборке:\", best_result_1, \"Максимальная глубина:\", best_depth_1)"
   ]
  },
  {
   "cell_type": "markdown",
   "metadata": {},
   "source": [
    "### Случайный лес"
   ]
  },
  {
   "cell_type": "markdown",
   "metadata": {},
   "source": [
    "Рассмотрим применение модели \"Случайный лес\" и подберем для нее оптимальные параметры \"максимальная глубина\" и \"колличество деревьев\" исходя из критерия максимального значения метрики качества Accuracy для валидационной авборки. Максимальную глубину будем ненять в диапазоне 1-5, количество деревьев 1-10."
   ]
  },
  {
   "cell_type": "code",
   "execution_count": 6,
   "metadata": {},
   "outputs": [
    {
     "name": "stdout",
     "output_type": "stream",
     "text": [
      "Accuracy наилучшей модели на валидационной выборке: 0.7962674961119751 Количество деревьев: 3 Максимальная глубина: 4\n"
     ]
    }
   ],
   "source": [
    "best_model_2 = None\n",
    "best_result_2 = 0\n",
    "best_est = 0\n",
    "best_depth_2 = 0\n",
    "for est in range(1, 10):\n",
    "    for depth_2 in range (1, 6):\n",
    "        model_2 = RandomForestClassifier(random_state=666, n_estimators=est, max_depth=depth_2) \n",
    "        model_2.fit(features_train, target_train) \n",
    "        predictions_2 = model_2.predict(features_valid)\n",
    "        result_2 = accuracy_score(target_valid, predictions_2) \n",
    "        if result_2 > best_result_2:\n",
    "            best_model_2 = model_2\n",
    "            best_result_2 = result_2\n",
    "            best_est = est\n",
    "            best_depth_2 = depth_2\n",
    "\n",
    "print(\"Accuracy наилучшей модели на валидационной выборке:\", best_result_2, \"Количество деревьев:\", best_est, \"Максимальная глубина:\", best_depth_2)\n"
   ]
  },
  {
   "cell_type": "markdown",
   "metadata": {},
   "source": [
    "### Логистическая регрессия"
   ]
  },
  {
   "cell_type": "markdown",
   "metadata": {},
   "source": [
    "Рассмотрим применение модели \"Логистическая регрессия\" и подберем для нее оптимальный параметр \"Алгоритм оптимизации\" исходя из критерия максимального значения метрики качества Accuracy для валидационной авборки. Алгоритмы оптимизации: 'newton-cg', 'lbfgs', 'liblinear', 'sag', 'saga'"
   ]
  },
  {
   "cell_type": "code",
   "execution_count": 7,
   "metadata": {},
   "outputs": [
    {
     "name": "stderr",
     "output_type": "stream",
     "text": [
      "C:\\Users\\Lexa\\anaconda3\\lib\\site-packages\\scipy\\optimize\\linesearch.py:478: LineSearchWarning: The line search algorithm did not converge\n",
      "  warn('The line search algorithm did not converge', LineSearchWarning)\n",
      "C:\\Users\\Lexa\\anaconda3\\lib\\site-packages\\scipy\\optimize\\linesearch.py:327: LineSearchWarning: The line search algorithm did not converge\n",
      "  warn('The line search algorithm did not converge', LineSearchWarning)\n"
     ]
    },
    {
     "name": "stdout",
     "output_type": "stream",
     "text": [
      "Accuracy наилучшей модели логистической регрессии на валидационной выборке: 0.7558320373250389 Алгоритм оптимизации: newton-cg\n"
     ]
    }
   ],
   "source": [
    "best_model_3 = None\n",
    "best_result_3 = 0\n",
    "best_sol = ''\n",
    "for sol in ['newton-cg', 'lbfgs', 'liblinear', 'sag', 'saga']:\n",
    "    model_3 = LogisticRegression(random_state=666,solver=sol, max_iter=100000)  # инициализируйте модель логистической регрессии с параметром random_state=12345\n",
    "    model_3.fit(features_train, target_train) # обучите модель на тренировочной выборке\n",
    "    result_3 = model_3.score(features_valid, target_valid) # получите метрику качества модели на валидационной выборке\n",
    "    if result_3 > best_result_3:\n",
    "        best_model_3 = model_3\n",
    "        best_result_3 = result_3\n",
    "        best_sol = sol\n",
    "print(\"Accuracy наилучшей модели логистической регрессии на валидационной выборке:\", best_result_3, \"Алгоритм оптимизации:\", best_sol)"
   ]
  },
  {
   "cell_type": "markdown",
   "metadata": {},
   "source": [
    "### Выводы"
   ]
  },
  {
   "cell_type": "markdown",
   "metadata": {},
   "source": [
    "Среди исследуемых моделей наилучший результат Accuracy (0.796) на валидационной выборке показала модель \"Случайный лес\" с количеством деревьев - 3 и максимальной глубиной - 4. Худший показатель у модели \"Логистическая регрессия\" - 0.76\n"
   ]
  },
  {
   "cell_type": "code",
   "execution_count": 8,
   "metadata": {},
   "outputs": [
    {
     "data": {
      "text/plain": [
       "{'max_depth': 8,\n",
       " 'min_samples_leaf': 5,\n",
       " 'min_samples_split': 4,\n",
       " 'n_estimators': 6}"
      ]
     },
     "execution_count": 8,
     "metadata": {},
     "output_type": "execute_result"
    }
   ],
   "source": [
    "# Попробуем подбор параметров с помощью GridSearchCV\n",
    "model_2_1 = RandomForestClassifier()\n",
    "parametrs = { 'n_estimators': range (1, 10),\n",
    "              'max_depth': range (1,10),\n",
    "              'min_samples_leaf': range (1,6),\n",
    "              'min_samples_split': range (2,6,2) }\n",
    "grid = GridSearchCV(model_2_1, parametrs, cv=3)\n",
    "grid.fit(features_train, target_train)\n",
    "grid.best_params_"
   ]
  },
  {
   "cell_type": "markdown",
   "metadata": {},
   "source": [
    "## Проверьте модель на тестовой выборке"
   ]
  },
  {
   "cell_type": "markdown",
   "metadata": {},
   "source": [
    "Посчитаем Accuracy для тестовой выборки и сравним с Accuracy для валидационной выборки"
   ]
  },
  {
   "cell_type": "markdown",
   "metadata": {},
   "source": [
    "### Решающее дерево"
   ]
  },
  {
   "cell_type": "code",
   "execution_count": 9,
   "metadata": {},
   "outputs": [
    {
     "name": "stdout",
     "output_type": "stream",
     "text": [
      "Accuracy для валидационной выборки 0.7853810264385692\n",
      "Accuracy для тестовой выборки 0.7791601866251944\n"
     ]
    }
   ],
   "source": [
    "test_predictions_1 = best_model_1.predict(features_test)\n",
    "test_result_1 = accuracy_score(target_test, test_predictions_1)\n",
    "print(\"Accuracy для валидационной выборки\",best_result_1)\n",
    "print(\"Accuracy для тестовой выборки\",test_result_1)"
   ]
  },
  {
   "cell_type": "markdown",
   "metadata": {},
   "source": [
    "### Случайный лес"
   ]
  },
  {
   "cell_type": "code",
   "execution_count": 10,
   "metadata": {},
   "outputs": [
    {
     "name": "stdout",
     "output_type": "stream",
     "text": [
      "Accuracy для валидационной выборки 0.7962674961119751\n",
      "Accuracy для тестовой выборки 0.7978227060653188\n",
      "Accuracy для тестовой выборки (модель с GridSearchCV) 0.7869362363919129\n"
     ]
    }
   ],
   "source": [
    "test_predictions_2 = best_model_2.predict(features_test)\n",
    "test_result_2 = accuracy_score(target_test, test_predictions_2)\n",
    "\n",
    "best_model_2_1 = grid.best_estimator_\n",
    "test_predictions_2_1 = best_model_2_1.predict(features_test)\n",
    "test_result_2_1 = accuracy_score(target_test, test_predictions_2_1)\n",
    "print(\"Accuracy для валидационной выборки\",best_result_2)\n",
    "print(\"Accuracy для тестовой выборки\",test_result_2)\n",
    "print(\"Accuracy для тестовой выборки (модель с GridSearchCV)\",test_result_2_1)\n"
   ]
  },
  {
   "cell_type": "markdown",
   "metadata": {},
   "source": [
    "### Логистическая регрессия"
   ]
  },
  {
   "cell_type": "code",
   "execution_count": 11,
   "metadata": {},
   "outputs": [
    {
     "name": "stdout",
     "output_type": "stream",
     "text": [
      "Accuracy для валидационной выборки 0.7558320373250389\n",
      "Accuracy для тестовой выборки 0.7387247278382582\n"
     ]
    }
   ],
   "source": [
    "test_predictions_3 = best_model_3.predict(features_test)\n",
    "test_result_3 = accuracy_score(target_test, test_predictions_3)\n",
    "print(\"Accuracy для валидационной выборки\",best_result_3)\n",
    "print(\"Accuracy для тестовой выборки\",test_result_3)"
   ]
  },
  {
   "cell_type": "markdown",
   "metadata": {},
   "source": [
    "### Вывод"
   ]
  },
  {
   "cell_type": "markdown",
   "metadata": {},
   "source": [
    "Accuracy валидационной и тестовой выборки для моделей \"Решающее дерево\" и \"Случайный лес\"  практически совпадают с точностью до 1 %. Модель \"Логистическая регрессия\" показала на 4 % лучший результат."
   ]
  },
  {
   "cell_type": "code",
   "execution_count": 12,
   "metadata": {},
   "outputs": [
    {
     "data": {
      "text/html": [
       "<div>\n",
       "<style scoped>\n",
       "    .dataframe tbody tr th:only-of-type {\n",
       "        vertical-align: middle;\n",
       "    }\n",
       "\n",
       "    .dataframe tbody tr th {\n",
       "        vertical-align: top;\n",
       "    }\n",
       "\n",
       "    .dataframe thead th {\n",
       "        text-align: right;\n",
       "    }\n",
       "</style>\n",
       "<table border=\"1\" class=\"dataframe\">\n",
       "  <thead>\n",
       "    <tr style=\"text-align: right;\">\n",
       "      <th></th>\n",
       "      <th>Модель</th>\n",
       "      <th>Accuracy для валидационной выборки</th>\n",
       "      <th>Accuracy для тестовой выборки</th>\n",
       "    </tr>\n",
       "  </thead>\n",
       "  <tbody>\n",
       "    <tr>\n",
       "      <th>0</th>\n",
       "      <td>Решающее дерево</td>\n",
       "      <td>0.785381</td>\n",
       "      <td>0.779160</td>\n",
       "    </tr>\n",
       "    <tr>\n",
       "      <th>1</th>\n",
       "      <td>Случайный лес</td>\n",
       "      <td>0.796267</td>\n",
       "      <td>0.797823</td>\n",
       "    </tr>\n",
       "    <tr>\n",
       "      <th>2</th>\n",
       "      <td>Логистическая регрессия</td>\n",
       "      <td>0.755832</td>\n",
       "      <td>0.738725</td>\n",
       "    </tr>\n",
       "  </tbody>\n",
       "</table>\n",
       "</div>"
      ],
      "text/plain": [
       "                    Модель  Accuracy для валидационной выборки  \\\n",
       "0          Решающее дерево                            0.785381   \n",
       "1            Случайный лес                            0.796267   \n",
       "2  Логистическая регрессия                            0.755832   \n",
       "\n",
       "   Accuracy для тестовой выборки  \n",
       "0                       0.779160  \n",
       "1                       0.797823  \n",
       "2                       0.738725  "
      ]
     },
     "execution_count": 12,
     "metadata": {},
     "output_type": "execute_result"
    }
   ],
   "source": [
    "result = {'Модель': ['Решающее дерево', 'Случайный лес', 'Логистическая регрессия'], \n",
    "          'Accuracy для валидационной выборки': [best_result_1, best_result_2, best_result_3],\n",
    "          'Accuracy для тестовой выборки': [test_result_1, test_result_2, test_result_3]}\n",
    "test_result = pd.DataFrame(result)\n",
    "test_result"
   ]
  },
  {
   "cell_type": "markdown",
   "metadata": {},
   "source": [
    "## (бонус) Проверьте модели на адекватность"
   ]
  },
  {
   "cell_type": "markdown",
   "metadata": {},
   "source": [
    "Критерием адекватности будем считать более высокий показатель Accuracy для моделей в сравнении с показатемем Accuracy для консатанты (пусть для всех объкетов результат предсказания равен 0)."
   ]
  },
  {
   "cell_type": "code",
   "execution_count": 13,
   "metadata": {},
   "outputs": [
    {
     "name": "stdout",
     "output_type": "stream",
     "text": [
      "Accuracy для констатны 0.6842923794712286\n",
      "Accuracy для тестовой выборки модели 'Решающее дерево' 0.7791601866251944\n",
      "Accuracy для тестовой выборки модели 'Случайный лес' 0.7978227060653188\n",
      "Accuracy для тестовой выборки модели 'Логистическая регрессия' 0.7387247278382582\n"
     ]
    }
   ],
   "source": [
    "\n",
    "predictions_0 = pd.Series(0, index=target_test.index)\n",
    "test_result_0 = accuracy_score(target_test, predictions_0)\n",
    "print(\"Accuracy для констатны\",test_result_0)\n",
    "print(\"Accuracy для тестовой выборки модели 'Решающее дерево'\",test_result_1)\n",
    "print(\"Accuracy для тестовой выборки модели 'Случайный лес'\",test_result_2)\n",
    "print(\"Accuracy для тестовой выборки модели 'Логистическая регрессия'\",test_result_3)"
   ]
  },
  {
   "cell_type": "markdown",
   "metadata": {},
   "source": [
    "### Вывод"
   ]
  },
  {
   "cell_type": "markdown",
   "metadata": {},
   "source": [
    "Все исследуемые модели дают предсказания с Accuracy выше чем предсказания с константой. Поэтому можно сделать вывод об адекватности моделей. "
   ]
  },
  {
   "cell_type": "markdown",
   "metadata": {},
   "source": [
    "## Общий вывод"
   ]
  },
  {
   "cell_type": "markdown",
   "metadata": {},
   "source": [
    "Построена модель для рекомендации тарифов. Модель обучена на данных о поведении клиентов, которые уже пользуются этими тарифами. Лучшие результат показала модель \"Случайный лес\" с метрикой качества Accuracy 0.8"
   ]
  },
  {
   "cell_type": "markdown",
   "metadata": {},
   "source": [
    "## Чек-лист готовности проекта"
   ]
  },
  {
   "cell_type": "markdown",
   "metadata": {},
   "source": [
    "Поставьте 'x' в выполненных пунктах. Далее нажмите Shift+Enter."
   ]
  },
  {
   "cell_type": "markdown",
   "metadata": {},
   "source": [
    "- [x] Jupyter Notebook открыт\n",
    "- [x] Весь код исполняется без ошибок\n",
    "- [x] Ячейки с кодом расположены в порядке исполнения\n",
    "- [x] Выполнено задание 1: данные загружены и изучены\n",
    "- [x] Выполнено задание 2: данные разбиты на три выборки\n",
    "- [x] Выполнено задание 3: проведено исследование моделей\n",
    "    - [x] Рассмотрено больше одной модели\n",
    "    - [x] Рассмотрено хотя бы 3 значения гипепараметров для какой-нибудь модели\n",
    "    - [x] Написаны выводы по результатам исследования\n",
    "- [x] Выполнено задание 3: Проведено тестирование\n",
    "- [x] Удалось достичь accuracy не меньше 0.75\n"
   ]
  },
  {
   "cell_type": "code",
   "execution_count": null,
   "metadata": {},
   "outputs": [],
   "source": []
  }
 ],
 "metadata": {
  "ExecuteTimeLog": [
   {
    "duration": 414,
    "start_time": "2021-08-19T12:32:24.356Z"
   },
   {
    "duration": 769,
    "start_time": "2021-08-19T12:32:28.962Z"
   },
   {
    "duration": 44,
    "start_time": "2021-08-19T12:32:30.057Z"
   },
   {
    "duration": 32,
    "start_time": "2021-08-19T12:33:59.987Z"
   },
   {
    "duration": 32,
    "start_time": "2021-08-19T12:38:47.174Z"
   },
   {
    "duration": 32,
    "start_time": "2021-08-19T12:39:50.287Z"
   },
   {
    "duration": 32,
    "start_time": "2021-08-19T12:39:54.116Z"
   },
   {
    "duration": 33,
    "start_time": "2021-08-19T12:39:57.398Z"
   },
   {
    "duration": 17,
    "start_time": "2021-08-19T12:41:58.167Z"
   },
   {
    "duration": 10,
    "start_time": "2021-08-19T12:45:43.029Z"
   },
   {
    "duration": 322,
    "start_time": "2021-08-19T18:10:52.321Z"
   },
   {
    "duration": 1464,
    "start_time": "2021-08-19T18:11:02.675Z"
   },
   {
    "duration": 41,
    "start_time": "2021-08-19T18:11:04.142Z"
   },
   {
    "duration": 9,
    "start_time": "2021-08-19T18:11:04.189Z"
   },
   {
    "duration": 33,
    "start_time": "2021-08-19T18:11:04.201Z"
   },
   {
    "duration": 706,
    "start_time": "2021-08-19T18:11:04.237Z"
   },
   {
    "duration": 6,
    "start_time": "2021-08-19T18:11:30.763Z"
   },
   {
    "duration": 7,
    "start_time": "2021-08-19T18:12:01.867Z"
   },
   {
    "duration": 5,
    "start_time": "2021-08-19T18:12:16.475Z"
   },
   {
    "duration": 14,
    "start_time": "2021-08-19T18:18:38.721Z"
   },
   {
    "duration": 15,
    "start_time": "2021-08-19T18:19:22.711Z"
   },
   {
    "duration": 14,
    "start_time": "2021-08-19T18:21:38.832Z"
   },
   {
    "duration": 283,
    "start_time": "2021-08-19T20:39:41.250Z"
   },
   {
    "duration": 56,
    "start_time": "2021-08-19T20:40:04.511Z"
   },
   {
    "duration": 287,
    "start_time": "2021-08-19T20:40:08.937Z"
   },
   {
    "duration": 4,
    "start_time": "2021-08-19T20:40:31.847Z"
   },
   {
    "duration": 33,
    "start_time": "2021-08-19T20:40:36.927Z"
   },
   {
    "duration": 39,
    "start_time": "2021-08-19T20:45:47.542Z"
   },
   {
    "duration": 38,
    "start_time": "2021-08-19T21:07:15.450Z"
   },
   {
    "duration": 34,
    "start_time": "2021-08-19T21:07:30.224Z"
   },
   {
    "duration": 40,
    "start_time": "2021-08-19T21:12:18.183Z"
   },
   {
    "duration": 41,
    "start_time": "2021-08-19T21:14:50.686Z"
   },
   {
    "duration": 1323,
    "start_time": "2021-08-19T21:15:05.769Z"
   },
   {
    "duration": 42,
    "start_time": "2021-08-19T21:15:07.095Z"
   },
   {
    "duration": 13,
    "start_time": "2021-08-19T21:15:07.140Z"
   },
   {
    "duration": 20,
    "start_time": "2021-08-19T21:15:07.156Z"
   },
   {
    "duration": 501,
    "start_time": "2021-08-19T21:15:07.178Z"
   },
   {
    "duration": -716,
    "start_time": "2021-08-19T21:15:08.398Z"
   },
   {
    "duration": -722,
    "start_time": "2021-08-19T21:15:08.405Z"
   },
   {
    "duration": 309,
    "start_time": "2021-08-19T21:15:20.084Z"
   },
   {
    "duration": 36,
    "start_time": "2021-08-19T21:15:37.395Z"
   },
   {
    "duration": 273,
    "start_time": "2021-08-19T21:47:09.877Z"
   },
   {
    "duration": 4,
    "start_time": "2021-08-19T21:47:30.034Z"
   },
   {
    "duration": 270,
    "start_time": "2021-08-19T21:47:37.532Z"
   },
   {
    "duration": 305,
    "start_time": "2021-08-19T21:48:03.555Z"
   },
   {
    "duration": 278,
    "start_time": "2021-08-19T21:48:22.635Z"
   },
   {
    "duration": 896,
    "start_time": "2021-08-19T21:49:26.906Z"
   },
   {
    "duration": 2115,
    "start_time": "2021-08-19T21:53:25.802Z"
   },
   {
    "duration": 2176,
    "start_time": "2021-08-19T21:54:23.841Z"
   },
   {
    "duration": 2832,
    "start_time": "2021-08-19T21:56:02.288Z"
   },
   {
    "duration": 759,
    "start_time": "2021-08-19T21:56:38.024Z"
   },
   {
    "duration": 1326,
    "start_time": "2021-08-19T21:57:16.362Z"
   },
   {
    "duration": 45,
    "start_time": "2021-08-19T21:57:17.691Z"
   },
   {
    "duration": 16,
    "start_time": "2021-08-19T21:57:17.739Z"
   },
   {
    "duration": 34,
    "start_time": "2021-08-19T21:57:17.757Z"
   },
   {
    "duration": 68,
    "start_time": "2021-08-19T21:57:17.793Z"
   },
   {
    "duration": 745,
    "start_time": "2021-08-19T21:57:17.864Z"
   },
   {
    "duration": 44,
    "start_time": "2021-08-19T21:57:18.611Z"
   },
   {
    "duration": 25,
    "start_time": "2021-08-19T22:00:20.464Z"
   },
   {
    "duration": 27,
    "start_time": "2021-08-19T22:34:29.976Z"
   },
   {
    "duration": 98,
    "start_time": "2021-08-19T22:39:41.427Z"
   },
   {
    "duration": 96,
    "start_time": "2021-08-19T22:41:56.214Z"
   },
   {
    "duration": 96,
    "start_time": "2021-08-19T22:42:06.605Z"
   },
   {
    "duration": 1422,
    "start_time": "2021-08-19T22:42:12.467Z"
   },
   {
    "duration": 46,
    "start_time": "2021-08-19T22:42:13.892Z"
   },
   {
    "duration": 14,
    "start_time": "2021-08-19T22:42:13.942Z"
   },
   {
    "duration": 17,
    "start_time": "2021-08-19T22:42:13.960Z"
   },
   {
    "duration": 39,
    "start_time": "2021-08-19T22:42:13.979Z"
   },
   {
    "duration": 876,
    "start_time": "2021-08-19T22:42:14.020Z"
   },
   {
    "duration": 109,
    "start_time": "2021-08-19T22:42:14.899Z"
   },
   {
    "duration": 101,
    "start_time": "2021-08-19T22:42:40.226Z"
   },
   {
    "duration": 244,
    "start_time": "2021-08-19T22:43:09.498Z"
   },
   {
    "duration": 242,
    "start_time": "2021-08-19T22:43:48.258Z"
   },
   {
    "duration": 240,
    "start_time": "2021-08-19T22:44:10.010Z"
   },
   {
    "duration": 246,
    "start_time": "2021-08-19T22:46:48.753Z"
   },
   {
    "duration": 250,
    "start_time": "2021-08-19T22:47:40.248Z"
   },
   {
    "duration": 545,
    "start_time": "2021-08-19T22:48:02.801Z"
   },
   {
    "duration": 247,
    "start_time": "2021-08-19T22:48:21.241Z"
   },
   {
    "duration": 255,
    "start_time": "2021-08-19T22:49:18.714Z"
   },
   {
    "duration": 390,
    "start_time": "2021-08-19T22:50:48.418Z"
   },
   {
    "duration": 250,
    "start_time": "2021-08-19T22:54:18.215Z"
   },
   {
    "duration": 248,
    "start_time": "2021-08-19T22:54:27.231Z"
   },
   {
    "duration": 246,
    "start_time": "2021-08-19T22:54:45.503Z"
   },
   {
    "duration": 431,
    "start_time": "2021-08-19T22:56:41.384Z"
   },
   {
    "duration": 661,
    "start_time": "2021-08-19T22:56:49.649Z"
   },
   {
    "duration": 147,
    "start_time": "2021-08-19T22:57:43.183Z"
   },
   {
    "duration": 148,
    "start_time": "2021-08-19T22:58:06.942Z"
   },
   {
    "duration": 146,
    "start_time": "2021-08-19T22:59:58.358Z"
   },
   {
    "duration": 148,
    "start_time": "2021-08-19T23:00:03.646Z"
   },
   {
    "duration": 156,
    "start_time": "2021-08-19T23:00:08.878Z"
   },
   {
    "duration": 14,
    "start_time": "2021-08-19T23:02:25.566Z"
   },
   {
    "duration": 53,
    "start_time": "2021-08-19T23:02:35.253Z"
   },
   {
    "duration": 153,
    "start_time": "2021-08-19T23:02:39.838Z"
   },
   {
    "duration": 145,
    "start_time": "2021-08-19T23:02:52.373Z"
   },
   {
    "duration": 31,
    "start_time": "2021-08-19T23:04:20.997Z"
   },
   {
    "duration": 28,
    "start_time": "2021-08-19T23:04:35.343Z"
   },
   {
    "duration": 34,
    "start_time": "2021-08-19T23:04:44.699Z"
   },
   {
    "duration": 37,
    "start_time": "2021-08-19T23:04:54.076Z"
   },
   {
    "duration": 151,
    "start_time": "2021-08-19T23:05:08.884Z"
   },
   {
    "duration": 27,
    "start_time": "2021-08-19T23:05:25.669Z"
   },
   {
    "duration": 256,
    "start_time": "2021-08-19T23:05:49.683Z"
   },
   {
    "duration": 1463,
    "start_time": "2021-08-19T23:06:04.773Z"
   },
   {
    "duration": 814,
    "start_time": "2021-08-19T23:06:11.540Z"
   },
   {
    "duration": 1523,
    "start_time": "2021-08-19T23:06:17.515Z"
   },
   {
    "duration": 1434,
    "start_time": "2021-08-19T23:06:23.036Z"
   },
   {
    "duration": 1474,
    "start_time": "2021-08-19T23:06:29.460Z"
   },
   {
    "duration": 8,
    "start_time": "2021-08-19T23:13:04.483Z"
   },
   {
    "duration": 8,
    "start_time": "2021-08-19T23:19:58.729Z"
   },
   {
    "duration": 7,
    "start_time": "2021-08-19T23:21:48.200Z"
   },
   {
    "duration": 9,
    "start_time": "2021-08-19T23:22:50.398Z"
   },
   {
    "duration": 11,
    "start_time": "2021-08-19T23:23:56.648Z"
   },
   {
    "duration": 782,
    "start_time": "2021-08-19T23:24:09.758Z"
   },
   {
    "duration": 11,
    "start_time": "2021-08-19T23:24:15.006Z"
   },
   {
    "duration": 277,
    "start_time": "2021-08-19T23:25:12.686Z"
   },
   {
    "duration": 9,
    "start_time": "2021-08-19T23:25:51.353Z"
   },
   {
    "duration": 328,
    "start_time": "2021-08-19T23:31:45.244Z"
   },
   {
    "duration": 283,
    "start_time": "2021-08-19T23:41:29.284Z"
   },
   {
    "duration": 287,
    "start_time": "2021-08-19T23:42:05.705Z"
   },
   {
    "duration": 7,
    "start_time": "2021-08-19T23:42:23.552Z"
   },
   {
    "duration": 7,
    "start_time": "2021-08-19T23:42:33.435Z"
   },
   {
    "duration": 280,
    "start_time": "2021-08-19T23:43:21.777Z"
   },
   {
    "duration": 8,
    "start_time": "2021-08-19T23:43:26.744Z"
   },
   {
    "duration": 222,
    "start_time": "2021-08-20T12:22:52.730Z"
   },
   {
    "duration": 1057,
    "start_time": "2021-08-20T12:22:58.855Z"
   },
   {
    "duration": 32,
    "start_time": "2021-08-20T12:22:59.914Z"
   },
   {
    "duration": 6,
    "start_time": "2021-08-20T12:22:59.948Z"
   },
   {
    "duration": 9,
    "start_time": "2021-08-20T12:22:59.956Z"
   },
   {
    "duration": 35,
    "start_time": "2021-08-20T12:22:59.967Z"
   },
   {
    "duration": 504,
    "start_time": "2021-08-20T12:23:00.003Z"
   },
   {
    "duration": 964,
    "start_time": "2021-08-20T12:23:00.509Z"
   },
   {
    "duration": 12,
    "start_time": "2021-08-20T12:23:01.475Z"
   },
   {
    "duration": 25,
    "start_time": "2021-08-20T12:23:01.489Z"
   },
   {
    "duration": 20,
    "start_time": "2021-08-20T12:23:01.516Z"
   },
   {
    "duration": 14,
    "start_time": "2021-08-20T12:23:01.538Z"
   },
   {
    "duration": 191,
    "start_time": "2021-08-20T12:24:26.365Z"
   },
   {
    "duration": 37,
    "start_time": "2021-08-20T12:25:53.664Z"
   },
   {
    "duration": 149,
    "start_time": "2021-08-20T12:26:07.160Z"
   },
   {
    "duration": 969,
    "start_time": "2021-08-20T12:26:15.056Z"
   },
   {
    "duration": 424,
    "start_time": "2021-08-20T12:26:21.536Z"
   },
   {
    "duration": 464,
    "start_time": "2021-08-20T12:26:33.056Z"
   },
   {
    "duration": 274,
    "start_time": "2021-08-20T12:26:42.168Z"
   },
   {
    "duration": 981,
    "start_time": "2021-08-20T12:26:48.073Z"
   },
   {
    "duration": 964,
    "start_time": "2021-08-20T12:28:06.488Z"
   },
   {
    "duration": 7,
    "start_time": "2021-08-20T12:30:18.039Z"
   },
   {
    "duration": 6,
    "start_time": "2021-08-20T12:30:18.694Z"
   },
   {
    "duration": 6,
    "start_time": "2021-08-20T12:56:33.097Z"
   },
   {
    "duration": 1094,
    "start_time": "2021-08-20T12:56:47.553Z"
   },
   {
    "duration": 33,
    "start_time": "2021-08-20T12:56:48.649Z"
   },
   {
    "duration": 7,
    "start_time": "2021-08-20T12:56:48.684Z"
   },
   {
    "duration": 11,
    "start_time": "2021-08-20T12:56:48.694Z"
   },
   {
    "duration": 28,
    "start_time": "2021-08-20T12:56:48.707Z"
   },
   {
    "duration": 554,
    "start_time": "2021-08-20T12:56:48.737Z"
   },
   {
    "duration": 1105,
    "start_time": "2021-08-20T12:56:49.293Z"
   },
   {
    "duration": 7,
    "start_time": "2021-08-20T12:56:50.401Z"
   },
   {
    "duration": 8,
    "start_time": "2021-08-20T12:56:50.411Z"
   },
   {
    "duration": 10,
    "start_time": "2021-08-20T12:56:50.421Z"
   },
   {
    "duration": 6,
    "start_time": "2021-08-20T12:56:50.433Z"
   },
   {
    "duration": 5,
    "start_time": "2021-08-20T12:56:50.440Z"
   },
   {
    "duration": 41,
    "start_time": "2021-08-20T12:56:50.447Z"
   },
   {
    "duration": 7,
    "start_time": "2021-08-20T12:57:40.518Z"
   },
   {
    "duration": 1061,
    "start_time": "2021-08-20T12:57:49.607Z"
   },
   {
    "duration": 37,
    "start_time": "2021-08-20T12:57:50.670Z"
   },
   {
    "duration": 10,
    "start_time": "2021-08-20T12:57:50.712Z"
   },
   {
    "duration": 12,
    "start_time": "2021-08-20T12:57:50.724Z"
   },
   {
    "duration": 57,
    "start_time": "2021-08-20T12:57:50.738Z"
   },
   {
    "duration": 559,
    "start_time": "2021-08-20T12:57:50.797Z"
   },
   {
    "duration": 1074,
    "start_time": "2021-08-20T12:57:51.359Z"
   },
   {
    "duration": 6,
    "start_time": "2021-08-20T12:57:52.435Z"
   },
   {
    "duration": 19,
    "start_time": "2021-08-20T12:57:52.442Z"
   },
   {
    "duration": 14,
    "start_time": "2021-08-20T12:57:52.462Z"
   },
   {
    "duration": 16,
    "start_time": "2021-08-20T12:57:52.477Z"
   },
   {
    "duration": 21,
    "start_time": "2021-08-20T12:57:52.495Z"
   },
   {
    "duration": 17,
    "start_time": "2021-08-20T12:57:52.518Z"
   },
   {
    "duration": 6,
    "start_time": "2021-08-20T12:59:32.435Z"
   },
   {
    "duration": 8,
    "start_time": "2021-08-20T12:59:51.153Z"
   },
   {
    "duration": 6,
    "start_time": "2021-08-20T13:00:01.689Z"
   },
   {
    "duration": 1157,
    "start_time": "2021-08-20T13:01:14.797Z"
   },
   {
    "duration": 36,
    "start_time": "2021-08-20T13:01:15.957Z"
   },
   {
    "duration": 9,
    "start_time": "2021-08-20T13:01:16.000Z"
   },
   {
    "duration": 14,
    "start_time": "2021-08-20T13:01:16.011Z"
   },
   {
    "duration": 27,
    "start_time": "2021-08-20T13:01:16.028Z"
   },
   {
    "duration": 567,
    "start_time": "2021-08-20T13:01:16.085Z"
   },
   {
    "duration": 1090,
    "start_time": "2021-08-20T13:01:16.655Z"
   },
   {
    "duration": 5,
    "start_time": "2021-08-20T13:01:17.747Z"
   },
   {
    "duration": 19,
    "start_time": "2021-08-20T13:01:17.754Z"
   },
   {
    "duration": 28,
    "start_time": "2021-08-20T13:01:17.774Z"
   },
   {
    "duration": 18,
    "start_time": "2021-08-20T13:01:17.804Z"
   },
   {
    "duration": 15,
    "start_time": "2021-08-20T13:01:17.824Z"
   },
   {
    "duration": 26,
    "start_time": "2021-08-20T13:01:17.841Z"
   },
   {
    "duration": 5,
    "start_time": "2021-08-20T13:03:16.078Z"
   },
   {
    "duration": 6,
    "start_time": "2021-08-20T13:03:45.053Z"
   },
   {
    "duration": 5,
    "start_time": "2021-08-20T13:03:57.034Z"
   },
   {
    "duration": 1003,
    "start_time": "2021-08-20T13:04:01.227Z"
   },
   {
    "duration": 35,
    "start_time": "2021-08-20T13:04:02.232Z"
   },
   {
    "duration": 6,
    "start_time": "2021-08-20T13:04:02.269Z"
   },
   {
    "duration": 15,
    "start_time": "2021-08-20T13:04:02.277Z"
   },
   {
    "duration": 25,
    "start_time": "2021-08-20T13:04:02.294Z"
   },
   {
    "duration": 504,
    "start_time": "2021-08-20T13:04:02.321Z"
   },
   {
    "duration": 1019,
    "start_time": "2021-08-20T13:04:02.826Z"
   },
   {
    "duration": 6,
    "start_time": "2021-08-20T13:04:03.848Z"
   },
   {
    "duration": 7,
    "start_time": "2021-08-20T13:04:03.856Z"
   },
   {
    "duration": 26,
    "start_time": "2021-08-20T13:04:03.865Z"
   },
   {
    "duration": 5,
    "start_time": "2021-08-20T13:04:03.893Z"
   },
   {
    "duration": 4,
    "start_time": "2021-08-20T13:04:03.900Z"
   },
   {
    "duration": 5,
    "start_time": "2021-08-20T13:04:03.906Z"
   },
   {
    "duration": 64,
    "start_time": "2021-08-20T13:14:35.156Z"
   },
   {
    "duration": 6,
    "start_time": "2021-08-20T13:14:54.136Z"
   },
   {
    "duration": 5,
    "start_time": "2021-08-20T13:15:37.983Z"
   },
   {
    "duration": 6,
    "start_time": "2021-08-20T13:15:57.456Z"
   },
   {
    "duration": 1060,
    "start_time": "2021-08-20T13:16:19.165Z"
   },
   {
    "duration": 35,
    "start_time": "2021-08-20T13:16:20.227Z"
   },
   {
    "duration": 7,
    "start_time": "2021-08-20T13:16:20.265Z"
   },
   {
    "duration": 24,
    "start_time": "2021-08-20T13:16:20.274Z"
   },
   {
    "duration": 27,
    "start_time": "2021-08-20T13:16:20.300Z"
   },
   {
    "duration": 558,
    "start_time": "2021-08-20T13:16:20.329Z"
   },
   {
    "duration": 1046,
    "start_time": "2021-08-20T13:16:20.890Z"
   },
   {
    "duration": 5,
    "start_time": "2021-08-20T13:16:21.939Z"
   },
   {
    "duration": 6,
    "start_time": "2021-08-20T13:16:21.946Z"
   },
   {
    "duration": 10,
    "start_time": "2021-08-20T13:16:21.954Z"
   },
   {
    "duration": 31,
    "start_time": "2021-08-20T13:16:21.966Z"
   },
   {
    "duration": 7,
    "start_time": "2021-08-20T13:16:21.999Z"
   },
   {
    "duration": 5,
    "start_time": "2021-08-20T13:16:22.007Z"
   },
   {
    "duration": 274,
    "start_time": "2021-08-20T13:31:27.286Z"
   },
   {
    "duration": 3,
    "start_time": "2021-08-20T13:37:15.148Z"
   },
   {
    "duration": 3,
    "start_time": "2021-08-20T13:38:24.569Z"
   },
   {
    "duration": 3,
    "start_time": "2021-08-20T13:38:27.968Z"
   },
   {
    "duration": 3,
    "start_time": "2021-08-20T13:38:29.537Z"
   },
   {
    "duration": 7,
    "start_time": "2021-08-20T13:38:54.369Z"
   },
   {
    "duration": 6,
    "start_time": "2021-08-20T13:39:00.681Z"
   },
   {
    "duration": 7,
    "start_time": "2021-08-20T13:39:04.185Z"
   },
   {
    "duration": 59,
    "start_time": "2021-08-20T13:41:05.717Z"
   },
   {
    "duration": 54,
    "start_time": "2021-08-20T13:41:38.656Z"
   },
   {
    "duration": 7,
    "start_time": "2021-08-20T13:41:45.192Z"
   },
   {
    "duration": 179,
    "start_time": "2021-08-20T13:42:00.864Z"
   },
   {
    "duration": 183,
    "start_time": "2021-08-20T13:42:26.011Z"
   },
   {
    "duration": 99,
    "start_time": "2021-08-20T13:43:31.487Z"
   },
   {
    "duration": 4,
    "start_time": "2021-08-20T13:43:37.134Z"
   },
   {
    "duration": 4,
    "start_time": "2021-08-20T13:44:59.775Z"
   },
   {
    "duration": 4,
    "start_time": "2021-08-20T13:45:03.961Z"
   },
   {
    "duration": 9,
    "start_time": "2021-08-20T13:50:48.934Z"
   },
   {
    "duration": 5,
    "start_time": "2021-08-20T13:51:49.055Z"
   },
   {
    "duration": 6,
    "start_time": "2021-08-20T13:52:18.828Z"
   },
   {
    "duration": 6,
    "start_time": "2021-08-20T13:52:23.148Z"
   },
   {
    "duration": 5,
    "start_time": "2021-08-20T13:52:27.621Z"
   },
   {
    "duration": 6,
    "start_time": "2021-08-20T13:52:28.534Z"
   },
   {
    "duration": 6,
    "start_time": "2021-08-20T13:52:31.085Z"
   },
   {
    "duration": 6,
    "start_time": "2021-08-20T13:52:31.769Z"
   },
   {
    "duration": 5,
    "start_time": "2021-08-20T13:52:35.268Z"
   },
   {
    "duration": 7,
    "start_time": "2021-08-20T13:52:35.830Z"
   },
   {
    "duration": 5,
    "start_time": "2021-08-20T13:52:38.077Z"
   },
   {
    "duration": 7,
    "start_time": "2021-08-20T13:52:38.524Z"
   },
   {
    "duration": 6,
    "start_time": "2021-08-20T13:52:41.060Z"
   },
   {
    "duration": 7,
    "start_time": "2021-08-20T13:52:41.468Z"
   },
   {
    "duration": 5,
    "start_time": "2021-08-20T13:52:43.501Z"
   },
   {
    "duration": 6,
    "start_time": "2021-08-20T13:52:43.902Z"
   },
   {
    "duration": 5,
    "start_time": "2021-08-20T13:52:46.078Z"
   },
   {
    "duration": 8,
    "start_time": "2021-08-20T13:52:46.501Z"
   },
   {
    "duration": 6,
    "start_time": "2021-08-20T13:53:17.007Z"
   },
   {
    "duration": 1062,
    "start_time": "2021-08-20T13:55:06.463Z"
   },
   {
    "duration": 33,
    "start_time": "2021-08-20T13:55:07.527Z"
   },
   {
    "duration": 7,
    "start_time": "2021-08-20T13:55:07.564Z"
   },
   {
    "duration": 17,
    "start_time": "2021-08-20T13:55:07.573Z"
   },
   {
    "duration": 26,
    "start_time": "2021-08-20T13:55:07.592Z"
   },
   {
    "duration": 517,
    "start_time": "2021-08-20T13:55:07.620Z"
   },
   {
    "duration": 986,
    "start_time": "2021-08-20T13:55:08.140Z"
   },
   {
    "duration": 5,
    "start_time": "2021-08-20T13:55:09.128Z"
   },
   {
    "duration": 20,
    "start_time": "2021-08-20T13:55:09.135Z"
   },
   {
    "duration": 20,
    "start_time": "2021-08-20T13:55:09.156Z"
   },
   {
    "duration": 13,
    "start_time": "2021-08-20T13:55:09.177Z"
   },
   {
    "duration": 22,
    "start_time": "2021-08-20T13:55:09.192Z"
   },
   {
    "duration": 1074,
    "start_time": "2021-08-20T14:26:03.391Z"
   },
   {
    "duration": 40,
    "start_time": "2021-08-20T14:26:04.467Z"
   },
   {
    "duration": 10,
    "start_time": "2021-08-20T14:26:04.511Z"
   },
   {
    "duration": 12,
    "start_time": "2021-08-20T14:26:04.524Z"
   },
   {
    "duration": 71,
    "start_time": "2021-08-20T14:26:04.538Z"
   },
   {
    "duration": 521,
    "start_time": "2021-08-20T14:26:04.611Z"
   },
   {
    "duration": 1020,
    "start_time": "2021-08-20T14:26:05.134Z"
   },
   {
    "duration": 5,
    "start_time": "2021-08-20T14:26:06.156Z"
   },
   {
    "duration": 22,
    "start_time": "2021-08-20T14:26:06.163Z"
   },
   {
    "duration": 9,
    "start_time": "2021-08-20T14:26:06.187Z"
   },
   {
    "duration": 8,
    "start_time": "2021-08-20T14:26:06.198Z"
   },
   {
    "duration": 543,
    "start_time": "2021-08-20T15:32:25.597Z"
   },
   {
    "duration": 1834,
    "start_time": "2021-08-20T15:32:32.317Z"
   },
   {
    "duration": 59,
    "start_time": "2021-08-20T15:32:34.155Z"
   },
   {
    "duration": 13,
    "start_time": "2021-08-20T15:32:34.218Z"
   },
   {
    "duration": 28,
    "start_time": "2021-08-20T15:32:34.234Z"
   },
   {
    "duration": 34,
    "start_time": "2021-08-20T15:32:34.265Z"
   },
   {
    "duration": 786,
    "start_time": "2021-08-20T15:32:34.301Z"
   },
   {
    "duration": 1479,
    "start_time": "2021-08-20T15:32:35.090Z"
   },
   {
    "duration": 8,
    "start_time": "2021-08-20T15:32:36.572Z"
   },
   {
    "duration": 10,
    "start_time": "2021-08-20T15:32:36.584Z"
   },
   {
    "duration": 10,
    "start_time": "2021-08-20T15:32:36.597Z"
   },
   {
    "duration": 55,
    "start_time": "2021-08-20T15:32:36.609Z"
   },
   {
    "duration": 3,
    "start_time": "2021-08-20T16:55:01.985Z"
   },
   {
    "duration": 1021,
    "start_time": "2021-08-20T17:03:36.789Z"
   },
   {
    "duration": 32,
    "start_time": "2021-08-20T17:03:37.812Z"
   },
   {
    "duration": 6,
    "start_time": "2021-08-20T17:03:37.847Z"
   },
   {
    "duration": 9,
    "start_time": "2021-08-20T17:03:37.855Z"
   },
   {
    "duration": 39,
    "start_time": "2021-08-20T17:03:37.866Z"
   },
   {
    "duration": 510,
    "start_time": "2021-08-20T17:03:37.907Z"
   },
   {
    "duration": 977,
    "start_time": "2021-08-20T17:03:38.419Z"
   },
   {
    "duration": 255074,
    "start_time": "2021-08-20T17:03:39.398Z"
   },
   {
    "duration": 13,
    "start_time": "2021-08-20T17:07:54.473Z"
   },
   {
    "duration": 17,
    "start_time": "2021-08-20T17:07:54.488Z"
   },
   {
    "duration": 5,
    "start_time": "2021-08-20T17:07:54.507Z"
   },
   {
    "duration": 8,
    "start_time": "2021-08-20T17:07:54.514Z"
   },
   {
    "duration": 970,
    "start_time": "2021-08-20T17:16:19.448Z"
   },
   {
    "duration": 33,
    "start_time": "2021-08-20T17:16:20.420Z"
   },
   {
    "duration": 7,
    "start_time": "2021-08-20T17:16:20.455Z"
   },
   {
    "duration": 12,
    "start_time": "2021-08-20T17:16:20.464Z"
   },
   {
    "duration": 25,
    "start_time": "2021-08-20T17:16:20.484Z"
   },
   {
    "duration": 501,
    "start_time": "2021-08-20T17:16:20.511Z"
   },
   {
    "duration": 990,
    "start_time": "2021-08-20T17:16:21.014Z"
   },
   {
    "duration": 256132,
    "start_time": "2021-08-20T17:16:22.006Z"
   },
   {
    "duration": 6,
    "start_time": "2021-08-20T17:20:38.139Z"
   },
   {
    "duration": 10,
    "start_time": "2021-08-20T17:20:38.146Z"
   },
   {
    "duration": 6,
    "start_time": "2021-08-20T17:20:38.158Z"
   },
   {
    "duration": 23,
    "start_time": "2021-08-20T17:20:38.165Z"
   },
   {
    "duration": 59,
    "start_time": "2021-08-20T17:37:27.703Z"
   },
   {
    "duration": 260,
    "start_time": "2021-08-20T17:53:51.652Z"
   },
   {
    "duration": 5,
    "start_time": "2021-08-20T17:54:00.436Z"
   },
   {
    "duration": 17,
    "start_time": "2021-08-20T17:59:20.338Z"
   },
   {
    "duration": 62,
    "start_time": "2021-08-20T18:20:56.446Z"
   },
   {
    "duration": 59,
    "start_time": "2021-08-20T18:21:48.753Z"
   },
   {
    "duration": 16,
    "start_time": "2021-08-20T18:22:28.476Z"
   },
   {
    "duration": 54,
    "start_time": "2021-08-20T18:24:17.683Z"
   },
   {
    "duration": 10,
    "start_time": "2021-08-20T18:38:13.782Z"
   },
   {
    "duration": 6,
    "start_time": "2021-08-20T18:39:44.733Z"
   },
   {
    "duration": 9,
    "start_time": "2021-08-20T18:39:55.490Z"
   },
   {
    "duration": 28190,
    "start_time": "2021-08-20T18:45:05.841Z"
   },
   {
    "duration": 6,
    "start_time": "2021-08-20T18:45:42.768Z"
   },
   {
    "duration": 9,
    "start_time": "2021-08-20T18:45:44.569Z"
   },
   {
    "duration": 5,
    "start_time": "2021-08-21T08:44:11.883Z"
   },
   {
    "duration": 41,
    "start_time": "2021-08-21T08:44:11.890Z"
   },
   {
    "duration": 10,
    "start_time": "2021-08-21T08:44:11.934Z"
   },
   {
    "duration": 16,
    "start_time": "2021-08-21T08:44:11.947Z"
   },
   {
    "duration": 33,
    "start_time": "2021-08-21T08:44:11.966Z"
   },
   {
    "duration": 778,
    "start_time": "2021-08-21T08:44:12.001Z"
   },
   {
    "duration": 33,
    "start_time": "2021-08-21T08:44:17.392Z"
   },
   {
    "duration": 1571,
    "start_time": "2021-08-21T08:44:27.336Z"
   },
   {
    "duration": 1634,
    "start_time": "2021-08-21T08:44:32.593Z"
   },
   {
    "duration": 4,
    "start_time": "2021-08-21T08:44:37.298Z"
   },
   {
    "duration": 38,
    "start_time": "2021-08-21T08:44:37.306Z"
   },
   {
    "duration": 10,
    "start_time": "2021-08-21T08:44:37.348Z"
   },
   {
    "duration": 16,
    "start_time": "2021-08-21T08:44:37.360Z"
   },
   {
    "duration": 40,
    "start_time": "2021-08-21T08:44:37.379Z"
   },
   {
    "duration": 778,
    "start_time": "2021-08-21T08:44:37.421Z"
   },
   {
    "duration": 1467,
    "start_time": "2021-08-21T08:44:38.201Z"
   },
   {
    "duration": 44154,
    "start_time": "2021-08-21T08:44:39.672Z"
   },
   {
    "duration": 8,
    "start_time": "2021-08-21T08:45:23.829Z"
   },
   {
    "duration": 32,
    "start_time": "2021-08-21T08:45:23.840Z"
   },
   {
    "duration": 13,
    "start_time": "2021-08-21T08:45:23.874Z"
   },
   {
    "duration": 16,
    "start_time": "2021-08-21T08:45:23.889Z"
   },
   {
    "duration": 23,
    "start_time": "2021-08-21T08:45:23.907Z"
   },
   {
    "duration": 2265,
    "start_time": "2021-08-21T08:46:51.046Z"
   },
   {
    "duration": 1424,
    "start_time": "2021-08-21T08:47:34.678Z"
   },
   {
    "duration": 1516,
    "start_time": "2021-08-21T08:47:37.724Z"
   },
   {
    "duration": 1538,
    "start_time": "2021-08-21T08:47:40.473Z"
   },
   {
    "duration": 1471,
    "start_time": "2021-08-21T08:47:43.223Z"
   },
   {
    "duration": 1515,
    "start_time": "2021-08-21T08:47:46.896Z"
   },
   {
    "duration": 1441,
    "start_time": "2021-08-21T08:47:50.667Z"
   },
   {
    "duration": 1474,
    "start_time": "2021-08-21T08:47:54.156Z"
   },
   {
    "duration": 1451,
    "start_time": "2021-08-21T08:48:01.442Z"
   },
   {
    "duration": 1525,
    "start_time": "2021-08-21T08:48:04.318Z"
   },
   {
    "duration": 1491,
    "start_time": "2021-08-21T08:48:08.873Z"
   },
   {
    "duration": 1586,
    "start_time": "2021-08-21T08:48:11.243Z"
   },
   {
    "duration": 1495,
    "start_time": "2021-08-21T08:48:14.260Z"
   },
   {
    "duration": 1448,
    "start_time": "2021-08-21T08:48:19.346Z"
   },
   {
    "duration": 1533,
    "start_time": "2021-08-21T08:48:25.237Z"
   },
   {
    "duration": 1442,
    "start_time": "2021-08-21T08:48:29.574Z"
   },
   {
    "duration": 975,
    "start_time": "2021-08-21T08:48:34.975Z"
   },
   {
    "duration": 146,
    "start_time": "2021-08-21T08:48:41.047Z"
   },
   {
    "duration": 1373,
    "start_time": "2021-08-21T08:48:44.764Z"
   },
   {
    "duration": 1368,
    "start_time": "2021-08-21T08:48:50.156Z"
   },
   {
    "duration": 4,
    "start_time": "2021-08-21T08:48:59.436Z"
   },
   {
    "duration": 33,
    "start_time": "2021-08-21T08:48:59.443Z"
   },
   {
    "duration": 8,
    "start_time": "2021-08-21T08:48:59.479Z"
   },
   {
    "duration": 15,
    "start_time": "2021-08-21T08:48:59.490Z"
   },
   {
    "duration": 66,
    "start_time": "2021-08-21T08:48:59.507Z"
   },
   {
    "duration": 761,
    "start_time": "2021-08-21T08:48:59.576Z"
   },
   {
    "duration": 1489,
    "start_time": "2021-08-21T08:49:00.339Z"
   },
   {
    "duration": 45071,
    "start_time": "2021-08-21T08:49:01.833Z"
   },
   {
    "duration": 7,
    "start_time": "2021-08-21T08:49:46.907Z"
   },
   {
    "duration": 14,
    "start_time": "2021-08-21T08:49:46.916Z"
   },
   {
    "duration": 8,
    "start_time": "2021-08-21T08:49:46.961Z"
   },
   {
    "duration": 12,
    "start_time": "2021-08-21T08:49:46.971Z"
   },
   {
    "duration": 13,
    "start_time": "2021-08-21T08:49:46.986Z"
   },
   {
    "duration": 213,
    "start_time": "2021-08-21T08:50:54.945Z"
   },
   {
    "duration": 120,
    "start_time": "2021-08-21T08:50:56.683Z"
   },
   {
    "duration": 1381,
    "start_time": "2021-08-21T08:50:59.783Z"
   },
   {
    "duration": 1449,
    "start_time": "2021-08-21T08:51:02.884Z"
   },
   {
    "duration": 1369,
    "start_time": "2021-08-21T08:51:22.535Z"
   },
   {
    "duration": 41,
    "start_time": "2021-08-21T08:51:23.907Z"
   },
   {
    "duration": 17,
    "start_time": "2021-08-21T08:51:23.951Z"
   },
   {
    "duration": 21,
    "start_time": "2021-08-21T08:51:23.972Z"
   },
   {
    "duration": 68,
    "start_time": "2021-08-21T08:51:23.996Z"
   },
   {
    "duration": 828,
    "start_time": "2021-08-21T08:51:24.066Z"
   },
   {
    "duration": 1494,
    "start_time": "2021-08-21T08:51:24.896Z"
   },
   {
    "duration": 44319,
    "start_time": "2021-08-21T08:51:26.394Z"
   },
   {
    "duration": 8,
    "start_time": "2021-08-21T08:52:10.716Z"
   },
   {
    "duration": 35,
    "start_time": "2021-08-21T08:52:10.726Z"
   },
   {
    "duration": 8,
    "start_time": "2021-08-21T08:52:10.763Z"
   },
   {
    "duration": 17,
    "start_time": "2021-08-21T08:52:10.773Z"
   },
   {
    "duration": 9,
    "start_time": "2021-08-21T08:52:10.793Z"
   }
  ],
  "kernelspec": {
   "display_name": "Python 3 (ipykernel)",
   "language": "python",
   "name": "python3"
  },
  "language_info": {
   "codemirror_mode": {
    "name": "ipython",
    "version": 3
   },
   "file_extension": ".py",
   "mimetype": "text/x-python",
   "name": "python",
   "nbconvert_exporter": "python",
   "pygments_lexer": "ipython3",
   "version": "3.9.7"
  },
  "toc": {
   "base_numbering": 1,
   "nav_menu": {},
   "number_sections": true,
   "sideBar": true,
   "skip_h1_title": true,
   "title_cell": "Table of Contents",
   "title_sidebar": "Contents",
   "toc_cell": false,
   "toc_position": {},
   "toc_section_display": true,
   "toc_window_display": true
  }
 },
 "nbformat": 4,
 "nbformat_minor": 2
}
