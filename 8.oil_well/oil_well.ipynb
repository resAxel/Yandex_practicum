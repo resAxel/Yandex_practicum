{
 "cells": [
  {
   "cell_type": "markdown",
   "metadata": {},
   "source": [
    "# Выбор локации для скважины"
   ]
  },
  {
   "cell_type": "markdown",
   "metadata": {},
   "source": [
    "Допустим, вы работаете в добывающей компании «ГлавРосГосНефть». Нужно решить, где бурить новую скважину.\n",
    "\n",
    "Вам предоставлены пробы нефти в трёх регионах: в каждом 10 000 месторождений, где измерили качество нефти и объём её запасов. Постройте модель машинного обучения, которая поможет определить регион, где добыча принесёт наибольшую прибыль. Проанализируйте возможную прибыль и риски техникой *Bootstrap.*\n",
    "\n",
    "Шаги для выбора локации:\n",
    "\n",
    "- В избранном регионе ищут месторождения, для каждого определяют значения признаков;\n",
    "- Строят модель и оценивают объём запасов;\n",
    "- Выбирают месторождения с самым высокими оценками значений. Количество месторождений зависит от бюджета компании и стоимости разработки одной скважины;\n",
    "- Прибыль равна суммарной прибыли отобранных месторождений."
   ]
  },
  {
   "cell_type": "markdown",
   "metadata": {},
   "source": [
    "## Загрузка и подготовка данных"
   ]
  },
  {
   "cell_type": "code",
   "execution_count": 1,
   "metadata": {},
   "outputs": [],
   "source": [
    "import pandas as pd\n",
    "from sklearn.model_selection import train_test_split\n",
    "from sklearn.linear_model import LinearRegression\n",
    "from sklearn.metrics import mean_squared_error\n",
    "import numpy as np\n",
    "import matplotlib.pyplot as plt\n"
   ]
  },
  {
   "cell_type": "code",
   "execution_count": 2,
   "metadata": {},
   "outputs": [],
   "source": [
    "#загружаем данные\n",
    "df1 = pd.read_csv('Ya_data/oil_well/geo_data_0.csv')\n",
    "df2 = pd.read_csv('Ya_data/oil_well/geo_data_1.csv')\n",
    "df3 = pd.read_csv('Ya_data/oil_well/geo_data_2.csv')"
   ]
  },
  {
   "cell_type": "markdown",
   "metadata": {},
   "source": [
    "Смотрим содержимое данных"
   ]
  },
  {
   "cell_type": "code",
   "execution_count": 3,
   "metadata": {},
   "outputs": [
    {
     "data": {
      "text/html": [
       "<div>\n",
       "<style scoped>\n",
       "    .dataframe tbody tr th:only-of-type {\n",
       "        vertical-align: middle;\n",
       "    }\n",
       "\n",
       "    .dataframe tbody tr th {\n",
       "        vertical-align: top;\n",
       "    }\n",
       "\n",
       "    .dataframe thead th {\n",
       "        text-align: right;\n",
       "    }\n",
       "</style>\n",
       "<table border=\"1\" class=\"dataframe\">\n",
       "  <thead>\n",
       "    <tr style=\"text-align: right;\">\n",
       "      <th></th>\n",
       "      <th>id</th>\n",
       "      <th>f0</th>\n",
       "      <th>f1</th>\n",
       "      <th>f2</th>\n",
       "      <th>product</th>\n",
       "    </tr>\n",
       "  </thead>\n",
       "  <tbody>\n",
       "    <tr>\n",
       "      <th>92509</th>\n",
       "      <td>7EPcC</td>\n",
       "      <td>-0.456685</td>\n",
       "      <td>1.064066</td>\n",
       "      <td>7.701457</td>\n",
       "      <td>109.489200</td>\n",
       "    </tr>\n",
       "    <tr>\n",
       "      <th>99094</th>\n",
       "      <td>H7fGp</td>\n",
       "      <td>0.852552</td>\n",
       "      <td>0.142478</td>\n",
       "      <td>0.849195</td>\n",
       "      <td>40.021622</td>\n",
       "    </tr>\n",
       "    <tr>\n",
       "      <th>78961</th>\n",
       "      <td>VJNOM</td>\n",
       "      <td>-0.825040</td>\n",
       "      <td>0.512715</td>\n",
       "      <td>2.711929</td>\n",
       "      <td>66.960887</td>\n",
       "    </tr>\n",
       "    <tr>\n",
       "      <th>13302</th>\n",
       "      <td>m6dyP</td>\n",
       "      <td>0.689321</td>\n",
       "      <td>0.860754</td>\n",
       "      <td>2.755276</td>\n",
       "      <td>143.815323</td>\n",
       "    </tr>\n",
       "    <tr>\n",
       "      <th>67956</th>\n",
       "      <td>qj1Pp</td>\n",
       "      <td>0.796073</td>\n",
       "      <td>0.848364</td>\n",
       "      <td>3.795867</td>\n",
       "      <td>38.783193</td>\n",
       "    </tr>\n",
       "  </tbody>\n",
       "</table>\n",
       "</div>"
      ],
      "text/plain": [
       "          id        f0        f1        f2     product\n",
       "92509  7EPcC -0.456685  1.064066  7.701457  109.489200\n",
       "99094  H7fGp  0.852552  0.142478  0.849195   40.021622\n",
       "78961  VJNOM -0.825040  0.512715  2.711929   66.960887\n",
       "13302  m6dyP  0.689321  0.860754  2.755276  143.815323\n",
       "67956  qj1Pp  0.796073  0.848364  3.795867   38.783193"
      ]
     },
     "execution_count": 3,
     "metadata": {},
     "output_type": "execute_result"
    }
   ],
   "source": [
    "df1.sample(5 ,random_state = 111)"
   ]
  },
  {
   "cell_type": "code",
   "execution_count": 4,
   "metadata": {},
   "outputs": [
    {
     "data": {
      "text/html": [
       "<div>\n",
       "<style scoped>\n",
       "    .dataframe tbody tr th:only-of-type {\n",
       "        vertical-align: middle;\n",
       "    }\n",
       "\n",
       "    .dataframe tbody tr th {\n",
       "        vertical-align: top;\n",
       "    }\n",
       "\n",
       "    .dataframe thead th {\n",
       "        text-align: right;\n",
       "    }\n",
       "</style>\n",
       "<table border=\"1\" class=\"dataframe\">\n",
       "  <thead>\n",
       "    <tr style=\"text-align: right;\">\n",
       "      <th></th>\n",
       "      <th>id</th>\n",
       "      <th>f0</th>\n",
       "      <th>f1</th>\n",
       "      <th>f2</th>\n",
       "      <th>product</th>\n",
       "    </tr>\n",
       "  </thead>\n",
       "  <tbody>\n",
       "    <tr>\n",
       "      <th>92509</th>\n",
       "      <td>AWeV4</td>\n",
       "      <td>-8.137635</td>\n",
       "      <td>-8.876179</td>\n",
       "      <td>2.995424</td>\n",
       "      <td>84.038886</td>\n",
       "    </tr>\n",
       "    <tr>\n",
       "      <th>99094</th>\n",
       "      <td>65Wmb</td>\n",
       "      <td>-4.980060</td>\n",
       "      <td>-3.412528</td>\n",
       "      <td>1.001200</td>\n",
       "      <td>30.132364</td>\n",
       "    </tr>\n",
       "    <tr>\n",
       "      <th>78961</th>\n",
       "      <td>T4t2G</td>\n",
       "      <td>2.439433</td>\n",
       "      <td>-0.443882</td>\n",
       "      <td>3.003695</td>\n",
       "      <td>80.859783</td>\n",
       "    </tr>\n",
       "    <tr>\n",
       "      <th>13302</th>\n",
       "      <td>BXcLd</td>\n",
       "      <td>7.339515</td>\n",
       "      <td>-5.100007</td>\n",
       "      <td>0.000040</td>\n",
       "      <td>0.000000</td>\n",
       "    </tr>\n",
       "    <tr>\n",
       "      <th>67956</th>\n",
       "      <td>wPnl3</td>\n",
       "      <td>-10.652136</td>\n",
       "      <td>-4.951828</td>\n",
       "      <td>0.013041</td>\n",
       "      <td>3.179103</td>\n",
       "    </tr>\n",
       "  </tbody>\n",
       "</table>\n",
       "</div>"
      ],
      "text/plain": [
       "          id         f0        f1        f2    product\n",
       "92509  AWeV4  -8.137635 -8.876179  2.995424  84.038886\n",
       "99094  65Wmb  -4.980060 -3.412528  1.001200  30.132364\n",
       "78961  T4t2G   2.439433 -0.443882  3.003695  80.859783\n",
       "13302  BXcLd   7.339515 -5.100007  0.000040   0.000000\n",
       "67956  wPnl3 -10.652136 -4.951828  0.013041   3.179103"
      ]
     },
     "execution_count": 4,
     "metadata": {},
     "output_type": "execute_result"
    }
   ],
   "source": [
    "df2.sample(5 ,random_state = 111)"
   ]
  },
  {
   "cell_type": "code",
   "execution_count": 5,
   "metadata": {},
   "outputs": [
    {
     "data": {
      "text/html": [
       "<div>\n",
       "<style scoped>\n",
       "    .dataframe tbody tr th:only-of-type {\n",
       "        vertical-align: middle;\n",
       "    }\n",
       "\n",
       "    .dataframe tbody tr th {\n",
       "        vertical-align: top;\n",
       "    }\n",
       "\n",
       "    .dataframe thead th {\n",
       "        text-align: right;\n",
       "    }\n",
       "</style>\n",
       "<table border=\"1\" class=\"dataframe\">\n",
       "  <thead>\n",
       "    <tr style=\"text-align: right;\">\n",
       "      <th></th>\n",
       "      <th>id</th>\n",
       "      <th>f0</th>\n",
       "      <th>f1</th>\n",
       "      <th>f2</th>\n",
       "      <th>product</th>\n",
       "    </tr>\n",
       "  </thead>\n",
       "  <tbody>\n",
       "    <tr>\n",
       "      <th>92509</th>\n",
       "      <td>88V4S</td>\n",
       "      <td>2.243522</td>\n",
       "      <td>-1.032774</td>\n",
       "      <td>3.185736</td>\n",
       "      <td>96.667190</td>\n",
       "    </tr>\n",
       "    <tr>\n",
       "      <th>99094</th>\n",
       "      <td>t8Vzg</td>\n",
       "      <td>3.232932</td>\n",
       "      <td>2.196337</td>\n",
       "      <td>5.526300</td>\n",
       "      <td>169.430616</td>\n",
       "    </tr>\n",
       "    <tr>\n",
       "      <th>78961</th>\n",
       "      <td>VSWcf</td>\n",
       "      <td>-2.589039</td>\n",
       "      <td>3.131111</td>\n",
       "      <td>-2.676642</td>\n",
       "      <td>46.612179</td>\n",
       "    </tr>\n",
       "    <tr>\n",
       "      <th>13302</th>\n",
       "      <td>1iN6u</td>\n",
       "      <td>0.338558</td>\n",
       "      <td>-1.137644</td>\n",
       "      <td>4.676254</td>\n",
       "      <td>82.363525</td>\n",
       "    </tr>\n",
       "    <tr>\n",
       "      <th>67956</th>\n",
       "      <td>2VAw3</td>\n",
       "      <td>-0.696509</td>\n",
       "      <td>-3.522404</td>\n",
       "      <td>6.014087</td>\n",
       "      <td>154.593880</td>\n",
       "    </tr>\n",
       "  </tbody>\n",
       "</table>\n",
       "</div>"
      ],
      "text/plain": [
       "          id        f0        f1        f2     product\n",
       "92509  88V4S  2.243522 -1.032774  3.185736   96.667190\n",
       "99094  t8Vzg  3.232932  2.196337  5.526300  169.430616\n",
       "78961  VSWcf -2.589039  3.131111 -2.676642   46.612179\n",
       "13302  1iN6u  0.338558 -1.137644  4.676254   82.363525\n",
       "67956  2VAw3 -0.696509 -3.522404  6.014087  154.593880"
      ]
     },
     "execution_count": 5,
     "metadata": {},
     "output_type": "execute_result"
    }
   ],
   "source": [
    "df3.sample(5 ,random_state = 111)"
   ]
  },
  {
   "cell_type": "markdown",
   "metadata": {},
   "source": [
    "Посмотрим информацию о файлах"
   ]
  },
  {
   "cell_type": "code",
   "execution_count": 6,
   "metadata": {},
   "outputs": [
    {
     "name": "stdout",
     "output_type": "stream",
     "text": [
      "<class 'pandas.core.frame.DataFrame'>\n",
      "RangeIndex: 100000 entries, 0 to 99999\n",
      "Data columns (total 5 columns):\n",
      " #   Column   Non-Null Count   Dtype  \n",
      "---  ------   --------------   -----  \n",
      " 0   id       100000 non-null  object \n",
      " 1   f0       100000 non-null  float64\n",
      " 2   f1       100000 non-null  float64\n",
      " 3   f2       100000 non-null  float64\n",
      " 4   product  100000 non-null  float64\n",
      "dtypes: float64(4), object(1)\n",
      "memory usage: 3.8+ MB\n"
     ]
    }
   ],
   "source": [
    "df1.info()"
   ]
  },
  {
   "cell_type": "code",
   "execution_count": 7,
   "metadata": {},
   "outputs": [
    {
     "name": "stdout",
     "output_type": "stream",
     "text": [
      "<class 'pandas.core.frame.DataFrame'>\n",
      "RangeIndex: 100000 entries, 0 to 99999\n",
      "Data columns (total 5 columns):\n",
      " #   Column   Non-Null Count   Dtype  \n",
      "---  ------   --------------   -----  \n",
      " 0   id       100000 non-null  object \n",
      " 1   f0       100000 non-null  float64\n",
      " 2   f1       100000 non-null  float64\n",
      " 3   f2       100000 non-null  float64\n",
      " 4   product  100000 non-null  float64\n",
      "dtypes: float64(4), object(1)\n",
      "memory usage: 3.8+ MB\n"
     ]
    }
   ],
   "source": [
    "df2.info()"
   ]
  },
  {
   "cell_type": "code",
   "execution_count": 8,
   "metadata": {},
   "outputs": [
    {
     "name": "stdout",
     "output_type": "stream",
     "text": [
      "<class 'pandas.core.frame.DataFrame'>\n",
      "RangeIndex: 100000 entries, 0 to 99999\n",
      "Data columns (total 5 columns):\n",
      " #   Column   Non-Null Count   Dtype  \n",
      "---  ------   --------------   -----  \n",
      " 0   id       100000 non-null  object \n",
      " 1   f0       100000 non-null  float64\n",
      " 2   f1       100000 non-null  float64\n",
      " 3   f2       100000 non-null  float64\n",
      " 4   product  100000 non-null  float64\n",
      "dtypes: float64(4), object(1)\n",
      "memory usage: 3.8+ MB\n"
     ]
    }
   ],
   "source": [
    "df3.info()"
   ]
  },
  {
   "cell_type": "markdown",
   "metadata": {},
   "source": [
    "Каждый файл модержит по 100 тыс. объектов в 5ти столбцах:\\\n",
    "id — уникальный идентификатор скважины;\\\n",
    "f0, f1, f2 — три признака точек (неважно, что они означают, но сами признаки значимы);\\\n",
    "product — объём запасов в скважине (тыс. баррелей).\\\n",
    "Пропусков нет.\n"
   ]
  },
  {
   "cell_type": "markdown",
   "metadata": {},
   "source": [
    "Проверим уникальные id на уникальность"
   ]
  },
  {
   "cell_type": "code",
   "execution_count": 9,
   "metadata": {},
   "outputs": [
    {
     "data": {
      "text/html": [
       "<div>\n",
       "<style scoped>\n",
       "    .dataframe tbody tr th:only-of-type {\n",
       "        vertical-align: middle;\n",
       "    }\n",
       "\n",
       "    .dataframe tbody tr th {\n",
       "        vertical-align: top;\n",
       "    }\n",
       "\n",
       "    .dataframe thead th {\n",
       "        text-align: right;\n",
       "    }\n",
       "</style>\n",
       "<table border=\"1\" class=\"dataframe\">\n",
       "  <thead>\n",
       "    <tr style=\"text-align: right;\">\n",
       "      <th></th>\n",
       "      <th>id</th>\n",
       "      <th>f0</th>\n",
       "      <th>f1</th>\n",
       "      <th>f2</th>\n",
       "      <th>product</th>\n",
       "    </tr>\n",
       "  </thead>\n",
       "  <tbody>\n",
       "    <tr>\n",
       "      <th>66136</th>\n",
       "      <td>74z30</td>\n",
       "      <td>1.084962</td>\n",
       "      <td>-0.312358</td>\n",
       "      <td>6.990771</td>\n",
       "      <td>127.643327</td>\n",
       "    </tr>\n",
       "    <tr>\n",
       "      <th>64022</th>\n",
       "      <td>74z30</td>\n",
       "      <td>0.741456</td>\n",
       "      <td>0.459229</td>\n",
       "      <td>5.153109</td>\n",
       "      <td>140.771492</td>\n",
       "    </tr>\n",
       "    <tr>\n",
       "      <th>51970</th>\n",
       "      <td>A5aEY</td>\n",
       "      <td>-0.180335</td>\n",
       "      <td>0.935548</td>\n",
       "      <td>-2.094773</td>\n",
       "      <td>33.020205</td>\n",
       "    </tr>\n",
       "    <tr>\n",
       "      <th>3389</th>\n",
       "      <td>A5aEY</td>\n",
       "      <td>-0.039949</td>\n",
       "      <td>0.156872</td>\n",
       "      <td>0.209861</td>\n",
       "      <td>89.249364</td>\n",
       "    </tr>\n",
       "    <tr>\n",
       "      <th>69163</th>\n",
       "      <td>AGS9W</td>\n",
       "      <td>-0.933795</td>\n",
       "      <td>0.116194</td>\n",
       "      <td>-3.655896</td>\n",
       "      <td>19.230453</td>\n",
       "    </tr>\n",
       "    <tr>\n",
       "      <th>42529</th>\n",
       "      <td>AGS9W</td>\n",
       "      <td>1.454747</td>\n",
       "      <td>-0.479651</td>\n",
       "      <td>0.683380</td>\n",
       "      <td>126.370504</td>\n",
       "    </tr>\n",
       "    <tr>\n",
       "      <th>931</th>\n",
       "      <td>HZww2</td>\n",
       "      <td>0.755284</td>\n",
       "      <td>0.368511</td>\n",
       "      <td>1.863211</td>\n",
       "      <td>30.681774</td>\n",
       "    </tr>\n",
       "    <tr>\n",
       "      <th>7530</th>\n",
       "      <td>HZww2</td>\n",
       "      <td>1.061194</td>\n",
       "      <td>-0.373969</td>\n",
       "      <td>10.430210</td>\n",
       "      <td>158.828695</td>\n",
       "    </tr>\n",
       "    <tr>\n",
       "      <th>63593</th>\n",
       "      <td>QcMuo</td>\n",
       "      <td>0.635635</td>\n",
       "      <td>-0.473422</td>\n",
       "      <td>0.862670</td>\n",
       "      <td>64.578675</td>\n",
       "    </tr>\n",
       "    <tr>\n",
       "      <th>1949</th>\n",
       "      <td>QcMuo</td>\n",
       "      <td>0.506563</td>\n",
       "      <td>-0.323775</td>\n",
       "      <td>-2.215583</td>\n",
       "      <td>75.496502</td>\n",
       "    </tr>\n",
       "    <tr>\n",
       "      <th>75715</th>\n",
       "      <td>Tdehs</td>\n",
       "      <td>0.112079</td>\n",
       "      <td>0.430296</td>\n",
       "      <td>3.218993</td>\n",
       "      <td>60.964018</td>\n",
       "    </tr>\n",
       "    <tr>\n",
       "      <th>21426</th>\n",
       "      <td>Tdehs</td>\n",
       "      <td>0.829407</td>\n",
       "      <td>0.298807</td>\n",
       "      <td>-0.049563</td>\n",
       "      <td>96.035308</td>\n",
       "    </tr>\n",
       "    <tr>\n",
       "      <th>92341</th>\n",
       "      <td>TtcGQ</td>\n",
       "      <td>0.110711</td>\n",
       "      <td>1.022689</td>\n",
       "      <td>0.911381</td>\n",
       "      <td>101.318008</td>\n",
       "    </tr>\n",
       "    <tr>\n",
       "      <th>60140</th>\n",
       "      <td>TtcGQ</td>\n",
       "      <td>0.569276</td>\n",
       "      <td>-0.104876</td>\n",
       "      <td>6.440215</td>\n",
       "      <td>85.350186</td>\n",
       "    </tr>\n",
       "    <tr>\n",
       "      <th>89582</th>\n",
       "      <td>bsk9y</td>\n",
       "      <td>0.398908</td>\n",
       "      <td>-0.400253</td>\n",
       "      <td>10.122376</td>\n",
       "      <td>163.433078</td>\n",
       "    </tr>\n",
       "    <tr>\n",
       "      <th>97785</th>\n",
       "      <td>bsk9y</td>\n",
       "      <td>0.378429</td>\n",
       "      <td>0.005837</td>\n",
       "      <td>0.160827</td>\n",
       "      <td>160.637302</td>\n",
       "    </tr>\n",
       "    <tr>\n",
       "      <th>41724</th>\n",
       "      <td>bxg6G</td>\n",
       "      <td>-0.823752</td>\n",
       "      <td>0.546319</td>\n",
       "      <td>3.630479</td>\n",
       "      <td>93.007798</td>\n",
       "    </tr>\n",
       "    <tr>\n",
       "      <th>1364</th>\n",
       "      <td>bxg6G</td>\n",
       "      <td>0.411645</td>\n",
       "      <td>0.856830</td>\n",
       "      <td>-3.653440</td>\n",
       "      <td>73.604260</td>\n",
       "    </tr>\n",
       "    <tr>\n",
       "      <th>16633</th>\n",
       "      <td>fiKDv</td>\n",
       "      <td>0.157341</td>\n",
       "      <td>1.028359</td>\n",
       "      <td>5.585586</td>\n",
       "      <td>95.817889</td>\n",
       "    </tr>\n",
       "    <tr>\n",
       "      <th>90815</th>\n",
       "      <td>fiKDv</td>\n",
       "      <td>0.049883</td>\n",
       "      <td>0.841313</td>\n",
       "      <td>6.394613</td>\n",
       "      <td>137.346586</td>\n",
       "    </tr>\n",
       "  </tbody>\n",
       "</table>\n",
       "</div>"
      ],
      "text/plain": [
       "          id        f0        f1         f2     product\n",
       "66136  74z30  1.084962 -0.312358   6.990771  127.643327\n",
       "64022  74z30  0.741456  0.459229   5.153109  140.771492\n",
       "51970  A5aEY -0.180335  0.935548  -2.094773   33.020205\n",
       "3389   A5aEY -0.039949  0.156872   0.209861   89.249364\n",
       "69163  AGS9W -0.933795  0.116194  -3.655896   19.230453\n",
       "42529  AGS9W  1.454747 -0.479651   0.683380  126.370504\n",
       "931    HZww2  0.755284  0.368511   1.863211   30.681774\n",
       "7530   HZww2  1.061194 -0.373969  10.430210  158.828695\n",
       "63593  QcMuo  0.635635 -0.473422   0.862670   64.578675\n",
       "1949   QcMuo  0.506563 -0.323775  -2.215583   75.496502\n",
       "75715  Tdehs  0.112079  0.430296   3.218993   60.964018\n",
       "21426  Tdehs  0.829407  0.298807  -0.049563   96.035308\n",
       "92341  TtcGQ  0.110711  1.022689   0.911381  101.318008\n",
       "60140  TtcGQ  0.569276 -0.104876   6.440215   85.350186\n",
       "89582  bsk9y  0.398908 -0.400253  10.122376  163.433078\n",
       "97785  bsk9y  0.378429  0.005837   0.160827  160.637302\n",
       "41724  bxg6G -0.823752  0.546319   3.630479   93.007798\n",
       "1364   bxg6G  0.411645  0.856830  -3.653440   73.604260\n",
       "16633  fiKDv  0.157341  1.028359   5.585586   95.817889\n",
       "90815  fiKDv  0.049883  0.841313   6.394613  137.346586"
      ]
     },
     "execution_count": 9,
     "metadata": {},
     "output_type": "execute_result"
    }
   ],
   "source": [
    "ids = df1['id']\n",
    "df1[ids.isin(ids[ids.duplicated()])].sort_values('id')"
   ]
  },
  {
   "cell_type": "code",
   "execution_count": 10,
   "metadata": {},
   "outputs": [
    {
     "data": {
      "text/html": [
       "<div>\n",
       "<style scoped>\n",
       "    .dataframe tbody tr th:only-of-type {\n",
       "        vertical-align: middle;\n",
       "    }\n",
       "\n",
       "    .dataframe tbody tr th {\n",
       "        vertical-align: top;\n",
       "    }\n",
       "\n",
       "    .dataframe thead th {\n",
       "        text-align: right;\n",
       "    }\n",
       "</style>\n",
       "<table border=\"1\" class=\"dataframe\">\n",
       "  <thead>\n",
       "    <tr style=\"text-align: right;\">\n",
       "      <th></th>\n",
       "      <th>id</th>\n",
       "      <th>f0</th>\n",
       "      <th>f1</th>\n",
       "      <th>f2</th>\n",
       "      <th>product</th>\n",
       "    </tr>\n",
       "  </thead>\n",
       "  <tbody>\n",
       "    <tr>\n",
       "      <th>5849</th>\n",
       "      <td>5ltQ6</td>\n",
       "      <td>-3.435401</td>\n",
       "      <td>-12.296043</td>\n",
       "      <td>1.999796</td>\n",
       "      <td>57.085625</td>\n",
       "    </tr>\n",
       "    <tr>\n",
       "      <th>84461</th>\n",
       "      <td>5ltQ6</td>\n",
       "      <td>18.213839</td>\n",
       "      <td>2.191999</td>\n",
       "      <td>3.993869</td>\n",
       "      <td>107.813044</td>\n",
       "    </tr>\n",
       "    <tr>\n",
       "      <th>1305</th>\n",
       "      <td>LHZR0</td>\n",
       "      <td>11.170835</td>\n",
       "      <td>-1.945066</td>\n",
       "      <td>3.002872</td>\n",
       "      <td>80.859783</td>\n",
       "    </tr>\n",
       "    <tr>\n",
       "      <th>41906</th>\n",
       "      <td>LHZR0</td>\n",
       "      <td>-8.989672</td>\n",
       "      <td>-4.286607</td>\n",
       "      <td>2.009139</td>\n",
       "      <td>57.085625</td>\n",
       "    </tr>\n",
       "    <tr>\n",
       "      <th>2721</th>\n",
       "      <td>bfPNe</td>\n",
       "      <td>-9.494442</td>\n",
       "      <td>-5.463692</td>\n",
       "      <td>4.006042</td>\n",
       "      <td>110.992147</td>\n",
       "    </tr>\n",
       "    <tr>\n",
       "      <th>82178</th>\n",
       "      <td>bfPNe</td>\n",
       "      <td>-6.202799</td>\n",
       "      <td>-4.820045</td>\n",
       "      <td>2.995107</td>\n",
       "      <td>84.038886</td>\n",
       "    </tr>\n",
       "    <tr>\n",
       "      <th>47591</th>\n",
       "      <td>wt4Uk</td>\n",
       "      <td>-9.091098</td>\n",
       "      <td>-8.109279</td>\n",
       "      <td>-0.002314</td>\n",
       "      <td>3.179103</td>\n",
       "    </tr>\n",
       "    <tr>\n",
       "      <th>82873</th>\n",
       "      <td>wt4Uk</td>\n",
       "      <td>10.259972</td>\n",
       "      <td>-9.376355</td>\n",
       "      <td>4.994297</td>\n",
       "      <td>134.766305</td>\n",
       "    </tr>\n",
       "  </tbody>\n",
       "</table>\n",
       "</div>"
      ],
      "text/plain": [
       "          id         f0         f1        f2     product\n",
       "5849   5ltQ6  -3.435401 -12.296043  1.999796   57.085625\n",
       "84461  5ltQ6  18.213839   2.191999  3.993869  107.813044\n",
       "1305   LHZR0  11.170835  -1.945066  3.002872   80.859783\n",
       "41906  LHZR0  -8.989672  -4.286607  2.009139   57.085625\n",
       "2721   bfPNe  -9.494442  -5.463692  4.006042  110.992147\n",
       "82178  bfPNe  -6.202799  -4.820045  2.995107   84.038886\n",
       "47591  wt4Uk  -9.091098  -8.109279 -0.002314    3.179103\n",
       "82873  wt4Uk  10.259972  -9.376355  4.994297  134.766305"
      ]
     },
     "execution_count": 10,
     "metadata": {},
     "output_type": "execute_result"
    }
   ],
   "source": [
    "ids = df2['id']\n",
    "df2[ids.isin(ids[ids.duplicated()])].sort_values('id')"
   ]
  },
  {
   "cell_type": "code",
   "execution_count": 11,
   "metadata": {},
   "outputs": [
    {
     "data": {
      "text/html": [
       "<div>\n",
       "<style scoped>\n",
       "    .dataframe tbody tr th:only-of-type {\n",
       "        vertical-align: middle;\n",
       "    }\n",
       "\n",
       "    .dataframe tbody tr th {\n",
       "        vertical-align: top;\n",
       "    }\n",
       "\n",
       "    .dataframe thead th {\n",
       "        text-align: right;\n",
       "    }\n",
       "</style>\n",
       "<table border=\"1\" class=\"dataframe\">\n",
       "  <thead>\n",
       "    <tr style=\"text-align: right;\">\n",
       "      <th></th>\n",
       "      <th>id</th>\n",
       "      <th>f0</th>\n",
       "      <th>f1</th>\n",
       "      <th>f2</th>\n",
       "      <th>product</th>\n",
       "    </tr>\n",
       "  </thead>\n",
       "  <tbody>\n",
       "    <tr>\n",
       "      <th>45404</th>\n",
       "      <td>KUPhW</td>\n",
       "      <td>0.231846</td>\n",
       "      <td>-1.698941</td>\n",
       "      <td>4.990775</td>\n",
       "      <td>11.716299</td>\n",
       "    </tr>\n",
       "    <tr>\n",
       "      <th>55967</th>\n",
       "      <td>KUPhW</td>\n",
       "      <td>1.211150</td>\n",
       "      <td>3.176408</td>\n",
       "      <td>5.543540</td>\n",
       "      <td>132.831802</td>\n",
       "    </tr>\n",
       "    <tr>\n",
       "      <th>11449</th>\n",
       "      <td>VF7Jo</td>\n",
       "      <td>2.122656</td>\n",
       "      <td>-0.858275</td>\n",
       "      <td>5.746001</td>\n",
       "      <td>181.716817</td>\n",
       "    </tr>\n",
       "    <tr>\n",
       "      <th>49564</th>\n",
       "      <td>VF7Jo</td>\n",
       "      <td>-0.883115</td>\n",
       "      <td>0.560537</td>\n",
       "      <td>0.723601</td>\n",
       "      <td>136.233420</td>\n",
       "    </tr>\n",
       "    <tr>\n",
       "      <th>44378</th>\n",
       "      <td>Vcm5J</td>\n",
       "      <td>-1.229484</td>\n",
       "      <td>-2.439204</td>\n",
       "      <td>1.222909</td>\n",
       "      <td>137.968290</td>\n",
       "    </tr>\n",
       "    <tr>\n",
       "      <th>95090</th>\n",
       "      <td>Vcm5J</td>\n",
       "      <td>2.587702</td>\n",
       "      <td>1.986875</td>\n",
       "      <td>2.482245</td>\n",
       "      <td>92.327572</td>\n",
       "    </tr>\n",
       "    <tr>\n",
       "      <th>28039</th>\n",
       "      <td>xCHr8</td>\n",
       "      <td>1.633027</td>\n",
       "      <td>0.368135</td>\n",
       "      <td>-2.378367</td>\n",
       "      <td>6.120525</td>\n",
       "    </tr>\n",
       "    <tr>\n",
       "      <th>43233</th>\n",
       "      <td>xCHr8</td>\n",
       "      <td>-0.847066</td>\n",
       "      <td>2.101796</td>\n",
       "      <td>5.597130</td>\n",
       "      <td>184.388641</td>\n",
       "    </tr>\n",
       "  </tbody>\n",
       "</table>\n",
       "</div>"
      ],
      "text/plain": [
       "          id        f0        f1        f2     product\n",
       "45404  KUPhW  0.231846 -1.698941  4.990775   11.716299\n",
       "55967  KUPhW  1.211150  3.176408  5.543540  132.831802\n",
       "11449  VF7Jo  2.122656 -0.858275  5.746001  181.716817\n",
       "49564  VF7Jo -0.883115  0.560537  0.723601  136.233420\n",
       "44378  Vcm5J -1.229484 -2.439204  1.222909  137.968290\n",
       "95090  Vcm5J  2.587702  1.986875  2.482245   92.327572\n",
       "28039  xCHr8  1.633027  0.368135 -2.378367    6.120525\n",
       "43233  xCHr8 -0.847066  2.101796  5.597130  184.388641"
      ]
     },
     "execution_count": 11,
     "metadata": {},
     "output_type": "execute_result"
    }
   ],
   "source": [
    "ids = df3['id']\n",
    "df3[ids.isin(ids[ids.duplicated()])].sort_values('id')"
   ]
  },
  {
   "cell_type": "markdown",
   "metadata": {},
   "source": [
    "Во всех 3х датасетах имеется небольшое количество дубликатов id, но с разными признаками. Возможно это старые и обновленные данные которые забыли удалить. Нас интересует только связь трех признаков с объемом запасов, поэтому на обучение модели данная аномалия не повлияет, оставим данные без изменений. Признак id удалим за ненадобностью."
   ]
  },
  {
   "cell_type": "code",
   "execution_count": 12,
   "metadata": {},
   "outputs": [],
   "source": [
    "df1 = df1.drop(['id'], axis = 1)\n",
    "df2 = df2.drop(['id'], axis = 1)\n",
    "df3 = df3.drop(['id'], axis = 1)"
   ]
  },
  {
   "cell_type": "markdown",
   "metadata": {},
   "source": [
    "Посмотрим на распределение целевого признака"
   ]
  },
  {
   "cell_type": "code",
   "execution_count": 13,
   "metadata": {},
   "outputs": [
    {
     "data": {
      "image/png": "[encoded data removed]",
      "text/plain": [
       "<Figure size 432x288 with 1 Axes>"
      ]
     },
     "metadata": {
      "needs_background": "light"
     },
     "output_type": "display_data"
    }
   ],
   "source": [
    "df1['product'].hist(bins=100)\n",
    "plt.title('Распределение объёма запасов в скважине (тыс. баррелей) в 1м регионе')\n",
    "plt.show()"
   ]
  },
  {
   "cell_type": "code",
   "execution_count": 14,
   "metadata": {},
   "outputs": [
    {
     "data": {
      "image/png": "[encoded data removed]",
      "text/plain": [
       "<Figure size 432x288 with 1 Axes>"
      ]
     },
     "metadata": {
      "needs_background": "light"
     },
     "output_type": "display_data"
    }
   ],
   "source": [
    "df2['product'].hist(bins=100)\n",
    "plt.title('Распределение объёма запасов в скважине (тыс. баррелей) в 2м регионе')\n",
    "plt.show()"
   ]
  },
  {
   "cell_type": "code",
   "execution_count": 15,
   "metadata": {},
   "outputs": [
    {
     "data": {
      "image/png": "[encoded data removed]",
      "text/plain": [
       "<Figure size 432x288 with 1 Axes>"
      ]
     },
     "metadata": {
      "needs_background": "light"
     },
     "output_type": "display_data"
    }
   ],
   "source": [
    "df3['product'].hist(bins=100)\n",
    "plt.title('Распределение объёма запасов в скважине (тыс. баррелей) в 3м регионе')\n",
    "plt.show()"
   ]
  },
  {
   "cell_type": "markdown",
   "metadata": {},
   "source": [
    "Распределение имеют интересную форму. 2й регион сильно отличается. По описанию задачи данные искуственные."
   ]
  },
  {
   "cell_type": "markdown",
   "metadata": {},
   "source": [
    "### Вывод"
   ]
  },
  {
   "cell_type": "markdown",
   "metadata": {},
   "source": [
    "Посмотрели на исходдные данные. Удилили лишнее. Кодирование или масштабирование признаков для предоставленных данных не требуется. "
   ]
  },
  {
   "cell_type": "markdown",
   "metadata": {},
   "source": [
    "## Обучение и проверка модели"
   ]
  },
  {
   "cell_type": "markdown",
   "metadata": {},
   "source": [
    "По условиям задачи для обучения модели подходит только линейная регрессия, поэтому используем эту модель."
   ]
  },
  {
   "cell_type": "code",
   "execution_count": 16,
   "metadata": {},
   "outputs": [
    {
     "name": "stdout",
     "output_type": "stream",
     "text": [
      "Обучающие объекты df1 : признаки (75000, 3), цель (75000,)\n",
      "Валидационные объекты df1: признаки (25000, 3), цель (25000,)\n",
      "\n",
      "Cредний запас предсказанного сырья на валидационной выборке df1: 92.59 тыс. баррелей\n",
      "RMSE линейной регрессии на валидационной выборке df1: 37.58\n",
      "\n",
      "Предсказания и правильные ответы на валидационной выборке сохранены в переменных predictions_valid_df1 и target_valid_df1\n",
      "_____________________________________________________________________________________________________________________________\n",
      "Обучающие объекты df2 : признаки (75000, 3), цель (75000,)\n",
      "Валидационные объекты df2: признаки (25000, 3), цель (25000,)\n",
      "\n",
      "Cредний запас предсказанного сырья на валидационной выборке df2: 68.73 тыс. баррелей\n",
      "RMSE линейной регрессии на валидационной выборке df2: 0.89\n",
      "\n",
      "Предсказания и правильные ответы на валидационной выборке сохранены в переменных predictions_valid_df2 и target_valid_df2\n",
      "_____________________________________________________________________________________________________________________________\n",
      "Обучающие объекты df3 : признаки (75000, 3), цель (75000,)\n",
      "Валидационные объекты df3: признаки (25000, 3), цель (25000,)\n",
      "\n",
      "Cредний запас предсказанного сырья на валидационной выборке df3: 94.97 тыс. баррелей\n",
      "RMSE линейной регрессии на валидационной выборке df3: 40.03\n",
      "\n",
      "Предсказания и правильные ответы на валидационной выборке сохранены в переменных predictions_valid_df3 и target_valid_df3\n",
      "_____________________________________________________________________________________________________________________________\n"
     ]
    }
   ],
   "source": [
    "df1.name = 'df1'\n",
    "df2.name = 'df2'\n",
    "df3.name = 'df3'\n",
    "datasets = [df1, df2, df3]\n",
    "\n",
    "for data in datasets:\n",
    "    features = data.drop('product', axis = 1) # признаки \n",
    "    target = data['product'] # целевой признак\n",
    "    features_train, features_valid, target_train, target_valid = train_test_split(\n",
    "                                                                        features, target, test_size=0.25, random_state=12345)\n",
    "    print('Обучающие объекты {} : признаки {}, цель {}'.format(data.name ,features_train.shape, target_train.shape))\n",
    "    print('Валидационные объекты {}: признаки {}, цель {}'.format(data.name,features_valid.shape, target_valid.shape))\n",
    "    globals()['target_valid_%s' % data.name] = target_valid.reset_index(drop=True) # для дальнейшего сопоставления сбросим индексы\n",
    "    model = LinearRegression()\n",
    "    model.fit(features_train, target_train) # обучение на тренировочной выборке\n",
    "    #globals()['model_%s' % data.name] = model\n",
    "    predictions_valid = model.predict(features_valid) #  предсказания модели на валидационной выборке\n",
    "    globals()['predictions_valid_%s' % data.name] = pd.Series(predictions_valid) # для дальнейшего сопоставления преобразуем в серию\n",
    "    result = mean_squared_error(target_valid, predictions_valid) ** 0.5 # RMSE на валидационной выборке\n",
    "    globals()['RMSE_%s' % data.name] = result\n",
    "    print(\"\")\n",
    "    print(\"Cредний запас предсказанного сырья на валидационной выборке {}:{: .2f} тыс. баррелей\".format(data.name, predictions_valid.mean()))\n",
    "    print(\"RMSE линейной регрессии на валидационной выборке {}:{: .2f}\".format(data.name, result))\n",
    "    print(\"\")\n",
    "    print(\"Предсказания и правильные ответы на валидационной выборке сохранены в переменных predictions_valid_{} и target_valid_{}\" .format(data.name, data.name))\n",
    "    print(\"_____________________________________________________________________________________________________________________________\")\n",
    "         "
   ]
  },
  {
   "cell_type": "markdown",
   "metadata": {},
   "source": [
    "### Вывод"
   ]
  },
  {
   "cell_type": "markdown",
   "metadata": {},
   "source": [
    "Обучили модели для 3х разных регионов и посчитали предсказания. Метрики точности предсказаний RMSE для регионов df1 и df3 примерно одинаковы 37 и 40. Для региона df2 метрика RMSE = 1, что является почти идеальным результатом. Это объясняется распределением целевых признаков показанным выше. Средний запас  предсказанного сырья больше всего в регионе df3 (94.97 тыс. баррелей). "
   ]
  },
  {
   "cell_type": "markdown",
   "metadata": {},
   "source": [
    "## Подготовка к расчёту прибыли"
   ]
  },
  {
   "cell_type": "markdown",
   "metadata": {},
   "source": [
    "Ключевые значения для расчётов сохраним в отдельных переменных"
   ]
  },
  {
   "cell_type": "code",
   "execution_count": 17,
   "metadata": {},
   "outputs": [],
   "source": [
    "BUDGET_PER_REGION = 10e9 # Бюджет на разработку скважин в регионе\n",
    "PROFIT_PER_UNIT = 450e3 #Доход с каждой единицы продукта\n",
    "EXP_POINT_PER_REGION = 500 #Количество исследуемых точек\n",
    "DEV_POINT_PER_REGION = 200 #Количество разрабатываемых точек"
   ]
  },
  {
   "cell_type": "markdown",
   "metadata": {},
   "source": [
    "Посчитаем достаточный объём сырья для безубыточной разработки новой скважины. Разделим бюджет разработки на регион на доход с единицы продукта и на общще колличество разрабатываемых скважин."
   ]
  },
  {
   "cell_type": "code",
   "execution_count": 18,
   "metadata": {},
   "outputs": [
    {
     "name": "stdout",
     "output_type": "stream",
     "text": [
      "Достаточный объём сырья для безубыточной разработки новой скважины: 111.11111111111111\n"
     ]
    }
   ],
   "source": [
    "Vol_CVP = BUDGET_PER_REGION / PROFIT_PER_UNIT / DEV_POINT_PER_REGION\n",
    "print('Достаточный объём сырья для безубыточной разработки новой скважины:', Vol_CVP)"
   ]
  },
  {
   "cell_type": "markdown",
   "metadata": {},
   "source": [
    "Напишем функцию для расчёта прибыли по выбранным скважинам и предсказаниям модели"
   ]
  },
  {
   "cell_type": "code",
   "execution_count": 19,
   "metadata": {},
   "outputs": [],
   "source": [
    "def profit_top_target_by_predict(predict, target, top_N):\n",
    "    #в бустрапе берутся элементы с повторениями, т.е. с одинаковыми индексами в массиве появляются лишние элементы. обрежем их.\n",
    "    top_idx = predict.sort_values(ascending=False)[:top_N].index \n",
    "    return target[top_idx][:top_N].sum()*PROFIT_PER_UNIT - BUDGET_PER_REGION  "
   ]
  },
  {
   "cell_type": "markdown",
   "metadata": {},
   "source": [
    "### Вывод"
   ]
  },
  {
   "cell_type": "markdown",
   "metadata": {},
   "source": [
    "Расчеты показывают,что каждая из 200 скважин должна иметь объем запасов не менее 111 тыс. баррелей. Это больше чем средний обьем сважин по любому региону."
   ]
  },
  {
   "cell_type": "markdown",
   "metadata": {},
   "source": [
    "## Расчёт прибыли и рисков "
   ]
  },
  {
   "cell_type": "markdown",
   "metadata": {},
   "source": [
    "Применим технику Bootstrap с 1000 выборок, чтобы найти распределение прибыли. Посчитаем среднюю прибыль, 95%-й доверительный интервал и риск убытков. "
   ]
  },
  {
   "cell_type": "code",
   "execution_count": 20,
   "metadata": {},
   "outputs": [],
   "source": [
    "state = np.random.RandomState(12345)\n",
    "def bootstrap(predict, target, subsample):    \n",
    "    values = []\n",
    "    for i in range(1000):\n",
    "    \n",
    "        target_subsample = target.sample(n=EXP_POINT_PER_REGION, replace=True, random_state=state)\n",
    "        predict_subsample = predict[target_subsample.index]\n",
    "        values.append(profit_top_target_by_predict(predict_subsample, target_subsample, DEV_POINT_PER_REGION))\n",
    "                             \n",
    "    values = pd.Series(values)\n",
    "    lower = values.quantile(0.025)\n",
    "    upper = values.quantile(0.975)\n",
    "    risk_of_losses =  values.loc[values < 0].count() / 1000 *100\n",
    "    mean = values.mean()\n",
    "    print(\"Средняя прибыль, млрд:\", round(mean / 1e6))\n",
    "    print(\"2.5%-квантиль, млрд:\", round(lower / 1e6))\n",
    "    print(\"97.5%-квантиль, млрд:\", round(upper / 1e6))\n",
    "    print(\"Риск убытков, %\", risk_of_losses)\n",
    "    values.hist(bins=50, figsize = (11,5))\n",
    "    plt.title('Распределение прибыли')\n",
    "\n",
    "    plt.axvline(lower, color = 'red')\n",
    "    plt.axvline(upper, color = 'red')\n",
    "    \n",
    "      \n",
    "    return round(mean / 1e6), risk_of_losses"
   ]
  },
  {
   "cell_type": "markdown",
   "metadata": {},
   "source": [
    "### Регион 1"
   ]
  },
  {
   "cell_type": "code",
   "execution_count": 21,
   "metadata": {
    "scrolled": false
   },
   "outputs": [
    {
     "name": "stdout",
     "output_type": "stream",
     "text": [
      "Средняя прибыль, млрд: 426\n",
      "2.5%-квантиль, млрд: -102\n",
      "97.5%-квантиль, млрд: 948\n",
      "Риск убытков, % 6.0\n"
     ]
    },
    {
     "data": {
      "image/png": "[encoded data removed]",
      "text/plain": [
       "<Figure size 792x360 with 1 Axes>"
      ]
     },
     "metadata": {
      "needs_background": "light"
     },
     "output_type": "display_data"
    }
   ],
   "source": [
    "result_1 = bootstrap(predictions_valid_df1, target_valid_df1, EXP_POINT_PER_REGION)"
   ]
  },
  {
   "cell_type": "markdown",
   "metadata": {},
   "source": [
    "### Регион 2"
   ]
  },
  {
   "cell_type": "code",
   "execution_count": 22,
   "metadata": {},
   "outputs": [
    {
     "name": "stdout",
     "output_type": "stream",
     "text": [
      "Средняя прибыль, млрд: 518\n",
      "2.5%-квантиль, млрд: 128\n",
      "97.5%-квантиль, млрд: 954\n",
      "Риск убытков, % 0.3\n"
     ]
    },
    {
     "data": {
      "image/png": "[encoded data removed]",
      "text/plain": [
       "<Figure size 792x360 with 1 Axes>"
      ]
     },
     "metadata": {
      "needs_background": "light"
     },
     "output_type": "display_data"
    }
   ],
   "source": [
    "result_2 = bootstrap(predictions_valid_df2, target_valid_df2, EXP_POINT_PER_REGION)"
   ]
  },
  {
   "cell_type": "markdown",
   "metadata": {},
   "source": [
    "### Регион 3"
   ]
  },
  {
   "cell_type": "code",
   "execution_count": 23,
   "metadata": {},
   "outputs": [
    {
     "name": "stdout",
     "output_type": "stream",
     "text": [
      "Средняя прибыль, млрд: 420\n",
      "2.5%-квантиль, млрд: -116\n",
      "97.5%-квантиль, млрд: 990\n",
      "Риск убытков, % 6.2\n"
     ]
    },
    {
     "data": {
      "image/png": "[encoded data removed]",
      "text/plain": [
       "<Figure size 792x360 with 1 Axes>"
      ]
     },
     "metadata": {
      "needs_background": "light"
     },
     "output_type": "display_data"
    }
   ],
   "source": [
    "result_3 = bootstrap(predictions_valid_df3, target_valid_df3, EXP_POINT_PER_REGION)"
   ]
  },
  {
   "cell_type": "markdown",
   "metadata": {},
   "source": [
    "### Вывод"
   ]
  },
  {
   "cell_type": "markdown",
   "metadata": {},
   "source": [
    "Итоговая тоблица стредней прибыли, рисков убытков и метрики модели по регионам."
   ]
  },
  {
   "cell_type": "code",
   "execution_count": 24,
   "metadata": {},
   "outputs": [
    {
     "data": {
      "text/html": [
       "<div>\n",
       "<style scoped>\n",
       "    .dataframe tbody tr th:only-of-type {\n",
       "        vertical-align: middle;\n",
       "    }\n",
       "\n",
       "    .dataframe tbody tr th {\n",
       "        vertical-align: top;\n",
       "    }\n",
       "\n",
       "    .dataframe thead th {\n",
       "        text-align: right;\n",
       "    }\n",
       "</style>\n",
       "<table border=\"1\" class=\"dataframe\">\n",
       "  <thead>\n",
       "    <tr style=\"text-align: right;\">\n",
       "      <th></th>\n",
       "      <th>Регион</th>\n",
       "      <th>1</th>\n",
       "      <th>2</th>\n",
       "      <th>3</th>\n",
       "    </tr>\n",
       "  </thead>\n",
       "  <tbody>\n",
       "    <tr>\n",
       "      <th>0</th>\n",
       "      <td>Средняя прибыль, млрд</td>\n",
       "      <td>426.0</td>\n",
       "      <td>518.0</td>\n",
       "      <td>420.0</td>\n",
       "    </tr>\n",
       "    <tr>\n",
       "      <th>1</th>\n",
       "      <td>Риск убытков, %</td>\n",
       "      <td>6.0</td>\n",
       "      <td>0.3</td>\n",
       "      <td>6.2</td>\n",
       "    </tr>\n",
       "    <tr>\n",
       "      <th>2</th>\n",
       "      <td>RMSE модели</td>\n",
       "      <td>38.0</td>\n",
       "      <td>1.0</td>\n",
       "      <td>40.0</td>\n",
       "    </tr>\n",
       "  </tbody>\n",
       "</table>\n",
       "</div>"
      ],
      "text/plain": [
       "                  Регион      1      2      3\n",
       "0  Средняя прибыль, млрд  426.0  518.0  420.0\n",
       "1        Риск убытков, %    6.0    0.3    6.2\n",
       "2            RMSE модели   38.0    1.0   40.0"
      ]
     },
     "execution_count": 24,
     "metadata": {},
     "output_type": "execute_result"
    }
   ],
   "source": [
    "pd.DataFrame({'Регион':['Средняя прибыль, млрд', 'Риск убытков, %', 'RMSE модели'], \n",
    "              '1': [result_1[0], result_1[1], round(RMSE_df1)], \n",
    "              '2' :[result_2[0], result_2[1], round(RMSE_df2)],\n",
    "              '3': [result_3[0], result_3[1], round(RMSE_df3)]})"
   ]
  },
  {
   "cell_type": "markdown",
   "metadata": {},
   "source": [
    "Наибольшую среднюю прибыль показывает 2й регион. Безубыточный 2,5% порог преодолел только 2й регион. Лучший  регион для разработки скважин номер 2. Несмотрия на наименьший средний запас предсказанного сырья он показал самую большую среднюю прибыль при разработке 200 скважин выбранных из случайных 500 скважин. Кроме того у него наибольшая точность предсказания модели и минимальный риск убытков. Самый большой риск убытков в 3м регионе. "
   ]
  },
  {
   "cell_type": "markdown",
   "metadata": {},
   "source": [
    "## Общий вывод"
   ]
  },
  {
   "cell_type": "markdown",
   "metadata": {},
   "source": [
    "Определен регион, где добыча принесёт наибольшую прибыль. С помощью техники Bootstrap проанализирована возможная прибыль и риски. В итоге наибольшую среднюю вероятную прибыль показал регион с наименьшим средним запасом по скажинам."
   ]
  },
  {
   "cell_type": "markdown",
   "metadata": {},
   "source": [
    "## Чек-лист готовности проекта"
   ]
  },
  {
   "cell_type": "markdown",
   "metadata": {},
   "source": [
    "Поставьте 'x' в выполненных пунктах. Далее нажмите Shift+Enter."
   ]
  },
  {
   "cell_type": "markdown",
   "metadata": {},
   "source": [
    "- [x]  Jupyter Notebook открыт\n",
    "- [x]  Весь код выполняется без ошибок\n",
    "- [x]  Ячейки с кодом расположены в порядке исполнения\n",
    "- [x]  Выполнен шаг 1: данные подготовлены\n",
    "- [x]  Выполнен шаг 2: модели обучены и проверены\n",
    "    - [x]  Данные корректно разбиты на обучающую и валидационную выборки\n",
    "    - [x]  Модели обучены, предсказания сделаны\n",
    "    - [x]  Предсказания и правильные ответы на валидационной выборке сохранены\n",
    "    - [x]  На экране напечатаны результаты\n",
    "    - [x]  Сделаны выводы\n",
    "- [x]  Выполнен шаг 3: проведена подготовка к расчёту прибыли\n",
    "    - [x]  Для всех ключевых значений созданы константы Python\n",
    "    - [x]  Посчитано минимальное среднее количество продукта в месторождениях региона, достаточное для разработки\n",
    "    - [x]  По предыдущему пункту сделаны выводы\n",
    "    - [x]  Написана функция расчёта прибыли\n",
    "- [x]  Выполнен шаг 4: посчитаны риски и прибыль\n",
    "    - [x]  Проведена процедура *Bootstrap*\n",
    "    - [x]  Все параметры бутстрепа соответствуют условию\n",
    "    - [x]  Найдены все нужные величины\n",
    "    - [x]  Предложен регион для разработки месторождения\n",
    "    - [x]  Выбор региона обоснован"
   ]
  },
  {
   "cell_type": "code",
   "execution_count": null,
   "metadata": {},
   "outputs": [],
   "source": []
  }
 ],
 "metadata": {
  "ExecuteTimeLog": [
   {
    "duration": 597,
    "start_time": "2021-09-19T18:37:56.875Z"
   },
   {
    "duration": 113,
    "start_time": "2021-09-19T18:37:58.702Z"
   },
   {
    "duration": 322,
    "start_time": "2021-09-19T18:38:34.618Z"
   },
   {
    "duration": 16,
    "start_time": "2021-09-19T18:39:43.536Z"
   },
   {
    "duration": 10,
    "start_time": "2021-09-19T18:40:03.444Z"
   },
   {
    "duration": 11,
    "start_time": "2021-09-19T18:40:12.258Z"
   },
   {
    "duration": 10,
    "start_time": "2021-09-19T18:40:30.210Z"
   },
   {
    "duration": 11,
    "start_time": "2021-09-19T18:40:39.112Z"
   },
   {
    "duration": 292,
    "start_time": "2021-09-19T18:40:53.383Z"
   },
   {
    "duration": 318,
    "start_time": "2021-09-19T18:41:05.959Z"
   },
   {
    "duration": 11,
    "start_time": "2021-09-19T18:41:08.192Z"
   },
   {
    "duration": 11,
    "start_time": "2021-09-19T18:41:08.807Z"
   },
   {
    "duration": 11,
    "start_time": "2021-09-19T18:41:09.456Z"
   },
   {
    "duration": 11,
    "start_time": "2021-09-19T18:43:09.915Z"
   },
   {
    "duration": 564,
    "start_time": "2021-09-19T18:43:28.214Z"
   },
   {
    "duration": 325,
    "start_time": "2021-09-19T18:43:28.779Z"
   },
   {
    "duration": 16,
    "start_time": "2021-09-19T18:43:29.109Z"
   },
   {
    "duration": 19,
    "start_time": "2021-09-19T18:43:29.127Z"
   },
   {
    "duration": 10,
    "start_time": "2021-09-19T18:43:29.148Z"
   },
   {
    "duration": 290,
    "start_time": "2021-09-19T18:43:29.159Z"
   },
   {
    "duration": 10,
    "start_time": "2021-09-19T18:43:34.756Z"
   },
   {
    "duration": 11,
    "start_time": "2021-09-19T18:43:54.449Z"
   },
   {
    "duration": 9,
    "start_time": "2021-09-19T18:43:54.890Z"
   },
   {
    "duration": 14,
    "start_time": "2021-09-19T19:42:28.727Z"
   },
   {
    "duration": 23,
    "start_time": "2021-09-19T19:42:36.818Z"
   },
   {
    "duration": 19,
    "start_time": "2021-09-19T19:43:39.508Z"
   },
   {
    "duration": 883,
    "start_time": "2021-09-21T21:24:33.125Z"
   },
   {
    "duration": 842,
    "start_time": "2021-09-21T21:24:38.980Z"
   },
   {
    "duration": 470,
    "start_time": "2021-09-21T21:24:39.825Z"
   },
   {
    "duration": 40,
    "start_time": "2021-09-21T21:24:40.298Z"
   },
   {
    "duration": 17,
    "start_time": "2021-09-21T21:24:40.341Z"
   },
   {
    "duration": 18,
    "start_time": "2021-09-21T21:24:40.361Z"
   },
   {
    "duration": 51,
    "start_time": "2021-09-21T21:24:40.381Z"
   },
   {
    "duration": 13,
    "start_time": "2021-09-21T21:24:40.435Z"
   },
   {
    "duration": 12,
    "start_time": "2021-09-21T21:24:40.451Z"
   },
   {
    "duration": 60,
    "start_time": "2021-09-21T21:24:40.466Z"
   },
   {
    "duration": 273,
    "start_time": "2021-09-21T21:24:40.528Z"
   },
   {
    "duration": 441,
    "start_time": "2021-09-21T21:26:28.858Z"
   },
   {
    "duration": 60,
    "start_time": "2021-09-21T21:27:50.665Z"
   },
   {
    "duration": 1654,
    "start_time": "2021-09-21T21:28:24.994Z"
   },
   {
    "duration": 99,
    "start_time": "2021-09-21T21:28:39.569Z"
   },
   {
    "duration": 102,
    "start_time": "2021-09-21T21:30:01.361Z"
   },
   {
    "duration": 628,
    "start_time": "2021-09-21T21:53:20.330Z"
   },
   {
    "duration": 3,
    "start_time": "2021-09-21T22:02:30.410Z"
   },
   {
    "duration": 410,
    "start_time": "2021-09-22T10:46:12.590Z"
   },
   {
    "duration": 1135,
    "start_time": "2021-09-22T10:46:18.059Z"
   },
   {
    "duration": 375,
    "start_time": "2021-09-22T10:46:19.196Z"
   },
   {
    "duration": 18,
    "start_time": "2021-09-22T10:46:19.573Z"
   },
   {
    "duration": 11,
    "start_time": "2021-09-22T10:46:19.593Z"
   },
   {
    "duration": 11,
    "start_time": "2021-09-22T10:46:19.605Z"
   },
   {
    "duration": 13,
    "start_time": "2021-09-22T10:46:19.618Z"
   },
   {
    "duration": 10,
    "start_time": "2021-09-22T10:46:19.633Z"
   },
   {
    "duration": 38,
    "start_time": "2021-09-22T10:46:19.645Z"
   },
   {
    "duration": 21,
    "start_time": "2021-09-22T10:46:19.685Z"
   },
   {
    "duration": 104,
    "start_time": "2021-09-22T10:46:19.707Z"
   },
   {
    "duration": 234,
    "start_time": "2021-09-22T10:46:19.812Z"
   },
   {
    "duration": 9,
    "start_time": "2021-09-22T10:46:20.048Z"
   },
   {
    "duration": 436,
    "start_time": "2021-09-22T10:46:20.058Z"
   },
   {
    "duration": -1724,
    "start_time": "2021-09-22T10:46:22.219Z"
   },
   {
    "duration": -1729,
    "start_time": "2021-09-22T10:46:22.225Z"
   },
   {
    "duration": 205,
    "start_time": "2021-09-22T10:46:42.409Z"
   },
   {
    "duration": 65,
    "start_time": "2021-09-22T10:47:52.696Z"
   },
   {
    "duration": 10,
    "start_time": "2021-09-22T11:57:33.036Z"
   },
   {
    "duration": 10,
    "start_time": "2021-09-22T12:13:55.781Z"
   },
   {
    "duration": 4,
    "start_time": "2021-09-22T12:14:57.419Z"
   },
   {
    "duration": 7,
    "start_time": "2021-09-22T12:15:07.708Z"
   },
   {
    "duration": 34,
    "start_time": "2021-09-22T12:15:09.819Z"
   },
   {
    "duration": 8,
    "start_time": "2021-09-22T12:20:31.473Z"
   },
   {
    "duration": 36,
    "start_time": "2021-09-22T12:20:31.960Z"
   },
   {
    "duration": 19,
    "start_time": "2021-09-22T12:20:32.488Z"
   },
   {
    "duration": 413,
    "start_time": "2021-09-22T12:20:33.112Z"
   },
   {
    "duration": 5,
    "start_time": "2021-09-22T12:21:24.401Z"
   },
   {
    "duration": 33,
    "start_time": "2021-09-22T13:13:03.090Z"
   },
   {
    "duration": 2181,
    "start_time": "2021-09-23T22:26:59.034Z"
   },
   {
    "duration": -108,
    "start_time": "2021-09-23T22:27:01.326Z"
   },
   {
    "duration": 697,
    "start_time": "2021-09-23T22:27:01.633Z"
   },
   {
    "duration": 1133,
    "start_time": "2021-09-23T22:27:08.846Z"
   },
   {
    "duration": 401,
    "start_time": "2021-09-23T22:27:09.981Z"
   },
   {
    "duration": 18,
    "start_time": "2021-09-23T22:27:10.387Z"
   },
   {
    "duration": 13,
    "start_time": "2021-09-23T22:27:10.407Z"
   },
   {
    "duration": 32,
    "start_time": "2021-09-23T22:27:10.421Z"
   },
   {
    "duration": 11,
    "start_time": "2021-09-23T22:27:10.455Z"
   },
   {
    "duration": 10,
    "start_time": "2021-09-23T22:27:10.467Z"
   },
   {
    "duration": 12,
    "start_time": "2021-09-23T22:27:10.480Z"
   },
   {
    "duration": 27,
    "start_time": "2021-09-23T22:27:10.493Z"
   },
   {
    "duration": 134,
    "start_time": "2021-09-23T22:27:10.521Z"
   },
   {
    "duration": 9,
    "start_time": "2021-09-23T22:27:10.657Z"
   },
   {
    "duration": 10,
    "start_time": "2021-09-23T22:27:10.668Z"
   },
   {
    "duration": 82,
    "start_time": "2021-09-23T22:27:10.680Z"
   },
   {
    "duration": 86,
    "start_time": "2021-09-23T22:27:10.765Z"
   },
   {
    "duration": 104,
    "start_time": "2021-09-23T22:27:10.854Z"
   },
   {
    "duration": 60,
    "start_time": "2021-09-23T22:51:17.349Z"
   },
   {
    "duration": 56,
    "start_time": "2021-09-23T22:51:37.913Z"
   },
   {
    "duration": 4,
    "start_time": "2021-09-23T22:53:49.346Z"
   },
   {
    "duration": 568,
    "start_time": "2021-09-23T22:53:50.234Z"
   },
   {
    "duration": 3,
    "start_time": "2021-09-23T22:54:50.130Z"
   },
   {
    "duration": 5,
    "start_time": "2021-09-23T22:54:52.858Z"
   },
   {
    "duration": 26,
    "start_time": "2021-09-23T22:54:53.274Z"
   },
   {
    "duration": 5,
    "start_time": "2021-09-23T22:55:20.514Z"
   },
   {
    "duration": 33,
    "start_time": "2021-09-23T22:55:22.634Z"
   },
   {
    "duration": 31,
    "start_time": "2021-09-23T22:58:00.717Z"
   },
   {
    "duration": 31,
    "start_time": "2021-09-23T22:59:12.251Z"
   },
   {
    "duration": 38,
    "start_time": "2021-09-23T22:59:42.484Z"
   },
   {
    "duration": 15,
    "start_time": "2021-09-23T23:03:12.220Z"
   },
   {
    "duration": 5,
    "start_time": "2021-09-23T23:03:20.124Z"
   },
   {
    "duration": 24,
    "start_time": "2021-09-23T23:03:20.683Z"
   },
   {
    "duration": 5,
    "start_time": "2021-09-23T23:03:47.059Z"
   },
   {
    "duration": 499,
    "start_time": "2021-09-23T23:03:47.603Z"
   },
   {
    "duration": 358,
    "start_time": "2021-09-23T23:06:16.199Z"
   },
   {
    "duration": 620,
    "start_time": "2021-09-23T23:07:00.815Z"
   },
   {
    "duration": 253,
    "start_time": "2021-09-23T23:07:05.086Z"
   },
   {
    "duration": 284,
    "start_time": "2021-09-23T23:10:57.871Z"
   },
   {
    "duration": 314,
    "start_time": "2021-09-23T23:11:10.360Z"
   },
   {
    "duration": 43,
    "start_time": "2021-09-23T23:13:18.071Z"
   },
   {
    "duration": 134,
    "start_time": "2021-09-23T23:29:24.518Z"
   },
   {
    "duration": 325,
    "start_time": "2021-09-23T23:37:18.205Z"
   },
   {
    "duration": 386,
    "start_time": "2021-09-23T23:42:52.451Z"
   },
   {
    "duration": 488,
    "start_time": "2021-09-23T23:46:56.360Z"
   },
   {
    "duration": 5,
    "start_time": "2021-09-23T23:47:38.543Z"
   },
   {
    "duration": 4,
    "start_time": "2021-09-23T23:47:53.342Z"
   },
   {
    "duration": 268,
    "start_time": "2021-09-23T23:49:40.391Z"
   },
   {
    "duration": 997,
    "start_time": "2021-09-23T23:50:09.184Z"
   },
   {
    "duration": 442,
    "start_time": "2021-09-23T23:50:10.183Z"
   },
   {
    "duration": 21,
    "start_time": "2021-09-23T23:50:10.629Z"
   },
   {
    "duration": 12,
    "start_time": "2021-09-23T23:50:10.652Z"
   },
   {
    "duration": 11,
    "start_time": "2021-09-23T23:50:10.665Z"
   },
   {
    "duration": 10,
    "start_time": "2021-09-23T23:50:10.678Z"
   },
   {
    "duration": 11,
    "start_time": "2021-09-23T23:50:10.690Z"
   },
   {
    "duration": 53,
    "start_time": "2021-09-23T23:50:10.703Z"
   },
   {
    "duration": 23,
    "start_time": "2021-09-23T23:50:10.759Z"
   },
   {
    "duration": 31,
    "start_time": "2021-09-23T23:50:10.784Z"
   },
   {
    "duration": 59,
    "start_time": "2021-09-23T23:50:10.817Z"
   },
   {
    "duration": 31,
    "start_time": "2021-09-23T23:50:10.878Z"
   },
   {
    "duration": 39,
    "start_time": "2021-09-23T23:50:10.911Z"
   },
   {
    "duration": 398,
    "start_time": "2021-09-23T23:50:10.952Z"
   },
   {
    "duration": 79,
    "start_time": "2021-09-23T23:50:11.372Z"
   },
   {
    "duration": 5,
    "start_time": "2021-09-23T23:50:11.453Z"
   },
   {
    "duration": 14,
    "start_time": "2021-09-23T23:50:11.460Z"
   },
   {
    "duration": 78,
    "start_time": "2021-09-23T23:50:11.476Z"
   },
   {
    "duration": -135,
    "start_time": "2021-09-23T23:50:11.692Z"
   },
   {
    "duration": -136,
    "start_time": "2021-09-23T23:50:11.694Z"
   },
   {
    "duration": 1387,
    "start_time": "2021-09-24T15:56:33.526Z"
   },
   {
    "duration": 484,
    "start_time": "2021-09-24T15:56:34.916Z"
   },
   {
    "duration": 33,
    "start_time": "2021-09-24T15:56:35.403Z"
   },
   {
    "duration": 23,
    "start_time": "2021-09-24T15:56:35.440Z"
   },
   {
    "duration": 28,
    "start_time": "2021-09-24T15:56:35.465Z"
   },
   {
    "duration": 37,
    "start_time": "2021-09-24T15:56:35.495Z"
   },
   {
    "duration": 17,
    "start_time": "2021-09-24T15:56:35.535Z"
   },
   {
    "duration": 13,
    "start_time": "2021-09-24T15:56:35.556Z"
   },
   {
    "duration": 65,
    "start_time": "2021-09-24T15:56:35.571Z"
   },
   {
    "duration": 40,
    "start_time": "2021-09-24T15:56:35.639Z"
   },
   {
    "duration": 67,
    "start_time": "2021-09-24T15:56:35.682Z"
   },
   {
    "duration": 35,
    "start_time": "2021-09-24T15:56:35.751Z"
   },
   {
    "duration": 35,
    "start_time": "2021-09-24T15:56:35.788Z"
   },
   {
    "duration": 405,
    "start_time": "2021-09-24T15:56:35.826Z"
   },
   {
    "duration": 94,
    "start_time": "2021-09-24T15:56:36.240Z"
   },
   {
    "duration": 90,
    "start_time": "2021-09-24T15:56:36.341Z"
   },
   {
    "duration": 20,
    "start_time": "2021-09-24T15:56:36.434Z"
   },
   {
    "duration": 97,
    "start_time": "2021-09-24T15:56:36.456Z"
   },
   {
    "duration": -1405,
    "start_time": "2021-09-24T15:56:37.961Z"
   },
   {
    "duration": -1413,
    "start_time": "2021-09-24T15:56:37.970Z"
   },
   {
    "duration": 350,
    "start_time": "2021-09-24T16:00:09.576Z"
   },
   {
    "duration": 501,
    "start_time": "2021-09-24T16:00:41.240Z"
   },
   {
    "duration": 9,
    "start_time": "2021-09-24T16:00:50.720Z"
   },
   {
    "duration": 395,
    "start_time": "2021-09-24T16:03:03.137Z"
   },
   {
    "duration": 424,
    "start_time": "2021-09-24T16:03:22.112Z"
   },
   {
    "duration": 374,
    "start_time": "2021-09-24T16:08:20.554Z"
   },
   {
    "duration": 8,
    "start_time": "2021-09-24T16:10:48.597Z"
   },
   {
    "duration": 430,
    "start_time": "2021-09-24T16:13:51.616Z"
   },
   {
    "duration": 6,
    "start_time": "2021-09-24T16:14:24.071Z"
   },
   {
    "duration": 6,
    "start_time": "2021-09-24T16:14:36.486Z"
   },
   {
    "duration": 5,
    "start_time": "2021-09-24T16:14:46.038Z"
   },
   {
    "duration": 450,
    "start_time": "2021-09-24T16:15:11.086Z"
   },
   {
    "duration": 5,
    "start_time": "2021-09-24T16:15:15.844Z"
   },
   {
    "duration": 5,
    "start_time": "2021-09-24T16:15:22.653Z"
   },
   {
    "duration": 5,
    "start_time": "2021-09-24T16:15:26.758Z"
   },
   {
    "duration": 463,
    "start_time": "2021-09-24T16:21:53.971Z"
   },
   {
    "duration": 396,
    "start_time": "2021-09-24T16:22:11.234Z"
   },
   {
    "duration": 422,
    "start_time": "2021-09-24T16:27:16.811Z"
   },
   {
    "duration": 331,
    "start_time": "2021-09-24T16:39:15.302Z"
   },
   {
    "duration": 1590,
    "start_time": "2021-09-24T16:41:28.083Z"
   },
   {
    "duration": 383,
    "start_time": "2021-09-24T16:41:52.771Z"
   },
   {
    "duration": 414,
    "start_time": "2021-09-24T16:45:54.208Z"
   },
   {
    "duration": 423,
    "start_time": "2021-09-24T16:49:54.823Z"
   },
   {
    "duration": 417,
    "start_time": "2021-09-24T16:50:01.623Z"
   },
   {
    "duration": 439,
    "start_time": "2021-09-24T16:50:30.397Z"
   },
   {
    "duration": 429,
    "start_time": "2021-09-24T16:50:37.814Z"
   },
   {
    "duration": 375,
    "start_time": "2021-09-24T16:50:51.558Z"
   },
   {
    "duration": 373,
    "start_time": "2021-09-24T16:50:59.462Z"
   },
   {
    "duration": 392,
    "start_time": "2021-09-24T16:59:02.465Z"
   },
   {
    "duration": 93,
    "start_time": "2021-09-24T16:59:37.509Z"
   },
   {
    "duration": 389,
    "start_time": "2021-09-24T17:00:25.644Z"
   },
   {
    "duration": 109,
    "start_time": "2021-09-24T17:01:46.636Z"
   },
   {
    "duration": 319,
    "start_time": "2021-09-24T17:01:56.596Z"
   },
   {
    "duration": 102,
    "start_time": "2021-09-24T17:02:25.747Z"
   },
   {
    "duration": 118,
    "start_time": "2021-09-24T17:03:43.722Z"
   },
   {
    "duration": 323,
    "start_time": "2021-09-24T17:05:42.054Z"
   },
   {
    "duration": 399,
    "start_time": "2021-09-24T17:06:50.077Z"
   },
   {
    "duration": 664,
    "start_time": "2021-09-24T17:07:18.884Z"
   },
   {
    "duration": 316,
    "start_time": "2021-09-24T17:07:39.492Z"
   },
   {
    "duration": 429,
    "start_time": "2021-09-24T17:08:05.811Z"
   },
   {
    "duration": 445,
    "start_time": "2021-09-24T17:08:20.203Z"
   },
   {
    "duration": 361,
    "start_time": "2021-09-24T17:11:00.974Z"
   },
   {
    "duration": 461,
    "start_time": "2021-09-24T17:22:27.281Z"
   },
   {
    "duration": 1418,
    "start_time": "2021-09-24T17:22:40.349Z"
   },
   {
    "duration": 637,
    "start_time": "2021-09-24T17:22:41.770Z"
   },
   {
    "duration": 77,
    "start_time": "2021-09-24T17:22:42.416Z"
   },
   {
    "duration": 67,
    "start_time": "2021-09-24T17:22:42.511Z"
   },
   {
    "duration": 40,
    "start_time": "2021-09-24T17:22:42.581Z"
   },
   {
    "duration": 33,
    "start_time": "2021-09-24T17:22:42.624Z"
   },
   {
    "duration": 49,
    "start_time": "2021-09-24T17:22:42.660Z"
   },
   {
    "duration": 48,
    "start_time": "2021-09-24T17:22:42.721Z"
   },
   {
    "duration": 48,
    "start_time": "2021-09-24T17:22:42.773Z"
   },
   {
    "duration": 94,
    "start_time": "2021-09-24T17:22:42.829Z"
   },
   {
    "duration": 49,
    "start_time": "2021-09-24T17:22:42.926Z"
   },
   {
    "duration": 58,
    "start_time": "2021-09-24T17:22:42.978Z"
   },
   {
    "duration": 41,
    "start_time": "2021-09-24T17:22:43.038Z"
   },
   {
    "duration": 455,
    "start_time": "2021-09-24T17:22:43.082Z"
   },
   {
    "duration": 88,
    "start_time": "2021-09-24T17:22:43.542Z"
   },
   {
    "duration": 105,
    "start_time": "2021-09-24T17:22:43.634Z"
   },
   {
    "duration": 32,
    "start_time": "2021-09-24T17:22:43.741Z"
   },
   {
    "duration": 36,
    "start_time": "2021-09-24T17:22:43.775Z"
   },
   {
    "duration": 116,
    "start_time": "2021-09-24T17:22:43.814Z"
   },
   {
    "duration": -1447,
    "start_time": "2021-09-24T17:22:45.379Z"
   },
   {
    "duration": -1450,
    "start_time": "2021-09-24T17:22:45.384Z"
   },
   {
    "duration": 380,
    "start_time": "2021-09-24T17:27:23.148Z"
   },
   {
    "duration": 370,
    "start_time": "2021-09-24T17:27:49.771Z"
   },
   {
    "duration": 362,
    "start_time": "2021-09-24T17:33:10.571Z"
   },
   {
    "duration": 492,
    "start_time": "2021-09-24T17:34:22.032Z"
   },
   {
    "duration": 425,
    "start_time": "2021-09-24T17:35:36.007Z"
   },
   {
    "duration": 1717,
    "start_time": "2021-09-24T17:40:09.938Z"
   },
   {
    "duration": 775,
    "start_time": "2021-09-24T17:40:11.658Z"
   },
   {
    "duration": 38,
    "start_time": "2021-09-24T17:40:12.437Z"
   },
   {
    "duration": 22,
    "start_time": "2021-09-24T17:40:12.479Z"
   },
   {
    "duration": 18,
    "start_time": "2021-09-24T17:40:12.523Z"
   },
   {
    "duration": 15,
    "start_time": "2021-09-24T17:40:12.543Z"
   },
   {
    "duration": 13,
    "start_time": "2021-09-24T17:40:12.561Z"
   },
   {
    "duration": 53,
    "start_time": "2021-09-24T17:40:12.576Z"
   },
   {
    "duration": 30,
    "start_time": "2021-09-24T17:40:12.633Z"
   },
   {
    "duration": 70,
    "start_time": "2021-09-24T17:40:12.665Z"
   },
   {
    "duration": 40,
    "start_time": "2021-09-24T17:40:12.738Z"
   },
   {
    "duration": 63,
    "start_time": "2021-09-24T17:40:12.781Z"
   },
   {
    "duration": 19,
    "start_time": "2021-09-24T17:40:12.846Z"
   },
   {
    "duration": 464,
    "start_time": "2021-09-24T17:40:12.867Z"
   },
   {
    "duration": 5,
    "start_time": "2021-09-24T18:03:02.523Z"
   },
   {
    "duration": 6,
    "start_time": "2021-09-24T18:03:10.520Z"
   },
   {
    "duration": 4,
    "start_time": "2021-09-24T18:03:59.000Z"
   },
   {
    "duration": 6,
    "start_time": "2021-09-24T18:04:01.551Z"
   },
   {
    "duration": 3,
    "start_time": "2021-09-24T18:04:38.264Z"
   },
   {
    "duration": 6,
    "start_time": "2021-09-24T18:04:39.248Z"
   },
   {
    "duration": 6,
    "start_time": "2021-09-24T19:24:34.228Z"
   },
   {
    "duration": 423,
    "start_time": "2021-09-24T19:24:56.288Z"
   },
   {
    "duration": 288,
    "start_time": "2021-09-24T19:26:30.383Z"
   },
   {
    "duration": 11,
    "start_time": "2021-09-24T19:26:44.087Z"
   },
   {
    "duration": 260,
    "start_time": "2021-09-24T19:27:04.231Z"
   },
   {
    "duration": 12,
    "start_time": "2021-09-24T19:27:10.535Z"
   },
   {
    "duration": 13,
    "start_time": "2021-09-24T19:27:38.218Z"
   },
   {
    "duration": 11,
    "start_time": "2021-09-24T19:28:08.303Z"
   },
   {
    "duration": 278,
    "start_time": "2021-09-24T19:29:07.558Z"
   },
   {
    "duration": 3,
    "start_time": "2021-09-24T19:29:12.254Z"
   },
   {
    "duration": 15,
    "start_time": "2021-09-24T19:29:12.862Z"
   },
   {
    "duration": 7,
    "start_time": "2021-09-24T19:38:16.834Z"
   },
   {
    "duration": 5,
    "start_time": "2021-09-24T19:38:45.962Z"
   },
   {
    "duration": 7,
    "start_time": "2021-09-24T19:39:02.538Z"
   },
   {
    "duration": 258,
    "start_time": "2021-09-24T19:40:13.537Z"
   },
   {
    "duration": 309,
    "start_time": "2021-09-24T19:40:56.002Z"
   },
   {
    "duration": 8,
    "start_time": "2021-09-24T19:41:15.553Z"
   },
   {
    "duration": 15,
    "start_time": "2021-09-24T19:41:31.553Z"
   },
   {
    "duration": 9,
    "start_time": "2021-09-24T19:41:59.329Z"
   },
   {
    "duration": 12,
    "start_time": "2021-09-24T19:42:30.809Z"
   },
   {
    "duration": 11,
    "start_time": "2021-09-24T19:42:48.280Z"
   },
   {
    "duration": 3,
    "start_time": "2021-09-24T20:54:17.338Z"
   },
   {
    "duration": 5,
    "start_time": "2021-09-24T20:54:35.111Z"
   },
   {
    "duration": 12,
    "start_time": "2021-09-24T21:02:10.151Z"
   },
   {
    "duration": 11,
    "start_time": "2021-09-24T21:03:17.431Z"
   },
   {
    "duration": 7,
    "start_time": "2021-09-24T21:04:11.894Z"
   },
   {
    "duration": 8,
    "start_time": "2021-09-24T21:04:46.197Z"
   },
   {
    "duration": 7,
    "start_time": "2021-09-24T21:05:17.421Z"
   },
   {
    "duration": 9,
    "start_time": "2021-09-24T21:05:19.492Z"
   },
   {
    "duration": 8,
    "start_time": "2021-09-24T21:05:51.133Z"
   },
   {
    "duration": 8,
    "start_time": "2021-09-24T21:06:15.532Z"
   },
   {
    "duration": 11,
    "start_time": "2021-09-24T21:06:16.035Z"
   },
   {
    "duration": 7,
    "start_time": "2021-09-24T21:06:16.557Z"
   },
   {
    "duration": 11,
    "start_time": "2021-09-24T21:07:39.237Z"
   },
   {
    "duration": 261,
    "start_time": "2021-09-24T21:09:38.147Z"
   },
   {
    "duration": 8,
    "start_time": "2021-09-24T21:09:43.747Z"
   },
   {
    "duration": 419,
    "start_time": "2021-09-24T21:10:43.651Z"
   },
   {
    "duration": 584,
    "start_time": "2021-09-24T21:10:56.067Z"
   },
   {
    "duration": 555,
    "start_time": "2021-09-24T21:11:26.595Z"
   },
   {
    "duration": 575,
    "start_time": "2021-09-24T21:11:42.747Z"
   },
   {
    "duration": 639,
    "start_time": "2021-09-24T21:13:00.931Z"
   },
   {
    "duration": 595,
    "start_time": "2021-09-24T21:13:02.203Z"
   },
   {
    "duration": 669,
    "start_time": "2021-09-24T21:13:03.307Z"
   },
   {
    "duration": 585,
    "start_time": "2021-09-24T21:15:02.317Z"
   },
   {
    "duration": 587,
    "start_time": "2021-09-24T21:15:13.922Z"
   },
   {
    "duration": 651,
    "start_time": "2021-09-24T21:15:20.890Z"
   },
   {
    "duration": 4,
    "start_time": "2021-09-24T21:18:12.745Z"
   },
   {
    "duration": 5,
    "start_time": "2021-09-24T21:18:13.153Z"
   },
   {
    "duration": 4,
    "start_time": "2021-09-24T21:18:24.934Z"
   },
   {
    "duration": 5,
    "start_time": "2021-09-24T21:18:25.569Z"
   },
   {
    "duration": 572,
    "start_time": "2021-09-24T21:21:35.224Z"
   },
   {
    "duration": 564,
    "start_time": "2021-09-24T21:21:43.080Z"
   },
   {
    "duration": 16,
    "start_time": "2021-09-24T21:32:39.912Z"
   },
   {
    "duration": 10,
    "start_time": "2021-09-24T21:33:04.573Z"
   },
   {
    "duration": 9,
    "start_time": "2021-09-24T21:33:27.940Z"
   },
   {
    "duration": 9,
    "start_time": "2021-09-24T21:33:47.564Z"
   },
   {
    "duration": 11,
    "start_time": "2021-09-24T21:35:43.669Z"
   },
   {
    "duration": 9,
    "start_time": "2021-09-24T21:37:10.395Z"
   },
   {
    "duration": 8,
    "start_time": "2021-09-24T21:37:11.075Z"
   },
   {
    "duration": 8,
    "start_time": "2021-09-24T21:37:11.851Z"
   },
   {
    "duration": 9,
    "start_time": "2021-09-24T21:37:49.668Z"
   },
   {
    "duration": 12,
    "start_time": "2021-09-24T21:38:20.556Z"
   },
   {
    "duration": 12,
    "start_time": "2021-09-24T21:39:10.635Z"
   },
   {
    "duration": 8,
    "start_time": "2021-09-24T21:39:11.411Z"
   },
   {
    "duration": 9,
    "start_time": "2021-09-24T21:39:11.971Z"
   },
   {
    "duration": 14,
    "start_time": "2021-09-24T21:39:29.419Z"
   },
   {
    "duration": 9,
    "start_time": "2021-09-24T21:39:30.578Z"
   },
   {
    "duration": 12,
    "start_time": "2021-09-24T21:39:31.187Z"
   },
   {
    "duration": 13,
    "start_time": "2021-09-24T21:39:31.907Z"
   },
   {
    "duration": 9,
    "start_time": "2021-09-24T21:49:32.607Z"
   },
   {
    "duration": 9,
    "start_time": "2021-09-24T21:50:38.152Z"
   },
   {
    "duration": 9,
    "start_time": "2021-09-24T21:50:50.063Z"
   },
   {
    "duration": 12,
    "start_time": "2021-09-24T21:54:30.143Z"
   },
   {
    "duration": 15,
    "start_time": "2021-09-24T21:57:54.525Z"
   },
   {
    "duration": 5,
    "start_time": "2021-09-24T22:05:12.718Z"
   },
   {
    "duration": 5,
    "start_time": "2021-09-24T22:06:15.907Z"
   },
   {
    "duration": 13,
    "start_time": "2021-09-24T22:06:16.443Z"
   },
   {
    "duration": 5,
    "start_time": "2021-09-24T22:06:46.058Z"
   },
   {
    "duration": 18,
    "start_time": "2021-09-24T22:06:47.923Z"
   },
   {
    "duration": 12,
    "start_time": "2021-09-24T22:07:10.771Z"
   },
   {
    "duration": 15,
    "start_time": "2021-09-24T22:07:11.520Z"
   },
   {
    "duration": 3,
    "start_time": "2021-09-24T22:15:25.264Z"
   },
   {
    "duration": 6,
    "start_time": "2021-09-24T22:21:09.634Z"
   },
   {
    "duration": 4,
    "start_time": "2021-09-24T22:39:32.442Z"
   },
   {
    "duration": 14,
    "start_time": "2021-09-24T22:39:33.424Z"
   },
   {
    "duration": 11,
    "start_time": "2021-09-24T22:39:33.929Z"
   },
   {
    "duration": 11,
    "start_time": "2021-09-24T22:39:34.448Z"
   },
   {
    "duration": 12,
    "start_time": "2021-09-24T22:40:06.840Z"
   },
   {
    "duration": 6,
    "start_time": "2021-09-24T23:10:45.225Z"
   },
   {
    "duration": 4,
    "start_time": "2021-09-24T23:30:30.208Z"
   },
   {
    "duration": 6,
    "start_time": "2021-09-24T23:48:36.332Z"
   },
   {
    "duration": 6,
    "start_time": "2021-09-24T23:49:03.600Z"
   },
   {
    "duration": 8,
    "start_time": "2021-09-24T23:49:53.377Z"
   },
   {
    "duration": -586,
    "start_time": "2021-09-24T23:50:11.471Z"
   },
   {
    "duration": 8,
    "start_time": "2021-09-24T23:50:17.263Z"
   },
   {
    "duration": -585,
    "start_time": "2021-09-24T23:50:47.712Z"
   },
   {
    "duration": 7,
    "start_time": "2021-09-24T23:50:55.439Z"
   },
   {
    "duration": 7,
    "start_time": "2021-09-24T23:52:26.344Z"
   },
   {
    "duration": 399,
    "start_time": "2021-09-24T23:59:14.738Z"
   },
   {
    "duration": 111,
    "start_time": "2021-09-24T23:59:26.257Z"
   },
   {
    "duration": 4,
    "start_time": "2021-09-24T23:59:32.754Z"
   },
   {
    "duration": 5,
    "start_time": "2021-09-24T23:59:35.353Z"
   },
   {
    "duration": 7,
    "start_time": "2021-09-24T23:59:37.068Z"
   },
   {
    "duration": 8,
    "start_time": "2021-09-25T00:00:17.379Z"
   },
   {
    "duration": 4,
    "start_time": "2021-09-25T00:04:48.387Z"
   },
   {
    "duration": 11,
    "start_time": "2021-09-25T00:06:30.499Z"
   },
   {
    "duration": 88,
    "start_time": "2021-09-25T00:15:42.517Z"
   },
   {
    "duration": 445,
    "start_time": "2021-09-25T00:16:06.109Z"
   },
   {
    "duration": 289,
    "start_time": "2021-09-25T00:17:12.681Z"
   },
   {
    "duration": 4,
    "start_time": "2021-09-25T00:17:51.361Z"
   },
   {
    "duration": 5,
    "start_time": "2021-09-25T00:18:10.001Z"
   },
   {
    "duration": 532,
    "start_time": "2021-09-25T00:19:20.801Z"
   },
   {
    "duration": 6,
    "start_time": "2021-09-25T00:21:07.513Z"
   },
   {
    "duration": 4000,
    "start_time": "2021-09-25T00:21:08.705Z"
   },
   {
    "duration": 5135,
    "start_time": "2021-09-25T00:21:51.416Z"
   },
   {
    "duration": 5,
    "start_time": "2021-09-25T00:22:31.002Z"
   },
   {
    "duration": 7206,
    "start_time": "2021-09-25T00:22:32.833Z"
   },
   {
    "duration": 4898,
    "start_time": "2021-09-25T00:23:20.424Z"
   },
   {
    "duration": 7,
    "start_time": "2021-09-25T00:32:06.977Z"
   },
   {
    "duration": 4995,
    "start_time": "2021-09-25T00:32:07.655Z"
   },
   {
    "duration": 8,
    "start_time": "2021-09-25T00:33:25.113Z"
   },
   {
    "duration": 7,
    "start_time": "2021-09-25T00:33:34.345Z"
   },
   {
    "duration": 4823,
    "start_time": "2021-09-25T00:33:34.953Z"
   },
   {
    "duration": 7,
    "start_time": "2021-09-25T00:41:13.965Z"
   },
   {
    "duration": 5124,
    "start_time": "2021-09-25T00:41:15.082Z"
   },
   {
    "duration": 4,
    "start_time": "2021-09-25T00:42:45.931Z"
   },
   {
    "duration": 8,
    "start_time": "2021-09-25T00:43:04.107Z"
   },
   {
    "duration": 4782,
    "start_time": "2021-09-25T00:43:04.699Z"
   },
   {
    "duration": 8,
    "start_time": "2021-09-25T00:43:39.724Z"
   },
   {
    "duration": 8,
    "start_time": "2021-09-25T00:43:51.507Z"
   },
   {
    "duration": 4729,
    "start_time": "2021-09-25T00:43:52.179Z"
   },
   {
    "duration": 4566,
    "start_time": "2021-09-25T00:44:16.940Z"
   },
   {
    "duration": 4620,
    "start_time": "2021-09-25T00:44:23.467Z"
   },
   {
    "duration": 7,
    "start_time": "2021-09-25T13:40:32.217Z"
   },
   {
    "duration": 4852,
    "start_time": "2021-09-25T13:40:35.836Z"
   },
   {
    "duration": 8,
    "start_time": "2021-09-25T13:43:49.332Z"
   },
   {
    "duration": 4650,
    "start_time": "2021-09-25T13:43:54.356Z"
   },
   {
    "duration": 8,
    "start_time": "2021-09-25T13:45:23.956Z"
   },
   {
    "duration": 4783,
    "start_time": "2021-09-25T13:45:24.501Z"
   },
   {
    "duration": 8,
    "start_time": "2021-09-25T13:45:56.411Z"
   },
   {
    "duration": 4848,
    "start_time": "2021-09-25T13:45:57.247Z"
   },
   {
    "duration": 4611,
    "start_time": "2021-09-25T13:46:02.098Z"
   },
   {
    "duration": 4592,
    "start_time": "2021-09-25T13:46:06.711Z"
   },
   {
    "duration": 4,
    "start_time": "2021-09-25T13:50:28.755Z"
   },
   {
    "duration": 8,
    "start_time": "2021-09-25T13:55:17.459Z"
   },
   {
    "duration": 4561,
    "start_time": "2021-09-25T13:55:17.946Z"
   },
   {
    "duration": 95,
    "start_time": "2021-09-25T13:58:44.745Z"
   },
   {
    "duration": 98,
    "start_time": "2021-09-25T13:58:53.968Z"
   },
   {
    "duration": 103,
    "start_time": "2021-09-25T13:59:13.631Z"
   },
   {
    "duration": 112,
    "start_time": "2021-09-25T13:59:25.304Z"
   },
   {
    "duration": 8,
    "start_time": "2021-09-25T13:59:43.876Z"
   },
   {
    "duration": 4916,
    "start_time": "2021-09-25T13:59:45.143Z"
   },
   {
    "duration": 8,
    "start_time": "2021-09-25T14:00:06.047Z"
   },
   {
    "duration": 4672,
    "start_time": "2021-09-25T14:00:08.695Z"
   },
   {
    "duration": 11,
    "start_time": "2021-09-25T14:00:24.240Z"
   },
   {
    "duration": 4955,
    "start_time": "2021-09-25T14:00:32.359Z"
   },
   {
    "duration": 7,
    "start_time": "2021-09-25T14:00:59.568Z"
   },
   {
    "duration": 5226,
    "start_time": "2021-09-25T14:01:03.752Z"
   },
   {
    "duration": 8,
    "start_time": "2021-09-25T14:01:24.064Z"
   },
   {
    "duration": 198,
    "start_time": "2021-09-25T14:01:39.303Z"
   },
   {
    "duration": 4693,
    "start_time": "2021-09-25T14:01:39.744Z"
   },
   {
    "duration": 7,
    "start_time": "2021-09-25T14:02:14.014Z"
   },
   {
    "duration": 4744,
    "start_time": "2021-09-25T14:02:20.551Z"
   },
   {
    "duration": 8,
    "start_time": "2021-09-25T14:02:54.686Z"
   },
   {
    "duration": 4679,
    "start_time": "2021-09-25T14:03:03.954Z"
   },
   {
    "duration": 7,
    "start_time": "2021-09-25T14:03:44.815Z"
   },
   {
    "duration": 392,
    "start_time": "2021-09-25T14:04:11.304Z"
   },
   {
    "duration": 289,
    "start_time": "2021-09-25T14:04:12.040Z"
   },
   {
    "duration": 1443,
    "start_time": "2021-09-25T14:04:26.179Z"
   },
   {
    "duration": 454,
    "start_time": "2021-09-25T14:04:27.625Z"
   },
   {
    "duration": 20,
    "start_time": "2021-09-25T14:04:28.081Z"
   },
   {
    "duration": 34,
    "start_time": "2021-09-25T14:04:28.104Z"
   },
   {
    "duration": 35,
    "start_time": "2021-09-25T14:04:28.140Z"
   },
   {
    "duration": 17,
    "start_time": "2021-09-25T14:04:28.177Z"
   },
   {
    "duration": 16,
    "start_time": "2021-09-25T14:04:28.198Z"
   },
   {
    "duration": 21,
    "start_time": "2021-09-25T14:04:28.223Z"
   },
   {
    "duration": 31,
    "start_time": "2021-09-25T14:04:28.247Z"
   },
   {
    "duration": 78,
    "start_time": "2021-09-25T14:04:28.280Z"
   },
   {
    "duration": 38,
    "start_time": "2021-09-25T14:04:28.361Z"
   },
   {
    "duration": 53,
    "start_time": "2021-09-25T14:04:28.402Z"
   },
   {
    "duration": 19,
    "start_time": "2021-09-25T14:04:28.457Z"
   },
   {
    "duration": 561,
    "start_time": "2021-09-25T14:04:28.478Z"
   },
   {
    "duration": 553,
    "start_time": "2021-09-25T14:04:29.042Z"
   },
   {
    "duration": 554,
    "start_time": "2021-09-25T14:04:29.597Z"
   },
   {
    "duration": 386,
    "start_time": "2021-09-25T14:04:30.153Z"
   },
   {
    "duration": 81,
    "start_time": "2021-09-25T14:04:30.542Z"
   },
   {
    "duration": 116,
    "start_time": "2021-09-25T14:04:30.628Z"
   },
   {
    "duration": 43,
    "start_time": "2021-09-25T14:04:30.748Z"
   },
   {
    "duration": 33,
    "start_time": "2021-09-25T14:04:30.793Z"
   },
   {
    "duration": 364,
    "start_time": "2021-09-25T14:05:22.713Z"
   },
   {
    "duration": 287,
    "start_time": "2021-09-25T14:05:23.310Z"
   },
   {
    "duration": 1426,
    "start_time": "2021-09-25T14:05:28.823Z"
   },
   {
    "duration": 527,
    "start_time": "2021-09-25T14:05:30.251Z"
   },
   {
    "duration": 60,
    "start_time": "2021-09-25T14:05:30.788Z"
   },
   {
    "duration": 44,
    "start_time": "2021-09-25T14:05:30.852Z"
   },
   {
    "duration": 33,
    "start_time": "2021-09-25T14:05:30.899Z"
   },
   {
    "duration": 31,
    "start_time": "2021-09-25T14:05:30.935Z"
   },
   {
    "duration": 28,
    "start_time": "2021-09-25T14:05:30.970Z"
   },
   {
    "duration": 57,
    "start_time": "2021-09-25T14:05:31.004Z"
   },
   {
    "duration": 42,
    "start_time": "2021-09-25T14:05:31.072Z"
   },
   {
    "duration": 43,
    "start_time": "2021-09-25T14:05:31.116Z"
   },
   {
    "duration": 58,
    "start_time": "2021-09-25T14:05:31.161Z"
   },
   {
    "duration": 54,
    "start_time": "2021-09-25T14:05:31.222Z"
   },
   {
    "duration": 16,
    "start_time": "2021-09-25T14:05:31.279Z"
   },
   {
    "duration": 547,
    "start_time": "2021-09-25T14:05:31.297Z"
   },
   {
    "duration": 548,
    "start_time": "2021-09-25T14:05:31.846Z"
   },
   {
    "duration": 581,
    "start_time": "2021-09-25T14:05:32.396Z"
   },
   {
    "duration": 451,
    "start_time": "2021-09-25T14:05:32.980Z"
   },
   {
    "duration": 89,
    "start_time": "2021-09-25T14:05:33.435Z"
   },
   {
    "duration": 97,
    "start_time": "2021-09-25T14:05:33.527Z"
   },
   {
    "duration": 11,
    "start_time": "2021-09-25T14:05:33.627Z"
   },
   {
    "duration": 31,
    "start_time": "2021-09-25T14:05:33.640Z"
   },
   {
    "duration": 4719,
    "start_time": "2021-09-25T14:05:33.673Z"
   },
   {
    "duration": 5071,
    "start_time": "2021-09-25T14:05:38.396Z"
   },
   {
    "duration": 4936,
    "start_time": "2021-09-25T14:05:43.469Z"
   },
   {
    "duration": 110,
    "start_time": "2021-09-25T14:06:53.638Z"
   },
   {
    "duration": 4747,
    "start_time": "2021-09-25T14:06:54.092Z"
   },
   {
    "duration": 112,
    "start_time": "2021-09-25T14:07:05.445Z"
   },
   {
    "duration": 8,
    "start_time": "2021-09-25T14:07:15.184Z"
   },
   {
    "duration": 4634,
    "start_time": "2021-09-25T14:07:15.975Z"
   },
   {
    "duration": 4717,
    "start_time": "2021-09-25T14:07:39.379Z"
   },
   {
    "duration": 4628,
    "start_time": "2021-09-25T14:07:44.098Z"
   },
   {
    "duration": 8,
    "start_time": "2021-09-25T14:09:42.580Z"
   },
   {
    "duration": 5102,
    "start_time": "2021-09-25T14:09:43.197Z"
   },
   {
    "duration": 9,
    "start_time": "2021-09-25T14:14:45.900Z"
   },
   {
    "duration": 9,
    "start_time": "2021-09-25T14:14:49.548Z"
   },
   {
    "duration": 8,
    "start_time": "2021-09-25T14:17:42.370Z"
   },
   {
    "duration": 103,
    "start_time": "2021-09-25T14:17:51.809Z"
   },
   {
    "duration": 8,
    "start_time": "2021-09-25T14:18:10.588Z"
   },
   {
    "duration": 8,
    "start_time": "2021-09-25T14:18:54.307Z"
   },
   {
    "duration": 8,
    "start_time": "2021-09-25T14:19:24.413Z"
   },
   {
    "duration": 8,
    "start_time": "2021-09-25T14:19:41.242Z"
   },
   {
    "duration": 9,
    "start_time": "2021-09-25T14:19:59.338Z"
   },
   {
    "duration": 4846,
    "start_time": "2021-09-25T14:20:02.979Z"
   },
   {
    "duration": 8,
    "start_time": "2021-09-25T14:20:37.145Z"
   },
   {
    "duration": 4910,
    "start_time": "2021-09-25T14:20:37.994Z"
   },
   {
    "duration": 8,
    "start_time": "2021-09-25T14:21:00.802Z"
   },
   {
    "duration": 4749,
    "start_time": "2021-09-25T14:21:04.857Z"
   },
   {
    "duration": 8,
    "start_time": "2021-09-25T14:21:28.594Z"
   },
   {
    "duration": 4671,
    "start_time": "2021-09-25T14:21:29.038Z"
   },
   {
    "duration": 4870,
    "start_time": "2021-09-25T14:21:43.603Z"
   },
   {
    "duration": 4672,
    "start_time": "2021-09-25T14:21:48.476Z"
   },
   {
    "duration": 8,
    "start_time": "2021-09-25T14:34:47.512Z"
   },
   {
    "duration": 5297,
    "start_time": "2021-09-25T14:34:48.813Z"
   },
   {
    "duration": 5,
    "start_time": "2021-09-25T14:35:15.870Z"
   },
   {
    "duration": 9,
    "start_time": "2021-09-25T14:36:23.158Z"
   },
   {
    "duration": 4844,
    "start_time": "2021-09-25T14:36:24.218Z"
   },
   {
    "duration": 4834,
    "start_time": "2021-09-25T14:36:29.065Z"
   },
   {
    "duration": 5072,
    "start_time": "2021-09-25T14:36:33.902Z"
   },
   {
    "duration": 303,
    "start_time": "2021-09-25T14:37:42.008Z"
   },
   {
    "duration": 4864,
    "start_time": "2021-09-25T14:37:54.003Z"
   },
   {
    "duration": 4803,
    "start_time": "2021-09-25T14:37:58.870Z"
   },
   {
    "duration": 293,
    "start_time": "2021-09-25T14:38:03.676Z"
   },
   {
    "duration": 389,
    "start_time": "2021-09-25T14:38:44.950Z"
   },
   {
    "duration": 272,
    "start_time": "2021-09-25T14:38:58.383Z"
   },
   {
    "duration": 301,
    "start_time": "2021-09-25T14:41:05.015Z"
   },
   {
    "duration": 289,
    "start_time": "2021-09-25T14:41:18.759Z"
   },
   {
    "duration": 9,
    "start_time": "2021-09-25T14:41:28.479Z"
   },
   {
    "duration": 10,
    "start_time": "2021-09-25T14:42:17.703Z"
   },
   {
    "duration": 10,
    "start_time": "2021-09-25T14:43:23.237Z"
   },
   {
    "duration": 9,
    "start_time": "2021-09-25T14:44:05.532Z"
   },
   {
    "duration": 244,
    "start_time": "2021-09-25T14:45:14.811Z"
   },
   {
    "duration": 9,
    "start_time": "2021-09-25T14:46:10.907Z"
   },
   {
    "duration": 316,
    "start_time": "2021-09-25T14:46:34.271Z"
   },
   {
    "duration": 331,
    "start_time": "2021-09-25T14:46:41.041Z"
   },
   {
    "duration": 290,
    "start_time": "2021-09-25T14:46:47.769Z"
   },
   {
    "duration": 384,
    "start_time": "2021-09-25T14:48:25.343Z"
   },
   {
    "duration": 322,
    "start_time": "2021-09-25T14:48:35.080Z"
   },
   {
    "duration": 104,
    "start_time": "2021-09-25T14:49:12.280Z"
   },
   {
    "duration": 111,
    "start_time": "2021-09-25T14:49:27.446Z"
   },
   {
    "duration": 12,
    "start_time": "2021-09-25T14:51:25.350Z"
   },
   {
    "duration": 9,
    "start_time": "2021-09-25T14:52:31.662Z"
   },
   {
    "duration": 4964,
    "start_time": "2021-09-25T14:52:36.397Z"
   },
   {
    "duration": 4788,
    "start_time": "2021-09-25T14:52:41.363Z"
   },
   {
    "duration": 4676,
    "start_time": "2021-09-25T14:52:46.154Z"
   },
   {
    "duration": 12,
    "start_time": "2021-09-25T14:52:57.625Z"
   },
   {
    "duration": 1454,
    "start_time": "2021-09-25T15:19:07.563Z"
   },
   {
    "duration": 461,
    "start_time": "2021-09-25T15:19:09.023Z"
   },
   {
    "duration": 21,
    "start_time": "2021-09-25T15:19:09.487Z"
   },
   {
    "duration": 24,
    "start_time": "2021-09-25T15:19:09.511Z"
   },
   {
    "duration": 18,
    "start_time": "2021-09-25T15:19:09.537Z"
   },
   {
    "duration": 12,
    "start_time": "2021-09-25T15:19:09.558Z"
   },
   {
    "duration": 17,
    "start_time": "2021-09-25T15:19:09.573Z"
   },
   {
    "duration": 14,
    "start_time": "2021-09-25T15:19:09.622Z"
   },
   {
    "duration": 35,
    "start_time": "2021-09-25T15:19:09.639Z"
   },
   {
    "duration": 60,
    "start_time": "2021-09-25T15:19:09.676Z"
   },
   {
    "duration": 40,
    "start_time": "2021-09-25T15:19:09.739Z"
   },
   {
    "duration": 62,
    "start_time": "2021-09-25T15:19:09.783Z"
   },
   {
    "duration": 23,
    "start_time": "2021-09-25T15:19:09.847Z"
   },
   {
    "duration": 577,
    "start_time": "2021-09-25T15:19:09.872Z"
   },
   {
    "duration": 557,
    "start_time": "2021-09-25T15:19:10.452Z"
   },
   {
    "duration": 578,
    "start_time": "2021-09-25T15:19:11.011Z"
   },
   {
    "duration": 444,
    "start_time": "2021-09-25T15:19:11.591Z"
   },
   {
    "duration": 85,
    "start_time": "2021-09-25T15:19:12.038Z"
   },
   {
    "duration": 100,
    "start_time": "2021-09-25T15:19:12.127Z"
   },
   {
    "duration": 19,
    "start_time": "2021-09-25T15:19:12.229Z"
   },
   {
    "duration": 22,
    "start_time": "2021-09-25T15:19:12.250Z"
   },
   {
    "duration": 4852,
    "start_time": "2021-09-25T15:19:12.274Z"
   },
   {
    "duration": 4725,
    "start_time": "2021-09-25T15:19:17.131Z"
   },
   {
    "duration": 4814,
    "start_time": "2021-09-25T15:19:21.859Z"
   },
   {
    "duration": 102,
    "start_time": "2021-09-25T15:19:26.675Z"
   },
   {
    "duration": -886,
    "start_time": "2021-09-25T15:19:27.665Z"
   },
   {
    "duration": 11,
    "start_time": "2021-09-25T15:19:36.668Z"
   },
   {
    "duration": 1380,
    "start_time": "2021-09-25T15:19:42.446Z"
   },
   {
    "duration": 444,
    "start_time": "2021-09-25T15:19:43.829Z"
   },
   {
    "duration": 19,
    "start_time": "2021-09-25T15:19:44.276Z"
   },
   {
    "duration": 33,
    "start_time": "2021-09-25T15:19:44.298Z"
   },
   {
    "duration": 17,
    "start_time": "2021-09-25T15:19:44.333Z"
   },
   {
    "duration": 25,
    "start_time": "2021-09-25T15:19:44.352Z"
   },
   {
    "duration": 28,
    "start_time": "2021-09-25T15:19:44.379Z"
   },
   {
    "duration": 22,
    "start_time": "2021-09-25T15:19:44.410Z"
   },
   {
    "duration": 29,
    "start_time": "2021-09-25T15:19:44.436Z"
   },
   {
    "duration": 66,
    "start_time": "2021-09-25T15:19:44.468Z"
   },
   {
    "duration": 36,
    "start_time": "2021-09-25T15:19:44.536Z"
   },
   {
    "duration": 67,
    "start_time": "2021-09-25T15:19:44.574Z"
   },
   {
    "duration": 35,
    "start_time": "2021-09-25T15:19:44.643Z"
   },
   {
    "duration": 578,
    "start_time": "2021-09-25T15:19:44.680Z"
   },
   {
    "duration": 551,
    "start_time": "2021-09-25T15:19:45.260Z"
   },
   {
    "duration": 570,
    "start_time": "2021-09-25T15:19:45.814Z"
   },
   {
    "duration": 451,
    "start_time": "2021-09-25T15:19:46.387Z"
   },
   {
    "duration": 5,
    "start_time": "2021-09-25T15:19:46.924Z"
   },
   {
    "duration": 97,
    "start_time": "2021-09-25T15:19:46.933Z"
   },
   {
    "duration": 15,
    "start_time": "2021-09-25T15:19:47.032Z"
   },
   {
    "duration": 17,
    "start_time": "2021-09-25T15:19:47.050Z"
   },
   {
    "duration": 4955,
    "start_time": "2021-09-25T15:19:47.069Z"
   },
   {
    "duration": 4785,
    "start_time": "2021-09-25T15:19:52.027Z"
   },
   {
    "duration": 4853,
    "start_time": "2021-09-25T15:19:56.815Z"
   },
   {
    "duration": 12,
    "start_time": "2021-09-25T15:20:01.671Z"
   },
   {
    "duration": 1367,
    "start_time": "2021-09-25T15:23:12.957Z"
   },
   {
    "duration": 439,
    "start_time": "2021-09-25T15:23:14.326Z"
   },
   {
    "duration": 20,
    "start_time": "2021-09-25T15:23:14.768Z"
   },
   {
    "duration": 35,
    "start_time": "2021-09-25T15:23:14.791Z"
   },
   {
    "duration": 16,
    "start_time": "2021-09-25T15:23:14.829Z"
   },
   {
    "duration": 20,
    "start_time": "2021-09-25T15:23:14.847Z"
   },
   {
    "duration": 13,
    "start_time": "2021-09-25T15:23:14.869Z"
   },
   {
    "duration": 46,
    "start_time": "2021-09-25T15:23:14.887Z"
   },
   {
    "duration": 31,
    "start_time": "2021-09-25T15:23:14.936Z"
   },
   {
    "duration": 68,
    "start_time": "2021-09-25T15:23:14.969Z"
   },
   {
    "duration": 38,
    "start_time": "2021-09-25T15:23:15.039Z"
   },
   {
    "duration": 61,
    "start_time": "2021-09-25T15:23:15.079Z"
   },
   {
    "duration": 17,
    "start_time": "2021-09-25T15:23:15.143Z"
   },
   {
    "duration": 575,
    "start_time": "2021-09-25T15:23:15.162Z"
   },
   {
    "duration": 561,
    "start_time": "2021-09-25T15:23:15.740Z"
   },
   {
    "duration": 559,
    "start_time": "2021-09-25T15:23:16.304Z"
   },
   {
    "duration": 470,
    "start_time": "2021-09-25T15:23:16.866Z"
   },
   {
    "duration": 84,
    "start_time": "2021-09-25T15:23:17.340Z"
   },
   {
    "duration": 99,
    "start_time": "2021-09-25T15:23:17.429Z"
   },
   {
    "duration": 10,
    "start_time": "2021-09-25T15:23:17.531Z"
   },
   {
    "duration": 10,
    "start_time": "2021-09-25T15:23:17.543Z"
   },
   {
    "duration": 4856,
    "start_time": "2021-09-25T15:23:17.556Z"
   },
   {
    "duration": 4768,
    "start_time": "2021-09-25T15:23:22.416Z"
   },
   {
    "duration": 5221,
    "start_time": "2021-09-25T15:23:27.187Z"
   },
   {
    "duration": 19,
    "start_time": "2021-09-25T15:23:32.411Z"
   },
   {
    "duration": 582,
    "start_time": "2021-09-25T15:24:44.211Z"
   },
   {
    "duration": 559,
    "start_time": "2021-09-25T15:25:21.932Z"
   },
   {
    "duration": 555,
    "start_time": "2021-09-25T15:25:58.644Z"
   },
   {
    "duration": 667,
    "start_time": "2021-09-25T15:26:06.476Z"
   },
   {
    "duration": 665,
    "start_time": "2021-09-25T15:26:13.371Z"
   },
   {
    "duration": 556,
    "start_time": "2021-09-25T15:27:34.077Z"
   },
   {
    "duration": 574,
    "start_time": "2021-09-25T15:27:34.637Z"
   },
   {
    "duration": 554,
    "start_time": "2021-09-25T15:27:35.231Z"
   },
   {
    "duration": 1421,
    "start_time": "2021-09-25T15:27:47.697Z"
   },
   {
    "duration": 570,
    "start_time": "2021-09-25T15:27:49.120Z"
   },
   {
    "duration": 35,
    "start_time": "2021-09-25T15:27:49.694Z"
   },
   {
    "duration": 63,
    "start_time": "2021-09-25T15:27:49.733Z"
   },
   {
    "duration": 31,
    "start_time": "2021-09-25T15:27:49.800Z"
   },
   {
    "duration": 14,
    "start_time": "2021-09-25T15:27:49.834Z"
   },
   {
    "duration": 18,
    "start_time": "2021-09-25T15:27:49.851Z"
   },
   {
    "duration": 16,
    "start_time": "2021-09-25T15:27:49.873Z"
   },
   {
    "duration": 56,
    "start_time": "2021-09-25T15:27:49.892Z"
   },
   {
    "duration": 39,
    "start_time": "2021-09-25T15:27:49.951Z"
   },
   {
    "duration": 64,
    "start_time": "2021-09-25T15:27:49.993Z"
   },
   {
    "duration": 42,
    "start_time": "2021-09-25T15:27:50.059Z"
   },
   {
    "duration": 34,
    "start_time": "2021-09-25T15:27:50.104Z"
   },
   {
    "duration": 584,
    "start_time": "2021-09-25T15:27:50.141Z"
   },
   {
    "duration": 575,
    "start_time": "2021-09-25T15:27:50.728Z"
   },
   {
    "duration": 591,
    "start_time": "2021-09-25T15:27:51.305Z"
   },
   {
    "duration": 432,
    "start_time": "2021-09-25T15:27:51.898Z"
   },
   {
    "duration": 90,
    "start_time": "2021-09-25T15:27:52.334Z"
   },
   {
    "duration": 97,
    "start_time": "2021-09-25T15:27:52.428Z"
   },
   {
    "duration": 7,
    "start_time": "2021-09-25T15:27:52.528Z"
   },
   {
    "duration": 10,
    "start_time": "2021-09-25T15:27:52.537Z"
   },
   {
    "duration": 5094,
    "start_time": "2021-09-25T15:27:52.550Z"
   },
   {
    "duration": 4995,
    "start_time": "2021-09-25T15:27:57.648Z"
   },
   {
    "duration": 4835,
    "start_time": "2021-09-25T15:28:02.646Z"
   },
   {
    "duration": 11,
    "start_time": "2021-09-25T15:28:07.483Z"
   },
   {
    "duration": 1688,
    "start_time": "2021-09-25T17:48:59.088Z"
   },
   {
    "duration": 669,
    "start_time": "2021-09-25T17:49:00.778Z"
   },
   {
    "duration": 15,
    "start_time": "2021-09-25T17:49:01.449Z"
   },
   {
    "duration": 11,
    "start_time": "2021-09-25T17:49:01.466Z"
   },
   {
    "duration": 27,
    "start_time": "2021-09-25T17:49:01.478Z"
   },
   {
    "duration": 9,
    "start_time": "2021-09-25T17:49:01.507Z"
   },
   {
    "duration": 9,
    "start_time": "2021-09-25T17:49:01.518Z"
   },
   {
    "duration": 9,
    "start_time": "2021-09-25T17:49:01.529Z"
   },
   {
    "duration": 27,
    "start_time": "2021-09-25T17:49:01.540Z"
   },
   {
    "duration": 57,
    "start_time": "2021-09-25T17:49:01.569Z"
   },
   {
    "duration": 30,
    "start_time": "2021-09-25T17:49:01.628Z"
   },
   {
    "duration": 23,
    "start_time": "2021-09-25T17:49:01.660Z"
   },
   {
    "duration": 372,
    "start_time": "2021-09-25T17:49:01.684Z"
   },
   {
    "duration": 356,
    "start_time": "2021-09-25T17:49:02.058Z"
   },
   {
    "duration": 356,
    "start_time": "2021-09-25T17:49:02.415Z"
   },
   {
    "duration": 342,
    "start_time": "2021-09-25T17:49:02.772Z"
   },
   {
    "duration": 88,
    "start_time": "2021-09-25T17:49:03.116Z"
   },
   {
    "duration": 119,
    "start_time": "2021-09-25T17:49:03.207Z"
   },
   {
    "duration": 36,
    "start_time": "2021-09-25T17:49:03.328Z"
   },
   {
    "duration": 45,
    "start_time": "2021-09-25T17:49:03.365Z"
   },
   {
    "duration": 4470,
    "start_time": "2021-09-25T17:49:03.412Z"
   },
   {
    "duration": 4329,
    "start_time": "2021-09-25T17:49:07.884Z"
   },
   {
    "duration": 4378,
    "start_time": "2021-09-25T17:49:12.216Z"
   },
   {
    "duration": 8,
    "start_time": "2021-09-25T17:49:16.599Z"
   },
   {
    "duration": 4,
    "start_time": "2021-09-25T17:53:46.566Z"
   },
   {
    "duration": 4236,
    "start_time": "2021-09-25T17:53:56.588Z"
   },
   {
    "duration": 11,
    "start_time": "2021-09-25T17:55:29.244Z"
   },
   {
    "duration": 4,
    "start_time": "2021-09-25T17:56:33.091Z"
   },
   {
    "duration": 11,
    "start_time": "2021-09-25T17:56:34.355Z"
   },
   {
    "duration": 4,
    "start_time": "2021-09-25T17:56:41.882Z"
   },
   {
    "duration": 11,
    "start_time": "2021-09-25T17:56:42.770Z"
   },
   {
    "duration": 6,
    "start_time": "2021-09-25T18:02:35.962Z"
   },
   {
    "duration": 4946,
    "start_time": "2021-09-25T18:02:38.565Z"
   },
   {
    "duration": 10,
    "start_time": "2021-09-25T18:06:50.953Z"
   },
   {
    "duration": 4,
    "start_time": "2021-09-25T18:08:26.817Z"
   },
   {
    "duration": 6,
    "start_time": "2021-09-25T18:09:24.832Z"
   },
   {
    "duration": 4796,
    "start_time": "2021-09-25T18:09:27.423Z"
   },
   {
    "duration": 3,
    "start_time": "2021-09-25T18:10:25.191Z"
   },
   {
    "duration": 10,
    "start_time": "2021-09-25T18:10:29.583Z"
   },
   {
    "duration": 3709,
    "start_time": "2021-09-25T18:10:33.402Z"
   },
   {
    "duration": 4,
    "start_time": "2021-09-25T18:11:16.191Z"
   },
   {
    "duration": 10,
    "start_time": "2021-09-25T18:11:18.344Z"
   },
   {
    "duration": 3,
    "start_time": "2021-09-25T18:12:23.760Z"
   },
   {
    "duration": 10,
    "start_time": "2021-09-25T18:12:25.983Z"
   },
   {
    "duration": 3520,
    "start_time": "2021-09-25T18:12:31.391Z"
   },
   {
    "duration": 3,
    "start_time": "2021-09-25T18:15:46.430Z"
   },
   {
    "duration": 11,
    "start_time": "2021-09-25T18:15:48.534Z"
   },
   {
    "duration": 4338,
    "start_time": "2021-09-25T18:15:51.903Z"
   },
   {
    "duration": 4,
    "start_time": "2021-09-25T18:17:01.581Z"
   },
   {
    "duration": 3,
    "start_time": "2021-09-25T18:17:18.515Z"
   },
   {
    "duration": 11,
    "start_time": "2021-09-25T18:17:19.493Z"
   },
   {
    "duration": 4597,
    "start_time": "2021-09-25T18:17:24.206Z"
   },
   {
    "duration": 4,
    "start_time": "2021-09-25T18:18:19.486Z"
   },
   {
    "duration": 5401,
    "start_time": "2021-09-25T18:18:23.998Z"
   },
   {
    "duration": 62,
    "start_time": "2021-09-25T18:27:40.414Z"
   },
   {
    "duration": 6,
    "start_time": "2021-09-25T18:28:26.758Z"
   },
   {
    "duration": 5346,
    "start_time": "2021-09-25T18:28:29.940Z"
   },
   {
    "duration": 3,
    "start_time": "2021-09-25T18:28:36.995Z"
   },
   {
    "duration": 2956,
    "start_time": "2021-09-25T18:28:45.351Z"
   },
   {
    "duration": 2947,
    "start_time": "2021-09-25T18:29:10.035Z"
   },
   {
    "duration": 3096,
    "start_time": "2021-09-25T18:29:22.131Z"
   },
   {
    "duration": 8,
    "start_time": "2021-09-25T18:30:19.500Z"
   },
   {
    "duration": 1185,
    "start_time": "2021-09-25T18:30:54.996Z"
   },
   {
    "duration": 356,
    "start_time": "2021-09-25T18:30:56.183Z"
   },
   {
    "duration": 15,
    "start_time": "2021-09-25T18:30:56.541Z"
   },
   {
    "duration": 10,
    "start_time": "2021-09-25T18:30:56.558Z"
   },
   {
    "duration": 31,
    "start_time": "2021-09-25T18:30:56.570Z"
   },
   {
    "duration": 14,
    "start_time": "2021-09-25T18:30:56.603Z"
   },
   {
    "duration": 13,
    "start_time": "2021-09-25T18:30:56.619Z"
   },
   {
    "duration": 9,
    "start_time": "2021-09-25T18:30:56.636Z"
   },
   {
    "duration": 56,
    "start_time": "2021-09-25T18:30:56.647Z"
   },
   {
    "duration": 26,
    "start_time": "2021-09-25T18:30:56.705Z"
   },
   {
    "duration": 30,
    "start_time": "2021-09-25T18:30:56.733Z"
   },
   {
    "duration": 36,
    "start_time": "2021-09-25T18:30:56.764Z"
   },
   {
    "duration": 362,
    "start_time": "2021-09-25T18:30:56.802Z"
   },
   {
    "duration": 357,
    "start_time": "2021-09-25T18:30:57.165Z"
   },
   {
    "duration": 370,
    "start_time": "2021-09-25T18:30:57.524Z"
   },
   {
    "duration": 408,
    "start_time": "2021-09-25T18:30:57.895Z"
   },
   {
    "duration": 4,
    "start_time": "2021-09-25T18:30:58.305Z"
   },
   {
    "duration": 6,
    "start_time": "2021-09-25T18:30:58.401Z"
   },
   {
    "duration": 91,
    "start_time": "2021-09-25T18:30:58.408Z"
   },
   {
    "duration": 5,
    "start_time": "2021-09-25T18:30:58.502Z"
   },
   {
    "duration": 3188,
    "start_time": "2021-09-25T18:30:58.509Z"
   },
   {
    "duration": 3122,
    "start_time": "2021-09-25T18:31:01.700Z"
   },
   {
    "duration": 3066,
    "start_time": "2021-09-25T18:31:04.825Z"
   },
   {
    "duration": 7,
    "start_time": "2021-09-25T18:31:07.893Z"
   },
   {
    "duration": 64,
    "start_time": "2021-09-25T18:54:27.972Z"
   },
   {
    "duration": 6,
    "start_time": "2021-09-25T18:57:40.858Z"
   },
   {
    "duration": 3051,
    "start_time": "2021-09-25T18:57:43.920Z"
   },
   {
    "duration": 6,
    "start_time": "2021-09-25T18:59:57.018Z"
   },
   {
    "duration": 3112,
    "start_time": "2021-09-25T19:00:00.734Z"
   },
   {
    "duration": 6,
    "start_time": "2021-09-25T19:00:16.499Z"
   },
   {
    "duration": 2945,
    "start_time": "2021-09-25T19:00:19.154Z"
   },
   {
    "duration": 2949,
    "start_time": "2021-09-25T19:01:10.379Z"
   },
   {
    "duration": 7,
    "start_time": "2021-09-25T19:01:51.829Z"
   },
   {
    "duration": 3011,
    "start_time": "2021-09-25T19:01:53.946Z"
   },
   {
    "duration": 2995,
    "start_time": "2021-09-25T19:02:13.845Z"
   },
   {
    "duration": 85,
    "start_time": "2021-09-25T19:02:38.967Z"
   },
   {
    "duration": 2938,
    "start_time": "2021-09-25T19:02:42.593Z"
   },
   {
    "duration": 2993,
    "start_time": "2021-09-25T19:02:53.715Z"
   },
   {
    "duration": 7,
    "start_time": "2021-09-25T19:04:21.105Z"
   },
   {
    "duration": 2999,
    "start_time": "2021-09-25T19:04:23.713Z"
   },
   {
    "duration": 7,
    "start_time": "2021-09-25T19:05:45.488Z"
   },
   {
    "duration": 2959,
    "start_time": "2021-09-25T19:05:48.945Z"
   },
   {
    "duration": 2974,
    "start_time": "2021-09-25T19:05:55.929Z"
   },
   {
    "duration": 3064,
    "start_time": "2021-09-25T19:06:02.401Z"
   },
   {
    "duration": 82,
    "start_time": "2021-09-25T19:08:16.393Z"
   },
   {
    "duration": 3005,
    "start_time": "2021-09-25T19:08:24.823Z"
   },
   {
    "duration": 4,
    "start_time": "2021-09-25T19:08:37.367Z"
   },
   {
    "duration": 2965,
    "start_time": "2021-09-25T19:12:27.147Z"
   },
   {
    "duration": 3,
    "start_time": "2021-09-25T19:12:30.114Z"
   },
   {
    "duration": 2988,
    "start_time": "2021-09-25T19:12:30.119Z"
   },
   {
    "duration": 2990,
    "start_time": "2021-09-25T19:12:33.109Z"
   },
   {
    "duration": 153,
    "start_time": "2021-09-25T19:12:40.041Z"
   },
   {
    "duration": 10,
    "start_time": "2021-09-25T19:12:47.657Z"
   },
   {
    "duration": 9,
    "start_time": "2021-09-25T19:13:06.415Z"
   },
   {
    "duration": 1075,
    "start_time": "2021-09-25T19:16:56.408Z"
   },
   {
    "duration": 357,
    "start_time": "2021-09-25T19:16:57.484Z"
   },
   {
    "duration": 16,
    "start_time": "2021-09-25T19:16:57.843Z"
   },
   {
    "duration": 11,
    "start_time": "2021-09-25T19:16:57.861Z"
   },
   {
    "duration": 35,
    "start_time": "2021-09-25T19:16:57.873Z"
   },
   {
    "duration": 11,
    "start_time": "2021-09-25T19:16:57.910Z"
   },
   {
    "duration": 11,
    "start_time": "2021-09-25T19:16:57.923Z"
   },
   {
    "duration": 9,
    "start_time": "2021-09-25T19:16:57.936Z"
   },
   {
    "duration": 54,
    "start_time": "2021-09-25T19:16:57.947Z"
   },
   {
    "duration": 28,
    "start_time": "2021-09-25T19:16:58.003Z"
   },
   {
    "duration": 28,
    "start_time": "2021-09-25T19:16:58.033Z"
   },
   {
    "duration": 15,
    "start_time": "2021-09-25T19:16:58.063Z"
   },
   {
    "duration": 378,
    "start_time": "2021-09-25T19:16:58.099Z"
   },
   {
    "duration": 370,
    "start_time": "2021-09-25T19:16:58.479Z"
   },
   {
    "duration": 375,
    "start_time": "2021-09-25T19:16:58.851Z"
   },
   {
    "duration": 474,
    "start_time": "2021-09-25T19:16:59.228Z"
   },
   {
    "duration": 89,
    "start_time": "2021-09-25T19:16:59.711Z"
   },
   {
    "duration": 8,
    "start_time": "2021-09-25T19:16:59.802Z"
   },
   {
    "duration": 4,
    "start_time": "2021-09-25T19:16:59.812Z"
   },
   {
    "duration": 7,
    "start_time": "2021-09-25T19:16:59.817Z"
   },
   {
    "duration": 3121,
    "start_time": "2021-09-25T19:16:59.825Z"
   },
   {
    "duration": 316,
    "start_time": "2021-09-25T19:17:02.948Z"
   },
   {
    "duration": -945,
    "start_time": "2021-09-25T19:17:04.211Z"
   },
   {
    "duration": -947,
    "start_time": "2021-09-25T19:17:04.214Z"
   },
   {
    "duration": -949,
    "start_time": "2021-09-25T19:17:04.218Z"
   },
   {
    "duration": 1085,
    "start_time": "2021-09-25T19:18:06.197Z"
   },
   {
    "duration": 360,
    "start_time": "2021-09-25T19:18:07.283Z"
   },
   {
    "duration": 15,
    "start_time": "2021-09-25T19:18:07.646Z"
   },
   {
    "duration": 10,
    "start_time": "2021-09-25T19:18:07.662Z"
   },
   {
    "duration": 30,
    "start_time": "2021-09-25T19:18:07.673Z"
   },
   {
    "duration": 10,
    "start_time": "2021-09-25T19:18:07.705Z"
   },
   {
    "duration": 9,
    "start_time": "2021-09-25T19:18:07.717Z"
   },
   {
    "duration": 10,
    "start_time": "2021-09-25T19:18:07.728Z"
   },
   {
    "duration": 62,
    "start_time": "2021-09-25T19:18:07.739Z"
   },
   {
    "duration": 28,
    "start_time": "2021-09-25T19:18:07.803Z"
   },
   {
    "duration": 31,
    "start_time": "2021-09-25T19:18:07.832Z"
   },
   {
    "duration": 37,
    "start_time": "2021-09-25T19:18:07.864Z"
   },
   {
    "duration": 370,
    "start_time": "2021-09-25T19:18:07.902Z"
   },
   {
    "duration": 358,
    "start_time": "2021-09-25T19:18:08.274Z"
   },
   {
    "duration": 368,
    "start_time": "2021-09-25T19:18:08.633Z"
   },
   {
    "duration": 411,
    "start_time": "2021-09-25T19:18:09.003Z"
   },
   {
    "duration": 4,
    "start_time": "2021-09-25T19:18:09.416Z"
   },
   {
    "duration": 9,
    "start_time": "2021-09-25T19:18:09.501Z"
   },
   {
    "duration": 4,
    "start_time": "2021-09-25T19:18:09.601Z"
   },
   {
    "duration": 9,
    "start_time": "2021-09-25T19:18:09.607Z"
   },
   {
    "duration": 3047,
    "start_time": "2021-09-25T19:18:09.618Z"
   },
   {
    "duration": 3022,
    "start_time": "2021-09-25T19:18:12.667Z"
   },
   {
    "duration": 3083,
    "start_time": "2021-09-25T19:18:15.691Z"
   },
   {
    "duration": 23,
    "start_time": "2021-09-25T19:18:18.776Z"
   },
   {
    "duration": 1125,
    "start_time": "2021-09-25T19:24:56.760Z"
   },
   {
    "duration": 431,
    "start_time": "2021-09-25T19:24:57.887Z"
   },
   {
    "duration": 17,
    "start_time": "2021-09-25T19:24:58.324Z"
   },
   {
    "duration": 12,
    "start_time": "2021-09-25T19:24:58.343Z"
   },
   {
    "duration": 12,
    "start_time": "2021-09-25T19:24:58.357Z"
   },
   {
    "duration": 46,
    "start_time": "2021-09-25T19:24:58.371Z"
   },
   {
    "duration": 15,
    "start_time": "2021-09-25T19:24:58.419Z"
   },
   {
    "duration": 10,
    "start_time": "2021-09-25T19:24:58.438Z"
   },
   {
    "duration": 60,
    "start_time": "2021-09-25T19:24:58.451Z"
   },
   {
    "duration": 36,
    "start_time": "2021-09-25T19:24:58.514Z"
   },
   {
    "duration": 54,
    "start_time": "2021-09-25T19:24:58.552Z"
   },
   {
    "duration": 28,
    "start_time": "2021-09-25T19:24:58.608Z"
   },
   {
    "duration": 407,
    "start_time": "2021-09-25T19:24:58.639Z"
   },
   {
    "duration": 410,
    "start_time": "2021-09-25T19:24:59.048Z"
   },
   {
    "duration": 453,
    "start_time": "2021-09-25T19:24:59.460Z"
   },
   {
    "duration": 421,
    "start_time": "2021-09-25T19:24:59.915Z"
   },
   {
    "duration": 3,
    "start_time": "2021-09-25T19:25:00.405Z"
   },
   {
    "duration": 10,
    "start_time": "2021-09-25T19:25:00.411Z"
   },
   {
    "duration": 8,
    "start_time": "2021-09-25T19:25:00.423Z"
   },
   {
    "duration": 18,
    "start_time": "2021-09-25T19:25:00.512Z"
   },
   {
    "duration": 304,
    "start_time": "2021-09-25T19:25:00.532Z"
   },
   {
    "duration": -940,
    "start_time": "2021-09-25T19:25:01.779Z"
   },
   {
    "duration": -942,
    "start_time": "2021-09-25T19:25:01.782Z"
   },
   {
    "duration": -955,
    "start_time": "2021-09-25T19:25:01.796Z"
   },
   {
    "duration": 644,
    "start_time": "2021-09-25T19:25:25.452Z"
   },
   {
    "duration": 565,
    "start_time": "2021-09-25T19:25:26.396Z"
   },
   {
    "duration": 3,
    "start_time": "2021-09-25T19:25:53.579Z"
   },
   {
    "duration": 7,
    "start_time": "2021-09-25T19:25:57.411Z"
   },
   {
    "duration": 3409,
    "start_time": "2021-09-25T19:25:59.795Z"
   },
   {
    "duration": 3314,
    "start_time": "2021-09-25T19:26:03.206Z"
   },
   {
    "duration": 3220,
    "start_time": "2021-09-25T19:26:06.522Z"
   },
   {
    "duration": 10,
    "start_time": "2021-09-25T19:26:09.744Z"
   },
   {
    "duration": 1112,
    "start_time": "2021-09-25T19:26:20.181Z"
   },
   {
    "duration": 395,
    "start_time": "2021-09-25T19:26:21.295Z"
   },
   {
    "duration": 18,
    "start_time": "2021-09-25T19:26:21.692Z"
   },
   {
    "duration": 14,
    "start_time": "2021-09-25T19:26:21.712Z"
   },
   {
    "duration": 12,
    "start_time": "2021-09-25T19:26:21.727Z"
   },
   {
    "duration": 9,
    "start_time": "2021-09-25T19:26:21.741Z"
   },
   {
    "duration": 10,
    "start_time": "2021-09-25T19:26:21.752Z"
   },
   {
    "duration": 51,
    "start_time": "2021-09-25T19:26:21.764Z"
   },
   {
    "duration": 35,
    "start_time": "2021-09-25T19:26:21.817Z"
   },
   {
    "duration": 27,
    "start_time": "2021-09-25T19:26:21.854Z"
   },
   {
    "duration": 43,
    "start_time": "2021-09-25T19:26:21.883Z"
   },
   {
    "duration": 15,
    "start_time": "2021-09-25T19:26:21.927Z"
   },
   {
    "duration": 412,
    "start_time": "2021-09-25T19:26:21.944Z"
   },
   {
    "duration": 402,
    "start_time": "2021-09-25T19:26:22.358Z"
   },
   {
    "duration": 402,
    "start_time": "2021-09-25T19:26:22.761Z"
   },
   {
    "duration": 361,
    "start_time": "2021-09-25T19:26:23.165Z"
   },
   {
    "duration": 5,
    "start_time": "2021-09-25T19:26:23.603Z"
   },
   {
    "duration": 10,
    "start_time": "2021-09-25T19:26:23.612Z"
   },
   {
    "duration": 81,
    "start_time": "2021-09-25T19:26:23.624Z"
   },
   {
    "duration": 11,
    "start_time": "2021-09-25T19:26:23.708Z"
   },
   {
    "duration": 3400,
    "start_time": "2021-09-25T19:26:23.721Z"
   },
   {
    "duration": 3366,
    "start_time": "2021-09-25T19:26:27.123Z"
   },
   {
    "duration": 3545,
    "start_time": "2021-09-25T19:26:30.492Z"
   },
   {
    "duration": 9,
    "start_time": "2021-09-25T19:26:34.039Z"
   },
   {
    "duration": 1061,
    "start_time": "2021-09-25T19:38:53.617Z"
   },
   {
    "duration": 371,
    "start_time": "2021-09-25T19:38:54.680Z"
   },
   {
    "duration": 15,
    "start_time": "2021-09-25T19:38:55.055Z"
   },
   {
    "duration": 11,
    "start_time": "2021-09-25T19:38:55.071Z"
   },
   {
    "duration": 13,
    "start_time": "2021-09-25T19:38:55.100Z"
   },
   {
    "duration": 10,
    "start_time": "2021-09-25T19:38:55.115Z"
   },
   {
    "duration": 10,
    "start_time": "2021-09-25T19:38:55.127Z"
   },
   {
    "duration": 9,
    "start_time": "2021-09-25T19:38:55.139Z"
   },
   {
    "duration": 68,
    "start_time": "2021-09-25T19:38:55.149Z"
   },
   {
    "duration": 30,
    "start_time": "2021-09-25T19:38:55.219Z"
   },
   {
    "duration": 51,
    "start_time": "2021-09-25T19:38:55.250Z"
   },
   {
    "duration": 16,
    "start_time": "2021-09-25T19:38:55.303Z"
   },
   {
    "duration": 382,
    "start_time": "2021-09-25T19:38:55.321Z"
   },
   {
    "duration": 380,
    "start_time": "2021-09-25T19:38:55.705Z"
   },
   {
    "duration": 369,
    "start_time": "2021-09-25T19:38:56.087Z"
   },
   {
    "duration": 352,
    "start_time": "2021-09-25T19:38:56.458Z"
   },
   {
    "duration": 5,
    "start_time": "2021-09-25T19:38:56.812Z"
   },
   {
    "duration": 4,
    "start_time": "2021-09-25T19:38:56.901Z"
   },
   {
    "duration": 93,
    "start_time": "2021-09-25T19:38:56.907Z"
   },
   {
    "duration": 7,
    "start_time": "2021-09-25T19:38:57.002Z"
   },
   {
    "duration": 3172,
    "start_time": "2021-09-25T19:38:57.010Z"
   },
   {
    "duration": 3147,
    "start_time": "2021-09-25T19:39:00.185Z"
   },
   {
    "duration": 3092,
    "start_time": "2021-09-25T19:39:03.334Z"
   },
   {
    "duration": 9,
    "start_time": "2021-09-25T19:39:06.428Z"
   },
   {
    "duration": 415,
    "start_time": "2021-09-26T15:31:59.350Z"
   },
   {
    "duration": 1467,
    "start_time": "2021-09-26T15:32:24.089Z"
   },
   {
    "duration": 569,
    "start_time": "2021-09-26T15:32:25.559Z"
   },
   {
    "duration": 49,
    "start_time": "2021-09-26T15:32:26.132Z"
   },
   {
    "duration": 19,
    "start_time": "2021-09-26T15:32:26.185Z"
   },
   {
    "duration": 18,
    "start_time": "2021-09-26T15:32:26.206Z"
   },
   {
    "duration": 40,
    "start_time": "2021-09-26T15:32:26.226Z"
   },
   {
    "duration": 17,
    "start_time": "2021-09-26T15:32:26.268Z"
   },
   {
    "duration": 13,
    "start_time": "2021-09-26T15:32:26.289Z"
   },
   {
    "duration": 82,
    "start_time": "2021-09-26T15:32:26.306Z"
   },
   {
    "duration": 39,
    "start_time": "2021-09-26T15:32:26.390Z"
   },
   {
    "duration": 59,
    "start_time": "2021-09-26T15:32:26.432Z"
   },
   {
    "duration": 21,
    "start_time": "2021-09-26T15:32:26.493Z"
   },
   {
    "duration": 600,
    "start_time": "2021-09-26T15:32:26.516Z"
   },
   {
    "duration": 584,
    "start_time": "2021-09-26T15:32:27.118Z"
   },
   {
    "duration": 588,
    "start_time": "2021-09-26T15:32:27.705Z"
   },
   {
    "duration": 472,
    "start_time": "2021-09-26T15:32:28.296Z"
   },
   {
    "duration": 90,
    "start_time": "2021-09-26T15:32:28.772Z"
   },
   {
    "duration": 99,
    "start_time": "2021-09-26T15:32:28.865Z"
   },
   {
    "duration": 11,
    "start_time": "2021-09-26T15:32:28.967Z"
   },
   {
    "duration": 9,
    "start_time": "2021-09-26T15:32:28.980Z"
   },
   {
    "duration": 5959,
    "start_time": "2021-09-26T15:32:28.991Z"
   },
   {
    "duration": 5236,
    "start_time": "2021-09-26T15:32:34.955Z"
   },
   {
    "duration": 5014,
    "start_time": "2021-09-26T15:32:40.197Z"
   },
   {
    "duration": 12,
    "start_time": "2021-09-26T15:32:45.214Z"
   },
   {
    "duration": 14,
    "start_time": "2021-09-26T15:37:39.456Z"
   },
   {
    "duration": 1497,
    "start_time": "2021-09-26T15:38:01.706Z"
   },
   {
    "duration": 469,
    "start_time": "2021-09-26T15:38:03.205Z"
   },
   {
    "duration": 25,
    "start_time": "2021-09-26T15:38:03.677Z"
   },
   {
    "duration": 18,
    "start_time": "2021-09-26T15:38:03.706Z"
   },
   {
    "duration": 19,
    "start_time": "2021-09-26T15:38:03.757Z"
   },
   {
    "duration": 15,
    "start_time": "2021-09-26T15:38:03.778Z"
   },
   {
    "duration": 14,
    "start_time": "2021-09-26T15:38:03.796Z"
   },
   {
    "duration": 49,
    "start_time": "2021-09-26T15:38:03.814Z"
   },
   {
    "duration": 47,
    "start_time": "2021-09-26T15:38:03.866Z"
   },
   {
    "duration": 65,
    "start_time": "2021-09-26T15:38:03.915Z"
   },
   {
    "duration": 43,
    "start_time": "2021-09-26T15:38:03.982Z"
   },
   {
    "duration": 36,
    "start_time": "2021-09-26T15:38:04.027Z"
   },
   {
    "duration": 599,
    "start_time": "2021-09-26T15:38:04.066Z"
   },
   {
    "duration": 692,
    "start_time": "2021-09-26T15:38:04.668Z"
   },
   {
    "duration": 607,
    "start_time": "2021-09-26T15:38:05.363Z"
   },
   {
    "duration": 393,
    "start_time": "2021-09-26T15:38:05.973Z"
   },
   {
    "duration": 87,
    "start_time": "2021-09-26T15:38:06.370Z"
   },
   {
    "duration": 96,
    "start_time": "2021-09-26T15:38:06.461Z"
   },
   {
    "duration": 6,
    "start_time": "2021-09-26T15:38:06.559Z"
   },
   {
    "duration": 15,
    "start_time": "2021-09-26T15:38:06.568Z"
   },
   {
    "duration": 5208,
    "start_time": "2021-09-26T15:38:06.585Z"
   },
   {
    "duration": 5042,
    "start_time": "2021-09-26T15:38:11.795Z"
   },
   {
    "duration": 5488,
    "start_time": "2021-09-26T15:38:16.843Z"
   },
   {
    "duration": 28,
    "start_time": "2021-09-26T15:38:22.334Z"
   },
   {
    "duration": 1437,
    "start_time": "2021-09-26T16:02:07.126Z"
   },
   {
    "duration": 454,
    "start_time": "2021-09-26T16:02:08.566Z"
   },
   {
    "duration": 21,
    "start_time": "2021-09-26T16:02:09.023Z"
   },
   {
    "duration": 23,
    "start_time": "2021-09-26T16:02:09.046Z"
   },
   {
    "duration": 16,
    "start_time": "2021-09-26T16:02:09.071Z"
   },
   {
    "duration": 14,
    "start_time": "2021-09-26T16:02:09.089Z"
   },
   {
    "duration": 13,
    "start_time": "2021-09-26T16:02:09.105Z"
   },
   {
    "duration": 46,
    "start_time": "2021-09-26T16:02:09.122Z"
   },
   {
    "duration": 41,
    "start_time": "2021-09-26T16:02:09.171Z"
   },
   {
    "duration": 73,
    "start_time": "2021-09-26T16:02:09.214Z"
   },
   {
    "duration": 37,
    "start_time": "2021-09-26T16:02:09.290Z"
   },
   {
    "duration": 38,
    "start_time": "2021-09-26T16:02:09.329Z"
   },
   {
    "duration": 679,
    "start_time": "2021-09-26T16:02:09.369Z"
   },
   {
    "duration": 587,
    "start_time": "2021-09-26T16:02:10.050Z"
   },
   {
    "duration": 665,
    "start_time": "2021-09-26T16:02:10.640Z"
   },
   {
    "duration": 470,
    "start_time": "2021-09-26T16:02:11.307Z"
   },
   {
    "duration": 80,
    "start_time": "2021-09-26T16:02:11.780Z"
   },
   {
    "duration": 95,
    "start_time": "2021-09-26T16:02:11.864Z"
   },
   {
    "duration": 12,
    "start_time": "2021-09-26T16:02:11.961Z"
   },
   {
    "duration": 10,
    "start_time": "2021-09-26T16:02:11.975Z"
   },
   {
    "duration": 5096,
    "start_time": "2021-09-26T16:02:11.987Z"
   },
   {
    "duration": 5186,
    "start_time": "2021-09-26T16:02:17.086Z"
   },
   {
    "duration": 5245,
    "start_time": "2021-09-26T16:02:22.277Z"
   },
   {
    "duration": 13,
    "start_time": "2021-09-26T16:02:27.525Z"
   },
   {
    "duration": 1373,
    "start_time": "2021-09-26T16:06:48.095Z"
   },
   {
    "duration": 443,
    "start_time": "2021-09-26T16:06:49.471Z"
   },
   {
    "duration": 20,
    "start_time": "2021-09-26T16:06:49.917Z"
   },
   {
    "duration": 28,
    "start_time": "2021-09-26T16:06:49.940Z"
   },
   {
    "duration": 16,
    "start_time": "2021-09-26T16:06:49.970Z"
   },
   {
    "duration": 14,
    "start_time": "2021-09-26T16:06:49.988Z"
   },
   {
    "duration": 51,
    "start_time": "2021-09-26T16:06:50.005Z"
   },
   {
    "duration": 14,
    "start_time": "2021-09-26T16:06:50.060Z"
   },
   {
    "duration": 40,
    "start_time": "2021-09-26T16:06:50.077Z"
   },
   {
    "duration": 66,
    "start_time": "2021-09-26T16:06:50.119Z"
   },
   {
    "duration": 39,
    "start_time": "2021-09-26T16:06:50.187Z"
   },
   {
    "duration": 42,
    "start_time": "2021-09-26T16:06:50.228Z"
   },
   {
    "duration": 577,
    "start_time": "2021-09-26T16:06:50.273Z"
   },
   {
    "duration": 581,
    "start_time": "2021-09-26T16:06:50.855Z"
   },
   {
    "duration": 591,
    "start_time": "2021-09-26T16:06:51.438Z"
   },
   {
    "duration": 440,
    "start_time": "2021-09-26T16:06:52.032Z"
   },
   {
    "duration": 82,
    "start_time": "2021-09-26T16:06:52.475Z"
   },
   {
    "duration": 112,
    "start_time": "2021-09-26T16:06:52.561Z"
   },
   {
    "duration": 18,
    "start_time": "2021-09-26T16:06:52.675Z"
   },
   {
    "duration": 9,
    "start_time": "2021-09-26T16:06:52.696Z"
   },
   {
    "duration": 5093,
    "start_time": "2021-09-26T16:06:52.707Z"
   },
   {
    "duration": 5008,
    "start_time": "2021-09-26T16:06:57.802Z"
   },
   {
    "duration": 5177,
    "start_time": "2021-09-26T16:07:02.814Z"
   },
   {
    "duration": 13,
    "start_time": "2021-09-26T16:07:07.994Z"
   },
   {
    "duration": 442,
    "start_time": "2021-09-26T16:10:34.627Z"
   },
   {
    "duration": 15,
    "start_time": "2021-09-26T16:12:13.821Z"
   },
   {
    "duration": 1414,
    "start_time": "2021-09-26T16:13:49.742Z"
   },
   {
    "duration": 446,
    "start_time": "2021-09-26T16:13:51.158Z"
   },
   {
    "duration": 21,
    "start_time": "2021-09-26T16:13:51.607Z"
   },
   {
    "duration": 32,
    "start_time": "2021-09-26T16:13:51.632Z"
   },
   {
    "duration": 16,
    "start_time": "2021-09-26T16:13:51.666Z"
   },
   {
    "duration": 19,
    "start_time": "2021-09-26T16:13:51.685Z"
   },
   {
    "duration": 14,
    "start_time": "2021-09-26T16:13:51.707Z"
   },
   {
    "duration": 42,
    "start_time": "2021-09-26T16:13:51.725Z"
   },
   {
    "duration": 38,
    "start_time": "2021-09-26T16:13:51.770Z"
   },
   {
    "duration": 67,
    "start_time": "2021-09-26T16:13:51.810Z"
   },
   {
    "duration": 36,
    "start_time": "2021-09-26T16:13:51.879Z"
   },
   {
    "duration": 39,
    "start_time": "2021-09-26T16:13:51.918Z"
   },
   {
    "duration": 572,
    "start_time": "2021-09-26T16:13:51.959Z"
   },
   {
    "duration": 555,
    "start_time": "2021-09-26T16:13:52.534Z"
   },
   {
    "duration": 574,
    "start_time": "2021-09-26T16:13:53.091Z"
   },
   {
    "duration": 405,
    "start_time": "2021-09-26T16:13:53.667Z"
   },
   {
    "duration": 180,
    "start_time": "2021-09-26T16:13:54.076Z"
   },
   {
    "duration": 12,
    "start_time": "2021-09-26T16:13:54.259Z"
   },
   {
    "duration": 12,
    "start_time": "2021-09-26T16:13:54.274Z"
   },
   {
    "duration": 11,
    "start_time": "2021-09-26T16:13:54.289Z"
   },
   {
    "duration": 5080,
    "start_time": "2021-09-26T16:13:54.302Z"
   },
   {
    "duration": 4971,
    "start_time": "2021-09-26T16:13:59.385Z"
   },
   {
    "duration": 5105,
    "start_time": "2021-09-26T16:14:04.359Z"
   },
   {
    "duration": 14,
    "start_time": "2021-09-26T16:14:09.467Z"
   }
  ],
  "kernelspec": {
   "display_name": "Python 3 (ipykernel)",
   "language": "python",
   "name": "python3"
  },
  "language_info": {
   "codemirror_mode": {
    "name": "ipython",
    "version": 3
   },
   "file_extension": ".py",
   "mimetype": "text/x-python",
   "name": "python",
   "nbconvert_exporter": "python",
   "pygments_lexer": "ipython3",
   "version": "3.9.7"
  },
  "toc": {
   "base_numbering": 1,
   "nav_menu": {},
   "number_sections": true,
   "sideBar": true,
   "skip_h1_title": true,
   "title_cell": "Table of Contents",
   "title_sidebar": "Contents",
   "toc_cell": false,
   "toc_position": {},
   "toc_section_display": true,
   "toc_window_display": false
  }
 },
 "nbformat": 4,
 "nbformat_minor": 2
}
