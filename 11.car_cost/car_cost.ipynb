{
 "cells": [
  {
   "cell_type": "markdown",
   "metadata": {},
   "source": [
    "# Определение стоимости автомобилей"
   ]
  },
  {
   "cell_type": "markdown",
   "metadata": {},
   "source": [
    "\n",
    "Цель проекта: Разработать модель определения рыночной стоимости автомобиля по его характеристикам.   \n",
    "Заказчик: Сервис по продаже автомобилей с пробегом «Не бит, не крашен»\n",
    "\n",
    "Заказчику важны:\n",
    "\n",
    "- качество предсказания;\n",
    "- скорость предсказания;\n",
    "- время обучения."
   ]
  },
  {
   "cell_type": "markdown",
   "metadata": {},
   "source": [
    "## Подготовка данных"
   ]
  },
  {
   "cell_type": "code",
   "execution_count": 1,
   "metadata": {},
   "outputs": [],
   "source": [
    "import pandas as pd\n",
    "import matplotlib.pyplot as plt\n",
    "\n",
    "from sklearn.preprocessing import OrdinalEncoder \n",
    "from sklearn.model_selection import train_test_split\n",
    "from sklearn.preprocessing import StandardScaler\n",
    "\n",
    "from sklearn.linear_model import LinearRegression\n",
    "from sklearn.ensemble import RandomForestRegressor\n",
    "from sklearn.tree import DecisionTreeRegressor\n",
    "\n",
    "from sklearn.metrics import mean_squared_error\n",
    "from sklearn.metrics import make_scorer\n",
    "\n",
    "from lightgbm import LGBMRegressor\n",
    "\n",
    "from sklearn.model_selection import GridSearchCV\n",
    "\n",
    "import time\n",
    "\n",
    "from sklearn.dummy import DummyRegressor"
   ]
  },
  {
   "cell_type": "markdown",
   "metadata": {},
   "source": [
    "### Загрузка и просмотр данных"
   ]
  },
  {
   "cell_type": "code",
   "execution_count": 2,
   "metadata": {},
   "outputs": [
    {
     "data": {
      "text/html": [
       "<div>\n",
       "<style scoped>\n",
       "    .dataframe tbody tr th:only-of-type {\n",
       "        vertical-align: middle;\n",
       "    }\n",
       "\n",
       "    .dataframe tbody tr th {\n",
       "        vertical-align: top;\n",
       "    }\n",
       "\n",
       "    .dataframe thead th {\n",
       "        text-align: right;\n",
       "    }\n",
       "</style>\n",
       "<table border=\"1\" class=\"dataframe\">\n",
       "  <thead>\n",
       "    <tr style=\"text-align: right;\">\n",
       "      <th></th>\n",
       "      <th>DateCrawled</th>\n",
       "      <th>Price</th>\n",
       "      <th>VehicleType</th>\n",
       "      <th>RegistrationYear</th>\n",
       "      <th>Gearbox</th>\n",
       "      <th>Power</th>\n",
       "      <th>Model</th>\n",
       "      <th>Kilometer</th>\n",
       "      <th>RegistrationMonth</th>\n",
       "      <th>FuelType</th>\n",
       "      <th>Brand</th>\n",
       "      <th>NotRepaired</th>\n",
       "      <th>DateCreated</th>\n",
       "      <th>NumberOfPictures</th>\n",
       "      <th>PostalCode</th>\n",
       "      <th>LastSeen</th>\n",
       "    </tr>\n",
       "  </thead>\n",
       "  <tbody>\n",
       "    <tr>\n",
       "      <th>0</th>\n",
       "      <td>2016-03-24 11:52:17</td>\n",
       "      <td>480</td>\n",
       "      <td>NaN</td>\n",
       "      <td>1993</td>\n",
       "      <td>manual</td>\n",
       "      <td>0</td>\n",
       "      <td>golf</td>\n",
       "      <td>150000</td>\n",
       "      <td>0</td>\n",
       "      <td>petrol</td>\n",
       "      <td>volkswagen</td>\n",
       "      <td>NaN</td>\n",
       "      <td>2016-03-24 00:00:00</td>\n",
       "      <td>0</td>\n",
       "      <td>70435</td>\n",
       "      <td>2016-04-07 03:16:57</td>\n",
       "    </tr>\n",
       "    <tr>\n",
       "      <th>1</th>\n",
       "      <td>2016-03-24 10:58:45</td>\n",
       "      <td>18300</td>\n",
       "      <td>coupe</td>\n",
       "      <td>2011</td>\n",
       "      <td>manual</td>\n",
       "      <td>190</td>\n",
       "      <td>NaN</td>\n",
       "      <td>125000</td>\n",
       "      <td>5</td>\n",
       "      <td>gasoline</td>\n",
       "      <td>audi</td>\n",
       "      <td>yes</td>\n",
       "      <td>2016-03-24 00:00:00</td>\n",
       "      <td>0</td>\n",
       "      <td>66954</td>\n",
       "      <td>2016-04-07 01:46:50</td>\n",
       "    </tr>\n",
       "    <tr>\n",
       "      <th>2</th>\n",
       "      <td>2016-03-14 12:52:21</td>\n",
       "      <td>9800</td>\n",
       "      <td>suv</td>\n",
       "      <td>2004</td>\n",
       "      <td>auto</td>\n",
       "      <td>163</td>\n",
       "      <td>grand</td>\n",
       "      <td>125000</td>\n",
       "      <td>8</td>\n",
       "      <td>gasoline</td>\n",
       "      <td>jeep</td>\n",
       "      <td>NaN</td>\n",
       "      <td>2016-03-14 00:00:00</td>\n",
       "      <td>0</td>\n",
       "      <td>90480</td>\n",
       "      <td>2016-04-05 12:47:46</td>\n",
       "    </tr>\n",
       "    <tr>\n",
       "      <th>3</th>\n",
       "      <td>2016-03-17 16:54:04</td>\n",
       "      <td>1500</td>\n",
       "      <td>small</td>\n",
       "      <td>2001</td>\n",
       "      <td>manual</td>\n",
       "      <td>75</td>\n",
       "      <td>golf</td>\n",
       "      <td>150000</td>\n",
       "      <td>6</td>\n",
       "      <td>petrol</td>\n",
       "      <td>volkswagen</td>\n",
       "      <td>no</td>\n",
       "      <td>2016-03-17 00:00:00</td>\n",
       "      <td>0</td>\n",
       "      <td>91074</td>\n",
       "      <td>2016-03-17 17:40:17</td>\n",
       "    </tr>\n",
       "    <tr>\n",
       "      <th>4</th>\n",
       "      <td>2016-03-31 17:25:20</td>\n",
       "      <td>3600</td>\n",
       "      <td>small</td>\n",
       "      <td>2008</td>\n",
       "      <td>manual</td>\n",
       "      <td>69</td>\n",
       "      <td>fabia</td>\n",
       "      <td>90000</td>\n",
       "      <td>7</td>\n",
       "      <td>gasoline</td>\n",
       "      <td>skoda</td>\n",
       "      <td>no</td>\n",
       "      <td>2016-03-31 00:00:00</td>\n",
       "      <td>0</td>\n",
       "      <td>60437</td>\n",
       "      <td>2016-04-06 10:17:21</td>\n",
       "    </tr>\n",
       "  </tbody>\n",
       "</table>\n",
       "</div>"
      ],
      "text/plain": [
       "           DateCrawled  Price VehicleType  RegistrationYear Gearbox  Power  \\\n",
       "0  2016-03-24 11:52:17    480         NaN              1993  manual      0   \n",
       "1  2016-03-24 10:58:45  18300       coupe              2011  manual    190   \n",
       "2  2016-03-14 12:52:21   9800         suv              2004    auto    163   \n",
       "3  2016-03-17 16:54:04   1500       small              2001  manual     75   \n",
       "4  2016-03-31 17:25:20   3600       small              2008  manual     69   \n",
       "\n",
       "   Model  Kilometer  RegistrationMonth  FuelType       Brand NotRepaired  \\\n",
       "0   golf     150000                  0    petrol  volkswagen         NaN   \n",
       "1    NaN     125000                  5  gasoline        audi         yes   \n",
       "2  grand     125000                  8  gasoline        jeep         NaN   \n",
       "3   golf     150000                  6    petrol  volkswagen          no   \n",
       "4  fabia      90000                  7  gasoline       skoda          no   \n",
       "\n",
       "           DateCreated  NumberOfPictures  PostalCode             LastSeen  \n",
       "0  2016-03-24 00:00:00                 0       70435  2016-04-07 03:16:57  \n",
       "1  2016-03-24 00:00:00                 0       66954  2016-04-07 01:46:50  \n",
       "2  2016-03-14 00:00:00                 0       90480  2016-04-05 12:47:46  \n",
       "3  2016-03-17 00:00:00                 0       91074  2016-03-17 17:40:17  \n",
       "4  2016-03-31 00:00:00                 0       60437  2016-04-06 10:17:21  "
      ]
     },
     "execution_count": 2,
     "metadata": {},
     "output_type": "execute_result"
    }
   ],
   "source": [
    "df = pd.read_csv('Ya_data/autos.csv')\n",
    "df.head()"
   ]
  },
  {
   "cell_type": "code",
   "execution_count": 3,
   "metadata": {},
   "outputs": [
    {
     "name": "stdout",
     "output_type": "stream",
     "text": [
      "<class 'pandas.core.frame.DataFrame'>\n",
      "RangeIndex: 354369 entries, 0 to 354368\n",
      "Data columns (total 16 columns):\n",
      " #   Column             Non-Null Count   Dtype \n",
      "---  ------             --------------   ----- \n",
      " 0   DateCrawled        354369 non-null  object\n",
      " 1   Price              354369 non-null  int64 \n",
      " 2   VehicleType        316879 non-null  object\n",
      " 3   RegistrationYear   354369 non-null  int64 \n",
      " 4   Gearbox            334536 non-null  object\n",
      " 5   Power              354369 non-null  int64 \n",
      " 6   Model              334664 non-null  object\n",
      " 7   Kilometer          354369 non-null  int64 \n",
      " 8   RegistrationMonth  354369 non-null  int64 \n",
      " 9   FuelType           321474 non-null  object\n",
      " 10  Brand              354369 non-null  object\n",
      " 11  NotRepaired        283215 non-null  object\n",
      " 12  DateCreated        354369 non-null  object\n",
      " 13  NumberOfPictures   354369 non-null  int64 \n",
      " 14  PostalCode         354369 non-null  int64 \n",
      " 15  LastSeen           354369 non-null  object\n",
      "dtypes: int64(7), object(9)\n",
      "memory usage: 43.3+ MB\n"
     ]
    }
   ],
   "source": [
    "df.info()"
   ]
  },
  {
   "cell_type": "markdown",
   "metadata": {},
   "source": [
    "Признаки:\\\n",
    "DateCrawled — дата скачивания анкеты из базы\\\n",
    "VehicleType — тип автомобильного кузова\\\n",
    "RegistrationYear — год регистрации автомобиля\\\n",
    "Gearbox — тип коробки передач\\\n",
    "Power — мощность (л. с.)\\\n",
    "Model — модель автомобиля\\\n",
    "Kilometer — пробег (км)\\\n",
    "RegistrationMonth — месяц регистрации автомобиля\\\n",
    "FuelType — тип топлива\\\n",
    "Brand — марка автомобиля\\\n",
    "NotRepaired — была машина в ремонте или нет\\\n",
    "DateCreated — дата создания анкеты\\\n",
    "NumberOfPictures — количество фотографий автомобиля\\\n",
    "PostalCode — почтовый индекс владельца анкеты (пользователя)\\\n",
    "LastSeen — дата последней активности пользователя\\"
   ]
  },
  {
   "cell_type": "markdown",
   "metadata": {},
   "source": [
    "### Поиск дубликатов"
   ]
  },
  {
   "cell_type": "markdown",
   "metadata": {},
   "source": [
    "Проверим на дубликаты"
   ]
  },
  {
   "cell_type": "code",
   "execution_count": 4,
   "metadata": {},
   "outputs": [
    {
     "data": {
      "text/plain": [
       "4"
      ]
     },
     "execution_count": 4,
     "metadata": {},
     "output_type": "execute_result"
    }
   ],
   "source": [
    "df.duplicated().sum()"
   ]
  },
  {
   "cell_type": "code",
   "execution_count": 5,
   "metadata": {},
   "outputs": [
    {
     "data": {
      "text/html": [
       "<div>\n",
       "<style scoped>\n",
       "    .dataframe tbody tr th:only-of-type {\n",
       "        vertical-align: middle;\n",
       "    }\n",
       "\n",
       "    .dataframe tbody tr th {\n",
       "        vertical-align: top;\n",
       "    }\n",
       "\n",
       "    .dataframe thead th {\n",
       "        text-align: right;\n",
       "    }\n",
       "</style>\n",
       "<table border=\"1\" class=\"dataframe\">\n",
       "  <thead>\n",
       "    <tr style=\"text-align: right;\">\n",
       "      <th></th>\n",
       "      <th>DateCrawled</th>\n",
       "      <th>Price</th>\n",
       "      <th>VehicleType</th>\n",
       "      <th>RegistrationYear</th>\n",
       "      <th>Gearbox</th>\n",
       "      <th>Power</th>\n",
       "      <th>Model</th>\n",
       "      <th>Kilometer</th>\n",
       "      <th>RegistrationMonth</th>\n",
       "      <th>FuelType</th>\n",
       "      <th>Brand</th>\n",
       "      <th>NotRepaired</th>\n",
       "      <th>DateCreated</th>\n",
       "      <th>NumberOfPictures</th>\n",
       "      <th>PostalCode</th>\n",
       "      <th>LastSeen</th>\n",
       "    </tr>\n",
       "  </thead>\n",
       "  <tbody>\n",
       "    <tr>\n",
       "      <th>90964</th>\n",
       "      <td>2016-03-28 00:56:10</td>\n",
       "      <td>1000</td>\n",
       "      <td>small</td>\n",
       "      <td>2002</td>\n",
       "      <td>manual</td>\n",
       "      <td>83</td>\n",
       "      <td>other</td>\n",
       "      <td>150000</td>\n",
       "      <td>1</td>\n",
       "      <td>petrol</td>\n",
       "      <td>suzuki</td>\n",
       "      <td>no</td>\n",
       "      <td>2016-03-28 00:00:00</td>\n",
       "      <td>0</td>\n",
       "      <td>66589</td>\n",
       "      <td>2016-03-28 08:46:21</td>\n",
       "    </tr>\n",
       "    <tr>\n",
       "      <th>231258</th>\n",
       "      <td>2016-03-28 00:56:10</td>\n",
       "      <td>1000</td>\n",
       "      <td>small</td>\n",
       "      <td>2002</td>\n",
       "      <td>manual</td>\n",
       "      <td>83</td>\n",
       "      <td>other</td>\n",
       "      <td>150000</td>\n",
       "      <td>1</td>\n",
       "      <td>petrol</td>\n",
       "      <td>suzuki</td>\n",
       "      <td>no</td>\n",
       "      <td>2016-03-28 00:00:00</td>\n",
       "      <td>0</td>\n",
       "      <td>66589</td>\n",
       "      <td>2016-03-28 08:46:21</td>\n",
       "    </tr>\n",
       "    <tr>\n",
       "      <th>88087</th>\n",
       "      <td>2016-03-08 18:42:48</td>\n",
       "      <td>1799</td>\n",
       "      <td>coupe</td>\n",
       "      <td>1999</td>\n",
       "      <td>auto</td>\n",
       "      <td>193</td>\n",
       "      <td>clk</td>\n",
       "      <td>20000</td>\n",
       "      <td>7</td>\n",
       "      <td>petrol</td>\n",
       "      <td>mercedes_benz</td>\n",
       "      <td>no</td>\n",
       "      <td>2016-03-08 00:00:00</td>\n",
       "      <td>0</td>\n",
       "      <td>89518</td>\n",
       "      <td>2016-03-09 09:46:57</td>\n",
       "    </tr>\n",
       "    <tr>\n",
       "      <th>171088</th>\n",
       "      <td>2016-03-08 18:42:48</td>\n",
       "      <td>1799</td>\n",
       "      <td>coupe</td>\n",
       "      <td>1999</td>\n",
       "      <td>auto</td>\n",
       "      <td>193</td>\n",
       "      <td>clk</td>\n",
       "      <td>20000</td>\n",
       "      <td>7</td>\n",
       "      <td>petrol</td>\n",
       "      <td>mercedes_benz</td>\n",
       "      <td>no</td>\n",
       "      <td>2016-03-08 00:00:00</td>\n",
       "      <td>0</td>\n",
       "      <td>89518</td>\n",
       "      <td>2016-03-09 09:46:57</td>\n",
       "    </tr>\n",
       "    <tr>\n",
       "      <th>41529</th>\n",
       "      <td>2016-03-18 18:46:15</td>\n",
       "      <td>1999</td>\n",
       "      <td>wagon</td>\n",
       "      <td>2001</td>\n",
       "      <td>manual</td>\n",
       "      <td>131</td>\n",
       "      <td>passat</td>\n",
       "      <td>150000</td>\n",
       "      <td>7</td>\n",
       "      <td>gasoline</td>\n",
       "      <td>volkswagen</td>\n",
       "      <td>no</td>\n",
       "      <td>2016-03-18 00:00:00</td>\n",
       "      <td>0</td>\n",
       "      <td>36391</td>\n",
       "      <td>2016-03-18 18:46:15</td>\n",
       "    </tr>\n",
       "    <tr>\n",
       "      <th>325651</th>\n",
       "      <td>2016-03-18 18:46:15</td>\n",
       "      <td>1999</td>\n",
       "      <td>wagon</td>\n",
       "      <td>2001</td>\n",
       "      <td>manual</td>\n",
       "      <td>131</td>\n",
       "      <td>passat</td>\n",
       "      <td>150000</td>\n",
       "      <td>7</td>\n",
       "      <td>gasoline</td>\n",
       "      <td>volkswagen</td>\n",
       "      <td>no</td>\n",
       "      <td>2016-03-18 00:00:00</td>\n",
       "      <td>0</td>\n",
       "      <td>36391</td>\n",
       "      <td>2016-03-18 18:46:15</td>\n",
       "    </tr>\n",
       "    <tr>\n",
       "      <th>187735</th>\n",
       "      <td>2016-04-03 09:01:15</td>\n",
       "      <td>4699</td>\n",
       "      <td>coupe</td>\n",
       "      <td>2003</td>\n",
       "      <td>auto</td>\n",
       "      <td>218</td>\n",
       "      <td>clk</td>\n",
       "      <td>125000</td>\n",
       "      <td>6</td>\n",
       "      <td>petrol</td>\n",
       "      <td>mercedes_benz</td>\n",
       "      <td>yes</td>\n",
       "      <td>2016-04-03 00:00:00</td>\n",
       "      <td>0</td>\n",
       "      <td>75196</td>\n",
       "      <td>2016-04-07 09:44:54</td>\n",
       "    </tr>\n",
       "    <tr>\n",
       "      <th>258109</th>\n",
       "      <td>2016-04-03 09:01:15</td>\n",
       "      <td>4699</td>\n",
       "      <td>coupe</td>\n",
       "      <td>2003</td>\n",
       "      <td>auto</td>\n",
       "      <td>218</td>\n",
       "      <td>clk</td>\n",
       "      <td>125000</td>\n",
       "      <td>6</td>\n",
       "      <td>petrol</td>\n",
       "      <td>mercedes_benz</td>\n",
       "      <td>yes</td>\n",
       "      <td>2016-04-03 00:00:00</td>\n",
       "      <td>0</td>\n",
       "      <td>75196</td>\n",
       "      <td>2016-04-07 09:44:54</td>\n",
       "    </tr>\n",
       "  </tbody>\n",
       "</table>\n",
       "</div>"
      ],
      "text/plain": [
       "                DateCrawled  Price VehicleType  RegistrationYear Gearbox  \\\n",
       "90964   2016-03-28 00:56:10   1000       small              2002  manual   \n",
       "231258  2016-03-28 00:56:10   1000       small              2002  manual   \n",
       "88087   2016-03-08 18:42:48   1799       coupe              1999    auto   \n",
       "171088  2016-03-08 18:42:48   1799       coupe              1999    auto   \n",
       "41529   2016-03-18 18:46:15   1999       wagon              2001  manual   \n",
       "325651  2016-03-18 18:46:15   1999       wagon              2001  manual   \n",
       "187735  2016-04-03 09:01:15   4699       coupe              2003    auto   \n",
       "258109  2016-04-03 09:01:15   4699       coupe              2003    auto   \n",
       "\n",
       "        Power   Model  Kilometer  RegistrationMonth  FuelType          Brand  \\\n",
       "90964      83   other     150000                  1    petrol         suzuki   \n",
       "231258     83   other     150000                  1    petrol         suzuki   \n",
       "88087     193     clk      20000                  7    petrol  mercedes_benz   \n",
       "171088    193     clk      20000                  7    petrol  mercedes_benz   \n",
       "41529     131  passat     150000                  7  gasoline     volkswagen   \n",
       "325651    131  passat     150000                  7  gasoline     volkswagen   \n",
       "187735    218     clk     125000                  6    petrol  mercedes_benz   \n",
       "258109    218     clk     125000                  6    petrol  mercedes_benz   \n",
       "\n",
       "       NotRepaired          DateCreated  NumberOfPictures  PostalCode  \\\n",
       "90964           no  2016-03-28 00:00:00                 0       66589   \n",
       "231258          no  2016-03-28 00:00:00                 0       66589   \n",
       "88087           no  2016-03-08 00:00:00                 0       89518   \n",
       "171088          no  2016-03-08 00:00:00                 0       89518   \n",
       "41529           no  2016-03-18 00:00:00                 0       36391   \n",
       "325651          no  2016-03-18 00:00:00                 0       36391   \n",
       "187735         yes  2016-04-03 00:00:00                 0       75196   \n",
       "258109         yes  2016-04-03 00:00:00                 0       75196   \n",
       "\n",
       "                   LastSeen  \n",
       "90964   2016-03-28 08:46:21  \n",
       "231258  2016-03-28 08:46:21  \n",
       "88087   2016-03-09 09:46:57  \n",
       "171088  2016-03-09 09:46:57  \n",
       "41529   2016-03-18 18:46:15  \n",
       "325651  2016-03-18 18:46:15  \n",
       "187735  2016-04-07 09:44:54  \n",
       "258109  2016-04-07 09:44:54  "
      ]
     },
     "execution_count": 5,
     "metadata": {},
     "output_type": "execute_result"
    }
   ],
   "source": [
    "df.loc[df.duplicated(keep=False)].sort_values(by='Price')"
   ]
  },
  {
   "cell_type": "markdown",
   "metadata": {},
   "source": [
    "Обнаружено 4 дубликата. Удалим дубликаты."
   ]
  },
  {
   "cell_type": "code",
   "execution_count": 6,
   "metadata": {},
   "outputs": [
    {
     "data": {
      "text/plain": [
       "0"
      ]
     },
     "execution_count": 6,
     "metadata": {},
     "output_type": "execute_result"
    }
   ],
   "source": [
    "df = df.drop_duplicates()\n",
    "df.duplicated().sum()"
   ]
  },
  {
   "cell_type": "markdown",
   "metadata": {},
   "source": [
    "<div class=\"alert alert-block alert-success\">\n",
    "<b>Успех:</b> Данные загружены корректно, первичный осмотр проведен.\n",
    "</div>"
   ]
  },
  {
   "cell_type": "markdown",
   "metadata": {},
   "source": [
    "### Поиск пропусков"
   ]
  },
  {
   "cell_type": "markdown",
   "metadata": {},
   "source": [
    "Поcмотрим относительное количество пропусков в столбцах"
   ]
  },
  {
   "cell_type": "code",
   "execution_count": 7,
   "metadata": {},
   "outputs": [
    {
     "data": {
      "text/plain": [
       "DateCrawled          0.000000\n",
       "Price                0.000000\n",
       "RegistrationYear     0.000000\n",
       "Power                0.000000\n",
       "Kilometer            0.000000\n",
       "RegistrationMonth    0.000000\n",
       "Brand                0.000000\n",
       "DateCreated          0.000000\n",
       "NumberOfPictures     0.000000\n",
       "PostalCode           0.000000\n",
       "LastSeen             0.000000\n",
       "Model                0.055607\n",
       "Gearbox              0.055968\n",
       "FuelType             0.092828\n",
       "VehicleType          0.105795\n",
       "NotRepaired          0.200793\n",
       "dtype: float64"
      ]
     },
     "execution_count": 7,
     "metadata": {},
     "output_type": "execute_result"
    }
   ],
   "source": [
    "df.isna().mean().sort_values() "
   ]
  },
  {
   "cell_type": "markdown",
   "metadata": {},
   "source": [
    "Пропуски NotRepaired возможно небыли выбраны при составлении анкеты. Если не указано наличие ремонта будем считать что его небыло. Заполним пропуски значением yes."
   ]
  },
  {
   "cell_type": "code",
   "execution_count": 8,
   "metadata": {},
   "outputs": [
    {
     "data": {
      "text/plain": [
       "0"
      ]
     },
     "execution_count": 8,
     "metadata": {},
     "output_type": "execute_result"
    }
   ],
   "source": [
    "df['NotRepaired'] = df['NotRepaired'].fillna('yes')\n",
    "df['NotRepaired'].isna().sum()"
   ]
  },
  {
   "cell_type": "markdown",
   "metadata": {},
   "source": [
    "Посмотрим варианты признака VehicleType."
   ]
  },
  {
   "cell_type": "code",
   "execution_count": 9,
   "metadata": {},
   "outputs": [
    {
     "data": {
      "text/plain": [
       "array([nan, 'coupe', 'suv', 'small', 'sedan', 'convertible', 'bus',\n",
       "       'wagon', 'other'], dtype=object)"
      ]
     },
     "execution_count": 9,
     "metadata": {},
     "output_type": "execute_result"
    }
   ],
   "source": [
    "df['VehicleType'].unique()"
   ]
  },
  {
   "cell_type": "markdown",
   "metadata": {},
   "source": [
    "Если тип кузова не указан заменим на вариант other"
   ]
  },
  {
   "cell_type": "code",
   "execution_count": 10,
   "metadata": {},
   "outputs": [
    {
     "data": {
      "text/plain": [
       "0"
      ]
     },
     "execution_count": 10,
     "metadata": {},
     "output_type": "execute_result"
    }
   ],
   "source": [
    "df['VehicleType'] = df['VehicleType'].fillna('other')\n",
    "df['VehicleType'].isna().sum()"
   ]
  },
  {
   "cell_type": "markdown",
   "metadata": {},
   "source": [
    "Посмотрим варианты признака FuelType."
   ]
  },
  {
   "cell_type": "code",
   "execution_count": 11,
   "metadata": {},
   "outputs": [
    {
     "data": {
      "text/plain": [
       "array(['petrol', 'gasoline', nan, 'lpg', 'other', 'hybrid', 'cng',\n",
       "       'electric'], dtype=object)"
      ]
     },
     "execution_count": 11,
     "metadata": {},
     "output_type": "execute_result"
    }
   ],
   "source": [
    "df['FuelType'].unique()"
   ]
  },
  {
   "cell_type": "markdown",
   "metadata": {},
   "source": [
    "Если тип топлива не указан заменим на вариант other"
   ]
  },
  {
   "cell_type": "code",
   "execution_count": 12,
   "metadata": {},
   "outputs": [
    {
     "data": {
      "text/plain": [
       "0"
      ]
     },
     "execution_count": 12,
     "metadata": {},
     "output_type": "execute_result"
    }
   ],
   "source": [
    "df['FuelType'] = df['FuelType'].fillna('other')\n",
    "df['FuelType'].isna().sum()"
   ]
  },
  {
   "cell_type": "markdown",
   "metadata": {},
   "source": [
    "Посмотрим варианты признака Gearbox."
   ]
  },
  {
   "cell_type": "code",
   "execution_count": 13,
   "metadata": {
    "scrolled": true
   },
   "outputs": [
    {
     "data": {
      "text/plain": [
       "array(['manual', 'auto', nan], dtype=object)"
      ]
     },
     "execution_count": 13,
     "metadata": {},
     "output_type": "execute_result"
    }
   ],
   "source": [
    "df['Gearbox'].unique()"
   ]
  },
  {
   "cell_type": "markdown",
   "metadata": {},
   "source": [
    "Если тип коробки не указан заменим на вариант NA"
   ]
  },
  {
   "cell_type": "code",
   "execution_count": 14,
   "metadata": {},
   "outputs": [
    {
     "data": {
      "text/plain": [
       "0"
      ]
     },
     "execution_count": 14,
     "metadata": {},
     "output_type": "execute_result"
    }
   ],
   "source": [
    "df['Gearbox'] = df['Gearbox'].fillna('other')\n",
    "df['Gearbox'].isna().sum()"
   ]
  },
  {
   "cell_type": "markdown",
   "metadata": {},
   "source": [
    "Посмотрим варианты признака Model."
   ]
  },
  {
   "cell_type": "code",
   "execution_count": 15,
   "metadata": {},
   "outputs": [
    {
     "data": {
      "text/plain": [
       "array(['golf', nan, 'grand', 'fabia', '3er', '2_reihe', 'other', 'c_max',\n",
       "       '3_reihe', 'passat', 'navara', 'ka', 'polo', 'twingo', 'a_klasse',\n",
       "       'scirocco', '5er', 'meriva', 'arosa', 'c4', 'civic', 'transporter',\n",
       "       'punto', 'e_klasse', 'clio', 'kadett', 'kangoo', 'corsa', 'one',\n",
       "       'fortwo', '1er', 'b_klasse', 'signum', 'astra', 'a8', 'jetta',\n",
       "       'fiesta', 'c_klasse', 'micra', 'vito', 'sprinter', '156', 'escort',\n",
       "       'forester', 'xc_reihe', 'scenic', 'a4', 'a1', 'insignia', 'combo',\n",
       "       'focus', 'tt', 'a6', 'jazz', 'omega', 'slk', '7er', '80', '147',\n",
       "       '100', 'z_reihe', 'sportage', 'sorento', 'v40', 'ibiza', 'mustang',\n",
       "       'eos', 'touran', 'getz', 'a3', 'almera', 'megane', 'lupo', 'r19',\n",
       "       'zafira', 'caddy', 'mondeo', 'cordoba', 'colt', 'impreza',\n",
       "       'vectra', 'berlingo', 'tiguan', 'i_reihe', 'espace', 'sharan',\n",
       "       '6_reihe', 'panda', 'up', 'seicento', 'ceed', '5_reihe', 'yeti',\n",
       "       'octavia', 'mii', 'rx_reihe', '6er', 'modus', 'fox', 'matiz',\n",
       "       'beetle', 'c1', 'rio', 'touareg', 'logan', 'spider', 'cuore',\n",
       "       's_max', 'a2', 'galaxy', 'c3', 'viano', 's_klasse', '1_reihe',\n",
       "       'avensis', 'roomster', 'sl', 'kaefer', 'santa', 'cooper', 'leon',\n",
       "       '4_reihe', 'a5', '500', 'laguna', 'ptcruiser', 'clk', 'primera',\n",
       "       'x_reihe', 'exeo', '159', 'transit', 'juke', 'qashqai', 'carisma',\n",
       "       'accord', 'corolla', 'lanos', 'phaeton', 'verso', 'swift', 'rav',\n",
       "       'picanto', 'boxster', 'kalos', 'superb', 'stilo', 'alhambra',\n",
       "       'mx_reihe', 'roadster', 'ypsilon', 'cayenne', 'galant', 'justy',\n",
       "       '90', 'sirion', 'crossfire', 'agila', 'duster', 'cr_reihe', 'v50',\n",
       "       'c_reihe', 'v_klasse', 'm_klasse', 'yaris', 'c5', 'aygo', 'cc',\n",
       "       'carnival', 'fusion', '911', 'bora', 'forfour', 'm_reihe', 'cl',\n",
       "       'tigra', '300c', 'spark', 'v70', 'kuga', 'x_type', 'ducato',\n",
       "       's_type', 'x_trail', 'toledo', 'altea', 'voyager', 'calibra',\n",
       "       'bravo', 'antara', 'tucson', 'citigo', 'jimny', 'wrangler',\n",
       "       'lybra', 'q7', 'lancer', 'captiva', 'c2', 'discovery',\n",
       "       'freelander', 'sandero', 'note', '900', 'cherokee', 'clubman',\n",
       "       'samara', 'defender', '601', 'cx_reihe', 'legacy', 'pajero',\n",
       "       'auris', 'niva', 's60', 'nubira', 'vivaro', 'g_klasse', 'lodgy',\n",
       "       '850', 'range_rover', 'q3', 'serie_2', 'glk', 'charade', 'croma',\n",
       "       'outlander', 'doblo', 'musa', 'move', '9000', 'v60', '145', 'aveo',\n",
       "       '200', 'b_max', 'range_rover_sport', 'terios', 'rangerover', 'q5',\n",
       "       'range_rover_evoque', 'materia', 'delta', 'gl', 'kalina', 'amarok',\n",
       "       'elefantino', 'i3', 'kappa', 'serie_3', 'serie_1'], dtype=object)"
      ]
     },
     "execution_count": 15,
     "metadata": {},
     "output_type": "execute_result"
    }
   ],
   "source": [
    "df['Model'].unique()"
   ]
  },
  {
   "cell_type": "markdown",
   "metadata": {},
   "source": [
    "Если модель не указана заменим на вариант other"
   ]
  },
  {
   "cell_type": "code",
   "execution_count": 16,
   "metadata": {},
   "outputs": [
    {
     "data": {
      "text/plain": [
       "0"
      ]
     },
     "execution_count": 16,
     "metadata": {},
     "output_type": "execute_result"
    }
   ],
   "source": [
    "df['Model'] = df['Model'].fillna('other')\n",
    "df['Model'].isna().sum()"
   ]
  },
  {
   "cell_type": "markdown",
   "metadata": {},
   "source": [
    "Проверим пропуски"
   ]
  },
  {
   "cell_type": "code",
   "execution_count": 17,
   "metadata": {},
   "outputs": [
    {
     "data": {
      "text/plain": [
       "DateCrawled          0.0\n",
       "Price                0.0\n",
       "VehicleType          0.0\n",
       "RegistrationYear     0.0\n",
       "Gearbox              0.0\n",
       "Power                0.0\n",
       "Model                0.0\n",
       "Kilometer            0.0\n",
       "RegistrationMonth    0.0\n",
       "FuelType             0.0\n",
       "Brand                0.0\n",
       "NotRepaired          0.0\n",
       "DateCreated          0.0\n",
       "NumberOfPictures     0.0\n",
       "PostalCode           0.0\n",
       "LastSeen             0.0\n",
       "dtype: float64"
      ]
     },
     "execution_count": 17,
     "metadata": {},
     "output_type": "execute_result"
    }
   ],
   "source": [
    "df.isna().mean().sort_values() "
   ]
  },
  {
   "cell_type": "markdown",
   "metadata": {},
   "source": [
    "### Поиск аномальных значений"
   ]
  },
  {
   "cell_type": "markdown",
   "metadata": {},
   "source": [
    "Посмотрим на распределение числовах параметров."
   ]
  },
  {
   "cell_type": "code",
   "execution_count": 18,
   "metadata": {
    "scrolled": false
   },
   "outputs": [
    {
     "data": {
      "image/png": "[encoded data removed]",
      "text/plain": [
       "<Figure size 1080x720 with 6 Axes>"
      ]
     },
     "metadata": {
      "needs_background": "light"
     },
     "output_type": "display_data"
    }
   ],
   "source": [
    "df[{'Price', 'RegistrationYear', 'Power', 'Kilometer', 'RegistrationMonth', 'NumberOfPictures'}].hist(bins=100, figsize=(15,10))\n",
    "plt.show()"
   ]
  },
  {
   "cell_type": "code",
   "execution_count": 19,
   "metadata": {},
   "outputs": [
    {
     "data": {
      "text/html": [
       "<div>\n",
       "<style scoped>\n",
       "    .dataframe tbody tr th:only-of-type {\n",
       "        vertical-align: middle;\n",
       "    }\n",
       "\n",
       "    .dataframe tbody tr th {\n",
       "        vertical-align: top;\n",
       "    }\n",
       "\n",
       "    .dataframe thead th {\n",
       "        text-align: right;\n",
       "    }\n",
       "</style>\n",
       "<table border=\"1\" class=\"dataframe\">\n",
       "  <thead>\n",
       "    <tr style=\"text-align: right;\">\n",
       "      <th></th>\n",
       "      <th>Kilometer</th>\n",
       "      <th>NumberOfPictures</th>\n",
       "      <th>Power</th>\n",
       "      <th>Price</th>\n",
       "      <th>RegistrationYear</th>\n",
       "    </tr>\n",
       "  </thead>\n",
       "  <tbody>\n",
       "    <tr>\n",
       "      <th>count</th>\n",
       "      <td>354365.000000</td>\n",
       "      <td>354365.0</td>\n",
       "      <td>354365.000000</td>\n",
       "      <td>354365.000000</td>\n",
       "      <td>354365.000000</td>\n",
       "    </tr>\n",
       "    <tr>\n",
       "      <th>mean</th>\n",
       "      <td>128211.363989</td>\n",
       "      <td>0.0</td>\n",
       "      <td>110.093816</td>\n",
       "      <td>4416.679830</td>\n",
       "      <td>2004.234481</td>\n",
       "    </tr>\n",
       "    <tr>\n",
       "      <th>std</th>\n",
       "      <td>37905.083858</td>\n",
       "      <td>0.0</td>\n",
       "      <td>189.851330</td>\n",
       "      <td>4514.176349</td>\n",
       "      <td>90.228466</td>\n",
       "    </tr>\n",
       "    <tr>\n",
       "      <th>min</th>\n",
       "      <td>5000.000000</td>\n",
       "      <td>0.0</td>\n",
       "      <td>0.000000</td>\n",
       "      <td>0.000000</td>\n",
       "      <td>1000.000000</td>\n",
       "    </tr>\n",
       "    <tr>\n",
       "      <th>25%</th>\n",
       "      <td>125000.000000</td>\n",
       "      <td>0.0</td>\n",
       "      <td>69.000000</td>\n",
       "      <td>1050.000000</td>\n",
       "      <td>1999.000000</td>\n",
       "    </tr>\n",
       "    <tr>\n",
       "      <th>50%</th>\n",
       "      <td>150000.000000</td>\n",
       "      <td>0.0</td>\n",
       "      <td>105.000000</td>\n",
       "      <td>2700.000000</td>\n",
       "      <td>2003.000000</td>\n",
       "    </tr>\n",
       "    <tr>\n",
       "      <th>75%</th>\n",
       "      <td>150000.000000</td>\n",
       "      <td>0.0</td>\n",
       "      <td>143.000000</td>\n",
       "      <td>6400.000000</td>\n",
       "      <td>2008.000000</td>\n",
       "    </tr>\n",
       "    <tr>\n",
       "      <th>max</th>\n",
       "      <td>150000.000000</td>\n",
       "      <td>0.0</td>\n",
       "      <td>20000.000000</td>\n",
       "      <td>20000.000000</td>\n",
       "      <td>9999.000000</td>\n",
       "    </tr>\n",
       "  </tbody>\n",
       "</table>\n",
       "</div>"
      ],
      "text/plain": [
       "           Kilometer  NumberOfPictures          Power          Price  \\\n",
       "count  354365.000000          354365.0  354365.000000  354365.000000   \n",
       "mean   128211.363989               0.0     110.093816    4416.679830   \n",
       "std     37905.083858               0.0     189.851330    4514.176349   \n",
       "min      5000.000000               0.0       0.000000       0.000000   \n",
       "25%    125000.000000               0.0      69.000000    1050.000000   \n",
       "50%    150000.000000               0.0     105.000000    2700.000000   \n",
       "75%    150000.000000               0.0     143.000000    6400.000000   \n",
       "max    150000.000000               0.0   20000.000000   20000.000000   \n",
       "\n",
       "       RegistrationYear  \n",
       "count     354365.000000  \n",
       "mean        2004.234481  \n",
       "std           90.228466  \n",
       "min         1000.000000  \n",
       "25%         1999.000000  \n",
       "50%         2003.000000  \n",
       "75%         2008.000000  \n",
       "max         9999.000000  "
      ]
     },
     "execution_count": 19,
     "metadata": {},
     "output_type": "execute_result"
    }
   ],
   "source": [
    "df[{'Price', 'RegistrationYear', 'Power', 'Kilometer', 'NumberOfPictures'}].describe()"
   ]
  },
  {
   "cell_type": "markdown",
   "metadata": {},
   "source": [
    "Распределение признаков Power и RegistrationYear выглядят странно, тут явно присутсвуют выбросы (аномально большие значения).Так же странно выглядят минимальные нулевые значения Power и Price, а так же минимальный RegistrationYear 1000. В NumberOfPictures вечный 0 - бесполезный признак."
   ]
  },
  {
   "cell_type": "markdown",
   "metadata": {},
   "source": [
    "Мощность более 500 л.с. и менее 20 л.c. у автомобиоей встречается очень редко. Посмотрим сколько таких данных в %. "
   ]
  },
  {
   "cell_type": "code",
   "execution_count": 20,
   "metadata": {},
   "outputs": [
    {
     "data": {
      "text/plain": [
       "11.598493079169783"
      ]
     },
     "execution_count": 20,
     "metadata": {},
     "output_type": "execute_result"
    }
   ],
   "source": [
    "df.query('Power > 500 |  Power < 20')['Power'].count() / len(df) * 100"
   ]
  },
  {
   "cell_type": "code",
   "execution_count": 21,
   "metadata": {},
   "outputs": [
    {
     "data": {
      "text/plain": [
       "11.351290336235238"
      ]
     },
     "execution_count": 21,
     "metadata": {},
     "output_type": "execute_result"
    }
   ],
   "source": [
    "df.query('Power < 1')['Power'].count() / len(df) * 100"
   ]
  },
  {
   "cell_type": "markdown",
   "metadata": {},
   "source": [
    "11% процентов, большинство это нулевые значения."
   ]
  },
  {
   "cell_type": "markdown",
   "metadata": {},
   "source": [
    "Аномальные года < 1950 и > 2016. Посмотрим сколько таких данных."
   ]
  },
  {
   "cell_type": "code",
   "execution_count": 22,
   "metadata": {},
   "outputs": [
    {
     "data": {
      "text/plain": [
       "4.118916935927645"
      ]
     },
     "execution_count": 22,
     "metadata": {},
     "output_type": "execute_result"
    }
   ],
   "source": [
    "df.query('RegistrationYear > 2016 | RegistrationYear < 1900')['RegistrationYear'].count() / len(df) * 100"
   ]
  },
  {
   "cell_type": "code",
   "execution_count": 23,
   "metadata": {},
   "outputs": [],
   "source": [
    "df = df.drop(df.query('Power > 500 |  Power < 20').index).reset_index(drop=True) # удалим аномально большую мощность\n",
    "df = df.drop(df.query('RegistrationYear > 2020 | RegistrationYear < 1950').index).reset_index(drop=True) # удалим аномальные года"
   ]
  },
  {
   "cell_type": "markdown",
   "metadata": {},
   "source": [
    "Посмотрим на измененные признаки"
   ]
  },
  {
   "cell_type": "code",
   "execution_count": 24,
   "metadata": {
    "scrolled": true
   },
   "outputs": [
    {
     "data": {
      "image/png": "[encoded data removed]",
      "text/plain": [
       "<Figure size 1080x360 with 2 Axes>"
      ]
     },
     "metadata": {
      "needs_background": "light"
     },
     "output_type": "display_data"
    }
   ],
   "source": [
    "df[{'RegistrationYear', 'Power'}].hist(bins=100, figsize=(15,5))\n",
    "plt.show()"
   ]
  },
  {
   "cell_type": "markdown",
   "metadata": {},
   "source": [
    "### Удалим лишние признаки"
   ]
  },
  {
   "cell_type": "markdown",
   "metadata": {},
   "source": [
    "Признаки DateCrawled и LastSeen, NumberOfPictures, RegistrationMonth никакой информации о цене не предоставляют. Удалим их."
   ]
  },
  {
   "cell_type": "code",
   "execution_count": 25,
   "metadata": {},
   "outputs": [
    {
     "data": {
      "text/html": [
       "<div>\n",
       "<style scoped>\n",
       "    .dataframe tbody tr th:only-of-type {\n",
       "        vertical-align: middle;\n",
       "    }\n",
       "\n",
       "    .dataframe tbody tr th {\n",
       "        vertical-align: top;\n",
       "    }\n",
       "\n",
       "    .dataframe thead th {\n",
       "        text-align: right;\n",
       "    }\n",
       "</style>\n",
       "<table border=\"1\" class=\"dataframe\">\n",
       "  <thead>\n",
       "    <tr style=\"text-align: right;\">\n",
       "      <th></th>\n",
       "      <th>Price</th>\n",
       "      <th>VehicleType</th>\n",
       "      <th>RegistrationYear</th>\n",
       "      <th>Gearbox</th>\n",
       "      <th>Power</th>\n",
       "      <th>Model</th>\n",
       "      <th>Kilometer</th>\n",
       "      <th>FuelType</th>\n",
       "      <th>Brand</th>\n",
       "      <th>NotRepaired</th>\n",
       "      <th>PostalCode</th>\n",
       "    </tr>\n",
       "  </thead>\n",
       "  <tbody>\n",
       "    <tr>\n",
       "      <th>0</th>\n",
       "      <td>18300</td>\n",
       "      <td>coupe</td>\n",
       "      <td>2011</td>\n",
       "      <td>manual</td>\n",
       "      <td>190</td>\n",
       "      <td>other</td>\n",
       "      <td>125000</td>\n",
       "      <td>gasoline</td>\n",
       "      <td>audi</td>\n",
       "      <td>yes</td>\n",
       "      <td>66954</td>\n",
       "    </tr>\n",
       "    <tr>\n",
       "      <th>1</th>\n",
       "      <td>9800</td>\n",
       "      <td>suv</td>\n",
       "      <td>2004</td>\n",
       "      <td>auto</td>\n",
       "      <td>163</td>\n",
       "      <td>grand</td>\n",
       "      <td>125000</td>\n",
       "      <td>gasoline</td>\n",
       "      <td>jeep</td>\n",
       "      <td>yes</td>\n",
       "      <td>90480</td>\n",
       "    </tr>\n",
       "    <tr>\n",
       "      <th>2</th>\n",
       "      <td>1500</td>\n",
       "      <td>small</td>\n",
       "      <td>2001</td>\n",
       "      <td>manual</td>\n",
       "      <td>75</td>\n",
       "      <td>golf</td>\n",
       "      <td>150000</td>\n",
       "      <td>petrol</td>\n",
       "      <td>volkswagen</td>\n",
       "      <td>no</td>\n",
       "      <td>91074</td>\n",
       "    </tr>\n",
       "    <tr>\n",
       "      <th>3</th>\n",
       "      <td>3600</td>\n",
       "      <td>small</td>\n",
       "      <td>2008</td>\n",
       "      <td>manual</td>\n",
       "      <td>69</td>\n",
       "      <td>fabia</td>\n",
       "      <td>90000</td>\n",
       "      <td>gasoline</td>\n",
       "      <td>skoda</td>\n",
       "      <td>no</td>\n",
       "      <td>60437</td>\n",
       "    </tr>\n",
       "    <tr>\n",
       "      <th>4</th>\n",
       "      <td>650</td>\n",
       "      <td>sedan</td>\n",
       "      <td>1995</td>\n",
       "      <td>manual</td>\n",
       "      <td>102</td>\n",
       "      <td>3er</td>\n",
       "      <td>150000</td>\n",
       "      <td>petrol</td>\n",
       "      <td>bmw</td>\n",
       "      <td>yes</td>\n",
       "      <td>33775</td>\n",
       "    </tr>\n",
       "    <tr>\n",
       "      <th>...</th>\n",
       "      <td>...</td>\n",
       "      <td>...</td>\n",
       "      <td>...</td>\n",
       "      <td>...</td>\n",
       "      <td>...</td>\n",
       "      <td>...</td>\n",
       "      <td>...</td>\n",
       "      <td>...</td>\n",
       "      <td>...</td>\n",
       "      <td>...</td>\n",
       "      <td>...</td>\n",
       "    </tr>\n",
       "    <tr>\n",
       "      <th>313190</th>\n",
       "      <td>5250</td>\n",
       "      <td>other</td>\n",
       "      <td>2016</td>\n",
       "      <td>auto</td>\n",
       "      <td>150</td>\n",
       "      <td>159</td>\n",
       "      <td>150000</td>\n",
       "      <td>other</td>\n",
       "      <td>alfa_romeo</td>\n",
       "      <td>no</td>\n",
       "      <td>51371</td>\n",
       "    </tr>\n",
       "    <tr>\n",
       "      <th>313191</th>\n",
       "      <td>3200</td>\n",
       "      <td>sedan</td>\n",
       "      <td>2004</td>\n",
       "      <td>manual</td>\n",
       "      <td>225</td>\n",
       "      <td>leon</td>\n",
       "      <td>150000</td>\n",
       "      <td>petrol</td>\n",
       "      <td>seat</td>\n",
       "      <td>yes</td>\n",
       "      <td>96465</td>\n",
       "    </tr>\n",
       "    <tr>\n",
       "      <th>313192</th>\n",
       "      <td>1199</td>\n",
       "      <td>convertible</td>\n",
       "      <td>2000</td>\n",
       "      <td>auto</td>\n",
       "      <td>101</td>\n",
       "      <td>fortwo</td>\n",
       "      <td>125000</td>\n",
       "      <td>petrol</td>\n",
       "      <td>smart</td>\n",
       "      <td>no</td>\n",
       "      <td>26135</td>\n",
       "    </tr>\n",
       "    <tr>\n",
       "      <th>313193</th>\n",
       "      <td>9200</td>\n",
       "      <td>bus</td>\n",
       "      <td>1996</td>\n",
       "      <td>manual</td>\n",
       "      <td>102</td>\n",
       "      <td>transporter</td>\n",
       "      <td>150000</td>\n",
       "      <td>gasoline</td>\n",
       "      <td>volkswagen</td>\n",
       "      <td>no</td>\n",
       "      <td>87439</td>\n",
       "    </tr>\n",
       "    <tr>\n",
       "      <th>313194</th>\n",
       "      <td>3400</td>\n",
       "      <td>wagon</td>\n",
       "      <td>2002</td>\n",
       "      <td>manual</td>\n",
       "      <td>100</td>\n",
       "      <td>golf</td>\n",
       "      <td>150000</td>\n",
       "      <td>gasoline</td>\n",
       "      <td>volkswagen</td>\n",
       "      <td>yes</td>\n",
       "      <td>40764</td>\n",
       "    </tr>\n",
       "  </tbody>\n",
       "</table>\n",
       "<p>313195 rows × 11 columns</p>\n",
       "</div>"
      ],
      "text/plain": [
       "        Price  VehicleType  RegistrationYear Gearbox  Power        Model  \\\n",
       "0       18300        coupe              2011  manual    190        other   \n",
       "1        9800          suv              2004    auto    163        grand   \n",
       "2        1500        small              2001  manual     75         golf   \n",
       "3        3600        small              2008  manual     69        fabia   \n",
       "4         650        sedan              1995  manual    102          3er   \n",
       "...       ...          ...               ...     ...    ...          ...   \n",
       "313190   5250        other              2016    auto    150          159   \n",
       "313191   3200        sedan              2004  manual    225         leon   \n",
       "313192   1199  convertible              2000    auto    101       fortwo   \n",
       "313193   9200          bus              1996  manual    102  transporter   \n",
       "313194   3400        wagon              2002  manual    100         golf   \n",
       "\n",
       "        Kilometer  FuelType       Brand NotRepaired  PostalCode  \n",
       "0          125000  gasoline        audi         yes       66954  \n",
       "1          125000  gasoline        jeep         yes       90480  \n",
       "2          150000    petrol  volkswagen          no       91074  \n",
       "3           90000  gasoline       skoda          no       60437  \n",
       "4          150000    petrol         bmw         yes       33775  \n",
       "...           ...       ...         ...         ...         ...  \n",
       "313190     150000     other  alfa_romeo          no       51371  \n",
       "313191     150000    petrol        seat         yes       96465  \n",
       "313192     125000    petrol       smart          no       26135  \n",
       "313193     150000  gasoline  volkswagen          no       87439  \n",
       "313194     150000  gasoline  volkswagen         yes       40764  \n",
       "\n",
       "[313195 rows x 11 columns]"
      ]
     },
     "execution_count": 25,
     "metadata": {},
     "output_type": "execute_result"
    }
   ],
   "source": [
    "df = df.drop(['DateCrawled', 'LastSeen', 'DateCreated', 'NumberOfPictures', 'RegistrationMonth'], axis = 1)\n",
    "df"
   ]
  },
  {
   "cell_type": "markdown",
   "metadata": {},
   "source": [
    "### Подготовка признаков"
   ]
  },
  {
   "cell_type": "code",
   "execution_count": 26,
   "metadata": {},
   "outputs": [
    {
     "name": "stdout",
     "output_type": "stream",
     "text": [
      "Обучающие объекты: признаки (250556, 10), цель (250556,)\n",
      "Тестовые объекты: признаки (62639, 10), цель (62639,)\n"
     ]
    }
   ],
   "source": [
    "# разобьем данные на 2 части: обучающую и тестовую выборки в соотношнии 4:1\n",
    "df_train, df_test= train_test_split(df, test_size=0.2, random_state=123)\n",
    "\n",
    "features_train = df_train.drop(['Price'], axis=1)\n",
    "target_train = df_train['Price']\n",
    "features_test = df_test.drop(['Price'], axis=1)\n",
    "target_test = df_test['Price']\n",
    "\n",
    "print('Обучающие объекты: признаки {}, цель {}'.format(features_train.shape, target_train.shape))\n",
    "print('Тестовые объекты: признаки {}, цель {}'.format(features_test.shape, target_test.shape))"
   ]
  },
  {
   "cell_type": "markdown",
   "metadata": {},
   "source": [
    "Отметим категориальные признаки для модели lightGBM на тренировочной и тестовой выборках."
   ]
  },
  {
   "cell_type": "code",
   "execution_count": 27,
   "metadata": {},
   "outputs": [
    {
     "data": {
      "text/plain": [
       "VehicleType         category\n",
       "RegistrationYear       int64\n",
       "Gearbox             category\n",
       "Power                  int64\n",
       "Model               category\n",
       "Kilometer              int64\n",
       "FuelType            category\n",
       "Brand               category\n",
       "NotRepaired         category\n",
       "PostalCode          category\n",
       "dtype: object"
      ]
     },
     "execution_count": 27,
     "metadata": {},
     "output_type": "execute_result"
    }
   ],
   "source": [
    "# изменим тип данных в категориальных признаках на  \"category\"\n",
    "numeric = ['RegistrationYear', 'Power', 'Kilometer']\n",
    "features_train[features_train.columns.drop(numeric)] = features_train[features_train.columns.drop(numeric)].astype('category')\n",
    "features_train.dtypes"
   ]
  },
  {
   "cell_type": "code",
   "execution_count": 28,
   "metadata": {},
   "outputs": [
    {
     "data": {
      "text/plain": [
       "VehicleType         category\n",
       "RegistrationYear       int64\n",
       "Gearbox             category\n",
       "Power                  int64\n",
       "Model               category\n",
       "Kilometer              int64\n",
       "FuelType            category\n",
       "Brand               category\n",
       "NotRepaired         category\n",
       "PostalCode          category\n",
       "dtype: object"
      ]
     },
     "execution_count": 28,
     "metadata": {},
     "output_type": "execute_result"
    }
   ],
   "source": [
    "features_test[features_train.columns.drop(numeric)] = features_test[features_train.columns.drop(numeric)].astype('category')\n",
    "features_test.dtypes"
   ]
  },
  {
   "cell_type": "code",
   "execution_count": 29,
   "metadata": {},
   "outputs": [
    {
     "data": {
      "text/html": [
       "<div>\n",
       "<style scoped>\n",
       "    .dataframe tbody tr th:only-of-type {\n",
       "        vertical-align: middle;\n",
       "    }\n",
       "\n",
       "    .dataframe tbody tr th {\n",
       "        vertical-align: top;\n",
       "    }\n",
       "\n",
       "    .dataframe thead th {\n",
       "        text-align: right;\n",
       "    }\n",
       "</style>\n",
       "<table border=\"1\" class=\"dataframe\">\n",
       "  <thead>\n",
       "    <tr style=\"text-align: right;\">\n",
       "      <th></th>\n",
       "      <th>VehicleType</th>\n",
       "      <th>RegistrationYear</th>\n",
       "      <th>Gearbox</th>\n",
       "      <th>Power</th>\n",
       "      <th>Model</th>\n",
       "      <th>Kilometer</th>\n",
       "      <th>FuelType</th>\n",
       "      <th>Brand</th>\n",
       "      <th>NotRepaired</th>\n",
       "      <th>PostalCode</th>\n",
       "    </tr>\n",
       "  </thead>\n",
       "  <tbody>\n",
       "    <tr>\n",
       "      <th>87034</th>\n",
       "      <td>sedan</td>\n",
       "      <td>2006</td>\n",
       "      <td>manual</td>\n",
       "      <td>180</td>\n",
       "      <td>a6</td>\n",
       "      <td>150000</td>\n",
       "      <td>gasoline</td>\n",
       "      <td>audi</td>\n",
       "      <td>no</td>\n",
       "      <td>30900</td>\n",
       "    </tr>\n",
       "    <tr>\n",
       "      <th>71135</th>\n",
       "      <td>wagon</td>\n",
       "      <td>2005</td>\n",
       "      <td>auto</td>\n",
       "      <td>224</td>\n",
       "      <td>a6</td>\n",
       "      <td>150000</td>\n",
       "      <td>gasoline</td>\n",
       "      <td>audi</td>\n",
       "      <td>no</td>\n",
       "      <td>57399</td>\n",
       "    </tr>\n",
       "    <tr>\n",
       "      <th>216002</th>\n",
       "      <td>suv</td>\n",
       "      <td>1999</td>\n",
       "      <td>auto</td>\n",
       "      <td>218</td>\n",
       "      <td>m_klasse</td>\n",
       "      <td>150000</td>\n",
       "      <td>lpg</td>\n",
       "      <td>mercedes_benz</td>\n",
       "      <td>no</td>\n",
       "      <td>44894</td>\n",
       "    </tr>\n",
       "    <tr>\n",
       "      <th>64268</th>\n",
       "      <td>suv</td>\n",
       "      <td>2006</td>\n",
       "      <td>auto</td>\n",
       "      <td>152</td>\n",
       "      <td>rav</td>\n",
       "      <td>150000</td>\n",
       "      <td>petrol</td>\n",
       "      <td>toyota</td>\n",
       "      <td>no</td>\n",
       "      <td>1157</td>\n",
       "    </tr>\n",
       "    <tr>\n",
       "      <th>156850</th>\n",
       "      <td>small</td>\n",
       "      <td>2006</td>\n",
       "      <td>manual</td>\n",
       "      <td>60</td>\n",
       "      <td>c2</td>\n",
       "      <td>125000</td>\n",
       "      <td>petrol</td>\n",
       "      <td>citroen</td>\n",
       "      <td>yes</td>\n",
       "      <td>15366</td>\n",
       "    </tr>\n",
       "  </tbody>\n",
       "</table>\n",
       "</div>"
      ],
      "text/plain": [
       "       VehicleType  RegistrationYear Gearbox  Power     Model  Kilometer  \\\n",
       "87034        sedan              2006  manual    180        a6     150000   \n",
       "71135        wagon              2005    auto    224        a6     150000   \n",
       "216002         suv              1999    auto    218  m_klasse     150000   \n",
       "64268          suv              2006    auto    152       rav     150000   \n",
       "156850       small              2006  manual     60        c2     125000   \n",
       "\n",
       "        FuelType          Brand NotRepaired PostalCode  \n",
       "87034   gasoline           audi          no      30900  \n",
       "71135   gasoline           audi          no      57399  \n",
       "216002       lpg  mercedes_benz          no      44894  \n",
       "64268     petrol         toyota          no       1157  \n",
       "156850    petrol        citroen         yes      15366  "
      ]
     },
     "execution_count": 29,
     "metadata": {},
     "output_type": "execute_result"
    }
   ],
   "source": [
    "features_train.head()"
   ]
  },
  {
   "cell_type": "markdown",
   "metadata": {},
   "source": [
    "Для моделей деревьев закодируем категориальные признаки для прямого кодирования (OHE) и категориальные признаки для порядкового кодирования."
   ]
  },
  {
   "cell_type": "code",
   "execution_count": 30,
   "metadata": {
    "scrolled": false
   },
   "outputs": [],
   "source": [
    "ohe = ['NotRepaired', 'Gearbox']\n",
    "ordinal = ['VehicleType', 'Model', 'Brand','FuelType', 'PostalCode']\n",
    "\n",
    "features_train_ohe = pd.get_dummies(df_train[ohe], drop_first=True)\n",
    "features_test_ohe = pd.get_dummies(df_test[ohe], drop_first=True)\n",
    "\n",
    "encoder = OrdinalEncoder()\n",
    "\n",
    "features_train_ordinal = pd.DataFrame(encoder.fit_transform(df[ordinal]), columns=df[ordinal].columns)\n",
    "features_test_ordinal = pd.DataFrame(encoder.fit_transform(df[ordinal]), columns=df[ordinal].columns)\n",
    "\n",
    "features_train_tree = features_train[numeric].join(features_train_ordinal).join(features_train_ohe)\n",
    "features_test_tree = features_test[numeric].join(features_test_ordinal).join(features_test_ohe)"
   ]
  },
  {
   "cell_type": "code",
   "execution_count": 31,
   "metadata": {},
   "outputs": [
    {
     "data": {
      "text/html": [
       "<div>\n",
       "<style scoped>\n",
       "    .dataframe tbody tr th:only-of-type {\n",
       "        vertical-align: middle;\n",
       "    }\n",
       "\n",
       "    .dataframe tbody tr th {\n",
       "        vertical-align: top;\n",
       "    }\n",
       "\n",
       "    .dataframe thead th {\n",
       "        text-align: right;\n",
       "    }\n",
       "</style>\n",
       "<table border=\"1\" class=\"dataframe\">\n",
       "  <thead>\n",
       "    <tr style=\"text-align: right;\">\n",
       "      <th></th>\n",
       "      <th>RegistrationYear</th>\n",
       "      <th>Power</th>\n",
       "      <th>Kilometer</th>\n",
       "      <th>VehicleType</th>\n",
       "      <th>Model</th>\n",
       "      <th>Brand</th>\n",
       "      <th>FuelType</th>\n",
       "      <th>PostalCode</th>\n",
       "      <th>NotRepaired_yes</th>\n",
       "      <th>Gearbox_manual</th>\n",
       "      <th>Gearbox_other</th>\n",
       "    </tr>\n",
       "  </thead>\n",
       "  <tbody>\n",
       "    <tr>\n",
       "      <th>87034</th>\n",
       "      <td>2006</td>\n",
       "      <td>180</td>\n",
       "      <td>150000</td>\n",
       "      <td>4.0</td>\n",
       "      <td>31.0</td>\n",
       "      <td>1.0</td>\n",
       "      <td>2.0</td>\n",
       "      <td>2149.0</td>\n",
       "      <td>0</td>\n",
       "      <td>1</td>\n",
       "      <td>0</td>\n",
       "    </tr>\n",
       "    <tr>\n",
       "      <th>71135</th>\n",
       "      <td>2005</td>\n",
       "      <td>224</td>\n",
       "      <td>150000</td>\n",
       "      <td>7.0</td>\n",
       "      <td>31.0</td>\n",
       "      <td>1.0</td>\n",
       "      <td>2.0</td>\n",
       "      <td>4034.0</td>\n",
       "      <td>0</td>\n",
       "      <td>0</td>\n",
       "      <td>0</td>\n",
       "    </tr>\n",
       "    <tr>\n",
       "      <th>216002</th>\n",
       "      <td>1999</td>\n",
       "      <td>218</td>\n",
       "      <td>150000</td>\n",
       "      <td>6.0</td>\n",
       "      <td>145.0</td>\n",
       "      <td>20.0</td>\n",
       "      <td>4.0</td>\n",
       "      <td>3123.0</td>\n",
       "      <td>0</td>\n",
       "      <td>0</td>\n",
       "      <td>0</td>\n",
       "    </tr>\n",
       "    <tr>\n",
       "      <th>64268</th>\n",
       "      <td>2006</td>\n",
       "      <td>152</td>\n",
       "      <td>150000</td>\n",
       "      <td>6.0</td>\n",
       "      <td>186.0</td>\n",
       "      <td>36.0</td>\n",
       "      <td>6.0</td>\n",
       "      <td>11.0</td>\n",
       "      <td>0</td>\n",
       "      <td>0</td>\n",
       "      <td>0</td>\n",
       "    </tr>\n",
       "    <tr>\n",
       "      <th>156850</th>\n",
       "      <td>2006</td>\n",
       "      <td>60</td>\n",
       "      <td>125000</td>\n",
       "      <td>5.0</td>\n",
       "      <td>55.0</td>\n",
       "      <td>5.0</td>\n",
       "      <td>6.0</td>\n",
       "      <td>887.0</td>\n",
       "      <td>1</td>\n",
       "      <td>1</td>\n",
       "      <td>0</td>\n",
       "    </tr>\n",
       "  </tbody>\n",
       "</table>\n",
       "</div>"
      ],
      "text/plain": [
       "        RegistrationYear  Power  Kilometer  VehicleType  Model  Brand  \\\n",
       "87034               2006    180     150000          4.0   31.0    1.0   \n",
       "71135               2005    224     150000          7.0   31.0    1.0   \n",
       "216002              1999    218     150000          6.0  145.0   20.0   \n",
       "64268               2006    152     150000          6.0  186.0   36.0   \n",
       "156850              2006     60     125000          5.0   55.0    5.0   \n",
       "\n",
       "        FuelType  PostalCode  NotRepaired_yes  Gearbox_manual  Gearbox_other  \n",
       "87034        2.0      2149.0                0               1              0  \n",
       "71135        2.0      4034.0                0               0              0  \n",
       "216002       4.0      3123.0                0               0              0  \n",
       "64268        6.0        11.0                0               0              0  \n",
       "156850       6.0       887.0                1               1              0  "
      ]
     },
     "execution_count": 31,
     "metadata": {},
     "output_type": "execute_result"
    }
   ],
   "source": [
    "features_train_tree.head()"
   ]
  },
  {
   "cell_type": "markdown",
   "metadata": {},
   "source": [
    "Смаштабируем числовые признаки и категориальные признаки порядкового кодирования"
   ]
  },
  {
   "cell_type": "code",
   "execution_count": 32,
   "metadata": {},
   "outputs": [],
   "source": [
    "#отметим числовые признаки\n",
    "numeric_skaler = ['RegistrationYear', 'Power', 'Kilometer', 'PostalCode', 'VehicleType', 'Model', 'Brand', 'FuelType']\n",
    "\n",
    "scaler = StandardScaler()\n",
    "scaler.fit(features_train_tree[numeric_skaler])\n",
    "#pd.options.mode.chained_assignment = None #Отключаем предупреждение\n",
    "features_train_LR = features_train_tree\n",
    "features_test_LR = features_test_tree\n",
    "features_train_LR[numeric_skaler] = scaler.transform(features_train_tree[numeric_skaler])\n",
    "features_test_LR[numeric_skaler] = scaler.transform(features_test_tree[numeric_skaler])\n"
   ]
  },
  {
   "cell_type": "code",
   "execution_count": 33,
   "metadata": {
    "scrolled": true
   },
   "outputs": [
    {
     "data": {
      "text/html": [
       "<div>\n",
       "<style scoped>\n",
       "    .dataframe tbody tr th:only-of-type {\n",
       "        vertical-align: middle;\n",
       "    }\n",
       "\n",
       "    .dataframe tbody tr th {\n",
       "        vertical-align: top;\n",
       "    }\n",
       "\n",
       "    .dataframe thead th {\n",
       "        text-align: right;\n",
       "    }\n",
       "</style>\n",
       "<table border=\"1\" class=\"dataframe\">\n",
       "  <thead>\n",
       "    <tr style=\"text-align: right;\">\n",
       "      <th></th>\n",
       "      <th>RegistrationYear</th>\n",
       "      <th>Power</th>\n",
       "      <th>Kilometer</th>\n",
       "      <th>VehicleType</th>\n",
       "      <th>Model</th>\n",
       "      <th>Brand</th>\n",
       "      <th>FuelType</th>\n",
       "      <th>PostalCode</th>\n",
       "      <th>NotRepaired_yes</th>\n",
       "      <th>Gearbox_manual</th>\n",
       "      <th>Gearbox_other</th>\n",
       "    </tr>\n",
       "  </thead>\n",
       "  <tbody>\n",
       "    <tr>\n",
       "      <th>87034</th>\n",
       "      <td>0.394418</td>\n",
       "      <td>1.119390</td>\n",
       "      <td>0.582723</td>\n",
       "      <td>-0.087007</td>\n",
       "      <td>-1.135053</td>\n",
       "      <td>-1.478426</td>\n",
       "      <td>-1.524515</td>\n",
       "      <td>-0.738625</td>\n",
       "      <td>0</td>\n",
       "      <td>1</td>\n",
       "      <td>0</td>\n",
       "    </tr>\n",
       "    <tr>\n",
       "      <th>71135</th>\n",
       "      <td>0.249895</td>\n",
       "      <td>1.942888</td>\n",
       "      <td>0.582723</td>\n",
       "      <td>1.369479</td>\n",
       "      <td>-1.135053</td>\n",
       "      <td>-1.478426</td>\n",
       "      <td>-1.524515</td>\n",
       "      <td>0.193656</td>\n",
       "      <td>0</td>\n",
       "      <td>0</td>\n",
       "      <td>0</td>\n",
       "    </tr>\n",
       "    <tr>\n",
       "      <th>216002</th>\n",
       "      <td>-0.617244</td>\n",
       "      <td>1.830593</td>\n",
       "      <td>0.582723</td>\n",
       "      <td>0.883983</td>\n",
       "      <td>0.493756</td>\n",
       "      <td>-0.059340</td>\n",
       "      <td>-0.409008</td>\n",
       "      <td>-0.256905</td>\n",
       "      <td>0</td>\n",
       "      <td>0</td>\n",
       "      <td>0</td>\n",
       "    </tr>\n",
       "    <tr>\n",
       "      <th>64268</th>\n",
       "      <td>0.394418</td>\n",
       "      <td>0.595346</td>\n",
       "      <td>0.582723</td>\n",
       "      <td>0.883983</td>\n",
       "      <td>1.079555</td>\n",
       "      <td>1.135679</td>\n",
       "      <td>0.706499</td>\n",
       "      <td>-1.796034</td>\n",
       "      <td>0</td>\n",
       "      <td>0</td>\n",
       "      <td>0</td>\n",
       "    </tr>\n",
       "    <tr>\n",
       "      <th>156850</th>\n",
       "      <td>0.394418</td>\n",
       "      <td>-1.126512</td>\n",
       "      <td>-0.098964</td>\n",
       "      <td>0.398488</td>\n",
       "      <td>-0.792146</td>\n",
       "      <td>-1.179671</td>\n",
       "      <td>0.706499</td>\n",
       "      <td>-1.362783</td>\n",
       "      <td>1</td>\n",
       "      <td>1</td>\n",
       "      <td>0</td>\n",
       "    </tr>\n",
       "  </tbody>\n",
       "</table>\n",
       "</div>"
      ],
      "text/plain": [
       "        RegistrationYear     Power  Kilometer  VehicleType     Model  \\\n",
       "87034           0.394418  1.119390   0.582723    -0.087007 -1.135053   \n",
       "71135           0.249895  1.942888   0.582723     1.369479 -1.135053   \n",
       "216002         -0.617244  1.830593   0.582723     0.883983  0.493756   \n",
       "64268           0.394418  0.595346   0.582723     0.883983  1.079555   \n",
       "156850          0.394418 -1.126512  -0.098964     0.398488 -0.792146   \n",
       "\n",
       "           Brand  FuelType  PostalCode  NotRepaired_yes  Gearbox_manual  \\\n",
       "87034  -1.478426 -1.524515   -0.738625                0               1   \n",
       "71135  -1.478426 -1.524515    0.193656                0               0   \n",
       "216002 -0.059340 -0.409008   -0.256905                0               0   \n",
       "64268   1.135679  0.706499   -1.796034                0               0   \n",
       "156850 -1.179671  0.706499   -1.362783                1               1   \n",
       "\n",
       "        Gearbox_other  \n",
       "87034               0  \n",
       "71135               0  \n",
       "216002              0  \n",
       "64268               0  \n",
       "156850              0  "
      ]
     },
     "execution_count": 33,
     "metadata": {},
     "output_type": "execute_result"
    }
   ],
   "source": [
    "features_train_LR.head()"
   ]
  },
  {
   "cell_type": "markdown",
   "metadata": {},
   "source": [
    "## Обучение моделей"
   ]
  },
  {
   "cell_type": "code",
   "execution_count": 34,
   "metadata": {},
   "outputs": [],
   "source": [
    "# дипазон параметров для перебора\n",
    "parametrs_DTR = { 'max_depth': range (10,20),\n",
    "                  'min_samples_leaf': range (1,6),\n",
    "                  'min_samples_split': range (2,6,2) }\n",
    " \n",
    "parametrs_RFR = { 'n_estimators': range (5,15,5),\n",
    "                  'max_depth': range (15,25,2),\n",
    "                  'min_samples_leaf': range (2,6,2),\n",
    "                  'min_samples_split': range (2,6,2) }\n",
    "\n",
    "parametrs_LR = {}\n",
    "\n",
    "parametrs_LGBMR = {'max_depth': range (1,15,2),\n",
    "                   'n_estimators': range (5,15,5),\n",
    "                   'num_leaves': range (2,6,2)}"
   ]
  },
  {
   "cell_type": "code",
   "execution_count": 35,
   "metadata": {},
   "outputs": [],
   "source": [
    "# подбираем гиперпараметры кроссвалидацией\n",
    "def model_learn(model_name, param, x, y):\n",
    "   # warnings.filterwarnings(\"ignore\", category=sklearn.exceptions.UndefinedMetricWarning)\n",
    "    tic = time.perf_counter()\n",
    "    model = GridSearchCV(model_name, param, scoring=RMSE_scorer, cv=3, n_jobs=-1)\n",
    "    model.fit(x, y)\n",
    "    tac = round(time.perf_counter() - tic, 2)\n",
    "    print('Время обучения', tac, 'секунд')\n",
    "    return model, tac"
   ]
  },
  {
   "cell_type": "markdown",
   "metadata": {},
   "source": [
    "Так как у нас старая версия sklearn в которой нет метрики RMSE сосздадим её из MSE."
   ]
  },
  {
   "cell_type": "code",
   "execution_count": 36,
   "metadata": {},
   "outputs": [],
   "source": [
    "def RMSE_score(y_true, y_pred):\n",
    "    RMSE = mean_squared_error(y_true, y_pred) ** 0.5\n",
    "    return RMSE\n",
    "\n",
    "RMSE_scorer = make_scorer(RMSE_score, greater_is_better=False)"
   ]
  },
  {
   "cell_type": "code",
   "execution_count": 37,
   "metadata": {},
   "outputs": [
    {
     "data": {
      "text/plain": [
       "0.0"
      ]
     },
     "execution_count": 37,
     "metadata": {},
     "output_type": "execute_result"
    }
   ],
   "source": [
    "# Тест метрики\n",
    "true = pd.DataFrame([1, -6, 11, 0])\n",
    "pred = pd.DataFrame([1, -6, 11, 0])\n",
    "RMSE_score(true, pred)"
   ]
  },
  {
   "cell_type": "markdown",
   "metadata": {},
   "source": [
    "Подбираем гиперпараметры для одиночного дерева"
   ]
  },
  {
   "cell_type": "code",
   "execution_count": 38,
   "metadata": {},
   "outputs": [
    {
     "name": "stdout",
     "output_type": "stream",
     "text": [
      "Время обучения 38.13 секунд\n",
      "Лучшие параметры для DecisionTreeRegressor: {'max_depth': 15, 'min_samples_leaf': 5, 'min_samples_split': 2}\n",
      "Лучшая оценка RMSE: -1997.9756101159926\n",
      "Wall time: 38.1 s\n"
     ]
    }
   ],
   "source": [
    "%%time\n",
    "model_DTR = DecisionTreeRegressor(random_state=123)\n",
    "best_DTR = model_learn(model_DTR, parametrs_DTR, features_train_tree, target_train)\n",
    "print(\"Лучшие параметры для DecisionTreeRegressor:\", best_DTR[0].best_params_)\n",
    "print('Лучшая оценка RMSE:',  best_DTR[0].best_score_)"
   ]
  },
  {
   "cell_type": "markdown",
   "metadata": {},
   "source": [
    "Подбираем гиперпараметры для случайного леса"
   ]
  },
  {
   "cell_type": "code",
   "execution_count": 39,
   "metadata": {
    "scrolled": true
   },
   "outputs": [
    {
     "name": "stdout",
     "output_type": "stream",
     "text": [
      "Время обучения 79.55 секунд\n",
      "Лучшие параметры для RandomForestRegressor: {'max_depth': 19, 'min_samples_leaf': 2, 'min_samples_split': 2, 'n_estimators': 10}\n",
      "Лучшая оценка RMSE: -1781.9826377897273\n",
      "Wall time: 1min 19s\n"
     ]
    }
   ],
   "source": [
    "%%time\n",
    "model_RFR = RandomForestRegressor(random_state=123)\n",
    "best_RFR = model_learn(model_RFR, parametrs_RFR, features_train_tree, target_train)\n",
    "print(\"Лучшие параметры для RandomForestRegressor:\", best_RFR[0].best_params_)\n",
    "print('Лучшая оценка RMSE:',  best_RFR[0].best_score_ )"
   ]
  },
  {
   "cell_type": "markdown",
   "metadata": {},
   "source": [
    "Для линейной регресси нечего подбирать. Тут просто повторяется механизм кросвалидации."
   ]
  },
  {
   "cell_type": "code",
   "execution_count": 40,
   "metadata": {},
   "outputs": [
    {
     "name": "stdout",
     "output_type": "stream",
     "text": [
      "Время обучения 0.32 секунд\n",
      "Лучшие параметры для LinearRegression: {}\n",
      "Лучшая оценка RMSE: -3020.618804892116\n",
      "Wall time: 322 ms\n"
     ]
    }
   ],
   "source": [
    "%%time\n",
    "model_LR = LinearRegression()\n",
    "best_LR = model_learn(model_LR, parametrs_LR, features_train_LR, target_train)\n",
    "print(\"Лучшие параметры для LinearRegression:\", best_LR[0].best_params_)\n",
    "print('Лучшая оценка RMSE:',  best_LR[0].best_score_ )"
   ]
  },
  {
   "cell_type": "markdown",
   "metadata": {},
   "source": [
    "Подбираем гиперпараметры для градиентного бустинга"
   ]
  },
  {
   "cell_type": "code",
   "execution_count": 41,
   "metadata": {},
   "outputs": [
    {
     "name": "stdout",
     "output_type": "stream",
     "text": [
      "Время обучения 6.96 секунд\n",
      "Лучшие параметры для LGBMRegressor: {'max_depth': 3, 'n_estimators': 10, 'num_leaves': 4}\n",
      "Лучшая оценка RMSE: -3232.1114442590183\n",
      "Wall time: 6.96 s\n"
     ]
    }
   ],
   "source": [
    "%%time\n",
    "model_LGBMR = LGBMRegressor(random_state=123)\n",
    "best_LGBMR = model_learn(model_LGBMR, parametrs_LGBMR, features_train, target_train)\n",
    "print(\"Лучшие параметры для LGBMRegressor:\", best_LGBMR[0].best_params_)\n",
    "print('Лучшая оценка RMSE:',  best_LGBMR[0].best_score_ )"
   ]
  },
  {
   "cell_type": "markdown",
   "metadata": {},
   "source": [
    "### Итоги обучения с подбором параметров "
   ]
  },
  {
   "cell_type": "code",
   "execution_count": 42,
   "metadata": {},
   "outputs": [
    {
     "data": {
      "text/html": [
       "<div>\n",
       "<style scoped>\n",
       "    .dataframe tbody tr th:only-of-type {\n",
       "        vertical-align: middle;\n",
       "    }\n",
       "\n",
       "    .dataframe tbody tr th {\n",
       "        vertical-align: top;\n",
       "    }\n",
       "\n",
       "    .dataframe thead th {\n",
       "        text-align: right;\n",
       "    }\n",
       "</style>\n",
       "<table border=\"1\" class=\"dataframe\">\n",
       "  <thead>\n",
       "    <tr style=\"text-align: right;\">\n",
       "      <th></th>\n",
       "      <th>Модель</th>\n",
       "      <th>RMSE</th>\n",
       "      <th>Время подбора парамтров, сек</th>\n",
       "    </tr>\n",
       "  </thead>\n",
       "  <tbody>\n",
       "    <tr>\n",
       "      <th>0</th>\n",
       "      <td>Решающее дерево</td>\n",
       "      <td>-1997.975610</td>\n",
       "      <td>38.13</td>\n",
       "    </tr>\n",
       "    <tr>\n",
       "      <th>1</th>\n",
       "      <td>Случайный лес</td>\n",
       "      <td>-1781.982638</td>\n",
       "      <td>79.55</td>\n",
       "    </tr>\n",
       "    <tr>\n",
       "      <th>2</th>\n",
       "      <td>Регрессия</td>\n",
       "      <td>-3020.618805</td>\n",
       "      <td>0.32</td>\n",
       "    </tr>\n",
       "    <tr>\n",
       "      <th>3</th>\n",
       "      <td>Градиентный бустинг</td>\n",
       "      <td>-3232.111444</td>\n",
       "      <td>6.96</td>\n",
       "    </tr>\n",
       "  </tbody>\n",
       "</table>\n",
       "</div>"
      ],
      "text/plain": [
       "                Модель         RMSE  Время подбора парамтров, сек\n",
       "0      Решающее дерево -1997.975610                         38.13\n",
       "1        Случайный лес -1781.982638                         79.55\n",
       "2            Регрессия -3020.618805                          0.32\n",
       "3  Градиентный бустинг -3232.111444                          6.96"
      ]
     },
     "execution_count": 42,
     "metadata": {},
     "output_type": "execute_result"
    }
   ],
   "source": [
    "pd.DataFrame({'Модель': ['Решающее дерево', 'Случайный лес', 'Регрессия', 'Градиентный бустинг'],\n",
    "               'RMSE' : [best_DTR[0].best_score_, best_RFR[0].best_score_, best_LR[0].best_score_, best_LGBMR[0].best_score_],\n",
    "              'Время подбора парамтров, сек' : [best_DTR[1], best_RFR[1], best_LR[1], best_LGBMR[1]]})"
   ]
  },
  {
   "cell_type": "markdown",
   "metadata": {},
   "source": [
    "## Анализ моделей"
   ]
  },
  {
   "cell_type": "markdown",
   "metadata": {},
   "source": [
    "Проверим модели на тестовой выборке"
   ]
  },
  {
   "cell_type": "code",
   "execution_count": 43,
   "metadata": {},
   "outputs": [],
   "source": [
    "best_models = [[best_DTR[0].best_estimator_, 'DecisionTreeRegressor', features_train_tree, features_test_tree],\n",
    "              [best_RFR[0].best_estimator_, 'RandomForestRegressor', features_train_tree, features_test_tree],\n",
    "              [best_LR[0].best_estimator_, 'LinearRegression', features_train_LR, features_test_LR],\n",
    "              [best_LGBMR[0].best_estimator_, 'LGBMRegressor', features_train, features_test]]"
   ]
  },
  {
   "cell_type": "code",
   "execution_count": 44,
   "metadata": {},
   "outputs": [
    {
     "name": "stdout",
     "output_type": "stream",
     "text": [
      "RMSE для DecisionTreeRegressor на тестовой выборке: 1920 Время предсказания 0.012 секунд\n",
      "RMSE для RandomForestRegressor на тестовой выборке: 1738 Время предсказания 0.117 секунд\n",
      "RMSE для LinearRegression на тестовой выборке: 3023 Время предсказания 0.003 секунд\n",
      "RMSE для LGBMRegressor на тестовой выборке: 3232 Время предсказания 0.021 секунд\n"
     ]
    }
   ],
   "source": [
    "tuc_fit = []\n",
    "tac_pred = []\n",
    "RMSE_test = []\n",
    "for best_model, model_name, x_train, x_test in best_models:\n",
    "    toc = time.perf_counter()\n",
    "    best_model.fit(x_train, target_train)\n",
    "    tuc = round(time.perf_counter() - toc, 3)\n",
    "    tic = time.perf_counter()\n",
    "    predictions_test = best_model.predict(x_test)\n",
    "    tac = round(time.perf_counter() - tic, 3)\n",
    "    RMSE = round(RMSE_score(target_test, predictions_test))\n",
    "    print('RMSE для', model_name, 'на тестовой выборке:', RMSE, 'Время предсказания', tac, 'секунд')\n",
    "    tuc_fit.append(tuc)\n",
    "    tac_pred.append(tac)\n",
    "    RMSE_test.append(RMSE)\n",
    "    "
   ]
  },
  {
   "cell_type": "markdown",
   "metadata": {},
   "source": [
    "Проверим модели на адекватность в сравнении с константной моделью."
   ]
  },
  {
   "cell_type": "code",
   "execution_count": 45,
   "metadata": {},
   "outputs": [
    {
     "name": "stdout",
     "output_type": "stream",
     "text": [
      "RMSE для константы на обучающей выборке 4590\n"
     ]
    }
   ],
   "source": [
    "dummy_regr = DummyRegressor(strategy=\"mean\")\n",
    "dummy_regr.fit(features_train, target_train)\n",
    "predictions_dummy = dummy_regr.predict(features_train)\n",
    "RMSE = round(RMSE_score(target_train, predictions_dummy))\n",
    "print(\"RMSE для константы на обучающей выборке\", RMSE)"
   ]
  },
  {
   "cell_type": "code",
   "execution_count": 46,
   "metadata": {},
   "outputs": [
    {
     "name": "stdout",
     "output_type": "stream",
     "text": [
      "RMSE для константы на тестовой выборке 4587\n"
     ]
    }
   ],
   "source": [
    "dummy_regr = DummyRegressor(strategy=\"mean\")\n",
    "dummy_regr.fit(features_test, target_test)\n",
    "predictions_dummy = dummy_regr.predict(features_test)\n",
    "RMSE = round(RMSE_score(target_test, predictions_dummy))\n",
    "print(\"RMSE для константы на тестовой выборке\", RMSE)"
   ]
  },
  {
   "cell_type": "markdown",
   "metadata": {},
   "source": [
    "Посмотрим важность признаков"
   ]
  },
  {
   "cell_type": "code",
   "execution_count": 47,
   "metadata": {},
   "outputs": [
    {
     "data": {
      "text/plain": [
       "<AxesSubplot:title={'center':'Важность признаков'}, ylabel='feature'>"
      ]
     },
     "execution_count": 47,
     "metadata": {},
     "output_type": "execute_result"
    },
    {
     "data": {
      "image/png": "[encoded data removed]",
      "text/plain": [
       "<Figure size 432x288 with 1 Axes>"
      ]
     },
     "metadata": {
      "needs_background": "light"
     },
     "output_type": "display_data"
    }
   ],
   "source": [
    "# model is the trained model\n",
    "importances = best_LGBMR[0].best_estimator_.feature_importances_\n",
    "\n",
    "# train_features is the dataframe of training features\n",
    "feature_list = list(features_train.columns)\n",
    "\n",
    "# Extract the feature importances into a dataframe\n",
    "feature_results = pd.DataFrame({'feature': feature_list,'importance': importances})\n",
    "\n",
    "# Show the top most important\n",
    "feature_results = feature_results.sort_values('importance',ascending = False).reset_index(drop=True)\n",
    "\n",
    "feature_results.plot(x='feature', y='importance',  kind = 'barh', title='Важность признаков' )"
   ]
  },
  {
   "cell_type": "markdown",
   "metadata": {},
   "source": [
    "## Вывод"
   ]
  },
  {
   "cell_type": "code",
   "execution_count": 48,
   "metadata": {},
   "outputs": [
    {
     "data": {
      "text/html": [
       "<div>\n",
       "<style scoped>\n",
       "    .dataframe tbody tr th:only-of-type {\n",
       "        vertical-align: middle;\n",
       "    }\n",
       "\n",
       "    .dataframe tbody tr th {\n",
       "        vertical-align: top;\n",
       "    }\n",
       "\n",
       "    .dataframe thead th {\n",
       "        text-align: right;\n",
       "    }\n",
       "</style>\n",
       "<table border=\"1\" class=\"dataframe\">\n",
       "  <thead>\n",
       "    <tr style=\"text-align: right;\">\n",
       "      <th></th>\n",
       "      <th>Модель</th>\n",
       "      <th>RMSE на обучающей выборке</th>\n",
       "      <th>RMSE на тестовой выборке</th>\n",
       "      <th>Время подбора, сек</th>\n",
       "      <th>Время обучения, сек</th>\n",
       "      <th>Время предсказания, сек</th>\n",
       "    </tr>\n",
       "  </thead>\n",
       "  <tbody>\n",
       "    <tr>\n",
       "      <th>0</th>\n",
       "      <td>Решающее дерево</td>\n",
       "      <td>1997.975610</td>\n",
       "      <td>1920</td>\n",
       "      <td>38.13</td>\n",
       "      <td>0.816</td>\n",
       "      <td>0.012</td>\n",
       "    </tr>\n",
       "    <tr>\n",
       "      <th>1</th>\n",
       "      <td>Случайный лес</td>\n",
       "      <td>1781.982638</td>\n",
       "      <td>1738</td>\n",
       "      <td>79.55</td>\n",
       "      <td>6.075</td>\n",
       "      <td>0.117</td>\n",
       "    </tr>\n",
       "    <tr>\n",
       "      <th>2</th>\n",
       "      <td>Регрессия</td>\n",
       "      <td>3020.618805</td>\n",
       "      <td>3023</td>\n",
       "      <td>0.32</td>\n",
       "      <td>0.038</td>\n",
       "      <td>0.003</td>\n",
       "    </tr>\n",
       "    <tr>\n",
       "      <th>3</th>\n",
       "      <td>Градиентный бустинг</td>\n",
       "      <td>3232.111444</td>\n",
       "      <td>3232</td>\n",
       "      <td>6.96</td>\n",
       "      <td>0.188</td>\n",
       "      <td>0.021</td>\n",
       "    </tr>\n",
       "  </tbody>\n",
       "</table>\n",
       "</div>"
      ],
      "text/plain": [
       "                Модель  RMSE на обучающей выборке  RMSE на тестовой выборке  \\\n",
       "0      Решающее дерево                1997.975610                      1920   \n",
       "1        Случайный лес                1781.982638                      1738   \n",
       "2            Регрессия                3020.618805                      3023   \n",
       "3  Градиентный бустинг                3232.111444                      3232   \n",
       "\n",
       "   Время подбора, сек  Время обучения, сек  Время предсказания, сек  \n",
       "0               38.13                0.816                    0.012  \n",
       "1               79.55                6.075                    0.117  \n",
       "2                0.32                0.038                    0.003  \n",
       "3                6.96                0.188                    0.021  "
      ]
     },
     "execution_count": 48,
     "metadata": {},
     "output_type": "execute_result"
    }
   ],
   "source": [
    "pd.DataFrame({'Модель'       : ['Решающее дерево', 'Случайный лес', 'Регрессия', 'Градиентный бустинг'],\n",
    " 'RMSE на обучающей выборке' : [abs(best_DTR[0].best_score_), abs(best_RFR[0].best_score_), abs(best_LR[0].best_score_), abs(best_LGBMR[0].best_score_)],\n",
    " 'RMSE на тестовой выборке'  : RMSE_test,\n",
    " 'Время подбора, сек'        : [best_DTR[1], best_RFR[1], best_LR[1], best_LGBMR[1]],\n",
    " 'Время обучения, сек'       : tuc_fit,\n",
    " 'Время предсказания, сек'   : tac_pred})\n"
   ]
  },
  {
   "cell_type": "markdown",
   "metadata": {},
   "source": [
    "Самая быстрая модель - линейная регрессия. Она значительно быстрее всех моделей и не  требует подбора параметров. По качеству на ~30 % уступает деревиям. Градиентый бустинг показал качество чуть хуже линейнй регрессии, а скорость сопоставимую с деревьями. Все модели прошли проверку на адекватность, показав метрику значитьльно лучше чем константная модель. Из выделенных признаков наибольшую значимость имеют: год регистрации, мощность двигателя, пробег, тип кузова и брэнд. Остальные признаки имеют околонулевую значимость. Их можно удалить несильно потеряв в качестве(<5%),  но сильно увеличив скорость работы(в 3 раза). Исходя из результатов обучения и анализа для данной задачи можно рекомендовать модель Линейной регрессии."
   ]
  },
  {
   "cell_type": "markdown",
   "metadata": {},
   "source": [
    "## Чек-лист проверки"
   ]
  },
  {
   "cell_type": "markdown",
   "metadata": {},
   "source": [
    "Поставьте 'x' в выполненных пунктах. Далее нажмите Shift+Enter."
   ]
  },
  {
   "cell_type": "markdown",
   "metadata": {},
   "source": [
    "- [x]  Jupyter Notebook открыт\n",
    "- [x]  Весь код выполняется без ошибок\n",
    "- [x]  Ячейки с кодом расположены в порядке исполнения\n",
    "- [x]  Выполнена загрузка и подготовка данных\n",
    "- [x]  Выполнено обучение моделей\n",
    "- [x]  Есть анализ скорости работы и качества моделей"
   ]
  },
  {
   "cell_type": "code",
   "execution_count": null,
   "metadata": {},
   "outputs": [],
   "source": []
  }
 ],
 "metadata": {
  "ExecuteTimeLog": [
   {
    "duration": 669,
    "start_time": "2021-11-06T13:30:50.033Z"
   },
   {
    "duration": 414,
    "start_time": "2021-11-06T13:30:50.704Z"
   },
   {
    "duration": 784,
    "start_time": "2021-11-06T13:31:33.333Z"
   },
   {
    "duration": 908,
    "start_time": "2021-11-06T13:31:36.245Z"
   },
   {
    "duration": 825,
    "start_time": "2021-11-06T13:31:44.101Z"
   },
   {
    "duration": 746,
    "start_time": "2021-11-06T13:32:04.310Z"
   },
   {
    "duration": 396,
    "start_time": "2021-11-06T13:33:52.645Z"
   },
   {
    "duration": 387,
    "start_time": "2021-11-06T13:35:02.004Z"
   },
   {
    "duration": 400,
    "start_time": "2021-11-06T13:35:58.614Z"
   },
   {
    "duration": 122,
    "start_time": "2021-11-06T13:36:59.491Z"
   },
   {
    "duration": 831,
    "start_time": "2021-11-06T13:37:57.091Z"
   },
   {
    "duration": 364,
    "start_time": "2021-11-06T13:52:24.192Z"
   },
   {
    "duration": 119,
    "start_time": "2021-11-06T13:52:32.401Z"
   },
   {
    "duration": 259,
    "start_time": "2021-11-06T17:25:23.859Z"
   },
   {
    "duration": 218,
    "start_time": "2021-11-06T17:26:22.521Z"
   },
   {
    "duration": 165,
    "start_time": "2021-11-06T17:27:08.432Z"
   },
   {
    "duration": 205,
    "start_time": "2021-11-06T17:28:21.144Z"
   },
   {
    "duration": 166,
    "start_time": "2021-11-06T17:28:27.543Z"
   },
   {
    "duration": 167,
    "start_time": "2021-11-06T17:28:50.704Z"
   },
   {
    "duration": 8818,
    "start_time": "2021-11-06T17:30:22.208Z"
   },
   {
    "duration": 217,
    "start_time": "2021-11-06T17:30:39.768Z"
   },
   {
    "duration": 354,
    "start_time": "2021-11-06T17:31:55.855Z"
   },
   {
    "duration": 123,
    "start_time": "2021-11-06T17:32:20.352Z"
   },
   {
    "duration": 150,
    "start_time": "2021-11-06T17:32:31.959Z"
   },
   {
    "duration": 372,
    "start_time": "2021-11-06T17:32:37.583Z"
   },
   {
    "duration": 152,
    "start_time": "2021-11-06T17:32:50.470Z"
   },
   {
    "duration": 112,
    "start_time": "2021-11-06T17:33:39.902Z"
   },
   {
    "duration": 325,
    "start_time": "2021-11-06T17:33:50.294Z"
   },
   {
    "duration": 603,
    "start_time": "2021-11-06T17:34:19.159Z"
   },
   {
    "duration": 39,
    "start_time": "2021-11-06T17:36:05.918Z"
   },
   {
    "duration": 930,
    "start_time": "2021-11-06T18:05:13.150Z"
   },
   {
    "duration": 56,
    "start_time": "2021-11-06T18:05:34.534Z"
   },
   {
    "duration": 1139,
    "start_time": "2021-11-06T18:34:50.676Z"
   },
   {
    "duration": 64,
    "start_time": "2021-11-06T18:35:27.939Z"
   },
   {
    "duration": 880,
    "start_time": "2021-11-06T18:35:45.026Z"
   },
   {
    "duration": 952,
    "start_time": "2021-11-06T18:38:15.131Z"
   },
   {
    "duration": 1323,
    "start_time": "2021-11-06T18:38:58.137Z"
   },
   {
    "duration": 1130,
    "start_time": "2021-11-06T18:39:09.425Z"
   },
   {
    "duration": 1257,
    "start_time": "2021-11-06T18:39:19.635Z"
   },
   {
    "duration": 1236,
    "start_time": "2021-11-06T18:39:34.178Z"
   },
   {
    "duration": 2021,
    "start_time": "2021-11-06T18:40:10.609Z"
   },
   {
    "duration": 1641,
    "start_time": "2021-11-06T18:43:55.912Z"
   },
   {
    "duration": 1862,
    "start_time": "2021-11-06T18:44:13.384Z"
   },
   {
    "duration": 1629,
    "start_time": "2021-11-06T18:44:31.216Z"
   },
   {
    "duration": 21,
    "start_time": "2021-11-06T21:53:57.094Z"
   },
   {
    "duration": 33,
    "start_time": "2021-11-06T21:54:38.254Z"
   },
   {
    "duration": 32,
    "start_time": "2021-11-06T21:55:09.815Z"
   },
   {
    "duration": 18,
    "start_time": "2021-11-06T21:56:37.901Z"
   },
   {
    "duration": 17,
    "start_time": "2021-11-06T21:56:52.086Z"
   },
   {
    "duration": 20,
    "start_time": "2021-11-06T21:57:10.782Z"
   },
   {
    "duration": 17,
    "start_time": "2021-11-06T21:57:14.054Z"
   },
   {
    "duration": 17,
    "start_time": "2021-11-06T21:57:17.906Z"
   },
   {
    "duration": 35,
    "start_time": "2021-11-06T21:57:17.924Z"
   },
   {
    "duration": 18,
    "start_time": "2021-11-06T21:57:18.686Z"
   },
   {
    "duration": 33,
    "start_time": "2021-11-06T21:58:09.998Z"
   },
   {
    "duration": 29,
    "start_time": "2021-11-06T21:58:10.422Z"
   },
   {
    "duration": 35,
    "start_time": "2021-11-06T22:01:04.405Z"
   },
   {
    "duration": 21,
    "start_time": "2021-11-06T22:01:24.301Z"
   },
   {
    "duration": 15,
    "start_time": "2021-11-06T22:01:57.381Z"
   },
   {
    "duration": 31204,
    "start_time": "2021-11-06T22:02:51.836Z"
   },
   {
    "duration": 356,
    "start_time": "2021-11-06T22:04:42.253Z"
   },
   {
    "duration": 359,
    "start_time": "2021-11-06T22:05:29.260Z"
   },
   {
    "duration": 4,
    "start_time": "2021-11-06T22:05:47.788Z"
   },
   {
    "duration": 370,
    "start_time": "2021-11-06T22:06:44.916Z"
   },
   {
    "duration": 374,
    "start_time": "2021-11-06T22:06:58.788Z"
   },
   {
    "duration": 20,
    "start_time": "2021-11-06T22:13:47.907Z"
   },
   {
    "duration": 21,
    "start_time": "2021-11-06T22:14:23.609Z"
   },
   {
    "duration": 64,
    "start_time": "2021-11-06T22:17:56.104Z"
   },
   {
    "duration": 4,
    "start_time": "2021-11-06T22:24:38.767Z"
   },
   {
    "duration": 6,
    "start_time": "2021-11-06T22:24:57.526Z"
   },
   {
    "duration": 4,
    "start_time": "2021-11-06T22:26:21.407Z"
   },
   {
    "duration": 4,
    "start_time": "2021-11-06T22:27:04.678Z"
   },
   {
    "duration": 120,
    "start_time": "2021-11-06T22:31:18.084Z"
   },
   {
    "duration": 23,
    "start_time": "2021-11-06T22:31:50.245Z"
   },
   {
    "duration": 4,
    "start_time": "2021-11-06T22:35:27.796Z"
   },
   {
    "duration": 5,
    "start_time": "2021-11-06T22:36:15.947Z"
   },
   {
    "duration": 121,
    "start_time": "2021-11-06T22:36:36.740Z"
   },
   {
    "duration": 147,
    "start_time": "2021-11-06T22:36:41.234Z"
   },
   {
    "duration": 123,
    "start_time": "2021-11-06T22:38:06.563Z"
   },
   {
    "duration": 148,
    "start_time": "2021-11-06T22:38:27.594Z"
   },
   {
    "duration": 23,
    "start_time": "2021-11-06T22:39:40.002Z"
   },
   {
    "duration": 21,
    "start_time": "2021-11-06T22:40:38.598Z"
   },
   {
    "duration": 34,
    "start_time": "2021-11-06T22:47:23.477Z"
   },
   {
    "duration": 21,
    "start_time": "2021-11-06T22:48:16.992Z"
   },
   {
    "duration": 19,
    "start_time": "2021-11-06T22:51:33.785Z"
   },
   {
    "duration": 34,
    "start_time": "2021-11-06T23:14:19.513Z"
   },
   {
    "duration": 38,
    "start_time": "2021-11-06T23:41:22.179Z"
   },
   {
    "duration": 35,
    "start_time": "2021-11-06T23:41:58.491Z"
   },
   {
    "duration": 34,
    "start_time": "2021-11-06T23:42:29.592Z"
   },
   {
    "duration": 27,
    "start_time": "2021-11-06T23:43:05.104Z"
   },
   {
    "duration": 25,
    "start_time": "2021-11-06T23:45:23.615Z"
   },
   {
    "duration": 25,
    "start_time": "2021-11-06T23:45:41.808Z"
   },
   {
    "duration": 335,
    "start_time": "2021-11-06T23:48:39.968Z"
   },
   {
    "duration": 34,
    "start_time": "2021-11-06T23:50:06.318Z"
   },
   {
    "duration": 31,
    "start_time": "2021-11-06T23:50:38.425Z"
   },
   {
    "duration": 27,
    "start_time": "2021-11-06T23:51:08.334Z"
   },
   {
    "duration": 359,
    "start_time": "2021-11-07T17:42:20.144Z"
   },
   {
    "duration": 752,
    "start_time": "2021-11-07T17:42:27.137Z"
   },
   {
    "duration": 1271,
    "start_time": "2021-11-07T17:42:27.892Z"
   },
   {
    "duration": 176,
    "start_time": "2021-11-07T17:42:29.166Z"
   },
   {
    "duration": 699,
    "start_time": "2021-11-07T17:42:29.346Z"
   },
   {
    "duration": 764,
    "start_time": "2021-11-07T17:42:30.048Z"
   },
   {
    "duration": 1458,
    "start_time": "2021-11-07T17:42:30.814Z"
   },
   {
    "duration": 170,
    "start_time": "2021-11-07T17:42:32.275Z"
   },
   {
    "duration": 46,
    "start_time": "2021-11-07T17:42:32.449Z"
   },
   {
    "duration": 47,
    "start_time": "2021-11-07T17:42:32.498Z"
   },
   {
    "duration": 47,
    "start_time": "2021-11-07T17:42:32.547Z"
   },
   {
    "duration": 47,
    "start_time": "2021-11-07T17:42:32.597Z"
   },
   {
    "duration": 76,
    "start_time": "2021-11-07T17:42:32.646Z"
   },
   {
    "duration": 27,
    "start_time": "2021-11-07T17:42:32.724Z"
   },
   {
    "duration": 89,
    "start_time": "2021-11-07T17:42:32.753Z"
   },
   {
    "duration": -838,
    "start_time": "2021-11-07T17:42:33.683Z"
   },
   {
    "duration": -839,
    "start_time": "2021-11-07T17:42:33.686Z"
   },
   {
    "duration": -839,
    "start_time": "2021-11-07T17:42:33.688Z"
   },
   {
    "duration": -846,
    "start_time": "2021-11-07T17:42:33.697Z"
   },
   {
    "duration": -846,
    "start_time": "2021-11-07T17:42:33.699Z"
   },
   {
    "duration": -845,
    "start_time": "2021-11-07T17:42:33.700Z"
   },
   {
    "duration": -844,
    "start_time": "2021-11-07T17:42:33.702Z"
   },
   {
    "duration": 28,
    "start_time": "2021-11-07T17:42:42.735Z"
   },
   {
    "duration": 44,
    "start_time": "2021-11-07T17:42:44.084Z"
   },
   {
    "duration": 260,
    "start_time": "2021-11-07T17:42:44.868Z"
   },
   {
    "duration": 3084,
    "start_time": "2021-11-07T17:42:49.781Z"
   },
   {
    "duration": 125,
    "start_time": "2021-11-07T17:42:52.869Z"
   },
   {
    "duration": 309,
    "start_time": "2021-11-07T17:43:00.040Z"
   },
   {
    "duration": 580,
    "start_time": "2021-11-07T17:43:35.485Z"
   },
   {
    "duration": 634,
    "start_time": "2021-11-07T17:43:53.828Z"
   },
   {
    "duration": 890,
    "start_time": "2021-11-07T17:44:56.132Z"
   },
   {
    "duration": 99,
    "start_time": "2021-11-07T17:45:06.276Z"
   },
   {
    "duration": 113,
    "start_time": "2021-11-07T17:45:12.723Z"
   },
   {
    "duration": 121,
    "start_time": "2021-11-07T17:45:36.526Z"
   },
   {
    "duration": 43,
    "start_time": "2021-11-07T17:45:56.068Z"
   },
   {
    "duration": 45,
    "start_time": "2021-11-07T17:47:53.796Z"
   },
   {
    "duration": 68,
    "start_time": "2021-11-07T17:49:41.245Z"
   },
   {
    "duration": 43,
    "start_time": "2021-11-07T17:52:18.635Z"
   },
   {
    "duration": 58,
    "start_time": "2021-11-07T17:54:09.772Z"
   },
   {
    "duration": 94,
    "start_time": "2021-11-07T17:54:33.802Z"
   },
   {
    "duration": 54,
    "start_time": "2021-11-07T17:54:44.850Z"
   },
   {
    "duration": 30603,
    "start_time": "2021-11-07T17:58:43.098Z"
   },
   {
    "duration": 13,
    "start_time": "2021-11-07T18:00:37.095Z"
   },
   {
    "duration": 41,
    "start_time": "2021-11-07T18:01:09.783Z"
   },
   {
    "duration": 68,
    "start_time": "2021-11-07T18:01:55.929Z"
   },
   {
    "duration": 31,
    "start_time": "2021-11-07T18:02:38.144Z"
   },
   {
    "duration": 36,
    "start_time": "2021-11-07T18:03:03.319Z"
   },
   {
    "duration": 32,
    "start_time": "2021-11-07T18:04:33.870Z"
   },
   {
    "duration": 41,
    "start_time": "2021-11-07T18:05:21.182Z"
   },
   {
    "duration": 32,
    "start_time": "2021-11-07T18:11:11.869Z"
   },
   {
    "duration": 30,
    "start_time": "2021-11-07T18:11:44.453Z"
   },
   {
    "duration": 28,
    "start_time": "2021-11-07T18:11:50.245Z"
   },
   {
    "duration": 30,
    "start_time": "2021-11-07T18:11:56.836Z"
   },
   {
    "duration": 65,
    "start_time": "2021-11-07T18:13:53.760Z"
   },
   {
    "duration": 61,
    "start_time": "2021-11-07T18:14:12.322Z"
   },
   {
    "duration": 13,
    "start_time": "2021-11-07T18:16:45.103Z"
   },
   {
    "duration": 3320,
    "start_time": "2021-11-07T18:20:24.091Z"
   },
   {
    "duration": 4,
    "start_time": "2021-11-07T18:20:50.891Z"
   },
   {
    "duration": 2776,
    "start_time": "2021-11-07T18:20:57.986Z"
   },
   {
    "duration": 93,
    "start_time": "2021-11-07T18:21:48.834Z"
   },
   {
    "duration": 1826,
    "start_time": "2021-11-07T18:22:12.099Z"
   },
   {
    "duration": 2822,
    "start_time": "2021-11-07T18:23:29.748Z"
   },
   {
    "duration": 372,
    "start_time": "2021-11-07T18:30:55.329Z"
   },
   {
    "duration": 137,
    "start_time": "2021-11-07T18:31:13.201Z"
   },
   {
    "duration": 167,
    "start_time": "2021-11-07T18:31:37.707Z"
   },
   {
    "duration": 16,
    "start_time": "2021-11-07T18:31:59.432Z"
   },
   {
    "duration": 115,
    "start_time": "2021-11-07T18:32:28.874Z"
   },
   {
    "duration": 17,
    "start_time": "2021-11-07T18:32:58.967Z"
   },
   {
    "duration": 6,
    "start_time": "2021-11-07T18:33:27.182Z"
   },
   {
    "duration": 296,
    "start_time": "2021-11-07T18:35:35.727Z"
   },
   {
    "duration": 15,
    "start_time": "2021-11-07T18:35:46.254Z"
   },
   {
    "duration": 112,
    "start_time": "2021-11-07T18:35:54.101Z"
   },
   {
    "duration": 118,
    "start_time": "2021-11-07T18:36:19.466Z"
   },
   {
    "duration": 277,
    "start_time": "2021-11-07T18:37:55.103Z"
   },
   {
    "duration": 236,
    "start_time": "2021-11-07T18:38:23.847Z"
   },
   {
    "duration": 2854,
    "start_time": "2021-11-07T18:38:56.277Z"
   },
   {
    "duration": 1253,
    "start_time": "2021-11-07T18:39:43.653Z"
   },
   {
    "duration": 1141,
    "start_time": "2021-11-07T18:40:00.529Z"
   },
   {
    "duration": 217,
    "start_time": "2021-11-07T18:40:32.093Z"
   },
   {
    "duration": 1129,
    "start_time": "2021-11-07T18:40:32.765Z"
   },
   {
    "duration": 217,
    "start_time": "2021-11-07T18:40:48.765Z"
   },
   {
    "duration": 2127,
    "start_time": "2021-11-07T18:40:49.500Z"
   },
   {
    "duration": 15,
    "start_time": "2021-11-07T18:41:15.591Z"
   },
   {
    "duration": 906,
    "start_time": "2021-11-07T18:41:26.603Z"
   },
   {
    "duration": 1166,
    "start_time": "2021-11-07T18:41:27.512Z"
   },
   {
    "duration": 171,
    "start_time": "2021-11-07T18:41:28.686Z"
   },
   {
    "duration": 674,
    "start_time": "2021-11-07T18:41:28.860Z"
   },
   {
    "duration": 719,
    "start_time": "2021-11-07T18:41:29.537Z"
   },
   {
    "duration": 1449,
    "start_time": "2021-11-07T18:41:30.258Z"
   },
   {
    "duration": 169,
    "start_time": "2021-11-07T18:41:31.711Z"
   },
   {
    "duration": 61,
    "start_time": "2021-11-07T18:41:31.883Z"
   },
   {
    "duration": 27,
    "start_time": "2021-11-07T18:41:31.947Z"
   },
   {
    "duration": 75,
    "start_time": "2021-11-07T18:41:31.977Z"
   },
   {
    "duration": 28,
    "start_time": "2021-11-07T18:41:32.055Z"
   },
   {
    "duration": 98,
    "start_time": "2021-11-07T18:41:32.086Z"
   },
   {
    "duration": 38,
    "start_time": "2021-11-07T18:41:32.187Z"
   },
   {
    "duration": 29,
    "start_time": "2021-11-07T18:41:32.228Z"
   },
   {
    "duration": 93,
    "start_time": "2021-11-07T18:41:32.260Z"
   },
   {
    "duration": 386,
    "start_time": "2021-11-07T18:41:32.356Z"
   },
   {
    "duration": 4268,
    "start_time": "2021-11-07T18:41:32.745Z"
   },
   {
    "duration": 120,
    "start_time": "2021-11-07T18:41:37.023Z"
   },
   {
    "duration": 47,
    "start_time": "2021-11-07T18:41:37.146Z"
   },
   {
    "duration": 56,
    "start_time": "2021-11-07T18:41:37.196Z"
   },
   {
    "duration": 17,
    "start_time": "2021-11-07T18:41:37.255Z"
   },
   {
    "duration": 301,
    "start_time": "2021-11-07T18:41:37.278Z"
   },
   {
    "duration": 1850,
    "start_time": "2021-11-07T18:41:37.582Z"
   },
   {
    "duration": 10,
    "start_time": "2021-11-07T19:01:00.768Z"
   },
   {
    "duration": 482,
    "start_time": "2021-11-07T19:01:23.151Z"
   },
   {
    "duration": 367,
    "start_time": "2021-11-07T19:02:46.792Z"
   },
   {
    "duration": 283,
    "start_time": "2021-11-07T19:03:09.103Z"
   },
   {
    "duration": 275,
    "start_time": "2021-11-07T19:05:21.606Z"
   },
   {
    "duration": 75,
    "start_time": "2021-11-07T19:05:30.280Z"
   },
   {
    "duration": 124,
    "start_time": "2021-11-07T19:05:41.174Z"
   },
   {
    "duration": 128,
    "start_time": "2021-11-07T19:06:36.878Z"
   },
   {
    "duration": 19,
    "start_time": "2021-11-07T19:07:29.109Z"
   },
   {
    "duration": 41,
    "start_time": "2021-11-07T19:13:52.412Z"
   },
   {
    "duration": 33,
    "start_time": "2021-11-07T19:14:01.371Z"
   },
   {
    "duration": 643,
    "start_time": "2021-11-07T19:18:26.707Z"
   },
   {
    "duration": 376,
    "start_time": "2021-11-07T19:25:43.447Z"
   },
   {
    "duration": 43,
    "start_time": "2021-11-07T19:29:44.343Z"
   },
   {
    "duration": 111,
    "start_time": "2021-11-07T19:30:22.685Z"
   },
   {
    "duration": 1303,
    "start_time": "2021-11-07T19:31:26.566Z"
   },
   {
    "duration": 305,
    "start_time": "2021-11-07T19:31:58.606Z"
   },
   {
    "duration": 1475,
    "start_time": "2021-11-07T19:32:13.741Z"
   },
   {
    "duration": 1222,
    "start_time": "2021-11-07T19:32:15.219Z"
   },
   {
    "duration": 166,
    "start_time": "2021-11-07T19:32:16.445Z"
   },
   {
    "duration": 787,
    "start_time": "2021-11-07T19:32:16.613Z"
   },
   {
    "duration": 752,
    "start_time": "2021-11-07T19:32:17.403Z"
   },
   {
    "duration": 1411,
    "start_time": "2021-11-07T19:32:18.159Z"
   },
   {
    "duration": 171,
    "start_time": "2021-11-07T19:32:19.572Z"
   },
   {
    "duration": 47,
    "start_time": "2021-11-07T19:32:19.748Z"
   },
   {
    "duration": 47,
    "start_time": "2021-11-07T19:32:19.798Z"
   },
   {
    "duration": 88,
    "start_time": "2021-11-07T19:32:19.848Z"
   },
   {
    "duration": 45,
    "start_time": "2021-11-07T19:32:19.939Z"
   },
   {
    "duration": 89,
    "start_time": "2021-11-07T19:32:19.986Z"
   },
   {
    "duration": 48,
    "start_time": "2021-11-07T19:32:20.078Z"
   },
   {
    "duration": 44,
    "start_time": "2021-11-07T19:32:20.128Z"
   },
   {
    "duration": 59,
    "start_time": "2021-11-07T19:32:20.174Z"
   },
   {
    "duration": 46,
    "start_time": "2021-11-07T19:32:20.236Z"
   },
   {
    "duration": 179,
    "start_time": "2021-11-07T19:32:20.285Z"
   },
   {
    "duration": 2831,
    "start_time": "2021-11-07T19:32:20.466Z"
   },
   {
    "duration": 97,
    "start_time": "2021-11-07T19:32:23.299Z"
   },
   {
    "duration": 150,
    "start_time": "2021-11-07T19:32:23.399Z"
   },
   {
    "duration": 31,
    "start_time": "2021-11-07T19:32:23.552Z"
   },
   {
    "duration": 57,
    "start_time": "2021-11-07T19:32:23.586Z"
   },
   {
    "duration": 264,
    "start_time": "2021-11-07T19:32:23.649Z"
   },
   {
    "duration": 1140,
    "start_time": "2021-11-07T19:32:23.915Z"
   },
   {
    "duration": 110,
    "start_time": "2021-11-07T19:32:25.058Z"
   },
   {
    "duration": 1276,
    "start_time": "2021-11-07T19:32:25.172Z"
   },
   {
    "duration": 63,
    "start_time": "2021-11-07T19:33:57.939Z"
   },
   {
    "duration": 75,
    "start_time": "2021-11-07T19:34:12.291Z"
   },
   {
    "duration": 611,
    "start_time": "2021-11-07T19:34:39.995Z"
   },
   {
    "duration": 1088,
    "start_time": "2021-11-07T19:34:54.411Z"
   },
   {
    "duration": 121,
    "start_time": "2021-11-07T19:35:27.820Z"
   },
   {
    "duration": 461,
    "start_time": "2021-11-07T19:37:27.386Z"
   },
   {
    "duration": 443,
    "start_time": "2021-11-07T19:38:32.835Z"
   },
   {
    "duration": 101,
    "start_time": "2021-11-07T19:38:43.370Z"
   },
   {
    "duration": 592,
    "start_time": "2021-11-07T19:38:55.994Z"
   },
   {
    "duration": 189,
    "start_time": "2021-11-07T19:39:29.749Z"
   },
   {
    "duration": 615,
    "start_time": "2021-11-07T19:39:42.877Z"
   },
   {
    "duration": 289,
    "start_time": "2021-11-07T19:40:58.450Z"
   },
   {
    "duration": 1434,
    "start_time": "2021-11-07T19:42:26.378Z"
   },
   {
    "duration": 1162,
    "start_time": "2021-11-07T19:42:27.815Z"
   },
   {
    "duration": 170,
    "start_time": "2021-11-07T19:42:28.981Z"
   },
   {
    "duration": 677,
    "start_time": "2021-11-07T19:42:29.154Z"
   },
   {
    "duration": 746,
    "start_time": "2021-11-07T19:42:29.833Z"
   },
   {
    "duration": 1630,
    "start_time": "2021-11-07T19:42:30.582Z"
   },
   {
    "duration": 170,
    "start_time": "2021-11-07T19:42:32.223Z"
   },
   {
    "duration": 54,
    "start_time": "2021-11-07T19:42:32.397Z"
   },
   {
    "duration": 29,
    "start_time": "2021-11-07T19:42:32.456Z"
   },
   {
    "duration": 71,
    "start_time": "2021-11-07T19:42:32.488Z"
   },
   {
    "duration": 28,
    "start_time": "2021-11-07T19:42:32.562Z"
   },
   {
    "duration": 96,
    "start_time": "2021-11-07T19:42:32.593Z"
   },
   {
    "duration": 56,
    "start_time": "2021-11-07T19:42:32.692Z"
   },
   {
    "duration": 86,
    "start_time": "2021-11-07T19:42:32.752Z"
   },
   {
    "duration": 32,
    "start_time": "2021-11-07T19:42:32.841Z"
   },
   {
    "duration": 73,
    "start_time": "2021-11-07T19:42:32.877Z"
   },
   {
    "duration": 185,
    "start_time": "2021-11-07T19:42:32.953Z"
   },
   {
    "duration": 3164,
    "start_time": "2021-11-07T19:42:33.140Z"
   },
   {
    "duration": 99,
    "start_time": "2021-11-07T19:42:36.307Z"
   },
   {
    "duration": 153,
    "start_time": "2021-11-07T19:42:36.409Z"
   },
   {
    "duration": 28,
    "start_time": "2021-11-07T19:42:36.565Z"
   },
   {
    "duration": 51,
    "start_time": "2021-11-07T19:42:36.595Z"
   },
   {
    "duration": 263,
    "start_time": "2021-11-07T19:42:36.650Z"
   },
   {
    "duration": 1457,
    "start_time": "2021-11-07T19:42:36.916Z"
   },
   {
    "duration": 130,
    "start_time": "2021-11-07T19:42:38.377Z"
   },
   {
    "duration": 12,
    "start_time": "2021-11-07T19:42:38.510Z"
   },
   {
    "duration": 1177,
    "start_time": "2021-11-07T19:42:38.526Z"
   },
   {
    "duration": 1117,
    "start_time": "2021-11-07T19:44:43.949Z"
   },
   {
    "duration": 1451,
    "start_time": "2021-11-07T19:45:15.144Z"
   },
   {
    "duration": 1174,
    "start_time": "2021-11-07T19:45:16.598Z"
   },
   {
    "duration": 174,
    "start_time": "2021-11-07T19:45:17.775Z"
   },
   {
    "duration": 661,
    "start_time": "2021-11-07T19:45:17.952Z"
   },
   {
    "duration": 683,
    "start_time": "2021-11-07T19:45:18.622Z"
   },
   {
    "duration": 1343,
    "start_time": "2021-11-07T19:45:19.308Z"
   },
   {
    "duration": 178,
    "start_time": "2021-11-07T19:45:20.654Z"
   },
   {
    "duration": 45,
    "start_time": "2021-11-07T19:45:20.836Z"
   },
   {
    "duration": 42,
    "start_time": "2021-11-07T19:45:20.884Z"
   },
   {
    "duration": 56,
    "start_time": "2021-11-07T19:45:20.929Z"
   },
   {
    "duration": 37,
    "start_time": "2021-11-07T19:45:20.987Z"
   },
   {
    "duration": 58,
    "start_time": "2021-11-07T19:45:21.026Z"
   },
   {
    "duration": 26,
    "start_time": "2021-11-07T19:45:21.086Z"
   },
   {
    "duration": 51,
    "start_time": "2021-11-07T19:45:21.122Z"
   },
   {
    "duration": 28,
    "start_time": "2021-11-07T19:45:21.175Z"
   },
   {
    "duration": 59,
    "start_time": "2021-11-07T19:45:21.205Z"
   },
   {
    "duration": 173,
    "start_time": "2021-11-07T19:45:21.267Z"
   },
   {
    "duration": 2658,
    "start_time": "2021-11-07T19:45:21.442Z"
   },
   {
    "duration": 95,
    "start_time": "2021-11-07T19:45:24.102Z"
   },
   {
    "duration": 132,
    "start_time": "2021-11-07T19:45:24.200Z"
   },
   {
    "duration": 26,
    "start_time": "2021-11-07T19:45:24.335Z"
   },
   {
    "duration": 26,
    "start_time": "2021-11-07T19:45:24.363Z"
   },
   {
    "duration": 283,
    "start_time": "2021-11-07T19:45:24.394Z"
   },
   {
    "duration": 1205,
    "start_time": "2021-11-07T19:45:24.680Z"
   },
   {
    "duration": 4,
    "start_time": "2021-11-07T19:45:25.887Z"
   },
   {
    "duration": 110,
    "start_time": "2021-11-07T19:45:25.893Z"
   },
   {
    "duration": 42,
    "start_time": "2021-11-07T19:45:26.006Z"
   },
   {
    "duration": 1264,
    "start_time": "2021-11-07T19:45:26.051Z"
   },
   {
    "duration": 402,
    "start_time": "2021-11-07T19:45:57.970Z"
   },
   {
    "duration": 2243,
    "start_time": "2021-11-07T19:46:13.173Z"
   },
   {
    "duration": 1170,
    "start_time": "2021-11-07T19:49:25.458Z"
   },
   {
    "duration": 26,
    "start_time": "2021-11-07T22:11:01.857Z"
   },
   {
    "duration": 25,
    "start_time": "2021-11-07T22:11:10.512Z"
   },
   {
    "duration": 25,
    "start_time": "2021-11-07T22:11:37.593Z"
   },
   {
    "duration": 9,
    "start_time": "2021-11-07T22:16:00.633Z"
   },
   {
    "duration": 20,
    "start_time": "2021-11-07T22:17:38.455Z"
   },
   {
    "duration": 28,
    "start_time": "2021-11-07T22:24:12.446Z"
   },
   {
    "duration": 17,
    "start_time": "2021-11-07T22:24:14.797Z"
   },
   {
    "duration": 23,
    "start_time": "2021-11-07T22:25:02.149Z"
   },
   {
    "duration": 13,
    "start_time": "2021-11-07T22:25:02.694Z"
   },
   {
    "duration": 22,
    "start_time": "2021-11-07T22:25:23.797Z"
   },
   {
    "duration": 8,
    "start_time": "2021-11-07T22:25:31.198Z"
   },
   {
    "duration": 16,
    "start_time": "2021-11-07T22:25:31.868Z"
   },
   {
    "duration": 8,
    "start_time": "2021-11-07T22:27:34.308Z"
   },
   {
    "duration": 12,
    "start_time": "2021-11-07T22:27:34.661Z"
   },
   {
    "duration": 3595,
    "start_time": "2021-11-07T22:29:24.709Z"
   },
   {
    "duration": 84,
    "start_time": "2021-11-07T22:29:39.668Z"
   },
   {
    "duration": 15,
    "start_time": "2021-11-08T01:05:48.798Z"
   },
   {
    "duration": 262,
    "start_time": "2021-11-08T01:05:49.500Z"
   },
   {
    "duration": 60,
    "start_time": "2021-11-08T01:07:17.156Z"
   },
   {
    "duration": 85,
    "start_time": "2021-11-08T01:07:25.723Z"
   },
   {
    "duration": 297,
    "start_time": "2021-11-08T01:08:11.133Z"
   },
   {
    "duration": 1134,
    "start_time": "2021-11-08T01:08:39.621Z"
   },
   {
    "duration": 1116,
    "start_time": "2021-11-08T01:08:46.548Z"
   },
   {
    "duration": 1108,
    "start_time": "2021-11-08T20:26:53.804Z"
   },
   {
    "duration": 752,
    "start_time": "2021-11-08T20:26:54.914Z"
   },
   {
    "duration": 116,
    "start_time": "2021-11-08T20:26:55.668Z"
   },
   {
    "duration": 407,
    "start_time": "2021-11-08T20:26:55.786Z"
   },
   {
    "duration": 402,
    "start_time": "2021-11-08T20:26:56.195Z"
   },
   {
    "duration": 817,
    "start_time": "2021-11-08T20:26:56.598Z"
   },
   {
    "duration": 120,
    "start_time": "2021-11-08T20:26:57.416Z"
   },
   {
    "duration": 32,
    "start_time": "2021-11-08T20:26:57.538Z"
   },
   {
    "duration": 26,
    "start_time": "2021-11-08T20:26:57.572Z"
   },
   {
    "duration": 34,
    "start_time": "2021-11-08T20:26:57.600Z"
   },
   {
    "duration": 18,
    "start_time": "2021-11-08T20:26:57.636Z"
   },
   {
    "duration": 46,
    "start_time": "2021-11-08T20:26:57.655Z"
   },
   {
    "duration": 18,
    "start_time": "2021-11-08T20:26:57.702Z"
   },
   {
    "duration": 41,
    "start_time": "2021-11-08T20:26:57.722Z"
   },
   {
    "duration": 28,
    "start_time": "2021-11-08T20:26:57.765Z"
   },
   {
    "duration": 31,
    "start_time": "2021-11-08T20:26:57.795Z"
   },
   {
    "duration": 131,
    "start_time": "2021-11-08T20:26:57.827Z"
   },
   {
    "duration": 1959,
    "start_time": "2021-11-08T20:26:57.960Z"
   },
   {
    "duration": 83,
    "start_time": "2021-11-08T20:26:59.921Z"
   },
   {
    "duration": 26,
    "start_time": "2021-11-08T20:27:00.006Z"
   },
   {
    "duration": 19,
    "start_time": "2021-11-08T20:27:00.034Z"
   },
   {
    "duration": 42,
    "start_time": "2021-11-08T20:27:00.054Z"
   },
   {
    "duration": 148,
    "start_time": "2021-11-08T20:27:00.099Z"
   },
   {
    "duration": 692,
    "start_time": "2021-11-08T20:27:00.248Z"
   },
   {
    "duration": 2,
    "start_time": "2021-11-08T20:27:00.942Z"
   },
   {
    "duration": 63,
    "start_time": "2021-11-08T20:27:00.946Z"
   },
   {
    "duration": 16,
    "start_time": "2021-11-08T20:27:01.011Z"
   },
   {
    "duration": 763,
    "start_time": "2021-11-08T20:27:01.029Z"
   },
   {
    "duration": 5477,
    "start_time": "2021-11-08T20:27:01.794Z"
   },
   {
    "duration": -60,
    "start_time": "2021-11-08T20:27:07.332Z"
   },
   {
    "duration": -61,
    "start_time": "2021-11-08T20:27:07.334Z"
   },
   {
    "duration": -62,
    "start_time": "2021-11-08T20:27:07.336Z"
   },
   {
    "duration": -65,
    "start_time": "2021-11-08T20:27:07.340Z"
   },
   {
    "duration": 12,
    "start_time": "2021-11-08T20:31:17.465Z"
   },
   {
    "duration": 800,
    "start_time": "2021-11-08T21:09:22.247Z"
   },
   {
    "duration": 73,
    "start_time": "2021-11-08T21:26:07.840Z"
   },
   {
    "duration": 4554,
    "start_time": "2021-11-08T21:29:12.062Z"
   },
   {
    "duration": 49,
    "start_time": "2021-11-08T21:29:33.434Z"
   },
   {
    "duration": 197,
    "start_time": "2021-11-08T21:50:14.468Z"
   },
   {
    "duration": 4292,
    "start_time": "2021-11-08T21:50:33.116Z"
   },
   {
    "duration": 4631,
    "start_time": "2021-11-08T21:51:11.904Z"
   },
   {
    "duration": 219,
    "start_time": "2021-11-08T21:53:04.044Z"
   },
   {
    "duration": 317,
    "start_time": "2021-11-08T21:55:06.603Z"
   },
   {
    "duration": 17,
    "start_time": "2021-11-08T22:07:03.006Z"
   },
   {
    "duration": 15,
    "start_time": "2021-11-08T22:07:04.943Z"
   },
   {
    "duration": 15,
    "start_time": "2021-11-08T22:09:24.657Z"
   },
   {
    "duration": 13,
    "start_time": "2021-11-08T22:09:25.631Z"
   },
   {
    "duration": 126,
    "start_time": "2021-11-08T22:10:44.590Z"
   },
   {
    "duration": 704,
    "start_time": "2021-11-08T22:10:47.134Z"
   },
   {
    "duration": 72,
    "start_time": "2021-11-08T22:13:26.359Z"
   },
   {
    "duration": 4164,
    "start_time": "2021-11-08T22:13:43.437Z"
   },
   {
    "duration": 47,
    "start_time": "2021-11-08T22:14:24.926Z"
   },
   {
    "duration": 12,
    "start_time": "2021-11-08T22:17:17.501Z"
   },
   {
    "duration": 43,
    "start_time": "2021-11-08T22:17:20.789Z"
   },
   {
    "duration": 6,
    "start_time": "2021-11-08T22:19:56.546Z"
   },
   {
    "duration": 256,
    "start_time": "2021-11-08T22:40:40.084Z"
   },
   {
    "duration": 230,
    "start_time": "2021-11-08T22:43:53.826Z"
   },
   {
    "duration": 176,
    "start_time": "2021-11-08T22:44:49.134Z"
   },
   {
    "duration": 185,
    "start_time": "2021-11-08T22:45:07.606Z"
   },
   {
    "duration": 35,
    "start_time": "2021-11-08T22:46:27.001Z"
   },
   {
    "duration": 1058,
    "start_time": "2021-11-08T22:46:39.658Z"
   },
   {
    "duration": 759,
    "start_time": "2021-11-08T22:46:40.718Z"
   },
   {
    "duration": 121,
    "start_time": "2021-11-08T22:46:41.478Z"
   },
   {
    "duration": 403,
    "start_time": "2021-11-08T22:46:41.601Z"
   },
   {
    "duration": 418,
    "start_time": "2021-11-08T22:46:42.006Z"
   },
   {
    "duration": 865,
    "start_time": "2021-11-08T22:46:42.426Z"
   },
   {
    "duration": 115,
    "start_time": "2021-11-08T22:46:43.293Z"
   },
   {
    "duration": 31,
    "start_time": "2021-11-08T22:46:43.410Z"
   },
   {
    "duration": 17,
    "start_time": "2021-11-08T22:46:43.443Z"
   },
   {
    "duration": 52,
    "start_time": "2021-11-08T22:46:43.462Z"
   },
   {
    "duration": 19,
    "start_time": "2021-11-08T22:46:43.515Z"
   },
   {
    "duration": 35,
    "start_time": "2021-11-08T22:46:43.535Z"
   },
   {
    "duration": 30,
    "start_time": "2021-11-08T22:46:43.572Z"
   },
   {
    "duration": 34,
    "start_time": "2021-11-08T22:46:43.603Z"
   },
   {
    "duration": 21,
    "start_time": "2021-11-08T22:46:43.639Z"
   },
   {
    "duration": 48,
    "start_time": "2021-11-08T22:46:43.661Z"
   },
   {
    "duration": 123,
    "start_time": "2021-11-08T22:46:43.712Z"
   },
   {
    "duration": 1910,
    "start_time": "2021-11-08T22:46:43.836Z"
   },
   {
    "duration": 85,
    "start_time": "2021-11-08T22:46:45.748Z"
   },
   {
    "duration": 22,
    "start_time": "2021-11-08T22:46:45.835Z"
   },
   {
    "duration": 34,
    "start_time": "2021-11-08T22:46:45.858Z"
   },
   {
    "duration": 17,
    "start_time": "2021-11-08T22:46:45.894Z"
   },
   {
    "duration": 165,
    "start_time": "2021-11-08T22:46:45.914Z"
   },
   {
    "duration": 676,
    "start_time": "2021-11-08T22:46:46.081Z"
   },
   {
    "duration": 3,
    "start_time": "2021-11-08T22:46:46.758Z"
   },
   {
    "duration": 62,
    "start_time": "2021-11-08T22:46:46.762Z"
   },
   {
    "duration": 12,
    "start_time": "2021-11-08T22:46:46.826Z"
   },
   {
    "duration": 60,
    "start_time": "2021-11-08T22:46:46.840Z"
   },
   {
    "duration": 295,
    "start_time": "2021-11-08T22:46:46.902Z"
   },
   {
    "duration": 34,
    "start_time": "2021-11-08T22:46:47.198Z"
   },
   {
    "duration": 6,
    "start_time": "2021-11-08T22:46:47.234Z"
   },
   {
    "duration": 4787,
    "start_time": "2021-11-08T22:46:47.241Z"
   },
   {
    "duration": -71,
    "start_time": "2021-11-08T22:46:52.101Z"
   },
   {
    "duration": -72,
    "start_time": "2021-11-08T22:46:52.104Z"
   },
   {
    "duration": -74,
    "start_time": "2021-11-08T22:46:52.107Z"
   },
   {
    "duration": 470,
    "start_time": "2021-11-08T22:50:40.768Z"
   },
   {
    "duration": 171,
    "start_time": "2021-11-08T23:00:04.343Z"
   },
   {
    "duration": 685,
    "start_time": "2021-11-08T23:00:08.238Z"
   },
   {
    "duration": 4,
    "start_time": "2021-11-08T23:00:14.350Z"
   },
   {
    "duration": 193,
    "start_time": "2021-11-08T23:00:16.495Z"
   },
   {
    "duration": 1095,
    "start_time": "2021-11-08T23:00:41.222Z"
   },
   {
    "duration": 763,
    "start_time": "2021-11-08T23:00:42.318Z"
   },
   {
    "duration": 122,
    "start_time": "2021-11-08T23:00:43.083Z"
   },
   {
    "duration": 409,
    "start_time": "2021-11-08T23:00:43.207Z"
   },
   {
    "duration": 432,
    "start_time": "2021-11-08T23:00:43.618Z"
   },
   {
    "duration": 856,
    "start_time": "2021-11-08T23:00:44.052Z"
   },
   {
    "duration": 125,
    "start_time": "2021-11-08T23:00:44.910Z"
   },
   {
    "duration": 32,
    "start_time": "2021-11-08T23:00:45.037Z"
   },
   {
    "duration": 30,
    "start_time": "2021-11-08T23:00:45.071Z"
   },
   {
    "duration": 45,
    "start_time": "2021-11-08T23:00:45.102Z"
   },
   {
    "duration": 19,
    "start_time": "2021-11-08T23:00:45.148Z"
   },
   {
    "duration": 53,
    "start_time": "2021-11-08T23:00:45.168Z"
   },
   {
    "duration": 17,
    "start_time": "2021-11-08T23:00:45.223Z"
   },
   {
    "duration": 34,
    "start_time": "2021-11-08T23:00:45.242Z"
   },
   {
    "duration": 26,
    "start_time": "2021-11-08T23:00:45.278Z"
   },
   {
    "duration": 40,
    "start_time": "2021-11-08T23:00:45.306Z"
   },
   {
    "duration": 122,
    "start_time": "2021-11-08T23:00:45.348Z"
   },
   {
    "duration": 1984,
    "start_time": "2021-11-08T23:00:45.472Z"
   },
   {
    "duration": 87,
    "start_time": "2021-11-08T23:00:47.458Z"
   },
   {
    "duration": 22,
    "start_time": "2021-11-08T23:00:47.546Z"
   },
   {
    "duration": 31,
    "start_time": "2021-11-08T23:00:47.570Z"
   },
   {
    "duration": 19,
    "start_time": "2021-11-08T23:00:47.602Z"
   },
   {
    "duration": 289,
    "start_time": "2021-11-08T23:00:47.623Z"
   },
   {
    "duration": 699,
    "start_time": "2021-11-08T23:00:47.914Z"
   },
   {
    "duration": 3,
    "start_time": "2021-11-08T23:00:48.614Z"
   },
   {
    "duration": 48,
    "start_time": "2021-11-08T23:00:48.618Z"
   },
   {
    "duration": 24,
    "start_time": "2021-11-08T23:00:48.667Z"
   },
   {
    "duration": 43,
    "start_time": "2021-11-08T23:00:48.693Z"
   },
   {
    "duration": 554,
    "start_time": "2021-11-08T23:00:48.738Z"
   },
   {
    "duration": -78,
    "start_time": "2021-11-08T23:00:49.372Z"
   },
   {
    "duration": -87,
    "start_time": "2021-11-08T23:00:49.382Z"
   },
   {
    "duration": -98,
    "start_time": "2021-11-08T23:00:49.394Z"
   },
   {
    "duration": -100,
    "start_time": "2021-11-08T23:00:49.397Z"
   },
   {
    "duration": -101,
    "start_time": "2021-11-08T23:00:49.399Z"
   },
   {
    "duration": -102,
    "start_time": "2021-11-08T23:00:49.401Z"
   },
   {
    "duration": 289,
    "start_time": "2021-11-08T23:01:27.966Z"
   },
   {
    "duration": 17,
    "start_time": "2021-11-08T23:01:30.677Z"
   },
   {
    "duration": 47,
    "start_time": "2021-11-08T23:03:38.088Z"
   },
   {
    "duration": 281,
    "start_time": "2021-11-08T23:03:40.115Z"
   },
   {
    "duration": 150,
    "start_time": "2021-11-08T23:05:05.452Z"
   },
   {
    "duration": 686,
    "start_time": "2021-11-08T23:05:10.128Z"
   },
   {
    "duration": 2,
    "start_time": "2021-11-08T23:05:11.081Z"
   },
   {
    "duration": 224,
    "start_time": "2021-11-08T23:05:16.488Z"
   },
   {
    "duration": 1122,
    "start_time": "2021-11-08T23:05:31.596Z"
   },
   {
    "duration": 808,
    "start_time": "2021-11-08T23:05:32.721Z"
   },
   {
    "duration": 132,
    "start_time": "2021-11-08T23:05:33.535Z"
   },
   {
    "duration": 432,
    "start_time": "2021-11-08T23:05:33.670Z"
   },
   {
    "duration": 443,
    "start_time": "2021-11-08T23:05:34.104Z"
   },
   {
    "duration": 914,
    "start_time": "2021-11-08T23:05:34.549Z"
   },
   {
    "duration": 126,
    "start_time": "2021-11-08T23:05:35.466Z"
   },
   {
    "duration": 33,
    "start_time": "2021-11-08T23:05:35.594Z"
   },
   {
    "duration": 19,
    "start_time": "2021-11-08T23:05:35.629Z"
   },
   {
    "duration": 55,
    "start_time": "2021-11-08T23:05:35.649Z"
   },
   {
    "duration": 19,
    "start_time": "2021-11-08T23:05:35.705Z"
   },
   {
    "duration": 36,
    "start_time": "2021-11-08T23:05:35.725Z"
   },
   {
    "duration": 30,
    "start_time": "2021-11-08T23:05:35.763Z"
   },
   {
    "duration": 33,
    "start_time": "2021-11-08T23:05:35.795Z"
   },
   {
    "duration": 20,
    "start_time": "2021-11-08T23:05:35.829Z"
   },
   {
    "duration": 50,
    "start_time": "2021-11-08T23:05:35.850Z"
   },
   {
    "duration": 123,
    "start_time": "2021-11-08T23:05:35.902Z"
   },
   {
    "duration": 2003,
    "start_time": "2021-11-08T23:05:36.027Z"
   },
   {
    "duration": 86,
    "start_time": "2021-11-08T23:05:38.031Z"
   },
   {
    "duration": 24,
    "start_time": "2021-11-08T23:05:38.119Z"
   },
   {
    "duration": 21,
    "start_time": "2021-11-08T23:05:38.144Z"
   },
   {
    "duration": 39,
    "start_time": "2021-11-08T23:05:38.168Z"
   },
   {
    "duration": 275,
    "start_time": "2021-11-08T23:05:38.209Z"
   },
   {
    "duration": 715,
    "start_time": "2021-11-08T23:05:38.485Z"
   },
   {
    "duration": 2,
    "start_time": "2021-11-08T23:05:39.202Z"
   },
   {
    "duration": 46,
    "start_time": "2021-11-08T23:05:39.205Z"
   },
   {
    "duration": 11,
    "start_time": "2021-11-08T23:05:39.253Z"
   },
   {
    "duration": 78,
    "start_time": "2021-11-08T23:05:39.265Z"
   },
   {
    "duration": 316,
    "start_time": "2021-11-08T23:05:39.344Z"
   },
   {
    "duration": 19,
    "start_time": "2021-11-08T23:05:39.661Z"
   },
   {
    "duration": 14,
    "start_time": "2021-11-08T23:05:39.682Z"
   },
   {
    "duration": 4703,
    "start_time": "2021-11-08T23:05:39.697Z"
   },
   {
    "duration": -94,
    "start_time": "2021-11-08T23:05:44.496Z"
   },
   {
    "duration": -95,
    "start_time": "2021-11-08T23:05:44.498Z"
   },
   {
    "duration": -97,
    "start_time": "2021-11-08T23:05:44.501Z"
   },
   {
    "duration": 54,
    "start_time": "2021-11-08T23:06:55.040Z"
   },
   {
    "duration": 312,
    "start_time": "2021-11-08T23:06:56.716Z"
   },
   {
    "duration": 18,
    "start_time": "2021-11-08T23:06:59.849Z"
   },
   {
    "duration": 182,
    "start_time": "2021-11-08T23:07:38.229Z"
   },
   {
    "duration": 173,
    "start_time": "2021-11-08T23:07:49.380Z"
   },
   {
    "duration": 192,
    "start_time": "2021-11-08T23:08:09.387Z"
   },
   {
    "duration": 466,
    "start_time": "2021-11-08T23:16:28.264Z"
   },
   {
    "duration": 497,
    "start_time": "2021-11-08T23:16:45.955Z"
   },
   {
    "duration": 528,
    "start_time": "2021-11-08T23:17:52.552Z"
   },
   {
    "duration": 440,
    "start_time": "2021-11-08T23:18:12.419Z"
   },
   {
    "duration": 1119,
    "start_time": "2021-11-08T23:18:54.649Z"
   },
   {
    "duration": 1055,
    "start_time": "2021-11-08T23:19:26.860Z"
   },
   {
    "duration": 767,
    "start_time": "2021-11-08T23:19:27.917Z"
   },
   {
    "duration": 120,
    "start_time": "2021-11-08T23:19:28.686Z"
   },
   {
    "duration": 410,
    "start_time": "2021-11-08T23:19:28.807Z"
   },
   {
    "duration": 418,
    "start_time": "2021-11-08T23:19:29.219Z"
   },
   {
    "duration": 876,
    "start_time": "2021-11-08T23:19:29.639Z"
   },
   {
    "duration": 122,
    "start_time": "2021-11-08T23:19:30.517Z"
   },
   {
    "duration": 30,
    "start_time": "2021-11-08T23:19:30.642Z"
   },
   {
    "duration": 30,
    "start_time": "2021-11-08T23:19:30.674Z"
   },
   {
    "duration": 41,
    "start_time": "2021-11-08T23:19:30.705Z"
   },
   {
    "duration": 18,
    "start_time": "2021-11-08T23:19:30.747Z"
   },
   {
    "duration": 44,
    "start_time": "2021-11-08T23:19:30.767Z"
   },
   {
    "duration": 17,
    "start_time": "2021-11-08T23:19:30.813Z"
   },
   {
    "duration": 39,
    "start_time": "2021-11-08T23:19:30.832Z"
   },
   {
    "duration": 26,
    "start_time": "2021-11-08T23:19:30.873Z"
   },
   {
    "duration": 36,
    "start_time": "2021-11-08T23:19:30.901Z"
   },
   {
    "duration": 120,
    "start_time": "2021-11-08T23:19:30.939Z"
   },
   {
    "duration": 1913,
    "start_time": "2021-11-08T23:19:31.060Z"
   },
   {
    "duration": 78,
    "start_time": "2021-11-08T23:19:32.975Z"
   },
   {
    "duration": 38,
    "start_time": "2021-11-08T23:19:33.054Z"
   },
   {
    "duration": 21,
    "start_time": "2021-11-08T23:19:33.093Z"
   },
   {
    "duration": 19,
    "start_time": "2021-11-08T23:19:33.115Z"
   },
   {
    "duration": 276,
    "start_time": "2021-11-08T23:19:33.137Z"
   },
   {
    "duration": 682,
    "start_time": "2021-11-08T23:19:33.415Z"
   },
   {
    "duration": 2,
    "start_time": "2021-11-08T23:19:34.098Z"
   },
   {
    "duration": 44,
    "start_time": "2021-11-08T23:19:34.102Z"
   },
   {
    "duration": 725,
    "start_time": "2021-11-08T23:19:34.148Z"
   },
   {
    "duration": -73,
    "start_time": "2021-11-08T23:19:34.947Z"
   },
   {
    "duration": -74,
    "start_time": "2021-11-08T23:19:34.949Z"
   },
   {
    "duration": -75,
    "start_time": "2021-11-08T23:19:34.951Z"
   },
   {
    "duration": -76,
    "start_time": "2021-11-08T23:19:34.953Z"
   },
   {
    "duration": -77,
    "start_time": "2021-11-08T23:19:34.955Z"
   },
   {
    "duration": -79,
    "start_time": "2021-11-08T23:19:34.958Z"
   },
   {
    "duration": -81,
    "start_time": "2021-11-08T23:19:34.961Z"
   },
   {
    "duration": 445,
    "start_time": "2021-11-08T23:21:03.670Z"
   },
   {
    "duration": 9,
    "start_time": "2021-11-08T23:21:18.914Z"
   },
   {
    "duration": 324,
    "start_time": "2021-11-08T23:21:36.807Z"
   },
   {
    "duration": 491,
    "start_time": "2021-11-08T23:21:58.536Z"
   },
   {
    "duration": 331,
    "start_time": "2021-11-08T23:22:25.666Z"
   },
   {
    "duration": 11,
    "start_time": "2021-11-08T23:23:02.033Z"
   },
   {
    "duration": 15,
    "start_time": "2021-11-08T23:24:09.696Z"
   },
   {
    "duration": 12,
    "start_time": "2021-11-08T23:24:34.821Z"
   },
   {
    "duration": 19,
    "start_time": "2021-11-08T23:25:13.341Z"
   },
   {
    "duration": 11,
    "start_time": "2021-11-08T23:26:25.840Z"
   },
   {
    "duration": 557,
    "start_time": "2021-11-08T23:27:14.534Z"
   },
   {
    "duration": 348,
    "start_time": "2021-11-08T23:27:26.575Z"
   },
   {
    "duration": 17,
    "start_time": "2021-11-08T23:28:04.316Z"
   },
   {
    "duration": 570,
    "start_time": "2021-11-08T23:28:39.693Z"
   },
   {
    "duration": 519,
    "start_time": "2021-11-08T23:29:56.860Z"
   },
   {
    "duration": 353,
    "start_time": "2021-11-08T23:30:30.333Z"
   },
   {
    "duration": 507,
    "start_time": "2021-11-08T23:30:50.360Z"
   },
   {
    "duration": 346,
    "start_time": "2021-11-08T23:31:18.401Z"
   },
   {
    "duration": 320,
    "start_time": "2021-11-08T23:33:42.055Z"
   },
   {
    "duration": 460,
    "start_time": "2021-11-09T13:53:33.556Z"
   },
   {
    "duration": 1444,
    "start_time": "2021-11-09T13:53:41.406Z"
   },
   {
    "duration": 1105,
    "start_time": "2021-11-09T13:53:42.853Z"
   },
   {
    "duration": 160,
    "start_time": "2021-11-09T13:53:43.962Z"
   },
   {
    "duration": 609,
    "start_time": "2021-11-09T13:53:44.125Z"
   },
   {
    "duration": 632,
    "start_time": "2021-11-09T13:53:44.736Z"
   },
   {
    "duration": 1288,
    "start_time": "2021-11-09T13:53:45.370Z"
   },
   {
    "duration": 161,
    "start_time": "2021-11-09T13:53:46.660Z"
   },
   {
    "duration": 68,
    "start_time": "2021-11-09T13:53:46.826Z"
   },
   {
    "duration": 26,
    "start_time": "2021-11-09T13:53:46.897Z"
   },
   {
    "duration": 67,
    "start_time": "2021-11-09T13:53:46.925Z"
   },
   {
    "duration": 28,
    "start_time": "2021-11-09T13:53:46.994Z"
   },
   {
    "duration": 65,
    "start_time": "2021-11-09T13:53:47.024Z"
   },
   {
    "duration": 26,
    "start_time": "2021-11-09T13:53:47.091Z"
   },
   {
    "duration": 64,
    "start_time": "2021-11-09T13:53:47.119Z"
   },
   {
    "duration": 28,
    "start_time": "2021-11-09T13:53:47.186Z"
   },
   {
    "duration": 44,
    "start_time": "2021-11-09T13:53:47.217Z"
   },
   {
    "duration": 161,
    "start_time": "2021-11-09T13:53:47.282Z"
   },
   {
    "duration": 4215,
    "start_time": "2021-11-09T13:53:47.445Z"
   },
   {
    "duration": 104,
    "start_time": "2021-11-09T13:53:51.663Z"
   },
   {
    "duration": 35,
    "start_time": "2021-11-09T13:53:51.782Z"
   },
   {
    "duration": 28,
    "start_time": "2021-11-09T13:53:51.820Z"
   },
   {
    "duration": 54,
    "start_time": "2021-11-09T13:53:51.850Z"
   },
   {
    "duration": 406,
    "start_time": "2021-11-09T13:53:51.908Z"
   },
   {
    "duration": 1287,
    "start_time": "2021-11-09T13:53:52.317Z"
   },
   {
    "duration": 3,
    "start_time": "2021-11-09T13:53:53.606Z"
   },
   {
    "duration": 92,
    "start_time": "2021-11-09T13:53:53.612Z"
   },
   {
    "duration": 555,
    "start_time": "2021-11-09T13:53:53.706Z"
   },
   {
    "duration": 472,
    "start_time": "2021-11-09T13:53:54.263Z"
   },
   {
    "duration": -403,
    "start_time": "2021-11-09T13:53:55.140Z"
   },
   {
    "duration": -404,
    "start_time": "2021-11-09T13:53:55.143Z"
   },
   {
    "duration": 70,
    "start_time": "2021-11-09T14:09:14.470Z"
   },
   {
    "duration": 411,
    "start_time": "2021-11-09T14:34:17.446Z"
   },
   {
    "duration": 477,
    "start_time": "2021-11-09T14:35:07.198Z"
   },
   {
    "duration": 520,
    "start_time": "2021-11-09T14:35:48.197Z"
   },
   {
    "duration": 496,
    "start_time": "2021-11-09T14:36:09.248Z"
   },
   {
    "duration": 5,
    "start_time": "2021-11-09T17:34:26.662Z"
   },
   {
    "duration": 5,
    "start_time": "2021-11-09T17:34:29.596Z"
   },
   {
    "duration": 213,
    "start_time": "2021-11-09T17:34:32.956Z"
   },
   {
    "duration": 5,
    "start_time": "2021-11-09T17:37:04.579Z"
   },
   {
    "duration": 6,
    "start_time": "2021-11-09T17:37:09.931Z"
   },
   {
    "duration": 5,
    "start_time": "2021-11-09T17:37:25.107Z"
   },
   {
    "duration": 4,
    "start_time": "2021-11-09T17:37:25.789Z"
   },
   {
    "duration": 530,
    "start_time": "2021-11-09T17:37:26.475Z"
   },
   {
    "duration": 308,
    "start_time": "2021-11-09T17:38:11.316Z"
   },
   {
    "duration": 4,
    "start_time": "2021-11-09T17:41:03.916Z"
   },
   {
    "duration": 5,
    "start_time": "2021-11-09T17:41:13.379Z"
   },
   {
    "duration": 93256,
    "start_time": "2021-11-09T17:41:14.211Z"
   },
   {
    "duration": 5,
    "start_time": "2021-11-09T17:47:56.185Z"
   },
   {
    "duration": 4,
    "start_time": "2021-11-09T17:56:04.576Z"
   },
   {
    "duration": 109,
    "start_time": "2021-11-09T17:56:05.295Z"
   },
   {
    "duration": 322,
    "start_time": "2021-11-09T17:56:22.961Z"
   },
   {
    "duration": 656,
    "start_time": "2021-11-09T17:56:40.551Z"
   },
   {
    "duration": 5,
    "start_time": "2021-11-09T17:58:43.935Z"
   },
   {
    "duration": 4,
    "start_time": "2021-11-09T17:58:54.247Z"
   },
   {
    "duration": 605,
    "start_time": "2021-11-09T17:58:55.207Z"
   },
   {
    "duration": 4,
    "start_time": "2021-11-09T17:59:28.262Z"
   },
   {
    "duration": 11,
    "start_time": "2021-11-09T17:59:28.902Z"
   },
   {
    "duration": 4,
    "start_time": "2021-11-09T17:59:40.621Z"
   },
   {
    "duration": 4,
    "start_time": "2021-11-09T17:59:45.589Z"
   },
   {
    "duration": 4,
    "start_time": "2021-11-09T17:59:56.110Z"
   },
   {
    "duration": 9,
    "start_time": "2021-11-09T17:59:56.670Z"
   },
   {
    "duration": 3,
    "start_time": "2021-11-09T18:00:07.318Z"
   },
   {
    "duration": 10,
    "start_time": "2021-11-09T18:00:08.068Z"
   },
   {
    "duration": 4,
    "start_time": "2021-11-09T18:00:19.486Z"
   },
   {
    "duration": 10,
    "start_time": "2021-11-09T18:00:20.030Z"
   },
   {
    "duration": 94139,
    "start_time": "2021-11-09T18:03:24.501Z"
   },
   {
    "duration": 4,
    "start_time": "2021-11-09T18:06:12.092Z"
   },
   {
    "duration": 91924,
    "start_time": "2021-11-09T18:06:24.245Z"
   },
   {
    "duration": 9,
    "start_time": "2021-11-09T18:17:28.705Z"
   },
   {
    "duration": 9,
    "start_time": "2021-11-09T18:17:50.297Z"
   },
   {
    "duration": 4,
    "start_time": "2021-11-09T18:19:53.511Z"
   },
   {
    "duration": 604,
    "start_time": "2021-11-09T18:19:54.056Z"
   },
   {
    "duration": 5,
    "start_time": "2021-11-09T18:21:33.575Z"
   },
   {
    "duration": 3,
    "start_time": "2021-11-09T18:25:38.375Z"
   },
   {
    "duration": 4,
    "start_time": "2021-11-09T18:25:56.845Z"
   },
   {
    "duration": 4,
    "start_time": "2021-11-09T18:27:44.414Z"
   },
   {
    "duration": 9,
    "start_time": "2021-11-09T18:27:46.096Z"
   },
   {
    "duration": 10,
    "start_time": "2021-11-09T18:28:38.143Z"
   },
   {
    "duration": 95331,
    "start_time": "2021-11-09T18:28:39.324Z"
   },
   {
    "duration": 3,
    "start_time": "2021-11-09T18:30:14.658Z"
   },
   {
    "duration": 21,
    "start_time": "2021-11-09T18:30:14.664Z"
   },
   {
    "duration": 9,
    "start_time": "2021-11-09T18:30:14.688Z"
   },
   {
    "duration": 4,
    "start_time": "2021-11-09T18:30:40.340Z"
   },
   {
    "duration": 311,
    "start_time": "2021-11-09T18:30:40.942Z"
   },
   {
    "duration": 5,
    "start_time": "2021-11-09T18:31:34.812Z"
   },
   {
    "duration": 4,
    "start_time": "2021-11-09T18:32:16.837Z"
   },
   {
    "duration": 4,
    "start_time": "2021-11-09T18:32:18.579Z"
   },
   {
    "duration": 4,
    "start_time": "2021-11-09T18:32:37.092Z"
   },
   {
    "duration": 3437,
    "start_time": "2021-11-09T18:32:40.436Z"
   },
   {
    "duration": 93775,
    "start_time": "2021-11-09T18:33:00.381Z"
   },
   {
    "duration": 786,
    "start_time": "2021-11-09T18:36:31.099Z"
   },
   {
    "duration": 4,
    "start_time": "2021-11-09T18:49:59.391Z"
   },
   {
    "duration": 4,
    "start_time": "2021-11-09T18:50:01.658Z"
   },
   {
    "duration": 10,
    "start_time": "2021-11-09T18:50:02.919Z"
   },
   {
    "duration": 95047,
    "start_time": "2021-11-09T18:50:18.079Z"
   },
   {
    "duration": 955,
    "start_time": "2021-11-09T18:51:53.129Z"
   },
   {
    "duration": 1399,
    "start_time": "2021-11-09T18:53:08.928Z"
   },
   {
    "duration": 1099,
    "start_time": "2021-11-09T18:53:10.329Z"
   },
   {
    "duration": 173,
    "start_time": "2021-11-09T18:53:11.431Z"
   },
   {
    "duration": 641,
    "start_time": "2021-11-09T18:53:11.607Z"
   },
   {
    "duration": 633,
    "start_time": "2021-11-09T18:53:12.250Z"
   },
   {
    "duration": 1310,
    "start_time": "2021-11-09T18:53:12.885Z"
   },
   {
    "duration": 161,
    "start_time": "2021-11-09T18:53:14.198Z"
   },
   {
    "duration": 52,
    "start_time": "2021-11-09T18:53:14.363Z"
   },
   {
    "duration": 27,
    "start_time": "2021-11-09T18:53:14.418Z"
   },
   {
    "duration": 64,
    "start_time": "2021-11-09T18:53:14.448Z"
   },
   {
    "duration": 26,
    "start_time": "2021-11-09T18:53:14.515Z"
   },
   {
    "duration": 64,
    "start_time": "2021-11-09T18:53:14.543Z"
   },
   {
    "duration": 25,
    "start_time": "2021-11-09T18:53:14.610Z"
   },
   {
    "duration": 65,
    "start_time": "2021-11-09T18:53:14.637Z"
   },
   {
    "duration": 32,
    "start_time": "2021-11-09T18:53:14.704Z"
   },
   {
    "duration": 70,
    "start_time": "2021-11-09T18:53:14.739Z"
   },
   {
    "duration": 166,
    "start_time": "2021-11-09T18:53:14.812Z"
   },
   {
    "duration": 3272,
    "start_time": "2021-11-09T18:53:14.980Z"
   },
   {
    "duration": 98,
    "start_time": "2021-11-09T18:53:18.255Z"
   },
   {
    "duration": 46,
    "start_time": "2021-11-09T18:53:18.355Z"
   },
   {
    "duration": 25,
    "start_time": "2021-11-09T18:53:18.403Z"
   },
   {
    "duration": 25,
    "start_time": "2021-11-09T18:53:18.430Z"
   },
   {
    "duration": 375,
    "start_time": "2021-11-09T18:53:18.484Z"
   },
   {
    "duration": 1120,
    "start_time": "2021-11-09T18:53:18.861Z"
   },
   {
    "duration": 3,
    "start_time": "2021-11-09T18:53:19.984Z"
   },
   {
    "duration": 73,
    "start_time": "2021-11-09T18:53:19.989Z"
   },
   {
    "duration": 561,
    "start_time": "2021-11-09T18:53:20.064Z"
   },
   {
    "duration": 89,
    "start_time": "2021-11-09T18:53:20.627Z"
   },
   {
    "duration": 565,
    "start_time": "2021-11-09T18:53:20.718Z"
   },
   {
    "duration": 5,
    "start_time": "2021-11-09T18:53:21.285Z"
   },
   {
    "duration": 7,
    "start_time": "2021-11-09T18:53:21.292Z"
   },
   {
    "duration": 6,
    "start_time": "2021-11-09T18:53:21.301Z"
   },
   {
    "duration": 5,
    "start_time": "2021-11-09T18:53:21.309Z"
   },
   {
    "duration": 10,
    "start_time": "2021-11-09T18:53:21.317Z"
   },
   {
    "duration": 93475,
    "start_time": "2021-11-09T18:53:21.329Z"
   },
   {
    "duration": 780,
    "start_time": "2021-11-09T18:54:54.806Z"
   },
   {
    "duration": 5,
    "start_time": "2021-11-09T18:59:19.470Z"
   },
   {
    "duration": 330882,
    "start_time": "2021-11-09T18:59:22.469Z"
   },
   {
    "duration": 222620,
    "start_time": "2021-11-09T22:33:01.647Z"
   },
   {
    "duration": 5,
    "start_time": "2021-11-09T22:41:58.597Z"
   },
   {
    "duration": 546749,
    "start_time": "2021-11-09T22:42:02.024Z"
   },
   {
    "duration": 23,
    "start_time": "2021-11-09T22:51:08.777Z"
   },
   {
    "duration": 6,
    "start_time": "2021-11-09T22:52:20.457Z"
   },
   {
    "duration": 6,
    "start_time": "2021-11-09T22:52:25.431Z"
   },
   {
    "duration": 5,
    "start_time": "2021-11-09T22:54:18.535Z"
   },
   {
    "duration": 486255,
    "start_time": "2021-11-09T22:54:40.321Z"
   },
   {
    "duration": 6,
    "start_time": "2021-11-09T23:08:08.932Z"
   },
   {
    "duration": 38160,
    "start_time": "2021-11-09T23:14:07.032Z"
   },
   {
    "duration": 1542,
    "start_time": "2021-11-10T06:59:28.787Z"
   },
   {
    "duration": 1235,
    "start_time": "2021-11-10T06:59:30.332Z"
   },
   {
    "duration": 157,
    "start_time": "2021-11-10T06:59:31.571Z"
   },
   {
    "duration": 579,
    "start_time": "2021-11-10T06:59:31.730Z"
   },
   {
    "duration": 606,
    "start_time": "2021-11-10T06:59:32.311Z"
   },
   {
    "duration": 1195,
    "start_time": "2021-11-10T06:59:32.920Z"
   },
   {
    "duration": 159,
    "start_time": "2021-11-10T06:59:34.117Z"
   },
   {
    "duration": 44,
    "start_time": "2021-11-10T06:59:34.280Z"
   },
   {
    "duration": 41,
    "start_time": "2021-11-10T06:59:34.327Z"
   },
   {
    "duration": 44,
    "start_time": "2021-11-10T06:59:34.370Z"
   },
   {
    "duration": 45,
    "start_time": "2021-11-10T06:59:34.416Z"
   },
   {
    "duration": 46,
    "start_time": "2021-11-10T06:59:34.464Z"
   },
   {
    "duration": 25,
    "start_time": "2021-11-10T06:59:34.512Z"
   },
   {
    "duration": 44,
    "start_time": "2021-11-10T06:59:34.559Z"
   },
   {
    "duration": 26,
    "start_time": "2021-11-10T06:59:34.605Z"
   },
   {
    "duration": 63,
    "start_time": "2021-11-10T06:59:34.634Z"
   },
   {
    "duration": 161,
    "start_time": "2021-11-10T06:59:34.699Z"
   },
   {
    "duration": 3185,
    "start_time": "2021-11-10T06:59:34.863Z"
   },
   {
    "duration": 94,
    "start_time": "2021-11-10T06:59:38.050Z"
   },
   {
    "duration": 33,
    "start_time": "2021-11-10T06:59:38.159Z"
   },
   {
    "duration": 26,
    "start_time": "2021-11-10T06:59:38.194Z"
   },
   {
    "duration": 50,
    "start_time": "2021-11-10T06:59:38.222Z"
   },
   {
    "duration": 370,
    "start_time": "2021-11-10T06:59:38.277Z"
   },
   {
    "duration": 1077,
    "start_time": "2021-11-10T06:59:38.650Z"
   },
   {
    "duration": 3,
    "start_time": "2021-11-10T06:59:39.729Z"
   },
   {
    "duration": 81,
    "start_time": "2021-11-10T06:59:39.735Z"
   },
   {
    "duration": 530,
    "start_time": "2021-11-10T06:59:39.818Z"
   },
   {
    "duration": 68,
    "start_time": "2021-11-10T06:59:40.351Z"
   },
   {
    "duration": 511,
    "start_time": "2021-11-10T06:59:40.421Z"
   },
   {
    "duration": 6,
    "start_time": "2021-11-10T06:59:40.934Z"
   },
   {
    "duration": 17,
    "start_time": "2021-11-10T06:59:40.942Z"
   },
   {
    "duration": 8,
    "start_time": "2021-11-10T06:59:40.961Z"
   },
   {
    "duration": 8,
    "start_time": "2021-11-10T06:59:40.971Z"
   },
   {
    "duration": 14,
    "start_time": "2021-11-10T06:59:40.981Z"
   },
   {
    "duration": 239682,
    "start_time": "2021-11-10T06:59:40.997Z"
   },
   {
    "duration": 462137,
    "start_time": "2021-11-10T07:03:40.682Z"
   },
   {
    "duration": 739,
    "start_time": "2021-11-10T07:11:22.822Z"
   },
   {
    "duration": 504,
    "start_time": "2021-11-10T07:11:23.565Z"
   },
   {
    "duration": -387,
    "start_time": "2021-11-10T07:11:24.459Z"
   },
   {
    "duration": -397,
    "start_time": "2021-11-10T07:11:24.470Z"
   },
   {
    "duration": 42514,
    "start_time": "2021-11-10T07:11:36.658Z"
   },
   {
    "duration": 132,
    "start_time": "2021-11-10T07:12:40.826Z"
   },
   {
    "duration": 979,
    "start_time": "2021-11-10T07:12:53.483Z"
   },
   {
    "duration": 7,
    "start_time": "2021-11-10T07:25:40.578Z"
   },
   {
    "duration": 66331,
    "start_time": "2021-11-10T07:25:50.630Z"
   },
   {
    "duration": 5,
    "start_time": "2021-11-10T07:36:35.332Z"
   },
   {
    "duration": 394,
    "start_time": "2021-11-10T07:40:16.689Z"
   },
   {
    "duration": 135,
    "start_time": "2021-11-10T07:40:21.185Z"
   },
   {
    "duration": 4,
    "start_time": "2021-11-10T07:40:33.385Z"
   },
   {
    "duration": 521,
    "start_time": "2021-11-10T07:40:35.738Z"
   },
   {
    "duration": 469,
    "start_time": "2021-11-10T07:42:43.600Z"
   },
   {
    "duration": 127,
    "start_time": "2021-11-10T07:45:00.560Z"
   },
   {
    "duration": 121,
    "start_time": "2021-11-10T07:45:11.239Z"
   },
   {
    "duration": 373,
    "start_time": "2021-11-10T07:46:18.599Z"
   },
   {
    "duration": 420,
    "start_time": "2021-11-10T07:48:55.568Z"
   },
   {
    "duration": 502,
    "start_time": "2021-11-10T07:49:08.063Z"
   },
   {
    "duration": 452,
    "start_time": "2021-11-10T07:49:38.407Z"
   },
   {
    "duration": 427,
    "start_time": "2021-11-10T07:50:17.445Z"
   },
   {
    "duration": 389,
    "start_time": "2021-11-10T07:50:48.527Z"
   },
   {
    "duration": 254,
    "start_time": "2021-11-10T07:50:54.769Z"
   },
   {
    "duration": 439,
    "start_time": "2021-11-10T07:51:30.910Z"
   },
   {
    "duration": 128,
    "start_time": "2021-11-10T07:52:53.383Z"
   },
   {
    "duration": 393,
    "start_time": "2021-11-10T07:53:02.278Z"
   },
   {
    "duration": 129,
    "start_time": "2021-11-10T07:55:13.357Z"
   },
   {
    "duration": 412,
    "start_time": "2021-11-10T07:55:24.158Z"
   },
   {
    "duration": 409,
    "start_time": "2021-11-10T07:57:07.061Z"
   },
   {
    "duration": 6,
    "start_time": "2021-11-10T08:08:05.929Z"
   },
   {
    "duration": 6088,
    "start_time": "2021-11-10T08:08:11.090Z"
   },
   {
    "duration": 443,
    "start_time": "2021-11-10T08:08:37.233Z"
   },
   {
    "duration": 6,
    "start_time": "2021-11-10T08:11:31.170Z"
   },
   {
    "duration": 752,
    "start_time": "2021-11-10T08:11:40.032Z"
   },
   {
    "duration": 4,
    "start_time": "2021-11-10T08:20:43.589Z"
   },
   {
    "duration": 9,
    "start_time": "2021-11-10T08:20:46.572Z"
   },
   {
    "duration": 132,
    "start_time": "2021-11-10T08:23:10.694Z"
   },
   {
    "duration": 703,
    "start_time": "2021-11-10T08:23:19.629Z"
   },
   {
    "duration": 5,
    "start_time": "2021-11-10T08:23:35.341Z"
   },
   {
    "duration": 1017,
    "start_time": "2021-11-10T08:23:40.349Z"
   },
   {
    "duration": 7,
    "start_time": "2021-11-10T08:25:03.708Z"
   },
   {
    "duration": 57366,
    "start_time": "2021-11-10T08:25:07.403Z"
   },
   {
    "duration": 5,
    "start_time": "2021-11-10T08:29:16.402Z"
   },
   {
    "duration": 4,
    "start_time": "2021-11-10T08:32:24.187Z"
   },
   {
    "duration": 917,
    "start_time": "2021-11-10T08:32:43.643Z"
   },
   {
    "duration": 959,
    "start_time": "2021-11-10T08:34:14.020Z"
   },
   {
    "duration": 940,
    "start_time": "2021-11-10T08:34:26.026Z"
   },
   {
    "duration": 6,
    "start_time": "2021-11-10T08:34:37.586Z"
   },
   {
    "duration": 1447,
    "start_time": "2021-11-10T08:34:43.065Z"
   },
   {
    "duration": 5,
    "start_time": "2021-11-10T08:35:03.107Z"
   },
   {
    "duration": 969,
    "start_time": "2021-11-10T08:35:10.994Z"
   },
   {
    "duration": 716,
    "start_time": "2021-11-10T08:40:30.944Z"
   },
   {
    "duration": 5,
    "start_time": "2021-11-10T08:40:40.816Z"
   },
   {
    "duration": 1020,
    "start_time": "2021-11-10T08:40:44.672Z"
   },
   {
    "duration": 980,
    "start_time": "2021-11-10T08:41:10.208Z"
   },
   {
    "duration": 5,
    "start_time": "2021-11-10T08:54:27.900Z"
   },
   {
    "duration": 5,
    "start_time": "2021-11-10T08:55:45.459Z"
   },
   {
    "duration": 1006,
    "start_time": "2021-11-10T08:55:50.756Z"
   },
   {
    "duration": 5,
    "start_time": "2021-11-10T08:55:57.275Z"
   },
   {
    "duration": 1545,
    "start_time": "2021-11-10T08:59:25.439Z"
   },
   {
    "duration": 1073,
    "start_time": "2021-11-10T08:59:26.987Z"
   },
   {
    "duration": 173,
    "start_time": "2021-11-10T08:59:28.063Z"
   },
   {
    "duration": 638,
    "start_time": "2021-11-10T08:59:28.238Z"
   },
   {
    "duration": 664,
    "start_time": "2021-11-10T08:59:28.878Z"
   },
   {
    "duration": 1302,
    "start_time": "2021-11-10T08:59:29.544Z"
   },
   {
    "duration": 167,
    "start_time": "2021-11-10T08:59:30.848Z"
   },
   {
    "duration": 59,
    "start_time": "2021-11-10T08:59:31.019Z"
   },
   {
    "duration": 28,
    "start_time": "2021-11-10T08:59:31.081Z"
   },
   {
    "duration": 63,
    "start_time": "2021-11-10T08:59:31.111Z"
   },
   {
    "duration": 28,
    "start_time": "2021-11-10T08:59:31.177Z"
   },
   {
    "duration": 66,
    "start_time": "2021-11-10T08:59:31.207Z"
   },
   {
    "duration": 25,
    "start_time": "2021-11-10T08:59:31.276Z"
   },
   {
    "duration": 63,
    "start_time": "2021-11-10T08:59:31.303Z"
   },
   {
    "duration": 26,
    "start_time": "2021-11-10T08:59:31.368Z"
   },
   {
    "duration": 67,
    "start_time": "2021-11-10T08:59:31.396Z"
   },
   {
    "duration": 161,
    "start_time": "2021-11-10T08:59:31.465Z"
   },
   {
    "duration": 3004,
    "start_time": "2021-11-10T08:59:31.628Z"
   },
   {
    "duration": 101,
    "start_time": "2021-11-10T08:59:34.635Z"
   },
   {
    "duration": 44,
    "start_time": "2021-11-10T08:59:34.739Z"
   },
   {
    "duration": 28,
    "start_time": "2021-11-10T08:59:34.785Z"
   },
   {
    "duration": 50,
    "start_time": "2021-11-10T08:59:34.815Z"
   },
   {
    "duration": 355,
    "start_time": "2021-11-10T08:59:34.870Z"
   },
   {
    "duration": 1106,
    "start_time": "2021-11-10T08:59:35.228Z"
   },
   {
    "duration": 3,
    "start_time": "2021-11-10T08:59:36.336Z"
   },
   {
    "duration": 73,
    "start_time": "2021-11-10T08:59:36.342Z"
   },
   {
    "duration": 514,
    "start_time": "2021-11-10T08:59:36.418Z"
   },
   {
    "duration": 78,
    "start_time": "2021-11-10T08:59:36.934Z"
   },
   {
    "duration": 513,
    "start_time": "2021-11-10T08:59:37.014Z"
   },
   {
    "duration": 5,
    "start_time": "2021-11-10T08:59:37.530Z"
   },
   {
    "duration": 21,
    "start_time": "2021-11-10T08:59:37.538Z"
   },
   {
    "duration": 5,
    "start_time": "2021-11-10T08:59:37.561Z"
   },
   {
    "duration": 11,
    "start_time": "2021-11-10T08:59:37.568Z"
   },
   {
    "duration": 240478,
    "start_time": "2021-11-10T08:59:37.581Z"
   },
   {
    "duration": 465747,
    "start_time": "2021-11-10T09:03:38.061Z"
   },
   {
    "duration": 860,
    "start_time": "2021-11-10T09:11:23.810Z"
   },
   {
    "duration": 7,
    "start_time": "2021-11-10T09:11:24.673Z"
   },
   {
    "duration": 80379,
    "start_time": "2021-11-10T09:11:24.683Z"
   },
   {
    "duration": 135,
    "start_time": "2021-11-10T09:12:45.065Z"
   },
   {
    "duration": -436,
    "start_time": "2021-11-10T09:12:45.638Z"
   },
   {
    "duration": -439,
    "start_time": "2021-11-10T09:12:45.642Z"
   },
   {
    "duration": 542,
    "start_time": "2021-11-10T09:15:07.300Z"
   },
   {
    "duration": 399,
    "start_time": "2021-11-10T09:16:55.448Z"
   },
   {
    "duration": 473,
    "start_time": "2021-11-10T09:17:16.480Z"
   },
   {
    "duration": 431,
    "start_time": "2021-11-10T09:19:25.935Z"
   },
   {
    "duration": 611,
    "start_time": "2021-11-10T09:19:45.783Z"
   },
   {
    "duration": 497,
    "start_time": "2021-11-10T09:20:03.595Z"
   },
   {
    "duration": 487,
    "start_time": "2021-11-10T09:20:44.559Z"
   },
   {
    "duration": 5,
    "start_time": "2021-11-10T09:21:12.151Z"
   },
   {
    "duration": 443,
    "start_time": "2021-11-10T09:21:31.808Z"
   },
   {
    "duration": 13,
    "start_time": "2021-11-10T09:21:44.998Z"
   },
   {
    "duration": 13,
    "start_time": "2021-11-10T09:21:51.417Z"
   },
   {
    "duration": 1453,
    "start_time": "2021-11-10T12:07:18.525Z"
   },
   {
    "duration": 1094,
    "start_time": "2021-11-10T12:07:19.981Z"
   },
   {
    "duration": 168,
    "start_time": "2021-11-10T12:07:21.078Z"
   },
   {
    "duration": 632,
    "start_time": "2021-11-10T12:07:21.249Z"
   },
   {
    "duration": 649,
    "start_time": "2021-11-10T12:07:21.883Z"
   },
   {
    "duration": 1312,
    "start_time": "2021-11-10T12:07:22.534Z"
   },
   {
    "duration": 161,
    "start_time": "2021-11-10T12:07:23.848Z"
   },
   {
    "duration": 45,
    "start_time": "2021-11-10T12:07:24.024Z"
   },
   {
    "duration": 50,
    "start_time": "2021-11-10T12:07:24.073Z"
   },
   {
    "duration": 46,
    "start_time": "2021-11-10T12:07:24.126Z"
   },
   {
    "duration": 48,
    "start_time": "2021-11-10T12:07:24.174Z"
   },
   {
    "duration": 42,
    "start_time": "2021-11-10T12:07:24.225Z"
   },
   {
    "duration": 27,
    "start_time": "2021-11-10T12:07:24.269Z"
   },
   {
    "duration": 44,
    "start_time": "2021-11-10T12:07:24.322Z"
   },
   {
    "duration": 28,
    "start_time": "2021-11-10T12:07:24.368Z"
   },
   {
    "duration": 45,
    "start_time": "2021-11-10T12:07:24.422Z"
   },
   {
    "duration": 177,
    "start_time": "2021-11-10T12:07:24.470Z"
   },
   {
    "duration": 3633,
    "start_time": "2021-11-10T12:07:24.650Z"
   },
   {
    "duration": 114,
    "start_time": "2021-11-10T12:07:28.287Z"
   },
   {
    "duration": 47,
    "start_time": "2021-11-10T12:07:28.404Z"
   },
   {
    "duration": 25,
    "start_time": "2021-11-10T12:07:28.454Z"
   },
   {
    "duration": 48,
    "start_time": "2021-11-10T12:07:28.481Z"
   },
   {
    "duration": 370,
    "start_time": "2021-11-10T12:07:28.534Z"
   },
   {
    "duration": 1108,
    "start_time": "2021-11-10T12:07:28.907Z"
   },
   {
    "duration": 6,
    "start_time": "2021-11-10T12:07:30.017Z"
   },
   {
    "duration": 85,
    "start_time": "2021-11-10T12:07:30.026Z"
   },
   {
    "duration": 577,
    "start_time": "2021-11-10T12:07:30.114Z"
   },
   {
    "duration": 81,
    "start_time": "2021-11-10T12:07:30.693Z"
   },
   {
    "duration": 547,
    "start_time": "2021-11-10T12:07:30.777Z"
   },
   {
    "duration": 7,
    "start_time": "2021-11-10T12:07:31.326Z"
   },
   {
    "duration": 19,
    "start_time": "2021-11-10T12:07:31.336Z"
   },
   {
    "duration": 32,
    "start_time": "2021-11-10T12:07:31.357Z"
   },
   {
    "duration": 70,
    "start_time": "2021-11-10T12:07:31.391Z"
   },
   {
    "duration": 252330,
    "start_time": "2021-11-10T12:07:31.464Z"
   },
   {
    "duration": 493830,
    "start_time": "2021-11-10T12:11:43.796Z"
   },
   {
    "duration": 1000,
    "start_time": "2021-11-10T12:19:57.629Z"
   },
   {
    "duration": 6,
    "start_time": "2021-11-10T12:19:58.631Z"
   },
   {
    "duration": 83887,
    "start_time": "2021-11-10T12:19:58.639Z"
   },
   {
    "duration": 5,
    "start_time": "2021-11-10T12:21:22.529Z"
   },
   {
    "duration": 18,
    "start_time": "2021-11-10T12:21:22.537Z"
   },
   {
    "duration": 482,
    "start_time": "2021-11-10T12:21:22.558Z"
   },
   {
    "duration": -937,
    "start_time": "2021-11-10T12:21:23.980Z"
   },
   {
    "duration": 414,
    "start_time": "2021-11-10T17:29:44.255Z"
   },
   {
    "duration": 308,
    "start_time": "2021-11-10T17:30:31.718Z"
   },
   {
    "duration": 1479,
    "start_time": "2021-11-10T17:30:40.344Z"
   },
   {
    "duration": 1211,
    "start_time": "2021-11-10T17:30:41.825Z"
   },
   {
    "duration": 164,
    "start_time": "2021-11-10T17:30:43.039Z"
   },
   {
    "duration": 617,
    "start_time": "2021-11-10T17:30:43.206Z"
   },
   {
    "duration": 630,
    "start_time": "2021-11-10T17:30:43.826Z"
   },
   {
    "duration": 1258,
    "start_time": "2021-11-10T17:30:44.458Z"
   },
   {
    "duration": 180,
    "start_time": "2021-11-10T17:30:45.718Z"
   },
   {
    "duration": 46,
    "start_time": "2021-11-10T17:30:45.903Z"
   },
   {
    "duration": 42,
    "start_time": "2021-11-10T17:30:45.952Z"
   },
   {
    "duration": 48,
    "start_time": "2021-11-10T17:30:45.997Z"
   },
   {
    "duration": 42,
    "start_time": "2021-11-10T17:30:46.048Z"
   },
   {
    "duration": 54,
    "start_time": "2021-11-10T17:30:46.092Z"
   },
   {
    "duration": 35,
    "start_time": "2021-11-10T17:30:46.148Z"
   },
   {
    "duration": 58,
    "start_time": "2021-11-10T17:30:46.186Z"
   },
   {
    "duration": 27,
    "start_time": "2021-11-10T17:30:46.246Z"
   },
   {
    "duration": 54,
    "start_time": "2021-11-10T17:30:46.282Z"
   },
   {
    "duration": 173,
    "start_time": "2021-11-10T17:30:46.339Z"
   },
   {
    "duration": 3171,
    "start_time": "2021-11-10T17:30:46.514Z"
   },
   {
    "duration": 107,
    "start_time": "2021-11-10T17:30:49.688Z"
   },
   {
    "duration": 34,
    "start_time": "2021-11-10T17:30:49.798Z"
   },
   {
    "duration": 26,
    "start_time": "2021-11-10T17:30:49.834Z"
   },
   {
    "duration": 24,
    "start_time": "2021-11-10T17:30:49.881Z"
   },
   {
    "duration": 393,
    "start_time": "2021-11-10T17:30:49.910Z"
   },
   {
    "duration": 1136,
    "start_time": "2021-11-10T17:30:50.306Z"
   },
   {
    "duration": 3,
    "start_time": "2021-11-10T17:30:51.445Z"
   },
   {
    "duration": 89,
    "start_time": "2021-11-10T17:30:51.451Z"
   },
   {
    "duration": 649,
    "start_time": "2021-11-10T17:30:51.542Z"
   },
   {
    "duration": 70,
    "start_time": "2021-11-10T17:30:52.193Z"
   },
   {
    "duration": 549,
    "start_time": "2021-11-10T17:30:52.265Z"
   },
   {
    "duration": 6,
    "start_time": "2021-11-10T17:30:52.816Z"
   },
   {
    "duration": 8,
    "start_time": "2021-11-10T17:30:52.824Z"
   },
   {
    "duration": 11,
    "start_time": "2021-11-10T17:30:52.834Z"
   },
   {
    "duration": 11,
    "start_time": "2021-11-10T17:30:52.848Z"
   },
   {
    "duration": 267317,
    "start_time": "2021-11-10T17:30:52.884Z"
   },
   {
    "duration": 143469,
    "start_time": "2021-11-10T17:35:20.204Z"
   },
   {
    "duration": 926,
    "start_time": "2021-11-10T17:37:43.676Z"
   },
   {
    "duration": 1429,
    "start_time": "2021-11-10T17:37:54.790Z"
   },
   {
    "duration": 1104,
    "start_time": "2021-11-10T17:37:56.222Z"
   },
   {
    "duration": 166,
    "start_time": "2021-11-10T17:37:57.329Z"
   },
   {
    "duration": 618,
    "start_time": "2021-11-10T17:37:57.498Z"
   },
   {
    "duration": 634,
    "start_time": "2021-11-10T17:37:58.118Z"
   },
   {
    "duration": 1264,
    "start_time": "2021-11-10T17:37:58.754Z"
   },
   {
    "duration": 170,
    "start_time": "2021-11-10T17:38:00.021Z"
   },
   {
    "duration": 54,
    "start_time": "2021-11-10T17:38:00.195Z"
   },
   {
    "duration": 39,
    "start_time": "2021-11-10T17:38:00.252Z"
   },
   {
    "duration": 54,
    "start_time": "2021-11-10T17:38:00.294Z"
   },
   {
    "duration": 40,
    "start_time": "2021-11-10T17:38:00.351Z"
   },
   {
    "duration": 56,
    "start_time": "2021-11-10T17:38:00.394Z"
   },
   {
    "duration": 39,
    "start_time": "2021-11-10T17:38:00.453Z"
   },
   {
    "duration": 58,
    "start_time": "2021-11-10T17:38:00.495Z"
   },
   {
    "duration": 50,
    "start_time": "2021-11-10T17:38:00.556Z"
   },
   {
    "duration": 73,
    "start_time": "2021-11-10T17:38:00.609Z"
   },
   {
    "duration": 157,
    "start_time": "2021-11-10T17:38:00.685Z"
   },
   {
    "duration": 3437,
    "start_time": "2021-11-10T17:38:00.844Z"
   },
   {
    "duration": 105,
    "start_time": "2021-11-10T17:38:04.284Z"
   },
   {
    "duration": 36,
    "start_time": "2021-11-10T17:38:04.392Z"
   },
   {
    "duration": 51,
    "start_time": "2021-11-10T17:38:04.431Z"
   },
   {
    "duration": 29,
    "start_time": "2021-11-10T17:38:04.484Z"
   },
   {
    "duration": 400,
    "start_time": "2021-11-10T17:38:04.519Z"
   },
   {
    "duration": 1117,
    "start_time": "2021-11-10T17:38:04.922Z"
   },
   {
    "duration": 3,
    "start_time": "2021-11-10T17:38:06.042Z"
   },
   {
    "duration": 90,
    "start_time": "2021-11-10T17:38:06.047Z"
   },
   {
    "duration": 544,
    "start_time": "2021-11-10T17:38:06.139Z"
   },
   {
    "duration": 75,
    "start_time": "2021-11-10T17:38:06.686Z"
   },
   {
    "duration": 545,
    "start_time": "2021-11-10T17:38:06.764Z"
   },
   {
    "duration": 5,
    "start_time": "2021-11-10T17:38:07.312Z"
   },
   {
    "duration": 14,
    "start_time": "2021-11-10T17:38:07.320Z"
   },
   {
    "duration": 33,
    "start_time": "2021-11-10T17:38:07.336Z"
   },
   {
    "duration": 16,
    "start_time": "2021-11-10T17:38:07.371Z"
   },
   {
    "duration": 494423,
    "start_time": "2021-11-10T17:38:07.389Z"
   },
   {
    "duration": 1923,
    "start_time": "2021-11-10T17:49:18.642Z"
   },
   {
    "duration": 1149,
    "start_time": "2021-11-10T17:49:20.567Z"
   },
   {
    "duration": 168,
    "start_time": "2021-11-10T17:49:21.719Z"
   },
   {
    "duration": 649,
    "start_time": "2021-11-10T17:49:21.890Z"
   },
   {
    "duration": 689,
    "start_time": "2021-11-10T17:49:22.542Z"
   },
   {
    "duration": 1454,
    "start_time": "2021-11-10T17:49:23.233Z"
   },
   {
    "duration": 174,
    "start_time": "2021-11-10T17:49:24.690Z"
   },
   {
    "duration": 53,
    "start_time": "2021-11-10T17:49:24.868Z"
   },
   {
    "duration": 27,
    "start_time": "2021-11-10T17:49:24.923Z"
   },
   {
    "duration": 73,
    "start_time": "2021-11-10T17:49:24.953Z"
   },
   {
    "duration": 28,
    "start_time": "2021-11-10T17:49:25.028Z"
   },
   {
    "duration": 47,
    "start_time": "2021-11-10T17:49:25.081Z"
   },
   {
    "duration": 24,
    "start_time": "2021-11-10T17:49:25.131Z"
   },
   {
    "duration": 68,
    "start_time": "2021-11-10T17:49:25.157Z"
   },
   {
    "duration": 27,
    "start_time": "2021-11-10T17:49:25.228Z"
   },
   {
    "duration": 65,
    "start_time": "2021-11-10T17:49:25.258Z"
   },
   {
    "duration": 171,
    "start_time": "2021-11-10T17:49:25.326Z"
   },
   {
    "duration": 3256,
    "start_time": "2021-11-10T17:49:25.500Z"
   },
   {
    "duration": 107,
    "start_time": "2021-11-10T17:49:28.759Z"
   },
   {
    "duration": 37,
    "start_time": "2021-11-10T17:49:28.881Z"
   },
   {
    "duration": 26,
    "start_time": "2021-11-10T17:49:28.921Z"
   },
   {
    "duration": 48,
    "start_time": "2021-11-10T17:49:28.950Z"
   },
   {
    "duration": 406,
    "start_time": "2021-11-10T17:49:29.004Z"
   },
   {
    "duration": 1194,
    "start_time": "2021-11-10T17:49:29.413Z"
   },
   {
    "duration": 4,
    "start_time": "2021-11-10T17:49:30.610Z"
   },
   {
    "duration": 105,
    "start_time": "2021-11-10T17:49:30.617Z"
   },
   {
    "duration": 605,
    "start_time": "2021-11-10T17:49:30.724Z"
   },
   {
    "duration": 98,
    "start_time": "2021-11-10T17:49:31.331Z"
   },
   {
    "duration": 602,
    "start_time": "2021-11-10T17:49:31.432Z"
   },
   {
    "duration": 6,
    "start_time": "2021-11-10T17:49:32.037Z"
   },
   {
    "duration": 10,
    "start_time": "2021-11-10T17:49:32.045Z"
   },
   {
    "duration": 25,
    "start_time": "2021-11-10T17:49:32.057Z"
   },
   {
    "duration": 19,
    "start_time": "2021-11-10T17:49:32.086Z"
   },
   {
    "duration": 314336,
    "start_time": "2021-11-10T17:49:32.107Z"
   },
   {
    "duration": 10484,
    "start_time": "2021-11-10T17:54:46.446Z"
   },
   {
    "duration": 1560,
    "start_time": "2021-11-10T17:54:56.933Z"
   },
   {
    "duration": 362,
    "start_time": "2021-11-10T17:55:17.063Z"
   },
   {
    "duration": 1633,
    "start_time": "2021-11-10T17:55:39.114Z"
   },
   {
    "duration": 1641,
    "start_time": "2021-11-10T17:55:40.750Z"
   },
   {
    "duration": 290,
    "start_time": "2021-11-10T17:55:42.394Z"
   },
   {
    "duration": 1033,
    "start_time": "2021-11-10T17:55:42.688Z"
   },
   {
    "duration": 1006,
    "start_time": "2021-11-10T17:55:43.724Z"
   },
   {
    "duration": 1940,
    "start_time": "2021-11-10T17:55:44.732Z"
   },
   {
    "duration": 283,
    "start_time": "2021-11-10T17:55:46.683Z"
   },
   {
    "duration": 77,
    "start_time": "2021-11-10T17:55:46.972Z"
   },
   {
    "duration": 38,
    "start_time": "2021-11-10T17:55:47.053Z"
   },
   {
    "duration": 45,
    "start_time": "2021-11-10T17:55:47.094Z"
   },
   {
    "duration": 48,
    "start_time": "2021-11-10T17:55:47.142Z"
   },
   {
    "duration": 45,
    "start_time": "2021-11-10T17:55:47.192Z"
   },
   {
    "duration": 47,
    "start_time": "2021-11-10T17:55:47.239Z"
   },
   {
    "duration": 49,
    "start_time": "2021-11-10T17:55:47.288Z"
   },
   {
    "duration": 49,
    "start_time": "2021-11-10T17:55:47.339Z"
   },
   {
    "duration": 93,
    "start_time": "2021-11-10T17:55:47.391Z"
   },
   {
    "duration": 195,
    "start_time": "2021-11-10T17:55:47.488Z"
   },
   {
    "duration": 3124,
    "start_time": "2021-11-10T17:55:47.686Z"
   },
   {
    "duration": 114,
    "start_time": "2021-11-10T17:55:50.813Z"
   },
   {
    "duration": 33,
    "start_time": "2021-11-10T17:55:50.929Z"
   },
   {
    "duration": 39,
    "start_time": "2021-11-10T17:55:50.965Z"
   },
   {
    "duration": 23,
    "start_time": "2021-11-10T17:55:51.007Z"
   },
   {
    "duration": 398,
    "start_time": "2021-11-10T17:55:51.035Z"
   },
   {
    "duration": 1137,
    "start_time": "2021-11-10T17:55:51.436Z"
   },
   {
    "duration": 7,
    "start_time": "2021-11-10T17:55:52.575Z"
   },
   {
    "duration": 72,
    "start_time": "2021-11-10T17:55:52.584Z"
   },
   {
    "duration": 661,
    "start_time": "2021-11-10T17:55:52.658Z"
   },
   {
    "duration": 83,
    "start_time": "2021-11-10T17:55:53.322Z"
   },
   {
    "duration": 543,
    "start_time": "2021-11-10T17:55:53.407Z"
   },
   {
    "duration": 6,
    "start_time": "2021-11-10T17:55:53.952Z"
   },
   {
    "duration": 22,
    "start_time": "2021-11-10T17:55:53.960Z"
   },
   {
    "duration": 4,
    "start_time": "2021-11-10T17:55:53.985Z"
   },
   {
    "duration": 12,
    "start_time": "2021-11-10T17:55:53.991Z"
   },
   {
    "duration": 128532,
    "start_time": "2021-11-10T17:55:54.005Z"
   },
   {
    "duration": 8807,
    "start_time": "2021-11-10T17:58:02.540Z"
   },
   {
    "duration": 1472,
    "start_time": "2021-11-10T17:58:11.350Z"
   },
   {
    "duration": 43448,
    "start_time": "2021-11-10T17:58:12.881Z"
   },
   {
    "duration": 310,
    "start_time": "2021-11-10T17:58:56.331Z"
   },
   {
    "duration": -1300,
    "start_time": "2021-11-10T17:58:57.944Z"
   },
   {
    "duration": -1312,
    "start_time": "2021-11-10T17:58:57.958Z"
   },
   {
    "duration": -1315,
    "start_time": "2021-11-10T17:58:57.962Z"
   },
   {
    "duration": -1321,
    "start_time": "2021-11-10T17:58:57.970Z"
   },
   {
    "duration": -1324,
    "start_time": "2021-11-10T17:58:57.974Z"
   },
   {
    "duration": -1320,
    "start_time": "2021-11-10T17:58:57.978Z"
   },
   {
    "duration": 4,
    "start_time": "2021-11-10T17:59:00.215Z"
   },
   {
    "duration": 201,
    "start_time": "2021-11-10T17:59:12.671Z"
   },
   {
    "duration": 67,
    "start_time": "2021-11-10T17:59:54.167Z"
   },
   {
    "duration": 648,
    "start_time": "2021-11-10T17:59:56.094Z"
   },
   {
    "duration": 6,
    "start_time": "2021-11-10T18:00:05.534Z"
   },
   {
    "duration": 5,
    "start_time": "2021-11-10T18:00:07.013Z"
   },
   {
    "duration": 4,
    "start_time": "2021-11-10T18:00:09.413Z"
   },
   {
    "duration": 13,
    "start_time": "2021-11-10T18:00:10.238Z"
   },
   {
    "duration": 117622,
    "start_time": "2021-11-10T18:00:14.549Z"
   },
   {
    "duration": 1636,
    "start_time": "2021-11-10T18:03:36.795Z"
   },
   {
    "duration": 1113,
    "start_time": "2021-11-10T18:03:38.437Z"
   },
   {
    "duration": 164,
    "start_time": "2021-11-10T18:03:39.553Z"
   },
   {
    "duration": 631,
    "start_time": "2021-11-10T18:03:39.719Z"
   },
   {
    "duration": 631,
    "start_time": "2021-11-10T18:03:40.352Z"
   },
   {
    "duration": 1226,
    "start_time": "2021-11-10T18:03:40.985Z"
   },
   {
    "duration": 168,
    "start_time": "2021-11-10T18:03:42.215Z"
   },
   {
    "duration": 46,
    "start_time": "2021-11-10T18:03:42.386Z"
   },
   {
    "duration": 26,
    "start_time": "2021-11-10T18:03:42.435Z"
   },
   {
    "duration": 43,
    "start_time": "2021-11-10T18:03:42.483Z"
   },
   {
    "duration": 26,
    "start_time": "2021-11-10T18:03:42.529Z"
   },
   {
    "duration": 66,
    "start_time": "2021-11-10T18:03:42.558Z"
   },
   {
    "duration": 26,
    "start_time": "2021-11-10T18:03:42.626Z"
   },
   {
    "duration": 44,
    "start_time": "2021-11-10T18:03:42.681Z"
   },
   {
    "duration": 28,
    "start_time": "2021-11-10T18:03:42.728Z"
   },
   {
    "duration": 65,
    "start_time": "2021-11-10T18:03:42.759Z"
   },
   {
    "duration": 169,
    "start_time": "2021-11-10T18:03:42.827Z"
   },
   {
    "duration": 3232,
    "start_time": "2021-11-10T18:03:42.998Z"
   },
   {
    "duration": 112,
    "start_time": "2021-11-10T18:03:46.232Z"
   },
   {
    "duration": 39,
    "start_time": "2021-11-10T18:03:46.346Z"
   },
   {
    "duration": 27,
    "start_time": "2021-11-10T18:03:46.387Z"
   },
   {
    "duration": 24,
    "start_time": "2021-11-10T18:03:46.419Z"
   },
   {
    "duration": 405,
    "start_time": "2021-11-10T18:03:46.446Z"
   },
   {
    "duration": 1139,
    "start_time": "2021-11-10T18:03:46.854Z"
   },
   {
    "duration": 3,
    "start_time": "2021-11-10T18:03:47.996Z"
   },
   {
    "duration": 88,
    "start_time": "2021-11-10T18:03:48.002Z"
   },
   {
    "duration": 563,
    "start_time": "2021-11-10T18:03:48.093Z"
   },
   {
    "duration": 87,
    "start_time": "2021-11-10T18:03:48.659Z"
   },
   {
    "duration": 535,
    "start_time": "2021-11-10T18:03:48.748Z"
   },
   {
    "duration": 6,
    "start_time": "2021-11-10T18:03:49.285Z"
   },
   {
    "duration": 10,
    "start_time": "2021-11-10T18:03:49.293Z"
   },
   {
    "duration": 11,
    "start_time": "2021-11-10T18:03:49.305Z"
   },
   {
    "duration": 17,
    "start_time": "2021-11-10T18:03:49.318Z"
   },
   {
    "duration": 1529,
    "start_time": "2021-11-10T18:19:30.415Z"
   },
   {
    "duration": 1139,
    "start_time": "2021-11-10T18:19:31.947Z"
   },
   {
    "duration": 166,
    "start_time": "2021-11-10T18:19:33.089Z"
   },
   {
    "duration": 615,
    "start_time": "2021-11-10T18:19:33.258Z"
   },
   {
    "duration": 644,
    "start_time": "2021-11-10T18:19:33.875Z"
   },
   {
    "duration": 1297,
    "start_time": "2021-11-10T18:19:34.521Z"
   },
   {
    "duration": 165,
    "start_time": "2021-11-10T18:19:35.820Z"
   },
   {
    "duration": 47,
    "start_time": "2021-11-10T18:19:35.988Z"
   },
   {
    "duration": 44,
    "start_time": "2021-11-10T18:19:36.038Z"
   },
   {
    "duration": 48,
    "start_time": "2021-11-10T18:19:36.084Z"
   },
   {
    "duration": 27,
    "start_time": "2021-11-10T18:19:36.134Z"
   },
   {
    "duration": 46,
    "start_time": "2021-11-10T18:19:36.183Z"
   },
   {
    "duration": 25,
    "start_time": "2021-11-10T18:19:36.231Z"
   },
   {
    "duration": 45,
    "start_time": "2021-11-10T18:19:36.282Z"
   },
   {
    "duration": 29,
    "start_time": "2021-11-10T18:19:36.329Z"
   },
   {
    "duration": 65,
    "start_time": "2021-11-10T18:19:36.360Z"
   },
   {
    "duration": 165,
    "start_time": "2021-11-10T18:19:36.427Z"
   },
   {
    "duration": 3196,
    "start_time": "2021-11-10T18:19:36.595Z"
   },
   {
    "duration": 107,
    "start_time": "2021-11-10T18:19:39.793Z"
   },
   {
    "duration": 37,
    "start_time": "2021-11-10T18:19:39.902Z"
   },
   {
    "duration": 47,
    "start_time": "2021-11-10T18:19:39.941Z"
   },
   {
    "duration": 31,
    "start_time": "2021-11-10T18:19:39.990Z"
   },
   {
    "duration": 434,
    "start_time": "2021-11-10T18:19:40.028Z"
   },
   {
    "duration": 1261,
    "start_time": "2021-11-10T18:19:40.466Z"
   },
   {
    "duration": 3,
    "start_time": "2021-11-10T18:19:41.729Z"
   },
   {
    "duration": 92,
    "start_time": "2021-11-10T18:19:41.734Z"
   },
   {
    "duration": 540,
    "start_time": "2021-11-10T18:19:41.829Z"
   },
   {
    "duration": 74,
    "start_time": "2021-11-10T18:19:42.372Z"
   },
   {
    "duration": 541,
    "start_time": "2021-11-10T18:19:42.448Z"
   },
   {
    "duration": 6,
    "start_time": "2021-11-10T18:19:42.991Z"
   },
   {
    "duration": 43,
    "start_time": "2021-11-10T18:19:42.999Z"
   },
   {
    "duration": 11,
    "start_time": "2021-11-10T18:19:43.044Z"
   },
   {
    "duration": 10,
    "start_time": "2021-11-10T18:19:43.058Z"
   },
   {
    "duration": 248601,
    "start_time": "2021-11-10T18:19:43.071Z"
   },
   {
    "duration": 483706,
    "start_time": "2021-11-10T18:23:51.682Z"
   },
   {
    "duration": 1013,
    "start_time": "2021-11-10T18:31:55.390Z"
   },
   {
    "duration": 79084,
    "start_time": "2021-11-10T18:31:56.405Z"
   },
   {
    "duration": 5,
    "start_time": "2021-11-10T18:33:15.491Z"
   },
   {
    "duration": 14,
    "start_time": "2021-11-10T18:33:15.498Z"
   },
   {
    "duration": 4,
    "start_time": "2021-11-10T18:33:15.583Z"
   },
   {
    "duration": 104,
    "start_time": "2021-11-10T18:33:15.589Z"
   },
   {
    "duration": -975,
    "start_time": "2021-11-10T18:33:16.670Z"
   },
   {
    "duration": -977,
    "start_time": "2021-11-10T18:33:16.673Z"
   },
   {
    "duration": 481,
    "start_time": "2021-11-10T18:36:05.673Z"
   },
   {
    "duration": 755,
    "start_time": "2021-11-10T18:36:53.272Z"
   },
   {
    "duration": 430,
    "start_time": "2021-11-10T18:37:46.062Z"
   },
   {
    "duration": 461,
    "start_time": "2021-11-10T18:37:59.822Z"
   },
   {
    "duration": 408,
    "start_time": "2021-11-10T18:39:35.102Z"
   },
   {
    "duration": 325,
    "start_time": "2021-11-10T18:40:20.252Z"
   },
   {
    "duration": 425,
    "start_time": "2021-11-10T18:40:41.885Z"
   },
   {
    "duration": 108,
    "start_time": "2021-11-10T18:43:21.203Z"
   },
   {
    "duration": 469,
    "start_time": "2021-11-10T18:43:55.026Z"
   },
   {
    "duration": 580,
    "start_time": "2021-11-10T18:46:47.506Z"
   },
   {
    "duration": 532,
    "start_time": "2021-11-10T18:46:59.761Z"
   },
   {
    "duration": 492,
    "start_time": "2021-11-10T18:49:12.592Z"
   },
   {
    "duration": 499,
    "start_time": "2021-11-10T18:49:41.288Z"
   },
   {
    "duration": 388,
    "start_time": "2021-11-10T18:50:54.303Z"
   },
   {
    "duration": 1449,
    "start_time": "2021-11-10T18:51:53.288Z"
   },
   {
    "duration": 105,
    "start_time": "2021-11-10T18:52:25.735Z"
   },
   {
    "duration": 442,
    "start_time": "2021-11-10T18:55:24.653Z"
   },
   {
    "duration": 13,
    "start_time": "2021-11-10T18:55:42.045Z"
   },
   {
    "duration": 6,
    "start_time": "2021-11-10T18:56:03.141Z"
   },
   {
    "duration": 482,
    "start_time": "2021-11-10T18:59:16.900Z"
   },
   {
    "duration": 100,
    "start_time": "2021-11-10T19:01:26.166Z"
   },
   {
    "duration": 382,
    "start_time": "2021-11-10T19:01:51.683Z"
   },
   {
    "duration": 14,
    "start_time": "2021-11-10T19:02:07.931Z"
   },
   {
    "duration": 14,
    "start_time": "2021-11-10T19:03:19.971Z"
   },
   {
    "duration": 331,
    "start_time": "2021-11-10T19:04:33.772Z"
   },
   {
    "duration": 13,
    "start_time": "2021-11-10T19:04:43.108Z"
   },
   {
    "duration": 300,
    "start_time": "2021-11-10T19:14:29.572Z"
   },
   {
    "duration": 18,
    "start_time": "2021-11-10T19:15:10.788Z"
   },
   {
    "duration": 430,
    "start_time": "2021-11-10T19:18:03.073Z"
   },
   {
    "duration": 797,
    "start_time": "2021-11-10T19:31:14.173Z"
   },
   {
    "duration": 551,
    "start_time": "2021-11-10T19:32:06.031Z"
   },
   {
    "duration": 5,
    "start_time": "2021-11-10T19:32:13.886Z"
   },
   {
    "duration": 461,
    "start_time": "2021-11-10T19:33:43.925Z"
   },
   {
    "duration": 16,
    "start_time": "2021-11-10T19:35:32.164Z"
   },
   {
    "duration": 16,
    "start_time": "2021-11-10T19:35:54.141Z"
   },
   {
    "duration": 218,
    "start_time": "2021-11-10T19:44:14.170Z"
   },
   {
    "duration": 1251,
    "start_time": "2021-11-10T19:44:38.123Z"
   },
   {
    "duration": 5,
    "start_time": "2021-11-10T19:50:32.272Z"
   },
   {
    "duration": 12789,
    "start_time": "2021-11-10T20:00:49.702Z"
   },
   {
    "duration": 5,
    "start_time": "2021-11-10T20:01:29.236Z"
   },
   {
    "duration": 5,
    "start_time": "2021-11-10T20:05:32.749Z"
   },
   {
    "duration": 155,
    "start_time": "2021-11-10T20:07:23.813Z"
   },
   {
    "duration": 18,
    "start_time": "2021-11-10T20:07:34.987Z"
   },
   {
    "duration": 1498,
    "start_time": "2021-11-10T20:08:41.838Z"
   },
   {
    "duration": 1188,
    "start_time": "2021-11-10T20:08:43.341Z"
   },
   {
    "duration": 168,
    "start_time": "2021-11-10T20:08:44.535Z"
   },
   {
    "duration": 683,
    "start_time": "2021-11-10T20:08:44.705Z"
   },
   {
    "duration": 675,
    "start_time": "2021-11-10T20:08:45.391Z"
   },
   {
    "duration": 1358,
    "start_time": "2021-11-10T20:08:46.068Z"
   },
   {
    "duration": 187,
    "start_time": "2021-11-10T20:08:47.430Z"
   },
   {
    "duration": 62,
    "start_time": "2021-11-10T20:08:47.620Z"
   },
   {
    "duration": 28,
    "start_time": "2021-11-10T20:08:47.684Z"
   },
   {
    "duration": 69,
    "start_time": "2021-11-10T20:08:47.714Z"
   },
   {
    "duration": 28,
    "start_time": "2021-11-10T20:08:47.786Z"
   },
   {
    "duration": 65,
    "start_time": "2021-11-10T20:08:47.816Z"
   },
   {
    "duration": 26,
    "start_time": "2021-11-10T20:08:47.884Z"
   },
   {
    "duration": 48,
    "start_time": "2021-11-10T20:08:47.912Z"
   },
   {
    "duration": 44,
    "start_time": "2021-11-10T20:08:47.962Z"
   },
   {
    "duration": 47,
    "start_time": "2021-11-10T20:08:48.009Z"
   },
   {
    "duration": 188,
    "start_time": "2021-11-10T20:08:48.059Z"
   },
   {
    "duration": 3151,
    "start_time": "2021-11-10T20:08:48.250Z"
   },
   {
    "duration": 108,
    "start_time": "2021-11-10T20:08:51.403Z"
   },
   {
    "duration": 36,
    "start_time": "2021-11-10T20:08:51.513Z"
   },
   {
    "duration": 46,
    "start_time": "2021-11-10T20:08:51.551Z"
   },
   {
    "duration": 27,
    "start_time": "2021-11-10T20:08:51.603Z"
   },
   {
    "duration": 434,
    "start_time": "2021-11-10T20:08:51.633Z"
   },
   {
    "duration": 1132,
    "start_time": "2021-11-10T20:08:52.070Z"
   },
   {
    "duration": 3,
    "start_time": "2021-11-10T20:08:53.204Z"
   },
   {
    "duration": 90,
    "start_time": "2021-11-10T20:08:53.209Z"
   },
   {
    "duration": 566,
    "start_time": "2021-11-10T20:08:53.301Z"
   },
   {
    "duration": 77,
    "start_time": "2021-11-10T20:08:53.869Z"
   },
   {
    "duration": 539,
    "start_time": "2021-11-10T20:08:53.948Z"
   },
   {
    "duration": 5,
    "start_time": "2021-11-10T20:08:54.490Z"
   },
   {
    "duration": 8,
    "start_time": "2021-11-10T20:08:54.497Z"
   },
   {
    "duration": 8,
    "start_time": "2021-11-10T20:08:54.507Z"
   },
   {
    "duration": 11,
    "start_time": "2021-11-10T20:08:54.517Z"
   },
   {
    "duration": 348,
    "start_time": "2021-11-10T20:08:54.530Z"
   },
   {
    "duration": 209,
    "start_time": "2021-11-10T20:08:54.880Z"
   },
   {
    "duration": 227,
    "start_time": "2021-11-10T20:08:55.091Z"
   },
   {
    "duration": 220,
    "start_time": "2021-11-10T20:08:55.320Z"
   },
   {
    "duration": 318,
    "start_time": "2021-11-10T20:08:55.542Z"
   },
   {
    "duration": -1004,
    "start_time": "2021-11-10T20:08:56.867Z"
   },
   {
    "duration": -1012,
    "start_time": "2021-11-10T20:08:56.876Z"
   },
   {
    "duration": -1017,
    "start_time": "2021-11-10T20:08:56.882Z"
   },
   {
    "duration": -1018,
    "start_time": "2021-11-10T20:08:56.884Z"
   },
   {
    "duration": 5,
    "start_time": "2021-11-10T20:12:02.548Z"
   },
   {
    "duration": 5,
    "start_time": "2021-11-10T20:12:04.883Z"
   },
   {
    "duration": 10,
    "start_time": "2021-11-10T20:12:05.291Z"
   },
   {
    "duration": 257,
    "start_time": "2021-11-10T20:12:07.355Z"
   },
   {
    "duration": 5,
    "start_time": "2021-11-10T20:12:26.916Z"
   },
   {
    "duration": 4,
    "start_time": "2021-11-10T20:12:28.100Z"
   },
   {
    "duration": 9,
    "start_time": "2021-11-10T20:12:28.859Z"
   },
   {
    "duration": 1455,
    "start_time": "2021-11-10T20:12:45.683Z"
   },
   {
    "duration": 1173,
    "start_time": "2021-11-10T20:12:47.140Z"
   },
   {
    "duration": 168,
    "start_time": "2021-11-10T20:12:48.316Z"
   },
   {
    "duration": 685,
    "start_time": "2021-11-10T20:12:48.487Z"
   },
   {
    "duration": 715,
    "start_time": "2021-11-10T20:12:49.182Z"
   },
   {
    "duration": 1409,
    "start_time": "2021-11-10T20:12:49.899Z"
   },
   {
    "duration": 173,
    "start_time": "2021-11-10T20:12:51.310Z"
   },
   {
    "duration": 45,
    "start_time": "2021-11-10T20:12:51.487Z"
   },
   {
    "duration": 26,
    "start_time": "2021-11-10T20:12:51.535Z"
   },
   {
    "duration": 45,
    "start_time": "2021-11-10T20:12:51.583Z"
   },
   {
    "duration": 29,
    "start_time": "2021-11-10T20:12:51.630Z"
   },
   {
    "duration": 64,
    "start_time": "2021-11-10T20:12:51.661Z"
   },
   {
    "duration": 25,
    "start_time": "2021-11-10T20:12:51.727Z"
   },
   {
    "duration": 70,
    "start_time": "2021-11-10T20:12:51.755Z"
   },
   {
    "duration": 28,
    "start_time": "2021-11-10T20:12:51.827Z"
   },
   {
    "duration": 67,
    "start_time": "2021-11-10T20:12:51.857Z"
   },
   {
    "duration": 276,
    "start_time": "2021-11-10T20:12:51.927Z"
   },
   {
    "duration": 3126,
    "start_time": "2021-11-10T20:12:52.206Z"
   },
   {
    "duration": 119,
    "start_time": "2021-11-10T20:12:55.335Z"
   },
   {
    "duration": 46,
    "start_time": "2021-11-10T20:12:55.456Z"
   },
   {
    "duration": 29,
    "start_time": "2021-11-10T20:12:55.505Z"
   },
   {
    "duration": 52,
    "start_time": "2021-11-10T20:12:55.536Z"
   },
   {
    "duration": 390,
    "start_time": "2021-11-10T20:12:55.594Z"
   },
   {
    "duration": 1145,
    "start_time": "2021-11-10T20:12:55.987Z"
   },
   {
    "duration": 4,
    "start_time": "2021-11-10T20:12:57.135Z"
   },
   {
    "duration": 88,
    "start_time": "2021-11-10T20:12:57.141Z"
   },
   {
    "duration": 550,
    "start_time": "2021-11-10T20:12:57.232Z"
   },
   {
    "duration": 71,
    "start_time": "2021-11-10T20:12:57.784Z"
   },
   {
    "duration": 552,
    "start_time": "2021-11-10T20:12:57.857Z"
   },
   {
    "duration": 5,
    "start_time": "2021-11-10T20:12:58.412Z"
   },
   {
    "duration": 6,
    "start_time": "2021-11-10T20:12:58.419Z"
   },
   {
    "duration": 10,
    "start_time": "2021-11-10T20:12:58.427Z"
   },
   {
    "duration": 10,
    "start_time": "2021-11-10T20:12:58.439Z"
   },
   {
    "duration": 255452,
    "start_time": "2021-11-10T20:12:58.452Z"
   },
   {
    "duration": 495578,
    "start_time": "2021-11-10T20:17:13.906Z"
   },
   {
    "duration": 903,
    "start_time": "2021-11-10T20:25:29.487Z"
   },
   {
    "duration": 76790,
    "start_time": "2021-11-10T20:25:30.393Z"
   },
   {
    "duration": 14,
    "start_time": "2021-11-10T20:26:47.186Z"
   },
   {
    "duration": 5,
    "start_time": "2021-11-10T20:26:47.203Z"
   },
   {
    "duration": 12872,
    "start_time": "2021-11-10T20:26:47.211Z"
   },
   {
    "duration": 4,
    "start_time": "2021-11-10T20:27:00.086Z"
   },
   {
    "duration": 23,
    "start_time": "2021-11-10T20:27:00.092Z"
   },
   {
    "duration": 18,
    "start_time": "2021-11-10T20:51:30.985Z"
   },
   {
    "duration": 995,
    "start_time": "2021-11-10T21:07:42.411Z"
   },
   {
    "duration": 18,
    "start_time": "2021-11-10T21:07:52.603Z"
   },
   {
    "duration": 1439,
    "start_time": "2021-11-10T21:11:31.335Z"
   },
   {
    "duration": 1136,
    "start_time": "2021-11-10T21:11:32.776Z"
   },
   {
    "duration": 169,
    "start_time": "2021-11-10T21:11:33.916Z"
   },
   {
    "duration": 745,
    "start_time": "2021-11-10T21:11:34.088Z"
   },
   {
    "duration": 670,
    "start_time": "2021-11-10T21:11:34.835Z"
   },
   {
    "duration": 1316,
    "start_time": "2021-11-10T21:11:35.507Z"
   },
   {
    "duration": 166,
    "start_time": "2021-11-10T21:11:36.825Z"
   },
   {
    "duration": 48,
    "start_time": "2021-11-10T21:11:36.994Z"
   },
   {
    "duration": 42,
    "start_time": "2021-11-10T21:11:37.045Z"
   },
   {
    "duration": 44,
    "start_time": "2021-11-10T21:11:37.090Z"
   },
   {
    "duration": 48,
    "start_time": "2021-11-10T21:11:37.136Z"
   },
   {
    "duration": 45,
    "start_time": "2021-11-10T21:11:37.187Z"
   },
   {
    "duration": 47,
    "start_time": "2021-11-10T21:11:37.234Z"
   },
   {
    "duration": 44,
    "start_time": "2021-11-10T21:11:37.284Z"
   },
   {
    "duration": 27,
    "start_time": "2021-11-10T21:11:37.330Z"
   },
   {
    "duration": 46,
    "start_time": "2021-11-10T21:11:37.382Z"
   },
   {
    "duration": 173,
    "start_time": "2021-11-10T21:11:37.430Z"
   },
   {
    "duration": 3262,
    "start_time": "2021-11-10T21:11:37.606Z"
   },
   {
    "duration": 117,
    "start_time": "2021-11-10T21:11:40.871Z"
   },
   {
    "duration": 40,
    "start_time": "2021-11-10T21:11:40.990Z"
   },
   {
    "duration": 56,
    "start_time": "2021-11-10T21:11:41.033Z"
   },
   {
    "duration": 29,
    "start_time": "2021-11-10T21:11:41.092Z"
   },
   {
    "duration": 419,
    "start_time": "2021-11-10T21:11:41.128Z"
   },
   {
    "duration": 1198,
    "start_time": "2021-11-10T21:11:41.550Z"
   },
   {
    "duration": 3,
    "start_time": "2021-11-10T21:11:42.750Z"
   },
   {
    "duration": 93,
    "start_time": "2021-11-10T21:11:42.755Z"
   },
   {
    "duration": 555,
    "start_time": "2021-11-10T21:11:42.851Z"
   },
   {
    "duration": 83,
    "start_time": "2021-11-10T21:11:43.409Z"
   },
   {
    "duration": 569,
    "start_time": "2021-11-10T21:11:43.494Z"
   },
   {
    "duration": 16,
    "start_time": "2021-11-10T21:11:44.066Z"
   },
   {
    "duration": 19,
    "start_time": "2021-11-10T21:11:44.084Z"
   },
   {
    "duration": 14,
    "start_time": "2021-11-10T21:11:44.105Z"
   },
   {
    "duration": 20,
    "start_time": "2021-11-10T21:11:44.121Z"
   },
   {
    "duration": 252321,
    "start_time": "2021-11-10T21:11:44.144Z"
   },
   {
    "duration": 486587,
    "start_time": "2021-11-10T21:15:56.468Z"
   },
   {
    "duration": 831,
    "start_time": "2021-11-10T21:24:03.058Z"
   },
   {
    "duration": 74991,
    "start_time": "2021-11-10T21:24:03.892Z"
   },
   {
    "duration": 13,
    "start_time": "2021-11-10T21:25:18.886Z"
   },
   {
    "duration": 10,
    "start_time": "2021-11-10T21:25:18.902Z"
   },
   {
    "duration": 12676,
    "start_time": "2021-11-10T21:25:18.915Z"
   },
   {
    "duration": 91,
    "start_time": "2021-11-10T21:25:31.594Z"
   },
   {
    "duration": 121,
    "start_time": "2021-11-11T10:04:16.319Z"
   },
   {
    "duration": 433,
    "start_time": "2021-11-11T10:04:31.704Z"
   },
   {
    "duration": 1645,
    "start_time": "2021-11-11T10:09:32.501Z"
   },
   {
    "duration": 1157,
    "start_time": "2021-11-11T10:09:34.149Z"
   },
   {
    "duration": 180,
    "start_time": "2021-11-11T10:09:35.311Z"
   },
   {
    "duration": 677,
    "start_time": "2021-11-11T10:09:35.501Z"
   },
   {
    "duration": 800,
    "start_time": "2021-11-11T10:09:36.180Z"
   },
   {
    "duration": 1333,
    "start_time": "2021-11-11T10:09:36.983Z"
   },
   {
    "duration": 166,
    "start_time": "2021-11-11T10:09:38.318Z"
   },
   {
    "duration": 52,
    "start_time": "2021-11-11T10:09:38.487Z"
   },
   {
    "duration": 28,
    "start_time": "2021-11-11T10:09:38.541Z"
   },
   {
    "duration": 66,
    "start_time": "2021-11-11T10:09:38.571Z"
   },
   {
    "duration": 27,
    "start_time": "2021-11-11T10:09:38.640Z"
   },
   {
    "duration": 62,
    "start_time": "2021-11-11T10:09:38.670Z"
   },
   {
    "duration": 27,
    "start_time": "2021-11-11T10:09:38.734Z"
   },
   {
    "duration": 71,
    "start_time": "2021-11-11T10:09:38.764Z"
   },
   {
    "duration": 29,
    "start_time": "2021-11-11T10:09:38.837Z"
   },
   {
    "duration": 67,
    "start_time": "2021-11-11T10:09:38.869Z"
   },
   {
    "duration": 165,
    "start_time": "2021-11-11T10:09:38.938Z"
   },
   {
    "duration": 3280,
    "start_time": "2021-11-11T10:09:39.105Z"
   },
   {
    "duration": 113,
    "start_time": "2021-11-11T10:09:42.388Z"
   },
   {
    "duration": 34,
    "start_time": "2021-11-11T10:09:42.504Z"
   },
   {
    "duration": 25,
    "start_time": "2021-11-11T10:09:42.540Z"
   },
   {
    "duration": 48,
    "start_time": "2021-11-11T10:09:42.568Z"
   },
   {
    "duration": 383,
    "start_time": "2021-11-11T10:09:42.622Z"
   },
   {
    "duration": 1188,
    "start_time": "2021-11-11T10:09:43.008Z"
   },
   {
    "duration": 3,
    "start_time": "2021-11-11T10:09:44.201Z"
   },
   {
    "duration": 97,
    "start_time": "2021-11-11T10:09:44.207Z"
   },
   {
    "duration": 557,
    "start_time": "2021-11-11T10:09:44.306Z"
   },
   {
    "duration": 81,
    "start_time": "2021-11-11T10:09:44.866Z"
   },
   {
    "duration": 637,
    "start_time": "2021-11-11T10:09:44.950Z"
   },
   {
    "duration": 12,
    "start_time": "2021-11-11T10:09:45.589Z"
   },
   {
    "duration": 7,
    "start_time": "2021-11-11T10:09:45.604Z"
   },
   {
    "duration": 6,
    "start_time": "2021-11-11T10:09:45.614Z"
   },
   {
    "duration": 10,
    "start_time": "2021-11-11T10:09:45.623Z"
   },
   {
    "duration": 1581,
    "start_time": "2021-11-11T10:10:49.883Z"
   },
   {
    "duration": 1136,
    "start_time": "2021-11-11T10:10:51.467Z"
   },
   {
    "duration": 171,
    "start_time": "2021-11-11T10:10:52.606Z"
   },
   {
    "duration": 646,
    "start_time": "2021-11-11T10:10:52.780Z"
   },
   {
    "duration": 673,
    "start_time": "2021-11-11T10:10:53.428Z"
   },
   {
    "duration": 1319,
    "start_time": "2021-11-11T10:10:54.104Z"
   },
   {
    "duration": 170,
    "start_time": "2021-11-11T10:10:55.425Z"
   },
   {
    "duration": 47,
    "start_time": "2021-11-11T10:10:55.602Z"
   },
   {
    "duration": 48,
    "start_time": "2021-11-11T10:10:55.652Z"
   },
   {
    "duration": 47,
    "start_time": "2021-11-11T10:10:55.702Z"
   },
   {
    "duration": 28,
    "start_time": "2021-11-11T10:10:55.751Z"
   },
   {
    "duration": 47,
    "start_time": "2021-11-11T10:10:55.800Z"
   },
   {
    "duration": 51,
    "start_time": "2021-11-11T10:10:55.849Z"
   },
   {
    "duration": 46,
    "start_time": "2021-11-11T10:10:55.903Z"
   },
   {
    "duration": 28,
    "start_time": "2021-11-11T10:10:55.951Z"
   },
   {
    "duration": 44,
    "start_time": "2021-11-11T10:10:56.001Z"
   },
   {
    "duration": 170,
    "start_time": "2021-11-11T10:10:56.047Z"
   },
   {
    "duration": 3360,
    "start_time": "2021-11-11T10:10:56.219Z"
   },
   {
    "duration": 121,
    "start_time": "2021-11-11T10:10:59.582Z"
   },
   {
    "duration": 40,
    "start_time": "2021-11-11T10:10:59.707Z"
   },
   {
    "duration": 55,
    "start_time": "2021-11-11T10:10:59.750Z"
   },
   {
    "duration": 30,
    "start_time": "2021-11-11T10:10:59.808Z"
   },
   {
    "duration": 414,
    "start_time": "2021-11-11T10:10:59.845Z"
   },
   {
    "duration": 1216,
    "start_time": "2021-11-11T10:11:00.262Z"
   },
   {
    "duration": 3,
    "start_time": "2021-11-11T10:11:01.480Z"
   },
   {
    "duration": 73,
    "start_time": "2021-11-11T10:11:01.501Z"
   },
   {
    "duration": 570,
    "start_time": "2021-11-11T10:11:01.576Z"
   },
   {
    "duration": 89,
    "start_time": "2021-11-11T10:11:02.148Z"
   },
   {
    "duration": 573,
    "start_time": "2021-11-11T10:11:02.239Z"
   },
   {
    "duration": 6,
    "start_time": "2021-11-11T10:11:02.815Z"
   },
   {
    "duration": 15,
    "start_time": "2021-11-11T10:11:02.824Z"
   },
   {
    "duration": 23,
    "start_time": "2021-11-11T10:11:02.842Z"
   },
   {
    "duration": 19,
    "start_time": "2021-11-11T10:11:02.868Z"
   },
   {
    "duration": 262038,
    "start_time": "2021-11-11T10:11:02.890Z"
   },
   {
    "duration": 516859,
    "start_time": "2021-11-11T10:15:24.930Z"
   },
   {
    "duration": 907,
    "start_time": "2021-11-11T10:24:01.800Z"
   },
   {
    "duration": 146419,
    "start_time": "2021-11-11T10:24:02.711Z"
   },
   {
    "duration": 15,
    "start_time": "2021-11-11T10:26:29.206Z"
   },
   {
    "duration": 4,
    "start_time": "2021-11-11T10:26:29.223Z"
   },
   {
    "duration": 15483,
    "start_time": "2021-11-11T10:26:29.229Z"
   },
   {
    "duration": 18,
    "start_time": "2021-11-11T10:26:44.720Z"
   },
   {
    "duration": 24,
    "start_time": "2021-11-11T10:34:59.723Z"
   },
   {
    "duration": 886,
    "start_time": "2021-11-11T10:39:20.498Z"
   },
   {
    "duration": 5,
    "start_time": "2021-11-11T10:40:01.986Z"
   },
   {
    "duration": 5,
    "start_time": "2021-11-11T10:40:08.137Z"
   },
   {
    "duration": 8,
    "start_time": "2021-11-11T10:40:42.897Z"
   },
   {
    "duration": 6,
    "start_time": "2021-11-11T12:22:13.089Z"
   },
   {
    "duration": 6,
    "start_time": "2021-11-11T12:23:57.486Z"
   },
   {
    "duration": 407,
    "start_time": "2021-11-11T12:32:38.501Z"
   },
   {
    "duration": 398,
    "start_time": "2021-11-11T12:33:07.356Z"
   },
   {
    "duration": 122,
    "start_time": "2021-11-11T12:33:14.227Z"
   },
   {
    "duration": 7,
    "start_time": "2021-11-11T12:33:58.683Z"
   },
   {
    "duration": 6,
    "start_time": "2021-11-11T12:34:19.805Z"
   },
   {
    "duration": 24,
    "start_time": "2021-11-11T12:36:36.234Z"
   },
   {
    "duration": 68,
    "start_time": "2021-11-11T12:37:42.899Z"
   },
   {
    "duration": 12,
    "start_time": "2021-11-11T12:38:15.962Z"
   },
   {
    "duration": 40,
    "start_time": "2021-11-11T12:38:28.058Z"
   },
   {
    "duration": 23,
    "start_time": "2021-11-11T12:39:22.649Z"
   },
   {
    "duration": 6,
    "start_time": "2021-11-11T12:39:56.225Z"
   },
   {
    "duration": 37,
    "start_time": "2021-11-11T12:42:51.504Z"
   },
   {
    "duration": 7,
    "start_time": "2021-11-11T12:43:06.296Z"
   },
   {
    "duration": 36,
    "start_time": "2021-11-11T12:57:38.695Z"
   },
   {
    "duration": 6,
    "start_time": "2021-11-11T12:57:47.036Z"
   },
   {
    "duration": 495,
    "start_time": "2021-11-11T12:58:23.356Z"
   },
   {
    "duration": 369,
    "start_time": "2021-11-11T12:58:44.540Z"
   },
   {
    "duration": 1615,
    "start_time": "2021-11-11T12:58:58.078Z"
   },
   {
    "duration": 10056,
    "start_time": "2021-11-11T12:58:59.697Z"
   },
   {
    "duration": 162,
    "start_time": "2021-11-11T12:59:09.755Z"
   },
   {
    "duration": 666,
    "start_time": "2021-11-11T12:59:09.920Z"
   },
   {
    "duration": 804,
    "start_time": "2021-11-11T12:59:10.589Z"
   },
   {
    "duration": 1383,
    "start_time": "2021-11-11T12:59:11.399Z"
   },
   {
    "duration": 167,
    "start_time": "2021-11-11T12:59:12.785Z"
   },
   {
    "duration": 68,
    "start_time": "2021-11-11T12:59:12.956Z"
   },
   {
    "duration": 27,
    "start_time": "2021-11-11T12:59:13.027Z"
   },
   {
    "duration": 64,
    "start_time": "2021-11-11T12:59:13.057Z"
   },
   {
    "duration": 28,
    "start_time": "2021-11-11T12:59:13.123Z"
   },
   {
    "duration": 67,
    "start_time": "2021-11-11T12:59:13.153Z"
   },
   {
    "duration": 26,
    "start_time": "2021-11-11T12:59:13.223Z"
   },
   {
    "duration": 67,
    "start_time": "2021-11-11T12:59:13.251Z"
   },
   {
    "duration": 28,
    "start_time": "2021-11-11T12:59:13.320Z"
   },
   {
    "duration": 62,
    "start_time": "2021-11-11T12:59:13.351Z"
   },
   {
    "duration": 168,
    "start_time": "2021-11-11T12:59:13.416Z"
   },
   {
    "duration": 3217,
    "start_time": "2021-11-11T12:59:13.587Z"
   },
   {
    "duration": 111,
    "start_time": "2021-11-11T12:59:16.806Z"
   },
   {
    "duration": 47,
    "start_time": "2021-11-11T12:59:16.919Z"
   },
   {
    "duration": 50,
    "start_time": "2021-11-11T12:59:16.969Z"
   },
   {
    "duration": 26,
    "start_time": "2021-11-11T12:59:17.021Z"
   },
   {
    "duration": 397,
    "start_time": "2021-11-11T12:59:17.052Z"
   },
   {
    "duration": 1294,
    "start_time": "2021-11-11T12:59:17.452Z"
   },
   {
    "duration": 3,
    "start_time": "2021-11-11T12:59:18.748Z"
   },
   {
    "duration": 87,
    "start_time": "2021-11-11T12:59:18.753Z"
   },
   {
    "duration": 566,
    "start_time": "2021-11-11T12:59:18.842Z"
   },
   {
    "duration": 69,
    "start_time": "2021-11-11T12:59:19.411Z"
   },
   {
    "duration": 556,
    "start_time": "2021-11-11T12:59:19.483Z"
   },
   {
    "duration": 6,
    "start_time": "2021-11-11T12:59:20.042Z"
   },
   {
    "duration": 9,
    "start_time": "2021-11-11T12:59:20.050Z"
   },
   {
    "duration": 14,
    "start_time": "2021-11-11T12:59:20.061Z"
   },
   {
    "duration": 26,
    "start_time": "2021-11-11T12:59:20.077Z"
   },
   {
    "duration": 103578,
    "start_time": "2021-11-11T12:59:20.105Z"
   },
   {
    "duration": 16050,
    "start_time": "2021-11-11T13:01:03.686Z"
   },
   {
    "duration": 864,
    "start_time": "2021-11-11T13:01:19.739Z"
   },
   {
    "duration": 53,
    "start_time": "2021-11-11T13:01:20.710Z"
   },
   {
    "duration": 25001,
    "start_time": "2021-11-11T13:01:20.765Z"
   },
   {
    "duration": 788,
    "start_time": "2021-11-11T13:01:45.769Z"
   },
   {
    "duration": -1843,
    "start_time": "2021-11-11T13:01:48.403Z"
   },
   {
    "duration": -1846,
    "start_time": "2021-11-11T13:01:48.407Z"
   },
   {
    "duration": -1847,
    "start_time": "2021-11-11T13:01:48.410Z"
   },
   {
    "duration": -1844,
    "start_time": "2021-11-11T13:01:48.415Z"
   },
   {
    "duration": 381,
    "start_time": "2021-11-11T13:01:53.130Z"
   },
   {
    "duration": 7,
    "start_time": "2021-11-11T13:02:08.940Z"
   },
   {
    "duration": 16,
    "start_time": "2021-11-11T13:03:50.474Z"
   },
   {
    "duration": 1519,
    "start_time": "2021-11-11T13:03:56.242Z"
   },
   {
    "duration": 1254,
    "start_time": "2021-11-11T13:03:57.764Z"
   },
   {
    "duration": 163,
    "start_time": "2021-11-11T13:03:59.021Z"
   },
   {
    "duration": 691,
    "start_time": "2021-11-11T13:03:59.187Z"
   },
   {
    "duration": 753,
    "start_time": "2021-11-11T13:03:59.881Z"
   },
   {
    "duration": 1494,
    "start_time": "2021-11-11T13:04:00.637Z"
   },
   {
    "duration": 173,
    "start_time": "2021-11-11T13:04:02.134Z"
   },
   {
    "duration": 46,
    "start_time": "2021-11-11T13:04:02.313Z"
   },
   {
    "duration": 47,
    "start_time": "2021-11-11T13:04:02.362Z"
   },
   {
    "duration": 51,
    "start_time": "2021-11-11T13:04:02.412Z"
   },
   {
    "duration": 46,
    "start_time": "2021-11-11T13:04:02.466Z"
   },
   {
    "duration": 56,
    "start_time": "2021-11-11T13:04:02.516Z"
   },
   {
    "duration": 45,
    "start_time": "2021-11-11T13:04:02.575Z"
   },
   {
    "duration": 52,
    "start_time": "2021-11-11T13:04:02.623Z"
   },
   {
    "duration": 48,
    "start_time": "2021-11-11T13:04:02.678Z"
   },
   {
    "duration": 63,
    "start_time": "2021-11-11T13:04:02.728Z"
   },
   {
    "duration": 182,
    "start_time": "2021-11-11T13:04:02.794Z"
   },
   {
    "duration": 3172,
    "start_time": "2021-11-11T13:04:02.978Z"
   },
   {
    "duration": 111,
    "start_time": "2021-11-11T13:04:06.153Z"
   },
   {
    "duration": 46,
    "start_time": "2021-11-11T13:04:06.267Z"
   },
   {
    "duration": 28,
    "start_time": "2021-11-11T13:04:06.316Z"
   },
   {
    "duration": 25,
    "start_time": "2021-11-11T13:04:06.346Z"
   },
   {
    "duration": 378,
    "start_time": "2021-11-11T13:04:06.400Z"
   },
   {
    "duration": 1186,
    "start_time": "2021-11-11T13:04:06.781Z"
   },
   {
    "duration": 4,
    "start_time": "2021-11-11T13:04:07.971Z"
   },
   {
    "duration": 89,
    "start_time": "2021-11-11T13:04:07.978Z"
   },
   {
    "duration": 559,
    "start_time": "2021-11-11T13:04:08.070Z"
   },
   {
    "duration": 88,
    "start_time": "2021-11-11T13:04:08.632Z"
   },
   {
    "duration": 532,
    "start_time": "2021-11-11T13:04:08.723Z"
   },
   {
    "duration": 88,
    "start_time": "2021-11-11T13:04:09.258Z"
   },
   {
    "duration": 8,
    "start_time": "2021-11-11T13:04:09.349Z"
   },
   {
    "duration": 6,
    "start_time": "2021-11-11T13:04:09.359Z"
   },
   {
    "duration": 32,
    "start_time": "2021-11-11T13:04:09.368Z"
   },
   {
    "duration": 9,
    "start_time": "2021-11-11T13:04:09.403Z"
   },
   {
    "duration": 310347,
    "start_time": "2021-11-11T13:04:09.414Z"
   },
   {
    "duration": 527002,
    "start_time": "2021-11-11T13:09:19.764Z"
   },
   {
    "duration": 2045,
    "start_time": "2021-11-11T13:18:06.769Z"
   },
   {
    "duration": 80191,
    "start_time": "2021-11-11T13:18:08.818Z"
   },
   {
    "duration": 13,
    "start_time": "2021-11-11T13:19:29.012Z"
   },
   {
    "duration": 6,
    "start_time": "2021-11-11T13:19:29.027Z"
   },
   {
    "duration": 14345,
    "start_time": "2021-11-11T13:19:29.101Z"
   },
   {
    "duration": -1846,
    "start_time": "2021-11-11T13:19:45.295Z"
   },
   {
    "duration": 30,
    "start_time": "2021-11-11T13:44:03.182Z"
   },
   {
    "duration": 14755,
    "start_time": "2021-11-11T13:44:10.455Z"
   },
   {
    "duration": 20,
    "start_time": "2021-11-11T13:44:38.245Z"
   },
   {
    "duration": 143,
    "start_time": "2021-11-11T13:53:19.358Z"
   },
   {
    "duration": 44,
    "start_time": "2021-11-11T14:00:19.519Z"
   },
   {
    "duration": 1644,
    "start_time": "2021-11-11T14:11:17.814Z"
   },
   {
    "duration": 1181,
    "start_time": "2021-11-11T14:11:19.461Z"
   },
   {
    "duration": 169,
    "start_time": "2021-11-11T14:11:20.645Z"
   },
   {
    "duration": 678,
    "start_time": "2021-11-11T14:11:20.816Z"
   },
   {
    "duration": 701,
    "start_time": "2021-11-11T14:11:21.500Z"
   },
   {
    "duration": 1497,
    "start_time": "2021-11-11T14:11:22.204Z"
   },
   {
    "duration": 167,
    "start_time": "2021-11-11T14:11:23.704Z"
   },
   {
    "duration": 53,
    "start_time": "2021-11-11T14:11:23.874Z"
   },
   {
    "duration": 26,
    "start_time": "2021-11-11T14:11:23.931Z"
   },
   {
    "duration": 67,
    "start_time": "2021-11-11T14:11:23.959Z"
   },
   {
    "duration": 27,
    "start_time": "2021-11-11T14:11:24.029Z"
   },
   {
    "duration": 64,
    "start_time": "2021-11-11T14:11:24.058Z"
   },
   {
    "duration": 30,
    "start_time": "2021-11-11T14:11:24.124Z"
   },
   {
    "duration": 66,
    "start_time": "2021-11-11T14:11:24.156Z"
   },
   {
    "duration": 29,
    "start_time": "2021-11-11T14:11:24.224Z"
   },
   {
    "duration": 73,
    "start_time": "2021-11-11T14:11:24.255Z"
   },
   {
    "duration": 178,
    "start_time": "2021-11-11T14:11:24.330Z"
   },
   {
    "duration": 3326,
    "start_time": "2021-11-11T14:11:24.510Z"
   },
   {
    "duration": 110,
    "start_time": "2021-11-11T14:11:27.839Z"
   },
   {
    "duration": 49,
    "start_time": "2021-11-11T14:11:27.951Z"
   },
   {
    "duration": 30,
    "start_time": "2021-11-11T14:11:28.003Z"
   },
   {
    "duration": 29,
    "start_time": "2021-11-11T14:11:28.036Z"
   },
   {
    "duration": 407,
    "start_time": "2021-11-11T14:11:28.102Z"
   },
   {
    "duration": 1375,
    "start_time": "2021-11-11T14:11:28.512Z"
   },
   {
    "duration": 12,
    "start_time": "2021-11-11T14:11:29.889Z"
   },
   {
    "duration": 76,
    "start_time": "2021-11-11T14:11:29.904Z"
   },
   {
    "duration": 577,
    "start_time": "2021-11-11T14:11:29.983Z"
   },
   {
    "duration": 85,
    "start_time": "2021-11-11T14:11:30.562Z"
   },
   {
    "duration": 671,
    "start_time": "2021-11-11T14:11:30.649Z"
   },
   {
    "duration": 8,
    "start_time": "2021-11-11T14:11:31.322Z"
   },
   {
    "duration": 19,
    "start_time": "2021-11-11T14:11:31.332Z"
   },
   {
    "duration": 15,
    "start_time": "2021-11-11T14:11:31.354Z"
   },
   {
    "duration": 10,
    "start_time": "2021-11-11T14:11:31.372Z"
   },
   {
    "duration": 17,
    "start_time": "2021-11-11T14:11:31.401Z"
   },
   {
    "duration": 35,
    "start_time": "2021-11-11T14:11:31.420Z"
   },
   {
    "duration": 256015,
    "start_time": "2021-11-11T14:11:31.458Z"
   },
   {
    "duration": 500884,
    "start_time": "2021-11-11T14:15:47.475Z"
   },
   {
    "duration": 956,
    "start_time": "2021-11-11T14:24:08.361Z"
   },
   {
    "duration": 76886,
    "start_time": "2021-11-11T14:24:09.320Z"
   },
   {
    "duration": 14,
    "start_time": "2021-11-11T14:25:26.208Z"
   },
   {
    "duration": 75,
    "start_time": "2021-11-11T14:25:26.225Z"
   },
   {
    "duration": 13107,
    "start_time": "2021-11-11T14:25:26.303Z"
   },
   {
    "duration": 89,
    "start_time": "2021-11-11T14:25:39.412Z"
   },
   {
    "duration": 1606,
    "start_time": "2021-11-11T14:29:16.475Z"
   },
   {
    "duration": 1244,
    "start_time": "2021-11-11T14:29:18.083Z"
   },
   {
    "duration": 176,
    "start_time": "2021-11-11T14:29:19.331Z"
   },
   {
    "duration": 781,
    "start_time": "2021-11-11T14:29:19.509Z"
   },
   {
    "duration": 691,
    "start_time": "2021-11-11T14:29:20.293Z"
   },
   {
    "duration": 1434,
    "start_time": "2021-11-11T14:29:20.986Z"
   },
   {
    "duration": 176,
    "start_time": "2021-11-11T14:29:22.423Z"
   },
   {
    "duration": 49,
    "start_time": "2021-11-11T14:29:22.604Z"
   },
   {
    "duration": 47,
    "start_time": "2021-11-11T14:29:22.656Z"
   },
   {
    "duration": 53,
    "start_time": "2021-11-11T14:29:22.705Z"
   },
   {
    "duration": 45,
    "start_time": "2021-11-11T14:29:22.761Z"
   },
   {
    "duration": 49,
    "start_time": "2021-11-11T14:29:22.809Z"
   },
   {
    "duration": 51,
    "start_time": "2021-11-11T14:29:22.861Z"
   },
   {
    "duration": 47,
    "start_time": "2021-11-11T14:29:22.914Z"
   },
   {
    "duration": 54,
    "start_time": "2021-11-11T14:29:22.963Z"
   },
   {
    "duration": 50,
    "start_time": "2021-11-11T14:29:23.020Z"
   },
   {
    "duration": 192,
    "start_time": "2021-11-11T14:29:23.072Z"
   },
   {
    "duration": 3372,
    "start_time": "2021-11-11T14:29:23.266Z"
   },
   {
    "duration": 118,
    "start_time": "2021-11-11T14:29:26.640Z"
   },
   {
    "duration": 47,
    "start_time": "2021-11-11T14:29:26.760Z"
   },
   {
    "duration": 30,
    "start_time": "2021-11-11T14:29:26.810Z"
   },
   {
    "duration": 29,
    "start_time": "2021-11-11T14:29:26.842Z"
   },
   {
    "duration": 396,
    "start_time": "2021-11-11T14:29:26.904Z"
   },
   {
    "duration": 1288,
    "start_time": "2021-11-11T14:29:27.303Z"
   },
   {
    "duration": 3,
    "start_time": "2021-11-11T14:29:28.600Z"
   },
   {
    "duration": 70,
    "start_time": "2021-11-11T14:29:28.606Z"
   },
   {
    "duration": 557,
    "start_time": "2021-11-11T14:29:28.678Z"
   },
   {
    "duration": 81,
    "start_time": "2021-11-11T14:29:29.238Z"
   },
   {
    "duration": 555,
    "start_time": "2021-11-11T14:29:29.321Z"
   },
   {
    "duration": 83,
    "start_time": "2021-11-11T14:29:29.879Z"
   },
   {
    "duration": 58,
    "start_time": "2021-11-11T14:29:29.965Z"
   },
   {
    "duration": 6,
    "start_time": "2021-11-11T14:29:30.025Z"
   },
   {
    "duration": 30,
    "start_time": "2021-11-11T14:29:30.034Z"
   },
   {
    "duration": 17,
    "start_time": "2021-11-11T14:29:30.067Z"
   },
   {
    "duration": 38,
    "start_time": "2021-11-11T14:29:30.086Z"
   },
   {
    "duration": 314135,
    "start_time": "2021-11-11T14:29:30.126Z"
   },
   {
    "duration": 520525,
    "start_time": "2021-11-11T14:34:44.264Z"
   },
   {
    "duration": 2026,
    "start_time": "2021-11-11T14:43:24.791Z"
   },
   {
    "duration": 93490,
    "start_time": "2021-11-11T14:43:26.821Z"
   },
   {
    "duration": 87,
    "start_time": "2021-11-11T14:45:00.313Z"
   },
   {
    "duration": 5,
    "start_time": "2021-11-11T14:45:00.404Z"
   },
   {
    "duration": 14088,
    "start_time": "2021-11-11T14:45:00.412Z"
   },
   {
    "duration": 18,
    "start_time": "2021-11-11T14:45:14.503Z"
   },
   {
    "duration": 415,
    "start_time": "2021-11-12T10:58:20.145Z"
   },
   {
    "duration": 1292,
    "start_time": "2021-11-12T10:58:26.792Z"
   },
   {
    "duration": 904,
    "start_time": "2021-11-12T10:58:28.086Z"
   },
   {
    "duration": 132,
    "start_time": "2021-11-12T10:58:28.992Z"
   },
   {
    "duration": 446,
    "start_time": "2021-11-12T10:58:29.126Z"
   },
   {
    "duration": 469,
    "start_time": "2021-11-12T10:58:29.574Z"
   },
   {
    "duration": 929,
    "start_time": "2021-11-12T10:58:30.046Z"
   },
   {
    "duration": 141,
    "start_time": "2021-11-12T10:58:30.978Z"
   },
   {
    "duration": 39,
    "start_time": "2021-11-12T10:58:31.122Z"
   },
   {
    "duration": 22,
    "start_time": "2021-11-12T10:58:31.164Z"
   },
   {
    "duration": 59,
    "start_time": "2021-11-12T10:58:31.206Z"
   },
   {
    "duration": 22,
    "start_time": "2021-11-12T10:58:31.267Z"
   },
   {
    "duration": 54,
    "start_time": "2021-11-12T10:58:31.291Z"
   },
   {
    "duration": 23,
    "start_time": "2021-11-12T10:58:31.347Z"
   },
   {
    "duration": 50,
    "start_time": "2021-11-12T10:58:31.372Z"
   },
   {
    "duration": 25,
    "start_time": "2021-11-12T10:58:31.424Z"
   },
   {
    "duration": 50,
    "start_time": "2021-11-12T10:58:31.451Z"
   },
   {
    "duration": 124,
    "start_time": "2021-11-12T10:58:31.503Z"
   },
   {
    "duration": 1990,
    "start_time": "2021-11-12T10:58:31.629Z"
   },
   {
    "duration": 95,
    "start_time": "2021-11-12T10:58:33.621Z"
   },
   {
    "duration": 28,
    "start_time": "2021-11-12T10:58:33.718Z"
   },
   {
    "duration": 19,
    "start_time": "2021-11-12T10:58:33.747Z"
   },
   {
    "duration": 22,
    "start_time": "2021-11-12T10:58:33.768Z"
   },
   {
    "duration": 238,
    "start_time": "2021-11-12T10:58:33.809Z"
   },
   {
    "duration": 794,
    "start_time": "2021-11-12T10:58:34.049Z"
   },
   {
    "duration": 2,
    "start_time": "2021-11-12T10:58:34.845Z"
   },
   {
    "duration": 62,
    "start_time": "2021-11-12T10:58:34.849Z"
   },
   {
    "duration": 84,
    "start_time": "2021-11-12T10:58:34.913Z"
   },
   {
    "duration": 907,
    "start_time": "2021-11-12T10:58:34.999Z"
   },
   {
    "duration": -665,
    "start_time": "2021-11-12T10:58:36.573Z"
   },
   {
    "duration": -668,
    "start_time": "2021-11-12T10:58:36.577Z"
   },
   {
    "duration": -670,
    "start_time": "2021-11-12T10:58:36.580Z"
   },
   {
    "duration": -673,
    "start_time": "2021-11-12T10:58:36.584Z"
   },
   {
    "duration": -676,
    "start_time": "2021-11-12T10:58:36.588Z"
   },
   {
    "duration": -678,
    "start_time": "2021-11-12T10:58:36.591Z"
   },
   {
    "duration": -688,
    "start_time": "2021-11-12T10:58:36.602Z"
   },
   {
    "duration": -690,
    "start_time": "2021-11-12T10:58:36.605Z"
   },
   {
    "duration": -693,
    "start_time": "2021-11-12T10:58:36.609Z"
   },
   {
    "duration": -695,
    "start_time": "2021-11-12T10:58:36.612Z"
   },
   {
    "duration": -697,
    "start_time": "2021-11-12T10:58:36.615Z"
   },
   {
    "duration": -699,
    "start_time": "2021-11-12T10:58:36.618Z"
   },
   {
    "duration": -702,
    "start_time": "2021-11-12T10:58:36.622Z"
   },
   {
    "duration": -705,
    "start_time": "2021-11-12T10:58:36.626Z"
   },
   {
    "duration": -708,
    "start_time": "2021-11-12T10:58:36.630Z"
   },
   {
    "duration": -710,
    "start_time": "2021-11-12T10:58:36.633Z"
   },
   {
    "duration": 87,
    "start_time": "2021-11-12T11:02:46.624Z"
   },
   {
    "duration": 25,
    "start_time": "2021-11-12T11:03:18.848Z"
   },
   {
    "duration": 29,
    "start_time": "2021-11-12T11:04:15.119Z"
   },
   {
    "duration": 373,
    "start_time": "2021-11-12T11:04:40.400Z"
   },
   {
    "duration": 985,
    "start_time": "2021-11-12T11:04:55.791Z"
   },
   {
    "duration": 83,
    "start_time": "2021-11-12T11:05:27.360Z"
   },
   {
    "duration": 23,
    "start_time": "2021-11-12T11:30:19.122Z"
   },
   {
    "duration": 121,
    "start_time": "2021-11-12T11:41:13.853Z"
   },
   {
    "duration": 24,
    "start_time": "2021-11-12T11:42:19.607Z"
   },
   {
    "duration": 42,
    "start_time": "2021-11-12T11:45:49.748Z"
   },
   {
    "duration": 4,
    "start_time": "2021-11-12T11:52:27.228Z"
   },
   {
    "duration": 6,
    "start_time": "2021-11-12T11:52:52.209Z"
   },
   {
    "duration": 4,
    "start_time": "2021-11-12T11:53:16.512Z"
   },
   {
    "duration": 733,
    "start_time": "2021-11-12T11:53:22.897Z"
   },
   {
    "duration": 398,
    "start_time": "2021-11-12T13:04:30.139Z"
   },
   {
    "duration": 8,
    "start_time": "2021-11-12T13:05:18.324Z"
   },
   {
    "duration": 392,
    "start_time": "2021-11-12T13:05:37.682Z"
   },
   {
    "duration": 4,
    "start_time": "2021-11-12T13:06:50.666Z"
   },
   {
    "duration": 3,
    "start_time": "2021-11-12T13:07:10.250Z"
   },
   {
    "duration": 4,
    "start_time": "2021-11-12T13:07:41.561Z"
   },
   {
    "duration": 4,
    "start_time": "2021-11-12T13:07:47.152Z"
   },
   {
    "duration": 11,
    "start_time": "2021-11-12T13:07:48.801Z"
   },
   {
    "duration": 246,
    "start_time": "2021-11-12T13:07:52.154Z"
   },
   {
    "duration": 683,
    "start_time": "2021-11-12T13:08:04.776Z"
   },
   {
    "duration": 608,
    "start_time": "2021-11-12T13:10:19.618Z"
   },
   {
    "duration": 5,
    "start_time": "2021-11-12T13:10:41.368Z"
   },
   {
    "duration": 6,
    "start_time": "2021-11-12T13:10:42.315Z"
   },
   {
    "duration": 636,
    "start_time": "2021-11-12T13:10:46.929Z"
   },
   {
    "duration": 4,
    "start_time": "2021-11-12T13:15:36.057Z"
   },
   {
    "duration": 4,
    "start_time": "2021-11-12T13:15:42.223Z"
   },
   {
    "duration": 4,
    "start_time": "2021-11-12T13:15:42.911Z"
   },
   {
    "duration": 649,
    "start_time": "2021-11-12T13:15:53.552Z"
   },
   {
    "duration": 5,
    "start_time": "2021-11-12T13:18:28.047Z"
   },
   {
    "duration": 365,
    "start_time": "2021-11-12T13:18:55.646Z"
   },
   {
    "duration": 377,
    "start_time": "2021-11-12T13:19:12.638Z"
   },
   {
    "duration": 664,
    "start_time": "2021-11-12T13:19:27.774Z"
   },
   {
    "duration": 391,
    "start_time": "2021-11-12T13:21:38.606Z"
   },
   {
    "duration": 378,
    "start_time": "2021-11-12T13:22:08.373Z"
   },
   {
    "duration": 9,
    "start_time": "2021-11-12T13:22:27.213Z"
   },
   {
    "duration": 436,
    "start_time": "2021-11-12T13:22:37.029Z"
   },
   {
    "duration": 526,
    "start_time": "2021-11-12T13:24:14.748Z"
   },
   {
    "duration": 4,
    "start_time": "2021-11-12T13:24:24.059Z"
   },
   {
    "duration": 364,
    "start_time": "2021-11-12T13:24:25.108Z"
   },
   {
    "duration": 39,
    "start_time": "2021-11-12T13:26:09.711Z"
   },
   {
    "duration": 814,
    "start_time": "2021-11-12T13:26:44.252Z"
   },
   {
    "duration": 1166,
    "start_time": "2021-11-12T13:30:50.500Z"
   },
   {
    "duration": 4,
    "start_time": "2021-11-12T13:48:47.022Z"
   },
   {
    "duration": 693,
    "start_time": "2021-11-12T13:49:52.983Z"
   },
   {
    "duration": 139894,
    "start_time": "2021-11-12T13:50:35.159Z"
   },
   {
    "duration": 250779,
    "start_time": "2021-11-12T13:59:02.368Z"
   },
   {
    "duration": 4,
    "start_time": "2021-11-12T14:03:13.149Z"
   },
   {
    "duration": 58078,
    "start_time": "2021-11-12T14:04:44.034Z"
   },
   {
    "duration": 13,
    "start_time": "2021-11-12T14:09:52.866Z"
   },
   {
    "duration": 732,
    "start_time": "2021-11-12T14:10:22.264Z"
   },
   {
    "duration": 10,
    "start_time": "2021-11-12T14:10:34.079Z"
   },
   {
    "duration": 414,
    "start_time": "2021-11-12T14:20:59.174Z"
   },
   {
    "duration": 444,
    "start_time": "2021-11-12T14:21:39.165Z"
   },
   {
    "duration": 382,
    "start_time": "2021-11-12T14:22:21.220Z"
   },
   {
    "duration": 727,
    "start_time": "2021-11-12T14:23:04.907Z"
   },
   {
    "duration": 10,
    "start_time": "2021-11-12T14:23:07.870Z"
   },
   {
    "duration": 723,
    "start_time": "2021-11-12T14:25:09.115Z"
   },
   {
    "duration": 12,
    "start_time": "2021-11-12T14:25:11.506Z"
   },
   {
    "duration": 66,
    "start_time": "2021-11-12T14:25:38.747Z"
   },
   {
    "duration": 10,
    "start_time": "2021-11-12T14:29:47.592Z"
   },
   {
    "duration": 40,
    "start_time": "2021-11-12T14:30:12.041Z"
   },
   {
    "duration": 45,
    "start_time": "2021-11-12T14:31:11.993Z"
   },
   {
    "duration": 335,
    "start_time": "2021-11-12T14:31:27.210Z"
   },
   {
    "duration": 315,
    "start_time": "2021-11-12T14:32:12.105Z"
   },
   {
    "duration": 10,
    "start_time": "2021-11-12T14:32:12.976Z"
   },
   {
    "duration": 235,
    "start_time": "2021-11-12T14:33:18.577Z"
   },
   {
    "duration": 661,
    "start_time": "2021-11-12T14:33:41.290Z"
   },
   {
    "duration": 5,
    "start_time": "2021-11-12T14:34:32.272Z"
   },
   {
    "duration": 1243,
    "start_time": "2021-11-12T14:35:35.138Z"
   },
   {
    "duration": 747,
    "start_time": "2021-11-12T14:35:36.383Z"
   },
   {
    "duration": 117,
    "start_time": "2021-11-12T14:35:37.133Z"
   },
   {
    "duration": 382,
    "start_time": "2021-11-12T14:35:37.252Z"
   },
   {
    "duration": 406,
    "start_time": "2021-11-12T14:35:37.637Z"
   },
   {
    "duration": 809,
    "start_time": "2021-11-12T14:35:38.045Z"
   },
   {
    "duration": 120,
    "start_time": "2021-11-12T14:35:38.856Z"
   },
   {
    "duration": 45,
    "start_time": "2021-11-12T14:35:38.980Z"
   },
   {
    "duration": 19,
    "start_time": "2021-11-12T14:35:39.028Z"
   },
   {
    "duration": 32,
    "start_time": "2021-11-12T14:35:39.049Z"
   },
   {
    "duration": 36,
    "start_time": "2021-11-12T14:35:39.083Z"
   },
   {
    "duration": 34,
    "start_time": "2021-11-12T14:35:39.120Z"
   },
   {
    "duration": 18,
    "start_time": "2021-11-12T14:35:39.156Z"
   },
   {
    "duration": 51,
    "start_time": "2021-11-12T14:35:39.176Z"
   },
   {
    "duration": 20,
    "start_time": "2021-11-12T14:35:39.229Z"
   },
   {
    "duration": 30,
    "start_time": "2021-11-12T14:35:39.251Z"
   },
   {
    "duration": 135,
    "start_time": "2021-11-12T14:35:39.283Z"
   },
   {
    "duration": 1773,
    "start_time": "2021-11-12T14:35:39.420Z"
   },
   {
    "duration": 81,
    "start_time": "2021-11-12T14:35:41.195Z"
   },
   {
    "duration": 33,
    "start_time": "2021-11-12T14:35:41.278Z"
   },
   {
    "duration": 18,
    "start_time": "2021-11-12T14:35:41.313Z"
   },
   {
    "duration": 16,
    "start_time": "2021-11-12T14:35:41.333Z"
   },
   {
    "duration": 241,
    "start_time": "2021-11-12T14:35:41.352Z"
   },
   {
    "duration": 637,
    "start_time": "2021-11-12T14:35:41.595Z"
   },
   {
    "duration": 2,
    "start_time": "2021-11-12T14:35:42.234Z"
   },
   {
    "duration": 45,
    "start_time": "2021-11-12T14:35:42.237Z"
   },
   {
    "duration": 84,
    "start_time": "2021-11-12T14:35:42.283Z"
   },
   {
    "duration": 121,
    "start_time": "2021-11-12T14:35:42.368Z"
   },
   {
    "duration": 51,
    "start_time": "2021-11-12T14:35:42.492Z"
   },
   {
    "duration": 18,
    "start_time": "2021-11-12T14:35:42.545Z"
   },
   {
    "duration": 785,
    "start_time": "2021-11-12T14:35:42.565Z"
   },
   {
    "duration": 11,
    "start_time": "2021-11-12T14:35:43.352Z"
   },
   {
    "duration": 351,
    "start_time": "2021-11-12T14:35:43.365Z"
   },
   {
    "duration": 11,
    "start_time": "2021-11-12T14:35:43.717Z"
   },
   {
    "duration": 15,
    "start_time": "2021-11-12T14:35:43.730Z"
   },
   {
    "duration": 12,
    "start_time": "2021-11-12T14:35:43.747Z"
   },
   {
    "duration": 20,
    "start_time": "2021-11-12T14:35:43.760Z"
   },
   {
    "duration": 18,
    "start_time": "2021-11-12T14:35:43.782Z"
   },
   {
    "duration": 189823,
    "start_time": "2021-11-12T14:35:43.801Z"
   },
   {
    "duration": 364433,
    "start_time": "2021-11-12T14:38:53.626Z"
   },
   {
    "duration": 869,
    "start_time": "2021-11-12T14:44:58.061Z"
   },
   {
    "duration": 60579,
    "start_time": "2021-11-12T14:44:58.932Z"
   },
   {
    "duration": 9,
    "start_time": "2021-11-12T14:45:59.512Z"
   },
   {
    "duration": 4,
    "start_time": "2021-11-12T14:45:59.523Z"
   },
   {
    "duration": 9679,
    "start_time": "2021-11-12T14:45:59.529Z"
   },
   {
    "duration": 11,
    "start_time": "2021-11-12T14:46:09.209Z"
   },
   {
    "duration": 4,
    "start_time": "2021-11-12T14:48:02.165Z"
   },
   {
    "duration": 443124,
    "start_time": "2021-11-12T14:48:41.324Z"
   },
   {
    "duration": 3,
    "start_time": "2021-11-12T14:58:42.963Z"
   },
   {
    "duration": 9650,
    "start_time": "2021-11-12T14:58:43.474Z"
   },
   {
    "duration": 12,
    "start_time": "2021-11-12T14:59:00.585Z"
   },
   {
    "duration": 433,
    "start_time": "2021-11-12T15:02:13.080Z"
   },
   {
    "duration": 5,
    "start_time": "2021-11-12T15:03:00.880Z"
   },
   {
    "duration": 8,
    "start_time": "2021-11-12T15:03:08.264Z"
   },
   {
    "duration": 9,
    "start_time": "2021-11-12T15:03:26.448Z"
   },
   {
    "duration": 6,
    "start_time": "2021-11-12T15:05:58.536Z"
   },
   {
    "duration": 348,
    "start_time": "2021-11-12T15:09:25.895Z"
   },
   {
    "duration": 347,
    "start_time": "2021-11-12T15:10:46.502Z"
   },
   {
    "duration": 178,
    "start_time": "2021-11-12T15:11:05.767Z"
   },
   {
    "duration": 345,
    "start_time": "2021-11-12T15:12:40.230Z"
   },
   {
    "duration": 375,
    "start_time": "2021-11-12T15:13:00.262Z"
   },
   {
    "duration": 349,
    "start_time": "2021-11-12T15:13:08.670Z"
   },
   {
    "duration": 813,
    "start_time": "2021-11-12T15:13:33.166Z"
   },
   {
    "duration": 182,
    "start_time": "2021-11-12T15:14:04.285Z"
   },
   {
    "duration": 10,
    "start_time": "2021-11-12T15:16:15.731Z"
   },
   {
    "duration": 6,
    "start_time": "2021-11-12T15:16:28.477Z"
   },
   {
    "duration": 287,
    "start_time": "2021-11-12T15:16:54.155Z"
   },
   {
    "duration": 7,
    "start_time": "2021-11-12T15:18:17.155Z"
   },
   {
    "duration": 5,
    "start_time": "2021-11-12T15:18:30.749Z"
   },
   {
    "duration": 3,
    "start_time": "2021-11-12T15:24:50.106Z"
   },
   {
    "duration": 13,
    "start_time": "2021-11-12T15:25:17.050Z"
   },
   {
    "duration": 78202,
    "start_time": "2021-11-12T15:25:45.467Z"
   },
   {
    "duration": 179562,
    "start_time": "2021-11-12T15:27:48.537Z"
   },
   {
    "duration": 649,
    "start_time": "2021-11-12T15:30:59.968Z"
   },
   {
    "duration": 41836,
    "start_time": "2021-11-12T15:32:05.280Z"
   },
   {
    "duration": 9,
    "start_time": "2021-11-12T15:33:49.976Z"
   },
   {
    "duration": 19,
    "start_time": "2021-11-12T15:35:07.959Z"
   },
   {
    "duration": 4475,
    "start_time": "2021-11-12T15:35:25.134Z"
   },
   {
    "duration": 11,
    "start_time": "2021-11-12T15:37:24.086Z"
   },
   {
    "duration": 375,
    "start_time": "2021-11-12T15:37:55.630Z"
   },
   {
    "duration": 362,
    "start_time": "2021-11-12T15:38:03.823Z"
   },
   {
    "duration": 7,
    "start_time": "2021-11-12T15:38:12.245Z"
   },
   {
    "duration": 6,
    "start_time": "2021-11-12T15:38:12.845Z"
   },
   {
    "duration": 375,
    "start_time": "2021-11-12T15:38:14.486Z"
   },
   {
    "duration": 1205,
    "start_time": "2021-11-12T15:40:26.768Z"
   },
   {
    "duration": 775,
    "start_time": "2021-11-12T15:40:27.975Z"
   },
   {
    "duration": 119,
    "start_time": "2021-11-12T15:40:28.752Z"
   },
   {
    "duration": 422,
    "start_time": "2021-11-12T15:40:28.873Z"
   },
   {
    "duration": 470,
    "start_time": "2021-11-12T15:40:29.297Z"
   },
   {
    "duration": 869,
    "start_time": "2021-11-12T15:40:29.769Z"
   },
   {
    "duration": 124,
    "start_time": "2021-11-12T15:40:30.640Z"
   },
   {
    "duration": 40,
    "start_time": "2021-11-12T15:40:30.766Z"
   },
   {
    "duration": 18,
    "start_time": "2021-11-12T15:40:30.808Z"
   },
   {
    "duration": 38,
    "start_time": "2021-11-12T15:40:30.828Z"
   },
   {
    "duration": 19,
    "start_time": "2021-11-12T15:40:30.867Z"
   },
   {
    "duration": 48,
    "start_time": "2021-11-12T15:40:30.888Z"
   },
   {
    "duration": 18,
    "start_time": "2021-11-12T15:40:30.937Z"
   },
   {
    "duration": 46,
    "start_time": "2021-11-12T15:40:30.956Z"
   },
   {
    "duration": 19,
    "start_time": "2021-11-12T15:40:31.003Z"
   },
   {
    "duration": 36,
    "start_time": "2021-11-12T15:40:31.024Z"
   },
   {
    "duration": 115,
    "start_time": "2021-11-12T15:40:31.062Z"
   },
   {
    "duration": 1707,
    "start_time": "2021-11-12T15:40:31.179Z"
   },
   {
    "duration": 74,
    "start_time": "2021-11-12T15:40:32.887Z"
   },
   {
    "duration": 22,
    "start_time": "2021-11-12T15:40:32.963Z"
   },
   {
    "duration": 32,
    "start_time": "2021-11-12T15:40:32.987Z"
   },
   {
    "duration": 15,
    "start_time": "2021-11-12T15:40:33.020Z"
   },
   {
    "duration": 230,
    "start_time": "2021-11-12T15:40:33.039Z"
   },
   {
    "duration": 621,
    "start_time": "2021-11-12T15:40:33.271Z"
   },
   {
    "duration": 3,
    "start_time": "2021-11-12T15:40:33.893Z"
   },
   {
    "duration": 45,
    "start_time": "2021-11-12T15:40:33.897Z"
   },
   {
    "duration": 94,
    "start_time": "2021-11-12T15:40:33.944Z"
   },
   {
    "duration": 115,
    "start_time": "2021-11-12T15:40:34.040Z"
   },
   {
    "duration": 35,
    "start_time": "2021-11-12T15:40:34.157Z"
   },
   {
    "duration": 24,
    "start_time": "2021-11-12T15:40:34.194Z"
   },
   {
    "duration": 865,
    "start_time": "2021-11-12T15:40:34.220Z"
   },
   {
    "duration": 10,
    "start_time": "2021-11-12T15:40:35.087Z"
   },
   {
    "duration": 404,
    "start_time": "2021-11-12T15:40:35.106Z"
   },
   {
    "duration": 12,
    "start_time": "2021-11-12T15:40:35.512Z"
   },
   {
    "duration": 72,
    "start_time": "2021-11-12T15:40:35.526Z"
   },
   {
    "duration": 29,
    "start_time": "2021-11-12T15:40:35.600Z"
   },
   {
    "duration": 20,
    "start_time": "2021-11-12T15:40:35.631Z"
   },
   {
    "duration": 22,
    "start_time": "2021-11-12T15:40:35.652Z"
   },
   {
    "duration": 25,
    "start_time": "2021-11-12T15:40:35.676Z"
   },
   {
    "duration": 188839,
    "start_time": "2021-11-12T15:40:35.704Z"
   },
   {
    "duration": 441627,
    "start_time": "2021-11-12T15:43:44.545Z"
   },
   {
    "duration": 680,
    "start_time": "2021-11-12T15:51:06.174Z"
   },
   {
    "duration": 58204,
    "start_time": "2021-11-12T15:51:06.907Z"
   },
   {
    "duration": 9,
    "start_time": "2021-11-12T15:52:05.113Z"
   },
   {
    "duration": 17,
    "start_time": "2021-11-12T15:52:05.123Z"
   },
   {
    "duration": 9686,
    "start_time": "2021-11-12T15:52:05.141Z"
   },
   {
    "duration": 6,
    "start_time": "2021-11-12T15:52:14.828Z"
   },
   {
    "duration": 5,
    "start_time": "2021-11-12T15:52:14.836Z"
   },
   {
    "duration": 249,
    "start_time": "2021-11-12T15:52:14.843Z"
   },
   {
    "duration": 14,
    "start_time": "2021-11-12T15:52:15.094Z"
   },
   {
    "duration": 125,
    "start_time": "2021-11-12T15:54:56.166Z"
   },
   {
    "duration": 142,
    "start_time": "2021-11-12T15:55:15.324Z"
   },
   {
    "duration": 1404,
    "start_time": "2021-11-12T16:17:25.104Z"
   },
   {
    "duration": 1045,
    "start_time": "2021-11-12T16:17:26.510Z"
   },
   {
    "duration": 308,
    "start_time": "2021-11-12T16:17:27.558Z"
   },
   {
    "duration": 388,
    "start_time": "2021-11-12T16:17:27.868Z"
   },
   {
    "duration": 394,
    "start_time": "2021-11-12T16:17:28.258Z"
   },
   {
    "duration": 811,
    "start_time": "2021-11-12T16:17:28.653Z"
   },
   {
    "duration": 114,
    "start_time": "2021-11-12T16:17:29.466Z"
   },
   {
    "duration": 39,
    "start_time": "2021-11-12T16:17:29.582Z"
   },
   {
    "duration": 18,
    "start_time": "2021-11-12T16:17:29.623Z"
   },
   {
    "duration": 33,
    "start_time": "2021-11-12T16:17:29.643Z"
   },
   {
    "duration": 31,
    "start_time": "2021-11-12T16:17:29.677Z"
   },
   {
    "duration": 30,
    "start_time": "2021-11-12T16:17:29.710Z"
   },
   {
    "duration": 16,
    "start_time": "2021-11-12T16:17:29.742Z"
   },
   {
    "duration": 48,
    "start_time": "2021-11-12T16:17:29.760Z"
   },
   {
    "duration": 19,
    "start_time": "2021-11-12T16:17:29.809Z"
   },
   {
    "duration": 35,
    "start_time": "2021-11-12T16:17:29.829Z"
   },
   {
    "duration": 122,
    "start_time": "2021-11-12T16:17:29.865Z"
   },
   {
    "duration": 1849,
    "start_time": "2021-11-12T16:17:29.989Z"
   },
   {
    "duration": 83,
    "start_time": "2021-11-12T16:17:31.839Z"
   },
   {
    "duration": 26,
    "start_time": "2021-11-12T16:17:31.924Z"
   },
   {
    "duration": 18,
    "start_time": "2021-11-12T16:17:31.951Z"
   },
   {
    "duration": 16,
    "start_time": "2021-11-12T16:17:31.971Z"
   },
   {
    "duration": 236,
    "start_time": "2021-11-12T16:17:32.007Z"
   },
   {
    "duration": 631,
    "start_time": "2021-11-12T16:17:32.245Z"
   },
   {
    "duration": 2,
    "start_time": "2021-11-12T16:17:32.877Z"
   },
   {
    "duration": 50,
    "start_time": "2021-11-12T16:17:32.881Z"
   },
   {
    "duration": 94,
    "start_time": "2021-11-12T16:17:32.933Z"
   },
   {
    "duration": 126,
    "start_time": "2021-11-12T16:17:33.029Z"
   },
   {
    "duration": 34,
    "start_time": "2021-11-12T16:17:33.157Z"
   },
   {
    "duration": 19,
    "start_time": "2021-11-12T16:17:33.193Z"
   },
   {
    "duration": 771,
    "start_time": "2021-11-12T16:17:33.214Z"
   },
   {
    "duration": 21,
    "start_time": "2021-11-12T16:17:33.986Z"
   },
   {
    "duration": 339,
    "start_time": "2021-11-12T16:17:34.009Z"
   },
   {
    "duration": 11,
    "start_time": "2021-11-12T16:17:34.350Z"
   },
   {
    "duration": 6,
    "start_time": "2021-11-12T16:17:34.363Z"
   },
   {
    "duration": 7,
    "start_time": "2021-11-12T16:17:34.371Z"
   },
   {
    "duration": 4,
    "start_time": "2021-11-12T16:17:34.380Z"
   },
   {
    "duration": 8,
    "start_time": "2021-11-12T16:17:34.407Z"
   },
   {
    "duration": 230173,
    "start_time": "2021-11-12T16:17:34.416Z"
   },
   {
    "duration": 441423,
    "start_time": "2021-11-12T16:21:24.590Z"
   },
   {
    "duration": 791,
    "start_time": "2021-11-12T16:28:46.015Z"
   },
   {
    "duration": 222100,
    "start_time": "2021-11-12T16:28:46.808Z"
   },
   {
    "duration": 9,
    "start_time": "2021-11-12T16:32:28.909Z"
   },
   {
    "duration": 6,
    "start_time": "2021-11-12T16:32:28.920Z"
   },
   {
    "duration": 14285,
    "start_time": "2021-11-12T16:32:28.927Z"
   },
   {
    "duration": 6,
    "start_time": "2021-11-12T16:32:43.214Z"
   },
   {
    "duration": 5,
    "start_time": "2021-11-12T16:32:43.222Z"
   },
   {
    "duration": 210,
    "start_time": "2021-11-12T16:32:43.229Z"
   },
   {
    "duration": 12,
    "start_time": "2021-11-12T16:32:43.441Z"
   }
  ],
  "kernelspec": {
   "display_name": "Python 3 (ipykernel)",
   "language": "python",
   "name": "python3"
  },
  "language_info": {
   "codemirror_mode": {
    "name": "ipython",
    "version": 3
   },
   "file_extension": ".py",
   "mimetype": "text/x-python",
   "name": "python",
   "nbconvert_exporter": "python",
   "pygments_lexer": "ipython3",
   "version": "3.9.7"
  },
  "toc": {
   "base_numbering": 1,
   "nav_menu": {},
   "number_sections": true,
   "sideBar": true,
   "skip_h1_title": true,
   "title_cell": "Table of Contents",
   "title_sidebar": "Contents",
   "toc_cell": false,
   "toc_position": {
    "height": "calc(100% - 180px)",
    "left": "10px",
    "top": "150px",
    "width": "322.375px"
   },
   "toc_section_display": true,
   "toc_window_display": false
  }
 },
 "nbformat": 4,
 "nbformat_minor": 2
}
