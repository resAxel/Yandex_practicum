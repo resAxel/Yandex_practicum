{
 "cells": [
  {
   "cell_type": "markdown",
   "metadata": {
    "toc": true
   },
   "source": [
    "<h1>Содержание<span class=\"tocSkip\"></span></h1>\n",
    "<div class=\"toc\"><ul class=\"toc-item\"><li><span><a href=\"#Подготовка-данных\" data-toc-modified-id=\"Подготовка-данных-1\"><span class=\"toc-item-num\">1&nbsp;&nbsp;</span>Подготовка данных</a></span><ul class=\"toc-item\"><li><span><a href=\"#Чтение-и-анализ-данных\" data-toc-modified-id=\"Чтение-и-анализ-данных-1.1\"><span class=\"toc-item-num\">1.1&nbsp;&nbsp;</span>Чтение и анализ данных</a></span></li><li><span><a href=\"#Кодирование-признаков\" data-toc-modified-id=\"Кодирование-признаков-1.2\"><span class=\"toc-item-num\">1.2&nbsp;&nbsp;</span>Кодирование признаков</a></span></li><li><span><a href=\"#Разделение-данных\" data-toc-modified-id=\"Разделение-данных-1.3\"><span class=\"toc-item-num\">1.3&nbsp;&nbsp;</span>Разделение данных</a></span></li><li><span><a href=\"#Масштабирование-признаков\" data-toc-modified-id=\"Масштабирование-признаков-1.4\"><span class=\"toc-item-num\">1.4&nbsp;&nbsp;</span>Масштабирование признаков</a></span></li></ul></li><li><span><a href=\"#Исследование-задачи\" data-toc-modified-id=\"Исследование-задачи-2\"><span class=\"toc-item-num\">2&nbsp;&nbsp;</span>Исследование задачи</a></span><ul class=\"toc-item\"><li><span><a href=\"#Исследование-модели-решающее-дерево\" data-toc-modified-id=\"Исследование-модели-решающее-дерево-2.1\"><span class=\"toc-item-num\">2.1&nbsp;&nbsp;</span>Исследование модели решающее дерево</a></span></li><li><span><a href=\"#Исследование-модели-случайный-лес\" data-toc-modified-id=\"Исследование-модели-случайный-лес-2.2\"><span class=\"toc-item-num\">2.2&nbsp;&nbsp;</span>Исследование модели случайный лес</a></span></li><li><span><a href=\"#Исследование-модели-логистическая-регрессия\" data-toc-modified-id=\"Исследование-модели-логистическая-регрессия-2.3\"><span class=\"toc-item-num\">2.3&nbsp;&nbsp;</span>Исследование модели логистическая регрессия</a></span></li><li><span><a href=\"#Выводы\" data-toc-modified-id=\"Выводы-2.4\"><span class=\"toc-item-num\">2.4&nbsp;&nbsp;</span>Выводы</a></span></li></ul></li><li><span><a href=\"#Борьба-с-дисбалансом\" data-toc-modified-id=\"Борьба-с-дисбалансом-3\"><span class=\"toc-item-num\">3&nbsp;&nbsp;</span>Борьба с дисбалансом</a></span><ul class=\"toc-item\"><li><span><a href=\"#Применение-метода-взвешивание-классов\" data-toc-modified-id=\"Применение-метода-взвешивание-классов-3.1\"><span class=\"toc-item-num\">3.1&nbsp;&nbsp;</span>Применение метода взвешивание классов</a></span><ul class=\"toc-item\"><li><span><a href=\"#Решающее-дерево\" data-toc-modified-id=\"Решающее-дерево-3.1.1\"><span class=\"toc-item-num\">3.1.1&nbsp;&nbsp;</span>Решающее дерево</a></span></li><li><span><a href=\"#Cлучайный-лес\" data-toc-modified-id=\"Cлучайный-лес-3.1.2\"><span class=\"toc-item-num\">3.1.2&nbsp;&nbsp;</span>Cлучайный лес</a></span></li><li><span><a href=\"#Логистическая-регрессия\" data-toc-modified-id=\"Логистическая-регрессия-3.1.3\"><span class=\"toc-item-num\">3.1.3&nbsp;&nbsp;</span>Логистическая регрессия</a></span></li><li><span><a href=\"#Итог\" data-toc-modified-id=\"Итог-3.1.4\"><span class=\"toc-item-num\">3.1.4&nbsp;&nbsp;</span>Итог</a></span></li></ul></li><li><span><a href=\"#Применение-метода-увеличения-выбрки\" data-toc-modified-id=\"Применение-метода-увеличения-выбрки-3.2\"><span class=\"toc-item-num\">3.2&nbsp;&nbsp;</span>Применение метода увеличения выбрки</a></span><ul class=\"toc-item\"><li><span><a href=\"#Решающее-дерево\" data-toc-modified-id=\"Решающее-дерево-3.2.1\"><span class=\"toc-item-num\">3.2.1&nbsp;&nbsp;</span>Решающее дерево</a></span></li><li><span><a href=\"#Cлучайный-лес\" data-toc-modified-id=\"Cлучайный-лес-3.2.2\"><span class=\"toc-item-num\">3.2.2&nbsp;&nbsp;</span>Cлучайный лес</a></span></li><li><span><a href=\"#Логистическая-регрессия\" data-toc-modified-id=\"Логистическая-регрессия-3.2.3\"><span class=\"toc-item-num\">3.2.3&nbsp;&nbsp;</span>Логистическая регрессия</a></span></li><li><span><a href=\"#Итог\" data-toc-modified-id=\"Итог-3.2.4\"><span class=\"toc-item-num\">3.2.4&nbsp;&nbsp;</span>Итог</a></span></li></ul></li><li><span><a href=\"#Применение-метода-уменьшения-выбрки\" data-toc-modified-id=\"Применение-метода-уменьшения-выбрки-3.3\"><span class=\"toc-item-num\">3.3&nbsp;&nbsp;</span>Применение метода уменьшения выбрки</a></span><ul class=\"toc-item\"><li><span><a href=\"#Решающее-дерево\" data-toc-modified-id=\"Решающее-дерево-3.3.1\"><span class=\"toc-item-num\">3.3.1&nbsp;&nbsp;</span>Решающее дерево</a></span></li><li><span><a href=\"#Cлучайный-лес\" data-toc-modified-id=\"Cлучайный-лес-3.3.2\"><span class=\"toc-item-num\">3.3.2&nbsp;&nbsp;</span>Cлучайный лес</a></span></li><li><span><a href=\"#Логистическая-регрессия\" data-toc-modified-id=\"Логистическая-регрессия-3.3.3\"><span class=\"toc-item-num\">3.3.3&nbsp;&nbsp;</span>Логистическая регрессия</a></span></li><li><span><a href=\"#Итог\" data-toc-modified-id=\"Итог-3.3.4\"><span class=\"toc-item-num\">3.3.4&nbsp;&nbsp;</span>Итог</a></span></li></ul></li><li><span><a href=\"#Выводы\" data-toc-modified-id=\"Выводы-3.4\"><span class=\"toc-item-num\">3.4&nbsp;&nbsp;</span>Выводы</a></span></li></ul></li><li><span><a href=\"#Тестирование-модели\" data-toc-modified-id=\"Тестирование-модели-4\"><span class=\"toc-item-num\">4&nbsp;&nbsp;</span>Тестирование модели</a></span><ul class=\"toc-item\"><li><span><a href=\"#Без-учёта-дисбаланса-классов\" data-toc-modified-id=\"Без-учёта-дисбаланса-классов-4.1\"><span class=\"toc-item-num\">4.1&nbsp;&nbsp;</span>Без учёта дисбаланса классов</a></span></li><li><span><a href=\"#Метод-взвешивания-классов\" data-toc-modified-id=\"Метод-взвешивания-классов-4.2\"><span class=\"toc-item-num\">4.2&nbsp;&nbsp;</span>Метод взвешивания классов</a></span></li><li><span><a href=\"#Метод-увеличения-выбрки\" data-toc-modified-id=\"Метод-увеличения-выбрки-4.3\"><span class=\"toc-item-num\">4.3&nbsp;&nbsp;</span>Метод увеличения выбрки</a></span></li><li><span><a href=\"#Метод-уменьшения-выбрки\" data-toc-modified-id=\"Метод-уменьшения-выбрки-4.4\"><span class=\"toc-item-num\">4.4&nbsp;&nbsp;</span>Метод уменьшения выбрки</a></span></li><li><span><a href=\"#Выводы\" data-toc-modified-id=\"Выводы-4.5\"><span class=\"toc-item-num\">4.5&nbsp;&nbsp;</span>Выводы</a></span></li></ul></li><li><span><a href=\"#Общий-вывод\" data-toc-modified-id=\"Общий-вывод-5\"><span class=\"toc-item-num\">5&nbsp;&nbsp;</span>Общий вывод</a></span></li><li><span><a href=\"#Чек-лист-готовности-проекта\" data-toc-modified-id=\"Чек-лист-готовности-проекта-6\"><span class=\"toc-item-num\">6&nbsp;&nbsp;</span>Чек-лист готовности проекта</a></span></li></ul></div>"
   ]
  },
  {
   "cell_type": "markdown",
   "metadata": {},
   "source": [
    "# Отток клиентов"
   ]
  },
  {
   "cell_type": "markdown",
   "metadata": {},
   "source": [
    "Из «Бета-Банка» стали уходить клиенты. Каждый месяц. Немного, но заметно. Банковские маркетологи посчитали: сохранять текущих клиентов дешевле, чем привлекать новых.\n",
    "\n",
    "Нужно спрогнозировать, уйдёт клиент из банка в ближайшее время или нет. Вам предоставлены исторические данные о поведении клиентов и расторжении договоров с банком. \n",
    "\n",
    "Постройте модель с предельно большим значением *F1*-меры. Чтобы сдать проект успешно, нужно довести метрику до 0.59. Проверьте *F1*-меру на тестовой выборке самостоятельно.\n",
    "\n",
    "Дополнительно измеряйте *AUC-ROC*, сравнивайте её значение с *F1*-мерой.\n",
    "\n",
    "Источник данных: [https://www.kaggle.com/barelydedicated/bank-customer-churn-modeling](https://www.kaggle.com/barelydedicated/bank-customer-churn-modeling)"
   ]
  },
  {
   "cell_type": "markdown",
   "metadata": {},
   "source": [
    "## Подготовка данных"
   ]
  },
  {
   "cell_type": "code",
   "execution_count": 1,
   "metadata": {},
   "outputs": [],
   "source": [
    "import pandas as pd\n",
    "from sklearn.model_selection import train_test_split\n",
    "from sklearn.preprocessing import StandardScaler\n",
    "from sklearn.tree import DecisionTreeClassifier\n",
    "from sklearn.ensemble import RandomForestClassifier\n",
    "from sklearn.linear_model import LogisticRegression\n",
    "from sklearn.model_selection import GridSearchCV\n",
    "from sklearn.metrics import accuracy_score\n",
    "from sklearn.metrics import f1_score\n",
    "from sklearn.metrics import roc_auc_score\n",
    "from sklearn.utils import shuffle\n",
    "import warnings\n",
    "import sklearn.exceptions"
   ]
  },
  {
   "cell_type": "markdown",
   "metadata": {},
   "source": [
    "### Чтение и анализ данных"
   ]
  },
  {
   "cell_type": "markdown",
   "metadata": {},
   "source": [
    "Прочитаем файл с данными и посмотрим первые 10 строк и общую информацию"
   ]
  },
  {
   "cell_type": "code",
   "execution_count": 2,
   "metadata": {
    "scrolled": false
   },
   "outputs": [
    {
     "data": {
      "text/html": [
       "<div>\n",
       "<style scoped>\n",
       "    .dataframe tbody tr th:only-of-type {\n",
       "        vertical-align: middle;\n",
       "    }\n",
       "\n",
       "    .dataframe tbody tr th {\n",
       "        vertical-align: top;\n",
       "    }\n",
       "\n",
       "    .dataframe thead th {\n",
       "        text-align: right;\n",
       "    }\n",
       "</style>\n",
       "<table border=\"1\" class=\"dataframe\">\n",
       "  <thead>\n",
       "    <tr style=\"text-align: right;\">\n",
       "      <th></th>\n",
       "      <th>RowNumber</th>\n",
       "      <th>CustomerId</th>\n",
       "      <th>Surname</th>\n",
       "      <th>CreditScore</th>\n",
       "      <th>Geography</th>\n",
       "      <th>Gender</th>\n",
       "      <th>Age</th>\n",
       "      <th>Tenure</th>\n",
       "      <th>Balance</th>\n",
       "      <th>NumOfProducts</th>\n",
       "      <th>HasCrCard</th>\n",
       "      <th>IsActiveMember</th>\n",
       "      <th>EstimatedSalary</th>\n",
       "      <th>Exited</th>\n",
       "    </tr>\n",
       "  </thead>\n",
       "  <tbody>\n",
       "    <tr>\n",
       "      <th>0</th>\n",
       "      <td>1</td>\n",
       "      <td>15634602</td>\n",
       "      <td>Hargrave</td>\n",
       "      <td>619</td>\n",
       "      <td>France</td>\n",
       "      <td>Female</td>\n",
       "      <td>42</td>\n",
       "      <td>2.0</td>\n",
       "      <td>0.00</td>\n",
       "      <td>1</td>\n",
       "      <td>1</td>\n",
       "      <td>1</td>\n",
       "      <td>101348.88</td>\n",
       "      <td>1</td>\n",
       "    </tr>\n",
       "    <tr>\n",
       "      <th>1</th>\n",
       "      <td>2</td>\n",
       "      <td>15647311</td>\n",
       "      <td>Hill</td>\n",
       "      <td>608</td>\n",
       "      <td>Spain</td>\n",
       "      <td>Female</td>\n",
       "      <td>41</td>\n",
       "      <td>1.0</td>\n",
       "      <td>83807.86</td>\n",
       "      <td>1</td>\n",
       "      <td>0</td>\n",
       "      <td>1</td>\n",
       "      <td>112542.58</td>\n",
       "      <td>0</td>\n",
       "    </tr>\n",
       "    <tr>\n",
       "      <th>2</th>\n",
       "      <td>3</td>\n",
       "      <td>15619304</td>\n",
       "      <td>Onio</td>\n",
       "      <td>502</td>\n",
       "      <td>France</td>\n",
       "      <td>Female</td>\n",
       "      <td>42</td>\n",
       "      <td>8.0</td>\n",
       "      <td>159660.80</td>\n",
       "      <td>3</td>\n",
       "      <td>1</td>\n",
       "      <td>0</td>\n",
       "      <td>113931.57</td>\n",
       "      <td>1</td>\n",
       "    </tr>\n",
       "    <tr>\n",
       "      <th>3</th>\n",
       "      <td>4</td>\n",
       "      <td>15701354</td>\n",
       "      <td>Boni</td>\n",
       "      <td>699</td>\n",
       "      <td>France</td>\n",
       "      <td>Female</td>\n",
       "      <td>39</td>\n",
       "      <td>1.0</td>\n",
       "      <td>0.00</td>\n",
       "      <td>2</td>\n",
       "      <td>0</td>\n",
       "      <td>0</td>\n",
       "      <td>93826.63</td>\n",
       "      <td>0</td>\n",
       "    </tr>\n",
       "    <tr>\n",
       "      <th>4</th>\n",
       "      <td>5</td>\n",
       "      <td>15737888</td>\n",
       "      <td>Mitchell</td>\n",
       "      <td>850</td>\n",
       "      <td>Spain</td>\n",
       "      <td>Female</td>\n",
       "      <td>43</td>\n",
       "      <td>2.0</td>\n",
       "      <td>125510.82</td>\n",
       "      <td>1</td>\n",
       "      <td>1</td>\n",
       "      <td>1</td>\n",
       "      <td>79084.10</td>\n",
       "      <td>0</td>\n",
       "    </tr>\n",
       "    <tr>\n",
       "      <th>5</th>\n",
       "      <td>6</td>\n",
       "      <td>15574012</td>\n",
       "      <td>Chu</td>\n",
       "      <td>645</td>\n",
       "      <td>Spain</td>\n",
       "      <td>Male</td>\n",
       "      <td>44</td>\n",
       "      <td>8.0</td>\n",
       "      <td>113755.78</td>\n",
       "      <td>2</td>\n",
       "      <td>1</td>\n",
       "      <td>0</td>\n",
       "      <td>149756.71</td>\n",
       "      <td>1</td>\n",
       "    </tr>\n",
       "    <tr>\n",
       "      <th>6</th>\n",
       "      <td>7</td>\n",
       "      <td>15592531</td>\n",
       "      <td>Bartlett</td>\n",
       "      <td>822</td>\n",
       "      <td>France</td>\n",
       "      <td>Male</td>\n",
       "      <td>50</td>\n",
       "      <td>7.0</td>\n",
       "      <td>0.00</td>\n",
       "      <td>2</td>\n",
       "      <td>1</td>\n",
       "      <td>1</td>\n",
       "      <td>10062.80</td>\n",
       "      <td>0</td>\n",
       "    </tr>\n",
       "    <tr>\n",
       "      <th>7</th>\n",
       "      <td>8</td>\n",
       "      <td>15656148</td>\n",
       "      <td>Obinna</td>\n",
       "      <td>376</td>\n",
       "      <td>Germany</td>\n",
       "      <td>Female</td>\n",
       "      <td>29</td>\n",
       "      <td>4.0</td>\n",
       "      <td>115046.74</td>\n",
       "      <td>4</td>\n",
       "      <td>1</td>\n",
       "      <td>0</td>\n",
       "      <td>119346.88</td>\n",
       "      <td>1</td>\n",
       "    </tr>\n",
       "    <tr>\n",
       "      <th>8</th>\n",
       "      <td>9</td>\n",
       "      <td>15792365</td>\n",
       "      <td>He</td>\n",
       "      <td>501</td>\n",
       "      <td>France</td>\n",
       "      <td>Male</td>\n",
       "      <td>44</td>\n",
       "      <td>4.0</td>\n",
       "      <td>142051.07</td>\n",
       "      <td>2</td>\n",
       "      <td>0</td>\n",
       "      <td>1</td>\n",
       "      <td>74940.50</td>\n",
       "      <td>0</td>\n",
       "    </tr>\n",
       "    <tr>\n",
       "      <th>9</th>\n",
       "      <td>10</td>\n",
       "      <td>15592389</td>\n",
       "      <td>H?</td>\n",
       "      <td>684</td>\n",
       "      <td>France</td>\n",
       "      <td>Male</td>\n",
       "      <td>27</td>\n",
       "      <td>2.0</td>\n",
       "      <td>134603.88</td>\n",
       "      <td>1</td>\n",
       "      <td>1</td>\n",
       "      <td>1</td>\n",
       "      <td>71725.73</td>\n",
       "      <td>0</td>\n",
       "    </tr>\n",
       "  </tbody>\n",
       "</table>\n",
       "</div>"
      ],
      "text/plain": [
       "   RowNumber  CustomerId   Surname  CreditScore Geography  Gender  Age  \\\n",
       "0          1    15634602  Hargrave          619    France  Female   42   \n",
       "1          2    15647311      Hill          608     Spain  Female   41   \n",
       "2          3    15619304      Onio          502    France  Female   42   \n",
       "3          4    15701354      Boni          699    France  Female   39   \n",
       "4          5    15737888  Mitchell          850     Spain  Female   43   \n",
       "5          6    15574012       Chu          645     Spain    Male   44   \n",
       "6          7    15592531  Bartlett          822    France    Male   50   \n",
       "7          8    15656148    Obinna          376   Germany  Female   29   \n",
       "8          9    15792365        He          501    France    Male   44   \n",
       "9         10    15592389        H?          684    France    Male   27   \n",
       "\n",
       "   Tenure    Balance  NumOfProducts  HasCrCard  IsActiveMember  \\\n",
       "0     2.0       0.00              1          1               1   \n",
       "1     1.0   83807.86              1          0               1   \n",
       "2     8.0  159660.80              3          1               0   \n",
       "3     1.0       0.00              2          0               0   \n",
       "4     2.0  125510.82              1          1               1   \n",
       "5     8.0  113755.78              2          1               0   \n",
       "6     7.0       0.00              2          1               1   \n",
       "7     4.0  115046.74              4          1               0   \n",
       "8     4.0  142051.07              2          0               1   \n",
       "9     2.0  134603.88              1          1               1   \n",
       "\n",
       "   EstimatedSalary  Exited  \n",
       "0        101348.88       1  \n",
       "1        112542.58       0  \n",
       "2        113931.57       1  \n",
       "3         93826.63       0  \n",
       "4         79084.10       0  \n",
       "5        149756.71       1  \n",
       "6         10062.80       0  \n",
       "7        119346.88       1  \n",
       "8         74940.50       0  \n",
       "9         71725.73       0  "
      ]
     },
     "execution_count": 2,
     "metadata": {},
     "output_type": "execute_result"
    }
   ],
   "source": [
    "df = pd.read_csv('Ya_data/Churn.csv')\n",
    "df.head(10)\n"
   ]
  },
  {
   "cell_type": "code",
   "execution_count": 3,
   "metadata": {},
   "outputs": [
    {
     "name": "stdout",
     "output_type": "stream",
     "text": [
      "<class 'pandas.core.frame.DataFrame'>\n",
      "RangeIndex: 10000 entries, 0 to 9999\n",
      "Data columns (total 14 columns):\n",
      " #   Column           Non-Null Count  Dtype  \n",
      "---  ------           --------------  -----  \n",
      " 0   RowNumber        10000 non-null  int64  \n",
      " 1   CustomerId       10000 non-null  int64  \n",
      " 2   Surname          10000 non-null  object \n",
      " 3   CreditScore      10000 non-null  int64  \n",
      " 4   Geography        10000 non-null  object \n",
      " 5   Gender           10000 non-null  object \n",
      " 6   Age              10000 non-null  int64  \n",
      " 7   Tenure           9091 non-null   float64\n",
      " 8   Balance          10000 non-null  float64\n",
      " 9   NumOfProducts    10000 non-null  int64  \n",
      " 10  HasCrCard        10000 non-null  int64  \n",
      " 11  IsActiveMember   10000 non-null  int64  \n",
      " 12  EstimatedSalary  10000 non-null  float64\n",
      " 13  Exited           10000 non-null  int64  \n",
      "dtypes: float64(3), int64(8), object(3)\n",
      "memory usage: 1.1+ MB\n"
     ]
    }
   ],
   "source": [
    "df.info()"
   ]
  },
  {
   "cell_type": "markdown",
   "metadata": {},
   "source": [
    "В датасете 10000 объектов c данными о клиентах банка.\n",
    "\n",
    "Признаки:  \n",
    "RowNumber — индекс строки в данных  \n",
    "CustomerId — уникальный идентификатор клиента  \n",
    "Surname — фамилия  \n",
    "CreditScore — кредитный рейтинг  \n",
    "Geography — страна проживания  \n",
    "Gender — пол  \n",
    "Age — возраст  \n",
    "Tenure — сколько лет человек является клиентом банка  \n",
    "Balance — баланс на счёте  \n",
    "NumOfProducts — количество продуктов банка, используемых клиентом  \n",
    "HasCrCard — наличие кредитной карты  \n",
    "IsActiveMember — активность клиента  \n",
    "EstimatedSalary — предполагаемая зарплата  \n",
    "\n",
    "Признак Tenure содержит 9% пропусков. Для обучения и проверки моделей данных достаточно. Нет смысла восстанавливать пропуски. Удалим строки с пропусками."
   ]
  },
  {
   "cell_type": "code",
   "execution_count": 4,
   "metadata": {
    "scrolled": false
   },
   "outputs": [
    {
     "name": "stdout",
     "output_type": "stream",
     "text": [
      "<class 'pandas.core.frame.DataFrame'>\n",
      "Int64Index: 9091 entries, 0 to 9998\n",
      "Data columns (total 14 columns):\n",
      " #   Column           Non-Null Count  Dtype  \n",
      "---  ------           --------------  -----  \n",
      " 0   RowNumber        9091 non-null   int64  \n",
      " 1   CustomerId       9091 non-null   int64  \n",
      " 2   Surname          9091 non-null   object \n",
      " 3   CreditScore      9091 non-null   int64  \n",
      " 4   Geography        9091 non-null   object \n",
      " 5   Gender           9091 non-null   object \n",
      " 6   Age              9091 non-null   int64  \n",
      " 7   Tenure           9091 non-null   float64\n",
      " 8   Balance          9091 non-null   float64\n",
      " 9   NumOfProducts    9091 non-null   int64  \n",
      " 10  HasCrCard        9091 non-null   int64  \n",
      " 11  IsActiveMember   9091 non-null   int64  \n",
      " 12  EstimatedSalary  9091 non-null   float64\n",
      " 13  Exited           9091 non-null   int64  \n",
      "dtypes: float64(3), int64(8), object(3)\n",
      "memory usage: 1.0+ MB\n"
     ]
    }
   ],
   "source": [
    "df = df.dropna()\n",
    "df.info()"
   ]
  },
  {
   "cell_type": "markdown",
   "metadata": {},
   "source": [
    "В исходном датасете присутсвуют признаки 'RowNumber', 'CustomerId' и 'Surname'  которые не влияют на целевой признак. Поэтому их можно сразу исключить из датасета."
   ]
  },
  {
   "cell_type": "code",
   "execution_count": 5,
   "metadata": {},
   "outputs": [],
   "source": [
    "df = df.drop(['RowNumber', 'CustomerId', 'Surname'], axis = 1)"
   ]
  },
  {
   "cell_type": "markdown",
   "metadata": {},
   "source": [
    "### Кодирование признаков"
   ]
  },
  {
   "cell_type": "markdown",
   "metadata": {},
   "source": [
    "Преобразуем категориальные признаки в численные с помощью техники прямого кодирования (OHE). Чтобы не плодить лишние признаки включим  аргумент drop_first"
   ]
  },
  {
   "cell_type": "code",
   "execution_count": 6,
   "metadata": {
    "scrolled": true
   },
   "outputs": [
    {
     "data": {
      "text/html": [
       "<div>\n",
       "<style scoped>\n",
       "    .dataframe tbody tr th:only-of-type {\n",
       "        vertical-align: middle;\n",
       "    }\n",
       "\n",
       "    .dataframe tbody tr th {\n",
       "        vertical-align: top;\n",
       "    }\n",
       "\n",
       "    .dataframe thead th {\n",
       "        text-align: right;\n",
       "    }\n",
       "</style>\n",
       "<table border=\"1\" class=\"dataframe\">\n",
       "  <thead>\n",
       "    <tr style=\"text-align: right;\">\n",
       "      <th></th>\n",
       "      <th>CreditScore</th>\n",
       "      <th>Age</th>\n",
       "      <th>Tenure</th>\n",
       "      <th>Balance</th>\n",
       "      <th>NumOfProducts</th>\n",
       "      <th>HasCrCard</th>\n",
       "      <th>IsActiveMember</th>\n",
       "      <th>EstimatedSalary</th>\n",
       "      <th>Exited</th>\n",
       "      <th>Geography_Germany</th>\n",
       "      <th>Geography_Spain</th>\n",
       "      <th>Gender_Male</th>\n",
       "    </tr>\n",
       "  </thead>\n",
       "  <tbody>\n",
       "    <tr>\n",
       "      <th>0</th>\n",
       "      <td>619</td>\n",
       "      <td>42</td>\n",
       "      <td>2.0</td>\n",
       "      <td>0.00</td>\n",
       "      <td>1</td>\n",
       "      <td>1</td>\n",
       "      <td>1</td>\n",
       "      <td>101348.88</td>\n",
       "      <td>1</td>\n",
       "      <td>0</td>\n",
       "      <td>0</td>\n",
       "      <td>0</td>\n",
       "    </tr>\n",
       "    <tr>\n",
       "      <th>1</th>\n",
       "      <td>608</td>\n",
       "      <td>41</td>\n",
       "      <td>1.0</td>\n",
       "      <td>83807.86</td>\n",
       "      <td>1</td>\n",
       "      <td>0</td>\n",
       "      <td>1</td>\n",
       "      <td>112542.58</td>\n",
       "      <td>0</td>\n",
       "      <td>0</td>\n",
       "      <td>1</td>\n",
       "      <td>0</td>\n",
       "    </tr>\n",
       "    <tr>\n",
       "      <th>2</th>\n",
       "      <td>502</td>\n",
       "      <td>42</td>\n",
       "      <td>8.0</td>\n",
       "      <td>159660.80</td>\n",
       "      <td>3</td>\n",
       "      <td>1</td>\n",
       "      <td>0</td>\n",
       "      <td>113931.57</td>\n",
       "      <td>1</td>\n",
       "      <td>0</td>\n",
       "      <td>0</td>\n",
       "      <td>0</td>\n",
       "    </tr>\n",
       "    <tr>\n",
       "      <th>3</th>\n",
       "      <td>699</td>\n",
       "      <td>39</td>\n",
       "      <td>1.0</td>\n",
       "      <td>0.00</td>\n",
       "      <td>2</td>\n",
       "      <td>0</td>\n",
       "      <td>0</td>\n",
       "      <td>93826.63</td>\n",
       "      <td>0</td>\n",
       "      <td>0</td>\n",
       "      <td>0</td>\n",
       "      <td>0</td>\n",
       "    </tr>\n",
       "    <tr>\n",
       "      <th>4</th>\n",
       "      <td>850</td>\n",
       "      <td>43</td>\n",
       "      <td>2.0</td>\n",
       "      <td>125510.82</td>\n",
       "      <td>1</td>\n",
       "      <td>1</td>\n",
       "      <td>1</td>\n",
       "      <td>79084.10</td>\n",
       "      <td>0</td>\n",
       "      <td>0</td>\n",
       "      <td>1</td>\n",
       "      <td>0</td>\n",
       "    </tr>\n",
       "    <tr>\n",
       "      <th>5</th>\n",
       "      <td>645</td>\n",
       "      <td>44</td>\n",
       "      <td>8.0</td>\n",
       "      <td>113755.78</td>\n",
       "      <td>2</td>\n",
       "      <td>1</td>\n",
       "      <td>0</td>\n",
       "      <td>149756.71</td>\n",
       "      <td>1</td>\n",
       "      <td>0</td>\n",
       "      <td>1</td>\n",
       "      <td>1</td>\n",
       "    </tr>\n",
       "    <tr>\n",
       "      <th>6</th>\n",
       "      <td>822</td>\n",
       "      <td>50</td>\n",
       "      <td>7.0</td>\n",
       "      <td>0.00</td>\n",
       "      <td>2</td>\n",
       "      <td>1</td>\n",
       "      <td>1</td>\n",
       "      <td>10062.80</td>\n",
       "      <td>0</td>\n",
       "      <td>0</td>\n",
       "      <td>0</td>\n",
       "      <td>1</td>\n",
       "    </tr>\n",
       "    <tr>\n",
       "      <th>7</th>\n",
       "      <td>376</td>\n",
       "      <td>29</td>\n",
       "      <td>4.0</td>\n",
       "      <td>115046.74</td>\n",
       "      <td>4</td>\n",
       "      <td>1</td>\n",
       "      <td>0</td>\n",
       "      <td>119346.88</td>\n",
       "      <td>1</td>\n",
       "      <td>1</td>\n",
       "      <td>0</td>\n",
       "      <td>0</td>\n",
       "    </tr>\n",
       "    <tr>\n",
       "      <th>8</th>\n",
       "      <td>501</td>\n",
       "      <td>44</td>\n",
       "      <td>4.0</td>\n",
       "      <td>142051.07</td>\n",
       "      <td>2</td>\n",
       "      <td>0</td>\n",
       "      <td>1</td>\n",
       "      <td>74940.50</td>\n",
       "      <td>0</td>\n",
       "      <td>0</td>\n",
       "      <td>0</td>\n",
       "      <td>1</td>\n",
       "    </tr>\n",
       "    <tr>\n",
       "      <th>9</th>\n",
       "      <td>684</td>\n",
       "      <td>27</td>\n",
       "      <td>2.0</td>\n",
       "      <td>134603.88</td>\n",
       "      <td>1</td>\n",
       "      <td>1</td>\n",
       "      <td>1</td>\n",
       "      <td>71725.73</td>\n",
       "      <td>0</td>\n",
       "      <td>0</td>\n",
       "      <td>0</td>\n",
       "      <td>1</td>\n",
       "    </tr>\n",
       "  </tbody>\n",
       "</table>\n",
       "</div>"
      ],
      "text/plain": [
       "   CreditScore  Age  Tenure    Balance  NumOfProducts  HasCrCard  \\\n",
       "0          619   42     2.0       0.00              1          1   \n",
       "1          608   41     1.0   83807.86              1          0   \n",
       "2          502   42     8.0  159660.80              3          1   \n",
       "3          699   39     1.0       0.00              2          0   \n",
       "4          850   43     2.0  125510.82              1          1   \n",
       "5          645   44     8.0  113755.78              2          1   \n",
       "6          822   50     7.0       0.00              2          1   \n",
       "7          376   29     4.0  115046.74              4          1   \n",
       "8          501   44     4.0  142051.07              2          0   \n",
       "9          684   27     2.0  134603.88              1          1   \n",
       "\n",
       "   IsActiveMember  EstimatedSalary  Exited  Geography_Germany  \\\n",
       "0               1        101348.88       1                  0   \n",
       "1               1        112542.58       0                  0   \n",
       "2               0        113931.57       1                  0   \n",
       "3               0         93826.63       0                  0   \n",
       "4               1         79084.10       0                  0   \n",
       "5               0        149756.71       1                  0   \n",
       "6               1         10062.80       0                  0   \n",
       "7               0        119346.88       1                  1   \n",
       "8               1         74940.50       0                  0   \n",
       "9               1         71725.73       0                  0   \n",
       "\n",
       "   Geography_Spain  Gender_Male  \n",
       "0                0            0  \n",
       "1                1            0  \n",
       "2                0            0  \n",
       "3                0            0  \n",
       "4                1            0  \n",
       "5                1            1  \n",
       "6                0            1  \n",
       "7                0            0  \n",
       "8                0            1  \n",
       "9                0            1  "
      ]
     },
     "execution_count": 6,
     "metadata": {},
     "output_type": "execute_result"
    }
   ],
   "source": [
    "df_ohe = pd.get_dummies(df, drop_first=True)\n",
    "df_ohe.head(10)"
   ]
  },
  {
   "cell_type": "markdown",
   "metadata": {},
   "source": [
    "### Разделение данных"
   ]
  },
  {
   "cell_type": "markdown",
   "metadata": {},
   "source": [
    "Подготовка данных для обучения модели"
   ]
  },
  {
   "cell_type": "code",
   "execution_count": 7,
   "metadata": {
    "scrolled": true
   },
   "outputs": [
    {
     "name": "stdout",
     "output_type": "stream",
     "text": [
      "Обучающие объекты: признаки (5454, 11), цель (5454,)\n",
      "Валидационные объекты: признаки (1818, 11), цель (1818,)\n",
      "Тестовые объекты: признаки (1819, 11), цель (1819,)\n"
     ]
    }
   ],
   "source": [
    "#выделим данные для обучения\n",
    "features = df_ohe.drop(['Exited'], axis = 1)\n",
    "#выделим целевой признак\n",
    "target = df_ohe['Exited']\n",
    "# разобьем данные на 3 части: обучающую, валидационную и тестовую выборки в соотношнии 3:1:1\n",
    "\n",
    "features_train, features_test_valid, target_train, target_test_valid = train_test_split(features, target, \n",
    "                                                                            test_size=0.4, \n",
    "                                                                            random_state=12345)\n",
    "\n",
    "features_valid, features_test, target_valid, target_test = train_test_split(features_test_valid, target_test_valid, \n",
    "                                                                            test_size=0.5, \n",
    "                                                                            random_state=12345)\n",
    "\n",
    "\n",
    "print('Обучающие объекты: признаки {}, цель {}'.format(features_train.shape, target_train.shape))\n",
    "print('Валидационные объекты: признаки {}, цель {}'.format(features_valid.shape, target_valid.shape))\n",
    "print('Тестовые объекты: признаки {}, цель {}'.format(features_test.shape, target_test.shape))"
   ]
  },
  {
   "cell_type": "markdown",
   "metadata": {},
   "source": [
    "### Масштабирование признаков"
   ]
  },
  {
   "cell_type": "markdown",
   "metadata": {},
   "source": [
    " Смасштабируем признаки методом стандартизации данных."
   ]
  },
  {
   "cell_type": "code",
   "execution_count": 8,
   "metadata": {},
   "outputs": [
    {
     "data": {
      "text/html": [
       "<div>\n",
       "<style scoped>\n",
       "    .dataframe tbody tr th:only-of-type {\n",
       "        vertical-align: middle;\n",
       "    }\n",
       "\n",
       "    .dataframe tbody tr th {\n",
       "        vertical-align: top;\n",
       "    }\n",
       "\n",
       "    .dataframe thead th {\n",
       "        text-align: right;\n",
       "    }\n",
       "</style>\n",
       "<table border=\"1\" class=\"dataframe\">\n",
       "  <thead>\n",
       "    <tr style=\"text-align: right;\">\n",
       "      <th></th>\n",
       "      <th>CreditScore</th>\n",
       "      <th>Age</th>\n",
       "      <th>Tenure</th>\n",
       "      <th>Balance</th>\n",
       "      <th>NumOfProducts</th>\n",
       "      <th>HasCrCard</th>\n",
       "      <th>IsActiveMember</th>\n",
       "      <th>EstimatedSalary</th>\n",
       "      <th>Geography_Germany</th>\n",
       "      <th>Geography_Spain</th>\n",
       "      <th>Gender_Male</th>\n",
       "    </tr>\n",
       "  </thead>\n",
       "  <tbody>\n",
       "    <tr>\n",
       "      <th>9344</th>\n",
       "      <td>0.809075</td>\n",
       "      <td>-1.039327</td>\n",
       "      <td>-1.025995</td>\n",
       "      <td>0.554904</td>\n",
       "      <td>-0.908179</td>\n",
       "      <td>1</td>\n",
       "      <td>0</td>\n",
       "      <td>0.019508</td>\n",
       "      <td>0</td>\n",
       "      <td>0</td>\n",
       "      <td>0</td>\n",
       "    </tr>\n",
       "    <tr>\n",
       "      <th>3796</th>\n",
       "      <td>-1.152518</td>\n",
       "      <td>-1.227561</td>\n",
       "      <td>0.696524</td>\n",
       "      <td>0.480609</td>\n",
       "      <td>-0.908179</td>\n",
       "      <td>0</td>\n",
       "      <td>0</td>\n",
       "      <td>0.056167</td>\n",
       "      <td>0</td>\n",
       "      <td>0</td>\n",
       "      <td>1</td>\n",
       "    </tr>\n",
       "    <tr>\n",
       "      <th>7462</th>\n",
       "      <td>-0.398853</td>\n",
       "      <td>0.090079</td>\n",
       "      <td>1.385532</td>\n",
       "      <td>-1.237830</td>\n",
       "      <td>-0.908179</td>\n",
       "      <td>1</td>\n",
       "      <td>1</td>\n",
       "      <td>0.848738</td>\n",
       "      <td>0</td>\n",
       "      <td>0</td>\n",
       "      <td>1</td>\n",
       "    </tr>\n",
       "    <tr>\n",
       "      <th>1508</th>\n",
       "      <td>-0.749875</td>\n",
       "      <td>-0.286389</td>\n",
       "      <td>0.352020</td>\n",
       "      <td>-1.237830</td>\n",
       "      <td>0.809300</td>\n",
       "      <td>1</td>\n",
       "      <td>1</td>\n",
       "      <td>-0.894953</td>\n",
       "      <td>0</td>\n",
       "      <td>0</td>\n",
       "      <td>1</td>\n",
       "    </tr>\n",
       "    <tr>\n",
       "      <th>4478</th>\n",
       "      <td>-1.028628</td>\n",
       "      <td>-0.756975</td>\n",
       "      <td>-0.336987</td>\n",
       "      <td>-1.237830</td>\n",
       "      <td>0.809300</td>\n",
       "      <td>0</td>\n",
       "      <td>1</td>\n",
       "      <td>-1.284516</td>\n",
       "      <td>0</td>\n",
       "      <td>0</td>\n",
       "      <td>1</td>\n",
       "    </tr>\n",
       "  </tbody>\n",
       "</table>\n",
       "</div>"
      ],
      "text/plain": [
       "      CreditScore       Age    Tenure   Balance  NumOfProducts  HasCrCard  \\\n",
       "9344     0.809075 -1.039327 -1.025995  0.554904      -0.908179          1   \n",
       "3796    -1.152518 -1.227561  0.696524  0.480609      -0.908179          0   \n",
       "7462    -0.398853  0.090079  1.385532 -1.237830      -0.908179          1   \n",
       "1508    -0.749875 -0.286389  0.352020 -1.237830       0.809300          1   \n",
       "4478    -1.028628 -0.756975 -0.336987 -1.237830       0.809300          0   \n",
       "\n",
       "      IsActiveMember  EstimatedSalary  Geography_Germany  Geography_Spain  \\\n",
       "9344               0         0.019508                  0                0   \n",
       "3796               0         0.056167                  0                0   \n",
       "7462               1         0.848738                  0                0   \n",
       "1508               1        -0.894953                  0                0   \n",
       "4478               1        -1.284516                  0                0   \n",
       "\n",
       "      Gender_Male  \n",
       "9344            0  \n",
       "3796            1  \n",
       "7462            1  \n",
       "1508            1  \n",
       "4478            1  "
      ]
     },
     "execution_count": 8,
     "metadata": {},
     "output_type": "execute_result"
    }
   ],
   "source": [
    "#отметим числовые признаки\n",
    "numeric = ['CreditScore', 'Age', 'Tenure', 'Balance', 'NumOfProducts', 'EstimatedSalary']\n",
    "\n",
    "scaler = StandardScaler()\n",
    "scaler.fit(features_train[numeric])\n",
    "pd.options.mode.chained_assignment = None\n",
    "features_train[numeric] = scaler.transform(features_train[numeric])\n",
    "features_valid[numeric] = scaler.transform(features_valid[numeric])\n",
    "features_test[numeric] = scaler.transform(features_test[numeric])\n",
    "features_train.head()"
   ]
  },
  {
   "cell_type": "markdown",
   "metadata": {},
   "source": [
    "## Исследование задачи"
   ]
  },
  {
   "cell_type": "code",
   "execution_count": 9,
   "metadata": {
    "scrolled": true
   },
   "outputs": [
    {
     "data": {
      "text/plain": [
       "0    0.796062\n",
       "1    0.203938\n",
       "Name: Exited, dtype: float64"
      ]
     },
     "execution_count": 9,
     "metadata": {},
     "output_type": "execute_result"
    },
    {
     "data": {
      "image/png": "[encoded data removed]",
      "text/plain": [
       "<Figure size 432x288 with 1 Axes>"
      ]
     },
     "metadata": {
      "needs_background": "light"
     },
     "output_type": "display_data"
    }
   ],
   "source": [
    "target.value_counts(normalize=True).plot(kind='bar', title = 'Баланс классов')\n",
    "target.value_counts(normalize=True)"
   ]
  },
  {
   "cell_type": "markdown",
   "metadata": {},
   "source": [
    "В исходных данных наблюдается дисбаланс классов. Попробуем подобрать наилучшие гиперпараметры без учета дисбаланса."
   ]
  },
  {
   "cell_type": "code",
   "execution_count": 10,
   "metadata": {},
   "outputs": [],
   "source": [
    "#вычисление F1 метрики для заданной модели по валидационной выборке\n",
    "def F1_metrix_model_valid(model_type):\n",
    "    return f1_score(target_valid, model_type.best_estimator_.predict(features_valid))"
   ]
  },
  {
   "cell_type": "code",
   "execution_count": 11,
   "metadata": {},
   "outputs": [],
   "source": [
    "#вычисление ROC-AUC метрики для заданной модели по валидационной выборке\n",
    "def roc_auc_metrix_model_valid(model_type):\n",
    "    return roc_auc_score(target_valid, model_type.best_estimator_.predict_proba(features_valid)[:, 1])"
   ]
  },
  {
   "cell_type": "code",
   "execution_count": 12,
   "metadata": {},
   "outputs": [],
   "source": [
    "parametrs_DT = { 'max_depth': range (1,10),\n",
    "                 'min_samples_leaf': range (1,6),\n",
    "                 'min_samples_split': range (2,6,2) }\n",
    "\n",
    "parametrs_RF = { 'n_estimators': range (5,15),\n",
    "                 'max_depth': range (5,15),\n",
    "                 'min_samples_leaf': range (1,6),\n",
    "                 'min_samples_split': range (2,6,2) }\n",
    "\n",
    "parametrs_LR = { 'solver': ['newton-cg', 'lbfgs', 'liblinear', 'sag', 'saga'] }"
   ]
  },
  {
   "cell_type": "code",
   "execution_count": 13,
   "metadata": {},
   "outputs": [],
   "source": [
    "# подбираем гиперпараметры и учим модель\n",
    "def model_learn(model_name, param, x, y):\n",
    "    warnings.filterwarnings(\"ignore\", category=sklearn.exceptions.UndefinedMetricWarning)\n",
    "    model = GridSearchCV(model_name, param, scoring=\"f1\", cv=3, n_jobs=-1)\n",
    "    model.fit(x, y)\n",
    "    return model"
   ]
  },
  {
   "cell_type": "markdown",
   "metadata": {},
   "source": [
    "### Исследование модели решающее дерево"
   ]
  },
  {
   "cell_type": "code",
   "execution_count": 14,
   "metadata": {},
   "outputs": [
    {
     "name": "stdout",
     "output_type": "stream",
     "text": [
      "Лучшие параметры: {'max_depth': 8, 'min_samples_leaf': 5, 'min_samples_split': 2}\n",
      "Метрика F1: 0.53\n",
      "Метрика ROC-AUC: 0.83\n"
     ]
    }
   ],
   "source": [
    "model_DT = DecisionTreeClassifier(random_state=12345)\n",
    "best_DT = model_learn(model_DT, parametrs_DT, features_train, target_train)\n",
    "#best_DT.fit(features_train, target_train)\n",
    "print(\"Лучшие параметры:\", best_DT.best_params_)\n",
    "F1_DT = F1_metrix_model_valid(best_DT)\n",
    "print(\"Метрика F1: {:.2f}\" .format(F1_DT))\n",
    "R_A_DT = roc_auc_metrix_model_valid(best_DT)\n",
    "print(\"Метрика ROC-AUC: {:.2f}\" .format(R_A_DT))"
   ]
  },
  {
   "cell_type": "markdown",
   "metadata": {},
   "source": [
    "### Исследование модели случайный лес"
   ]
  },
  {
   "cell_type": "code",
   "execution_count": 15,
   "metadata": {},
   "outputs": [
    {
     "name": "stdout",
     "output_type": "stream",
     "text": [
      "Лучшие параметры: {'max_depth': 14, 'min_samples_leaf': 1, 'min_samples_split': 4, 'n_estimators': 11}\n",
      "Метрика F1: 0.59\n",
      "Метрика ROC-AUC: 0.85\n"
     ]
    }
   ],
   "source": [
    "model_RF = RandomForestClassifier(random_state=12345)\n",
    "best_RF = model_learn(model_RF, parametrs_RF, features_train, target_train)\n",
    "print(\"Лучшие параметры:\", best_RF.best_params_)\n",
    "F1_RF = F1_metrix_model_valid(best_RF)\n",
    "print(\"Метрика F1: {:.2f}\" .format(F1_RF))\n",
    "R_A_RF = roc_auc_metrix_model_valid(best_RF)\n",
    "print(\"Метрика ROC-AUC: {:.2f}\" .format(R_A_RF))"
   ]
  },
  {
   "cell_type": "markdown",
   "metadata": {},
   "source": [
    "### Исследование модели логистическая регрессия"
   ]
  },
  {
   "cell_type": "code",
   "execution_count": 16,
   "metadata": {},
   "outputs": [
    {
     "name": "stdout",
     "output_type": "stream",
     "text": [
      "Лучшие параметры: {'solver': 'newton-cg'}\n",
      "Метрика F1: 0.30\n",
      "Метрика ROC-AUC: 0.77\n"
     ]
    }
   ],
   "source": [
    "model_LR = LogisticRegression(random_state=12345)\n",
    "best_LR = model_learn(model_LR, parametrs_LR, features_train, target_train)\n",
    "print(\"Лучшие параметры:\", best_LR.best_params_)\n",
    "F1_LR = F1_metrix_model_valid(best_LR)\n",
    "print(\"Метрика F1: {:.2f}\" .format(F1_LR))\n",
    "R_A_LR = roc_auc_metrix_model_valid(best_LR)\n",
    "print(\"Метрика ROC-AUC: {:.2f}\" .format(R_A_LR))"
   ]
  },
  {
   "cell_type": "markdown",
   "metadata": {},
   "source": [
    "### Выводы"
   ]
  },
  {
   "cell_type": "code",
   "execution_count": 17,
   "metadata": {},
   "outputs": [
    {
     "data": {
      "text/html": [
       "<div>\n",
       "<style scoped>\n",
       "    .dataframe tbody tr th:only-of-type {\n",
       "        vertical-align: middle;\n",
       "    }\n",
       "\n",
       "    .dataframe tbody tr th {\n",
       "        vertical-align: top;\n",
       "    }\n",
       "\n",
       "    .dataframe thead th {\n",
       "        text-align: right;\n",
       "    }\n",
       "</style>\n",
       "<table border=\"1\" class=\"dataframe\">\n",
       "  <thead>\n",
       "    <tr style=\"text-align: right;\">\n",
       "      <th></th>\n",
       "      <th>Модель</th>\n",
       "      <th>F1</th>\n",
       "      <th>ROC-AUC</th>\n",
       "    </tr>\n",
       "  </thead>\n",
       "  <tbody>\n",
       "    <tr>\n",
       "      <th>0</th>\n",
       "      <td>Решающее дерево</td>\n",
       "      <td>0.528662</td>\n",
       "      <td>0.832510</td>\n",
       "    </tr>\n",
       "    <tr>\n",
       "      <th>1</th>\n",
       "      <td>Случайный лес</td>\n",
       "      <td>0.589951</td>\n",
       "      <td>0.847555</td>\n",
       "    </tr>\n",
       "    <tr>\n",
       "      <th>2</th>\n",
       "      <td>Логистическая регрессия</td>\n",
       "      <td>0.304000</td>\n",
       "      <td>0.773663</td>\n",
       "    </tr>\n",
       "  </tbody>\n",
       "</table>\n",
       "</div>"
      ],
      "text/plain": [
       "                    Модель        F1   ROC-AUC\n",
       "0          Решающее дерево  0.528662  0.832510\n",
       "1            Случайный лес  0.589951  0.847555\n",
       "2  Логистическая регрессия  0.304000  0.773663"
      ]
     },
     "execution_count": 17,
     "metadata": {},
     "output_type": "execute_result"
    }
   ],
   "source": [
    "pd.DataFrame({'Модель': ['Решающее дерево', 'Случайный лес', 'Логистическая регрессия'], \n",
    "              'F1': [F1_DT, F1_RF, F1_LR],\n",
    "              'ROC-AUC': [R_A_DT, R_A_RF, R_A_LR]})"
   ]
  },
  {
   "cell_type": "markdown",
   "metadata": {},
   "source": [
    "В исходных данных наблюдается дисбаланс классов, что является проблемой для обучения модели. Попытки обучения моделей с подбором гиперпараметров без устранения дисбаланса не позволяют получить высоких показателей метрики F1, которая описывает полноту и точность результатов предсказания. Максимальный результат показывает модель случайный лес с метрикой F1 = 0.57"
   ]
  },
  {
   "cell_type": "markdown",
   "metadata": {},
   "source": [
    "<div class=\"alert alert-block alert-success\">\n",
    "<b>Успех:</b> Дисбаланс исследован, все нужные метрики посчитаны и собраны в информативную таблицу, идем дальше\n",
    "</div>\n"
   ]
  },
  {
   "cell_type": "markdown",
   "metadata": {},
   "source": [
    "## Борьба с дисбалансом"
   ]
  },
  {
   "cell_type": "markdown",
   "metadata": {},
   "source": [
    "### Применение метода взвешивание классов"
   ]
  },
  {
   "cell_type": "markdown",
   "metadata": {},
   "source": [
    "Задействуем параметр class_weight='balanced' и переобучим модели"
   ]
  },
  {
   "cell_type": "markdown",
   "metadata": {},
   "source": [
    "#### Решающее дерево"
   ]
  },
  {
   "cell_type": "code",
   "execution_count": 18,
   "metadata": {},
   "outputs": [
    {
     "name": "stdout",
     "output_type": "stream",
     "text": [
      "Лучшие параметры: {'max_depth': 5, 'min_samples_leaf': 5, 'min_samples_split': 2}\n",
      "Метрика F1: 0.57\n",
      "Метрика ROC-AUC: 0.84\n"
     ]
    }
   ],
   "source": [
    "model_DT_cwb = DecisionTreeClassifier(random_state=12345, class_weight='balanced')\n",
    "best_DT_cwb = model_learn(model_DT_cwb, parametrs_DT, features_train, target_train)\n",
    "print(\"Лучшие параметры:\", best_DT_cwb.best_params_)\n",
    "F1_DT_cwb = F1_metrix_model_valid(best_DT_cwb)\n",
    "print(\"Метрика F1: {:.2f}\" .format(F1_DT_cwb))\n",
    "R_A_DT_cwb = roc_auc_metrix_model_valid(best_DT_cwb)\n",
    "print(\"Метрика ROC-AUC: {:.2f}\" .format(R_A_DT_cwb))"
   ]
  },
  {
   "cell_type": "markdown",
   "metadata": {},
   "source": [
    "#### Cлучайный лес"
   ]
  },
  {
   "cell_type": "code",
   "execution_count": 19,
   "metadata": {},
   "outputs": [
    {
     "name": "stdout",
     "output_type": "stream",
     "text": [
      "Лучшие параметры: {'max_depth': 7, 'min_samples_leaf': 1, 'min_samples_split': 4, 'n_estimators': 11}\n",
      "Метрика F1: 0.63\n",
      "Метрика ROC-AUC: 0.86\n"
     ]
    }
   ],
   "source": [
    "model_RF_cwb = RandomForestClassifier(random_state=12345, class_weight='balanced')\n",
    "best_RF_cwb = model_learn(model_RF_cwb, parametrs_RF, features_train, target_train)\n",
    "print(\"Лучшие параметры:\", best_RF_cwb.best_params_)\n",
    "F1_RF_cwb = F1_metrix_model_valid(best_RF_cwb)\n",
    "print(\"Метрика F1: {:.2f}\" .format(F1_RF_cwb))\n",
    "R_A_RF_cwb = roc_auc_metrix_model_valid(best_RF_cwb)\n",
    "print(\"Метрика ROC-AUC: {:.2f}\" .format(R_A_RF_cwb))"
   ]
  },
  {
   "cell_type": "markdown",
   "metadata": {},
   "source": [
    "#### Логистическая регрессия"
   ]
  },
  {
   "cell_type": "code",
   "execution_count": 20,
   "metadata": {},
   "outputs": [
    {
     "name": "stdout",
     "output_type": "stream",
     "text": [
      "Лучшие параметры: {'solver': 'newton-cg'}\n",
      "Метрика F1: 0.51\n",
      "Метрика ROC-AUC: 0.78\n"
     ]
    }
   ],
   "source": [
    "model_LR_cwb = LogisticRegression(random_state=12345, class_weight='balanced')\n",
    "best_LR_cwb = model_learn(model_LR_cwb, parametrs_LR, features_train, target_train)\n",
    "print(\"Лучшие параметры:\", best_LR_cwb.best_params_)\n",
    "F1_LR_cwb = F1_metrix_model_valid(best_LR_cwb)\n",
    "print(\"Метрика F1: {:.2f}\" .format(F1_LR_cwb))\n",
    "R_A_LR_cwb = roc_auc_metrix_model_valid(best_LR_cwb)\n",
    "print(\"Метрика ROC-AUC: {:.2f}\" .format(R_A_LR_cwb))"
   ]
  },
  {
   "cell_type": "markdown",
   "metadata": {},
   "source": [
    "#### Итог"
   ]
  },
  {
   "cell_type": "code",
   "execution_count": 21,
   "metadata": {},
   "outputs": [
    {
     "data": {
      "text/html": [
       "<div>\n",
       "<style scoped>\n",
       "    .dataframe tbody tr th:only-of-type {\n",
       "        vertical-align: middle;\n",
       "    }\n",
       "\n",
       "    .dataframe tbody tr th {\n",
       "        vertical-align: top;\n",
       "    }\n",
       "\n",
       "    .dataframe thead th {\n",
       "        text-align: right;\n",
       "    }\n",
       "</style>\n",
       "<table border=\"1\" class=\"dataframe\">\n",
       "  <thead>\n",
       "    <tr style=\"text-align: right;\">\n",
       "      <th></th>\n",
       "      <th>Модель</th>\n",
       "      <th>F1</th>\n",
       "      <th>ROC-AUC</th>\n",
       "    </tr>\n",
       "  </thead>\n",
       "  <tbody>\n",
       "    <tr>\n",
       "      <th>0</th>\n",
       "      <td>Решающее дерево</td>\n",
       "      <td>0.574761</td>\n",
       "      <td>0.842309</td>\n",
       "    </tr>\n",
       "    <tr>\n",
       "      <th>1</th>\n",
       "      <td>Случайный лес</td>\n",
       "      <td>0.630137</td>\n",
       "      <td>0.862757</td>\n",
       "    </tr>\n",
       "    <tr>\n",
       "      <th>2</th>\n",
       "      <td>Логистическая регрессия</td>\n",
       "      <td>0.509731</td>\n",
       "      <td>0.777779</td>\n",
       "    </tr>\n",
       "  </tbody>\n",
       "</table>\n",
       "</div>"
      ],
      "text/plain": [
       "                    Модель        F1   ROC-AUC\n",
       "0          Решающее дерево  0.574761  0.842309\n",
       "1            Случайный лес  0.630137  0.862757\n",
       "2  Логистическая регрессия  0.509731  0.777779"
      ]
     },
     "execution_count": 21,
     "metadata": {},
     "output_type": "execute_result"
    }
   ],
   "source": [
    "pd.DataFrame({'Модель': ['Решающее дерево', 'Случайный лес', 'Логистическая регрессия'], \n",
    "              'F1': [F1_DT_cwb, F1_RF_cwb, F1_LR_cwb],\n",
    "              'ROC-AUC': [R_A_DT_cwb, R_A_RF_cwb, R_A_LR_cwb]})"
   ]
  },
  {
   "cell_type": "markdown",
   "metadata": {},
   "source": [
    "### Применение метода увеличения выбрки"
   ]
  },
  {
   "cell_type": "code",
   "execution_count": 22,
   "metadata": {},
   "outputs": [
    {
     "name": "stdout",
     "output_type": "stream",
     "text": [
      "Размеры выборок (8832, 11) (8832,)\n"
     ]
    }
   ],
   "source": [
    "def upsample(features, target, repeat):\n",
    "    features_zeros = features[target == 0]\n",
    "    features_ones = features[target == 1]\n",
    "    target_zeros = target[target == 0]\n",
    "    target_ones = target[target == 1]\n",
    "\n",
    "    features_upsampled = pd.concat([features_zeros] + [features_ones] * repeat)\n",
    "    target_upsampled = pd.concat([target_zeros] + [target_ones] * repeat)\n",
    "    \n",
    "    features_upsampled, target_upsampled = shuffle(features_upsampled, target_upsampled, random_state=12345)\n",
    "    \n",
    "    return features_upsampled, target_upsampled\n",
    "\n",
    "features_upsampled, target_upsampled = upsample(features_train, target_train, 4)\n",
    "\n",
    "print('Размеры выборок', features_upsampled.shape, target_upsampled.shape)"
   ]
  },
  {
   "cell_type": "code",
   "execution_count": 23,
   "metadata": {
    "scrolled": true
   },
   "outputs": [
    {
     "data": {
      "text/plain": [
       "1    0.509964\n",
       "0    0.490036\n",
       "Name: Exited, dtype: float64"
      ]
     },
     "execution_count": 23,
     "metadata": {},
     "output_type": "execute_result"
    },
    {
     "data": {
      "image/png": "[encoded data removed]",
      "text/plain": [
       "<Figure size 432x288 with 1 Axes>"
      ]
     },
     "metadata": {
      "needs_background": "light"
     },
     "output_type": "display_data"
    }
   ],
   "source": [
    "target_upsampled.value_counts(normalize=True).plot(kind='bar', title = 'Баланс классов после увеличения выбрки')\n",
    "target_upsampled.value_counts(normalize=True)"
   ]
  },
  {
   "cell_type": "markdown",
   "metadata": {},
   "source": [
    "#### Решающее дерево"
   ]
  },
  {
   "cell_type": "code",
   "execution_count": 24,
   "metadata": {
    "scrolled": true
   },
   "outputs": [
    {
     "name": "stdout",
     "output_type": "stream",
     "text": [
      "Лучшие параметры: {'max_depth': 9, 'min_samples_leaf': 1, 'min_samples_split': 2}\n",
      "Метрика F1 : 0.52\n",
      "Метрика ROC-AUC: 0.77\n"
     ]
    }
   ],
   "source": [
    "model_DT_up = model_DT\n",
    "best_DT_up = model_learn(model_DT_up, parametrs_DT, features_upsampled, target_upsampled)\n",
    "print(\"Лучшие параметры:\", best_DT_up.best_params_)\n",
    "F1_DT_up = F1_metrix_model_valid(best_DT_up)\n",
    "print(\"Метрика F1 : {:.2f}\" .format(F1_DT_up))\n",
    "R_A_DT_up = roc_auc_metrix_model_valid(best_DT_up)\n",
    "print(\"Метрика ROC-AUC: {:.2f}\" .format(R_A_DT_up))"
   ]
  },
  {
   "cell_type": "markdown",
   "metadata": {},
   "source": [
    "#### Cлучайный лес"
   ]
  },
  {
   "cell_type": "code",
   "execution_count": 25,
   "metadata": {},
   "outputs": [
    {
     "name": "stdout",
     "output_type": "stream",
     "text": [
      "Лучшие параметры: {'max_depth': 14, 'min_samples_leaf': 1, 'min_samples_split': 2, 'n_estimators': 14}\n",
      "Метрика F1 : 0.60\n",
      "Метрика ROC-AUC: 0.84\n"
     ]
    }
   ],
   "source": [
    "model_RF_up = model_RF\n",
    "best_RF_up = model_learn(model_RF_up, parametrs_RF, features_upsampled, target_upsampled)\n",
    "print(\"Лучшие параметры:\", best_RF_up.best_params_)\n",
    "F1_RF_up = F1_metrix_model_valid(best_RF_up)\n",
    "print(\"Метрика F1 : {:.2f}\" .format(F1_RF_up))\n",
    "R_A_RF_up = roc_auc_metrix_model_valid(best_RF_up)\n",
    "print(\"Метрика ROC-AUC: {:.2f}\" .format(R_A_RF_up))"
   ]
  },
  {
   "cell_type": "markdown",
   "metadata": {},
   "source": [
    "#### Логистическая регрессия"
   ]
  },
  {
   "cell_type": "code",
   "execution_count": 26,
   "metadata": {},
   "outputs": [
    {
     "name": "stdout",
     "output_type": "stream",
     "text": [
      "Лучшие параметры: {'solver': 'liblinear'}\n",
      "Метрика F1 : 0.51\n",
      "Метрика ROC-AUC: 0.78\n"
     ]
    }
   ],
   "source": [
    "model_LR_up = model_LR\n",
    "best_LR_up = model_learn(model_LR_up, parametrs_LR, features_upsampled, target_upsampled)\n",
    "print(\"Лучшие параметры:\", best_LR_up.best_params_)\n",
    "F1_LR_up = F1_metrix_model_valid(best_LR_up)\n",
    "print(\"Метрика F1 : {:.2f}\" .format(F1_LR_up))\n",
    "R_A_LR_up = roc_auc_metrix_model_valid(best_LR_up)\n",
    "print(\"Метрика ROC-AUC: {:.2f}\" .format(R_A_LR_up))"
   ]
  },
  {
   "cell_type": "markdown",
   "metadata": {},
   "source": [
    "#### Итог"
   ]
  },
  {
   "cell_type": "code",
   "execution_count": 27,
   "metadata": {},
   "outputs": [
    {
     "data": {
      "text/html": [
       "<div>\n",
       "<style scoped>\n",
       "    .dataframe tbody tr th:only-of-type {\n",
       "        vertical-align: middle;\n",
       "    }\n",
       "\n",
       "    .dataframe tbody tr th {\n",
       "        vertical-align: top;\n",
       "    }\n",
       "\n",
       "    .dataframe thead th {\n",
       "        text-align: right;\n",
       "    }\n",
       "</style>\n",
       "<table border=\"1\" class=\"dataframe\">\n",
       "  <thead>\n",
       "    <tr style=\"text-align: right;\">\n",
       "      <th></th>\n",
       "      <th>Модель</th>\n",
       "      <th>F1</th>\n",
       "      <th>ROC-AUC</th>\n",
       "    </tr>\n",
       "  </thead>\n",
       "  <tbody>\n",
       "    <tr>\n",
       "      <th>0</th>\n",
       "      <td>Решающее дерево</td>\n",
       "      <td>0.515917</td>\n",
       "      <td>0.766402</td>\n",
       "    </tr>\n",
       "    <tr>\n",
       "      <th>1</th>\n",
       "      <td>Случайный лес</td>\n",
       "      <td>0.595336</td>\n",
       "      <td>0.840072</td>\n",
       "    </tr>\n",
       "    <tr>\n",
       "      <th>2</th>\n",
       "      <td>Логистическая регрессия</td>\n",
       "      <td>0.508597</td>\n",
       "      <td>0.777901</td>\n",
       "    </tr>\n",
       "  </tbody>\n",
       "</table>\n",
       "</div>"
      ],
      "text/plain": [
       "                    Модель        F1   ROC-AUC\n",
       "0          Решающее дерево  0.515917  0.766402\n",
       "1            Случайный лес  0.595336  0.840072\n",
       "2  Логистическая регрессия  0.508597  0.777901"
      ]
     },
     "execution_count": 27,
     "metadata": {},
     "output_type": "execute_result"
    }
   ],
   "source": [
    "pd.DataFrame({'Модель': ['Решающее дерево', 'Случайный лес', 'Логистическая регрессия'], \n",
    "              'F1': [F1_DT_up, F1_RF_up, F1_LR_up],\n",
    "              'ROC-AUC': [R_A_DT_up, R_A_RF_up, R_A_LR_up]})"
   ]
  },
  {
   "cell_type": "markdown",
   "metadata": {},
   "source": [
    "### Применение метода уменьшения выбрки"
   ]
  },
  {
   "cell_type": "code",
   "execution_count": 28,
   "metadata": {},
   "outputs": [
    {
     "name": "stdout",
     "output_type": "stream",
     "text": [
      "Размеры выборок (2424, 11) (2424,)\n"
     ]
    }
   ],
   "source": [
    "def downsample(features, target, fraction):\n",
    "    features_zeros = features[target == 0]\n",
    "    features_ones = features[target == 1]\n",
    "    target_zeros = target[target == 0]\n",
    "    target_ones = target[target == 1]\n",
    "\n",
    "    features_downsampled = pd.concat([features_zeros.sample(frac=fraction, random_state=12345)] + [features_ones])\n",
    "    target_downsampled = pd.concat([target_zeros.sample(frac=fraction, random_state=12345)] + [target_ones])\n",
    "    \n",
    "    features_downsampled, target_downsampled = shuffle(features_downsampled, target_downsampled, random_state=12345)\n",
    "    \n",
    "    return features_downsampled, target_downsampled\n",
    "\n",
    "features_downsampled, target_downsampled = downsample(features_train, target_train, 0.3)\n",
    "\n",
    "print('Размеры выборок',features_downsampled.shape, target_downsampled.shape)"
   ]
  },
  {
   "cell_type": "code",
   "execution_count": 29,
   "metadata": {
    "scrolled": false
   },
   "outputs": [
    {
     "data": {
      "text/plain": [
       "0    0.535479\n",
       "1    0.464521\n",
       "Name: Exited, dtype: float64"
      ]
     },
     "execution_count": 29,
     "metadata": {},
     "output_type": "execute_result"
    },
    {
     "data": {
      "image/png": "[encoded data removed]",
      "text/plain": [
       "<Figure size 432x288 with 1 Axes>"
      ]
     },
     "metadata": {
      "needs_background": "light"
     },
     "output_type": "display_data"
    }
   ],
   "source": [
    "target_downsampled.value_counts(normalize=True).plot(kind='bar', title = 'Баланс классов после уменьшения выбрки')\n",
    "target_downsampled.value_counts(normalize=True)"
   ]
  },
  {
   "cell_type": "markdown",
   "metadata": {},
   "source": [
    "#### Решающее дерево"
   ]
  },
  {
   "cell_type": "code",
   "execution_count": 30,
   "metadata": {},
   "outputs": [
    {
     "name": "stdout",
     "output_type": "stream",
     "text": [
      "Лучшие параметры: {'max_depth': 6, 'min_samples_leaf': 3, 'min_samples_split': 2}\n",
      "Метрика F1 : 0.57\n",
      "Метрика ROC-AUC: 0.83\n"
     ]
    }
   ],
   "source": [
    "model_DT_down = model_DT\n",
    "best_DT_down = model_learn(model_DT_down, parametrs_DT, features_downsampled, target_downsampled)\n",
    "print(\"Лучшие параметры:\", best_DT_down.best_params_)\n",
    "F1_DT_down = F1_metrix_model_valid(best_DT_down)\n",
    "print(\"Метрика F1 : {:.2f}\" .format(F1_DT_down))\n",
    "R_A_DT_down = roc_auc_metrix_model_valid(best_DT_down)\n",
    "print(\"Метрика ROC-AUC: {:.2f}\" .format(R_A_DT_down))"
   ]
  },
  {
   "cell_type": "markdown",
   "metadata": {},
   "source": [
    "#### Cлучайный лес"
   ]
  },
  {
   "cell_type": "code",
   "execution_count": 31,
   "metadata": {},
   "outputs": [
    {
     "name": "stdout",
     "output_type": "stream",
     "text": [
      "Лучшие параметры: {'max_depth': 8, 'min_samples_leaf': 5, 'min_samples_split': 2, 'n_estimators': 12}\n",
      "Метрика F1 : 0.60\n",
      "Метрика ROC-AUC: 0.86\n"
     ]
    }
   ],
   "source": [
    "model_RF_down = model_RF\n",
    "best_RF_down = model_learn(model_RF_down, parametrs_RF, features_downsampled, target_downsampled)\n",
    "print(\"Лучшие параметры:\", best_RF_down.best_params_)\n",
    "F1_RF_down = F1_metrix_model_valid(best_RF_down)\n",
    "print(\"Метрика F1 : {:.2f}\" .format(F1_RF_down))\n",
    "R_A_RF_down = roc_auc_metrix_model_valid(best_RF_down)\n",
    "print(\"Метрика ROC-AUC: {:.2f}\" .format(R_A_RF_down))"
   ]
  },
  {
   "cell_type": "markdown",
   "metadata": {},
   "source": [
    "#### Логистическая регрессия"
   ]
  },
  {
   "cell_type": "code",
   "execution_count": 32,
   "metadata": {},
   "outputs": [
    {
     "name": "stdout",
     "output_type": "stream",
     "text": [
      "Лучшие параметры: {'max_depth': 8, 'min_samples_leaf': 5, 'min_samples_split': 2, 'n_estimators': 12}\n",
      "Метрика F1 : 0.51\n",
      "Метрика ROC-AUC: 0.77\n"
     ]
    }
   ],
   "source": [
    "model_LR_down = model_LR\n",
    "best_LR_down = model_learn(model_LR_down, parametrs_LR, features_downsampled, target_downsampled)\n",
    "print(\"Лучшие параметры:\", best_RF_down.best_params_)\n",
    "F1_LR_down = F1_metrix_model_valid(best_LR_down)\n",
    "print(\"Метрика F1 : {:.2f}\" .format(F1_LR_down))\n",
    "R_A_LR_down = roc_auc_metrix_model_valid(best_LR_down)\n",
    "print(\"Метрика ROC-AUC: {:.2f}\" .format(R_A_LR_down))"
   ]
  },
  {
   "cell_type": "markdown",
   "metadata": {},
   "source": [
    "#### Итог"
   ]
  },
  {
   "cell_type": "code",
   "execution_count": 33,
   "metadata": {
    "scrolled": true
   },
   "outputs": [
    {
     "data": {
      "text/html": [
       "<div>\n",
       "<style scoped>\n",
       "    .dataframe tbody tr th:only-of-type {\n",
       "        vertical-align: middle;\n",
       "    }\n",
       "\n",
       "    .dataframe tbody tr th {\n",
       "        vertical-align: top;\n",
       "    }\n",
       "\n",
       "    .dataframe thead th {\n",
       "        text-align: right;\n",
       "    }\n",
       "</style>\n",
       "<table border=\"1\" class=\"dataframe\">\n",
       "  <thead>\n",
       "    <tr style=\"text-align: right;\">\n",
       "      <th></th>\n",
       "      <th>Модель</th>\n",
       "      <th>F1</th>\n",
       "      <th>ROC-AUC</th>\n",
       "    </tr>\n",
       "  </thead>\n",
       "  <tbody>\n",
       "    <tr>\n",
       "      <th>0</th>\n",
       "      <td>Решающее дерево</td>\n",
       "      <td>0.574338</td>\n",
       "      <td>0.828970</td>\n",
       "    </tr>\n",
       "    <tr>\n",
       "      <th>1</th>\n",
       "      <td>Случайный лес</td>\n",
       "      <td>0.598525</td>\n",
       "      <td>0.859548</td>\n",
       "    </tr>\n",
       "    <tr>\n",
       "      <th>2</th>\n",
       "      <td>Логистическая регрессия</td>\n",
       "      <td>0.514056</td>\n",
       "      <td>0.774381</td>\n",
       "    </tr>\n",
       "  </tbody>\n",
       "</table>\n",
       "</div>"
      ],
      "text/plain": [
       "                    Модель        F1   ROC-AUC\n",
       "0          Решающее дерево  0.574338  0.828970\n",
       "1            Случайный лес  0.598525  0.859548\n",
       "2  Логистическая регрессия  0.514056  0.774381"
      ]
     },
     "execution_count": 33,
     "metadata": {},
     "output_type": "execute_result"
    }
   ],
   "source": [
    "pd.DataFrame({'Модель': ['Решающее дерево', 'Случайный лес', 'Логистическая регрессия'], \n",
    "              'F1': [F1_DT_down, F1_RF_down, F1_LR_down],\n",
    "              'ROC-AUC': [R_A_DT_down, R_A_RF_down, R_A_LR_down]})"
   ]
  },
  {
   "cell_type": "markdown",
   "metadata": {},
   "source": [
    "### Выводы"
   ]
  },
  {
   "cell_type": "code",
   "execution_count": 34,
   "metadata": {},
   "outputs": [
    {
     "data": {
      "text/html": [
       "<div>\n",
       "<style scoped>\n",
       "    .dataframe tbody tr th:only-of-type {\n",
       "        vertical-align: middle;\n",
       "    }\n",
       "\n",
       "    .dataframe tbody tr th {\n",
       "        vertical-align: top;\n",
       "    }\n",
       "\n",
       "    .dataframe thead th {\n",
       "        text-align: right;\n",
       "    }\n",
       "</style>\n",
       "<table border=\"1\" class=\"dataframe\">\n",
       "  <thead>\n",
       "    <tr style=\"text-align: right;\">\n",
       "      <th></th>\n",
       "      <th>Модель</th>\n",
       "      <th>F1 исходная</th>\n",
       "      <th>F1 c взвешиванием</th>\n",
       "      <th>F1 апсемплингом</th>\n",
       "      <th>F1 с даунсемплингом</th>\n",
       "    </tr>\n",
       "  </thead>\n",
       "  <tbody>\n",
       "    <tr>\n",
       "      <th>0</th>\n",
       "      <td>Решающее дерево</td>\n",
       "      <td>0.528662</td>\n",
       "      <td>0.574761</td>\n",
       "      <td>0.515917</td>\n",
       "      <td>0.574338</td>\n",
       "    </tr>\n",
       "    <tr>\n",
       "      <th>1</th>\n",
       "      <td>Случайный лес</td>\n",
       "      <td>0.589951</td>\n",
       "      <td>0.630137</td>\n",
       "      <td>0.595336</td>\n",
       "      <td>0.598525</td>\n",
       "    </tr>\n",
       "    <tr>\n",
       "      <th>2</th>\n",
       "      <td>Логистическая регрессия</td>\n",
       "      <td>0.304000</td>\n",
       "      <td>0.509731</td>\n",
       "      <td>0.508597</td>\n",
       "      <td>0.514056</td>\n",
       "    </tr>\n",
       "  </tbody>\n",
       "</table>\n",
       "</div>"
      ],
      "text/plain": [
       "                    Модель  F1 исходная  F1 c взвешиванием  F1 апсемплингом  \\\n",
       "0          Решающее дерево     0.528662           0.574761         0.515917   \n",
       "1            Случайный лес     0.589951           0.630137         0.595336   \n",
       "2  Логистическая регрессия     0.304000           0.509731         0.508597   \n",
       "\n",
       "   F1 с даунсемплингом  \n",
       "0             0.574338  \n",
       "1             0.598525  \n",
       "2             0.514056  "
      ]
     },
     "execution_count": 34,
     "metadata": {},
     "output_type": "execute_result"
    }
   ],
   "source": [
    "pd.DataFrame({'Модель': ['Решающее дерево', 'Случайный лес', 'Логистическая регрессия'],\n",
    "              'F1 исходная' : [F1_DT, F1_RF, F1_LR],\n",
    "              'F1 c взвешиванием' : [F1_DT_cwb, F1_RF_cwb, F1_LR_cwb],\n",
    "              'F1 апсемплингом': [F1_DT_up, F1_RF_up, F1_LR_up],\n",
    "              'F1 с даунсемплингом': [F1_DT_down, F1_RF_down, F1_LR_down]})"
   ]
  },
  {
   "cell_type": "code",
   "execution_count": 35,
   "metadata": {
    "scrolled": true
   },
   "outputs": [
    {
     "data": {
      "text/html": [
       "<div>\n",
       "<style scoped>\n",
       "    .dataframe tbody tr th:only-of-type {\n",
       "        vertical-align: middle;\n",
       "    }\n",
       "\n",
       "    .dataframe tbody tr th {\n",
       "        vertical-align: top;\n",
       "    }\n",
       "\n",
       "    .dataframe thead th {\n",
       "        text-align: right;\n",
       "    }\n",
       "</style>\n",
       "<table border=\"1\" class=\"dataframe\">\n",
       "  <thead>\n",
       "    <tr style=\"text-align: right;\">\n",
       "      <th></th>\n",
       "      <th>Модель</th>\n",
       "      <th>ROC-AUC исходная</th>\n",
       "      <th>ROC-AUC c взвешиванием</th>\n",
       "      <th>ROC-AUC апсемплингом</th>\n",
       "      <th>ROC-AUC с даунсемплингом</th>\n",
       "    </tr>\n",
       "  </thead>\n",
       "  <tbody>\n",
       "    <tr>\n",
       "      <th>0</th>\n",
       "      <td>Решающее дерево</td>\n",
       "      <td>0.832510</td>\n",
       "      <td>0.842309</td>\n",
       "      <td>0.766402</td>\n",
       "      <td>0.828970</td>\n",
       "    </tr>\n",
       "    <tr>\n",
       "      <th>1</th>\n",
       "      <td>Случайный лес</td>\n",
       "      <td>0.847555</td>\n",
       "      <td>0.862757</td>\n",
       "      <td>0.840072</td>\n",
       "      <td>0.859548</td>\n",
       "    </tr>\n",
       "    <tr>\n",
       "      <th>2</th>\n",
       "      <td>Логистическая регрессия</td>\n",
       "      <td>0.773663</td>\n",
       "      <td>0.777779</td>\n",
       "      <td>0.777901</td>\n",
       "      <td>0.774381</td>\n",
       "    </tr>\n",
       "  </tbody>\n",
       "</table>\n",
       "</div>"
      ],
      "text/plain": [
       "                    Модель  ROC-AUC исходная  ROC-AUC c взвешиванием  \\\n",
       "0          Решающее дерево          0.832510                0.842309   \n",
       "1            Случайный лес          0.847555                0.862757   \n",
       "2  Логистическая регрессия          0.773663                0.777779   \n",
       "\n",
       "   ROC-AUC апсемплингом  ROC-AUC с даунсемплингом  \n",
       "0              0.766402                  0.828970  \n",
       "1              0.840072                  0.859548  \n",
       "2              0.777901                  0.774381  "
      ]
     },
     "execution_count": 35,
     "metadata": {},
     "output_type": "execute_result"
    }
   ],
   "source": [
    "pd.DataFrame({'Модель': ['Решающее дерево', 'Случайный лес', 'Логистическая регрессия'],\n",
    "              'ROC-AUC исходная' : [R_A_DT, R_A_RF, R_A_LR],\n",
    "              'ROC-AUC c взвешиванием' : [R_A_DT_cwb, R_A_RF_cwb, R_A_LR_cwb],\n",
    "              'ROC-AUC апсемплингом': [R_A_DT_up, R_A_RF_up, R_A_LR_up],\n",
    "              'ROC-AUC с даунсемплингом': [R_A_DT_down, R_A_RF_down, R_A_LR_down]})"
   ]
  },
  {
   "cell_type": "markdown",
   "metadata": {},
   "source": [
    "Применение методов борьбы с дисбалансом позволило значительно увеличить метрики. Лучшие результаты показывает модель случайный лес с примененим взвешивания классов. Увеличение и уменьшение выборки показввает примерно одинаковы результат."
   ]
  },
  {
   "cell_type": "markdown",
   "metadata": {},
   "source": [
    "## Тестирование модели"
   ]
  },
  {
   "cell_type": "code",
   "execution_count": 36,
   "metadata": {},
   "outputs": [],
   "source": [
    "#вычисление F1 метрики для заданной модели по тестовой выборке\n",
    "def F1_metrix_model_test(model_type):\n",
    "    return f1_score(target_test, model_type.best_estimator_.predict(features_test))"
   ]
  },
  {
   "cell_type": "code",
   "execution_count": 37,
   "metadata": {},
   "outputs": [],
   "source": [
    "#вычисление ROC-AUC метрики для заданной модели по тестовой выборке\n",
    "def roc_auc_metrix_model_test(model_type):\n",
    "    return roc_auc_score(target_test, model_type.best_estimator_.predict_proba(features_test)[:, 1])"
   ]
  },
  {
   "cell_type": "markdown",
   "metadata": {},
   "source": [
    "### Без учёта дисбаланса классов"
   ]
  },
  {
   "cell_type": "code",
   "execution_count": 38,
   "metadata": {},
   "outputs": [
    {
     "data": {
      "text/html": [
       "<div>\n",
       "<style scoped>\n",
       "    .dataframe tbody tr th:only-of-type {\n",
       "        vertical-align: middle;\n",
       "    }\n",
       "\n",
       "    .dataframe tbody tr th {\n",
       "        vertical-align: top;\n",
       "    }\n",
       "\n",
       "    .dataframe thead th {\n",
       "        text-align: right;\n",
       "    }\n",
       "</style>\n",
       "<table border=\"1\" class=\"dataframe\">\n",
       "  <thead>\n",
       "    <tr style=\"text-align: right;\">\n",
       "      <th></th>\n",
       "      <th>Модель</th>\n",
       "      <th>F1</th>\n",
       "      <th>ROC-AUC</th>\n",
       "    </tr>\n",
       "  </thead>\n",
       "  <tbody>\n",
       "    <tr>\n",
       "      <th>0</th>\n",
       "      <td>Решающее дерево</td>\n",
       "      <td>0.499127</td>\n",
       "      <td>0.825226</td>\n",
       "    </tr>\n",
       "    <tr>\n",
       "      <th>1</th>\n",
       "      <td>Случайный лес</td>\n",
       "      <td>0.540351</td>\n",
       "      <td>0.828635</td>\n",
       "    </tr>\n",
       "    <tr>\n",
       "      <th>2</th>\n",
       "      <td>Логистическая регрессия</td>\n",
       "      <td>0.321199</td>\n",
       "      <td>0.780999</td>\n",
       "    </tr>\n",
       "  </tbody>\n",
       "</table>\n",
       "</div>"
      ],
      "text/plain": [
       "                    Модель        F1   ROC-AUC\n",
       "0          Решающее дерево  0.499127  0.825226\n",
       "1            Случайный лес  0.540351  0.828635\n",
       "2  Логистическая регрессия  0.321199  0.780999"
      ]
     },
     "execution_count": 38,
     "metadata": {},
     "output_type": "execute_result"
    }
   ],
   "source": [
    "models = [('решающее дерево F1 {:.2f}',best_DT, 'M1_DT_test', 'R_A_DT_test'), \n",
    "          ('случайный лес F1 {:.2f}',best_RF, 'M1_RF_test', 'R_A_RF_test'), \n",
    "          ('логистическая регрессия F1 {:.2f}', best_LR, 'M1_LR_test', 'R_A_LA_test')]\n",
    "\n",
    "for model_name, model, M_F1, M_R_A in models:\n",
    "    globals()[M_F1] = F1_metrix_model_test(model)\n",
    "    globals()[M_R_A] = roc_auc_metrix_model_test(model)\n",
    "    \n",
    "pd.DataFrame({'Модель': ['Решающее дерево', 'Случайный лес', 'Логистическая регрессия'], \n",
    "              'F1': [M1_DT_test, M1_RF_test, M1_LR_test],\n",
    "              'ROC-AUC': [R_A_DT_test, R_A_RF_test, R_A_LA_test]})"
   ]
  },
  {
   "cell_type": "markdown",
   "metadata": {},
   "source": [
    "### Метод взвешивания классов"
   ]
  },
  {
   "cell_type": "code",
   "execution_count": 39,
   "metadata": {},
   "outputs": [
    {
     "data": {
      "text/html": [
       "<div>\n",
       "<style scoped>\n",
       "    .dataframe tbody tr th:only-of-type {\n",
       "        vertical-align: middle;\n",
       "    }\n",
       "\n",
       "    .dataframe tbody tr th {\n",
       "        vertical-align: top;\n",
       "    }\n",
       "\n",
       "    .dataframe thead th {\n",
       "        text-align: right;\n",
       "    }\n",
       "</style>\n",
       "<table border=\"1\" class=\"dataframe\">\n",
       "  <thead>\n",
       "    <tr style=\"text-align: right;\">\n",
       "      <th></th>\n",
       "      <th>Модель</th>\n",
       "      <th>F1</th>\n",
       "      <th>ROC-AUC</th>\n",
       "    </tr>\n",
       "  </thead>\n",
       "  <tbody>\n",
       "    <tr>\n",
       "      <th>0</th>\n",
       "      <td>Решающее дерево</td>\n",
       "      <td>0.565996</td>\n",
       "      <td>0.838388</td>\n",
       "    </tr>\n",
       "    <tr>\n",
       "      <th>1</th>\n",
       "      <td>Случайный лес</td>\n",
       "      <td>0.587666</td>\n",
       "      <td>0.846668</td>\n",
       "    </tr>\n",
       "    <tr>\n",
       "      <th>2</th>\n",
       "      <td>Логистическая регрессия</td>\n",
       "      <td>0.502543</td>\n",
       "      <td>0.781750</td>\n",
       "    </tr>\n",
       "  </tbody>\n",
       "</table>\n",
       "</div>"
      ],
      "text/plain": [
       "                    Модель        F1   ROC-AUC\n",
       "0          Решающее дерево  0.565996  0.838388\n",
       "1            Случайный лес  0.587666  0.846668\n",
       "2  Логистическая регрессия  0.502543  0.781750"
      ]
     },
     "execution_count": 39,
     "metadata": {},
     "output_type": "execute_result"
    }
   ],
   "source": [
    "models = [('решающее дерево F1 {:.2f}',best_DT_cwb, 'M1_DT_test_cwb', 'R_A_DT_test_cwb'), \n",
    "          ('случайный лес F1 {:.2f}',best_RF_cwb, 'M1_RF_test_cwb', 'R_A_RF_test_cwb'), \n",
    "          ('логистическая регрессия F1 {:.2f}', best_LR_cwb, 'M1_LR_test_cwb', 'R_A_LA_test_cwb')]\n",
    "\n",
    "for model_name, model, M_F1, M_R_A in models:\n",
    "    globals()[M_F1] = F1_metrix_model_test(model)\n",
    "    globals()[M_R_A] = roc_auc_metrix_model_test(model)\n",
    "    \n",
    "pd.DataFrame({'Модель': ['Решающее дерево', 'Случайный лес', 'Логистическая регрессия'], \n",
    "              'F1': [M1_DT_test_cwb, M1_RF_test_cwb, M1_LR_test_cwb],\n",
    "              'ROC-AUC': [R_A_DT_test_cwb, R_A_RF_test_cwb, R_A_LA_test_cwb]})"
   ]
  },
  {
   "cell_type": "markdown",
   "metadata": {},
   "source": [
    "### Метод увеличения выбрки"
   ]
  },
  {
   "cell_type": "code",
   "execution_count": 40,
   "metadata": {},
   "outputs": [
    {
     "data": {
      "text/html": [
       "<div>\n",
       "<style scoped>\n",
       "    .dataframe tbody tr th:only-of-type {\n",
       "        vertical-align: middle;\n",
       "    }\n",
       "\n",
       "    .dataframe tbody tr th {\n",
       "        vertical-align: top;\n",
       "    }\n",
       "\n",
       "    .dataframe thead th {\n",
       "        text-align: right;\n",
       "    }\n",
       "</style>\n",
       "<table border=\"1\" class=\"dataframe\">\n",
       "  <thead>\n",
       "    <tr style=\"text-align: right;\">\n",
       "      <th></th>\n",
       "      <th>Модель</th>\n",
       "      <th>F1</th>\n",
       "      <th>ROC-AUC</th>\n",
       "    </tr>\n",
       "  </thead>\n",
       "  <tbody>\n",
       "    <tr>\n",
       "      <th>0</th>\n",
       "      <td>Решающее дерево</td>\n",
       "      <td>0.527149</td>\n",
       "      <td>0.775539</td>\n",
       "    </tr>\n",
       "    <tr>\n",
       "      <th>1</th>\n",
       "      <td>Случайный лес</td>\n",
       "      <td>0.585915</td>\n",
       "      <td>0.833103</td>\n",
       "    </tr>\n",
       "    <tr>\n",
       "      <th>2</th>\n",
       "      <td>Логистическая регрессия</td>\n",
       "      <td>0.496538</td>\n",
       "      <td>0.781735</td>\n",
       "    </tr>\n",
       "  </tbody>\n",
       "</table>\n",
       "</div>"
      ],
      "text/plain": [
       "                    Модель        F1   ROC-AUC\n",
       "0          Решающее дерево  0.527149  0.775539\n",
       "1            Случайный лес  0.585915  0.833103\n",
       "2  Логистическая регрессия  0.496538  0.781735"
      ]
     },
     "execution_count": 40,
     "metadata": {},
     "output_type": "execute_result"
    }
   ],
   "source": [
    "models = [('решающее дерево F1 {:.2f}',best_DT_up, 'M1_DT_test_up', 'R_A_DT_test_up'), \n",
    "          ('случайный лес F1 {:.2f}',best_RF_up, 'M1_RF_test_up', 'R_A_RF_test_up'), \n",
    "          ('логистическая регрессия F1 {:.2f}', best_LR_up, 'M1_LR_test_up', 'R_A_LA_test_up')]\n",
    "\n",
    "for model_name, model, M_F1, M_R_A in models:\n",
    "    globals()[M_F1] = F1_metrix_model_test(model)\n",
    "    globals()[M_R_A] = roc_auc_metrix_model_test(model)\n",
    "    \n",
    "pd.DataFrame({'Модель': ['Решающее дерево', 'Случайный лес', 'Логистическая регрессия'], \n",
    "              'F1': [M1_DT_test_up, M1_RF_test_up, M1_LR_test_up],\n",
    "              'ROC-AUC': [R_A_DT_test_up, R_A_RF_test_up, R_A_LA_test_up]})"
   ]
  },
  {
   "cell_type": "markdown",
   "metadata": {},
   "source": [
    "### Метод уменьшения выбрки"
   ]
  },
  {
   "cell_type": "code",
   "execution_count": 41,
   "metadata": {},
   "outputs": [
    {
     "data": {
      "text/html": [
       "<div>\n",
       "<style scoped>\n",
       "    .dataframe tbody tr th:only-of-type {\n",
       "        vertical-align: middle;\n",
       "    }\n",
       "\n",
       "    .dataframe tbody tr th {\n",
       "        vertical-align: top;\n",
       "    }\n",
       "\n",
       "    .dataframe thead th {\n",
       "        text-align: right;\n",
       "    }\n",
       "</style>\n",
       "<table border=\"1\" class=\"dataframe\">\n",
       "  <thead>\n",
       "    <tr style=\"text-align: right;\">\n",
       "      <th></th>\n",
       "      <th>Модель</th>\n",
       "      <th>F1</th>\n",
       "      <th>ROC-AUC</th>\n",
       "    </tr>\n",
       "  </thead>\n",
       "  <tbody>\n",
       "    <tr>\n",
       "      <th>0</th>\n",
       "      <td>Решающее дерево</td>\n",
       "      <td>0.554713</td>\n",
       "      <td>0.827233</td>\n",
       "    </tr>\n",
       "    <tr>\n",
       "      <th>1</th>\n",
       "      <td>Случайный лес</td>\n",
       "      <td>0.571746</td>\n",
       "      <td>0.848519</td>\n",
       "    </tr>\n",
       "    <tr>\n",
       "      <th>2</th>\n",
       "      <td>Логистическая регрессия</td>\n",
       "      <td>0.487486</td>\n",
       "      <td>0.780801</td>\n",
       "    </tr>\n",
       "  </tbody>\n",
       "</table>\n",
       "</div>"
      ],
      "text/plain": [
       "                    Модель        F1   ROC-AUC\n",
       "0          Решающее дерево  0.554713  0.827233\n",
       "1            Случайный лес  0.571746  0.848519\n",
       "2  Логистическая регрессия  0.487486  0.780801"
      ]
     },
     "execution_count": 41,
     "metadata": {},
     "output_type": "execute_result"
    }
   ],
   "source": [
    "models = [('решающее дерево F1 {:.2f}',best_DT_down, 'M1_DT_test_down', 'R_A_DT_test_down'), \n",
    "          ('случайный лес F1 {:.2f}',best_RF_down, 'M1_RF_test_down', 'R_A_RF_test_down'), \n",
    "          ('логистическая регрессия F1 {:.2f}', best_LR_down, 'M1_LR_test_down', 'R_A_LA_test_down')]\n",
    "\n",
    "for model_name, model, M_F1, M_R_A in models:\n",
    "    globals()[M_F1] = F1_metrix_model_test(model)\n",
    "    globals()[M_R_A] = roc_auc_metrix_model_test(model)\n",
    "    \n",
    "pd.DataFrame({'Модель': ['Решающее дерево', 'Случайный лес', 'Логистическая регрессия'], \n",
    "              'F1': [M1_DT_test_down, M1_RF_test_down, M1_LR_test_down],\n",
    "              'ROC-AUC': [R_A_DT_test_down, R_A_RF_test_down, R_A_LA_test_down]})"
   ]
  },
  {
   "cell_type": "markdown",
   "metadata": {},
   "source": [
    "### Выводы"
   ]
  },
  {
   "cell_type": "markdown",
   "metadata": {},
   "source": [
    "На тестовой выборке метрики снизились относительно валидационни выбрки. Но всерано виден эффект от методов борьбы с дисбалансом."
   ]
  },
  {
   "cell_type": "markdown",
   "metadata": {},
   "source": [
    "## Общий вывод"
   ]
  },
  {
   "cell_type": "markdown",
   "metadata": {},
   "source": [
    "Построена модель прогнозирующая уход клиент из банка в ближайшее время. С помощью подбора гиперпараметров и методов борьбы с дисбалансом получили модель с предельно большим значением F1-меры. Дисбаланс классв в исходной выбрке составил 0.8/0.2. Для подготовки данных использованы кодирование и масштабирование признаков. Исследования показали, что лучших значний метрик удается добится применяя модель случайный лес с взвешиванием классов. Максимальные показатели F1 метрики на влидационной выборке 0.63, на тестовой 0.60, что соответсвует заданию.  Кроме того исследована метрика ROC-AUC. Её значения коррелируют со значениями F1 метрики. Максимальные значения 0.85 и 0.87 для валидационной и для тестовай выборки соответсвенно."
   ]
  },
  {
   "cell_type": "markdown",
   "metadata": {},
   "source": [
    "## Чек-лист готовности проекта"
   ]
  },
  {
   "cell_type": "markdown",
   "metadata": {},
   "source": [
    "Поставьте 'x' в выполненных пунктах. Далее нажмите Shift+Enter."
   ]
  },
  {
   "cell_type": "markdown",
   "metadata": {},
   "source": [
    "- [x]  Jupyter Notebook открыт\n",
    "- [x]  Весь код выполняется без ошибок\n",
    "- [x]  Ячейки с кодом расположены в порядке исполнения\n",
    "- [x]  Выполнен шаг 1: данные подготовлены\n",
    "- [x]  Выполнен шаг 2: задача исследована\n",
    "    - [x]  Исследован баланс классов\n",
    "    - [x]  Изучены модели без учёта дисбаланса\n",
    "    - [x]  Написаны выводы по результатам исследования\n",
    "- [x]  Выполнен шаг 3: учтён дисбаланс\n",
    "    - [x]  Применено несколько способов борьбы с дисбалансом\n",
    "    - [x]  Написаны выводы по результатам исследования\n",
    "- [x]  Выполнен шаг 4: проведено тестирование\n",
    "- [x]  Удалось достичь *F1*-меры не менее 0.59\n",
    "- [x]  Исследована метрика *AUC-ROC*"
   ]
  },
  {
   "cell_type": "markdown",
   "metadata": {},
   "source": [
    "<div class=\"alert alert-block alert-success\">\n",
    "<b> Дополнение</b>\n",
    "</div>"
   ]
  },
  {
   "cell_type": "markdown",
   "metadata": {},
   "source": [
    "Поскольку для обучения моделей используется метод GridSearchCV который сам разделяет выборки на трэйн и валид (валид в данной работе использовалась только для вычислении ROC-AUC согласно заданию) попробуем обучить модель случайный лес с взвешиванием классов на выборке большего объема соединив трэйн и валид."
   ]
  },
  {
   "cell_type": "code",
   "execution_count": 42,
   "metadata": {},
   "outputs": [
    {
     "data": {
      "text/plain": [
       "((7272, 11), (7272,))"
      ]
     },
     "execution_count": 42,
     "metadata": {},
     "output_type": "execute_result"
    }
   ],
   "source": [
    "new_features = pd.concat([features_train] + [features_valid])\n",
    "new_target = pd.concat([target_train] + [target_valid])\n",
    "    \n",
    "new_features.shape, new_target.shape"
   ]
  },
  {
   "cell_type": "code",
   "execution_count": 43,
   "metadata": {},
   "outputs": [
    {
     "name": "stdout",
     "output_type": "stream",
     "text": [
      "метрка F1 обученной модели: 0.6213020892864883\n"
     ]
    }
   ],
   "source": [
    "new_model_RF_cwb = RandomForestClassifier(random_state=12345, class_weight='balanced')\n",
    "new_best_RF_cwb = model_learn(model_RF_cwb, parametrs_RF, new_features, new_target)\n",
    "print('метрка F1 обученной модели:', new_best_RF_cwb.best_score_)"
   ]
  },
  {
   "cell_type": "code",
   "execution_count": 44,
   "metadata": {},
   "outputs": [
    {
     "name": "stdout",
     "output_type": "stream",
     "text": [
      "Метрика F1 на тестовой выбрке: 0.5911949685534592\n"
     ]
    }
   ],
   "source": [
    "print('Метрика F1 на тестовой выбрке:', F1_metrix_model_test(new_best_RF_cwb))"
   ]
  },
  {
   "cell_type": "markdown",
   "metadata": {},
   "source": [
    "Метрика увеличилась. Больший объем данных увеличивает точнось модели."
   ]
  },
  {
   "cell_type": "markdown",
   "metadata": {},
   "source": [
    "Проанализируем важность признаков"
   ]
  },
  {
   "cell_type": "code",
   "execution_count": 45,
   "metadata": {},
   "outputs": [
    {
     "data": {
      "text/html": [
       "<div>\n",
       "<style scoped>\n",
       "    .dataframe tbody tr th:only-of-type {\n",
       "        vertical-align: middle;\n",
       "    }\n",
       "\n",
       "    .dataframe tbody tr th {\n",
       "        vertical-align: top;\n",
       "    }\n",
       "\n",
       "    .dataframe thead th {\n",
       "        text-align: right;\n",
       "    }\n",
       "</style>\n",
       "<table border=\"1\" class=\"dataframe\">\n",
       "  <thead>\n",
       "    <tr style=\"text-align: right;\">\n",
       "      <th></th>\n",
       "      <th>feature</th>\n",
       "      <th>importance</th>\n",
       "    </tr>\n",
       "  </thead>\n",
       "  <tbody>\n",
       "    <tr>\n",
       "      <th>0</th>\n",
       "      <td>Age</td>\n",
       "      <td>0.363556</td>\n",
       "    </tr>\n",
       "    <tr>\n",
       "      <th>1</th>\n",
       "      <td>NumOfProducts</td>\n",
       "      <td>0.263858</td>\n",
       "    </tr>\n",
       "    <tr>\n",
       "      <th>2</th>\n",
       "      <td>Balance</td>\n",
       "      <td>0.104787</td>\n",
       "    </tr>\n",
       "    <tr>\n",
       "      <th>3</th>\n",
       "      <td>IsActiveMember</td>\n",
       "      <td>0.063165</td>\n",
       "    </tr>\n",
       "    <tr>\n",
       "      <th>4</th>\n",
       "      <td>Geography_Germany</td>\n",
       "      <td>0.061016</td>\n",
       "    </tr>\n",
       "    <tr>\n",
       "      <th>5</th>\n",
       "      <td>EstimatedSalary</td>\n",
       "      <td>0.042924</td>\n",
       "    </tr>\n",
       "    <tr>\n",
       "      <th>6</th>\n",
       "      <td>CreditScore</td>\n",
       "      <td>0.041000</td>\n",
       "    </tr>\n",
       "    <tr>\n",
       "      <th>7</th>\n",
       "      <td>Tenure</td>\n",
       "      <td>0.022991</td>\n",
       "    </tr>\n",
       "    <tr>\n",
       "      <th>8</th>\n",
       "      <td>Gender_Male</td>\n",
       "      <td>0.021222</td>\n",
       "    </tr>\n",
       "    <tr>\n",
       "      <th>9</th>\n",
       "      <td>Geography_Spain</td>\n",
       "      <td>0.008604</td>\n",
       "    </tr>\n",
       "    <tr>\n",
       "      <th>10</th>\n",
       "      <td>HasCrCard</td>\n",
       "      <td>0.006875</td>\n",
       "    </tr>\n",
       "  </tbody>\n",
       "</table>\n",
       "</div>"
      ],
      "text/plain": [
       "              feature  importance\n",
       "0                 Age    0.363556\n",
       "1       NumOfProducts    0.263858\n",
       "2             Balance    0.104787\n",
       "3      IsActiveMember    0.063165\n",
       "4   Geography_Germany    0.061016\n",
       "5     EstimatedSalary    0.042924\n",
       "6         CreditScore    0.041000\n",
       "7              Tenure    0.022991\n",
       "8         Gender_Male    0.021222\n",
       "9     Geography_Spain    0.008604\n",
       "10          HasCrCard    0.006875"
      ]
     },
     "execution_count": 45,
     "metadata": {},
     "output_type": "execute_result"
    },
    {
     "data": {
      "image/png": "[encoded data removed]",
      "text/plain": [
       "<Figure size 432x288 with 1 Axes>"
      ]
     },
     "metadata": {
      "needs_background": "light"
     },
     "output_type": "display_data"
    }
   ],
   "source": [
    "# model is the trained model\n",
    "importances = best_RF_cwb.best_estimator_.feature_importances_\n",
    "\n",
    "# train_features is the dataframe of training features\n",
    "feature_list = list(features_train.columns)\n",
    "\n",
    "# Extract the feature importances into a dataframe\n",
    "feature_results = pd.DataFrame({'feature': feature_list,'importance': importances})\n",
    "\n",
    "# Show the top most important\n",
    "feature_results = feature_results.sort_values('importance',ascending = False).reset_index(drop=True)\n",
    "\n",
    "feature_results.plot(x='feature', y='importance',  kind = 'barh', title='Важность признаков' )\n",
    "\n",
    "feature_results"
   ]
  },
  {
   "cell_type": "markdown",
   "metadata": {},
   "source": [
    "Анализ показал, что наиболее важными признаками влияющими на отток клиентов из банка являются возраст, количество используемых продуктов и остаток на счету."
   ]
  },
  {
   "cell_type": "code",
   "execution_count": null,
   "metadata": {},
   "outputs": [],
   "source": []
  }
 ],
 "metadata": {
  "ExecuteTimeLog": [
   {
    "duration": 574,
    "start_time": "2021-09-02T22:34:09.231Z"
   },
   {
    "duration": 33,
    "start_time": "2021-09-02T22:34:27.885Z"
   },
   {
    "duration": 1334,
    "start_time": "2021-09-03T16:22:40.433Z"
   },
   {
    "duration": 45,
    "start_time": "2021-09-03T16:22:41.769Z"
   },
   {
    "duration": 59,
    "start_time": "2021-09-03T16:31:54.181Z"
   },
   {
    "duration": 12,
    "start_time": "2021-09-03T16:31:57.547Z"
   },
   {
    "duration": 11,
    "start_time": "2021-09-03T16:39:37.905Z"
   },
   {
    "duration": 5,
    "start_time": "2021-09-03T16:40:29.393Z"
   },
   {
    "duration": 401,
    "start_time": "2021-09-03T17:30:17.347Z"
   },
   {
    "duration": 113,
    "start_time": "2021-09-03T17:30:33.033Z"
   },
   {
    "duration": 283,
    "start_time": "2021-09-03T17:30:37.418Z"
   },
   {
    "duration": 6,
    "start_time": "2021-09-03T17:31:42.138Z"
   },
   {
    "duration": 34,
    "start_time": "2021-09-03T17:35:39.649Z"
   },
   {
    "duration": 293,
    "start_time": "2021-09-03T17:37:18.952Z"
   },
   {
    "duration": 507,
    "start_time": "2021-09-03T17:37:33.103Z"
   },
   {
    "duration": 270,
    "start_time": "2021-09-03T17:37:47.696Z"
   },
   {
    "duration": 268,
    "start_time": "2021-09-03T17:37:56.480Z"
   },
   {
    "duration": 268,
    "start_time": "2021-09-03T17:38:01.840Z"
   },
   {
    "duration": 284,
    "start_time": "2021-09-03T17:38:09.167Z"
   },
   {
    "duration": 242,
    "start_time": "2021-09-03T17:38:39.385Z"
   },
   {
    "duration": 13,
    "start_time": "2021-09-03T17:41:35.190Z"
   },
   {
    "duration": 388,
    "start_time": "2021-09-03T17:48:30.837Z"
   },
   {
    "duration": 295,
    "start_time": "2021-09-03T17:49:25.612Z"
   },
   {
    "duration": 561,
    "start_time": "2021-09-03T17:49:41.371Z"
   },
   {
    "duration": 843,
    "start_time": "2021-09-03T17:49:51.637Z"
   },
   {
    "duration": 1177,
    "start_time": "2021-09-03T17:50:21.291Z"
   },
   {
    "duration": 966,
    "start_time": "2021-09-03T17:50:29.099Z"
   },
   {
    "duration": 512,
    "start_time": "2021-09-03T17:52:46.283Z"
   },
   {
    "duration": 530,
    "start_time": "2021-09-03T17:53:52.483Z"
   },
   {
    "duration": 499,
    "start_time": "2021-09-03T17:58:36.250Z"
   },
   {
    "duration": 52,
    "start_time": "2021-09-03T18:06:26.481Z"
   },
   {
    "duration": 13,
    "start_time": "2021-09-03T18:06:30.439Z"
   },
   {
    "duration": 12,
    "start_time": "2021-09-03T18:06:34.527Z"
   },
   {
    "duration": 289,
    "start_time": "2021-09-03T18:06:39.256Z"
   },
   {
    "duration": 512,
    "start_time": "2021-09-03T18:06:42.919Z"
   },
   {
    "duration": 526,
    "start_time": "2021-09-03T18:06:50.921Z"
   },
   {
    "duration": 646,
    "start_time": "2021-09-03T18:06:52.680Z"
   },
   {
    "duration": 32,
    "start_time": "2021-09-03T18:06:59.087Z"
   },
   {
    "duration": 11,
    "start_time": "2021-09-03T18:07:58.854Z"
   },
   {
    "duration": 12,
    "start_time": "2021-09-03T18:08:10.811Z"
   },
   {
    "duration": 35,
    "start_time": "2021-09-03T18:14:45.300Z"
   },
   {
    "duration": 257,
    "start_time": "2021-09-03T18:22:08.733Z"
   },
   {
    "duration": 33,
    "start_time": "2021-09-03T18:22:22.522Z"
   },
   {
    "duration": 29,
    "start_time": "2021-09-03T18:29:56.538Z"
   },
   {
    "duration": 47,
    "start_time": "2021-09-03T18:33:09.801Z"
   },
   {
    "duration": 56,
    "start_time": "2021-09-03T18:33:38.321Z"
   },
   {
    "duration": 18,
    "start_time": "2021-09-03T20:49:44.492Z"
   },
   {
    "duration": 307,
    "start_time": "2021-09-03T20:52:48.781Z"
   },
   {
    "duration": 317,
    "start_time": "2021-09-03T20:54:23.605Z"
   },
   {
    "duration": 1417,
    "start_time": "2021-09-03T20:55:46.736Z"
   },
   {
    "duration": 56,
    "start_time": "2021-09-03T20:55:48.156Z"
   },
   {
    "duration": 14,
    "start_time": "2021-09-03T20:55:48.217Z"
   },
   {
    "duration": 37,
    "start_time": "2021-09-03T20:55:48.235Z"
   },
   {
    "duration": 313,
    "start_time": "2021-09-03T20:55:48.275Z"
   },
   {
    "duration": 532,
    "start_time": "2021-09-03T20:55:48.592Z"
   },
   {
    "duration": 549,
    "start_time": "2021-09-03T20:55:49.126Z"
   },
   {
    "duration": 574,
    "start_time": "2021-09-03T20:55:49.679Z"
   },
   {
    "duration": 37,
    "start_time": "2021-09-03T20:55:50.255Z"
   },
   {
    "duration": 9,
    "start_time": "2021-09-03T20:55:50.295Z"
   },
   {
    "duration": 14,
    "start_time": "2021-09-03T20:55:50.307Z"
   },
   {
    "duration": 58,
    "start_time": "2021-09-03T20:55:50.323Z"
   },
   {
    "duration": 16,
    "start_time": "2021-09-03T20:55:50.383Z"
   },
   {
    "duration": 22,
    "start_time": "2021-09-03T20:55:50.402Z"
   },
   {
    "duration": 428,
    "start_time": "2021-09-03T20:55:50.427Z"
   },
   {
    "duration": -903,
    "start_time": "2021-09-03T20:55:51.760Z"
   },
   {
    "duration": 42,
    "start_time": "2021-09-03T21:05:11.693Z"
   },
   {
    "duration": 31,
    "start_time": "2021-09-03T21:09:32.649Z"
   },
   {
    "duration": 42,
    "start_time": "2021-09-03T21:10:32.491Z"
   },
   {
    "duration": 28,
    "start_time": "2021-09-03T21:10:33.215Z"
   },
   {
    "duration": 24,
    "start_time": "2021-09-03T21:12:41.433Z"
   },
   {
    "duration": 25,
    "start_time": "2021-09-03T21:12:45.345Z"
   },
   {
    "duration": 25,
    "start_time": "2021-09-03T21:12:52.168Z"
   },
   {
    "duration": 42,
    "start_time": "2021-09-03T21:13:34.338Z"
   },
   {
    "duration": 277,
    "start_time": "2021-09-03T21:16:54.389Z"
   },
   {
    "duration": 1361,
    "start_time": "2021-09-03T21:17:00.800Z"
   },
   {
    "duration": 55,
    "start_time": "2021-09-03T21:17:02.163Z"
   },
   {
    "duration": 12,
    "start_time": "2021-09-03T21:17:02.222Z"
   },
   {
    "duration": 26,
    "start_time": "2021-09-03T21:17:02.237Z"
   },
   {
    "duration": 298,
    "start_time": "2021-09-03T21:17:02.265Z"
   },
   {
    "duration": 524,
    "start_time": "2021-09-03T21:17:02.565Z"
   },
   {
    "duration": 561,
    "start_time": "2021-09-03T21:17:03.091Z"
   },
   {
    "duration": 503,
    "start_time": "2021-09-03T21:17:03.663Z"
   },
   {
    "duration": 38,
    "start_time": "2021-09-03T21:17:04.169Z"
   },
   {
    "duration": 10,
    "start_time": "2021-09-03T21:17:04.210Z"
   },
   {
    "duration": 44,
    "start_time": "2021-09-03T21:17:04.222Z"
   },
   {
    "duration": 28,
    "start_time": "2021-09-03T21:17:04.268Z"
   },
   {
    "duration": 7,
    "start_time": "2021-09-03T21:17:04.299Z"
   },
   {
    "duration": 75,
    "start_time": "2021-09-03T21:17:04.308Z"
   },
   {
    "duration": 17,
    "start_time": "2021-09-03T21:17:04.386Z"
   },
   {
    "duration": 71,
    "start_time": "2021-09-03T21:17:04.406Z"
   },
   {
    "duration": 330,
    "start_time": "2021-09-03T21:17:04.479Z"
   },
   {
    "duration": 233,
    "start_time": "2021-09-03T21:20:33.995Z"
   },
   {
    "duration": 218,
    "start_time": "2021-09-03T21:21:18.057Z"
   },
   {
    "duration": 38,
    "start_time": "2021-09-03T21:21:26.305Z"
   },
   {
    "duration": 248,
    "start_time": "2021-09-03T21:21:32.651Z"
   },
   {
    "duration": 5,
    "start_time": "2021-09-03T21:22:10.057Z"
   },
   {
    "duration": 68,
    "start_time": "2021-09-03T21:22:21.833Z"
   },
   {
    "duration": 317,
    "start_time": "2021-09-05T09:58:05.959Z"
   },
   {
    "duration": 1383,
    "start_time": "2021-09-05T09:58:14.326Z"
   },
   {
    "duration": 55,
    "start_time": "2021-09-05T09:58:15.715Z"
   },
   {
    "duration": 17,
    "start_time": "2021-09-05T09:58:15.773Z"
   },
   {
    "duration": 11,
    "start_time": "2021-09-05T09:58:15.793Z"
   },
   {
    "duration": 311,
    "start_time": "2021-09-05T09:58:15.806Z"
   },
   {
    "duration": 520,
    "start_time": "2021-09-05T09:58:16.120Z"
   },
   {
    "duration": 571,
    "start_time": "2021-09-05T09:58:16.642Z"
   },
   {
    "duration": 569,
    "start_time": "2021-09-05T09:58:17.217Z"
   },
   {
    "duration": 35,
    "start_time": "2021-09-05T09:58:17.789Z"
   },
   {
    "duration": 10,
    "start_time": "2021-09-05T09:58:17.826Z"
   },
   {
    "duration": 43,
    "start_time": "2021-09-05T09:58:17.839Z"
   },
   {
    "duration": 112,
    "start_time": "2021-09-05T09:58:17.885Z"
   },
   {
    "duration": 7,
    "start_time": "2021-09-05T09:58:17.999Z"
   },
   {
    "duration": 47,
    "start_time": "2021-09-05T09:58:18.009Z"
   },
   {
    "duration": 37,
    "start_time": "2021-09-05T09:58:18.059Z"
   },
   {
    "duration": 45,
    "start_time": "2021-09-05T09:58:18.099Z"
   },
   {
    "duration": 89,
    "start_time": "2021-09-05T09:58:18.147Z"
   },
   {
    "duration": 420,
    "start_time": "2021-09-05T09:58:18.239Z"
   },
   {
    "duration": -1412,
    "start_time": "2021-09-05T09:58:20.073Z"
   },
   {
    "duration": 15,
    "start_time": "2021-09-05T09:59:16.078Z"
   },
   {
    "duration": 64,
    "start_time": "2021-09-05T10:35:55.134Z"
   },
   {
    "duration": 66,
    "start_time": "2021-09-05T10:36:00.125Z"
   },
   {
    "duration": 4,
    "start_time": "2021-09-05T10:41:30.020Z"
   },
   {
    "duration": 73,
    "start_time": "2021-09-05T10:42:18.163Z"
   },
   {
    "duration": 345,
    "start_time": "2021-09-05T10:43:08.099Z"
   },
   {
    "duration": 285,
    "start_time": "2021-09-05T10:56:34.620Z"
   },
   {
    "duration": 17,
    "start_time": "2021-09-05T10:57:15.266Z"
   },
   {
    "duration": 236,
    "start_time": "2021-09-05T10:57:36.480Z"
   },
   {
    "duration": 5,
    "start_time": "2021-09-05T10:58:13.120Z"
   },
   {
    "duration": 61107,
    "start_time": "2021-09-05T10:58:20.919Z"
   },
   {
    "duration": 60872,
    "start_time": "2021-09-05T11:00:18.479Z"
   },
   {
    "duration": 57,
    "start_time": "2021-09-05T11:24:39.450Z"
   },
   {
    "duration": 106,
    "start_time": "2021-09-05T11:25:34.631Z"
   },
   {
    "duration": 42,
    "start_time": "2021-09-05T11:26:05.042Z"
   },
   {
    "duration": 99,
    "start_time": "2021-09-05T11:27:16.790Z"
   },
   {
    "duration": 59,
    "start_time": "2021-09-05T11:33:33.524Z"
   },
   {
    "duration": 92,
    "start_time": "2021-09-05T11:34:21.387Z"
   },
   {
    "duration": 6,
    "start_time": "2021-09-05T12:19:20.491Z"
   },
   {
    "duration": 35,
    "start_time": "2021-09-05T12:23:22.278Z"
   },
   {
    "duration": 274,
    "start_time": "2021-09-05T12:24:10.628Z"
   },
   {
    "duration": 250,
    "start_time": "2021-09-05T12:24:28.014Z"
   },
   {
    "duration": 209,
    "start_time": "2021-09-05T12:24:45.259Z"
   },
   {
    "duration": 269,
    "start_time": "2021-09-05T19:11:04.552Z"
   },
   {
    "duration": 1196,
    "start_time": "2021-09-05T19:11:27.405Z"
   },
   {
    "duration": 40,
    "start_time": "2021-09-05T19:11:28.603Z"
   },
   {
    "duration": 7,
    "start_time": "2021-09-05T19:11:28.645Z"
   },
   {
    "duration": 8,
    "start_time": "2021-09-05T19:11:28.654Z"
   },
   {
    "duration": 182,
    "start_time": "2021-09-05T19:11:28.664Z"
   },
   {
    "duration": 394,
    "start_time": "2021-09-05T19:11:28.848Z"
   },
   {
    "duration": 317,
    "start_time": "2021-09-05T19:11:29.243Z"
   },
   {
    "duration": 395,
    "start_time": "2021-09-05T19:11:29.563Z"
   },
   {
    "duration": 22,
    "start_time": "2021-09-05T19:11:29.960Z"
   },
   {
    "duration": 11,
    "start_time": "2021-09-05T19:11:29.983Z"
   },
   {
    "duration": 7,
    "start_time": "2021-09-05T19:11:29.996Z"
   },
   {
    "duration": 96,
    "start_time": "2021-09-05T19:11:30.005Z"
   },
   {
    "duration": 4,
    "start_time": "2021-09-05T19:11:30.103Z"
   },
   {
    "duration": 42,
    "start_time": "2021-09-05T19:11:30.109Z"
   },
   {
    "duration": 16,
    "start_time": "2021-09-05T19:11:30.153Z"
   },
   {
    "duration": 53,
    "start_time": "2021-09-05T19:11:30.171Z"
   },
   {
    "duration": 203,
    "start_time": "2021-09-05T19:11:30.226Z"
   },
   {
    "duration": 260,
    "start_time": "2021-09-05T19:11:30.431Z"
   },
   {
    "duration": 101,
    "start_time": "2021-09-05T19:11:30.693Z"
   },
   {
    "duration": 157,
    "start_time": "2021-09-05T19:11:30.796Z"
   },
   {
    "duration": 4,
    "start_time": "2021-09-05T19:11:30.955Z"
   },
   {
    "duration": 7,
    "start_time": "2021-09-05T19:11:30.960Z"
   },
   {
    "duration": 38732,
    "start_time": "2021-09-05T19:11:30.970Z"
   },
   {
    "duration": 578,
    "start_time": "2021-09-05T19:12:09.703Z"
   },
   {
    "duration": -1461,
    "start_time": "2021-09-05T19:12:11.744Z"
   },
   {
    "duration": 50849,
    "start_time": "2021-09-05T19:18:24.982Z"
   },
   {
    "duration": 40405,
    "start_time": "2021-09-05T19:20:14.157Z"
   },
   {
    "duration": 10,
    "start_time": "2021-09-05T19:21:18.500Z"
   },
   {
    "duration": 43491,
    "start_time": "2021-09-05T19:22:39.108Z"
   },
   {
    "duration": 9,
    "start_time": "2021-09-05T19:23:30.097Z"
   },
   {
    "duration": 10,
    "start_time": "2021-09-05T19:23:35.667Z"
   },
   {
    "duration": 247,
    "start_time": "2021-09-05T19:24:32.450Z"
   },
   {
    "duration": 10,
    "start_time": "2021-09-05T19:28:04.244Z"
   },
   {
    "duration": 9,
    "start_time": "2021-09-05T19:33:16.529Z"
   },
   {
    "duration": 239,
    "start_time": "2021-09-05T19:34:26.145Z"
   },
   {
    "duration": 127,
    "start_time": "2021-09-05T19:36:53.626Z"
   },
   {
    "duration": 130,
    "start_time": "2021-09-05T19:37:13.712Z"
   },
   {
    "duration": 29,
    "start_time": "2021-09-05T19:38:10.040Z"
   },
   {
    "duration": 132,
    "start_time": "2021-09-05T19:38:20.479Z"
   },
   {
    "duration": 27,
    "start_time": "2021-09-05T19:38:35.065Z"
   },
   {
    "duration": 9,
    "start_time": "2021-09-05T19:38:47.472Z"
   },
   {
    "duration": 11,
    "start_time": "2021-09-05T19:39:38.015Z"
   },
   {
    "duration": 11,
    "start_time": "2021-09-05T19:39:46.975Z"
   },
   {
    "duration": 29,
    "start_time": "2021-09-05T19:40:04.501Z"
   },
   {
    "duration": 12,
    "start_time": "2021-09-05T19:40:05.960Z"
   },
   {
    "duration": 12,
    "start_time": "2021-09-05T19:41:59.175Z"
   },
   {
    "duration": 31,
    "start_time": "2021-09-05T19:41:59.902Z"
   },
   {
    "duration": 11,
    "start_time": "2021-09-05T19:42:00.951Z"
   },
   {
    "duration": 11,
    "start_time": "2021-09-05T19:42:11.748Z"
   },
   {
    "duration": 10,
    "start_time": "2021-09-05T19:43:42.614Z"
   },
   {
    "duration": 15,
    "start_time": "2021-09-05T19:44:27.174Z"
   },
   {
    "duration": 12,
    "start_time": "2021-09-05T19:44:52.894Z"
   },
   {
    "duration": 40958,
    "start_time": "2021-09-05T19:47:54.156Z"
   },
   {
    "duration": 10,
    "start_time": "2021-09-05T19:52:17.132Z"
   },
   {
    "duration": 3,
    "start_time": "2021-09-05T19:54:25.979Z"
   },
   {
    "duration": 8,
    "start_time": "2021-09-05T19:56:51.699Z"
   },
   {
    "duration": 260,
    "start_time": "2021-09-05T20:00:08.074Z"
   },
   {
    "duration": 3059,
    "start_time": "2021-09-05T20:00:47.164Z"
   },
   {
    "duration": 4,
    "start_time": "2021-09-05T20:01:13.329Z"
   },
   {
    "duration": 3030,
    "start_time": "2021-09-05T20:01:28.800Z"
   },
   {
    "duration": 4246,
    "start_time": "2021-09-05T20:02:05.469Z"
   },
   {
    "duration": 2950,
    "start_time": "2021-09-05T20:02:20.952Z"
   },
   {
    "duration": 3930,
    "start_time": "2021-09-05T20:02:41.817Z"
   },
   {
    "duration": 13,
    "start_time": "2021-09-05T20:04:51.113Z"
   },
   {
    "duration": 10,
    "start_time": "2021-09-05T20:05:30.064Z"
   },
   {
    "duration": 7,
    "start_time": "2021-09-05T20:05:48.736Z"
   },
   {
    "duration": 41471,
    "start_time": "2021-09-05T20:14:54.498Z"
   },
   {
    "duration": 21,
    "start_time": "2021-09-05T20:15:35.971Z"
   },
   {
    "duration": 80,
    "start_time": "2021-09-05T20:19:18.556Z"
   },
   {
    "duration": 4,
    "start_time": "2021-09-05T20:19:34.870Z"
   },
   {
    "duration": 3,
    "start_time": "2021-09-05T20:19:50.228Z"
   },
   {
    "duration": 243,
    "start_time": "2021-09-05T20:19:59.702Z"
   },
   {
    "duration": 253,
    "start_time": "2021-09-05T20:20:09.059Z"
   },
   {
    "duration": 236,
    "start_time": "2021-09-05T20:20:30.179Z"
   },
   {
    "duration": 242,
    "start_time": "2021-09-05T20:20:37.131Z"
   },
   {
    "duration": 3,
    "start_time": "2021-09-05T20:22:39.827Z"
   },
   {
    "duration": 13,
    "start_time": "2021-09-05T20:25:08.899Z"
   },
   {
    "duration": 15,
    "start_time": "2021-09-05T20:26:54.989Z"
   },
   {
    "duration": 7,
    "start_time": "2021-09-05T20:27:15.264Z"
   },
   {
    "duration": 3649,
    "start_time": "2021-09-05T20:43:37.343Z"
   },
   {
    "duration": 17,
    "start_time": "2021-09-05T20:45:03.644Z"
   },
   {
    "duration": 3390,
    "start_time": "2021-09-05T20:45:58.803Z"
   },
   {
    "duration": 98,
    "start_time": "2021-09-05T20:46:02.195Z"
   },
   {
    "duration": 1632,
    "start_time": "2021-09-06T08:14:09.053Z"
   },
   {
    "duration": 65,
    "start_time": "2021-09-06T08:14:10.687Z"
   },
   {
    "duration": 12,
    "start_time": "2021-09-06T08:14:10.755Z"
   },
   {
    "duration": 29,
    "start_time": "2021-09-06T08:14:10.770Z"
   },
   {
    "duration": 302,
    "start_time": "2021-09-06T08:14:10.801Z"
   },
   {
    "duration": 540,
    "start_time": "2021-09-06T08:14:11.105Z"
   },
   {
    "duration": 555,
    "start_time": "2021-09-06T08:14:11.647Z"
   },
   {
    "duration": 568,
    "start_time": "2021-09-06T08:14:12.206Z"
   },
   {
    "duration": 33,
    "start_time": "2021-09-06T08:14:12.777Z"
   },
   {
    "duration": 18,
    "start_time": "2021-09-06T08:14:12.813Z"
   },
   {
    "duration": 34,
    "start_time": "2021-09-06T08:14:12.834Z"
   },
   {
    "duration": 125,
    "start_time": "2021-09-06T08:14:12.870Z"
   },
   {
    "duration": 16,
    "start_time": "2021-09-06T08:14:12.997Z"
   },
   {
    "duration": 53,
    "start_time": "2021-09-06T08:14:13.016Z"
   },
   {
    "duration": 18,
    "start_time": "2021-09-06T08:14:13.071Z"
   },
   {
    "duration": 69,
    "start_time": "2021-09-06T08:14:13.092Z"
   },
   {
    "duration": 17,
    "start_time": "2021-09-06T08:14:13.164Z"
   },
   {
    "duration": 247,
    "start_time": "2021-09-06T08:14:13.183Z"
   },
   {
    "duration": 3935,
    "start_time": "2021-09-06T08:14:13.433Z"
   },
   {
    "duration": 10,
    "start_time": "2021-09-06T08:14:17.370Z"
   },
   {
    "duration": 68559,
    "start_time": "2021-09-06T08:14:17.382Z"
   },
   {
    "duration": 21,
    "start_time": "2021-09-06T08:15:25.944Z"
   },
   {
    "duration": 4784,
    "start_time": "2021-09-06T08:15:25.972Z"
   },
   {
    "duration": 107,
    "start_time": "2021-09-06T08:15:30.760Z"
   },
   {
    "duration": 2786,
    "start_time": "2021-09-06T08:15:30.955Z"
   },
   {
    "duration": -1546,
    "start_time": "2021-09-06T08:15:35.290Z"
   },
   {
    "duration": 7,
    "start_time": "2021-09-06T09:10:36.753Z"
   },
   {
    "duration": 4668,
    "start_time": "2021-09-06T09:30:22.924Z"
   },
   {
    "duration": 9,
    "start_time": "2021-09-06T09:33:38.128Z"
   },
   {
    "duration": 4438,
    "start_time": "2021-09-06T09:35:53.433Z"
   },
   {
    "duration": 9,
    "start_time": "2021-09-06T09:35:57.874Z"
   },
   {
    "duration": 1703,
    "start_time": "2021-09-06T09:38:33.219Z"
   },
   {
    "duration": 62,
    "start_time": "2021-09-06T09:38:34.924Z"
   },
   {
    "duration": 13,
    "start_time": "2021-09-06T09:38:34.989Z"
   },
   {
    "duration": 15,
    "start_time": "2021-09-06T09:38:35.005Z"
   },
   {
    "duration": 325,
    "start_time": "2021-09-06T09:38:35.023Z"
   },
   {
    "duration": 537,
    "start_time": "2021-09-06T09:38:35.354Z"
   },
   {
    "duration": 566,
    "start_time": "2021-09-06T09:38:35.894Z"
   },
   {
    "duration": 504,
    "start_time": "2021-09-06T09:38:36.462Z"
   },
   {
    "duration": 35,
    "start_time": "2021-09-06T09:38:36.970Z"
   },
   {
    "duration": 16,
    "start_time": "2021-09-06T09:38:37.008Z"
   },
   {
    "duration": 37,
    "start_time": "2021-09-06T09:38:37.026Z"
   },
   {
    "duration": 113,
    "start_time": "2021-09-06T09:38:37.065Z"
   },
   {
    "duration": 7,
    "start_time": "2021-09-06T09:38:37.180Z"
   },
   {
    "duration": 66,
    "start_time": "2021-09-06T09:38:37.189Z"
   },
   {
    "duration": 17,
    "start_time": "2021-09-06T09:38:37.258Z"
   },
   {
    "duration": 48,
    "start_time": "2021-09-06T09:38:37.278Z"
   },
   {
    "duration": 41,
    "start_time": "2021-09-06T09:38:37.328Z"
   },
   {
    "duration": 263,
    "start_time": "2021-09-06T09:38:37.372Z"
   },
   {
    "duration": 3963,
    "start_time": "2021-09-06T09:38:37.637Z"
   },
   {
    "duration": 10,
    "start_time": "2021-09-06T09:38:41.602Z"
   },
   {
    "duration": 68298,
    "start_time": "2021-09-06T09:38:41.614Z"
   },
   {
    "duration": 15,
    "start_time": "2021-09-06T09:39:49.915Z"
   },
   {
    "duration": 3721,
    "start_time": "2021-09-06T09:39:49.933Z"
   },
   {
    "duration": 103,
    "start_time": "2021-09-06T09:39:53.659Z"
   },
   {
    "duration": 4538,
    "start_time": "2021-09-06T09:39:53.765Z"
   },
   {
    "duration": 10,
    "start_time": "2021-09-06T09:39:58.305Z"
   },
   {
    "duration": 1543,
    "start_time": "2021-09-06T09:39:58.319Z"
   },
   {
    "duration": -47451,
    "start_time": "2021-09-06T09:40:47.316Z"
   },
   {
    "duration": 360,
    "start_time": "2021-09-06T18:35:26.476Z"
   },
   {
    "duration": 1528,
    "start_time": "2021-09-06T18:35:31.498Z"
   },
   {
    "duration": 53,
    "start_time": "2021-09-06T18:35:33.029Z"
   },
   {
    "duration": 11,
    "start_time": "2021-09-06T18:35:33.085Z"
   },
   {
    "duration": 11,
    "start_time": "2021-09-06T18:35:33.099Z"
   },
   {
    "duration": 331,
    "start_time": "2021-09-06T18:35:33.112Z"
   },
   {
    "duration": 554,
    "start_time": "2021-09-06T18:35:33.446Z"
   },
   {
    "duration": 563,
    "start_time": "2021-09-06T18:35:34.002Z"
   },
   {
    "duration": 572,
    "start_time": "2021-09-06T18:35:34.568Z"
   },
   {
    "duration": 47,
    "start_time": "2021-09-06T18:35:35.143Z"
   },
   {
    "duration": 16,
    "start_time": "2021-09-06T18:35:35.193Z"
   },
   {
    "duration": 12,
    "start_time": "2021-09-06T18:35:35.211Z"
   },
   {
    "duration": 140,
    "start_time": "2021-09-06T18:35:35.225Z"
   },
   {
    "duration": 6,
    "start_time": "2021-09-06T18:35:35.367Z"
   },
   {
    "duration": 50,
    "start_time": "2021-09-06T18:35:35.383Z"
   },
   {
    "duration": 17,
    "start_time": "2021-09-06T18:35:35.435Z"
   },
   {
    "duration": 55,
    "start_time": "2021-09-06T18:35:35.484Z"
   },
   {
    "duration": 42,
    "start_time": "2021-09-06T18:35:35.543Z"
   },
   {
    "duration": 287,
    "start_time": "2021-09-06T18:35:35.589Z"
   },
   {
    "duration": 4193,
    "start_time": "2021-09-06T18:35:35.882Z"
   },
   {
    "duration": 20,
    "start_time": "2021-09-06T18:35:40.077Z"
   },
   {
    "duration": 73767,
    "start_time": "2021-09-06T18:35:40.100Z"
   },
   {
    "duration": 22,
    "start_time": "2021-09-06T18:36:53.869Z"
   },
   {
    "duration": 3210,
    "start_time": "2021-09-06T18:36:53.897Z"
   },
   {
    "duration": 174,
    "start_time": "2021-09-06T18:36:57.110Z"
   },
   {
    "duration": 4837,
    "start_time": "2021-09-06T18:36:57.288Z"
   },
   {
    "duration": 9,
    "start_time": "2021-09-06T18:37:02.128Z"
   },
   {
    "duration": 682,
    "start_time": "2021-09-06T18:37:02.139Z"
   },
   {
    "duration": -1947,
    "start_time": "2021-09-06T18:37:04.771Z"
   },
   {
    "duration": 11,
    "start_time": "2021-09-06T18:37:41.596Z"
   },
   {
    "duration": 299,
    "start_time": "2021-09-06T19:08:24.569Z"
   },
   {
    "duration": 3,
    "start_time": "2021-09-06T19:08:32.620Z"
   },
   {
    "duration": 656,
    "start_time": "2021-09-06T19:08:36.040Z"
   },
   {
    "duration": 12,
    "start_time": "2021-09-06T19:10:43.956Z"
   },
   {
    "duration": 4,
    "start_time": "2021-09-06T19:15:50.370Z"
   },
   {
    "duration": 12,
    "start_time": "2021-09-06T19:15:53.627Z"
   },
   {
    "duration": 95,
    "start_time": "2021-09-06T19:19:32.306Z"
   },
   {
    "duration": 91,
    "start_time": "2021-09-06T19:20:36.996Z"
   },
   {
    "duration": 216,
    "start_time": "2021-09-06T19:21:59.464Z"
   },
   {
    "duration": 88,
    "start_time": "2021-09-06T19:22:20.352Z"
   },
   {
    "duration": 38,
    "start_time": "2021-09-06T19:22:30.648Z"
   },
   {
    "duration": 3,
    "start_time": "2021-09-06T19:48:56.278Z"
   },
   {
    "duration": 15,
    "start_time": "2021-09-06T19:49:35.588Z"
   },
   {
    "duration": 23,
    "start_time": "2021-09-06T19:50:03.899Z"
   },
   {
    "duration": 22,
    "start_time": "2021-09-06T19:59:27.723Z"
   },
   {
    "duration": 8,
    "start_time": "2021-09-06T20:04:55.063Z"
   },
   {
    "duration": 3,
    "start_time": "2021-09-06T20:07:34.928Z"
   },
   {
    "duration": 3987,
    "start_time": "2021-09-06T20:07:38.742Z"
   },
   {
    "duration": 11,
    "start_time": "2021-09-06T20:07:42.732Z"
   },
   {
    "duration": 3,
    "start_time": "2021-09-06T20:10:20.198Z"
   },
   {
    "duration": 8,
    "start_time": "2021-09-06T20:10:23.069Z"
   },
   {
    "duration": 12,
    "start_time": "2021-09-06T20:10:38.101Z"
   },
   {
    "duration": 72,
    "start_time": "2021-09-06T20:10:43.317Z"
   },
   {
    "duration": 262,
    "start_time": "2021-09-06T21:14:39.823Z"
   },
   {
    "duration": 119,
    "start_time": "2021-09-06T21:15:14.250Z"
   },
   {
    "duration": 8,
    "start_time": "2021-09-06T21:15:25.497Z"
   },
   {
    "duration": 62705,
    "start_time": "2021-09-06T21:22:46.766Z"
   },
   {
    "duration": 15,
    "start_time": "2021-09-06T21:24:35.886Z"
   },
   {
    "duration": 12,
    "start_time": "2021-09-06T21:25:13.947Z"
   },
   {
    "duration": 12,
    "start_time": "2021-09-06T21:25:20.926Z"
   },
   {
    "duration": 61106,
    "start_time": "2021-09-06T21:35:36.684Z"
   },
   {
    "duration": 61845,
    "start_time": "2021-09-06T21:38:06.562Z"
   },
   {
    "duration": 3917,
    "start_time": "2021-09-06T21:39:08.410Z"
   },
   {
    "duration": 14,
    "start_time": "2021-09-06T21:40:12.290Z"
   },
   {
    "duration": 5,
    "start_time": "2021-09-06T21:46:10.035Z"
   },
   {
    "duration": 17,
    "start_time": "2021-09-06T21:46:21.048Z"
   },
   {
    "duration": 213,
    "start_time": "2021-09-06T21:57:44.379Z"
   },
   {
    "duration": 289,
    "start_time": "2021-09-06T22:00:34.441Z"
   },
   {
    "duration": 68,
    "start_time": "2021-09-06T22:03:15.120Z"
   },
   {
    "duration": 6549,
    "start_time": "2021-09-06T22:09:49.944Z"
   },
   {
    "duration": 6724,
    "start_time": "2021-09-06T22:10:43.105Z"
   },
   {
    "duration": 9,
    "start_time": "2021-09-06T22:11:30.655Z"
   },
   {
    "duration": 6512,
    "start_time": "2021-09-06T22:12:43.117Z"
   },
   {
    "duration": 1296,
    "start_time": "2021-09-06T22:18:20.686Z"
   },
   {
    "duration": 53,
    "start_time": "2021-09-06T22:18:21.985Z"
   },
   {
    "duration": 11,
    "start_time": "2021-09-06T22:18:22.041Z"
   },
   {
    "duration": 28,
    "start_time": "2021-09-06T22:18:22.055Z"
   },
   {
    "duration": 274,
    "start_time": "2021-09-06T22:18:22.086Z"
   },
   {
    "duration": 485,
    "start_time": "2021-09-06T22:18:22.363Z"
   },
   {
    "duration": 493,
    "start_time": "2021-09-06T22:18:22.850Z"
   },
   {
    "duration": 513,
    "start_time": "2021-09-06T22:18:23.346Z"
   },
   {
    "duration": 44,
    "start_time": "2021-09-06T22:18:23.862Z"
   },
   {
    "duration": 9,
    "start_time": "2021-09-06T22:18:23.908Z"
   },
   {
    "duration": 14,
    "start_time": "2021-09-06T22:18:23.919Z"
   },
   {
    "duration": 114,
    "start_time": "2021-09-06T22:18:23.935Z"
   },
   {
    "duration": 6,
    "start_time": "2021-09-06T22:18:24.051Z"
   },
   {
    "duration": 57,
    "start_time": "2021-09-06T22:18:24.060Z"
   },
   {
    "duration": 16,
    "start_time": "2021-09-06T22:18:24.119Z"
   },
   {
    "duration": 70,
    "start_time": "2021-09-06T22:18:24.138Z"
   },
   {
    "duration": 15,
    "start_time": "2021-09-06T22:18:24.210Z"
   },
   {
    "duration": 223,
    "start_time": "2021-09-06T22:18:24.228Z"
   },
   {
    "duration": 4,
    "start_time": "2021-09-06T22:18:24.453Z"
   },
   {
    "duration": 3601,
    "start_time": "2021-09-06T22:18:24.459Z"
   },
   {
    "duration": 20,
    "start_time": "2021-09-06T22:18:28.062Z"
   },
   {
    "duration": 58619,
    "start_time": "2021-09-06T22:18:28.084Z"
   },
   {
    "duration": 11,
    "start_time": "2021-09-06T22:19:26.707Z"
   },
   {
    "duration": 4563,
    "start_time": "2021-09-06T22:19:26.721Z"
   },
   {
    "duration": 102,
    "start_time": "2021-09-06T22:19:31.288Z"
   },
   {
    "duration": 4060,
    "start_time": "2021-09-06T22:19:31.392Z"
   },
   {
    "duration": 9,
    "start_time": "2021-09-06T22:19:35.454Z"
   },
   {
    "duration": 60694,
    "start_time": "2021-09-06T22:19:35.465Z"
   },
   {
    "duration": 21,
    "start_time": "2021-09-06T22:20:36.161Z"
   },
   {
    "duration": 3940,
    "start_time": "2021-09-06T22:20:36.185Z"
   },
   {
    "duration": 56,
    "start_time": "2021-09-06T22:20:40.128Z"
   },
   {
    "duration": 106,
    "start_time": "2021-09-06T22:20:40.188Z"
   },
   {
    "duration": 87,
    "start_time": "2021-09-06T22:20:40.297Z"
   },
   {
    "duration": 6386,
    "start_time": "2021-09-06T22:20:40.388Z"
   },
   {
    "duration": 7,
    "start_time": "2021-09-06T22:20:46.782Z"
   },
   {
    "duration": 6238,
    "start_time": "2021-09-06T22:26:17.824Z"
   },
   {
    "duration": 8,
    "start_time": "2021-09-06T22:26:40.242Z"
   },
   {
    "duration": 6284,
    "start_time": "2021-09-06T22:27:45.146Z"
   },
   {
    "duration": 8,
    "start_time": "2021-09-06T22:27:54.713Z"
   },
   {
    "duration": 75,
    "start_time": "2021-09-06T22:29:27.355Z"
   },
   {
    "duration": 96783,
    "start_time": "2021-09-06T22:32:15.168Z"
   },
   {
    "duration": 12,
    "start_time": "2021-09-06T22:34:28.016Z"
   },
   {
    "duration": 6433,
    "start_time": "2021-09-06T22:37:08.032Z"
   },
   {
    "duration": 14,
    "start_time": "2021-09-06T22:37:14.468Z"
   },
   {
    "duration": 379,
    "start_time": "2021-09-06T22:39:53.519Z"
   },
   {
    "duration": 5927,
    "start_time": "2021-09-06T22:39:57.462Z"
   },
   {
    "duration": 11,
    "start_time": "2021-09-06T22:40:09.303Z"
   },
   {
    "duration": 6070,
    "start_time": "2021-09-06T22:54:56.714Z"
   },
   {
    "duration": 6249,
    "start_time": "2021-09-06T22:55:08.434Z"
   },
   {
    "duration": 10,
    "start_time": "2021-09-06T22:55:44.227Z"
   },
   {
    "duration": 97327,
    "start_time": "2021-09-06T22:57:00.360Z"
   },
   {
    "duration": 14,
    "start_time": "2021-09-06T22:58:48.463Z"
   },
   {
    "duration": 7,
    "start_time": "2021-09-06T23:01:04.432Z"
   },
   {
    "duration": 7,
    "start_time": "2021-09-06T23:02:23.472Z"
   },
   {
    "duration": 6,
    "start_time": "2021-09-06T23:06:55.966Z"
   },
   {
    "duration": 6,
    "start_time": "2021-09-06T23:07:39.230Z"
   },
   {
    "duration": 6,
    "start_time": "2021-09-06T23:08:08.455Z"
   },
   {
    "duration": 261,
    "start_time": "2021-09-06T23:09:07.760Z"
   },
   {
    "duration": 6,
    "start_time": "2021-09-06T23:09:28.990Z"
   },
   {
    "duration": 6,
    "start_time": "2021-09-06T23:10:17.852Z"
   },
   {
    "duration": 5,
    "start_time": "2021-09-06T23:10:43.926Z"
   },
   {
    "duration": 6276,
    "start_time": "2021-09-06T23:11:38.818Z"
   },
   {
    "duration": 6,
    "start_time": "2021-09-06T23:11:48.405Z"
   },
   {
    "duration": 5,
    "start_time": "2021-09-06T23:11:49.364Z"
   },
   {
    "duration": 6,
    "start_time": "2021-09-06T23:11:50.024Z"
   },
   {
    "duration": 5,
    "start_time": "2021-09-06T23:12:31.821Z"
   },
   {
    "duration": 80,
    "start_time": "2021-09-06T23:33:38.578Z"
   },
   {
    "duration": 6284,
    "start_time": "2021-09-06T23:33:42.834Z"
   },
   {
    "duration": 3594,
    "start_time": "2021-09-06T23:34:28.680Z"
   },
   {
    "duration": 6334,
    "start_time": "2021-09-06T23:36:27.150Z"
   },
   {
    "duration": 3585,
    "start_time": "2021-09-06T23:36:54.989Z"
   },
   {
    "duration": 6255,
    "start_time": "2021-09-06T23:40:12.541Z"
   },
   {
    "duration": 24,
    "start_time": "2021-09-06T23:41:59.991Z"
   },
   {
    "duration": 6,
    "start_time": "2021-09-06T23:43:19.660Z"
   },
   {
    "duration": 224,
    "start_time": "2021-09-06T23:44:19.932Z"
   },
   {
    "duration": 20,
    "start_time": "2021-09-06T23:45:09.429Z"
   },
   {
    "duration": 6,
    "start_time": "2021-09-06T23:45:11.805Z"
   },
   {
    "duration": 192,
    "start_time": "2021-09-06T23:45:12.094Z"
   },
   {
    "duration": 5389,
    "start_time": "2021-09-06T23:45:21.027Z"
   },
   {
    "duration": 8,
    "start_time": "2021-09-06T23:45:31.220Z"
   },
   {
    "duration": 20,
    "start_time": "2021-09-06T23:46:04.434Z"
   },
   {
    "duration": 5,
    "start_time": "2021-09-06T23:46:05.772Z"
   },
   {
    "duration": 191,
    "start_time": "2021-09-06T23:46:06.547Z"
   },
   {
    "duration": 20,
    "start_time": "2021-09-06T23:46:13.941Z"
   },
   {
    "duration": 5,
    "start_time": "2021-09-06T23:46:14.667Z"
   },
   {
    "duration": 184,
    "start_time": "2021-09-06T23:46:15.243Z"
   },
   {
    "duration": 6,
    "start_time": "2021-09-06T23:46:25.347Z"
   },
   {
    "duration": 199,
    "start_time": "2021-09-06T23:46:26.291Z"
   },
   {
    "duration": 4902,
    "start_time": "2021-09-06T23:46:27.939Z"
   },
   {
    "duration": 8,
    "start_time": "2021-09-06T23:46:32.843Z"
   },
   {
    "duration": 198,
    "start_time": "2021-09-06T23:47:37.290Z"
   },
   {
    "duration": 75816,
    "start_time": "2021-09-06T23:48:33.624Z"
   },
   {
    "duration": 11,
    "start_time": "2021-09-06T23:49:49.442Z"
   },
   {
    "duration": 4264,
    "start_time": "2021-09-06T23:50:21.831Z"
   },
   {
    "duration": 11,
    "start_time": "2021-09-06T23:50:26.098Z"
   },
   {
    "duration": 1234,
    "start_time": "2021-09-06T23:51:48.236Z"
   },
   {
    "duration": 50,
    "start_time": "2021-09-06T23:51:49.472Z"
   },
   {
    "duration": 11,
    "start_time": "2021-09-06T23:51:49.525Z"
   },
   {
    "duration": 10,
    "start_time": "2021-09-06T23:51:49.539Z"
   },
   {
    "duration": 293,
    "start_time": "2021-09-06T23:51:49.552Z"
   },
   {
    "duration": 491,
    "start_time": "2021-09-06T23:51:49.847Z"
   },
   {
    "duration": 513,
    "start_time": "2021-09-06T23:51:50.340Z"
   },
   {
    "duration": 500,
    "start_time": "2021-09-06T23:51:50.857Z"
   },
   {
    "duration": 41,
    "start_time": "2021-09-06T23:51:51.359Z"
   },
   {
    "duration": 9,
    "start_time": "2021-09-06T23:51:51.402Z"
   },
   {
    "duration": 10,
    "start_time": "2021-09-06T23:51:51.413Z"
   },
   {
    "duration": 115,
    "start_time": "2021-09-06T23:51:51.426Z"
   },
   {
    "duration": 6,
    "start_time": "2021-09-06T23:51:51.544Z"
   },
   {
    "duration": 56,
    "start_time": "2021-09-06T23:51:51.552Z"
   },
   {
    "duration": 17,
    "start_time": "2021-09-06T23:51:51.610Z"
   },
   {
    "duration": 62,
    "start_time": "2021-09-06T23:51:51.629Z"
   },
   {
    "duration": 14,
    "start_time": "2021-09-06T23:51:51.694Z"
   },
   {
    "duration": 221,
    "start_time": "2021-09-06T23:51:51.710Z"
   },
   {
    "duration": 3,
    "start_time": "2021-09-06T23:51:51.934Z"
   },
   {
    "duration": 3533,
    "start_time": "2021-09-06T23:51:51.940Z"
   },
   {
    "duration": 8,
    "start_time": "2021-09-06T23:51:55.482Z"
   },
   {
    "duration": 58446,
    "start_time": "2021-09-06T23:51:55.493Z"
   },
   {
    "duration": 10,
    "start_time": "2021-09-06T23:52:53.944Z"
   },
   {
    "duration": 4330,
    "start_time": "2021-09-06T23:52:53.957Z"
   },
   {
    "duration": 192,
    "start_time": "2021-09-06T23:52:58.291Z"
   },
   {
    "duration": 3987,
    "start_time": "2021-09-06T23:52:58.486Z"
   },
   {
    "duration": 8,
    "start_time": "2021-09-06T23:53:02.482Z"
   },
   {
    "duration": 60810,
    "start_time": "2021-09-06T23:53:02.493Z"
   },
   {
    "duration": 13,
    "start_time": "2021-09-06T23:54:03.306Z"
   },
   {
    "duration": 4003,
    "start_time": "2021-09-06T23:54:03.322Z"
   },
   {
    "duration": 61,
    "start_time": "2021-09-06T23:54:07.327Z"
   },
   {
    "duration": 109,
    "start_time": "2021-09-06T23:54:07.391Z"
   },
   {
    "duration": 20,
    "start_time": "2021-09-06T23:54:07.502Z"
   },
   {
    "duration": 283,
    "start_time": "2021-09-06T23:54:07.524Z"
   },
   {
    "duration": 4955,
    "start_time": "2021-09-06T23:54:07.810Z"
   },
   {
    "duration": 18,
    "start_time": "2021-09-06T23:54:12.767Z"
   },
   {
    "duration": 75904,
    "start_time": "2021-09-06T23:54:12.788Z"
   },
   {
    "duration": 11,
    "start_time": "2021-09-06T23:55:28.694Z"
   },
   {
    "duration": 4090,
    "start_time": "2021-09-06T23:55:28.707Z"
   },
   {
    "duration": 83,
    "start_time": "2021-09-06T23:55:32.799Z"
   },
   {
    "duration": 7,
    "start_time": "2021-09-06T23:59:32.991Z"
   },
   {
    "duration": 290,
    "start_time": "2021-09-07T15:11:43.230Z"
   },
   {
    "duration": 1344,
    "start_time": "2021-09-07T15:11:54.248Z"
   },
   {
    "duration": 51,
    "start_time": "2021-09-07T15:11:55.595Z"
   },
   {
    "duration": 12,
    "start_time": "2021-09-07T15:11:55.993Z"
   },
   {
    "duration": 11,
    "start_time": "2021-09-07T15:11:59.152Z"
   },
   {
    "duration": 280,
    "start_time": "2021-09-07T15:11:59.793Z"
   },
   {
    "duration": 483,
    "start_time": "2021-09-07T15:12:02.825Z"
   },
   {
    "duration": 499,
    "start_time": "2021-09-07T15:12:09.217Z"
   },
   {
    "duration": 1466,
    "start_time": "2021-09-07T15:49:59.779Z"
   },
   {
    "duration": 53,
    "start_time": "2021-09-07T15:50:01.248Z"
   },
   {
    "duration": 12,
    "start_time": "2021-09-07T15:50:01.304Z"
   },
   {
    "duration": 16,
    "start_time": "2021-09-07T15:50:01.319Z"
   },
   {
    "duration": 8,
    "start_time": "2021-09-07T15:50:01.338Z"
   },
   {
    "duration": 61,
    "start_time": "2021-09-07T15:50:01.348Z"
   },
   {
    "duration": 19,
    "start_time": "2021-09-07T15:50:01.412Z"
   },
   {
    "duration": 77,
    "start_time": "2021-09-07T15:50:01.436Z"
   },
   {
    "duration": 271,
    "start_time": "2021-09-07T15:50:01.517Z"
   },
   {
    "duration": 5,
    "start_time": "2021-09-07T15:50:01.791Z"
   },
   {
    "duration": 3605,
    "start_time": "2021-09-07T15:50:01.798Z"
   },
   {
    "duration": 9,
    "start_time": "2021-09-07T15:50:05.405Z"
   },
   {
    "duration": 59677,
    "start_time": "2021-09-07T15:50:05.417Z"
   },
   {
    "duration": 14,
    "start_time": "2021-09-07T15:51:05.096Z"
   },
   {
    "duration": 4171,
    "start_time": "2021-09-07T15:51:05.113Z"
   },
   {
    "duration": 103,
    "start_time": "2021-09-07T15:51:09.287Z"
   },
   {
    "duration": 4071,
    "start_time": "2021-09-07T15:51:09.392Z"
   },
   {
    "duration": 17,
    "start_time": "2021-09-07T15:51:13.465Z"
   },
   {
    "duration": 61277,
    "start_time": "2021-09-07T15:51:13.485Z"
   },
   {
    "duration": 20,
    "start_time": "2021-09-07T15:52:14.764Z"
   },
   {
    "duration": 3841,
    "start_time": "2021-09-07T15:52:14.786Z"
   },
   {
    "duration": 10,
    "start_time": "2021-09-07T15:52:18.629Z"
   },
   {
    "duration": 109,
    "start_time": "2021-09-07T15:52:18.690Z"
   },
   {
    "duration": 223,
    "start_time": "2021-09-07T15:52:18.801Z"
   },
   {
    "duration": 5028,
    "start_time": "2021-09-07T15:52:19.026Z"
   },
   {
    "duration": 10,
    "start_time": "2021-09-07T15:52:24.057Z"
   },
   {
    "duration": 78178,
    "start_time": "2021-09-07T15:52:24.082Z"
   },
   {
    "duration": 21,
    "start_time": "2021-09-07T15:53:42.263Z"
   },
   {
    "duration": 4416,
    "start_time": "2021-09-07T15:53:42.286Z"
   },
   {
    "duration": 79,
    "start_time": "2021-09-07T15:53:46.705Z"
   },
   {
    "duration": 105,
    "start_time": "2021-09-07T15:53:46.788Z"
   },
   {
    "duration": 208,
    "start_time": "2021-09-07T16:03:20.385Z"
   },
   {
    "duration": 17,
    "start_time": "2021-09-07T16:03:28.927Z"
   },
   {
    "duration": 270,
    "start_time": "2021-09-07T16:03:30.039Z"
   },
   {
    "duration": 18,
    "start_time": "2021-09-07T16:03:37.016Z"
   },
   {
    "duration": 198,
    "start_time": "2021-09-07T16:03:39.201Z"
   },
   {
    "duration": 18,
    "start_time": "2021-09-07T16:03:45.487Z"
   },
   {
    "duration": 202,
    "start_time": "2021-09-07T16:03:49.992Z"
   },
   {
    "duration": 17,
    "start_time": "2021-09-07T16:04:00.048Z"
   },
   {
    "duration": 197,
    "start_time": "2021-09-07T16:04:02.464Z"
   },
   {
    "duration": 17,
    "start_time": "2021-09-07T16:04:11.743Z"
   },
   {
    "duration": 199,
    "start_time": "2021-09-07T16:04:13.632Z"
   },
   {
    "duration": 236,
    "start_time": "2021-09-07T16:04:37.449Z"
   },
   {
    "duration": 3,
    "start_time": "2021-09-07T17:51:03.037Z"
   },
   {
    "duration": 2474,
    "start_time": "2021-09-07T17:53:11.025Z"
   },
   {
    "duration": 12,
    "start_time": "2021-09-07T17:53:49.271Z"
   },
   {
    "duration": 104861,
    "start_time": "2021-09-07T18:00:48.359Z"
   },
   {
    "duration": 15,
    "start_time": "2021-09-07T18:02:33.223Z"
   },
   {
    "duration": 3847,
    "start_time": "2021-09-07T18:02:33.241Z"
   },
   {
    "duration": 13,
    "start_time": "2021-09-07T18:06:15.021Z"
   },
   {
    "duration": 21,
    "start_time": "2021-09-07T18:14:54.108Z"
   },
   {
    "duration": 355,
    "start_time": "2021-09-07T18:15:18.580Z"
   },
   {
    "duration": 4,
    "start_time": "2021-09-07T18:15:37.560Z"
   },
   {
    "duration": 15,
    "start_time": "2021-09-07T18:15:43.363Z"
   },
   {
    "duration": 1374,
    "start_time": "2021-09-07T18:16:13.454Z"
   },
   {
    "duration": 64,
    "start_time": "2021-09-07T18:16:14.831Z"
   },
   {
    "duration": 11,
    "start_time": "2021-09-07T18:16:14.898Z"
   },
   {
    "duration": 15,
    "start_time": "2021-09-07T18:16:14.912Z"
   },
   {
    "duration": 5,
    "start_time": "2021-09-07T18:16:14.930Z"
   },
   {
    "duration": 67,
    "start_time": "2021-09-07T18:16:14.938Z"
   },
   {
    "duration": 17,
    "start_time": "2021-09-07T18:16:15.008Z"
   },
   {
    "duration": 74,
    "start_time": "2021-09-07T18:16:15.029Z"
   },
   {
    "duration": 225,
    "start_time": "2021-09-07T18:16:15.106Z"
   },
   {
    "duration": 4,
    "start_time": "2021-09-07T18:16:15.333Z"
   },
   {
    "duration": 3566,
    "start_time": "2021-09-07T18:16:15.340Z"
   },
   {
    "duration": 9,
    "start_time": "2021-09-07T18:16:18.908Z"
   },
   {
    "duration": 60135,
    "start_time": "2021-09-07T18:16:18.920Z"
   },
   {
    "duration": 10,
    "start_time": "2021-09-07T18:17:19.058Z"
   },
   {
    "duration": 3505,
    "start_time": "2021-09-07T18:17:19.082Z"
   },
   {
    "duration": 193,
    "start_time": "2021-09-07T18:17:22.591Z"
   },
   {
    "duration": 3889,
    "start_time": "2021-09-07T18:17:22.788Z"
   },
   {
    "duration": 7,
    "start_time": "2021-09-07T18:17:26.679Z"
   },
   {
    "duration": 61822,
    "start_time": "2021-09-07T18:17:26.689Z"
   },
   {
    "duration": 11,
    "start_time": "2021-09-07T18:18:28.514Z"
   },
   {
    "duration": 3908,
    "start_time": "2021-09-07T18:18:28.527Z"
   },
   {
    "duration": 10,
    "start_time": "2021-09-07T18:18:32.437Z"
   },
   {
    "duration": 109,
    "start_time": "2021-09-07T18:18:32.489Z"
   },
   {
    "duration": 257,
    "start_time": "2021-09-07T18:18:32.601Z"
   },
   {
    "duration": 5117,
    "start_time": "2021-09-07T18:18:32.860Z"
   },
   {
    "duration": 10,
    "start_time": "2021-09-07T18:18:37.982Z"
   },
   {
    "duration": 78325,
    "start_time": "2021-09-07T18:18:37.995Z"
   },
   {
    "duration": 14,
    "start_time": "2021-09-07T18:19:56.324Z"
   },
   {
    "duration": 3559,
    "start_time": "2021-09-07T18:19:56.340Z"
   },
   {
    "duration": 12,
    "start_time": "2021-09-07T18:19:59.901Z"
   },
   {
    "duration": 113,
    "start_time": "2021-09-07T18:19:59.984Z"
   },
   {
    "duration": 219,
    "start_time": "2021-09-07T18:20:00.099Z"
   },
   {
    "duration": 2419,
    "start_time": "2021-09-07T18:20:00.321Z"
   },
   {
    "duration": 10,
    "start_time": "2021-09-07T18:20:02.743Z"
   },
   {
    "duration": 81039,
    "start_time": "2021-09-07T18:20:02.756Z"
   },
   {
    "duration": 13,
    "start_time": "2021-09-07T18:21:23.798Z"
   },
   {
    "duration": 4181,
    "start_time": "2021-09-07T18:21:23.814Z"
   },
   {
    "duration": 85,
    "start_time": "2021-09-07T18:21:27.998Z"
   },
   {
    "duration": 4,
    "start_time": "2021-09-07T18:24:04.176Z"
   },
   {
    "duration": 615,
    "start_time": "2021-09-07T18:25:09.134Z"
   },
   {
    "duration": 22,
    "start_time": "2021-09-07T18:26:23.967Z"
   },
   {
    "duration": 117,
    "start_time": "2021-09-07T18:32:10.575Z"
   },
   {
    "duration": 189,
    "start_time": "2021-09-07T18:33:11.091Z"
   },
   {
    "duration": 101,
    "start_time": "2021-09-07T18:33:30.004Z"
   },
   {
    "duration": 106,
    "start_time": "2021-09-07T18:33:43.627Z"
   },
   {
    "duration": 102,
    "start_time": "2021-09-07T18:34:00.380Z"
   },
   {
    "duration": 98,
    "start_time": "2021-09-07T18:34:38.027Z"
   },
   {
    "duration": 39,
    "start_time": "2021-09-07T18:34:46.148Z"
   },
   {
    "duration": 25,
    "start_time": "2021-09-07T18:35:06.004Z"
   },
   {
    "duration": 21,
    "start_time": "2021-09-07T18:35:14.611Z"
   },
   {
    "duration": 417,
    "start_time": "2021-09-07T18:36:49.378Z"
   },
   {
    "duration": 976,
    "start_time": "2021-09-07T18:37:36.284Z"
   },
   {
    "duration": 3667,
    "start_time": "2021-09-07T18:39:16.962Z"
   },
   {
    "duration": 150,
    "start_time": "2021-09-07T18:39:20.632Z"
   },
   {
    "duration": 23,
    "start_time": "2021-09-07T18:39:42.313Z"
   },
   {
    "duration": 23,
    "start_time": "2021-09-07T18:41:11.241Z"
   },
   {
    "duration": 1354,
    "start_time": "2021-09-07T18:41:59.930Z"
   },
   {
    "duration": 51,
    "start_time": "2021-09-07T18:42:01.287Z"
   },
   {
    "duration": 11,
    "start_time": "2021-09-07T18:42:01.340Z"
   },
   {
    "duration": 31,
    "start_time": "2021-09-07T18:42:01.354Z"
   },
   {
    "duration": 6,
    "start_time": "2021-09-07T18:42:01.387Z"
   },
   {
    "duration": 46,
    "start_time": "2021-09-07T18:42:01.395Z"
   },
   {
    "duration": 16,
    "start_time": "2021-09-07T18:42:01.444Z"
   },
   {
    "duration": 58,
    "start_time": "2021-09-07T18:42:01.464Z"
   },
   {
    "duration": 294,
    "start_time": "2021-09-07T18:42:01.524Z"
   },
   {
    "duration": 4,
    "start_time": "2021-09-07T18:42:01.820Z"
   },
   {
    "duration": 3582,
    "start_time": "2021-09-07T18:42:01.827Z"
   },
   {
    "duration": 8,
    "start_time": "2021-09-07T18:42:05.411Z"
   },
   {
    "duration": 60093,
    "start_time": "2021-09-07T18:42:05.421Z"
   },
   {
    "duration": 11,
    "start_time": "2021-09-07T18:43:05.516Z"
   },
   {
    "duration": 4360,
    "start_time": "2021-09-07T18:43:05.529Z"
   },
   {
    "duration": 192,
    "start_time": "2021-09-07T18:43:09.892Z"
   },
   {
    "duration": 4097,
    "start_time": "2021-09-07T18:43:10.087Z"
   },
   {
    "duration": 9,
    "start_time": "2021-09-07T18:43:14.187Z"
   },
   {
    "duration": 61887,
    "start_time": "2021-09-07T18:43:14.198Z"
   },
   {
    "duration": 12,
    "start_time": "2021-09-07T18:44:16.088Z"
   },
   {
    "duration": 348,
    "start_time": "2021-09-07T18:44:16.103Z"
   },
   {
    "duration": -29,
    "start_time": "2021-09-07T18:44:16.484Z"
   },
   {
    "duration": -34,
    "start_time": "2021-09-07T18:44:16.491Z"
   },
   {
    "duration": -37,
    "start_time": "2021-09-07T18:44:16.496Z"
   },
   {
    "duration": -38,
    "start_time": "2021-09-07T18:44:16.499Z"
   },
   {
    "duration": -44,
    "start_time": "2021-09-07T18:44:16.507Z"
   },
   {
    "duration": -47,
    "start_time": "2021-09-07T18:44:16.512Z"
   },
   {
    "duration": -50,
    "start_time": "2021-09-07T18:44:16.517Z"
   },
   {
    "duration": -50,
    "start_time": "2021-09-07T18:44:16.520Z"
   },
   {
    "duration": -51,
    "start_time": "2021-09-07T18:44:16.523Z"
   },
   {
    "duration": -53,
    "start_time": "2021-09-07T18:44:16.527Z"
   },
   {
    "duration": -53,
    "start_time": "2021-09-07T18:44:16.530Z"
   },
   {
    "duration": -62,
    "start_time": "2021-09-07T18:44:16.541Z"
   },
   {
    "duration": -63,
    "start_time": "2021-09-07T18:44:16.544Z"
   },
   {
    "duration": -65,
    "start_time": "2021-09-07T18:44:16.548Z"
   },
   {
    "duration": -68,
    "start_time": "2021-09-07T18:44:16.553Z"
   },
   {
    "duration": -70,
    "start_time": "2021-09-07T18:44:16.557Z"
   },
   {
    "duration": -71,
    "start_time": "2021-09-07T18:44:16.561Z"
   },
   {
    "duration": -72,
    "start_time": "2021-09-07T18:44:16.564Z"
   },
   {
    "duration": -74,
    "start_time": "2021-09-07T18:44:16.568Z"
   },
   {
    "duration": -76,
    "start_time": "2021-09-07T18:44:16.572Z"
   },
   {
    "duration": -77,
    "start_time": "2021-09-07T18:44:16.575Z"
   },
   {
    "duration": 1327,
    "start_time": "2021-09-07T18:45:12.257Z"
   },
   {
    "duration": 50,
    "start_time": "2021-09-07T18:45:13.586Z"
   },
   {
    "duration": 10,
    "start_time": "2021-09-07T18:45:13.639Z"
   },
   {
    "duration": 30,
    "start_time": "2021-09-07T18:45:13.652Z"
   },
   {
    "duration": 6,
    "start_time": "2021-09-07T18:45:13.684Z"
   },
   {
    "duration": 37,
    "start_time": "2021-09-07T18:45:13.692Z"
   },
   {
    "duration": 16,
    "start_time": "2021-09-07T18:45:13.731Z"
   },
   {
    "duration": 65,
    "start_time": "2021-09-07T18:45:13.751Z"
   },
   {
    "duration": 224,
    "start_time": "2021-09-07T18:45:13.819Z"
   },
   {
    "duration": 3,
    "start_time": "2021-09-07T18:45:14.045Z"
   },
   {
    "duration": 3580,
    "start_time": "2021-09-07T18:45:14.051Z"
   },
   {
    "duration": 8,
    "start_time": "2021-09-07T18:45:17.633Z"
   },
   {
    "duration": 58606,
    "start_time": "2021-09-07T18:45:17.643Z"
   },
   {
    "duration": 31,
    "start_time": "2021-09-07T18:46:16.252Z"
   },
   {
    "duration": 4307,
    "start_time": "2021-09-07T18:46:16.286Z"
   },
   {
    "duration": 10,
    "start_time": "2021-09-07T18:46:20.682Z"
   },
   {
    "duration": 5680,
    "start_time": "2021-09-07T18:46:20.694Z"
   },
   {
    "duration": 10,
    "start_time": "2021-09-07T18:46:26.383Z"
   },
   {
    "duration": 61879,
    "start_time": "2021-09-07T18:46:26.395Z"
   },
   {
    "duration": 13,
    "start_time": "2021-09-07T18:47:28.282Z"
   },
   {
    "duration": 362,
    "start_time": "2021-09-07T18:47:28.298Z"
   },
   {
    "duration": -13,
    "start_time": "2021-09-07T18:47:28.677Z"
   },
   {
    "duration": -18,
    "start_time": "2021-09-07T18:47:28.684Z"
   },
   {
    "duration": -21,
    "start_time": "2021-09-07T18:47:28.689Z"
   },
   {
    "duration": -23,
    "start_time": "2021-09-07T18:47:28.693Z"
   },
   {
    "duration": -26,
    "start_time": "2021-09-07T18:47:28.698Z"
   },
   {
    "duration": -27,
    "start_time": "2021-09-07T18:47:28.701Z"
   },
   {
    "duration": -29,
    "start_time": "2021-09-07T18:47:28.705Z"
   },
   {
    "duration": -29,
    "start_time": "2021-09-07T18:47:28.708Z"
   },
   {
    "duration": -31,
    "start_time": "2021-09-07T18:47:28.712Z"
   },
   {
    "duration": -34,
    "start_time": "2021-09-07T18:47:28.717Z"
   },
   {
    "duration": -39,
    "start_time": "2021-09-07T18:47:28.725Z"
   },
   {
    "duration": -47,
    "start_time": "2021-09-07T18:47:28.735Z"
   },
   {
    "duration": -51,
    "start_time": "2021-09-07T18:47:28.741Z"
   },
   {
    "duration": -53,
    "start_time": "2021-09-07T18:47:28.745Z"
   },
   {
    "duration": -55,
    "start_time": "2021-09-07T18:47:28.749Z"
   },
   {
    "duration": -57,
    "start_time": "2021-09-07T18:47:28.753Z"
   },
   {
    "duration": -62,
    "start_time": "2021-09-07T18:47:28.760Z"
   },
   {
    "duration": -64,
    "start_time": "2021-09-07T18:47:28.765Z"
   },
   {
    "duration": -74,
    "start_time": "2021-09-07T18:47:28.777Z"
   },
   {
    "duration": -87,
    "start_time": "2021-09-07T18:47:28.792Z"
   },
   {
    "duration": -94,
    "start_time": "2021-09-07T18:47:28.801Z"
   },
   {
    "duration": 3729,
    "start_time": "2021-09-07T18:48:58.397Z"
   },
   {
    "duration": 55,
    "start_time": "2021-09-07T18:49:02.128Z"
   },
   {
    "duration": 21,
    "start_time": "2021-09-07T18:49:03.130Z"
   },
   {
    "duration": 218,
    "start_time": "2021-09-07T18:49:03.681Z"
   },
   {
    "duration": 4959,
    "start_time": "2021-09-07T18:49:43.824Z"
   },
   {
    "duration": 8,
    "start_time": "2021-09-07T18:49:48.786Z"
   },
   {
    "duration": 76193,
    "start_time": "2021-09-07T18:49:48.797Z"
   },
   {
    "duration": 12,
    "start_time": "2021-09-07T18:51:04.993Z"
   },
   {
    "duration": 4293,
    "start_time": "2021-09-07T18:51:05.008Z"
   },
   {
    "duration": 78,
    "start_time": "2021-09-07T18:51:09.304Z"
   },
   {
    "duration": 106,
    "start_time": "2021-09-07T18:51:09.387Z"
   },
   {
    "duration": 219,
    "start_time": "2021-09-07T18:51:09.496Z"
   },
   {
    "duration": 2435,
    "start_time": "2021-09-07T18:51:09.718Z"
   },
   {
    "duration": 8,
    "start_time": "2021-09-07T18:51:12.155Z"
   },
   {
    "duration": 75784,
    "start_time": "2021-09-07T18:51:12.165Z"
   },
   {
    "duration": 12,
    "start_time": "2021-09-07T18:52:27.951Z"
   },
   {
    "duration": 4218,
    "start_time": "2021-09-07T18:52:27.982Z"
   },
   {
    "duration": 11,
    "start_time": "2021-09-07T18:52:32.203Z"
   },
   {
    "duration": 70,
    "start_time": "2021-09-07T18:52:32.216Z"
   },
   {
    "duration": 109,
    "start_time": "2021-09-07T18:52:32.290Z"
   },
   {
    "duration": 115,
    "start_time": "2021-09-07T18:52:32.484Z"
   },
   {
    "duration": 120,
    "start_time": "2021-09-07T18:52:32.684Z"
   },
   {
    "duration": 21,
    "start_time": "2021-09-07T18:58:17.032Z"
   },
   {
    "duration": 1272,
    "start_time": "2021-09-08T16:46:23.589Z"
   },
   {
    "duration": 53,
    "start_time": "2021-09-08T16:46:24.863Z"
   },
   {
    "duration": 10,
    "start_time": "2021-09-08T16:46:24.919Z"
   },
   {
    "duration": 31,
    "start_time": "2021-09-08T16:46:24.931Z"
   },
   {
    "duration": 10,
    "start_time": "2021-09-08T16:46:24.964Z"
   },
   {
    "duration": 42,
    "start_time": "2021-09-08T16:46:24.977Z"
   },
   {
    "duration": 14,
    "start_time": "2021-09-08T16:46:25.021Z"
   },
   {
    "duration": 48,
    "start_time": "2021-09-08T16:46:25.038Z"
   },
   {
    "duration": 178,
    "start_time": "2021-09-08T16:46:25.089Z"
   },
   {
    "duration": 8,
    "start_time": "2021-09-08T16:46:25.269Z"
   },
   {
    "duration": 3535,
    "start_time": "2021-09-08T16:46:25.279Z"
   },
   {
    "duration": 8,
    "start_time": "2021-09-08T16:46:28.816Z"
   },
   {
    "duration": 55517,
    "start_time": "2021-09-08T16:46:28.827Z"
   },
   {
    "duration": 10,
    "start_time": "2021-09-08T16:47:24.346Z"
   },
   {
    "duration": 3236,
    "start_time": "2021-09-08T16:47:24.358Z"
   },
   {
    "duration": 90,
    "start_time": "2021-09-08T16:47:27.598Z"
   },
   {
    "duration": 4060,
    "start_time": "2021-09-08T16:47:27.693Z"
   },
   {
    "duration": 7,
    "start_time": "2021-09-08T16:47:31.755Z"
   },
   {
    "duration": 55232,
    "start_time": "2021-09-08T16:47:31.764Z"
   },
   {
    "duration": 12,
    "start_time": "2021-09-08T16:48:26.999Z"
   },
   {
    "duration": 4283,
    "start_time": "2021-09-08T16:48:27.013Z"
   },
   {
    "duration": 11,
    "start_time": "2021-09-08T16:48:31.298Z"
   },
   {
    "duration": 107,
    "start_time": "2021-09-08T16:48:31.387Z"
   },
   {
    "duration": 172,
    "start_time": "2021-09-08T16:48:31.497Z"
   },
   {
    "duration": 4720,
    "start_time": "2021-09-08T16:48:31.670Z"
   },
   {
    "duration": 7,
    "start_time": "2021-09-08T16:48:36.392Z"
   },
   {
    "duration": 67201,
    "start_time": "2021-09-08T16:48:36.400Z"
   },
   {
    "duration": 11,
    "start_time": "2021-09-08T16:49:43.603Z"
   },
   {
    "duration": 3273,
    "start_time": "2021-09-08T16:49:43.615Z"
   },
   {
    "duration": 90,
    "start_time": "2021-09-08T16:49:46.891Z"
   },
   {
    "duration": 108,
    "start_time": "2021-09-08T16:49:46.988Z"
   },
   {
    "duration": 197,
    "start_time": "2021-09-08T16:49:47.098Z"
   },
   {
    "duration": 2108,
    "start_time": "2021-09-08T16:49:47.297Z"
   },
   {
    "duration": 7,
    "start_time": "2021-09-08T16:49:49.407Z"
   },
   {
    "duration": 69508,
    "start_time": "2021-09-08T16:49:49.416Z"
   },
   {
    "duration": 9,
    "start_time": "2021-09-08T16:50:58.926Z"
   },
   {
    "duration": 5048,
    "start_time": "2021-09-08T16:50:58.937Z"
   },
   {
    "duration": 12,
    "start_time": "2021-09-08T16:51:03.992Z"
   },
   {
    "duration": 9,
    "start_time": "2021-09-08T16:51:04.080Z"
   },
   {
    "duration": 97,
    "start_time": "2021-09-08T16:51:04.092Z"
   },
   {
    "duration": 103,
    "start_time": "2021-09-08T16:51:04.191Z"
   },
   {
    "duration": 205,
    "start_time": "2021-09-08T16:51:04.297Z"
   },
   {
    "duration": 196,
    "start_time": "2021-09-08T16:51:04.505Z"
   },
   {
    "duration": 810,
    "start_time": "2021-09-08T16:54:14.917Z"
   },
   {
    "duration": 8,
    "start_time": "2021-09-08T16:54:34.093Z"
   },
   {
    "duration": 10,
    "start_time": "2021-09-08T16:55:12.474Z"
   },
   {
    "duration": 3327,
    "start_time": "2021-09-08T16:55:17.418Z"
   },
   {
    "duration": 7,
    "start_time": "2021-09-08T16:55:20.747Z"
   },
   {
    "duration": 10,
    "start_time": "2021-09-08T17:04:38.914Z"
   },
   {
    "duration": 48003,
    "start_time": "2021-09-08T17:04:44.006Z"
   },
   {
    "duration": 10,
    "start_time": "2021-09-08T17:05:32.011Z"
   },
   {
    "duration": 3027,
    "start_time": "2021-09-08T17:07:17.352Z"
   },
   {
    "duration": 196,
    "start_time": "2021-09-08T17:07:20.382Z"
   },
   {
    "duration": 106,
    "start_time": "2021-09-08T17:07:26.503Z"
   },
   {
    "duration": 122,
    "start_time": "2021-09-08T17:07:40.079Z"
   },
   {
    "duration": 7,
    "start_time": "2021-09-08T17:07:55.398Z"
   },
   {
    "duration": 3402,
    "start_time": "2021-09-08T17:07:59.980Z"
   },
   {
    "duration": 9,
    "start_time": "2021-09-08T17:08:03.385Z"
   },
   {
    "duration": 372,
    "start_time": "2021-09-08T17:19:19.039Z"
   },
   {
    "duration": 8,
    "start_time": "2021-09-08T17:19:37.299Z"
   },
   {
    "duration": 2792,
    "start_time": "2021-09-08T17:19:50.109Z"
   },
   {
    "duration": 7,
    "start_time": "2021-09-08T17:19:52.903Z"
   },
   {
    "duration": 7,
    "start_time": "2021-09-08T17:19:54.460Z"
   },
   {
    "duration": 353,
    "start_time": "2021-09-08T17:31:49.474Z"
   },
   {
    "duration": 5,
    "start_time": "2021-09-08T17:31:56.232Z"
   },
   {
    "duration": 5,
    "start_time": "2021-09-08T17:34:13.735Z"
   },
   {
    "duration": 6,
    "start_time": "2021-09-08T17:35:03.343Z"
   },
   {
    "duration": 3,
    "start_time": "2021-09-08T17:45:52.046Z"
   },
   {
    "duration": 7,
    "start_time": "2021-09-08T17:48:05.548Z"
   },
   {
    "duration": 16,
    "start_time": "2021-09-08T17:52:51.297Z"
   },
   {
    "duration": 9,
    "start_time": "2021-09-08T18:00:11.473Z"
   },
   {
    "duration": 3134,
    "start_time": "2021-09-08T18:01:03.448Z"
   },
   {
    "duration": 194,
    "start_time": "2021-09-08T18:01:06.585Z"
   },
   {
    "duration": 3,
    "start_time": "2021-09-08T20:02:24.819Z"
   },
   {
    "duration": 2988,
    "start_time": "2021-09-08T20:07:14.761Z"
   },
   {
    "duration": 3052,
    "start_time": "2021-09-08T20:11:17.175Z"
   },
   {
    "duration": 8717,
    "start_time": "2021-09-08T20:15:09.151Z"
   },
   {
    "duration": 8662,
    "start_time": "2021-09-08T20:15:55.521Z"
   },
   {
    "duration": 43380,
    "start_time": "2021-09-08T20:17:46.692Z"
   },
   {
    "duration": 3,
    "start_time": "2021-09-08T20:19:04.245Z"
   },
   {
    "duration": 44781,
    "start_time": "2021-09-08T20:19:09.095Z"
   },
   {
    "duration": 3027,
    "start_time": "2021-09-08T20:40:45.056Z"
   },
   {
    "duration": 4,
    "start_time": "2021-09-08T20:54:55.754Z"
   },
   {
    "duration": 6,
    "start_time": "2021-09-08T20:55:35.954Z"
   },
   {
    "duration": 2731,
    "start_time": "2021-09-08T21:04:22.185Z"
   },
   {
    "duration": 34009,
    "start_time": "2021-09-08T21:07:29.806Z"
   },
   {
    "duration": 35066,
    "start_time": "2021-09-08T21:08:17.093Z"
   },
   {
    "duration": 5,
    "start_time": "2021-09-08T21:13:39.308Z"
   },
   {
    "duration": 67506,
    "start_time": "2021-09-08T21:13:50.044Z"
   },
   {
    "duration": 69325,
    "start_time": "2021-09-08T21:14:57.551Z"
   },
   {
    "duration": 3661,
    "start_time": "2021-09-08T21:16:37.668Z"
   },
   {
    "duration": 3485,
    "start_time": "2021-09-08T21:17:10.078Z"
   },
   {
    "duration": 3280,
    "start_time": "2021-09-08T21:17:26.299Z"
   },
   {
    "duration": 68415,
    "start_time": "2021-09-08T21:28:35.838Z"
   },
   {
    "duration": 69151,
    "start_time": "2021-09-08T21:29:44.254Z"
   },
   {
    "duration": 2452,
    "start_time": "2021-09-08T21:30:59.792Z"
   },
   {
    "duration": 2638,
    "start_time": "2021-09-08T21:31:36.272Z"
   },
   {
    "duration": 3623,
    "start_time": "2021-09-08T21:33:29.687Z"
   },
   {
    "duration": 7,
    "start_time": "2021-09-08T21:34:46.368Z"
   },
   {
    "duration": 18,
    "start_time": "2021-09-08T21:35:45.751Z"
   },
   {
    "duration": 18,
    "start_time": "2021-09-08T21:36:15.703Z"
   },
   {
    "duration": 5,
    "start_time": "2021-09-08T21:38:35.429Z"
   },
   {
    "duration": 4,
    "start_time": "2021-09-08T21:38:36.909Z"
   },
   {
    "duration": 4,
    "start_time": "2021-09-08T21:39:43.363Z"
   },
   {
    "duration": 43,
    "start_time": "2021-09-08T21:39:43.369Z"
   },
   {
    "duration": 8,
    "start_time": "2021-09-08T21:39:43.415Z"
   },
   {
    "duration": 12,
    "start_time": "2021-09-08T21:39:43.425Z"
   },
   {
    "duration": 5,
    "start_time": "2021-09-08T21:39:43.439Z"
   },
   {
    "duration": 50,
    "start_time": "2021-09-08T21:39:43.446Z"
   },
   {
    "duration": 13,
    "start_time": "2021-09-08T21:39:43.498Z"
   },
   {
    "duration": 30,
    "start_time": "2021-09-08T21:39:43.514Z"
   },
   {
    "duration": 183,
    "start_time": "2021-09-08T21:39:43.546Z"
   },
   {
    "duration": 4,
    "start_time": "2021-09-08T21:39:43.731Z"
   },
   {
    "duration": 6,
    "start_time": "2021-09-08T21:39:43.737Z"
   },
   {
    "duration": 5,
    "start_time": "2021-09-08T21:39:43.745Z"
   },
   {
    "duration": 4,
    "start_time": "2021-09-08T21:39:43.752Z"
   },
   {
    "duration": 390,
    "start_time": "2021-09-08T21:39:43.757Z"
   },
   {
    "duration": -45,
    "start_time": "2021-09-08T21:39:44.194Z"
   },
   {
    "duration": -50,
    "start_time": "2021-09-08T21:39:44.201Z"
   },
   {
    "duration": -52,
    "start_time": "2021-09-08T21:39:44.204Z"
   },
   {
    "duration": -54,
    "start_time": "2021-09-08T21:39:44.207Z"
   },
   {
    "duration": -55,
    "start_time": "2021-09-08T21:39:44.210Z"
   },
   {
    "duration": -55,
    "start_time": "2021-09-08T21:39:44.212Z"
   },
   {
    "duration": -57,
    "start_time": "2021-09-08T21:39:44.215Z"
   },
   {
    "duration": -58,
    "start_time": "2021-09-08T21:39:44.218Z"
   },
   {
    "duration": -61,
    "start_time": "2021-09-08T21:39:44.222Z"
   },
   {
    "duration": -63,
    "start_time": "2021-09-08T21:39:44.226Z"
   },
   {
    "duration": -65,
    "start_time": "2021-09-08T21:39:44.229Z"
   },
   {
    "duration": -72,
    "start_time": "2021-09-08T21:39:44.238Z"
   },
   {
    "duration": 3,
    "start_time": "2021-09-08T21:41:00.597Z"
   },
   {
    "duration": 4,
    "start_time": "2021-09-08T21:41:14.298Z"
   },
   {
    "duration": 50,
    "start_time": "2021-09-08T21:41:14.304Z"
   },
   {
    "duration": 8,
    "start_time": "2021-09-08T21:41:14.356Z"
   },
   {
    "duration": 18,
    "start_time": "2021-09-08T21:41:14.365Z"
   },
   {
    "duration": 9,
    "start_time": "2021-09-08T21:41:14.384Z"
   },
   {
    "duration": 26,
    "start_time": "2021-09-08T21:41:14.394Z"
   },
   {
    "duration": 12,
    "start_time": "2021-09-08T21:41:14.422Z"
   },
   {
    "duration": 41,
    "start_time": "2021-09-08T21:41:14.436Z"
   },
   {
    "duration": 150,
    "start_time": "2021-09-08T21:41:14.479Z"
   },
   {
    "duration": 3,
    "start_time": "2021-09-08T21:41:14.631Z"
   },
   {
    "duration": 10,
    "start_time": "2021-09-08T21:41:14.635Z"
   },
   {
    "duration": 6,
    "start_time": "2021-09-08T21:41:14.647Z"
   },
   {
    "duration": 5,
    "start_time": "2021-09-08T21:41:14.655Z"
   },
   {
    "duration": 2469,
    "start_time": "2021-09-08T21:41:14.661Z"
   },
   {
    "duration": 68077,
    "start_time": "2021-09-08T21:41:17.131Z"
   },
   {
    "duration": 3274,
    "start_time": "2021-09-08T21:42:25.211Z"
   },
   {
    "duration": 2785,
    "start_time": "2021-09-08T21:42:28.487Z"
   },
   {
    "duration": 71233,
    "start_time": "2021-09-08T21:42:31.277Z"
   },
   {
    "duration": 3084,
    "start_time": "2021-09-08T21:43:42.513Z"
   },
   {
    "duration": 3381,
    "start_time": "2021-09-08T21:43:45.599Z"
   },
   {
    "duration": 97,
    "start_time": "2021-09-08T21:43:48.985Z"
   },
   {
    "duration": 193,
    "start_time": "2021-09-08T21:43:49.085Z"
   },
   {
    "duration": 144,
    "start_time": "2021-09-08T21:43:49.280Z"
   },
   {
    "duration": 3486,
    "start_time": "2021-09-08T21:43:49.425Z"
   },
   {
    "duration": 4,
    "start_time": "2021-09-08T21:43:52.913Z"
   },
   {
    "duration": 4,
    "start_time": "2021-09-08T21:43:57.203Z"
   },
   {
    "duration": 8,
    "start_time": "2021-09-08T22:29:55.048Z"
   },
   {
    "duration": 9,
    "start_time": "2021-09-08T22:30:33.560Z"
   },
   {
    "duration": 9,
    "start_time": "2021-09-08T22:31:21.125Z"
   },
   {
    "duration": 8,
    "start_time": "2021-09-08T22:33:00.310Z"
   },
   {
    "duration": 14,
    "start_time": "2021-09-08T22:39:24.858Z"
   },
   {
    "duration": 127,
    "start_time": "2021-09-08T22:40:10.044Z"
   },
   {
    "duration": 13,
    "start_time": "2021-09-08T22:40:19.035Z"
   },
   {
    "duration": 9,
    "start_time": "2021-09-08T22:43:25.986Z"
   },
   {
    "duration": 3466,
    "start_time": "2021-09-08T22:46:40.466Z"
   },
   {
    "duration": 10,
    "start_time": "2021-09-08T22:46:45.906Z"
   },
   {
    "duration": 6,
    "start_time": "2021-09-08T22:47:42.001Z"
   },
   {
    "duration": 18,
    "start_time": "2021-09-08T22:49:07.393Z"
   },
   {
    "duration": 136,
    "start_time": "2021-09-08T22:49:07.945Z"
   },
   {
    "duration": 3552,
    "start_time": "2021-09-08T22:49:09.465Z"
   },
   {
    "duration": 6,
    "start_time": "2021-09-08T22:49:13.020Z"
   },
   {
    "duration": 10,
    "start_time": "2021-09-08T22:49:16.464Z"
   },
   {
    "duration": 91245,
    "start_time": "2021-09-08T22:51:40.752Z"
   },
   {
    "duration": 11,
    "start_time": "2021-09-08T22:53:18.743Z"
   },
   {
    "duration": 5,
    "start_time": "2021-09-08T22:58:40.414Z"
   },
   {
    "duration": 362,
    "start_time": "2021-09-08T22:58:55.254Z"
   },
   {
    "duration": 29,
    "start_time": "2021-09-08T22:59:28.566Z"
   },
   {
    "duration": 679,
    "start_time": "2021-09-08T22:59:32.758Z"
   },
   {
    "duration": 3452,
    "start_time": "2021-09-08T23:02:20.429Z"
   },
   {
    "duration": 3,
    "start_time": "2021-09-08T23:02:23.883Z"
   },
   {
    "duration": 10,
    "start_time": "2021-09-08T23:02:25.805Z"
   },
   {
    "duration": 3,
    "start_time": "2021-09-08T23:05:39.228Z"
   },
   {
    "duration": 3,
    "start_time": "2021-09-08T23:05:39.709Z"
   },
   {
    "duration": 4,
    "start_time": "2021-09-08T23:05:40.484Z"
   },
   {
    "duration": 3,
    "start_time": "2021-09-08T23:05:42.900Z"
   },
   {
    "duration": 2932,
    "start_time": "2021-09-08T23:05:50.092Z"
   },
   {
    "duration": 2530,
    "start_time": "2021-09-08T23:06:20.676Z"
   },
   {
    "duration": 2816,
    "start_time": "2021-09-08T23:07:05.428Z"
   },
   {
    "duration": 3,
    "start_time": "2021-09-08T23:17:38.688Z"
   },
   {
    "duration": 3,
    "start_time": "2021-09-08T23:17:39.128Z"
   },
   {
    "duration": 4,
    "start_time": "2021-09-08T23:17:39.512Z"
   },
   {
    "duration": 3,
    "start_time": "2021-09-08T23:17:39.976Z"
   },
   {
    "duration": 2869,
    "start_time": "2021-09-08T23:17:58.849Z"
   },
   {
    "duration": 22,
    "start_time": "2021-09-08T23:19:10.864Z"
   },
   {
    "duration": 5,
    "start_time": "2021-09-08T23:19:12.488Z"
   },
   {
    "duration": 706,
    "start_time": "2021-09-08T23:19:14.351Z"
   },
   {
    "duration": 3367,
    "start_time": "2021-09-08T23:20:12.880Z"
   },
   {
    "duration": 11,
    "start_time": "2021-09-08T23:20:16.249Z"
   },
   {
    "duration": 3383,
    "start_time": "2021-09-08T23:20:40.840Z"
   },
   {
    "duration": 3,
    "start_time": "2021-09-08T23:21:08.197Z"
   },
   {
    "duration": 42,
    "start_time": "2021-09-08T23:21:08.202Z"
   },
   {
    "duration": 7,
    "start_time": "2021-09-08T23:21:08.246Z"
   },
   {
    "duration": 11,
    "start_time": "2021-09-08T23:21:08.255Z"
   },
   {
    "duration": 4,
    "start_time": "2021-09-08T23:21:08.268Z"
   },
   {
    "duration": 21,
    "start_time": "2021-09-08T23:21:08.276Z"
   },
   {
    "duration": 12,
    "start_time": "2021-09-08T23:21:08.300Z"
   },
   {
    "duration": 30,
    "start_time": "2021-09-08T23:21:08.314Z"
   },
   {
    "duration": 171,
    "start_time": "2021-09-08T23:21:08.345Z"
   },
   {
    "duration": 3,
    "start_time": "2021-09-08T23:21:08.517Z"
   },
   {
    "duration": 12,
    "start_time": "2021-09-08T23:21:08.522Z"
   },
   {
    "duration": 6,
    "start_time": "2021-09-08T23:21:08.536Z"
   },
   {
    "duration": 4,
    "start_time": "2021-09-08T23:21:08.544Z"
   },
   {
    "duration": 2453,
    "start_time": "2021-09-08T23:21:08.550Z"
   },
   {
    "duration": 68200,
    "start_time": "2021-09-08T23:21:11.005Z"
   },
   {
    "duration": 2978,
    "start_time": "2021-09-08T23:22:19.207Z"
   },
   {
    "duration": 99,
    "start_time": "2021-09-08T23:22:22.279Z"
   },
   {
    "duration": 2630,
    "start_time": "2021-09-08T23:22:22.380Z"
   },
   {
    "duration": 68012,
    "start_time": "2021-09-08T23:22:25.013Z"
   },
   {
    "duration": 2453,
    "start_time": "2021-09-08T23:23:33.027Z"
   },
   {
    "duration": 99,
    "start_time": "2021-09-08T23:23:35.482Z"
   },
   {
    "duration": 14,
    "start_time": "2021-09-08T23:23:35.582Z"
   },
   {
    "duration": 156,
    "start_time": "2021-09-08T23:23:35.598Z"
   },
   {
    "duration": 3444,
    "start_time": "2021-09-08T23:24:08.078Z"
   },
   {
    "duration": 8,
    "start_time": "2021-09-08T23:27:06.757Z"
   },
   {
    "duration": 7,
    "start_time": "2021-09-08T23:27:08.325Z"
   },
   {
    "duration": 3477,
    "start_time": "2021-09-08T23:27:41.900Z"
   },
   {
    "duration": 6,
    "start_time": "2021-09-08T23:27:47.022Z"
   },
   {
    "duration": 7,
    "start_time": "2021-09-08T23:27:47.693Z"
   },
   {
    "duration": 6449,
    "start_time": "2021-09-08T23:31:31.893Z"
   },
   {
    "duration": 6,
    "start_time": "2021-09-08T23:31:52.345Z"
   },
   {
    "duration": 7,
    "start_time": "2021-09-08T23:31:53.636Z"
   },
   {
    "duration": 5,
    "start_time": "2021-09-08T23:32:53.324Z"
   },
   {
    "duration": 7742,
    "start_time": "2021-09-08T23:33:26.517Z"
   },
   {
    "duration": 7,
    "start_time": "2021-09-08T23:33:37.140Z"
   },
   {
    "duration": 7,
    "start_time": "2021-09-08T23:33:38.156Z"
   },
   {
    "duration": 7953,
    "start_time": "2021-09-08T23:34:29.692Z"
   },
   {
    "duration": 7,
    "start_time": "2021-09-08T23:34:39.347Z"
   },
   {
    "duration": 6,
    "start_time": "2021-09-08T23:34:40.236Z"
   },
   {
    "duration": 6584,
    "start_time": "2021-09-08T23:34:53.332Z"
   },
   {
    "duration": 7,
    "start_time": "2021-09-08T23:35:01.835Z"
   },
   {
    "duration": 7,
    "start_time": "2021-09-08T23:35:02.579Z"
   },
   {
    "duration": 3986,
    "start_time": "2021-09-08T23:35:28.437Z"
   },
   {
    "duration": 7,
    "start_time": "2021-09-08T23:35:32.425Z"
   },
   {
    "duration": 14,
    "start_time": "2021-09-08T23:35:32.433Z"
   },
   {
    "duration": 39,
    "start_time": "2021-09-08T23:37:42.512Z"
   },
   {
    "duration": 7,
    "start_time": "2021-09-08T23:37:45.292Z"
   },
   {
    "duration": 8,
    "start_time": "2021-09-08T23:37:46.019Z"
   },
   {
    "duration": 4,
    "start_time": "2021-09-08T23:42:41.977Z"
   },
   {
    "duration": 46841,
    "start_time": "2021-09-08T23:43:36.097Z"
   },
   {
    "duration": 342,
    "start_time": "2021-09-08T23:47:57.816Z"
   },
   {
    "duration": 3815,
    "start_time": "2021-09-08T23:48:22.567Z"
   },
   {
    "duration": 12,
    "start_time": "2021-09-08T23:48:30.094Z"
   },
   {
    "duration": 7,
    "start_time": "2021-09-08T23:48:31.991Z"
   },
   {
    "duration": 14,
    "start_time": "2021-09-08T23:48:55.903Z"
   },
   {
    "duration": 131,
    "start_time": "2021-09-08T23:48:56.407Z"
   },
   {
    "duration": 3552,
    "start_time": "2021-09-08T23:49:00.911Z"
   },
   {
    "duration": 3641,
    "start_time": "2021-09-08T23:49:07.839Z"
   },
   {
    "duration": 8,
    "start_time": "2021-09-08T23:49:11.482Z"
   },
   {
    "duration": 88,
    "start_time": "2021-09-08T23:49:11.493Z"
   },
   {
    "duration": 3,
    "start_time": "2021-09-08T23:50:33.223Z"
   },
   {
    "duration": 3731,
    "start_time": "2021-09-08T23:51:09.646Z"
   },
   {
    "duration": 98,
    "start_time": "2021-09-08T23:51:13.379Z"
   },
   {
    "duration": 99,
    "start_time": "2021-09-08T23:51:13.480Z"
   },
   {
    "duration": 3,
    "start_time": "2021-09-08T23:53:29.400Z"
   },
   {
    "duration": 345,
    "start_time": "2021-09-08T23:53:55.421Z"
   },
   {
    "duration": 2779,
    "start_time": "2021-09-08T23:55:55.388Z"
   },
   {
    "duration": 4037,
    "start_time": "2021-09-08T23:56:46.812Z"
   },
   {
    "duration": 2828,
    "start_time": "2021-09-08T23:58:41.924Z"
   },
   {
    "duration": 3916,
    "start_time": "2021-09-08T23:59:58.381Z"
   },
   {
    "duration": 3891,
    "start_time": "2021-09-09T00:01:00.348Z"
   },
   {
    "duration": 1234,
    "start_time": "2021-09-09T00:05:02.267Z"
   },
   {
    "duration": 42,
    "start_time": "2021-09-09T00:05:03.503Z"
   },
   {
    "duration": 8,
    "start_time": "2021-09-09T00:05:03.550Z"
   },
   {
    "duration": 20,
    "start_time": "2021-09-09T00:05:03.560Z"
   },
   {
    "duration": 5,
    "start_time": "2021-09-09T00:05:03.582Z"
   },
   {
    "duration": 27,
    "start_time": "2021-09-09T00:05:03.588Z"
   },
   {
    "duration": 12,
    "start_time": "2021-09-09T00:05:03.618Z"
   },
   {
    "duration": 52,
    "start_time": "2021-09-09T00:05:03.632Z"
   },
   {
    "duration": 152,
    "start_time": "2021-09-09T00:05:03.686Z"
   },
   {
    "duration": 3,
    "start_time": "2021-09-09T00:05:03.839Z"
   },
   {
    "duration": 33,
    "start_time": "2021-09-09T00:05:03.844Z"
   },
   {
    "duration": 24,
    "start_time": "2021-09-09T00:05:03.879Z"
   },
   {
    "duration": 22,
    "start_time": "2021-09-09T00:05:03.905Z"
   },
   {
    "duration": 22,
    "start_time": "2021-09-09T00:05:03.929Z"
   },
   {
    "duration": 3027,
    "start_time": "2021-09-09T00:05:03.952Z"
   },
   {
    "duration": 420,
    "start_time": "2021-09-09T00:05:06.981Z"
   },
   {
    "duration": -82,
    "start_time": "2021-09-09T00:05:07.487Z"
   },
   {
    "duration": -91,
    "start_time": "2021-09-09T00:05:07.497Z"
   },
   {
    "duration": -93,
    "start_time": "2021-09-09T00:05:07.500Z"
   },
   {
    "duration": -95,
    "start_time": "2021-09-09T00:05:07.503Z"
   },
   {
    "duration": -96,
    "start_time": "2021-09-09T00:05:07.506Z"
   },
   {
    "duration": -97,
    "start_time": "2021-09-09T00:05:07.508Z"
   },
   {
    "duration": -100,
    "start_time": "2021-09-09T00:05:07.512Z"
   },
   {
    "duration": -101,
    "start_time": "2021-09-09T00:05:07.515Z"
   },
   {
    "duration": -104,
    "start_time": "2021-09-09T00:05:07.519Z"
   },
   {
    "duration": -106,
    "start_time": "2021-09-09T00:05:07.522Z"
   },
   {
    "duration": -108,
    "start_time": "2021-09-09T00:05:07.525Z"
   },
   {
    "duration": -111,
    "start_time": "2021-09-09T00:05:07.529Z"
   },
   {
    "duration": -114,
    "start_time": "2021-09-09T00:05:07.534Z"
   },
   {
    "duration": -119,
    "start_time": "2021-09-09T00:05:07.539Z"
   },
   {
    "duration": -122,
    "start_time": "2021-09-09T00:05:07.544Z"
   },
   {
    "duration": -128,
    "start_time": "2021-09-09T00:05:07.551Z"
   },
   {
    "duration": -130,
    "start_time": "2021-09-09T00:05:07.554Z"
   },
   {
    "duration": -131,
    "start_time": "2021-09-09T00:05:07.557Z"
   },
   {
    "duration": -132,
    "start_time": "2021-09-09T00:05:07.559Z"
   },
   {
    "duration": -134,
    "start_time": "2021-09-09T00:05:07.562Z"
   },
   {
    "duration": -135,
    "start_time": "2021-09-09T00:05:07.564Z"
   },
   {
    "duration": -145,
    "start_time": "2021-09-09T00:05:07.575Z"
   },
   {
    "duration": -147,
    "start_time": "2021-09-09T00:05:07.578Z"
   },
   {
    "duration": -154,
    "start_time": "2021-09-09T00:05:07.586Z"
   },
   {
    "duration": -159,
    "start_time": "2021-09-09T00:05:07.593Z"
   },
   {
    "duration": -163,
    "start_time": "2021-09-09T00:05:07.598Z"
   },
   {
    "duration": -166,
    "start_time": "2021-09-09T00:05:07.602Z"
   },
   {
    "duration": -171,
    "start_time": "2021-09-09T00:05:07.608Z"
   },
   {
    "duration": -174,
    "start_time": "2021-09-09T00:05:07.612Z"
   },
   {
    "duration": -177,
    "start_time": "2021-09-09T00:05:07.617Z"
   },
   {
    "duration": -180,
    "start_time": "2021-09-09T00:05:07.621Z"
   },
   {
    "duration": 1471,
    "start_time": "2021-09-09T07:35:23.259Z"
   },
   {
    "duration": 56,
    "start_time": "2021-09-09T07:35:24.732Z"
   },
   {
    "duration": 12,
    "start_time": "2021-09-09T07:35:24.791Z"
   },
   {
    "duration": 34,
    "start_time": "2021-09-09T07:35:24.805Z"
   },
   {
    "duration": 13,
    "start_time": "2021-09-09T07:35:24.841Z"
   },
   {
    "duration": 40,
    "start_time": "2021-09-09T07:35:24.857Z"
   },
   {
    "duration": 19,
    "start_time": "2021-09-09T07:35:24.899Z"
   },
   {
    "duration": 70,
    "start_time": "2021-09-09T07:35:24.922Z"
   },
   {
    "duration": 253,
    "start_time": "2021-09-09T07:35:24.995Z"
   },
   {
    "duration": 3,
    "start_time": "2021-09-09T07:35:25.255Z"
   },
   {
    "duration": 31,
    "start_time": "2021-09-09T07:35:25.261Z"
   },
   {
    "duration": 25,
    "start_time": "2021-09-09T07:35:25.295Z"
   },
   {
    "duration": 26,
    "start_time": "2021-09-09T07:35:25.322Z"
   },
   {
    "duration": 16,
    "start_time": "2021-09-09T07:35:25.350Z"
   },
   {
    "duration": 3846,
    "start_time": "2021-09-09T07:35:25.368Z"
   },
   {
    "duration": 435,
    "start_time": "2021-09-09T07:35:29.216Z"
   },
   {
    "duration": -874,
    "start_time": "2021-09-09T07:35:30.529Z"
   },
   {
    "duration": -889,
    "start_time": "2021-09-09T07:35:30.545Z"
   },
   {
    "duration": -891,
    "start_time": "2021-09-09T07:35:30.548Z"
   },
   {
    "duration": -891,
    "start_time": "2021-09-09T07:35:30.550Z"
   },
   {
    "duration": -899,
    "start_time": "2021-09-09T07:35:30.559Z"
   },
   {
    "duration": -901,
    "start_time": "2021-09-09T07:35:30.563Z"
   },
   {
    "duration": -914,
    "start_time": "2021-09-09T07:35:30.577Z"
   },
   {
    "duration": -917,
    "start_time": "2021-09-09T07:35:30.582Z"
   },
   {
    "duration": -924,
    "start_time": "2021-09-09T07:35:30.590Z"
   },
   {
    "duration": -948,
    "start_time": "2021-09-09T07:35:30.616Z"
   },
   {
    "duration": -959,
    "start_time": "2021-09-09T07:35:30.628Z"
   },
   {
    "duration": -965,
    "start_time": "2021-09-09T07:35:30.636Z"
   },
   {
    "duration": -977,
    "start_time": "2021-09-09T07:35:30.649Z"
   },
   {
    "duration": -987,
    "start_time": "2021-09-09T07:35:30.661Z"
   },
   {
    "duration": -989,
    "start_time": "2021-09-09T07:35:30.664Z"
   },
   {
    "duration": -990,
    "start_time": "2021-09-09T07:35:30.667Z"
   },
   {
    "duration": -1003,
    "start_time": "2021-09-09T07:35:30.681Z"
   },
   {
    "duration": -1007,
    "start_time": "2021-09-09T07:35:30.687Z"
   },
   {
    "duration": -1016,
    "start_time": "2021-09-09T07:35:30.698Z"
   },
   {
    "duration": -1019,
    "start_time": "2021-09-09T07:35:30.702Z"
   },
   {
    "duration": -1052,
    "start_time": "2021-09-09T07:35:30.737Z"
   },
   {
    "duration": -1063,
    "start_time": "2021-09-09T07:35:30.749Z"
   },
   {
    "duration": -1072,
    "start_time": "2021-09-09T07:35:30.760Z"
   },
   {
    "duration": -1073,
    "start_time": "2021-09-09T07:35:30.763Z"
   },
   {
    "duration": -1095,
    "start_time": "2021-09-09T07:35:30.786Z"
   },
   {
    "duration": -1099,
    "start_time": "2021-09-09T07:35:30.791Z"
   },
   {
    "duration": -1050,
    "start_time": "2021-09-09T07:35:30.804Z"
   },
   {
    "duration": -1055,
    "start_time": "2021-09-09T07:35:30.811Z"
   },
   {
    "duration": -1057,
    "start_time": "2021-09-09T07:35:30.815Z"
   },
   {
    "duration": -1061,
    "start_time": "2021-09-09T07:35:30.820Z"
   },
   {
    "duration": -1064,
    "start_time": "2021-09-09T07:35:30.825Z"
   },
   {
    "duration": 3809,
    "start_time": "2021-09-09T07:55:56.156Z"
   },
   {
    "duration": 3869,
    "start_time": "2021-09-09T08:00:50.243Z"
   },
   {
    "duration": 7,
    "start_time": "2021-09-09T08:01:32.737Z"
   },
   {
    "duration": 7,
    "start_time": "2021-09-09T08:02:07.578Z"
   },
   {
    "duration": 5,
    "start_time": "2021-09-09T08:17:23.343Z"
   },
   {
    "duration": 5,
    "start_time": "2021-09-09T08:19:46.470Z"
   },
   {
    "duration": 5,
    "start_time": "2021-09-09T08:20:17.150Z"
   },
   {
    "duration": 4,
    "start_time": "2021-09-09T08:24:05.646Z"
   },
   {
    "duration": 3961,
    "start_time": "2021-09-09T08:24:07.796Z"
   },
   {
    "duration": 5,
    "start_time": "2021-09-09T08:57:59.792Z"
   },
   {
    "duration": 4445,
    "start_time": "2021-09-09T08:58:02.636Z"
   },
   {
    "duration": 4,
    "start_time": "2021-09-09T09:04:50.806Z"
   },
   {
    "duration": 4271,
    "start_time": "2021-09-09T09:04:54.039Z"
   },
   {
    "duration": 5,
    "start_time": "2021-09-09T09:05:12.896Z"
   },
   {
    "duration": 4533,
    "start_time": "2021-09-09T09:05:21.290Z"
   },
   {
    "duration": 4140,
    "start_time": "2021-09-09T09:08:16.880Z"
   },
   {
    "duration": 6,
    "start_time": "2021-09-09T09:09:01.686Z"
   },
   {
    "duration": 5,
    "start_time": "2021-09-09T09:09:27.567Z"
   },
   {
    "duration": 4407,
    "start_time": "2021-09-09T09:09:30.351Z"
   },
   {
    "duration": 5,
    "start_time": "2021-09-09T09:10:22.358Z"
   },
   {
    "duration": 5,
    "start_time": "2021-09-09T09:10:26.528Z"
   },
   {
    "duration": 4,
    "start_time": "2021-09-09T09:12:56.351Z"
   },
   {
    "duration": 4299,
    "start_time": "2021-09-09T09:12:59.862Z"
   },
   {
    "duration": 4,
    "start_time": "2021-09-09T09:13:22.406Z"
   },
   {
    "duration": 4316,
    "start_time": "2021-09-09T09:13:27.189Z"
   },
   {
    "duration": 6,
    "start_time": "2021-09-09T09:14:00.028Z"
   },
   {
    "duration": 4,
    "start_time": "2021-09-09T09:15:52.708Z"
   },
   {
    "duration": 4448,
    "start_time": "2021-09-09T09:16:01.117Z"
   },
   {
    "duration": 5,
    "start_time": "2021-09-09T09:16:12.508Z"
   },
   {
    "duration": 4,
    "start_time": "2021-09-09T09:17:04.781Z"
   },
   {
    "duration": 4235,
    "start_time": "2021-09-09T09:17:07.364Z"
   },
   {
    "duration": 4,
    "start_time": "2021-09-09T09:19:35.181Z"
   },
   {
    "duration": 631,
    "start_time": "2021-09-09T09:19:39.588Z"
   },
   {
    "duration": 4,
    "start_time": "2021-09-09T09:20:04.413Z"
   },
   {
    "duration": 4582,
    "start_time": "2021-09-09T09:20:06.902Z"
   },
   {
    "duration": 68047,
    "start_time": "2021-09-09T09:21:00.147Z"
   },
   {
    "duration": 8,
    "start_time": "2021-09-09T09:22:23.731Z"
   },
   {
    "duration": 334348,
    "start_time": "2021-09-09T09:22:36.939Z"
   },
   {
    "duration": 5,
    "start_time": "2021-09-09T09:28:29.537Z"
   },
   {
    "duration": 67920,
    "start_time": "2021-09-09T09:28:35.587Z"
   },
   {
    "duration": 4155,
    "start_time": "2021-09-09T09:29:43.509Z"
   },
   {
    "duration": 5,
    "start_time": "2021-09-09T09:30:43.201Z"
   },
   {
    "duration": 170853,
    "start_time": "2021-09-09T09:31:11.528Z"
   },
   {
    "duration": 5,
    "start_time": "2021-09-09T09:35:09.455Z"
   },
   {
    "duration": 4767,
    "start_time": "2021-09-09T09:45:25.988Z"
   },
   {
    "duration": 12,
    "start_time": "2021-09-09T09:45:43.756Z"
   },
   {
    "duration": 4559,
    "start_time": "2021-09-09T09:46:30.288Z"
   },
   {
    "duration": 279,
    "start_time": "2021-09-09T09:47:21.260Z"
   },
   {
    "duration": 169088,
    "start_time": "2021-09-09T09:47:32.196Z"
   },
   {
    "duration": 4568,
    "start_time": "2021-09-09T09:50:21.287Z"
   },
   {
    "duration": 110,
    "start_time": "2021-09-09T09:50:25.859Z"
   },
   {
    "duration": 240,
    "start_time": "2021-09-09T09:50:25.972Z"
   },
   {
    "duration": 6320,
    "start_time": "2021-09-09T09:51:09.887Z"
   },
   {
    "duration": 5238,
    "start_time": "2021-09-09T09:52:29.234Z"
   },
   {
    "duration": 83,
    "start_time": "2021-09-09T09:52:34.474Z"
   },
   {
    "duration": 97,
    "start_time": "2021-09-09T09:52:34.560Z"
   },
   {
    "duration": 718,
    "start_time": "2021-09-09T09:55:51.409Z"
   },
   {
    "duration": 660,
    "start_time": "2021-09-09T09:56:12.154Z"
   },
   {
    "duration": 305,
    "start_time": "2021-09-09T09:56:54.113Z"
   },
   {
    "duration": 6,
    "start_time": "2021-09-09T09:57:43.537Z"
   },
   {
    "duration": 295,
    "start_time": "2021-09-09T09:58:05.277Z"
   },
   {
    "duration": 292,
    "start_time": "2021-09-09T10:01:22.232Z"
   },
   {
    "duration": 128,
    "start_time": "2021-09-09T10:03:09.627Z"
   },
   {
    "duration": 84,
    "start_time": "2021-09-09T10:04:39.572Z"
   },
   {
    "duration": 41,
    "start_time": "2021-09-09T10:04:56.514Z"
   },
   {
    "duration": 4392,
    "start_time": "2021-09-09T10:16:03.379Z"
   },
   {
    "duration": 237861,
    "start_time": "2021-09-09T10:21:28.977Z"
   },
   {
    "duration": 16,
    "start_time": "2021-09-09T10:26:01.312Z"
   },
   {
    "duration": 6237,
    "start_time": "2021-09-09T10:26:56.151Z"
   },
   {
    "duration": 6,
    "start_time": "2021-09-09T10:27:36.879Z"
   },
   {
    "duration": 237942,
    "start_time": "2021-09-09T10:29:09.000Z"
   },
   {
    "duration": -907,
    "start_time": "2021-09-09T10:54:09.452Z"
   },
   {
    "duration": -921,
    "start_time": "2021-09-09T10:54:09.467Z"
   },
   {
    "duration": 1456,
    "start_time": "2021-09-09T10:54:21.026Z"
   },
   {
    "duration": 59,
    "start_time": "2021-09-09T10:54:22.484Z"
   },
   {
    "duration": 18,
    "start_time": "2021-09-09T10:54:22.547Z"
   },
   {
    "duration": 17,
    "start_time": "2021-09-09T10:54:22.569Z"
   },
   {
    "duration": 7,
    "start_time": "2021-09-09T10:54:22.589Z"
   },
   {
    "duration": 70,
    "start_time": "2021-09-09T10:54:22.599Z"
   },
   {
    "duration": 21,
    "start_time": "2021-09-09T10:54:22.672Z"
   },
   {
    "duration": 80,
    "start_time": "2021-09-09T10:54:22.696Z"
   },
   {
    "duration": 241,
    "start_time": "2021-09-09T10:54:22.780Z"
   },
   {
    "duration": 4,
    "start_time": "2021-09-09T10:54:23.024Z"
   },
   {
    "duration": 14,
    "start_time": "2021-09-09T10:54:23.030Z"
   },
   {
    "duration": 5,
    "start_time": "2021-09-09T10:54:23.054Z"
   },
   {
    "duration": 9,
    "start_time": "2021-09-09T10:54:23.062Z"
   },
   {
    "duration": 11,
    "start_time": "2021-09-09T10:54:23.074Z"
   },
   {
    "duration": 4297,
    "start_time": "2021-09-09T10:54:23.087Z"
   },
   {
    "duration": 171437,
    "start_time": "2021-09-09T10:54:27.386Z"
   },
   {
    "duration": 4135,
    "start_time": "2021-09-09T10:57:18.826Z"
   },
   {
    "duration": 102,
    "start_time": "2021-09-09T10:57:22.964Z"
   },
   {
    "duration": 4842,
    "start_time": "2021-09-09T10:57:23.069Z"
   },
   {
    "duration": 174834,
    "start_time": "2021-09-09T10:57:27.914Z"
   },
   {
    "duration": 4505,
    "start_time": "2021-09-09T11:00:22.750Z"
   },
   {
    "duration": 100,
    "start_time": "2021-09-09T11:00:27.259Z"
   },
   {
    "duration": 32,
    "start_time": "2021-09-09T11:00:27.363Z"
   },
   {
    "duration": 238,
    "start_time": "2021-09-09T11:00:27.398Z"
   },
   {
    "duration": 1468,
    "start_time": "2021-09-09T11:20:00.420Z"
   },
   {
    "duration": 47,
    "start_time": "2021-09-09T11:20:01.890Z"
   },
   {
    "duration": 9,
    "start_time": "2021-09-09T11:20:01.941Z"
   },
   {
    "duration": 40,
    "start_time": "2021-09-09T11:20:01.952Z"
   },
   {
    "duration": 31,
    "start_time": "2021-09-09T11:20:01.994Z"
   },
   {
    "duration": 51,
    "start_time": "2021-09-09T11:20:02.027Z"
   },
   {
    "duration": 17,
    "start_time": "2021-09-09T11:20:02.083Z"
   },
   {
    "duration": 54,
    "start_time": "2021-09-09T11:20:02.103Z"
   },
   {
    "duration": 167,
    "start_time": "2021-09-09T11:20:02.159Z"
   },
   {
    "duration": 3,
    "start_time": "2021-09-09T11:20:02.328Z"
   },
   {
    "duration": 17,
    "start_time": "2021-09-09T11:20:02.342Z"
   },
   {
    "duration": 12,
    "start_time": "2021-09-09T11:20:02.361Z"
   },
   {
    "duration": 13,
    "start_time": "2021-09-09T11:20:02.375Z"
   },
   {
    "duration": 17,
    "start_time": "2021-09-09T11:20:02.390Z"
   },
   {
    "duration": 4991,
    "start_time": "2021-09-09T11:20:02.410Z"
   },
   {
    "duration": 145453,
    "start_time": "2021-09-09T11:20:07.403Z"
   },
   {
    "duration": 4391,
    "start_time": "2021-09-09T11:22:32.859Z"
   },
   {
    "duration": 10,
    "start_time": "2021-09-09T11:22:37.341Z"
   },
   {
    "duration": 3830,
    "start_time": "2021-09-09T11:22:37.353Z"
   },
   {
    "duration": 134296,
    "start_time": "2021-09-09T11:22:41.185Z"
   },
   {
    "duration": 6158,
    "start_time": "2021-09-09T11:24:55.483Z"
   },
   {
    "duration": 98,
    "start_time": "2021-09-09T11:25:01.650Z"
   },
   {
    "duration": 21,
    "start_time": "2021-09-09T11:25:01.751Z"
   },
   {
    "duration": 167,
    "start_time": "2021-09-09T11:25:01.774Z"
   },
   {
    "duration": 4781,
    "start_time": "2021-09-09T11:25:01.943Z"
   },
   {
    "duration": 186636,
    "start_time": "2021-09-09T11:25:06.726Z"
   },
   {
    "duration": 188962,
    "start_time": "2021-09-09T11:28:13.364Z"
   },
   {
    "duration": 22,
    "start_time": "2021-09-09T11:31:22.328Z"
   },
   {
    "duration": 6301,
    "start_time": "2021-09-09T11:31:22.352Z"
   },
   {
    "duration": 475,
    "start_time": "2021-09-09T11:31:28.657Z"
   },
   {
    "duration": -894,
    "start_time": "2021-09-09T11:31:30.028Z"
   },
   {
    "duration": -896,
    "start_time": "2021-09-09T11:31:30.031Z"
   },
   {
    "duration": -903,
    "start_time": "2021-09-09T11:31:30.039Z"
   },
   {
    "duration": -905,
    "start_time": "2021-09-09T11:31:30.042Z"
   },
   {
    "duration": -908,
    "start_time": "2021-09-09T11:31:30.046Z"
   },
   {
    "duration": -910,
    "start_time": "2021-09-09T11:31:30.049Z"
   },
   {
    "duration": -914,
    "start_time": "2021-09-09T11:31:30.054Z"
   },
   {
    "duration": -915,
    "start_time": "2021-09-09T11:31:30.056Z"
   },
   {
    "duration": -915,
    "start_time": "2021-09-09T11:31:30.059Z"
   },
   {
    "duration": -916,
    "start_time": "2021-09-09T11:31:30.062Z"
   },
   {
    "duration": -917,
    "start_time": "2021-09-09T11:31:30.064Z"
   },
   {
    "duration": -919,
    "start_time": "2021-09-09T11:31:30.068Z"
   },
   {
    "duration": -922,
    "start_time": "2021-09-09T11:31:30.072Z"
   },
   {
    "duration": -923,
    "start_time": "2021-09-09T11:31:30.075Z"
   },
   {
    "duration": -928,
    "start_time": "2021-09-09T11:31:30.081Z"
   },
   {
    "duration": -929,
    "start_time": "2021-09-09T11:31:30.084Z"
   },
   {
    "duration": -931,
    "start_time": "2021-09-09T11:31:30.087Z"
   },
   {
    "duration": 3738,
    "start_time": "2021-09-09T11:35:08.112Z"
   },
   {
    "duration": 12,
    "start_time": "2021-09-09T11:35:14.349Z"
   },
   {
    "duration": 3979,
    "start_time": "2021-09-09T11:35:42.077Z"
   },
   {
    "duration": 106,
    "start_time": "2021-09-09T11:35:46.142Z"
   },
   {
    "duration": 160,
    "start_time": "2021-09-09T11:35:46.251Z"
   },
   {
    "duration": 2202,
    "start_time": "2021-09-09T11:35:46.413Z"
   },
   {
    "duration": 1473,
    "start_time": "2021-09-09T11:35:48.617Z"
   },
   {
    "duration": -894,
    "start_time": "2021-09-09T11:35:50.987Z"
   },
   {
    "duration": -908,
    "start_time": "2021-09-09T11:35:51.002Z"
   },
   {
    "duration": -913,
    "start_time": "2021-09-09T11:35:51.008Z"
   },
   {
    "duration": -916,
    "start_time": "2021-09-09T11:35:51.012Z"
   },
   {
    "duration": -919,
    "start_time": "2021-09-09T11:35:51.016Z"
   },
   {
    "duration": -921,
    "start_time": "2021-09-09T11:35:51.019Z"
   },
   {
    "duration": -922,
    "start_time": "2021-09-09T11:35:51.021Z"
   },
   {
    "duration": -925,
    "start_time": "2021-09-09T11:35:51.026Z"
   },
   {
    "duration": -928,
    "start_time": "2021-09-09T11:35:51.030Z"
   },
   {
    "duration": -930,
    "start_time": "2021-09-09T11:35:51.033Z"
   },
   {
    "duration": -933,
    "start_time": "2021-09-09T11:35:51.037Z"
   },
   {
    "duration": -937,
    "start_time": "2021-09-09T11:35:51.042Z"
   },
   {
    "duration": 9,
    "start_time": "2021-09-09T11:36:55.844Z"
   },
   {
    "duration": 2104,
    "start_time": "2021-09-09T11:37:31.060Z"
   },
   {
    "duration": 6,
    "start_time": "2021-09-09T11:37:33.166Z"
   },
   {
    "duration": 2099,
    "start_time": "2021-09-09T11:39:06.248Z"
   },
   {
    "duration": 83944,
    "start_time": "2021-09-09T11:39:08.349Z"
   },
   {
    "duration": 1854,
    "start_time": "2021-09-09T11:40:32.296Z"
   },
   {
    "duration": 4,
    "start_time": "2021-09-09T11:40:34.243Z"
   },
   {
    "duration": 112,
    "start_time": "2021-09-09T11:40:34.250Z"
   },
   {
    "duration": 181,
    "start_time": "2021-09-09T11:40:34.364Z"
   },
   {
    "duration": 197,
    "start_time": "2021-09-09T11:40:34.547Z"
   },
   {
    "duration": 449,
    "start_time": "2021-09-09T11:40:34.747Z"
   },
   {
    "duration": -904,
    "start_time": "2021-09-09T11:40:36.102Z"
   },
   {
    "duration": 25,
    "start_time": "2021-09-09T11:41:11.179Z"
   },
   {
    "duration": 115,
    "start_time": "2021-09-09T11:45:38.482Z"
   },
   {
    "duration": 162,
    "start_time": "2021-09-09T11:46:24.809Z"
   },
   {
    "duration": 142,
    "start_time": "2021-09-09T11:46:42.793Z"
   },
   {
    "duration": 119,
    "start_time": "2021-09-09T11:46:46.489Z"
   },
   {
    "duration": 20,
    "start_time": "2021-09-09T11:46:56.740Z"
   },
   {
    "duration": 405,
    "start_time": "2021-09-09T11:47:43.312Z"
   },
   {
    "duration": 162,
    "start_time": "2021-09-09T11:48:14.153Z"
   },
   {
    "duration": 82,
    "start_time": "2021-09-09T11:48:20.760Z"
   },
   {
    "duration": 35,
    "start_time": "2021-09-09T11:49:09.328Z"
   },
   {
    "duration": 714,
    "start_time": "2021-09-09T11:49:16.520Z"
   },
   {
    "duration": 103,
    "start_time": "2021-09-09T11:49:27.143Z"
   },
   {
    "duration": 39,
    "start_time": "2021-09-09T11:51:23.039Z"
   },
   {
    "duration": 3403,
    "start_time": "2021-09-09T11:55:03.833Z"
   },
   {
    "duration": 4,
    "start_time": "2021-09-09T11:55:14.974Z"
   },
   {
    "duration": 3422,
    "start_time": "2021-09-09T11:55:17.553Z"
   },
   {
    "duration": 3,
    "start_time": "2021-09-09T11:59:15.272Z"
   },
   {
    "duration": 33,
    "start_time": "2021-09-09T11:59:29.385Z"
   },
   {
    "duration": 398,
    "start_time": "2021-09-09T12:01:53.695Z"
   },
   {
    "duration": 83346,
    "start_time": "2021-09-09T12:03:07.909Z"
   },
   {
    "duration": 10,
    "start_time": "2021-09-09T12:04:44.156Z"
   },
   {
    "duration": 131,
    "start_time": "2021-09-09T12:30:46.927Z"
   },
   {
    "duration": 11,
    "start_time": "2021-09-09T12:31:01.664Z"
   },
   {
    "duration": 11,
    "start_time": "2021-09-09T12:34:08.368Z"
   },
   {
    "duration": 403,
    "start_time": "2021-09-09T13:55:44.327Z"
   },
   {
    "duration": 373,
    "start_time": "2021-09-09T13:56:01.468Z"
   },
   {
    "duration": 3,
    "start_time": "2021-09-09T13:56:27.515Z"
   },
   {
    "duration": 4,
    "start_time": "2021-09-09T13:57:02.066Z"
   },
   {
    "duration": 5,
    "start_time": "2021-09-09T13:59:03.330Z"
   },
   {
    "duration": 4,
    "start_time": "2021-09-09T14:00:12.490Z"
   },
   {
    "duration": 684,
    "start_time": "2021-09-09T14:13:20.449Z"
   },
   {
    "duration": 547,
    "start_time": "2021-09-09T14:14:48.206Z"
   },
   {
    "duration": 430,
    "start_time": "2021-09-09T14:15:51.398Z"
   },
   {
    "duration": 4,
    "start_time": "2021-09-09T14:16:15.062Z"
   },
   {
    "duration": 757,
    "start_time": "2021-09-09T14:16:56.596Z"
   },
   {
    "duration": 112,
    "start_time": "2021-09-09T14:18:41.043Z"
   },
   {
    "duration": 745,
    "start_time": "2021-09-09T14:18:53.829Z"
   },
   {
    "duration": 478,
    "start_time": "2021-09-09T14:19:07.197Z"
   },
   {
    "duration": 377,
    "start_time": "2021-09-09T14:22:49.972Z"
   },
   {
    "duration": 742,
    "start_time": "2021-09-09T14:23:05.124Z"
   },
   {
    "duration": 175,
    "start_time": "2021-09-09T14:31:31.236Z"
   },
   {
    "duration": 372,
    "start_time": "2021-09-09T14:31:44.466Z"
   },
   {
    "duration": 122,
    "start_time": "2021-09-09T14:33:10.049Z"
   },
   {
    "duration": 360,
    "start_time": "2021-09-09T14:33:18.347Z"
   },
   {
    "duration": 129,
    "start_time": "2021-09-09T14:44:09.974Z"
   },
   {
    "duration": 377,
    "start_time": "2021-09-09T14:44:17.805Z"
   },
   {
    "duration": 384,
    "start_time": "2021-09-09T14:44:58.285Z"
   },
   {
    "duration": 532,
    "start_time": "2021-09-09T14:45:58.251Z"
   },
   {
    "duration": 425,
    "start_time": "2021-09-09T14:48:22.804Z"
   },
   {
    "duration": 514,
    "start_time": "2021-09-09T14:48:41.796Z"
   },
   {
    "duration": 4,
    "start_time": "2021-09-09T14:49:05.707Z"
   },
   {
    "duration": 713,
    "start_time": "2021-09-09T14:50:17.771Z"
   },
   {
    "duration": 717,
    "start_time": "2021-09-09T14:50:53.291Z"
   },
   {
    "duration": 5,
    "start_time": "2021-09-09T14:52:03.475Z"
   },
   {
    "duration": 5,
    "start_time": "2021-09-09T14:52:16.730Z"
   },
   {
    "duration": 129067,
    "start_time": "2021-09-09T14:53:16.426Z"
   },
   {
    "duration": 3052,
    "start_time": "2021-09-09T14:55:25.495Z"
   },
   {
    "duration": 3744,
    "start_time": "2021-09-09T14:55:28.550Z"
   },
   {
    "duration": 8,
    "start_time": "2021-09-09T14:59:04.385Z"
   },
   {
    "duration": 435,
    "start_time": "2021-09-09T14:59:25.335Z"
   },
   {
    "duration": 19,
    "start_time": "2021-09-09T15:00:02.380Z"
   },
   {
    "duration": 365,
    "start_time": "2021-09-09T15:00:54.249Z"
   },
   {
    "duration": 332,
    "start_time": "2021-09-09T15:01:03.472Z"
   },
   {
    "duration": 71,
    "start_time": "2021-09-09T15:01:22.071Z"
   },
   {
    "duration": 5,
    "start_time": "2021-09-09T15:01:42.223Z"
   },
   {
    "duration": 420,
    "start_time": "2021-09-09T15:01:55.888Z"
   },
   {
    "duration": 155,
    "start_time": "2021-09-09T15:02:48.296Z"
   },
   {
    "duration": 20,
    "start_time": "2021-09-09T15:04:34.831Z"
   },
   {
    "duration": 463,
    "start_time": "2021-09-09T15:04:43.142Z"
   },
   {
    "duration": 602,
    "start_time": "2021-09-09T15:05:15.039Z"
   },
   {
    "duration": 102,
    "start_time": "2021-09-09T15:06:18.742Z"
   },
   {
    "duration": 494,
    "start_time": "2021-09-09T15:08:38.574Z"
   },
   {
    "duration": 138,
    "start_time": "2021-09-09T15:11:16.077Z"
   },
   {
    "duration": 229,
    "start_time": "2021-09-09T15:11:25.229Z"
   },
   {
    "duration": 320,
    "start_time": "2021-09-09T15:11:35.821Z"
   },
   {
    "duration": 39,
    "start_time": "2021-09-09T15:11:51.806Z"
   },
   {
    "duration": 4,
    "start_time": "2021-09-09T15:12:27.964Z"
   },
   {
    "duration": 4,
    "start_time": "2021-09-09T15:12:40.229Z"
   },
   {
    "duration": 124,
    "start_time": "2021-09-09T15:12:49.302Z"
   },
   {
    "duration": 154,
    "start_time": "2021-09-09T15:12:55.020Z"
   },
   {
    "duration": 365,
    "start_time": "2021-09-09T15:13:00.563Z"
   },
   {
    "duration": 17,
    "start_time": "2021-09-09T15:13:22.651Z"
   },
   {
    "duration": 4,
    "start_time": "2021-09-09T15:13:26.156Z"
   },
   {
    "duration": 17,
    "start_time": "2021-09-09T15:14:02.612Z"
   },
   {
    "duration": 4,
    "start_time": "2021-09-09T15:14:04.123Z"
   },
   {
    "duration": 4,
    "start_time": "2021-09-09T15:14:16.483Z"
   },
   {
    "duration": 374,
    "start_time": "2021-09-09T15:14:35.275Z"
   },
   {
    "duration": 45,
    "start_time": "2021-09-09T15:22:23.096Z"
   },
   {
    "duration": 9,
    "start_time": "2021-09-09T15:22:24.801Z"
   },
   {
    "duration": 70,
    "start_time": "2021-09-09T15:24:43.080Z"
   },
   {
    "duration": 108,
    "start_time": "2021-09-09T15:27:51.242Z"
   },
   {
    "duration": 100,
    "start_time": "2021-09-09T15:30:17.247Z"
   },
   {
    "duration": 195,
    "start_time": "2021-09-09T15:31:58.647Z"
   },
   {
    "duration": 1663,
    "start_time": "2021-09-09T15:55:53.100Z"
   },
   {
    "duration": 63,
    "start_time": "2021-09-09T15:55:54.765Z"
   },
   {
    "duration": 9,
    "start_time": "2021-09-09T15:55:54.831Z"
   },
   {
    "duration": 13,
    "start_time": "2021-09-09T15:55:54.842Z"
   },
   {
    "duration": 4,
    "start_time": "2021-09-09T15:55:54.857Z"
   },
   {
    "duration": 26,
    "start_time": "2021-09-09T15:55:54.863Z"
   },
   {
    "duration": 50,
    "start_time": "2021-09-09T15:55:54.891Z"
   },
   {
    "duration": 33,
    "start_time": "2021-09-09T15:55:54.944Z"
   },
   {
    "duration": 180,
    "start_time": "2021-09-09T15:55:54.980Z"
   },
   {
    "duration": 3,
    "start_time": "2021-09-09T15:55:55.161Z"
   },
   {
    "duration": 36,
    "start_time": "2021-09-09T15:55:55.166Z"
   },
   {
    "duration": 23,
    "start_time": "2021-09-09T15:55:55.204Z"
   },
   {
    "duration": 18,
    "start_time": "2021-09-09T15:55:55.229Z"
   },
   {
    "duration": 17,
    "start_time": "2021-09-09T15:55:55.248Z"
   },
   {
    "duration": 4588,
    "start_time": "2021-09-09T15:55:55.267Z"
   },
   {
    "duration": 142621,
    "start_time": "2021-09-09T15:55:59.857Z"
   },
   {
    "duration": 3767,
    "start_time": "2021-09-09T15:58:22.480Z"
   },
   {
    "duration": 95,
    "start_time": "2021-09-09T15:58:26.250Z"
   },
   {
    "duration": 3910,
    "start_time": "2021-09-09T15:58:26.348Z"
   },
   {
    "duration": 128607,
    "start_time": "2021-09-09T15:58:30.260Z"
   },
   {
    "duration": 3473,
    "start_time": "2021-09-09T16:00:38.869Z"
   },
   {
    "duration": 101,
    "start_time": "2021-09-09T16:00:42.345Z"
   },
   {
    "duration": 15,
    "start_time": "2021-09-09T16:00:42.449Z"
   },
   {
    "duration": 169,
    "start_time": "2021-09-09T16:00:42.466Z"
   },
   {
    "duration": 4814,
    "start_time": "2021-09-09T16:00:42.640Z"
   },
   {
    "duration": 181031,
    "start_time": "2021-09-09T16:00:47.456Z"
   },
   {
    "duration": 4269,
    "start_time": "2021-09-09T16:03:48.489Z"
   },
   {
    "duration": 102,
    "start_time": "2021-09-09T16:03:52.842Z"
   },
   {
    "duration": 15,
    "start_time": "2021-09-09T16:03:52.946Z"
   },
   {
    "duration": 168,
    "start_time": "2021-09-09T16:03:52.963Z"
   },
   {
    "duration": 2128,
    "start_time": "2021-09-09T16:03:53.133Z"
   },
   {
    "duration": 82609,
    "start_time": "2021-09-09T16:03:55.263Z"
   },
   {
    "duration": 2175,
    "start_time": "2021-09-09T16:05:17.873Z"
   },
   {
    "duration": 192,
    "start_time": "2021-09-09T16:05:20.051Z"
   },
   {
    "duration": 14,
    "start_time": "2021-09-09T16:05:20.245Z"
   },
   {
    "duration": 17,
    "start_time": "2021-09-09T16:05:20.261Z"
   },
   {
    "duration": 24,
    "start_time": "2021-09-09T16:05:20.280Z"
   },
   {
    "duration": 16,
    "start_time": "2021-09-09T16:05:20.306Z"
   },
   {
    "duration": 120,
    "start_time": "2021-09-09T16:05:20.323Z"
   },
   {
    "duration": 202,
    "start_time": "2021-09-09T16:05:20.446Z"
   },
   {
    "duration": 198,
    "start_time": "2021-09-09T16:05:20.650Z"
   },
   {
    "duration": 198,
    "start_time": "2021-09-09T16:05:20.850Z"
   },
   {
    "duration": 2,
    "start_time": "2021-09-09T16:15:29.185Z"
   },
   {
    "duration": 349,
    "start_time": "2021-09-09T17:34:51.797Z"
   },
   {
    "duration": 755,
    "start_time": "2021-09-09T17:35:18.422Z"
   },
   {
    "duration": 481,
    "start_time": "2021-09-09T17:57:04.784Z"
   },
   {
    "duration": 416,
    "start_time": "2021-09-09T17:58:01.346Z"
   },
   {
    "duration": 12,
    "start_time": "2021-09-09T18:00:36.536Z"
   },
   {
    "duration": 198,
    "start_time": "2021-09-09T18:02:29.719Z"
   },
   {
    "duration": 199,
    "start_time": "2021-09-09T18:02:55.672Z"
   },
   {
    "duration": 195,
    "start_time": "2021-09-09T18:03:39.398Z"
   },
   {
    "duration": 248,
    "start_time": "2021-09-09T18:04:11.097Z"
   },
   {
    "duration": 201,
    "start_time": "2021-09-09T18:04:26.086Z"
   },
   {
    "duration": 131,
    "start_time": "2021-09-09T18:14:09.139Z"
   },
   {
    "duration": 223,
    "start_time": "2021-09-09T18:14:15.779Z"
   },
   {
    "duration": 4,
    "start_time": "2021-09-09T18:15:54.462Z"
   },
   {
    "duration": 43,
    "start_time": "2021-09-09T18:16:26.435Z"
   },
   {
    "duration": 650,
    "start_time": "2021-09-09T18:19:32.340Z"
   },
   {
    "duration": 5,
    "start_time": "2021-09-09T18:20:12.404Z"
   },
   {
    "duration": 2327,
    "start_time": "2021-09-09T18:20:34.339Z"
   },
   {
    "duration": 226,
    "start_time": "2021-09-09T18:20:47.136Z"
   },
   {
    "duration": 228,
    "start_time": "2021-09-09T18:22:39.802Z"
   },
   {
    "duration": 226,
    "start_time": "2021-09-09T18:23:27.076Z"
   },
   {
    "duration": 226,
    "start_time": "2021-09-09T18:24:27.236Z"
   },
   {
    "duration": 5,
    "start_time": "2021-09-09T20:48:34.326Z"
   },
   {
    "duration": 7,
    "start_time": "2021-09-09T20:58:34.882Z"
   },
   {
    "duration": 6,
    "start_time": "2021-09-09T20:58:47.026Z"
   },
   {
    "duration": 139390,
    "start_time": "2021-09-09T21:07:21.722Z"
   },
   {
    "duration": 10,
    "start_time": "2021-09-09T21:12:22.409Z"
   },
   {
    "duration": 141993,
    "start_time": "2021-09-09T21:16:48.003Z"
   },
   {
    "duration": 122,
    "start_time": "2021-09-09T21:19:09.998Z"
   },
   {
    "duration": 11,
    "start_time": "2021-09-09T21:19:27.388Z"
   },
   {
    "duration": 248,
    "start_time": "2021-09-09T21:19:38.289Z"
   },
   {
    "duration": 617,
    "start_time": "2021-09-09T21:20:42.724Z"
   },
   {
    "duration": 134,
    "start_time": "2021-09-09T21:23:08.862Z"
   },
   {
    "duration": 825,
    "start_time": "2021-09-10T07:36:46.218Z"
   },
   {
    "duration": 12192,
    "start_time": "2021-09-10T07:36:59.030Z"
   },
   {
    "duration": 19,
    "start_time": "2021-09-10T07:37:12.453Z"
   },
   {
    "duration": 3,
    "start_time": "2021-09-10T07:37:41.077Z"
   },
   {
    "duration": 260,
    "start_time": "2021-09-10T07:37:52.487Z"
   },
   {
    "duration": 11463,
    "start_time": "2021-09-10T07:37:58.601Z"
   },
   {
    "duration": 4,
    "start_time": "2021-09-10T07:38:12.433Z"
   },
   {
    "duration": 4,
    "start_time": "2021-09-10T07:38:16.118Z"
   },
   {
    "duration": 11643,
    "start_time": "2021-09-10T07:38:22.186Z"
   },
   {
    "duration": 4,
    "start_time": "2021-09-10T07:38:33.831Z"
   },
   {
    "duration": 18,
    "start_time": "2021-09-10T07:39:09.972Z"
   },
   {
    "duration": 308,
    "start_time": "2021-10-01T17:37:47.336Z"
   },
   {
    "duration": 1411,
    "start_time": "2021-10-01T17:37:53.104Z"
   },
   {
    "duration": 52,
    "start_time": "2021-10-01T17:37:54.518Z"
   },
   {
    "duration": 19,
    "start_time": "2021-10-01T17:37:54.573Z"
   },
   {
    "duration": 17,
    "start_time": "2021-10-01T17:37:54.596Z"
   },
   {
    "duration": 6,
    "start_time": "2021-10-01T17:37:54.616Z"
   },
   {
    "duration": 74,
    "start_time": "2021-10-01T17:37:54.624Z"
   },
   {
    "duration": 19,
    "start_time": "2021-10-01T17:37:54.700Z"
   },
   {
    "duration": 25,
    "start_time": "2021-10-01T17:37:54.723Z"
   },
   {
    "duration": 56,
    "start_time": "2021-10-01T17:37:54.751Z"
   },
   {
    "duration": 73,
    "start_time": "2021-10-01T17:37:54.809Z"
   },
   {
    "duration": 267,
    "start_time": "2021-10-01T17:37:54.885Z"
   },
   {
    "duration": 3,
    "start_time": "2021-10-01T17:37:55.155Z"
   },
   {
    "duration": 23,
    "start_time": "2021-10-01T17:37:55.160Z"
   },
   {
    "duration": 7,
    "start_time": "2021-10-01T17:37:55.187Z"
   },
   {
    "duration": 10,
    "start_time": "2021-10-01T17:37:55.197Z"
   },
   {
    "duration": 4353,
    "start_time": "2021-10-01T17:37:55.209Z"
   },
   {
    "duration": 175917,
    "start_time": "2021-10-01T17:37:59.565Z"
   },
   {
    "duration": 3800,
    "start_time": "2021-10-01T17:40:55.485Z"
   },
   {
    "duration": 95,
    "start_time": "2021-10-01T17:40:59.297Z"
   },
   {
    "duration": 4796,
    "start_time": "2021-10-01T17:40:59.395Z"
   },
   {
    "duration": 181348,
    "start_time": "2021-10-01T17:41:04.194Z"
   },
   {
    "duration": 3648,
    "start_time": "2021-10-01T17:44:05.544Z"
   },
   {
    "duration": 104,
    "start_time": "2021-10-01T17:44:09.282Z"
   },
   {
    "duration": 23,
    "start_time": "2021-10-01T17:44:09.390Z"
   },
   {
    "duration": 248,
    "start_time": "2021-10-01T17:44:09.415Z"
   },
   {
    "duration": 6226,
    "start_time": "2021-10-01T17:44:09.666Z"
   },
   {
    "duration": 244757,
    "start_time": "2021-10-01T17:44:15.895Z"
   },
   {
    "duration": 4649,
    "start_time": "2021-10-01T17:48:20.656Z"
   },
   {
    "duration": 103,
    "start_time": "2021-10-01T17:48:25.383Z"
   },
   {
    "duration": 25,
    "start_time": "2021-10-01T17:48:25.490Z"
   },
   {
    "duration": 265,
    "start_time": "2021-10-01T17:48:25.518Z"
   },
   {
    "duration": 2889,
    "start_time": "2021-10-01T17:48:25.786Z"
   },
   {
    "duration": 1453,
    "start_time": "2021-10-01T17:50:23.724Z"
   },
   {
    "duration": 57,
    "start_time": "2021-10-01T17:50:25.182Z"
   },
   {
    "duration": 12,
    "start_time": "2021-10-01T17:50:25.245Z"
   },
   {
    "duration": 40,
    "start_time": "2021-10-01T17:50:25.260Z"
   },
   {
    "duration": 8,
    "start_time": "2021-10-01T17:50:25.303Z"
   },
   {
    "duration": 41,
    "start_time": "2021-10-01T17:50:25.313Z"
   },
   {
    "duration": 21,
    "start_time": "2021-10-01T17:50:25.382Z"
   },
   {
    "duration": 48,
    "start_time": "2021-10-01T17:50:25.406Z"
   },
   {
    "duration": 272,
    "start_time": "2021-10-01T17:50:25.457Z"
   },
   {
    "duration": 4,
    "start_time": "2021-10-01T17:50:25.731Z"
   },
   {
    "duration": 13,
    "start_time": "2021-10-01T17:50:25.738Z"
   },
   {
    "duration": 9,
    "start_time": "2021-10-01T17:50:25.754Z"
   },
   {
    "duration": 19,
    "start_time": "2021-10-01T17:50:25.766Z"
   },
   {
    "duration": 4595,
    "start_time": "2021-10-01T17:50:25.788Z"
   },
   {
    "duration": 201785,
    "start_time": "2021-10-01T17:50:30.386Z"
   },
   {
    "duration": 3718,
    "start_time": "2021-10-01T17:53:52.173Z"
   },
   {
    "duration": 101,
    "start_time": "2021-10-01T17:53:55.985Z"
   },
   {
    "duration": 4514,
    "start_time": "2021-10-01T17:53:56.089Z"
   },
   {
    "duration": 168183,
    "start_time": "2021-10-01T17:54:00.606Z"
   },
   {
    "duration": 3801,
    "start_time": "2021-10-01T17:56:48.792Z"
   },
   {
    "duration": 101,
    "start_time": "2021-10-01T17:56:52.687Z"
   },
   {
    "duration": 23,
    "start_time": "2021-10-01T17:56:52.793Z"
   },
   {
    "duration": 263,
    "start_time": "2021-10-01T17:56:52.819Z"
   },
   {
    "duration": 5821,
    "start_time": "2021-10-01T17:56:53.084Z"
   },
   {
    "duration": 230325,
    "start_time": "2021-10-01T17:56:58.907Z"
   },
   {
    "duration": 4853,
    "start_time": "2021-10-01T18:00:49.235Z"
   },
   {
    "duration": 98,
    "start_time": "2021-10-01T18:00:54.092Z"
   },
   {
    "duration": 20,
    "start_time": "2021-10-01T18:00:54.192Z"
   },
   {
    "duration": 282,
    "start_time": "2021-10-01T18:00:54.214Z"
   },
   {
    "duration": 2724,
    "start_time": "2021-10-01T18:00:54.498Z"
   },
   {
    "duration": 108872,
    "start_time": "2021-10-01T18:00:57.225Z"
   },
   {
    "duration": 2192,
    "start_time": "2021-10-01T18:02:46.100Z"
   },
   {
    "duration": 104,
    "start_time": "2021-10-01T18:02:48.385Z"
   },
   {
    "duration": 15,
    "start_time": "2021-10-01T18:02:48.492Z"
   },
   {
    "duration": 18,
    "start_time": "2021-10-01T18:02:48.510Z"
   },
   {
    "duration": 51,
    "start_time": "2021-10-01T18:02:48.531Z"
   },
   {
    "duration": 4,
    "start_time": "2021-10-01T18:02:48.585Z"
   },
   {
    "duration": 193,
    "start_time": "2021-10-01T18:02:48.592Z"
   },
   {
    "duration": 294,
    "start_time": "2021-10-01T18:02:48.789Z"
   },
   {
    "duration": 104,
    "start_time": "2021-10-01T18:02:49.086Z"
   },
   {
    "duration": 104,
    "start_time": "2021-10-01T18:02:49.282Z"
   },
   {
    "duration": 99,
    "start_time": "2021-10-01T18:02:49.390Z"
   },
   {
    "duration": 203983,
    "start_time": "2021-10-01T18:02:49.491Z"
   },
   {
    "duration": 14,
    "start_time": "2021-10-01T18:06:13.482Z"
   },
   {
    "duration": 351,
    "start_time": "2021-10-01T18:06:13.499Z"
   },
   {
    "duration": 4597,
    "start_time": "2021-10-01T18:06:18.385Z"
   }
  ],
  "kernelspec": {
   "display_name": "Python 3 (ipykernel)",
   "language": "python",
   "name": "python3"
  },
  "language_info": {
   "codemirror_mode": {
    "name": "ipython",
    "version": 3
   },
   "file_extension": ".py",
   "mimetype": "text/x-python",
   "name": "python",
   "nbconvert_exporter": "python",
   "pygments_lexer": "ipython3",
   "version": "3.9.7"
  },
  "toc": {
   "base_numbering": 1,
   "nav_menu": {},
   "number_sections": true,
   "sideBar": true,
   "skip_h1_title": true,
   "title_cell": "Содержание",
   "title_sidebar": "Contents",
   "toc_cell": true,
   "toc_position": {
    "height": "calc(100% - 180px)",
    "left": "10px",
    "top": "150px",
    "width": "401.375px"
   },
   "toc_section_display": true,
   "toc_window_display": true
  }
 },
 "nbformat": 4,
 "nbformat_minor": 2
}
