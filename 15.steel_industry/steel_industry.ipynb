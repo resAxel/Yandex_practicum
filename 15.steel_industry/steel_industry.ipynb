{
 "cells": [
  {
   "cell_type": "markdown",
   "id": "1056e4f4",
   "metadata": {},
   "source": [
    "# Оптимизация производственных расходов электроэнергии на этапе обработки стали"
   ]
  },
  {
   "cell_type": "markdown",
   "id": "03d7c9fd",
   "metadata": {},
   "source": [
    "**Заказчик:** металлургический комбинат ООО «Так закаляем сталь».\\\n",
    "**Цель проекта:** уменьшить потребление электроэнергии на этапе обработки стали.\\\n",
    "**Решение:** построить модель, которая предскажет температуру стали."
   ]
  },
  {
   "cell_type": "markdown",
   "id": "d76dd680",
   "metadata": {},
   "source": [
    "### Описание этапа обработки\n",
    "\n",
    "Сталь обрабатывают в металлическом ковше вместимостью около 100 тонн. Чтобы ковш выдерживал высокие температуры, изнутри его облицовывают огнеупорным кирпичом. Расплавленную сталь заливают в ковш и подогревают до нужной температуры графитовыми электродами. Они установлены в крышке ковша. \n",
    "\n",
    "Из сплава выводится сера (десульфурация), добавлением примесей корректируется химический состав и отбираются пробы. Сталь легируют — изменяют её состав — подавая куски сплава из бункера для сыпучих материалов или проволоку через специальный трайб-аппарат (англ. tribe, «масса»).\n",
    "\n",
    "Перед тем как первый раз ввести легирующие добавки, измеряют температуру стали и производят её химический анализ. Потом температуру на несколько минут повышают, добавляют легирующие материалы и продувают сплав инертным газом. Затем его перемешивают и снова проводят измерения. Такой цикл повторяется до достижения целевого химического состава и оптимальной температуры плавки.\n",
    "\n",
    "Тогда расплавленная сталь отправляется на доводку металла или поступает в машину непрерывной разливки. Оттуда готовый продукт выходит в виде заготовок-слябов (англ. *slab*, «плита»)."
   ]
  },
  {
   "cell_type": "markdown",
   "id": "2ef81a75",
   "metadata": {},
   "source": [
    "### Описание данных\n",
    "\n",
    "Данные состоят из файлов, полученных из разных источников:\n",
    "\n",
    "- `data_arc.csv` — данные об электродах;\n",
    "- `data_bulk.csv` — данные о подаче сыпучих материалов (объём);\n",
    "- `data_bulk_time.csv` *—* данные о подаче сыпучих материалов (время);\n",
    "- `data_gas.csv` — данные о продувке сплава газом;\n",
    "- `data_temp.csv` — результаты измерения температуры;\n",
    "- `data_wire.csv` — данные о проволочных материалах (объём);\n",
    "- `data_wire_time.csv` — данные о проволочных материалах (время).\n",
    "\n",
    "Во всех файлах столбец `key` содержит номер партии. В файлах может быть несколько строк с одинаковым значением `key`: они соответствуют разным итерациям обработки."
   ]
  },
  {
   "cell_type": "markdown",
   "id": "c990dbee",
   "metadata": {},
   "source": [
    "## Исследовательский анализ данных"
   ]
  },
  {
   "cell_type": "code",
   "execution_count": 1,
   "id": "07d62fcb",
   "metadata": {},
   "outputs": [],
   "source": [
    "import pandas as pd\n",
    "import matplotlib.pyplot as plt\n",
    "\n",
    "from sklearn.model_selection import train_test_split\n",
    "from sklearn.preprocessing import StandardScaler\n",
    "\n",
    "from sklearn.linear_model import LinearRegression\n",
    "from sklearn.ensemble import RandomForestRegressor\n",
    "from sklearn.dummy import DummyRegressor\n",
    "from sklearn.model_selection import GridSearchCV\n",
    "\n",
    "from sklearn.metrics import mean_absolute_error\n",
    "\n",
    "import warnings\n"
   ]
  },
  {
   "cell_type": "markdown",
   "id": "b01a4501",
   "metadata": {},
   "source": [
    "### Чтение данных"
   ]
  },
  {
   "cell_type": "code",
   "execution_count": 2,
   "id": "cfe58dfc",
   "metadata": {},
   "outputs": [],
   "source": [
    "data_arc = pd.read_csv('Ya_data/final_steel/data_arc.csv')\n",
    "data_bulk = pd.read_csv('Ya_data/final_steel/data_bulk.csv')\n",
    "data_bulk_time = pd.read_csv('Ya_data/final_steel/data_bulk_time.csv')\n",
    "data_gas = pd.read_csv('Ya_data/final_steel/data_gas.csv')\n",
    "data_temp = pd.read_csv('Ya_data/final_steel/data_temp.csv')\n",
    "data_wire = pd.read_csv('Ya_data/final_steel/data_wire.csv')\n",
    "data_wire_time = pd.read_csv('Ya_data/final_steel/data_wire_time.csv')"
   ]
  },
  {
   "cell_type": "markdown",
   "id": "66bca7d3",
   "metadata": {},
   "source": [
    "Посмотрим содержимое данных"
   ]
  },
  {
   "cell_type": "markdown",
   "id": "14666c9d",
   "metadata": {},
   "source": [
    "#### Данные об электродах"
   ]
  },
  {
   "cell_type": "code",
   "execution_count": 3,
   "id": "3ff744fa",
   "metadata": {},
   "outputs": [
    {
     "name": "stdout",
     "output_type": "stream",
     "text": [
      "<class 'pandas.core.frame.DataFrame'>\n",
      "RangeIndex: 14876 entries, 0 to 14875\n",
      "Data columns (total 5 columns):\n",
      "key                     14876 non-null int64\n",
      "Начало нагрева дугой    14876 non-null object\n",
      "Конец нагрева дугой     14876 non-null object\n",
      "Активная мощность       14876 non-null float64\n",
      "Реактивная мощность     14876 non-null float64\n",
      "dtypes: float64(2), int64(1), object(2)\n",
      "memory usage: 581.2+ KB\n"
     ]
    },
    {
     "data": {
      "text/html": [
       "<div>\n",
       "<style scoped>\n",
       "    .dataframe tbody tr th:only-of-type {\n",
       "        vertical-align: middle;\n",
       "    }\n",
       "\n",
       "    .dataframe tbody tr th {\n",
       "        vertical-align: top;\n",
       "    }\n",
       "\n",
       "    .dataframe thead th {\n",
       "        text-align: right;\n",
       "    }\n",
       "</style>\n",
       "<table border=\"1\" class=\"dataframe\">\n",
       "  <thead>\n",
       "    <tr style=\"text-align: right;\">\n",
       "      <th></th>\n",
       "      <th>key</th>\n",
       "      <th>Начало нагрева дугой</th>\n",
       "      <th>Конец нагрева дугой</th>\n",
       "      <th>Активная мощность</th>\n",
       "      <th>Реактивная мощность</th>\n",
       "    </tr>\n",
       "  </thead>\n",
       "  <tbody>\n",
       "    <tr>\n",
       "      <td>0</td>\n",
       "      <td>1</td>\n",
       "      <td>2019-05-03 11:02:14</td>\n",
       "      <td>2019-05-03 11:06:02</td>\n",
       "      <td>0.976059</td>\n",
       "      <td>0.687084</td>\n",
       "    </tr>\n",
       "    <tr>\n",
       "      <td>1</td>\n",
       "      <td>1</td>\n",
       "      <td>2019-05-03 11:07:28</td>\n",
       "      <td>2019-05-03 11:10:33</td>\n",
       "      <td>0.805607</td>\n",
       "      <td>0.520285</td>\n",
       "    </tr>\n",
       "    <tr>\n",
       "      <td>2</td>\n",
       "      <td>1</td>\n",
       "      <td>2019-05-03 11:11:44</td>\n",
       "      <td>2019-05-03 11:14:36</td>\n",
       "      <td>0.744363</td>\n",
       "      <td>0.498805</td>\n",
       "    </tr>\n",
       "    <tr>\n",
       "      <td>3</td>\n",
       "      <td>1</td>\n",
       "      <td>2019-05-03 11:18:14</td>\n",
       "      <td>2019-05-03 11:24:19</td>\n",
       "      <td>1.659363</td>\n",
       "      <td>1.062669</td>\n",
       "    </tr>\n",
       "    <tr>\n",
       "      <td>4</td>\n",
       "      <td>1</td>\n",
       "      <td>2019-05-03 11:26:09</td>\n",
       "      <td>2019-05-03 11:28:37</td>\n",
       "      <td>0.692755</td>\n",
       "      <td>0.414397</td>\n",
       "    </tr>\n",
       "  </tbody>\n",
       "</table>\n",
       "</div>"
      ],
      "text/plain": [
       "   key Начало нагрева дугой  Конец нагрева дугой  Активная мощность  \\\n",
       "0    1  2019-05-03 11:02:14  2019-05-03 11:06:02           0.976059   \n",
       "1    1  2019-05-03 11:07:28  2019-05-03 11:10:33           0.805607   \n",
       "2    1  2019-05-03 11:11:44  2019-05-03 11:14:36           0.744363   \n",
       "3    1  2019-05-03 11:18:14  2019-05-03 11:24:19           1.659363   \n",
       "4    1  2019-05-03 11:26:09  2019-05-03 11:28:37           0.692755   \n",
       "\n",
       "   Реактивная мощность  \n",
       "0             0.687084  \n",
       "1             0.520285  \n",
       "2             0.498805  \n",
       "3             1.062669  \n",
       "4             0.414397  "
      ]
     },
     "execution_count": 3,
     "metadata": {},
     "output_type": "execute_result"
    }
   ],
   "source": [
    "data_arc.info()\n",
    "data_arc.head() "
   ]
  },
  {
   "cell_type": "code",
   "execution_count": 4,
   "id": "097179f1",
   "metadata": {},
   "outputs": [
    {
     "data": {
      "text/plain": [
       "(-1, 4)"
      ]
     },
     "execution_count": 4,
     "metadata": {},
     "output_type": "execute_result"
    },
    {
     "data": {
      "image/png": "[encoded data removed]",
      "text/plain": [
       "<Figure size 1080x576 with 1 Axes>"
      ]
     },
     "metadata": {
      "needs_background": "light"
     },
     "output_type": "display_data"
    }
   ],
   "source": [
    "warnings.filterwarnings('ignore')\n",
    "data_arc[{'Активная мощность', 'Реактивная мощность'}].plot(figsize=(15,8), title = 'График измеренной мощности')\n",
    "axes = plt.axes()\n",
    "axes.set_ylim([-1, 4])"
   ]
  },
  {
   "cell_type": "code",
   "execution_count": 5,
   "id": "13c57a23",
   "metadata": {},
   "outputs": [
    {
     "data": {
      "text/html": [
       "<div>\n",
       "<style scoped>\n",
       "    .dataframe tbody tr th:only-of-type {\n",
       "        vertical-align: middle;\n",
       "    }\n",
       "\n",
       "    .dataframe tbody tr th {\n",
       "        vertical-align: top;\n",
       "    }\n",
       "\n",
       "    .dataframe thead th {\n",
       "        text-align: right;\n",
       "    }\n",
       "</style>\n",
       "<table border=\"1\" class=\"dataframe\">\n",
       "  <thead>\n",
       "    <tr style=\"text-align: right;\">\n",
       "      <th></th>\n",
       "      <th>key</th>\n",
       "      <th>Начало нагрева дугой</th>\n",
       "      <th>Конец нагрева дугой</th>\n",
       "      <th>Активная мощность</th>\n",
       "      <th>Реактивная мощность</th>\n",
       "    </tr>\n",
       "  </thead>\n",
       "  <tbody>\n",
       "    <tr>\n",
       "      <td>min</td>\n",
       "      <td>1</td>\n",
       "      <td>2019-05-03 11:02:14</td>\n",
       "      <td>2019-05-03 11:06:02</td>\n",
       "      <td>0.030002</td>\n",
       "      <td>-715.504924</td>\n",
       "    </tr>\n",
       "    <tr>\n",
       "      <td>max</td>\n",
       "      <td>3241</td>\n",
       "      <td>2019-09-01 04:34:47</td>\n",
       "      <td>2019-09-01 04:36:08</td>\n",
       "      <td>3.731596</td>\n",
       "      <td>2.676388</td>\n",
       "    </tr>\n",
       "  </tbody>\n",
       "</table>\n",
       "</div>"
      ],
      "text/plain": [
       "      key Начало нагрева дугой  Конец нагрева дугой  Активная мощность  \\\n",
       "min     1  2019-05-03 11:02:14  2019-05-03 11:06:02           0.030002   \n",
       "max  3241  2019-09-01 04:34:47  2019-09-01 04:36:08           3.731596   \n",
       "\n",
       "     Реактивная мощность  \n",
       "min          -715.504924  \n",
       "max             2.676388  "
      ]
     },
     "execution_count": 5,
     "metadata": {},
     "output_type": "execute_result"
    }
   ],
   "source": [
    "data_arc.agg([min, max])"
   ]
  },
  {
   "cell_type": "code",
   "execution_count": 6,
   "id": "1b44526b",
   "metadata": {},
   "outputs": [
    {
     "data": {
      "text/plain": [
       "3214"
      ]
     },
     "execution_count": 6,
     "metadata": {},
     "output_type": "execute_result"
    }
   ],
   "source": [
    "len(data_arc['key'].unique()) #посчитаем колличество партий"
   ]
  },
  {
   "cell_type": "markdown",
   "id": "8ac91c81",
   "metadata": {},
   "source": [
    "В данных имеется аномальное значение реактивной мощности."
   ]
  },
  {
   "cell_type": "code",
   "execution_count": 7,
   "id": "2dfc61c9",
   "metadata": {},
   "outputs": [],
   "source": [
    "# Меняем формат времени на правильный\n",
    "data_arc['Начало нагрева дугой'] = pd.to_datetime(data_arc['Начало нагрева дугой'])\n",
    "data_arc['Конец нагрева дугой'] = pd.to_datetime(data_arc['Конец нагрева дугой'])"
   ]
  },
  {
   "cell_type": "code",
   "execution_count": 8,
   "id": "d55c3a97",
   "metadata": {},
   "outputs": [
    {
     "data": {
      "text/plain": [
       "<matplotlib.axes._subplots.AxesSubplot at 0x1e149e00b48>"
      ]
     },
     "execution_count": 8,
     "metadata": {},
     "output_type": "execute_result"
    },
    {
     "data": {
      "image/png": "[encoded data removed]",
      "text/plain": [
       "<Figure size 1080x576 with 1 Axes>"
      ]
     },
     "metadata": {
      "needs_background": "light"
     },
     "output_type": "display_data"
    }
   ],
   "source": [
    "data_arc[{'Начало нагрева дугой', 'Конец нагрева дугой'}].plot(figsize=(15,8), title = 'Время нагрева')"
   ]
  },
  {
   "cell_type": "markdown",
   "id": "72b44369",
   "metadata": {},
   "source": [
    "На графике времени есть ступенька. Видимо была оснановка записи или всего техпроцесса. В целом данные записаны последовательно, аномалий нет."
   ]
  },
  {
   "cell_type": "markdown",
   "id": "346add13",
   "metadata": {},
   "source": [
    "#### Данные о подаче сыпучих материалов (объём и время)"
   ]
  },
  {
   "cell_type": "code",
   "execution_count": 9,
   "id": "cb87d248",
   "metadata": {},
   "outputs": [
    {
     "name": "stdout",
     "output_type": "stream",
     "text": [
      "<class 'pandas.core.frame.DataFrame'>\n",
      "RangeIndex: 3129 entries, 0 to 3128\n",
      "Data columns (total 16 columns):\n",
      "key        3129 non-null int64\n",
      "Bulk 1     252 non-null float64\n",
      "Bulk 2     22 non-null float64\n",
      "Bulk 3     1298 non-null float64\n",
      "Bulk 4     1014 non-null float64\n",
      "Bulk 5     77 non-null float64\n",
      "Bulk 6     576 non-null float64\n",
      "Bulk 7     25 non-null float64\n",
      "Bulk 8     1 non-null float64\n",
      "Bulk 9     19 non-null float64\n",
      "Bulk 10    176 non-null float64\n",
      "Bulk 11    177 non-null float64\n",
      "Bulk 12    2450 non-null float64\n",
      "Bulk 13    18 non-null float64\n",
      "Bulk 14    2806 non-null float64\n",
      "Bulk 15    2248 non-null float64\n",
      "dtypes: float64(15), int64(1)\n",
      "memory usage: 391.2 KB\n"
     ]
    },
    {
     "data": {
      "text/html": [
       "<div>\n",
       "<style scoped>\n",
       "    .dataframe tbody tr th:only-of-type {\n",
       "        vertical-align: middle;\n",
       "    }\n",
       "\n",
       "    .dataframe tbody tr th {\n",
       "        vertical-align: top;\n",
       "    }\n",
       "\n",
       "    .dataframe thead th {\n",
       "        text-align: right;\n",
       "    }\n",
       "</style>\n",
       "<table border=\"1\" class=\"dataframe\">\n",
       "  <thead>\n",
       "    <tr style=\"text-align: right;\">\n",
       "      <th></th>\n",
       "      <th>key</th>\n",
       "      <th>Bulk 1</th>\n",
       "      <th>Bulk 2</th>\n",
       "      <th>Bulk 3</th>\n",
       "      <th>Bulk 4</th>\n",
       "      <th>Bulk 5</th>\n",
       "      <th>Bulk 6</th>\n",
       "      <th>Bulk 7</th>\n",
       "      <th>Bulk 8</th>\n",
       "      <th>Bulk 9</th>\n",
       "      <th>Bulk 10</th>\n",
       "      <th>Bulk 11</th>\n",
       "      <th>Bulk 12</th>\n",
       "      <th>Bulk 13</th>\n",
       "      <th>Bulk 14</th>\n",
       "      <th>Bulk 15</th>\n",
       "    </tr>\n",
       "  </thead>\n",
       "  <tbody>\n",
       "    <tr>\n",
       "      <td>0</td>\n",
       "      <td>1</td>\n",
       "      <td>NaN</td>\n",
       "      <td>NaN</td>\n",
       "      <td>NaN</td>\n",
       "      <td>43.0</td>\n",
       "      <td>NaN</td>\n",
       "      <td>NaN</td>\n",
       "      <td>NaN</td>\n",
       "      <td>NaN</td>\n",
       "      <td>NaN</td>\n",
       "      <td>NaN</td>\n",
       "      <td>NaN</td>\n",
       "      <td>206.0</td>\n",
       "      <td>NaN</td>\n",
       "      <td>150.0</td>\n",
       "      <td>154.0</td>\n",
       "    </tr>\n",
       "    <tr>\n",
       "      <td>1</td>\n",
       "      <td>2</td>\n",
       "      <td>NaN</td>\n",
       "      <td>NaN</td>\n",
       "      <td>NaN</td>\n",
       "      <td>73.0</td>\n",
       "      <td>NaN</td>\n",
       "      <td>NaN</td>\n",
       "      <td>NaN</td>\n",
       "      <td>NaN</td>\n",
       "      <td>NaN</td>\n",
       "      <td>NaN</td>\n",
       "      <td>NaN</td>\n",
       "      <td>206.0</td>\n",
       "      <td>NaN</td>\n",
       "      <td>149.0</td>\n",
       "      <td>154.0</td>\n",
       "    </tr>\n",
       "    <tr>\n",
       "      <td>2</td>\n",
       "      <td>3</td>\n",
       "      <td>NaN</td>\n",
       "      <td>NaN</td>\n",
       "      <td>NaN</td>\n",
       "      <td>34.0</td>\n",
       "      <td>NaN</td>\n",
       "      <td>NaN</td>\n",
       "      <td>NaN</td>\n",
       "      <td>NaN</td>\n",
       "      <td>NaN</td>\n",
       "      <td>NaN</td>\n",
       "      <td>NaN</td>\n",
       "      <td>205.0</td>\n",
       "      <td>NaN</td>\n",
       "      <td>152.0</td>\n",
       "      <td>153.0</td>\n",
       "    </tr>\n",
       "    <tr>\n",
       "      <td>3</td>\n",
       "      <td>4</td>\n",
       "      <td>NaN</td>\n",
       "      <td>NaN</td>\n",
       "      <td>NaN</td>\n",
       "      <td>81.0</td>\n",
       "      <td>NaN</td>\n",
       "      <td>NaN</td>\n",
       "      <td>NaN</td>\n",
       "      <td>NaN</td>\n",
       "      <td>NaN</td>\n",
       "      <td>NaN</td>\n",
       "      <td>NaN</td>\n",
       "      <td>207.0</td>\n",
       "      <td>NaN</td>\n",
       "      <td>153.0</td>\n",
       "      <td>154.0</td>\n",
       "    </tr>\n",
       "    <tr>\n",
       "      <td>4</td>\n",
       "      <td>5</td>\n",
       "      <td>NaN</td>\n",
       "      <td>NaN</td>\n",
       "      <td>NaN</td>\n",
       "      <td>78.0</td>\n",
       "      <td>NaN</td>\n",
       "      <td>NaN</td>\n",
       "      <td>NaN</td>\n",
       "      <td>NaN</td>\n",
       "      <td>NaN</td>\n",
       "      <td>NaN</td>\n",
       "      <td>NaN</td>\n",
       "      <td>203.0</td>\n",
       "      <td>NaN</td>\n",
       "      <td>151.0</td>\n",
       "      <td>152.0</td>\n",
       "    </tr>\n",
       "  </tbody>\n",
       "</table>\n",
       "</div>"
      ],
      "text/plain": [
       "   key  Bulk 1  Bulk 2  Bulk 3  Bulk 4  Bulk 5  Bulk 6  Bulk 7  Bulk 8  \\\n",
       "0    1     NaN     NaN     NaN    43.0     NaN     NaN     NaN     NaN   \n",
       "1    2     NaN     NaN     NaN    73.0     NaN     NaN     NaN     NaN   \n",
       "2    3     NaN     NaN     NaN    34.0     NaN     NaN     NaN     NaN   \n",
       "3    4     NaN     NaN     NaN    81.0     NaN     NaN     NaN     NaN   \n",
       "4    5     NaN     NaN     NaN    78.0     NaN     NaN     NaN     NaN   \n",
       "\n",
       "   Bulk 9  Bulk 10  Bulk 11  Bulk 12  Bulk 13  Bulk 14  Bulk 15  \n",
       "0     NaN      NaN      NaN    206.0      NaN    150.0    154.0  \n",
       "1     NaN      NaN      NaN    206.0      NaN    149.0    154.0  \n",
       "2     NaN      NaN      NaN    205.0      NaN    152.0    153.0  \n",
       "3     NaN      NaN      NaN    207.0      NaN    153.0    154.0  \n",
       "4     NaN      NaN      NaN    203.0      NaN    151.0    152.0  "
      ]
     },
     "execution_count": 9,
     "metadata": {},
     "output_type": "execute_result"
    }
   ],
   "source": [
    "data_bulk.info() #данные о подаче сыпучих материалов (объём)\n",
    "data_bulk.head()"
   ]
  },
  {
   "cell_type": "code",
   "execution_count": 10,
   "id": "4db5021a",
   "metadata": {},
   "outputs": [
    {
     "data": {
      "text/plain": [
       "<matplotlib.axes._subplots.AxesSubplot at 0x1e14c1ab688>"
      ]
     },
     "execution_count": 10,
     "metadata": {},
     "output_type": "execute_result"
    },
    {
     "data": {
      "image/png": "[encoded data removed]",
      "text/plain": [
       "<Figure size 1080x576 with 1 Axes>"
      ]
     },
     "metadata": {
      "needs_background": "light"
     },
     "output_type": "display_data"
    }
   ],
   "source": [
    "data_bulk.drop(['key'], axis = 1).plot(figsize=(15,8), title = 'Объем подачи сыпучих материалов')"
   ]
  },
  {
   "cell_type": "code",
   "execution_count": 11,
   "id": "bd192ef1",
   "metadata": {},
   "outputs": [
    {
     "data": {
      "text/html": [
       "<div>\n",
       "<style scoped>\n",
       "    .dataframe tbody tr th:only-of-type {\n",
       "        vertical-align: middle;\n",
       "    }\n",
       "\n",
       "    .dataframe tbody tr th {\n",
       "        vertical-align: top;\n",
       "    }\n",
       "\n",
       "    .dataframe thead th {\n",
       "        text-align: right;\n",
       "    }\n",
       "</style>\n",
       "<table border=\"1\" class=\"dataframe\">\n",
       "  <thead>\n",
       "    <tr style=\"text-align: right;\">\n",
       "      <th></th>\n",
       "      <th>key</th>\n",
       "      <th>Bulk 1</th>\n",
       "      <th>Bulk 2</th>\n",
       "      <th>Bulk 3</th>\n",
       "      <th>Bulk 4</th>\n",
       "      <th>Bulk 5</th>\n",
       "      <th>Bulk 6</th>\n",
       "      <th>Bulk 7</th>\n",
       "      <th>Bulk 8</th>\n",
       "      <th>Bulk 9</th>\n",
       "      <th>Bulk 10</th>\n",
       "      <th>Bulk 11</th>\n",
       "      <th>Bulk 12</th>\n",
       "      <th>Bulk 13</th>\n",
       "      <th>Bulk 14</th>\n",
       "      <th>Bulk 15</th>\n",
       "    </tr>\n",
       "  </thead>\n",
       "  <tbody>\n",
       "    <tr>\n",
       "      <td>min</td>\n",
       "      <td>1</td>\n",
       "      <td>10.0</td>\n",
       "      <td>228.0</td>\n",
       "      <td>6.0</td>\n",
       "      <td>12.0</td>\n",
       "      <td>11.0</td>\n",
       "      <td>17.0</td>\n",
       "      <td>47.0</td>\n",
       "      <td>49.0</td>\n",
       "      <td>63.0</td>\n",
       "      <td>24.0</td>\n",
       "      <td>8.0</td>\n",
       "      <td>53.0</td>\n",
       "      <td>151.0</td>\n",
       "      <td>16.0</td>\n",
       "      <td>1.0</td>\n",
       "    </tr>\n",
       "    <tr>\n",
       "      <td>max</td>\n",
       "      <td>3241</td>\n",
       "      <td>185.0</td>\n",
       "      <td>325.0</td>\n",
       "      <td>454.0</td>\n",
       "      <td>281.0</td>\n",
       "      <td>603.0</td>\n",
       "      <td>503.0</td>\n",
       "      <td>772.0</td>\n",
       "      <td>49.0</td>\n",
       "      <td>147.0</td>\n",
       "      <td>159.0</td>\n",
       "      <td>313.0</td>\n",
       "      <td>1849.0</td>\n",
       "      <td>305.0</td>\n",
       "      <td>636.0</td>\n",
       "      <td>405.0</td>\n",
       "    </tr>\n",
       "  </tbody>\n",
       "</table>\n",
       "</div>"
      ],
      "text/plain": [
       "      key  Bulk 1  Bulk 2  Bulk 3  Bulk 4  Bulk 5  Bulk 6  Bulk 7  Bulk 8  \\\n",
       "min     1    10.0   228.0     6.0    12.0    11.0    17.0    47.0    49.0   \n",
       "max  3241   185.0   325.0   454.0   281.0   603.0   503.0   772.0    49.0   \n",
       "\n",
       "     Bulk 9  Bulk 10  Bulk 11  Bulk 12  Bulk 13  Bulk 14  Bulk 15  \n",
       "min    63.0     24.0      8.0     53.0    151.0     16.0      1.0  \n",
       "max   147.0    159.0    313.0   1849.0    305.0    636.0    405.0  "
      ]
     },
     "execution_count": 11,
     "metadata": {},
     "output_type": "execute_result"
    }
   ],
   "source": [
    "data_bulk.agg([min, max])"
   ]
  },
  {
   "cell_type": "code",
   "execution_count": null,
   "id": "0c07ab32",
   "metadata": {},
   "outputs": [],
   "source": []
  },
  {
   "cell_type": "code",
   "execution_count": 12,
   "id": "d36f0235",
   "metadata": {},
   "outputs": [
    {
     "name": "stdout",
     "output_type": "stream",
     "text": [
      "<class 'pandas.core.frame.DataFrame'>\n",
      "RangeIndex: 3129 entries, 0 to 3128\n",
      "Data columns (total 16 columns):\n",
      "key        3129 non-null int64\n",
      "Bulk 1     252 non-null object\n",
      "Bulk 2     22 non-null object\n",
      "Bulk 3     1298 non-null object\n",
      "Bulk 4     1014 non-null object\n",
      "Bulk 5     77 non-null object\n",
      "Bulk 6     576 non-null object\n",
      "Bulk 7     25 non-null object\n",
      "Bulk 8     1 non-null object\n",
      "Bulk 9     19 non-null object\n",
      "Bulk 10    176 non-null object\n",
      "Bulk 11    177 non-null object\n",
      "Bulk 12    2450 non-null object\n",
      "Bulk 13    18 non-null object\n",
      "Bulk 14    2806 non-null object\n",
      "Bulk 15    2248 non-null object\n",
      "dtypes: int64(1), object(15)\n",
      "memory usage: 391.2+ KB\n"
     ]
    },
    {
     "data": {
      "text/html": [
       "<div>\n",
       "<style scoped>\n",
       "    .dataframe tbody tr th:only-of-type {\n",
       "        vertical-align: middle;\n",
       "    }\n",
       "\n",
       "    .dataframe tbody tr th {\n",
       "        vertical-align: top;\n",
       "    }\n",
       "\n",
       "    .dataframe thead th {\n",
       "        text-align: right;\n",
       "    }\n",
       "</style>\n",
       "<table border=\"1\" class=\"dataframe\">\n",
       "  <thead>\n",
       "    <tr style=\"text-align: right;\">\n",
       "      <th></th>\n",
       "      <th>key</th>\n",
       "      <th>Bulk 1</th>\n",
       "      <th>Bulk 2</th>\n",
       "      <th>Bulk 3</th>\n",
       "      <th>Bulk 4</th>\n",
       "      <th>Bulk 5</th>\n",
       "      <th>Bulk 6</th>\n",
       "      <th>Bulk 7</th>\n",
       "      <th>Bulk 8</th>\n",
       "      <th>Bulk 9</th>\n",
       "      <th>Bulk 10</th>\n",
       "      <th>Bulk 11</th>\n",
       "      <th>Bulk 12</th>\n",
       "      <th>Bulk 13</th>\n",
       "      <th>Bulk 14</th>\n",
       "      <th>Bulk 15</th>\n",
       "    </tr>\n",
       "  </thead>\n",
       "  <tbody>\n",
       "    <tr>\n",
       "      <td>0</td>\n",
       "      <td>1</td>\n",
       "      <td>NaN</td>\n",
       "      <td>NaN</td>\n",
       "      <td>NaN</td>\n",
       "      <td>2019-05-03 11:21:30</td>\n",
       "      <td>NaN</td>\n",
       "      <td>NaN</td>\n",
       "      <td>NaN</td>\n",
       "      <td>NaN</td>\n",
       "      <td>NaN</td>\n",
       "      <td>NaN</td>\n",
       "      <td>NaN</td>\n",
       "      <td>2019-05-03 11:03:52</td>\n",
       "      <td>NaN</td>\n",
       "      <td>2019-05-03 11:03:52</td>\n",
       "      <td>2019-05-03 11:03:52</td>\n",
       "    </tr>\n",
       "    <tr>\n",
       "      <td>1</td>\n",
       "      <td>2</td>\n",
       "      <td>NaN</td>\n",
       "      <td>NaN</td>\n",
       "      <td>NaN</td>\n",
       "      <td>2019-05-03 11:46:38</td>\n",
       "      <td>NaN</td>\n",
       "      <td>NaN</td>\n",
       "      <td>NaN</td>\n",
       "      <td>NaN</td>\n",
       "      <td>NaN</td>\n",
       "      <td>NaN</td>\n",
       "      <td>NaN</td>\n",
       "      <td>2019-05-03 11:40:20</td>\n",
       "      <td>NaN</td>\n",
       "      <td>2019-05-03 11:40:20</td>\n",
       "      <td>2019-05-03 11:40:20</td>\n",
       "    </tr>\n",
       "    <tr>\n",
       "      <td>2</td>\n",
       "      <td>3</td>\n",
       "      <td>NaN</td>\n",
       "      <td>NaN</td>\n",
       "      <td>NaN</td>\n",
       "      <td>2019-05-03 12:31:06</td>\n",
       "      <td>NaN</td>\n",
       "      <td>NaN</td>\n",
       "      <td>NaN</td>\n",
       "      <td>NaN</td>\n",
       "      <td>NaN</td>\n",
       "      <td>NaN</td>\n",
       "      <td>NaN</td>\n",
       "      <td>2019-05-03 12:09:40</td>\n",
       "      <td>NaN</td>\n",
       "      <td>2019-05-03 12:09:40</td>\n",
       "      <td>2019-05-03 12:09:40</td>\n",
       "    </tr>\n",
       "    <tr>\n",
       "      <td>3</td>\n",
       "      <td>4</td>\n",
       "      <td>NaN</td>\n",
       "      <td>NaN</td>\n",
       "      <td>NaN</td>\n",
       "      <td>2019-05-03 12:48:43</td>\n",
       "      <td>NaN</td>\n",
       "      <td>NaN</td>\n",
       "      <td>NaN</td>\n",
       "      <td>NaN</td>\n",
       "      <td>NaN</td>\n",
       "      <td>NaN</td>\n",
       "      <td>NaN</td>\n",
       "      <td>2019-05-03 12:41:24</td>\n",
       "      <td>NaN</td>\n",
       "      <td>2019-05-03 12:41:24</td>\n",
       "      <td>2019-05-03 12:41:24</td>\n",
       "    </tr>\n",
       "    <tr>\n",
       "      <td>4</td>\n",
       "      <td>5</td>\n",
       "      <td>NaN</td>\n",
       "      <td>NaN</td>\n",
       "      <td>NaN</td>\n",
       "      <td>2019-05-03 13:18:50</td>\n",
       "      <td>NaN</td>\n",
       "      <td>NaN</td>\n",
       "      <td>NaN</td>\n",
       "      <td>NaN</td>\n",
       "      <td>NaN</td>\n",
       "      <td>NaN</td>\n",
       "      <td>NaN</td>\n",
       "      <td>2019-05-03 13:12:56</td>\n",
       "      <td>NaN</td>\n",
       "      <td>2019-05-03 13:12:56</td>\n",
       "      <td>2019-05-03 13:12:56</td>\n",
       "    </tr>\n",
       "  </tbody>\n",
       "</table>\n",
       "</div>"
      ],
      "text/plain": [
       "   key Bulk 1 Bulk 2 Bulk 3               Bulk 4 Bulk 5 Bulk 6 Bulk 7 Bulk 8  \\\n",
       "0    1    NaN    NaN    NaN  2019-05-03 11:21:30    NaN    NaN    NaN    NaN   \n",
       "1    2    NaN    NaN    NaN  2019-05-03 11:46:38    NaN    NaN    NaN    NaN   \n",
       "2    3    NaN    NaN    NaN  2019-05-03 12:31:06    NaN    NaN    NaN    NaN   \n",
       "3    4    NaN    NaN    NaN  2019-05-03 12:48:43    NaN    NaN    NaN    NaN   \n",
       "4    5    NaN    NaN    NaN  2019-05-03 13:18:50    NaN    NaN    NaN    NaN   \n",
       "\n",
       "  Bulk 9 Bulk 10 Bulk 11              Bulk 12 Bulk 13              Bulk 14  \\\n",
       "0    NaN     NaN     NaN  2019-05-03 11:03:52     NaN  2019-05-03 11:03:52   \n",
       "1    NaN     NaN     NaN  2019-05-03 11:40:20     NaN  2019-05-03 11:40:20   \n",
       "2    NaN     NaN     NaN  2019-05-03 12:09:40     NaN  2019-05-03 12:09:40   \n",
       "3    NaN     NaN     NaN  2019-05-03 12:41:24     NaN  2019-05-03 12:41:24   \n",
       "4    NaN     NaN     NaN  2019-05-03 13:12:56     NaN  2019-05-03 13:12:56   \n",
       "\n",
       "               Bulk 15  \n",
       "0  2019-05-03 11:03:52  \n",
       "1  2019-05-03 11:40:20  \n",
       "2  2019-05-03 12:09:40  \n",
       "3  2019-05-03 12:41:24  \n",
       "4  2019-05-03 13:12:56  "
      ]
     },
     "execution_count": 12,
     "metadata": {},
     "output_type": "execute_result"
    }
   ],
   "source": [
    "data_bulk_time.info() #данные о подаче сыпучих материалов (время)\n",
    "data_bulk_time.head()"
   ]
  },
  {
   "cell_type": "code",
   "execution_count": 13,
   "id": "cda75a5f",
   "metadata": {},
   "outputs": [],
   "source": [
    "# Меняем формат времени на правильный\n",
    "for col_n in range(1,16):\n",
    "    data_bulk_time['Bulk ' + str(col_n)] = pd.to_datetime(data_bulk_time['Bulk ' + str(col_n)])"
   ]
  },
  {
   "cell_type": "code",
   "execution_count": 14,
   "id": "a00e2e48",
   "metadata": {},
   "outputs": [
    {
     "data": {
      "text/plain": [
       "(737180.0, 737303.0)"
      ]
     },
     "execution_count": 14,
     "metadata": {},
     "output_type": "execute_result"
    },
    {
     "data": {
      "image/png": "[encoded data removed]",
      "text/plain": [
       "<Figure size 1080x576 with 1 Axes>"
      ]
     },
     "metadata": {
      "needs_background": "light"
     },
     "output_type": "display_data"
    }
   ],
   "source": [
    "warnings.filterwarnings('ignore')\n",
    "data_bulk_time.drop(['key'], axis = 1).plot(figsize=(15,8), title = 'Время подачи сыпучих материалов')\n",
    "axes = plt.axes()\n",
    "axes.set_ylim([pd.to_datetime('2019-05-01'), pd.to_datetime('2019-09-01')])"
   ]
  },
  {
   "cell_type": "markdown",
   "id": "44a1291a",
   "metadata": {},
   "source": [
    "В данных о подаче сыпучих материалов аномалий не наблюдается. Данные записаны только в те моменты когда производились опереции, остальное пропуски. Есть ступенька по времени как и в данных по мощности."
   ]
  },
  {
   "cell_type": "markdown",
   "id": "8eb25550",
   "metadata": {},
   "source": [
    "#### Данные о продувке сплава газом"
   ]
  },
  {
   "cell_type": "code",
   "execution_count": 15,
   "id": "b76edc61",
   "metadata": {},
   "outputs": [
    {
     "name": "stdout",
     "output_type": "stream",
     "text": [
      "<class 'pandas.core.frame.DataFrame'>\n",
      "RangeIndex: 3239 entries, 0 to 3238\n",
      "Data columns (total 2 columns):\n",
      "key      3239 non-null int64\n",
      "Газ 1    3239 non-null float64\n",
      "dtypes: float64(1), int64(1)\n",
      "memory usage: 50.7 KB\n"
     ]
    },
    {
     "data": {
      "text/html": [
       "<div>\n",
       "<style scoped>\n",
       "    .dataframe tbody tr th:only-of-type {\n",
       "        vertical-align: middle;\n",
       "    }\n",
       "\n",
       "    .dataframe tbody tr th {\n",
       "        vertical-align: top;\n",
       "    }\n",
       "\n",
       "    .dataframe thead th {\n",
       "        text-align: right;\n",
       "    }\n",
       "</style>\n",
       "<table border=\"1\" class=\"dataframe\">\n",
       "  <thead>\n",
       "    <tr style=\"text-align: right;\">\n",
       "      <th></th>\n",
       "      <th>key</th>\n",
       "      <th>Газ 1</th>\n",
       "    </tr>\n",
       "  </thead>\n",
       "  <tbody>\n",
       "    <tr>\n",
       "      <td>0</td>\n",
       "      <td>1</td>\n",
       "      <td>29.749986</td>\n",
       "    </tr>\n",
       "    <tr>\n",
       "      <td>1</td>\n",
       "      <td>2</td>\n",
       "      <td>12.555561</td>\n",
       "    </tr>\n",
       "    <tr>\n",
       "      <td>2</td>\n",
       "      <td>3</td>\n",
       "      <td>28.554793</td>\n",
       "    </tr>\n",
       "    <tr>\n",
       "      <td>3</td>\n",
       "      <td>4</td>\n",
       "      <td>18.841219</td>\n",
       "    </tr>\n",
       "    <tr>\n",
       "      <td>4</td>\n",
       "      <td>5</td>\n",
       "      <td>5.413692</td>\n",
       "    </tr>\n",
       "  </tbody>\n",
       "</table>\n",
       "</div>"
      ],
      "text/plain": [
       "   key      Газ 1\n",
       "0    1  29.749986\n",
       "1    2  12.555561\n",
       "2    3  28.554793\n",
       "3    4  18.841219\n",
       "4    5   5.413692"
      ]
     },
     "execution_count": 15,
     "metadata": {},
     "output_type": "execute_result"
    }
   ],
   "source": [
    "data_gas.info()\n",
    "data_gas.head()"
   ]
  },
  {
   "cell_type": "code",
   "execution_count": 16,
   "id": "dee84602",
   "metadata": {},
   "outputs": [
    {
     "data": {
      "text/plain": [
       "<matplotlib.axes._subplots.AxesSubplot at 0x1e14d3a9188>"
      ]
     },
     "execution_count": 16,
     "metadata": {},
     "output_type": "execute_result"
    },
    {
     "data": {
      "image/png": "[encoded data removed]",
      "text/plain": [
       "<Figure size 1080x576 with 1 Axes>"
      ]
     },
     "metadata": {
      "needs_background": "light"
     },
     "output_type": "display_data"
    }
   ],
   "source": [
    "data_gas['Газ 1'].plot(figsize=(15,8), title = 'Продувка сплава газом')"
   ]
  },
  {
   "cell_type": "code",
   "execution_count": 17,
   "id": "dcb92f98",
   "metadata": {},
   "outputs": [
    {
     "data": {
      "text/html": [
       "<div>\n",
       "<style scoped>\n",
       "    .dataframe tbody tr th:only-of-type {\n",
       "        vertical-align: middle;\n",
       "    }\n",
       "\n",
       "    .dataframe tbody tr th {\n",
       "        vertical-align: top;\n",
       "    }\n",
       "\n",
       "    .dataframe thead th {\n",
       "        text-align: right;\n",
       "    }\n",
       "</style>\n",
       "<table border=\"1\" class=\"dataframe\">\n",
       "  <thead>\n",
       "    <tr style=\"text-align: right;\">\n",
       "      <th></th>\n",
       "      <th>key</th>\n",
       "      <th>Газ 1</th>\n",
       "    </tr>\n",
       "  </thead>\n",
       "  <tbody>\n",
       "    <tr>\n",
       "      <td>min</td>\n",
       "      <td>1</td>\n",
       "      <td>0.008399</td>\n",
       "    </tr>\n",
       "    <tr>\n",
       "      <td>max</td>\n",
       "      <td>3241</td>\n",
       "      <td>77.995040</td>\n",
       "    </tr>\n",
       "  </tbody>\n",
       "</table>\n",
       "</div>"
      ],
      "text/plain": [
       "      key      Газ 1\n",
       "min     1   0.008399\n",
       "max  3241  77.995040"
      ]
     },
     "execution_count": 17,
     "metadata": {},
     "output_type": "execute_result"
    }
   ],
   "source": [
    "data_gas.agg([min, max])"
   ]
  },
  {
   "cell_type": "code",
   "execution_count": 18,
   "id": "2a8a8d90",
   "metadata": {},
   "outputs": [
    {
     "data": {
      "text/plain": [
       "3239"
      ]
     },
     "execution_count": 18,
     "metadata": {},
     "output_type": "execute_result"
    }
   ],
   "source": [
    "len(data_gas['key'].unique()) "
   ]
  },
  {
   "cell_type": "markdown",
   "id": "347c5261",
   "metadata": {},
   "source": [
    "В данных о продувке аномальных значений нет. Однако общее колличество партий не соответсвует максимальному номеру партии. Видимо для некоторых партий данные о газе отсутсвуют."
   ]
  },
  {
   "cell_type": "markdown",
   "id": "c291fd7e",
   "metadata": {},
   "source": [
    "#### Результаты измерения температуры"
   ]
  },
  {
   "cell_type": "code",
   "execution_count": 19,
   "id": "0bf04b37",
   "metadata": {},
   "outputs": [
    {
     "name": "stdout",
     "output_type": "stream",
     "text": [
      "<class 'pandas.core.frame.DataFrame'>\n",
      "RangeIndex: 15907 entries, 0 to 15906\n",
      "Data columns (total 3 columns):\n",
      "key             15907 non-null int64\n",
      "Время замера    15907 non-null object\n",
      "Температура     13006 non-null float64\n",
      "dtypes: float64(1), int64(1), object(1)\n",
      "memory usage: 372.9+ KB\n"
     ]
    },
    {
     "data": {
      "text/html": [
       "<div>\n",
       "<style scoped>\n",
       "    .dataframe tbody tr th:only-of-type {\n",
       "        vertical-align: middle;\n",
       "    }\n",
       "\n",
       "    .dataframe tbody tr th {\n",
       "        vertical-align: top;\n",
       "    }\n",
       "\n",
       "    .dataframe thead th {\n",
       "        text-align: right;\n",
       "    }\n",
       "</style>\n",
       "<table border=\"1\" class=\"dataframe\">\n",
       "  <thead>\n",
       "    <tr style=\"text-align: right;\">\n",
       "      <th></th>\n",
       "      <th>key</th>\n",
       "      <th>Время замера</th>\n",
       "      <th>Температура</th>\n",
       "    </tr>\n",
       "  </thead>\n",
       "  <tbody>\n",
       "    <tr>\n",
       "      <td>0</td>\n",
       "      <td>1</td>\n",
       "      <td>2019-05-03 11:16:18</td>\n",
       "      <td>1571.0</td>\n",
       "    </tr>\n",
       "    <tr>\n",
       "      <td>1</td>\n",
       "      <td>1</td>\n",
       "      <td>2019-05-03 11:25:53</td>\n",
       "      <td>1604.0</td>\n",
       "    </tr>\n",
       "    <tr>\n",
       "      <td>2</td>\n",
       "      <td>1</td>\n",
       "      <td>2019-05-03 11:29:11</td>\n",
       "      <td>1618.0</td>\n",
       "    </tr>\n",
       "    <tr>\n",
       "      <td>3</td>\n",
       "      <td>1</td>\n",
       "      <td>2019-05-03 11:30:01</td>\n",
       "      <td>1601.0</td>\n",
       "    </tr>\n",
       "    <tr>\n",
       "      <td>4</td>\n",
       "      <td>1</td>\n",
       "      <td>2019-05-03 11:30:39</td>\n",
       "      <td>1613.0</td>\n",
       "    </tr>\n",
       "  </tbody>\n",
       "</table>\n",
       "</div>"
      ],
      "text/plain": [
       "   key         Время замера  Температура\n",
       "0    1  2019-05-03 11:16:18       1571.0\n",
       "1    1  2019-05-03 11:25:53       1604.0\n",
       "2    1  2019-05-03 11:29:11       1618.0\n",
       "3    1  2019-05-03 11:30:01       1601.0\n",
       "4    1  2019-05-03 11:30:39       1613.0"
      ]
     },
     "execution_count": 19,
     "metadata": {},
     "output_type": "execute_result"
    }
   ],
   "source": [
    "data_temp.info() #результаты измерения температуры\n",
    "data_temp.head()"
   ]
  },
  {
   "cell_type": "code",
   "execution_count": 20,
   "id": "ec1bc320",
   "metadata": {},
   "outputs": [
    {
     "data": {
      "text/plain": [
       "<matplotlib.axes._subplots.AxesSubplot at 0x1e14f727bc8>"
      ]
     },
     "execution_count": 20,
     "metadata": {},
     "output_type": "execute_result"
    },
    {
     "data": {
      "image/png": "[encoded data removed]",
      "text/plain": [
       "<Figure size 1080x576 with 1 Axes>"
      ]
     },
     "metadata": {
      "needs_background": "light"
     },
     "output_type": "display_data"
    }
   ],
   "source": [
    "data_temp['Температура'].plot(figsize=(15,8), title = 'Результаты измерения температуры')"
   ]
  },
  {
   "cell_type": "code",
   "execution_count": 21,
   "id": "89689bf5",
   "metadata": {},
   "outputs": [
    {
     "data": {
      "text/html": [
       "<div>\n",
       "<style scoped>\n",
       "    .dataframe tbody tr th:only-of-type {\n",
       "        vertical-align: middle;\n",
       "    }\n",
       "\n",
       "    .dataframe tbody tr th {\n",
       "        vertical-align: top;\n",
       "    }\n",
       "\n",
       "    .dataframe thead th {\n",
       "        text-align: right;\n",
       "    }\n",
       "</style>\n",
       "<table border=\"1\" class=\"dataframe\">\n",
       "  <thead>\n",
       "    <tr style=\"text-align: right;\">\n",
       "      <th></th>\n",
       "      <th>key</th>\n",
       "      <th>Время замера</th>\n",
       "      <th>Температура</th>\n",
       "    </tr>\n",
       "  </thead>\n",
       "  <tbody>\n",
       "    <tr>\n",
       "      <td>min</td>\n",
       "      <td>1</td>\n",
       "      <td>2019-05-03 11:16:18</td>\n",
       "      <td>1191.0</td>\n",
       "    </tr>\n",
       "    <tr>\n",
       "      <td>max</td>\n",
       "      <td>3241</td>\n",
       "      <td>2019-09-01 04:38:08</td>\n",
       "      <td>1705.0</td>\n",
       "    </tr>\n",
       "  </tbody>\n",
       "</table>\n",
       "</div>"
      ],
      "text/plain": [
       "      key         Время замера  Температура\n",
       "min     1  2019-05-03 11:16:18       1191.0\n",
       "max  3241  2019-09-01 04:38:08       1705.0"
      ]
     },
     "execution_count": 21,
     "metadata": {},
     "output_type": "execute_result"
    }
   ],
   "source": [
    "data_temp.agg([min, max])"
   ]
  },
  {
   "cell_type": "code",
   "execution_count": 22,
   "id": "118a710a",
   "metadata": {},
   "outputs": [
    {
     "data": {
      "text/plain": [
       "3216"
      ]
     },
     "execution_count": 22,
     "metadata": {},
     "output_type": "execute_result"
    }
   ],
   "source": [
    "len(data_temp['key'].unique()) "
   ]
  },
  {
   "cell_type": "code",
   "execution_count": 23,
   "id": "7b976a67",
   "metadata": {},
   "outputs": [
    {
     "data": {
      "text/plain": [
       "key                0\n",
       "Время замера       0\n",
       "Температура     2901\n",
       "dtype: int64"
      ]
     },
     "execution_count": 23,
     "metadata": {},
     "output_type": "execute_result"
    }
   ],
   "source": [
    "data_temp.isnull().sum() # Считаем пропуски температуры"
   ]
  },
  {
   "cell_type": "markdown",
   "id": "0e07ba1c",
   "metadata": {},
   "source": [
    "В данных о температуре наблюдается большая потеря данных. Уникальных номеров партий меньше чем максимальный номер партии. Имеются пропуски значений температуры. Кроме того есть аномально низкие значения температуры. Ниже температуры плавления металла. Эти данные лучше исключить."
   ]
  },
  {
   "cell_type": "code",
   "execution_count": 24,
   "id": "7b140795",
   "metadata": {},
   "outputs": [
    {
     "data": {
      "text/plain": [
       "<matplotlib.axes._subplots.AxesSubplot at 0x1e14d9ce288>"
      ]
     },
     "execution_count": 24,
     "metadata": {},
     "output_type": "execute_result"
    },
    {
     "data": {
      "image/png": "[encoded data removed]",
      "text/plain": [
       "<Figure size 1080x576 with 1 Axes>"
      ]
     },
     "metadata": {
      "needs_background": "light"
     },
     "output_type": "display_data"
    }
   ],
   "source": [
    "data_temp['Время замера'] = pd.to_datetime(data_temp['Время замера'])\n",
    "data_temp['Время замера'].plot(figsize=(15,8), title = 'Время измерения температуры')"
   ]
  },
  {
   "cell_type": "markdown",
   "id": "f2cdf3c7",
   "metadata": {},
   "source": [
    "На времени замера темперетуры аномалии не наблюдается. Данные записаны последовательно. Ступенька такая же как и на других замерах."
   ]
  },
  {
   "cell_type": "markdown",
   "id": "26b08eac",
   "metadata": {},
   "source": [
    "#### Данные о проволочных материалах (объём и время)"
   ]
  },
  {
   "cell_type": "code",
   "execution_count": 25,
   "id": "b3b6ce95",
   "metadata": {},
   "outputs": [
    {
     "name": "stdout",
     "output_type": "stream",
     "text": [
      "<class 'pandas.core.frame.DataFrame'>\n",
      "RangeIndex: 3081 entries, 0 to 3080\n",
      "Data columns (total 10 columns):\n",
      "key       3081 non-null int64\n",
      "Wire 1    3055 non-null float64\n",
      "Wire 2    1079 non-null float64\n",
      "Wire 3    63 non-null float64\n",
      "Wire 4    14 non-null float64\n",
      "Wire 5    1 non-null float64\n",
      "Wire 6    73 non-null float64\n",
      "Wire 7    11 non-null float64\n",
      "Wire 8    19 non-null float64\n",
      "Wire 9    29 non-null float64\n",
      "dtypes: float64(9), int64(1)\n",
      "memory usage: 240.8 KB\n"
     ]
    },
    {
     "data": {
      "text/html": [
       "<div>\n",
       "<style scoped>\n",
       "    .dataframe tbody tr th:only-of-type {\n",
       "        vertical-align: middle;\n",
       "    }\n",
       "\n",
       "    .dataframe tbody tr th {\n",
       "        vertical-align: top;\n",
       "    }\n",
       "\n",
       "    .dataframe thead th {\n",
       "        text-align: right;\n",
       "    }\n",
       "</style>\n",
       "<table border=\"1\" class=\"dataframe\">\n",
       "  <thead>\n",
       "    <tr style=\"text-align: right;\">\n",
       "      <th></th>\n",
       "      <th>key</th>\n",
       "      <th>Wire 1</th>\n",
       "      <th>Wire 2</th>\n",
       "      <th>Wire 3</th>\n",
       "      <th>Wire 4</th>\n",
       "      <th>Wire 5</th>\n",
       "      <th>Wire 6</th>\n",
       "      <th>Wire 7</th>\n",
       "      <th>Wire 8</th>\n",
       "      <th>Wire 9</th>\n",
       "    </tr>\n",
       "  </thead>\n",
       "  <tbody>\n",
       "    <tr>\n",
       "      <td>0</td>\n",
       "      <td>1</td>\n",
       "      <td>60.059998</td>\n",
       "      <td>NaN</td>\n",
       "      <td>NaN</td>\n",
       "      <td>NaN</td>\n",
       "      <td>NaN</td>\n",
       "      <td>NaN</td>\n",
       "      <td>NaN</td>\n",
       "      <td>NaN</td>\n",
       "      <td>NaN</td>\n",
       "    </tr>\n",
       "    <tr>\n",
       "      <td>1</td>\n",
       "      <td>2</td>\n",
       "      <td>96.052315</td>\n",
       "      <td>NaN</td>\n",
       "      <td>NaN</td>\n",
       "      <td>NaN</td>\n",
       "      <td>NaN</td>\n",
       "      <td>NaN</td>\n",
       "      <td>NaN</td>\n",
       "      <td>NaN</td>\n",
       "      <td>NaN</td>\n",
       "    </tr>\n",
       "    <tr>\n",
       "      <td>2</td>\n",
       "      <td>3</td>\n",
       "      <td>91.160157</td>\n",
       "      <td>NaN</td>\n",
       "      <td>NaN</td>\n",
       "      <td>NaN</td>\n",
       "      <td>NaN</td>\n",
       "      <td>NaN</td>\n",
       "      <td>NaN</td>\n",
       "      <td>NaN</td>\n",
       "      <td>NaN</td>\n",
       "    </tr>\n",
       "    <tr>\n",
       "      <td>3</td>\n",
       "      <td>4</td>\n",
       "      <td>89.063515</td>\n",
       "      <td>NaN</td>\n",
       "      <td>NaN</td>\n",
       "      <td>NaN</td>\n",
       "      <td>NaN</td>\n",
       "      <td>NaN</td>\n",
       "      <td>NaN</td>\n",
       "      <td>NaN</td>\n",
       "      <td>NaN</td>\n",
       "    </tr>\n",
       "    <tr>\n",
       "      <td>4</td>\n",
       "      <td>5</td>\n",
       "      <td>89.238236</td>\n",
       "      <td>9.11456</td>\n",
       "      <td>NaN</td>\n",
       "      <td>NaN</td>\n",
       "      <td>NaN</td>\n",
       "      <td>NaN</td>\n",
       "      <td>NaN</td>\n",
       "      <td>NaN</td>\n",
       "      <td>NaN</td>\n",
       "    </tr>\n",
       "  </tbody>\n",
       "</table>\n",
       "</div>"
      ],
      "text/plain": [
       "   key     Wire 1   Wire 2  Wire 3  Wire 4  Wire 5  Wire 6  Wire 7  Wire 8  \\\n",
       "0    1  60.059998      NaN     NaN     NaN     NaN     NaN     NaN     NaN   \n",
       "1    2  96.052315      NaN     NaN     NaN     NaN     NaN     NaN     NaN   \n",
       "2    3  91.160157      NaN     NaN     NaN     NaN     NaN     NaN     NaN   \n",
       "3    4  89.063515      NaN     NaN     NaN     NaN     NaN     NaN     NaN   \n",
       "4    5  89.238236  9.11456     NaN     NaN     NaN     NaN     NaN     NaN   \n",
       "\n",
       "   Wire 9  \n",
       "0     NaN  \n",
       "1     NaN  \n",
       "2     NaN  \n",
       "3     NaN  \n",
       "4     NaN  "
      ]
     },
     "execution_count": 25,
     "metadata": {},
     "output_type": "execute_result"
    }
   ],
   "source": [
    "data_wire.info() # данные о проволочных материалах (объём)\n",
    "data_wire.head()"
   ]
  },
  {
   "cell_type": "code",
   "execution_count": 26,
   "id": "c80673c9",
   "metadata": {},
   "outputs": [
    {
     "data": {
      "text/plain": [
       "<matplotlib.axes._subplots.AxesSubplot at 0x1e14d3c8188>"
      ]
     },
     "execution_count": 26,
     "metadata": {},
     "output_type": "execute_result"
    },
    {
     "data": {
      "image/png": "[encoded data removed]",
      "text/plain": [
       "<Figure size 1080x576 with 1 Axes>"
      ]
     },
     "metadata": {
      "needs_background": "light"
     },
     "output_type": "display_data"
    }
   ],
   "source": [
    "data_wire.drop(['key'], axis = 1).plot(figsize=(15,8), title = 'Объем подачи проволочных материалов')"
   ]
  },
  {
   "cell_type": "code",
   "execution_count": 27,
   "id": "8c382807",
   "metadata": {},
   "outputs": [
    {
     "data": {
      "text/html": [
       "<div>\n",
       "<style scoped>\n",
       "    .dataframe tbody tr th:only-of-type {\n",
       "        vertical-align: middle;\n",
       "    }\n",
       "\n",
       "    .dataframe tbody tr th {\n",
       "        vertical-align: top;\n",
       "    }\n",
       "\n",
       "    .dataframe thead th {\n",
       "        text-align: right;\n",
       "    }\n",
       "</style>\n",
       "<table border=\"1\" class=\"dataframe\">\n",
       "  <thead>\n",
       "    <tr style=\"text-align: right;\">\n",
       "      <th></th>\n",
       "      <th>key</th>\n",
       "      <th>Wire 1</th>\n",
       "      <th>Wire 2</th>\n",
       "      <th>Wire 3</th>\n",
       "      <th>Wire 4</th>\n",
       "      <th>Wire 5</th>\n",
       "      <th>Wire 6</th>\n",
       "      <th>Wire 7</th>\n",
       "      <th>Wire 8</th>\n",
       "      <th>Wire 9</th>\n",
       "    </tr>\n",
       "  </thead>\n",
       "  <tbody>\n",
       "    <tr>\n",
       "      <td>min</td>\n",
       "      <td>1</td>\n",
       "      <td>1.918800</td>\n",
       "      <td>0.030160</td>\n",
       "      <td>0.144144</td>\n",
       "      <td>24.148801</td>\n",
       "      <td>15.132</td>\n",
       "      <td>0.034320</td>\n",
       "      <td>0.234208</td>\n",
       "      <td>45.076721</td>\n",
       "      <td>4.622800</td>\n",
       "    </tr>\n",
       "    <tr>\n",
       "      <td>max</td>\n",
       "      <td>3241</td>\n",
       "      <td>330.314424</td>\n",
       "      <td>282.780152</td>\n",
       "      <td>385.008668</td>\n",
       "      <td>113.231044</td>\n",
       "      <td>15.132</td>\n",
       "      <td>180.454575</td>\n",
       "      <td>32.847674</td>\n",
       "      <td>102.762401</td>\n",
       "      <td>90.053604</td>\n",
       "    </tr>\n",
       "  </tbody>\n",
       "</table>\n",
       "</div>"
      ],
      "text/plain": [
       "      key      Wire 1      Wire 2      Wire 3      Wire 4  Wire 5      Wire 6  \\\n",
       "min     1    1.918800    0.030160    0.144144   24.148801  15.132    0.034320   \n",
       "max  3241  330.314424  282.780152  385.008668  113.231044  15.132  180.454575   \n",
       "\n",
       "        Wire 7      Wire 8     Wire 9  \n",
       "min   0.234208   45.076721   4.622800  \n",
       "max  32.847674  102.762401  90.053604  "
      ]
     },
     "execution_count": 27,
     "metadata": {},
     "output_type": "execute_result"
    }
   ],
   "source": [
    "data_wire.agg(['min', 'max'])"
   ]
  },
  {
   "cell_type": "code",
   "execution_count": 28,
   "id": "37f6a460",
   "metadata": {},
   "outputs": [
    {
     "name": "stdout",
     "output_type": "stream",
     "text": [
      "<class 'pandas.core.frame.DataFrame'>\n",
      "RangeIndex: 3081 entries, 0 to 3080\n",
      "Data columns (total 10 columns):\n",
      "key       3081 non-null int64\n",
      "Wire 1    3055 non-null object\n",
      "Wire 2    1079 non-null object\n",
      "Wire 3    63 non-null object\n",
      "Wire 4    14 non-null object\n",
      "Wire 5    1 non-null object\n",
      "Wire 6    73 non-null object\n",
      "Wire 7    11 non-null object\n",
      "Wire 8    19 non-null object\n",
      "Wire 9    29 non-null object\n",
      "dtypes: int64(1), object(9)\n",
      "memory usage: 240.8+ KB\n"
     ]
    },
    {
     "data": {
      "text/html": [
       "<div>\n",
       "<style scoped>\n",
       "    .dataframe tbody tr th:only-of-type {\n",
       "        vertical-align: middle;\n",
       "    }\n",
       "\n",
       "    .dataframe tbody tr th {\n",
       "        vertical-align: top;\n",
       "    }\n",
       "\n",
       "    .dataframe thead th {\n",
       "        text-align: right;\n",
       "    }\n",
       "</style>\n",
       "<table border=\"1\" class=\"dataframe\">\n",
       "  <thead>\n",
       "    <tr style=\"text-align: right;\">\n",
       "      <th></th>\n",
       "      <th>key</th>\n",
       "      <th>Wire 1</th>\n",
       "      <th>Wire 2</th>\n",
       "      <th>Wire 3</th>\n",
       "      <th>Wire 4</th>\n",
       "      <th>Wire 5</th>\n",
       "      <th>Wire 6</th>\n",
       "      <th>Wire 7</th>\n",
       "      <th>Wire 8</th>\n",
       "      <th>Wire 9</th>\n",
       "    </tr>\n",
       "  </thead>\n",
       "  <tbody>\n",
       "    <tr>\n",
       "      <td>0</td>\n",
       "      <td>1</td>\n",
       "      <td>2019-05-03 11:11:41</td>\n",
       "      <td>NaN</td>\n",
       "      <td>NaN</td>\n",
       "      <td>NaN</td>\n",
       "      <td>NaN</td>\n",
       "      <td>NaN</td>\n",
       "      <td>NaN</td>\n",
       "      <td>NaN</td>\n",
       "      <td>NaN</td>\n",
       "    </tr>\n",
       "    <tr>\n",
       "      <td>1</td>\n",
       "      <td>2</td>\n",
       "      <td>2019-05-03 11:46:10</td>\n",
       "      <td>NaN</td>\n",
       "      <td>NaN</td>\n",
       "      <td>NaN</td>\n",
       "      <td>NaN</td>\n",
       "      <td>NaN</td>\n",
       "      <td>NaN</td>\n",
       "      <td>NaN</td>\n",
       "      <td>NaN</td>\n",
       "    </tr>\n",
       "    <tr>\n",
       "      <td>2</td>\n",
       "      <td>3</td>\n",
       "      <td>2019-05-03 12:13:47</td>\n",
       "      <td>NaN</td>\n",
       "      <td>NaN</td>\n",
       "      <td>NaN</td>\n",
       "      <td>NaN</td>\n",
       "      <td>NaN</td>\n",
       "      <td>NaN</td>\n",
       "      <td>NaN</td>\n",
       "      <td>NaN</td>\n",
       "    </tr>\n",
       "    <tr>\n",
       "      <td>3</td>\n",
       "      <td>4</td>\n",
       "      <td>2019-05-03 12:48:05</td>\n",
       "      <td>NaN</td>\n",
       "      <td>NaN</td>\n",
       "      <td>NaN</td>\n",
       "      <td>NaN</td>\n",
       "      <td>NaN</td>\n",
       "      <td>NaN</td>\n",
       "      <td>NaN</td>\n",
       "      <td>NaN</td>\n",
       "    </tr>\n",
       "    <tr>\n",
       "      <td>4</td>\n",
       "      <td>5</td>\n",
       "      <td>2019-05-03 13:18:15</td>\n",
       "      <td>2019-05-03 13:32:06</td>\n",
       "      <td>NaN</td>\n",
       "      <td>NaN</td>\n",
       "      <td>NaN</td>\n",
       "      <td>NaN</td>\n",
       "      <td>NaN</td>\n",
       "      <td>NaN</td>\n",
       "      <td>NaN</td>\n",
       "    </tr>\n",
       "  </tbody>\n",
       "</table>\n",
       "</div>"
      ],
      "text/plain": [
       "   key               Wire 1               Wire 2 Wire 3 Wire 4 Wire 5 Wire 6  \\\n",
       "0    1  2019-05-03 11:11:41                  NaN    NaN    NaN    NaN    NaN   \n",
       "1    2  2019-05-03 11:46:10                  NaN    NaN    NaN    NaN    NaN   \n",
       "2    3  2019-05-03 12:13:47                  NaN    NaN    NaN    NaN    NaN   \n",
       "3    4  2019-05-03 12:48:05                  NaN    NaN    NaN    NaN    NaN   \n",
       "4    5  2019-05-03 13:18:15  2019-05-03 13:32:06    NaN    NaN    NaN    NaN   \n",
       "\n",
       "  Wire 7 Wire 8 Wire 9  \n",
       "0    NaN    NaN    NaN  \n",
       "1    NaN    NaN    NaN  \n",
       "2    NaN    NaN    NaN  \n",
       "3    NaN    NaN    NaN  \n",
       "4    NaN    NaN    NaN  "
      ]
     },
     "execution_count": 28,
     "metadata": {},
     "output_type": "execute_result"
    }
   ],
   "source": [
    "data_wire_time.info() #данные о проволочных материалах (время)\n",
    "data_wire_time.head()"
   ]
  },
  {
   "cell_type": "code",
   "execution_count": 29,
   "id": "11200905",
   "metadata": {},
   "outputs": [],
   "source": [
    "# Меняем формат времени на правеильный\n",
    "for col_n in range(1,10):\n",
    "    data_wire_time['Wire ' + str(col_n)] = pd.to_datetime(data_wire_time['Wire ' + str(col_n)])"
   ]
  },
  {
   "cell_type": "code",
   "execution_count": 30,
   "id": "5ac41482",
   "metadata": {},
   "outputs": [
    {
     "data": {
      "text/plain": [
       "(737180.0, 737303.0)"
      ]
     },
     "execution_count": 30,
     "metadata": {},
     "output_type": "execute_result"
    },
    {
     "data": {
      "image/png": "[encoded data removed]",
      "text/plain": [
       "<Figure size 1080x576 with 1 Axes>"
      ]
     },
     "metadata": {
      "needs_background": "light"
     },
     "output_type": "display_data"
    }
   ],
   "source": [
    "warnings.filterwarnings('ignore')\n",
    "data_wire_time.drop(['key'], axis = 1).plot(figsize=(15,8), title = 'Время подачи проволочных материалов')\n",
    "axes = plt.axes()\n",
    "axes.set_ylim([pd.to_datetime('2019-05-01'), pd.to_datetime('2019-09-01')])"
   ]
  },
  {
   "cell_type": "markdown",
   "id": "525cc849",
   "metadata": {},
   "source": [
    "В данных о проволочных материалах аномалий не обнаружено. Данные записаны только в те моменты когда производились опереции, остальное пропуски. Есть ступенька по времени как и всех остальных данных."
   ]
  },
  {
   "cell_type": "markdown",
   "id": "094444cc",
   "metadata": {},
   "source": [
    "### Вывод "
   ]
  },
  {
   "cell_type": "markdown",
   "id": "9faa41ac",
   "metadata": {},
   "source": [
    "Данные содержат информацию о 3241 партии выплавки стали. Есть несколько аномальных значений в данных мощности и температуры. Есть отсутсвующие данные о температуре и мощности для некоторых партий. Есть пропуски значений темпуратуры. Есть отвутсвующие данные о газе, сыпучих и проволочных материалов для некоторых партий. Есть разрыв в последовательности данных для всех измерений где фиксировалось время. Временные метки приведены в соответсвующий формат.\n"
   ]
  },
  {
   "cell_type": "markdown",
   "id": "03eb392f",
   "metadata": {},
   "source": [
    "### План работы"
   ]
  },
  {
   "cell_type": "markdown",
   "id": "877b3606",
   "metadata": {},
   "source": [
    "1. *Подготовка данных для обучения.*\\\n",
    "Убрать аномальные значения из данных.\\\n",
    "Подготовить датасет с соответсвующими признаками.\\\n",
    "Проверить признаки на мультиколлинеарность.\n",
    "2. *Обучить модели.*\\\n",
    "Разделить данные на тренировочную и обучающую выборки.\\\n",
    "Подобрать гиперпараметры модели для минимизации метрики.\n",
    "3. *Проанализировать модели.*\\\n",
    "Проверить модели на адекватность.\\\n",
    "Проанализировать важность признаков.\n",
    "4. *Сделать выводы по проекту.* \n"
   ]
  },
  {
   "cell_type": "markdown",
   "id": "7258eef2",
   "metadata": {},
   "source": [
    "## Подготовка данных для обучения."
   ]
  },
  {
   "cell_type": "markdown",
   "id": "276fb391",
   "metadata": {},
   "source": [
    "### Подготовка данных по начальной и конечной температуре одной партии"
   ]
  },
  {
   "cell_type": "code",
   "execution_count": 31,
   "id": "a6154b49",
   "metadata": {},
   "outputs": [],
   "source": [
    "#Обработка пропусков и аномальных значений для температуры\n",
    "na_temp_key = data_temp[data_temp.isnull()['Температура'] == True]['key'].unique() #номера паритй с пропусками температуры\n",
    "anomal_temp_key = data_temp[data_temp['Температура'] < 1500]['key'].unique() #номера паритй с аномальной температурой\n",
    "drop_temp_key = list(na_temp_key) + list(anomal_temp_key) #номера паритй для удаления"
   ]
  },
  {
   "cell_type": "code",
   "execution_count": 32,
   "id": "0532a1aa",
   "metadata": {},
   "outputs": [],
   "source": [
    "data_temp.drop(data_temp[data_temp.key.isin(drop_temp_key)].index, inplace=True)"
   ]
  },
  {
   "cell_type": "code",
   "execution_count": 33,
   "id": "98af0476",
   "metadata": {
    "scrolled": true
   },
   "outputs": [
    {
     "data": {
      "text/html": [
       "<div>\n",
       "<style scoped>\n",
       "    .dataframe tbody tr th:only-of-type {\n",
       "        vertical-align: middle;\n",
       "    }\n",
       "\n",
       "    .dataframe tbody tr th {\n",
       "        vertical-align: top;\n",
       "    }\n",
       "\n",
       "    .dataframe thead th {\n",
       "        text-align: right;\n",
       "    }\n",
       "</style>\n",
       "<table border=\"1\" class=\"dataframe\">\n",
       "  <thead>\n",
       "    <tr style=\"text-align: right;\">\n",
       "      <th></th>\n",
       "      <th>key</th>\n",
       "      <th>Время замера</th>\n",
       "      <th>Температура</th>\n",
       "    </tr>\n",
       "  </thead>\n",
       "  <tbody>\n",
       "    <tr>\n",
       "      <td>0</td>\n",
       "      <td>1</td>\n",
       "      <td>2019-05-03 11:16:18</td>\n",
       "      <td>1571.0</td>\n",
       "    </tr>\n",
       "    <tr>\n",
       "      <td>1</td>\n",
       "      <td>1</td>\n",
       "      <td>2019-05-03 11:25:53</td>\n",
       "      <td>1604.0</td>\n",
       "    </tr>\n",
       "    <tr>\n",
       "      <td>2</td>\n",
       "      <td>1</td>\n",
       "      <td>2019-05-03 11:29:11</td>\n",
       "      <td>1618.0</td>\n",
       "    </tr>\n",
       "    <tr>\n",
       "      <td>3</td>\n",
       "      <td>1</td>\n",
       "      <td>2019-05-03 11:30:01</td>\n",
       "      <td>1601.0</td>\n",
       "    </tr>\n",
       "    <tr>\n",
       "      <td>4</td>\n",
       "      <td>1</td>\n",
       "      <td>2019-05-03 11:30:39</td>\n",
       "      <td>1613.0</td>\n",
       "    </tr>\n",
       "    <tr>\n",
       "      <td>5</td>\n",
       "      <td>2</td>\n",
       "      <td>2019-05-03 11:37:27</td>\n",
       "      <td>1581.0</td>\n",
       "    </tr>\n",
       "  </tbody>\n",
       "</table>\n",
       "</div>"
      ],
      "text/plain": [
       "   key        Время замера  Температура\n",
       "0    1 2019-05-03 11:16:18       1571.0\n",
       "1    1 2019-05-03 11:25:53       1604.0\n",
       "2    1 2019-05-03 11:29:11       1618.0\n",
       "3    1 2019-05-03 11:30:01       1601.0\n",
       "4    1 2019-05-03 11:30:39       1613.0\n",
       "5    2 2019-05-03 11:37:27       1581.0"
      ]
     },
     "execution_count": 33,
     "metadata": {},
     "output_type": "execute_result"
    }
   ],
   "source": [
    "data_temp.head(6)"
   ]
  },
  {
   "cell_type": "code",
   "execution_count": 34,
   "id": "9014571f",
   "metadata": {
    "scrolled": false
   },
   "outputs": [
    {
     "data": {
      "text/html": [
       "<div>\n",
       "<style scoped>\n",
       "    .dataframe tbody tr th:only-of-type {\n",
       "        vertical-align: middle;\n",
       "    }\n",
       "\n",
       "    .dataframe tbody tr th {\n",
       "        vertical-align: top;\n",
       "    }\n",
       "\n",
       "    .dataframe thead th {\n",
       "        text-align: right;\n",
       "    }\n",
       "</style>\n",
       "<table border=\"1\" class=\"dataframe\">\n",
       "  <thead>\n",
       "    <tr style=\"text-align: right;\">\n",
       "      <th></th>\n",
       "      <th>key</th>\n",
       "      <th>Начало замера температуры</th>\n",
       "      <th>Конец замера температуры</th>\n",
       "      <th>Начальная температура</th>\n",
       "      <th>Конечная температура</th>\n",
       "    </tr>\n",
       "  </thead>\n",
       "  <tbody>\n",
       "    <tr>\n",
       "      <td>0</td>\n",
       "      <td>1</td>\n",
       "      <td>2019-05-03 11:16:18</td>\n",
       "      <td>2019-05-03 11:30:39</td>\n",
       "      <td>1571.0</td>\n",
       "      <td>1613.0</td>\n",
       "    </tr>\n",
       "    <tr>\n",
       "      <td>1</td>\n",
       "      <td>2</td>\n",
       "      <td>2019-05-03 11:37:27</td>\n",
       "      <td>2019-05-03 11:59:12</td>\n",
       "      <td>1581.0</td>\n",
       "      <td>1602.0</td>\n",
       "    </tr>\n",
       "    <tr>\n",
       "      <td>2</td>\n",
       "      <td>3</td>\n",
       "      <td>2019-05-03 12:13:17</td>\n",
       "      <td>2019-05-03 12:34:57</td>\n",
       "      <td>1596.0</td>\n",
       "      <td>1599.0</td>\n",
       "    </tr>\n",
       "    <tr>\n",
       "      <td>3</td>\n",
       "      <td>4</td>\n",
       "      <td>2019-05-03 12:52:57</td>\n",
       "      <td>2019-05-03 12:59:25</td>\n",
       "      <td>1601.0</td>\n",
       "      <td>1625.0</td>\n",
       "    </tr>\n",
       "    <tr>\n",
       "      <td>4</td>\n",
       "      <td>5</td>\n",
       "      <td>2019-05-03 13:23:19</td>\n",
       "      <td>2019-05-03 13:36:01</td>\n",
       "      <td>1576.0</td>\n",
       "      <td>1602.0</td>\n",
       "    </tr>\n",
       "  </tbody>\n",
       "</table>\n",
       "</div>"
      ],
      "text/plain": [
       "   key Начало замера температуры Конец замера температуры  \\\n",
       "0    1       2019-05-03 11:16:18      2019-05-03 11:30:39   \n",
       "1    2       2019-05-03 11:37:27      2019-05-03 11:59:12   \n",
       "2    3       2019-05-03 12:13:17      2019-05-03 12:34:57   \n",
       "3    4       2019-05-03 12:52:57      2019-05-03 12:59:25   \n",
       "4    5       2019-05-03 13:23:19      2019-05-03 13:36:01   \n",
       "\n",
       "   Начальная температура  Конечная температура  \n",
       "0                 1571.0                1613.0  \n",
       "1                 1581.0                1602.0  \n",
       "2                 1596.0                1599.0  \n",
       "3                 1601.0                1625.0  \n",
       "4                 1576.0                1602.0  "
      ]
     },
     "execution_count": 34,
     "metadata": {},
     "output_type": "execute_result"
    }
   ],
   "source": [
    "temp_t1 = data_temp.sort_values(by='Время замера').groupby('key').first()\n",
    "temp_t2 = data_temp.sort_values(by='Время замера').groupby('key').last()\n",
    "data_temp_t1t2 = pd.DataFrame({'key':temp_t1.index,\n",
    "                               'Начало замера температуры':temp_t1['Время замера'].values,\n",
    "                               'Конец замера температуры':temp_t2['Время замера'].values,\n",
    "                               'Начальная температура':temp_t1['Температура'].values,\n",
    "                               'Конечная температура':temp_t2['Температура'].values})\n",
    "data_temp_t1t2.head()"
   ]
  },
  {
   "cell_type": "markdown",
   "id": "349837a2",
   "metadata": {},
   "source": [
    "### Подготовка данных по затраченной энергии на нагрев одной партии"
   ]
  },
  {
   "cell_type": "markdown",
   "id": "799f49a4",
   "metadata": {},
   "source": [
    "В расчетах будем спользовать только активную энергию, так как реативная на нагрев не используется, кроме того активная и реактивная энергии зависят друг от друга. Аномальное значение в реактивной мощности игнорируем. Просуммируем все сеансы нагрева в одной партии. Для контроля последовательности процесса выдолим начало первого и конец последнего сеанса нагрева. "
   ]
  },
  {
   "cell_type": "code",
   "execution_count": 35,
   "id": "de4483bd",
   "metadata": {},
   "outputs": [
    {
     "data": {
      "text/html": [
       "<div>\n",
       "<style scoped>\n",
       "    .dataframe tbody tr th:only-of-type {\n",
       "        vertical-align: middle;\n",
       "    }\n",
       "\n",
       "    .dataframe tbody tr th {\n",
       "        vertical-align: top;\n",
       "    }\n",
       "\n",
       "    .dataframe thead th {\n",
       "        text-align: right;\n",
       "    }\n",
       "</style>\n",
       "<table border=\"1\" class=\"dataframe\">\n",
       "  <thead>\n",
       "    <tr style=\"text-align: right;\">\n",
       "      <th></th>\n",
       "      <th>key</th>\n",
       "      <th>Начало нагрева дугой</th>\n",
       "      <th>Конец нагрева дугой</th>\n",
       "      <th>Активная мощность</th>\n",
       "      <th>Реактивная мощность</th>\n",
       "      <th>Активная энергия</th>\n",
       "    </tr>\n",
       "  </thead>\n",
       "  <tbody>\n",
       "    <tr>\n",
       "      <td>0</td>\n",
       "      <td>1</td>\n",
       "      <td>2019-05-03 11:02:14</td>\n",
       "      <td>2019-05-03 11:06:02</td>\n",
       "      <td>0.976059</td>\n",
       "      <td>0.687084</td>\n",
       "      <td>222.541395</td>\n",
       "    </tr>\n",
       "    <tr>\n",
       "      <td>1</td>\n",
       "      <td>1</td>\n",
       "      <td>2019-05-03 11:07:28</td>\n",
       "      <td>2019-05-03 11:10:33</td>\n",
       "      <td>0.805607</td>\n",
       "      <td>0.520285</td>\n",
       "      <td>149.037310</td>\n",
       "    </tr>\n",
       "    <tr>\n",
       "      <td>2</td>\n",
       "      <td>1</td>\n",
       "      <td>2019-05-03 11:11:44</td>\n",
       "      <td>2019-05-03 11:14:36</td>\n",
       "      <td>0.744363</td>\n",
       "      <td>0.498805</td>\n",
       "      <td>128.030509</td>\n",
       "    </tr>\n",
       "    <tr>\n",
       "      <td>3</td>\n",
       "      <td>1</td>\n",
       "      <td>2019-05-03 11:18:14</td>\n",
       "      <td>2019-05-03 11:24:19</td>\n",
       "      <td>1.659363</td>\n",
       "      <td>1.062669</td>\n",
       "      <td>605.667332</td>\n",
       "    </tr>\n",
       "    <tr>\n",
       "      <td>4</td>\n",
       "      <td>1</td>\n",
       "      <td>2019-05-03 11:26:09</td>\n",
       "      <td>2019-05-03 11:28:37</td>\n",
       "      <td>0.692755</td>\n",
       "      <td>0.414397</td>\n",
       "      <td>102.527702</td>\n",
       "    </tr>\n",
       "    <tr>\n",
       "      <td>5</td>\n",
       "      <td>2</td>\n",
       "      <td>2019-05-03 11:34:14</td>\n",
       "      <td>2019-05-03 11:36:31</td>\n",
       "      <td>0.438063</td>\n",
       "      <td>0.283043</td>\n",
       "      <td>60.014678</td>\n",
       "    </tr>\n",
       "  </tbody>\n",
       "</table>\n",
       "</div>"
      ],
      "text/plain": [
       "   key Начало нагрева дугой Конец нагрева дугой  Активная мощность  \\\n",
       "0    1  2019-05-03 11:02:14 2019-05-03 11:06:02           0.976059   \n",
       "1    1  2019-05-03 11:07:28 2019-05-03 11:10:33           0.805607   \n",
       "2    1  2019-05-03 11:11:44 2019-05-03 11:14:36           0.744363   \n",
       "3    1  2019-05-03 11:18:14 2019-05-03 11:24:19           1.659363   \n",
       "4    1  2019-05-03 11:26:09 2019-05-03 11:28:37           0.692755   \n",
       "5    2  2019-05-03 11:34:14 2019-05-03 11:36:31           0.438063   \n",
       "\n",
       "   Реактивная мощность  Активная энергия  \n",
       "0             0.687084        222.541395  \n",
       "1             0.520285        149.037310  \n",
       "2             0.498805        128.030509  \n",
       "3             1.062669        605.667332  \n",
       "4             0.414397        102.527702  \n",
       "5             0.283043         60.014678  "
      ]
     },
     "execution_count": 35,
     "metadata": {},
     "output_type": "execute_result"
    }
   ],
   "source": [
    "# считаем столбец с активной энергией E = P * t. Время берем в секундах\n",
    "data_arc['Активная энергия'] = (data_arc['Конец нагрева дугой'] - data_arc['Начало нагрева дугой']).astype('timedelta64[s]') *\\\n",
    "                                                                                                 data_arc['Активная мощность']\n",
    "data_arc.head(6)"
   ]
  },
  {
   "cell_type": "code",
   "execution_count": 36,
   "id": "529f18f2",
   "metadata": {},
   "outputs": [
    {
     "data": {
      "text/html": [
       "<div>\n",
       "<style scoped>\n",
       "    .dataframe tbody tr th:only-of-type {\n",
       "        vertical-align: middle;\n",
       "    }\n",
       "\n",
       "    .dataframe tbody tr th {\n",
       "        vertical-align: top;\n",
       "    }\n",
       "\n",
       "    .dataframe thead th {\n",
       "        text-align: right;\n",
       "    }\n",
       "</style>\n",
       "<table border=\"1\" class=\"dataframe\">\n",
       "  <thead>\n",
       "    <tr style=\"text-align: right;\">\n",
       "      <th></th>\n",
       "      <th>key</th>\n",
       "      <th>Активная энергия</th>\n",
       "      <th>Начало нагрева</th>\n",
       "      <th>Конец нагрева</th>\n",
       "    </tr>\n",
       "  </thead>\n",
       "  <tbody>\n",
       "    <tr>\n",
       "      <td>0</td>\n",
       "      <td>1</td>\n",
       "      <td>1207.804249</td>\n",
       "      <td>2019-05-03 11:02:14</td>\n",
       "      <td>2019-05-03 11:28:37</td>\n",
       "    </tr>\n",
       "    <tr>\n",
       "      <td>1</td>\n",
       "      <td>2</td>\n",
       "      <td>733.816470</td>\n",
       "      <td>2019-05-03 11:34:14</td>\n",
       "      <td>2019-05-03 11:53:18</td>\n",
       "    </tr>\n",
       "    <tr>\n",
       "      <td>2</td>\n",
       "      <td>3</td>\n",
       "      <td>443.583327</td>\n",
       "      <td>2019-05-03 12:06:54</td>\n",
       "      <td>2019-05-03 12:32:19</td>\n",
       "    </tr>\n",
       "    <tr>\n",
       "      <td>3</td>\n",
       "      <td>4</td>\n",
       "      <td>670.663327</td>\n",
       "      <td>2019-05-03 12:39:37</td>\n",
       "      <td>2019-05-03 12:57:50</td>\n",
       "    </tr>\n",
       "    <tr>\n",
       "      <td>4</td>\n",
       "      <td>5</td>\n",
       "      <td>997.496095</td>\n",
       "      <td>2019-05-03 13:11:13</td>\n",
       "      <td>2019-05-03 13:33:55</td>\n",
       "    </tr>\n",
       "  </tbody>\n",
       "</table>\n",
       "</div>"
      ],
      "text/plain": [
       "   key  Активная энергия      Начало нагрева       Конец нагрева\n",
       "0    1       1207.804249 2019-05-03 11:02:14 2019-05-03 11:28:37\n",
       "1    2        733.816470 2019-05-03 11:34:14 2019-05-03 11:53:18\n",
       "2    3        443.583327 2019-05-03 12:06:54 2019-05-03 12:32:19\n",
       "3    4        670.663327 2019-05-03 12:39:37 2019-05-03 12:57:50\n",
       "4    5        997.496095 2019-05-03 13:11:13 2019-05-03 13:33:55"
      ]
     },
     "execution_count": 36,
     "metadata": {},
     "output_type": "execute_result"
    }
   ],
   "source": [
    "#считем суммарную энергию\n",
    "sum_active_energy = data_arc.groupby('key')['Активная энергия'].sum()\n",
    "arc_t_start = data_arc.groupby('key')['Начало нагрева дугой'].min()\n",
    "arc_t_finish = data_arc.groupby('key')['Конец нагрева дугой'].max()\n",
    "\n",
    "data_arc_sumE = pd.DataFrame({'key':sum_active_energy.index, \n",
    "                              'Активная энергия':sum_active_energy.values,\n",
    "                              'Начало нагрева':arc_t_start.values,\n",
    "                              'Конец нагрева':arc_t_finish.values})\n",
    "data_arc_sumE.head()"
   ]
  },
  {
   "cell_type": "markdown",
   "id": "65e623a9",
   "metadata": {},
   "source": [
    "### Подготовка данных о подаче сыпучих материалов"
   ]
  },
  {
   "cell_type": "markdown",
   "id": "78f75c8b",
   "metadata": {},
   "source": [
    "В этих данных пропуски означают что сыпучих материалов не подавалось, поэтому заполним нулями."
   ]
  },
  {
   "cell_type": "code",
   "execution_count": 37,
   "id": "3afaabfd",
   "metadata": {},
   "outputs": [],
   "source": [
    "data_bulk = data_bulk.fillna(0)"
   ]
  },
  {
   "cell_type": "code",
   "execution_count": 38,
   "id": "6e728f9d",
   "metadata": {},
   "outputs": [],
   "source": [
    "# Добавим время начала и конца подачи\n",
    "data_bulk['Начало подачи сыпучих'] = data_bulk_time.drop(['key'], axis = 1).min(axis=1)\n",
    "data_bulk['Конец подачи сыпучих'] = data_bulk_time.drop(['key'], axis = 1).max(axis=1)"
   ]
  },
  {
   "cell_type": "code",
   "execution_count": 39,
   "id": "4eda0ae4",
   "metadata": {},
   "outputs": [
    {
     "data": {
      "text/html": [
       "<div>\n",
       "<style scoped>\n",
       "    .dataframe tbody tr th:only-of-type {\n",
       "        vertical-align: middle;\n",
       "    }\n",
       "\n",
       "    .dataframe tbody tr th {\n",
       "        vertical-align: top;\n",
       "    }\n",
       "\n",
       "    .dataframe thead th {\n",
       "        text-align: right;\n",
       "    }\n",
       "</style>\n",
       "<table border=\"1\" class=\"dataframe\">\n",
       "  <thead>\n",
       "    <tr style=\"text-align: right;\">\n",
       "      <th></th>\n",
       "      <th>key</th>\n",
       "      <th>Bulk 1</th>\n",
       "      <th>Bulk 2</th>\n",
       "      <th>Bulk 3</th>\n",
       "      <th>Bulk 4</th>\n",
       "      <th>Bulk 5</th>\n",
       "      <th>Bulk 6</th>\n",
       "      <th>Bulk 7</th>\n",
       "      <th>Bulk 8</th>\n",
       "      <th>Bulk 9</th>\n",
       "      <th>Bulk 10</th>\n",
       "      <th>Bulk 11</th>\n",
       "      <th>Bulk 12</th>\n",
       "      <th>Bulk 13</th>\n",
       "      <th>Bulk 14</th>\n",
       "      <th>Bulk 15</th>\n",
       "      <th>Начало подачи сыпучих</th>\n",
       "      <th>Конец подачи сыпучих</th>\n",
       "    </tr>\n",
       "  </thead>\n",
       "  <tbody>\n",
       "    <tr>\n",
       "      <td>0</td>\n",
       "      <td>1</td>\n",
       "      <td>0.0</td>\n",
       "      <td>0.0</td>\n",
       "      <td>0.0</td>\n",
       "      <td>43.0</td>\n",
       "      <td>0.0</td>\n",
       "      <td>0.0</td>\n",
       "      <td>0.0</td>\n",
       "      <td>0.0</td>\n",
       "      <td>0.0</td>\n",
       "      <td>0.0</td>\n",
       "      <td>0.0</td>\n",
       "      <td>206.0</td>\n",
       "      <td>0.0</td>\n",
       "      <td>150.0</td>\n",
       "      <td>154.0</td>\n",
       "      <td>2019-05-03 11:03:52</td>\n",
       "      <td>2019-05-03 11:21:30</td>\n",
       "    </tr>\n",
       "    <tr>\n",
       "      <td>1</td>\n",
       "      <td>2</td>\n",
       "      <td>0.0</td>\n",
       "      <td>0.0</td>\n",
       "      <td>0.0</td>\n",
       "      <td>73.0</td>\n",
       "      <td>0.0</td>\n",
       "      <td>0.0</td>\n",
       "      <td>0.0</td>\n",
       "      <td>0.0</td>\n",
       "      <td>0.0</td>\n",
       "      <td>0.0</td>\n",
       "      <td>0.0</td>\n",
       "      <td>206.0</td>\n",
       "      <td>0.0</td>\n",
       "      <td>149.0</td>\n",
       "      <td>154.0</td>\n",
       "      <td>2019-05-03 11:40:20</td>\n",
       "      <td>2019-05-03 11:46:38</td>\n",
       "    </tr>\n",
       "    <tr>\n",
       "      <td>2</td>\n",
       "      <td>3</td>\n",
       "      <td>0.0</td>\n",
       "      <td>0.0</td>\n",
       "      <td>0.0</td>\n",
       "      <td>34.0</td>\n",
       "      <td>0.0</td>\n",
       "      <td>0.0</td>\n",
       "      <td>0.0</td>\n",
       "      <td>0.0</td>\n",
       "      <td>0.0</td>\n",
       "      <td>0.0</td>\n",
       "      <td>0.0</td>\n",
       "      <td>205.0</td>\n",
       "      <td>0.0</td>\n",
       "      <td>152.0</td>\n",
       "      <td>153.0</td>\n",
       "      <td>2019-05-03 12:09:40</td>\n",
       "      <td>2019-05-03 12:31:06</td>\n",
       "    </tr>\n",
       "    <tr>\n",
       "      <td>3</td>\n",
       "      <td>4</td>\n",
       "      <td>0.0</td>\n",
       "      <td>0.0</td>\n",
       "      <td>0.0</td>\n",
       "      <td>81.0</td>\n",
       "      <td>0.0</td>\n",
       "      <td>0.0</td>\n",
       "      <td>0.0</td>\n",
       "      <td>0.0</td>\n",
       "      <td>0.0</td>\n",
       "      <td>0.0</td>\n",
       "      <td>0.0</td>\n",
       "      <td>207.0</td>\n",
       "      <td>0.0</td>\n",
       "      <td>153.0</td>\n",
       "      <td>154.0</td>\n",
       "      <td>2019-05-03 12:41:24</td>\n",
       "      <td>2019-05-03 12:48:43</td>\n",
       "    </tr>\n",
       "    <tr>\n",
       "      <td>4</td>\n",
       "      <td>5</td>\n",
       "      <td>0.0</td>\n",
       "      <td>0.0</td>\n",
       "      <td>0.0</td>\n",
       "      <td>78.0</td>\n",
       "      <td>0.0</td>\n",
       "      <td>0.0</td>\n",
       "      <td>0.0</td>\n",
       "      <td>0.0</td>\n",
       "      <td>0.0</td>\n",
       "      <td>0.0</td>\n",
       "      <td>0.0</td>\n",
       "      <td>203.0</td>\n",
       "      <td>0.0</td>\n",
       "      <td>151.0</td>\n",
       "      <td>152.0</td>\n",
       "      <td>2019-05-03 13:12:56</td>\n",
       "      <td>2019-05-03 13:18:50</td>\n",
       "    </tr>\n",
       "  </tbody>\n",
       "</table>\n",
       "</div>"
      ],
      "text/plain": [
       "   key  Bulk 1  Bulk 2  Bulk 3  Bulk 4  Bulk 5  Bulk 6  Bulk 7  Bulk 8  \\\n",
       "0    1     0.0     0.0     0.0    43.0     0.0     0.0     0.0     0.0   \n",
       "1    2     0.0     0.0     0.0    73.0     0.0     0.0     0.0     0.0   \n",
       "2    3     0.0     0.0     0.0    34.0     0.0     0.0     0.0     0.0   \n",
       "3    4     0.0     0.0     0.0    81.0     0.0     0.0     0.0     0.0   \n",
       "4    5     0.0     0.0     0.0    78.0     0.0     0.0     0.0     0.0   \n",
       "\n",
       "   Bulk 9  Bulk 10  Bulk 11  Bulk 12  Bulk 13  Bulk 14  Bulk 15  \\\n",
       "0     0.0      0.0      0.0    206.0      0.0    150.0    154.0   \n",
       "1     0.0      0.0      0.0    206.0      0.0    149.0    154.0   \n",
       "2     0.0      0.0      0.0    205.0      0.0    152.0    153.0   \n",
       "3     0.0      0.0      0.0    207.0      0.0    153.0    154.0   \n",
       "4     0.0      0.0      0.0    203.0      0.0    151.0    152.0   \n",
       "\n",
       "  Начало подачи сыпучих Конец подачи сыпучих  \n",
       "0   2019-05-03 11:03:52  2019-05-03 11:21:30  \n",
       "1   2019-05-03 11:40:20  2019-05-03 11:46:38  \n",
       "2   2019-05-03 12:09:40  2019-05-03 12:31:06  \n",
       "3   2019-05-03 12:41:24  2019-05-03 12:48:43  \n",
       "4   2019-05-03 13:12:56  2019-05-03 13:18:50  "
      ]
     },
     "execution_count": 39,
     "metadata": {},
     "output_type": "execute_result"
    }
   ],
   "source": [
    "data_bulk.head()"
   ]
  },
  {
   "cell_type": "markdown",
   "id": "be817d66",
   "metadata": {},
   "source": [
    "### Подготовка данных о подаче проволочных материалов"
   ]
  },
  {
   "cell_type": "markdown",
   "id": "fe3c4cf1",
   "metadata": {},
   "source": [
    "В этих данных пропуски означают что проволичных материалов не подавалось, поэтому заполним нулями"
   ]
  },
  {
   "cell_type": "code",
   "execution_count": 40,
   "id": "d150ab98",
   "metadata": {},
   "outputs": [],
   "source": [
    "data_wire = data_wire.fillna(0) "
   ]
  },
  {
   "cell_type": "code",
   "execution_count": 41,
   "id": "a994574c",
   "metadata": {},
   "outputs": [],
   "source": [
    "# Добавим время начала и конца подачи\n",
    "data_wire['Начало подачи проволочных'] =  data_wire_time.drop(['key'], axis = 1).min(axis=1)\n",
    "data_wire['Конец подачи проволочных'] = data_wire_time.drop(['key'], axis = 1).max(axis=1)"
   ]
  },
  {
   "cell_type": "code",
   "execution_count": 42,
   "id": "5182d737",
   "metadata": {
    "scrolled": false
   },
   "outputs": [
    {
     "data": {
      "text/html": [
       "<div>\n",
       "<style scoped>\n",
       "    .dataframe tbody tr th:only-of-type {\n",
       "        vertical-align: middle;\n",
       "    }\n",
       "\n",
       "    .dataframe tbody tr th {\n",
       "        vertical-align: top;\n",
       "    }\n",
       "\n",
       "    .dataframe thead th {\n",
       "        text-align: right;\n",
       "    }\n",
       "</style>\n",
       "<table border=\"1\" class=\"dataframe\">\n",
       "  <thead>\n",
       "    <tr style=\"text-align: right;\">\n",
       "      <th></th>\n",
       "      <th>key</th>\n",
       "      <th>Wire 1</th>\n",
       "      <th>Wire 2</th>\n",
       "      <th>Wire 3</th>\n",
       "      <th>Wire 4</th>\n",
       "      <th>Wire 5</th>\n",
       "      <th>Wire 6</th>\n",
       "      <th>Wire 7</th>\n",
       "      <th>Wire 8</th>\n",
       "      <th>Wire 9</th>\n",
       "      <th>Начало подачи проволочных</th>\n",
       "      <th>Конец подачи проволочных</th>\n",
       "    </tr>\n",
       "  </thead>\n",
       "  <tbody>\n",
       "    <tr>\n",
       "      <td>0</td>\n",
       "      <td>1</td>\n",
       "      <td>60.059998</td>\n",
       "      <td>0.00000</td>\n",
       "      <td>0.0</td>\n",
       "      <td>0.0</td>\n",
       "      <td>0.0</td>\n",
       "      <td>0.0</td>\n",
       "      <td>0.0</td>\n",
       "      <td>0.0</td>\n",
       "      <td>0.0</td>\n",
       "      <td>2019-05-03 11:11:41</td>\n",
       "      <td>2019-05-03 11:11:41</td>\n",
       "    </tr>\n",
       "    <tr>\n",
       "      <td>1</td>\n",
       "      <td>2</td>\n",
       "      <td>96.052315</td>\n",
       "      <td>0.00000</td>\n",
       "      <td>0.0</td>\n",
       "      <td>0.0</td>\n",
       "      <td>0.0</td>\n",
       "      <td>0.0</td>\n",
       "      <td>0.0</td>\n",
       "      <td>0.0</td>\n",
       "      <td>0.0</td>\n",
       "      <td>2019-05-03 11:46:10</td>\n",
       "      <td>2019-05-03 11:46:10</td>\n",
       "    </tr>\n",
       "    <tr>\n",
       "      <td>2</td>\n",
       "      <td>3</td>\n",
       "      <td>91.160157</td>\n",
       "      <td>0.00000</td>\n",
       "      <td>0.0</td>\n",
       "      <td>0.0</td>\n",
       "      <td>0.0</td>\n",
       "      <td>0.0</td>\n",
       "      <td>0.0</td>\n",
       "      <td>0.0</td>\n",
       "      <td>0.0</td>\n",
       "      <td>2019-05-03 12:13:47</td>\n",
       "      <td>2019-05-03 12:13:47</td>\n",
       "    </tr>\n",
       "    <tr>\n",
       "      <td>3</td>\n",
       "      <td>4</td>\n",
       "      <td>89.063515</td>\n",
       "      <td>0.00000</td>\n",
       "      <td>0.0</td>\n",
       "      <td>0.0</td>\n",
       "      <td>0.0</td>\n",
       "      <td>0.0</td>\n",
       "      <td>0.0</td>\n",
       "      <td>0.0</td>\n",
       "      <td>0.0</td>\n",
       "      <td>2019-05-03 12:48:05</td>\n",
       "      <td>2019-05-03 12:48:05</td>\n",
       "    </tr>\n",
       "    <tr>\n",
       "      <td>4</td>\n",
       "      <td>5</td>\n",
       "      <td>89.238236</td>\n",
       "      <td>9.11456</td>\n",
       "      <td>0.0</td>\n",
       "      <td>0.0</td>\n",
       "      <td>0.0</td>\n",
       "      <td>0.0</td>\n",
       "      <td>0.0</td>\n",
       "      <td>0.0</td>\n",
       "      <td>0.0</td>\n",
       "      <td>2019-05-03 13:18:15</td>\n",
       "      <td>2019-05-03 13:32:06</td>\n",
       "    </tr>\n",
       "  </tbody>\n",
       "</table>\n",
       "</div>"
      ],
      "text/plain": [
       "   key     Wire 1   Wire 2  Wire 3  Wire 4  Wire 5  Wire 6  Wire 7  Wire 8  \\\n",
       "0    1  60.059998  0.00000     0.0     0.0     0.0     0.0     0.0     0.0   \n",
       "1    2  96.052315  0.00000     0.0     0.0     0.0     0.0     0.0     0.0   \n",
       "2    3  91.160157  0.00000     0.0     0.0     0.0     0.0     0.0     0.0   \n",
       "3    4  89.063515  0.00000     0.0     0.0     0.0     0.0     0.0     0.0   \n",
       "4    5  89.238236  9.11456     0.0     0.0     0.0     0.0     0.0     0.0   \n",
       "\n",
       "   Wire 9 Начало подачи проволочных Конец подачи проволочных  \n",
       "0     0.0       2019-05-03 11:11:41      2019-05-03 11:11:41  \n",
       "1     0.0       2019-05-03 11:46:10      2019-05-03 11:46:10  \n",
       "2     0.0       2019-05-03 12:13:47      2019-05-03 12:13:47  \n",
       "3     0.0       2019-05-03 12:48:05      2019-05-03 12:48:05  \n",
       "4     0.0       2019-05-03 13:18:15      2019-05-03 13:32:06  "
      ]
     },
     "execution_count": 42,
     "metadata": {},
     "output_type": "execute_result"
    }
   ],
   "source": [
    "data_wire.head()"
   ]
  },
  {
   "cell_type": "markdown",
   "id": "ed9ca876",
   "metadata": {},
   "source": [
    "### Общий dataset"
   ]
  },
  {
   "cell_type": "code",
   "execution_count": 43,
   "id": "4bc9efea",
   "metadata": {},
   "outputs": [
    {
     "data": {
      "text/html": [
       "<div>\n",
       "<style scoped>\n",
       "    .dataframe tbody tr th:only-of-type {\n",
       "        vertical-align: middle;\n",
       "    }\n",
       "\n",
       "    .dataframe tbody tr th {\n",
       "        vertical-align: top;\n",
       "    }\n",
       "\n",
       "    .dataframe thead th {\n",
       "        text-align: right;\n",
       "    }\n",
       "</style>\n",
       "<table border=\"1\" class=\"dataframe\">\n",
       "  <thead>\n",
       "    <tr style=\"text-align: right;\">\n",
       "      <th></th>\n",
       "      <th>key</th>\n",
       "      <th>Начало замера температуры</th>\n",
       "      <th>Конец замера температуры</th>\n",
       "      <th>Начальная температура</th>\n",
       "      <th>Конечная температура</th>\n",
       "      <th>Активная энергия</th>\n",
       "      <th>Начало нагрева</th>\n",
       "      <th>Конец нагрева</th>\n",
       "      <th>Bulk 1</th>\n",
       "      <th>Bulk 2</th>\n",
       "      <th>...</th>\n",
       "      <th>Wire 3</th>\n",
       "      <th>Wire 4</th>\n",
       "      <th>Wire 5</th>\n",
       "      <th>Wire 6</th>\n",
       "      <th>Wire 7</th>\n",
       "      <th>Wire 8</th>\n",
       "      <th>Wire 9</th>\n",
       "      <th>Начало подачи проволочных</th>\n",
       "      <th>Конец подачи проволочных</th>\n",
       "      <th>Газ 1</th>\n",
       "    </tr>\n",
       "  </thead>\n",
       "  <tbody>\n",
       "    <tr>\n",
       "      <td>0</td>\n",
       "      <td>1</td>\n",
       "      <td>2019-05-03 11:16:18</td>\n",
       "      <td>2019-05-03 11:30:39</td>\n",
       "      <td>1571.0</td>\n",
       "      <td>1613.0</td>\n",
       "      <td>1207.804249</td>\n",
       "      <td>2019-05-03 11:02:14</td>\n",
       "      <td>2019-05-03 11:28:37</td>\n",
       "      <td>0.0</td>\n",
       "      <td>0.0</td>\n",
       "      <td>...</td>\n",
       "      <td>0.0</td>\n",
       "      <td>0.0</td>\n",
       "      <td>0.0</td>\n",
       "      <td>0.0</td>\n",
       "      <td>0.0</td>\n",
       "      <td>0.0</td>\n",
       "      <td>0.0</td>\n",
       "      <td>2019-05-03 11:11:41</td>\n",
       "      <td>2019-05-03 11:11:41</td>\n",
       "      <td>29.749986</td>\n",
       "    </tr>\n",
       "    <tr>\n",
       "      <td>1</td>\n",
       "      <td>2</td>\n",
       "      <td>2019-05-03 11:37:27</td>\n",
       "      <td>2019-05-03 11:59:12</td>\n",
       "      <td>1581.0</td>\n",
       "      <td>1602.0</td>\n",
       "      <td>733.816470</td>\n",
       "      <td>2019-05-03 11:34:14</td>\n",
       "      <td>2019-05-03 11:53:18</td>\n",
       "      <td>0.0</td>\n",
       "      <td>0.0</td>\n",
       "      <td>...</td>\n",
       "      <td>0.0</td>\n",
       "      <td>0.0</td>\n",
       "      <td>0.0</td>\n",
       "      <td>0.0</td>\n",
       "      <td>0.0</td>\n",
       "      <td>0.0</td>\n",
       "      <td>0.0</td>\n",
       "      <td>2019-05-03 11:46:10</td>\n",
       "      <td>2019-05-03 11:46:10</td>\n",
       "      <td>12.555561</td>\n",
       "    </tr>\n",
       "    <tr>\n",
       "      <td>2</td>\n",
       "      <td>3</td>\n",
       "      <td>2019-05-03 12:13:17</td>\n",
       "      <td>2019-05-03 12:34:57</td>\n",
       "      <td>1596.0</td>\n",
       "      <td>1599.0</td>\n",
       "      <td>443.583327</td>\n",
       "      <td>2019-05-03 12:06:54</td>\n",
       "      <td>2019-05-03 12:32:19</td>\n",
       "      <td>0.0</td>\n",
       "      <td>0.0</td>\n",
       "      <td>...</td>\n",
       "      <td>0.0</td>\n",
       "      <td>0.0</td>\n",
       "      <td>0.0</td>\n",
       "      <td>0.0</td>\n",
       "      <td>0.0</td>\n",
       "      <td>0.0</td>\n",
       "      <td>0.0</td>\n",
       "      <td>2019-05-03 12:13:47</td>\n",
       "      <td>2019-05-03 12:13:47</td>\n",
       "      <td>28.554793</td>\n",
       "    </tr>\n",
       "    <tr>\n",
       "      <td>3</td>\n",
       "      <td>4</td>\n",
       "      <td>2019-05-03 12:52:57</td>\n",
       "      <td>2019-05-03 12:59:25</td>\n",
       "      <td>1601.0</td>\n",
       "      <td>1625.0</td>\n",
       "      <td>670.663327</td>\n",
       "      <td>2019-05-03 12:39:37</td>\n",
       "      <td>2019-05-03 12:57:50</td>\n",
       "      <td>0.0</td>\n",
       "      <td>0.0</td>\n",
       "      <td>...</td>\n",
       "      <td>0.0</td>\n",
       "      <td>0.0</td>\n",
       "      <td>0.0</td>\n",
       "      <td>0.0</td>\n",
       "      <td>0.0</td>\n",
       "      <td>0.0</td>\n",
       "      <td>0.0</td>\n",
       "      <td>2019-05-03 12:48:05</td>\n",
       "      <td>2019-05-03 12:48:05</td>\n",
       "      <td>18.841219</td>\n",
       "    </tr>\n",
       "    <tr>\n",
       "      <td>4</td>\n",
       "      <td>5</td>\n",
       "      <td>2019-05-03 13:23:19</td>\n",
       "      <td>2019-05-03 13:36:01</td>\n",
       "      <td>1576.0</td>\n",
       "      <td>1602.0</td>\n",
       "      <td>997.496095</td>\n",
       "      <td>2019-05-03 13:11:13</td>\n",
       "      <td>2019-05-03 13:33:55</td>\n",
       "      <td>0.0</td>\n",
       "      <td>0.0</td>\n",
       "      <td>...</td>\n",
       "      <td>0.0</td>\n",
       "      <td>0.0</td>\n",
       "      <td>0.0</td>\n",
       "      <td>0.0</td>\n",
       "      <td>0.0</td>\n",
       "      <td>0.0</td>\n",
       "      <td>0.0</td>\n",
       "      <td>2019-05-03 13:18:15</td>\n",
       "      <td>2019-05-03 13:32:06</td>\n",
       "      <td>5.413692</td>\n",
       "    </tr>\n",
       "    <tr>\n",
       "      <td>...</td>\n",
       "      <td>...</td>\n",
       "      <td>...</td>\n",
       "      <td>...</td>\n",
       "      <td>...</td>\n",
       "      <td>...</td>\n",
       "      <td>...</td>\n",
       "      <td>...</td>\n",
       "      <td>...</td>\n",
       "      <td>...</td>\n",
       "      <td>...</td>\n",
       "      <td>...</td>\n",
       "      <td>...</td>\n",
       "      <td>...</td>\n",
       "      <td>...</td>\n",
       "      <td>...</td>\n",
       "      <td>...</td>\n",
       "      <td>...</td>\n",
       "      <td>...</td>\n",
       "      <td>...</td>\n",
       "      <td>...</td>\n",
       "      <td>...</td>\n",
       "    </tr>\n",
       "    <tr>\n",
       "      <td>2320</td>\n",
       "      <td>2495</td>\n",
       "      <td>2019-08-06 00:35:45</td>\n",
       "      <td>2019-08-06 00:54:42</td>\n",
       "      <td>1570.0</td>\n",
       "      <td>1591.0</td>\n",
       "      <td>626.167357</td>\n",
       "      <td>2019-08-06 00:31:05</td>\n",
       "      <td>2019-08-06 00:51:13</td>\n",
       "      <td>0.0</td>\n",
       "      <td>0.0</td>\n",
       "      <td>...</td>\n",
       "      <td>0.0</td>\n",
       "      <td>0.0</td>\n",
       "      <td>0.0</td>\n",
       "      <td>0.0</td>\n",
       "      <td>0.0</td>\n",
       "      <td>0.0</td>\n",
       "      <td>0.0</td>\n",
       "      <td>2019-08-06 00:36:13</td>\n",
       "      <td>2019-08-06 00:36:13</td>\n",
       "      <td>7.125735</td>\n",
       "    </tr>\n",
       "    <tr>\n",
       "      <td>2321</td>\n",
       "      <td>2496</td>\n",
       "      <td>2019-08-06 01:02:54</td>\n",
       "      <td>2019-08-06 01:29:52</td>\n",
       "      <td>1554.0</td>\n",
       "      <td>1591.0</td>\n",
       "      <td>727.868032</td>\n",
       "      <td>2019-08-06 01:00:06</td>\n",
       "      <td>2019-08-06 01:23:32</td>\n",
       "      <td>0.0</td>\n",
       "      <td>0.0</td>\n",
       "      <td>...</td>\n",
       "      <td>0.0</td>\n",
       "      <td>0.0</td>\n",
       "      <td>0.0</td>\n",
       "      <td>0.0</td>\n",
       "      <td>0.0</td>\n",
       "      <td>0.0</td>\n",
       "      <td>0.0</td>\n",
       "      <td>2019-08-06 01:13:33</td>\n",
       "      <td>2019-08-06 01:13:33</td>\n",
       "      <td>9.412616</td>\n",
       "    </tr>\n",
       "    <tr>\n",
       "      <td>2322</td>\n",
       "      <td>2497</td>\n",
       "      <td>2019-08-06 01:41:53</td>\n",
       "      <td>2019-08-06 01:53:50</td>\n",
       "      <td>1571.0</td>\n",
       "      <td>1589.0</td>\n",
       "      <td>427.535518</td>\n",
       "      <td>2019-08-06 01:38:01</td>\n",
       "      <td>2019-08-06 01:50:45</td>\n",
       "      <td>0.0</td>\n",
       "      <td>0.0</td>\n",
       "      <td>...</td>\n",
       "      <td>0.0</td>\n",
       "      <td>0.0</td>\n",
       "      <td>0.0</td>\n",
       "      <td>0.0</td>\n",
       "      <td>0.0</td>\n",
       "      <td>0.0</td>\n",
       "      <td>0.0</td>\n",
       "      <td>2019-08-06 01:42:27</td>\n",
       "      <td>2019-08-06 01:42:51</td>\n",
       "      <td>6.271699</td>\n",
       "    </tr>\n",
       "    <tr>\n",
       "      <td>2323</td>\n",
       "      <td>2498</td>\n",
       "      <td>2019-08-06 02:03:49</td>\n",
       "      <td>2019-08-06 02:25:31</td>\n",
       "      <td>1591.0</td>\n",
       "      <td>1594.0</td>\n",
       "      <td>629.928649</td>\n",
       "      <td>2019-08-06 01:57:46</td>\n",
       "      <td>2019-08-06 02:20:24</td>\n",
       "      <td>0.0</td>\n",
       "      <td>0.0</td>\n",
       "      <td>...</td>\n",
       "      <td>0.0</td>\n",
       "      <td>0.0</td>\n",
       "      <td>0.0</td>\n",
       "      <td>0.0</td>\n",
       "      <td>0.0</td>\n",
       "      <td>0.0</td>\n",
       "      <td>0.0</td>\n",
       "      <td>2019-08-06 02:04:20</td>\n",
       "      <td>2019-08-06 02:04:20</td>\n",
       "      <td>14.953657</td>\n",
       "    </tr>\n",
       "    <tr>\n",
       "      <td>2324</td>\n",
       "      <td>2499</td>\n",
       "      <td>2019-08-06 02:40:25</td>\n",
       "      <td>2019-08-06 03:00:28</td>\n",
       "      <td>1569.0</td>\n",
       "      <td>1603.0</td>\n",
       "      <td>1075.132183</td>\n",
       "      <td>2019-08-06 02:32:56</td>\n",
       "      <td>2019-08-06 02:55:42</td>\n",
       "      <td>0.0</td>\n",
       "      <td>0.0</td>\n",
       "      <td>...</td>\n",
       "      <td>0.0</td>\n",
       "      <td>0.0</td>\n",
       "      <td>0.0</td>\n",
       "      <td>0.0</td>\n",
       "      <td>0.0</td>\n",
       "      <td>0.0</td>\n",
       "      <td>0.0</td>\n",
       "      <td>2019-08-06 02:39:57</td>\n",
       "      <td>2019-08-06 02:41:06</td>\n",
       "      <td>11.336151</td>\n",
       "    </tr>\n",
       "  </tbody>\n",
       "</table>\n",
       "<p>2325 rows × 37 columns</p>\n",
       "</div>"
      ],
      "text/plain": [
       "       key Начало замера температуры Конец замера температуры  \\\n",
       "0        1       2019-05-03 11:16:18      2019-05-03 11:30:39   \n",
       "1        2       2019-05-03 11:37:27      2019-05-03 11:59:12   \n",
       "2        3       2019-05-03 12:13:17      2019-05-03 12:34:57   \n",
       "3        4       2019-05-03 12:52:57      2019-05-03 12:59:25   \n",
       "4        5       2019-05-03 13:23:19      2019-05-03 13:36:01   \n",
       "...    ...                       ...                      ...   \n",
       "2320  2495       2019-08-06 00:35:45      2019-08-06 00:54:42   \n",
       "2321  2496       2019-08-06 01:02:54      2019-08-06 01:29:52   \n",
       "2322  2497       2019-08-06 01:41:53      2019-08-06 01:53:50   \n",
       "2323  2498       2019-08-06 02:03:49      2019-08-06 02:25:31   \n",
       "2324  2499       2019-08-06 02:40:25      2019-08-06 03:00:28   \n",
       "\n",
       "      Начальная температура  Конечная температура  Активная энергия  \\\n",
       "0                    1571.0                1613.0       1207.804249   \n",
       "1                    1581.0                1602.0        733.816470   \n",
       "2                    1596.0                1599.0        443.583327   \n",
       "3                    1601.0                1625.0        670.663327   \n",
       "4                    1576.0                1602.0        997.496095   \n",
       "...                     ...                   ...               ...   \n",
       "2320                 1570.0                1591.0        626.167357   \n",
       "2321                 1554.0                1591.0        727.868032   \n",
       "2322                 1571.0                1589.0        427.535518   \n",
       "2323                 1591.0                1594.0        629.928649   \n",
       "2324                 1569.0                1603.0       1075.132183   \n",
       "\n",
       "          Начало нагрева       Конец нагрева  Bulk 1  Bulk 2  ...  Wire 3  \\\n",
       "0    2019-05-03 11:02:14 2019-05-03 11:28:37     0.0     0.0  ...     0.0   \n",
       "1    2019-05-03 11:34:14 2019-05-03 11:53:18     0.0     0.0  ...     0.0   \n",
       "2    2019-05-03 12:06:54 2019-05-03 12:32:19     0.0     0.0  ...     0.0   \n",
       "3    2019-05-03 12:39:37 2019-05-03 12:57:50     0.0     0.0  ...     0.0   \n",
       "4    2019-05-03 13:11:13 2019-05-03 13:33:55     0.0     0.0  ...     0.0   \n",
       "...                  ...                 ...     ...     ...  ...     ...   \n",
       "2320 2019-08-06 00:31:05 2019-08-06 00:51:13     0.0     0.0  ...     0.0   \n",
       "2321 2019-08-06 01:00:06 2019-08-06 01:23:32     0.0     0.0  ...     0.0   \n",
       "2322 2019-08-06 01:38:01 2019-08-06 01:50:45     0.0     0.0  ...     0.0   \n",
       "2323 2019-08-06 01:57:46 2019-08-06 02:20:24     0.0     0.0  ...     0.0   \n",
       "2324 2019-08-06 02:32:56 2019-08-06 02:55:42     0.0     0.0  ...     0.0   \n",
       "\n",
       "      Wire 4  Wire 5  Wire 6  Wire 7  Wire 8  Wire 9  \\\n",
       "0        0.0     0.0     0.0     0.0     0.0     0.0   \n",
       "1        0.0     0.0     0.0     0.0     0.0     0.0   \n",
       "2        0.0     0.0     0.0     0.0     0.0     0.0   \n",
       "3        0.0     0.0     0.0     0.0     0.0     0.0   \n",
       "4        0.0     0.0     0.0     0.0     0.0     0.0   \n",
       "...      ...     ...     ...     ...     ...     ...   \n",
       "2320     0.0     0.0     0.0     0.0     0.0     0.0   \n",
       "2321     0.0     0.0     0.0     0.0     0.0     0.0   \n",
       "2322     0.0     0.0     0.0     0.0     0.0     0.0   \n",
       "2323     0.0     0.0     0.0     0.0     0.0     0.0   \n",
       "2324     0.0     0.0     0.0     0.0     0.0     0.0   \n",
       "\n",
       "      Начало подачи проволочных  Конец подачи проволочных      Газ 1  \n",
       "0           2019-05-03 11:11:41       2019-05-03 11:11:41  29.749986  \n",
       "1           2019-05-03 11:46:10       2019-05-03 11:46:10  12.555561  \n",
       "2           2019-05-03 12:13:47       2019-05-03 12:13:47  28.554793  \n",
       "3           2019-05-03 12:48:05       2019-05-03 12:48:05  18.841219  \n",
       "4           2019-05-03 13:18:15       2019-05-03 13:32:06   5.413692  \n",
       "...                         ...                       ...        ...  \n",
       "2320        2019-08-06 00:36:13       2019-08-06 00:36:13   7.125735  \n",
       "2321        2019-08-06 01:13:33       2019-08-06 01:13:33   9.412616  \n",
       "2322        2019-08-06 01:42:27       2019-08-06 01:42:51   6.271699  \n",
       "2323        2019-08-06 02:04:20       2019-08-06 02:04:20  14.953657  \n",
       "2324        2019-08-06 02:39:57       2019-08-06 02:41:06  11.336151  \n",
       "\n",
       "[2325 rows x 37 columns]"
      ]
     },
     "execution_count": 43,
     "metadata": {},
     "output_type": "execute_result"
    }
   ],
   "source": [
    "df = data_temp_t1t2.merge(data_arc_sumE, on='key')\\\n",
    "                   .merge(data_bulk, on='key')\\\n",
    "                   .merge(data_wire, on='key')\\\n",
    "                   .merge(data_gas, on='key')\n",
    "df"
   ]
  },
  {
   "cell_type": "markdown",
   "id": "fa9894d1",
   "metadata": {},
   "source": [
    "### Проверка последовательности технологического процесса\n"
   ]
  },
  {
   "cell_type": "markdown",
   "id": "a60523ca",
   "metadata": {},
   "source": [
    "Все технологические процессы (нагрев, добавление сыпучих материалов, добавление проволосных мтериалов) должны выполнятся в период времени между превым и последним замером температуры. Проверим это условие сравнивая время начала и конца технологических процессов с временем замера температуры."
   ]
  },
  {
   "cell_type": "code",
   "execution_count": 44,
   "id": "035b6fcf",
   "metadata": {},
   "outputs": [
    {
     "data": {
      "text/html": [
       "<div>\n",
       "<style scoped>\n",
       "    .dataframe tbody tr th:only-of-type {\n",
       "        vertical-align: middle;\n",
       "    }\n",
       "\n",
       "    .dataframe tbody tr th {\n",
       "        vertical-align: top;\n",
       "    }\n",
       "\n",
       "    .dataframe thead th {\n",
       "        text-align: right;\n",
       "    }\n",
       "</style>\n",
       "<table border=\"1\" class=\"dataframe\">\n",
       "  <thead>\n",
       "    <tr style=\"text-align: right;\">\n",
       "      <th></th>\n",
       "      <th>key</th>\n",
       "      <th>Начало замера температуры</th>\n",
       "      <th>Конец замера температуры</th>\n",
       "      <th>Начальная температура</th>\n",
       "      <th>Конечная температура</th>\n",
       "      <th>Активная энергия</th>\n",
       "      <th>Начало нагрева</th>\n",
       "      <th>Конец нагрева</th>\n",
       "      <th>Bulk 1</th>\n",
       "      <th>Bulk 2</th>\n",
       "      <th>...</th>\n",
       "      <th>Wire 3</th>\n",
       "      <th>Wire 4</th>\n",
       "      <th>Wire 5</th>\n",
       "      <th>Wire 6</th>\n",
       "      <th>Wire 7</th>\n",
       "      <th>Wire 8</th>\n",
       "      <th>Wire 9</th>\n",
       "      <th>Начало подачи проволочных</th>\n",
       "      <th>Конец подачи проволочных</th>\n",
       "      <th>Газ 1</th>\n",
       "    </tr>\n",
       "  </thead>\n",
       "  <tbody>\n",
       "    <tr>\n",
       "      <td>0</td>\n",
       "      <td>1</td>\n",
       "      <td>2019-05-03 11:16:18</td>\n",
       "      <td>2019-05-03 11:30:39</td>\n",
       "      <td>1571.0</td>\n",
       "      <td>1613.0</td>\n",
       "      <td>1207.804249</td>\n",
       "      <td>2019-05-03 11:02:14</td>\n",
       "      <td>2019-05-03 11:28:37</td>\n",
       "      <td>0.0</td>\n",
       "      <td>0.0</td>\n",
       "      <td>...</td>\n",
       "      <td>0.0</td>\n",
       "      <td>0.0</td>\n",
       "      <td>0.0</td>\n",
       "      <td>0.0</td>\n",
       "      <td>0.0</td>\n",
       "      <td>0.0</td>\n",
       "      <td>0.0</td>\n",
       "      <td>2019-05-03 11:11:41</td>\n",
       "      <td>2019-05-03 11:11:41</td>\n",
       "      <td>29.749986</td>\n",
       "    </tr>\n",
       "    <tr>\n",
       "      <td>1</td>\n",
       "      <td>2</td>\n",
       "      <td>2019-05-03 11:37:27</td>\n",
       "      <td>2019-05-03 11:59:12</td>\n",
       "      <td>1581.0</td>\n",
       "      <td>1602.0</td>\n",
       "      <td>733.816470</td>\n",
       "      <td>2019-05-03 11:34:14</td>\n",
       "      <td>2019-05-03 11:53:18</td>\n",
       "      <td>0.0</td>\n",
       "      <td>0.0</td>\n",
       "      <td>...</td>\n",
       "      <td>0.0</td>\n",
       "      <td>0.0</td>\n",
       "      <td>0.0</td>\n",
       "      <td>0.0</td>\n",
       "      <td>0.0</td>\n",
       "      <td>0.0</td>\n",
       "      <td>0.0</td>\n",
       "      <td>2019-05-03 11:46:10</td>\n",
       "      <td>2019-05-03 11:46:10</td>\n",
       "      <td>12.555561</td>\n",
       "    </tr>\n",
       "    <tr>\n",
       "      <td>2</td>\n",
       "      <td>3</td>\n",
       "      <td>2019-05-03 12:13:17</td>\n",
       "      <td>2019-05-03 12:34:57</td>\n",
       "      <td>1596.0</td>\n",
       "      <td>1599.0</td>\n",
       "      <td>443.583327</td>\n",
       "      <td>2019-05-03 12:06:54</td>\n",
       "      <td>2019-05-03 12:32:19</td>\n",
       "      <td>0.0</td>\n",
       "      <td>0.0</td>\n",
       "      <td>...</td>\n",
       "      <td>0.0</td>\n",
       "      <td>0.0</td>\n",
       "      <td>0.0</td>\n",
       "      <td>0.0</td>\n",
       "      <td>0.0</td>\n",
       "      <td>0.0</td>\n",
       "      <td>0.0</td>\n",
       "      <td>2019-05-03 12:13:47</td>\n",
       "      <td>2019-05-03 12:13:47</td>\n",
       "      <td>28.554793</td>\n",
       "    </tr>\n",
       "    <tr>\n",
       "      <td>3</td>\n",
       "      <td>4</td>\n",
       "      <td>2019-05-03 12:52:57</td>\n",
       "      <td>2019-05-03 12:59:25</td>\n",
       "      <td>1601.0</td>\n",
       "      <td>1625.0</td>\n",
       "      <td>670.663327</td>\n",
       "      <td>2019-05-03 12:39:37</td>\n",
       "      <td>2019-05-03 12:57:50</td>\n",
       "      <td>0.0</td>\n",
       "      <td>0.0</td>\n",
       "      <td>...</td>\n",
       "      <td>0.0</td>\n",
       "      <td>0.0</td>\n",
       "      <td>0.0</td>\n",
       "      <td>0.0</td>\n",
       "      <td>0.0</td>\n",
       "      <td>0.0</td>\n",
       "      <td>0.0</td>\n",
       "      <td>2019-05-03 12:48:05</td>\n",
       "      <td>2019-05-03 12:48:05</td>\n",
       "      <td>18.841219</td>\n",
       "    </tr>\n",
       "    <tr>\n",
       "      <td>4</td>\n",
       "      <td>5</td>\n",
       "      <td>2019-05-03 13:23:19</td>\n",
       "      <td>2019-05-03 13:36:01</td>\n",
       "      <td>1576.0</td>\n",
       "      <td>1602.0</td>\n",
       "      <td>997.496095</td>\n",
       "      <td>2019-05-03 13:11:13</td>\n",
       "      <td>2019-05-03 13:33:55</td>\n",
       "      <td>0.0</td>\n",
       "      <td>0.0</td>\n",
       "      <td>...</td>\n",
       "      <td>0.0</td>\n",
       "      <td>0.0</td>\n",
       "      <td>0.0</td>\n",
       "      <td>0.0</td>\n",
       "      <td>0.0</td>\n",
       "      <td>0.0</td>\n",
       "      <td>0.0</td>\n",
       "      <td>2019-05-03 13:18:15</td>\n",
       "      <td>2019-05-03 13:32:06</td>\n",
       "      <td>5.413692</td>\n",
       "    </tr>\n",
       "    <tr>\n",
       "      <td>...</td>\n",
       "      <td>...</td>\n",
       "      <td>...</td>\n",
       "      <td>...</td>\n",
       "      <td>...</td>\n",
       "      <td>...</td>\n",
       "      <td>...</td>\n",
       "      <td>...</td>\n",
       "      <td>...</td>\n",
       "      <td>...</td>\n",
       "      <td>...</td>\n",
       "      <td>...</td>\n",
       "      <td>...</td>\n",
       "      <td>...</td>\n",
       "      <td>...</td>\n",
       "      <td>...</td>\n",
       "      <td>...</td>\n",
       "      <td>...</td>\n",
       "      <td>...</td>\n",
       "      <td>...</td>\n",
       "      <td>...</td>\n",
       "      <td>...</td>\n",
       "    </tr>\n",
       "    <tr>\n",
       "      <td>2320</td>\n",
       "      <td>2495</td>\n",
       "      <td>2019-08-06 00:35:45</td>\n",
       "      <td>2019-08-06 00:54:42</td>\n",
       "      <td>1570.0</td>\n",
       "      <td>1591.0</td>\n",
       "      <td>626.167357</td>\n",
       "      <td>2019-08-06 00:31:05</td>\n",
       "      <td>2019-08-06 00:51:13</td>\n",
       "      <td>0.0</td>\n",
       "      <td>0.0</td>\n",
       "      <td>...</td>\n",
       "      <td>0.0</td>\n",
       "      <td>0.0</td>\n",
       "      <td>0.0</td>\n",
       "      <td>0.0</td>\n",
       "      <td>0.0</td>\n",
       "      <td>0.0</td>\n",
       "      <td>0.0</td>\n",
       "      <td>2019-08-06 00:36:13</td>\n",
       "      <td>2019-08-06 00:36:13</td>\n",
       "      <td>7.125735</td>\n",
       "    </tr>\n",
       "    <tr>\n",
       "      <td>2321</td>\n",
       "      <td>2496</td>\n",
       "      <td>2019-08-06 01:02:54</td>\n",
       "      <td>2019-08-06 01:29:52</td>\n",
       "      <td>1554.0</td>\n",
       "      <td>1591.0</td>\n",
       "      <td>727.868032</td>\n",
       "      <td>2019-08-06 01:00:06</td>\n",
       "      <td>2019-08-06 01:23:32</td>\n",
       "      <td>0.0</td>\n",
       "      <td>0.0</td>\n",
       "      <td>...</td>\n",
       "      <td>0.0</td>\n",
       "      <td>0.0</td>\n",
       "      <td>0.0</td>\n",
       "      <td>0.0</td>\n",
       "      <td>0.0</td>\n",
       "      <td>0.0</td>\n",
       "      <td>0.0</td>\n",
       "      <td>2019-08-06 01:13:33</td>\n",
       "      <td>2019-08-06 01:13:33</td>\n",
       "      <td>9.412616</td>\n",
       "    </tr>\n",
       "    <tr>\n",
       "      <td>2322</td>\n",
       "      <td>2497</td>\n",
       "      <td>2019-08-06 01:41:53</td>\n",
       "      <td>2019-08-06 01:53:50</td>\n",
       "      <td>1571.0</td>\n",
       "      <td>1589.0</td>\n",
       "      <td>427.535518</td>\n",
       "      <td>2019-08-06 01:38:01</td>\n",
       "      <td>2019-08-06 01:50:45</td>\n",
       "      <td>0.0</td>\n",
       "      <td>0.0</td>\n",
       "      <td>...</td>\n",
       "      <td>0.0</td>\n",
       "      <td>0.0</td>\n",
       "      <td>0.0</td>\n",
       "      <td>0.0</td>\n",
       "      <td>0.0</td>\n",
       "      <td>0.0</td>\n",
       "      <td>0.0</td>\n",
       "      <td>2019-08-06 01:42:27</td>\n",
       "      <td>2019-08-06 01:42:51</td>\n",
       "      <td>6.271699</td>\n",
       "    </tr>\n",
       "    <tr>\n",
       "      <td>2323</td>\n",
       "      <td>2498</td>\n",
       "      <td>2019-08-06 02:03:49</td>\n",
       "      <td>2019-08-06 02:25:31</td>\n",
       "      <td>1591.0</td>\n",
       "      <td>1594.0</td>\n",
       "      <td>629.928649</td>\n",
       "      <td>2019-08-06 01:57:46</td>\n",
       "      <td>2019-08-06 02:20:24</td>\n",
       "      <td>0.0</td>\n",
       "      <td>0.0</td>\n",
       "      <td>...</td>\n",
       "      <td>0.0</td>\n",
       "      <td>0.0</td>\n",
       "      <td>0.0</td>\n",
       "      <td>0.0</td>\n",
       "      <td>0.0</td>\n",
       "      <td>0.0</td>\n",
       "      <td>0.0</td>\n",
       "      <td>2019-08-06 02:04:20</td>\n",
       "      <td>2019-08-06 02:04:20</td>\n",
       "      <td>14.953657</td>\n",
       "    </tr>\n",
       "    <tr>\n",
       "      <td>2324</td>\n",
       "      <td>2499</td>\n",
       "      <td>2019-08-06 02:40:25</td>\n",
       "      <td>2019-08-06 03:00:28</td>\n",
       "      <td>1569.0</td>\n",
       "      <td>1603.0</td>\n",
       "      <td>1075.132183</td>\n",
       "      <td>2019-08-06 02:32:56</td>\n",
       "      <td>2019-08-06 02:55:42</td>\n",
       "      <td>0.0</td>\n",
       "      <td>0.0</td>\n",
       "      <td>...</td>\n",
       "      <td>0.0</td>\n",
       "      <td>0.0</td>\n",
       "      <td>0.0</td>\n",
       "      <td>0.0</td>\n",
       "      <td>0.0</td>\n",
       "      <td>0.0</td>\n",
       "      <td>0.0</td>\n",
       "      <td>2019-08-06 02:39:57</td>\n",
       "      <td>2019-08-06 02:41:06</td>\n",
       "      <td>11.336151</td>\n",
       "    </tr>\n",
       "  </tbody>\n",
       "</table>\n",
       "<p>2202 rows × 37 columns</p>\n",
       "</div>"
      ],
      "text/plain": [
       "       key Начало замера температуры Конец замера температуры  \\\n",
       "0        1       2019-05-03 11:16:18      2019-05-03 11:30:39   \n",
       "1        2       2019-05-03 11:37:27      2019-05-03 11:59:12   \n",
       "2        3       2019-05-03 12:13:17      2019-05-03 12:34:57   \n",
       "3        4       2019-05-03 12:52:57      2019-05-03 12:59:25   \n",
       "4        5       2019-05-03 13:23:19      2019-05-03 13:36:01   \n",
       "...    ...                       ...                      ...   \n",
       "2320  2495       2019-08-06 00:35:45      2019-08-06 00:54:42   \n",
       "2321  2496       2019-08-06 01:02:54      2019-08-06 01:29:52   \n",
       "2322  2497       2019-08-06 01:41:53      2019-08-06 01:53:50   \n",
       "2323  2498       2019-08-06 02:03:49      2019-08-06 02:25:31   \n",
       "2324  2499       2019-08-06 02:40:25      2019-08-06 03:00:28   \n",
       "\n",
       "      Начальная температура  Конечная температура  Активная энергия  \\\n",
       "0                    1571.0                1613.0       1207.804249   \n",
       "1                    1581.0                1602.0        733.816470   \n",
       "2                    1596.0                1599.0        443.583327   \n",
       "3                    1601.0                1625.0        670.663327   \n",
       "4                    1576.0                1602.0        997.496095   \n",
       "...                     ...                   ...               ...   \n",
       "2320                 1570.0                1591.0        626.167357   \n",
       "2321                 1554.0                1591.0        727.868032   \n",
       "2322                 1571.0                1589.0        427.535518   \n",
       "2323                 1591.0                1594.0        629.928649   \n",
       "2324                 1569.0                1603.0       1075.132183   \n",
       "\n",
       "          Начало нагрева       Конец нагрева  Bulk 1  Bulk 2  ...  Wire 3  \\\n",
       "0    2019-05-03 11:02:14 2019-05-03 11:28:37     0.0     0.0  ...     0.0   \n",
       "1    2019-05-03 11:34:14 2019-05-03 11:53:18     0.0     0.0  ...     0.0   \n",
       "2    2019-05-03 12:06:54 2019-05-03 12:32:19     0.0     0.0  ...     0.0   \n",
       "3    2019-05-03 12:39:37 2019-05-03 12:57:50     0.0     0.0  ...     0.0   \n",
       "4    2019-05-03 13:11:13 2019-05-03 13:33:55     0.0     0.0  ...     0.0   \n",
       "...                  ...                 ...     ...     ...  ...     ...   \n",
       "2320 2019-08-06 00:31:05 2019-08-06 00:51:13     0.0     0.0  ...     0.0   \n",
       "2321 2019-08-06 01:00:06 2019-08-06 01:23:32     0.0     0.0  ...     0.0   \n",
       "2322 2019-08-06 01:38:01 2019-08-06 01:50:45     0.0     0.0  ...     0.0   \n",
       "2323 2019-08-06 01:57:46 2019-08-06 02:20:24     0.0     0.0  ...     0.0   \n",
       "2324 2019-08-06 02:32:56 2019-08-06 02:55:42     0.0     0.0  ...     0.0   \n",
       "\n",
       "      Wire 4  Wire 5  Wire 6  Wire 7  Wire 8  Wire 9  \\\n",
       "0        0.0     0.0     0.0     0.0     0.0     0.0   \n",
       "1        0.0     0.0     0.0     0.0     0.0     0.0   \n",
       "2        0.0     0.0     0.0     0.0     0.0     0.0   \n",
       "3        0.0     0.0     0.0     0.0     0.0     0.0   \n",
       "4        0.0     0.0     0.0     0.0     0.0     0.0   \n",
       "...      ...     ...     ...     ...     ...     ...   \n",
       "2320     0.0     0.0     0.0     0.0     0.0     0.0   \n",
       "2321     0.0     0.0     0.0     0.0     0.0     0.0   \n",
       "2322     0.0     0.0     0.0     0.0     0.0     0.0   \n",
       "2323     0.0     0.0     0.0     0.0     0.0     0.0   \n",
       "2324     0.0     0.0     0.0     0.0     0.0     0.0   \n",
       "\n",
       "      Начало подачи проволочных  Конец подачи проволочных      Газ 1  \n",
       "0           2019-05-03 11:11:41       2019-05-03 11:11:41  29.749986  \n",
       "1           2019-05-03 11:46:10       2019-05-03 11:46:10  12.555561  \n",
       "2           2019-05-03 12:13:47       2019-05-03 12:13:47  28.554793  \n",
       "3           2019-05-03 12:48:05       2019-05-03 12:48:05  18.841219  \n",
       "4           2019-05-03 13:18:15       2019-05-03 13:32:06   5.413692  \n",
       "...                         ...                       ...        ...  \n",
       "2320        2019-08-06 00:36:13       2019-08-06 00:36:13   7.125735  \n",
       "2321        2019-08-06 01:13:33       2019-08-06 01:13:33   9.412616  \n",
       "2322        2019-08-06 01:42:27       2019-08-06 01:42:51   6.271699  \n",
       "2323        2019-08-06 02:04:20       2019-08-06 02:04:20  14.953657  \n",
       "2324        2019-08-06 02:39:57       2019-08-06 02:41:06  11.336151  \n",
       "\n",
       "[2202 rows x 37 columns]"
      ]
     },
     "execution_count": 44,
     "metadata": {},
     "output_type": "execute_result"
    }
   ],
   "source": [
    "df = df[\n",
    "        (df['Конец замера температуры']>df['Конец подачи проволочных']) & \n",
    "        (df['Конец замера температуры']>df['Конец подачи сыпучих']) &\n",
    "       (df['Конец замера температуры']>df['Конец нагрева'])# & \n",
    "    #   (df['Начало замера температуры']<df['Начало подачи проволочных']) &\n",
    "     #  (df['Начало замера температуры']<df['Начало подачи сыпучих']) &\n",
    "    #   (df['Начало замера температуры']<df['Начало нагрева'])\n",
    "           ]\n",
    "df"
   ]
  },
  {
   "cell_type": "markdown",
   "id": "192012d9",
   "metadata": {},
   "source": [
    "Отфильтровали данные только по концу техпроцесса. В большинстве случаев первая температура замеряется когда уже включен нагрев. Если фильтровать это условие остается всего 30 партий."
   ]
  },
  {
   "cell_type": "code",
   "execution_count": 45,
   "id": "eec052d1",
   "metadata": {},
   "outputs": [],
   "source": [
    "df = df.drop(df.select_dtypes(include=['datetime64[ns]']).columns, axis=1) #удалим столбцы с временем\n",
    "df = df.drop('key', axis=1) #удалим столбец с номером партии"
   ]
  },
  {
   "cell_type": "code",
   "execution_count": 46,
   "id": "106080f5",
   "metadata": {},
   "outputs": [
    {
     "data": {
      "text/html": [
       "<div>\n",
       "<style scoped>\n",
       "    .dataframe tbody tr th:only-of-type {\n",
       "        vertical-align: middle;\n",
       "    }\n",
       "\n",
       "    .dataframe tbody tr th {\n",
       "        vertical-align: top;\n",
       "    }\n",
       "\n",
       "    .dataframe thead th {\n",
       "        text-align: right;\n",
       "    }\n",
       "</style>\n",
       "<table border=\"1\" class=\"dataframe\">\n",
       "  <thead>\n",
       "    <tr style=\"text-align: right;\">\n",
       "      <th></th>\n",
       "      <th>Начальная температура</th>\n",
       "      <th>Конечная температура</th>\n",
       "      <th>Активная энергия</th>\n",
       "      <th>Bulk 1</th>\n",
       "      <th>Bulk 2</th>\n",
       "      <th>Bulk 3</th>\n",
       "      <th>Bulk 4</th>\n",
       "      <th>Bulk 5</th>\n",
       "      <th>Bulk 6</th>\n",
       "      <th>Bulk 7</th>\n",
       "      <th>...</th>\n",
       "      <th>Wire 1</th>\n",
       "      <th>Wire 2</th>\n",
       "      <th>Wire 3</th>\n",
       "      <th>Wire 4</th>\n",
       "      <th>Wire 5</th>\n",
       "      <th>Wire 6</th>\n",
       "      <th>Wire 7</th>\n",
       "      <th>Wire 8</th>\n",
       "      <th>Wire 9</th>\n",
       "      <th>Газ 1</th>\n",
       "    </tr>\n",
       "  </thead>\n",
       "  <tbody>\n",
       "    <tr>\n",
       "      <td>0</td>\n",
       "      <td>1571.0</td>\n",
       "      <td>1613.0</td>\n",
       "      <td>1207.804249</td>\n",
       "      <td>0.0</td>\n",
       "      <td>0.0</td>\n",
       "      <td>0.0</td>\n",
       "      <td>43.0</td>\n",
       "      <td>0.0</td>\n",
       "      <td>0.0</td>\n",
       "      <td>0.0</td>\n",
       "      <td>...</td>\n",
       "      <td>60.059998</td>\n",
       "      <td>0.00000</td>\n",
       "      <td>0.0</td>\n",
       "      <td>0.0</td>\n",
       "      <td>0.0</td>\n",
       "      <td>0.0</td>\n",
       "      <td>0.0</td>\n",
       "      <td>0.0</td>\n",
       "      <td>0.0</td>\n",
       "      <td>29.749986</td>\n",
       "    </tr>\n",
       "    <tr>\n",
       "      <td>1</td>\n",
       "      <td>1581.0</td>\n",
       "      <td>1602.0</td>\n",
       "      <td>733.816470</td>\n",
       "      <td>0.0</td>\n",
       "      <td>0.0</td>\n",
       "      <td>0.0</td>\n",
       "      <td>73.0</td>\n",
       "      <td>0.0</td>\n",
       "      <td>0.0</td>\n",
       "      <td>0.0</td>\n",
       "      <td>...</td>\n",
       "      <td>96.052315</td>\n",
       "      <td>0.00000</td>\n",
       "      <td>0.0</td>\n",
       "      <td>0.0</td>\n",
       "      <td>0.0</td>\n",
       "      <td>0.0</td>\n",
       "      <td>0.0</td>\n",
       "      <td>0.0</td>\n",
       "      <td>0.0</td>\n",
       "      <td>12.555561</td>\n",
       "    </tr>\n",
       "    <tr>\n",
       "      <td>2</td>\n",
       "      <td>1596.0</td>\n",
       "      <td>1599.0</td>\n",
       "      <td>443.583327</td>\n",
       "      <td>0.0</td>\n",
       "      <td>0.0</td>\n",
       "      <td>0.0</td>\n",
       "      <td>34.0</td>\n",
       "      <td>0.0</td>\n",
       "      <td>0.0</td>\n",
       "      <td>0.0</td>\n",
       "      <td>...</td>\n",
       "      <td>91.160157</td>\n",
       "      <td>0.00000</td>\n",
       "      <td>0.0</td>\n",
       "      <td>0.0</td>\n",
       "      <td>0.0</td>\n",
       "      <td>0.0</td>\n",
       "      <td>0.0</td>\n",
       "      <td>0.0</td>\n",
       "      <td>0.0</td>\n",
       "      <td>28.554793</td>\n",
       "    </tr>\n",
       "    <tr>\n",
       "      <td>3</td>\n",
       "      <td>1601.0</td>\n",
       "      <td>1625.0</td>\n",
       "      <td>670.663327</td>\n",
       "      <td>0.0</td>\n",
       "      <td>0.0</td>\n",
       "      <td>0.0</td>\n",
       "      <td>81.0</td>\n",
       "      <td>0.0</td>\n",
       "      <td>0.0</td>\n",
       "      <td>0.0</td>\n",
       "      <td>...</td>\n",
       "      <td>89.063515</td>\n",
       "      <td>0.00000</td>\n",
       "      <td>0.0</td>\n",
       "      <td>0.0</td>\n",
       "      <td>0.0</td>\n",
       "      <td>0.0</td>\n",
       "      <td>0.0</td>\n",
       "      <td>0.0</td>\n",
       "      <td>0.0</td>\n",
       "      <td>18.841219</td>\n",
       "    </tr>\n",
       "    <tr>\n",
       "      <td>4</td>\n",
       "      <td>1576.0</td>\n",
       "      <td>1602.0</td>\n",
       "      <td>997.496095</td>\n",
       "      <td>0.0</td>\n",
       "      <td>0.0</td>\n",
       "      <td>0.0</td>\n",
       "      <td>78.0</td>\n",
       "      <td>0.0</td>\n",
       "      <td>0.0</td>\n",
       "      <td>0.0</td>\n",
       "      <td>...</td>\n",
       "      <td>89.238236</td>\n",
       "      <td>9.11456</td>\n",
       "      <td>0.0</td>\n",
       "      <td>0.0</td>\n",
       "      <td>0.0</td>\n",
       "      <td>0.0</td>\n",
       "      <td>0.0</td>\n",
       "      <td>0.0</td>\n",
       "      <td>0.0</td>\n",
       "      <td>5.413692</td>\n",
       "    </tr>\n",
       "  </tbody>\n",
       "</table>\n",
       "<p>5 rows × 28 columns</p>\n",
       "</div>"
      ],
      "text/plain": [
       "   Начальная температура  Конечная температура  Активная энергия  Bulk 1  \\\n",
       "0                 1571.0                1613.0       1207.804249     0.0   \n",
       "1                 1581.0                1602.0        733.816470     0.0   \n",
       "2                 1596.0                1599.0        443.583327     0.0   \n",
       "3                 1601.0                1625.0        670.663327     0.0   \n",
       "4                 1576.0                1602.0        997.496095     0.0   \n",
       "\n",
       "   Bulk 2  Bulk 3  Bulk 4  Bulk 5  Bulk 6  Bulk 7  ...     Wire 1   Wire 2  \\\n",
       "0     0.0     0.0    43.0     0.0     0.0     0.0  ...  60.059998  0.00000   \n",
       "1     0.0     0.0    73.0     0.0     0.0     0.0  ...  96.052315  0.00000   \n",
       "2     0.0     0.0    34.0     0.0     0.0     0.0  ...  91.160157  0.00000   \n",
       "3     0.0     0.0    81.0     0.0     0.0     0.0  ...  89.063515  0.00000   \n",
       "4     0.0     0.0    78.0     0.0     0.0     0.0  ...  89.238236  9.11456   \n",
       "\n",
       "   Wire 3  Wire 4  Wire 5  Wire 6  Wire 7  Wire 8  Wire 9      Газ 1  \n",
       "0     0.0     0.0     0.0     0.0     0.0     0.0     0.0  29.749986  \n",
       "1     0.0     0.0     0.0     0.0     0.0     0.0     0.0  12.555561  \n",
       "2     0.0     0.0     0.0     0.0     0.0     0.0     0.0  28.554793  \n",
       "3     0.0     0.0     0.0     0.0     0.0     0.0     0.0  18.841219  \n",
       "4     0.0     0.0     0.0     0.0     0.0     0.0     0.0   5.413692  \n",
       "\n",
       "[5 rows x 28 columns]"
      ]
     },
     "execution_count": 46,
     "metadata": {},
     "output_type": "execute_result"
    }
   ],
   "source": [
    "df.head()"
   ]
  },
  {
   "cell_type": "markdown",
   "id": "886c9f5d",
   "metadata": {},
   "source": [
    "### Проверка признакиов на мультиколлинеарность"
   ]
  },
  {
   "cell_type": "markdown",
   "id": "dab670bd",
   "metadata": {},
   "source": [
    "Посчитаем корреляцию для основных признаков. В качестве добавок выборем 'Wire 1', 'Bulk 4'."
   ]
  },
  {
   "cell_type": "code",
   "execution_count": 47,
   "id": "95b95452",
   "metadata": {},
   "outputs": [
    {
     "data": {
      "text/html": [
       "<style  type=\"text/css\" >\n",
       "    #T_0b8906cc_8480_11ec_b096_e4b3184dbf24row0_col0 {\n",
       "            background-color:  #b40426;\n",
       "            color:  #f1f1f1;\n",
       "        }    #T_0b8906cc_8480_11ec_b096_e4b3184dbf24row0_col1 {\n",
       "            background-color:  #a3c2fe;\n",
       "            color:  #000000;\n",
       "        }    #T_0b8906cc_8480_11ec_b096_e4b3184dbf24row0_col2 {\n",
       "            background-color:  #dddcdc;\n",
       "            color:  #000000;\n",
       "        }    #T_0b8906cc_8480_11ec_b096_e4b3184dbf24row0_col3 {\n",
       "            background-color:  #4a63d3;\n",
       "            color:  #f1f1f1;\n",
       "        }    #T_0b8906cc_8480_11ec_b096_e4b3184dbf24row0_col4 {\n",
       "            background-color:  #dddcdc;\n",
       "            color:  #000000;\n",
       "        }    #T_0b8906cc_8480_11ec_b096_e4b3184dbf24row0_col5 {\n",
       "            background-color:  #84a7fc;\n",
       "            color:  #000000;\n",
       "        }    #T_0b8906cc_8480_11ec_b096_e4b3184dbf24row1_col0 {\n",
       "            background-color:  #97b8ff;\n",
       "            color:  #000000;\n",
       "        }    #T_0b8906cc_8480_11ec_b096_e4b3184dbf24row1_col1 {\n",
       "            background-color:  #b40426;\n",
       "            color:  #f1f1f1;\n",
       "        }    #T_0b8906cc_8480_11ec_b096_e4b3184dbf24row1_col2 {\n",
       "            background-color:  #9fbfff;\n",
       "            color:  #000000;\n",
       "        }    #T_0b8906cc_8480_11ec_b096_e4b3184dbf24row1_col3 {\n",
       "            background-color:  #5875e1;\n",
       "            color:  #000000;\n",
       "        }    #T_0b8906cc_8480_11ec_b096_e4b3184dbf24row1_col4 {\n",
       "            background-color:  #d6dce4;\n",
       "            color:  #000000;\n",
       "        }    #T_0b8906cc_8480_11ec_b096_e4b3184dbf24row1_col5 {\n",
       "            background-color:  #a7c5fe;\n",
       "            color:  #000000;\n",
       "        }    #T_0b8906cc_8480_11ec_b096_e4b3184dbf24row2_col0 {\n",
       "            background-color:  #8caffe;\n",
       "            color:  #000000;\n",
       "        }    #T_0b8906cc_8480_11ec_b096_e4b3184dbf24row2_col1 {\n",
       "            background-color:  #3b4cc0;\n",
       "            color:  #f1f1f1;\n",
       "        }    #T_0b8906cc_8480_11ec_b096_e4b3184dbf24row2_col2 {\n",
       "            background-color:  #b40426;\n",
       "            color:  #f1f1f1;\n",
       "        }    #T_0b8906cc_8480_11ec_b096_e4b3184dbf24row2_col3 {\n",
       "            background-color:  #9ebeff;\n",
       "            color:  #000000;\n",
       "        }    #T_0b8906cc_8480_11ec_b096_e4b3184dbf24row2_col4 {\n",
       "            background-color:  #3b4cc0;\n",
       "            color:  #f1f1f1;\n",
       "        }    #T_0b8906cc_8480_11ec_b096_e4b3184dbf24row2_col5 {\n",
       "            background-color:  #3b4cc0;\n",
       "            color:  #f1f1f1;\n",
       "        }    #T_0b8906cc_8480_11ec_b096_e4b3184dbf24row3_col0 {\n",
       "            background-color:  #3b4cc0;\n",
       "            color:  #f1f1f1;\n",
       "        }    #T_0b8906cc_8480_11ec_b096_e4b3184dbf24row3_col1 {\n",
       "            background-color:  #5673e0;\n",
       "            color:  #000000;\n",
       "        }    #T_0b8906cc_8480_11ec_b096_e4b3184dbf24row3_col2 {\n",
       "            background-color:  #dfdbd9;\n",
       "            color:  #000000;\n",
       "        }    #T_0b8906cc_8480_11ec_b096_e4b3184dbf24row3_col3 {\n",
       "            background-color:  #b40426;\n",
       "            color:  #f1f1f1;\n",
       "        }    #T_0b8906cc_8480_11ec_b096_e4b3184dbf24row3_col4 {\n",
       "            background-color:  #a7c5fe;\n",
       "            color:  #000000;\n",
       "        }    #T_0b8906cc_8480_11ec_b096_e4b3184dbf24row3_col5 {\n",
       "            background-color:  #485fd1;\n",
       "            color:  #f1f1f1;\n",
       "        }    #T_0b8906cc_8480_11ec_b096_e4b3184dbf24row4_col0 {\n",
       "            background-color:  #8db0fe;\n",
       "            color:  #000000;\n",
       "        }    #T_0b8906cc_8480_11ec_b096_e4b3184dbf24row4_col1 {\n",
       "            background-color:  #8caffe;\n",
       "            color:  #000000;\n",
       "        }    #T_0b8906cc_8480_11ec_b096_e4b3184dbf24row4_col2 {\n",
       "            background-color:  #3b4cc0;\n",
       "            color:  #f1f1f1;\n",
       "        }    #T_0b8906cc_8480_11ec_b096_e4b3184dbf24row4_col3 {\n",
       "            background-color:  #455cce;\n",
       "            color:  #f1f1f1;\n",
       "        }    #T_0b8906cc_8480_11ec_b096_e4b3184dbf24row4_col4 {\n",
       "            background-color:  #b40426;\n",
       "            color:  #f1f1f1;\n",
       "        }    #T_0b8906cc_8480_11ec_b096_e4b3184dbf24row4_col5 {\n",
       "            background-color:  #7b9ff9;\n",
       "            color:  #000000;\n",
       "        }    #T_0b8906cc_8480_11ec_b096_e4b3184dbf24row5_col0 {\n",
       "            background-color:  #6788ee;\n",
       "            color:  #000000;\n",
       "        }    #T_0b8906cc_8480_11ec_b096_e4b3184dbf24row5_col1 {\n",
       "            background-color:  #9abbff;\n",
       "            color:  #000000;\n",
       "        }    #T_0b8906cc_8480_11ec_b096_e4b3184dbf24row5_col2 {\n",
       "            background-color:  #92b4fe;\n",
       "            color:  #000000;\n",
       "        }    #T_0b8906cc_8480_11ec_b096_e4b3184dbf24row5_col3 {\n",
       "            background-color:  #3b4cc0;\n",
       "            color:  #f1f1f1;\n",
       "        }    #T_0b8906cc_8480_11ec_b096_e4b3184dbf24row5_col4 {\n",
       "            background-color:  #c4d5f3;\n",
       "            color:  #000000;\n",
       "        }    #T_0b8906cc_8480_11ec_b096_e4b3184dbf24row5_col5 {\n",
       "            background-color:  #b40426;\n",
       "            color:  #f1f1f1;\n",
       "        }</style><table id=\"T_0b8906cc_8480_11ec_b096_e4b3184dbf24\" ><caption>Корреляция признаков</caption><thead>    <tr>        <th class=\"blank level0\" ></th>        <th class=\"col_heading level0 col0\" >Конечная температура</th>        <th class=\"col_heading level0 col1\" >Wire 1</th>        <th class=\"col_heading level0 col2\" >Активная энергия</th>        <th class=\"col_heading level0 col3\" >Газ 1</th>        <th class=\"col_heading level0 col4\" >Начальная температура</th>        <th class=\"col_heading level0 col5\" >Bulk 4</th>    </tr></thead><tbody>\n",
       "                <tr>\n",
       "                        <th id=\"T_0b8906cc_8480_11ec_b096_e4b3184dbf24level0_row0\" class=\"row_heading level0 row0\" >Конечная температура</th>\n",
       "                        <td id=\"T_0b8906cc_8480_11ec_b096_e4b3184dbf24row0_col0\" class=\"data row0 col0\" >1</td>\n",
       "                        <td id=\"T_0b8906cc_8480_11ec_b096_e4b3184dbf24row0_col1\" class=\"data row0 col1\" >0.32</td>\n",
       "                        <td id=\"T_0b8906cc_8480_11ec_b096_e4b3184dbf24row0_col2\" class=\"data row0 col2\" >0.3</td>\n",
       "                        <td id=\"T_0b8906cc_8480_11ec_b096_e4b3184dbf24row0_col3\" class=\"data row0 col3\" >0.061</td>\n",
       "                        <td id=\"T_0b8906cc_8480_11ec_b096_e4b3184dbf24row0_col4\" class=\"data row0 col4\" >0.3</td>\n",
       "                        <td id=\"T_0b8906cc_8480_11ec_b096_e4b3184dbf24row0_col5\" class=\"data row0 col5\" >0.2</td>\n",
       "            </tr>\n",
       "            <tr>\n",
       "                        <th id=\"T_0b8906cc_8480_11ec_b096_e4b3184dbf24level0_row1\" class=\"row_heading level0 row1\" >Wire 1</th>\n",
       "                        <td id=\"T_0b8906cc_8480_11ec_b096_e4b3184dbf24row1_col0\" class=\"data row1 col0\" >0.32</td>\n",
       "                        <td id=\"T_0b8906cc_8480_11ec_b096_e4b3184dbf24row1_col1\" class=\"data row1 col1\" >1</td>\n",
       "                        <td id=\"T_0b8906cc_8480_11ec_b096_e4b3184dbf24row1_col2\" class=\"data row1 col2\" >0.016</td>\n",
       "                        <td id=\"T_0b8906cc_8480_11ec_b096_e4b3184dbf24row1_col3\" class=\"data row1 col3\" >0.11</td>\n",
       "                        <td id=\"T_0b8906cc_8480_11ec_b096_e4b3184dbf24row1_col4\" class=\"data row1 col4\" >0.26</td>\n",
       "                        <td id=\"T_0b8906cc_8480_11ec_b096_e4b3184dbf24row1_col5\" class=\"data row1 col5\" >0.3</td>\n",
       "            </tr>\n",
       "            <tr>\n",
       "                        <th id=\"T_0b8906cc_8480_11ec_b096_e4b3184dbf24level0_row2\" class=\"row_heading level0 row2\" >Активная энергия</th>\n",
       "                        <td id=\"T_0b8906cc_8480_11ec_b096_e4b3184dbf24row2_col0\" class=\"data row2 col0\" >0.3</td>\n",
       "                        <td id=\"T_0b8906cc_8480_11ec_b096_e4b3184dbf24row2_col1\" class=\"data row2 col1\" >0.016</td>\n",
       "                        <td id=\"T_0b8906cc_8480_11ec_b096_e4b3184dbf24row2_col2\" class=\"data row2 col2\" >1</td>\n",
       "                        <td id=\"T_0b8906cc_8480_11ec_b096_e4b3184dbf24row2_col3\" class=\"data row2 col3\" >0.31</td>\n",
       "                        <td id=\"T_0b8906cc_8480_11ec_b096_e4b3184dbf24row2_col4\" class=\"data row2 col4\" >-0.41</td>\n",
       "                        <td id=\"T_0b8906cc_8480_11ec_b096_e4b3184dbf24row2_col5\" class=\"data row2 col5\" >-0.039</td>\n",
       "            </tr>\n",
       "            <tr>\n",
       "                        <th id=\"T_0b8906cc_8480_11ec_b096_e4b3184dbf24level0_row3\" class=\"row_heading level0 row3\" >Газ 1</th>\n",
       "                        <td id=\"T_0b8906cc_8480_11ec_b096_e4b3184dbf24row3_col0\" class=\"data row3 col0\" >0.061</td>\n",
       "                        <td id=\"T_0b8906cc_8480_11ec_b096_e4b3184dbf24row3_col1\" class=\"data row3 col1\" >0.11</td>\n",
       "                        <td id=\"T_0b8906cc_8480_11ec_b096_e4b3184dbf24row3_col2\" class=\"data row3 col2\" >0.31</td>\n",
       "                        <td id=\"T_0b8906cc_8480_11ec_b096_e4b3184dbf24row3_col3\" class=\"data row3 col3\" >1</td>\n",
       "                        <td id=\"T_0b8906cc_8480_11ec_b096_e4b3184dbf24row3_col4\" class=\"data row3 col4\" >0.046</td>\n",
       "                        <td id=\"T_0b8906cc_8480_11ec_b096_e4b3184dbf24row3_col5\" class=\"data row3 col5\" >0.0093</td>\n",
       "            </tr>\n",
       "            <tr>\n",
       "                        <th id=\"T_0b8906cc_8480_11ec_b096_e4b3184dbf24level0_row4\" class=\"row_heading level0 row4\" >Начальная температура</th>\n",
       "                        <td id=\"T_0b8906cc_8480_11ec_b096_e4b3184dbf24row4_col0\" class=\"data row4 col0\" >0.3</td>\n",
       "                        <td id=\"T_0b8906cc_8480_11ec_b096_e4b3184dbf24row4_col1\" class=\"data row4 col1\" >0.26</td>\n",
       "                        <td id=\"T_0b8906cc_8480_11ec_b096_e4b3184dbf24row4_col2\" class=\"data row4 col2\" >-0.41</td>\n",
       "                        <td id=\"T_0b8906cc_8480_11ec_b096_e4b3184dbf24row4_col3\" class=\"data row4 col3\" >0.046</td>\n",
       "                        <td id=\"T_0b8906cc_8480_11ec_b096_e4b3184dbf24row4_col4\" class=\"data row4 col4\" >1</td>\n",
       "                        <td id=\"T_0b8906cc_8480_11ec_b096_e4b3184dbf24row4_col5\" class=\"data row4 col5\" >0.17</td>\n",
       "            </tr>\n",
       "            <tr>\n",
       "                        <th id=\"T_0b8906cc_8480_11ec_b096_e4b3184dbf24level0_row5\" class=\"row_heading level0 row5\" >Bulk 4</th>\n",
       "                        <td id=\"T_0b8906cc_8480_11ec_b096_e4b3184dbf24row5_col0\" class=\"data row5 col0\" >0.2</td>\n",
       "                        <td id=\"T_0b8906cc_8480_11ec_b096_e4b3184dbf24row5_col1\" class=\"data row5 col1\" >0.3</td>\n",
       "                        <td id=\"T_0b8906cc_8480_11ec_b096_e4b3184dbf24row5_col2\" class=\"data row5 col2\" >-0.039</td>\n",
       "                        <td id=\"T_0b8906cc_8480_11ec_b096_e4b3184dbf24row5_col3\" class=\"data row5 col3\" >0.0093</td>\n",
       "                        <td id=\"T_0b8906cc_8480_11ec_b096_e4b3184dbf24row5_col4\" class=\"data row5 col4\" >0.17</td>\n",
       "                        <td id=\"T_0b8906cc_8480_11ec_b096_e4b3184dbf24row5_col5\" class=\"data row5 col5\" >1</td>\n",
       "            </tr>\n",
       "    </tbody></table>"
      ],
      "text/plain": [
       "<pandas.io.formats.style.Styler at 0x1e14db67508>"
      ]
     },
     "execution_count": 47,
     "metadata": {},
     "output_type": "execute_result"
    }
   ],
   "source": [
    "df[{'Начальная температура', 'Конечная температура','Активная энергия', 'Газ 1','Wire 1', 'Bulk 4'}]\\\n",
    ".corr().style.set_caption(\"Корреляция признаков\").background_gradient(cmap='coolwarm').set_precision(2)"
   ]
  },
  {
   "cell_type": "markdown",
   "id": "a3213883",
   "metadata": {},
   "source": [
    "Явно зависящих друг от друга признаков нет."
   ]
  },
  {
   "cell_type": "markdown",
   "id": "d85a210b",
   "metadata": {},
   "source": [
    "### Разделение на обучающую и тестовую выборки"
   ]
  },
  {
   "cell_type": "code",
   "execution_count": 48,
   "id": "4eef8f84",
   "metadata": {},
   "outputs": [],
   "source": [
    "#выделим целевой признак\n",
    "features = df.drop('Конечная температура', axis = 1)\n",
    "target = df['Конечная температура']"
   ]
  },
  {
   "cell_type": "code",
   "execution_count": 49,
   "id": "1bbbb4e7",
   "metadata": {},
   "outputs": [
    {
     "name": "stdout",
     "output_type": "stream",
     "text": [
      "Обучающие объекты: признаки (1651, 27), цель (1651,)\n",
      "Тестовые объекты: признаки (551, 27), цель (551,)\n"
     ]
    }
   ],
   "source": [
    "features_train, features_test, target_train, target_test  = train_test_split(features, target, test_size=0.25, random_state=12345)\n",
    "\n",
    "print('Обучающие объекты: признаки {}, цель {}'.format(features_train.shape, target_train.shape))\n",
    "print('Тестовые объекты: признаки {}, цель {}'.format(features_test.shape, target_test.shape))"
   ]
  },
  {
   "cell_type": "markdown",
   "id": "14d658f0",
   "metadata": {},
   "source": [
    "## Обучение моделей"
   ]
  },
  {
   "cell_type": "markdown",
   "id": "697e6da0",
   "metadata": {},
   "source": [
    "В качестве моделей выберем линейную регрессию слуйный регрессионый лес."
   ]
  },
  {
   "cell_type": "code",
   "execution_count": 50,
   "id": "92bc385b",
   "metadata": {},
   "outputs": [
    {
     "name": "stdout",
     "output_type": "stream",
     "text": [
      "MAE для линейной регрессии на обоучающей выборке 6.255603313580879\n"
     ]
    }
   ],
   "source": [
    "model_LR = LinearRegression()\n",
    "model_LR.fit(features_train, target_train)\n",
    "predictions_LR_train = model_LR.predict(features_train)\n",
    "MAE_LR_train = mean_absolute_error(target_train, predictions_LR_train)\n",
    "print(\"MAE для линейной регрессии на обоучающей выборке\", MAE_LR_train)"
   ]
  },
  {
   "cell_type": "code",
   "execution_count": 51,
   "id": "5e7ba8e7",
   "metadata": {},
   "outputs": [
    {
     "name": "stdout",
     "output_type": "stream",
     "text": [
      "MAE для линейной регрессии на тестовой выборке 5.877501389852804\n"
     ]
    }
   ],
   "source": [
    "predictions_LR_test = model_LR.predict(features_test)\n",
    "MAE_LR_test = mean_absolute_error(target_test, predictions_LR_test)\n",
    "MAE_LR_test\n",
    "print(\"MAE для линейной регрессии на тестовой выборке\", MAE_LR_test)"
   ]
  },
  {
   "cell_type": "code",
   "execution_count": 52,
   "id": "26c6dfe7",
   "metadata": {
    "scrolled": false
   },
   "outputs": [
    {
     "name": "stdout",
     "output_type": "stream",
     "text": [
      "MAE для случайного регрессионного леса на тренировочной выборке 3.5983223939739433\n",
      "MAE для случайного регрессионного леса на кросвалидационной выборке -6.121451408382796\n",
      "Лучшие параметры для RandomForestRegressor: {'min_samples_leaf': 4, 'min_samples_split': 2, 'n_estimators': 175}\n",
      "Wall time: 23.9 s\n"
     ]
    }
   ],
   "source": [
    "%%time\n",
    "parametrs_RFR = {'n_estimators': range (50,200,25),\n",
    "                 'min_samples_leaf': range (2,6,2),\n",
    "                 'min_samples_split': range (2,6,2) }\n",
    "warnings.filterwarnings(\"ignore\")\n",
    "model_RFR = GridSearchCV(RandomForestRegressor(random_state=12345), parametrs_RFR, scoring='neg_mean_absolute_error', cv=5, n_jobs=-1)\n",
    "model_RFR.fit(features_train, target_train)\n",
    "predictions_RFR_train = model_RFR.best_estimator_.predict(features_train)\n",
    "MAE_RFR_train = mean_absolute_error(target_train, predictions_RFR_train)\n",
    "print(\"MAE для случайного регрессионного леса на тренировочной выборке\", MAE_RFR_train)\n",
    "print(\"MAE для случайного регрессионного леса на кросвалидационной выборке\", model_RFR.best_score_)\n",
    "print(\"Лучшие параметры для RandomForestRegressor:\", model_RFR.best_params_)"
   ]
  },
  {
   "cell_type": "code",
   "execution_count": 53,
   "id": "0d810756",
   "metadata": {},
   "outputs": [
    {
     "name": "stdout",
     "output_type": "stream",
     "text": [
      "MAE для случайного регрессионного леса на тестовой выборке 5.969244268847501\n"
     ]
    }
   ],
   "source": [
    "predictions_RFR_test = model_RFR.best_estimator_.predict(features_test)\n",
    "MAE_RFR_test = mean_absolute_error(target_test, predictions_RFR_test)\n",
    "print(\"MAE для случайного регрессионного леса на тестовой выборке\", MAE_RFR_test)"
   ]
  },
  {
   "cell_type": "markdown",
   "id": "b4bf6ff7",
   "metadata": {},
   "source": [
    "## Анализ моделей"
   ]
  },
  {
   "cell_type": "markdown",
   "id": "20f81503",
   "metadata": {},
   "source": [
    "### Проверка адекватности моделей"
   ]
  },
  {
   "cell_type": "markdown",
   "id": "deeb8824",
   "metadata": {},
   "source": [
    "Проверим адекватность модели на обучающей выборке."
   ]
  },
  {
   "cell_type": "code",
   "execution_count": 54,
   "id": "37ac95f0",
   "metadata": {},
   "outputs": [
    {
     "name": "stdout",
     "output_type": "stream",
     "text": [
      "MAE для константы на тренровочной выборке 8.132646880678378\n"
     ]
    }
   ],
   "source": [
    "dummy_regr = DummyRegressor(strategy=\"median\")\n",
    "dummy_regr.fit(features_train, target_train)\n",
    "predictions_dummy = dummy_regr.predict(features_train)\n",
    "MAE_DR_train = mean_absolute_error(target_train, predictions_dummy)\n",
    "print(\"MAE для константы на тренровочной выборке\", MAE_DR_train)"
   ]
  },
  {
   "cell_type": "markdown",
   "id": "941dc5ef",
   "metadata": {},
   "source": [
    "Проверим адекватность модели на тестовой выборке."
   ]
  },
  {
   "cell_type": "code",
   "execution_count": 55,
   "id": "ce56b6ff",
   "metadata": {},
   "outputs": [
    {
     "name": "stdout",
     "output_type": "stream",
     "text": [
      "MAE для константы на тестовой выборке 7.9346642468239565\n"
     ]
    }
   ],
   "source": [
    "dummy_regr = DummyRegressor(strategy=\"median\")\n",
    "dummy_regr.fit(features_test, target_test)\n",
    "predictions_dummy = dummy_regr.predict(features_test)\n",
    "MAE_DR_test = mean_absolute_error(target_test, predictions_dummy)\n",
    "print(\"MAE для константы на тестовой выборке\", MAE_DR_test)"
   ]
  },
  {
   "cell_type": "markdown",
   "id": "90c542b7",
   "metadata": {},
   "source": [
    "Метрики на константной модели значительно выше чем на обученных моделях. Модели адекватны"
   ]
  },
  {
   "cell_type": "markdown",
   "id": "e91848e2",
   "metadata": {},
   "source": [
    "### Анализ важности признаков"
   ]
  },
  {
   "cell_type": "code",
   "execution_count": 56,
   "id": "b51270f8",
   "metadata": {},
   "outputs": [
    {
     "data": {
      "image/png": "[encoded data removed]",
      "text/plain": [
       "<Figure size 1080x576 with 1 Axes>"
      ]
     },
     "metadata": {
      "needs_background": "light"
     },
     "output_type": "display_data"
    }
   ],
   "source": [
    "importances = model_RFR.best_estimator_.feature_importances_\n",
    "feature_list = list(features_train.columns)\n",
    "feature_results = pd.DataFrame({'Признак': feature_list,'Важность': importances})\n",
    "feature_results = feature_results.sort_values('Важность',ascending = False).reset_index(drop=True)\n",
    "feature_results.plot(x='Признак', y='Важность',  kind = 'barh', title='Важность признаков для модели случайный регрессионый лес', figsize=(15,8))\n",
    "plt.show()"
   ]
  },
  {
   "cell_type": "code",
   "execution_count": 57,
   "id": "b3eaafd2",
   "metadata": {
    "scrolled": false
   },
   "outputs": [
    {
     "data": {
      "image/png": "[encoded data removed]",
      "text/plain": [
       "<Figure size 1080x576 with 1 Axes>"
      ]
     },
     "metadata": {
      "needs_background": "light"
     },
     "output_type": "display_data"
    }
   ],
   "source": [
    "importances = model_LR.coef_\n",
    "feature_list = list(features_train.columns)\n",
    "feature_results = pd.DataFrame({'Признак': feature_list,'Важность': importances})\n",
    "feature_results = feature_results.sort_values('Важность',ascending = False).reset_index(drop=True)\n",
    "feature_results.plot(x='Признак', y='Важность',  kind = 'barh', title='Важность признаков для модели линейная регрессия', figsize=(15,8))\n",
    "plt.show()"
   ]
  },
  {
   "cell_type": "markdown",
   "id": "4ca2109f",
   "metadata": {},
   "source": [
    "Судя по этим данным половину признаков можно убрать из модели. Это примеси которые редко используются в техпроцессе."
   ]
  },
  {
   "cell_type": "markdown",
   "id": "14cadf89",
   "metadata": {},
   "source": [
    "## Результаты"
   ]
  },
  {
   "cell_type": "code",
   "execution_count": 58,
   "id": "49cdfacf",
   "metadata": {},
   "outputs": [
    {
     "data": {
      "text/html": [
       "<div>\n",
       "<style scoped>\n",
       "    .dataframe tbody tr th:only-of-type {\n",
       "        vertical-align: middle;\n",
       "    }\n",
       "\n",
       "    .dataframe tbody tr th {\n",
       "        vertical-align: top;\n",
       "    }\n",
       "\n",
       "    .dataframe thead th {\n",
       "        text-align: right;\n",
       "    }\n",
       "</style>\n",
       "<table border=\"1\" class=\"dataframe\">\n",
       "  <thead>\n",
       "    <tr style=\"text-align: right;\">\n",
       "      <th></th>\n",
       "      <th>Модель</th>\n",
       "      <th>MAE для тренировочной выборки</th>\n",
       "      <th>MAE для тестовой выборки</th>\n",
       "    </tr>\n",
       "  </thead>\n",
       "  <tbody>\n",
       "    <tr>\n",
       "      <td>0</td>\n",
       "      <td>Константная модель</td>\n",
       "      <td>8.132647</td>\n",
       "      <td>7.934664</td>\n",
       "    </tr>\n",
       "    <tr>\n",
       "      <td>1</td>\n",
       "      <td>Случайный регрессионый лес</td>\n",
       "      <td>3.598322</td>\n",
       "      <td>5.969244</td>\n",
       "    </tr>\n",
       "    <tr>\n",
       "      <td>2</td>\n",
       "      <td>Линейная регрессия</td>\n",
       "      <td>6.255603</td>\n",
       "      <td>5.877501</td>\n",
       "    </tr>\n",
       "  </tbody>\n",
       "</table>\n",
       "</div>"
      ],
      "text/plain": [
       "                       Модель  MAE для тренировочной выборки  \\\n",
       "0          Константная модель                       8.132647   \n",
       "1  Случайный регрессионый лес                       3.598322   \n",
       "2          Линейная регрессия                       6.255603   \n",
       "\n",
       "   MAE для тестовой выборки  \n",
       "0                  7.934664  \n",
       "1                  5.969244  \n",
       "2                  5.877501  "
      ]
     },
     "execution_count": 58,
     "metadata": {},
     "output_type": "execute_result"
    }
   ],
   "source": [
    "result = {'Модель': ['Константная модель', 'Случайный регрессионый лес', 'Линейная регрессия'], \n",
    "          'MAE для тренировочной выборки': [MAE_DR_train, MAE_RFR_train, MAE_LR_train],\n",
    "          'MAE для тестовой выборки': [MAE_DR_test, MAE_RFR_test, MAE_LR_test]}\n",
    "test_result = pd.DataFrame(result)\n",
    "test_result"
   ]
  },
  {
   "cell_type": "code",
   "execution_count": 59,
   "id": "a6512a47",
   "metadata": {},
   "outputs": [
    {
     "data": {
      "image/png": "[encoded data removed]",
      "text/plain": [
       "<Figure size 1080x576 with 1 Axes>"
      ]
     },
     "metadata": {
      "needs_background": "light"
     },
     "output_type": "display_data"
    }
   ],
   "source": [
    "y1 = pd.DataFrame(predictions_LR_test)\n",
    "y2 = target_test.reset_index()['Конечная температура']\n",
    "plt.figure(figsize=(15,8))\n",
    "plt.plot(y1[:100], ':o', alpha=0.8, label='Предсказанния')\n",
    "plt.plot(y2[:100], ':o', alpha=0.8, label='Правильные значения')\n",
    "plt.legend()\n",
    "plt.title('Конечная температура плавления. Сравение реальных знечений с пердсказанными линейной регрессией. Первые 100 значений тестовой выборки.')\n",
    "plt.show()"
   ]
  },
  {
   "cell_type": "markdown",
   "id": "0d5162aa",
   "metadata": {},
   "source": [
    "## Отчёт по решению"
   ]
  },
  {
   "cell_type": "markdown",
   "id": "6efbe199",
   "metadata": {},
   "source": [
    "План работы содержал слудующие пункты:\n",
    "\n",
    "1. *Подготовка данных для обучения.*\\\n",
    "Убрать аномальные значения из данных.\\\n",
    "Подготовить датасет с соответсвующими признаками.\\\n",
    "Проверить признаки на мультиколлинеарность.\n",
    "2. *Обучить модели.*\\\n",
    "Разделить данные на тренировочную и обучающую выборки.\\\n",
    "Подобрать гиперпараметры модели для минимизации метрики.\n",
    "3. *Проанализировать модели.*\\\n",
    "Проверить модели на адекватность.\\\n",
    "Проанализировать важность признаков.\n",
    "4. *Сделать выводы по проекту.*<br>\n",
    "\n",
    "В ходе выполнения проекта все пункты плана были выполнены.\n",
    "    \n",
    "При подготовке данных для обучения особое внимание уделялось адекватности значений измеряемых парамтров. Поэтому пропуски и аномальные значения не восстанавливались а удалялись всмести с остальными значениями относящимися к этой партии. Так же проверялась последовательность получения данных согласно временным меткам. \n",
    "    \n",
    "При сотставлении набора признаков для обучения модели из исходых данных были выделены начальная и конечная температура, затраченнуая энергия, газ и набор примесей. Целевой признак - конечная температура.\n",
    "\n",
    "По исходным данным было видно что некоторые примеси используются значительно реже других. И как потом показал анализ важности признаков обученной модели они практически не плияют на результат предсказания. Т.е. модель может быть оптимизирована сокращением количества признаков.\n",
    "\n",
    "Для проверки на мультиколлинеарность использовались 6 основных признаков. В качестве примесей использовались 'Wire 1'и 'Bulk 4'. Корреляционный анализ не показал явных зависимостей.\n",
    "\n",
    "В качестве моделей были выбраны линейная регрессия и случайный реграссионный лес. Для случайного регрессионного леса использовался подбор гиперпараметров с применение кроссвалидации. Обе модели показали результат на тестовой выборке удовлетворяющий максимальные требования тимлида MAE<6.  Обе модели прошли проверку на адекватность сравенением с константной медианной моделью.\n",
    "\n",
    "В итоге можно остановится на модели линейная регрессия по двум причинам: 1) она показывает лучший результат на тестовой выборке; 2)нет необходимости подбирать гиперпараметры при обучении а следовательно проще переобучать при изменении техпроцесса.\n",
    "\n",
    "\n",
    "Анализ признаков показал, что самым важным фактором является первая температура. Управляя ею, мы сможем управлять энергозатратами."
   ]
  },
  {
   "cell_type": "code",
   "execution_count": null,
   "id": "4120f2b3",
   "metadata": {},
   "outputs": [],
   "source": []
  }
 ],
 "metadata": {
  "ExecuteTimeLog": [
   {
    "duration": 5106,
    "start_time": "2022-01-31T11:04:08.759Z"
   },
   {
    "duration": 1116,
    "start_time": "2022-01-31T11:04:16.759Z"
   },
   {
    "duration": 105,
    "start_time": "2022-01-31T11:04:19.459Z"
   },
   {
    "duration": 3007,
    "start_time": "2022-01-31T11:04:19.659Z"
   },
   {
    "duration": 107,
    "start_time": "2022-01-31T11:04:22.668Z"
   },
   {
    "duration": 6,
    "start_time": "2022-01-31T11:04:22.860Z"
   },
   {
    "duration": 99,
    "start_time": "2022-01-31T11:04:22.869Z"
   },
   {
    "duration": 1893,
    "start_time": "2022-01-31T11:04:22.970Z"
   },
   {
    "duration": 196,
    "start_time": "2022-01-31T11:04:24.865Z"
   },
   {
    "duration": 2703,
    "start_time": "2022-01-31T11:04:25.064Z"
   },
   {
    "duration": 99,
    "start_time": "2022-01-31T11:04:27.769Z"
   },
   {
    "duration": 91,
    "start_time": "2022-01-31T11:04:27.870Z"
   },
   {
    "duration": 101,
    "start_time": "2022-01-31T11:04:27.962Z"
   },
   {
    "duration": 1403,
    "start_time": "2022-01-31T11:04:28.065Z"
   },
   {
    "duration": 10,
    "start_time": "2022-01-31T11:04:29.470Z"
   },
   {
    "duration": 687,
    "start_time": "2022-01-31T11:04:29.481Z"
   },
   {
    "duration": 10,
    "start_time": "2022-01-31T11:04:30.170Z"
   },
   {
    "duration": 11,
    "start_time": "2022-01-31T11:04:30.182Z"
   },
   {
    "duration": 72,
    "start_time": "2022-01-31T11:04:30.195Z"
   },
   {
    "duration": 619,
    "start_time": "2022-01-31T11:04:30.269Z"
   },
   {
    "duration": 14,
    "start_time": "2022-01-31T11:04:30.890Z"
   },
   {
    "duration": 58,
    "start_time": "2022-01-31T11:04:30.906Z"
   },
   {
    "duration": 26,
    "start_time": "2022-01-31T11:04:30.965Z"
   },
   {
    "duration": 1976,
    "start_time": "2022-01-31T11:04:30.993Z"
   },
   {
    "duration": 98,
    "start_time": "2022-01-31T11:04:32.971Z"
   },
   {
    "duration": 4094,
    "start_time": "2022-01-31T11:04:33.072Z"
   },
   {
    "duration": 100,
    "start_time": "2022-01-31T11:04:37.169Z"
   },
   {
    "duration": 103,
    "start_time": "2022-01-31T11:04:37.272Z"
   },
   {
    "duration": 188,
    "start_time": "2022-01-31T11:04:37.376Z"
   },
   {
    "duration": 3900,
    "start_time": "2022-01-31T11:04:37.566Z"
   },
   {
    "duration": 86,
    "start_time": "2022-01-31T11:07:16.373Z"
   },
   {
    "duration": 41,
    "start_time": "2022-01-31T11:07:17.123Z"
   },
   {
    "duration": 13,
    "start_time": "2022-01-31T11:07:18.460Z"
   },
   {
    "duration": 113,
    "start_time": "2022-01-31T11:07:38.460Z"
   },
   {
    "duration": 101,
    "start_time": "2022-01-31T11:08:52.659Z"
   },
   {
    "duration": 106,
    "start_time": "2022-01-31T11:09:02.359Z"
   },
   {
    "duration": 6,
    "start_time": "2022-01-31T11:09:24.872Z"
   },
   {
    "duration": 11,
    "start_time": "2022-01-31T11:09:25.355Z"
   },
   {
    "duration": 113,
    "start_time": "2022-01-31T11:09:25.659Z"
   },
   {
    "duration": 5,
    "start_time": "2022-01-31T11:09:39.859Z"
   },
   {
    "duration": 9,
    "start_time": "2022-01-31T11:09:40.361Z"
   },
   {
    "duration": 102,
    "start_time": "2022-01-31T11:09:40.559Z"
   },
   {
    "duration": 408,
    "start_time": "2022-01-31T11:09:44.960Z"
   },
   {
    "duration": 117,
    "start_time": "2022-01-31T11:10:17.059Z"
   },
   {
    "duration": 100,
    "start_time": "2022-01-31T11:10:56.159Z"
   },
   {
    "duration": 106,
    "start_time": "2022-01-31T11:10:57.759Z"
   },
   {
    "duration": 2799,
    "start_time": "2022-01-31T11:11:26.360Z"
   },
   {
    "duration": 8,
    "start_time": "2022-01-31T11:12:18.959Z"
   },
   {
    "duration": 82,
    "start_time": "2022-01-31T11:12:20.284Z"
   },
   {
    "duration": 307,
    "start_time": "2022-01-31T11:12:49.559Z"
   },
   {
    "duration": 190,
    "start_time": "2022-01-31T11:12:49.868Z"
   },
   {
    "duration": 453700,
    "start_time": "2022-01-31T11:12:53.959Z"
   },
   {
    "duration": 105,
    "start_time": "2022-01-31T11:20:27.662Z"
   },
   {
    "duration": 93,
    "start_time": "2022-01-31T11:20:27.769Z"
   },
   {
    "duration": 7,
    "start_time": "2022-01-31T11:20:27.865Z"
   },
   {
    "duration": 100,
    "start_time": "2022-01-31T11:20:27.874Z"
   },
   {
    "duration": 2399,
    "start_time": "2022-01-31T11:20:28.060Z"
   },
   {
    "duration": 403,
    "start_time": "2022-01-31T12:00:30.901Z"
   },
   {
    "duration": 1645,
    "start_time": "2022-01-31T12:00:43.723Z"
   },
   {
    "duration": 270,
    "start_time": "2022-01-31T12:00:45.371Z"
   },
   {
    "duration": 35,
    "start_time": "2022-01-31T12:00:45.644Z"
   },
   {
    "duration": 1334,
    "start_time": "2022-01-31T12:00:45.683Z"
   },
   {
    "duration": 34,
    "start_time": "2022-01-31T12:00:47.024Z"
   },
   {
    "duration": 7,
    "start_time": "2022-01-31T12:00:47.061Z"
   },
   {
    "duration": 54,
    "start_time": "2022-01-31T12:00:47.070Z"
   },
   {
    "duration": 632,
    "start_time": "2022-01-31T12:00:47.128Z"
   },
   {
    "duration": 62,
    "start_time": "2022-01-31T12:00:47.763Z"
   },
   {
    "duration": 1002,
    "start_time": "2022-01-31T12:00:47.829Z"
   },
   {
    "duration": 53,
    "start_time": "2022-01-31T12:00:48.833Z"
   },
   {
    "duration": 72,
    "start_time": "2022-01-31T12:00:48.889Z"
   },
   {
    "duration": 80,
    "start_time": "2022-01-31T12:00:48.964Z"
   },
   {
    "duration": 1220,
    "start_time": "2022-01-31T12:00:49.048Z"
   },
   {
    "duration": 17,
    "start_time": "2022-01-31T12:00:50.272Z"
   },
   {
    "duration": 606,
    "start_time": "2022-01-31T12:00:50.292Z"
   },
   {
    "duration": 28,
    "start_time": "2022-01-31T12:00:50.901Z"
   },
   {
    "duration": 11,
    "start_time": "2022-01-31T12:00:50.932Z"
   },
   {
    "duration": 32,
    "start_time": "2022-01-31T12:00:50.945Z"
   },
   {
    "duration": 584,
    "start_time": "2022-01-31T12:00:50.980Z"
   },
   {
    "duration": 18,
    "start_time": "2022-01-31T12:00:51.567Z"
   },
   {
    "duration": 7,
    "start_time": "2022-01-31T12:00:51.588Z"
   },
   {
    "duration": 14,
    "start_time": "2022-01-31T12:00:51.630Z"
   },
   {
    "duration": 634,
    "start_time": "2022-01-31T12:00:51.649Z"
   },
   {
    "duration": 39,
    "start_time": "2022-01-31T12:00:52.286Z"
   },
   {
    "duration": 824,
    "start_time": "2022-01-31T12:00:52.328Z"
   },
   {
    "duration": 29,
    "start_time": "2022-01-31T12:00:53.155Z"
   },
   {
    "duration": 53,
    "start_time": "2022-01-31T12:00:53.186Z"
   },
   {
    "duration": 33,
    "start_time": "2022-01-31T12:00:53.241Z"
   },
   {
    "duration": 783,
    "start_time": "2022-01-31T12:00:53.277Z"
   },
   {
    "duration": 11,
    "start_time": "2022-01-31T12:00:54.062Z"
   },
   {
    "duration": 12,
    "start_time": "2022-01-31T12:00:54.075Z"
   },
   {
    "duration": 34,
    "start_time": "2022-01-31T12:00:54.089Z"
   },
   {
    "duration": 32,
    "start_time": "2022-01-31T12:00:54.126Z"
   },
   {
    "duration": 23,
    "start_time": "2022-01-31T12:00:54.160Z"
   },
   {
    "duration": 48,
    "start_time": "2022-01-31T12:00:54.185Z"
   },
   {
    "duration": 5,
    "start_time": "2022-01-31T12:00:54.236Z"
   },
   {
    "duration": 18,
    "start_time": "2022-01-31T12:00:54.244Z"
   },
   {
    "duration": 28,
    "start_time": "2022-01-31T12:00:54.264Z"
   },
   {
    "duration": 31,
    "start_time": "2022-01-31T12:00:54.295Z"
   },
   {
    "duration": 17,
    "start_time": "2022-01-31T12:00:54.329Z"
   },
   {
    "duration": 25,
    "start_time": "2022-01-31T12:00:54.349Z"
   },
   {
    "duration": 109,
    "start_time": "2022-01-31T12:00:54.377Z"
   },
   {
    "duration": 87,
    "start_time": "2022-01-31T12:00:54.488Z"
   },
   {
    "duration": 21,
    "start_time": "2022-01-31T12:00:54.578Z"
   },
   {
    "duration": 57,
    "start_time": "2022-01-31T12:00:54.603Z"
   },
   {
    "duration": 772,
    "start_time": "2022-01-31T12:00:54.663Z"
   },
   {
    "duration": 8,
    "start_time": "2022-01-31T12:00:55.438Z"
   },
   {
    "duration": 12,
    "start_time": "2022-01-31T12:00:55.450Z"
   },
   {
    "duration": 266,
    "start_time": "2022-01-31T12:00:55.464Z"
   },
   {
    "duration": 19,
    "start_time": "2022-01-31T12:00:55.733Z"
   },
   {
    "duration": 113631,
    "start_time": "2022-01-31T12:00:55.826Z"
   },
   {
    "duration": 36,
    "start_time": "2022-01-31T12:02:49.459Z"
   },
   {
    "duration": 28,
    "start_time": "2022-01-31T12:02:49.497Z"
   },
   {
    "duration": 12,
    "start_time": "2022-01-31T12:02:49.528Z"
   },
   {
    "duration": 25,
    "start_time": "2022-01-31T12:02:49.542Z"
   },
   {
    "duration": 542,
    "start_time": "2022-01-31T12:02:49.569Z"
   },
   {
    "duration": 530,
    "start_time": "2022-01-31T12:02:50.114Z"
   },
   {
    "duration": 680,
    "start_time": "2022-01-31T12:06:40.063Z"
   },
   {
    "duration": 505,
    "start_time": "2022-01-31T12:07:29.460Z"
   },
   {
    "duration": 625,
    "start_time": "2022-01-31T12:08:34.964Z"
   },
   {
    "duration": 875,
    "start_time": "2022-01-31T12:09:08.652Z"
   },
   {
    "duration": 671,
    "start_time": "2022-01-31T12:09:34.852Z"
   },
   {
    "duration": 381,
    "start_time": "2022-01-31T12:25:01.991Z"
   },
   {
    "duration": 440,
    "start_time": "2022-01-31T12:31:17.420Z"
   },
   {
    "duration": 7,
    "start_time": "2022-01-31T12:31:27.665Z"
   },
   {
    "duration": 6,
    "start_time": "2022-01-31T12:31:59.563Z"
   },
   {
    "duration": 7,
    "start_time": "2022-01-31T12:33:59.826Z"
   },
   {
    "duration": 6,
    "start_time": "2022-01-31T12:34:09.274Z"
   },
   {
    "duration": 5,
    "start_time": "2022-01-31T12:36:12.705Z"
   },
   {
    "duration": 30,
    "start_time": "2022-01-31T12:36:31.681Z"
   },
   {
    "duration": 286,
    "start_time": "2022-01-31T12:36:57.498Z"
   },
   {
    "duration": 635,
    "start_time": "2022-01-31T12:37:12.088Z"
   },
   {
    "duration": 621,
    "start_time": "2022-01-31T12:46:10.360Z"
   },
   {
    "duration": 651,
    "start_time": "2022-01-31T12:47:05.719Z"
   },
   {
    "duration": 168,
    "start_time": "2022-01-31T12:54:25.053Z"
   },
   {
    "duration": 101,
    "start_time": "2022-01-31T13:03:43.591Z"
   },
   {
    "duration": 185,
    "start_time": "2022-01-31T13:52:48.332Z"
   },
   {
    "duration": 1624,
    "start_time": "2022-01-31T13:54:02.830Z"
   },
   {
    "duration": 237,
    "start_time": "2022-01-31T13:54:04.457Z"
   },
   {
    "duration": 25,
    "start_time": "2022-01-31T13:54:04.697Z"
   },
   {
    "duration": 1122,
    "start_time": "2022-01-31T13:54:04.728Z"
   },
   {
    "duration": 29,
    "start_time": "2022-01-31T13:54:05.853Z"
   },
   {
    "duration": 6,
    "start_time": "2022-01-31T13:54:05.884Z"
   },
   {
    "duration": 27,
    "start_time": "2022-01-31T13:54:05.924Z"
   },
   {
    "duration": 579,
    "start_time": "2022-01-31T13:54:05.956Z"
   },
   {
    "duration": 31,
    "start_time": "2022-01-31T13:54:06.538Z"
   },
   {
    "duration": 773,
    "start_time": "2022-01-31T13:54:06.572Z"
   },
   {
    "duration": 42,
    "start_time": "2022-01-31T13:54:07.347Z"
   },
   {
    "duration": 59,
    "start_time": "2022-01-31T13:54:07.392Z"
   },
   {
    "duration": 70,
    "start_time": "2022-01-31T13:54:07.453Z"
   },
   {
    "duration": 1113,
    "start_time": "2022-01-31T13:54:07.530Z"
   },
   {
    "duration": 14,
    "start_time": "2022-01-31T13:54:08.646Z"
   },
   {
    "duration": 538,
    "start_time": "2022-01-31T13:54:08.663Z"
   },
   {
    "duration": 27,
    "start_time": "2022-01-31T13:54:09.203Z"
   },
   {
    "duration": 11,
    "start_time": "2022-01-31T13:54:09.234Z"
   },
   {
    "duration": 18,
    "start_time": "2022-01-31T13:54:09.248Z"
   },
   {
    "duration": 549,
    "start_time": "2022-01-31T13:54:09.268Z"
   },
   {
    "duration": 22,
    "start_time": "2022-01-31T13:54:09.823Z"
   },
   {
    "duration": 9,
    "start_time": "2022-01-31T13:54:09.848Z"
   },
   {
    "duration": 8,
    "start_time": "2022-01-31T13:54:09.863Z"
   },
   {
    "duration": 626,
    "start_time": "2022-01-31T13:54:09.875Z"
   },
   {
    "duration": 38,
    "start_time": "2022-01-31T13:54:10.504Z"
   },
   {
    "duration": 1012,
    "start_time": "2022-01-31T13:54:10.545Z"
   },
   {
    "duration": 37,
    "start_time": "2022-01-31T13:54:11.560Z"
   },
   {
    "duration": 49,
    "start_time": "2022-01-31T13:54:11.600Z"
   },
   {
    "duration": 31,
    "start_time": "2022-01-31T13:54:11.652Z"
   },
   {
    "duration": 761,
    "start_time": "2022-01-31T13:54:11.685Z"
   },
   {
    "duration": 11,
    "start_time": "2022-01-31T13:54:12.449Z"
   },
   {
    "duration": 16,
    "start_time": "2022-01-31T13:54:12.462Z"
   },
   {
    "duration": 11,
    "start_time": "2022-01-31T13:54:12.480Z"
   },
   {
    "duration": 63,
    "start_time": "2022-01-31T13:54:12.494Z"
   },
   {
    "duration": 27,
    "start_time": "2022-01-31T13:54:12.560Z"
   },
   {
    "duration": 48,
    "start_time": "2022-01-31T13:54:12.589Z"
   },
   {
    "duration": 4,
    "start_time": "2022-01-31T13:54:12.639Z"
   },
   {
    "duration": 22,
    "start_time": "2022-01-31T13:54:12.646Z"
   },
   {
    "duration": 29,
    "start_time": "2022-01-31T13:54:12.671Z"
   },
   {
    "duration": 26,
    "start_time": "2022-01-31T13:54:12.702Z"
   },
   {
    "duration": 28,
    "start_time": "2022-01-31T13:54:12.731Z"
   },
   {
    "duration": 21,
    "start_time": "2022-01-31T13:54:12.761Z"
   },
   {
    "duration": 96,
    "start_time": "2022-01-31T13:54:12.785Z"
   },
   {
    "duration": 72,
    "start_time": "2022-01-31T13:54:12.883Z"
   },
   {
    "duration": 16,
    "start_time": "2022-01-31T13:54:12.957Z"
   },
   {
    "duration": 53,
    "start_time": "2022-01-31T13:54:12.976Z"
   },
   {
    "duration": 728,
    "start_time": "2022-01-31T13:54:13.035Z"
   },
   {
    "duration": 6,
    "start_time": "2022-01-31T13:54:13.766Z"
   },
   {
    "duration": 19,
    "start_time": "2022-01-31T13:54:13.775Z"
   },
   {
    "duration": 230,
    "start_time": "2022-01-31T13:54:13.797Z"
   },
   {
    "duration": 10,
    "start_time": "2022-01-31T13:54:14.037Z"
   },
   {
    "duration": 114401,
    "start_time": "2022-01-31T13:54:14.122Z"
   },
   {
    "duration": 40,
    "start_time": "2022-01-31T13:56:08.526Z"
   },
   {
    "duration": 7,
    "start_time": "2022-01-31T13:56:08.569Z"
   },
   {
    "duration": 21,
    "start_time": "2022-01-31T13:56:08.579Z"
   },
   {
    "duration": 758,
    "start_time": "2022-01-31T13:56:08.626Z"
   },
   {
    "duration": 750,
    "start_time": "2022-01-31T13:56:09.387Z"
   },
   {
    "duration": 17,
    "start_time": "2022-01-31T13:56:10.140Z"
   },
   {
    "duration": 708,
    "start_time": "2022-01-31T13:56:10.160Z"
   }
  ],
  "kernelspec": {
   "display_name": "Python 3 (ipykernel)",
   "language": "python",
   "name": "python3"
  },
  "language_info": {
   "codemirror_mode": {
    "name": "ipython",
    "version": 3
   },
   "file_extension": ".py",
   "mimetype": "text/x-python",
   "name": "python",
   "nbconvert_exporter": "python",
   "pygments_lexer": "ipython3",
   "version": "3.9.12"
  },
  "toc": {
   "base_numbering": 1,
   "nav_menu": {},
   "number_sections": true,
   "sideBar": true,
   "skip_h1_title": true,
   "title_cell": "Table of Contents",
   "title_sidebar": "Contents",
   "toc_cell": false,
   "toc_position": {},
   "toc_section_display": true,
   "toc_window_display": true
  }
 },
 "nbformat": 4,
 "nbformat_minor": 5
}
