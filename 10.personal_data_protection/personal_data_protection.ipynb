{
 "cells": [
  {
   "cell_type": "markdown",
   "metadata": {
    "toc": true
   },
   "source": [
    "<h1>Содержание<span class=\"tocSkip\"></span></h1>\n",
    "<div class=\"toc\"><ul class=\"toc-item\"><li><span><a href=\"#Загрузка-данных\" data-toc-modified-id=\"Загрузка-данных-1\"><span class=\"toc-item-num\">1&nbsp;&nbsp;</span>Загрузка данных</a></span></li><li><span><a href=\"#Умножение-матриц\" data-toc-modified-id=\"Умножение-матриц-2\"><span class=\"toc-item-num\">2&nbsp;&nbsp;</span>Умножение матриц</a></span></li><li><span><a href=\"#Алгоритм-преобразования\" data-toc-modified-id=\"Алгоритм-преобразования-3\"><span class=\"toc-item-num\">3&nbsp;&nbsp;</span>Алгоритм преобразования</a></span></li><li><span><a href=\"#Проверка-алгоритма\" data-toc-modified-id=\"Проверка-алгоритма-4\"><span class=\"toc-item-num\">4&nbsp;&nbsp;</span>Проверка алгоритма</a></span></li><li><span><a href=\"#Вывод\" data-toc-modified-id=\"Вывод-5\"><span class=\"toc-item-num\">5&nbsp;&nbsp;</span>Вывод</a></span></li><li><span><a href=\"#Чек-лист-проверки\" data-toc-modified-id=\"Чек-лист-проверки-6\"><span class=\"toc-item-num\">6&nbsp;&nbsp;</span>Чек-лист проверки</a></span></li></ul></div>"
   ]
  },
  {
   "cell_type": "markdown",
   "metadata": {},
   "source": [
    "# Защита персональных данных клиентов"
   ]
  },
  {
   "cell_type": "markdown",
   "metadata": {},
   "source": [
    "Цель проекта: разработать метод преобразования данных в процессе машинного обучения, для защиты персональной информации.\n",
    "\n",
    "Заказчик: страховая компания «Хоть потоп»"
   ]
  },
  {
   "cell_type": "markdown",
   "metadata": {},
   "source": [
    "## Загрузка данных"
   ]
  },
  {
   "cell_type": "code",
   "execution_count": 1,
   "metadata": {},
   "outputs": [],
   "source": [
    "import pandas as pd\n",
    "import numpy as np\n",
    "from sklearn.linear_model import LinearRegression"
   ]
  },
  {
   "cell_type": "markdown",
   "metadata": {},
   "source": [
    "Загрузим и проанализируем данные."
   ]
  },
  {
   "cell_type": "code",
   "execution_count": 2,
   "metadata": {},
   "outputs": [],
   "source": [
    "df = pd.read_csv('Ya_data/insurance.csv')"
   ]
  },
  {
   "cell_type": "code",
   "execution_count": 3,
   "metadata": {},
   "outputs": [
    {
     "name": "stdout",
     "output_type": "stream",
     "text": [
      "<class 'pandas.core.frame.DataFrame'>\n",
      "RangeIndex: 5000 entries, 0 to 4999\n",
      "Data columns (total 5 columns):\n",
      " #   Column             Non-Null Count  Dtype  \n",
      "---  ------             --------------  -----  \n",
      " 0   Пол                5000 non-null   int64  \n",
      " 1   Возраст            5000 non-null   float64\n",
      " 2   Зарплата           5000 non-null   float64\n",
      " 3   Члены семьи        5000 non-null   int64  \n",
      " 4   Страховые выплаты  5000 non-null   int64  \n",
      "dtypes: float64(2), int64(3)\n",
      "memory usage: 195.4 KB\n"
     ]
    }
   ],
   "source": [
    "df.info()"
   ]
  },
  {
   "cell_type": "code",
   "execution_count": 4,
   "metadata": {},
   "outputs": [
    {
     "data": {
      "text/html": [
       "<div>\n",
       "<style scoped>\n",
       "    .dataframe tbody tr th:only-of-type {\n",
       "        vertical-align: middle;\n",
       "    }\n",
       "\n",
       "    .dataframe tbody tr th {\n",
       "        vertical-align: top;\n",
       "    }\n",
       "\n",
       "    .dataframe thead th {\n",
       "        text-align: right;\n",
       "    }\n",
       "</style>\n",
       "<table border=\"1\" class=\"dataframe\">\n",
       "  <thead>\n",
       "    <tr style=\"text-align: right;\">\n",
       "      <th></th>\n",
       "      <th>Пол</th>\n",
       "      <th>Возраст</th>\n",
       "      <th>Зарплата</th>\n",
       "      <th>Члены семьи</th>\n",
       "      <th>Страховые выплаты</th>\n",
       "    </tr>\n",
       "  </thead>\n",
       "  <tbody>\n",
       "    <tr>\n",
       "      <th>0</th>\n",
       "      <td>1</td>\n",
       "      <td>41.0</td>\n",
       "      <td>49600.0</td>\n",
       "      <td>1</td>\n",
       "      <td>0</td>\n",
       "    </tr>\n",
       "    <tr>\n",
       "      <th>1</th>\n",
       "      <td>0</td>\n",
       "      <td>46.0</td>\n",
       "      <td>38000.0</td>\n",
       "      <td>1</td>\n",
       "      <td>1</td>\n",
       "    </tr>\n",
       "    <tr>\n",
       "      <th>2</th>\n",
       "      <td>0</td>\n",
       "      <td>29.0</td>\n",
       "      <td>21000.0</td>\n",
       "      <td>0</td>\n",
       "      <td>0</td>\n",
       "    </tr>\n",
       "    <tr>\n",
       "      <th>3</th>\n",
       "      <td>0</td>\n",
       "      <td>21.0</td>\n",
       "      <td>41700.0</td>\n",
       "      <td>2</td>\n",
       "      <td>0</td>\n",
       "    </tr>\n",
       "    <tr>\n",
       "      <th>4</th>\n",
       "      <td>1</td>\n",
       "      <td>28.0</td>\n",
       "      <td>26100.0</td>\n",
       "      <td>0</td>\n",
       "      <td>0</td>\n",
       "    </tr>\n",
       "    <tr>\n",
       "      <th>5</th>\n",
       "      <td>1</td>\n",
       "      <td>43.0</td>\n",
       "      <td>41000.0</td>\n",
       "      <td>2</td>\n",
       "      <td>1</td>\n",
       "    </tr>\n",
       "    <tr>\n",
       "      <th>6</th>\n",
       "      <td>1</td>\n",
       "      <td>39.0</td>\n",
       "      <td>39700.0</td>\n",
       "      <td>2</td>\n",
       "      <td>0</td>\n",
       "    </tr>\n",
       "    <tr>\n",
       "      <th>7</th>\n",
       "      <td>1</td>\n",
       "      <td>25.0</td>\n",
       "      <td>38600.0</td>\n",
       "      <td>4</td>\n",
       "      <td>0</td>\n",
       "    </tr>\n",
       "    <tr>\n",
       "      <th>8</th>\n",
       "      <td>1</td>\n",
       "      <td>36.0</td>\n",
       "      <td>49700.0</td>\n",
       "      <td>1</td>\n",
       "      <td>0</td>\n",
       "    </tr>\n",
       "    <tr>\n",
       "      <th>9</th>\n",
       "      <td>1</td>\n",
       "      <td>32.0</td>\n",
       "      <td>51700.0</td>\n",
       "      <td>1</td>\n",
       "      <td>0</td>\n",
       "    </tr>\n",
       "    <tr>\n",
       "      <th>10</th>\n",
       "      <td>1</td>\n",
       "      <td>25.0</td>\n",
       "      <td>36600.0</td>\n",
       "      <td>1</td>\n",
       "      <td>0</td>\n",
       "    </tr>\n",
       "    <tr>\n",
       "      <th>11</th>\n",
       "      <td>1</td>\n",
       "      <td>38.0</td>\n",
       "      <td>29300.0</td>\n",
       "      <td>0</td>\n",
       "      <td>0</td>\n",
       "    </tr>\n",
       "    <tr>\n",
       "      <th>12</th>\n",
       "      <td>0</td>\n",
       "      <td>23.0</td>\n",
       "      <td>39500.0</td>\n",
       "      <td>3</td>\n",
       "      <td>0</td>\n",
       "    </tr>\n",
       "    <tr>\n",
       "      <th>13</th>\n",
       "      <td>0</td>\n",
       "      <td>21.0</td>\n",
       "      <td>55000.0</td>\n",
       "      <td>0</td>\n",
       "      <td>0</td>\n",
       "    </tr>\n",
       "    <tr>\n",
       "      <th>14</th>\n",
       "      <td>0</td>\n",
       "      <td>40.0</td>\n",
       "      <td>43700.0</td>\n",
       "      <td>1</td>\n",
       "      <td>0</td>\n",
       "    </tr>\n",
       "    <tr>\n",
       "      <th>15</th>\n",
       "      <td>1</td>\n",
       "      <td>34.0</td>\n",
       "      <td>23300.0</td>\n",
       "      <td>0</td>\n",
       "      <td>0</td>\n",
       "    </tr>\n",
       "    <tr>\n",
       "      <th>16</th>\n",
       "      <td>1</td>\n",
       "      <td>26.0</td>\n",
       "      <td>48900.0</td>\n",
       "      <td>2</td>\n",
       "      <td>0</td>\n",
       "    </tr>\n",
       "    <tr>\n",
       "      <th>17</th>\n",
       "      <td>1</td>\n",
       "      <td>41.0</td>\n",
       "      <td>33200.0</td>\n",
       "      <td>2</td>\n",
       "      <td>0</td>\n",
       "    </tr>\n",
       "    <tr>\n",
       "      <th>18</th>\n",
       "      <td>1</td>\n",
       "      <td>42.0</td>\n",
       "      <td>49700.0</td>\n",
       "      <td>0</td>\n",
       "      <td>1</td>\n",
       "    </tr>\n",
       "    <tr>\n",
       "      <th>19</th>\n",
       "      <td>1</td>\n",
       "      <td>27.0</td>\n",
       "      <td>36900.0</td>\n",
       "      <td>0</td>\n",
       "      <td>0</td>\n",
       "    </tr>\n",
       "  </tbody>\n",
       "</table>\n",
       "</div>"
      ],
      "text/plain": [
       "    Пол  Возраст  Зарплата  Члены семьи  Страховые выплаты\n",
       "0     1     41.0   49600.0            1                  0\n",
       "1     0     46.0   38000.0            1                  1\n",
       "2     0     29.0   21000.0            0                  0\n",
       "3     0     21.0   41700.0            2                  0\n",
       "4     1     28.0   26100.0            0                  0\n",
       "5     1     43.0   41000.0            2                  1\n",
       "6     1     39.0   39700.0            2                  0\n",
       "7     1     25.0   38600.0            4                  0\n",
       "8     1     36.0   49700.0            1                  0\n",
       "9     1     32.0   51700.0            1                  0\n",
       "10    1     25.0   36600.0            1                  0\n",
       "11    1     38.0   29300.0            0                  0\n",
       "12    0     23.0   39500.0            3                  0\n",
       "13    0     21.0   55000.0            0                  0\n",
       "14    0     40.0   43700.0            1                  0\n",
       "15    1     34.0   23300.0            0                  0\n",
       "16    1     26.0   48900.0            2                  0\n",
       "17    1     41.0   33200.0            2                  0\n",
       "18    1     42.0   49700.0            0                  1\n",
       "19    1     27.0   36900.0            0                  0"
      ]
     },
     "execution_count": 4,
     "metadata": {},
     "output_type": "execute_result"
    }
   ],
   "source": [
    "df.head(20)"
   ]
  },
  {
   "cell_type": "code",
   "execution_count": 5,
   "metadata": {},
   "outputs": [
    {
     "data": {
      "text/plain": [
       "153"
      ]
     },
     "execution_count": 5,
     "metadata": {},
     "output_type": "execute_result"
    }
   ],
   "source": [
    "df.duplicated().sum()"
   ]
  },
  {
   "cell_type": "code",
   "execution_count": 6,
   "metadata": {},
   "outputs": [
    {
     "data": {
      "text/html": [
       "<div>\n",
       "<style scoped>\n",
       "    .dataframe tbody tr th:only-of-type {\n",
       "        vertical-align: middle;\n",
       "    }\n",
       "\n",
       "    .dataframe tbody tr th {\n",
       "        vertical-align: top;\n",
       "    }\n",
       "\n",
       "    .dataframe thead th {\n",
       "        text-align: right;\n",
       "    }\n",
       "</style>\n",
       "<table border=\"1\" class=\"dataframe\">\n",
       "  <thead>\n",
       "    <tr style=\"text-align: right;\">\n",
       "      <th></th>\n",
       "      <th>Пол</th>\n",
       "      <th>Возраст</th>\n",
       "      <th>Зарплата</th>\n",
       "      <th>Члены семьи</th>\n",
       "      <th>Страховые выплаты</th>\n",
       "    </tr>\n",
       "  </thead>\n",
       "  <tbody>\n",
       "    <tr>\n",
       "      <th>2955</th>\n",
       "      <td>1</td>\n",
       "      <td>32.0</td>\n",
       "      <td>21600.0</td>\n",
       "      <td>0</td>\n",
       "      <td>0</td>\n",
       "    </tr>\n",
       "    <tr>\n",
       "      <th>2988</th>\n",
       "      <td>1</td>\n",
       "      <td>32.0</td>\n",
       "      <td>21600.0</td>\n",
       "      <td>0</td>\n",
       "      <td>0</td>\n",
       "    </tr>\n",
       "    <tr>\n",
       "      <th>361</th>\n",
       "      <td>0</td>\n",
       "      <td>50.0</td>\n",
       "      <td>24700.0</td>\n",
       "      <td>1</td>\n",
       "      <td>2</td>\n",
       "    </tr>\n",
       "    <tr>\n",
       "      <th>2869</th>\n",
       "      <td>0</td>\n",
       "      <td>50.0</td>\n",
       "      <td>24700.0</td>\n",
       "      <td>1</td>\n",
       "      <td>2</td>\n",
       "    </tr>\n",
       "    <tr>\n",
       "      <th>333</th>\n",
       "      <td>0</td>\n",
       "      <td>32.0</td>\n",
       "      <td>25600.0</td>\n",
       "      <td>1</td>\n",
       "      <td>0</td>\n",
       "    </tr>\n",
       "    <tr>\n",
       "      <th>...</th>\n",
       "      <td>...</td>\n",
       "      <td>...</td>\n",
       "      <td>...</td>\n",
       "      <td>...</td>\n",
       "      <td>...</td>\n",
       "    </tr>\n",
       "    <tr>\n",
       "      <th>2465</th>\n",
       "      <td>0</td>\n",
       "      <td>40.0</td>\n",
       "      <td>54000.0</td>\n",
       "      <td>2</td>\n",
       "      <td>0</td>\n",
       "    </tr>\n",
       "    <tr>\n",
       "      <th>1042</th>\n",
       "      <td>0</td>\n",
       "      <td>33.0</td>\n",
       "      <td>59300.0</td>\n",
       "      <td>2</td>\n",
       "      <td>0</td>\n",
       "    </tr>\n",
       "    <tr>\n",
       "      <th>2231</th>\n",
       "      <td>0</td>\n",
       "      <td>33.0</td>\n",
       "      <td>59300.0</td>\n",
       "      <td>2</td>\n",
       "      <td>0</td>\n",
       "    </tr>\n",
       "    <tr>\n",
       "      <th>1418</th>\n",
       "      <td>1</td>\n",
       "      <td>28.0</td>\n",
       "      <td>59900.0</td>\n",
       "      <td>0</td>\n",
       "      <td>0</td>\n",
       "    </tr>\n",
       "    <tr>\n",
       "      <th>1742</th>\n",
       "      <td>1</td>\n",
       "      <td>28.0</td>\n",
       "      <td>59900.0</td>\n",
       "      <td>0</td>\n",
       "      <td>0</td>\n",
       "    </tr>\n",
       "  </tbody>\n",
       "</table>\n",
       "<p>300 rows × 5 columns</p>\n",
       "</div>"
      ],
      "text/plain": [
       "      Пол  Возраст  Зарплата  Члены семьи  Страховые выплаты\n",
       "2955    1     32.0   21600.0            0                  0\n",
       "2988    1     32.0   21600.0            0                  0\n",
       "361     0     50.0   24700.0            1                  2\n",
       "2869    0     50.0   24700.0            1                  2\n",
       "333     0     32.0   25600.0            1                  0\n",
       "...   ...      ...       ...          ...                ...\n",
       "2465    0     40.0   54000.0            2                  0\n",
       "1042    0     33.0   59300.0            2                  0\n",
       "2231    0     33.0   59300.0            2                  0\n",
       "1418    1     28.0   59900.0            0                  0\n",
       "1742    1     28.0   59900.0            0                  0\n",
       "\n",
       "[300 rows x 5 columns]"
      ]
     },
     "execution_count": 6,
     "metadata": {},
     "output_type": "execute_result"
    }
   ],
   "source": [
    "df.loc[df.duplicated(keep=False)].sort_values(by='Зарплата')"
   ]
  },
  {
   "cell_type": "markdown",
   "metadata": {},
   "source": [
    "В данных содержится информация о клиентах банка. 5000 объектов.\\\n",
    "Признаки: пол, возраст и зарплата застрахованного, количество членов его семьи.\\\n",
    "Целевой признак: количество страховых выплат клиенту за последние 5 лет.\\\n",
    "Пропусков нет.\n",
    "Имеется 153 дубликата. Совпадение всех 5ти признаков у одного человека маловероятно. Поэтому удалим дубликаты.\n"
   ]
  },
  {
   "cell_type": "code",
   "execution_count": 7,
   "metadata": {},
   "outputs": [
    {
     "data": {
      "text/plain": [
       "0"
      ]
     },
     "execution_count": 7,
     "metadata": {},
     "output_type": "execute_result"
    }
   ],
   "source": [
    "df = df.drop_duplicates()\n",
    "df.duplicated().sum()"
   ]
  },
  {
   "cell_type": "markdown",
   "metadata": {},
   "source": [
    "Дубликаты удалены."
   ]
  },
  {
   "cell_type": "markdown",
   "metadata": {},
   "source": [
    "## Умножение матриц"
   ]
  },
  {
   "cell_type": "markdown",
   "metadata": {},
   "source": [
    "В этом задании вы можете записывать формулы в *Jupyter Notebook.*\n",
    "\n",
    "Чтобы записать формулу внутри текста, окружите её символами доллара \\\\$; если снаружи —  двойными символами \\\\$\\\\$. Эти формулы записываются на языке вёрстки *LaTeX.* \n",
    "\n",
    "Для примера мы записали формулы линейной регрессии. Можете их скопировать и отредактировать, чтобы решить задачу.\n",
    "\n",
    "Работать в *LaTeX* необязательно."
   ]
  },
  {
   "cell_type": "markdown",
   "metadata": {},
   "source": [
    "Обозначения:\n",
    "\n",
    "- $X$ — матрица признаков (нулевой столбец состоит из единиц)\n",
    "\n",
    "- $y$ — вектор целевого признака\n",
    "\n",
    "- $P$ — матрица, на которую умножаются признаки\n",
    "\n",
    "- $w$ — вектор весов линейной регрессии (нулевой элемент равен сдвигу)"
   ]
  },
  {
   "cell_type": "markdown",
   "metadata": {},
   "source": [
    "Предсказания:\n",
    "\n",
    "$$\n",
    "a = Xw\n",
    "$$\n",
    "\n",
    "Задача обучения:\n",
    "\n",
    "$$\n",
    "w = \\arg\\min_w MSE(Xw, y)\n",
    "$$\n",
    "\n",
    "Формула обучения:\n",
    "\n",
    "$$\n",
    "w = (X^T X)^{-1} X^T y\n",
    "$$"
   ]
  },
  {
   "cell_type": "markdown",
   "metadata": {},
   "source": [
    "**Ответ:** Не изменится\n",
    "\n",
    "**Обоснование:** Качество медели не изменится при равенстве пердсказаний в исходной и преобразованной задаче $a=a'$.\n",
    "\n",
    "Преобразованная формула обучения:\n",
    "$$\n",
    "w' = ((XP)^T XP)^{-1} (XP)^T y\n",
    "$$\n",
    "\n",
    "При этом параметры линейной регрессии в исходной задаче и в преобразованной связаны равенством:\n",
    "\n",
    "$$\n",
    "X((X^T X)^{-1} X^T y) = (XP)((((XP)^T XP)^{-1} (XP)^T y)\n",
    "$$\n",
    "\n",
    "Используя свойства матриц $(AB)^{-1} = B^{-1} A^{-1}$, $(AB)^T= B^T A^T$, $AA^{-1} = I$ раскроем скобки и сократим все что сокращается\n",
    "\n",
    "$$\n",
    "(X^T X)^{-1} X^T = P((XP)^T XP)^{-1} (XP)^T\n",
    "$$\n",
    "\n",
    "$$\n",
    "(X^T X)^{-1} X^T = P((P^T (X^T X)P)^{-1} P^T X^T\n",
    "$$\n",
    "\n",
    "$$\n",
    "(X^T X)^{-1}  = P P^{-1} (X^T X)^{-1} (P^T)^{-1} P^T \n",
    "$$\n",
    "\n",
    "$$\n",
    "(X^T X)^{-1} = (X^T X)^{-1}\n",
    "$$\n",
    "\n",
    "В результате сокращений матрица $P$ сократилась. Равенство предсказаний в исходной и преобразованной задаче подтверждается.\n",
    "\n"
   ]
  },
  {
   "cell_type": "markdown",
   "metadata": {},
   "source": [
    "## Алгоритм преобразования"
   ]
  },
  {
   "cell_type": "markdown",
   "metadata": {},
   "source": [
    "**Алгоритм**\n",
    "\n",
    "У нас матрица признаков $X$ (без нулевого столбца)\n",
    "1. Считаем квадратную матрицу $P$ размерностью равной количеству признаков (столбцов) используя функцию np.random.normal()\n",
    "2. Проверим матрицу $P$ на обратимость. Посчитаем обратную матрицу функцией np.linalg.inv(). Если расчет получится, значит матрица обратима.\n",
    "3. Преобразуем признаки $X$ умножив их на случайную обратимую матрицу $P$.\n"
   ]
  },
  {
   "cell_type": "markdown",
   "metadata": {},
   "source": [
    "**Обоснование**\n",
    "Качество линейной регресии не поменяется потому, что в результате обучения расчитываются коеффициэнты регресси под новые признаки.\n"
   ]
  },
  {
   "cell_type": "markdown",
   "metadata": {},
   "source": [
    "## Проверка алгоритма"
   ]
  },
  {
   "cell_type": "markdown",
   "metadata": {},
   "source": [
    "Разделим признаки и цель"
   ]
  },
  {
   "cell_type": "code",
   "execution_count": 8,
   "metadata": {},
   "outputs": [
    {
     "name": "stdout",
     "output_type": "stream",
     "text": [
      "Обучающие объекты : признаки (4847, 4), цель (4847,)\n"
     ]
    }
   ],
   "source": [
    "features = df.drop('Страховые выплаты', axis = 1)\n",
    "target = df['Страховые выплаты']\n",
    "print('Обучающие объекты : признаки {}, цель {}'.format(features.shape, target.shape))"
   ]
  },
  {
   "cell_type": "markdown",
   "metadata": {},
   "source": [
    "Сгенерируем случайную квадратную матрицу с размерностью равной количеству признаков."
   ]
  },
  {
   "cell_type": "code",
   "execution_count": 9,
   "metadata": {},
   "outputs": [
    {
     "data": {
      "text/plain": [
       "array([[-1.75463938, -0.84630478,  0.73929484,  0.51686758],\n",
       "       [ 1.02494261, -0.56904367,  0.57625227, -0.13005872],\n",
       "       [ 0.04559707, -0.11543013, -0.2788716 , -0.66067684],\n",
       "       [-0.30154256,  0.58586543,  0.34124879, -0.19097012]])"
      ]
     },
     "execution_count": 9,
     "metadata": {},
     "output_type": "execute_result"
    }
   ],
   "source": [
    "P = np.random.normal(size=(features.shape[1],features.shape[1]))\n",
    "P"
   ]
  },
  {
   "cell_type": "markdown",
   "metadata": {},
   "source": [
    "Проверим матрицу на обратимость. Посчитаем обратную матрицу функцией np.linalg.inv(). Если расчет получится, значит матрица обратима."
   ]
  },
  {
   "cell_type": "code",
   "execution_count": 10,
   "metadata": {},
   "outputs": [
    {
     "data": {
      "text/plain": [
       "array([[-0.32808522,  0.37905162, -0.28451546, -0.16182013],\n",
       "       [-0.33121833, -0.29632332, -0.44720413,  0.85249372],\n",
       "       [ 0.24142001,  0.71775129, -0.24101302,  0.99839748],\n",
       "       [-0.06667758, -0.22503009, -1.35337052, -0.58153498]])"
      ]
     },
     "execution_count": 10,
     "metadata": {},
     "output_type": "execute_result"
    }
   ],
   "source": [
    "np.linalg.inv(P)"
   ]
  },
  {
   "cell_type": "markdown",
   "metadata": {},
   "source": [
    "Преобразуем исходные признаки умножив их на случайную обратимую матрицу."
   ]
  },
  {
   "cell_type": "code",
   "execution_count": 11,
   "metadata": {},
   "outputs": [
    {
     "data": {
      "text/plain": [
       "array([[  2301.58127896,  -5748.92584087, -13807.32448492,\n",
       "        -32774.57758157],\n",
       "       [  1779.53458621,  -4411.93520831, -10570.27195577,\n",
       "        -25111.89344377],\n",
       "       [   987.26186576,  -2440.53506546,  -5839.59228915,\n",
       "        -13877.98526138],\n",
       "       ...,\n",
       "       [  1565.63653706,  -3923.29066098,  -9441.53970492,\n",
       "        -22399.92785908],\n",
       "       [  1510.91375291,  -3786.17302772,  -9104.66073648,\n",
       "        -21607.04987571],\n",
       "       [  1877.88336928,  -4702.65707358, -11304.97136229,\n",
       "        -26826.79529314]])"
      ]
     },
     "execution_count": 11,
     "metadata": {},
     "output_type": "execute_result"
    }
   ],
   "source": [
    "features_new = np.dot(features, P)\n",
    "features_new"
   ]
  },
  {
   "cell_type": "markdown",
   "metadata": {},
   "source": [
    "Обучим 2 модели исходными и преобразованными признаками."
   ]
  },
  {
   "cell_type": "code",
   "execution_count": 12,
   "metadata": {},
   "outputs": [
    {
     "data": {
      "text/plain": [
       "LinearRegression()"
      ]
     },
     "execution_count": 12,
     "metadata": {},
     "output_type": "execute_result"
    }
   ],
   "source": [
    "model = LinearRegression()\n",
    "model.fit(features, target)\n",
    "\n",
    "model_new = LinearRegression()\n",
    "model_new.fit(features_new, target)"
   ]
  },
  {
   "cell_type": "markdown",
   "metadata": {},
   "source": [
    "Посчитаем метрики R2 для обоих моделей"
   ]
  },
  {
   "cell_type": "code",
   "execution_count": 13,
   "metadata": {},
   "outputs": [
    {
     "data": {
      "text/plain": [
       "0.4302010044852068"
      ]
     },
     "execution_count": 13,
     "metadata": {},
     "output_type": "execute_result"
    }
   ],
   "source": [
    "model.score(features, target)"
   ]
  },
  {
   "cell_type": "code",
   "execution_count": 14,
   "metadata": {},
   "outputs": [
    {
     "data": {
      "text/plain": [
       "0.4302010044852068"
      ]
     },
     "execution_count": 14,
     "metadata": {},
     "output_type": "execute_result"
    }
   ],
   "source": [
    "model_new.score(features_new, target)"
   ]
  },
  {
   "cell_type": "markdown",
   "metadata": {},
   "source": [
    "Метрики практически совпадают."
   ]
  },
  {
   "cell_type": "markdown",
   "metadata": {},
   "source": [
    "Посмотрим разницу предсказаний"
   ]
  },
  {
   "cell_type": "code",
   "execution_count": 15,
   "metadata": {
    "scrolled": true
   },
   "outputs": [
    {
     "data": {
      "text/plain": [
       "<AxesSubplot:title={'center':'Разница предсказаний'}>"
      ]
     },
     "execution_count": 15,
     "metadata": {},
     "output_type": "execute_result"
    },
    {
     "data": {
      "image/png": "[encoded data removed]",
      "text/plain": [
       "<Figure size 432x288 with 1 Axes>"
      ]
     },
     "metadata": {
      "needs_background": "light"
     },
     "output_type": "display_data"
    }
   ],
   "source": [
    "predictions = model.predict(features)\n",
    "predictions_new = model_new.predict(features_new)\n",
    "pd.Series(predictions-predictions_new).plot(title='Разница предсказаний')"
   ]
  },
  {
   "cell_type": "markdown",
   "metadata": {},
   "source": [
    "Разница предсказаний составляет очень маленькие $10^{-12}$ значения"
   ]
  },
  {
   "cell_type": "markdown",
   "metadata": {},
   "source": [
    "## Вывод"
   ]
  },
  {
   "cell_type": "markdown",
   "metadata": {},
   "source": [
    "Решена задача защиты персональныз данных. Алгоритм основан на умножении матрици признаков на случайную обратимую матрицу. Обученная на зашифрованной таким образом матрице модель линейной регрессии обладает таким же качеством, что и обученная по исходным данным. Под любой набор признаков расчитываются коэффициэнты линейной регрессии. Проверка алгоритма показала, что обученные по исходным и по преобразованным признакам модели выдают одинаоквые предсказания и одинаковые метрики R2."
   ]
  },
  {
   "cell_type": "markdown",
   "metadata": {},
   "source": [
    "## Чек-лист проверки"
   ]
  },
  {
   "cell_type": "markdown",
   "metadata": {},
   "source": [
    "Поставьте 'x' в выполненных пунктах. Далее нажмите Shift+Enter."
   ]
  },
  {
   "cell_type": "markdown",
   "metadata": {},
   "source": [
    "- [x]  Jupyter Notebook открыт\n",
    "- [x]  Весь код выполняется без ошибок\n",
    "- [x]  Ячейки с кодом расположены в порядке исполнения\n",
    "- [x]  Выполнен шаг 1: данные загружены\n",
    "- [x]  Выполнен шаг 2: получен ответ на вопрос об умножении матриц\n",
    "    - [x]  Указан правильный вариант ответа\n",
    "    - [x]  Вариант обоснован\n",
    "- [x]  Выполнен шаг 3: предложен алгоритм преобразования\n",
    "    - [x]  Алгоритм описан\n",
    "    - [x]  Алгоритм обоснован\n",
    "- [x]  Выполнен шаг 4: алгоритм проверен\n",
    "    - [x]  Алгоритм реализован\n",
    "    - [x]  Проведено сравнение качества моделей до и после преобразования"
   ]
  },
  {
   "cell_type": "code",
   "execution_count": null,
   "metadata": {},
   "outputs": [],
   "source": []
  }
 ],
 "metadata": {
  "ExecuteTimeLog": [
   {
    "duration": 832,
    "start_time": "2021-10-15T22:24:46.230Z"
   },
   {
    "duration": 342,
    "start_time": "2021-10-15T22:24:47.065Z"
   },
   {
    "duration": 19,
    "start_time": "2021-10-15T22:25:14.677Z"
   },
   {
    "duration": 10,
    "start_time": "2021-10-15T22:25:39.012Z"
   },
   {
    "duration": 26,
    "start_time": "2021-10-15T22:26:05.485Z"
   },
   {
    "duration": 344,
    "start_time": "2021-10-18T22:58:28.973Z"
   },
   {
    "duration": 722,
    "start_time": "2021-10-18T22:58:35.898Z"
   },
   {
    "duration": 19,
    "start_time": "2021-10-18T22:58:36.622Z"
   },
   {
    "duration": 9,
    "start_time": "2021-10-18T22:58:36.646Z"
   },
   {
    "duration": 22,
    "start_time": "2021-10-18T22:58:36.662Z"
   },
   {
    "duration": 373,
    "start_time": "2021-10-18T22:58:36.687Z"
   },
   {
    "duration": 5,
    "start_time": "2021-10-18T22:58:56.708Z"
   },
   {
    "duration": 19,
    "start_time": "2021-10-18T22:59:04.603Z"
   },
   {
    "duration": 20,
    "start_time": "2021-10-18T23:00:00.051Z"
   },
   {
    "duration": 15,
    "start_time": "2021-10-18T23:01:31.763Z"
   },
   {
    "duration": 17,
    "start_time": "2021-10-18T23:01:44.195Z"
   },
   {
    "duration": 7,
    "start_time": "2021-10-18T23:01:55.074Z"
   },
   {
    "duration": 608,
    "start_time": "2021-10-18T23:36:59.703Z"
   },
   {
    "duration": 1355,
    "start_time": "2021-10-21T15:42:29.830Z"
   },
   {
    "duration": 19,
    "start_time": "2021-10-21T15:42:31.189Z"
   },
   {
    "duration": 26,
    "start_time": "2021-10-21T15:42:31.211Z"
   },
   {
    "duration": 21,
    "start_time": "2021-10-21T15:42:31.240Z"
   },
   {
    "duration": 23,
    "start_time": "2021-10-21T15:42:31.264Z"
   },
   {
    "duration": 796,
    "start_time": "2021-10-21T15:42:31.289Z"
   },
   {
    "duration": -1112,
    "start_time": "2021-10-21T15:42:33.200Z"
   },
   {
    "duration": 19,
    "start_time": "2021-10-21T15:42:41.245Z"
   },
   {
    "duration": 9,
    "start_time": "2021-10-21T15:48:05.986Z"
   },
   {
    "duration": 9,
    "start_time": "2021-10-21T15:48:21.873Z"
   },
   {
    "duration": 9,
    "start_time": "2021-10-21T15:48:28.170Z"
   },
   {
    "duration": 22,
    "start_time": "2021-10-21T15:49:06.233Z"
   },
   {
    "duration": 1716,
    "start_time": "2021-10-21T15:50:06.124Z"
   },
   {
    "duration": 20,
    "start_time": "2021-10-21T15:50:41.258Z"
   },
   {
    "duration": 23,
    "start_time": "2021-10-21T16:01:20.150Z"
   },
   {
    "duration": 7,
    "start_time": "2021-10-21T16:09:01.863Z"
   },
   {
    "duration": 13,
    "start_time": "2021-10-21T16:09:17.386Z"
   },
   {
    "duration": 249,
    "start_time": "2021-10-21T16:12:46.210Z"
   },
   {
    "duration": 336,
    "start_time": "2021-10-21T20:05:52.400Z"
   },
   {
    "duration": 6,
    "start_time": "2021-10-21T20:06:07.359Z"
   },
   {
    "duration": 6,
    "start_time": "2021-10-21T20:07:39.856Z"
   },
   {
    "duration": 6,
    "start_time": "2021-10-21T20:09:42.817Z"
   },
   {
    "duration": 6,
    "start_time": "2021-10-21T20:09:52.960Z"
   },
   {
    "duration": 6,
    "start_time": "2021-10-21T20:10:05.937Z"
   },
   {
    "duration": 6,
    "start_time": "2021-10-21T20:10:10.007Z"
   },
   {
    "duration": 102,
    "start_time": "2021-10-21T20:10:14.047Z"
   },
   {
    "duration": 6,
    "start_time": "2021-10-21T20:10:19.023Z"
   },
   {
    "duration": 6,
    "start_time": "2021-10-21T20:10:28.854Z"
   },
   {
    "duration": 7,
    "start_time": "2021-10-21T20:10:34.527Z"
   },
   {
    "duration": 6,
    "start_time": "2021-10-21T20:10:40.612Z"
   },
   {
    "duration": 6,
    "start_time": "2021-10-21T20:13:58.128Z"
   },
   {
    "duration": 6,
    "start_time": "2021-10-21T20:14:03.219Z"
   },
   {
    "duration": 527,
    "start_time": "2021-10-21T20:14:39.561Z"
   },
   {
    "duration": 7,
    "start_time": "2021-10-21T20:14:54.790Z"
   },
   {
    "duration": 8,
    "start_time": "2021-10-21T20:14:57.821Z"
   },
   {
    "duration": 7,
    "start_time": "2021-10-21T20:15:29.335Z"
   },
   {
    "duration": 6,
    "start_time": "2021-10-21T20:21:11.110Z"
   },
   {
    "duration": 6,
    "start_time": "2021-10-21T20:21:25.837Z"
   },
   {
    "duration": 7,
    "start_time": "2021-10-21T20:21:26.740Z"
   },
   {
    "duration": 5,
    "start_time": "2021-10-21T20:21:27.501Z"
   },
   {
    "duration": 322,
    "start_time": "2021-10-21T20:23:17.308Z"
   },
   {
    "duration": 378,
    "start_time": "2021-10-21T20:24:20.762Z"
   },
   {
    "duration": 7,
    "start_time": "2021-10-21T20:27:09.673Z"
   },
   {
    "duration": 7,
    "start_time": "2021-10-21T20:27:18.828Z"
   },
   {
    "duration": 6,
    "start_time": "2021-10-21T20:27:23.377Z"
   },
   {
    "duration": 7,
    "start_time": "2021-10-21T20:27:23.934Z"
   },
   {
    "duration": 6,
    "start_time": "2021-10-21T20:27:24.466Z"
   },
   {
    "duration": 7,
    "start_time": "2021-10-21T20:27:45.719Z"
   },
   {
    "duration": 6,
    "start_time": "2021-10-21T20:27:46.398Z"
   },
   {
    "duration": 7,
    "start_time": "2021-10-21T20:27:51.255Z"
   },
   {
    "duration": 6,
    "start_time": "2021-10-21T20:27:51.969Z"
   },
   {
    "duration": 5,
    "start_time": "2021-10-21T20:27:52.755Z"
   },
   {
    "duration": 4,
    "start_time": "2021-10-21T22:04:51.926Z"
   },
   {
    "duration": 6,
    "start_time": "2021-10-21T22:26:34.246Z"
   },
   {
    "duration": 1170,
    "start_time": "2021-10-22T11:31:04.961Z"
   },
   {
    "duration": 19,
    "start_time": "2021-10-22T11:31:06.134Z"
   },
   {
    "duration": 9,
    "start_time": "2021-10-22T11:31:06.156Z"
   },
   {
    "duration": 18,
    "start_time": "2021-10-22T11:31:06.168Z"
   },
   {
    "duration": 7,
    "start_time": "2021-10-22T11:31:06.188Z"
   },
   {
    "duration": 16,
    "start_time": "2021-10-22T11:31:06.197Z"
   },
   {
    "duration": 9,
    "start_time": "2021-10-22T11:31:06.215Z"
   },
   {
    "duration": 37,
    "start_time": "2021-10-22T11:31:06.227Z"
   },
   {
    "duration": 6,
    "start_time": "2021-10-22T11:31:06.266Z"
   },
   {
    "duration": 7,
    "start_time": "2021-10-22T11:31:06.275Z"
   },
   {
    "duration": 94,
    "start_time": "2021-10-22T11:31:06.285Z"
   },
   {
    "duration": 7,
    "start_time": "2021-10-22T11:31:06.382Z"
   },
   {
    "duration": 74,
    "start_time": "2021-10-22T11:31:06.391Z"
   },
   {
    "duration": 452,
    "start_time": "2021-10-22T11:31:06.467Z"
   },
   {
    "duration": 2,
    "start_time": "2021-10-22T11:31:59.800Z"
   },
   {
    "duration": 1080,
    "start_time": "2021-10-22T11:32:05.412Z"
   },
   {
    "duration": 20,
    "start_time": "2021-10-22T11:32:06.494Z"
   },
   {
    "duration": 7,
    "start_time": "2021-10-22T11:32:06.516Z"
   },
   {
    "duration": 23,
    "start_time": "2021-10-22T11:32:06.525Z"
   },
   {
    "duration": 13,
    "start_time": "2021-10-22T11:32:06.549Z"
   },
   {
    "duration": 19,
    "start_time": "2021-10-22T11:32:06.564Z"
   },
   {
    "duration": 9,
    "start_time": "2021-10-22T11:32:06.585Z"
   },
   {
    "duration": 5,
    "start_time": "2021-10-22T11:32:06.596Z"
   },
   {
    "duration": 6,
    "start_time": "2021-10-22T11:32:06.603Z"
   },
   {
    "duration": 54,
    "start_time": "2021-10-22T11:32:06.611Z"
   },
   {
    "duration": 22,
    "start_time": "2021-10-22T11:32:06.668Z"
   },
   {
    "duration": 75,
    "start_time": "2021-10-22T11:32:06.692Z"
   },
   {
    "duration": 8,
    "start_time": "2021-10-22T11:32:06.768Z"
   },
   {
    "duration": 85,
    "start_time": "2021-10-22T11:32:06.779Z"
   },
   {
    "duration": 6,
    "start_time": "2021-10-22T11:35:51.087Z"
   },
   {
    "duration": 4,
    "start_time": "2021-10-22T11:36:21.541Z"
   },
   {
    "duration": 90,
    "start_time": "2021-10-22T11:40:02.150Z"
   },
   {
    "duration": 6,
    "start_time": "2021-10-22T11:40:08.788Z"
   },
   {
    "duration": 5,
    "start_time": "2021-10-22T11:40:21.356Z"
   },
   {
    "duration": 81,
    "start_time": "2021-10-22T11:40:52.380Z"
   },
   {
    "duration": 5,
    "start_time": "2021-10-22T11:40:58.988Z"
   },
   {
    "duration": 5,
    "start_time": "2021-10-22T11:44:00.700Z"
   },
   {
    "duration": 5,
    "start_time": "2021-10-22T11:44:39.451Z"
   },
   {
    "duration": 4,
    "start_time": "2021-10-22T11:45:10.803Z"
   },
   {
    "duration": 4,
    "start_time": "2021-10-22T11:45:18.059Z"
   },
   {
    "duration": 5,
    "start_time": "2021-10-22T11:45:27.483Z"
   },
   {
    "duration": 12,
    "start_time": "2021-10-22T11:46:58.339Z"
   },
   {
    "duration": 5,
    "start_time": "2021-10-22T11:47:15.747Z"
   },
   {
    "duration": 12,
    "start_time": "2021-10-22T11:47:17.781Z"
   },
   {
    "duration": 5,
    "start_time": "2021-10-22T11:47:22.211Z"
   },
   {
    "duration": 11,
    "start_time": "2021-10-22T11:47:22.667Z"
   },
   {
    "duration": 5,
    "start_time": "2021-10-22T11:47:45.219Z"
   },
   {
    "duration": 12,
    "start_time": "2021-10-22T11:47:45.915Z"
   },
   {
    "duration": 5,
    "start_time": "2021-10-22T11:48:07.907Z"
   },
   {
    "duration": 12,
    "start_time": "2021-10-22T11:48:09.091Z"
   },
   {
    "duration": 5,
    "start_time": "2021-10-22T11:48:17.170Z"
   },
   {
    "duration": 11,
    "start_time": "2021-10-22T11:48:17.826Z"
   },
   {
    "duration": 5,
    "start_time": "2021-10-22T11:48:34.618Z"
   },
   {
    "duration": 11,
    "start_time": "2021-10-22T11:48:36.211Z"
   },
   {
    "duration": 82,
    "start_time": "2021-10-22T11:53:03.387Z"
   },
   {
    "duration": 4,
    "start_time": "2021-10-22T11:55:12.673Z"
   },
   {
    "duration": 1097,
    "start_time": "2021-10-22T11:57:49.793Z"
   },
   {
    "duration": 20,
    "start_time": "2021-10-22T11:57:50.892Z"
   },
   {
    "duration": 10,
    "start_time": "2021-10-22T11:57:50.914Z"
   },
   {
    "duration": 21,
    "start_time": "2021-10-22T11:57:50.926Z"
   },
   {
    "duration": 11,
    "start_time": "2021-10-22T11:57:50.949Z"
   },
   {
    "duration": 16,
    "start_time": "2021-10-22T11:57:50.963Z"
   },
   {
    "duration": 20,
    "start_time": "2021-10-22T11:57:50.981Z"
   },
   {
    "duration": 317,
    "start_time": "2021-10-22T11:57:51.003Z"
   },
   {
    "duration": -607,
    "start_time": "2021-10-22T11:57:51.929Z"
   },
   {
    "duration": -614,
    "start_time": "2021-10-22T11:57:51.938Z"
   },
   {
    "duration": -615,
    "start_time": "2021-10-22T11:57:51.940Z"
   },
   {
    "duration": -616,
    "start_time": "2021-10-22T11:57:51.942Z"
   },
   {
    "duration": -618,
    "start_time": "2021-10-22T11:57:51.945Z"
   },
   {
    "duration": -619,
    "start_time": "2021-10-22T11:57:51.947Z"
   },
   {
    "duration": -620,
    "start_time": "2021-10-22T11:57:51.949Z"
   },
   {
    "duration": -620,
    "start_time": "2021-10-22T11:57:51.950Z"
   },
   {
    "duration": -621,
    "start_time": "2021-10-22T11:57:51.952Z"
   },
   {
    "duration": -621,
    "start_time": "2021-10-22T11:57:51.953Z"
   },
   {
    "duration": 1128,
    "start_time": "2021-10-22T11:58:18.680Z"
   },
   {
    "duration": 22,
    "start_time": "2021-10-22T11:58:19.811Z"
   },
   {
    "duration": 10,
    "start_time": "2021-10-22T11:58:19.836Z"
   },
   {
    "duration": 27,
    "start_time": "2021-10-22T11:58:19.848Z"
   },
   {
    "duration": 7,
    "start_time": "2021-10-22T11:58:19.877Z"
   },
   {
    "duration": 17,
    "start_time": "2021-10-22T11:58:19.886Z"
   },
   {
    "duration": 9,
    "start_time": "2021-10-22T11:58:19.905Z"
   },
   {
    "duration": 5,
    "start_time": "2021-10-22T11:58:19.916Z"
   },
   {
    "duration": 42,
    "start_time": "2021-10-22T11:58:19.924Z"
   },
   {
    "duration": 5,
    "start_time": "2021-10-22T11:58:19.969Z"
   },
   {
    "duration": 89,
    "start_time": "2021-10-22T11:58:19.976Z"
   },
   {
    "duration": -606,
    "start_time": "2021-10-22T11:58:20.674Z"
   },
   {
    "duration": -609,
    "start_time": "2021-10-22T11:58:20.678Z"
   },
   {
    "duration": -609,
    "start_time": "2021-10-22T11:58:20.680Z"
   },
   {
    "duration": -616,
    "start_time": "2021-10-22T11:58:20.689Z"
   },
   {
    "duration": -616,
    "start_time": "2021-10-22T11:58:20.691Z"
   },
   {
    "duration": -617,
    "start_time": "2021-10-22T11:58:20.693Z"
   },
   {
    "duration": -618,
    "start_time": "2021-10-22T11:58:20.696Z"
   },
   {
    "duration": 1138,
    "start_time": "2021-10-22T11:58:44.472Z"
   },
   {
    "duration": 20,
    "start_time": "2021-10-22T11:58:45.612Z"
   },
   {
    "duration": 8,
    "start_time": "2021-10-22T11:58:45.638Z"
   },
   {
    "duration": 29,
    "start_time": "2021-10-22T11:58:45.648Z"
   },
   {
    "duration": 10,
    "start_time": "2021-10-22T11:58:45.680Z"
   },
   {
    "duration": 20,
    "start_time": "2021-10-22T11:58:45.692Z"
   },
   {
    "duration": 11,
    "start_time": "2021-10-22T11:58:45.716Z"
   },
   {
    "duration": 39,
    "start_time": "2021-10-22T11:58:45.729Z"
   },
   {
    "duration": 11,
    "start_time": "2021-10-22T11:58:45.770Z"
   },
   {
    "duration": 8,
    "start_time": "2021-10-22T11:58:45.783Z"
   },
   {
    "duration": 73,
    "start_time": "2021-10-22T11:58:45.793Z"
   },
   {
    "duration": 7,
    "start_time": "2021-10-22T11:58:45.868Z"
   },
   {
    "duration": 10,
    "start_time": "2021-10-22T11:58:45.877Z"
   },
   {
    "duration": 14,
    "start_time": "2021-10-22T11:58:45.964Z"
   },
   {
    "duration": 11,
    "start_time": "2021-10-22T11:58:45.980Z"
   },
   {
    "duration": 74,
    "start_time": "2021-10-22T11:58:45.993Z"
   },
   {
    "duration": 9,
    "start_time": "2021-10-22T11:58:46.163Z"
   },
   {
    "duration": 12,
    "start_time": "2021-10-22T12:01:00.860Z"
   },
   {
    "duration": 4,
    "start_time": "2021-10-22T12:09:56.498Z"
   },
   {
    "duration": 11,
    "start_time": "2021-10-22T12:09:58.827Z"
   },
   {
    "duration": 5,
    "start_time": "2021-10-22T12:10:05.689Z"
   },
   {
    "duration": 11,
    "start_time": "2021-10-22T12:10:06.354Z"
   },
   {
    "duration": 10,
    "start_time": "2021-10-22T12:10:10.001Z"
   },
   {
    "duration": 4,
    "start_time": "2021-10-22T12:16:50.735Z"
   },
   {
    "duration": 12,
    "start_time": "2021-10-22T12:16:51.279Z"
   },
   {
    "duration": 7,
    "start_time": "2021-10-22T12:16:51.904Z"
   },
   {
    "duration": 19,
    "start_time": "2021-10-22T12:23:08.876Z"
   },
   {
    "duration": 1164,
    "start_time": "2021-10-22T12:23:29.953Z"
   },
   {
    "duration": 19,
    "start_time": "2021-10-22T12:23:31.119Z"
   },
   {
    "duration": 18,
    "start_time": "2021-10-22T12:23:31.141Z"
   },
   {
    "duration": 18,
    "start_time": "2021-10-22T12:23:31.161Z"
   },
   {
    "duration": 13,
    "start_time": "2021-10-22T12:23:31.181Z"
   },
   {
    "duration": 18,
    "start_time": "2021-10-22T12:23:31.196Z"
   },
   {
    "duration": 9,
    "start_time": "2021-10-22T12:23:31.216Z"
   },
   {
    "duration": 8,
    "start_time": "2021-10-22T12:23:31.228Z"
   },
   {
    "duration": 30,
    "start_time": "2021-10-22T12:23:31.237Z"
   },
   {
    "duration": 10,
    "start_time": "2021-10-22T12:23:31.270Z"
   },
   {
    "duration": 12,
    "start_time": "2021-10-22T12:23:31.283Z"
   },
   {
    "duration": 19,
    "start_time": "2021-10-22T12:23:31.365Z"
   },
   {
    "duration": 18,
    "start_time": "2021-10-22T12:23:31.386Z"
   },
   {
    "duration": 16,
    "start_time": "2021-10-22T12:23:31.406Z"
   },
   {
    "duration": 16,
    "start_time": "2021-10-22T12:23:31.464Z"
   },
   {
    "duration": 102,
    "start_time": "2021-10-22T12:23:31.565Z"
   },
   {
    "duration": 6,
    "start_time": "2021-10-22T12:24:22.873Z"
   },
   {
    "duration": 1132,
    "start_time": "2021-10-22T12:27:04.682Z"
   },
   {
    "duration": 21,
    "start_time": "2021-10-22T12:27:05.816Z"
   },
   {
    "duration": 8,
    "start_time": "2021-10-22T12:27:05.840Z"
   },
   {
    "duration": 22,
    "start_time": "2021-10-22T12:27:05.850Z"
   },
   {
    "duration": 8,
    "start_time": "2021-10-22T12:27:05.875Z"
   },
   {
    "duration": 17,
    "start_time": "2021-10-22T12:27:05.885Z"
   },
   {
    "duration": 365,
    "start_time": "2021-10-22T12:27:05.904Z"
   },
   {
    "duration": -608,
    "start_time": "2021-10-22T12:27:06.880Z"
   },
   {
    "duration": -620,
    "start_time": "2021-10-22T12:27:06.893Z"
   },
   {
    "duration": -625,
    "start_time": "2021-10-22T12:27:06.899Z"
   },
   {
    "duration": -632,
    "start_time": "2021-10-22T12:27:06.908Z"
   },
   {
    "duration": -633,
    "start_time": "2021-10-22T12:27:06.910Z"
   },
   {
    "duration": -635,
    "start_time": "2021-10-22T12:27:06.914Z"
   },
   {
    "duration": -641,
    "start_time": "2021-10-22T12:27:06.921Z"
   },
   {
    "duration": -640,
    "start_time": "2021-10-22T12:27:06.922Z"
   },
   {
    "duration": -641,
    "start_time": "2021-10-22T12:27:06.924Z"
   },
   {
    "duration": -642,
    "start_time": "2021-10-22T12:27:06.926Z"
   },
   {
    "duration": 11,
    "start_time": "2021-10-22T12:28:09.247Z"
   },
   {
    "duration": 5,
    "start_time": "2021-10-22T12:28:11.319Z"
   },
   {
    "duration": 5,
    "start_time": "2021-10-22T12:28:11.512Z"
   },
   {
    "duration": 5,
    "start_time": "2021-10-22T12:28:11.703Z"
   },
   {
    "duration": 5,
    "start_time": "2021-10-22T12:28:13.263Z"
   },
   {
    "duration": 13,
    "start_time": "2021-10-22T12:28:13.463Z"
   },
   {
    "duration": 5,
    "start_time": "2021-10-22T12:28:13.655Z"
   },
   {
    "duration": 5,
    "start_time": "2021-10-22T12:28:13.855Z"
   },
   {
    "duration": 12,
    "start_time": "2021-10-22T12:28:14.070Z"
   },
   {
    "duration": 9,
    "start_time": "2021-10-22T12:28:14.535Z"
   },
   {
    "duration": 8,
    "start_time": "2021-10-22T12:28:15.207Z"
   },
   {
    "duration": 1264,
    "start_time": "2021-10-22T12:32:56.792Z"
   },
   {
    "duration": 39,
    "start_time": "2021-10-22T12:32:58.074Z"
   },
   {
    "duration": 10,
    "start_time": "2021-10-22T12:32:58.123Z"
   },
   {
    "duration": 32,
    "start_time": "2021-10-22T12:32:58.135Z"
   },
   {
    "duration": 15,
    "start_time": "2021-10-22T12:32:58.169Z"
   },
   {
    "duration": 20,
    "start_time": "2021-10-22T12:32:58.186Z"
   },
   {
    "duration": 3,
    "start_time": "2021-10-22T12:32:58.208Z"
   },
   {
    "duration": 13,
    "start_time": "2021-10-22T12:32:58.215Z"
   },
   {
    "duration": 35,
    "start_time": "2021-10-22T12:32:58.231Z"
   },
   {
    "duration": 15,
    "start_time": "2021-10-22T12:32:58.268Z"
   },
   {
    "duration": 80,
    "start_time": "2021-10-22T12:32:58.285Z"
   },
   {
    "duration": 21,
    "start_time": "2021-10-22T12:32:58.368Z"
   },
   {
    "duration": 16,
    "start_time": "2021-10-22T12:32:58.391Z"
   },
   {
    "duration": 56,
    "start_time": "2021-10-22T12:32:58.409Z"
   },
   {
    "duration": 103,
    "start_time": "2021-10-22T12:32:58.468Z"
   },
   {
    "duration": 9,
    "start_time": "2021-10-22T12:32:58.573Z"
   },
   {
    "duration": 91,
    "start_time": "2021-10-22T12:32:58.585Z"
   },
   {
    "duration": 1140,
    "start_time": "2021-10-22T12:33:18.973Z"
   },
   {
    "duration": 21,
    "start_time": "2021-10-22T12:33:20.115Z"
   },
   {
    "duration": 10,
    "start_time": "2021-10-22T12:33:20.139Z"
   },
   {
    "duration": 29,
    "start_time": "2021-10-22T12:33:20.151Z"
   },
   {
    "duration": 9,
    "start_time": "2021-10-22T12:33:20.182Z"
   },
   {
    "duration": 17,
    "start_time": "2021-10-22T12:33:20.192Z"
   },
   {
    "duration": 2,
    "start_time": "2021-10-22T12:33:20.211Z"
   },
   {
    "duration": 9,
    "start_time": "2021-10-22T12:33:20.216Z"
   },
   {
    "duration": 41,
    "start_time": "2021-10-22T12:33:20.227Z"
   },
   {
    "duration": 5,
    "start_time": "2021-10-22T12:33:20.270Z"
   },
   {
    "duration": 10,
    "start_time": "2021-10-22T12:33:20.277Z"
   },
   {
    "duration": 85,
    "start_time": "2021-10-22T12:33:20.290Z"
   },
   {
    "duration": 9,
    "start_time": "2021-10-22T12:33:20.377Z"
   },
   {
    "duration": 13,
    "start_time": "2021-10-22T12:33:20.388Z"
   },
   {
    "duration": 80,
    "start_time": "2021-10-22T12:33:20.403Z"
   },
   {
    "duration": 92,
    "start_time": "2021-10-22T12:33:20.485Z"
   },
   {
    "duration": 101,
    "start_time": "2021-10-22T12:33:20.665Z"
   },
   {
    "duration": 1086,
    "start_time": "2021-10-22T12:34:22.410Z"
   },
   {
    "duration": 22,
    "start_time": "2021-10-22T12:34:23.498Z"
   },
   {
    "duration": 13,
    "start_time": "2021-10-22T12:34:23.522Z"
   },
   {
    "duration": 26,
    "start_time": "2021-10-22T12:34:23.538Z"
   },
   {
    "duration": 7,
    "start_time": "2021-10-22T12:34:23.567Z"
   },
   {
    "duration": 27,
    "start_time": "2021-10-22T12:34:23.576Z"
   },
   {
    "duration": 11,
    "start_time": "2021-10-22T12:34:23.605Z"
   },
   {
    "duration": 5,
    "start_time": "2021-10-22T12:34:23.620Z"
   },
   {
    "duration": 39,
    "start_time": "2021-10-22T12:34:23.628Z"
   },
   {
    "duration": 18,
    "start_time": "2021-10-22T12:34:23.669Z"
   },
   {
    "duration": 77,
    "start_time": "2021-10-22T12:34:23.690Z"
   },
   {
    "duration": 24,
    "start_time": "2021-10-22T12:34:23.770Z"
   },
   {
    "duration": 18,
    "start_time": "2021-10-22T12:34:23.795Z"
   },
   {
    "duration": 51,
    "start_time": "2021-10-22T12:34:23.814Z"
   },
   {
    "duration": 96,
    "start_time": "2021-10-22T12:34:23.867Z"
   },
   {
    "duration": 18,
    "start_time": "2021-10-22T12:34:23.965Z"
   },
   {
    "duration": 101,
    "start_time": "2021-10-22T12:34:24.066Z"
   },
   {
    "duration": 5,
    "start_time": "2021-10-22T12:55:39.724Z"
   },
   {
    "duration": 5,
    "start_time": "2021-10-22T12:56:01.083Z"
   },
   {
    "duration": 6,
    "start_time": "2021-10-22T12:57:33.122Z"
   },
   {
    "duration": 10,
    "start_time": "2021-10-22T12:57:48.890Z"
   },
   {
    "duration": 7,
    "start_time": "2021-10-22T12:57:49.794Z"
   },
   {
    "duration": 5,
    "start_time": "2021-10-22T12:57:50.505Z"
   },
   {
    "duration": 4,
    "start_time": "2021-10-22T12:57:51.362Z"
   },
   {
    "duration": 5,
    "start_time": "2021-10-22T15:23:01.411Z"
   },
   {
    "duration": 5,
    "start_time": "2021-10-22T15:23:49.480Z"
   },
   {
    "duration": 14,
    "start_time": "2021-10-22T15:26:51.263Z"
   },
   {
    "duration": 10,
    "start_time": "2021-10-22T15:27:17.046Z"
   },
   {
    "duration": 10,
    "start_time": "2021-10-22T15:27:17.607Z"
   },
   {
    "duration": 9,
    "start_time": "2021-10-22T15:28:32.461Z"
   },
   {
    "duration": 7,
    "start_time": "2021-10-22T15:28:32.831Z"
   },
   {
    "duration": 4,
    "start_time": "2021-10-22T15:28:33.342Z"
   },
   {
    "duration": 5,
    "start_time": "2021-10-22T15:28:34.005Z"
   },
   {
    "duration": 4,
    "start_time": "2021-10-22T16:03:19.189Z"
   },
   {
    "duration": 5,
    "start_time": "2021-10-22T16:05:07.946Z"
   },
   {
    "duration": 318,
    "start_time": "2021-10-22T16:05:33.458Z"
   },
   {
    "duration": 382,
    "start_time": "2021-10-22T16:07:04.146Z"
   },
   {
    "duration": 243,
    "start_time": "2021-10-22T16:07:21.271Z"
   },
   {
    "duration": 180,
    "start_time": "2021-10-22T16:07:45.962Z"
   },
   {
    "duration": 236,
    "start_time": "2021-10-22T16:43:08.032Z"
   },
   {
    "duration": 255,
    "start_time": "2021-10-22T16:43:41.406Z"
   },
   {
    "duration": 244,
    "start_time": "2021-10-22T16:43:48.246Z"
   },
   {
    "duration": 8,
    "start_time": "2021-10-22T16:44:43.102Z"
   },
   {
    "duration": 7,
    "start_time": "2021-10-22T16:44:59.198Z"
   },
   {
    "duration": 9,
    "start_time": "2021-10-22T16:52:32.597Z"
   },
   {
    "duration": 5,
    "start_time": "2021-10-22T16:53:17.948Z"
   },
   {
    "duration": 6,
    "start_time": "2021-10-22T16:53:22.778Z"
   },
   {
    "duration": 8,
    "start_time": "2021-10-22T17:02:11.805Z"
   },
   {
    "duration": 13,
    "start_time": "2021-10-22T17:02:38.704Z"
   },
   {
    "duration": 8,
    "start_time": "2021-10-22T17:02:39.632Z"
   },
   {
    "duration": 4,
    "start_time": "2021-10-22T17:03:31.409Z"
   },
   {
    "duration": 204,
    "start_time": "2021-10-22T17:04:11.009Z"
   },
   {
    "duration": 409,
    "start_time": "2021-10-22T17:05:43.744Z"
   },
   {
    "duration": 1379,
    "start_time": "2021-10-24T18:03:55.732Z"
   },
   {
    "duration": 21,
    "start_time": "2021-10-24T18:03:57.114Z"
   },
   {
    "duration": 10,
    "start_time": "2021-10-24T18:03:57.141Z"
   },
   {
    "duration": 23,
    "start_time": "2021-10-24T18:03:57.153Z"
   },
   {
    "duration": 8,
    "start_time": "2021-10-24T18:03:57.200Z"
   },
   {
    "duration": 23,
    "start_time": "2021-10-24T18:03:57.211Z"
   },
   {
    "duration": 13,
    "start_time": "2021-10-24T18:03:57.239Z"
   },
   {
    "duration": 5,
    "start_time": "2021-10-24T18:03:57.255Z"
   },
   {
    "duration": 10,
    "start_time": "2021-10-24T18:03:57.302Z"
   },
   {
    "duration": 6,
    "start_time": "2021-10-24T18:03:57.315Z"
   },
   {
    "duration": 80,
    "start_time": "2021-10-24T18:03:57.324Z"
   },
   {
    "duration": 12,
    "start_time": "2021-10-24T18:03:57.408Z"
   },
   {
    "duration": 90,
    "start_time": "2021-10-24T18:03:57.423Z"
   },
   {
    "duration": 10,
    "start_time": "2021-10-24T18:03:57.515Z"
   },
   {
    "duration": 78,
    "start_time": "2021-10-24T18:03:57.529Z"
   },
   {
    "duration": 97,
    "start_time": "2021-10-24T18:03:57.611Z"
   },
   {
    "duration": 91,
    "start_time": "2021-10-24T18:03:57.711Z"
   },
   {
    "duration": 99,
    "start_time": "2021-10-24T18:03:57.805Z"
   },
   {
    "duration": 706,
    "start_time": "2021-10-24T18:03:57.907Z"
   },
   {
    "duration": 334,
    "start_time": "2021-10-26T14:07:33.836Z"
   },
   {
    "duration": 1357,
    "start_time": "2021-10-26T14:49:49.067Z"
   },
   {
    "duration": 14,
    "start_time": "2021-10-26T14:49:55.586Z"
   },
   {
    "duration": 7,
    "start_time": "2021-10-26T14:49:58.473Z"
   },
   {
    "duration": 7,
    "start_time": "2021-10-26T14:50:01.498Z"
   },
   {
    "duration": 410,
    "start_time": "2021-10-28T18:17:29.434Z"
   },
   {
    "duration": 372,
    "start_time": "2021-10-28T18:17:35.180Z"
   },
   {
    "duration": 441,
    "start_time": "2021-10-28T18:18:16.202Z"
   },
   {
    "duration": 1971,
    "start_time": "2021-10-28T18:18:22.474Z"
   },
   {
    "duration": 14,
    "start_time": "2021-10-28T18:18:37.683Z"
   },
   {
    "duration": 556,
    "start_time": "2021-10-28T21:19:16.190Z"
   },
   {
    "duration": 1322,
    "start_time": "2021-10-28T21:19:22.804Z"
   },
   {
    "duration": 20,
    "start_time": "2021-10-28T21:19:24.129Z"
   },
   {
    "duration": 9,
    "start_time": "2021-10-28T21:19:24.153Z"
   },
   {
    "duration": 37,
    "start_time": "2021-10-28T21:19:24.165Z"
   },
   {
    "duration": 8,
    "start_time": "2021-10-28T21:19:24.205Z"
   },
   {
    "duration": 22,
    "start_time": "2021-10-28T21:19:24.216Z"
   },
   {
    "duration": 11,
    "start_time": "2021-10-28T21:19:24.240Z"
   },
   {
    "duration": 6,
    "start_time": "2021-10-28T21:19:24.254Z"
   },
   {
    "duration": 42,
    "start_time": "2021-10-28T21:19:24.262Z"
   },
   {
    "duration": 9,
    "start_time": "2021-10-28T21:19:24.307Z"
   },
   {
    "duration": 84,
    "start_time": "2021-10-28T21:19:24.319Z"
   },
   {
    "duration": 95,
    "start_time": "2021-10-28T21:19:24.407Z"
   },
   {
    "duration": 102,
    "start_time": "2021-10-28T21:19:24.504Z"
   },
   {
    "duration": 98,
    "start_time": "2021-10-28T21:19:24.610Z"
   },
   {
    "duration": 715,
    "start_time": "2021-10-28T21:19:24.712Z"
   },
   {
    "duration": 484,
    "start_time": "2021-10-28T21:21:19.247Z"
   },
   {
    "duration": 528,
    "start_time": "2021-10-28T21:21:34.882Z"
   },
   {
    "duration": 1367,
    "start_time": "2021-10-28T21:57:26.356Z"
   },
   {
    "duration": 20,
    "start_time": "2021-10-28T21:57:27.725Z"
   },
   {
    "duration": 10,
    "start_time": "2021-10-28T21:57:27.748Z"
   },
   {
    "duration": 23,
    "start_time": "2021-10-28T21:57:27.760Z"
   },
   {
    "duration": 10,
    "start_time": "2021-10-28T21:57:27.801Z"
   },
   {
    "duration": 24,
    "start_time": "2021-10-28T21:57:27.814Z"
   },
   {
    "duration": 14,
    "start_time": "2021-10-28T21:57:27.841Z"
   },
   {
    "duration": 7,
    "start_time": "2021-10-28T21:57:27.901Z"
   },
   {
    "duration": 8,
    "start_time": "2021-10-28T21:57:27.911Z"
   },
   {
    "duration": 7,
    "start_time": "2021-10-28T21:57:27.922Z"
   },
   {
    "duration": 74,
    "start_time": "2021-10-28T21:57:27.932Z"
   },
   {
    "duration": 98,
    "start_time": "2021-10-28T21:57:28.008Z"
   },
   {
    "duration": 191,
    "start_time": "2021-10-28T21:57:28.108Z"
   },
   {
    "duration": 12,
    "start_time": "2021-10-28T21:57:28.302Z"
   },
   {
    "duration": 647,
    "start_time": "2021-10-28T21:57:28.401Z"
   },
   {
    "duration": 407,
    "start_time": "2021-10-29T09:48:22.073Z"
   },
   {
    "duration": 465,
    "start_time": "2021-10-29T09:48:33.584Z"
   },
   {
    "duration": 1469,
    "start_time": "2021-10-29T09:48:44.743Z"
   },
   {
    "duration": 22,
    "start_time": "2021-10-29T09:48:46.215Z"
   },
   {
    "duration": 10,
    "start_time": "2021-10-29T09:48:46.241Z"
   },
   {
    "duration": 24,
    "start_time": "2021-10-29T09:48:46.259Z"
   },
   {
    "duration": 16,
    "start_time": "2021-10-29T09:48:46.285Z"
   },
   {
    "duration": 22,
    "start_time": "2021-10-29T09:48:46.304Z"
   },
   {
    "duration": 12,
    "start_time": "2021-10-29T09:48:46.358Z"
   },
   {
    "duration": 6,
    "start_time": "2021-10-29T09:48:46.373Z"
   },
   {
    "duration": 9,
    "start_time": "2021-10-29T09:48:46.381Z"
   },
   {
    "duration": 7,
    "start_time": "2021-10-29T09:48:46.392Z"
   },
   {
    "duration": 11,
    "start_time": "2021-10-29T09:48:46.459Z"
   },
   {
    "duration": 87,
    "start_time": "2021-10-29T09:48:46.473Z"
   },
   {
    "duration": 97,
    "start_time": "2021-10-29T09:48:46.562Z"
   },
   {
    "duration": 98,
    "start_time": "2021-10-29T09:48:46.663Z"
   },
   {
    "duration": 695,
    "start_time": "2021-10-29T09:48:46.765Z"
   },
   {
    "duration": 6,
    "start_time": "2021-10-29T09:49:24.383Z"
   },
   {
    "duration": 7,
    "start_time": "2021-10-29T09:49:33.655Z"
   },
   {
    "duration": 8,
    "start_time": "2021-10-29T09:49:56.185Z"
   },
   {
    "duration": 4,
    "start_time": "2021-10-29T09:52:25.400Z"
   },
   {
    "duration": 1322,
    "start_time": "2021-10-29T09:52:38.436Z"
   },
   {
    "duration": 21,
    "start_time": "2021-10-29T09:52:39.760Z"
   },
   {
    "duration": 9,
    "start_time": "2021-10-29T09:52:39.787Z"
   },
   {
    "duration": 23,
    "start_time": "2021-10-29T09:52:39.798Z"
   },
   {
    "duration": 36,
    "start_time": "2021-10-29T09:52:39.823Z"
   },
   {
    "duration": 22,
    "start_time": "2021-10-29T09:52:39.862Z"
   },
   {
    "duration": 12,
    "start_time": "2021-10-29T09:52:39.888Z"
   },
   {
    "duration": 6,
    "start_time": "2021-10-29T09:52:39.903Z"
   },
   {
    "duration": 47,
    "start_time": "2021-10-29T09:52:39.912Z"
   },
   {
    "duration": 10,
    "start_time": "2021-10-29T09:52:39.962Z"
   },
   {
    "duration": 87,
    "start_time": "2021-10-29T09:52:39.976Z"
   },
   {
    "duration": 92,
    "start_time": "2021-10-29T09:52:40.066Z"
   },
   {
    "duration": 101,
    "start_time": "2021-10-29T09:52:40.160Z"
   },
   {
    "duration": 104,
    "start_time": "2021-10-29T09:52:40.266Z"
   },
   {
    "duration": 710,
    "start_time": "2021-10-29T09:52:40.373Z"
   },
   {
    "duration": 1114,
    "start_time": "2021-10-29T10:03:33.330Z"
   },
   {
    "duration": 19,
    "start_time": "2021-10-29T10:03:34.447Z"
   },
   {
    "duration": 14,
    "start_time": "2021-10-29T10:03:34.469Z"
   },
   {
    "duration": 27,
    "start_time": "2021-10-29T10:03:34.486Z"
   },
   {
    "duration": 13,
    "start_time": "2021-10-29T10:03:34.515Z"
   },
   {
    "duration": 16,
    "start_time": "2021-10-29T10:03:34.686Z"
   },
   {
    "duration": 10,
    "start_time": "2021-10-29T10:03:35.259Z"
   },
   {
    "duration": 4,
    "start_time": "2021-10-29T10:08:19.481Z"
   },
   {
    "duration": 6,
    "start_time": "2021-10-29T10:08:20.228Z"
   },
   {
    "duration": 6,
    "start_time": "2021-10-29T10:08:20.894Z"
   },
   {
    "duration": 5,
    "start_time": "2021-10-29T10:08:21.210Z"
   },
   {
    "duration": 8,
    "start_time": "2021-10-29T10:08:21.545Z"
   },
   {
    "duration": 78,
    "start_time": "2021-10-29T10:08:21.870Z"
   },
   {
    "duration": 7,
    "start_time": "2021-10-29T10:08:22.048Z"
   },
   {
    "duration": 572,
    "start_time": "2021-10-29T10:08:22.513Z"
   },
   {
    "duration": 219,
    "start_time": "2021-10-30T13:43:38.410Z"
   },
   {
    "duration": 1018,
    "start_time": "2021-10-30T13:43:42.583Z"
   },
   {
    "duration": 55,
    "start_time": "2021-10-30T13:43:43.603Z"
   },
   {
    "duration": 6,
    "start_time": "2021-10-30T13:43:43.662Z"
   },
   {
    "duration": 15,
    "start_time": "2021-10-30T13:43:43.670Z"
   },
   {
    "duration": 4,
    "start_time": "2021-10-30T13:43:43.687Z"
   },
   {
    "duration": 13,
    "start_time": "2021-10-30T13:43:43.693Z"
   },
   {
    "duration": 9,
    "start_time": "2021-10-30T13:43:43.708Z"
   },
   {
    "duration": 4,
    "start_time": "2021-10-30T13:43:43.719Z"
   },
   {
    "duration": 6,
    "start_time": "2021-10-30T13:43:43.724Z"
   },
   {
    "duration": 6,
    "start_time": "2021-10-30T13:43:43.731Z"
   },
   {
    "duration": 57,
    "start_time": "2021-10-30T13:43:43.739Z"
   },
   {
    "duration": 11,
    "start_time": "2021-10-30T13:43:43.799Z"
   },
   {
    "duration": 13,
    "start_time": "2021-10-30T13:43:43.892Z"
   },
   {
    "duration": 191,
    "start_time": "2021-10-30T13:43:43.906Z"
   },
   {
    "duration": 566,
    "start_time": "2021-10-30T13:43:44.100Z"
   },
   {
    "duration": 4,
    "start_time": "2021-10-30T17:07:13.106Z"
   },
   {
    "duration": 4,
    "start_time": "2021-10-30T17:07:29.605Z"
   }
  ],
  "kernelspec": {
   "display_name": "Python 3 (ipykernel)",
   "language": "python",
   "name": "python3"
  },
  "language_info": {
   "codemirror_mode": {
    "name": "ipython",
    "version": 3
   },
   "file_extension": ".py",
   "mimetype": "text/x-python",
   "name": "python",
   "nbconvert_exporter": "python",
   "pygments_lexer": "ipython3",
   "version": "3.9.7"
  },
  "toc": {
   "base_numbering": 1,
   "nav_menu": {},
   "number_sections": true,
   "sideBar": true,
   "skip_h1_title": true,
   "title_cell": "Содержание",
   "title_sidebar": "Contents",
   "toc_cell": true,
   "toc_position": {},
   "toc_section_display": true,
   "toc_window_display": true
  }
 },
 "nbformat": 4,
 "nbformat_minor": 2
}
