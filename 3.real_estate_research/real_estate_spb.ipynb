{
 "cells": [
  {
   "cell_type": "markdown",
   "metadata": {
    "id": "ari6gkLMWwqU"
   },
   "source": [
    "# Исследование объявлений о продаже квартир\n",
    "\n",
    "В вашем распоряжении данные сервиса Яндекс.Недвижимость — архив объявлений о продаже квартир в Санкт-Петербурге и соседних населённых пунктах за несколько лет. Нужно научиться определять рыночную стоимость объектов недвижимости. Ваша задача — установить параметры. Это позволит построить автоматизированную систему: она отследит аномалии и мошенническую деятельность. \n",
    "\n",
    "По каждой квартире на продажу доступны два вида данных. Первые вписаны пользователем, вторые получены автоматически на основе картографических данных. Например, расстояние до центра, аэропорта, ближайшего парка и водоёма. \n",
    "\n",
    "Содержание таблицы:  \n",
    "airports_nearest — расстояние до ближайшего аэропорта в метрах (м)  \n",
    "balcony — число балконов  \n",
    "ceiling_height — высота потолков (м)  \n",
    "cityCenters_nearest — расстояние до центра города (м)  \n",
    "days_exposition — сколько дней было размещено объявление (от публикации до снятия)  \n",
    "first_day_exposition — дата публикации  \n",
    "floor — этаж  \n",
    "floors_total — всего этажей в доме  \n",
    "is_apartment — апартаменты (булев тип)  \n",
    "kitchen_area — площадь кухни в квадратных метрах (м²)  \n",
    "last_price — цена на момент снятия с публикации  \n",
    "living_area — жилая площадь в квадратных метрах(м²)  \n",
    "locality_name — название населённого пункта  \n",
    "open_plan — свободная планировка (булев тип)  \n",
    "parks_around3000 — число парков в радиусе 3 км  \n",
    "parks_nearest — расстояние до ближайшего парка (м)  \n",
    "ponds_around3000 — число водоёмов в радиусе 3 км  \n",
    "ponds_nearest — расстояние до ближайшего водоёма (м)  \n",
    "rooms — число комнат  \n",
    "studio — квартира-студия (булев тип)  \n",
    "total_area — площадь квартиры в квадратных метрах (м²)  \n",
    "total_images — число фотографий квартиры в объявлении"
   ]
  },
  {
   "cell_type": "markdown",
   "metadata": {
    "id": "c4e5IjVrWwqW"
   },
   "source": [
    "## Изучение данных из файла"
   ]
  },
  {
   "cell_type": "code",
   "execution_count": 1,
   "metadata": {
    "id": "9ZU8MTq6WwqX"
   },
   "outputs": [],
   "source": [
    "import pandas as pd\n",
    "import matplotlib.pyplot as plt\n",
    "import seaborn as sn"
   ]
  },
  {
   "cell_type": "code",
   "execution_count": 2,
   "metadata": {
    "id": "eG1EudKJLbeU"
   },
   "outputs": [],
   "source": [
    "df = pd.read_csv('Ya_data/real_estate_data.csv', sep = '\\t')"
   ]
  },
  {
   "cell_type": "code",
   "execution_count": 3,
   "metadata": {
    "colab": {
     "base_uri": "https://localhost:8080/"
    },
    "id": "0M1Xg6XYMhHU",
    "outputId": "361dcf95-34a9-4dd7-c31f-b233eae94bbe"
   },
   "outputs": [
    {
     "name": "stdout",
     "output_type": "stream",
     "text": [
      "<class 'pandas.core.frame.DataFrame'>\n",
      "RangeIndex: 23699 entries, 0 to 23698\n",
      "Data columns (total 22 columns):\n",
      " #   Column                Non-Null Count  Dtype  \n",
      "---  ------                --------------  -----  \n",
      " 0   total_images          23699 non-null  int64  \n",
      " 1   last_price            23699 non-null  float64\n",
      " 2   total_area            23699 non-null  float64\n",
      " 3   first_day_exposition  23699 non-null  object \n",
      " 4   rooms                 23699 non-null  int64  \n",
      " 5   ceiling_height        14504 non-null  float64\n",
      " 6   floors_total          23613 non-null  float64\n",
      " 7   living_area           21796 non-null  float64\n",
      " 8   floor                 23699 non-null  int64  \n",
      " 9   is_apartment          2775 non-null   object \n",
      " 10  studio                23699 non-null  bool   \n",
      " 11  open_plan             23699 non-null  bool   \n",
      " 12  kitchen_area          21421 non-null  float64\n",
      " 13  balcony               12180 non-null  float64\n",
      " 14  locality_name         23650 non-null  object \n",
      " 15  airports_nearest      18157 non-null  float64\n",
      " 16  cityCenters_nearest   18180 non-null  float64\n",
      " 17  parks_around3000      18181 non-null  float64\n",
      " 18  parks_nearest         8079 non-null   float64\n",
      " 19  ponds_around3000      18181 non-null  float64\n",
      " 20  ponds_nearest         9110 non-null   float64\n",
      " 21  days_exposition       20518 non-null  float64\n",
      "dtypes: bool(2), float64(14), int64(3), object(3)\n",
      "memory usage: 3.7+ MB\n"
     ]
    }
   ],
   "source": [
    "df.info()"
   ]
  },
  {
   "cell_type": "code",
   "execution_count": 4,
   "metadata": {
    "colab": {
     "base_uri": "https://localhost:8080/",
     "height": 386
    },
    "id": "aypQBuWpMyPw",
    "outputId": "bfcca485-5ace-463d-bb67-d31e4c4be1ce"
   },
   "outputs": [
    {
     "data": {
      "text/html": [
       "<div>\n",
       "<style scoped>\n",
       "    .dataframe tbody tr th:only-of-type {\n",
       "        vertical-align: middle;\n",
       "    }\n",
       "\n",
       "    .dataframe tbody tr th {\n",
       "        vertical-align: top;\n",
       "    }\n",
       "\n",
       "    .dataframe thead th {\n",
       "        text-align: right;\n",
       "    }\n",
       "</style>\n",
       "<table border=\"1\" class=\"dataframe\">\n",
       "  <thead>\n",
       "    <tr style=\"text-align: right;\">\n",
       "      <th></th>\n",
       "      <th>total_images</th>\n",
       "      <th>last_price</th>\n",
       "      <th>total_area</th>\n",
       "      <th>first_day_exposition</th>\n",
       "      <th>rooms</th>\n",
       "      <th>ceiling_height</th>\n",
       "      <th>floors_total</th>\n",
       "      <th>living_area</th>\n",
       "      <th>floor</th>\n",
       "      <th>is_apartment</th>\n",
       "      <th>...</th>\n",
       "      <th>kitchen_area</th>\n",
       "      <th>balcony</th>\n",
       "      <th>locality_name</th>\n",
       "      <th>airports_nearest</th>\n",
       "      <th>cityCenters_nearest</th>\n",
       "      <th>parks_around3000</th>\n",
       "      <th>parks_nearest</th>\n",
       "      <th>ponds_around3000</th>\n",
       "      <th>ponds_nearest</th>\n",
       "      <th>days_exposition</th>\n",
       "    </tr>\n",
       "  </thead>\n",
       "  <tbody>\n",
       "    <tr>\n",
       "      <th>0</th>\n",
       "      <td>20</td>\n",
       "      <td>13000000.0</td>\n",
       "      <td>108.0</td>\n",
       "      <td>2019-03-07T00:00:00</td>\n",
       "      <td>3</td>\n",
       "      <td>2.70</td>\n",
       "      <td>16.0</td>\n",
       "      <td>51.0</td>\n",
       "      <td>8</td>\n",
       "      <td>NaN</td>\n",
       "      <td>...</td>\n",
       "      <td>25.0</td>\n",
       "      <td>NaN</td>\n",
       "      <td>Санкт-Петербург</td>\n",
       "      <td>18863.0</td>\n",
       "      <td>16028.0</td>\n",
       "      <td>1.0</td>\n",
       "      <td>482.0</td>\n",
       "      <td>2.0</td>\n",
       "      <td>755.0</td>\n",
       "      <td>NaN</td>\n",
       "    </tr>\n",
       "    <tr>\n",
       "      <th>1</th>\n",
       "      <td>7</td>\n",
       "      <td>3350000.0</td>\n",
       "      <td>40.4</td>\n",
       "      <td>2018-12-04T00:00:00</td>\n",
       "      <td>1</td>\n",
       "      <td>NaN</td>\n",
       "      <td>11.0</td>\n",
       "      <td>18.6</td>\n",
       "      <td>1</td>\n",
       "      <td>NaN</td>\n",
       "      <td>...</td>\n",
       "      <td>11.0</td>\n",
       "      <td>2.0</td>\n",
       "      <td>посёлок Шушары</td>\n",
       "      <td>12817.0</td>\n",
       "      <td>18603.0</td>\n",
       "      <td>0.0</td>\n",
       "      <td>NaN</td>\n",
       "      <td>0.0</td>\n",
       "      <td>NaN</td>\n",
       "      <td>81.0</td>\n",
       "    </tr>\n",
       "    <tr>\n",
       "      <th>2</th>\n",
       "      <td>10</td>\n",
       "      <td>5196000.0</td>\n",
       "      <td>56.0</td>\n",
       "      <td>2015-08-20T00:00:00</td>\n",
       "      <td>2</td>\n",
       "      <td>NaN</td>\n",
       "      <td>5.0</td>\n",
       "      <td>34.3</td>\n",
       "      <td>4</td>\n",
       "      <td>NaN</td>\n",
       "      <td>...</td>\n",
       "      <td>8.3</td>\n",
       "      <td>0.0</td>\n",
       "      <td>Санкт-Петербург</td>\n",
       "      <td>21741.0</td>\n",
       "      <td>13933.0</td>\n",
       "      <td>1.0</td>\n",
       "      <td>90.0</td>\n",
       "      <td>2.0</td>\n",
       "      <td>574.0</td>\n",
       "      <td>558.0</td>\n",
       "    </tr>\n",
       "    <tr>\n",
       "      <th>3</th>\n",
       "      <td>0</td>\n",
       "      <td>64900000.0</td>\n",
       "      <td>159.0</td>\n",
       "      <td>2015-07-24T00:00:00</td>\n",
       "      <td>3</td>\n",
       "      <td>NaN</td>\n",
       "      <td>14.0</td>\n",
       "      <td>NaN</td>\n",
       "      <td>9</td>\n",
       "      <td>NaN</td>\n",
       "      <td>...</td>\n",
       "      <td>NaN</td>\n",
       "      <td>0.0</td>\n",
       "      <td>Санкт-Петербург</td>\n",
       "      <td>28098.0</td>\n",
       "      <td>6800.0</td>\n",
       "      <td>2.0</td>\n",
       "      <td>84.0</td>\n",
       "      <td>3.0</td>\n",
       "      <td>234.0</td>\n",
       "      <td>424.0</td>\n",
       "    </tr>\n",
       "    <tr>\n",
       "      <th>4</th>\n",
       "      <td>2</td>\n",
       "      <td>10000000.0</td>\n",
       "      <td>100.0</td>\n",
       "      <td>2018-06-19T00:00:00</td>\n",
       "      <td>2</td>\n",
       "      <td>3.03</td>\n",
       "      <td>14.0</td>\n",
       "      <td>32.0</td>\n",
       "      <td>13</td>\n",
       "      <td>NaN</td>\n",
       "      <td>...</td>\n",
       "      <td>41.0</td>\n",
       "      <td>NaN</td>\n",
       "      <td>Санкт-Петербург</td>\n",
       "      <td>31856.0</td>\n",
       "      <td>8098.0</td>\n",
       "      <td>2.0</td>\n",
       "      <td>112.0</td>\n",
       "      <td>1.0</td>\n",
       "      <td>48.0</td>\n",
       "      <td>121.0</td>\n",
       "    </tr>\n",
       "  </tbody>\n",
       "</table>\n",
       "<p>5 rows × 22 columns</p>\n",
       "</div>"
      ],
      "text/plain": [
       "   total_images  last_price  total_area first_day_exposition  rooms  \\\n",
       "0            20  13000000.0       108.0  2019-03-07T00:00:00      3   \n",
       "1             7   3350000.0        40.4  2018-12-04T00:00:00      1   \n",
       "2            10   5196000.0        56.0  2015-08-20T00:00:00      2   \n",
       "3             0  64900000.0       159.0  2015-07-24T00:00:00      3   \n",
       "4             2  10000000.0       100.0  2018-06-19T00:00:00      2   \n",
       "\n",
       "   ceiling_height  floors_total  living_area  floor is_apartment  ...  \\\n",
       "0            2.70          16.0         51.0      8          NaN  ...   \n",
       "1             NaN          11.0         18.6      1          NaN  ...   \n",
       "2             NaN           5.0         34.3      4          NaN  ...   \n",
       "3             NaN          14.0          NaN      9          NaN  ...   \n",
       "4            3.03          14.0         32.0     13          NaN  ...   \n",
       "\n",
       "   kitchen_area  balcony    locality_name  airports_nearest  \\\n",
       "0          25.0      NaN  Санкт-Петербург           18863.0   \n",
       "1          11.0      2.0   посёлок Шушары           12817.0   \n",
       "2           8.3      0.0  Санкт-Петербург           21741.0   \n",
       "3           NaN      0.0  Санкт-Петербург           28098.0   \n",
       "4          41.0      NaN  Санкт-Петербург           31856.0   \n",
       "\n",
       "  cityCenters_nearest  parks_around3000  parks_nearest  ponds_around3000  \\\n",
       "0             16028.0               1.0          482.0               2.0   \n",
       "1             18603.0               0.0            NaN               0.0   \n",
       "2             13933.0               1.0           90.0               2.0   \n",
       "3              6800.0               2.0           84.0               3.0   \n",
       "4              8098.0               2.0          112.0               1.0   \n",
       "\n",
       "   ponds_nearest  days_exposition  \n",
       "0          755.0              NaN  \n",
       "1            NaN             81.0  \n",
       "2          574.0            558.0  \n",
       "3          234.0            424.0  \n",
       "4           48.0            121.0  \n",
       "\n",
       "[5 rows x 22 columns]"
      ]
     },
     "execution_count": 4,
     "metadata": {},
     "output_type": "execute_result"
    }
   ],
   "source": [
    "df.head()"
   ]
  },
  {
   "cell_type": "markdown",
   "metadata": {
    "id": "gdfcElqHWwqY"
   },
   "source": [
    "### Вывод"
   ]
  },
  {
   "cell_type": "markdown",
   "metadata": {
    "id": "Njvgn9wGWwqZ"
   },
   "source": [
    "таблица состоит из 23699 строк. В таблице имеются пропуски и несоотвествие типов данных. "
   ]
  },
  {
   "cell_type": "markdown",
   "metadata": {
    "id": "Mbq6YWY4Wwqa"
   },
   "source": [
    "## Предобработка данных"
   ]
  },
  {
   "cell_type": "code",
   "execution_count": 5,
   "metadata": {
    "colab": {
     "base_uri": "https://localhost:8080/"
    },
    "id": "Tav3h7XdWwqb",
    "outputId": "0fbc1e11-4023-4b2a-fbf9-fc2c1a458cd0"
   },
   "outputs": [
    {
     "data": {
      "text/plain": [
       "(23207, 22)"
      ]
     },
     "execution_count": 5,
     "metadata": {},
     "output_type": "execute_result"
    }
   ],
   "source": [
    "df = df.drop_duplicates(['locality_name', 'rooms', 'floor', 'total_area', 'kitchen_area', 'living_area'])\n",
    "df.shape"
   ]
  },
  {
   "cell_type": "markdown",
   "metadata": {
    "id": "9ZYI2mUOWwqc"
   },
   "source": [
    "### Поиск пропусков и аномальных значений"
   ]
  },
  {
   "cell_type": "code",
   "execution_count": 6,
   "metadata": {
    "colab": {
     "base_uri": "https://localhost:8080/"
    },
    "id": "iT4eSXV_PDpV",
    "outputId": "19201fe0-abb9-4f4a-cbef-d4abe7122d17"
   },
   "outputs": [
    {
     "data": {
      "text/plain": [
       "total_images            0.000000\n",
       "open_plan               0.000000\n",
       "floor                   0.000000\n",
       "rooms                   0.000000\n",
       "studio                  0.000000\n",
       "total_area              0.000000\n",
       "last_price              0.000000\n",
       "first_day_exposition    0.000000\n",
       "locality_name           0.002068\n",
       "floors_total            0.003577\n",
       "living_area             0.077692\n",
       "kitchen_area            0.093851\n",
       "days_exposition         0.135390\n",
       "ponds_around3000        0.236696\n",
       "parks_around3000        0.236696\n",
       "cityCenters_nearest     0.236739\n",
       "airports_nearest        0.237687\n",
       "ceiling_height          0.387038\n",
       "balcony                 0.485198\n",
       "ponds_nearest           0.617357\n",
       "parks_nearest           0.661051\n",
       "is_apartment            0.883182\n",
       "dtype: float64"
      ]
     },
     "execution_count": 6,
     "metadata": {},
     "output_type": "execute_result"
    }
   ],
   "source": [
    "df.isna().mean().sort_values() # посчитаем и отсортируем пропуски."
   ]
  },
  {
   "cell_type": "markdown",
   "metadata": {
    "id": "rhWMsG_Er6ih"
   },
   "source": [
    "is_apartment не представляет интерес для инашего исследования. Там 88% пропусков. Поэтому удалим его."
   ]
  },
  {
   "cell_type": "code",
   "execution_count": 7,
   "metadata": {
    "id": "tlihLYUGWwqd"
   },
   "outputs": [],
   "source": [
    "df = df.drop('is_apartment',axis = 1) # удаляем столбец"
   ]
  },
  {
   "cell_type": "markdown",
   "metadata": {
    "id": "X1H4nh9UsZXf"
   },
   "source": [
    "Пропуски количества болконов, парков и водоемов заменим на 0. Если не указано, значит их нет."
   ]
  },
  {
   "cell_type": "code",
   "execution_count": 8,
   "metadata": {
    "id": "VyHTa9JcUt2B"
   },
   "outputs": [],
   "source": [
    "df['balcony'] = df['balcony'].fillna(0)\n",
    "df['parks_around3000'] = df['parks_around3000'].fillna(0)\n",
    "df['ponds_around3000'] = df['ponds_around3000'].fillna(0)"
   ]
  },
  {
   "cell_type": "code",
   "execution_count": 9,
   "metadata": {
    "colab": {
     "base_uri": "https://localhost:8080/",
     "height": 364
    },
    "id": "WTiM1FzGaV0P",
    "outputId": "f515fad1-f308-45a8-c168-1d4248dcf95f"
   },
   "outputs": [
    {
     "data": {
      "text/html": [
       "<div>\n",
       "<style scoped>\n",
       "    .dataframe tbody tr th:only-of-type {\n",
       "        vertical-align: middle;\n",
       "    }\n",
       "\n",
       "    .dataframe tbody tr th {\n",
       "        vertical-align: top;\n",
       "    }\n",
       "\n",
       "    .dataframe thead th {\n",
       "        text-align: right;\n",
       "    }\n",
       "</style>\n",
       "<table border=\"1\" class=\"dataframe\">\n",
       "  <thead>\n",
       "    <tr style=\"text-align: right;\">\n",
       "      <th></th>\n",
       "      <th>total_images</th>\n",
       "      <th>last_price</th>\n",
       "      <th>total_area</th>\n",
       "      <th>rooms</th>\n",
       "      <th>ceiling_height</th>\n",
       "      <th>floors_total</th>\n",
       "      <th>living_area</th>\n",
       "      <th>floor</th>\n",
       "      <th>kitchen_area</th>\n",
       "      <th>balcony</th>\n",
       "      <th>airports_nearest</th>\n",
       "      <th>cityCenters_nearest</th>\n",
       "      <th>parks_around3000</th>\n",
       "      <th>parks_nearest</th>\n",
       "      <th>ponds_around3000</th>\n",
       "      <th>ponds_nearest</th>\n",
       "      <th>days_exposition</th>\n",
       "    </tr>\n",
       "  </thead>\n",
       "  <tbody>\n",
       "    <tr>\n",
       "      <th>count</th>\n",
       "      <td>23207.000000</td>\n",
       "      <td>2.320700e+04</td>\n",
       "      <td>23207.000000</td>\n",
       "      <td>23207.000000</td>\n",
       "      <td>14225.000000</td>\n",
       "      <td>23124.000000</td>\n",
       "      <td>21404.000000</td>\n",
       "      <td>23207.000000</td>\n",
       "      <td>21029.000000</td>\n",
       "      <td>23207.000000</td>\n",
       "      <td>17691.000000</td>\n",
       "      <td>17713.000000</td>\n",
       "      <td>23207.000000</td>\n",
       "      <td>7866.000000</td>\n",
       "      <td>23207.000000</td>\n",
       "      <td>8880.000000</td>\n",
       "      <td>20065.000000</td>\n",
       "    </tr>\n",
       "    <tr>\n",
       "      <th>mean</th>\n",
       "      <td>9.889861</td>\n",
       "      <td>6.572792e+06</td>\n",
       "      <td>60.625134</td>\n",
       "      <td>2.078295</td>\n",
       "      <td>2.770365</td>\n",
       "      <td>10.703382</td>\n",
       "      <td>34.589374</td>\n",
       "      <td>5.917568</td>\n",
       "      <td>10.615349</td>\n",
       "      <td>0.595596</td>\n",
       "      <td>28800.263976</td>\n",
       "      <td>14229.200869</td>\n",
       "      <td>0.466454</td>\n",
       "      <td>490.227435</td>\n",
       "      <td>0.588788</td>\n",
       "      <td>516.870495</td>\n",
       "      <td>181.093745</td>\n",
       "    </tr>\n",
       "    <tr>\n",
       "      <th>std</th>\n",
       "      <td>5.685449</td>\n",
       "      <td>1.098235e+07</td>\n",
       "      <td>35.866929</td>\n",
       "      <td>1.082536</td>\n",
       "      <td>1.242648</td>\n",
       "      <td>6.616429</td>\n",
       "      <td>22.142790</td>\n",
       "      <td>4.905183</td>\n",
       "      <td>5.936872</td>\n",
       "      <td>0.963205</td>\n",
       "      <td>12633.431793</td>\n",
       "      <td>8681.040835</td>\n",
       "      <td>0.747360</td>\n",
       "      <td>341.438869</td>\n",
       "      <td>0.883667</td>\n",
       "      <td>277.127324</td>\n",
       "      <td>219.898144</td>\n",
       "    </tr>\n",
       "    <tr>\n",
       "      <th>min</th>\n",
       "      <td>0.000000</td>\n",
       "      <td>1.219000e+04</td>\n",
       "      <td>12.000000</td>\n",
       "      <td>0.000000</td>\n",
       "      <td>1.000000</td>\n",
       "      <td>1.000000</td>\n",
       "      <td>2.000000</td>\n",
       "      <td>1.000000</td>\n",
       "      <td>1.300000</td>\n",
       "      <td>0.000000</td>\n",
       "      <td>0.000000</td>\n",
       "      <td>181.000000</td>\n",
       "      <td>0.000000</td>\n",
       "      <td>1.000000</td>\n",
       "      <td>0.000000</td>\n",
       "      <td>13.000000</td>\n",
       "      <td>1.000000</td>\n",
       "    </tr>\n",
       "    <tr>\n",
       "      <th>25%</th>\n",
       "      <td>6.000000</td>\n",
       "      <td>3.410500e+06</td>\n",
       "      <td>40.000000</td>\n",
       "      <td>1.000000</td>\n",
       "      <td>2.520000</td>\n",
       "      <td>5.000000</td>\n",
       "      <td>18.700000</td>\n",
       "      <td>2.000000</td>\n",
       "      <td>7.000000</td>\n",
       "      <td>0.000000</td>\n",
       "      <td>18615.500000</td>\n",
       "      <td>9184.000000</td>\n",
       "      <td>0.000000</td>\n",
       "      <td>287.000000</td>\n",
       "      <td>0.000000</td>\n",
       "      <td>294.000000</td>\n",
       "      <td>45.000000</td>\n",
       "    </tr>\n",
       "    <tr>\n",
       "      <th>50%</th>\n",
       "      <td>9.000000</td>\n",
       "      <td>4.650000e+06</td>\n",
       "      <td>52.100000</td>\n",
       "      <td>2.000000</td>\n",
       "      <td>2.650000</td>\n",
       "      <td>9.000000</td>\n",
       "      <td>30.000000</td>\n",
       "      <td>4.000000</td>\n",
       "      <td>9.200000</td>\n",
       "      <td>0.000000</td>\n",
       "      <td>26711.000000</td>\n",
       "      <td>13107.000000</td>\n",
       "      <td>0.000000</td>\n",
       "      <td>453.000000</td>\n",
       "      <td>0.000000</td>\n",
       "      <td>502.000000</td>\n",
       "      <td>96.000000</td>\n",
       "    </tr>\n",
       "    <tr>\n",
       "      <th>75%</th>\n",
       "      <td>14.000000</td>\n",
       "      <td>6.800000e+06</td>\n",
       "      <td>70.000000</td>\n",
       "      <td>3.000000</td>\n",
       "      <td>2.800000</td>\n",
       "      <td>16.000000</td>\n",
       "      <td>42.500000</td>\n",
       "      <td>8.000000</td>\n",
       "      <td>12.000000</td>\n",
       "      <td>1.000000</td>\n",
       "      <td>37243.000000</td>\n",
       "      <td>16333.000000</td>\n",
       "      <td>1.000000</td>\n",
       "      <td>612.000000</td>\n",
       "      <td>1.000000</td>\n",
       "      <td>726.250000</td>\n",
       "      <td>232.000000</td>\n",
       "    </tr>\n",
       "    <tr>\n",
       "      <th>max</th>\n",
       "      <td>50.000000</td>\n",
       "      <td>7.630000e+08</td>\n",
       "      <td>900.000000</td>\n",
       "      <td>19.000000</td>\n",
       "      <td>100.000000</td>\n",
       "      <td>60.000000</td>\n",
       "      <td>409.700000</td>\n",
       "      <td>33.000000</td>\n",
       "      <td>112.000000</td>\n",
       "      <td>5.000000</td>\n",
       "      <td>84869.000000</td>\n",
       "      <td>65968.000000</td>\n",
       "      <td>3.000000</td>\n",
       "      <td>3190.000000</td>\n",
       "      <td>3.000000</td>\n",
       "      <td>1344.000000</td>\n",
       "      <td>1580.000000</td>\n",
       "    </tr>\n",
       "  </tbody>\n",
       "</table>\n",
       "</div>"
      ],
      "text/plain": [
       "       total_images    last_price    total_area         rooms  ceiling_height  \\\n",
       "count  23207.000000  2.320700e+04  23207.000000  23207.000000    14225.000000   \n",
       "mean       9.889861  6.572792e+06     60.625134      2.078295        2.770365   \n",
       "std        5.685449  1.098235e+07     35.866929      1.082536        1.242648   \n",
       "min        0.000000  1.219000e+04     12.000000      0.000000        1.000000   \n",
       "25%        6.000000  3.410500e+06     40.000000      1.000000        2.520000   \n",
       "50%        9.000000  4.650000e+06     52.100000      2.000000        2.650000   \n",
       "75%       14.000000  6.800000e+06     70.000000      3.000000        2.800000   \n",
       "max       50.000000  7.630000e+08    900.000000     19.000000      100.000000   \n",
       "\n",
       "       floors_total   living_area         floor  kitchen_area       balcony  \\\n",
       "count  23124.000000  21404.000000  23207.000000  21029.000000  23207.000000   \n",
       "mean      10.703382     34.589374      5.917568     10.615349      0.595596   \n",
       "std        6.616429     22.142790      4.905183      5.936872      0.963205   \n",
       "min        1.000000      2.000000      1.000000      1.300000      0.000000   \n",
       "25%        5.000000     18.700000      2.000000      7.000000      0.000000   \n",
       "50%        9.000000     30.000000      4.000000      9.200000      0.000000   \n",
       "75%       16.000000     42.500000      8.000000     12.000000      1.000000   \n",
       "max       60.000000    409.700000     33.000000    112.000000      5.000000   \n",
       "\n",
       "       airports_nearest  cityCenters_nearest  parks_around3000  parks_nearest  \\\n",
       "count      17691.000000         17713.000000      23207.000000    7866.000000   \n",
       "mean       28800.263976         14229.200869          0.466454     490.227435   \n",
       "std        12633.431793          8681.040835          0.747360     341.438869   \n",
       "min            0.000000           181.000000          0.000000       1.000000   \n",
       "25%        18615.500000          9184.000000          0.000000     287.000000   \n",
       "50%        26711.000000         13107.000000          0.000000     453.000000   \n",
       "75%        37243.000000         16333.000000          1.000000     612.000000   \n",
       "max        84869.000000         65968.000000          3.000000    3190.000000   \n",
       "\n",
       "       ponds_around3000  ponds_nearest  days_exposition  \n",
       "count      23207.000000    8880.000000     20065.000000  \n",
       "mean           0.588788     516.870495       181.093745  \n",
       "std            0.883667     277.127324       219.898144  \n",
       "min            0.000000      13.000000         1.000000  \n",
       "25%            0.000000     294.000000        45.000000  \n",
       "50%            0.000000     502.000000        96.000000  \n",
       "75%            1.000000     726.250000       232.000000  \n",
       "max            3.000000    1344.000000      1580.000000  "
      ]
     },
     "execution_count": 9,
     "metadata": {},
     "output_type": "execute_result"
    }
   ],
   "source": [
    "df.describe() # посмотрим на статисчические показатели данных"
   ]
  },
  {
   "cell_type": "code",
   "execution_count": 10,
   "metadata": {
    "colab": {
     "base_uri": "https://localhost:8080/",
     "height": 1000
    },
    "id": "cD3k0qrob6PW",
    "outputId": "190ec4cb-281d-4ba7-f6ac-04b7266727ae"
   },
   "outputs": [
    {
     "data": {
      "image/png": "[encoded data removed]",
      "text/plain": [
       "<Figure size 1368x1368 with 20 Axes>"
      ]
     },
     "metadata": {
      "needs_background": "light"
     },
     "output_type": "display_data"
    }
   ],
   "source": [
    "df.hist(bins = 100, figsize=(19,19)) #построим гистограммы распределения\n",
    "plt.show()"
   ]
  },
  {
   "cell_type": "markdown",
   "metadata": {
    "id": "eExN8HClueS3"
   },
   "source": [
    "По гистограммам распределения можно выделить аномальною высоту потолков. Рассмотрим эти данные"
   ]
  },
  {
   "cell_type": "code",
   "execution_count": 11,
   "metadata": {
    "colab": {
     "base_uri": "https://localhost:8080/",
     "height": 227
    },
    "id": "ryt7Mo8RhvwX",
    "outputId": "a08a1ee6-4fa8-46e2-8ca0-7c7af53591a3"
   },
   "outputs": [
    {
     "data": {
      "image/png": "[encoded data removed]",
      "text/plain": [
       "<Figure size 1152x216 with 1 Axes>"
      ]
     },
     "metadata": {
      "needs_background": "light"
     },
     "output_type": "display_data"
    }
   ],
   "source": [
    "df.boxplot(column=['ceiling_height'], figsize=(16,3), vert=False)\n",
    "plt.title('Диаграмма размаха для высоты потолков')\n",
    "plt.show()"
   ]
  },
  {
   "cell_type": "code",
   "execution_count": 12,
   "metadata": {
    "colab": {
     "base_uri": "https://localhost:8080/",
     "height": 1000
    },
    "id": "HK7uUEzMiWP-",
    "outputId": "ba66deef-762c-44b2-9f33-162daa797a3b"
   },
   "outputs": [
    {
     "data": {
      "text/html": [
       "<div>\n",
       "<style scoped>\n",
       "    .dataframe tbody tr th:only-of-type {\n",
       "        vertical-align: middle;\n",
       "    }\n",
       "\n",
       "    .dataframe tbody tr th {\n",
       "        vertical-align: top;\n",
       "    }\n",
       "\n",
       "    .dataframe thead th {\n",
       "        text-align: right;\n",
       "    }\n",
       "</style>\n",
       "<table border=\"1\" class=\"dataframe\">\n",
       "  <thead>\n",
       "    <tr style=\"text-align: right;\">\n",
       "      <th></th>\n",
       "      <th>total_images</th>\n",
       "      <th>last_price</th>\n",
       "      <th>total_area</th>\n",
       "      <th>first_day_exposition</th>\n",
       "      <th>rooms</th>\n",
       "      <th>ceiling_height</th>\n",
       "      <th>floors_total</th>\n",
       "      <th>living_area</th>\n",
       "      <th>floor</th>\n",
       "      <th>studio</th>\n",
       "      <th>...</th>\n",
       "      <th>kitchen_area</th>\n",
       "      <th>balcony</th>\n",
       "      <th>locality_name</th>\n",
       "      <th>airports_nearest</th>\n",
       "      <th>cityCenters_nearest</th>\n",
       "      <th>parks_around3000</th>\n",
       "      <th>parks_nearest</th>\n",
       "      <th>ponds_around3000</th>\n",
       "      <th>ponds_nearest</th>\n",
       "      <th>days_exposition</th>\n",
       "    </tr>\n",
       "  </thead>\n",
       "  <tbody>\n",
       "    <tr>\n",
       "      <th>355</th>\n",
       "      <td>17</td>\n",
       "      <td>3600000.0</td>\n",
       "      <td>55.2</td>\n",
       "      <td>2018-07-12T00:00:00</td>\n",
       "      <td>2</td>\n",
       "      <td>25.00</td>\n",
       "      <td>5.0</td>\n",
       "      <td>32.0</td>\n",
       "      <td>2</td>\n",
       "      <td>False</td>\n",
       "      <td>...</td>\n",
       "      <td>NaN</td>\n",
       "      <td>2.0</td>\n",
       "      <td>Гатчина</td>\n",
       "      <td>NaN</td>\n",
       "      <td>NaN</td>\n",
       "      <td>0.0</td>\n",
       "      <td>NaN</td>\n",
       "      <td>0.0</td>\n",
       "      <td>NaN</td>\n",
       "      <td>259.0</td>\n",
       "    </tr>\n",
       "    <tr>\n",
       "      <th>3148</th>\n",
       "      <td>14</td>\n",
       "      <td>2900000.0</td>\n",
       "      <td>75.0</td>\n",
       "      <td>2018-11-12T00:00:00</td>\n",
       "      <td>3</td>\n",
       "      <td>32.00</td>\n",
       "      <td>3.0</td>\n",
       "      <td>53.0</td>\n",
       "      <td>2</td>\n",
       "      <td>False</td>\n",
       "      <td>...</td>\n",
       "      <td>8.00</td>\n",
       "      <td>0.0</td>\n",
       "      <td>Волхов</td>\n",
       "      <td>NaN</td>\n",
       "      <td>NaN</td>\n",
       "      <td>0.0</td>\n",
       "      <td>NaN</td>\n",
       "      <td>0.0</td>\n",
       "      <td>NaN</td>\n",
       "      <td>NaN</td>\n",
       "    </tr>\n",
       "    <tr>\n",
       "      <th>4876</th>\n",
       "      <td>7</td>\n",
       "      <td>3000000.0</td>\n",
       "      <td>25.0</td>\n",
       "      <td>2017-09-27T00:00:00</td>\n",
       "      <td>0</td>\n",
       "      <td>27.00</td>\n",
       "      <td>25.0</td>\n",
       "      <td>17.0</td>\n",
       "      <td>17</td>\n",
       "      <td>False</td>\n",
       "      <td>...</td>\n",
       "      <td>NaN</td>\n",
       "      <td>2.0</td>\n",
       "      <td>посёлок Мурино</td>\n",
       "      <td>NaN</td>\n",
       "      <td>NaN</td>\n",
       "      <td>0.0</td>\n",
       "      <td>NaN</td>\n",
       "      <td>0.0</td>\n",
       "      <td>NaN</td>\n",
       "      <td>28.0</td>\n",
       "    </tr>\n",
       "    <tr>\n",
       "      <th>5076</th>\n",
       "      <td>0</td>\n",
       "      <td>3850000.0</td>\n",
       "      <td>30.5</td>\n",
       "      <td>2018-10-03T00:00:00</td>\n",
       "      <td>1</td>\n",
       "      <td>24.00</td>\n",
       "      <td>5.0</td>\n",
       "      <td>19.5</td>\n",
       "      <td>1</td>\n",
       "      <td>False</td>\n",
       "      <td>...</td>\n",
       "      <td>5.50</td>\n",
       "      <td>0.0</td>\n",
       "      <td>Санкт-Петербург</td>\n",
       "      <td>29686.0</td>\n",
       "      <td>8389.0</td>\n",
       "      <td>3.0</td>\n",
       "      <td>397.0</td>\n",
       "      <td>1.0</td>\n",
       "      <td>578.0</td>\n",
       "      <td>7.0</td>\n",
       "    </tr>\n",
       "    <tr>\n",
       "      <th>5246</th>\n",
       "      <td>0</td>\n",
       "      <td>2500000.0</td>\n",
       "      <td>54.0</td>\n",
       "      <td>2017-10-13T00:00:00</td>\n",
       "      <td>2</td>\n",
       "      <td>27.00</td>\n",
       "      <td>5.0</td>\n",
       "      <td>30.0</td>\n",
       "      <td>3</td>\n",
       "      <td>False</td>\n",
       "      <td>...</td>\n",
       "      <td>9.00</td>\n",
       "      <td>2.0</td>\n",
       "      <td>деревня Мины</td>\n",
       "      <td>NaN</td>\n",
       "      <td>NaN</td>\n",
       "      <td>0.0</td>\n",
       "      <td>NaN</td>\n",
       "      <td>0.0</td>\n",
       "      <td>NaN</td>\n",
       "      <td>540.0</td>\n",
       "    </tr>\n",
       "    <tr>\n",
       "      <th>5669</th>\n",
       "      <td>4</td>\n",
       "      <td>4400000.0</td>\n",
       "      <td>50.0</td>\n",
       "      <td>2017-08-08T00:00:00</td>\n",
       "      <td>2</td>\n",
       "      <td>26.00</td>\n",
       "      <td>9.0</td>\n",
       "      <td>21.3</td>\n",
       "      <td>3</td>\n",
       "      <td>False</td>\n",
       "      <td>...</td>\n",
       "      <td>7.00</td>\n",
       "      <td>2.0</td>\n",
       "      <td>Санкт-Петербург</td>\n",
       "      <td>28981.0</td>\n",
       "      <td>10912.0</td>\n",
       "      <td>1.0</td>\n",
       "      <td>305.0</td>\n",
       "      <td>0.0</td>\n",
       "      <td>NaN</td>\n",
       "      <td>267.0</td>\n",
       "    </tr>\n",
       "    <tr>\n",
       "      <th>5712</th>\n",
       "      <td>5</td>\n",
       "      <td>1500000.0</td>\n",
       "      <td>42.8</td>\n",
       "      <td>2017-08-14T00:00:00</td>\n",
       "      <td>2</td>\n",
       "      <td>1.20</td>\n",
       "      <td>2.0</td>\n",
       "      <td>27.5</td>\n",
       "      <td>1</td>\n",
       "      <td>False</td>\n",
       "      <td>...</td>\n",
       "      <td>5.20</td>\n",
       "      <td>0.0</td>\n",
       "      <td>городской посёлок Мга</td>\n",
       "      <td>NaN</td>\n",
       "      <td>NaN</td>\n",
       "      <td>0.0</td>\n",
       "      <td>NaN</td>\n",
       "      <td>0.0</td>\n",
       "      <td>NaN</td>\n",
       "      <td>248.0</td>\n",
       "    </tr>\n",
       "    <tr>\n",
       "      <th>5807</th>\n",
       "      <td>17</td>\n",
       "      <td>8150000.0</td>\n",
       "      <td>80.0</td>\n",
       "      <td>2019-01-09T00:00:00</td>\n",
       "      <td>2</td>\n",
       "      <td>27.00</td>\n",
       "      <td>36.0</td>\n",
       "      <td>41.0</td>\n",
       "      <td>13</td>\n",
       "      <td>False</td>\n",
       "      <td>...</td>\n",
       "      <td>12.00</td>\n",
       "      <td>5.0</td>\n",
       "      <td>Санкт-Петербург</td>\n",
       "      <td>18732.0</td>\n",
       "      <td>20444.0</td>\n",
       "      <td>0.0</td>\n",
       "      <td>NaN</td>\n",
       "      <td>3.0</td>\n",
       "      <td>80.0</td>\n",
       "      <td>38.0</td>\n",
       "    </tr>\n",
       "    <tr>\n",
       "      <th>5863</th>\n",
       "      <td>20</td>\n",
       "      <td>5650000.0</td>\n",
       "      <td>45.0</td>\n",
       "      <td>2018-08-15T00:00:00</td>\n",
       "      <td>1</td>\n",
       "      <td>8.30</td>\n",
       "      <td>16.0</td>\n",
       "      <td>19.3</td>\n",
       "      <td>14</td>\n",
       "      <td>False</td>\n",
       "      <td>...</td>\n",
       "      <td>8.30</td>\n",
       "      <td>1.0</td>\n",
       "      <td>Санкт-Петербург</td>\n",
       "      <td>13069.0</td>\n",
       "      <td>10763.0</td>\n",
       "      <td>0.0</td>\n",
       "      <td>NaN</td>\n",
       "      <td>1.0</td>\n",
       "      <td>613.0</td>\n",
       "      <td>14.0</td>\n",
       "    </tr>\n",
       "    <tr>\n",
       "      <th>6246</th>\n",
       "      <td>6</td>\n",
       "      <td>3300000.0</td>\n",
       "      <td>44.4</td>\n",
       "      <td>2019-03-25T00:00:00</td>\n",
       "      <td>2</td>\n",
       "      <td>25.00</td>\n",
       "      <td>5.0</td>\n",
       "      <td>31.3</td>\n",
       "      <td>5</td>\n",
       "      <td>False</td>\n",
       "      <td>...</td>\n",
       "      <td>5.70</td>\n",
       "      <td>0.0</td>\n",
       "      <td>Кронштадт</td>\n",
       "      <td>68923.0</td>\n",
       "      <td>50649.0</td>\n",
       "      <td>1.0</td>\n",
       "      <td>417.0</td>\n",
       "      <td>2.0</td>\n",
       "      <td>73.0</td>\n",
       "      <td>NaN</td>\n",
       "    </tr>\n",
       "    <tr>\n",
       "      <th>9379</th>\n",
       "      <td>5</td>\n",
       "      <td>3950000.0</td>\n",
       "      <td>42.0</td>\n",
       "      <td>2017-03-26T00:00:00</td>\n",
       "      <td>3</td>\n",
       "      <td>25.00</td>\n",
       "      <td>5.0</td>\n",
       "      <td>30.0</td>\n",
       "      <td>2</td>\n",
       "      <td>False</td>\n",
       "      <td>...</td>\n",
       "      <td>5.20</td>\n",
       "      <td>0.0</td>\n",
       "      <td>Санкт-Петербург</td>\n",
       "      <td>11647.0</td>\n",
       "      <td>13581.0</td>\n",
       "      <td>0.0</td>\n",
       "      <td>NaN</td>\n",
       "      <td>0.0</td>\n",
       "      <td>NaN</td>\n",
       "      <td>NaN</td>\n",
       "    </tr>\n",
       "    <tr>\n",
       "      <th>10773</th>\n",
       "      <td>8</td>\n",
       "      <td>3800000.0</td>\n",
       "      <td>58.0</td>\n",
       "      <td>2017-10-13T00:00:00</td>\n",
       "      <td>2</td>\n",
       "      <td>27.00</td>\n",
       "      <td>10.0</td>\n",
       "      <td>30.1</td>\n",
       "      <td>3</td>\n",
       "      <td>False</td>\n",
       "      <td>...</td>\n",
       "      <td>8.10</td>\n",
       "      <td>2.0</td>\n",
       "      <td>посёлок Мурино</td>\n",
       "      <td>NaN</td>\n",
       "      <td>NaN</td>\n",
       "      <td>0.0</td>\n",
       "      <td>NaN</td>\n",
       "      <td>0.0</td>\n",
       "      <td>NaN</td>\n",
       "      <td>71.0</td>\n",
       "    </tr>\n",
       "    <tr>\n",
       "      <th>11285</th>\n",
       "      <td>0</td>\n",
       "      <td>1950000.0</td>\n",
       "      <td>37.0</td>\n",
       "      <td>2019-03-20T00:00:00</td>\n",
       "      <td>1</td>\n",
       "      <td>25.00</td>\n",
       "      <td>5.0</td>\n",
       "      <td>17.0</td>\n",
       "      <td>4</td>\n",
       "      <td>False</td>\n",
       "      <td>...</td>\n",
       "      <td>9.00</td>\n",
       "      <td>2.0</td>\n",
       "      <td>Луга</td>\n",
       "      <td>NaN</td>\n",
       "      <td>NaN</td>\n",
       "      <td>0.0</td>\n",
       "      <td>NaN</td>\n",
       "      <td>0.0</td>\n",
       "      <td>NaN</td>\n",
       "      <td>18.0</td>\n",
       "    </tr>\n",
       "    <tr>\n",
       "      <th>14382</th>\n",
       "      <td>9</td>\n",
       "      <td>1700000.0</td>\n",
       "      <td>35.0</td>\n",
       "      <td>2015-12-04T00:00:00</td>\n",
       "      <td>1</td>\n",
       "      <td>25.00</td>\n",
       "      <td>5.0</td>\n",
       "      <td>20.0</td>\n",
       "      <td>2</td>\n",
       "      <td>False</td>\n",
       "      <td>...</td>\n",
       "      <td>8.00</td>\n",
       "      <td>1.0</td>\n",
       "      <td>поселок Новый Свет</td>\n",
       "      <td>NaN</td>\n",
       "      <td>NaN</td>\n",
       "      <td>0.0</td>\n",
       "      <td>NaN</td>\n",
       "      <td>0.0</td>\n",
       "      <td>NaN</td>\n",
       "      <td>206.0</td>\n",
       "    </tr>\n",
       "    <tr>\n",
       "      <th>15061</th>\n",
       "      <td>19</td>\n",
       "      <td>5600000.0</td>\n",
       "      <td>56.4</td>\n",
       "      <td>2018-05-11T00:00:00</td>\n",
       "      <td>2</td>\n",
       "      <td>14.00</td>\n",
       "      <td>14.0</td>\n",
       "      <td>32.4</td>\n",
       "      <td>5</td>\n",
       "      <td>False</td>\n",
       "      <td>...</td>\n",
       "      <td>9.10</td>\n",
       "      <td>2.0</td>\n",
       "      <td>Санкт-Петербург</td>\n",
       "      <td>14814.0</td>\n",
       "      <td>13610.0</td>\n",
       "      <td>0.0</td>\n",
       "      <td>NaN</td>\n",
       "      <td>0.0</td>\n",
       "      <td>NaN</td>\n",
       "      <td>315.0</td>\n",
       "    </tr>\n",
       "    <tr>\n",
       "      <th>16934</th>\n",
       "      <td>5</td>\n",
       "      <td>4100000.0</td>\n",
       "      <td>40.0</td>\n",
       "      <td>2017-10-17T00:00:00</td>\n",
       "      <td>1</td>\n",
       "      <td>1.75</td>\n",
       "      <td>37.0</td>\n",
       "      <td>17.4</td>\n",
       "      <td>5</td>\n",
       "      <td>False</td>\n",
       "      <td>...</td>\n",
       "      <td>8.34</td>\n",
       "      <td>0.0</td>\n",
       "      <td>Санкт-Петербург</td>\n",
       "      <td>18732.0</td>\n",
       "      <td>20444.0</td>\n",
       "      <td>0.0</td>\n",
       "      <td>NaN</td>\n",
       "      <td>3.0</td>\n",
       "      <td>80.0</td>\n",
       "      <td>71.0</td>\n",
       "    </tr>\n",
       "    <tr>\n",
       "      <th>17496</th>\n",
       "      <td>15</td>\n",
       "      <td>6700000.0</td>\n",
       "      <td>92.9</td>\n",
       "      <td>2019-02-19T00:00:00</td>\n",
       "      <td>3</td>\n",
       "      <td>20.00</td>\n",
       "      <td>17.0</td>\n",
       "      <td>53.2</td>\n",
       "      <td>14</td>\n",
       "      <td>False</td>\n",
       "      <td>...</td>\n",
       "      <td>12.00</td>\n",
       "      <td>5.0</td>\n",
       "      <td>Санкт-Петербург</td>\n",
       "      <td>16295.0</td>\n",
       "      <td>15092.0</td>\n",
       "      <td>1.0</td>\n",
       "      <td>967.0</td>\n",
       "      <td>0.0</td>\n",
       "      <td>NaN</td>\n",
       "      <td>NaN</td>\n",
       "    </tr>\n",
       "    <tr>\n",
       "      <th>17857</th>\n",
       "      <td>1</td>\n",
       "      <td>3900000.0</td>\n",
       "      <td>56.0</td>\n",
       "      <td>2017-12-22T00:00:00</td>\n",
       "      <td>3</td>\n",
       "      <td>27.00</td>\n",
       "      <td>5.0</td>\n",
       "      <td>33.0</td>\n",
       "      <td>4</td>\n",
       "      <td>False</td>\n",
       "      <td>...</td>\n",
       "      <td>NaN</td>\n",
       "      <td>0.0</td>\n",
       "      <td>Санкт-Петербург</td>\n",
       "      <td>41030.0</td>\n",
       "      <td>15543.0</td>\n",
       "      <td>0.0</td>\n",
       "      <td>NaN</td>\n",
       "      <td>0.0</td>\n",
       "      <td>NaN</td>\n",
       "      <td>73.0</td>\n",
       "    </tr>\n",
       "    <tr>\n",
       "      <th>18545</th>\n",
       "      <td>6</td>\n",
       "      <td>3750000.0</td>\n",
       "      <td>43.0</td>\n",
       "      <td>2019-03-18T00:00:00</td>\n",
       "      <td>2</td>\n",
       "      <td>25.00</td>\n",
       "      <td>5.0</td>\n",
       "      <td>29.0</td>\n",
       "      <td>3</td>\n",
       "      <td>False</td>\n",
       "      <td>...</td>\n",
       "      <td>NaN</td>\n",
       "      <td>0.0</td>\n",
       "      <td>Санкт-Петербург</td>\n",
       "      <td>27054.0</td>\n",
       "      <td>8033.0</td>\n",
       "      <td>1.0</td>\n",
       "      <td>540.0</td>\n",
       "      <td>0.0</td>\n",
       "      <td>NaN</td>\n",
       "      <td>12.0</td>\n",
       "    </tr>\n",
       "    <tr>\n",
       "      <th>20507</th>\n",
       "      <td>12</td>\n",
       "      <td>5950000.0</td>\n",
       "      <td>60.0</td>\n",
       "      <td>2018-02-19T00:00:00</td>\n",
       "      <td>2</td>\n",
       "      <td>22.60</td>\n",
       "      <td>14.0</td>\n",
       "      <td>35.0</td>\n",
       "      <td>11</td>\n",
       "      <td>False</td>\n",
       "      <td>...</td>\n",
       "      <td>13.00</td>\n",
       "      <td>1.0</td>\n",
       "      <td>Санкт-Петербург</td>\n",
       "      <td>27028.0</td>\n",
       "      <td>12570.0</td>\n",
       "      <td>0.0</td>\n",
       "      <td>NaN</td>\n",
       "      <td>0.0</td>\n",
       "      <td>NaN</td>\n",
       "      <td>40.0</td>\n",
       "    </tr>\n",
       "    <tr>\n",
       "      <th>21377</th>\n",
       "      <td>19</td>\n",
       "      <td>4900000.0</td>\n",
       "      <td>42.0</td>\n",
       "      <td>2017-04-18T00:00:00</td>\n",
       "      <td>1</td>\n",
       "      <td>27.50</td>\n",
       "      <td>24.0</td>\n",
       "      <td>37.7</td>\n",
       "      <td>19</td>\n",
       "      <td>False</td>\n",
       "      <td>...</td>\n",
       "      <td>11.00</td>\n",
       "      <td>2.0</td>\n",
       "      <td>Санкт-Петербург</td>\n",
       "      <td>42742.0</td>\n",
       "      <td>9760.0</td>\n",
       "      <td>0.0</td>\n",
       "      <td>NaN</td>\n",
       "      <td>0.0</td>\n",
       "      <td>NaN</td>\n",
       "      <td>61.0</td>\n",
       "    </tr>\n",
       "    <tr>\n",
       "      <th>21824</th>\n",
       "      <td>20</td>\n",
       "      <td>2450000.0</td>\n",
       "      <td>44.0</td>\n",
       "      <td>2019-02-12T00:00:00</td>\n",
       "      <td>2</td>\n",
       "      <td>27.00</td>\n",
       "      <td>2.0</td>\n",
       "      <td>38.0</td>\n",
       "      <td>2</td>\n",
       "      <td>False</td>\n",
       "      <td>...</td>\n",
       "      <td>8.60</td>\n",
       "      <td>2.0</td>\n",
       "      <td>городской поселок Большая Ижора</td>\n",
       "      <td>NaN</td>\n",
       "      <td>NaN</td>\n",
       "      <td>0.0</td>\n",
       "      <td>NaN</td>\n",
       "      <td>0.0</td>\n",
       "      <td>NaN</td>\n",
       "      <td>NaN</td>\n",
       "    </tr>\n",
       "    <tr>\n",
       "      <th>22309</th>\n",
       "      <td>20</td>\n",
       "      <td>5300000.0</td>\n",
       "      <td>45.0</td>\n",
       "      <td>2017-09-30T00:00:00</td>\n",
       "      <td>1</td>\n",
       "      <td>10.30</td>\n",
       "      <td>16.0</td>\n",
       "      <td>15.5</td>\n",
       "      <td>15</td>\n",
       "      <td>False</td>\n",
       "      <td>...</td>\n",
       "      <td>NaN</td>\n",
       "      <td>0.0</td>\n",
       "      <td>Санкт-Петербург</td>\n",
       "      <td>36353.0</td>\n",
       "      <td>11936.0</td>\n",
       "      <td>2.0</td>\n",
       "      <td>440.0</td>\n",
       "      <td>2.0</td>\n",
       "      <td>450.0</td>\n",
       "      <td>136.0</td>\n",
       "    </tr>\n",
       "    <tr>\n",
       "      <th>22336</th>\n",
       "      <td>19</td>\n",
       "      <td>9999000.0</td>\n",
       "      <td>92.4</td>\n",
       "      <td>2019-04-05T00:00:00</td>\n",
       "      <td>2</td>\n",
       "      <td>32.00</td>\n",
       "      <td>6.0</td>\n",
       "      <td>55.5</td>\n",
       "      <td>5</td>\n",
       "      <td>False</td>\n",
       "      <td>...</td>\n",
       "      <td>16.50</td>\n",
       "      <td>4.0</td>\n",
       "      <td>Санкт-Петербург</td>\n",
       "      <td>18838.0</td>\n",
       "      <td>3506.0</td>\n",
       "      <td>0.0</td>\n",
       "      <td>NaN</td>\n",
       "      <td>3.0</td>\n",
       "      <td>511.0</td>\n",
       "      <td>NaN</td>\n",
       "    </tr>\n",
       "    <tr>\n",
       "      <th>22590</th>\n",
       "      <td>16</td>\n",
       "      <td>6000000.0</td>\n",
       "      <td>55.0</td>\n",
       "      <td>2018-10-31T00:00:00</td>\n",
       "      <td>2</td>\n",
       "      <td>1.00</td>\n",
       "      <td>12.0</td>\n",
       "      <td>32.4</td>\n",
       "      <td>7</td>\n",
       "      <td>False</td>\n",
       "      <td>...</td>\n",
       "      <td>10.00</td>\n",
       "      <td>0.0</td>\n",
       "      <td>Санкт-Петербург</td>\n",
       "      <td>33053.0</td>\n",
       "      <td>14217.0</td>\n",
       "      <td>2.0</td>\n",
       "      <td>293.0</td>\n",
       "      <td>2.0</td>\n",
       "      <td>289.0</td>\n",
       "      <td>13.0</td>\n",
       "    </tr>\n",
       "    <tr>\n",
       "      <th>22869</th>\n",
       "      <td>0</td>\n",
       "      <td>15000000.0</td>\n",
       "      <td>25.0</td>\n",
       "      <td>2018-07-25T00:00:00</td>\n",
       "      <td>1</td>\n",
       "      <td>100.00</td>\n",
       "      <td>5.0</td>\n",
       "      <td>14.0</td>\n",
       "      <td>5</td>\n",
       "      <td>False</td>\n",
       "      <td>...</td>\n",
       "      <td>11.00</td>\n",
       "      <td>5.0</td>\n",
       "      <td>Санкт-Петербург</td>\n",
       "      <td>34963.0</td>\n",
       "      <td>8283.0</td>\n",
       "      <td>1.0</td>\n",
       "      <td>223.0</td>\n",
       "      <td>3.0</td>\n",
       "      <td>30.0</td>\n",
       "      <td>19.0</td>\n",
       "    </tr>\n",
       "    <tr>\n",
       "      <th>22938</th>\n",
       "      <td>14</td>\n",
       "      <td>4000000.0</td>\n",
       "      <td>98.0</td>\n",
       "      <td>2018-03-15T00:00:00</td>\n",
       "      <td>4</td>\n",
       "      <td>27.00</td>\n",
       "      <td>2.0</td>\n",
       "      <td>73.0</td>\n",
       "      <td>2</td>\n",
       "      <td>False</td>\n",
       "      <td>...</td>\n",
       "      <td>9.00</td>\n",
       "      <td>1.0</td>\n",
       "      <td>деревня Нижняя</td>\n",
       "      <td>NaN</td>\n",
       "      <td>NaN</td>\n",
       "      <td>0.0</td>\n",
       "      <td>NaN</td>\n",
       "      <td>0.0</td>\n",
       "      <td>NaN</td>\n",
       "      <td>27.0</td>\n",
       "    </tr>\n",
       "  </tbody>\n",
       "</table>\n",
       "<p>27 rows × 21 columns</p>\n",
       "</div>"
      ],
      "text/plain": [
       "       total_images  last_price  total_area first_day_exposition  rooms  \\\n",
       "355              17   3600000.0        55.2  2018-07-12T00:00:00      2   \n",
       "3148             14   2900000.0        75.0  2018-11-12T00:00:00      3   \n",
       "4876              7   3000000.0        25.0  2017-09-27T00:00:00      0   \n",
       "5076              0   3850000.0        30.5  2018-10-03T00:00:00      1   \n",
       "5246              0   2500000.0        54.0  2017-10-13T00:00:00      2   \n",
       "5669              4   4400000.0        50.0  2017-08-08T00:00:00      2   \n",
       "5712              5   1500000.0        42.8  2017-08-14T00:00:00      2   \n",
       "5807             17   8150000.0        80.0  2019-01-09T00:00:00      2   \n",
       "5863             20   5650000.0        45.0  2018-08-15T00:00:00      1   \n",
       "6246              6   3300000.0        44.4  2019-03-25T00:00:00      2   \n",
       "9379              5   3950000.0        42.0  2017-03-26T00:00:00      3   \n",
       "10773             8   3800000.0        58.0  2017-10-13T00:00:00      2   \n",
       "11285             0   1950000.0        37.0  2019-03-20T00:00:00      1   \n",
       "14382             9   1700000.0        35.0  2015-12-04T00:00:00      1   \n",
       "15061            19   5600000.0        56.4  2018-05-11T00:00:00      2   \n",
       "16934             5   4100000.0        40.0  2017-10-17T00:00:00      1   \n",
       "17496            15   6700000.0        92.9  2019-02-19T00:00:00      3   \n",
       "17857             1   3900000.0        56.0  2017-12-22T00:00:00      3   \n",
       "18545             6   3750000.0        43.0  2019-03-18T00:00:00      2   \n",
       "20507            12   5950000.0        60.0  2018-02-19T00:00:00      2   \n",
       "21377            19   4900000.0        42.0  2017-04-18T00:00:00      1   \n",
       "21824            20   2450000.0        44.0  2019-02-12T00:00:00      2   \n",
       "22309            20   5300000.0        45.0  2017-09-30T00:00:00      1   \n",
       "22336            19   9999000.0        92.4  2019-04-05T00:00:00      2   \n",
       "22590            16   6000000.0        55.0  2018-10-31T00:00:00      2   \n",
       "22869             0  15000000.0        25.0  2018-07-25T00:00:00      1   \n",
       "22938            14   4000000.0        98.0  2018-03-15T00:00:00      4   \n",
       "\n",
       "       ceiling_height  floors_total  living_area  floor  studio  ...  \\\n",
       "355             25.00           5.0         32.0      2   False  ...   \n",
       "3148            32.00           3.0         53.0      2   False  ...   \n",
       "4876            27.00          25.0         17.0     17   False  ...   \n",
       "5076            24.00           5.0         19.5      1   False  ...   \n",
       "5246            27.00           5.0         30.0      3   False  ...   \n",
       "5669            26.00           9.0         21.3      3   False  ...   \n",
       "5712             1.20           2.0         27.5      1   False  ...   \n",
       "5807            27.00          36.0         41.0     13   False  ...   \n",
       "5863             8.30          16.0         19.3     14   False  ...   \n",
       "6246            25.00           5.0         31.3      5   False  ...   \n",
       "9379            25.00           5.0         30.0      2   False  ...   \n",
       "10773           27.00          10.0         30.1      3   False  ...   \n",
       "11285           25.00           5.0         17.0      4   False  ...   \n",
       "14382           25.00           5.0         20.0      2   False  ...   \n",
       "15061           14.00          14.0         32.4      5   False  ...   \n",
       "16934            1.75          37.0         17.4      5   False  ...   \n",
       "17496           20.00          17.0         53.2     14   False  ...   \n",
       "17857           27.00           5.0         33.0      4   False  ...   \n",
       "18545           25.00           5.0         29.0      3   False  ...   \n",
       "20507           22.60          14.0         35.0     11   False  ...   \n",
       "21377           27.50          24.0         37.7     19   False  ...   \n",
       "21824           27.00           2.0         38.0      2   False  ...   \n",
       "22309           10.30          16.0         15.5     15   False  ...   \n",
       "22336           32.00           6.0         55.5      5   False  ...   \n",
       "22590            1.00          12.0         32.4      7   False  ...   \n",
       "22869          100.00           5.0         14.0      5   False  ...   \n",
       "22938           27.00           2.0         73.0      2   False  ...   \n",
       "\n",
       "       kitchen_area  balcony                    locality_name  \\\n",
       "355             NaN      2.0                          Гатчина   \n",
       "3148           8.00      0.0                           Волхов   \n",
       "4876            NaN      2.0                   посёлок Мурино   \n",
       "5076           5.50      0.0                  Санкт-Петербург   \n",
       "5246           9.00      2.0                     деревня Мины   \n",
       "5669           7.00      2.0                  Санкт-Петербург   \n",
       "5712           5.20      0.0            городской посёлок Мга   \n",
       "5807          12.00      5.0                  Санкт-Петербург   \n",
       "5863           8.30      1.0                  Санкт-Петербург   \n",
       "6246           5.70      0.0                        Кронштадт   \n",
       "9379           5.20      0.0                  Санкт-Петербург   \n",
       "10773          8.10      2.0                   посёлок Мурино   \n",
       "11285          9.00      2.0                             Луга   \n",
       "14382          8.00      1.0               поселок Новый Свет   \n",
       "15061          9.10      2.0                  Санкт-Петербург   \n",
       "16934          8.34      0.0                  Санкт-Петербург   \n",
       "17496         12.00      5.0                  Санкт-Петербург   \n",
       "17857           NaN      0.0                  Санкт-Петербург   \n",
       "18545           NaN      0.0                  Санкт-Петербург   \n",
       "20507         13.00      1.0                  Санкт-Петербург   \n",
       "21377         11.00      2.0                  Санкт-Петербург   \n",
       "21824          8.60      2.0  городской поселок Большая Ижора   \n",
       "22309           NaN      0.0                  Санкт-Петербург   \n",
       "22336         16.50      4.0                  Санкт-Петербург   \n",
       "22590         10.00      0.0                  Санкт-Петербург   \n",
       "22869         11.00      5.0                  Санкт-Петербург   \n",
       "22938          9.00      1.0                   деревня Нижняя   \n",
       "\n",
       "      airports_nearest  cityCenters_nearest  parks_around3000  parks_nearest  \\\n",
       "355                NaN                  NaN               0.0            NaN   \n",
       "3148               NaN                  NaN               0.0            NaN   \n",
       "4876               NaN                  NaN               0.0            NaN   \n",
       "5076           29686.0               8389.0               3.0          397.0   \n",
       "5246               NaN                  NaN               0.0            NaN   \n",
       "5669           28981.0              10912.0               1.0          305.0   \n",
       "5712               NaN                  NaN               0.0            NaN   \n",
       "5807           18732.0              20444.0               0.0            NaN   \n",
       "5863           13069.0              10763.0               0.0            NaN   \n",
       "6246           68923.0              50649.0               1.0          417.0   \n",
       "9379           11647.0              13581.0               0.0            NaN   \n",
       "10773              NaN                  NaN               0.0            NaN   \n",
       "11285              NaN                  NaN               0.0            NaN   \n",
       "14382              NaN                  NaN               0.0            NaN   \n",
       "15061          14814.0              13610.0               0.0            NaN   \n",
       "16934          18732.0              20444.0               0.0            NaN   \n",
       "17496          16295.0              15092.0               1.0          967.0   \n",
       "17857          41030.0              15543.0               0.0            NaN   \n",
       "18545          27054.0               8033.0               1.0          540.0   \n",
       "20507          27028.0              12570.0               0.0            NaN   \n",
       "21377          42742.0               9760.0               0.0            NaN   \n",
       "21824              NaN                  NaN               0.0            NaN   \n",
       "22309          36353.0              11936.0               2.0          440.0   \n",
       "22336          18838.0               3506.0               0.0            NaN   \n",
       "22590          33053.0              14217.0               2.0          293.0   \n",
       "22869          34963.0               8283.0               1.0          223.0   \n",
       "22938              NaN                  NaN               0.0            NaN   \n",
       "\n",
       "       ponds_around3000  ponds_nearest  days_exposition  \n",
       "355                 0.0            NaN            259.0  \n",
       "3148                0.0            NaN              NaN  \n",
       "4876                0.0            NaN             28.0  \n",
       "5076                1.0          578.0              7.0  \n",
       "5246                0.0            NaN            540.0  \n",
       "5669                0.0            NaN            267.0  \n",
       "5712                0.0            NaN            248.0  \n",
       "5807                3.0           80.0             38.0  \n",
       "5863                1.0          613.0             14.0  \n",
       "6246                2.0           73.0              NaN  \n",
       "9379                0.0            NaN              NaN  \n",
       "10773               0.0            NaN             71.0  \n",
       "11285               0.0            NaN             18.0  \n",
       "14382               0.0            NaN            206.0  \n",
       "15061               0.0            NaN            315.0  \n",
       "16934               3.0           80.0             71.0  \n",
       "17496               0.0            NaN              NaN  \n",
       "17857               0.0            NaN             73.0  \n",
       "18545               0.0            NaN             12.0  \n",
       "20507               0.0            NaN             40.0  \n",
       "21377               0.0            NaN             61.0  \n",
       "21824               0.0            NaN              NaN  \n",
       "22309               2.0          450.0            136.0  \n",
       "22336               3.0          511.0              NaN  \n",
       "22590               2.0          289.0             13.0  \n",
       "22869               3.0           30.0             19.0  \n",
       "22938               0.0            NaN             27.0  \n",
       "\n",
       "[27 rows x 21 columns]"
      ]
     },
     "execution_count": 12,
     "metadata": {},
     "output_type": "execute_result"
    }
   ],
   "source": [
    "df.query('ceiling_height > 8 | ceiling_height < 2')"
   ]
  },
  {
   "cell_type": "markdown",
   "metadata": {
    "id": "yMk2FSm4-XeW"
   },
   "source": [
    "По приведенному срезу данных аномальных значений высот (меньше 2 и больше 8 метров) можно заметить что у некоторох чисел пропущена запятая. Исарвим эту ошибку делением на 10"
   ]
  },
  {
   "cell_type": "code",
   "execution_count": 13,
   "metadata": {
    "colab": {
     "base_uri": "https://localhost:8080/"
    },
    "id": "MxtFchjkjPtn",
    "outputId": "cfb0683e-de7e-478f-9b76-8c2ef5b656bc"
   },
   "outputs": [
    {
     "name": "stderr",
     "output_type": "stream",
     "text": [
      "C:\\Users\\Lexa\\AppData\\Local\\Temp/ipykernel_11736/4179257648.py:1: SettingWithCopyWarning: \n",
      "A value is trying to be set on a copy of a slice from a DataFrame\n",
      "\n",
      "See the caveats in the documentation: https://pandas.pydata.org/pandas-docs/stable/user_guide/indexing.html#returning-a-view-versus-a-copy\n",
      "  df['ceiling_height'][df['ceiling_height'] >= 20] = df['ceiling_height'][df['ceiling_height'] >= 20] / 10\n"
     ]
    }
   ],
   "source": [
    "df['ceiling_height'][df['ceiling_height'] >= 20] = df['ceiling_height'][df['ceiling_height'] >= 20] / 10"
   ]
  },
  {
   "cell_type": "markdown",
   "metadata": {
    "id": "6KID80b8_oU4"
   },
   "source": [
    "Пропуски высот и другие аномальные значения (больше 6 и меньше 2 метров) заменим медианой"
   ]
  },
  {
   "cell_type": "code",
   "execution_count": 14,
   "metadata": {
    "id": "icxnwqFXjmbQ"
   },
   "outputs": [],
   "source": [
    "ceiling_height_median = df['ceiling_height'].median()\n",
    "df.loc[df['ceiling_height'] < 2, 'ceiling_height'] = ceiling_height_median\n",
    "df.loc[df['ceiling_height'] > 6, 'ceiling_height'] = ceiling_height_median\n",
    "df['ceiling_height'] = df['ceiling_height'].fillna(ceiling_height_median)"
   ]
  },
  {
   "cell_type": "markdown",
   "metadata": {
    "id": "u9hcMWXVB5Cr"
   },
   "source": [
    "Результат после исправления"
   ]
  },
  {
   "cell_type": "code",
   "execution_count": 15,
   "metadata": {
    "colab": {
     "base_uri": "https://localhost:8080/",
     "height": 227
    },
    "id": "JZWz9-H4j7r1",
    "outputId": "63cd935b-47b1-4f53-bc3c-d3939c99ea52"
   },
   "outputs": [
    {
     "data": {
      "image/png": "[encoded data removed]",
      "text/plain": [
       "<Figure size 1152x216 with 1 Axes>"
      ]
     },
     "metadata": {
      "needs_background": "light"
     },
     "output_type": "display_data"
    }
   ],
   "source": [
    "df.boxplot(column=['ceiling_height'],figsize=(16,3), vert = False)\n",
    "plt.title('Диаграмма размаха для высоты потолков')\n",
    "plt.show()"
   ]
  },
  {
   "cell_type": "markdown",
   "metadata": {
    "id": "d_zzQWLkDoQr"
   },
   "source": [
    "В данных о названии населенных пунктов и общем колличестве этажей содержится небольшое колличество пропусков (доли процента). Эти данные можно удалить."
   ]
  },
  {
   "cell_type": "code",
   "execution_count": 16,
   "metadata": {
    "id": "12Yw9fkZnjCf"
   },
   "outputs": [],
   "source": [
    "df = df.dropna(subset = ['locality_name','floors_total'])"
   ]
  },
  {
   "cell_type": "markdown",
   "metadata": {
    "id": "HJoQKQriEftJ"
   },
   "source": [
    "Остальные пропуски оставим."
   ]
  },
  {
   "cell_type": "code",
   "execution_count": 17,
   "metadata": {
    "colab": {
     "base_uri": "https://localhost:8080/"
    },
    "id": "C9lOH0Run2yf",
    "outputId": "760bbc2a-41f6-429a-b3d4-f724d26cb95f"
   },
   "outputs": [
    {
     "data": {
      "text/plain": [
       "total_images            0.000000\n",
       "ponds_around3000        0.000000\n",
       "parks_around3000        0.000000\n",
       "locality_name           0.000000\n",
       "balcony                 0.000000\n",
       "studio                  0.000000\n",
       "floor                   0.000000\n",
       "open_plan               0.000000\n",
       "floors_total            0.000000\n",
       "ceiling_height          0.000000\n",
       "rooms                   0.000000\n",
       "first_day_exposition    0.000000\n",
       "total_area              0.000000\n",
       "last_price              0.000000\n",
       "living_area             0.076570\n",
       "kitchen_area            0.092040\n",
       "days_exposition         0.135720\n",
       "cityCenters_nearest     0.237293\n",
       "airports_nearest        0.238246\n",
       "ponds_nearest           0.618321\n",
       "parks_nearest           0.661178\n",
       "dtype: float64"
      ]
     },
     "execution_count": 17,
     "metadata": {},
     "output_type": "execute_result"
    }
   ],
   "source": [
    "df.isna().mean().sort_values()"
   ]
  },
  {
   "cell_type": "markdown",
   "metadata": {
    "id": "Zn91BFdAWwqd"
   },
   "source": [
    "### Изменение типов данных"
   ]
  },
  {
   "cell_type": "markdown",
   "metadata": {
    "id": "yxTF0vW4obJQ"
   },
   "source": [
    "В столбцах floors_total, balcony, parks_around3000, ponds_around3000 заменим тип данных на целочисленный. Потому что дробных значенй там быть не может."
   ]
  },
  {
   "cell_type": "code",
   "execution_count": 18,
   "metadata": {
    "colab": {
     "base_uri": "https://localhost:8080/"
    },
    "id": "GmMBETYCoPJS",
    "outputId": "8e9bb3dd-4d35-464d-f197-3fa1d57b2634"
   },
   "outputs": [],
   "source": [
    "cols_type_chenge = ['floors_total', 'balcony', 'parks_around3000', 'ponds_around3000', ]\n",
    "for col in cols_type_chenge:\n",
    "    df[col] = df[col].astype('int64')"
   ]
  },
  {
   "cell_type": "markdown",
   "metadata": {
    "id": "FWvWslyzpxUn"
   },
   "source": [
    "Переведем first_day_exposition из строки в дату."
   ]
  },
  {
   "cell_type": "code",
   "execution_count": 19,
   "metadata": {
    "colab": {
     "base_uri": "https://localhost:8080/"
    },
    "id": "wqAdkhXSokgg",
    "outputId": "c353b782-0e04-443c-bd53-9a4960d57fea"
   },
   "outputs": [],
   "source": [
    "df['first_day_exposition'] = pd.to_datetime(df['first_day_exposition'], format='%Y-%m-%d')\n"
   ]
  },
  {
   "cell_type": "code",
   "execution_count": 20,
   "metadata": {
    "colab": {
     "base_uri": "https://localhost:8080/",
     "height": 872
    },
    "id": "1VvEwpKDoxbb",
    "outputId": "8d73b012-da6b-4d67-80d7-9ff4860f1df4"
   },
   "outputs": [
    {
     "name": "stdout",
     "output_type": "stream",
     "text": [
      "<class 'pandas.core.frame.DataFrame'>\n",
      "Int64Index: 23077 entries, 0 to 23698\n",
      "Data columns (total 21 columns):\n",
      " #   Column                Non-Null Count  Dtype         \n",
      "---  ------                --------------  -----         \n",
      " 0   total_images          23077 non-null  int64         \n",
      " 1   last_price            23077 non-null  float64       \n",
      " 2   total_area            23077 non-null  float64       \n",
      " 3   first_day_exposition  23077 non-null  datetime64[ns]\n",
      " 4   rooms                 23077 non-null  int64         \n",
      " 5   ceiling_height        23077 non-null  float64       \n",
      " 6   floors_total          23077 non-null  int64         \n",
      " 7   living_area           21310 non-null  float64       \n",
      " 8   floor                 23077 non-null  int64         \n",
      " 9   studio                23077 non-null  bool          \n",
      " 10  open_plan             23077 non-null  bool          \n",
      " 11  kitchen_area          20953 non-null  float64       \n",
      " 12  balcony               23077 non-null  int64         \n",
      " 13  locality_name         23077 non-null  object        \n",
      " 14  airports_nearest      17579 non-null  float64       \n",
      " 15  cityCenters_nearest   17601 non-null  float64       \n",
      " 16  parks_around3000      23077 non-null  int64         \n",
      " 17  parks_nearest         7819 non-null   float64       \n",
      " 18  ponds_around3000      23077 non-null  int64         \n",
      " 19  ponds_nearest         8808 non-null   float64       \n",
      " 20  days_exposition       19945 non-null  float64       \n",
      "dtypes: bool(2), datetime64[ns](1), float64(10), int64(7), object(1)\n",
      "memory usage: 3.6+ MB\n"
     ]
    },
    {
     "data": {
      "text/html": [
       "<div>\n",
       "<style scoped>\n",
       "    .dataframe tbody tr th:only-of-type {\n",
       "        vertical-align: middle;\n",
       "    }\n",
       "\n",
       "    .dataframe tbody tr th {\n",
       "        vertical-align: top;\n",
       "    }\n",
       "\n",
       "    .dataframe thead th {\n",
       "        text-align: right;\n",
       "    }\n",
       "</style>\n",
       "<table border=\"1\" class=\"dataframe\">\n",
       "  <thead>\n",
       "    <tr style=\"text-align: right;\">\n",
       "      <th></th>\n",
       "      <th>total_images</th>\n",
       "      <th>last_price</th>\n",
       "      <th>total_area</th>\n",
       "      <th>first_day_exposition</th>\n",
       "      <th>rooms</th>\n",
       "      <th>ceiling_height</th>\n",
       "      <th>floors_total</th>\n",
       "      <th>living_area</th>\n",
       "      <th>floor</th>\n",
       "      <th>studio</th>\n",
       "      <th>...</th>\n",
       "      <th>kitchen_area</th>\n",
       "      <th>balcony</th>\n",
       "      <th>locality_name</th>\n",
       "      <th>airports_nearest</th>\n",
       "      <th>cityCenters_nearest</th>\n",
       "      <th>parks_around3000</th>\n",
       "      <th>parks_nearest</th>\n",
       "      <th>ponds_around3000</th>\n",
       "      <th>ponds_nearest</th>\n",
       "      <th>days_exposition</th>\n",
       "    </tr>\n",
       "  </thead>\n",
       "  <tbody>\n",
       "    <tr>\n",
       "      <th>0</th>\n",
       "      <td>20</td>\n",
       "      <td>13000000.0</td>\n",
       "      <td>108.0</td>\n",
       "      <td>2019-03-07</td>\n",
       "      <td>3</td>\n",
       "      <td>2.70</td>\n",
       "      <td>16</td>\n",
       "      <td>51.0</td>\n",
       "      <td>8</td>\n",
       "      <td>False</td>\n",
       "      <td>...</td>\n",
       "      <td>25.0</td>\n",
       "      <td>0</td>\n",
       "      <td>Санкт-Петербург</td>\n",
       "      <td>18863.0</td>\n",
       "      <td>16028.0</td>\n",
       "      <td>1</td>\n",
       "      <td>482.0</td>\n",
       "      <td>2</td>\n",
       "      <td>755.0</td>\n",
       "      <td>NaN</td>\n",
       "    </tr>\n",
       "    <tr>\n",
       "      <th>1</th>\n",
       "      <td>7</td>\n",
       "      <td>3350000.0</td>\n",
       "      <td>40.4</td>\n",
       "      <td>2018-12-04</td>\n",
       "      <td>1</td>\n",
       "      <td>2.65</td>\n",
       "      <td>11</td>\n",
       "      <td>18.6</td>\n",
       "      <td>1</td>\n",
       "      <td>False</td>\n",
       "      <td>...</td>\n",
       "      <td>11.0</td>\n",
       "      <td>2</td>\n",
       "      <td>посёлок Шушары</td>\n",
       "      <td>12817.0</td>\n",
       "      <td>18603.0</td>\n",
       "      <td>0</td>\n",
       "      <td>NaN</td>\n",
       "      <td>0</td>\n",
       "      <td>NaN</td>\n",
       "      <td>81.0</td>\n",
       "    </tr>\n",
       "    <tr>\n",
       "      <th>2</th>\n",
       "      <td>10</td>\n",
       "      <td>5196000.0</td>\n",
       "      <td>56.0</td>\n",
       "      <td>2015-08-20</td>\n",
       "      <td>2</td>\n",
       "      <td>2.65</td>\n",
       "      <td>5</td>\n",
       "      <td>34.3</td>\n",
       "      <td>4</td>\n",
       "      <td>False</td>\n",
       "      <td>...</td>\n",
       "      <td>8.3</td>\n",
       "      <td>0</td>\n",
       "      <td>Санкт-Петербург</td>\n",
       "      <td>21741.0</td>\n",
       "      <td>13933.0</td>\n",
       "      <td>1</td>\n",
       "      <td>90.0</td>\n",
       "      <td>2</td>\n",
       "      <td>574.0</td>\n",
       "      <td>558.0</td>\n",
       "    </tr>\n",
       "    <tr>\n",
       "      <th>3</th>\n",
       "      <td>0</td>\n",
       "      <td>64900000.0</td>\n",
       "      <td>159.0</td>\n",
       "      <td>2015-07-24</td>\n",
       "      <td>3</td>\n",
       "      <td>2.65</td>\n",
       "      <td>14</td>\n",
       "      <td>NaN</td>\n",
       "      <td>9</td>\n",
       "      <td>False</td>\n",
       "      <td>...</td>\n",
       "      <td>NaN</td>\n",
       "      <td>0</td>\n",
       "      <td>Санкт-Петербург</td>\n",
       "      <td>28098.0</td>\n",
       "      <td>6800.0</td>\n",
       "      <td>2</td>\n",
       "      <td>84.0</td>\n",
       "      <td>3</td>\n",
       "      <td>234.0</td>\n",
       "      <td>424.0</td>\n",
       "    </tr>\n",
       "    <tr>\n",
       "      <th>4</th>\n",
       "      <td>2</td>\n",
       "      <td>10000000.0</td>\n",
       "      <td>100.0</td>\n",
       "      <td>2018-06-19</td>\n",
       "      <td>2</td>\n",
       "      <td>3.03</td>\n",
       "      <td>14</td>\n",
       "      <td>32.0</td>\n",
       "      <td>13</td>\n",
       "      <td>False</td>\n",
       "      <td>...</td>\n",
       "      <td>41.0</td>\n",
       "      <td>0</td>\n",
       "      <td>Санкт-Петербург</td>\n",
       "      <td>31856.0</td>\n",
       "      <td>8098.0</td>\n",
       "      <td>2</td>\n",
       "      <td>112.0</td>\n",
       "      <td>1</td>\n",
       "      <td>48.0</td>\n",
       "      <td>121.0</td>\n",
       "    </tr>\n",
       "  </tbody>\n",
       "</table>\n",
       "<p>5 rows × 21 columns</p>\n",
       "</div>"
      ],
      "text/plain": [
       "   total_images  last_price  total_area first_day_exposition  rooms  \\\n",
       "0            20  13000000.0       108.0           2019-03-07      3   \n",
       "1             7   3350000.0        40.4           2018-12-04      1   \n",
       "2            10   5196000.0        56.0           2015-08-20      2   \n",
       "3             0  64900000.0       159.0           2015-07-24      3   \n",
       "4             2  10000000.0       100.0           2018-06-19      2   \n",
       "\n",
       "   ceiling_height  floors_total  living_area  floor  studio  ...  \\\n",
       "0            2.70            16         51.0      8   False  ...   \n",
       "1            2.65            11         18.6      1   False  ...   \n",
       "2            2.65             5         34.3      4   False  ...   \n",
       "3            2.65            14          NaN      9   False  ...   \n",
       "4            3.03            14         32.0     13   False  ...   \n",
       "\n",
       "   kitchen_area  balcony    locality_name airports_nearest  \\\n",
       "0          25.0        0  Санкт-Петербург          18863.0   \n",
       "1          11.0        2   посёлок Шушары          12817.0   \n",
       "2           8.3        0  Санкт-Петербург          21741.0   \n",
       "3           NaN        0  Санкт-Петербург          28098.0   \n",
       "4          41.0        0  Санкт-Петербург          31856.0   \n",
       "\n",
       "   cityCenters_nearest  parks_around3000  parks_nearest  ponds_around3000  \\\n",
       "0              16028.0                 1          482.0                 2   \n",
       "1              18603.0                 0            NaN                 0   \n",
       "2              13933.0                 1           90.0                 2   \n",
       "3               6800.0                 2           84.0                 3   \n",
       "4               8098.0                 2          112.0                 1   \n",
       "\n",
       "   ponds_nearest  days_exposition  \n",
       "0          755.0              NaN  \n",
       "1            NaN             81.0  \n",
       "2          574.0            558.0  \n",
       "3          234.0            424.0  \n",
       "4           48.0            121.0  \n",
       "\n",
       "[5 rows x 21 columns]"
      ]
     },
     "execution_count": 20,
     "metadata": {},
     "output_type": "execute_result"
    }
   ],
   "source": [
    "df.info()\n",
    "df.head()"
   ]
  },
  {
   "cell_type": "markdown",
   "metadata": {
    "id": "9q66i69eWwqe"
   },
   "source": [
    "### Вывод"
   ]
  },
  {
   "cell_type": "markdown",
   "metadata": {
    "id": "qZSGSI5FWwqf"
   },
   "source": [
    "Заменили пропуски и аномальные значения там где это возможно. Поменяли тип данных там геде нужно."
   ]
  },
  {
   "cell_type": "markdown",
   "metadata": {
    "id": "mHeq883JWwqf"
   },
   "source": [
    "## Расчёты и добавление результатов в таблицу"
   ]
  },
  {
   "cell_type": "markdown",
   "metadata": {
    "id": "PUaMtBxSWwqg"
   },
   "source": [
    "Посчитаем цену квадратного метра"
   ]
  },
  {
   "cell_type": "code",
   "execution_count": 21,
   "metadata": {
    "colab": {
     "base_uri": "https://localhost:8080/"
    },
    "id": "z1S3TlD6Wwqg",
    "outputId": "bd1671a0-f640-4b10-85b0-c4c0263b5889"
   },
   "outputs": [],
   "source": [
    "df['square_metr_cost'] = df['last_price'] / df['total_area']"
   ]
  },
  {
   "cell_type": "markdown",
   "metadata": {
    "id": "Ph5KrnJrWwqh"
   },
   "source": [
    " Посчитаем день недели, месяц и год публикации объявления"
   ]
  },
  {
   "cell_type": "code",
   "execution_count": 22,
   "metadata": {
    "colab": {
     "base_uri": "https://localhost:8080/",
     "height": 612
    },
    "id": "VwHfCSSkWwqh",
    "outputId": "b05debee-2453-4796-e719-7a923c56c928"
   },
   "outputs": [
    {
     "data": {
      "text/html": [
       "<div>\n",
       "<style scoped>\n",
       "    .dataframe tbody tr th:only-of-type {\n",
       "        vertical-align: middle;\n",
       "    }\n",
       "\n",
       "    .dataframe tbody tr th {\n",
       "        vertical-align: top;\n",
       "    }\n",
       "\n",
       "    .dataframe thead th {\n",
       "        text-align: right;\n",
       "    }\n",
       "</style>\n",
       "<table border=\"1\" class=\"dataframe\">\n",
       "  <thead>\n",
       "    <tr style=\"text-align: right;\">\n",
       "      <th></th>\n",
       "      <th>total_images</th>\n",
       "      <th>last_price</th>\n",
       "      <th>total_area</th>\n",
       "      <th>first_day_exposition</th>\n",
       "      <th>rooms</th>\n",
       "      <th>ceiling_height</th>\n",
       "      <th>floors_total</th>\n",
       "      <th>living_area</th>\n",
       "      <th>floor</th>\n",
       "      <th>studio</th>\n",
       "      <th>...</th>\n",
       "      <th>cityCenters_nearest</th>\n",
       "      <th>parks_around3000</th>\n",
       "      <th>parks_nearest</th>\n",
       "      <th>ponds_around3000</th>\n",
       "      <th>ponds_nearest</th>\n",
       "      <th>days_exposition</th>\n",
       "      <th>square_metr_cost</th>\n",
       "      <th>year_exposition</th>\n",
       "      <th>month_exposition</th>\n",
       "      <th>weekday_exposition</th>\n",
       "    </tr>\n",
       "  </thead>\n",
       "  <tbody>\n",
       "    <tr>\n",
       "      <th>0</th>\n",
       "      <td>20</td>\n",
       "      <td>13000000.0</td>\n",
       "      <td>108.0</td>\n",
       "      <td>2019-03-07</td>\n",
       "      <td>3</td>\n",
       "      <td>2.70</td>\n",
       "      <td>16</td>\n",
       "      <td>51.0</td>\n",
       "      <td>8</td>\n",
       "      <td>False</td>\n",
       "      <td>...</td>\n",
       "      <td>16028.0</td>\n",
       "      <td>1</td>\n",
       "      <td>482.0</td>\n",
       "      <td>2</td>\n",
       "      <td>755.0</td>\n",
       "      <td>NaN</td>\n",
       "      <td>120370.370370</td>\n",
       "      <td>2019</td>\n",
       "      <td>3</td>\n",
       "      <td>Thursday</td>\n",
       "    </tr>\n",
       "    <tr>\n",
       "      <th>1</th>\n",
       "      <td>7</td>\n",
       "      <td>3350000.0</td>\n",
       "      <td>40.4</td>\n",
       "      <td>2018-12-04</td>\n",
       "      <td>1</td>\n",
       "      <td>2.65</td>\n",
       "      <td>11</td>\n",
       "      <td>18.6</td>\n",
       "      <td>1</td>\n",
       "      <td>False</td>\n",
       "      <td>...</td>\n",
       "      <td>18603.0</td>\n",
       "      <td>0</td>\n",
       "      <td>NaN</td>\n",
       "      <td>0</td>\n",
       "      <td>NaN</td>\n",
       "      <td>81.0</td>\n",
       "      <td>82920.792079</td>\n",
       "      <td>2018</td>\n",
       "      <td>12</td>\n",
       "      <td>Tuesday</td>\n",
       "    </tr>\n",
       "    <tr>\n",
       "      <th>2</th>\n",
       "      <td>10</td>\n",
       "      <td>5196000.0</td>\n",
       "      <td>56.0</td>\n",
       "      <td>2015-08-20</td>\n",
       "      <td>2</td>\n",
       "      <td>2.65</td>\n",
       "      <td>5</td>\n",
       "      <td>34.3</td>\n",
       "      <td>4</td>\n",
       "      <td>False</td>\n",
       "      <td>...</td>\n",
       "      <td>13933.0</td>\n",
       "      <td>1</td>\n",
       "      <td>90.0</td>\n",
       "      <td>2</td>\n",
       "      <td>574.0</td>\n",
       "      <td>558.0</td>\n",
       "      <td>92785.714286</td>\n",
       "      <td>2015</td>\n",
       "      <td>8</td>\n",
       "      <td>Thursday</td>\n",
       "    </tr>\n",
       "    <tr>\n",
       "      <th>3</th>\n",
       "      <td>0</td>\n",
       "      <td>64900000.0</td>\n",
       "      <td>159.0</td>\n",
       "      <td>2015-07-24</td>\n",
       "      <td>3</td>\n",
       "      <td>2.65</td>\n",
       "      <td>14</td>\n",
       "      <td>NaN</td>\n",
       "      <td>9</td>\n",
       "      <td>False</td>\n",
       "      <td>...</td>\n",
       "      <td>6800.0</td>\n",
       "      <td>2</td>\n",
       "      <td>84.0</td>\n",
       "      <td>3</td>\n",
       "      <td>234.0</td>\n",
       "      <td>424.0</td>\n",
       "      <td>408176.100629</td>\n",
       "      <td>2015</td>\n",
       "      <td>7</td>\n",
       "      <td>Friday</td>\n",
       "    </tr>\n",
       "    <tr>\n",
       "      <th>4</th>\n",
       "      <td>2</td>\n",
       "      <td>10000000.0</td>\n",
       "      <td>100.0</td>\n",
       "      <td>2018-06-19</td>\n",
       "      <td>2</td>\n",
       "      <td>3.03</td>\n",
       "      <td>14</td>\n",
       "      <td>32.0</td>\n",
       "      <td>13</td>\n",
       "      <td>False</td>\n",
       "      <td>...</td>\n",
       "      <td>8098.0</td>\n",
       "      <td>2</td>\n",
       "      <td>112.0</td>\n",
       "      <td>1</td>\n",
       "      <td>48.0</td>\n",
       "      <td>121.0</td>\n",
       "      <td>100000.000000</td>\n",
       "      <td>2018</td>\n",
       "      <td>6</td>\n",
       "      <td>Tuesday</td>\n",
       "    </tr>\n",
       "  </tbody>\n",
       "</table>\n",
       "<p>5 rows × 25 columns</p>\n",
       "</div>"
      ],
      "text/plain": [
       "   total_images  last_price  total_area first_day_exposition  rooms  \\\n",
       "0            20  13000000.0       108.0           2019-03-07      3   \n",
       "1             7   3350000.0        40.4           2018-12-04      1   \n",
       "2            10   5196000.0        56.0           2015-08-20      2   \n",
       "3             0  64900000.0       159.0           2015-07-24      3   \n",
       "4             2  10000000.0       100.0           2018-06-19      2   \n",
       "\n",
       "   ceiling_height  floors_total  living_area  floor  studio  ...  \\\n",
       "0            2.70            16         51.0      8   False  ...   \n",
       "1            2.65            11         18.6      1   False  ...   \n",
       "2            2.65             5         34.3      4   False  ...   \n",
       "3            2.65            14          NaN      9   False  ...   \n",
       "4            3.03            14         32.0     13   False  ...   \n",
       "\n",
       "   cityCenters_nearest  parks_around3000  parks_nearest ponds_around3000  \\\n",
       "0              16028.0                 1          482.0                2   \n",
       "1              18603.0                 0            NaN                0   \n",
       "2              13933.0                 1           90.0                2   \n",
       "3               6800.0                 2           84.0                3   \n",
       "4               8098.0                 2          112.0                1   \n",
       "\n",
       "   ponds_nearest  days_exposition  square_metr_cost  year_exposition  \\\n",
       "0          755.0              NaN     120370.370370             2019   \n",
       "1            NaN             81.0      82920.792079             2018   \n",
       "2          574.0            558.0      92785.714286             2015   \n",
       "3          234.0            424.0     408176.100629             2015   \n",
       "4           48.0            121.0     100000.000000             2018   \n",
       "\n",
       "   month_exposition  weekday_exposition  \n",
       "0                 3            Thursday  \n",
       "1                12             Tuesday  \n",
       "2                 8            Thursday  \n",
       "3                 7              Friday  \n",
       "4                 6             Tuesday  \n",
       "\n",
       "[5 rows x 25 columns]"
      ]
     },
     "execution_count": 22,
     "metadata": {},
     "output_type": "execute_result"
    }
   ],
   "source": [
    "df['year_exposition'] = pd.DatetimeIndex(df['first_day_exposition']).year\n",
    "df['month_exposition'] = pd.DatetimeIndex(df['first_day_exposition']).month\n",
    "df['weekday_exposition'] = pd.DatetimeIndex(df['first_day_exposition']).day_name()\n",
    "df.head()"
   ]
  },
  {
   "cell_type": "markdown",
   "metadata": {
    "id": "HEeaIDw6Wwqi"
   },
   "source": [
    "Посчитаем тип этажа квартиры"
   ]
  },
  {
   "cell_type": "code",
   "execution_count": 23,
   "metadata": {
    "colab": {
     "base_uri": "https://localhost:8080/",
     "height": 716
    },
    "id": "X_L6uMvXWwqi",
    "outputId": "7a165c01-f3fb-4cbd-f3fb-99b896890aae"
   },
   "outputs": [
    {
     "data": {
      "text/html": [
       "<div>\n",
       "<style scoped>\n",
       "    .dataframe tbody tr th:only-of-type {\n",
       "        vertical-align: middle;\n",
       "    }\n",
       "\n",
       "    .dataframe tbody tr th {\n",
       "        vertical-align: top;\n",
       "    }\n",
       "\n",
       "    .dataframe thead th {\n",
       "        text-align: right;\n",
       "    }\n",
       "</style>\n",
       "<table border=\"1\" class=\"dataframe\">\n",
       "  <thead>\n",
       "    <tr style=\"text-align: right;\">\n",
       "      <th></th>\n",
       "      <th>total_images</th>\n",
       "      <th>last_price</th>\n",
       "      <th>total_area</th>\n",
       "      <th>first_day_exposition</th>\n",
       "      <th>rooms</th>\n",
       "      <th>ceiling_height</th>\n",
       "      <th>floors_total</th>\n",
       "      <th>living_area</th>\n",
       "      <th>floor</th>\n",
       "      <th>studio</th>\n",
       "      <th>...</th>\n",
       "      <th>parks_around3000</th>\n",
       "      <th>parks_nearest</th>\n",
       "      <th>ponds_around3000</th>\n",
       "      <th>ponds_nearest</th>\n",
       "      <th>days_exposition</th>\n",
       "      <th>square_metr_cost</th>\n",
       "      <th>year_exposition</th>\n",
       "      <th>month_exposition</th>\n",
       "      <th>weekday_exposition</th>\n",
       "      <th>floor_type</th>\n",
       "    </tr>\n",
       "  </thead>\n",
       "  <tbody>\n",
       "    <tr>\n",
       "      <th>0</th>\n",
       "      <td>20</td>\n",
       "      <td>13000000.0</td>\n",
       "      <td>108.0</td>\n",
       "      <td>2019-03-07</td>\n",
       "      <td>3</td>\n",
       "      <td>2.70</td>\n",
       "      <td>16</td>\n",
       "      <td>51.0</td>\n",
       "      <td>8</td>\n",
       "      <td>False</td>\n",
       "      <td>...</td>\n",
       "      <td>1</td>\n",
       "      <td>482.0</td>\n",
       "      <td>2</td>\n",
       "      <td>755.0</td>\n",
       "      <td>NaN</td>\n",
       "      <td>120370.370370</td>\n",
       "      <td>2019</td>\n",
       "      <td>3</td>\n",
       "      <td>Thursday</td>\n",
       "      <td>другой</td>\n",
       "    </tr>\n",
       "    <tr>\n",
       "      <th>1</th>\n",
       "      <td>7</td>\n",
       "      <td>3350000.0</td>\n",
       "      <td>40.4</td>\n",
       "      <td>2018-12-04</td>\n",
       "      <td>1</td>\n",
       "      <td>2.65</td>\n",
       "      <td>11</td>\n",
       "      <td>18.6</td>\n",
       "      <td>1</td>\n",
       "      <td>False</td>\n",
       "      <td>...</td>\n",
       "      <td>0</td>\n",
       "      <td>NaN</td>\n",
       "      <td>0</td>\n",
       "      <td>NaN</td>\n",
       "      <td>81.0</td>\n",
       "      <td>82920.792079</td>\n",
       "      <td>2018</td>\n",
       "      <td>12</td>\n",
       "      <td>Tuesday</td>\n",
       "      <td>первый</td>\n",
       "    </tr>\n",
       "    <tr>\n",
       "      <th>2</th>\n",
       "      <td>10</td>\n",
       "      <td>5196000.0</td>\n",
       "      <td>56.0</td>\n",
       "      <td>2015-08-20</td>\n",
       "      <td>2</td>\n",
       "      <td>2.65</td>\n",
       "      <td>5</td>\n",
       "      <td>34.3</td>\n",
       "      <td>4</td>\n",
       "      <td>False</td>\n",
       "      <td>...</td>\n",
       "      <td>1</td>\n",
       "      <td>90.0</td>\n",
       "      <td>2</td>\n",
       "      <td>574.0</td>\n",
       "      <td>558.0</td>\n",
       "      <td>92785.714286</td>\n",
       "      <td>2015</td>\n",
       "      <td>8</td>\n",
       "      <td>Thursday</td>\n",
       "      <td>другой</td>\n",
       "    </tr>\n",
       "    <tr>\n",
       "      <th>3</th>\n",
       "      <td>0</td>\n",
       "      <td>64900000.0</td>\n",
       "      <td>159.0</td>\n",
       "      <td>2015-07-24</td>\n",
       "      <td>3</td>\n",
       "      <td>2.65</td>\n",
       "      <td>14</td>\n",
       "      <td>NaN</td>\n",
       "      <td>9</td>\n",
       "      <td>False</td>\n",
       "      <td>...</td>\n",
       "      <td>2</td>\n",
       "      <td>84.0</td>\n",
       "      <td>3</td>\n",
       "      <td>234.0</td>\n",
       "      <td>424.0</td>\n",
       "      <td>408176.100629</td>\n",
       "      <td>2015</td>\n",
       "      <td>7</td>\n",
       "      <td>Friday</td>\n",
       "      <td>другой</td>\n",
       "    </tr>\n",
       "    <tr>\n",
       "      <th>4</th>\n",
       "      <td>2</td>\n",
       "      <td>10000000.0</td>\n",
       "      <td>100.0</td>\n",
       "      <td>2018-06-19</td>\n",
       "      <td>2</td>\n",
       "      <td>3.03</td>\n",
       "      <td>14</td>\n",
       "      <td>32.0</td>\n",
       "      <td>13</td>\n",
       "      <td>False</td>\n",
       "      <td>...</td>\n",
       "      <td>2</td>\n",
       "      <td>112.0</td>\n",
       "      <td>1</td>\n",
       "      <td>48.0</td>\n",
       "      <td>121.0</td>\n",
       "      <td>100000.000000</td>\n",
       "      <td>2018</td>\n",
       "      <td>6</td>\n",
       "      <td>Tuesday</td>\n",
       "      <td>другой</td>\n",
       "    </tr>\n",
       "  </tbody>\n",
       "</table>\n",
       "<p>5 rows × 26 columns</p>\n",
       "</div>"
      ],
      "text/plain": [
       "   total_images  last_price  total_area first_day_exposition  rooms  \\\n",
       "0            20  13000000.0       108.0           2019-03-07      3   \n",
       "1             7   3350000.0        40.4           2018-12-04      1   \n",
       "2            10   5196000.0        56.0           2015-08-20      2   \n",
       "3             0  64900000.0       159.0           2015-07-24      3   \n",
       "4             2  10000000.0       100.0           2018-06-19      2   \n",
       "\n",
       "   ceiling_height  floors_total  living_area  floor  studio  ...  \\\n",
       "0            2.70            16         51.0      8   False  ...   \n",
       "1            2.65            11         18.6      1   False  ...   \n",
       "2            2.65             5         34.3      4   False  ...   \n",
       "3            2.65            14          NaN      9   False  ...   \n",
       "4            3.03            14         32.0     13   False  ...   \n",
       "\n",
       "   parks_around3000  parks_nearest  ponds_around3000 ponds_nearest  \\\n",
       "0                 1          482.0                 2         755.0   \n",
       "1                 0            NaN                 0           NaN   \n",
       "2                 1           90.0                 2         574.0   \n",
       "3                 2           84.0                 3         234.0   \n",
       "4                 2          112.0                 1          48.0   \n",
       "\n",
       "   days_exposition  square_metr_cost  year_exposition  month_exposition  \\\n",
       "0              NaN     120370.370370             2019                 3   \n",
       "1             81.0      82920.792079             2018                12   \n",
       "2            558.0      92785.714286             2015                 8   \n",
       "3            424.0     408176.100629             2015                 7   \n",
       "4            121.0     100000.000000             2018                 6   \n",
       "\n",
       "   weekday_exposition  floor_type  \n",
       "0            Thursday      другой  \n",
       "1             Tuesday      первый  \n",
       "2            Thursday      другой  \n",
       "3              Friday      другой  \n",
       "4             Tuesday      другой  \n",
       "\n",
       "[5 rows x 26 columns]"
      ]
     },
     "execution_count": 23,
     "metadata": {},
     "output_type": "execute_result"
    }
   ],
   "source": [
    "df['floor_type'] = df['floors_total'] - df['floor']\n",
    "df['floor_type'] = df['floor_type'].where(df['floor_type'] != 0 , 'последний')\n",
    "df['floor_type'] = df['floor_type'].where(df['floor'] != 1 , 'первый')\n",
    "df['floor_type'] = df['floor_type'].where((df['floor_type'] == 'последний') | (df['floor_type'] == 'первый'), 'другой')\n",
    "df.head()"
   ]
  },
  {
   "cell_type": "markdown",
   "metadata": {
    "id": "ojvHzbX7Wwqi"
   },
   "source": [
    "Посчитаем соотношение жилой и общей площади, а также отношение площади кухни к общей."
   ]
  },
  {
   "cell_type": "code",
   "execution_count": 24,
   "metadata": {
    "colab": {
     "base_uri": "https://localhost:8080/",
     "height": 300
    },
    "id": "9iYBPMG7Wwqj",
    "outputId": "84f6cdb1-64bc-4d4e-fd05-46377199d79e"
   },
   "outputs": [
    {
     "data": {
      "text/html": [
       "<div>\n",
       "<style scoped>\n",
       "    .dataframe tbody tr th:only-of-type {\n",
       "        vertical-align: middle;\n",
       "    }\n",
       "\n",
       "    .dataframe tbody tr th {\n",
       "        vertical-align: top;\n",
       "    }\n",
       "\n",
       "    .dataframe thead th {\n",
       "        text-align: right;\n",
       "    }\n",
       "</style>\n",
       "<table border=\"1\" class=\"dataframe\">\n",
       "  <thead>\n",
       "    <tr style=\"text-align: right;\">\n",
       "      <th></th>\n",
       "      <th>total_images</th>\n",
       "      <th>last_price</th>\n",
       "      <th>total_area</th>\n",
       "      <th>first_day_exposition</th>\n",
       "      <th>rooms</th>\n",
       "      <th>ceiling_height</th>\n",
       "      <th>floors_total</th>\n",
       "      <th>living_area</th>\n",
       "      <th>floor</th>\n",
       "      <th>studio</th>\n",
       "      <th>...</th>\n",
       "      <th>ponds_around3000</th>\n",
       "      <th>ponds_nearest</th>\n",
       "      <th>days_exposition</th>\n",
       "      <th>square_metr_cost</th>\n",
       "      <th>year_exposition</th>\n",
       "      <th>month_exposition</th>\n",
       "      <th>weekday_exposition</th>\n",
       "      <th>floor_type</th>\n",
       "      <th>living_to_total_area</th>\n",
       "      <th>kitchen_to_total_area</th>\n",
       "    </tr>\n",
       "  </thead>\n",
       "  <tbody>\n",
       "    <tr>\n",
       "      <th>0</th>\n",
       "      <td>20</td>\n",
       "      <td>13000000.0</td>\n",
       "      <td>108.0</td>\n",
       "      <td>2019-03-07</td>\n",
       "      <td>3</td>\n",
       "      <td>2.70</td>\n",
       "      <td>16</td>\n",
       "      <td>51.0</td>\n",
       "      <td>8</td>\n",
       "      <td>False</td>\n",
       "      <td>...</td>\n",
       "      <td>2</td>\n",
       "      <td>755.0</td>\n",
       "      <td>NaN</td>\n",
       "      <td>120370.370370</td>\n",
       "      <td>2019</td>\n",
       "      <td>3</td>\n",
       "      <td>Thursday</td>\n",
       "      <td>другой</td>\n",
       "      <td>0.472222</td>\n",
       "      <td>0.231481</td>\n",
       "    </tr>\n",
       "    <tr>\n",
       "      <th>1</th>\n",
       "      <td>7</td>\n",
       "      <td>3350000.0</td>\n",
       "      <td>40.4</td>\n",
       "      <td>2018-12-04</td>\n",
       "      <td>1</td>\n",
       "      <td>2.65</td>\n",
       "      <td>11</td>\n",
       "      <td>18.6</td>\n",
       "      <td>1</td>\n",
       "      <td>False</td>\n",
       "      <td>...</td>\n",
       "      <td>0</td>\n",
       "      <td>NaN</td>\n",
       "      <td>81.0</td>\n",
       "      <td>82920.792079</td>\n",
       "      <td>2018</td>\n",
       "      <td>12</td>\n",
       "      <td>Tuesday</td>\n",
       "      <td>первый</td>\n",
       "      <td>0.460396</td>\n",
       "      <td>0.272277</td>\n",
       "    </tr>\n",
       "    <tr>\n",
       "      <th>2</th>\n",
       "      <td>10</td>\n",
       "      <td>5196000.0</td>\n",
       "      <td>56.0</td>\n",
       "      <td>2015-08-20</td>\n",
       "      <td>2</td>\n",
       "      <td>2.65</td>\n",
       "      <td>5</td>\n",
       "      <td>34.3</td>\n",
       "      <td>4</td>\n",
       "      <td>False</td>\n",
       "      <td>...</td>\n",
       "      <td>2</td>\n",
       "      <td>574.0</td>\n",
       "      <td>558.0</td>\n",
       "      <td>92785.714286</td>\n",
       "      <td>2015</td>\n",
       "      <td>8</td>\n",
       "      <td>Thursday</td>\n",
       "      <td>другой</td>\n",
       "      <td>0.612500</td>\n",
       "      <td>0.148214</td>\n",
       "    </tr>\n",
       "    <tr>\n",
       "      <th>3</th>\n",
       "      <td>0</td>\n",
       "      <td>64900000.0</td>\n",
       "      <td>159.0</td>\n",
       "      <td>2015-07-24</td>\n",
       "      <td>3</td>\n",
       "      <td>2.65</td>\n",
       "      <td>14</td>\n",
       "      <td>NaN</td>\n",
       "      <td>9</td>\n",
       "      <td>False</td>\n",
       "      <td>...</td>\n",
       "      <td>3</td>\n",
       "      <td>234.0</td>\n",
       "      <td>424.0</td>\n",
       "      <td>408176.100629</td>\n",
       "      <td>2015</td>\n",
       "      <td>7</td>\n",
       "      <td>Friday</td>\n",
       "      <td>другой</td>\n",
       "      <td>NaN</td>\n",
       "      <td>NaN</td>\n",
       "    </tr>\n",
       "    <tr>\n",
       "      <th>4</th>\n",
       "      <td>2</td>\n",
       "      <td>10000000.0</td>\n",
       "      <td>100.0</td>\n",
       "      <td>2018-06-19</td>\n",
       "      <td>2</td>\n",
       "      <td>3.03</td>\n",
       "      <td>14</td>\n",
       "      <td>32.0</td>\n",
       "      <td>13</td>\n",
       "      <td>False</td>\n",
       "      <td>...</td>\n",
       "      <td>1</td>\n",
       "      <td>48.0</td>\n",
       "      <td>121.0</td>\n",
       "      <td>100000.000000</td>\n",
       "      <td>2018</td>\n",
       "      <td>6</td>\n",
       "      <td>Tuesday</td>\n",
       "      <td>другой</td>\n",
       "      <td>0.320000</td>\n",
       "      <td>0.410000</td>\n",
       "    </tr>\n",
       "  </tbody>\n",
       "</table>\n",
       "<p>5 rows × 28 columns</p>\n",
       "</div>"
      ],
      "text/plain": [
       "   total_images  last_price  total_area first_day_exposition  rooms  \\\n",
       "0            20  13000000.0       108.0           2019-03-07      3   \n",
       "1             7   3350000.0        40.4           2018-12-04      1   \n",
       "2            10   5196000.0        56.0           2015-08-20      2   \n",
       "3             0  64900000.0       159.0           2015-07-24      3   \n",
       "4             2  10000000.0       100.0           2018-06-19      2   \n",
       "\n",
       "   ceiling_height  floors_total  living_area  floor  studio  ...  \\\n",
       "0            2.70            16         51.0      8   False  ...   \n",
       "1            2.65            11         18.6      1   False  ...   \n",
       "2            2.65             5         34.3      4   False  ...   \n",
       "3            2.65            14          NaN      9   False  ...   \n",
       "4            3.03            14         32.0     13   False  ...   \n",
       "\n",
       "   ponds_around3000  ponds_nearest  days_exposition square_metr_cost  \\\n",
       "0                 2          755.0              NaN    120370.370370   \n",
       "1                 0            NaN             81.0     82920.792079   \n",
       "2                 2          574.0            558.0     92785.714286   \n",
       "3                 3          234.0            424.0    408176.100629   \n",
       "4                 1           48.0            121.0    100000.000000   \n",
       "\n",
       "   year_exposition  month_exposition  weekday_exposition  floor_type  \\\n",
       "0             2019                 3            Thursday      другой   \n",
       "1             2018                12             Tuesday      первый   \n",
       "2             2015                 8            Thursday      другой   \n",
       "3             2015                 7              Friday      другой   \n",
       "4             2018                 6             Tuesday      другой   \n",
       "\n",
       "   living_to_total_area  kitchen_to_total_area  \n",
       "0              0.472222               0.231481  \n",
       "1              0.460396               0.272277  \n",
       "2              0.612500               0.148214  \n",
       "3                   NaN                    NaN  \n",
       "4              0.320000               0.410000  \n",
       "\n",
       "[5 rows x 28 columns]"
      ]
     },
     "execution_count": 24,
     "metadata": {},
     "output_type": "execute_result"
    }
   ],
   "source": [
    "df['living_to_total_area'] = df['living_area'] / df['total_area']\n",
    "df['kitchen_to_total_area'] = df['kitchen_area'] / df['total_area']\n",
    "df.head()"
   ]
  },
  {
   "cell_type": "markdown",
   "metadata": {
    "id": "6hMK5HCRWwqj"
   },
   "source": [
    "### Вывод"
   ]
  },
  {
   "cell_type": "markdown",
   "metadata": {
    "id": "lRiPtPLqWwqj"
   },
   "source": [
    "Посчитано и добавлено в таблицу:  \n",
    "цена квадратного метра  \n",
    "день недели, месяц и год публикации объявления  \n",
    "этаж квартиры; варианты — первый, последний, другой  \n",
    "соотношение жилой и общей площади, а также отношение площади кухни к общей "
   ]
  },
  {
   "cell_type": "markdown",
   "metadata": {
    "id": "ti4tY84_Wwqk"
   },
   "source": [
    "## Исследовательский анализ данных"
   ]
  },
  {
   "cell_type": "markdown",
   "metadata": {
    "id": "eiQZp6ViWwqk"
   },
   "source": [
    "### Площадь квартир"
   ]
  },
  {
   "cell_type": "code",
   "execution_count": 25,
   "metadata": {
    "colab": {
     "base_uri": "https://localhost:8080/",
     "height": 600
    },
    "id": "7_R84CUyWwqk",
    "outputId": "af381e9b-8931-43f3-b13d-a9fed489a283"
   },
   "outputs": [
    {
     "data": {
      "text/plain": [
       "count    23077.000000\n",
       "mean        60.599387\n",
       "std         35.868952\n",
       "min         12.000000\n",
       "25%         40.000000\n",
       "50%         52.000000\n",
       "75%         70.000000\n",
       "max        900.000000\n",
       "Name: total_area, dtype: float64"
      ]
     },
     "execution_count": 25,
     "metadata": {},
     "output_type": "execute_result"
    },
    {
     "data": {
      "image/png": "[encoded data removed]",
      "text/plain": [
       "<Figure size 720x504 with 1 Axes>"
      ]
     },
     "metadata": {
      "needs_background": "light"
     },
     "output_type": "display_data"
    }
   ],
   "source": [
    "df['total_area'].hist(bins=100, figsize = (10,7))\n",
    "plt.title('Гистрограмма для площади квартир')\n",
    "df['total_area'].describe()"
   ]
  },
  {
   "cell_type": "markdown",
   "metadata": {
    "id": "9g8djpm9Wwqk"
   },
   "source": [
    "### Цена квартир"
   ]
  },
  {
   "cell_type": "code",
   "execution_count": 26,
   "metadata": {
    "colab": {
     "base_uri": "https://localhost:8080/",
     "height": 614
    },
    "id": "QE6rNMDPWwql",
    "outputId": "e6b6eb50-7f2c-4ac7-e150-7a329e762a00",
    "scrolled": false
   },
   "outputs": [
    {
     "data": {
      "text/plain": [
       "count    2.307700e+04\n",
       "mean     6.571595e+06\n",
       "std      1.100626e+07\n",
       "min      1.219000e+04\n",
       "25%      3.405000e+06\n",
       "50%      4.650000e+06\n",
       "75%      6.800000e+06\n",
       "max      7.630000e+08\n",
       "Name: last_price, dtype: float64"
      ]
     },
     "execution_count": 26,
     "metadata": {},
     "output_type": "execute_result"
    },
    {
     "data": {
      "image/png": "[encoded data removed]",
      "text/plain": [
       "<Figure size 720x504 with 1 Axes>"
      ]
     },
     "metadata": {
      "needs_background": "light"
     },
     "output_type": "display_data"
    }
   ],
   "source": [
    "df['last_price'].hist(bins=1000, figsize = (10,7))\n",
    "plt.xlim(0, 20000000)\n",
    "plt.title('Гистрограмма для цены квартир обрезанная до 20 млн чтобы луше видеть большинство квартир')\n",
    "df['last_price'].describe()\n",
    "#plt.show()"
   ]
  },
  {
   "cell_type": "code",
   "execution_count": 27,
   "metadata": {
    "colab": {
     "base_uri": "https://localhost:8080/",
     "height": 456
    },
    "id": "WMn1s1-2Jj_N",
    "outputId": "c46b9e1f-52ca-464c-c1f7-b14ef797fa69"
   },
   "outputs": [
    {
     "data": {
      "text/html": [
       "<div>\n",
       "<style scoped>\n",
       "    .dataframe tbody tr th:only-of-type {\n",
       "        vertical-align: middle;\n",
       "    }\n",
       "\n",
       "    .dataframe tbody tr th {\n",
       "        vertical-align: top;\n",
       "    }\n",
       "\n",
       "    .dataframe thead th {\n",
       "        text-align: right;\n",
       "    }\n",
       "</style>\n",
       "<table border=\"1\" class=\"dataframe\">\n",
       "  <thead>\n",
       "    <tr style=\"text-align: right;\">\n",
       "      <th></th>\n",
       "      <th>total_images</th>\n",
       "      <th>last_price</th>\n",
       "      <th>total_area</th>\n",
       "      <th>first_day_exposition</th>\n",
       "      <th>rooms</th>\n",
       "      <th>ceiling_height</th>\n",
       "      <th>floors_total</th>\n",
       "      <th>living_area</th>\n",
       "      <th>floor</th>\n",
       "      <th>studio</th>\n",
       "      <th>...</th>\n",
       "      <th>ponds_around3000</th>\n",
       "      <th>ponds_nearest</th>\n",
       "      <th>days_exposition</th>\n",
       "      <th>square_metr_cost</th>\n",
       "      <th>year_exposition</th>\n",
       "      <th>month_exposition</th>\n",
       "      <th>weekday_exposition</th>\n",
       "      <th>floor_type</th>\n",
       "      <th>living_to_total_area</th>\n",
       "      <th>kitchen_to_total_area</th>\n",
       "    </tr>\n",
       "  </thead>\n",
       "  <tbody>\n",
       "    <tr>\n",
       "      <th>1436</th>\n",
       "      <td>19</td>\n",
       "      <td>330000000.0</td>\n",
       "      <td>190.0</td>\n",
       "      <td>2018-04-04</td>\n",
       "      <td>3</td>\n",
       "      <td>3.50</td>\n",
       "      <td>7</td>\n",
       "      <td>95.0</td>\n",
       "      <td>5</td>\n",
       "      <td>False</td>\n",
       "      <td>...</td>\n",
       "      <td>3</td>\n",
       "      <td>285.0</td>\n",
       "      <td>233.0</td>\n",
       "      <td>1.736842e+06</td>\n",
       "      <td>2018</td>\n",
       "      <td>4</td>\n",
       "      <td>Wednesday</td>\n",
       "      <td>другой</td>\n",
       "      <td>0.500000</td>\n",
       "      <td>0.210526</td>\n",
       "    </tr>\n",
       "    <tr>\n",
       "      <th>5893</th>\n",
       "      <td>3</td>\n",
       "      <td>230000000.0</td>\n",
       "      <td>500.0</td>\n",
       "      <td>2017-05-31</td>\n",
       "      <td>6</td>\n",
       "      <td>2.65</td>\n",
       "      <td>7</td>\n",
       "      <td>NaN</td>\n",
       "      <td>7</td>\n",
       "      <td>False</td>\n",
       "      <td>...</td>\n",
       "      <td>2</td>\n",
       "      <td>198.0</td>\n",
       "      <td>50.0</td>\n",
       "      <td>4.600000e+05</td>\n",
       "      <td>2017</td>\n",
       "      <td>5</td>\n",
       "      <td>Wednesday</td>\n",
       "      <td>последний</td>\n",
       "      <td>NaN</td>\n",
       "      <td>0.080000</td>\n",
       "    </tr>\n",
       "    <tr>\n",
       "      <th>8793</th>\n",
       "      <td>7</td>\n",
       "      <td>12190.0</td>\n",
       "      <td>109.0</td>\n",
       "      <td>2019-03-20</td>\n",
       "      <td>2</td>\n",
       "      <td>2.75</td>\n",
       "      <td>25</td>\n",
       "      <td>32.0</td>\n",
       "      <td>25</td>\n",
       "      <td>False</td>\n",
       "      <td>...</td>\n",
       "      <td>0</td>\n",
       "      <td>NaN</td>\n",
       "      <td>8.0</td>\n",
       "      <td>1.118349e+02</td>\n",
       "      <td>2019</td>\n",
       "      <td>3</td>\n",
       "      <td>Wednesday</td>\n",
       "      <td>последний</td>\n",
       "      <td>0.293578</td>\n",
       "      <td>0.371560</td>\n",
       "    </tr>\n",
       "    <tr>\n",
       "      <th>12971</th>\n",
       "      <td>19</td>\n",
       "      <td>763000000.0</td>\n",
       "      <td>400.0</td>\n",
       "      <td>2017-09-30</td>\n",
       "      <td>7</td>\n",
       "      <td>2.65</td>\n",
       "      <td>10</td>\n",
       "      <td>250.0</td>\n",
       "      <td>10</td>\n",
       "      <td>False</td>\n",
       "      <td>...</td>\n",
       "      <td>3</td>\n",
       "      <td>756.0</td>\n",
       "      <td>33.0</td>\n",
       "      <td>1.907500e+06</td>\n",
       "      <td>2017</td>\n",
       "      <td>9</td>\n",
       "      <td>Saturday</td>\n",
       "      <td>последний</td>\n",
       "      <td>0.625000</td>\n",
       "      <td>NaN</td>\n",
       "    </tr>\n",
       "    <tr>\n",
       "      <th>13749</th>\n",
       "      <td>7</td>\n",
       "      <td>240000000.0</td>\n",
       "      <td>410.0</td>\n",
       "      <td>2017-04-01</td>\n",
       "      <td>6</td>\n",
       "      <td>3.40</td>\n",
       "      <td>7</td>\n",
       "      <td>218.0</td>\n",
       "      <td>7</td>\n",
       "      <td>False</td>\n",
       "      <td>...</td>\n",
       "      <td>2</td>\n",
       "      <td>198.0</td>\n",
       "      <td>199.0</td>\n",
       "      <td>5.853659e+05</td>\n",
       "      <td>2017</td>\n",
       "      <td>4</td>\n",
       "      <td>Saturday</td>\n",
       "      <td>последний</td>\n",
       "      <td>0.531707</td>\n",
       "      <td>0.097561</td>\n",
       "    </tr>\n",
       "    <tr>\n",
       "      <th>14706</th>\n",
       "      <td>15</td>\n",
       "      <td>401300000.0</td>\n",
       "      <td>401.0</td>\n",
       "      <td>2016-02-20</td>\n",
       "      <td>5</td>\n",
       "      <td>2.65</td>\n",
       "      <td>9</td>\n",
       "      <td>204.0</td>\n",
       "      <td>9</td>\n",
       "      <td>False</td>\n",
       "      <td>...</td>\n",
       "      <td>1</td>\n",
       "      <td>478.0</td>\n",
       "      <td>393.0</td>\n",
       "      <td>1.000748e+06</td>\n",
       "      <td>2016</td>\n",
       "      <td>2</td>\n",
       "      <td>Saturday</td>\n",
       "      <td>последний</td>\n",
       "      <td>0.508728</td>\n",
       "      <td>0.059850</td>\n",
       "    </tr>\n",
       "    <tr>\n",
       "      <th>15651</th>\n",
       "      <td>20</td>\n",
       "      <td>300000000.0</td>\n",
       "      <td>618.0</td>\n",
       "      <td>2017-12-18</td>\n",
       "      <td>7</td>\n",
       "      <td>3.40</td>\n",
       "      <td>7</td>\n",
       "      <td>258.0</td>\n",
       "      <td>5</td>\n",
       "      <td>False</td>\n",
       "      <td>...</td>\n",
       "      <td>2</td>\n",
       "      <td>198.0</td>\n",
       "      <td>111.0</td>\n",
       "      <td>4.854369e+05</td>\n",
       "      <td>2017</td>\n",
       "      <td>12</td>\n",
       "      <td>Monday</td>\n",
       "      <td>другой</td>\n",
       "      <td>0.417476</td>\n",
       "      <td>0.113269</td>\n",
       "    </tr>\n",
       "    <tr>\n",
       "      <th>16461</th>\n",
       "      <td>17</td>\n",
       "      <td>245000000.0</td>\n",
       "      <td>285.7</td>\n",
       "      <td>2017-04-10</td>\n",
       "      <td>6</td>\n",
       "      <td>3.35</td>\n",
       "      <td>7</td>\n",
       "      <td>182.8</td>\n",
       "      <td>4</td>\n",
       "      <td>False</td>\n",
       "      <td>...</td>\n",
       "      <td>3</td>\n",
       "      <td>140.0</td>\n",
       "      <td>249.0</td>\n",
       "      <td>8.575429e+05</td>\n",
       "      <td>2017</td>\n",
       "      <td>4</td>\n",
       "      <td>Monday</td>\n",
       "      <td>другой</td>\n",
       "      <td>0.639832</td>\n",
       "      <td>0.104305</td>\n",
       "    </tr>\n",
       "    <tr>\n",
       "      <th>19540</th>\n",
       "      <td>8</td>\n",
       "      <td>420000000.0</td>\n",
       "      <td>900.0</td>\n",
       "      <td>2017-12-06</td>\n",
       "      <td>12</td>\n",
       "      <td>2.80</td>\n",
       "      <td>25</td>\n",
       "      <td>409.7</td>\n",
       "      <td>25</td>\n",
       "      <td>False</td>\n",
       "      <td>...</td>\n",
       "      <td>2</td>\n",
       "      <td>318.0</td>\n",
       "      <td>106.0</td>\n",
       "      <td>4.666667e+05</td>\n",
       "      <td>2017</td>\n",
       "      <td>12</td>\n",
       "      <td>Wednesday</td>\n",
       "      <td>последний</td>\n",
       "      <td>0.455222</td>\n",
       "      <td>0.124444</td>\n",
       "    </tr>\n",
       "    <tr>\n",
       "      <th>22831</th>\n",
       "      <td>18</td>\n",
       "      <td>289238400.0</td>\n",
       "      <td>187.5</td>\n",
       "      <td>2019-03-19</td>\n",
       "      <td>2</td>\n",
       "      <td>3.37</td>\n",
       "      <td>6</td>\n",
       "      <td>63.7</td>\n",
       "      <td>6</td>\n",
       "      <td>False</td>\n",
       "      <td>...</td>\n",
       "      <td>3</td>\n",
       "      <td>188.0</td>\n",
       "      <td>NaN</td>\n",
       "      <td>1.542605e+06</td>\n",
       "      <td>2019</td>\n",
       "      <td>3</td>\n",
       "      <td>Tuesday</td>\n",
       "      <td>последний</td>\n",
       "      <td>0.339733</td>\n",
       "      <td>0.161067</td>\n",
       "    </tr>\n",
       "  </tbody>\n",
       "</table>\n",
       "<p>10 rows × 28 columns</p>\n",
       "</div>"
      ],
      "text/plain": [
       "       total_images   last_price  total_area first_day_exposition  rooms  \\\n",
       "1436             19  330000000.0       190.0           2018-04-04      3   \n",
       "5893              3  230000000.0       500.0           2017-05-31      6   \n",
       "8793              7      12190.0       109.0           2019-03-20      2   \n",
       "12971            19  763000000.0       400.0           2017-09-30      7   \n",
       "13749             7  240000000.0       410.0           2017-04-01      6   \n",
       "14706            15  401300000.0       401.0           2016-02-20      5   \n",
       "15651            20  300000000.0       618.0           2017-12-18      7   \n",
       "16461            17  245000000.0       285.7           2017-04-10      6   \n",
       "19540             8  420000000.0       900.0           2017-12-06     12   \n",
       "22831            18  289238400.0       187.5           2019-03-19      2   \n",
       "\n",
       "       ceiling_height  floors_total  living_area  floor  studio  ...  \\\n",
       "1436             3.50             7         95.0      5   False  ...   \n",
       "5893             2.65             7          NaN      7   False  ...   \n",
       "8793             2.75            25         32.0     25   False  ...   \n",
       "12971            2.65            10        250.0     10   False  ...   \n",
       "13749            3.40             7        218.0      7   False  ...   \n",
       "14706            2.65             9        204.0      9   False  ...   \n",
       "15651            3.40             7        258.0      5   False  ...   \n",
       "16461            3.35             7        182.8      4   False  ...   \n",
       "19540            2.80            25        409.7     25   False  ...   \n",
       "22831            3.37             6         63.7      6   False  ...   \n",
       "\n",
       "       ponds_around3000  ponds_nearest  days_exposition square_metr_cost  \\\n",
       "1436                  3          285.0            233.0     1.736842e+06   \n",
       "5893                  2          198.0             50.0     4.600000e+05   \n",
       "8793                  0            NaN              8.0     1.118349e+02   \n",
       "12971                 3          756.0             33.0     1.907500e+06   \n",
       "13749                 2          198.0            199.0     5.853659e+05   \n",
       "14706                 1          478.0            393.0     1.000748e+06   \n",
       "15651                 2          198.0            111.0     4.854369e+05   \n",
       "16461                 3          140.0            249.0     8.575429e+05   \n",
       "19540                 2          318.0            106.0     4.666667e+05   \n",
       "22831                 3          188.0              NaN     1.542605e+06   \n",
       "\n",
       "       year_exposition  month_exposition  weekday_exposition  floor_type  \\\n",
       "1436              2018                 4           Wednesday      другой   \n",
       "5893              2017                 5           Wednesday   последний   \n",
       "8793              2019                 3           Wednesday   последний   \n",
       "12971             2017                 9            Saturday   последний   \n",
       "13749             2017                 4            Saturday   последний   \n",
       "14706             2016                 2            Saturday   последний   \n",
       "15651             2017                12              Monday      другой   \n",
       "16461             2017                 4              Monday      другой   \n",
       "19540             2017                12           Wednesday   последний   \n",
       "22831             2019                 3             Tuesday   последний   \n",
       "\n",
       "       living_to_total_area  kitchen_to_total_area  \n",
       "1436               0.500000               0.210526  \n",
       "5893                    NaN               0.080000  \n",
       "8793               0.293578               0.371560  \n",
       "12971              0.625000                    NaN  \n",
       "13749              0.531707               0.097561  \n",
       "14706              0.508728               0.059850  \n",
       "15651              0.417476               0.113269  \n",
       "16461              0.639832               0.104305  \n",
       "19540              0.455222               0.124444  \n",
       "22831              0.339733               0.161067  \n",
       "\n",
       "[10 rows x 28 columns]"
      ]
     },
     "execution_count": 27,
     "metadata": {},
     "output_type": "execute_result"
    }
   ],
   "source": [
    "df.query('last_price > 200000000 | last_price < 300000') #посмотрим на очень дорогие и дешовые квартиры"
   ]
  },
  {
   "cell_type": "markdown",
   "metadata": {
    "id": "IPSzxKv3Jwo0"
   },
   "source": [
    "Гистрограмма по цене похожа на распределение Пуасона. В основном цена 4-6 млн. Есть оцень дорогие элитные квартиры. Есть 1 очень дешевая квартира. Скорей всего там 0 потеряли."
   ]
  },
  {
   "cell_type": "markdown",
   "metadata": {
    "id": "2-_F_efOWwql"
   },
   "source": [
    "### Число комнат"
   ]
  },
  {
   "cell_type": "code",
   "execution_count": 28,
   "metadata": {
    "colab": {
     "base_uri": "https://localhost:8080/",
     "height": 600
    },
    "id": "y6Eqov_rWwql",
    "outputId": "edc3c065-936d-4b15-d9d5-4fa0361e2ecb"
   },
   "outputs": [
    {
     "data": {
      "text/plain": [
       "count    23077.000000\n",
       "mean         2.078260\n",
       "std          1.082701\n",
       "min          0.000000\n",
       "25%          1.000000\n",
       "50%          2.000000\n",
       "75%          3.000000\n",
       "max         19.000000\n",
       "Name: rooms, dtype: float64"
      ]
     },
     "execution_count": 28,
     "metadata": {},
     "output_type": "execute_result"
    },
    {
     "data": {
      "image/png": "[encoded data removed]",
      "text/plain": [
       "<Figure size 720x504 with 1 Axes>"
      ]
     },
     "metadata": {
      "needs_background": "light"
     },
     "output_type": "display_data"
    }
   ],
   "source": [
    "df['rooms'].hist(bins=100, figsize=(10,7))\n",
    "plt.title('Гистрограмма для количества комнат')\n",
    "df['rooms'].describe()"
   ]
  },
  {
   "cell_type": "code",
   "execution_count": 29,
   "metadata": {
    "colab": {
     "base_uri": "https://localhost:8080/"
    },
    "id": "ujeWXUO_KQ8d",
    "outputId": "1975a5fe-ab81-49ce-bbe0-1fbb696a5eaf"
   },
   "outputs": [
    {
     "data": {
      "text/plain": [
       "count    183.000000\n",
       "mean      18.865246\n",
       "std        6.549527\n",
       "min        2.000000\n",
       "25%       16.000000\n",
       "50%       18.000000\n",
       "75%       19.950000\n",
       "max       68.000000\n",
       "Name: living_area, dtype: float64"
      ]
     },
     "execution_count": 29,
     "metadata": {},
     "output_type": "execute_result"
    }
   ],
   "source": [
    "df.loc[df['rooms'] < 1]['living_area'].describe()"
   ]
  },
  {
   "cell_type": "markdown",
   "metadata": {
    "id": "uibG_oPBKbq0"
   },
   "source": [
    "Довольно много квартир с нулевым колличеством комнат. Судя по площади это однокомнатные квартиры или комнаты. Можно зменить 0 на 1."
   ]
  },
  {
   "cell_type": "code",
   "execution_count": 30,
   "metadata": {
    "colab": {
     "base_uri": "https://localhost:8080/",
     "height": 600
    },
    "id": "STSxJi77KgI8",
    "outputId": "129b6027-aa62-4d5f-af76-1b83f88a3ad6"
   },
   "outputs": [
    {
     "data": {
      "text/plain": [
       "count    23077.000000\n",
       "mean         2.086666\n",
       "std          1.070343\n",
       "min          1.000000\n",
       "25%          1.000000\n",
       "50%          2.000000\n",
       "75%          3.000000\n",
       "max         19.000000\n",
       "Name: rooms, dtype: float64"
      ]
     },
     "execution_count": 30,
     "metadata": {},
     "output_type": "execute_result"
    },
    {
     "data": {
      "image/png": "[encoded data removed]",
      "text/plain": [
       "<Figure size 720x504 with 1 Axes>"
      ]
     },
     "metadata": {
      "needs_background": "light"
     },
     "output_type": "display_data"
    }
   ],
   "source": [
    "df.loc[df['rooms'] < 1, 'rooms'] = 1\n",
    "df['rooms'].hist(bins=100, figsize=(10,7))\n",
    "plt.title('Гистрограмма для количества комнат после замены нулевых значений')\n",
    "df['rooms'].describe()"
   ]
  },
  {
   "cell_type": "markdown",
   "metadata": {
    "id": "UE5pDIs5Wwql"
   },
   "source": [
    "### Высота потолков"
   ]
  },
  {
   "cell_type": "code",
   "execution_count": 31,
   "metadata": {
    "colab": {
     "base_uri": "https://localhost:8080/",
     "height": 444
    },
    "id": "6MMsaq1LWwqm",
    "outputId": "f7093859-6b5c-43c3-e11b-b19725f430ce"
   },
   "outputs": [
    {
     "data": {
      "image/png": "[encoded data removed]",
      "text/plain": [
       "<Figure size 720x504 with 1 Axes>"
      ]
     },
     "metadata": {
      "needs_background": "light"
     },
     "output_type": "display_data"
    }
   ],
   "source": [
    "df['ceiling_height'].hist(bins=100, figsize = (10,7))\n",
    "df['ceiling_height'].describe()\n",
    "plt.title('Гистрограмма для высоты потолков')\n",
    "plt.show()"
   ]
  },
  {
   "cell_type": "markdown",
   "metadata": {
    "id": "iq8fqdgwWwqm"
   },
   "source": [
    "### Время продажи квартиры"
   ]
  },
  {
   "cell_type": "code",
   "execution_count": 32,
   "metadata": {
    "colab": {
     "base_uri": "https://localhost:8080/",
     "height": 601
    },
    "id": "T0_DYd-VWwqm",
    "outputId": "b906cee1-c66a-4e1d-c33b-9eb5661d7031"
   },
   "outputs": [
    {
     "data": {
      "text/plain": [
       "count    19945.000000\n",
       "mean       180.990273\n",
       "std        219.992922\n",
       "min          1.000000\n",
       "25%         45.000000\n",
       "50%         95.000000\n",
       "75%        231.000000\n",
       "max       1580.000000\n",
       "Name: days_exposition, dtype: float64"
      ]
     },
     "execution_count": 32,
     "metadata": {},
     "output_type": "execute_result"
    },
    {
     "data": {
      "image/png": "[encoded data removed]",
      "text/plain": [
       "<Figure size 720x504 with 1 Axes>"
      ]
     },
     "metadata": {
      "needs_background": "light"
     },
     "output_type": "display_data"
    }
   ],
   "source": [
    "df['days_exposition'].hist(bins=200, figsize = (10,7))\n",
    "plt.xlim(0, 200)\n",
    "plt.title('Гистрограмма для времени продажы квартиры обрезанная по 200 дням')\n",
    "df['days_exposition'].describe()"
   ]
  },
  {
   "cell_type": "markdown",
   "metadata": {
    "id": "NXoITJujLiEl"
   },
   "source": [
    "Среднее 181 день. Медианное 95 дней. Обычно квартира продается за 30 дней. Есть выбросы на 40, на 60, на 90 днях. Возможно это закончился максимальный срок показа обьявления. Быструю продажу можно считать 10 дней. Долгие продажи занимают больше 200 дней."
   ]
  },
  {
   "cell_type": "markdown",
   "metadata": {
    "id": "IHTR4FgsWwqn"
   },
   "source": [
    "### Зависимость цены от площади"
   ]
  },
  {
   "cell_type": "code",
   "execution_count": 33,
   "metadata": {
    "id": "ZBsGCITEWwqn"
   },
   "outputs": [],
   "source": [
    "#функция строит график и считает коэффициэет корреляции для зависимости цены от разных параметров.\n",
    "def price_dep(param, title):\n",
    "    df.plot(x=param, y='last_price', kind='scatter', figsize = (10,7))\n",
    "    plt.title(title)\n",
    "    print('Коэффициент корреляции:{:.2f}' .format(df[param].corr(df['last_price'])))"
   ]
  },
  {
   "cell_type": "code",
   "execution_count": 34,
   "metadata": {
    "colab": {
     "base_uri": "https://localhost:8080/",
     "height": 476
    },
    "id": "cYyvdnkUMc8u",
    "outputId": "96bbce03-7260-4158-beea-e20c3729819d"
   },
   "outputs": [
    {
     "name": "stdout",
     "output_type": "stream",
     "text": [
      "Коэффициент корреляции:0.65\n"
     ]
    },
    {
     "data": {
      "image/png": "[encoded data removed]",
      "text/plain": [
       "<Figure size 720x504 with 1 Axes>"
      ]
     },
     "metadata": {
      "needs_background": "light"
     },
     "output_type": "display_data"
    }
   ],
   "source": [
    "price_dep('total_area', 'График зависимости цены квартиры от общей площади')"
   ]
  },
  {
   "cell_type": "markdown",
   "metadata": {
    "id": "XZnmY60mM5qU"
   },
   "source": [
    "Цена сильно зависит от площади для небольших по ценен и площади квартир. Коэффициент корреляции 0,65. Чем больше площадь, тем больше разброс цен."
   ]
  },
  {
   "cell_type": "markdown",
   "metadata": {
    "id": "gIo03XnhWwqn"
   },
   "source": [
    "### Завиcимость цены от числа комнат"
   ]
  },
  {
   "cell_type": "code",
   "execution_count": 35,
   "metadata": {
    "colab": {
     "base_uri": "https://localhost:8080/",
     "height": 475
    },
    "id": "VlLg1HQEWwqn",
    "outputId": "a4c30d3e-cf77-4d8e-ffec-687f31975532"
   },
   "outputs": [
    {
     "name": "stdout",
     "output_type": "stream",
     "text": [
      "Коэффициент корреляции:0.36\n"
     ]
    },
    {
     "data": {
      "image/png": "[encoded data removed]",
      "text/plain": [
       "<Figure size 720x504 with 1 Axes>"
      ]
     },
     "metadata": {
      "needs_background": "light"
     },
     "output_type": "display_data"
    }
   ],
   "source": [
    "price_dep('rooms', 'График зависимости цены квартиры от колличества комнат')"
   ]
  },
  {
   "cell_type": "markdown",
   "metadata": {
    "id": "IGxdD87ENk0c"
   },
   "source": [
    "Цена слобо зависит от количества комнат. Коэффициент корреляции 0,36."
   ]
  },
  {
   "cell_type": "markdown",
   "metadata": {
    "id": "iUEm_ZtdWwqo"
   },
   "source": [
    "### Завиcимость цены от удалённости от центра"
   ]
  },
  {
   "cell_type": "code",
   "execution_count": 36,
   "metadata": {
    "colab": {
     "base_uri": "https://localhost:8080/",
     "height": 476
    },
    "id": "7WSm4HuPWwqo",
    "outputId": "2511c86f-80a8-41d7-e679-9c306e07c6fa"
   },
   "outputs": [
    {
     "name": "stdout",
     "output_type": "stream",
     "text": [
      "Коэффициент корреляции:-0.21\n"
     ]
    },
    {
     "data": {
      "image/png": "[encoded data removed]",
      "text/plain": [
       "<Figure size 720x504 with 1 Axes>"
      ]
     },
     "metadata": {
      "needs_background": "light"
     },
     "output_type": "display_data"
    }
   ],
   "source": [
    "price_dep('cityCenters_nearest', 'График зависимости цены квартиры от удаленности от центра')"
   ]
  },
  {
   "cell_type": "markdown",
   "metadata": {
    "id": "ZDnr6dw6N23M"
   },
   "source": [
    "Зависимость цены от центра в общем выражена слабо. Коэффициент корреляции -0.21. Высокие цены наблюдаются только в радиусе 10 км от центра."
   ]
  },
  {
   "cell_type": "code",
   "execution_count": 37,
   "metadata": {
    "colab": {
     "base_uri": "https://localhost:8080/",
     "height": 376
    },
    "id": "xvRrGrk5Ogq0",
    "outputId": "86c0c73a-b6e2-489e-ae4b-576ae03a834e"
   },
   "outputs": [
    {
     "data": {
      "text/plain": [
       "[]"
      ]
     },
     "execution_count": 37,
     "metadata": {},
     "output_type": "execute_result"
    },
    {
     "data": {
      "image/png": "[encoded data removed]",
      "text/plain": [
       "<Figure size 432x288 with 2 Axes>"
      ]
     },
     "metadata": {
      "needs_background": "light"
     },
     "output_type": "display_data"
    }
   ],
   "source": [
    "# матрица корреляций\n",
    "corr_matrix = df[{'total_area', 'last_price','rooms','cityCenters_nearest'}].corr()\n",
    "sn.heatmap(corr_matrix, annot=True)\n",
    "plt.plot()"
   ]
  },
  {
   "cell_type": "markdown",
   "metadata": {
    "id": "5HmwgyC7Wwqo"
   },
   "source": [
    "### Завиcимость цены от этажа (первый, последний или другой) и даты размещения: дня недели, месяца и года."
   ]
  },
  {
   "cell_type": "code",
   "execution_count": 38,
   "metadata": {
    "id": "jQOZTkf7Wwqo"
   },
   "outputs": [],
   "source": [
    "#функция строит столбчатый график для зависимости цены от разных параметров.\n",
    "def barplot_med(param):\n",
    "    bar = df.groupby(param[0])['last_price'].median()\n",
    "    bar.plot(kind='bar', title=param[1], figsize=(10,7))\n",
    "    plt.show()"
   ]
  },
  {
   "cell_type": "code",
   "execution_count": 39,
   "metadata": {
    "colab": {
     "base_uri": "https://localhost:8080/",
     "height": 1000
    },
    "id": "VOh-C4OcTCIc",
    "outputId": "e94c68c3-fd26-4b8b-cfd8-4475d52db40d",
    "scrolled": false
   },
   "outputs": [
    {
     "data": {
      "image/png": "[encoded data removed]",
      "text/plain": [
       "<Figure size 720x504 with 1 Axes>"
      ]
     },
     "metadata": {
      "needs_background": "light"
     },
     "output_type": "display_data"
    },
    {
     "data": {
      "image/png": "[encoded data removed]",
      "text/plain": [
       "<Figure size 720x504 with 1 Axes>"
      ]
     },
     "metadata": {
      "needs_background": "light"
     },
     "output_type": "display_data"
    },
    {
     "data": {
      "image/png": "[encoded data removed]",
      "text/plain": [
       "<Figure size 720x504 with 1 Axes>"
      ]
     },
     "metadata": {
      "needs_background": "light"
     },
     "output_type": "display_data"
    },
    {
     "data": {
      "image/png": "[encoded data removed]",
      "text/plain": [
       "<Figure size 720x504 with 1 Axes>"
      ]
     },
     "metadata": {
      "needs_background": "light"
     },
     "output_type": "display_data"
    }
   ],
   "source": [
    "research_param = [['floor_type','График распределения медианной цены от этажа'],\n",
    "                 ['weekday_exposition','График распределения медианной цены от дня недели подачи обьявления'],\n",
    "                 ['month_exposition','График распределения медианной цены от месяца подачи обьявления'],\n",
    "                 ['year_exposition', 'График распределения медианной цены от года подачи обьявления.']]\n",
    "\n",
    "for param in research_param:\n",
    "    barplot_med(param)"
   ]
  },
  {
   "cell_type": "markdown",
   "metadata": {
    "id": "Tir4P7OhWwqp"
   },
   "source": [
    "### 10 населённых пунктов с наибольшим числом объявлений."
   ]
  },
  {
   "cell_type": "code",
   "execution_count": 40,
   "metadata": {
    "colab": {
     "base_uri": "https://localhost:8080/"
    },
    "id": "U2ui7mp4Wwqp",
    "outputId": "f5f32df7-32cd-4f1d-d5be-cfc21ef86297"
   },
   "outputs": [
    {
     "data": {
      "text/plain": [
       "locality_name\n",
       "Санкт-Петербург      8.149898e+06\n",
       "Пушкин               6.492006e+06\n",
       "посёлок Парголово    4.489940e+06\n",
       "деревня Кудрово      4.240808e+06\n",
       "посёлок Шушары       4.109968e+06\n",
       "Колпино              3.974112e+06\n",
       "Всеволожск           3.788914e+06\n",
       "посёлок Мурино       3.667079e+06\n",
       "Гатчина              3.490555e+06\n",
       "Выборг               3.265875e+06\n",
       "Name: last_price, dtype: float64"
      ]
     },
     "execution_count": 40,
     "metadata": {},
     "output_type": "execute_result"
    }
   ],
   "source": [
    "#создадим список\n",
    "top10filter_list = df['locality_name'].value_counts().sort_values(ascending = False).head(10).index\n",
    "#отфильтруем данные по списку и посчитаем среднее по группам\n",
    "df[df['locality_name'].isin(top10filter_list)].groupby('locality_name')['last_price'].mean().sort_values(ascending = False)"
   ]
  },
  {
   "cell_type": "markdown",
   "metadata": {
    "id": "o05oTe5jVB2k"
   },
   "source": [
    "### Завиcимость цены от удаленности от центра в Санкт-Петербурге"
   ]
  },
  {
   "cell_type": "code",
   "execution_count": 41,
   "metadata": {
    "colab": {
     "base_uri": "https://localhost:8080/",
     "height": 471
    },
    "id": "pi7Tu6ygU8ks",
    "outputId": "addc62e3-41f7-4d43-995d-c2712bb16e90"
   },
   "outputs": [
    {
     "data": {
      "text/plain": [
       "<AxesSubplot:xlabel='cityCenters_nearest_km'>"
      ]
     },
     "execution_count": 41,
     "metadata": {},
     "output_type": "execute_result"
    },
    {
     "data": {
      "image/png": "[encoded data removed]",
      "text/plain": [
       "<Figure size 720x504 with 1 Axes>"
      ]
     },
     "metadata": {
      "needs_background": "light"
     },
     "output_type": "display_data"
    }
   ],
   "source": [
    "df['cityCenters_nearest'] = df['cityCenters_nearest'].fillna(df['cityCenters_nearest'].median()) #заполним пропуски медианой\n",
    "df['cityCenters_nearest_km'] = (df['cityCenters_nearest'] / 1000).astype('int')#Создадим новый столбец с километрами\n",
    "df[df['locality_name'] == 'Санкт-Петербург'].groupby('cityCenters_nearest_km')['last_price'].mean().plot(figsize=(10,7))#Cтроим график средних цен в Питере"
   ]
  },
  {
   "cell_type": "markdown",
   "metadata": {
    "id": "R0CwoeU7VvSD"
   },
   "source": [
    "При удаленности от центра 7 км цена резко падает. В 3 раза."
   ]
  },
  {
   "cell_type": "markdown",
   "metadata": {
    "id": "VS7NuS7eV7br"
   },
   "source": [
    "### Анализ квартир в центре Санкт-Петербурга"
   ]
  },
  {
   "cell_type": "code",
   "execution_count": 42,
   "metadata": {
    "id": "W5MEKzB3V9Vb"
   },
   "outputs": [],
   "source": [
    "#функция возвращает столбец заданных данных из центра Питера\n",
    "def centre_data(param):\n",
    "    return df.query('locality_name == \"Санкт-Петербург\" & cityCenters_nearest_km < 7')[param] "
   ]
  },
  {
   "cell_type": "code",
   "execution_count": 43,
   "metadata": {
    "colab": {
     "base_uri": "https://localhost:8080/",
     "height": 601
    },
    "id": "eCNJTh79SW31",
    "outputId": "d39c0ee1-9302-43ef-def6-f26defe04446"
   },
   "outputs": [
    {
     "data": {
      "text/plain": [
       "count    3241.000000\n",
       "mean       94.557442\n",
       "std        60.441973\n",
       "min        12.000000\n",
       "25%        58.000000\n",
       "50%        80.000000\n",
       "75%       111.000000\n",
       "max       631.200000\n",
       "Name: total_area, dtype: float64"
      ]
     },
     "execution_count": 43,
     "metadata": {},
     "output_type": "execute_result"
    },
    {
     "data": {
      "image/png": "[encoded data removed]",
      "text/plain": [
       "<Figure size 720x504 with 1 Axes>"
      ]
     },
     "metadata": {
      "needs_background": "light"
     },
     "output_type": "display_data"
    }
   ],
   "source": [
    "centre_data('total_area').hist(bins=100, figsize=(10,7))\n",
    "plt.title('Гистрограмма площади квартир в центре Санкт-Петербурга')\n",
    "centre_data('total_area').describe()"
   ]
  },
  {
   "cell_type": "markdown",
   "metadata": {
    "id": "uSQ6bfwGTwL9"
   },
   "source": [
    "Большинство квартир в центре имеют площадь 80 крадратов."
   ]
  },
  {
   "cell_type": "code",
   "execution_count": 44,
   "metadata": {
    "colab": {
     "base_uri": "https://localhost:8080/",
     "height": 614
    },
    "id": "RZwY7z0uTPPl",
    "outputId": "2e29340d-190c-45b8-e2d4-325ebc87bd4f"
   },
   "outputs": [
    {
     "data": {
      "text/plain": [
       "count    3.241000e+03\n",
       "mean     1.503808e+07\n",
       "std      2.486902e+07\n",
       "min      1.600000e+06\n",
       "25%      6.750000e+06\n",
       "50%      9.300000e+06\n",
       "75%      1.450000e+07\n",
       "max      7.630000e+08\n",
       "Name: last_price, dtype: float64"
      ]
     },
     "execution_count": 44,
     "metadata": {},
     "output_type": "execute_result"
    },
    {
     "data": {
      "image/png": "[encoded data removed]",
      "text/plain": [
       "<Figure size 720x504 with 1 Axes>"
      ]
     },
     "metadata": {
      "needs_background": "light"
     },
     "output_type": "display_data"
    }
   ],
   "source": [
    "centre_data('last_price').hist(bins=1000, figsize=(10,7))\n",
    "plt.xlim(0, 50000000)\n",
    "plt.title('Гистрограмма цены квартир в центре Санкт-Петербурга')\n",
    "centre_data('last_price').describe()"
   ]
  },
  {
   "cell_type": "markdown",
   "metadata": {
    "id": "psOQLDHhT1I1"
   },
   "source": [
    "Большинство квартир в центре имеют стоимость 6 млн."
   ]
  },
  {
   "cell_type": "code",
   "execution_count": 45,
   "metadata": {
    "colab": {
     "base_uri": "https://localhost:8080/",
     "height": 601
    },
    "id": "JmJ1DD7xT6fl",
    "outputId": "976824d1-45c3-44f3-ace5-3ec8259a7439"
   },
   "outputs": [
    {
     "data": {
      "text/plain": [
       "count    3241.000000\n",
       "mean        2.877198\n",
       "std         1.467038\n",
       "min         1.000000\n",
       "25%         2.000000\n",
       "50%         3.000000\n",
       "75%         4.000000\n",
       "max        19.000000\n",
       "Name: rooms, dtype: float64"
      ]
     },
     "execution_count": 45,
     "metadata": {},
     "output_type": "execute_result"
    },
    {
     "data": {
      "image/png": "[encoded data removed]",
      "text/plain": [
       "<Figure size 720x504 with 1 Axes>"
      ]
     },
     "metadata": {
      "needs_background": "light"
     },
     "output_type": "display_data"
    }
   ],
   "source": [
    "centre_data('rooms').hist(bins=100, figsize=(10,7))\n",
    "plt.title('Гистрограмма количества комнат в центре Санкт-Петербурга')\n",
    "centre_data('rooms').describe()"
   ]
  },
  {
   "cell_type": "markdown",
   "metadata": {
    "id": "hJjZ6GbfUJW9"
   },
   "source": [
    "Большинство квартир в центре имеют 2, 3 комнаты"
   ]
  },
  {
   "cell_type": "code",
   "execution_count": 46,
   "metadata": {
    "colab": {
     "base_uri": "https://localhost:8080/",
     "height": 601
    },
    "id": "dxotlKbLUO8E",
    "outputId": "300f3a35-f62c-47e8-dba9-97c42ffd6f67"
   },
   "outputs": [
    {
     "data": {
      "text/plain": [
       "count    3241.000000\n",
       "mean        2.953061\n",
       "std         0.379504\n",
       "min         2.400000\n",
       "25%         2.650000\n",
       "50%         2.840000\n",
       "75%         3.170000\n",
       "max         6.000000\n",
       "Name: ceiling_height, dtype: float64"
      ]
     },
     "execution_count": 46,
     "metadata": {},
     "output_type": "execute_result"
    },
    {
     "data": {
      "image/png": "[encoded data removed]",
      "text/plain": [
       "<Figure size 720x504 with 1 Axes>"
      ]
     },
     "metadata": {
      "needs_background": "light"
     },
     "output_type": "display_data"
    }
   ],
   "source": [
    "centre_data('ceiling_height').hist(bins=100, figsize=(10,7))\n",
    "plt.title('Гистрограмма высоты потолков в центре Санкт-Петербурга')\n",
    "centre_data('ceiling_height').describe()"
   ]
  },
  {
   "cell_type": "markdown",
   "metadata": {
    "id": "h_fFizNlVQdE"
   },
   "source": [
    "Большинство квартир в центре имеют стандартные потолки 2.7, 3 метра"
   ]
  },
  {
   "cell_type": "markdown",
   "metadata": {
    "id": "woplc7VlVpU9"
   },
   "source": [
    "### Анализ зависимости стоимости квартир в центре Санкт-Петербурга"
   ]
  },
  {
   "cell_type": "code",
   "execution_count": 47,
   "metadata": {
    "id": "qjWafZsdVv0N"
   },
   "outputs": [],
   "source": [
    "#Функция строит график и считает коэффициент корреляции между стоимостью и выбранным параметром\n",
    "def price_centre_dep(param, title):\n",
    "    dataSPcentre = df.query('locality_name == \"Санкт-Петербург\" & cityCenters_nearest_km < 7')\n",
    "    dataSPcentre.plot(x=param, y='last_price', kind='scatter', figsize=(10,7))\n",
    "    plt.title(title)\n",
    "    print('Коэффициент корреляции:{:.2f}' .format(dataSPcentre[param].corr(dataSPcentre['last_price'])))"
   ]
  },
  {
   "cell_type": "code",
   "execution_count": 48,
   "metadata": {
    "colab": {
     "base_uri": "https://localhost:8080/",
     "height": 476
    },
    "id": "3hmflD-VWG6d",
    "outputId": "5da88994-698d-4582-b46d-f93d25e9d63a"
   },
   "outputs": [
    {
     "name": "stdout",
     "output_type": "stream",
     "text": [
      "Коэффициент корреляции:0.31\n"
     ]
    },
    {
     "data": {
      "image/png": "[encoded data removed]",
      "text/plain": [
       "<Figure size 720x504 with 1 Axes>"
      ]
     },
     "metadata": {
      "needs_background": "light"
     },
     "output_type": "display_data"
    }
   ],
   "source": [
    "price_centre_dep('rooms', 'Зависимость цены квартиры от количества комнат в центре Санкт-Петербурга')"
   ]
  },
  {
   "cell_type": "markdown",
   "metadata": {
    "id": "Aha1yCWAXbc8"
   },
   "source": [
    "Цена слабо зависит от количества комнат. Коэффициент корреляции 0,31. Аналогичная ситуация для всего города"
   ]
  },
  {
   "cell_type": "code",
   "execution_count": 49,
   "metadata": {
    "colab": {
     "base_uri": "https://localhost:8080/",
     "height": 476
    },
    "id": "e70rijSwYJRc",
    "outputId": "8633cc70-5a84-4012-f386-ab2dc2cb0c41"
   },
   "outputs": [
    {
     "name": "stdout",
     "output_type": "stream",
     "text": [
      "Коэффициент корреляции:0.12\n"
     ]
    },
    {
     "data": {
      "image/png": "[encoded data removed]",
      "text/plain": [
       "<Figure size 720x504 with 1 Axes>"
      ]
     },
     "metadata": {
      "needs_background": "light"
     },
     "output_type": "display_data"
    }
   ],
   "source": [
    "price_centre_dep('floor', 'Зависимость цены квартиры от этажа в центре Санкт-Петербурга')"
   ]
  },
  {
   "cell_type": "markdown",
   "metadata": {
    "id": "HSgOjM8fYVRr"
   },
   "source": [
    "Цена практически не зависит от этажа. Коэффициент корреляции 0,12."
   ]
  },
  {
   "cell_type": "code",
   "execution_count": 50,
   "metadata": {
    "colab": {
     "base_uri": "https://localhost:8080/",
     "height": 476
    },
    "id": "oAGzDbp-YYMN",
    "outputId": "20a69680-5bb4-4093-cbd1-7444ed7efc04"
   },
   "outputs": [
    {
     "name": "stdout",
     "output_type": "stream",
     "text": [
      "Коэффициент корреляции:-0.04\n"
     ]
    },
    {
     "data": {
      "image/png": "[encoded data removed]",
      "text/plain": [
       "<Figure size 720x504 with 1 Axes>"
      ]
     },
     "metadata": {
      "needs_background": "light"
     },
     "output_type": "display_data"
    }
   ],
   "source": [
    "price_centre_dep('cityCenters_nearest', 'Зависимость цены квартиры от удаленности от центра в центре Санкт-Петербурга')"
   ]
  },
  {
   "cell_type": "markdown",
   "metadata": {
    "id": "FfS13p6JY3_f"
   },
   "source": [
    "В пределах центра удаленность от центра на цену не влияет. Если рассмаиривать весь город этот параметр влияет на цену."
   ]
  },
  {
   "cell_type": "code",
   "execution_count": 51,
   "metadata": {
    "colab": {
     "base_uri": "https://localhost:8080/",
     "height": 476
    },
    "id": "I1wiu9HhY_qN",
    "outputId": "958f8a5e-156a-4bf9-f30c-65a24b7fd22d"
   },
   "outputs": [
    {
     "name": "stdout",
     "output_type": "stream",
     "text": [
      "Коэффициент корреляции:-0.04\n"
     ]
    },
    {
     "data": {
      "image/png": "[encoded data removed]",
      "text/plain": [
       "<Figure size 720x504 with 1 Axes>"
      ]
     },
     "metadata": {
      "needs_background": "light"
     },
     "output_type": "display_data"
    }
   ],
   "source": [
    "price_centre_dep('year_exposition', 'Зависимости цены квартиры от года публикации')"
   ]
  },
  {
   "cell_type": "markdown",
   "metadata": {
    "id": "YPhWt9duaCCn"
   },
   "source": [
    "В пределах центра цена квартир со временем не меняется. По графику можно видеть увеличение колличества дорогих квартир, но на общую статистику они не влияют. Для всего города мы наблюдали сильное падение цен после 14 года."
   ]
  },
  {
   "cell_type": "markdown",
   "metadata": {
    "id": "I5MSh23fWwqp"
   },
   "source": [
    "## Общий вывод"
   ]
  },
  {
   "cell_type": "markdown",
   "metadata": {
    "id": "S2Vi4hlSacPk"
   },
   "source": [
    "Среднестатистические квартиры имеют:  \n",
    "- площадь 50-60 квадратов,  \n",
    "- стоимость 4-6 млн,  \n",
    "- высоту потолков 2.7 м,  \n",
    "- число комнат 2, 3. \n",
    "\n",
    "Среднее время продажи 30 дней.  \n",
    "С ростом площади растет и цена. Что очевидно.  \n",
    "В центре города цена в 3 раза выше. Внутри центра стоимость примерно одинаковая.  \n",
    "Первый и последний этажи дешевле на 20% и 10% соответсвенно.  \n",
    "После 14 года цены сильно упали. В центре такого эффекта не наблюдается."
   ]
  },
  {
   "cell_type": "markdown",
   "metadata": {
    "id": "DbSXyMurWwqp"
   },
   "source": [
    "## Чек-лист готовности проекта\n",
    "\n",
    "Поставьте 'x' в выполненных пунктах. Далее нажмите Shift+Enter."
   ]
  },
  {
   "cell_type": "markdown",
   "metadata": {
    "id": "oYrXzk6YWwqq"
   },
   "source": [
    "- [x]  открыт файл\n",
    "- [x]  файлы изучены (выведены первые строки, метод info())\n",
    "- [x]  определены пропущенные значения\n",
    "- [x]  заполнены пропущенные значения\n",
    "- [x]  есть пояснение, какие пропущенные значения обнаружены\n",
    "- [x]  изменены типы данных\n",
    "- [x]  есть пояснение, в каких столбцах изменены типы и почему\n",
    "- [x]  посчитано и добавлено в таблицу: цена квадратного метра\n",
    "- [x]  посчитано и добавлено в таблицу: день недели, месяц и год публикации объявления\n",
    "- [x]  посчитано и добавлено в таблицу: этаж квартиры; варианты — первый, последний, другой\n",
    "- [x]  посчитано и добавлено в таблицу: соотношение жилой и общей площади, а также отношение площади кухни к общей\n",
    "- [x]  изучены следующие параметры: площадь, цена, число комнат, высота потолков\n",
    "- [x]  построены гистограммы для каждого параметра\n",
    "- [x]  выполнено задание: \"Изучите время продажи квартиры. Постройте гистограмму. Посчитайте среднее и медиану. Опишите, сколько обычно занимает продажа. Когда можно считать, что продажи прошли очень быстро, а когда необычно долго?\"\n",
    "- [x]  выполнено задание: \"Уберите редкие и выбивающиеся значения. Опишите, какие особенности обнаружили.\"\n",
    "- [x]  выполнено задание: \"Какие факторы больше всего влияют на стоимость квартиры? Изучите, зависит ли цена от квадратного метра, числа комнат, этажа (первого или последнего), удалённости от центра. Также изучите зависимость от даты размещения: дня недели, месяца и года. \"Выберите 10 населённых пунктов с наибольшим числом объявлений. Посчитайте среднюю цену квадратного метра в этих населённых пунктах. Выделите населённые пункты с самой высокой и низкой стоимостью жилья. Эти данные можно найти по имени в столбце '*locality_name'*. \"\n",
    "- [x]  выполнено задание: \"Изучите предложения квартир: для каждой квартиры есть информация о расстоянии до центра. Выделите квартиры в Санкт-Петербурге (*'locality_name'*). Ваша задача — выяснить, какая область входит в центр. Создайте столбец с расстоянием до центра в километрах: округлите до целых значений. После этого посчитайте среднюю цену для каждого километра. Постройте график: он должен показывать, как цена зависит от удалённости от центра. Определите границу, где график сильно меняется — это и будет центральная зона. \"\n",
    "- [x]  выполнено задание: \"Выделите сегмент квартир в центре. Проанализируйте эту территорию и изучите следующие параметры: площадь, цена, число комнат, высота потолков. Также выделите факторы, которые влияют на стоимость квартиры (число комнат, этаж, удалённость от центра, дата размещения объявления). Сделайте выводы. Отличаются ли они от общих выводов по всему городу?\"\n",
    "- [x]  в каждом этапе есть выводы\n",
    "- [x]  есть общий вывод"
   ]
  },
  {
   "cell_type": "code",
   "execution_count": null,
   "metadata": {
    "id": "D8ykJv8HWwqq"
   },
   "outputs": [],
   "source": []
  }
 ],
 "metadata": {
  "ExecuteTimeLog": [
   {
    "duration": 3753,
    "start_time": "2021-07-13T13:50:21.741Z"
   },
   {
    "duration": 88,
    "start_time": "2021-07-13T13:50:29.468Z"
   },
   {
    "duration": 106,
    "start_time": "2021-07-13T13:51:34.242Z"
   },
   {
    "duration": 1230,
    "start_time": "2021-07-13T13:55:04.994Z"
   },
   {
    "duration": 118,
    "start_time": "2021-07-13T13:55:20.817Z"
   },
   {
    "duration": 96,
    "start_time": "2021-07-13T13:55:38.630Z"
   },
   {
    "duration": 77,
    "start_time": "2021-07-13T13:57:06.282Z"
   },
   {
    "duration": 116,
    "start_time": "2021-07-13T13:57:24.466Z"
   },
   {
    "duration": 103,
    "start_time": "2021-07-13T14:00:28.439Z"
   },
   {
    "duration": 130,
    "start_time": "2021-07-13T14:01:40.561Z"
   },
   {
    "duration": 128,
    "start_time": "2021-07-13T14:15:19.609Z"
   },
   {
    "duration": 120,
    "start_time": "2021-07-13T14:15:38.182Z"
   },
   {
    "duration": 92,
    "start_time": "2021-07-13T14:16:22.827Z"
   },
   {
    "duration": 104,
    "start_time": "2021-07-13T14:16:38.858Z"
   },
   {
    "duration": 104,
    "start_time": "2021-07-13T14:17:07.802Z"
   },
   {
    "duration": 117,
    "start_time": "2021-07-13T14:17:43.978Z"
   },
   {
    "duration": 100,
    "start_time": "2021-07-13T14:18:05.423Z"
   },
   {
    "duration": 120,
    "start_time": "2021-07-13T14:18:57.518Z"
   },
   {
    "duration": 15,
    "start_time": "2021-07-13T14:18:59.386Z"
   },
   {
    "duration": 6,
    "start_time": "2021-07-13T15:29:21.635Z"
   },
   {
    "duration": 6,
    "start_time": "2021-07-13T15:31:20.105Z"
   },
   {
    "duration": 400,
    "start_time": "2021-07-13T15:33:12.762Z"
   },
   {
    "duration": 537,
    "start_time": "2021-07-13T15:33:52.240Z"
   },
   {
    "duration": 9,
    "start_time": "2021-07-13T16:03:57.358Z"
   },
   {
    "duration": 727,
    "start_time": "2021-07-13T16:04:23.020Z"
   },
   {
    "duration": 10,
    "start_time": "2021-07-13T16:05:04.052Z"
   },
   {
    "duration": 11,
    "start_time": "2021-07-13T16:05:28.204Z"
   },
   {
    "duration": 5,
    "start_time": "2021-07-13T16:47:34.121Z"
   },
   {
    "duration": 6,
    "start_time": "2021-07-13T16:47:40.292Z"
   },
   {
    "duration": 333,
    "start_time": "2021-07-13T16:47:57.223Z"
   },
   {
    "duration": 524,
    "start_time": "2021-07-13T16:48:05.852Z"
   },
   {
    "duration": 860,
    "start_time": "2021-07-13T16:48:48.441Z"
   },
   {
    "duration": 410,
    "start_time": "2021-07-13T16:49:23.394Z"
   },
   {
    "duration": 972,
    "start_time": "2021-07-13T16:49:33.507Z"
   },
   {
    "duration": 529,
    "start_time": "2021-07-13T16:49:42.989Z"
   },
   {
    "duration": 535,
    "start_time": "2021-07-13T16:50:34.880Z"
   },
   {
    "duration": 2963,
    "start_time": "2021-07-13T16:50:50.352Z"
   },
   {
    "duration": 2918,
    "start_time": "2021-07-13T16:51:10.371Z"
   },
   {
    "duration": 2987,
    "start_time": "2021-07-13T16:54:59.557Z"
   },
   {
    "duration": 110,
    "start_time": "2021-07-13T16:59:08.645Z"
   },
   {
    "duration": 3013,
    "start_time": "2021-07-13T16:59:16.676Z"
   },
   {
    "duration": 2969,
    "start_time": "2021-07-13T17:00:41.610Z"
   },
   {
    "duration": 3024,
    "start_time": "2021-07-13T17:14:47.027Z"
   },
   {
    "duration": 3235,
    "start_time": "2021-07-13T17:24:35.635Z"
   },
   {
    "duration": 2958,
    "start_time": "2021-07-13T17:31:45.903Z"
   },
   {
    "duration": 10,
    "start_time": "2021-07-13T17:33:43.319Z"
   },
   {
    "duration": 9,
    "start_time": "2021-07-13T17:35:32.209Z"
   },
   {
    "duration": 9,
    "start_time": "2021-07-13T17:36:26.206Z"
   },
   {
    "duration": 14,
    "start_time": "2021-07-13T17:55:29.694Z"
   },
   {
    "duration": 353,
    "start_time": "2021-07-13T18:04:15.975Z"
   },
   {
    "duration": 287,
    "start_time": "2021-07-13T18:04:21.395Z"
   },
   {
    "duration": 1103,
    "start_time": "2021-07-13T18:04:28.890Z"
   },
   {
    "duration": 16,
    "start_time": "2021-07-13T18:04:33.902Z"
   },
   {
    "duration": 1003,
    "start_time": "2021-07-13T18:07:42.115Z"
   },
   {
    "duration": 11,
    "start_time": "2021-07-13T18:07:43.121Z"
   },
   {
    "duration": 3113,
    "start_time": "2021-07-13T18:07:43.135Z"
   },
   {
    "duration": 9,
    "start_time": "2021-07-13T18:07:46.251Z"
   },
   {
    "duration": 17,
    "start_time": "2021-07-13T18:13:18.693Z"
   },
   {
    "duration": 21,
    "start_time": "2021-07-13T18:14:06.123Z"
   },
   {
    "duration": 6,
    "start_time": "2021-07-13T18:14:18.306Z"
   },
   {
    "duration": 1004,
    "start_time": "2021-07-13T18:14:40.648Z"
   },
   {
    "duration": 14,
    "start_time": "2021-07-13T18:14:41.654Z"
   },
   {
    "duration": 6,
    "start_time": "2021-07-13T18:14:41.687Z"
   },
   {
    "duration": 2959,
    "start_time": "2021-07-13T18:14:41.696Z"
   },
   {
    "duration": 8,
    "start_time": "2021-07-13T18:14:44.657Z"
   },
   {
    "duration": 20,
    "start_time": "2021-07-13T18:15:17.911Z"
   },
   {
    "duration": 22,
    "start_time": "2021-07-13T18:15:24.306Z"
   },
   {
    "duration": 19,
    "start_time": "2021-07-13T18:17:53.466Z"
   },
   {
    "duration": 20,
    "start_time": "2021-07-13T18:19:11.528Z"
   },
   {
    "duration": 375,
    "start_time": "2021-07-13T21:55:57.179Z"
   },
   {
    "duration": 1018,
    "start_time": "2021-07-13T21:56:13.472Z"
   },
   {
    "duration": 473,
    "start_time": "2021-07-13T21:56:14.493Z"
   },
   {
    "duration": -403,
    "start_time": "2021-07-13T21:56:15.372Z"
   },
   {
    "duration": -404,
    "start_time": "2021-07-13T21:56:15.374Z"
   },
   {
    "duration": -404,
    "start_time": "2021-07-13T21:56:15.376Z"
   },
   {
    "duration": 14,
    "start_time": "2021-07-13T21:58:16.740Z"
   },
   {
    "duration": 18,
    "start_time": "2021-07-13T22:04:43.021Z"
   },
   {
    "duration": 13,
    "start_time": "2021-07-13T22:12:13.753Z"
   },
   {
    "duration": 2844,
    "start_time": "2021-07-13T22:35:41.598Z"
   },
   {
    "duration": 263,
    "start_time": "2021-07-14T11:50:02.385Z"
   },
   {
    "duration": 671,
    "start_time": "2021-07-14T11:50:14.520Z"
   },
   {
    "duration": 9,
    "start_time": "2021-07-14T11:50:15.192Z"
   },
   {
    "duration": 11,
    "start_time": "2021-07-14T11:50:15.203Z"
   },
   {
    "duration": 1460,
    "start_time": "2021-07-14T11:50:15.215Z"
   },
   {
    "duration": 14,
    "start_time": "2021-07-14T11:50:16.676Z"
   },
   {
    "duration": 80,
    "start_time": "2021-07-14T11:50:16.692Z"
   },
   {
    "duration": -711,
    "start_time": "2021-07-14T11:50:17.485Z"
   },
   {
    "duration": 1468,
    "start_time": "2021-07-14T11:51:04.651Z"
   },
   {
    "duration": 1559,
    "start_time": "2021-07-14T11:53:01.890Z"
   },
   {
    "duration": 1584,
    "start_time": "2021-07-14T11:53:25.735Z"
   },
   {
    "duration": 1590,
    "start_time": "2021-07-14T11:53:38.225Z"
   },
   {
    "duration": 1811,
    "start_time": "2021-07-14T11:53:54.107Z"
   },
   {
    "duration": 1455,
    "start_time": "2021-07-14T11:54:07.204Z"
   },
   {
    "duration": 1609,
    "start_time": "2021-07-14T11:54:22.692Z"
   },
   {
    "duration": 1555,
    "start_time": "2021-07-14T11:54:37.817Z"
   },
   {
    "duration": 1731,
    "start_time": "2021-07-14T11:54:54.061Z"
   },
   {
    "duration": 1493,
    "start_time": "2021-07-14T11:55:16.552Z"
   },
   {
    "duration": 1468,
    "start_time": "2021-07-14T11:57:12.081Z"
   },
   {
    "duration": 107,
    "start_time": "2021-07-14T11:57:23.545Z"
   },
   {
    "duration": 115,
    "start_time": "2021-07-14T11:57:34.024Z"
   },
   {
    "duration": 122,
    "start_time": "2021-07-14T12:00:35.169Z"
   },
   {
    "duration": 115,
    "start_time": "2021-07-14T12:00:51.337Z"
   },
   {
    "duration": 41,
    "start_time": "2021-07-14T12:01:40.827Z"
   },
   {
    "duration": 14,
    "start_time": "2021-07-14T12:01:57.135Z"
   },
   {
    "duration": 284,
    "start_time": "2021-07-14T12:02:16.527Z"
   },
   {
    "duration": 12,
    "start_time": "2021-07-14T12:02:38.151Z"
   },
   {
    "duration": 12,
    "start_time": "2021-07-14T12:03:06.293Z"
   },
   {
    "duration": 8,
    "start_time": "2021-07-14T12:03:39.262Z"
   },
   {
    "duration": 8,
    "start_time": "2021-07-14T12:04:59.410Z"
   },
   {
    "duration": 8,
    "start_time": "2021-07-14T12:05:42.950Z"
   },
   {
    "duration": 9,
    "start_time": "2021-07-14T12:06:03.799Z"
   },
   {
    "duration": 88,
    "start_time": "2021-07-14T12:06:25.702Z"
   },
   {
    "duration": 7,
    "start_time": "2021-07-14T12:06:37.319Z"
   },
   {
    "duration": 10,
    "start_time": "2021-07-14T12:06:55.141Z"
   },
   {
    "duration": 31,
    "start_time": "2021-07-14T12:07:08.968Z"
   },
   {
    "duration": 31,
    "start_time": "2021-07-14T12:09:31.656Z"
   },
   {
    "duration": 39,
    "start_time": "2021-07-14T12:09:51.150Z"
   },
   {
    "duration": 31,
    "start_time": "2021-07-14T12:12:08.755Z"
   },
   {
    "duration": 220,
    "start_time": "2021-07-14T12:13:39.000Z"
   },
   {
    "duration": 30,
    "start_time": "2021-07-14T12:13:49.820Z"
   },
   {
    "duration": 12,
    "start_time": "2021-07-14T12:18:08.401Z"
   },
   {
    "duration": 31,
    "start_time": "2021-07-14T12:18:41.131Z"
   },
   {
    "duration": 233,
    "start_time": "2021-07-14T12:26:52.730Z"
   },
   {
    "duration": 262,
    "start_time": "2021-07-14T12:28:15.777Z"
   },
   {
    "duration": 25,
    "start_time": "2021-07-14T12:29:45.633Z"
   },
   {
    "duration": 227,
    "start_time": "2021-07-14T12:29:59.066Z"
   },
   {
    "duration": 233,
    "start_time": "2021-07-14T12:30:04.056Z"
   },
   {
    "duration": 226,
    "start_time": "2021-07-14T12:30:41.259Z"
   },
   {
    "duration": 27,
    "start_time": "2021-07-14T12:32:19.535Z"
   },
   {
    "duration": 9,
    "start_time": "2021-07-14T12:33:11.083Z"
   },
   {
    "duration": 8,
    "start_time": "2021-07-14T12:33:26.935Z"
   },
   {
    "duration": 6,
    "start_time": "2021-07-14T12:34:12.889Z"
   },
   {
    "duration": 9,
    "start_time": "2021-07-14T12:34:25.638Z"
   },
   {
    "duration": 6,
    "start_time": "2021-07-14T12:34:35.982Z"
   },
   {
    "duration": 7,
    "start_time": "2021-07-14T12:35:18.030Z"
   },
   {
    "duration": 27,
    "start_time": "2021-07-14T12:35:27.485Z"
   },
   {
    "duration": 16,
    "start_time": "2021-07-14T12:36:24.166Z"
   },
   {
    "duration": 16,
    "start_time": "2021-07-14T12:37:09.413Z"
   },
   {
    "duration": 229,
    "start_time": "2021-07-14T12:37:33.703Z"
   },
   {
    "duration": 676,
    "start_time": "2021-07-14T12:37:54.823Z"
   },
   {
    "duration": 9,
    "start_time": "2021-07-14T12:37:55.501Z"
   },
   {
    "duration": 14,
    "start_time": "2021-07-14T12:37:55.512Z"
   },
   {
    "duration": 143,
    "start_time": "2021-07-14T12:37:55.527Z"
   },
   {
    "duration": 39,
    "start_time": "2021-07-14T12:37:55.672Z"
   },
   {
    "duration": 21,
    "start_time": "2021-07-14T12:37:55.713Z"
   },
   {
    "duration": 5,
    "start_time": "2021-07-14T12:37:55.736Z"
   },
   {
    "duration": 9,
    "start_time": "2021-07-14T12:40:40.680Z"
   },
   {
    "duration": 644,
    "start_time": "2021-07-14T12:40:59.135Z"
   },
   {
    "duration": 8,
    "start_time": "2021-07-14T12:40:59.781Z"
   },
   {
    "duration": 12,
    "start_time": "2021-07-14T12:40:59.794Z"
   },
   {
    "duration": 142,
    "start_time": "2021-07-14T12:40:59.808Z"
   },
   {
    "duration": 40,
    "start_time": "2021-07-14T12:40:59.952Z"
   },
   {
    "duration": 9,
    "start_time": "2021-07-14T12:40:59.994Z"
   },
   {
    "duration": 6,
    "start_time": "2021-07-14T12:41:00.005Z"
   },
   {
    "duration": 10,
    "start_time": "2021-07-14T12:41:50.898Z"
   },
   {
    "duration": 671,
    "start_time": "2021-07-14T12:41:58.132Z"
   },
   {
    "duration": 8,
    "start_time": "2021-07-14T12:41:58.805Z"
   },
   {
    "duration": 12,
    "start_time": "2021-07-14T12:41:58.815Z"
   },
   {
    "duration": 140,
    "start_time": "2021-07-14T12:41:58.828Z"
   },
   {
    "duration": 36,
    "start_time": "2021-07-14T12:41:58.970Z"
   },
   {
    "duration": 9,
    "start_time": "2021-07-14T12:41:59.008Z"
   },
   {
    "duration": 5,
    "start_time": "2021-07-14T12:41:59.019Z"
   },
   {
    "duration": 279,
    "start_time": "2021-07-14T12:48:27.026Z"
   },
   {
    "duration": 229,
    "start_time": "2021-07-14T12:49:25.215Z"
   },
   {
    "duration": 10,
    "start_time": "2021-07-14T12:51:53.405Z"
   },
   {
    "duration": 685,
    "start_time": "2021-07-14T12:52:44.803Z"
   },
   {
    "duration": 8,
    "start_time": "2021-07-14T12:52:45.489Z"
   },
   {
    "duration": 16,
    "start_time": "2021-07-14T12:52:45.499Z"
   },
   {
    "duration": 127,
    "start_time": "2021-07-14T12:52:45.517Z"
   },
   {
    "duration": 31,
    "start_time": "2021-07-14T12:52:45.646Z"
   },
   {
    "duration": 20,
    "start_time": "2021-07-14T12:52:45.679Z"
   },
   {
    "duration": 5,
    "start_time": "2021-07-14T12:52:45.700Z"
   },
   {
    "duration": 10,
    "start_time": "2021-07-14T12:54:51.639Z"
   },
   {
    "duration": 9,
    "start_time": "2021-07-14T12:55:32.955Z"
   },
   {
    "duration": 756,
    "start_time": "2021-07-14T12:55:43.996Z"
   },
   {
    "duration": 9,
    "start_time": "2021-07-14T12:55:44.755Z"
   },
   {
    "duration": 24,
    "start_time": "2021-07-14T12:55:44.768Z"
   },
   {
    "duration": 135,
    "start_time": "2021-07-14T12:55:44.794Z"
   },
   {
    "duration": 31,
    "start_time": "2021-07-14T12:55:44.931Z"
   },
   {
    "duration": 10,
    "start_time": "2021-07-14T12:55:44.963Z"
   },
   {
    "duration": 7,
    "start_time": "2021-07-14T12:55:44.991Z"
   },
   {
    "duration": 6,
    "start_time": "2021-07-14T12:56:39.551Z"
   },
   {
    "duration": 5671,
    "start_time": "2021-07-14T13:03:03.615Z"
   },
   {
    "duration": 6259,
    "start_time": "2021-07-14T13:03:57.735Z"
   },
   {
    "duration": 7,
    "start_time": "2021-07-14T13:04:23.582Z"
   },
   {
    "duration": 9,
    "start_time": "2021-07-14T13:05:29.710Z"
   },
   {
    "duration": 9,
    "start_time": "2021-07-14T13:05:57.128Z"
   },
   {
    "duration": 9,
    "start_time": "2021-07-14T13:06:26.079Z"
   },
   {
    "duration": 696,
    "start_time": "2021-07-14T13:06:41.485Z"
   },
   {
    "duration": 8,
    "start_time": "2021-07-14T13:06:42.183Z"
   },
   {
    "duration": 11,
    "start_time": "2021-07-14T13:06:42.193Z"
   },
   {
    "duration": 126,
    "start_time": "2021-07-14T13:06:42.206Z"
   },
   {
    "duration": 30,
    "start_time": "2021-07-14T13:06:42.333Z"
   },
   {
    "duration": 8,
    "start_time": "2021-07-14T13:06:42.365Z"
   },
   {
    "duration": 20,
    "start_time": "2021-07-14T13:06:42.374Z"
   },
   {
    "duration": 10,
    "start_time": "2021-07-14T13:06:52.269Z"
   },
   {
    "duration": 10,
    "start_time": "2021-07-14T13:07:20.109Z"
   },
   {
    "duration": 9,
    "start_time": "2021-07-14T13:07:42.430Z"
   },
   {
    "duration": 635,
    "start_time": "2021-07-14T13:07:48.843Z"
   },
   {
    "duration": 9,
    "start_time": "2021-07-14T13:07:49.778Z"
   },
   {
    "duration": 11,
    "start_time": "2021-07-14T13:07:49.789Z"
   },
   {
    "duration": 131,
    "start_time": "2021-07-14T13:07:49.802Z"
   },
   {
    "duration": 32,
    "start_time": "2021-07-14T13:07:49.934Z"
   },
   {
    "duration": 8,
    "start_time": "2021-07-14T13:07:49.967Z"
   },
   {
    "duration": 5,
    "start_time": "2021-07-14T13:07:49.991Z"
   },
   {
    "duration": 316,
    "start_time": "2021-07-14T13:10:53.500Z"
   },
   {
    "duration": 15,
    "start_time": "2021-07-14T13:12:41.169Z"
   },
   {
    "duration": 707,
    "start_time": "2021-07-14T13:13:00.798Z"
   },
   {
    "duration": 10,
    "start_time": "2021-07-14T13:13:01.508Z"
   },
   {
    "duration": 11,
    "start_time": "2021-07-14T13:13:01.522Z"
   },
   {
    "duration": 132,
    "start_time": "2021-07-14T13:13:01.535Z"
   },
   {
    "duration": 39,
    "start_time": "2021-07-14T13:13:01.668Z"
   },
   {
    "duration": 12,
    "start_time": "2021-07-14T13:13:01.708Z"
   },
   {
    "duration": 5,
    "start_time": "2021-07-14T13:13:01.721Z"
   },
   {
    "duration": 12,
    "start_time": "2021-07-14T13:13:34.005Z"
   },
   {
    "duration": 668,
    "start_time": "2021-07-14T13:13:41.508Z"
   },
   {
    "duration": 8,
    "start_time": "2021-07-14T13:13:42.178Z"
   },
   {
    "duration": 11,
    "start_time": "2021-07-14T13:13:42.188Z"
   },
   {
    "duration": 126,
    "start_time": "2021-07-14T13:13:42.201Z"
   },
   {
    "duration": 30,
    "start_time": "2021-07-14T13:13:42.329Z"
   },
   {
    "duration": 11,
    "start_time": "2021-07-14T13:13:42.360Z"
   },
   {
    "duration": 23,
    "start_time": "2021-07-14T13:13:42.372Z"
   },
   {
    "duration": 12,
    "start_time": "2021-07-14T13:14:46.243Z"
   },
   {
    "duration": 747,
    "start_time": "2021-07-14T13:14:53.065Z"
   },
   {
    "duration": 8,
    "start_time": "2021-07-14T13:14:53.814Z"
   },
   {
    "duration": 14,
    "start_time": "2021-07-14T13:14:53.823Z"
   },
   {
    "duration": 134,
    "start_time": "2021-07-14T13:14:53.839Z"
   },
   {
    "duration": 39,
    "start_time": "2021-07-14T13:14:53.975Z"
   },
   {
    "duration": 12,
    "start_time": "2021-07-14T13:14:54.016Z"
   },
   {
    "duration": 10,
    "start_time": "2021-07-14T13:14:54.029Z"
   },
   {
    "duration": 7,
    "start_time": "2021-07-14T13:36:08.942Z"
   },
   {
    "duration": 936,
    "start_time": "2021-07-14T13:36:51.330Z"
   },
   {
    "duration": 901,
    "start_time": "2021-07-14T13:40:36.797Z"
   },
   {
    "duration": 652,
    "start_time": "2021-07-14T13:40:43.637Z"
   },
   {
    "duration": 8,
    "start_time": "2021-07-14T13:40:44.290Z"
   },
   {
    "duration": 12,
    "start_time": "2021-07-14T13:40:44.300Z"
   },
   {
    "duration": 132,
    "start_time": "2021-07-14T13:40:44.313Z"
   },
   {
    "duration": 31,
    "start_time": "2021-07-14T13:40:44.446Z"
   },
   {
    "duration": 23,
    "start_time": "2021-07-14T13:40:44.478Z"
   },
   {
    "duration": 1939,
    "start_time": "2021-07-14T13:40:44.503Z"
   },
   {
    "duration": 224,
    "start_time": "2021-07-14T13:41:44.895Z"
   },
   {
    "duration": 7,
    "start_time": "2021-07-14T13:51:09.256Z"
   },
   {
    "duration": 1548,
    "start_time": "2021-07-14T13:51:21.883Z"
   },
   {
    "duration": 79,
    "start_time": "2021-07-14T13:52:46.308Z"
   },
   {
    "duration": 4762,
    "start_time": "2021-07-14T13:52:53.802Z"
   },
   {
    "duration": 23,
    "start_time": "2021-07-14T13:55:58.580Z"
   },
   {
    "duration": 231,
    "start_time": "2021-07-14T13:56:38.916Z"
   },
   {
    "duration": 76,
    "start_time": "2021-07-14T13:58:50.834Z"
   },
   {
    "duration": 260,
    "start_time": "2021-07-14T13:58:56.354Z"
   },
   {
    "duration": 23,
    "start_time": "2021-07-14T13:59:25.477Z"
   },
   {
    "duration": 9,
    "start_time": "2021-07-14T13:59:56.040Z"
   },
   {
    "duration": 12,
    "start_time": "2021-07-14T14:00:59.600Z"
   },
   {
    "duration": 722,
    "start_time": "2021-07-14T14:01:06.079Z"
   },
   {
    "duration": 7,
    "start_time": "2021-07-14T14:01:06.803Z"
   },
   {
    "duration": 12,
    "start_time": "2021-07-14T14:01:06.812Z"
   },
   {
    "duration": 135,
    "start_time": "2021-07-14T14:01:06.826Z"
   },
   {
    "duration": 39,
    "start_time": "2021-07-14T14:01:06.962Z"
   },
   {
    "duration": 11,
    "start_time": "2021-07-14T14:01:07.003Z"
   },
   {
    "duration": 10,
    "start_time": "2021-07-14T14:01:07.016Z"
   },
   {
    "duration": 11,
    "start_time": "2021-07-14T14:01:27.789Z"
   },
   {
    "duration": 761,
    "start_time": "2021-07-14T14:01:55.877Z"
   },
   {
    "duration": 9,
    "start_time": "2021-07-14T14:01:56.640Z"
   },
   {
    "duration": 12,
    "start_time": "2021-07-14T14:01:56.651Z"
   },
   {
    "duration": 154,
    "start_time": "2021-07-14T14:01:56.665Z"
   },
   {
    "duration": 37,
    "start_time": "2021-07-14T14:01:56.820Z"
   },
   {
    "duration": 15,
    "start_time": "2021-07-14T14:01:56.859Z"
   },
   {
    "duration": 25,
    "start_time": "2021-07-14T14:01:56.892Z"
   },
   {
    "duration": 8,
    "start_time": "2021-07-14T14:02:07.050Z"
   },
   {
    "duration": 72,
    "start_time": "2021-07-14T14:03:58.109Z"
   },
   {
    "duration": 981,
    "start_time": "2021-07-14T14:07:43.220Z"
   },
   {
    "duration": 670,
    "start_time": "2021-07-14T14:07:49.129Z"
   },
   {
    "duration": 9,
    "start_time": "2021-07-14T14:07:49.801Z"
   },
   {
    "duration": 13,
    "start_time": "2021-07-14T14:07:49.813Z"
   },
   {
    "duration": 138,
    "start_time": "2021-07-14T14:07:49.828Z"
   },
   {
    "duration": 40,
    "start_time": "2021-07-14T14:07:49.968Z"
   },
   {
    "duration": 12,
    "start_time": "2021-07-14T14:07:50.010Z"
   },
   {
    "duration": 961,
    "start_time": "2021-07-14T14:07:50.024Z"
   },
   {
    "duration": 718,
    "start_time": "2021-07-14T14:08:06.719Z"
   },
   {
    "duration": 230,
    "start_time": "2021-07-14T14:09:10.768Z"
   },
   {
    "duration": 7,
    "start_time": "2021-07-14T14:09:27.615Z"
   },
   {
    "duration": 646,
    "start_time": "2021-07-14T14:09:37.350Z"
   },
   {
    "duration": 8,
    "start_time": "2021-07-14T14:09:37.998Z"
   },
   {
    "duration": 19,
    "start_time": "2021-07-14T14:09:38.007Z"
   },
   {
    "duration": 127,
    "start_time": "2021-07-14T14:09:38.027Z"
   },
   {
    "duration": 45,
    "start_time": "2021-07-14T14:09:38.156Z"
   },
   {
    "duration": 18,
    "start_time": "2021-07-14T14:09:38.203Z"
   },
   {
    "duration": 8,
    "start_time": "2021-07-14T14:09:38.223Z"
   },
   {
    "duration": 6,
    "start_time": "2021-07-14T14:11:03.291Z"
   },
   {
    "duration": 6,
    "start_time": "2021-07-14T14:11:15.290Z"
   },
   {
    "duration": 703,
    "start_time": "2021-07-14T14:11:18.995Z"
   },
   {
    "duration": 8,
    "start_time": "2021-07-14T14:11:19.700Z"
   },
   {
    "duration": 11,
    "start_time": "2021-07-14T14:11:19.711Z"
   },
   {
    "duration": 134,
    "start_time": "2021-07-14T14:11:19.724Z"
   },
   {
    "duration": 34,
    "start_time": "2021-07-14T14:11:19.859Z"
   },
   {
    "duration": 11,
    "start_time": "2021-07-14T14:11:19.895Z"
   },
   {
    "duration": 4,
    "start_time": "2021-07-14T14:11:19.908Z"
   },
   {
    "duration": 6,
    "start_time": "2021-07-14T14:11:38.642Z"
   },
   {
    "duration": 972,
    "start_time": "2021-07-14T14:12:51.761Z"
   },
   {
    "duration": 4422,
    "start_time": "2021-07-14T14:14:38.562Z"
   },
   {
    "duration": 869,
    "start_time": "2021-07-14T14:14:59.441Z"
   },
   {
    "duration": 219,
    "start_time": "2021-07-14T14:15:31.417Z"
   },
   {
    "duration": 1496,
    "start_time": "2021-07-14T14:15:41.522Z"
   },
   {
    "duration": 732,
    "start_time": "2021-07-14T14:15:59.462Z"
   },
   {
    "duration": 8,
    "start_time": "2021-07-14T14:16:00.197Z"
   },
   {
    "duration": 15,
    "start_time": "2021-07-14T14:16:00.207Z"
   },
   {
    "duration": 134,
    "start_time": "2021-07-14T14:16:00.223Z"
   },
   {
    "duration": 40,
    "start_time": "2021-07-14T14:16:00.358Z"
   },
   {
    "duration": 13,
    "start_time": "2021-07-14T14:16:00.399Z"
   },
   {
    "duration": 2267,
    "start_time": "2021-07-14T14:16:00.414Z"
   },
   {
    "duration": 1526,
    "start_time": "2021-07-14T14:16:33.083Z"
   },
   {
    "duration": 6,
    "start_time": "2021-07-14T14:16:59.523Z"
   },
   {
    "duration": 19,
    "start_time": "2021-07-14T14:18:37.034Z"
   },
   {
    "duration": 1170,
    "start_time": "2021-07-14T14:19:06.675Z"
   },
   {
    "duration": 238,
    "start_time": "2021-07-14T14:22:11.929Z"
   },
   {
    "duration": 694,
    "start_time": "2021-07-14T14:22:17.110Z"
   },
   {
    "duration": 8,
    "start_time": "2021-07-14T14:22:17.806Z"
   },
   {
    "duration": 11,
    "start_time": "2021-07-14T14:22:17.816Z"
   },
   {
    "duration": 136,
    "start_time": "2021-07-14T14:22:17.829Z"
   },
   {
    "duration": 41,
    "start_time": "2021-07-14T14:22:17.966Z"
   },
   {
    "duration": 12,
    "start_time": "2021-07-14T14:22:18.009Z"
   },
   {
    "duration": 325,
    "start_time": "2021-07-14T14:22:18.023Z"
   },
   {
    "duration": 81,
    "start_time": "2021-07-14T14:23:34.501Z"
   },
   {
    "duration": 248,
    "start_time": "2021-07-14T14:24:31.128Z"
   },
   {
    "duration": 88,
    "start_time": "2021-07-14T14:24:41.317Z"
   },
   {
    "duration": 223,
    "start_time": "2021-07-14T14:25:08.758Z"
   },
   {
    "duration": 6,
    "start_time": "2021-07-14T14:25:17.542Z"
   },
   {
    "duration": 8,
    "start_time": "2021-07-14T14:25:41.045Z"
   },
   {
    "duration": 768,
    "start_time": "2021-07-14T14:25:46.861Z"
   },
   {
    "duration": 8,
    "start_time": "2021-07-14T14:25:47.630Z"
   },
   {
    "duration": 12,
    "start_time": "2021-07-14T14:25:47.640Z"
   },
   {
    "duration": 142,
    "start_time": "2021-07-14T14:25:47.653Z"
   },
   {
    "duration": 32,
    "start_time": "2021-07-14T14:25:47.796Z"
   },
   {
    "duration": 12,
    "start_time": "2021-07-14T14:25:47.830Z"
   },
   {
    "duration": 8,
    "start_time": "2021-07-14T14:25:47.844Z"
   },
   {
    "duration": 8,
    "start_time": "2021-07-14T14:26:12.695Z"
   },
   {
    "duration": 715,
    "start_time": "2021-07-14T14:26:18.692Z"
   },
   {
    "duration": 8,
    "start_time": "2021-07-14T14:26:19.409Z"
   },
   {
    "duration": 13,
    "start_time": "2021-07-14T14:26:19.419Z"
   },
   {
    "duration": 144,
    "start_time": "2021-07-14T14:26:19.433Z"
   },
   {
    "duration": 40,
    "start_time": "2021-07-14T14:26:19.578Z"
   },
   {
    "duration": 14,
    "start_time": "2021-07-14T14:26:19.620Z"
   },
   {
    "duration": 8,
    "start_time": "2021-07-14T14:26:19.636Z"
   },
   {
    "duration": 8,
    "start_time": "2021-07-14T14:27:08.120Z"
   },
   {
    "duration": 9,
    "start_time": "2021-07-14T14:28:42.552Z"
   },
   {
    "duration": 752,
    "start_time": "2021-07-14T14:29:01.671Z"
   },
   {
    "duration": 8,
    "start_time": "2021-07-14T14:29:02.424Z"
   },
   {
    "duration": 10,
    "start_time": "2021-07-14T14:29:02.436Z"
   },
   {
    "duration": 138,
    "start_time": "2021-07-14T14:29:02.448Z"
   },
   {
    "duration": 32,
    "start_time": "2021-07-14T14:29:02.588Z"
   },
   {
    "duration": 12,
    "start_time": "2021-07-14T14:29:02.621Z"
   },
   {
    "duration": 6,
    "start_time": "2021-07-14T14:29:02.635Z"
   },
   {
    "duration": 9,
    "start_time": "2021-07-14T14:29:55.958Z"
   },
   {
    "duration": 6,
    "start_time": "2021-07-14T14:30:16.543Z"
   },
   {
    "duration": 712,
    "start_time": "2021-07-14T14:30:23.466Z"
   },
   {
    "duration": 10,
    "start_time": "2021-07-14T14:30:24.180Z"
   },
   {
    "duration": 11,
    "start_time": "2021-07-14T14:30:24.192Z"
   },
   {
    "duration": 127,
    "start_time": "2021-07-14T14:30:24.205Z"
   },
   {
    "duration": 33,
    "start_time": "2021-07-14T14:30:24.333Z"
   },
   {
    "duration": 27,
    "start_time": "2021-07-14T14:30:24.367Z"
   },
   {
    "duration": 6,
    "start_time": "2021-07-14T14:30:24.395Z"
   },
   {
    "duration": 9,
    "start_time": "2021-07-14T14:30:44.401Z"
   },
   {
    "duration": 12,
    "start_time": "2021-07-14T14:33:37.902Z"
   },
   {
    "duration": 665,
    "start_time": "2021-07-14T14:33:49.150Z"
   },
   {
    "duration": 8,
    "start_time": "2021-07-14T14:33:49.817Z"
   },
   {
    "duration": 13,
    "start_time": "2021-07-14T14:33:49.827Z"
   },
   {
    "duration": 126,
    "start_time": "2021-07-14T14:33:49.842Z"
   },
   {
    "duration": 39,
    "start_time": "2021-07-14T14:33:49.970Z"
   },
   {
    "duration": 13,
    "start_time": "2021-07-14T14:33:50.011Z"
   },
   {
    "duration": 12,
    "start_time": "2021-07-14T14:33:50.025Z"
   },
   {
    "duration": 14,
    "start_time": "2021-07-14T14:34:17.453Z"
   },
   {
    "duration": 712,
    "start_time": "2021-07-14T14:34:29.794Z"
   },
   {
    "duration": 8,
    "start_time": "2021-07-14T14:34:30.508Z"
   },
   {
    "duration": 15,
    "start_time": "2021-07-14T14:34:30.518Z"
   },
   {
    "duration": 138,
    "start_time": "2021-07-14T14:34:30.534Z"
   },
   {
    "duration": 34,
    "start_time": "2021-07-14T14:34:30.674Z"
   },
   {
    "duration": 11,
    "start_time": "2021-07-14T14:34:30.710Z"
   },
   {
    "duration": 15,
    "start_time": "2021-07-14T14:34:30.722Z"
   },
   {
    "duration": 13,
    "start_time": "2021-07-14T14:35:10.236Z"
   },
   {
    "duration": 13,
    "start_time": "2021-07-14T14:35:39.098Z"
   },
   {
    "duration": 13,
    "start_time": "2021-07-14T14:35:46.068Z"
   },
   {
    "duration": 271,
    "start_time": "2021-07-14T14:49:12.050Z"
   },
   {
    "duration": 42,
    "start_time": "2021-07-14T14:49:50.638Z"
   },
   {
    "duration": 14,
    "start_time": "2021-07-14T14:50:40.753Z"
   },
   {
    "duration": 15,
    "start_time": "2021-07-14T14:51:17.566Z"
   },
   {
    "duration": 113,
    "start_time": "2021-07-14T15:13:22.875Z"
   },
   {
    "duration": 148,
    "start_time": "2021-07-14T15:14:54.575Z"
   },
   {
    "duration": 116,
    "start_time": "2021-07-14T15:15:24.337Z"
   },
   {
    "duration": 9,
    "start_time": "2021-07-14T15:19:50.258Z"
   },
   {
    "duration": 11,
    "start_time": "2021-07-14T15:20:05.754Z"
   },
   {
    "duration": 8,
    "start_time": "2021-07-14T15:20:15.701Z"
   },
   {
    "duration": 9,
    "start_time": "2021-07-14T15:20:41.206Z"
   },
   {
    "duration": 6,
    "start_time": "2021-07-14T15:22:33.898Z"
   },
   {
    "duration": 171,
    "start_time": "2021-07-14T17:11:31.739Z"
   },
   {
    "duration": 346,
    "start_time": "2021-07-14T17:13:22.967Z"
   },
   {
    "duration": 118,
    "start_time": "2021-07-14T17:13:29.024Z"
   },
   {
    "duration": 5,
    "start_time": "2021-07-14T17:18:25.026Z"
   },
   {
    "duration": 7,
    "start_time": "2021-07-14T17:19:12.878Z"
   },
   {
    "duration": 6,
    "start_time": "2021-07-14T17:19:27.331Z"
   },
   {
    "duration": 5,
    "start_time": "2021-07-14T17:19:41.778Z"
   },
   {
    "duration": 141,
    "start_time": "2021-07-14T17:24:44.242Z"
   },
   {
    "duration": 151,
    "start_time": "2021-07-14T17:25:00.589Z"
   },
   {
    "duration": 121,
    "start_time": "2021-07-14T17:25:48.995Z"
   },
   {
    "duration": 274,
    "start_time": "2021-07-14T17:26:18.548Z"
   },
   {
    "duration": 6,
    "start_time": "2021-07-14T17:31:21.656Z"
   },
   {
    "duration": 75,
    "start_time": "2021-07-14T17:36:16.309Z"
   },
   {
    "duration": 234,
    "start_time": "2021-07-14T17:38:49.186Z"
   },
   {
    "duration": 712,
    "start_time": "2021-07-14T17:39:46.360Z"
   },
   {
    "duration": 8,
    "start_time": "2021-07-14T17:39:47.074Z"
   },
   {
    "duration": 12,
    "start_time": "2021-07-14T17:39:47.084Z"
   },
   {
    "duration": 132,
    "start_time": "2021-07-14T17:39:47.098Z"
   },
   {
    "duration": 31,
    "start_time": "2021-07-14T17:39:47.232Z"
   },
   {
    "duration": 28,
    "start_time": "2021-07-14T17:39:47.264Z"
   },
   {
    "duration": 12,
    "start_time": "2021-07-14T17:39:47.294Z"
   },
   {
    "duration": 6,
    "start_time": "2021-07-14T17:39:47.308Z"
   },
   {
    "duration": 9,
    "start_time": "2021-07-14T17:39:47.316Z"
   },
   {
    "duration": 7,
    "start_time": "2021-07-14T17:39:47.326Z"
   },
   {
    "duration": 7,
    "start_time": "2021-07-14T17:39:47.335Z"
   },
   {
    "duration": 5,
    "start_time": "2021-07-14T17:39:47.343Z"
   },
   {
    "duration": 290,
    "start_time": "2021-07-14T17:39:47.350Z"
   },
   {
    "duration": -1128,
    "start_time": "2021-07-14T17:39:48.770Z"
   },
   {
    "duration": -1129,
    "start_time": "2021-07-14T17:39:48.772Z"
   },
   {
    "duration": -1130,
    "start_time": "2021-07-14T17:39:48.774Z"
   },
   {
    "duration": 223,
    "start_time": "2021-07-14T17:41:09.542Z"
   },
   {
    "duration": 228,
    "start_time": "2021-07-14T17:41:42.281Z"
   },
   {
    "duration": 234,
    "start_time": "2021-07-14T17:41:53.375Z"
   },
   {
    "duration": 643,
    "start_time": "2021-07-14T17:41:58.530Z"
   },
   {
    "duration": 8,
    "start_time": "2021-07-14T17:41:59.174Z"
   },
   {
    "duration": 11,
    "start_time": "2021-07-14T17:41:59.184Z"
   },
   {
    "duration": 128,
    "start_time": "2021-07-14T17:41:59.197Z"
   },
   {
    "duration": 31,
    "start_time": "2021-07-14T17:41:59.327Z"
   },
   {
    "duration": 12,
    "start_time": "2021-07-14T17:41:59.359Z"
   },
   {
    "duration": 24,
    "start_time": "2021-07-14T17:41:59.372Z"
   },
   {
    "duration": 5,
    "start_time": "2021-07-14T17:41:59.398Z"
   },
   {
    "duration": 9,
    "start_time": "2021-07-14T17:41:59.405Z"
   },
   {
    "duration": 6,
    "start_time": "2021-07-14T17:41:59.416Z"
   },
   {
    "duration": 7,
    "start_time": "2021-07-14T17:41:59.423Z"
   },
   {
    "duration": 4,
    "start_time": "2021-07-14T17:41:59.431Z"
   },
   {
    "duration": 11,
    "start_time": "2021-07-14T17:41:59.437Z"
   },
   {
    "duration": 299,
    "start_time": "2021-07-14T17:41:59.449Z"
   },
   {
    "duration": 121,
    "start_time": "2021-07-14T17:41:59.749Z"
   },
   {
    "duration": 4,
    "start_time": "2021-07-14T17:41:59.872Z"
   },
   {
    "duration": 294,
    "start_time": "2021-07-14T17:42:41.644Z"
   },
   {
    "duration": 237,
    "start_time": "2021-07-14T17:42:56.916Z"
   },
   {
    "duration": 704,
    "start_time": "2021-07-14T17:43:45.288Z"
   },
   {
    "duration": 8,
    "start_time": "2021-07-14T17:43:45.993Z"
   },
   {
    "duration": 11,
    "start_time": "2021-07-14T17:43:46.003Z"
   },
   {
    "duration": 134,
    "start_time": "2021-07-14T17:43:46.015Z"
   },
   {
    "duration": 31,
    "start_time": "2021-07-14T17:43:46.150Z"
   },
   {
    "duration": 18,
    "start_time": "2021-07-14T17:43:46.182Z"
   },
   {
    "duration": 11,
    "start_time": "2021-07-14T17:43:46.201Z"
   },
   {
    "duration": 6,
    "start_time": "2021-07-14T17:43:46.214Z"
   },
   {
    "duration": 11,
    "start_time": "2021-07-14T17:43:46.221Z"
   },
   {
    "duration": 6,
    "start_time": "2021-07-14T17:43:46.233Z"
   },
   {
    "duration": 7,
    "start_time": "2021-07-14T17:43:46.241Z"
   },
   {
    "duration": 5,
    "start_time": "2021-07-14T17:43:46.249Z"
   },
   {
    "duration": 42,
    "start_time": "2021-07-14T17:43:46.255Z"
   },
   {
    "duration": 279,
    "start_time": "2021-07-14T17:43:46.298Z"
   },
   {
    "duration": 128,
    "start_time": "2021-07-14T17:43:46.578Z"
   },
   {
    "duration": 5,
    "start_time": "2021-07-14T17:43:46.707Z"
   },
   {
    "duration": 10,
    "start_time": "2021-07-14T17:44:32.323Z"
   },
   {
    "duration": 270,
    "start_time": "2021-07-14T17:44:38.976Z"
   },
   {
    "duration": 709,
    "start_time": "2021-07-14T17:44:58.181Z"
   },
   {
    "duration": 8,
    "start_time": "2021-07-14T17:44:58.892Z"
   },
   {
    "duration": 11,
    "start_time": "2021-07-14T17:44:58.902Z"
   },
   {
    "duration": 137,
    "start_time": "2021-07-14T17:44:58.915Z"
   },
   {
    "duration": 38,
    "start_time": "2021-07-14T17:44:59.054Z"
   },
   {
    "duration": 11,
    "start_time": "2021-07-14T17:44:59.094Z"
   },
   {
    "duration": 11,
    "start_time": "2021-07-14T17:44:59.106Z"
   },
   {
    "duration": 6,
    "start_time": "2021-07-14T17:44:59.119Z"
   },
   {
    "duration": 8,
    "start_time": "2021-07-14T17:44:59.128Z"
   },
   {
    "duration": 6,
    "start_time": "2021-07-14T17:44:59.138Z"
   },
   {
    "duration": 6,
    "start_time": "2021-07-14T17:44:59.146Z"
   },
   {
    "duration": 38,
    "start_time": "2021-07-14T17:44:59.153Z"
   },
   {
    "duration": 289,
    "start_time": "2021-07-14T17:44:59.193Z"
   },
   {
    "duration": -1059,
    "start_time": "2021-07-14T17:45:00.542Z"
   },
   {
    "duration": -1061,
    "start_time": "2021-07-14T17:45:00.545Z"
   },
   {
    "duration": -1063,
    "start_time": "2021-07-14T17:45:00.548Z"
   },
   {
    "duration": 88,
    "start_time": "2021-07-14T17:46:09.424Z"
   },
   {
    "duration": 9,
    "start_time": "2021-07-14T17:46:09.514Z"
   },
   {
    "duration": 11,
    "start_time": "2021-07-14T17:46:09.525Z"
   },
   {
    "duration": 143,
    "start_time": "2021-07-14T17:46:09.538Z"
   },
   {
    "duration": 30,
    "start_time": "2021-07-14T17:46:09.691Z"
   },
   {
    "duration": 13,
    "start_time": "2021-07-14T17:46:09.723Z"
   },
   {
    "duration": 12,
    "start_time": "2021-07-14T17:46:09.737Z"
   },
   {
    "duration": 6,
    "start_time": "2021-07-14T17:46:09.751Z"
   },
   {
    "duration": 34,
    "start_time": "2021-07-14T17:46:09.758Z"
   },
   {
    "duration": 7,
    "start_time": "2021-07-14T17:46:09.793Z"
   },
   {
    "duration": 7,
    "start_time": "2021-07-14T17:46:09.802Z"
   },
   {
    "duration": 4,
    "start_time": "2021-07-14T17:46:09.810Z"
   },
   {
    "duration": 92,
    "start_time": "2021-07-14T17:46:46.541Z"
   },
   {
    "duration": 9,
    "start_time": "2021-07-14T17:46:46.635Z"
   },
   {
    "duration": 14,
    "start_time": "2021-07-14T17:46:49.521Z"
   },
   {
    "duration": 115,
    "start_time": "2021-07-14T17:46:49.536Z"
   },
   {
    "duration": 32,
    "start_time": "2021-07-14T17:46:52.753Z"
   },
   {
    "duration": 11,
    "start_time": "2021-07-14T17:46:52.787Z"
   },
   {
    "duration": 14,
    "start_time": "2021-07-14T17:46:52.963Z"
   },
   {
    "duration": 5,
    "start_time": "2021-07-14T17:46:52.978Z"
   },
   {
    "duration": 8,
    "start_time": "2021-07-14T17:46:52.985Z"
   },
   {
    "duration": 8,
    "start_time": "2021-07-14T17:46:52.994Z"
   },
   {
    "duration": 8,
    "start_time": "2021-07-14T17:46:53.003Z"
   },
   {
    "duration": 5,
    "start_time": "2021-07-14T17:46:53.012Z"
   },
   {
    "duration": 717,
    "start_time": "2021-07-14T17:47:12.192Z"
   },
   {
    "duration": 10,
    "start_time": "2021-07-14T17:47:12.911Z"
   },
   {
    "duration": 14,
    "start_time": "2021-07-14T17:47:12.927Z"
   },
   {
    "duration": 152,
    "start_time": "2021-07-14T17:47:12.942Z"
   },
   {
    "duration": 32,
    "start_time": "2021-07-14T17:47:13.096Z"
   },
   {
    "duration": 13,
    "start_time": "2021-07-14T17:47:13.130Z"
   },
   {
    "duration": 13,
    "start_time": "2021-07-14T17:47:13.144Z"
   },
   {
    "duration": 36,
    "start_time": "2021-07-14T17:47:13.160Z"
   },
   {
    "duration": 9,
    "start_time": "2021-07-14T17:47:13.198Z"
   },
   {
    "duration": 8,
    "start_time": "2021-07-14T17:47:13.209Z"
   },
   {
    "duration": 8,
    "start_time": "2021-07-14T17:47:13.219Z"
   },
   {
    "duration": 5,
    "start_time": "2021-07-14T17:47:13.229Z"
   },
   {
    "duration": 289,
    "start_time": "2021-07-14T17:47:13.236Z"
   },
   {
    "duration": -1091,
    "start_time": "2021-07-14T17:47:14.618Z"
   },
   {
    "duration": -1094,
    "start_time": "2021-07-14T17:47:14.623Z"
   },
   {
    "duration": -1099,
    "start_time": "2021-07-14T17:47:14.629Z"
   },
   {
    "duration": 225,
    "start_time": "2021-07-14T17:47:46.976Z"
   },
   {
    "duration": 670,
    "start_time": "2021-07-14T17:48:10.153Z"
   },
   {
    "duration": 8,
    "start_time": "2021-07-14T17:48:10.825Z"
   },
   {
    "duration": 11,
    "start_time": "2021-07-14T17:48:10.835Z"
   },
   {
    "duration": 135,
    "start_time": "2021-07-14T17:48:10.847Z"
   },
   {
    "duration": 36,
    "start_time": "2021-07-14T17:48:10.983Z"
   },
   {
    "duration": 11,
    "start_time": "2021-07-14T17:48:11.021Z"
   },
   {
    "duration": 12,
    "start_time": "2021-07-14T17:48:11.033Z"
   },
   {
    "duration": 6,
    "start_time": "2021-07-14T17:48:11.046Z"
   },
   {
    "duration": 8,
    "start_time": "2021-07-14T17:48:11.054Z"
   },
   {
    "duration": 33,
    "start_time": "2021-07-14T17:48:11.063Z"
   },
   {
    "duration": 7,
    "start_time": "2021-07-14T17:48:11.098Z"
   },
   {
    "duration": 4,
    "start_time": "2021-07-14T17:48:11.106Z"
   },
   {
    "duration": 9,
    "start_time": "2021-07-14T17:48:11.111Z"
   },
   {
    "duration": 277,
    "start_time": "2021-07-14T17:48:11.122Z"
   },
   {
    "duration": -1259,
    "start_time": "2021-07-14T17:48:12.660Z"
   },
   {
    "duration": -1262,
    "start_time": "2021-07-14T17:48:12.663Z"
   },
   {
    "duration": -1263,
    "start_time": "2021-07-14T17:48:12.665Z"
   },
   {
    "duration": 679,
    "start_time": "2021-07-14T17:49:02.714Z"
   },
   {
    "duration": 10,
    "start_time": "2021-07-14T17:49:03.395Z"
   },
   {
    "duration": 13,
    "start_time": "2021-07-14T17:49:03.407Z"
   },
   {
    "duration": 141,
    "start_time": "2021-07-14T17:49:03.422Z"
   },
   {
    "duration": 40,
    "start_time": "2021-07-14T17:49:03.565Z"
   },
   {
    "duration": 12,
    "start_time": "2021-07-14T17:49:03.606Z"
   },
   {
    "duration": 12,
    "start_time": "2021-07-14T17:49:03.619Z"
   },
   {
    "duration": 6,
    "start_time": "2021-07-14T17:49:03.632Z"
   },
   {
    "duration": 17,
    "start_time": "2021-07-14T17:49:03.640Z"
   },
   {
    "duration": 7,
    "start_time": "2021-07-14T17:49:03.658Z"
   },
   {
    "duration": 26,
    "start_time": "2021-07-14T17:49:03.666Z"
   },
   {
    "duration": 4,
    "start_time": "2021-07-14T17:49:03.694Z"
   },
   {
    "duration": 13,
    "start_time": "2021-07-14T17:49:03.699Z"
   },
   {
    "duration": 283,
    "start_time": "2021-07-14T17:49:03.713Z"
   },
   {
    "duration": 2,
    "start_time": "2021-07-14T17:49:49.056Z"
   },
   {
    "duration": 229,
    "start_time": "2021-07-14T17:49:53.582Z"
   },
   {
    "duration": 217,
    "start_time": "2021-07-14T17:50:38.570Z"
   },
   {
    "duration": 904,
    "start_time": "2021-07-14T17:50:45.287Z"
   },
   {
    "duration": 9,
    "start_time": "2021-07-14T17:50:46.193Z"
   },
   {
    "duration": 12,
    "start_time": "2021-07-14T17:50:46.203Z"
   },
   {
    "duration": 132,
    "start_time": "2021-07-14T17:50:46.217Z"
   },
   {
    "duration": 41,
    "start_time": "2021-07-14T17:50:46.351Z"
   },
   {
    "duration": 12,
    "start_time": "2021-07-14T17:50:46.394Z"
   },
   {
    "duration": 12,
    "start_time": "2021-07-14T17:50:46.407Z"
   },
   {
    "duration": 6,
    "start_time": "2021-07-14T17:50:46.421Z"
   },
   {
    "duration": 9,
    "start_time": "2021-07-14T17:50:46.429Z"
   },
   {
    "duration": 7,
    "start_time": "2021-07-14T17:50:46.440Z"
   },
   {
    "duration": 8,
    "start_time": "2021-07-14T17:50:46.448Z"
   },
   {
    "duration": 36,
    "start_time": "2021-07-14T17:50:46.458Z"
   },
   {
    "duration": 13,
    "start_time": "2021-07-14T17:50:46.496Z"
   },
   {
    "duration": 2,
    "start_time": "2021-07-14T17:50:46.510Z"
   },
   {
    "duration": 10,
    "start_time": "2021-07-14T17:50:58.681Z"
   },
   {
    "duration": 308,
    "start_time": "2021-07-14T19:38:55.607Z"
   },
   {
    "duration": 708,
    "start_time": "2021-07-14T19:39:16.477Z"
   },
   {
    "duration": 9,
    "start_time": "2021-07-14T19:39:17.188Z"
   },
   {
    "duration": 13,
    "start_time": "2021-07-14T19:39:17.199Z"
   },
   {
    "duration": 138,
    "start_time": "2021-07-14T19:39:17.214Z"
   },
   {
    "duration": 42,
    "start_time": "2021-07-14T19:39:17.354Z"
   },
   {
    "duration": 14,
    "start_time": "2021-07-14T19:39:17.397Z"
   },
   {
    "duration": 13,
    "start_time": "2021-07-14T19:39:17.412Z"
   },
   {
    "duration": 7,
    "start_time": "2021-07-14T19:39:17.427Z"
   },
   {
    "duration": 9,
    "start_time": "2021-07-14T19:39:17.435Z"
   },
   {
    "duration": 6,
    "start_time": "2021-07-14T19:39:17.445Z"
   },
   {
    "duration": 39,
    "start_time": "2021-07-14T19:39:17.453Z"
   },
   {
    "duration": 4,
    "start_time": "2021-07-14T19:39:17.493Z"
   },
   {
    "duration": 11,
    "start_time": "2021-07-14T19:39:17.499Z"
   },
   {
    "duration": 10,
    "start_time": "2021-07-14T19:39:17.512Z"
   },
   {
    "duration": 295,
    "start_time": "2021-07-14T19:39:17.523Z"
   },
   {
    "duration": 76,
    "start_time": "2021-07-14T19:40:50.473Z"
   },
   {
    "duration": 18,
    "start_time": "2021-07-14T19:41:01.357Z"
   },
   {
    "duration": 16,
    "start_time": "2021-07-14T19:41:31.972Z"
   },
   {
    "duration": 5505,
    "start_time": "2021-07-14T19:47:48.546Z"
   },
   {
    "duration": 230,
    "start_time": "2021-07-14T19:48:20.227Z"
   },
   {
    "duration": 13,
    "start_time": "2021-07-14T19:48:58.364Z"
   },
   {
    "duration": 228,
    "start_time": "2021-07-14T19:51:07.508Z"
   },
   {
    "duration": 660,
    "start_time": "2021-07-14T19:52:28.325Z"
   },
   {
    "duration": 7,
    "start_time": "2021-07-14T19:52:28.987Z"
   },
   {
    "duration": 16,
    "start_time": "2021-07-14T19:52:28.996Z"
   },
   {
    "duration": 127,
    "start_time": "2021-07-14T19:52:29.014Z"
   },
   {
    "duration": 32,
    "start_time": "2021-07-14T19:52:29.142Z"
   },
   {
    "duration": 20,
    "start_time": "2021-07-14T19:52:29.175Z"
   },
   {
    "duration": 11,
    "start_time": "2021-07-14T19:52:29.197Z"
   },
   {
    "duration": 6,
    "start_time": "2021-07-14T19:52:29.210Z"
   },
   {
    "duration": 9,
    "start_time": "2021-07-14T19:52:29.218Z"
   },
   {
    "duration": 7,
    "start_time": "2021-07-14T19:52:29.228Z"
   },
   {
    "duration": 7,
    "start_time": "2021-07-14T19:52:29.236Z"
   },
   {
    "duration": 4,
    "start_time": "2021-07-14T19:52:29.244Z"
   },
   {
    "duration": 46,
    "start_time": "2021-07-14T19:52:29.250Z"
   },
   {
    "duration": 7,
    "start_time": "2021-07-14T19:52:29.298Z"
   },
   {
    "duration": 315,
    "start_time": "2021-07-14T19:52:29.307Z"
   },
   {
    "duration": 77,
    "start_time": "2021-07-14T19:53:39.517Z"
   },
   {
    "duration": 13,
    "start_time": "2021-07-14T19:54:05.574Z"
   },
   {
    "duration": 13,
    "start_time": "2021-07-14T19:54:24.508Z"
   },
   {
    "duration": 686,
    "start_time": "2021-07-14T19:54:36.024Z"
   },
   {
    "duration": 9,
    "start_time": "2021-07-14T19:54:36.713Z"
   },
   {
    "duration": 13,
    "start_time": "2021-07-14T19:54:36.724Z"
   },
   {
    "duration": 139,
    "start_time": "2021-07-14T19:54:36.738Z"
   },
   {
    "duration": 37,
    "start_time": "2021-07-14T19:54:36.879Z"
   },
   {
    "duration": 12,
    "start_time": "2021-07-14T19:54:36.918Z"
   },
   {
    "duration": 14,
    "start_time": "2021-07-14T19:54:36.932Z"
   },
   {
    "duration": 11,
    "start_time": "2021-07-14T19:54:36.948Z"
   },
   {
    "duration": 32,
    "start_time": "2021-07-14T19:54:36.961Z"
   },
   {
    "duration": 8,
    "start_time": "2021-07-14T19:54:36.994Z"
   },
   {
    "duration": 9,
    "start_time": "2021-07-14T19:54:37.003Z"
   },
   {
    "duration": 6,
    "start_time": "2021-07-14T19:54:37.014Z"
   },
   {
    "duration": 13,
    "start_time": "2021-07-14T19:54:37.021Z"
   },
   {
    "duration": 8,
    "start_time": "2021-07-14T19:54:37.036Z"
   },
   {
    "duration": 50,
    "start_time": "2021-07-14T19:54:37.046Z"
   },
   {
    "duration": 314,
    "start_time": "2021-07-14T19:55:17.712Z"
   },
   {
    "duration": 5938,
    "start_time": "2021-07-14T19:55:25.015Z"
   },
   {
    "duration": 243,
    "start_time": "2021-07-14T19:56:28.745Z"
   },
   {
    "duration": 228,
    "start_time": "2021-07-14T19:58:52.492Z"
   },
   {
    "duration": 13,
    "start_time": "2021-07-14T20:00:25.461Z"
   },
   {
    "duration": 282,
    "start_time": "2021-07-14T20:02:13.182Z"
   },
   {
    "duration": 257,
    "start_time": "2021-07-14T20:03:51.182Z"
   },
   {
    "duration": 243,
    "start_time": "2021-07-14T20:04:04.152Z"
   },
   {
    "duration": 802,
    "start_time": "2021-07-14T20:10:19.469Z"
   },
   {
    "duration": 8,
    "start_time": "2021-07-14T20:10:20.273Z"
   },
   {
    "duration": 18,
    "start_time": "2021-07-14T20:10:20.282Z"
   },
   {
    "duration": 136,
    "start_time": "2021-07-14T20:10:20.301Z"
   },
   {
    "duration": 31,
    "start_time": "2021-07-14T20:10:20.438Z"
   },
   {
    "duration": 28,
    "start_time": "2021-07-14T20:10:20.470Z"
   },
   {
    "duration": 12,
    "start_time": "2021-07-14T20:10:20.499Z"
   },
   {
    "duration": 6,
    "start_time": "2021-07-14T20:10:20.513Z"
   },
   {
    "duration": 9,
    "start_time": "2021-07-14T20:10:20.520Z"
   },
   {
    "duration": 7,
    "start_time": "2021-07-14T20:10:20.530Z"
   },
   {
    "duration": 8,
    "start_time": "2021-07-14T20:10:20.538Z"
   },
   {
    "duration": 4,
    "start_time": "2021-07-14T20:10:20.547Z"
   },
   {
    "duration": 39,
    "start_time": "2021-07-14T20:10:20.552Z"
   },
   {
    "duration": 7,
    "start_time": "2021-07-14T20:10:20.593Z"
   },
   {
    "duration": 282,
    "start_time": "2021-07-14T20:10:20.601Z"
   },
   {
    "duration": 450,
    "start_time": "2021-07-14T20:11:09.506Z"
   },
   {
    "duration": 11,
    "start_time": "2021-07-14T20:11:33.067Z"
   },
   {
    "duration": 6,
    "start_time": "2021-07-14T20:11:44.138Z"
   },
   {
    "duration": 6,
    "start_time": "2021-07-14T20:14:45.488Z"
   },
   {
    "duration": 228,
    "start_time": "2021-07-14T20:18:42.989Z"
   },
   {
    "duration": 79,
    "start_time": "2021-07-14T20:19:07.029Z"
   },
   {
    "duration": 73,
    "start_time": "2021-07-14T20:19:48.359Z"
   },
   {
    "duration": 73,
    "start_time": "2021-07-14T20:20:05.727Z"
   },
   {
    "duration": 707,
    "start_time": "2021-07-14T20:21:12.867Z"
   },
   {
    "duration": 8,
    "start_time": "2021-07-14T20:21:13.576Z"
   },
   {
    "duration": 14,
    "start_time": "2021-07-14T20:21:13.585Z"
   },
   {
    "duration": 125,
    "start_time": "2021-07-14T20:21:13.600Z"
   },
   {
    "duration": 31,
    "start_time": "2021-07-14T20:21:13.727Z"
   },
   {
    "duration": 12,
    "start_time": "2021-07-14T20:21:13.759Z"
   },
   {
    "duration": 28,
    "start_time": "2021-07-14T20:21:13.772Z"
   },
   {
    "duration": 6,
    "start_time": "2021-07-14T20:21:13.802Z"
   },
   {
    "duration": 8,
    "start_time": "2021-07-14T20:21:13.809Z"
   },
   {
    "duration": 6,
    "start_time": "2021-07-14T20:21:13.819Z"
   },
   {
    "duration": 7,
    "start_time": "2021-07-14T20:21:13.826Z"
   },
   {
    "duration": 5,
    "start_time": "2021-07-14T20:21:13.834Z"
   },
   {
    "duration": 14,
    "start_time": "2021-07-14T20:21:13.840Z"
   },
   {
    "duration": 36,
    "start_time": "2021-07-14T20:21:13.855Z"
   },
   {
    "duration": 74,
    "start_time": "2021-07-14T20:21:13.892Z"
   },
   {
    "duration": 5,
    "start_time": "2021-07-14T20:22:56.413Z"
   },
   {
    "duration": 10,
    "start_time": "2021-07-14T20:23:14.232Z"
   },
   {
    "duration": 11,
    "start_time": "2021-07-14T20:27:21.851Z"
   },
   {
    "duration": 11,
    "start_time": "2021-07-14T20:28:17.929Z"
   },
   {
    "duration": 10,
    "start_time": "2021-07-14T20:29:04.249Z"
   },
   {
    "duration": 13,
    "start_time": "2021-07-14T20:31:27.501Z"
   },
   {
    "duration": 314,
    "start_time": "2021-07-14T20:31:54.898Z"
   },
   {
    "duration": 17,
    "start_time": "2021-07-14T20:38:51.817Z"
   },
   {
    "duration": 11,
    "start_time": "2021-07-14T20:42:29.861Z"
   },
   {
    "duration": 9,
    "start_time": "2021-07-14T20:49:34.947Z"
   },
   {
    "duration": 10,
    "start_time": "2021-07-14T20:49:58.545Z"
   },
   {
    "duration": 376,
    "start_time": "2021-07-14T20:51:13.331Z"
   },
   {
    "duration": 221,
    "start_time": "2021-07-14T20:51:22.848Z"
   },
   {
    "duration": 10,
    "start_time": "2021-07-14T20:51:34.939Z"
   },
   {
    "duration": 5,
    "start_time": "2021-07-14T20:52:32.262Z"
   },
   {
    "duration": 10,
    "start_time": "2021-07-14T20:52:38.513Z"
   },
   {
    "duration": 4,
    "start_time": "2021-07-14T21:27:06.892Z"
   },
   {
    "duration": 7,
    "start_time": "2021-07-14T21:27:24.515Z"
   },
   {
    "duration": 7,
    "start_time": "2021-07-14T21:30:53.401Z"
   },
   {
    "duration": 9,
    "start_time": "2021-07-14T21:37:05.199Z"
   },
   {
    "duration": 32,
    "start_time": "2021-07-14T21:42:37.701Z"
   },
   {
    "duration": 5,
    "start_time": "2021-07-14T21:48:19.669Z"
   },
   {
    "duration": 7,
    "start_time": "2021-07-14T21:49:23.213Z"
   },
   {
    "duration": 6,
    "start_time": "2021-07-14T21:49:49.418Z"
   },
   {
    "duration": 7,
    "start_time": "2021-07-14T21:49:56.603Z"
   },
   {
    "duration": 87,
    "start_time": "2021-07-14T21:51:06.721Z"
   },
   {
    "duration": 212,
    "start_time": "2021-07-14T21:51:13.818Z"
   },
   {
    "duration": 231,
    "start_time": "2021-07-14T21:52:05.169Z"
   },
   {
    "duration": 6,
    "start_time": "2021-07-14T21:58:59.978Z"
   },
   {
    "duration": 215,
    "start_time": "2021-07-14T21:59:26.833Z"
   },
   {
    "duration": 214,
    "start_time": "2021-07-14T22:08:32.984Z"
   },
   {
    "duration": 222,
    "start_time": "2021-07-14T22:08:42.964Z"
   },
   {
    "duration": 237,
    "start_time": "2021-07-14T22:08:58.416Z"
   },
   {
    "duration": 641,
    "start_time": "2021-07-14T22:09:39.835Z"
   },
   {
    "duration": 8,
    "start_time": "2021-07-14T22:12:19.203Z"
   },
   {
    "duration": 8,
    "start_time": "2021-07-14T22:12:37.904Z"
   },
   {
    "duration": 9,
    "start_time": "2021-07-14T22:12:58.755Z"
   },
   {
    "duration": 9,
    "start_time": "2021-07-14T22:13:58.283Z"
   },
   {
    "duration": 10,
    "start_time": "2021-07-14T22:22:16.090Z"
   },
   {
    "duration": 10,
    "start_time": "2021-07-14T22:23:30.409Z"
   },
   {
    "duration": 12,
    "start_time": "2021-07-14T22:26:19.320Z"
   },
   {
    "duration": 9,
    "start_time": "2021-07-14T22:27:01.168Z"
   },
   {
    "duration": 10,
    "start_time": "2021-07-14T22:28:34.456Z"
   },
   {
    "duration": 7,
    "start_time": "2021-07-14T22:30:17.318Z"
   },
   {
    "duration": 9,
    "start_time": "2021-07-14T22:30:50.422Z"
   },
   {
    "duration": 8,
    "start_time": "2021-07-14T22:31:00.288Z"
   },
   {
    "duration": 8,
    "start_time": "2021-07-14T22:31:12.798Z"
   },
   {
    "duration": 11,
    "start_time": "2021-07-14T22:33:44.685Z"
   },
   {
    "duration": 8,
    "start_time": "2021-07-14T22:35:08.305Z"
   },
   {
    "duration": 72,
    "start_time": "2021-07-14T22:35:45.412Z"
   },
   {
    "duration": 9,
    "start_time": "2021-07-14T22:35:52.102Z"
   },
   {
    "duration": 11,
    "start_time": "2021-07-14T22:36:42.019Z"
   },
   {
    "duration": 14,
    "start_time": "2021-07-14T22:36:53.677Z"
   },
   {
    "duration": 89,
    "start_time": "2021-07-14T22:39:57.261Z"
   },
   {
    "duration": 45,
    "start_time": "2021-07-14T22:40:35.348Z"
   },
   {
    "duration": 38,
    "start_time": "2021-07-14T22:41:14.480Z"
   },
   {
    "duration": 13,
    "start_time": "2021-07-14T22:43:43.237Z"
   },
   {
    "duration": 15,
    "start_time": "2021-07-14T22:44:08.462Z"
   },
   {
    "duration": 15,
    "start_time": "2021-07-14T22:45:00.083Z"
   },
   {
    "duration": 80,
    "start_time": "2021-07-14T22:45:14.513Z"
   },
   {
    "duration": 14,
    "start_time": "2021-07-14T22:45:22.698Z"
   },
   {
    "duration": 56,
    "start_time": "2021-07-14T22:47:00.228Z"
   },
   {
    "duration": 57,
    "start_time": "2021-07-14T22:47:28.478Z"
   },
   {
    "duration": 703,
    "start_time": "2021-07-14T22:47:33.768Z"
   },
   {
    "duration": 8,
    "start_time": "2021-07-14T22:47:34.473Z"
   },
   {
    "duration": 18,
    "start_time": "2021-07-14T22:47:34.483Z"
   },
   {
    "duration": 132,
    "start_time": "2021-07-14T22:47:34.503Z"
   },
   {
    "duration": 31,
    "start_time": "2021-07-14T22:47:34.637Z"
   },
   {
    "duration": 24,
    "start_time": "2021-07-14T22:47:34.670Z"
   },
   {
    "duration": 13,
    "start_time": "2021-07-14T22:47:34.696Z"
   },
   {
    "duration": 6,
    "start_time": "2021-07-14T22:47:34.711Z"
   },
   {
    "duration": 8,
    "start_time": "2021-07-14T22:47:34.719Z"
   },
   {
    "duration": 8,
    "start_time": "2021-07-14T22:47:34.728Z"
   },
   {
    "duration": 7,
    "start_time": "2021-07-14T22:47:34.738Z"
   },
   {
    "duration": 5,
    "start_time": "2021-07-14T22:47:34.747Z"
   },
   {
    "duration": 44,
    "start_time": "2021-07-14T22:47:34.753Z"
   },
   {
    "duration": 9,
    "start_time": "2021-07-14T22:47:34.798Z"
   },
   {
    "duration": 8,
    "start_time": "2021-07-14T22:47:34.808Z"
   },
   {
    "duration": 14,
    "start_time": "2021-07-14T22:47:34.817Z"
   },
   {
    "duration": 70,
    "start_time": "2021-07-14T22:47:34.832Z"
   },
   {
    "duration": -1167,
    "start_time": "2021-07-14T22:47:36.071Z"
   },
   {
    "duration": -1168,
    "start_time": "2021-07-14T22:47:36.073Z"
   },
   {
    "duration": -1170,
    "start_time": "2021-07-14T22:47:36.076Z"
   },
   {
    "duration": 4,
    "start_time": "2021-07-14T22:47:54.004Z"
   },
   {
    "duration": 35,
    "start_time": "2021-07-14T22:47:56.900Z"
   },
   {
    "duration": 57,
    "start_time": "2021-07-14T22:48:00.772Z"
   },
   {
    "duration": 43,
    "start_time": "2021-07-14T22:48:40.318Z"
   },
   {
    "duration": 42,
    "start_time": "2021-07-14T22:49:08.669Z"
   },
   {
    "duration": 42,
    "start_time": "2021-07-14T22:49:22.461Z"
   },
   {
    "duration": 44,
    "start_time": "2021-07-14T22:51:41.557Z"
   },
   {
    "duration": 22,
    "start_time": "2021-07-14T22:51:50.984Z"
   },
   {
    "duration": 8,
    "start_time": "2021-07-14T22:52:13.691Z"
   },
   {
    "duration": 710,
    "start_time": "2021-07-14T22:52:20.071Z"
   },
   {
    "duration": 8,
    "start_time": "2021-07-14T22:52:20.783Z"
   },
   {
    "duration": 11,
    "start_time": "2021-07-14T22:52:20.795Z"
   },
   {
    "duration": 135,
    "start_time": "2021-07-14T22:52:20.807Z"
   },
   {
    "duration": 31,
    "start_time": "2021-07-14T22:52:20.943Z"
   },
   {
    "duration": 23,
    "start_time": "2021-07-14T22:52:20.976Z"
   },
   {
    "duration": 11,
    "start_time": "2021-07-14T22:52:21.001Z"
   },
   {
    "duration": 6,
    "start_time": "2021-07-14T22:52:21.014Z"
   },
   {
    "duration": 10,
    "start_time": "2021-07-14T22:52:21.021Z"
   },
   {
    "duration": 7,
    "start_time": "2021-07-14T22:52:21.032Z"
   },
   {
    "duration": 7,
    "start_time": "2021-07-14T22:52:21.040Z"
   },
   {
    "duration": 4,
    "start_time": "2021-07-14T22:52:21.048Z"
   },
   {
    "duration": 40,
    "start_time": "2021-07-14T22:52:21.053Z"
   },
   {
    "duration": 8,
    "start_time": "2021-07-14T22:52:21.094Z"
   },
   {
    "duration": 7,
    "start_time": "2021-07-14T22:52:21.103Z"
   },
   {
    "duration": 13,
    "start_time": "2021-07-14T22:52:21.111Z"
   },
   {
    "duration": 3,
    "start_time": "2021-07-14T22:52:21.125Z"
   },
   {
    "duration": 35,
    "start_time": "2021-07-14T22:52:21.130Z"
   },
   {
    "duration": 5905,
    "start_time": "2021-07-14T22:52:21.166Z"
   },
   {
    "duration": 19,
    "start_time": "2021-07-14T22:54:16.792Z"
   },
   {
    "duration": 19,
    "start_time": "2021-07-14T22:54:41.239Z"
   },
   {
    "duration": 15,
    "start_time": "2021-07-14T22:55:16.119Z"
   },
   {
    "duration": 44,
    "start_time": "2021-07-14T22:55:48.520Z"
   },
   {
    "duration": 12,
    "start_time": "2021-07-14T22:59:26.849Z"
   },
   {
    "duration": 4,
    "start_time": "2021-07-14T23:04:39.423Z"
   },
   {
    "duration": 38,
    "start_time": "2021-07-14T23:05:35.027Z"
   },
   {
    "duration": 87,
    "start_time": "2021-07-14T23:13:05.309Z"
   },
   {
    "duration": 334,
    "start_time": "2021-07-15T12:11:16.449Z"
   },
   {
    "duration": 961,
    "start_time": "2021-07-15T12:11:23.056Z"
   },
   {
    "duration": 14,
    "start_time": "2021-07-15T12:11:24.019Z"
   },
   {
    "duration": 29,
    "start_time": "2021-07-15T12:11:24.036Z"
   },
   {
    "duration": 232,
    "start_time": "2021-07-15T12:11:24.068Z"
   },
   {
    "duration": 72,
    "start_time": "2021-07-15T12:11:24.302Z"
   },
   {
    "duration": 26,
    "start_time": "2021-07-15T12:11:24.376Z"
   },
   {
    "duration": 18,
    "start_time": "2021-07-15T12:11:24.405Z"
   },
   {
    "duration": 34,
    "start_time": "2021-07-15T12:11:24.426Z"
   },
   {
    "duration": 17,
    "start_time": "2021-07-15T12:11:24.463Z"
   },
   {
    "duration": 11,
    "start_time": "2021-07-15T12:11:24.483Z"
   },
   {
    "duration": 11,
    "start_time": "2021-07-15T12:11:24.497Z"
   },
   {
    "duration": 45,
    "start_time": "2021-07-15T12:11:24.511Z"
   },
   {
    "duration": 13,
    "start_time": "2021-07-15T12:11:24.558Z"
   },
   {
    "duration": 12,
    "start_time": "2021-07-15T12:11:24.573Z"
   },
   {
    "duration": 9,
    "start_time": "2021-07-15T12:11:24.587Z"
   },
   {
    "duration": 58,
    "start_time": "2021-07-15T12:11:24.599Z"
   },
   {
    "duration": 5,
    "start_time": "2021-07-15T12:11:24.660Z"
   },
   {
    "duration": 57,
    "start_time": "2021-07-15T12:11:24.667Z"
   },
   {
    "duration": 37,
    "start_time": "2021-07-15T12:11:24.727Z"
   },
   {
    "duration": 89,
    "start_time": "2021-07-15T12:11:24.766Z"
   },
   {
    "duration": 10,
    "start_time": "2021-07-15T12:11:24.858Z"
   },
   {
    "duration": 275,
    "start_time": "2021-07-15T12:12:20.594Z"
   },
   {
    "duration": 583,
    "start_time": "2021-07-15T12:12:33.553Z"
   },
   {
    "duration": 577,
    "start_time": "2021-07-15T12:13:16.066Z"
   },
   {
    "duration": -1597,
    "start_time": "2021-07-15T12:19:12.947Z"
   },
   {
    "duration": 591,
    "start_time": "2021-07-15T12:19:19.048Z"
   },
   {
    "duration": 6930,
    "start_time": "2021-07-15T12:19:40.855Z"
   },
   {
    "duration": 8,
    "start_time": "2021-07-15T12:20:30.922Z"
   },
   {
    "duration": 5707,
    "start_time": "2021-07-15T12:20:48.432Z"
   },
   {
    "duration": 355,
    "start_time": "2021-07-15T12:21:11.696Z"
   },
   {
    "duration": 36,
    "start_time": "2021-07-15T12:22:03.311Z"
   },
   {
    "duration": 49,
    "start_time": "2021-07-15T12:23:53.898Z"
   },
   {
    "duration": 36,
    "start_time": "2021-07-15T12:24:25.969Z"
   },
   {
    "duration": 306,
    "start_time": "2021-07-15T12:26:48.987Z"
   },
   {
    "duration": 197,
    "start_time": "2021-07-15T12:27:18.303Z"
   },
   {
    "duration": 118,
    "start_time": "2021-07-15T12:36:36.118Z"
   },
   {
    "duration": -1600,
    "start_time": "2021-07-15T12:41:11.663Z"
   },
   {
    "duration": 554,
    "start_time": "2021-07-15T12:41:17.259Z"
   },
   {
    "duration": 65,
    "start_time": "2021-07-15T12:42:29.195Z"
   },
   {
    "duration": 56,
    "start_time": "2021-07-15T12:42:40.485Z"
   },
   {
    "duration": 55,
    "start_time": "2021-07-15T12:42:46.811Z"
   },
   {
    "duration": 56,
    "start_time": "2021-07-15T12:42:54.859Z"
   },
   {
    "duration": 37,
    "start_time": "2021-07-15T12:43:08.011Z"
   },
   {
    "duration": 57,
    "start_time": "2021-07-15T12:43:18.393Z"
   },
   {
    "duration": 39,
    "start_time": "2021-07-15T12:43:27.772Z"
   },
   {
    "duration": 3073,
    "start_time": "2021-07-15T12:44:16.201Z"
   },
   {
    "duration": 2955,
    "start_time": "2021-07-15T12:52:44.234Z"
   },
   {
    "duration": 539,
    "start_time": "2021-07-15T12:52:54.528Z"
   },
   {
    "duration": 2844,
    "start_time": "2021-07-15T12:54:27.072Z"
   },
   {
    "duration": 2877,
    "start_time": "2021-07-15T12:54:37.911Z"
   },
   {
    "duration": 37,
    "start_time": "2021-07-15T12:55:55.242Z"
   },
   {
    "duration": 58,
    "start_time": "2021-07-15T12:56:19.600Z"
   },
   {
    "duration": 37,
    "start_time": "2021-07-15T12:56:26.331Z"
   },
   {
    "duration": 96,
    "start_time": "2021-07-15T12:56:38.040Z"
   },
   {
    "duration": 47,
    "start_time": "2021-07-15T12:56:43.208Z"
   },
   {
    "duration": 37,
    "start_time": "2021-07-15T12:56:56.107Z"
   },
   {
    "duration": 37,
    "start_time": "2021-07-15T12:57:04.344Z"
   },
   {
    "duration": 47,
    "start_time": "2021-07-15T13:01:27.870Z"
   },
   {
    "duration": 31,
    "start_time": "2021-07-15T13:03:07.209Z"
   },
   {
    "duration": 55,
    "start_time": "2021-07-15T13:03:20.184Z"
   },
   {
    "duration": 10,
    "start_time": "2021-07-15T13:18:11.562Z"
   },
   {
    "duration": 14,
    "start_time": "2021-07-15T13:18:45.710Z"
   },
   {
    "duration": 955,
    "start_time": "2021-07-15T13:23:04.085Z"
   },
   {
    "duration": 1110,
    "start_time": "2021-07-15T13:23:25.486Z"
   },
   {
    "duration": 1113,
    "start_time": "2021-07-15T13:25:07.527Z"
   },
   {
    "duration": 1294,
    "start_time": "2021-07-15T13:25:14.334Z"
   },
   {
    "duration": 964,
    "start_time": "2021-07-15T13:25:37.560Z"
   },
   {
    "duration": 13,
    "start_time": "2021-07-15T13:25:38.528Z"
   },
   {
    "duration": 18,
    "start_time": "2021-07-15T13:25:38.556Z"
   },
   {
    "duration": 254,
    "start_time": "2021-07-15T13:25:38.577Z"
   },
   {
    "duration": 70,
    "start_time": "2021-07-15T13:25:38.833Z"
   },
   {
    "duration": 19,
    "start_time": "2021-07-15T13:25:38.905Z"
   },
   {
    "duration": 44,
    "start_time": "2021-07-15T13:25:38.926Z"
   },
   {
    "duration": 11,
    "start_time": "2021-07-15T13:25:38.974Z"
   },
   {
    "duration": 16,
    "start_time": "2021-07-15T13:25:38.989Z"
   },
   {
    "duration": 15,
    "start_time": "2021-07-15T13:25:39.008Z"
   },
   {
    "duration": 42,
    "start_time": "2021-07-15T13:25:39.026Z"
   },
   {
    "duration": 8,
    "start_time": "2021-07-15T13:25:39.070Z"
   },
   {
    "duration": 18,
    "start_time": "2021-07-15T13:25:39.081Z"
   },
   {
    "duration": 15,
    "start_time": "2021-07-15T13:25:39.102Z"
   },
   {
    "duration": 15,
    "start_time": "2021-07-15T13:25:39.157Z"
   },
   {
    "duration": 32,
    "start_time": "2021-07-15T13:25:39.175Z"
   },
   {
    "duration": 6,
    "start_time": "2021-07-15T13:25:39.210Z"
   },
   {
    "duration": 84,
    "start_time": "2021-07-15T13:25:39.219Z"
   },
   {
    "duration": 18,
    "start_time": "2021-07-15T13:25:39.306Z"
   },
   {
    "duration": 89,
    "start_time": "2021-07-15T13:25:39.326Z"
   },
   {
    "duration": 639,
    "start_time": "2021-07-15T13:25:39.417Z"
   },
   {
    "duration": 43,
    "start_time": "2021-07-15T13:25:40.058Z"
   },
   {
    "duration": 3124,
    "start_time": "2021-07-15T13:25:40.106Z"
   },
   {
    "duration": 54,
    "start_time": "2021-07-15T13:25:43.233Z"
   },
   {
    "duration": 669,
    "start_time": "2021-07-15T13:25:43.289Z"
   },
   {
    "duration": 13,
    "start_time": "2021-07-15T13:25:43.960Z"
   },
   {
    "duration": 783,
    "start_time": "2021-07-15T13:25:43.975Z"
   },
   {
    "duration": 95,
    "start_time": "2021-07-15T13:25:44.761Z"
   },
   {
    "duration": 554,
    "start_time": "2021-07-15T13:42:18.478Z"
   },
   {
    "duration": 27,
    "start_time": "2021-07-15T13:44:23.079Z"
   },
   {
    "duration": 58,
    "start_time": "2021-07-15T13:44:33.103Z"
   },
   {
    "duration": 559,
    "start_time": "2021-07-15T13:46:00.432Z"
   },
   {
    "duration": 973,
    "start_time": "2021-07-15T13:46:11.692Z"
   },
   {
    "duration": 14,
    "start_time": "2021-07-15T13:46:12.667Z"
   },
   {
    "duration": 19,
    "start_time": "2021-07-15T13:46:12.685Z"
   },
   {
    "duration": 261,
    "start_time": "2021-07-15T13:46:12.708Z"
   },
   {
    "duration": 58,
    "start_time": "2021-07-15T13:46:12.972Z"
   },
   {
    "duration": 35,
    "start_time": "2021-07-15T13:46:13.033Z"
   },
   {
    "duration": 18,
    "start_time": "2021-07-15T13:46:13.070Z"
   },
   {
    "duration": 9,
    "start_time": "2021-07-15T13:46:13.092Z"
   },
   {
    "duration": 14,
    "start_time": "2021-07-15T13:46:13.104Z"
   },
   {
    "duration": 44,
    "start_time": "2021-07-15T13:46:13.120Z"
   },
   {
    "duration": 11,
    "start_time": "2021-07-15T13:46:13.166Z"
   },
   {
    "duration": 7,
    "start_time": "2021-07-15T13:46:13.180Z"
   },
   {
    "duration": 13,
    "start_time": "2021-07-15T13:46:13.189Z"
   },
   {
    "duration": 52,
    "start_time": "2021-07-15T13:46:13.205Z"
   },
   {
    "duration": 10,
    "start_time": "2021-07-15T13:46:13.260Z"
   },
   {
    "duration": 21,
    "start_time": "2021-07-15T13:46:13.272Z"
   },
   {
    "duration": 5,
    "start_time": "2021-07-15T13:46:13.296Z"
   },
   {
    "duration": 87,
    "start_time": "2021-07-15T13:46:13.303Z"
   },
   {
    "duration": 17,
    "start_time": "2021-07-15T13:46:13.393Z"
   },
   {
    "duration": 87,
    "start_time": "2021-07-15T13:46:13.412Z"
   },
   {
    "duration": 527,
    "start_time": "2021-07-15T13:46:13.501Z"
   },
   {
    "duration": 55,
    "start_time": "2021-07-15T13:46:14.031Z"
   },
   {
    "duration": 2807,
    "start_time": "2021-07-15T13:46:14.091Z"
   },
   {
    "duration": 56,
    "start_time": "2021-07-15T13:46:16.901Z"
   },
   {
    "duration": 555,
    "start_time": "2021-07-15T13:46:16.960Z"
   },
   {
    "duration": 15,
    "start_time": "2021-07-15T13:46:17.517Z"
   },
   {
    "duration": 693,
    "start_time": "2021-07-15T13:46:17.535Z"
   },
   {
    "duration": 537,
    "start_time": "2021-07-15T13:46:18.230Z"
   },
   {
    "duration": 24,
    "start_time": "2021-07-15T13:46:18.769Z"
   },
   {
    "duration": 7,
    "start_time": "2021-07-15T13:46:46.042Z"
   },
   {
    "duration": 10,
    "start_time": "2021-07-15T13:46:52.777Z"
   },
   {
    "duration": 7,
    "start_time": "2021-07-15T13:47:12.233Z"
   },
   {
    "duration": 8,
    "start_time": "2021-07-15T13:48:28.792Z"
   },
   {
    "duration": 542,
    "start_time": "2021-07-15T13:48:37.600Z"
   },
   {
    "duration": 13,
    "start_time": "2021-07-15T13:54:25.977Z"
   },
   {
    "duration": 100,
    "start_time": "2021-07-15T13:55:17.416Z"
   },
   {
    "duration": 63,
    "start_time": "2021-07-15T13:55:59.983Z"
   },
   {
    "duration": 97,
    "start_time": "2021-07-15T14:04:34.286Z"
   },
   {
    "duration": 101,
    "start_time": "2021-07-15T14:04:42.731Z"
   },
   {
    "duration": 408,
    "start_time": "2021-07-15T14:05:25.620Z"
   },
   {
    "duration": 8,
    "start_time": "2021-07-15T14:06:07.028Z"
   },
   {
    "duration": 321,
    "start_time": "2021-07-15T14:06:33.450Z"
   },
   {
    "duration": 536,
    "start_time": "2021-07-15T14:08:43.746Z"
   },
   {
    "duration": 542,
    "start_time": "2021-07-15T14:41:18.544Z"
   },
   {
    "duration": 581,
    "start_time": "2021-07-15T14:41:39.991Z"
   },
   {
    "duration": 2710,
    "start_time": "2021-07-15T14:41:56.173Z"
   },
   {
    "duration": 880,
    "start_time": "2021-07-15T14:43:11.717Z"
   },
   {
    "duration": 824,
    "start_time": "2021-07-15T14:45:11.252Z"
   },
   {
    "duration": 325,
    "start_time": "2021-07-15T14:54:51.027Z"
   },
   {
    "duration": 659,
    "start_time": "2021-07-15T15:23:06.192Z"
   },
   {
    "duration": 7,
    "start_time": "2021-07-15T15:43:49.688Z"
   },
   {
    "duration": 753,
    "start_time": "2021-07-15T15:49:40.218Z"
   },
   {
    "duration": 739,
    "start_time": "2021-07-15T15:51:58.464Z"
   },
   {
    "duration": 1417,
    "start_time": "2021-07-15T15:53:19.004Z"
   },
   {
    "duration": 807,
    "start_time": "2021-07-15T15:53:41.789Z"
   },
   {
    "duration": 691,
    "start_time": "2021-07-15T15:57:54.589Z"
   },
   {
    "duration": 691,
    "start_time": "2021-07-15T15:58:45.891Z"
   },
   {
    "duration": 312,
    "start_time": "2021-07-15T16:08:19.089Z"
   },
   {
    "duration": 158,
    "start_time": "2021-07-15T16:08:24.882Z"
   },
   {
    "duration": 87,
    "start_time": "2021-07-15T16:08:32.172Z"
   },
   {
    "duration": 105,
    "start_time": "2021-07-15T16:08:45.697Z"
   },
   {
    "duration": 4,
    "start_time": "2021-07-15T16:09:27.529Z"
   },
   {
    "duration": 286,
    "start_time": "2021-07-15T16:09:32.122Z"
   },
   {
    "duration": 5,
    "start_time": "2021-07-15T16:09:54.644Z"
   },
   {
    "duration": 265,
    "start_time": "2021-07-15T16:09:56.378Z"
   },
   {
    "duration": -1674,
    "start_time": "2021-07-15T16:10:15.502Z"
   },
   {
    "duration": 970,
    "start_time": "2021-07-15T16:10:42.154Z"
   },
   {
    "duration": 29,
    "start_time": "2021-07-15T16:10:43.126Z"
   },
   {
    "duration": 19,
    "start_time": "2021-07-15T16:10:43.159Z"
   },
   {
    "duration": 243,
    "start_time": "2021-07-15T16:10:43.182Z"
   },
   {
    "duration": 62,
    "start_time": "2021-07-15T16:10:43.427Z"
   },
   {
    "duration": 19,
    "start_time": "2021-07-15T16:10:43.491Z"
   },
   {
    "duration": 17,
    "start_time": "2021-07-15T16:10:43.512Z"
   },
   {
    "duration": 8,
    "start_time": "2021-07-15T16:10:43.556Z"
   },
   {
    "duration": 12,
    "start_time": "2021-07-15T16:10:43.568Z"
   },
   {
    "duration": 10,
    "start_time": "2021-07-15T16:10:43.583Z"
   },
   {
    "duration": 11,
    "start_time": "2021-07-15T16:10:43.595Z"
   },
   {
    "duration": 48,
    "start_time": "2021-07-15T16:10:43.608Z"
   },
   {
    "duration": 13,
    "start_time": "2021-07-15T16:10:43.658Z"
   },
   {
    "duration": 16,
    "start_time": "2021-07-15T16:10:43.674Z"
   },
   {
    "duration": 13,
    "start_time": "2021-07-15T16:10:43.693Z"
   },
   {
    "duration": 60,
    "start_time": "2021-07-15T16:10:43.709Z"
   },
   {
    "duration": 7,
    "start_time": "2021-07-15T16:10:43.772Z"
   },
   {
    "duration": 79,
    "start_time": "2021-07-15T16:10:43.781Z"
   },
   {
    "duration": 20,
    "start_time": "2021-07-15T16:10:43.863Z"
   },
   {
    "duration": 90,
    "start_time": "2021-07-15T16:10:43.886Z"
   },
   {
    "duration": 611,
    "start_time": "2021-07-15T16:10:43.979Z"
   },
   {
    "duration": 40,
    "start_time": "2021-07-15T16:10:44.593Z"
   },
   {
    "duration": 2883,
    "start_time": "2021-07-15T16:10:44.635Z"
   },
   {
    "duration": 54,
    "start_time": "2021-07-15T16:10:47.521Z"
   },
   {
    "duration": 562,
    "start_time": "2021-07-15T16:10:47.578Z"
   },
   {
    "duration": 19,
    "start_time": "2021-07-15T16:10:48.143Z"
   },
   {
    "duration": 638,
    "start_time": "2021-07-15T16:10:48.167Z"
   },
   {
    "duration": 529,
    "start_time": "2021-07-15T16:10:48.808Z"
   },
   {
    "duration": 785,
    "start_time": "2021-07-15T16:10:49.340Z"
   },
   {
    "duration": 4,
    "start_time": "2021-07-15T16:10:50.127Z"
   },
   {
    "duration": 6821,
    "start_time": "2021-07-15T16:10:50.134Z"
   },
   {
    "duration": -1683,
    "start_time": "2021-07-15T16:10:58.642Z"
   },
   {
    "duration": -1685,
    "start_time": "2021-07-15T16:10:58.646Z"
   },
   {
    "duration": -1686,
    "start_time": "2021-07-15T16:10:58.649Z"
   },
   {
    "duration": 375,
    "start_time": "2021-07-15T16:11:30.799Z"
   },
   {
    "duration": 4,
    "start_time": "2021-07-15T16:11:55.661Z"
   },
   {
    "duration": 267,
    "start_time": "2021-07-15T16:11:58.989Z"
   },
   {
    "duration": 794,
    "start_time": "2021-07-15T16:12:04.848Z"
   },
   {
    "duration": 86,
    "start_time": "2021-07-15T16:15:48.725Z"
   },
   {
    "duration": 4,
    "start_time": "2021-07-15T16:18:23.298Z"
   },
   {
    "duration": 1062,
    "start_time": "2021-07-15T16:18:26.114Z"
   },
   {
    "duration": 5,
    "start_time": "2021-07-15T16:19:03.264Z"
   },
   {
    "duration": 819,
    "start_time": "2021-07-15T16:19:05.649Z"
   },
   {
    "duration": 705,
    "start_time": "2021-07-15T16:20:37.456Z"
   },
   {
    "duration": 4,
    "start_time": "2021-07-15T16:20:45.200Z"
   },
   {
    "duration": 769,
    "start_time": "2021-07-15T16:20:46.793Z"
   },
   {
    "duration": 692,
    "start_time": "2021-07-15T16:20:52.066Z"
   },
   {
    "duration": 7753,
    "start_time": "2021-07-15T16:22:35.633Z"
   },
   {
    "duration": 708,
    "start_time": "2021-07-15T16:22:46.961Z"
   },
   {
    "duration": 544,
    "start_time": "2021-07-15T16:33:07.600Z"
   },
   {
    "duration": 7,
    "start_time": "2021-07-15T16:51:13.547Z"
   },
   {
    "duration": 33,
    "start_time": "2021-07-15T16:52:19.568Z"
   },
   {
    "duration": 313,
    "start_time": "2021-07-15T16:54:02.727Z"
   },
   {
    "duration": 13,
    "start_time": "2021-07-15T16:54:10.741Z"
   },
   {
    "duration": 5,
    "start_time": "2021-07-15T16:56:16.801Z"
   },
   {
    "duration": 696,
    "start_time": "2021-07-15T16:56:17.640Z"
   },
   {
    "duration": 746,
    "start_time": "2021-07-15T16:56:32.648Z"
   },
   {
    "duration": 691,
    "start_time": "2021-07-15T16:56:44.928Z"
   },
   {
    "duration": 31,
    "start_time": "2021-07-15T16:57:03.434Z"
   },
   {
    "duration": 13,
    "start_time": "2021-07-15T16:57:37.598Z"
   },
   {
    "duration": 4,
    "start_time": "2021-07-15T17:01:05.744Z"
   },
   {
    "duration": 982,
    "start_time": "2021-07-15T17:01:06.942Z"
   },
   {
    "duration": 701,
    "start_time": "2021-07-15T17:01:15.230Z"
   },
   {
    "duration": 655,
    "start_time": "2021-07-15T17:01:21.101Z"
   },
   {
    "duration": 31,
    "start_time": "2021-07-15T17:01:40.380Z"
   },
   {
    "duration": 11,
    "start_time": "2021-07-15T17:01:41.173Z"
   },
   {
    "duration": 10,
    "start_time": "2021-07-15T17:01:41.996Z"
   },
   {
    "duration": 206,
    "start_time": "2021-07-15T17:06:19.797Z"
   },
   {
    "duration": 206,
    "start_time": "2021-07-15T17:06:46.011Z"
   },
   {
    "duration": 278,
    "start_time": "2021-07-15T17:08:01.245Z"
   },
   {
    "duration": 215,
    "start_time": "2021-07-15T17:08:02.507Z"
   },
   {
    "duration": 207,
    "start_time": "2021-07-15T17:09:28.883Z"
   },
   {
    "duration": 32,
    "start_time": "2021-07-15T17:10:53.595Z"
   },
   {
    "duration": 212,
    "start_time": "2021-07-15T17:10:54.194Z"
   },
   {
    "duration": 221,
    "start_time": "2021-07-15T17:13:04.333Z"
   },
   {
    "duration": 318,
    "start_time": "2021-07-15T17:13:26.257Z"
   },
   {
    "duration": 224,
    "start_time": "2021-07-15T17:13:47.324Z"
   },
   {
    "duration": 245,
    "start_time": "2021-07-15T17:14:11.104Z"
   },
   {
    "duration": 213,
    "start_time": "2021-07-15T17:14:31.083Z"
   },
   {
    "duration": 213,
    "start_time": "2021-07-15T17:14:44.280Z"
   },
   {
    "duration": 220,
    "start_time": "2021-07-15T17:15:00.402Z"
   },
   {
    "duration": 286,
    "start_time": "2021-07-15T17:16:18.472Z"
   },
   {
    "duration": 228,
    "start_time": "2021-07-15T17:16:31.352Z"
   },
   {
    "duration": 219,
    "start_time": "2021-07-15T17:16:39.273Z"
   },
   {
    "duration": 105,
    "start_time": "2021-07-15T17:17:27.281Z"
   },
   {
    "duration": 212,
    "start_time": "2021-07-15T17:17:32.906Z"
   },
   {
    "duration": 212,
    "start_time": "2021-07-15T17:17:40.009Z"
   },
   {
    "duration": 219,
    "start_time": "2021-07-15T17:18:00.642Z"
   },
   {
    "duration": 222,
    "start_time": "2021-07-15T17:18:48.834Z"
   },
   {
    "duration": 234,
    "start_time": "2021-07-15T17:20:55.479Z"
   },
   {
    "duration": 55,
    "start_time": "2021-07-15T17:25:21.067Z"
   },
   {
    "duration": 68,
    "start_time": "2021-07-15T17:25:43.228Z"
   },
   {
    "duration": 19,
    "start_time": "2021-07-15T17:25:43.300Z"
   },
   {
    "duration": 95,
    "start_time": "2021-07-15T17:25:43.322Z"
   },
   {
    "duration": 561,
    "start_time": "2021-07-15T17:25:43.420Z"
   },
   {
    "duration": 42,
    "start_time": "2021-07-15T17:25:43.983Z"
   },
   {
    "duration": 3070,
    "start_time": "2021-07-15T17:25:44.027Z"
   },
   {
    "duration": 81,
    "start_time": "2021-07-15T17:25:47.100Z"
   },
   {
    "duration": 629,
    "start_time": "2021-07-15T17:25:47.187Z"
   },
   {
    "duration": 13,
    "start_time": "2021-07-15T17:25:47.820Z"
   },
   {
    "duration": 701,
    "start_time": "2021-07-15T17:25:47.836Z"
   },
   {
    "duration": 560,
    "start_time": "2021-07-15T17:25:48.539Z"
   },
   {
    "duration": 944,
    "start_time": "2021-07-15T17:25:49.101Z"
   },
   {
    "duration": 8,
    "start_time": "2021-07-15T17:25:50.048Z"
   },
   {
    "duration": 732,
    "start_time": "2021-07-15T17:25:50.059Z"
   },
   {
    "duration": 731,
    "start_time": "2021-07-15T17:25:50.794Z"
   },
   {
    "duration": 729,
    "start_time": "2021-07-15T17:25:51.527Z"
   },
   {
    "duration": 50,
    "start_time": "2021-07-15T17:25:52.259Z"
   },
   {
    "duration": 450,
    "start_time": "2021-07-15T17:25:52.312Z"
   },
   {
    "duration": 92,
    "start_time": "2021-07-15T17:25:52.765Z"
   },
   {
    "duration": -1648,
    "start_time": "2021-07-15T17:25:54.508Z"
   },
   {
    "duration": 349,
    "start_time": "2021-07-15T17:26:52.224Z"
   },
   {
    "duration": 252,
    "start_time": "2021-07-15T17:28:01.638Z"
   },
   {
    "duration": 938,
    "start_time": "2021-07-15T17:33:53.591Z"
   },
   {
    "duration": 25,
    "start_time": "2021-07-15T17:33:54.532Z"
   },
   {
    "duration": 19,
    "start_time": "2021-07-15T17:33:54.559Z"
   },
   {
    "duration": 242,
    "start_time": "2021-07-15T17:33:54.581Z"
   },
   {
    "duration": 66,
    "start_time": "2021-07-15T17:33:54.825Z"
   },
   {
    "duration": 18,
    "start_time": "2021-07-15T17:33:54.893Z"
   },
   {
    "duration": 24,
    "start_time": "2021-07-15T17:33:54.913Z"
   },
   {
    "duration": 9,
    "start_time": "2021-07-15T17:33:54.956Z"
   },
   {
    "duration": 23,
    "start_time": "2021-07-15T17:33:54.967Z"
   },
   {
    "duration": 14,
    "start_time": "2021-07-15T17:33:54.992Z"
   },
   {
    "duration": 11,
    "start_time": "2021-07-15T17:33:55.009Z"
   },
   {
    "duration": 36,
    "start_time": "2021-07-15T17:33:55.022Z"
   },
   {
    "duration": 18,
    "start_time": "2021-07-15T17:33:55.061Z"
   },
   {
    "duration": 12,
    "start_time": "2021-07-15T17:33:55.081Z"
   },
   {
    "duration": 10,
    "start_time": "2021-07-15T17:33:55.095Z"
   },
   {
    "duration": 53,
    "start_time": "2021-07-15T17:33:55.107Z"
   },
   {
    "duration": 5,
    "start_time": "2021-07-15T17:33:55.162Z"
   },
   {
    "duration": 61,
    "start_time": "2021-07-15T17:33:55.170Z"
   },
   {
    "duration": 34,
    "start_time": "2021-07-15T17:33:55.234Z"
   },
   {
    "duration": 86,
    "start_time": "2021-07-15T17:33:55.271Z"
   },
   {
    "duration": 547,
    "start_time": "2021-07-15T17:33:55.360Z"
   },
   {
    "duration": 55,
    "start_time": "2021-07-15T17:33:55.909Z"
   },
   {
    "duration": 2946,
    "start_time": "2021-07-15T17:33:55.969Z"
   },
   {
    "duration": 59,
    "start_time": "2021-07-15T17:33:58.918Z"
   },
   {
    "duration": 549,
    "start_time": "2021-07-15T17:33:58.980Z"
   },
   {
    "duration": 27,
    "start_time": "2021-07-15T17:33:59.532Z"
   },
   {
    "duration": 743,
    "start_time": "2021-07-15T17:33:59.562Z"
   },
   {
    "duration": 540,
    "start_time": "2021-07-15T17:34:00.309Z"
   },
   {
    "duration": 792,
    "start_time": "2021-07-15T17:34:00.857Z"
   },
   {
    "duration": 4,
    "start_time": "2021-07-15T17:34:01.652Z"
   },
   {
    "duration": 801,
    "start_time": "2021-07-15T17:34:01.659Z"
   },
   {
    "duration": 735,
    "start_time": "2021-07-15T17:34:02.462Z"
   },
   {
    "duration": 689,
    "start_time": "2021-07-15T17:34:03.199Z"
   },
   {
    "duration": 30,
    "start_time": "2021-07-15T17:34:03.890Z"
   },
   {
    "duration": 232,
    "start_time": "2021-07-15T17:34:03.923Z"
   },
   {
    "duration": 321,
    "start_time": "2021-07-15T17:34:04.158Z"
   },
   {
    "duration": 271,
    "start_time": "2021-07-15T17:34:04.482Z"
   },
   {
    "duration": 264,
    "start_time": "2021-07-15T17:34:37.477Z"
   },
   {
    "duration": 239,
    "start_time": "2021-07-15T17:36:44.146Z"
   },
   {
    "duration": 4,
    "start_time": "2021-07-15T17:47:15.063Z"
   },
   {
    "duration": 263,
    "start_time": "2021-07-15T17:47:16.320Z"
   },
   {
    "duration": 239,
    "start_time": "2021-07-15T17:47:34.863Z"
   },
   {
    "duration": 272,
    "start_time": "2021-07-15T17:48:22.392Z"
   },
   {
    "duration": 234,
    "start_time": "2021-07-15T17:48:59.152Z"
   },
   {
    "duration": 4,
    "start_time": "2021-07-15T17:53:07.966Z"
   },
   {
    "duration": 233,
    "start_time": "2021-07-15T17:53:08.791Z"
   },
   {
    "duration": 262,
    "start_time": "2021-07-15T17:53:14.365Z"
   },
   {
    "duration": 249,
    "start_time": "2021-07-15T17:53:18.054Z"
   },
   {
    "duration": 4,
    "start_time": "2021-07-15T17:53:48.686Z"
   },
   {
    "duration": 287,
    "start_time": "2021-07-15T17:53:49.261Z"
   },
   {
    "duration": 266,
    "start_time": "2021-07-15T17:53:50.151Z"
   },
   {
    "duration": 225,
    "start_time": "2021-07-15T17:53:50.991Z"
   },
   {
    "duration": 7,
    "start_time": "2021-07-15T18:02:25.623Z"
   },
   {
    "duration": 11,
    "start_time": "2021-07-15T18:03:01.100Z"
   },
   {
    "duration": 19,
    "start_time": "2021-07-15T18:05:36.757Z"
   },
   {
    "duration": 10,
    "start_time": "2021-07-15T18:06:08.986Z"
   },
   {
    "duration": 11,
    "start_time": "2021-07-15T18:08:30.435Z"
   },
   {
    "duration": 375,
    "start_time": "2021-07-15T18:10:08.210Z"
   },
   {
    "duration": 12,
    "start_time": "2021-07-15T18:10:31.026Z"
   },
   {
    "duration": 274,
    "start_time": "2021-07-15T18:14:29.096Z"
   },
   {
    "duration": 40,
    "start_time": "2021-07-15T18:15:18.056Z"
   },
   {
    "duration": 12,
    "start_time": "2021-07-15T18:17:30.220Z"
   },
   {
    "duration": 11,
    "start_time": "2021-07-15T18:20:33.552Z"
   },
   {
    "duration": 11,
    "start_time": "2021-07-15T18:20:49.993Z"
   },
   {
    "duration": 12,
    "start_time": "2021-07-15T18:24:19.911Z"
   },
   {
    "duration": 11,
    "start_time": "2021-07-15T18:24:32.119Z"
   },
   {
    "duration": 90,
    "start_time": "2021-07-15T18:30:42.664Z"
   },
   {
    "duration": 27,
    "start_time": "2021-07-15T18:30:47.916Z"
   },
   {
    "duration": 284,
    "start_time": "2021-07-15T18:31:35.940Z"
   },
   {
    "duration": 271,
    "start_time": "2021-07-15T18:31:50.148Z"
   },
   {
    "duration": 309,
    "start_time": "2021-07-15T18:32:06.506Z"
   },
   {
    "duration": 290,
    "start_time": "2021-07-15T18:32:14.532Z"
   },
   {
    "duration": 1035,
    "start_time": "2021-07-15T18:32:57.682Z"
   },
   {
    "duration": 13,
    "start_time": "2021-07-15T18:32:58.719Z"
   },
   {
    "duration": 37,
    "start_time": "2021-07-15T18:32:58.735Z"
   },
   {
    "duration": 236,
    "start_time": "2021-07-15T18:32:58.774Z"
   },
   {
    "duration": 66,
    "start_time": "2021-07-15T18:32:59.012Z"
   },
   {
    "duration": 17,
    "start_time": "2021-07-15T18:32:59.081Z"
   },
   {
    "duration": 21,
    "start_time": "2021-07-15T18:32:59.101Z"
   },
   {
    "duration": 39,
    "start_time": "2021-07-15T18:32:59.125Z"
   },
   {
    "duration": 13,
    "start_time": "2021-07-15T18:32:59.168Z"
   },
   {
    "duration": 13,
    "start_time": "2021-07-15T18:32:59.183Z"
   },
   {
    "duration": 58,
    "start_time": "2021-07-15T18:32:59.199Z"
   },
   {
    "duration": 7,
    "start_time": "2021-07-15T18:32:59.259Z"
   },
   {
    "duration": 19,
    "start_time": "2021-07-15T18:32:59.268Z"
   },
   {
    "duration": 12,
    "start_time": "2021-07-15T18:32:59.289Z"
   },
   {
    "duration": 10,
    "start_time": "2021-07-15T18:32:59.303Z"
   },
   {
    "duration": 52,
    "start_time": "2021-07-15T18:32:59.315Z"
   },
   {
    "duration": 4,
    "start_time": "2021-07-15T18:32:59.370Z"
   },
   {
    "duration": 52,
    "start_time": "2021-07-15T18:32:59.377Z"
   },
   {
    "duration": 39,
    "start_time": "2021-07-15T18:32:59.431Z"
   },
   {
    "duration": 89,
    "start_time": "2021-07-15T18:32:59.472Z"
   },
   {
    "duration": 526,
    "start_time": "2021-07-15T18:32:59.564Z"
   },
   {
    "duration": 45,
    "start_time": "2021-07-15T18:33:00.093Z"
   },
   {
    "duration": 2863,
    "start_time": "2021-07-15T18:33:00.158Z"
   },
   {
    "duration": 57,
    "start_time": "2021-07-15T18:33:03.023Z"
   },
   {
    "duration": 565,
    "start_time": "2021-07-15T18:33:03.082Z"
   },
   {
    "duration": 18,
    "start_time": "2021-07-15T18:33:03.649Z"
   },
   {
    "duration": 777,
    "start_time": "2021-07-15T18:33:03.670Z"
   },
   {
    "duration": 533,
    "start_time": "2021-07-15T18:33:04.449Z"
   },
   {
    "duration": 805,
    "start_time": "2021-07-15T18:33:04.984Z"
   },
   {
    "duration": 4,
    "start_time": "2021-07-15T18:33:05.791Z"
   },
   {
    "duration": 663,
    "start_time": "2021-07-15T18:33:05.797Z"
   },
   {
    "duration": 722,
    "start_time": "2021-07-15T18:33:06.463Z"
   },
   {
    "duration": 673,
    "start_time": "2021-07-15T18:33:07.187Z"
   },
   {
    "duration": 31,
    "start_time": "2021-07-15T18:33:07.862Z"
   },
   {
    "duration": 233,
    "start_time": "2021-07-15T18:33:07.895Z"
   },
   {
    "duration": 4,
    "start_time": "2021-07-15T18:33:08.130Z"
   },
   {
    "duration": 313,
    "start_time": "2021-07-15T18:33:08.136Z"
   },
   {
    "duration": 264,
    "start_time": "2021-07-15T18:33:08.451Z"
   },
   {
    "duration": 343,
    "start_time": "2021-07-15T18:33:08.718Z"
   },
   {
    "duration": 355,
    "start_time": "2021-07-15T18:33:09.063Z"
   },
   {
    "duration": 12,
    "start_time": "2021-07-15T18:34:07.299Z"
   },
   {
    "duration": 7,
    "start_time": "2021-07-15T18:36:07.296Z"
   },
   {
    "duration": 11,
    "start_time": "2021-07-15T18:38:54.096Z"
   },
   {
    "duration": 11,
    "start_time": "2021-07-15T18:39:27.109Z"
   },
   {
    "duration": 12,
    "start_time": "2021-07-15T18:39:46.110Z"
   },
   {
    "duration": 286,
    "start_time": "2021-07-15T18:41:34.991Z"
   },
   {
    "duration": 7999,
    "start_time": "2021-07-15T18:42:04.471Z"
   },
   {
    "duration": 11,
    "start_time": "2021-07-15T18:42:25.181Z"
   },
   {
    "duration": 11,
    "start_time": "2021-07-15T18:42:43.054Z"
   },
   {
    "duration": 8113,
    "start_time": "2021-07-15T18:46:07.287Z"
   },
   {
    "duration": 12,
    "start_time": "2021-07-15T18:46:33.799Z"
   },
   {
    "duration": 11,
    "start_time": "2021-07-15T18:48:00.782Z"
   },
   {
    "duration": 7373,
    "start_time": "2021-07-15T18:49:16.247Z"
   },
   {
    "duration": 272,
    "start_time": "2021-07-15T18:49:38.693Z"
   },
   {
    "duration": 284,
    "start_time": "2021-07-15T18:50:11.726Z"
   },
   {
    "duration": 291,
    "start_time": "2021-07-15T18:51:18.229Z"
   },
   {
    "duration": 119,
    "start_time": "2021-07-15T18:53:14.773Z"
   },
   {
    "duration": 9,
    "start_time": "2021-07-15T18:55:43.651Z"
   },
   {
    "duration": 12,
    "start_time": "2021-07-15T18:57:18.508Z"
   },
   {
    "duration": 11,
    "start_time": "2021-07-15T18:57:45.538Z"
   },
   {
    "duration": 13,
    "start_time": "2021-07-15T18:59:01.490Z"
   },
   {
    "duration": 326,
    "start_time": "2021-07-15T19:02:59.353Z"
   },
   {
    "duration": 14,
    "start_time": "2021-07-15T19:03:41.354Z"
   },
   {
    "duration": 3976,
    "start_time": "2021-07-15T19:06:08.776Z"
   },
   {
    "duration": 14,
    "start_time": "2021-07-15T19:06:20.832Z"
   },
   {
    "duration": 7,
    "start_time": "2021-07-15T19:07:15.680Z"
   },
   {
    "duration": 12,
    "start_time": "2021-07-15T19:07:28.662Z"
   },
   {
    "duration": 7884,
    "start_time": "2021-07-15T19:07:48.015Z"
   },
   {
    "duration": 11,
    "start_time": "2021-07-15T19:09:04.990Z"
   },
   {
    "duration": 3528,
    "start_time": "2021-07-15T19:09:48.502Z"
   },
   {
    "duration": 3401,
    "start_time": "2021-07-15T19:10:10.619Z"
   },
   {
    "duration": 98,
    "start_time": "2021-07-15T19:11:29.103Z"
   },
   {
    "duration": 69,
    "start_time": "2021-07-15T19:13:34.174Z"
   },
   {
    "duration": 68,
    "start_time": "2021-07-15T19:14:35.817Z"
   },
   {
    "duration": 21,
    "start_time": "2021-07-15T19:15:07.191Z"
   },
   {
    "duration": 22,
    "start_time": "2021-07-15T19:18:46.956Z"
   },
   {
    "duration": 21,
    "start_time": "2021-07-15T19:19:24.772Z"
   },
   {
    "duration": 23,
    "start_time": "2021-07-15T19:20:11.385Z"
   },
   {
    "duration": 67,
    "start_time": "2021-07-15T19:38:40.709Z"
   },
   {
    "duration": 13,
    "start_time": "2021-07-15T19:39:14.729Z"
   },
   {
    "duration": 15,
    "start_time": "2021-07-15T19:41:40.846Z"
   },
   {
    "duration": 6537,
    "start_time": "2021-07-15T19:42:10.681Z"
   },
   {
    "duration": 14,
    "start_time": "2021-07-15T19:42:48.443Z"
   },
   {
    "duration": 15,
    "start_time": "2021-07-15T19:43:01.974Z"
   },
   {
    "duration": 13,
    "start_time": "2021-07-15T19:43:28.301Z"
   },
   {
    "duration": 920,
    "start_time": "2021-07-15T19:43:41.585Z"
   },
   {
    "duration": 12,
    "start_time": "2021-07-15T19:43:42.508Z"
   },
   {
    "duration": 38,
    "start_time": "2021-07-15T19:43:42.523Z"
   },
   {
    "duration": 216,
    "start_time": "2021-07-15T19:43:42.564Z"
   },
   {
    "duration": 60,
    "start_time": "2021-07-15T19:43:42.783Z"
   },
   {
    "duration": 20,
    "start_time": "2021-07-15T19:43:42.856Z"
   },
   {
    "duration": 18,
    "start_time": "2021-07-15T19:43:42.879Z"
   },
   {
    "duration": 8,
    "start_time": "2021-07-15T19:43:42.901Z"
   },
   {
    "duration": 51,
    "start_time": "2021-07-15T19:43:42.913Z"
   },
   {
    "duration": 11,
    "start_time": "2021-07-15T19:43:42.967Z"
   },
   {
    "duration": 12,
    "start_time": "2021-07-15T19:43:42.980Z"
   },
   {
    "duration": 7,
    "start_time": "2021-07-15T19:43:42.994Z"
   },
   {
    "duration": 53,
    "start_time": "2021-07-15T19:43:43.003Z"
   },
   {
    "duration": 11,
    "start_time": "2021-07-15T19:43:43.058Z"
   },
   {
    "duration": 11,
    "start_time": "2021-07-15T19:43:43.072Z"
   },
   {
    "duration": 21,
    "start_time": "2021-07-15T19:43:43.085Z"
   },
   {
    "duration": 5,
    "start_time": "2021-07-15T19:43:43.108Z"
   },
   {
    "duration": 86,
    "start_time": "2021-07-15T19:43:43.116Z"
   },
   {
    "duration": 17,
    "start_time": "2021-07-15T19:43:43.204Z"
   },
   {
    "duration": 91,
    "start_time": "2021-07-15T19:43:43.223Z"
   },
   {
    "duration": 524,
    "start_time": "2021-07-15T19:43:43.316Z"
   },
   {
    "duration": 48,
    "start_time": "2021-07-15T19:43:43.843Z"
   },
   {
    "duration": 2787,
    "start_time": "2021-07-15T19:43:43.895Z"
   },
   {
    "duration": 44,
    "start_time": "2021-07-15T19:43:46.685Z"
   },
   {
    "duration": 571,
    "start_time": "2021-07-15T19:43:46.731Z"
   },
   {
    "duration": 15,
    "start_time": "2021-07-15T19:43:47.305Z"
   },
   {
    "duration": 688,
    "start_time": "2021-07-15T19:43:47.323Z"
   },
   {
    "duration": 541,
    "start_time": "2021-07-15T19:43:48.014Z"
   },
   {
    "duration": 774,
    "start_time": "2021-07-15T19:43:48.558Z"
   },
   {
    "duration": 4,
    "start_time": "2021-07-15T19:43:49.335Z"
   },
   {
    "duration": 721,
    "start_time": "2021-07-15T19:43:49.342Z"
   },
   {
    "duration": 714,
    "start_time": "2021-07-15T19:43:50.065Z"
   },
   {
    "duration": 678,
    "start_time": "2021-07-15T19:43:50.782Z"
   },
   {
    "duration": 31,
    "start_time": "2021-07-15T19:43:51.462Z"
   },
   {
    "duration": 241,
    "start_time": "2021-07-15T19:43:51.495Z"
   },
   {
    "duration": 4,
    "start_time": "2021-07-15T19:43:51.738Z"
   },
   {
    "duration": 308,
    "start_time": "2021-07-15T19:43:51.755Z"
   },
   {
    "duration": 279,
    "start_time": "2021-07-15T19:43:52.065Z"
   },
   {
    "duration": 251,
    "start_time": "2021-07-15T19:43:52.346Z"
   },
   {
    "duration": 22,
    "start_time": "2021-07-15T19:43:52.599Z"
   },
   {
    "duration": 12,
    "start_time": "2021-07-15T19:43:52.624Z"
   },
   {
    "duration": 1044,
    "start_time": "2021-07-15T19:46:06.536Z"
   },
   {
    "duration": 13,
    "start_time": "2021-07-15T19:46:07.583Z"
   },
   {
    "duration": 24,
    "start_time": "2021-07-15T19:46:07.599Z"
   },
   {
    "duration": 254,
    "start_time": "2021-07-15T19:46:07.626Z"
   },
   {
    "duration": 61,
    "start_time": "2021-07-15T19:46:07.882Z"
   },
   {
    "duration": 19,
    "start_time": "2021-07-15T19:46:07.956Z"
   },
   {
    "duration": 19,
    "start_time": "2021-07-15T19:46:07.977Z"
   },
   {
    "duration": 9,
    "start_time": "2021-07-15T19:46:08.000Z"
   },
   {
    "duration": 50,
    "start_time": "2021-07-15T19:46:08.012Z"
   },
   {
    "duration": 14,
    "start_time": "2021-07-15T19:46:08.064Z"
   },
   {
    "duration": 14,
    "start_time": "2021-07-15T19:46:08.081Z"
   },
   {
    "duration": 7,
    "start_time": "2021-07-15T19:46:08.097Z"
   },
   {
    "duration": 23,
    "start_time": "2021-07-15T19:46:08.106Z"
   },
   {
    "duration": 30,
    "start_time": "2021-07-15T19:46:08.131Z"
   },
   {
    "duration": 9,
    "start_time": "2021-07-15T19:46:08.164Z"
   },
   {
    "duration": 22,
    "start_time": "2021-07-15T19:46:08.175Z"
   },
   {
    "duration": 8,
    "start_time": "2021-07-15T19:46:08.200Z"
   },
   {
    "duration": 81,
    "start_time": "2021-07-15T19:46:08.210Z"
   },
   {
    "duration": 18,
    "start_time": "2021-07-15T19:46:08.293Z"
   },
   {
    "duration": 89,
    "start_time": "2021-07-15T19:46:08.314Z"
   },
   {
    "duration": 546,
    "start_time": "2021-07-15T19:46:08.405Z"
   },
   {
    "duration": 43,
    "start_time": "2021-07-15T19:46:08.956Z"
   },
   {
    "duration": 3085,
    "start_time": "2021-07-15T19:46:09.004Z"
   },
   {
    "duration": 63,
    "start_time": "2021-07-15T19:46:12.093Z"
   },
   {
    "duration": 535,
    "start_time": "2021-07-15T19:46:12.159Z"
   },
   {
    "duration": 17,
    "start_time": "2021-07-15T19:46:12.696Z"
   },
   {
    "duration": 663,
    "start_time": "2021-07-15T19:46:12.715Z"
   },
   {
    "duration": 528,
    "start_time": "2021-07-15T19:46:13.381Z"
   },
   {
    "duration": 793,
    "start_time": "2021-07-15T19:46:13.912Z"
   },
   {
    "duration": 4,
    "start_time": "2021-07-15T19:46:14.707Z"
   },
   {
    "duration": 719,
    "start_time": "2021-07-15T19:46:14.713Z"
   },
   {
    "duration": 706,
    "start_time": "2021-07-15T19:46:15.435Z"
   },
   {
    "duration": 723,
    "start_time": "2021-07-15T19:46:16.143Z"
   },
   {
    "duration": 31,
    "start_time": "2021-07-15T19:46:16.869Z"
   },
   {
    "duration": 240,
    "start_time": "2021-07-15T19:46:16.903Z"
   },
   {
    "duration": 4,
    "start_time": "2021-07-15T19:46:17.146Z"
   },
   {
    "duration": 334,
    "start_time": "2021-07-15T19:46:17.156Z"
   },
   {
    "duration": 269,
    "start_time": "2021-07-15T19:46:17.493Z"
   },
   {
    "duration": 254,
    "start_time": "2021-07-15T19:46:17.765Z"
   },
   {
    "duration": 36,
    "start_time": "2021-07-15T19:46:18.021Z"
   },
   {
    "duration": 12,
    "start_time": "2021-07-15T19:46:18.060Z"
   },
   {
    "duration": 5435,
    "start_time": "2021-07-15T19:46:53.024Z"
   },
   {
    "duration": 13,
    "start_time": "2021-07-15T19:48:32.891Z"
   },
   {
    "duration": 13,
    "start_time": "2021-07-15T19:49:13.673Z"
   },
   {
    "duration": 19,
    "start_time": "2021-07-15T19:49:56.848Z"
   },
   {
    "duration": 27,
    "start_time": "2021-07-15T19:51:23.922Z"
   },
   {
    "duration": 60,
    "start_time": "2021-07-15T19:51:33.312Z"
   },
   {
    "duration": 61,
    "start_time": "2021-07-15T19:52:24.553Z"
   },
   {
    "duration": 313,
    "start_time": "2021-07-15T19:53:28.928Z"
   },
   {
    "duration": 65,
    "start_time": "2021-07-15T20:00:27.151Z"
   },
   {
    "duration": 64,
    "start_time": "2021-07-15T20:08:18.664Z"
   },
   {
    "duration": 446,
    "start_time": "2021-07-15T20:08:56.382Z"
   },
   {
    "duration": 64,
    "start_time": "2021-07-15T20:09:21.852Z"
   },
   {
    "duration": 67,
    "start_time": "2021-07-15T20:09:56.579Z"
   },
   {
    "duration": 8,
    "start_time": "2021-07-15T20:10:24.625Z"
   },
   {
    "duration": 316,
    "start_time": "2021-07-15T20:10:56.226Z"
   },
   {
    "duration": 12,
    "start_time": "2021-07-15T20:11:16.409Z"
   },
   {
    "duration": 7,
    "start_time": "2021-07-15T20:12:43.177Z"
   },
   {
    "duration": 64,
    "start_time": "2021-07-15T20:14:19.234Z"
   },
   {
    "duration": 13,
    "start_time": "2021-07-15T20:14:40.914Z"
   },
   {
    "duration": 11,
    "start_time": "2021-07-15T20:16:04.393Z"
   },
   {
    "duration": 13,
    "start_time": "2021-07-15T20:17:37.057Z"
   },
   {
    "duration": 13,
    "start_time": "2021-07-15T20:18:04.659Z"
   },
   {
    "duration": 17,
    "start_time": "2021-07-15T20:18:15.097Z"
   },
   {
    "duration": 16,
    "start_time": "2021-07-15T20:20:16.631Z"
   },
   {
    "duration": 17,
    "start_time": "2021-07-15T20:30:20.233Z"
   },
   {
    "duration": 13,
    "start_time": "2021-07-15T20:31:30.397Z"
   },
   {
    "duration": 16,
    "start_time": "2021-07-15T20:32:19.555Z"
   },
   {
    "duration": 68,
    "start_time": "2021-07-15T20:32:43.627Z"
   },
   {
    "duration": 92,
    "start_time": "2021-07-15T20:36:11.104Z"
   },
   {
    "duration": 71,
    "start_time": "2021-07-15T20:36:33.940Z"
   },
   {
    "duration": 21,
    "start_time": "2021-07-15T20:37:28.653Z"
   },
   {
    "duration": 262,
    "start_time": "2021-07-15T20:39:14.274Z"
   },
   {
    "duration": 19,
    "start_time": "2021-07-15T20:39:32.418Z"
   },
   {
    "duration": 254,
    "start_time": "2021-07-15T20:39:42.805Z"
   },
   {
    "duration": 268,
    "start_time": "2021-07-15T20:41:04.233Z"
   },
   {
    "duration": 259,
    "start_time": "2021-07-15T20:41:19.353Z"
   },
   {
    "duration": 321,
    "start_time": "2021-07-15T21:29:06.327Z"
   },
   {
    "duration": 61,
    "start_time": "2021-07-15T21:30:47.678Z"
   },
   {
    "duration": 65,
    "start_time": "2021-07-15T21:31:58.132Z"
   },
   {
    "duration": 58,
    "start_time": "2021-07-15T21:32:28.814Z"
   },
   {
    "duration": 54,
    "start_time": "2021-07-15T21:32:52.599Z"
   },
   {
    "duration": 62,
    "start_time": "2021-07-15T21:33:04.741Z"
   },
   {
    "duration": 16,
    "start_time": "2021-07-15T21:34:04.716Z"
   },
   {
    "duration": 292,
    "start_time": "2021-07-15T21:34:38.356Z"
   },
   {
    "duration": 517,
    "start_time": "2021-07-15T21:35:02.531Z"
   },
   {
    "duration": 599,
    "start_time": "2021-07-15T21:40:23.670Z"
   },
   {
    "duration": 539,
    "start_time": "2021-07-15T21:42:04.077Z"
   },
   {
    "duration": 537,
    "start_time": "2021-07-15T21:42:20.562Z"
   },
   {
    "duration": 503,
    "start_time": "2021-07-15T21:42:32.289Z"
   },
   {
    "duration": 2929,
    "start_time": "2021-07-15T21:42:57.553Z"
   },
   {
    "duration": 330,
    "start_time": "2021-07-15T21:46:44.361Z"
   },
   {
    "duration": 4,
    "start_time": "2021-07-15T21:47:03.800Z"
   },
   {
    "duration": 310,
    "start_time": "2021-07-15T21:47:04.497Z"
   },
   {
    "duration": 4,
    "start_time": "2021-07-15T21:47:34.737Z"
   },
   {
    "duration": 813,
    "start_time": "2021-07-15T21:47:35.352Z"
   },
   {
    "duration": 620,
    "start_time": "2021-07-15T21:47:59.976Z"
   },
   {
    "duration": 649,
    "start_time": "2021-07-15T21:51:16.062Z"
   },
   {
    "duration": 536,
    "start_time": "2021-07-15T21:56:22.152Z"
   },
   {
    "duration": 2908,
    "start_time": "2021-07-15T21:56:30.438Z"
   },
   {
    "duration": 3011,
    "start_time": "2021-07-15T21:56:58.430Z"
   },
   {
    "duration": 3426,
    "start_time": "2021-07-15T21:57:23.957Z"
   },
   {
    "duration": 2749,
    "start_time": "2021-07-15T22:05:07.549Z"
   },
   {
    "duration": 728,
    "start_time": "2021-07-15T22:07:51.877Z"
   },
   {
    "duration": 549,
    "start_time": "2021-07-15T22:11:29.474Z"
   },
   {
    "duration": 457,
    "start_time": "2021-07-15T22:22:45.699Z"
   },
   {
    "duration": 624,
    "start_time": "2021-07-15T22:25:59.409Z"
   },
   {
    "duration": 487,
    "start_time": "2021-07-15T22:26:42.006Z"
   },
   {
    "duration": 1064,
    "start_time": "2021-07-15T22:29:19.174Z"
   },
   {
    "duration": 1142,
    "start_time": "2021-07-15T22:29:50.397Z"
   },
   {
    "duration": 1337,
    "start_time": "2021-07-15T22:30:46.796Z"
   },
   {
    "duration": 5,
    "start_time": "2021-07-15T22:30:57.892Z"
   },
   {
    "duration": 1162,
    "start_time": "2021-07-15T22:31:01.708Z"
   },
   {
    "duration": 1096,
    "start_time": "2021-07-15T22:33:59.276Z"
   },
   {
    "duration": 5,
    "start_time": "2021-07-15T22:35:04.611Z"
   },
   {
    "duration": 5,
    "start_time": "2021-07-15T22:35:11.291Z"
   },
   {
    "duration": 496,
    "start_time": "2021-07-15T22:35:12.107Z"
   },
   {
    "duration": 7253,
    "start_time": "2021-07-15T22:39:28.466Z"
   },
   {
    "duration": 467,
    "start_time": "2021-07-15T22:39:39.403Z"
   },
   {
    "duration": 470,
    "start_time": "2021-07-15T22:40:29.713Z"
   },
   {
    "duration": 89,
    "start_time": "2021-07-15T22:42:14.265Z"
   },
   {
    "duration": 575,
    "start_time": "2021-07-15T22:42:39.889Z"
   },
   {
    "duration": 459,
    "start_time": "2021-07-15T22:45:44.801Z"
   },
   {
    "duration": 977,
    "start_time": "2021-07-16T05:58:45.309Z"
   },
   {
    "duration": 16,
    "start_time": "2021-07-16T05:58:46.290Z"
   },
   {
    "duration": 19,
    "start_time": "2021-07-16T05:58:46.310Z"
   },
   {
    "duration": 332,
    "start_time": "2021-07-16T05:58:46.332Z"
   },
   {
    "duration": 72,
    "start_time": "2021-07-16T05:58:46.666Z"
   },
   {
    "duration": 20,
    "start_time": "2021-07-16T05:58:46.741Z"
   },
   {
    "duration": 37,
    "start_time": "2021-07-16T05:58:46.764Z"
   },
   {
    "duration": 10,
    "start_time": "2021-07-16T05:58:46.805Z"
   },
   {
    "duration": 16,
    "start_time": "2021-07-16T05:58:46.818Z"
   },
   {
    "duration": 46,
    "start_time": "2021-07-16T05:58:46.836Z"
   },
   {
    "duration": 12,
    "start_time": "2021-07-16T05:58:46.885Z"
   },
   {
    "duration": 7,
    "start_time": "2021-07-16T05:58:46.899Z"
   },
   {
    "duration": 13,
    "start_time": "2021-07-16T05:58:46.909Z"
   },
   {
    "duration": 12,
    "start_time": "2021-07-16T05:58:46.924Z"
   },
   {
    "duration": 44,
    "start_time": "2021-07-16T05:58:46.939Z"
   },
   {
    "duration": 103,
    "start_time": "2021-07-16T05:58:46.985Z"
   },
   {
    "duration": 12,
    "start_time": "2021-07-16T05:58:47.080Z"
   },
   {
    "duration": 11,
    "start_time": "2021-07-16T05:58:47.082Z"
   },
   {
    "duration": 10,
    "start_time": "2021-07-16T05:58:47.085Z"
   },
   {
    "duration": 10,
    "start_time": "2021-07-16T05:58:47.087Z"
   },
   {
    "duration": 8,
    "start_time": "2021-07-16T05:58:47.090Z"
   },
   {
    "duration": 7,
    "start_time": "2021-07-16T05:58:47.093Z"
   },
   {
    "duration": 5,
    "start_time": "2021-07-16T05:58:47.096Z"
   },
   {
    "duration": 3,
    "start_time": "2021-07-16T05:58:47.100Z"
   },
   {
    "duration": 1,
    "start_time": "2021-07-16T05:58:47.103Z"
   },
   {
    "duration": 0,
    "start_time": "2021-07-16T05:58:47.106Z"
   },
   {
    "duration": -1,
    "start_time": "2021-07-16T05:58:47.109Z"
   },
   {
    "duration": -4,
    "start_time": "2021-07-16T05:58:47.113Z"
   },
   {
    "duration": -4,
    "start_time": "2021-07-16T05:58:47.115Z"
   },
   {
    "duration": -5,
    "start_time": "2021-07-16T05:58:47.117Z"
   },
   {
    "duration": -22,
    "start_time": "2021-07-16T05:58:47.136Z"
   },
   {
    "duration": -24,
    "start_time": "2021-07-16T05:58:47.139Z"
   },
   {
    "duration": -25,
    "start_time": "2021-07-16T05:58:47.142Z"
   },
   {
    "duration": -28,
    "start_time": "2021-07-16T05:58:47.146Z"
   },
   {
    "duration": -28,
    "start_time": "2021-07-16T05:58:47.148Z"
   },
   {
    "duration": -29,
    "start_time": "2021-07-16T05:58:47.151Z"
   },
   {
    "duration": -30,
    "start_time": "2021-07-16T05:58:47.153Z"
   },
   {
    "duration": -32,
    "start_time": "2021-07-16T05:58:47.156Z"
   },
   {
    "duration": -33,
    "start_time": "2021-07-16T05:58:47.159Z"
   },
   {
    "duration": -34,
    "start_time": "2021-07-16T05:58:47.161Z"
   },
   {
    "duration": -35,
    "start_time": "2021-07-16T05:58:47.164Z"
   },
   {
    "duration": -36,
    "start_time": "2021-07-16T05:58:47.166Z"
   },
   {
    "duration": -37,
    "start_time": "2021-07-16T05:58:47.168Z"
   },
   {
    "duration": -45,
    "start_time": "2021-07-16T05:58:47.177Z"
   },
   {
    "duration": 2,
    "start_time": "2021-07-16T05:58:47.179Z"
   },
   {
    "duration": 1,
    "start_time": "2021-07-16T05:58:47.182Z"
   },
   {
    "duration": 1,
    "start_time": "2021-07-16T05:58:47.184Z"
   },
   {
    "duration": -1,
    "start_time": "2021-07-16T05:58:47.187Z"
   },
   {
    "duration": -2,
    "start_time": "2021-07-16T05:58:47.190Z"
   },
   {
    "duration": -3,
    "start_time": "2021-07-16T05:58:47.192Z"
   },
   {
    "duration": -4,
    "start_time": "2021-07-16T05:58:47.195Z"
   },
   {
    "duration": -6,
    "start_time": "2021-07-16T05:58:47.198Z"
   },
   {
    "duration": -6,
    "start_time": "2021-07-16T05:58:47.200Z"
   },
   {
    "duration": 371,
    "start_time": "2021-07-16T07:12:47.398Z"
   },
   {
    "duration": 1092,
    "start_time": "2021-07-16T07:12:52.653Z"
   },
   {
    "duration": 13,
    "start_time": "2021-07-16T07:12:53.748Z"
   },
   {
    "duration": 42,
    "start_time": "2021-07-16T07:12:53.765Z"
   },
   {
    "duration": 344,
    "start_time": "2021-07-16T07:12:53.810Z"
   },
   {
    "duration": 69,
    "start_time": "2021-07-16T07:12:54.156Z"
   },
   {
    "duration": 17,
    "start_time": "2021-07-16T07:12:54.228Z"
   },
   {
    "duration": 37,
    "start_time": "2021-07-16T07:12:54.248Z"
   },
   {
    "duration": 8,
    "start_time": "2021-07-16T07:12:54.289Z"
   },
   {
    "duration": 16,
    "start_time": "2021-07-16T07:12:54.300Z"
   },
   {
    "duration": 11,
    "start_time": "2021-07-16T07:12:54.319Z"
   },
   {
    "duration": 51,
    "start_time": "2021-07-16T07:12:54.332Z"
   },
   {
    "duration": 7,
    "start_time": "2021-07-16T07:12:54.385Z"
   },
   {
    "duration": 22,
    "start_time": "2021-07-16T07:12:54.394Z"
   },
   {
    "duration": 11,
    "start_time": "2021-07-16T07:12:54.418Z"
   },
   {
    "duration": 2,
    "start_time": "2021-07-16T07:12:54.432Z"
   },
   {
    "duration": 467,
    "start_time": "2021-07-16T07:12:54.437Z"
   },
   {
    "duration": -389,
    "start_time": "2021-07-16T07:12:55.297Z"
   },
   {
    "duration": -391,
    "start_time": "2021-07-16T07:12:55.301Z"
   },
   {
    "duration": -395,
    "start_time": "2021-07-16T07:12:55.306Z"
   },
   {
    "duration": -397,
    "start_time": "2021-07-16T07:12:55.310Z"
   },
   {
    "duration": -399,
    "start_time": "2021-07-16T07:12:55.313Z"
   },
   {
    "duration": -401,
    "start_time": "2021-07-16T07:12:55.317Z"
   },
   {
    "duration": -405,
    "start_time": "2021-07-16T07:12:55.322Z"
   },
   {
    "duration": -408,
    "start_time": "2021-07-16T07:12:55.327Z"
   },
   {
    "duration": -410,
    "start_time": "2021-07-16T07:12:55.331Z"
   },
   {
    "duration": -415,
    "start_time": "2021-07-16T07:12:55.337Z"
   },
   {
    "duration": -423,
    "start_time": "2021-07-16T07:12:55.347Z"
   },
   {
    "duration": -425,
    "start_time": "2021-07-16T07:12:55.350Z"
   },
   {
    "duration": -428,
    "start_time": "2021-07-16T07:12:55.355Z"
   },
   {
    "duration": -430,
    "start_time": "2021-07-16T07:12:55.358Z"
   },
   {
    "duration": -434,
    "start_time": "2021-07-16T07:12:55.363Z"
   },
   {
    "duration": -438,
    "start_time": "2021-07-16T07:12:55.368Z"
   },
   {
    "duration": -441,
    "start_time": "2021-07-16T07:12:55.373Z"
   },
   {
    "duration": -445,
    "start_time": "2021-07-16T07:12:55.378Z"
   },
   {
    "duration": -450,
    "start_time": "2021-07-16T07:12:55.384Z"
   },
   {
    "duration": -451,
    "start_time": "2021-07-16T07:12:55.387Z"
   },
   {
    "duration": -460,
    "start_time": "2021-07-16T07:12:55.397Z"
   },
   {
    "duration": -463,
    "start_time": "2021-07-16T07:12:55.401Z"
   },
   {
    "duration": -467,
    "start_time": "2021-07-16T07:12:55.406Z"
   },
   {
    "duration": -469,
    "start_time": "2021-07-16T07:12:55.410Z"
   },
   {
    "duration": -471,
    "start_time": "2021-07-16T07:12:55.413Z"
   },
   {
    "duration": -473,
    "start_time": "2021-07-16T07:12:55.416Z"
   },
   {
    "duration": -475,
    "start_time": "2021-07-16T07:12:55.419Z"
   },
   {
    "duration": -477,
    "start_time": "2021-07-16T07:12:55.423Z"
   },
   {
    "duration": -445,
    "start_time": "2021-07-16T07:12:55.427Z"
   },
   {
    "duration": -448,
    "start_time": "2021-07-16T07:12:55.432Z"
   },
   {
    "duration": -453,
    "start_time": "2021-07-16T07:12:55.438Z"
   },
   {
    "duration": -455,
    "start_time": "2021-07-16T07:12:55.441Z"
   },
   {
    "duration": -457,
    "start_time": "2021-07-16T07:12:55.445Z"
   },
   {
    "duration": -459,
    "start_time": "2021-07-16T07:12:55.448Z"
   },
   {
    "duration": -460,
    "start_time": "2021-07-16T07:12:55.451Z"
   },
   {
    "duration": -463,
    "start_time": "2021-07-16T07:12:55.455Z"
   },
   {
    "duration": -464,
    "start_time": "2021-07-16T07:12:55.458Z"
   },
   {
    "duration": 10,
    "start_time": "2021-07-16T07:14:37.848Z"
   },
   {
    "duration": 6,
    "start_time": "2021-07-16T07:14:51.281Z"
   },
   {
    "duration": 22,
    "start_time": "2021-07-16T07:14:53.328Z"
   },
   {
    "duration": 1280,
    "start_time": "2021-07-16T07:25:23.726Z"
   },
   {
    "duration": 19,
    "start_time": "2021-07-16T07:25:25.010Z"
   },
   {
    "duration": 54,
    "start_time": "2021-07-16T07:25:25.033Z"
   },
   {
    "duration": 325,
    "start_time": "2021-07-16T07:25:25.091Z"
   },
   {
    "duration": 99,
    "start_time": "2021-07-16T07:25:25.420Z"
   },
   {
    "duration": 26,
    "start_time": "2021-07-16T07:25:25.522Z"
   },
   {
    "duration": 47,
    "start_time": "2021-07-16T07:25:25.551Z"
   },
   {
    "duration": 11,
    "start_time": "2021-07-16T07:25:25.600Z"
   },
   {
    "duration": 25,
    "start_time": "2021-07-16T07:25:25.616Z"
   },
   {
    "duration": 12,
    "start_time": "2021-07-16T07:25:25.646Z"
   },
   {
    "duration": 32,
    "start_time": "2021-07-16T07:25:25.660Z"
   },
   {
    "duration": 6,
    "start_time": "2021-07-16T07:25:25.695Z"
   },
   {
    "duration": 17,
    "start_time": "2021-07-16T07:25:25.703Z"
   },
   {
    "duration": 11,
    "start_time": "2021-07-16T07:25:25.722Z"
   },
   {
    "duration": 49,
    "start_time": "2021-07-16T07:25:25.736Z"
   },
   {
    "duration": 21,
    "start_time": "2021-07-16T07:25:25.788Z"
   },
   {
    "duration": 4,
    "start_time": "2021-07-16T07:25:25.811Z"
   },
   {
    "duration": 83,
    "start_time": "2021-07-16T07:25:25.818Z"
   },
   {
    "duration": 18,
    "start_time": "2021-07-16T07:25:25.903Z"
   },
   {
    "duration": 100,
    "start_time": "2021-07-16T07:25:25.923Z"
   },
   {
    "duration": 536,
    "start_time": "2021-07-16T07:25:26.026Z"
   },
   {
    "duration": 61,
    "start_time": "2021-07-16T07:25:26.564Z"
   },
   {
    "duration": 2926,
    "start_time": "2021-07-16T07:25:26.628Z"
   },
   {
    "duration": 57,
    "start_time": "2021-07-16T07:25:29.556Z"
   },
   {
    "duration": 566,
    "start_time": "2021-07-16T07:25:29.616Z"
   },
   {
    "duration": 13,
    "start_time": "2021-07-16T07:25:30.185Z"
   },
   {
    "duration": 691,
    "start_time": "2021-07-16T07:25:30.206Z"
   },
   {
    "duration": 551,
    "start_time": "2021-07-16T07:25:30.900Z"
   },
   {
    "duration": 838,
    "start_time": "2021-07-16T07:25:31.454Z"
   },
   {
    "duration": 4,
    "start_time": "2021-07-16T07:25:32.295Z"
   },
   {
    "duration": 734,
    "start_time": "2021-07-16T07:25:32.301Z"
   },
   {
    "duration": 738,
    "start_time": "2021-07-16T07:25:33.037Z"
   },
   {
    "duration": 736,
    "start_time": "2021-07-16T07:25:33.777Z"
   },
   {
    "duration": 31,
    "start_time": "2021-07-16T07:25:34.515Z"
   },
   {
    "duration": 248,
    "start_time": "2021-07-16T07:25:34.548Z"
   },
   {
    "duration": 4,
    "start_time": "2021-07-16T07:25:34.798Z"
   },
   {
    "duration": 329,
    "start_time": "2021-07-16T07:25:34.804Z"
   },
   {
    "duration": 287,
    "start_time": "2021-07-16T07:25:35.135Z"
   },
   {
    "duration": 252,
    "start_time": "2021-07-16T07:25:35.424Z"
   },
   {
    "duration": 23,
    "start_time": "2021-07-16T07:25:35.678Z"
   },
   {
    "duration": 302,
    "start_time": "2021-07-16T07:25:35.704Z"
   },
   {
    "duration": 3,
    "start_time": "2021-07-16T07:25:36.008Z"
   },
   {
    "duration": 560,
    "start_time": "2021-07-16T07:25:36.013Z"
   },
   {
    "duration": 2934,
    "start_time": "2021-07-16T07:25:36.582Z"
   },
   {
    "duration": 564,
    "start_time": "2021-07-16T07:25:39.518Z"
   },
   {
    "duration": 590,
    "start_time": "2021-07-16T07:25:40.084Z"
   },
   {
    "duration": 4,
    "start_time": "2021-07-16T07:25:40.682Z"
   },
   {
    "duration": 460,
    "start_time": "2021-07-16T07:25:40.689Z"
   },
   {
    "duration": 483,
    "start_time": "2021-07-16T07:25:41.151Z"
   },
   {
    "duration": 622,
    "start_time": "2021-07-16T07:25:41.636Z"
   },
   {
    "duration": 122,
    "start_time": "2021-07-16T07:25:42.261Z"
   },
   {
    "duration": -381,
    "start_time": "2021-07-16T07:25:42.767Z"
   },
   {
    "duration": 984,
    "start_time": "2021-07-16T07:57:36.251Z"
   },
   {
    "duration": 13,
    "start_time": "2021-07-16T07:57:37.237Z"
   },
   {
    "duration": 33,
    "start_time": "2021-07-16T07:57:37.252Z"
   },
   {
    "duration": 243,
    "start_time": "2021-07-16T07:57:37.288Z"
   },
   {
    "duration": 67,
    "start_time": "2021-07-16T07:57:37.534Z"
   },
   {
    "duration": 18,
    "start_time": "2021-07-16T07:57:37.603Z"
   },
   {
    "duration": 17,
    "start_time": "2021-07-16T07:57:37.623Z"
   },
   {
    "duration": 42,
    "start_time": "2021-07-16T07:57:37.645Z"
   },
   {
    "duration": 14,
    "start_time": "2021-07-16T07:57:37.691Z"
   },
   {
    "duration": 14,
    "start_time": "2021-07-16T07:57:37.708Z"
   },
   {
    "duration": 14,
    "start_time": "2021-07-16T07:57:37.724Z"
   },
   {
    "duration": 8,
    "start_time": "2021-07-16T07:57:37.782Z"
   },
   {
    "duration": 15,
    "start_time": "2021-07-16T07:57:37.793Z"
   },
   {
    "duration": 13,
    "start_time": "2021-07-16T07:57:37.810Z"
   },
   {
    "duration": 13,
    "start_time": "2021-07-16T07:57:37.825Z"
   },
   {
    "duration": 62,
    "start_time": "2021-07-16T07:57:37.841Z"
   },
   {
    "duration": 6,
    "start_time": "2021-07-16T07:57:37.906Z"
   },
   {
    "duration": 84,
    "start_time": "2021-07-16T07:57:37.914Z"
   },
   {
    "duration": 19,
    "start_time": "2021-07-16T07:57:38.002Z"
   },
   {
    "duration": 89,
    "start_time": "2021-07-16T07:57:38.024Z"
   },
   {
    "duration": 523,
    "start_time": "2021-07-16T07:57:38.116Z"
   },
   {
    "duration": 54,
    "start_time": "2021-07-16T07:57:38.642Z"
   },
   {
    "duration": 2911,
    "start_time": "2021-07-16T07:57:38.701Z"
   },
   {
    "duration": 43,
    "start_time": "2021-07-16T07:57:41.615Z"
   },
   {
    "duration": 555,
    "start_time": "2021-07-16T07:57:41.661Z"
   },
   {
    "duration": 14,
    "start_time": "2021-07-16T07:57:42.219Z"
   },
   {
    "duration": 743,
    "start_time": "2021-07-16T07:57:42.235Z"
   },
   {
    "duration": 529,
    "start_time": "2021-07-16T07:57:42.983Z"
   },
   {
    "duration": 114,
    "start_time": "2021-07-16T07:57:43.515Z"
   },
   {
    "duration": -412,
    "start_time": "2021-07-16T07:57:44.044Z"
   },
   {
    "duration": -414,
    "start_time": "2021-07-16T07:57:44.048Z"
   },
   {
    "duration": -417,
    "start_time": "2021-07-16T07:57:44.052Z"
   },
   {
    "duration": -421,
    "start_time": "2021-07-16T07:57:44.057Z"
   },
   {
    "duration": -423,
    "start_time": "2021-07-16T07:57:44.061Z"
   },
   {
    "duration": -427,
    "start_time": "2021-07-16T07:57:44.066Z"
   },
   {
    "duration": -431,
    "start_time": "2021-07-16T07:57:44.072Z"
   },
   {
    "duration": -434,
    "start_time": "2021-07-16T07:57:44.077Z"
   },
   {
    "duration": -439,
    "start_time": "2021-07-16T07:57:44.083Z"
   },
   {
    "duration": -441,
    "start_time": "2021-07-16T07:57:44.086Z"
   },
   {
    "duration": -443,
    "start_time": "2021-07-16T07:57:44.090Z"
   },
   {
    "duration": -445,
    "start_time": "2021-07-16T07:57:44.094Z"
   },
   {
    "duration": -447,
    "start_time": "2021-07-16T07:57:44.097Z"
   },
   {
    "duration": -450,
    "start_time": "2021-07-16T07:57:44.101Z"
   },
   {
    "duration": -451,
    "start_time": "2021-07-16T07:57:44.104Z"
   },
   {
    "duration": -462,
    "start_time": "2021-07-16T07:57:44.116Z"
   },
   {
    "duration": -466,
    "start_time": "2021-07-16T07:57:44.121Z"
   },
   {
    "duration": -467,
    "start_time": "2021-07-16T07:57:44.124Z"
   },
   {
    "duration": -469,
    "start_time": "2021-07-16T07:57:44.127Z"
   },
   {
    "duration": -472,
    "start_time": "2021-07-16T07:57:44.131Z"
   },
   {
    "duration": -473,
    "start_time": "2021-07-16T07:57:44.134Z"
   },
   {
    "duration": -477,
    "start_time": "2021-07-16T07:57:44.139Z"
   },
   {
    "duration": -482,
    "start_time": "2021-07-16T07:57:44.146Z"
   },
   {
    "duration": -485,
    "start_time": "2021-07-16T07:57:44.150Z"
   },
   {
    "duration": -488,
    "start_time": "2021-07-16T07:57:44.154Z"
   },
   {
    "duration": 1019,
    "start_time": "2021-07-16T07:58:10.658Z"
   },
   {
    "duration": 14,
    "start_time": "2021-07-16T07:58:11.683Z"
   },
   {
    "duration": 18,
    "start_time": "2021-07-16T07:58:11.699Z"
   },
   {
    "duration": 247,
    "start_time": "2021-07-16T07:58:11.719Z"
   },
   {
    "duration": 69,
    "start_time": "2021-07-16T07:58:11.969Z"
   },
   {
    "duration": 19,
    "start_time": "2021-07-16T07:58:12.040Z"
   },
   {
    "duration": 38,
    "start_time": "2021-07-16T07:58:12.061Z"
   },
   {
    "duration": 9,
    "start_time": "2021-07-16T07:58:12.103Z"
   },
   {
    "duration": 15,
    "start_time": "2021-07-16T07:58:12.115Z"
   },
   {
    "duration": 11,
    "start_time": "2021-07-16T07:58:12.133Z"
   },
   {
    "duration": 46,
    "start_time": "2021-07-16T07:58:12.146Z"
   },
   {
    "duration": 7,
    "start_time": "2021-07-16T07:58:12.194Z"
   },
   {
    "duration": 16,
    "start_time": "2021-07-16T07:58:12.203Z"
   },
   {
    "duration": 12,
    "start_time": "2021-07-16T07:58:12.221Z"
   },
   {
    "duration": 46,
    "start_time": "2021-07-16T07:58:12.236Z"
   },
   {
    "duration": 23,
    "start_time": "2021-07-16T07:58:12.286Z"
   },
   {
    "duration": 6,
    "start_time": "2021-07-16T07:58:12.312Z"
   },
   {
    "duration": 95,
    "start_time": "2021-07-16T07:58:12.321Z"
   },
   {
    "duration": 20,
    "start_time": "2021-07-16T07:58:12.419Z"
   },
   {
    "duration": 99,
    "start_time": "2021-07-16T07:58:12.442Z"
   },
   {
    "duration": 542,
    "start_time": "2021-07-16T07:58:12.544Z"
   },
   {
    "duration": 45,
    "start_time": "2021-07-16T07:58:13.089Z"
   },
   {
    "duration": 2823,
    "start_time": "2021-07-16T07:58:13.142Z"
   },
   {
    "duration": 55,
    "start_time": "2021-07-16T07:58:15.969Z"
   },
   {
    "duration": 564,
    "start_time": "2021-07-16T07:58:16.026Z"
   },
   {
    "duration": 14,
    "start_time": "2021-07-16T07:58:16.593Z"
   },
   {
    "duration": 648,
    "start_time": "2021-07-16T07:58:16.610Z"
   },
   {
    "duration": 549,
    "start_time": "2021-07-16T07:58:17.260Z"
   },
   {
    "duration": 779,
    "start_time": "2021-07-16T07:58:17.811Z"
   },
   {
    "duration": 5,
    "start_time": "2021-07-16T07:58:18.592Z"
   },
   {
    "duration": 690,
    "start_time": "2021-07-16T07:58:18.599Z"
   },
   {
    "duration": 716,
    "start_time": "2021-07-16T07:58:19.291Z"
   },
   {
    "duration": 679,
    "start_time": "2021-07-16T07:58:20.010Z"
   },
   {
    "duration": 31,
    "start_time": "2021-07-16T07:58:20.691Z"
   },
   {
    "duration": 231,
    "start_time": "2021-07-16T07:58:20.724Z"
   },
   {
    "duration": 4,
    "start_time": "2021-07-16T07:58:20.957Z"
   },
   {
    "duration": 315,
    "start_time": "2021-07-16T07:58:20.963Z"
   },
   {
    "duration": 267,
    "start_time": "2021-07-16T07:58:21.282Z"
   },
   {
    "duration": 251,
    "start_time": "2021-07-16T07:58:21.552Z"
   },
   {
    "duration": 22,
    "start_time": "2021-07-16T07:58:21.806Z"
   },
   {
    "duration": 291,
    "start_time": "2021-07-16T07:58:21.831Z"
   },
   {
    "duration": 3,
    "start_time": "2021-07-16T07:58:22.125Z"
   },
   {
    "duration": 548,
    "start_time": "2021-07-16T07:58:22.130Z"
   },
   {
    "duration": 3235,
    "start_time": "2021-07-16T07:58:22.683Z"
   },
   {
    "duration": 550,
    "start_time": "2021-07-16T07:58:25.920Z"
   },
   {
    "duration": 544,
    "start_time": "2021-07-16T07:58:26.473Z"
   },
   {
    "duration": 4,
    "start_time": "2021-07-16T07:58:27.020Z"
   },
   {
    "duration": 482,
    "start_time": "2021-07-16T07:58:27.026Z"
   },
   {
    "duration": 141,
    "start_time": "2021-07-16T07:58:27.510Z"
   },
   {
    "duration": -376,
    "start_time": "2021-07-16T07:58:28.031Z"
   },
   {
    "duration": -379,
    "start_time": "2021-07-16T07:58:28.036Z"
   },
   {
    "duration": -386,
    "start_time": "2021-07-16T07:58:28.045Z"
   },
   {
    "duration": -400,
    "start_time": "2021-07-16T07:58:28.062Z"
   },
   {
    "duration": 436,
    "start_time": "2021-07-16T07:58:41.800Z"
   },
   {
    "duration": 118,
    "start_time": "2021-07-16T07:58:42.349Z"
   },
   {
    "duration": 540,
    "start_time": "2021-07-16T07:58:51.189Z"
   },
   {
    "duration": 432,
    "start_time": "2021-07-16T07:58:53.988Z"
   },
   {
    "duration": 979,
    "start_time": "2021-07-16T07:58:59.814Z"
   },
   {
    "duration": 13,
    "start_time": "2021-07-16T07:59:00.796Z"
   },
   {
    "duration": 31,
    "start_time": "2021-07-16T07:59:00.812Z"
   },
   {
    "duration": 241,
    "start_time": "2021-07-16T07:59:00.846Z"
   },
   {
    "duration": 59,
    "start_time": "2021-07-16T07:59:01.089Z"
   },
   {
    "duration": 41,
    "start_time": "2021-07-16T07:59:01.151Z"
   },
   {
    "duration": 20,
    "start_time": "2021-07-16T07:59:01.194Z"
   },
   {
    "duration": 14,
    "start_time": "2021-07-16T07:59:01.216Z"
   },
   {
    "duration": 34,
    "start_time": "2021-07-16T07:59:01.234Z"
   },
   {
    "duration": 22,
    "start_time": "2021-07-16T07:59:01.271Z"
   },
   {
    "duration": 31,
    "start_time": "2021-07-16T07:59:01.296Z"
   },
   {
    "duration": 23,
    "start_time": "2021-07-16T07:59:01.329Z"
   },
   {
    "duration": 21,
    "start_time": "2021-07-16T07:59:01.355Z"
   },
   {
    "duration": 23,
    "start_time": "2021-07-16T07:59:01.378Z"
   },
   {
    "duration": 21,
    "start_time": "2021-07-16T07:59:01.404Z"
   },
   {
    "duration": 32,
    "start_time": "2021-07-16T07:59:01.427Z"
   },
   {
    "duration": 5,
    "start_time": "2021-07-16T07:59:01.461Z"
   },
   {
    "duration": 66,
    "start_time": "2021-07-16T07:59:01.468Z"
   },
   {
    "duration": 19,
    "start_time": "2021-07-16T07:59:01.537Z"
   },
   {
    "duration": 123,
    "start_time": "2021-07-16T07:59:01.559Z"
   },
   {
    "duration": 546,
    "start_time": "2021-07-16T07:59:01.685Z"
   },
   {
    "duration": 61,
    "start_time": "2021-07-16T07:59:02.235Z"
   },
   {
    "duration": 2777,
    "start_time": "2021-07-16T07:59:02.299Z"
   },
   {
    "duration": 46,
    "start_time": "2021-07-16T07:59:05.081Z"
   },
   {
    "duration": 568,
    "start_time": "2021-07-16T07:59:05.130Z"
   },
   {
    "duration": 13,
    "start_time": "2021-07-16T07:59:05.702Z"
   },
   {
    "duration": 649,
    "start_time": "2021-07-16T07:59:05.724Z"
   },
   {
    "duration": 534,
    "start_time": "2021-07-16T07:59:06.384Z"
   },
   {
    "duration": 808,
    "start_time": "2021-07-16T07:59:06.920Z"
   },
   {
    "duration": 6,
    "start_time": "2021-07-16T07:59:07.731Z"
   },
   {
    "duration": 733,
    "start_time": "2021-07-16T07:59:07.740Z"
   },
   {
    "duration": 724,
    "start_time": "2021-07-16T07:59:08.482Z"
   },
   {
    "duration": 661,
    "start_time": "2021-07-16T07:59:09.208Z"
   },
   {
    "duration": 39,
    "start_time": "2021-07-16T07:59:09.872Z"
   },
   {
    "duration": 227,
    "start_time": "2021-07-16T07:59:09.913Z"
   },
   {
    "duration": 4,
    "start_time": "2021-07-16T07:59:10.142Z"
   },
   {
    "duration": 326,
    "start_time": "2021-07-16T07:59:10.148Z"
   },
   {
    "duration": 277,
    "start_time": "2021-07-16T07:59:10.476Z"
   },
   {
    "duration": 250,
    "start_time": "2021-07-16T07:59:10.755Z"
   },
   {
    "duration": 22,
    "start_time": "2021-07-16T07:59:11.007Z"
   },
   {
    "duration": 291,
    "start_time": "2021-07-16T07:59:11.031Z"
   },
   {
    "duration": 4,
    "start_time": "2021-07-16T07:59:11.324Z"
   },
   {
    "duration": 554,
    "start_time": "2021-07-16T07:59:11.330Z"
   },
   {
    "duration": 2777,
    "start_time": "2021-07-16T07:59:11.887Z"
   },
   {
    "duration": 526,
    "start_time": "2021-07-16T07:59:14.666Z"
   },
   {
    "duration": 552,
    "start_time": "2021-07-16T07:59:15.195Z"
   },
   {
    "duration": 5,
    "start_time": "2021-07-16T07:59:15.749Z"
   },
   {
    "duration": 452,
    "start_time": "2021-07-16T07:59:15.756Z"
   },
   {
    "duration": 456,
    "start_time": "2021-07-16T07:59:16.210Z"
   },
   {
    "duration": 546,
    "start_time": "2021-07-16T07:59:16.668Z"
   },
   {
    "duration": 478,
    "start_time": "2021-07-16T07:59:17.216Z"
   },
   {
    "duration": 978,
    "start_time": "2021-07-16T08:00:19.581Z"
   },
   {
    "duration": 12,
    "start_time": "2021-07-16T08:00:20.562Z"
   },
   {
    "duration": 18,
    "start_time": "2021-07-16T08:00:20.583Z"
   },
   {
    "duration": 240,
    "start_time": "2021-07-16T08:00:20.604Z"
   },
   {
    "duration": 66,
    "start_time": "2021-07-16T08:00:20.847Z"
   },
   {
    "duration": 21,
    "start_time": "2021-07-16T08:00:20.916Z"
   },
   {
    "duration": 44,
    "start_time": "2021-07-16T08:00:20.940Z"
   },
   {
    "duration": 9,
    "start_time": "2021-07-16T08:00:20.990Z"
   },
   {
    "duration": 18,
    "start_time": "2021-07-16T08:00:21.002Z"
   },
   {
    "duration": 10,
    "start_time": "2021-07-16T08:00:21.023Z"
   },
   {
    "duration": 16,
    "start_time": "2021-07-16T08:00:21.035Z"
   },
   {
    "duration": 7,
    "start_time": "2021-07-16T08:00:21.083Z"
   },
   {
    "duration": 16,
    "start_time": "2021-07-16T08:00:21.092Z"
   },
   {
    "duration": 13,
    "start_time": "2021-07-16T08:00:21.110Z"
   },
   {
    "duration": 14,
    "start_time": "2021-07-16T08:00:21.126Z"
   },
   {
    "duration": 53,
    "start_time": "2021-07-16T08:00:21.142Z"
   },
   {
    "duration": 5,
    "start_time": "2021-07-16T08:00:21.197Z"
   },
   {
    "duration": 58,
    "start_time": "2021-07-16T08:00:21.204Z"
   },
   {
    "duration": 34,
    "start_time": "2021-07-16T08:00:21.265Z"
   },
   {
    "duration": 87,
    "start_time": "2021-07-16T08:00:21.302Z"
   },
   {
    "duration": 528,
    "start_time": "2021-07-16T08:00:21.392Z"
   },
   {
    "duration": 42,
    "start_time": "2021-07-16T08:00:21.922Z"
   },
   {
    "duration": 3020,
    "start_time": "2021-07-16T08:00:21.981Z"
   },
   {
    "duration": 49,
    "start_time": "2021-07-16T08:00:25.004Z"
   },
   {
    "duration": 780,
    "start_time": "2021-07-16T08:00:25.056Z"
   },
   {
    "duration": 55,
    "start_time": "2021-07-16T08:00:25.839Z"
   },
   {
    "duration": 697,
    "start_time": "2021-07-16T08:00:25.896Z"
   },
   {
    "duration": 543,
    "start_time": "2021-07-16T08:00:26.595Z"
   },
   {
    "duration": 809,
    "start_time": "2021-07-16T08:00:27.141Z"
   },
   {
    "duration": 4,
    "start_time": "2021-07-16T08:00:27.953Z"
   },
   {
    "duration": 716,
    "start_time": "2021-07-16T08:00:27.960Z"
   },
   {
    "duration": 736,
    "start_time": "2021-07-16T08:00:28.682Z"
   },
   {
    "duration": 677,
    "start_time": "2021-07-16T08:00:29.421Z"
   },
   {
    "duration": 31,
    "start_time": "2021-07-16T08:00:30.102Z"
   },
   {
    "duration": 234,
    "start_time": "2021-07-16T08:00:30.136Z"
   },
   {
    "duration": 10,
    "start_time": "2021-07-16T08:00:30.372Z"
   },
   {
    "duration": 326,
    "start_time": "2021-07-16T08:00:30.384Z"
   },
   {
    "duration": 278,
    "start_time": "2021-07-16T08:00:30.712Z"
   },
   {
    "duration": 258,
    "start_time": "2021-07-16T08:00:30.993Z"
   },
   {
    "duration": 40,
    "start_time": "2021-07-16T08:00:31.253Z"
   },
   {
    "duration": 302,
    "start_time": "2021-07-16T08:00:31.295Z"
   },
   {
    "duration": 4,
    "start_time": "2021-07-16T08:00:31.600Z"
   },
   {
    "duration": 556,
    "start_time": "2021-07-16T08:00:31.606Z"
   },
   {
    "duration": 2911,
    "start_time": "2021-07-16T08:00:32.165Z"
   },
   {
    "duration": 541,
    "start_time": "2021-07-16T08:00:35.082Z"
   },
   {
    "duration": 570,
    "start_time": "2021-07-16T08:00:35.625Z"
   },
   {
    "duration": 5,
    "start_time": "2021-07-16T08:00:36.198Z"
   },
   {
    "duration": 499,
    "start_time": "2021-07-16T08:00:36.205Z"
   },
   {
    "duration": 459,
    "start_time": "2021-07-16T08:00:36.707Z"
   },
   {
    "duration": 570,
    "start_time": "2021-07-16T08:00:37.169Z"
   },
   {
    "duration": 459,
    "start_time": "2021-07-16T08:00:37.742Z"
   },
   {
    "duration": 1018,
    "start_time": "2021-07-16T18:32:19.230Z"
   },
   {
    "duration": 13,
    "start_time": "2021-07-16T18:32:20.254Z"
   },
   {
    "duration": 21,
    "start_time": "2021-07-16T18:32:20.270Z"
   },
   {
    "duration": 249,
    "start_time": "2021-07-16T18:32:20.294Z"
   },
   {
    "duration": 65,
    "start_time": "2021-07-16T18:32:20.545Z"
   },
   {
    "duration": 18,
    "start_time": "2021-07-16T18:32:20.612Z"
   },
   {
    "duration": 38,
    "start_time": "2021-07-16T18:32:20.633Z"
   },
   {
    "duration": 9,
    "start_time": "2021-07-16T18:32:20.674Z"
   },
   {
    "duration": 13,
    "start_time": "2021-07-16T18:32:20.687Z"
   },
   {
    "duration": 13,
    "start_time": "2021-07-16T18:32:20.703Z"
   },
   {
    "duration": 46,
    "start_time": "2021-07-16T18:32:20.718Z"
   },
   {
    "duration": 7,
    "start_time": "2021-07-16T18:32:20.767Z"
   },
   {
    "duration": 16,
    "start_time": "2021-07-16T18:32:20.776Z"
   },
   {
    "duration": 17,
    "start_time": "2021-07-16T18:32:20.794Z"
   },
   {
    "duration": 45,
    "start_time": "2021-07-16T18:32:20.814Z"
   },
   {
    "duration": 25,
    "start_time": "2021-07-16T18:32:20.861Z"
   },
   {
    "duration": 5,
    "start_time": "2021-07-16T18:32:20.888Z"
   },
   {
    "duration": 84,
    "start_time": "2021-07-16T18:32:20.895Z"
   },
   {
    "duration": 18,
    "start_time": "2021-07-16T18:32:20.982Z"
   },
   {
    "duration": 88,
    "start_time": "2021-07-16T18:32:21.003Z"
   },
   {
    "duration": 537,
    "start_time": "2021-07-16T18:32:21.094Z"
   },
   {
    "duration": 57,
    "start_time": "2021-07-16T18:32:21.634Z"
   },
   {
    "duration": 3008,
    "start_time": "2021-07-16T18:32:21.693Z"
   },
   {
    "duration": 56,
    "start_time": "2021-07-16T18:32:24.703Z"
   },
   {
    "duration": 577,
    "start_time": "2021-07-16T18:32:24.761Z"
   },
   {
    "duration": 20,
    "start_time": "2021-07-16T18:32:25.340Z"
   },
   {
    "duration": 670,
    "start_time": "2021-07-16T18:32:25.365Z"
   },
   {
    "duration": 543,
    "start_time": "2021-07-16T18:32:26.038Z"
   },
   {
    "duration": 837,
    "start_time": "2021-07-16T18:32:26.583Z"
   },
   {
    "duration": 5,
    "start_time": "2021-07-16T18:32:27.422Z"
   },
   {
    "duration": 845,
    "start_time": "2021-07-16T18:32:27.429Z"
   },
   {
    "duration": 713,
    "start_time": "2021-07-16T18:32:28.277Z"
   },
   {
    "duration": 684,
    "start_time": "2021-07-16T18:32:28.993Z"
   },
   {
    "duration": 33,
    "start_time": "2021-07-16T18:32:29.679Z"
   },
   {
    "duration": 244,
    "start_time": "2021-07-16T18:32:29.714Z"
   },
   {
    "duration": 5,
    "start_time": "2021-07-16T18:32:29.960Z"
   },
   {
    "duration": 340,
    "start_time": "2021-07-16T18:32:29.967Z"
   },
   {
    "duration": 288,
    "start_time": "2021-07-16T18:32:30.309Z"
   },
   {
    "duration": 265,
    "start_time": "2021-07-16T18:32:30.599Z"
   },
   {
    "duration": 23,
    "start_time": "2021-07-16T18:32:30.867Z"
   },
   {
    "duration": 300,
    "start_time": "2021-07-16T18:32:30.893Z"
   },
   {
    "duration": 4,
    "start_time": "2021-07-16T18:32:31.195Z"
   },
   {
    "duration": 569,
    "start_time": "2021-07-16T18:32:31.201Z"
   },
   {
    "duration": 3025,
    "start_time": "2021-07-16T18:32:31.772Z"
   },
   {
    "duration": 564,
    "start_time": "2021-07-16T18:32:34.799Z"
   },
   {
    "duration": 570,
    "start_time": "2021-07-16T18:32:35.366Z"
   },
   {
    "duration": 4,
    "start_time": "2021-07-16T18:32:35.938Z"
   },
   {
    "duration": 448,
    "start_time": "2021-07-16T18:32:35.944Z"
   },
   {
    "duration": 471,
    "start_time": "2021-07-16T18:32:36.395Z"
   },
   {
    "duration": 630,
    "start_time": "2021-07-16T18:32:36.868Z"
   },
   {
    "duration": 508,
    "start_time": "2021-07-16T18:32:37.500Z"
   },
   {
    "duration": 250,
    "start_time": "2021-07-16T18:52:28.324Z"
   },
   {
    "duration": 694,
    "start_time": "2021-07-16T18:52:33.292Z"
   },
   {
    "duration": 8,
    "start_time": "2021-07-16T18:52:33.987Z"
   },
   {
    "duration": 12,
    "start_time": "2021-07-16T18:52:33.997Z"
   },
   {
    "duration": 134,
    "start_time": "2021-07-16T18:52:34.011Z"
   },
   {
    "duration": 31,
    "start_time": "2021-07-16T18:52:34.146Z"
   },
   {
    "duration": 24,
    "start_time": "2021-07-16T18:52:34.178Z"
   },
   {
    "duration": 11,
    "start_time": "2021-07-16T18:52:34.203Z"
   },
   {
    "duration": 5,
    "start_time": "2021-07-16T18:52:34.217Z"
   },
   {
    "duration": 9,
    "start_time": "2021-07-16T18:52:34.224Z"
   },
   {
    "duration": 6,
    "start_time": "2021-07-16T18:52:34.234Z"
   },
   {
    "duration": 6,
    "start_time": "2021-07-16T18:52:34.242Z"
   },
   {
    "duration": 12,
    "start_time": "2021-07-16T18:52:34.249Z"
   },
   {
    "duration": 34,
    "start_time": "2021-07-16T18:52:34.262Z"
   },
   {
    "duration": 8,
    "start_time": "2021-07-16T18:52:34.297Z"
   },
   {
    "duration": 6,
    "start_time": "2021-07-16T18:52:34.306Z"
   },
   {
    "duration": 14,
    "start_time": "2021-07-16T18:52:34.314Z"
   },
   {
    "duration": 3,
    "start_time": "2021-07-16T18:52:34.330Z"
   },
   {
    "duration": 36,
    "start_time": "2021-07-16T18:52:34.334Z"
   },
   {
    "duration": 12,
    "start_time": "2021-07-16T18:52:34.391Z"
   },
   {
    "duration": 40,
    "start_time": "2021-07-16T18:52:34.404Z"
   },
   {
    "duration": 303,
    "start_time": "2021-07-16T18:52:34.445Z"
   },
   {
    "duration": 25,
    "start_time": "2021-07-16T18:52:34.750Z"
   },
   {
    "duration": 1472,
    "start_time": "2021-07-16T18:52:34.778Z"
   },
   {
    "duration": 39,
    "start_time": "2021-07-16T18:52:36.253Z"
   },
   {
    "duration": 299,
    "start_time": "2021-07-16T18:52:36.294Z"
   },
   {
    "duration": 9,
    "start_time": "2021-07-16T18:52:36.594Z"
   },
   {
    "duration": 419,
    "start_time": "2021-07-16T18:52:36.604Z"
   },
   {
    "duration": 304,
    "start_time": "2021-07-16T18:52:37.024Z"
   },
   {
    "duration": 424,
    "start_time": "2021-07-16T18:52:37.329Z"
   },
   {
    "duration": 3,
    "start_time": "2021-07-16T18:52:37.754Z"
   },
   {
    "duration": 466,
    "start_time": "2021-07-16T18:52:37.759Z"
   },
   {
    "duration": 494,
    "start_time": "2021-07-16T18:52:38.226Z"
   },
   {
    "duration": 486,
    "start_time": "2021-07-16T18:52:38.722Z"
   },
   {
    "duration": 18,
    "start_time": "2021-07-16T18:52:39.210Z"
   },
   {
    "duration": 130,
    "start_time": "2021-07-16T18:52:39.230Z"
   },
   {
    "duration": 3,
    "start_time": "2021-07-16T18:52:39.361Z"
   },
   {
    "duration": 209,
    "start_time": "2021-07-16T18:52:39.365Z"
   },
   {
    "duration": 147,
    "start_time": "2021-07-16T18:52:39.576Z"
   },
   {
    "duration": 137,
    "start_time": "2021-07-16T18:52:39.724Z"
   },
   {
    "duration": 14,
    "start_time": "2021-07-16T18:52:39.862Z"
   },
   {
    "duration": 163,
    "start_time": "2021-07-16T18:52:39.878Z"
   },
   {
    "duration": 3,
    "start_time": "2021-07-16T18:52:40.043Z"
   },
   {
    "duration": 295,
    "start_time": "2021-07-16T18:52:40.047Z"
   },
   {
    "duration": 1505,
    "start_time": "2021-07-16T18:52:40.344Z"
   },
   {
    "duration": 289,
    "start_time": "2021-07-16T18:52:41.851Z"
   },
   {
    "duration": 290,
    "start_time": "2021-07-16T18:52:42.141Z"
   },
   {
    "duration": 3,
    "start_time": "2021-07-16T18:52:42.432Z"
   },
   {
    "duration": 297,
    "start_time": "2021-07-16T18:52:42.436Z"
   },
   {
    "duration": 287,
    "start_time": "2021-07-16T18:52:42.734Z"
   },
   {
    "duration": 433,
    "start_time": "2021-07-16T18:52:43.022Z"
   },
   {
    "duration": 319,
    "start_time": "2021-07-16T18:52:43.456Z"
   },
   {
    "duration": 259,
    "start_time": "2021-07-16T19:27:45.598Z"
   },
   {
    "duration": 3,
    "start_time": "2021-07-16T19:36:23.332Z"
   },
   {
    "duration": 5,
    "start_time": "2021-07-16T19:36:34.119Z"
   },
   {
    "duration": 114,
    "start_time": "2021-07-16T20:06:45.621Z"
   },
   {
    "duration": 115,
    "start_time": "2021-07-16T20:09:02.360Z"
   },
   {
    "duration": 335,
    "start_time": "2021-07-16T20:14:07.644Z"
   },
   {
    "duration": 4,
    "start_time": "2021-07-16T20:14:51.096Z"
   },
   {
    "duration": 5,
    "start_time": "2021-07-16T20:15:21.499Z"
   },
   {
    "duration": 5,
    "start_time": "2021-07-16T20:15:52.133Z"
   },
   {
    "duration": 5,
    "start_time": "2021-07-16T20:16:00.833Z"
   },
   {
    "duration": 5,
    "start_time": "2021-07-16T20:19:30.103Z"
   },
   {
    "duration": 218,
    "start_time": "2021-07-16T20:19:38.293Z"
   },
   {
    "duration": 237,
    "start_time": "2021-07-16T20:19:43.652Z"
   },
   {
    "duration": 688,
    "start_time": "2021-07-16T20:50:58.346Z"
   },
   {
    "duration": 11,
    "start_time": "2021-07-16T20:50:59.036Z"
   },
   {
    "duration": 13,
    "start_time": "2021-07-16T20:50:59.049Z"
   },
   {
    "duration": 164,
    "start_time": "2021-07-16T20:50:59.064Z"
   },
   {
    "duration": 34,
    "start_time": "2021-07-16T20:50:59.230Z"
   },
   {
    "duration": 30,
    "start_time": "2021-07-16T20:50:59.266Z"
   },
   {
    "duration": 14,
    "start_time": "2021-07-16T20:50:59.298Z"
   },
   {
    "duration": 7,
    "start_time": "2021-07-16T20:50:59.314Z"
   },
   {
    "duration": 13,
    "start_time": "2021-07-16T20:50:59.323Z"
   },
   {
    "duration": 7,
    "start_time": "2021-07-16T20:50:59.338Z"
   },
   {
    "duration": 8,
    "start_time": "2021-07-16T20:50:59.346Z"
   },
   {
    "duration": 38,
    "start_time": "2021-07-16T20:50:59.355Z"
   },
   {
    "duration": 11,
    "start_time": "2021-07-16T20:50:59.395Z"
   },
   {
    "duration": 8,
    "start_time": "2021-07-16T20:50:59.407Z"
   },
   {
    "duration": 8,
    "start_time": "2021-07-16T20:50:59.416Z"
   },
   {
    "duration": 14,
    "start_time": "2021-07-16T20:50:59.425Z"
   },
   {
    "duration": 4,
    "start_time": "2021-07-16T20:50:59.441Z"
   },
   {
    "duration": 63,
    "start_time": "2021-07-16T20:50:59.447Z"
   },
   {
    "duration": 13,
    "start_time": "2021-07-16T20:50:59.512Z"
   },
   {
    "duration": 42,
    "start_time": "2021-07-16T20:50:59.527Z"
   },
   {
    "duration": 312,
    "start_time": "2021-07-16T20:50:59.571Z"
   },
   {
    "duration": 31,
    "start_time": "2021-07-16T20:50:59.884Z"
   },
   {
    "duration": 1574,
    "start_time": "2021-07-16T20:50:59.918Z"
   },
   {
    "duration": 26,
    "start_time": "2021-07-16T20:51:01.494Z"
   },
   {
    "duration": 325,
    "start_time": "2021-07-16T20:51:01.522Z"
   },
   {
    "duration": 8,
    "start_time": "2021-07-16T20:51:01.849Z"
   },
   {
    "duration": 413,
    "start_time": "2021-07-16T20:51:01.859Z"
   },
   {
    "duration": 748,
    "start_time": "2021-07-16T20:51:02.273Z"
   },
   {
    "duration": 422,
    "start_time": "2021-07-16T20:51:03.023Z"
   },
   {
    "duration": 4,
    "start_time": "2021-07-16T20:51:03.447Z"
   },
   {
    "duration": 459,
    "start_time": "2021-07-16T20:51:03.452Z"
   },
   {
    "duration": 472,
    "start_time": "2021-07-16T20:51:03.913Z"
   },
   {
    "duration": 432,
    "start_time": "2021-07-16T20:51:04.391Z"
   },
   {
    "duration": 3,
    "start_time": "2021-07-16T20:51:04.824Z"
   },
   {
    "duration": 121,
    "start_time": "2021-07-16T20:51:04.829Z"
   },
   {
    "duration": 159,
    "start_time": "2021-07-16T20:54:43.446Z"
   },
   {
    "duration": 141,
    "start_time": "2021-07-16T20:54:43.607Z"
   },
   {
    "duration": 16,
    "start_time": "2021-07-16T20:54:43.750Z"
   },
   {
    "duration": 167,
    "start_time": "2021-07-16T20:54:43.768Z"
   },
   {
    "duration": 3,
    "start_time": "2021-07-16T20:54:43.936Z"
   },
   {
    "duration": 304,
    "start_time": "2021-07-16T20:54:43.940Z"
   },
   {
    "duration": 715,
    "start_time": "2021-07-16T20:54:51.102Z"
   },
   {
    "duration": 8,
    "start_time": "2021-07-16T20:54:51.819Z"
   },
   {
    "duration": 13,
    "start_time": "2021-07-16T20:54:51.828Z"
   },
   {
    "duration": 135,
    "start_time": "2021-07-16T20:54:51.843Z"
   },
   {
    "duration": 35,
    "start_time": "2021-07-16T20:54:51.979Z"
   },
   {
    "duration": 15,
    "start_time": "2021-07-16T20:54:52.015Z"
   },
   {
    "duration": 11,
    "start_time": "2021-07-16T20:54:52.032Z"
   },
   {
    "duration": 6,
    "start_time": "2021-07-16T20:54:52.045Z"
   },
   {
    "duration": 9,
    "start_time": "2021-07-16T20:54:52.053Z"
   },
   {
    "duration": 31,
    "start_time": "2021-07-16T20:54:52.063Z"
   },
   {
    "duration": 7,
    "start_time": "2021-07-16T20:54:52.096Z"
   },
   {
    "duration": 4,
    "start_time": "2021-07-16T20:54:52.104Z"
   },
   {
    "duration": 12,
    "start_time": "2021-07-16T20:54:52.110Z"
   },
   {
    "duration": 9,
    "start_time": "2021-07-16T20:54:52.123Z"
   },
   {
    "duration": 8,
    "start_time": "2021-07-16T20:54:52.133Z"
   },
   {
    "duration": 14,
    "start_time": "2021-07-16T20:54:52.143Z"
   },
   {
    "duration": 3,
    "start_time": "2021-07-16T20:54:52.158Z"
   },
   {
    "duration": 55,
    "start_time": "2021-07-16T20:54:52.163Z"
   },
   {
    "duration": 11,
    "start_time": "2021-07-16T20:54:52.219Z"
   },
   {
    "duration": 60,
    "start_time": "2021-07-16T20:54:52.231Z"
   },
   {
    "duration": 377,
    "start_time": "2021-07-16T20:54:52.293Z"
   },
   {
    "duration": 36,
    "start_time": "2021-07-16T20:54:52.671Z"
   },
   {
    "duration": 1498,
    "start_time": "2021-07-16T20:54:52.710Z"
   },
   {
    "duration": 26,
    "start_time": "2021-07-16T20:54:54.210Z"
   },
   {
    "duration": 330,
    "start_time": "2021-07-16T20:54:54.237Z"
   },
   {
    "duration": 9,
    "start_time": "2021-07-16T20:54:54.568Z"
   },
   {
    "duration": 412,
    "start_time": "2021-07-16T20:54:54.579Z"
   },
   {
    "duration": 320,
    "start_time": "2021-07-16T20:54:54.993Z"
   },
   {
    "duration": 472,
    "start_time": "2021-07-16T20:54:55.314Z"
   },
   {
    "duration": 3,
    "start_time": "2021-07-16T20:54:55.788Z"
   },
   {
    "duration": 498,
    "start_time": "2021-07-16T20:54:55.793Z"
   },
   {
    "duration": 544,
    "start_time": "2021-07-16T20:54:56.293Z"
   },
   {
    "duration": 487,
    "start_time": "2021-07-16T20:54:56.839Z"
   },
   {
    "duration": 3,
    "start_time": "2021-07-16T20:54:57.327Z"
   },
   {
    "duration": 133,
    "start_time": "2021-07-16T20:54:57.332Z"
   },
   {
    "duration": 2,
    "start_time": "2021-07-16T20:54:57.467Z"
   },
   {
    "duration": 215,
    "start_time": "2021-07-16T20:54:57.470Z"
   },
   {
    "duration": 154,
    "start_time": "2021-07-16T20:54:57.687Z"
   },
   {
    "duration": 168,
    "start_time": "2021-07-16T20:54:57.843Z"
   },
   {
    "duration": 20,
    "start_time": "2021-07-16T20:54:58.013Z"
   },
   {
    "duration": 177,
    "start_time": "2021-07-16T20:54:58.035Z"
   },
   {
    "duration": 3,
    "start_time": "2021-07-16T20:54:58.213Z"
   },
   {
    "duration": 305,
    "start_time": "2021-07-16T20:54:58.218Z"
   },
   {
    "duration": 1607,
    "start_time": "2021-07-16T20:54:58.525Z"
   },
   {
    "duration": 299,
    "start_time": "2021-07-16T20:55:00.133Z"
   },
   {
    "duration": 305,
    "start_time": "2021-07-16T20:55:00.433Z"
   },
   {
    "duration": 3,
    "start_time": "2021-07-16T20:55:00.739Z"
   },
   {
    "duration": 367,
    "start_time": "2021-07-16T20:55:00.744Z"
   },
   {
    "duration": 307,
    "start_time": "2021-07-16T20:55:01.112Z"
   },
   {
    "duration": 466,
    "start_time": "2021-07-16T20:55:01.421Z"
   },
   {
    "duration": 321,
    "start_time": "2021-07-16T20:55:01.888Z"
   },
   {
    "duration": 51,
    "start_time": "2021-07-16T20:56:04.925Z"
   },
   {
    "duration": 10,
    "start_time": "2021-07-16T20:56:18.085Z"
   },
   {
    "duration": 740,
    "start_time": "2021-07-16T20:58:58.265Z"
   },
   {
    "duration": 11,
    "start_time": "2021-07-16T20:58:59.007Z"
   },
   {
    "duration": 13,
    "start_time": "2021-07-16T20:58:59.021Z"
   },
   {
    "duration": 149,
    "start_time": "2021-07-16T20:58:59.036Z"
   },
   {
    "duration": 34,
    "start_time": "2021-07-16T20:58:59.191Z"
   },
   {
    "duration": 14,
    "start_time": "2021-07-16T20:58:59.226Z"
   },
   {
    "duration": 13,
    "start_time": "2021-07-16T20:58:59.242Z"
   },
   {
    "duration": 35,
    "start_time": "2021-07-16T20:58:59.258Z"
   },
   {
    "duration": 11,
    "start_time": "2021-07-16T20:58:59.295Z"
   },
   {
    "duration": 7,
    "start_time": "2021-07-16T20:58:59.307Z"
   },
   {
    "duration": 7,
    "start_time": "2021-07-16T20:58:59.315Z"
   },
   {
    "duration": 4,
    "start_time": "2021-07-16T20:58:59.324Z"
   },
   {
    "duration": 8,
    "start_time": "2021-07-16T20:58:59.330Z"
   },
   {
    "duration": 11,
    "start_time": "2021-07-16T20:58:59.339Z"
   },
   {
    "duration": 8,
    "start_time": "2021-07-16T20:58:59.351Z"
   },
   {
    "duration": 15,
    "start_time": "2021-07-16T20:58:59.392Z"
   },
   {
    "duration": 4,
    "start_time": "2021-07-16T20:58:59.408Z"
   },
   {
    "duration": 36,
    "start_time": "2021-07-16T20:58:59.413Z"
   },
   {
    "duration": 12,
    "start_time": "2021-07-16T20:58:59.450Z"
   },
   {
    "duration": 65,
    "start_time": "2021-07-16T20:58:59.463Z"
   },
   {
    "duration": 287,
    "start_time": "2021-07-16T20:58:59.530Z"
   },
   {
    "duration": 27,
    "start_time": "2021-07-16T20:58:59.819Z"
   },
   {
    "duration": 1639,
    "start_time": "2021-07-16T20:58:59.850Z"
   },
   {
    "duration": 27,
    "start_time": "2021-07-16T20:59:01.492Z"
   },
   {
    "duration": 310,
    "start_time": "2021-07-16T20:59:01.520Z"
   },
   {
    "duration": 9,
    "start_time": "2021-07-16T20:59:01.831Z"
   },
   {
    "duration": 408,
    "start_time": "2021-07-16T20:59:01.841Z"
   },
   {
    "duration": 287,
    "start_time": "2021-07-16T20:59:02.250Z"
   },
   {
    "duration": 415,
    "start_time": "2021-07-16T20:59:02.538Z"
   },
   {
    "duration": 3,
    "start_time": "2021-07-16T20:59:02.954Z"
   },
   {
    "duration": 453,
    "start_time": "2021-07-16T20:59:02.959Z"
   },
   {
    "duration": 463,
    "start_time": "2021-07-16T20:59:03.414Z"
   },
   {
    "duration": 447,
    "start_time": "2021-07-16T20:59:03.879Z"
   },
   {
    "duration": 2,
    "start_time": "2021-07-16T20:59:04.328Z"
   },
   {
    "duration": 125,
    "start_time": "2021-07-16T20:59:04.332Z"
   },
   {
    "duration": 80,
    "start_time": "2021-07-16T20:59:04.458Z"
   },
   {
    "duration": -744,
    "start_time": "2021-07-16T20:59:05.283Z"
   },
   {
    "duration": -747,
    "start_time": "2021-07-16T20:59:05.287Z"
   },
   {
    "duration": -749,
    "start_time": "2021-07-16T20:59:05.290Z"
   },
   {
    "duration": -752,
    "start_time": "2021-07-16T20:59:05.294Z"
   },
   {
    "duration": -767,
    "start_time": "2021-07-16T20:59:05.310Z"
   },
   {
    "duration": -772,
    "start_time": "2021-07-16T20:59:05.316Z"
   },
   {
    "duration": -775,
    "start_time": "2021-07-16T20:59:05.320Z"
   },
   {
    "duration": -784,
    "start_time": "2021-07-16T20:59:05.329Z"
   },
   {
    "duration": -789,
    "start_time": "2021-07-16T20:59:05.335Z"
   },
   {
    "duration": -795,
    "start_time": "2021-07-16T20:59:05.342Z"
   },
   {
    "duration": -800,
    "start_time": "2021-07-16T20:59:05.348Z"
   },
   {
    "duration": -804,
    "start_time": "2021-07-16T20:59:05.353Z"
   },
   {
    "duration": -807,
    "start_time": "2021-07-16T20:59:05.357Z"
   },
   {
    "duration": -810,
    "start_time": "2021-07-16T20:59:05.361Z"
   },
   {
    "duration": -813,
    "start_time": "2021-07-16T20:59:05.365Z"
   },
   {
    "duration": 4,
    "start_time": "2021-07-16T21:00:40.025Z"
   },
   {
    "duration": 6,
    "start_time": "2021-07-16T21:00:51.847Z"
   },
   {
    "duration": 76,
    "start_time": "2021-07-16T21:01:44.535Z"
   },
   {
    "duration": 5,
    "start_time": "2021-07-16T21:01:59.055Z"
   },
   {
    "duration": 5,
    "start_time": "2021-07-16T21:02:07.635Z"
   },
   {
    "duration": 270,
    "start_time": "2021-07-16T21:02:58.647Z"
   },
   {
    "duration": 184,
    "start_time": "2021-07-16T21:03:18.438Z"
   },
   {
    "duration": 3,
    "start_time": "2021-07-16T21:04:46.470Z"
   },
   {
    "duration": 159,
    "start_time": "2021-07-16T21:04:47.151Z"
   },
   {
    "duration": 229,
    "start_time": "2021-07-16T21:04:58.791Z"
   },
   {
    "duration": 3,
    "start_time": "2021-07-16T21:05:34.903Z"
   },
   {
    "duration": 160,
    "start_time": "2021-07-16T21:05:35.735Z"
   },
   {
    "duration": 3,
    "start_time": "2021-07-16T21:05:58.766Z"
   },
   {
    "duration": 157,
    "start_time": "2021-07-16T21:05:59.270Z"
   },
   {
    "duration": 760,
    "start_time": "2021-07-16T21:06:05.203Z"
   },
   {
    "duration": 3,
    "start_time": "2021-07-16T21:06:58.318Z"
   },
   {
    "duration": 164,
    "start_time": "2021-07-16T21:06:58.956Z"
   },
   {
    "duration": 785,
    "start_time": "2021-07-16T21:07:14.023Z"
   },
   {
    "duration": 745,
    "start_time": "2021-07-16T21:08:04.599Z"
   },
   {
    "duration": 3,
    "start_time": "2021-07-16T21:10:50.901Z"
   },
   {
    "duration": 1558,
    "start_time": "2021-07-16T21:10:51.604Z"
   },
   {
    "duration": 1074,
    "start_time": "2021-07-16T21:11:06.804Z"
   },
   {
    "duration": 75,
    "start_time": "2021-07-16T21:13:39.741Z"
   },
   {
    "duration": 1052,
    "start_time": "2021-07-16T21:13:41.644Z"
   },
   {
    "duration": 72,
    "start_time": "2021-07-16T21:13:50.540Z"
   },
   {
    "duration": 1117,
    "start_time": "2021-07-16T21:13:52.548Z"
   },
   {
    "duration": 3,
    "start_time": "2021-07-16T21:15:03.594Z"
   },
   {
    "duration": 486,
    "start_time": "2021-07-16T21:15:04.910Z"
   },
   {
    "duration": 699,
    "start_time": "2021-07-16T21:15:25.906Z"
   },
   {
    "duration": 9,
    "start_time": "2021-07-16T21:15:26.606Z"
   },
   {
    "duration": 13,
    "start_time": "2021-07-16T21:15:26.616Z"
   },
   {
    "duration": 138,
    "start_time": "2021-07-16T21:15:26.630Z"
   },
   {
    "duration": 39,
    "start_time": "2021-07-16T21:15:26.769Z"
   },
   {
    "duration": 10,
    "start_time": "2021-07-16T21:15:26.810Z"
   },
   {
    "duration": 10,
    "start_time": "2021-07-16T21:15:26.822Z"
   },
   {
    "duration": 5,
    "start_time": "2021-07-16T21:15:26.835Z"
   },
   {
    "duration": 9,
    "start_time": "2021-07-16T21:15:26.842Z"
   },
   {
    "duration": 6,
    "start_time": "2021-07-16T21:15:26.852Z"
   },
   {
    "duration": 35,
    "start_time": "2021-07-16T21:15:26.859Z"
   },
   {
    "duration": 4,
    "start_time": "2021-07-16T21:15:26.895Z"
   },
   {
    "duration": 12,
    "start_time": "2021-07-16T21:15:26.901Z"
   },
   {
    "duration": 7,
    "start_time": "2021-07-16T21:15:26.914Z"
   },
   {
    "duration": 8,
    "start_time": "2021-07-16T21:15:26.922Z"
   },
   {
    "duration": 14,
    "start_time": "2021-07-16T21:15:26.931Z"
   },
   {
    "duration": 3,
    "start_time": "2021-07-16T21:15:26.946Z"
   },
   {
    "duration": 57,
    "start_time": "2021-07-16T21:15:26.951Z"
   },
   {
    "duration": 10,
    "start_time": "2021-07-16T21:15:27.010Z"
   },
   {
    "duration": 42,
    "start_time": "2021-07-16T21:15:27.021Z"
   },
   {
    "duration": 282,
    "start_time": "2021-07-16T21:15:27.064Z"
   },
   {
    "duration": 27,
    "start_time": "2021-07-16T21:15:27.347Z"
   },
   {
    "duration": 1516,
    "start_time": "2021-07-16T21:15:27.377Z"
   },
   {
    "duration": 25,
    "start_time": "2021-07-16T21:15:28.895Z"
   },
   {
    "duration": 297,
    "start_time": "2021-07-16T21:15:28.921Z"
   },
   {
    "duration": 9,
    "start_time": "2021-07-16T21:15:29.219Z"
   },
   {
    "duration": 391,
    "start_time": "2021-07-16T21:15:29.229Z"
   },
   {
    "duration": 390,
    "start_time": "2021-07-16T21:15:29.622Z"
   },
   {
    "duration": 531,
    "start_time": "2021-07-16T21:15:30.013Z"
   },
   {
    "duration": 3,
    "start_time": "2021-07-16T21:15:30.546Z"
   },
   {
    "duration": 466,
    "start_time": "2021-07-16T21:15:30.550Z"
   },
   {
    "duration": 489,
    "start_time": "2021-07-16T21:15:31.017Z"
   },
   {
    "duration": 440,
    "start_time": "2021-07-16T21:15:31.508Z"
   },
   {
    "duration": 4,
    "start_time": "2021-07-16T21:15:31.950Z"
   },
   {
    "duration": 517,
    "start_time": "2021-07-16T21:15:31.956Z"
   },
   {
    "duration": -763,
    "start_time": "2021-07-16T21:15:33.238Z"
   },
   {
    "duration": -769,
    "start_time": "2021-07-16T21:15:33.245Z"
   },
   {
    "duration": -772,
    "start_time": "2021-07-16T21:15:33.249Z"
   },
   {
    "duration": -775,
    "start_time": "2021-07-16T21:15:33.254Z"
   },
   {
    "duration": -782,
    "start_time": "2021-07-16T21:15:33.262Z"
   },
   {
    "duration": -785,
    "start_time": "2021-07-16T21:15:33.266Z"
   },
   {
    "duration": -788,
    "start_time": "2021-07-16T21:15:33.271Z"
   },
   {
    "duration": -791,
    "start_time": "2021-07-16T21:15:33.275Z"
   },
   {
    "duration": -796,
    "start_time": "2021-07-16T21:15:33.281Z"
   },
   {
    "duration": -801,
    "start_time": "2021-07-16T21:15:33.287Z"
   },
   {
    "duration": -804,
    "start_time": "2021-07-16T21:15:33.292Z"
   },
   {
    "duration": -809,
    "start_time": "2021-07-16T21:15:33.298Z"
   },
   {
    "duration": -813,
    "start_time": "2021-07-16T21:15:33.303Z"
   },
   {
    "duration": -819,
    "start_time": "2021-07-16T21:15:33.310Z"
   },
   {
    "duration": -821,
    "start_time": "2021-07-16T21:15:33.314Z"
   },
   {
    "duration": -824,
    "start_time": "2021-07-16T21:15:33.318Z"
   },
   {
    "duration": 468,
    "start_time": "2021-07-16T21:15:59.903Z"
   },
   {
    "duration": 3,
    "start_time": "2021-07-16T21:16:36.209Z"
   },
   {
    "duration": 126,
    "start_time": "2021-07-16T21:16:36.890Z"
   },
   {
    "duration": 254,
    "start_time": "2021-07-16T21:16:46.858Z"
   },
   {
    "duration": 2,
    "start_time": "2021-07-16T21:17:09.775Z"
   },
   {
    "duration": 121,
    "start_time": "2021-07-16T21:17:10.345Z"
   },
   {
    "duration": 548,
    "start_time": "2021-07-16T21:17:14.600Z"
   },
   {
    "duration": 3,
    "start_time": "2021-07-16T21:17:51.713Z"
   },
   {
    "duration": 122,
    "start_time": "2021-07-16T21:17:53.739Z"
   },
   {
    "duration": 75,
    "start_time": "2021-07-16T21:21:22.841Z"
   },
   {
    "duration": 761,
    "start_time": "2021-07-16T21:22:13.556Z"
   },
   {
    "duration": 8,
    "start_time": "2021-07-16T21:22:14.318Z"
   },
   {
    "duration": 11,
    "start_time": "2021-07-16T21:22:14.328Z"
   },
   {
    "duration": 135,
    "start_time": "2021-07-16T21:22:14.341Z"
   },
   {
    "duration": 38,
    "start_time": "2021-07-16T21:22:14.477Z"
   },
   {
    "duration": 12,
    "start_time": "2021-07-16T21:22:14.517Z"
   },
   {
    "duration": 12,
    "start_time": "2021-07-16T21:22:14.530Z"
   },
   {
    "duration": 6,
    "start_time": "2021-07-16T21:22:14.544Z"
   },
   {
    "duration": 10,
    "start_time": "2021-07-16T21:22:14.552Z"
   },
   {
    "duration": 33,
    "start_time": "2021-07-16T21:22:14.563Z"
   },
   {
    "duration": 10,
    "start_time": "2021-07-16T21:22:14.597Z"
   },
   {
    "duration": 5,
    "start_time": "2021-07-16T21:22:14.609Z"
   },
   {
    "duration": 12,
    "start_time": "2021-07-16T21:22:14.616Z"
   },
   {
    "duration": 10,
    "start_time": "2021-07-16T21:22:14.630Z"
   },
   {
    "duration": 10,
    "start_time": "2021-07-16T21:22:14.642Z"
   },
   {
    "duration": 44,
    "start_time": "2021-07-16T21:22:14.654Z"
   },
   {
    "duration": 4,
    "start_time": "2021-07-16T21:22:14.700Z"
   },
   {
    "duration": 33,
    "start_time": "2021-07-16T21:22:14.705Z"
   },
   {
    "duration": 12,
    "start_time": "2021-07-16T21:22:14.740Z"
   },
   {
    "duration": 63,
    "start_time": "2021-07-16T21:22:14.753Z"
   },
   {
    "duration": 290,
    "start_time": "2021-07-16T21:22:14.818Z"
   },
   {
    "duration": 26,
    "start_time": "2021-07-16T21:22:15.109Z"
   },
   {
    "duration": 1554,
    "start_time": "2021-07-16T21:22:15.139Z"
   },
   {
    "duration": 25,
    "start_time": "2021-07-16T21:22:16.695Z"
   },
   {
    "duration": 334,
    "start_time": "2021-07-16T21:22:16.722Z"
   },
   {
    "duration": 8,
    "start_time": "2021-07-16T21:22:17.058Z"
   },
   {
    "duration": 405,
    "start_time": "2021-07-16T21:22:17.068Z"
   },
   {
    "duration": 288,
    "start_time": "2021-07-16T21:22:17.475Z"
   },
   {
    "duration": 646,
    "start_time": "2021-07-16T21:22:17.764Z"
   },
   {
    "duration": 4,
    "start_time": "2021-07-16T21:22:18.412Z"
   },
   {
    "duration": 543,
    "start_time": "2021-07-16T21:22:18.418Z"
   },
   {
    "duration": 448,
    "start_time": "2021-07-16T21:22:18.962Z"
   },
   {
    "duration": 443,
    "start_time": "2021-07-16T21:22:19.411Z"
   },
   {
    "duration": 3,
    "start_time": "2021-07-16T21:22:19.855Z"
   },
   {
    "duration": 139,
    "start_time": "2021-07-16T21:22:19.859Z"
   },
   {
    "duration": 4,
    "start_time": "2021-07-16T21:22:19.999Z"
   },
   {
    "duration": 234,
    "start_time": "2021-07-16T21:22:20.004Z"
   },
   {
    "duration": 161,
    "start_time": "2021-07-16T21:22:20.240Z"
   },
   {
    "duration": 151,
    "start_time": "2021-07-16T21:22:20.402Z"
   },
   {
    "duration": 16,
    "start_time": "2021-07-16T21:22:20.555Z"
   },
   {
    "duration": 174,
    "start_time": "2021-07-16T21:22:20.572Z"
   },
   {
    "duration": 2,
    "start_time": "2021-07-16T21:22:20.748Z"
   },
   {
    "duration": 305,
    "start_time": "2021-07-16T21:22:20.751Z"
   },
   {
    "duration": 1643,
    "start_time": "2021-07-16T21:22:21.058Z"
   },
   {
    "duration": 372,
    "start_time": "2021-07-16T21:22:22.703Z"
   },
   {
    "duration": 302,
    "start_time": "2021-07-16T21:22:23.077Z"
   },
   {
    "duration": 3,
    "start_time": "2021-07-16T21:22:23.381Z"
   },
   {
    "duration": 320,
    "start_time": "2021-07-16T21:22:23.391Z"
   },
   {
    "duration": 303,
    "start_time": "2021-07-16T21:22:23.713Z"
   },
   {
    "duration": 438,
    "start_time": "2021-07-16T21:22:24.018Z"
   },
   {
    "duration": 351,
    "start_time": "2021-07-16T21:22:24.458Z"
   },
   {
    "duration": 4,
    "start_time": "2021-07-16T21:22:38.789Z"
   },
   {
    "duration": 4,
    "start_time": "2021-07-16T21:22:52.981Z"
   },
   {
    "duration": 304,
    "start_time": "2021-07-16T21:25:06.674Z"
   },
   {
    "duration": 5,
    "start_time": "2021-07-16T21:25:31.036Z"
   },
   {
    "duration": 4,
    "start_time": "2021-07-16T21:25:37.708Z"
   },
   {
    "duration": 4,
    "start_time": "2021-07-16T21:26:02.307Z"
   },
   {
    "duration": 5,
    "start_time": "2021-07-16T21:26:44.651Z"
   },
   {
    "duration": 4,
    "start_time": "2021-07-16T21:26:54.271Z"
   },
   {
    "duration": 4,
    "start_time": "2021-07-16T21:27:21.405Z"
   },
   {
    "duration": 431,
    "start_time": "2021-07-16T21:27:22.867Z"
   },
   {
    "duration": 587,
    "start_time": "2021-07-16T21:27:31.099Z"
   },
   {
    "duration": 609,
    "start_time": "2021-07-16T21:29:56.015Z"
   },
   {
    "duration": 728,
    "start_time": "2021-07-16T21:39:02.267Z"
   },
   {
    "duration": 9,
    "start_time": "2021-07-16T21:39:02.998Z"
   },
   {
    "duration": 12,
    "start_time": "2021-07-16T21:39:03.009Z"
   },
   {
    "duration": 142,
    "start_time": "2021-07-16T21:39:03.023Z"
   },
   {
    "duration": 40,
    "start_time": "2021-07-16T21:39:03.166Z"
   },
   {
    "duration": 13,
    "start_time": "2021-07-16T21:39:03.208Z"
   },
   {
    "duration": 11,
    "start_time": "2021-07-16T21:39:03.222Z"
   },
   {
    "duration": 6,
    "start_time": "2021-07-16T21:39:03.235Z"
   },
   {
    "duration": 10,
    "start_time": "2021-07-16T21:39:03.242Z"
   },
   {
    "duration": 7,
    "start_time": "2021-07-16T21:39:03.253Z"
   },
   {
    "duration": 31,
    "start_time": "2021-07-16T21:39:03.261Z"
   },
   {
    "duration": 9,
    "start_time": "2021-07-16T21:39:03.293Z"
   },
   {
    "duration": 9,
    "start_time": "2021-07-16T21:39:03.304Z"
   },
   {
    "duration": 9,
    "start_time": "2021-07-16T21:39:03.315Z"
   },
   {
    "duration": 9,
    "start_time": "2021-07-16T21:39:03.325Z"
   },
   {
    "duration": 15,
    "start_time": "2021-07-16T21:39:03.335Z"
   },
   {
    "duration": 4,
    "start_time": "2021-07-16T21:39:03.351Z"
   },
   {
    "duration": 54,
    "start_time": "2021-07-16T21:39:03.358Z"
   },
   {
    "duration": 11,
    "start_time": "2021-07-16T21:39:03.414Z"
   },
   {
    "duration": 39,
    "start_time": "2021-07-16T21:39:03.426Z"
   },
   {
    "duration": 292,
    "start_time": "2021-07-16T21:39:03.466Z"
   },
   {
    "duration": 25,
    "start_time": "2021-07-16T21:39:03.759Z"
   },
   {
    "duration": 1479,
    "start_time": "2021-07-16T21:39:03.791Z"
   },
   {
    "duration": 28,
    "start_time": "2021-07-16T21:39:05.272Z"
   },
   {
    "duration": 295,
    "start_time": "2021-07-16T21:39:05.302Z"
   },
   {
    "duration": 9,
    "start_time": "2021-07-16T21:39:05.598Z"
   },
   {
    "duration": 394,
    "start_time": "2021-07-16T21:39:05.608Z"
   },
   {
    "duration": 283,
    "start_time": "2021-07-16T21:39:06.004Z"
   },
   {
    "duration": 402,
    "start_time": "2021-07-16T21:39:06.291Z"
   },
   {
    "duration": 3,
    "start_time": "2021-07-16T21:39:06.695Z"
   },
   {
    "duration": 460,
    "start_time": "2021-07-16T21:39:06.699Z"
   },
   {
    "duration": 470,
    "start_time": "2021-07-16T21:39:07.160Z"
   },
   {
    "duration": 478,
    "start_time": "2021-07-16T21:39:07.631Z"
   },
   {
    "duration": 3,
    "start_time": "2021-07-16T21:39:08.110Z"
   },
   {
    "duration": 808,
    "start_time": "2021-07-16T21:39:08.114Z"
   },
   {
    "duration": 13,
    "start_time": "2021-07-16T21:39:08.924Z"
   },
   {
    "duration": 162,
    "start_time": "2021-07-16T21:39:08.939Z"
   },
   {
    "duration": 2,
    "start_time": "2021-07-16T21:39:09.103Z"
   },
   {
    "duration": 288,
    "start_time": "2021-07-16T21:39:09.107Z"
   },
   {
    "duration": 1480,
    "start_time": "2021-07-16T21:39:09.397Z"
   },
   {
    "duration": 286,
    "start_time": "2021-07-16T21:39:10.878Z"
   },
   {
    "duration": 318,
    "start_time": "2021-07-16T21:39:11.166Z"
   },
   {
    "duration": 5,
    "start_time": "2021-07-16T21:39:11.486Z"
   },
   {
    "duration": 329,
    "start_time": "2021-07-16T21:39:11.493Z"
   },
   {
    "duration": 274,
    "start_time": "2021-07-16T21:39:11.823Z"
   },
   {
    "duration": 413,
    "start_time": "2021-07-16T21:39:12.099Z"
   },
   {
    "duration": 302,
    "start_time": "2021-07-16T21:39:12.514Z"
   },
   {
    "duration": 75,
    "start_time": "2021-07-16T21:48:21.827Z"
   },
   {
    "duration": 775,
    "start_time": "2021-07-16T21:50:29.921Z"
   },
   {
    "duration": 814,
    "start_time": "2021-07-16T21:51:38.901Z"
   },
   {
    "duration": 10,
    "start_time": "2021-07-16T21:51:39.717Z"
   },
   {
    "duration": 33,
    "start_time": "2021-07-16T21:51:39.730Z"
   },
   {
    "duration": 160,
    "start_time": "2021-07-16T21:51:39.765Z"
   },
   {
    "duration": 39,
    "start_time": "2021-07-16T21:51:39.927Z"
   },
   {
    "duration": 25,
    "start_time": "2021-07-16T21:51:39.968Z"
   },
   {
    "duration": 43,
    "start_time": "2021-07-16T21:51:39.995Z"
   },
   {
    "duration": 25,
    "start_time": "2021-07-16T21:51:40.041Z"
   },
   {
    "duration": 40,
    "start_time": "2021-07-16T21:51:40.069Z"
   },
   {
    "duration": 19,
    "start_time": "2021-07-16T21:51:40.111Z"
   },
   {
    "duration": 27,
    "start_time": "2021-07-16T21:51:40.132Z"
   },
   {
    "duration": 19,
    "start_time": "2021-07-16T21:51:40.160Z"
   },
   {
    "duration": 34,
    "start_time": "2021-07-16T21:51:40.182Z"
   },
   {
    "duration": 23,
    "start_time": "2021-07-16T21:51:40.218Z"
   },
   {
    "duration": 21,
    "start_time": "2021-07-16T21:51:40.243Z"
   },
   {
    "duration": 21,
    "start_time": "2021-07-16T21:51:40.266Z"
   },
   {
    "duration": 30,
    "start_time": "2021-07-16T21:51:40.289Z"
   },
   {
    "duration": 52,
    "start_time": "2021-07-16T21:51:40.321Z"
   },
   {
    "duration": 14,
    "start_time": "2021-07-16T21:51:40.375Z"
   },
   {
    "duration": 71,
    "start_time": "2021-07-16T21:51:40.391Z"
   },
   {
    "duration": 327,
    "start_time": "2021-07-16T21:51:40.464Z"
   },
   {
    "duration": 28,
    "start_time": "2021-07-16T21:51:40.793Z"
   },
   {
    "duration": 1732,
    "start_time": "2021-07-16T21:51:40.825Z"
   },
   {
    "duration": 34,
    "start_time": "2021-07-16T21:51:42.558Z"
   },
   {
    "duration": 313,
    "start_time": "2021-07-16T21:51:42.594Z"
   },
   {
    "duration": 8,
    "start_time": "2021-07-16T21:51:42.909Z"
   },
   {
    "duration": 421,
    "start_time": "2021-07-16T21:51:42.919Z"
   },
   {
    "duration": 311,
    "start_time": "2021-07-16T21:51:43.342Z"
   },
   {
    "duration": 454,
    "start_time": "2021-07-16T21:51:43.654Z"
   },
   {
    "duration": 4,
    "start_time": "2021-07-16T21:51:44.110Z"
   },
   {
    "duration": 500,
    "start_time": "2021-07-16T21:51:44.115Z"
   },
   {
    "duration": 501,
    "start_time": "2021-07-16T21:51:44.617Z"
   },
   {
    "duration": 480,
    "start_time": "2021-07-16T21:51:45.120Z"
   },
   {
    "duration": 3,
    "start_time": "2021-07-16T21:51:45.602Z"
   },
   {
    "duration": 898,
    "start_time": "2021-07-16T21:51:45.606Z"
   },
   {
    "duration": 17,
    "start_time": "2021-07-16T21:51:46.506Z"
   },
   {
    "duration": 176,
    "start_time": "2021-07-16T21:51:46.524Z"
   },
   {
    "duration": 3,
    "start_time": "2021-07-16T21:51:46.702Z"
   },
   {
    "duration": 326,
    "start_time": "2021-07-16T21:51:46.706Z"
   },
   {
    "duration": 1609,
    "start_time": "2021-07-16T21:51:47.034Z"
   },
   {
    "duration": 325,
    "start_time": "2021-07-16T21:51:48.645Z"
   },
   {
    "duration": 332,
    "start_time": "2021-07-16T21:51:48.972Z"
   },
   {
    "duration": 3,
    "start_time": "2021-07-16T21:51:49.307Z"
   },
   {
    "duration": 315,
    "start_time": "2021-07-16T21:51:49.312Z"
   },
   {
    "duration": 305,
    "start_time": "2021-07-16T21:51:49.629Z"
   },
   {
    "duration": 464,
    "start_time": "2021-07-16T21:51:49.936Z"
   },
   {
    "duration": 307,
    "start_time": "2021-07-16T21:51:50.402Z"
   }
  ],
  "colab": {
   "collapsed_sections": [],
   "name": "real_estate_spb.ipynb",
   "provenance": []
  },
  "kernelspec": {
   "display_name": "Python 3 (ipykernel)",
   "language": "python",
   "name": "python3"
  },
  "language_info": {
   "codemirror_mode": {
    "name": "ipython",
    "version": 3
   },
   "file_extension": ".py",
   "mimetype": "text/x-python",
   "name": "python",
   "nbconvert_exporter": "python",
   "pygments_lexer": "ipython3",
   "version": "3.9.7"
  },
  "toc": {
   "base_numbering": 1,
   "nav_menu": {},
   "number_sections": true,
   "sideBar": true,
   "skip_h1_title": true,
   "title_cell": "Содержание",
   "title_sidebar": "Contents",
   "toc_cell": true,
   "toc_position": {
    "height": "calc(100% - 180px)",
    "left": "10px",
    "top": "150px",
    "width": "305px"
   },
   "toc_section_display": true,
   "toc_window_display": true
  }
 },
 "nbformat": 4,
 "nbformat_minor": 1
}
