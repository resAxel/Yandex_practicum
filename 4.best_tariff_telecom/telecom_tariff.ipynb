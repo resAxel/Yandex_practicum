{
 "cells": [
  {
   "cell_type": "markdown",
   "metadata": {},
   "source": [
    "# Определение перспективного тарифа для телеком компании"
   ]
  },
  {
   "cell_type": "markdown",
   "metadata": {},
   "source": [
    "Задача: сделать предварительный анализ тарифов на небольшой выборке клиентов и сделать вывод — какой тариф лучше.\\\n",
    "Исходные данные: 500 пользователей «Мегалайна»: кто они, откуда, каким тарифом пользуются, сколько звонков и сообщений каждый отправил за 2018 год.\\\n",
    "«Мегалайн» — федеральный оператор сотовой связи. Клиентам предлагают два тарифных плана: «Смарт» и «Ультра». Чтобы скорректировать рекламный бюджет, коммерческий департамент хочет понять, какой тариф приносит больше денег.\n"
   ]
  },
  {
   "cell_type": "markdown",
   "metadata": {},
   "source": [
    "##  Изучение данных"
   ]
  },
  {
   "cell_type": "code",
   "execution_count": 1,
   "metadata": {},
   "outputs": [],
   "source": [
    "import pandas as pd\n",
    "import matplotlib.pyplot as plt\n",
    "import seaborn as sns\n",
    "import numpy as np\n",
    "from scipy import stats as st\n"
   ]
  },
  {
   "cell_type": "markdown",
   "metadata": {},
   "source": [
    "### Чтение данных"
   ]
  },
  {
   "cell_type": "markdown",
   "metadata": {},
   "source": [
    "Прочитаем файл с информацией о звонках и посмотрим 10 случайных строк и общую информацию"
   ]
  },
  {
   "cell_type": "code",
   "execution_count": 2,
   "metadata": {},
   "outputs": [
    {
     "data": {
      "text/html": [
       "<div>\n",
       "<style scoped>\n",
       "    .dataframe tbody tr th:only-of-type {\n",
       "        vertical-align: middle;\n",
       "    }\n",
       "\n",
       "    .dataframe tbody tr th {\n",
       "        vertical-align: top;\n",
       "    }\n",
       "\n",
       "    .dataframe thead th {\n",
       "        text-align: right;\n",
       "    }\n",
       "</style>\n",
       "<table border=\"1\" class=\"dataframe\">\n",
       "  <thead>\n",
       "    <tr style=\"text-align: right;\">\n",
       "      <th></th>\n",
       "      <th>id</th>\n",
       "      <th>call_date</th>\n",
       "      <th>duration</th>\n",
       "      <th>user_id</th>\n",
       "    </tr>\n",
       "  </thead>\n",
       "  <tbody>\n",
       "    <tr>\n",
       "      <th>26953</th>\n",
       "      <td>1066_374</td>\n",
       "      <td>2018-08-26</td>\n",
       "      <td>0.00</td>\n",
       "      <td>1066</td>\n",
       "    </tr>\n",
       "    <tr>\n",
       "      <th>66122</th>\n",
       "      <td>1168_1273</td>\n",
       "      <td>2018-03-28</td>\n",
       "      <td>16.05</td>\n",
       "      <td>1168</td>\n",
       "    </tr>\n",
       "    <tr>\n",
       "      <th>67325</th>\n",
       "      <td>1171_350</td>\n",
       "      <td>2018-09-14</td>\n",
       "      <td>6.23</td>\n",
       "      <td>1171</td>\n",
       "    </tr>\n",
       "    <tr>\n",
       "      <th>74643</th>\n",
       "      <td>1186_465</td>\n",
       "      <td>2018-09-02</td>\n",
       "      <td>0.79</td>\n",
       "      <td>1186</td>\n",
       "    </tr>\n",
       "    <tr>\n",
       "      <th>192311</th>\n",
       "      <td>1472_124</td>\n",
       "      <td>2018-05-04</td>\n",
       "      <td>5.94</td>\n",
       "      <td>1472</td>\n",
       "    </tr>\n",
       "    <tr>\n",
       "      <th>47375</th>\n",
       "      <td>1118_664</td>\n",
       "      <td>2018-10-24</td>\n",
       "      <td>13.41</td>\n",
       "      <td>1118</td>\n",
       "    </tr>\n",
       "    <tr>\n",
       "      <th>91143</th>\n",
       "      <td>1227_563</td>\n",
       "      <td>2018-08-03</td>\n",
       "      <td>15.15</td>\n",
       "      <td>1227</td>\n",
       "    </tr>\n",
       "    <tr>\n",
       "      <th>3818</th>\n",
       "      <td>1010_67</td>\n",
       "      <td>2018-08-16</td>\n",
       "      <td>14.29</td>\n",
       "      <td>1010</td>\n",
       "    </tr>\n",
       "    <tr>\n",
       "      <th>182822</th>\n",
       "      <td>1454_574</td>\n",
       "      <td>2018-09-23</td>\n",
       "      <td>9.98</td>\n",
       "      <td>1454</td>\n",
       "    </tr>\n",
       "    <tr>\n",
       "      <th>187346</th>\n",
       "      <td>1463_0</td>\n",
       "      <td>2018-12-05</td>\n",
       "      <td>10.63</td>\n",
       "      <td>1463</td>\n",
       "    </tr>\n",
       "  </tbody>\n",
       "</table>\n",
       "</div>"
      ],
      "text/plain": [
       "               id   call_date  duration  user_id\n",
       "26953    1066_374  2018-08-26      0.00     1066\n",
       "66122   1168_1273  2018-03-28     16.05     1168\n",
       "67325    1171_350  2018-09-14      6.23     1171\n",
       "74643    1186_465  2018-09-02      0.79     1186\n",
       "192311   1472_124  2018-05-04      5.94     1472\n",
       "47375    1118_664  2018-10-24     13.41     1118\n",
       "91143    1227_563  2018-08-03     15.15     1227\n",
       "3818      1010_67  2018-08-16     14.29     1010\n",
       "182822   1454_574  2018-09-23      9.98     1454\n",
       "187346     1463_0  2018-12-05     10.63     1463"
      ]
     },
     "execution_count": 2,
     "metadata": {},
     "output_type": "execute_result"
    }
   ],
   "source": [
    "calls = pd.read_csv('Ya_data/telecom/calls.csv')\n",
    "calls.sample(10, random_state=1)"
   ]
  },
  {
   "cell_type": "code",
   "execution_count": 3,
   "metadata": {},
   "outputs": [
    {
     "name": "stdout",
     "output_type": "stream",
     "text": [
      "<class 'pandas.core.frame.DataFrame'>\n",
      "RangeIndex: 202607 entries, 0 to 202606\n",
      "Data columns (total 4 columns):\n",
      " #   Column     Non-Null Count   Dtype  \n",
      "---  ------     --------------   -----  \n",
      " 0   id         202607 non-null  object \n",
      " 1   call_date  202607 non-null  object \n",
      " 2   duration   202607 non-null  float64\n",
      " 3   user_id    202607 non-null  int64  \n",
      "dtypes: float64(1), int64(1), object(2)\n",
      "memory usage: 6.2+ MB\n"
     ]
    }
   ],
   "source": [
    "calls.info(10)"
   ]
  },
  {
   "cell_type": "markdown",
   "metadata": {},
   "source": [
    "Имеем 4 столбца. \\\n",
    "id — уникальный номер звонка\\\n",
    "call_date — дата звонка\\\n",
    "duration — длительность звонка в минутах\\\n",
    "user_id — идентификатор пользователя, сделавшего звонок\\\n",
    "\n",
    "Пропусков нет. В столбце call_date нужно поменять тип данных.\n",
    "Некоторые разговоры имеют нулевую длительность.\\\n",
    "Кроме того нужно округлить секунды до целых минут согласно условиям тарификации."
   ]
  },
  {
   "cell_type": "markdown",
   "metadata": {},
   "source": [
    "Прочитаем файл с информацией об интернет-сессиях и посмотрим 10 случайных строк и общую информацию"
   ]
  },
  {
   "cell_type": "code",
   "execution_count": 4,
   "metadata": {},
   "outputs": [
    {
     "data": {
      "text/html": [
       "<div>\n",
       "<style scoped>\n",
       "    .dataframe tbody tr th:only-of-type {\n",
       "        vertical-align: middle;\n",
       "    }\n",
       "\n",
       "    .dataframe tbody tr th {\n",
       "        vertical-align: top;\n",
       "    }\n",
       "\n",
       "    .dataframe thead th {\n",
       "        text-align: right;\n",
       "    }\n",
       "</style>\n",
       "<table border=\"1\" class=\"dataframe\">\n",
       "  <thead>\n",
       "    <tr style=\"text-align: right;\">\n",
       "      <th></th>\n",
       "      <th>Unnamed: 0</th>\n",
       "      <th>id</th>\n",
       "      <th>mb_used</th>\n",
       "      <th>session_date</th>\n",
       "      <th>user_id</th>\n",
       "    </tr>\n",
       "  </thead>\n",
       "  <tbody>\n",
       "    <tr>\n",
       "      <th>35745</th>\n",
       "      <td>35745</td>\n",
       "      <td>1124_125</td>\n",
       "      <td>122.45</td>\n",
       "      <td>2018-12-03</td>\n",
       "      <td>1124</td>\n",
       "    </tr>\n",
       "    <tr>\n",
       "      <th>18383</th>\n",
       "      <td>18383</td>\n",
       "      <td>1064_102</td>\n",
       "      <td>320.60</td>\n",
       "      <td>2018-12-19</td>\n",
       "      <td>1064</td>\n",
       "    </tr>\n",
       "    <tr>\n",
       "      <th>59774</th>\n",
       "      <td>59774</td>\n",
       "      <td>1203_22</td>\n",
       "      <td>605.96</td>\n",
       "      <td>2018-06-17</td>\n",
       "      <td>1203</td>\n",
       "    </tr>\n",
       "    <tr>\n",
       "      <th>56317</th>\n",
       "      <td>56317</td>\n",
       "      <td>1188_123</td>\n",
       "      <td>781.73</td>\n",
       "      <td>2018-05-08</td>\n",
       "      <td>1188</td>\n",
       "    </tr>\n",
       "    <tr>\n",
       "      <th>52231</th>\n",
       "      <td>52231</td>\n",
       "      <td>1176_386</td>\n",
       "      <td>150.98</td>\n",
       "      <td>2018-08-20</td>\n",
       "      <td>1176</td>\n",
       "    </tr>\n",
       "    <tr>\n",
       "      <th>20276</th>\n",
       "      <td>20276</td>\n",
       "      <td>1068_26</td>\n",
       "      <td>389.65</td>\n",
       "      <td>2018-12-04</td>\n",
       "      <td>1068</td>\n",
       "    </tr>\n",
       "    <tr>\n",
       "      <th>82748</th>\n",
       "      <td>82748</td>\n",
       "      <td>1281_64</td>\n",
       "      <td>841.89</td>\n",
       "      <td>2018-11-07</td>\n",
       "      <td>1281</td>\n",
       "    </tr>\n",
       "    <tr>\n",
       "      <th>129266</th>\n",
       "      <td>129266</td>\n",
       "      <td>1431_300</td>\n",
       "      <td>461.23</td>\n",
       "      <td>2018-11-26</td>\n",
       "      <td>1431</td>\n",
       "    </tr>\n",
       "    <tr>\n",
       "      <th>46783</th>\n",
       "      <td>46783</td>\n",
       "      <td>1160_75</td>\n",
       "      <td>0.00</td>\n",
       "      <td>2018-08-15</td>\n",
       "      <td>1160</td>\n",
       "    </tr>\n",
       "    <tr>\n",
       "      <th>48492</th>\n",
       "      <td>48492</td>\n",
       "      <td>1168_260</td>\n",
       "      <td>336.06</td>\n",
       "      <td>2018-07-28</td>\n",
       "      <td>1168</td>\n",
       "    </tr>\n",
       "  </tbody>\n",
       "</table>\n",
       "</div>"
      ],
      "text/plain": [
       "        Unnamed: 0        id  mb_used session_date  user_id\n",
       "35745        35745  1124_125   122.45   2018-12-03     1124\n",
       "18383        18383  1064_102   320.60   2018-12-19     1064\n",
       "59774        59774   1203_22   605.96   2018-06-17     1203\n",
       "56317        56317  1188_123   781.73   2018-05-08     1188\n",
       "52231        52231  1176_386   150.98   2018-08-20     1176\n",
       "20276        20276   1068_26   389.65   2018-12-04     1068\n",
       "82748        82748   1281_64   841.89   2018-11-07     1281\n",
       "129266      129266  1431_300   461.23   2018-11-26     1431\n",
       "46783        46783   1160_75     0.00   2018-08-15     1160\n",
       "48492        48492  1168_260   336.06   2018-07-28     1168"
      ]
     },
     "execution_count": 4,
     "metadata": {},
     "output_type": "execute_result"
    }
   ],
   "source": [
    "internet = pd.read_csv('Ya_data/telecom/internet.csv')\n",
    "internet.sample(10, random_state=1)"
   ]
  },
  {
   "cell_type": "code",
   "execution_count": 5,
   "metadata": {},
   "outputs": [
    {
     "name": "stdout",
     "output_type": "stream",
     "text": [
      "<class 'pandas.core.frame.DataFrame'>\n",
      "RangeIndex: 149396 entries, 0 to 149395\n",
      "Data columns (total 5 columns):\n",
      " #   Column        Non-Null Count   Dtype  \n",
      "---  ------        --------------   -----  \n",
      " 0   Unnamed: 0    149396 non-null  int64  \n",
      " 1   id            149396 non-null  object \n",
      " 2   mb_used       149396 non-null  float64\n",
      " 3   session_date  149396 non-null  object \n",
      " 4   user_id       149396 non-null  int64  \n",
      "dtypes: float64(1), int64(2), object(2)\n",
      "memory usage: 5.7+ MB\n"
     ]
    }
   ],
   "source": [
    "internet.info()"
   ]
  },
  {
   "cell_type": "markdown",
   "metadata": {},
   "source": [
    "Имеем 5 столбцов. \\\n",
    "Unnamed: 0 - дублирующий индексы столбец (можно удалить)\\\n",
    "id — уникальный номер сессии\\\n",
    "mb_used — объём потраченного за сессию интернет-трафика (в мегабайтах)\\\n",
    "session_date — дата интернет-сессии\\\n",
    "user_id — идентификатор пользователя\\\n",
    "Пропусков нет. В столбце session_date нужно поменять тип данных. "
   ]
  },
  {
   "cell_type": "markdown",
   "metadata": {},
   "source": [
    "Прочитаем файл с информацией о сообщениях и посмотрим 10 случайных строк и общую информацию"
   ]
  },
  {
   "cell_type": "code",
   "execution_count": 6,
   "metadata": {},
   "outputs": [
    {
     "data": {
      "text/html": [
       "<div>\n",
       "<style scoped>\n",
       "    .dataframe tbody tr th:only-of-type {\n",
       "        vertical-align: middle;\n",
       "    }\n",
       "\n",
       "    .dataframe tbody tr th {\n",
       "        vertical-align: top;\n",
       "    }\n",
       "\n",
       "    .dataframe thead th {\n",
       "        text-align: right;\n",
       "    }\n",
       "</style>\n",
       "<table border=\"1\" class=\"dataframe\">\n",
       "  <thead>\n",
       "    <tr style=\"text-align: right;\">\n",
       "      <th></th>\n",
       "      <th>id</th>\n",
       "      <th>message_date</th>\n",
       "      <th>user_id</th>\n",
       "    </tr>\n",
       "  </thead>\n",
       "  <tbody>\n",
       "    <tr>\n",
       "      <th>45696</th>\n",
       "      <td>1197_26</td>\n",
       "      <td>2018-12-31</td>\n",
       "      <td>1197</td>\n",
       "    </tr>\n",
       "    <tr>\n",
       "      <th>66091</th>\n",
       "      <td>1282_523</td>\n",
       "      <td>2018-11-30</td>\n",
       "      <td>1282</td>\n",
       "    </tr>\n",
       "    <tr>\n",
       "      <th>18743</th>\n",
       "      <td>1082_184</td>\n",
       "      <td>2018-10-18</td>\n",
       "      <td>1082</td>\n",
       "    </tr>\n",
       "    <tr>\n",
       "      <th>33759</th>\n",
       "      <td>1146_557</td>\n",
       "      <td>2018-12-22</td>\n",
       "      <td>1146</td>\n",
       "    </tr>\n",
       "    <tr>\n",
       "      <th>11403</th>\n",
       "      <td>1048_49</td>\n",
       "      <td>2018-09-27</td>\n",
       "      <td>1048</td>\n",
       "    </tr>\n",
       "    <tr>\n",
       "      <th>97793</th>\n",
       "      <td>1401_125</td>\n",
       "      <td>2018-08-10</td>\n",
       "      <td>1401</td>\n",
       "    </tr>\n",
       "    <tr>\n",
       "      <th>406</th>\n",
       "      <td>1000_406</td>\n",
       "      <td>2018-12-29</td>\n",
       "      <td>1000</td>\n",
       "    </tr>\n",
       "    <tr>\n",
       "      <th>71393</th>\n",
       "      <td>1302_221</td>\n",
       "      <td>2018-10-23</td>\n",
       "      <td>1302</td>\n",
       "    </tr>\n",
       "    <tr>\n",
       "      <th>103004</th>\n",
       "      <td>1420_11</td>\n",
       "      <td>2018-12-12</td>\n",
       "      <td>1420</td>\n",
       "    </tr>\n",
       "    <tr>\n",
       "      <th>53795</th>\n",
       "      <td>1238_208</td>\n",
       "      <td>2018-10-08</td>\n",
       "      <td>1238</td>\n",
       "    </tr>\n",
       "  </tbody>\n",
       "</table>\n",
       "</div>"
      ],
      "text/plain": [
       "              id message_date  user_id\n",
       "45696    1197_26   2018-12-31     1197\n",
       "66091   1282_523   2018-11-30     1282\n",
       "18743   1082_184   2018-10-18     1082\n",
       "33759   1146_557   2018-12-22     1146\n",
       "11403    1048_49   2018-09-27     1048\n",
       "97793   1401_125   2018-08-10     1401\n",
       "406     1000_406   2018-12-29     1000\n",
       "71393   1302_221   2018-10-23     1302\n",
       "103004   1420_11   2018-12-12     1420\n",
       "53795   1238_208   2018-10-08     1238"
      ]
     },
     "execution_count": 6,
     "metadata": {},
     "output_type": "execute_result"
    }
   ],
   "source": [
    "messages = pd.read_csv('Ya_data/telecom/messages.csv')\n",
    "messages.sample(10, random_state=1)"
   ]
  },
  {
   "cell_type": "code",
   "execution_count": 7,
   "metadata": {},
   "outputs": [
    {
     "name": "stdout",
     "output_type": "stream",
     "text": [
      "<class 'pandas.core.frame.DataFrame'>\n",
      "RangeIndex: 123036 entries, 0 to 123035\n",
      "Data columns (total 3 columns):\n",
      " #   Column        Non-Null Count   Dtype \n",
      "---  ------        --------------   ----- \n",
      " 0   id            123036 non-null  object\n",
      " 1   message_date  123036 non-null  object\n",
      " 2   user_id       123036 non-null  int64 \n",
      "dtypes: int64(1), object(2)\n",
      "memory usage: 2.8+ MB\n"
     ]
    }
   ],
   "source": [
    "messages.info()"
   ]
  },
  {
   "cell_type": "markdown",
   "metadata": {},
   "source": [
    "Имеем 3 столбца\\\n",
    "id — уникальный номер сообщения\\\n",
    "message_date — дата сообщения\\\n",
    "user_id — идентификатор пользователя, отправившего сообщение\\\n",
    "Пропусков нет. В столбцеи message_date нужно поменять тип данных."
   ]
  },
  {
   "cell_type": "markdown",
   "metadata": {},
   "source": [
    "Прочитаем файл с информацией о тарифах и посмотрим содержимое и общую информацию"
   ]
  },
  {
   "cell_type": "code",
   "execution_count": 8,
   "metadata": {},
   "outputs": [
    {
     "data": {
      "text/html": [
       "<div>\n",
       "<style scoped>\n",
       "    .dataframe tbody tr th:only-of-type {\n",
       "        vertical-align: middle;\n",
       "    }\n",
       "\n",
       "    .dataframe tbody tr th {\n",
       "        vertical-align: top;\n",
       "    }\n",
       "\n",
       "    .dataframe thead th {\n",
       "        text-align: right;\n",
       "    }\n",
       "</style>\n",
       "<table border=\"1\" class=\"dataframe\">\n",
       "  <thead>\n",
       "    <tr style=\"text-align: right;\">\n",
       "      <th></th>\n",
       "      <th>messages_included</th>\n",
       "      <th>mb_per_month_included</th>\n",
       "      <th>minutes_included</th>\n",
       "      <th>rub_monthly_fee</th>\n",
       "      <th>rub_per_gb</th>\n",
       "      <th>rub_per_message</th>\n",
       "      <th>rub_per_minute</th>\n",
       "      <th>tariff_name</th>\n",
       "    </tr>\n",
       "  </thead>\n",
       "  <tbody>\n",
       "    <tr>\n",
       "      <th>0</th>\n",
       "      <td>50</td>\n",
       "      <td>15360</td>\n",
       "      <td>500</td>\n",
       "      <td>550</td>\n",
       "      <td>200</td>\n",
       "      <td>3</td>\n",
       "      <td>3</td>\n",
       "      <td>smart</td>\n",
       "    </tr>\n",
       "    <tr>\n",
       "      <th>1</th>\n",
       "      <td>1000</td>\n",
       "      <td>30720</td>\n",
       "      <td>3000</td>\n",
       "      <td>1950</td>\n",
       "      <td>150</td>\n",
       "      <td>1</td>\n",
       "      <td>1</td>\n",
       "      <td>ultra</td>\n",
       "    </tr>\n",
       "  </tbody>\n",
       "</table>\n",
       "</div>"
      ],
      "text/plain": [
       "   messages_included  mb_per_month_included  minutes_included  \\\n",
       "0                 50                  15360               500   \n",
       "1               1000                  30720              3000   \n",
       "\n",
       "   rub_monthly_fee  rub_per_gb  rub_per_message  rub_per_minute tariff_name  \n",
       "0              550         200                3               3       smart  \n",
       "1             1950         150                1               1       ultra  "
      ]
     },
     "execution_count": 8,
     "metadata": {},
     "output_type": "execute_result"
    }
   ],
   "source": [
    "tariffs = pd.read_csv('Ya_data/telecom/tariffs.csv')\n",
    "tariffs"
   ]
  },
  {
   "cell_type": "code",
   "execution_count": 9,
   "metadata": {},
   "outputs": [
    {
     "name": "stdout",
     "output_type": "stream",
     "text": [
      "<class 'pandas.core.frame.DataFrame'>\n",
      "RangeIndex: 2 entries, 0 to 1\n",
      "Data columns (total 8 columns):\n",
      " #   Column                 Non-Null Count  Dtype \n",
      "---  ------                 --------------  ----- \n",
      " 0   messages_included      2 non-null      int64 \n",
      " 1   mb_per_month_included  2 non-null      int64 \n",
      " 2   minutes_included       2 non-null      int64 \n",
      " 3   rub_monthly_fee        2 non-null      int64 \n",
      " 4   rub_per_gb             2 non-null      int64 \n",
      " 5   rub_per_message        2 non-null      int64 \n",
      " 6   rub_per_minute         2 non-null      int64 \n",
      " 7   tariff_name            2 non-null      object\n",
      "dtypes: int64(7), object(1)\n",
      "memory usage: 256.0+ bytes\n"
     ]
    }
   ],
   "source": [
    "tariffs.info()"
   ]
  },
  {
   "cell_type": "markdown",
   "metadata": {},
   "source": [
    "Имеем 8 столбцов\\\n",
    "tariff_name — название тарифа\\\n",
    "rub_monthly_fee — ежемесячная абонентская плата в рублях\\\n",
    "minutes_included — количество минут разговора в месяц, включённых в абонентскую плату\\\n",
    "messages_included — количество сообщений в месяц, включённых в абонентскую плату\\\n",
    "mb_per_month_included — объём интернет-трафика, включённого в абонентскую плату (в мегабайтах)\\\n",
    "rub_per_minute — стоимость минуты разговора сверх тарифного пакета (например, если в тарифе 100 минут разговора в месяц, то со 101 минуты будет взиматься плата)\\\n",
    "rub_per_message — стоимость отправки сообщения сверх тарифного пакета\\\n",
    "rub_per_gb — стоимость дополнительного гигабайта интернет-трафика сверх тарифного пакета (1 гигабайт = 1024 мегабайта)\\\n",
    "С данными все в порядке."
   ]
  },
  {
   "cell_type": "markdown",
   "metadata": {},
   "source": [
    "Прочитаем файл с информацией о пользователях и посмотрим 10 случайных строк и общую информацию"
   ]
  },
  {
   "cell_type": "code",
   "execution_count": 10,
   "metadata": {},
   "outputs": [
    {
     "data": {
      "text/html": [
       "<div>\n",
       "<style scoped>\n",
       "    .dataframe tbody tr th:only-of-type {\n",
       "        vertical-align: middle;\n",
       "    }\n",
       "\n",
       "    .dataframe tbody tr th {\n",
       "        vertical-align: top;\n",
       "    }\n",
       "\n",
       "    .dataframe thead th {\n",
       "        text-align: right;\n",
       "    }\n",
       "</style>\n",
       "<table border=\"1\" class=\"dataframe\">\n",
       "  <thead>\n",
       "    <tr style=\"text-align: right;\">\n",
       "      <th></th>\n",
       "      <th>user_id</th>\n",
       "      <th>age</th>\n",
       "      <th>churn_date</th>\n",
       "      <th>city</th>\n",
       "      <th>first_name</th>\n",
       "      <th>last_name</th>\n",
       "      <th>reg_date</th>\n",
       "      <th>tariff</th>\n",
       "    </tr>\n",
       "  </thead>\n",
       "  <tbody>\n",
       "    <tr>\n",
       "      <th>0</th>\n",
       "      <td>1000</td>\n",
       "      <td>52</td>\n",
       "      <td>NaN</td>\n",
       "      <td>Краснодар</td>\n",
       "      <td>Рафаил</td>\n",
       "      <td>Верещагин</td>\n",
       "      <td>2018-05-25</td>\n",
       "      <td>ultra</td>\n",
       "    </tr>\n",
       "    <tr>\n",
       "      <th>1</th>\n",
       "      <td>1001</td>\n",
       "      <td>41</td>\n",
       "      <td>NaN</td>\n",
       "      <td>Москва</td>\n",
       "      <td>Иван</td>\n",
       "      <td>Ежов</td>\n",
       "      <td>2018-11-01</td>\n",
       "      <td>smart</td>\n",
       "    </tr>\n",
       "    <tr>\n",
       "      <th>2</th>\n",
       "      <td>1002</td>\n",
       "      <td>59</td>\n",
       "      <td>NaN</td>\n",
       "      <td>Стерлитамак</td>\n",
       "      <td>Евгений</td>\n",
       "      <td>Абрамович</td>\n",
       "      <td>2018-06-17</td>\n",
       "      <td>smart</td>\n",
       "    </tr>\n",
       "    <tr>\n",
       "      <th>3</th>\n",
       "      <td>1003</td>\n",
       "      <td>23</td>\n",
       "      <td>NaN</td>\n",
       "      <td>Москва</td>\n",
       "      <td>Белла</td>\n",
       "      <td>Белякова</td>\n",
       "      <td>2018-08-17</td>\n",
       "      <td>ultra</td>\n",
       "    </tr>\n",
       "    <tr>\n",
       "      <th>4</th>\n",
       "      <td>1004</td>\n",
       "      <td>68</td>\n",
       "      <td>NaN</td>\n",
       "      <td>Новокузнецк</td>\n",
       "      <td>Татьяна</td>\n",
       "      <td>Авдеенко</td>\n",
       "      <td>2018-05-14</td>\n",
       "      <td>ultra</td>\n",
       "    </tr>\n",
       "    <tr>\n",
       "      <th>5</th>\n",
       "      <td>1005</td>\n",
       "      <td>67</td>\n",
       "      <td>NaN</td>\n",
       "      <td>Набережные Челны</td>\n",
       "      <td>Афанасий</td>\n",
       "      <td>Горлов</td>\n",
       "      <td>2018-01-25</td>\n",
       "      <td>smart</td>\n",
       "    </tr>\n",
       "    <tr>\n",
       "      <th>6</th>\n",
       "      <td>1006</td>\n",
       "      <td>21</td>\n",
       "      <td>NaN</td>\n",
       "      <td>Ульяновск</td>\n",
       "      <td>Леонид</td>\n",
       "      <td>Ермолаев</td>\n",
       "      <td>2018-02-26</td>\n",
       "      <td>smart</td>\n",
       "    </tr>\n",
       "    <tr>\n",
       "      <th>7</th>\n",
       "      <td>1007</td>\n",
       "      <td>65</td>\n",
       "      <td>NaN</td>\n",
       "      <td>Москва</td>\n",
       "      <td>Юна</td>\n",
       "      <td>Березина</td>\n",
       "      <td>2018-04-19</td>\n",
       "      <td>smart</td>\n",
       "    </tr>\n",
       "    <tr>\n",
       "      <th>8</th>\n",
       "      <td>1008</td>\n",
       "      <td>63</td>\n",
       "      <td>NaN</td>\n",
       "      <td>Челябинск</td>\n",
       "      <td>Рустэм</td>\n",
       "      <td>Пономарёв</td>\n",
       "      <td>2018-12-19</td>\n",
       "      <td>smart</td>\n",
       "    </tr>\n",
       "    <tr>\n",
       "      <th>9</th>\n",
       "      <td>1009</td>\n",
       "      <td>24</td>\n",
       "      <td>NaN</td>\n",
       "      <td>Пермь</td>\n",
       "      <td>Василиса</td>\n",
       "      <td>Блинова</td>\n",
       "      <td>2018-03-22</td>\n",
       "      <td>smart</td>\n",
       "    </tr>\n",
       "  </tbody>\n",
       "</table>\n",
       "</div>"
      ],
      "text/plain": [
       "   user_id  age churn_date              city first_name  last_name  \\\n",
       "0     1000   52        NaN         Краснодар     Рафаил  Верещагин   \n",
       "1     1001   41        NaN            Москва       Иван       Ежов   \n",
       "2     1002   59        NaN       Стерлитамак    Евгений  Абрамович   \n",
       "3     1003   23        NaN            Москва      Белла   Белякова   \n",
       "4     1004   68        NaN       Новокузнецк    Татьяна   Авдеенко   \n",
       "5     1005   67        NaN  Набережные Челны   Афанасий     Горлов   \n",
       "6     1006   21        NaN         Ульяновск     Леонид   Ермолаев   \n",
       "7     1007   65        NaN            Москва        Юна   Березина   \n",
       "8     1008   63        NaN         Челябинск     Рустэм  Пономарёв   \n",
       "9     1009   24        NaN             Пермь   Василиса    Блинова   \n",
       "\n",
       "     reg_date tariff  \n",
       "0  2018-05-25  ultra  \n",
       "1  2018-11-01  smart  \n",
       "2  2018-06-17  smart  \n",
       "3  2018-08-17  ultra  \n",
       "4  2018-05-14  ultra  \n",
       "5  2018-01-25  smart  \n",
       "6  2018-02-26  smart  \n",
       "7  2018-04-19  smart  \n",
       "8  2018-12-19  smart  \n",
       "9  2018-03-22  smart  "
      ]
     },
     "execution_count": 10,
     "metadata": {},
     "output_type": "execute_result"
    }
   ],
   "source": [
    "users = pd.read_csv('Ya_data/telecom/users.csv')\n",
    "users.head(10)"
   ]
  },
  {
   "cell_type": "code",
   "execution_count": 11,
   "metadata": {},
   "outputs": [
    {
     "name": "stdout",
     "output_type": "stream",
     "text": [
      "<class 'pandas.core.frame.DataFrame'>\n",
      "RangeIndex: 500 entries, 0 to 499\n",
      "Data columns (total 8 columns):\n",
      " #   Column      Non-Null Count  Dtype \n",
      "---  ------      --------------  ----- \n",
      " 0   user_id     500 non-null    int64 \n",
      " 1   age         500 non-null    int64 \n",
      " 2   churn_date  38 non-null     object\n",
      " 3   city        500 non-null    object\n",
      " 4   first_name  500 non-null    object\n",
      " 5   last_name   500 non-null    object\n",
      " 6   reg_date    500 non-null    object\n",
      " 7   tariff      500 non-null    object\n",
      "dtypes: int64(2), object(6)\n",
      "memory usage: 31.4+ KB\n"
     ]
    }
   ],
   "source": [
    "users.info()"
   ]
  },
  {
   "cell_type": "markdown",
   "metadata": {},
   "source": [
    "Имеем 8 столбцов\\\n",
    "user_id — уникальный идентификатор пользователя\\\n",
    "first_name — имя пользователя\\\n",
    "last_name — фамилия пользователя\\\n",
    "age — возраст пользователя (годы)\\\n",
    "reg_date — дата подключения тарифа (день, месяц, год)\\\n",
    "churn_date — дата прекращения пользования тарифом (если значение пропущено, то тариф ещё действовал на момент выгрузки данных)\\\n",
    "city — город проживания пользователя\\\n",
    "tariff — название тарифного плана\\\n",
    "Пропуски в churn_date можно заменить на последнее число года."
   ]
  },
  {
   "cell_type": "markdown",
   "metadata": {},
   "source": [
    "### Вывод"
   ]
  },
  {
   "cell_type": "markdown",
   "metadata": {},
   "source": [
    "Прочитали файлы с данными. Посмотрели содержание и типы данных. Пропуски замениять нигде не нужно. Во всех файлах дата в неправильном формате. Столбцы id имеют двойной числовой формат. Что с этим делать не понятно. Вряд ли эта информация понадобится для этого исследования.  Обнаружен лишний столбец в данных об интернет-сессиях. Длительность звонков нужно округлить до минут в большую сторону. "
   ]
  },
  {
   "cell_type": "markdown",
   "metadata": {},
   "source": [
    "## Подготовка данных"
   ]
  },
  {
   "cell_type": "markdown",
   "metadata": {},
   "source": [
    "### Приведем данные к нужным типам"
   ]
  },
  {
   "cell_type": "code",
   "execution_count": 12,
   "metadata": {},
   "outputs": [
    {
     "name": "stdout",
     "output_type": "stream",
     "text": [
      "<class 'pandas.core.frame.DataFrame'>\n",
      "RangeIndex: 202607 entries, 0 to 202606\n",
      "Data columns (total 4 columns):\n",
      " #   Column     Non-Null Count   Dtype         \n",
      "---  ------     --------------   -----         \n",
      " 0   id         202607 non-null  object        \n",
      " 1   call_date  202607 non-null  datetime64[ns]\n",
      " 2   duration   202607 non-null  int32         \n",
      " 3   user_id    202607 non-null  int64         \n",
      "dtypes: datetime64[ns](1), int32(1), int64(1), object(1)\n",
      "memory usage: 5.4+ MB\n",
      "<class 'pandas.core.frame.DataFrame'>\n",
      "RangeIndex: 149396 entries, 0 to 149395\n",
      "Data columns (total 4 columns):\n",
      " #   Column        Non-Null Count   Dtype         \n",
      "---  ------        --------------   -----         \n",
      " 0   id            149396 non-null  object        \n",
      " 1   mb_used       149396 non-null  float64       \n",
      " 2   session_date  149396 non-null  datetime64[ns]\n",
      " 3   user_id       149396 non-null  int64         \n",
      "dtypes: datetime64[ns](1), float64(1), int64(1), object(1)\n",
      "memory usage: 4.6+ MB\n",
      "<class 'pandas.core.frame.DataFrame'>\n",
      "RangeIndex: 123036 entries, 0 to 123035\n",
      "Data columns (total 3 columns):\n",
      " #   Column        Non-Null Count   Dtype         \n",
      "---  ------        --------------   -----         \n",
      " 0   id            123036 non-null  object        \n",
      " 1   message_date  123036 non-null  datetime64[ns]\n",
      " 2   user_id       123036 non-null  int64         \n",
      "dtypes: datetime64[ns](1), int64(1), object(1)\n",
      "memory usage: 2.8+ MB\n",
      "<class 'pandas.core.frame.DataFrame'>\n",
      "RangeIndex: 500 entries, 0 to 499\n",
      "Data columns (total 8 columns):\n",
      " #   Column      Non-Null Count  Dtype         \n",
      "---  ------      --------------  -----         \n",
      " 0   user_id     500 non-null    int64         \n",
      " 1   age         500 non-null    int64         \n",
      " 2   churn_date  500 non-null    object        \n",
      " 3   city        500 non-null    object        \n",
      " 4   first_name  500 non-null    object        \n",
      " 5   last_name   500 non-null    object        \n",
      " 6   reg_date    500 non-null    datetime64[ns]\n",
      " 7   tariff      500 non-null    object        \n",
      "dtypes: datetime64[ns](1), int64(2), object(5)\n",
      "memory usage: 31.4+ KB\n",
      "<class 'pandas.core.frame.DataFrame'>\n",
      "RangeIndex: 500 entries, 0 to 499\n",
      "Data columns (total 8 columns):\n",
      " #   Column      Non-Null Count  Dtype         \n",
      "---  ------      --------------  -----         \n",
      " 0   user_id     500 non-null    int64         \n",
      " 1   age         500 non-null    int64         \n",
      " 2   churn_date  500 non-null    datetime64[ns]\n",
      " 3   city        500 non-null    object        \n",
      " 4   first_name  500 non-null    object        \n",
      " 5   last_name   500 non-null    object        \n",
      " 6   reg_date    500 non-null    datetime64[ns]\n",
      " 7   tariff      500 non-null    object        \n",
      "dtypes: datetime64[ns](2), int64(2), object(4)\n",
      "memory usage: 31.4+ KB\n"
     ]
    }
   ],
   "source": [
    "#В internet удалим лишний столбец.\n",
    "internet = internet.drop(['Unnamed: 0'], axis=1)\n",
    "\n",
    "# В задании указано что данные за 18 год, поэтому заполним пропуски в датах прекращения пользования последней датой этого года \n",
    "users['churn_date'] = users['churn_date'].fillna('2018-12-31')\n",
    "\n",
    "#В calls округлим минуты в большую сторону.\n",
    "calls['duration'] = np.ceil(calls['duration']).astype('int')\n",
    "\n",
    "#Переведем дату из object в datetime64 в данных calls, internet, messages и users. \n",
    "#зададим столбцы для замены типа данных\n",
    "date_type_param = [[calls,'call_date'],\n",
    "                  [internet,'session_date'],\n",
    "                  [messages,'message_date'],\n",
    "                  [users, 'reg_date'],\n",
    "                  [users, 'churn_date']]\n",
    "#проделаем опервции в цикле и посмотрим результат\n",
    "for param in date_type_param:\n",
    "    param[0][param[1]] = pd.to_datetime(param[0][param[1]], format='%Y-%m-%d')\n",
    "    param[0].info()"
   ]
  },
  {
   "cell_type": "markdown",
   "metadata": {},
   "source": [
    "### Анализ нулевых значений в длительности звонков и интернет трафике"
   ]
  },
  {
   "cell_type": "markdown",
   "metadata": {},
   "source": [
    "Длительность многих звонков — 0.0 минут. Построим гистрограмму чтобы оценить относительное колличество таких значений."
   ]
  },
  {
   "cell_type": "code",
   "execution_count": 13,
   "metadata": {},
   "outputs": [
    {
     "data": {
      "text/plain": [
       "count    202607.000000\n",
       "mean          7.158198\n",
       "std           5.959173\n",
       "min           0.000000\n",
       "25%           2.000000\n",
       "50%           6.000000\n",
       "75%          11.000000\n",
       "max          38.000000\n",
       "Name: duration, dtype: float64"
      ]
     },
     "execution_count": 13,
     "metadata": {},
     "output_type": "execute_result"
    },
    {
     "data": {
      "image/png": "[encoded data removed]",
      "text/plain": [
       "<Figure size 1080x360 with 1 Axes>"
      ]
     },
     "metadata": {
      "needs_background": "light"
     },
     "output_type": "display_data"
    }
   ],
   "source": [
    "#calls.boxplot(column='duration')\n",
    "calls['duration'].hist(bins=100, figsize=(15,5))\n",
    "plt.title('Гистрограмма продолжительности звонков')\n",
    "#plt.show()\n",
    "calls['duration'].describe()"
   ]
  },
  {
   "cell_type": "markdown",
   "metadata": {},
   "source": [
    "Посмотрим отношение 0-ых звонков к остальным звонкам для разных пользователей"
   ]
  },
  {
   "cell_type": "code",
   "execution_count": 14,
   "metadata": {},
   "outputs": [
    {
     "data": {
      "image/png": "[encoded data removed]",
      "text/plain": [
       "<Figure size 1080x360 with 1 Axes>"
      ]
     },
     "metadata": {
      "needs_background": "light"
     },
     "output_type": "display_data"
    }
   ],
   "source": [
    "call_to_plot = (calls.query('duration == 0').groupby('user_id')['duration'].count() / \n",
    "                         calls.groupby('user_id')['duration'].count()).to_frame().reset_index()\n",
    "fig, ax = plt.subplots(figsize=(15,5))\n",
    "sns.barplot(x=call_to_plot['user_id'], y = call_to_plot['duration'],ax=ax)\n",
    "\n",
    "ax.set_xticks(range(0,calls['user_id'].nunique(),20))\n",
    "ax.set_xticklabels(calls['user_id'].unique()[::20])\n",
    "plt.title('Отношение 0-ых звонков к остальным звонкам для разных пользователей')\n",
    "plt.show()\n"
   ]
  },
  {
   "cell_type": "markdown",
   "metadata": {},
   "source": [
    "Из графика видно, что такие звонки составляют примерно 20% от общего колличества звонков для каждого абонента. Возможно это пропущенные звонки или ошибка системы округления 1й минуты или нетарифицируемый порог."
   ]
  },
  {
   "cell_type": "markdown",
   "metadata": {},
   "source": [
    "Объем трафика многих интерент сессий — 0.0 Мб. Построим гистрограмму чтобы оценить относительное колличество таких значений."
   ]
  },
  {
   "cell_type": "code",
   "execution_count": 15,
   "metadata": {},
   "outputs": [
    {
     "data": {
      "text/plain": [
       "count    149396.000000\n",
       "mean        370.192426\n",
       "std         278.300951\n",
       "min           0.000000\n",
       "25%         138.187500\n",
       "50%         348.015000\n",
       "75%         559.552500\n",
       "max        1724.830000\n",
       "Name: mb_used, dtype: float64"
      ]
     },
     "execution_count": 15,
     "metadata": {},
     "output_type": "execute_result"
    },
    {
     "data": {
      "image/png": "[encoded data removed]",
      "text/plain": [
       "<Figure size 1080x360 with 1 Axes>"
      ]
     },
     "metadata": {
      "needs_background": "light"
     },
     "output_type": "display_data"
    }
   ],
   "source": [
    "internet['mb_used'].hist(bins=100, figsize=(15,5))\n",
    "plt.title('Гистрограмма трафика за сессию')\n",
    "internet['mb_used'].describe()"
   ]
  },
  {
   "cell_type": "code",
   "execution_count": 16,
   "metadata": {},
   "outputs": [
    {
     "data": {
      "image/png": "[encoded data removed]",
      "text/plain": [
       "<Figure size 1080x360 with 1 Axes>"
      ]
     },
     "metadata": {
      "needs_background": "light"
     },
     "output_type": "display_data"
    }
   ],
   "source": [
    "internet_to_plot = (internet.query('mb_used == 0').groupby('user_id')['mb_used'].count() / \n",
    "                        internet.groupby('user_id')['mb_used'].count()).to_frame().reset_index()\n",
    "fig, ax = plt.subplots(figsize=(15,5))\n",
    "sns.barplot(x=internet_to_plot['user_id'], y = internet_to_plot['mb_used'],ax=ax)\n",
    "ax.set_xticks(range(0,internet['user_id'].nunique(),20))\n",
    "ax.set_xticklabels(internet['user_id'].unique()[::20])\n",
    "plt.title('Отношение 0-ых интернет сессий к остальным интернет сессиям для разных пользователей')\n",
    "\n",
    "plt.show()"
   ]
  },
  {
   "cell_type": "markdown",
   "metadata": {},
   "source": [
    "Ситуация аналогичная звонкам. Примерно 15% всех интенет сессий нулевые. Возможно это нетарифицируемый порог."
   ]
  },
  {
   "cell_type": "markdown",
   "metadata": {},
   "source": [
    "Для calls, internet и messages выделим для каждой записи месяц из даты и сохраним в отдельный столбец"
   ]
  },
  {
   "cell_type": "code",
   "execution_count": 17,
   "metadata": {},
   "outputs": [],
   "source": [
    "month_add_param = [[calls,'month','call_date'],\n",
    "                  [internet,'month', 'session_date'],\n",
    "                  [messages,'month','message_date']]\n",
    "#выделим для каждой записи месяц из даты \n",
    "for param in month_add_param:\n",
    "    param[0][param[1]] = pd.DatetimeIndex(param[0][param[2]]).month    "
   ]
  },
  {
   "cell_type": "markdown",
   "metadata": {},
   "source": [
    "Проверим результат"
   ]
  },
  {
   "cell_type": "code",
   "execution_count": 18,
   "metadata": {},
   "outputs": [
    {
     "data": {
      "text/html": [
       "<div>\n",
       "<style scoped>\n",
       "    .dataframe tbody tr th:only-of-type {\n",
       "        vertical-align: middle;\n",
       "    }\n",
       "\n",
       "    .dataframe tbody tr th {\n",
       "        vertical-align: top;\n",
       "    }\n",
       "\n",
       "    .dataframe thead th {\n",
       "        text-align: right;\n",
       "    }\n",
       "</style>\n",
       "<table border=\"1\" class=\"dataframe\">\n",
       "  <thead>\n",
       "    <tr style=\"text-align: right;\">\n",
       "      <th></th>\n",
       "      <th>id</th>\n",
       "      <th>call_date</th>\n",
       "      <th>duration</th>\n",
       "      <th>user_id</th>\n",
       "      <th>month</th>\n",
       "    </tr>\n",
       "  </thead>\n",
       "  <tbody>\n",
       "    <tr>\n",
       "      <th>136884</th>\n",
       "      <td>1350_14</td>\n",
       "      <td>2018-09-30</td>\n",
       "      <td>14</td>\n",
       "      <td>1350</td>\n",
       "      <td>9</td>\n",
       "    </tr>\n",
       "  </tbody>\n",
       "</table>\n",
       "</div>"
      ],
      "text/plain": [
       "             id  call_date  duration  user_id  month\n",
       "136884  1350_14 2018-09-30        14     1350      9"
      ]
     },
     "execution_count": 18,
     "metadata": {},
     "output_type": "execute_result"
    }
   ],
   "source": [
    "calls.sample()"
   ]
  },
  {
   "cell_type": "code",
   "execution_count": 19,
   "metadata": {},
   "outputs": [
    {
     "data": {
      "text/html": [
       "<div>\n",
       "<style scoped>\n",
       "    .dataframe tbody tr th:only-of-type {\n",
       "        vertical-align: middle;\n",
       "    }\n",
       "\n",
       "    .dataframe tbody tr th {\n",
       "        vertical-align: top;\n",
       "    }\n",
       "\n",
       "    .dataframe thead th {\n",
       "        text-align: right;\n",
       "    }\n",
       "</style>\n",
       "<table border=\"1\" class=\"dataframe\">\n",
       "  <thead>\n",
       "    <tr style=\"text-align: right;\">\n",
       "      <th></th>\n",
       "      <th>id</th>\n",
       "      <th>mb_used</th>\n",
       "      <th>session_date</th>\n",
       "      <th>user_id</th>\n",
       "      <th>month</th>\n",
       "    </tr>\n",
       "  </thead>\n",
       "  <tbody>\n",
       "    <tr>\n",
       "      <th>11281</th>\n",
       "      <td>1039_192</td>\n",
       "      <td>488.24</td>\n",
       "      <td>2018-10-13</td>\n",
       "      <td>1039</td>\n",
       "      <td>10</td>\n",
       "    </tr>\n",
       "  </tbody>\n",
       "</table>\n",
       "</div>"
      ],
      "text/plain": [
       "             id  mb_used session_date  user_id  month\n",
       "11281  1039_192   488.24   2018-10-13     1039     10"
      ]
     },
     "execution_count": 19,
     "metadata": {},
     "output_type": "execute_result"
    }
   ],
   "source": [
    "internet.sample()"
   ]
  },
  {
   "cell_type": "code",
   "execution_count": 20,
   "metadata": {},
   "outputs": [
    {
     "data": {
      "text/html": [
       "<div>\n",
       "<style scoped>\n",
       "    .dataframe tbody tr th:only-of-type {\n",
       "        vertical-align: middle;\n",
       "    }\n",
       "\n",
       "    .dataframe tbody tr th {\n",
       "        vertical-align: top;\n",
       "    }\n",
       "\n",
       "    .dataframe thead th {\n",
       "        text-align: right;\n",
       "    }\n",
       "</style>\n",
       "<table border=\"1\" class=\"dataframe\">\n",
       "  <thead>\n",
       "    <tr style=\"text-align: right;\">\n",
       "      <th></th>\n",
       "      <th>id</th>\n",
       "      <th>message_date</th>\n",
       "      <th>user_id</th>\n",
       "      <th>month</th>\n",
       "    </tr>\n",
       "  </thead>\n",
       "  <tbody>\n",
       "    <tr>\n",
       "      <th>74465</th>\n",
       "      <td>1315_46</td>\n",
       "      <td>2018-10-13</td>\n",
       "      <td>1315</td>\n",
       "      <td>10</td>\n",
       "    </tr>\n",
       "  </tbody>\n",
       "</table>\n",
       "</div>"
      ],
      "text/plain": [
       "            id message_date  user_id  month\n",
       "74465  1315_46   2018-10-13     1315     10"
      ]
     },
     "execution_count": 20,
     "metadata": {},
     "output_type": "execute_result"
    }
   ],
   "source": [
    "messages.sample()"
   ]
  },
  {
   "cell_type": "markdown",
   "metadata": {},
   "source": [
    "### Расчеты месячного потребления услуг"
   ]
  },
  {
   "cell_type": "markdown",
   "metadata": {},
   "source": [
    "Количество сделанных звонков и израсходованных минут разговора по месяцам для каждого пользователя"
   ]
  },
  {
   "cell_type": "code",
   "execution_count": 21,
   "metadata": {},
   "outputs": [
    {
     "data": {
      "text/html": [
       "<div>\n",
       "<style scoped>\n",
       "    .dataframe tbody tr th:only-of-type {\n",
       "        vertical-align: middle;\n",
       "    }\n",
       "\n",
       "    .dataframe tbody tr th {\n",
       "        vertical-align: top;\n",
       "    }\n",
       "\n",
       "    .dataframe thead tr th {\n",
       "        text-align: left;\n",
       "    }\n",
       "\n",
       "    .dataframe thead tr:last-of-type th {\n",
       "        text-align: right;\n",
       "    }\n",
       "</style>\n",
       "<table border=\"1\" class=\"dataframe\">\n",
       "  <thead>\n",
       "    <tr>\n",
       "      <th></th>\n",
       "      <th colspan=\"10\" halign=\"left\">sum</th>\n",
       "      <th>...</th>\n",
       "      <th colspan=\"10\" halign=\"left\">count</th>\n",
       "    </tr>\n",
       "    <tr>\n",
       "      <th>month</th>\n",
       "      <th>1</th>\n",
       "      <th>2</th>\n",
       "      <th>3</th>\n",
       "      <th>4</th>\n",
       "      <th>5</th>\n",
       "      <th>6</th>\n",
       "      <th>7</th>\n",
       "      <th>8</th>\n",
       "      <th>9</th>\n",
       "      <th>10</th>\n",
       "      <th>...</th>\n",
       "      <th>3</th>\n",
       "      <th>4</th>\n",
       "      <th>5</th>\n",
       "      <th>6</th>\n",
       "      <th>7</th>\n",
       "      <th>8</th>\n",
       "      <th>9</th>\n",
       "      <th>10</th>\n",
       "      <th>11</th>\n",
       "      <th>12</th>\n",
       "    </tr>\n",
       "    <tr>\n",
       "      <th>user_id</th>\n",
       "      <th></th>\n",
       "      <th></th>\n",
       "      <th></th>\n",
       "      <th></th>\n",
       "      <th></th>\n",
       "      <th></th>\n",
       "      <th></th>\n",
       "      <th></th>\n",
       "      <th></th>\n",
       "      <th></th>\n",
       "      <th></th>\n",
       "      <th></th>\n",
       "      <th></th>\n",
       "      <th></th>\n",
       "      <th></th>\n",
       "      <th></th>\n",
       "      <th></th>\n",
       "      <th></th>\n",
       "      <th></th>\n",
       "      <th></th>\n",
       "      <th></th>\n",
       "    </tr>\n",
       "  </thead>\n",
       "  <tbody>\n",
       "    <tr>\n",
       "      <th>1000</th>\n",
       "      <td>NaN</td>\n",
       "      <td>NaN</td>\n",
       "      <td>NaN</td>\n",
       "      <td>NaN</td>\n",
       "      <td>159.0</td>\n",
       "      <td>172.0</td>\n",
       "      <td>340.0</td>\n",
       "      <td>408.0</td>\n",
       "      <td>466.0</td>\n",
       "      <td>350.0</td>\n",
       "      <td>...</td>\n",
       "      <td>NaN</td>\n",
       "      <td>NaN</td>\n",
       "      <td>22.0</td>\n",
       "      <td>43.0</td>\n",
       "      <td>47.0</td>\n",
       "      <td>52.0</td>\n",
       "      <td>58.0</td>\n",
       "      <td>57.0</td>\n",
       "      <td>43.0</td>\n",
       "      <td>46.0</td>\n",
       "    </tr>\n",
       "    <tr>\n",
       "      <th>1001</th>\n",
       "      <td>NaN</td>\n",
       "      <td>NaN</td>\n",
       "      <td>NaN</td>\n",
       "      <td>NaN</td>\n",
       "      <td>NaN</td>\n",
       "      <td>NaN</td>\n",
       "      <td>NaN</td>\n",
       "      <td>NaN</td>\n",
       "      <td>NaN</td>\n",
       "      <td>NaN</td>\n",
       "      <td>...</td>\n",
       "      <td>NaN</td>\n",
       "      <td>NaN</td>\n",
       "      <td>NaN</td>\n",
       "      <td>NaN</td>\n",
       "      <td>NaN</td>\n",
       "      <td>NaN</td>\n",
       "      <td>NaN</td>\n",
       "      <td>NaN</td>\n",
       "      <td>59.0</td>\n",
       "      <td>63.0</td>\n",
       "    </tr>\n",
       "    <tr>\n",
       "      <th>1002</th>\n",
       "      <td>NaN</td>\n",
       "      <td>NaN</td>\n",
       "      <td>NaN</td>\n",
       "      <td>NaN</td>\n",
       "      <td>NaN</td>\n",
       "      <td>117.0</td>\n",
       "      <td>214.0</td>\n",
       "      <td>289.0</td>\n",
       "      <td>206.0</td>\n",
       "      <td>212.0</td>\n",
       "      <td>...</td>\n",
       "      <td>NaN</td>\n",
       "      <td>NaN</td>\n",
       "      <td>NaN</td>\n",
       "      <td>15.0</td>\n",
       "      <td>26.0</td>\n",
       "      <td>42.0</td>\n",
       "      <td>36.0</td>\n",
       "      <td>33.0</td>\n",
       "      <td>32.0</td>\n",
       "      <td>33.0</td>\n",
       "    </tr>\n",
       "    <tr>\n",
       "      <th>1003</th>\n",
       "      <td>NaN</td>\n",
       "      <td>NaN</td>\n",
       "      <td>NaN</td>\n",
       "      <td>NaN</td>\n",
       "      <td>NaN</td>\n",
       "      <td>NaN</td>\n",
       "      <td>NaN</td>\n",
       "      <td>380.0</td>\n",
       "      <td>961.0</td>\n",
       "      <td>855.0</td>\n",
       "      <td>...</td>\n",
       "      <td>NaN</td>\n",
       "      <td>NaN</td>\n",
       "      <td>NaN</td>\n",
       "      <td>NaN</td>\n",
       "      <td>NaN</td>\n",
       "      <td>55.0</td>\n",
       "      <td>134.0</td>\n",
       "      <td>108.0</td>\n",
       "      <td>115.0</td>\n",
       "      <td>108.0</td>\n",
       "    </tr>\n",
       "    <tr>\n",
       "      <th>1004</th>\n",
       "      <td>NaN</td>\n",
       "      <td>NaN</td>\n",
       "      <td>NaN</td>\n",
       "      <td>NaN</td>\n",
       "      <td>35.0</td>\n",
       "      <td>171.0</td>\n",
       "      <td>135.0</td>\n",
       "      <td>137.0</td>\n",
       "      <td>117.0</td>\n",
       "      <td>145.0</td>\n",
       "      <td>...</td>\n",
       "      <td>NaN</td>\n",
       "      <td>NaN</td>\n",
       "      <td>9.0</td>\n",
       "      <td>31.0</td>\n",
       "      <td>22.0</td>\n",
       "      <td>19.0</td>\n",
       "      <td>26.0</td>\n",
       "      <td>29.0</td>\n",
       "      <td>19.0</td>\n",
       "      <td>21.0</td>\n",
       "    </tr>\n",
       "    <tr>\n",
       "      <th>...</th>\n",
       "      <td>...</td>\n",
       "      <td>...</td>\n",
       "      <td>...</td>\n",
       "      <td>...</td>\n",
       "      <td>...</td>\n",
       "      <td>...</td>\n",
       "      <td>...</td>\n",
       "      <td>...</td>\n",
       "      <td>...</td>\n",
       "      <td>...</td>\n",
       "      <td>...</td>\n",
       "      <td>...</td>\n",
       "      <td>...</td>\n",
       "      <td>...</td>\n",
       "      <td>...</td>\n",
       "      <td>...</td>\n",
       "      <td>...</td>\n",
       "      <td>...</td>\n",
       "      <td>...</td>\n",
       "      <td>...</td>\n",
       "      <td>...</td>\n",
       "    </tr>\n",
       "    <tr>\n",
       "      <th>1495</th>\n",
       "      <td>NaN</td>\n",
       "      <td>NaN</td>\n",
       "      <td>NaN</td>\n",
       "      <td>NaN</td>\n",
       "      <td>NaN</td>\n",
       "      <td>NaN</td>\n",
       "      <td>NaN</td>\n",
       "      <td>92.0</td>\n",
       "      <td>813.0</td>\n",
       "      <td>1030.0</td>\n",
       "      <td>...</td>\n",
       "      <td>NaN</td>\n",
       "      <td>NaN</td>\n",
       "      <td>NaN</td>\n",
       "      <td>NaN</td>\n",
       "      <td>NaN</td>\n",
       "      <td>17.0</td>\n",
       "      <td>112.0</td>\n",
       "      <td>152.0</td>\n",
       "      <td>129.0</td>\n",
       "      <td>155.0</td>\n",
       "    </tr>\n",
       "    <tr>\n",
       "      <th>1496</th>\n",
       "      <td>48.0</td>\n",
       "      <td>594.0</td>\n",
       "      <td>557.0</td>\n",
       "      <td>521.0</td>\n",
       "      <td>484.0</td>\n",
       "      <td>555.0</td>\n",
       "      <td>582.0</td>\n",
       "      <td>527.0</td>\n",
       "      <td>486.0</td>\n",
       "      <td>450.0</td>\n",
       "      <td>...</td>\n",
       "      <td>79.0</td>\n",
       "      <td>67.0</td>\n",
       "      <td>63.0</td>\n",
       "      <td>74.0</td>\n",
       "      <td>73.0</td>\n",
       "      <td>88.0</td>\n",
       "      <td>68.0</td>\n",
       "      <td>72.0</td>\n",
       "      <td>80.0</td>\n",
       "      <td>80.0</td>\n",
       "    </tr>\n",
       "    <tr>\n",
       "      <th>1497</th>\n",
       "      <td>NaN</td>\n",
       "      <td>NaN</td>\n",
       "      <td>NaN</td>\n",
       "      <td>NaN</td>\n",
       "      <td>NaN</td>\n",
       "      <td>NaN</td>\n",
       "      <td>NaN</td>\n",
       "      <td>NaN</td>\n",
       "      <td>NaN</td>\n",
       "      <td>490.0</td>\n",
       "      <td>...</td>\n",
       "      <td>NaN</td>\n",
       "      <td>NaN</td>\n",
       "      <td>NaN</td>\n",
       "      <td>NaN</td>\n",
       "      <td>NaN</td>\n",
       "      <td>NaN</td>\n",
       "      <td>NaN</td>\n",
       "      <td>66.0</td>\n",
       "      <td>64.0</td>\n",
       "      <td>71.0</td>\n",
       "    </tr>\n",
       "    <tr>\n",
       "      <th>1498</th>\n",
       "      <td>NaN</td>\n",
       "      <td>NaN</td>\n",
       "      <td>NaN</td>\n",
       "      <td>NaN</td>\n",
       "      <td>NaN</td>\n",
       "      <td>NaN</td>\n",
       "      <td>175.0</td>\n",
       "      <td>400.0</td>\n",
       "      <td>471.0</td>\n",
       "      <td>247.0</td>\n",
       "      <td>...</td>\n",
       "      <td>NaN</td>\n",
       "      <td>NaN</td>\n",
       "      <td>NaN</td>\n",
       "      <td>NaN</td>\n",
       "      <td>23.0</td>\n",
       "      <td>57.0</td>\n",
       "      <td>59.0</td>\n",
       "      <td>41.0</td>\n",
       "      <td>NaN</td>\n",
       "      <td>NaN</td>\n",
       "    </tr>\n",
       "    <tr>\n",
       "      <th>1499</th>\n",
       "      <td>NaN</td>\n",
       "      <td>NaN</td>\n",
       "      <td>NaN</td>\n",
       "      <td>NaN</td>\n",
       "      <td>NaN</td>\n",
       "      <td>NaN</td>\n",
       "      <td>NaN</td>\n",
       "      <td>NaN</td>\n",
       "      <td>70.0</td>\n",
       "      <td>449.0</td>\n",
       "      <td>...</td>\n",
       "      <td>NaN</td>\n",
       "      <td>NaN</td>\n",
       "      <td>NaN</td>\n",
       "      <td>NaN</td>\n",
       "      <td>NaN</td>\n",
       "      <td>NaN</td>\n",
       "      <td>9.0</td>\n",
       "      <td>68.0</td>\n",
       "      <td>74.0</td>\n",
       "      <td>69.0</td>\n",
       "    </tr>\n",
       "  </tbody>\n",
       "</table>\n",
       "<p>492 rows × 24 columns</p>\n",
       "</div>"
      ],
      "text/plain": [
       "          sum                                                                  \\\n",
       "month      1      2      3      4      5      6      7      8      9       10   \n",
       "user_id                                                                         \n",
       "1000      NaN    NaN    NaN    NaN  159.0  172.0  340.0  408.0  466.0   350.0   \n",
       "1001      NaN    NaN    NaN    NaN    NaN    NaN    NaN    NaN    NaN     NaN   \n",
       "1002      NaN    NaN    NaN    NaN    NaN  117.0  214.0  289.0  206.0   212.0   \n",
       "1003      NaN    NaN    NaN    NaN    NaN    NaN    NaN  380.0  961.0   855.0   \n",
       "1004      NaN    NaN    NaN    NaN   35.0  171.0  135.0  137.0  117.0   145.0   \n",
       "...       ...    ...    ...    ...    ...    ...    ...    ...    ...     ...   \n",
       "1495      NaN    NaN    NaN    NaN    NaN    NaN    NaN   92.0  813.0  1030.0   \n",
       "1496     48.0  594.0  557.0  521.0  484.0  555.0  582.0  527.0  486.0   450.0   \n",
       "1497      NaN    NaN    NaN    NaN    NaN    NaN    NaN    NaN    NaN   490.0   \n",
       "1498      NaN    NaN    NaN    NaN    NaN    NaN  175.0  400.0  471.0   247.0   \n",
       "1499      NaN    NaN    NaN    NaN    NaN    NaN    NaN    NaN   70.0   449.0   \n",
       "\n",
       "         ... count                                                            \n",
       "month    ...    3     4     5     6     7     8      9      10     11     12  \n",
       "user_id  ...                                                                  \n",
       "1000     ...   NaN   NaN  22.0  43.0  47.0  52.0   58.0   57.0   43.0   46.0  \n",
       "1001     ...   NaN   NaN   NaN   NaN   NaN   NaN    NaN    NaN   59.0   63.0  \n",
       "1002     ...   NaN   NaN   NaN  15.0  26.0  42.0   36.0   33.0   32.0   33.0  \n",
       "1003     ...   NaN   NaN   NaN   NaN   NaN  55.0  134.0  108.0  115.0  108.0  \n",
       "1004     ...   NaN   NaN   9.0  31.0  22.0  19.0   26.0   29.0   19.0   21.0  \n",
       "...      ...   ...   ...   ...   ...   ...   ...    ...    ...    ...    ...  \n",
       "1495     ...   NaN   NaN   NaN   NaN   NaN  17.0  112.0  152.0  129.0  155.0  \n",
       "1496     ...  79.0  67.0  63.0  74.0  73.0  88.0   68.0   72.0   80.0   80.0  \n",
       "1497     ...   NaN   NaN   NaN   NaN   NaN   NaN    NaN   66.0   64.0   71.0  \n",
       "1498     ...   NaN   NaN   NaN   NaN  23.0  57.0   59.0   41.0    NaN    NaN  \n",
       "1499     ...   NaN   NaN   NaN   NaN   NaN   NaN    9.0   68.0   74.0   69.0  \n",
       "\n",
       "[492 rows x 24 columns]"
      ]
     },
     "execution_count": 21,
     "metadata": {},
     "output_type": "execute_result"
    }
   ],
   "source": [
    "calls_user_month = calls.pivot_table(index = 'user_id', columns = 'month', values = 'duration', aggfunc = ['sum','count'])\n",
    "calls_user_month"
   ]
  },
  {
   "cell_type": "markdown",
   "metadata": {},
   "source": [
    "Количество отправленных сообщений по месяцам для каждого пользователя"
   ]
  },
  {
   "cell_type": "code",
   "execution_count": 22,
   "metadata": {
    "scrolled": false
   },
   "outputs": [
    {
     "data": {
      "text/html": [
       "<div>\n",
       "<style scoped>\n",
       "    .dataframe tbody tr th:only-of-type {\n",
       "        vertical-align: middle;\n",
       "    }\n",
       "\n",
       "    .dataframe tbody tr th {\n",
       "        vertical-align: top;\n",
       "    }\n",
       "\n",
       "    .dataframe thead th {\n",
       "        text-align: right;\n",
       "    }\n",
       "</style>\n",
       "<table border=\"1\" class=\"dataframe\">\n",
       "  <thead>\n",
       "    <tr style=\"text-align: right;\">\n",
       "      <th>month</th>\n",
       "      <th>1</th>\n",
       "      <th>2</th>\n",
       "      <th>3</th>\n",
       "      <th>4</th>\n",
       "      <th>5</th>\n",
       "      <th>6</th>\n",
       "      <th>7</th>\n",
       "      <th>8</th>\n",
       "      <th>9</th>\n",
       "      <th>10</th>\n",
       "      <th>11</th>\n",
       "      <th>12</th>\n",
       "    </tr>\n",
       "    <tr>\n",
       "      <th>user_id</th>\n",
       "      <th></th>\n",
       "      <th></th>\n",
       "      <th></th>\n",
       "      <th></th>\n",
       "      <th></th>\n",
       "      <th></th>\n",
       "      <th></th>\n",
       "      <th></th>\n",
       "      <th></th>\n",
       "      <th></th>\n",
       "      <th></th>\n",
       "      <th></th>\n",
       "    </tr>\n",
       "  </thead>\n",
       "  <tbody>\n",
       "    <tr>\n",
       "      <th>1000</th>\n",
       "      <td>NaN</td>\n",
       "      <td>NaN</td>\n",
       "      <td>NaN</td>\n",
       "      <td>NaN</td>\n",
       "      <td>22.0</td>\n",
       "      <td>60.0</td>\n",
       "      <td>75.0</td>\n",
       "      <td>81.0</td>\n",
       "      <td>57.0</td>\n",
       "      <td>73.0</td>\n",
       "      <td>58.0</td>\n",
       "      <td>70.0</td>\n",
       "    </tr>\n",
       "    <tr>\n",
       "      <th>1002</th>\n",
       "      <td>NaN</td>\n",
       "      <td>NaN</td>\n",
       "      <td>NaN</td>\n",
       "      <td>NaN</td>\n",
       "      <td>NaN</td>\n",
       "      <td>4.0</td>\n",
       "      <td>11.0</td>\n",
       "      <td>13.0</td>\n",
       "      <td>4.0</td>\n",
       "      <td>10.0</td>\n",
       "      <td>16.0</td>\n",
       "      <td>12.0</td>\n",
       "    </tr>\n",
       "    <tr>\n",
       "      <th>1003</th>\n",
       "      <td>NaN</td>\n",
       "      <td>NaN</td>\n",
       "      <td>NaN</td>\n",
       "      <td>NaN</td>\n",
       "      <td>NaN</td>\n",
       "      <td>NaN</td>\n",
       "      <td>NaN</td>\n",
       "      <td>37.0</td>\n",
       "      <td>91.0</td>\n",
       "      <td>83.0</td>\n",
       "      <td>94.0</td>\n",
       "      <td>75.0</td>\n",
       "    </tr>\n",
       "    <tr>\n",
       "      <th>1004</th>\n",
       "      <td>NaN</td>\n",
       "      <td>NaN</td>\n",
       "      <td>NaN</td>\n",
       "      <td>NaN</td>\n",
       "      <td>95.0</td>\n",
       "      <td>134.0</td>\n",
       "      <td>181.0</td>\n",
       "      <td>151.0</td>\n",
       "      <td>146.0</td>\n",
       "      <td>165.0</td>\n",
       "      <td>158.0</td>\n",
       "      <td>162.0</td>\n",
       "    </tr>\n",
       "    <tr>\n",
       "      <th>1005</th>\n",
       "      <td>7.0</td>\n",
       "      <td>38.0</td>\n",
       "      <td>56.0</td>\n",
       "      <td>41.0</td>\n",
       "      <td>42.0</td>\n",
       "      <td>47.0</td>\n",
       "      <td>56.0</td>\n",
       "      <td>64.0</td>\n",
       "      <td>52.0</td>\n",
       "      <td>44.0</td>\n",
       "      <td>51.0</td>\n",
       "      <td>54.0</td>\n",
       "    </tr>\n",
       "    <tr>\n",
       "      <th>...</th>\n",
       "      <td>...</td>\n",
       "      <td>...</td>\n",
       "      <td>...</td>\n",
       "      <td>...</td>\n",
       "      <td>...</td>\n",
       "      <td>...</td>\n",
       "      <td>...</td>\n",
       "      <td>...</td>\n",
       "      <td>...</td>\n",
       "      <td>...</td>\n",
       "      <td>...</td>\n",
       "      <td>...</td>\n",
       "    </tr>\n",
       "    <tr>\n",
       "      <th>1495</th>\n",
       "      <td>NaN</td>\n",
       "      <td>NaN</td>\n",
       "      <td>NaN</td>\n",
       "      <td>NaN</td>\n",
       "      <td>NaN</td>\n",
       "      <td>NaN</td>\n",
       "      <td>NaN</td>\n",
       "      <td>13.0</td>\n",
       "      <td>82.0</td>\n",
       "      <td>82.0</td>\n",
       "      <td>79.0</td>\n",
       "      <td>84.0</td>\n",
       "    </tr>\n",
       "    <tr>\n",
       "      <th>1496</th>\n",
       "      <td>9.0</td>\n",
       "      <td>45.0</td>\n",
       "      <td>46.0</td>\n",
       "      <td>49.0</td>\n",
       "      <td>40.0</td>\n",
       "      <td>35.0</td>\n",
       "      <td>42.0</td>\n",
       "      <td>41.0</td>\n",
       "      <td>29.0</td>\n",
       "      <td>35.0</td>\n",
       "      <td>46.0</td>\n",
       "      <td>51.0</td>\n",
       "    </tr>\n",
       "    <tr>\n",
       "      <th>1497</th>\n",
       "      <td>NaN</td>\n",
       "      <td>NaN</td>\n",
       "      <td>NaN</td>\n",
       "      <td>NaN</td>\n",
       "      <td>NaN</td>\n",
       "      <td>NaN</td>\n",
       "      <td>NaN</td>\n",
       "      <td>NaN</td>\n",
       "      <td>NaN</td>\n",
       "      <td>20.0</td>\n",
       "      <td>14.0</td>\n",
       "      <td>17.0</td>\n",
       "    </tr>\n",
       "    <tr>\n",
       "      <th>1498</th>\n",
       "      <td>NaN</td>\n",
       "      <td>NaN</td>\n",
       "      <td>NaN</td>\n",
       "      <td>NaN</td>\n",
       "      <td>NaN</td>\n",
       "      <td>NaN</td>\n",
       "      <td>20.0</td>\n",
       "      <td>62.0</td>\n",
       "      <td>44.0</td>\n",
       "      <td>42.0</td>\n",
       "      <td>NaN</td>\n",
       "      <td>NaN</td>\n",
       "    </tr>\n",
       "    <tr>\n",
       "      <th>1499</th>\n",
       "      <td>NaN</td>\n",
       "      <td>NaN</td>\n",
       "      <td>NaN</td>\n",
       "      <td>NaN</td>\n",
       "      <td>NaN</td>\n",
       "      <td>NaN</td>\n",
       "      <td>NaN</td>\n",
       "      <td>NaN</td>\n",
       "      <td>11.0</td>\n",
       "      <td>48.0</td>\n",
       "      <td>59.0</td>\n",
       "      <td>66.0</td>\n",
       "    </tr>\n",
       "  </tbody>\n",
       "</table>\n",
       "<p>426 rows × 12 columns</p>\n",
       "</div>"
      ],
      "text/plain": [
       "month     1     2     3     4     5      6      7      8      9      10  \\\n",
       "user_id                                                                   \n",
       "1000     NaN   NaN   NaN   NaN  22.0   60.0   75.0   81.0   57.0   73.0   \n",
       "1002     NaN   NaN   NaN   NaN   NaN    4.0   11.0   13.0    4.0   10.0   \n",
       "1003     NaN   NaN   NaN   NaN   NaN    NaN    NaN   37.0   91.0   83.0   \n",
       "1004     NaN   NaN   NaN   NaN  95.0  134.0  181.0  151.0  146.0  165.0   \n",
       "1005     7.0  38.0  56.0  41.0  42.0   47.0   56.0   64.0   52.0   44.0   \n",
       "...      ...   ...   ...   ...   ...    ...    ...    ...    ...    ...   \n",
       "1495     NaN   NaN   NaN   NaN   NaN    NaN    NaN   13.0   82.0   82.0   \n",
       "1496     9.0  45.0  46.0  49.0  40.0   35.0   42.0   41.0   29.0   35.0   \n",
       "1497     NaN   NaN   NaN   NaN   NaN    NaN    NaN    NaN    NaN   20.0   \n",
       "1498     NaN   NaN   NaN   NaN   NaN    NaN   20.0   62.0   44.0   42.0   \n",
       "1499     NaN   NaN   NaN   NaN   NaN    NaN    NaN    NaN   11.0   48.0   \n",
       "\n",
       "month       11     12  \n",
       "user_id                \n",
       "1000      58.0   70.0  \n",
       "1002      16.0   12.0  \n",
       "1003      94.0   75.0  \n",
       "1004     158.0  162.0  \n",
       "1005      51.0   54.0  \n",
       "...        ...    ...  \n",
       "1495      79.0   84.0  \n",
       "1496      46.0   51.0  \n",
       "1497      14.0   17.0  \n",
       "1498       NaN    NaN  \n",
       "1499      59.0   66.0  \n",
       "\n",
       "[426 rows x 12 columns]"
      ]
     },
     "execution_count": 22,
     "metadata": {},
     "output_type": "execute_result"
    }
   ],
   "source": [
    "messages_user_month = messages.pivot_table(index = 'user_id', columns = 'month', values = 'id',  aggfunc = 'count')\n",
    "messages_user_month"
   ]
  },
  {
   "cell_type": "markdown",
   "metadata": {},
   "source": [
    "Объем израсходованного интернет-трафика по месяцам для каждого пользователя в гигабайтах"
   ]
  },
  {
   "cell_type": "code",
   "execution_count": 23,
   "metadata": {},
   "outputs": [],
   "source": [
    "# функция округления до гигабайт в большую сторону\n",
    "def round_gigabyte(x):\n",
    "    return np.ceil(x/1024)"
   ]
  },
  {
   "cell_type": "code",
   "execution_count": 24,
   "metadata": {
    "scrolled": true
   },
   "outputs": [
    {
     "data": {
      "text/html": [
       "<div>\n",
       "<style scoped>\n",
       "    .dataframe tbody tr th:only-of-type {\n",
       "        vertical-align: middle;\n",
       "    }\n",
       "\n",
       "    .dataframe tbody tr th {\n",
       "        vertical-align: top;\n",
       "    }\n",
       "\n",
       "    .dataframe thead th {\n",
       "        text-align: right;\n",
       "    }\n",
       "</style>\n",
       "<table border=\"1\" class=\"dataframe\">\n",
       "  <thead>\n",
       "    <tr style=\"text-align: right;\">\n",
       "      <th>month</th>\n",
       "      <th>1</th>\n",
       "      <th>2</th>\n",
       "      <th>3</th>\n",
       "      <th>4</th>\n",
       "      <th>5</th>\n",
       "      <th>6</th>\n",
       "      <th>7</th>\n",
       "      <th>8</th>\n",
       "      <th>9</th>\n",
       "      <th>10</th>\n",
       "      <th>11</th>\n",
       "      <th>12</th>\n",
       "    </tr>\n",
       "    <tr>\n",
       "      <th>user_id</th>\n",
       "      <th></th>\n",
       "      <th></th>\n",
       "      <th></th>\n",
       "      <th></th>\n",
       "      <th></th>\n",
       "      <th></th>\n",
       "      <th></th>\n",
       "      <th></th>\n",
       "      <th></th>\n",
       "      <th></th>\n",
       "      <th></th>\n",
       "      <th></th>\n",
       "    </tr>\n",
       "  </thead>\n",
       "  <tbody>\n",
       "    <tr>\n",
       "      <th>1000</th>\n",
       "      <td>NaN</td>\n",
       "      <td>NaN</td>\n",
       "      <td>NaN</td>\n",
       "      <td>NaN</td>\n",
       "      <td>3.0</td>\n",
       "      <td>23.0</td>\n",
       "      <td>14.0</td>\n",
       "      <td>14.0</td>\n",
       "      <td>15.0</td>\n",
       "      <td>15.0</td>\n",
       "      <td>15.0</td>\n",
       "      <td>10.0</td>\n",
       "    </tr>\n",
       "    <tr>\n",
       "      <th>1001</th>\n",
       "      <td>NaN</td>\n",
       "      <td>NaN</td>\n",
       "      <td>NaN</td>\n",
       "      <td>NaN</td>\n",
       "      <td>NaN</td>\n",
       "      <td>NaN</td>\n",
       "      <td>NaN</td>\n",
       "      <td>NaN</td>\n",
       "      <td>NaN</td>\n",
       "      <td>NaN</td>\n",
       "      <td>18.0</td>\n",
       "      <td>14.0</td>\n",
       "    </tr>\n",
       "    <tr>\n",
       "      <th>1002</th>\n",
       "      <td>NaN</td>\n",
       "      <td>NaN</td>\n",
       "      <td>NaN</td>\n",
       "      <td>NaN</td>\n",
       "      <td>NaN</td>\n",
       "      <td>11.0</td>\n",
       "      <td>18.0</td>\n",
       "      <td>20.0</td>\n",
       "      <td>17.0</td>\n",
       "      <td>14.0</td>\n",
       "      <td>19.0</td>\n",
       "      <td>18.0</td>\n",
       "    </tr>\n",
       "    <tr>\n",
       "      <th>1003</th>\n",
       "      <td>NaN</td>\n",
       "      <td>NaN</td>\n",
       "      <td>NaN</td>\n",
       "      <td>NaN</td>\n",
       "      <td>NaN</td>\n",
       "      <td>NaN</td>\n",
       "      <td>NaN</td>\n",
       "      <td>9.0</td>\n",
       "      <td>13.0</td>\n",
       "      <td>15.0</td>\n",
       "      <td>12.0</td>\n",
       "      <td>10.0</td>\n",
       "    </tr>\n",
       "    <tr>\n",
       "      <th>1004</th>\n",
       "      <td>NaN</td>\n",
       "      <td>NaN</td>\n",
       "      <td>NaN</td>\n",
       "      <td>NaN</td>\n",
       "      <td>14.0</td>\n",
       "      <td>18.0</td>\n",
       "      <td>22.0</td>\n",
       "      <td>28.0</td>\n",
       "      <td>15.0</td>\n",
       "      <td>19.0</td>\n",
       "      <td>16.0</td>\n",
       "      <td>18.0</td>\n",
       "    </tr>\n",
       "  </tbody>\n",
       "</table>\n",
       "</div>"
      ],
      "text/plain": [
       "month    1   2   3   4     5     6     7     8     9     10    11    12\n",
       "user_id                                                                \n",
       "1000    NaN NaN NaN NaN   3.0  23.0  14.0  14.0  15.0  15.0  15.0  10.0\n",
       "1001    NaN NaN NaN NaN   NaN   NaN   NaN   NaN   NaN   NaN  18.0  14.0\n",
       "1002    NaN NaN NaN NaN   NaN  11.0  18.0  20.0  17.0  14.0  19.0  18.0\n",
       "1003    NaN NaN NaN NaN   NaN   NaN   NaN   9.0  13.0  15.0  12.0  10.0\n",
       "1004    NaN NaN NaN NaN  14.0  18.0  22.0  28.0  15.0  19.0  16.0  18.0"
      ]
     },
     "execution_count": 24,
     "metadata": {},
     "output_type": "execute_result"
    }
   ],
   "source": [
    "internet_user_month = round_gigabyte(internet.pivot_table(index = 'user_id', columns = 'month', values = 'mb_used', aggfunc = 'sum'))\n",
    "internet_user_month.head()"
   ]
  },
  {
   "cell_type": "markdown",
   "metadata": {},
   "source": [
    "### Помесячная выручка с каждого пользователя"
   ]
  },
  {
   "cell_type": "code",
   "execution_count": 25,
   "metadata": {},
   "outputs": [],
   "source": [
    "# Зададим фильтры для разных тарифов\n",
    "filter_smart = users.loc[users['tariff'] == 'smart']['user_id']\n",
    "filter_ultra = users.loc[users['tariff'] == 'ultra']['user_id']"
   ]
  },
  {
   "cell_type": "code",
   "execution_count": 26,
   "metadata": {},
   "outputs": [],
   "source": [
    "# Функция считает стоимость услуг сверх лимитов\n",
    "def traf_user_monts_cost(traf_user_month, traf_type):\n",
    "       \n",
    "    if traf_type == 'mess':\n",
    "        traf_included = tariffs['messages_included']\n",
    "        rub_per_data = tariffs['rub_per_message']\n",
    "        \n",
    "    if traf_type == 'call':\n",
    "        traf_included = tariffs['minutes_included']\n",
    "        rub_per_data = tariffs['rub_per_minute']\n",
    "         \n",
    "    if traf_type == 'inter':\n",
    "        traf_included = round_gigabyte(tariffs['mb_per_month_included'])\n",
    "        rub_per_data = tariffs['rub_per_gb']\n",
    "        \n",
    "    #разделим пользователей по тарифам и посчитаем трафик сверх тарифа \n",
    "    traf_smart_rem = traf_user_month[traf_user_month.index.isin(filter_smart)] - traf_included[0]\n",
    "    traf_ultra_rem = traf_user_month[traf_user_month.index.isin(filter_ultra)] - traf_included[1]\n",
    "    #посчитаем месячную стоимость трафика сверх тарифа\n",
    "    traf_smart_cost = traf_smart_rem.where(traf_smart_rem > 0) * rub_per_data[0]\n",
    "    traf_ultra_cost = traf_ultra_rem.where(traf_ultra_rem > 0) * rub_per_data[1]\n",
    "    #соединим 2 тарифа в одну таблицу и заполним пропуски нулями\n",
    "    traf_cost = traf_ultra_cost.append(traf_smart_cost).sort_values(by = 'user_id').fillna(0)\n",
    "    return traf_cost\n"
   ]
  },
  {
   "cell_type": "markdown",
   "metadata": {},
   "source": [
    "Помесячная стоимость сообщений"
   ]
  },
  {
   "cell_type": "code",
   "execution_count": 27,
   "metadata": {},
   "outputs": [
    {
     "data": {
      "text/html": [
       "<div>\n",
       "<style scoped>\n",
       "    .dataframe tbody tr th:only-of-type {\n",
       "        vertical-align: middle;\n",
       "    }\n",
       "\n",
       "    .dataframe tbody tr th {\n",
       "        vertical-align: top;\n",
       "    }\n",
       "\n",
       "    .dataframe thead th {\n",
       "        text-align: right;\n",
       "    }\n",
       "</style>\n",
       "<table border=\"1\" class=\"dataframe\">\n",
       "  <thead>\n",
       "    <tr style=\"text-align: right;\">\n",
       "      <th>month</th>\n",
       "      <th>1</th>\n",
       "      <th>2</th>\n",
       "      <th>3</th>\n",
       "      <th>4</th>\n",
       "      <th>5</th>\n",
       "      <th>6</th>\n",
       "      <th>7</th>\n",
       "      <th>8</th>\n",
       "      <th>9</th>\n",
       "      <th>10</th>\n",
       "      <th>11</th>\n",
       "      <th>12</th>\n",
       "    </tr>\n",
       "    <tr>\n",
       "      <th>user_id</th>\n",
       "      <th></th>\n",
       "      <th></th>\n",
       "      <th></th>\n",
       "      <th></th>\n",
       "      <th></th>\n",
       "      <th></th>\n",
       "      <th></th>\n",
       "      <th></th>\n",
       "      <th></th>\n",
       "      <th></th>\n",
       "      <th></th>\n",
       "      <th></th>\n",
       "    </tr>\n",
       "  </thead>\n",
       "  <tbody>\n",
       "    <tr>\n",
       "      <th>1000</th>\n",
       "      <td>0.0</td>\n",
       "      <td>0.0</td>\n",
       "      <td>0.0</td>\n",
       "      <td>0.0</td>\n",
       "      <td>0.0</td>\n",
       "      <td>0.0</td>\n",
       "      <td>0.0</td>\n",
       "      <td>0.0</td>\n",
       "      <td>0.0</td>\n",
       "      <td>0.0</td>\n",
       "      <td>0.0</td>\n",
       "      <td>0.0</td>\n",
       "    </tr>\n",
       "    <tr>\n",
       "      <th>1002</th>\n",
       "      <td>0.0</td>\n",
       "      <td>0.0</td>\n",
       "      <td>0.0</td>\n",
       "      <td>0.0</td>\n",
       "      <td>0.0</td>\n",
       "      <td>0.0</td>\n",
       "      <td>0.0</td>\n",
       "      <td>0.0</td>\n",
       "      <td>0.0</td>\n",
       "      <td>0.0</td>\n",
       "      <td>0.0</td>\n",
       "      <td>0.0</td>\n",
       "    </tr>\n",
       "    <tr>\n",
       "      <th>1003</th>\n",
       "      <td>0.0</td>\n",
       "      <td>0.0</td>\n",
       "      <td>0.0</td>\n",
       "      <td>0.0</td>\n",
       "      <td>0.0</td>\n",
       "      <td>0.0</td>\n",
       "      <td>0.0</td>\n",
       "      <td>0.0</td>\n",
       "      <td>0.0</td>\n",
       "      <td>0.0</td>\n",
       "      <td>0.0</td>\n",
       "      <td>0.0</td>\n",
       "    </tr>\n",
       "    <tr>\n",
       "      <th>1004</th>\n",
       "      <td>0.0</td>\n",
       "      <td>0.0</td>\n",
       "      <td>0.0</td>\n",
       "      <td>0.0</td>\n",
       "      <td>0.0</td>\n",
       "      <td>0.0</td>\n",
       "      <td>0.0</td>\n",
       "      <td>0.0</td>\n",
       "      <td>0.0</td>\n",
       "      <td>0.0</td>\n",
       "      <td>0.0</td>\n",
       "      <td>0.0</td>\n",
       "    </tr>\n",
       "    <tr>\n",
       "      <th>1005</th>\n",
       "      <td>0.0</td>\n",
       "      <td>0.0</td>\n",
       "      <td>18.0</td>\n",
       "      <td>0.0</td>\n",
       "      <td>0.0</td>\n",
       "      <td>0.0</td>\n",
       "      <td>18.0</td>\n",
       "      <td>42.0</td>\n",
       "      <td>6.0</td>\n",
       "      <td>0.0</td>\n",
       "      <td>3.0</td>\n",
       "      <td>12.0</td>\n",
       "    </tr>\n",
       "    <tr>\n",
       "      <th>...</th>\n",
       "      <td>...</td>\n",
       "      <td>...</td>\n",
       "      <td>...</td>\n",
       "      <td>...</td>\n",
       "      <td>...</td>\n",
       "      <td>...</td>\n",
       "      <td>...</td>\n",
       "      <td>...</td>\n",
       "      <td>...</td>\n",
       "      <td>...</td>\n",
       "      <td>...</td>\n",
       "      <td>...</td>\n",
       "    </tr>\n",
       "    <tr>\n",
       "      <th>1495</th>\n",
       "      <td>0.0</td>\n",
       "      <td>0.0</td>\n",
       "      <td>0.0</td>\n",
       "      <td>0.0</td>\n",
       "      <td>0.0</td>\n",
       "      <td>0.0</td>\n",
       "      <td>0.0</td>\n",
       "      <td>0.0</td>\n",
       "      <td>0.0</td>\n",
       "      <td>0.0</td>\n",
       "      <td>0.0</td>\n",
       "      <td>0.0</td>\n",
       "    </tr>\n",
       "    <tr>\n",
       "      <th>1496</th>\n",
       "      <td>0.0</td>\n",
       "      <td>0.0</td>\n",
       "      <td>0.0</td>\n",
       "      <td>0.0</td>\n",
       "      <td>0.0</td>\n",
       "      <td>0.0</td>\n",
       "      <td>0.0</td>\n",
       "      <td>0.0</td>\n",
       "      <td>0.0</td>\n",
       "      <td>0.0</td>\n",
       "      <td>0.0</td>\n",
       "      <td>3.0</td>\n",
       "    </tr>\n",
       "    <tr>\n",
       "      <th>1497</th>\n",
       "      <td>0.0</td>\n",
       "      <td>0.0</td>\n",
       "      <td>0.0</td>\n",
       "      <td>0.0</td>\n",
       "      <td>0.0</td>\n",
       "      <td>0.0</td>\n",
       "      <td>0.0</td>\n",
       "      <td>0.0</td>\n",
       "      <td>0.0</td>\n",
       "      <td>0.0</td>\n",
       "      <td>0.0</td>\n",
       "      <td>0.0</td>\n",
       "    </tr>\n",
       "    <tr>\n",
       "      <th>1498</th>\n",
       "      <td>0.0</td>\n",
       "      <td>0.0</td>\n",
       "      <td>0.0</td>\n",
       "      <td>0.0</td>\n",
       "      <td>0.0</td>\n",
       "      <td>0.0</td>\n",
       "      <td>0.0</td>\n",
       "      <td>36.0</td>\n",
       "      <td>0.0</td>\n",
       "      <td>0.0</td>\n",
       "      <td>0.0</td>\n",
       "      <td>0.0</td>\n",
       "    </tr>\n",
       "    <tr>\n",
       "      <th>1499</th>\n",
       "      <td>0.0</td>\n",
       "      <td>0.0</td>\n",
       "      <td>0.0</td>\n",
       "      <td>0.0</td>\n",
       "      <td>0.0</td>\n",
       "      <td>0.0</td>\n",
       "      <td>0.0</td>\n",
       "      <td>0.0</td>\n",
       "      <td>0.0</td>\n",
       "      <td>0.0</td>\n",
       "      <td>27.0</td>\n",
       "      <td>48.0</td>\n",
       "    </tr>\n",
       "  </tbody>\n",
       "</table>\n",
       "<p>426 rows × 12 columns</p>\n",
       "</div>"
      ],
      "text/plain": [
       "month     1    2     3    4    5    6     7     8    9    10    11    12\n",
       "user_id                                                                 \n",
       "1000     0.0  0.0   0.0  0.0  0.0  0.0   0.0   0.0  0.0  0.0   0.0   0.0\n",
       "1002     0.0  0.0   0.0  0.0  0.0  0.0   0.0   0.0  0.0  0.0   0.0   0.0\n",
       "1003     0.0  0.0   0.0  0.0  0.0  0.0   0.0   0.0  0.0  0.0   0.0   0.0\n",
       "1004     0.0  0.0   0.0  0.0  0.0  0.0   0.0   0.0  0.0  0.0   0.0   0.0\n",
       "1005     0.0  0.0  18.0  0.0  0.0  0.0  18.0  42.0  6.0  0.0   3.0  12.0\n",
       "...      ...  ...   ...  ...  ...  ...   ...   ...  ...  ...   ...   ...\n",
       "1495     0.0  0.0   0.0  0.0  0.0  0.0   0.0   0.0  0.0  0.0   0.0   0.0\n",
       "1496     0.0  0.0   0.0  0.0  0.0  0.0   0.0   0.0  0.0  0.0   0.0   3.0\n",
       "1497     0.0  0.0   0.0  0.0  0.0  0.0   0.0   0.0  0.0  0.0   0.0   0.0\n",
       "1498     0.0  0.0   0.0  0.0  0.0  0.0   0.0  36.0  0.0  0.0   0.0   0.0\n",
       "1499     0.0  0.0   0.0  0.0  0.0  0.0   0.0   0.0  0.0  0.0  27.0  48.0\n",
       "\n",
       "[426 rows x 12 columns]"
      ]
     },
     "execution_count": 27,
     "metadata": {},
     "output_type": "execute_result"
    }
   ],
   "source": [
    "messages_user_month_billing = traf_user_monts_cost(messages_user_month, 'mess')\n",
    "messages_user_month_billing"
   ]
  },
  {
   "cell_type": "markdown",
   "metadata": {},
   "source": [
    "Помесячная стоимость звонков"
   ]
  },
  {
   "cell_type": "code",
   "execution_count": 28,
   "metadata": {},
   "outputs": [
    {
     "data": {
      "text/html": [
       "<div>\n",
       "<style scoped>\n",
       "    .dataframe tbody tr th:only-of-type {\n",
       "        vertical-align: middle;\n",
       "    }\n",
       "\n",
       "    .dataframe tbody tr th {\n",
       "        vertical-align: top;\n",
       "    }\n",
       "\n",
       "    .dataframe thead th {\n",
       "        text-align: right;\n",
       "    }\n",
       "</style>\n",
       "<table border=\"1\" class=\"dataframe\">\n",
       "  <thead>\n",
       "    <tr style=\"text-align: right;\">\n",
       "      <th>month</th>\n",
       "      <th>1</th>\n",
       "      <th>2</th>\n",
       "      <th>3</th>\n",
       "      <th>4</th>\n",
       "      <th>5</th>\n",
       "      <th>6</th>\n",
       "      <th>7</th>\n",
       "      <th>8</th>\n",
       "      <th>9</th>\n",
       "      <th>10</th>\n",
       "      <th>11</th>\n",
       "      <th>12</th>\n",
       "    </tr>\n",
       "    <tr>\n",
       "      <th>user_id</th>\n",
       "      <th></th>\n",
       "      <th></th>\n",
       "      <th></th>\n",
       "      <th></th>\n",
       "      <th></th>\n",
       "      <th></th>\n",
       "      <th></th>\n",
       "      <th></th>\n",
       "      <th></th>\n",
       "      <th></th>\n",
       "      <th></th>\n",
       "      <th></th>\n",
       "    </tr>\n",
       "  </thead>\n",
       "  <tbody>\n",
       "    <tr>\n",
       "      <th>1000</th>\n",
       "      <td>0.0</td>\n",
       "      <td>0.0</td>\n",
       "      <td>0.0</td>\n",
       "      <td>0.0</td>\n",
       "      <td>0.0</td>\n",
       "      <td>0.0</td>\n",
       "      <td>0.0</td>\n",
       "      <td>0.0</td>\n",
       "      <td>0.0</td>\n",
       "      <td>0.0</td>\n",
       "      <td>0.0</td>\n",
       "      <td>0.0</td>\n",
       "    </tr>\n",
       "    <tr>\n",
       "      <th>1001</th>\n",
       "      <td>0.0</td>\n",
       "      <td>0.0</td>\n",
       "      <td>0.0</td>\n",
       "      <td>0.0</td>\n",
       "      <td>0.0</td>\n",
       "      <td>0.0</td>\n",
       "      <td>0.0</td>\n",
       "      <td>0.0</td>\n",
       "      <td>0.0</td>\n",
       "      <td>0.0</td>\n",
       "      <td>0.0</td>\n",
       "      <td>0.0</td>\n",
       "    </tr>\n",
       "    <tr>\n",
       "      <th>1002</th>\n",
       "      <td>0.0</td>\n",
       "      <td>0.0</td>\n",
       "      <td>0.0</td>\n",
       "      <td>0.0</td>\n",
       "      <td>0.0</td>\n",
       "      <td>0.0</td>\n",
       "      <td>0.0</td>\n",
       "      <td>0.0</td>\n",
       "      <td>0.0</td>\n",
       "      <td>0.0</td>\n",
       "      <td>0.0</td>\n",
       "      <td>0.0</td>\n",
       "    </tr>\n",
       "    <tr>\n",
       "      <th>1003</th>\n",
       "      <td>0.0</td>\n",
       "      <td>0.0</td>\n",
       "      <td>0.0</td>\n",
       "      <td>0.0</td>\n",
       "      <td>0.0</td>\n",
       "      <td>0.0</td>\n",
       "      <td>0.0</td>\n",
       "      <td>0.0</td>\n",
       "      <td>0.0</td>\n",
       "      <td>0.0</td>\n",
       "      <td>0.0</td>\n",
       "      <td>0.0</td>\n",
       "    </tr>\n",
       "    <tr>\n",
       "      <th>1004</th>\n",
       "      <td>0.0</td>\n",
       "      <td>0.0</td>\n",
       "      <td>0.0</td>\n",
       "      <td>0.0</td>\n",
       "      <td>0.0</td>\n",
       "      <td>0.0</td>\n",
       "      <td>0.0</td>\n",
       "      <td>0.0</td>\n",
       "      <td>0.0</td>\n",
       "      <td>0.0</td>\n",
       "      <td>0.0</td>\n",
       "      <td>0.0</td>\n",
       "    </tr>\n",
       "    <tr>\n",
       "      <th>...</th>\n",
       "      <td>...</td>\n",
       "      <td>...</td>\n",
       "      <td>...</td>\n",
       "      <td>...</td>\n",
       "      <td>...</td>\n",
       "      <td>...</td>\n",
       "      <td>...</td>\n",
       "      <td>...</td>\n",
       "      <td>...</td>\n",
       "      <td>...</td>\n",
       "      <td>...</td>\n",
       "      <td>...</td>\n",
       "    </tr>\n",
       "    <tr>\n",
       "      <th>1495</th>\n",
       "      <td>0.0</td>\n",
       "      <td>0.0</td>\n",
       "      <td>0.0</td>\n",
       "      <td>0.0</td>\n",
       "      <td>0.0</td>\n",
       "      <td>0.0</td>\n",
       "      <td>0.0</td>\n",
       "      <td>0.0</td>\n",
       "      <td>0.0</td>\n",
       "      <td>0.0</td>\n",
       "      <td>0.0</td>\n",
       "      <td>0.0</td>\n",
       "    </tr>\n",
       "    <tr>\n",
       "      <th>1496</th>\n",
       "      <td>0.0</td>\n",
       "      <td>282.0</td>\n",
       "      <td>171.0</td>\n",
       "      <td>63.0</td>\n",
       "      <td>0.0</td>\n",
       "      <td>165.0</td>\n",
       "      <td>246.0</td>\n",
       "      <td>81.0</td>\n",
       "      <td>0.0</td>\n",
       "      <td>0.0</td>\n",
       "      <td>486.0</td>\n",
       "      <td>54.0</td>\n",
       "    </tr>\n",
       "    <tr>\n",
       "      <th>1497</th>\n",
       "      <td>0.0</td>\n",
       "      <td>0.0</td>\n",
       "      <td>0.0</td>\n",
       "      <td>0.0</td>\n",
       "      <td>0.0</td>\n",
       "      <td>0.0</td>\n",
       "      <td>0.0</td>\n",
       "      <td>0.0</td>\n",
       "      <td>0.0</td>\n",
       "      <td>0.0</td>\n",
       "      <td>0.0</td>\n",
       "      <td>135.0</td>\n",
       "    </tr>\n",
       "    <tr>\n",
       "      <th>1498</th>\n",
       "      <td>0.0</td>\n",
       "      <td>0.0</td>\n",
       "      <td>0.0</td>\n",
       "      <td>0.0</td>\n",
       "      <td>0.0</td>\n",
       "      <td>0.0</td>\n",
       "      <td>0.0</td>\n",
       "      <td>0.0</td>\n",
       "      <td>0.0</td>\n",
       "      <td>0.0</td>\n",
       "      <td>0.0</td>\n",
       "      <td>0.0</td>\n",
       "    </tr>\n",
       "    <tr>\n",
       "      <th>1499</th>\n",
       "      <td>0.0</td>\n",
       "      <td>0.0</td>\n",
       "      <td>0.0</td>\n",
       "      <td>0.0</td>\n",
       "      <td>0.0</td>\n",
       "      <td>0.0</td>\n",
       "      <td>0.0</td>\n",
       "      <td>0.0</td>\n",
       "      <td>0.0</td>\n",
       "      <td>0.0</td>\n",
       "      <td>336.0</td>\n",
       "      <td>0.0</td>\n",
       "    </tr>\n",
       "  </tbody>\n",
       "</table>\n",
       "<p>492 rows × 12 columns</p>\n",
       "</div>"
      ],
      "text/plain": [
       "month     1      2      3     4    5      6      7     8    9    10     11  \\\n",
       "user_id                                                                      \n",
       "1000     0.0    0.0    0.0   0.0  0.0    0.0    0.0   0.0  0.0  0.0    0.0   \n",
       "1001     0.0    0.0    0.0   0.0  0.0    0.0    0.0   0.0  0.0  0.0    0.0   \n",
       "1002     0.0    0.0    0.0   0.0  0.0    0.0    0.0   0.0  0.0  0.0    0.0   \n",
       "1003     0.0    0.0    0.0   0.0  0.0    0.0    0.0   0.0  0.0  0.0    0.0   \n",
       "1004     0.0    0.0    0.0   0.0  0.0    0.0    0.0   0.0  0.0  0.0    0.0   \n",
       "...      ...    ...    ...   ...  ...    ...    ...   ...  ...  ...    ...   \n",
       "1495     0.0    0.0    0.0   0.0  0.0    0.0    0.0   0.0  0.0  0.0    0.0   \n",
       "1496     0.0  282.0  171.0  63.0  0.0  165.0  246.0  81.0  0.0  0.0  486.0   \n",
       "1497     0.0    0.0    0.0   0.0  0.0    0.0    0.0   0.0  0.0  0.0    0.0   \n",
       "1498     0.0    0.0    0.0   0.0  0.0    0.0    0.0   0.0  0.0  0.0    0.0   \n",
       "1499     0.0    0.0    0.0   0.0  0.0    0.0    0.0   0.0  0.0  0.0  336.0   \n",
       "\n",
       "month       12  \n",
       "user_id         \n",
       "1000       0.0  \n",
       "1001       0.0  \n",
       "1002       0.0  \n",
       "1003       0.0  \n",
       "1004       0.0  \n",
       "...        ...  \n",
       "1495       0.0  \n",
       "1496      54.0  \n",
       "1497     135.0  \n",
       "1498       0.0  \n",
       "1499       0.0  \n",
       "\n",
       "[492 rows x 12 columns]"
      ]
     },
     "execution_count": 28,
     "metadata": {},
     "output_type": "execute_result"
    }
   ],
   "source": [
    "calls_user_month_billing = traf_user_monts_cost(calls_user_month['sum'], 'call')\n",
    "calls_user_month_billing"
   ]
  },
  {
   "cell_type": "markdown",
   "metadata": {},
   "source": [
    "Помесячная стоимость интернета"
   ]
  },
  {
   "cell_type": "code",
   "execution_count": 29,
   "metadata": {},
   "outputs": [
    {
     "data": {
      "text/html": [
       "<div>\n",
       "<style scoped>\n",
       "    .dataframe tbody tr th:only-of-type {\n",
       "        vertical-align: middle;\n",
       "    }\n",
       "\n",
       "    .dataframe tbody tr th {\n",
       "        vertical-align: top;\n",
       "    }\n",
       "\n",
       "    .dataframe thead th {\n",
       "        text-align: right;\n",
       "    }\n",
       "</style>\n",
       "<table border=\"1\" class=\"dataframe\">\n",
       "  <thead>\n",
       "    <tr style=\"text-align: right;\">\n",
       "      <th>month</th>\n",
       "      <th>1</th>\n",
       "      <th>2</th>\n",
       "      <th>3</th>\n",
       "      <th>4</th>\n",
       "      <th>5</th>\n",
       "      <th>6</th>\n",
       "      <th>7</th>\n",
       "      <th>8</th>\n",
       "      <th>9</th>\n",
       "      <th>10</th>\n",
       "      <th>11</th>\n",
       "      <th>12</th>\n",
       "    </tr>\n",
       "    <tr>\n",
       "      <th>user_id</th>\n",
       "      <th></th>\n",
       "      <th></th>\n",
       "      <th></th>\n",
       "      <th></th>\n",
       "      <th></th>\n",
       "      <th></th>\n",
       "      <th></th>\n",
       "      <th></th>\n",
       "      <th></th>\n",
       "      <th></th>\n",
       "      <th></th>\n",
       "      <th></th>\n",
       "    </tr>\n",
       "  </thead>\n",
       "  <tbody>\n",
       "    <tr>\n",
       "      <th>1000</th>\n",
       "      <td>0.0</td>\n",
       "      <td>0.0</td>\n",
       "      <td>0.0</td>\n",
       "      <td>0.0</td>\n",
       "      <td>0.0</td>\n",
       "      <td>0.0</td>\n",
       "      <td>0.0</td>\n",
       "      <td>0.0</td>\n",
       "      <td>0.0</td>\n",
       "      <td>0.0</td>\n",
       "      <td>0.0</td>\n",
       "      <td>0.0</td>\n",
       "    </tr>\n",
       "    <tr>\n",
       "      <th>1001</th>\n",
       "      <td>0.0</td>\n",
       "      <td>0.0</td>\n",
       "      <td>0.0</td>\n",
       "      <td>0.0</td>\n",
       "      <td>0.0</td>\n",
       "      <td>0.0</td>\n",
       "      <td>0.0</td>\n",
       "      <td>0.0</td>\n",
       "      <td>0.0</td>\n",
       "      <td>0.0</td>\n",
       "      <td>600.0</td>\n",
       "      <td>0.0</td>\n",
       "    </tr>\n",
       "    <tr>\n",
       "      <th>1002</th>\n",
       "      <td>0.0</td>\n",
       "      <td>0.0</td>\n",
       "      <td>0.0</td>\n",
       "      <td>0.0</td>\n",
       "      <td>0.0</td>\n",
       "      <td>0.0</td>\n",
       "      <td>600.0</td>\n",
       "      <td>1000.0</td>\n",
       "      <td>400.0</td>\n",
       "      <td>0.0</td>\n",
       "      <td>800.0</td>\n",
       "      <td>600.0</td>\n",
       "    </tr>\n",
       "    <tr>\n",
       "      <th>1003</th>\n",
       "      <td>0.0</td>\n",
       "      <td>0.0</td>\n",
       "      <td>0.0</td>\n",
       "      <td>0.0</td>\n",
       "      <td>0.0</td>\n",
       "      <td>0.0</td>\n",
       "      <td>0.0</td>\n",
       "      <td>0.0</td>\n",
       "      <td>0.0</td>\n",
       "      <td>0.0</td>\n",
       "      <td>0.0</td>\n",
       "      <td>0.0</td>\n",
       "    </tr>\n",
       "    <tr>\n",
       "      <th>1004</th>\n",
       "      <td>0.0</td>\n",
       "      <td>0.0</td>\n",
       "      <td>0.0</td>\n",
       "      <td>0.0</td>\n",
       "      <td>0.0</td>\n",
       "      <td>0.0</td>\n",
       "      <td>0.0</td>\n",
       "      <td>0.0</td>\n",
       "      <td>0.0</td>\n",
       "      <td>0.0</td>\n",
       "      <td>0.0</td>\n",
       "      <td>0.0</td>\n",
       "    </tr>\n",
       "    <tr>\n",
       "      <th>...</th>\n",
       "      <td>...</td>\n",
       "      <td>...</td>\n",
       "      <td>...</td>\n",
       "      <td>...</td>\n",
       "      <td>...</td>\n",
       "      <td>...</td>\n",
       "      <td>...</td>\n",
       "      <td>...</td>\n",
       "      <td>...</td>\n",
       "      <td>...</td>\n",
       "      <td>...</td>\n",
       "      <td>...</td>\n",
       "    </tr>\n",
       "    <tr>\n",
       "      <th>1495</th>\n",
       "      <td>0.0</td>\n",
       "      <td>0.0</td>\n",
       "      <td>0.0</td>\n",
       "      <td>0.0</td>\n",
       "      <td>0.0</td>\n",
       "      <td>0.0</td>\n",
       "      <td>0.0</td>\n",
       "      <td>0.0</td>\n",
       "      <td>450.0</td>\n",
       "      <td>0.0</td>\n",
       "      <td>1350.0</td>\n",
       "      <td>0.0</td>\n",
       "    </tr>\n",
       "    <tr>\n",
       "      <th>1496</th>\n",
       "      <td>0.0</td>\n",
       "      <td>2600.0</td>\n",
       "      <td>2000.0</td>\n",
       "      <td>1200.0</td>\n",
       "      <td>1800.0</td>\n",
       "      <td>1000.0</td>\n",
       "      <td>1800.0</td>\n",
       "      <td>1600.0</td>\n",
       "      <td>2400.0</td>\n",
       "      <td>2600.0</td>\n",
       "      <td>2000.0</td>\n",
       "      <td>1200.0</td>\n",
       "    </tr>\n",
       "    <tr>\n",
       "      <th>1497</th>\n",
       "      <td>0.0</td>\n",
       "      <td>0.0</td>\n",
       "      <td>0.0</td>\n",
       "      <td>0.0</td>\n",
       "      <td>0.0</td>\n",
       "      <td>0.0</td>\n",
       "      <td>0.0</td>\n",
       "      <td>0.0</td>\n",
       "      <td>0.0</td>\n",
       "      <td>0.0</td>\n",
       "      <td>0.0</td>\n",
       "      <td>1000.0</td>\n",
       "    </tr>\n",
       "    <tr>\n",
       "      <th>1498</th>\n",
       "      <td>0.0</td>\n",
       "      <td>0.0</td>\n",
       "      <td>0.0</td>\n",
       "      <td>0.0</td>\n",
       "      <td>0.0</td>\n",
       "      <td>0.0</td>\n",
       "      <td>0.0</td>\n",
       "      <td>1800.0</td>\n",
       "      <td>1400.0</td>\n",
       "      <td>1200.0</td>\n",
       "      <td>0.0</td>\n",
       "      <td>0.0</td>\n",
       "    </tr>\n",
       "    <tr>\n",
       "      <th>1499</th>\n",
       "      <td>0.0</td>\n",
       "      <td>0.0</td>\n",
       "      <td>0.0</td>\n",
       "      <td>0.0</td>\n",
       "      <td>0.0</td>\n",
       "      <td>0.0</td>\n",
       "      <td>0.0</td>\n",
       "      <td>0.0</td>\n",
       "      <td>0.0</td>\n",
       "      <td>600.0</td>\n",
       "      <td>600.0</td>\n",
       "      <td>0.0</td>\n",
       "    </tr>\n",
       "  </tbody>\n",
       "</table>\n",
       "<p>497 rows × 12 columns</p>\n",
       "</div>"
      ],
      "text/plain": [
       "month     1       2       3       4       5       6       7       8       9   \\\n",
       "user_id                                                                        \n",
       "1000     0.0     0.0     0.0     0.0     0.0     0.0     0.0     0.0     0.0   \n",
       "1001     0.0     0.0     0.0     0.0     0.0     0.0     0.0     0.0     0.0   \n",
       "1002     0.0     0.0     0.0     0.0     0.0     0.0   600.0  1000.0   400.0   \n",
       "1003     0.0     0.0     0.0     0.0     0.0     0.0     0.0     0.0     0.0   \n",
       "1004     0.0     0.0     0.0     0.0     0.0     0.0     0.0     0.0     0.0   \n",
       "...      ...     ...     ...     ...     ...     ...     ...     ...     ...   \n",
       "1495     0.0     0.0     0.0     0.0     0.0     0.0     0.0     0.0   450.0   \n",
       "1496     0.0  2600.0  2000.0  1200.0  1800.0  1000.0  1800.0  1600.0  2400.0   \n",
       "1497     0.0     0.0     0.0     0.0     0.0     0.0     0.0     0.0     0.0   \n",
       "1498     0.0     0.0     0.0     0.0     0.0     0.0     0.0  1800.0  1400.0   \n",
       "1499     0.0     0.0     0.0     0.0     0.0     0.0     0.0     0.0     0.0   \n",
       "\n",
       "month        10      11      12  \n",
       "user_id                          \n",
       "1000        0.0     0.0     0.0  \n",
       "1001        0.0   600.0     0.0  \n",
       "1002        0.0   800.0   600.0  \n",
       "1003        0.0     0.0     0.0  \n",
       "1004        0.0     0.0     0.0  \n",
       "...         ...     ...     ...  \n",
       "1495        0.0  1350.0     0.0  \n",
       "1496     2600.0  2000.0  1200.0  \n",
       "1497        0.0     0.0  1000.0  \n",
       "1498     1200.0     0.0     0.0  \n",
       "1499      600.0   600.0     0.0  \n",
       "\n",
       "[497 rows x 12 columns]"
      ]
     },
     "execution_count": 29,
     "metadata": {},
     "output_type": "execute_result"
    }
   ],
   "source": [
    "internet_user_month_billing = traf_user_monts_cost(internet_user_month, 'inter')\n",
    "internet_user_month_billing"
   ]
  },
  {
   "cell_type": "markdown",
   "metadata": {},
   "source": [
    "Сложим расходы за звонки, смс и интернет сверх тарифа"
   ]
  },
  {
   "cell_type": "code",
   "execution_count": 30,
   "metadata": {},
   "outputs": [
    {
     "data": {
      "text/html": [
       "<div>\n",
       "<style scoped>\n",
       "    .dataframe tbody tr th:only-of-type {\n",
       "        vertical-align: middle;\n",
       "    }\n",
       "\n",
       "    .dataframe tbody tr th {\n",
       "        vertical-align: top;\n",
       "    }\n",
       "\n",
       "    .dataframe thead th {\n",
       "        text-align: right;\n",
       "    }\n",
       "</style>\n",
       "<table border=\"1\" class=\"dataframe\">\n",
       "  <thead>\n",
       "    <tr style=\"text-align: right;\">\n",
       "      <th>month</th>\n",
       "      <th>1</th>\n",
       "      <th>2</th>\n",
       "      <th>3</th>\n",
       "      <th>4</th>\n",
       "      <th>5</th>\n",
       "      <th>6</th>\n",
       "      <th>7</th>\n",
       "      <th>8</th>\n",
       "      <th>9</th>\n",
       "      <th>10</th>\n",
       "      <th>11</th>\n",
       "      <th>12</th>\n",
       "    </tr>\n",
       "    <tr>\n",
       "      <th>user_id</th>\n",
       "      <th></th>\n",
       "      <th></th>\n",
       "      <th></th>\n",
       "      <th></th>\n",
       "      <th></th>\n",
       "      <th></th>\n",
       "      <th></th>\n",
       "      <th></th>\n",
       "      <th></th>\n",
       "      <th></th>\n",
       "      <th></th>\n",
       "      <th></th>\n",
       "    </tr>\n",
       "  </thead>\n",
       "  <tbody>\n",
       "    <tr>\n",
       "      <th>1000</th>\n",
       "      <td>0.0</td>\n",
       "      <td>0.0</td>\n",
       "      <td>0.0</td>\n",
       "      <td>0.0</td>\n",
       "      <td>0.0</td>\n",
       "      <td>0.0</td>\n",
       "      <td>0.0</td>\n",
       "      <td>0.0</td>\n",
       "      <td>0.0</td>\n",
       "      <td>0.0</td>\n",
       "      <td>0.0</td>\n",
       "      <td>0.0</td>\n",
       "    </tr>\n",
       "    <tr>\n",
       "      <th>1001</th>\n",
       "      <td>0.0</td>\n",
       "      <td>0.0</td>\n",
       "      <td>0.0</td>\n",
       "      <td>0.0</td>\n",
       "      <td>0.0</td>\n",
       "      <td>0.0</td>\n",
       "      <td>0.0</td>\n",
       "      <td>0.0</td>\n",
       "      <td>0.0</td>\n",
       "      <td>0.0</td>\n",
       "      <td>600.0</td>\n",
       "      <td>0.0</td>\n",
       "    </tr>\n",
       "    <tr>\n",
       "      <th>1002</th>\n",
       "      <td>0.0</td>\n",
       "      <td>0.0</td>\n",
       "      <td>0.0</td>\n",
       "      <td>0.0</td>\n",
       "      <td>0.0</td>\n",
       "      <td>0.0</td>\n",
       "      <td>600.0</td>\n",
       "      <td>1000.0</td>\n",
       "      <td>400.0</td>\n",
       "      <td>0.0</td>\n",
       "      <td>800.0</td>\n",
       "      <td>600.0</td>\n",
       "    </tr>\n",
       "    <tr>\n",
       "      <th>1003</th>\n",
       "      <td>0.0</td>\n",
       "      <td>0.0</td>\n",
       "      <td>0.0</td>\n",
       "      <td>0.0</td>\n",
       "      <td>0.0</td>\n",
       "      <td>0.0</td>\n",
       "      <td>0.0</td>\n",
       "      <td>0.0</td>\n",
       "      <td>0.0</td>\n",
       "      <td>0.0</td>\n",
       "      <td>0.0</td>\n",
       "      <td>0.0</td>\n",
       "    </tr>\n",
       "    <tr>\n",
       "      <th>1004</th>\n",
       "      <td>0.0</td>\n",
       "      <td>0.0</td>\n",
       "      <td>0.0</td>\n",
       "      <td>0.0</td>\n",
       "      <td>0.0</td>\n",
       "      <td>0.0</td>\n",
       "      <td>0.0</td>\n",
       "      <td>0.0</td>\n",
       "      <td>0.0</td>\n",
       "      <td>0.0</td>\n",
       "      <td>0.0</td>\n",
       "      <td>0.0</td>\n",
       "    </tr>\n",
       "    <tr>\n",
       "      <th>...</th>\n",
       "      <td>...</td>\n",
       "      <td>...</td>\n",
       "      <td>...</td>\n",
       "      <td>...</td>\n",
       "      <td>...</td>\n",
       "      <td>...</td>\n",
       "      <td>...</td>\n",
       "      <td>...</td>\n",
       "      <td>...</td>\n",
       "      <td>...</td>\n",
       "      <td>...</td>\n",
       "      <td>...</td>\n",
       "    </tr>\n",
       "    <tr>\n",
       "      <th>1495</th>\n",
       "      <td>0.0</td>\n",
       "      <td>0.0</td>\n",
       "      <td>0.0</td>\n",
       "      <td>0.0</td>\n",
       "      <td>0.0</td>\n",
       "      <td>0.0</td>\n",
       "      <td>0.0</td>\n",
       "      <td>0.0</td>\n",
       "      <td>450.0</td>\n",
       "      <td>0.0</td>\n",
       "      <td>1350.0</td>\n",
       "      <td>0.0</td>\n",
       "    </tr>\n",
       "    <tr>\n",
       "      <th>1496</th>\n",
       "      <td>0.0</td>\n",
       "      <td>2882.0</td>\n",
       "      <td>2171.0</td>\n",
       "      <td>1263.0</td>\n",
       "      <td>1800.0</td>\n",
       "      <td>1165.0</td>\n",
       "      <td>2046.0</td>\n",
       "      <td>1681.0</td>\n",
       "      <td>2400.0</td>\n",
       "      <td>2600.0</td>\n",
       "      <td>2486.0</td>\n",
       "      <td>1257.0</td>\n",
       "    </tr>\n",
       "    <tr>\n",
       "      <th>1497</th>\n",
       "      <td>0.0</td>\n",
       "      <td>0.0</td>\n",
       "      <td>0.0</td>\n",
       "      <td>0.0</td>\n",
       "      <td>0.0</td>\n",
       "      <td>0.0</td>\n",
       "      <td>0.0</td>\n",
       "      <td>0.0</td>\n",
       "      <td>0.0</td>\n",
       "      <td>0.0</td>\n",
       "      <td>0.0</td>\n",
       "      <td>1135.0</td>\n",
       "    </tr>\n",
       "    <tr>\n",
       "      <th>1498</th>\n",
       "      <td>0.0</td>\n",
       "      <td>0.0</td>\n",
       "      <td>0.0</td>\n",
       "      <td>0.0</td>\n",
       "      <td>0.0</td>\n",
       "      <td>0.0</td>\n",
       "      <td>0.0</td>\n",
       "      <td>1836.0</td>\n",
       "      <td>1400.0</td>\n",
       "      <td>1200.0</td>\n",
       "      <td>0.0</td>\n",
       "      <td>0.0</td>\n",
       "    </tr>\n",
       "    <tr>\n",
       "      <th>1499</th>\n",
       "      <td>0.0</td>\n",
       "      <td>0.0</td>\n",
       "      <td>0.0</td>\n",
       "      <td>0.0</td>\n",
       "      <td>0.0</td>\n",
       "      <td>0.0</td>\n",
       "      <td>0.0</td>\n",
       "      <td>0.0</td>\n",
       "      <td>0.0</td>\n",
       "      <td>600.0</td>\n",
       "      <td>963.0</td>\n",
       "      <td>48.0</td>\n",
       "    </tr>\n",
       "  </tbody>\n",
       "</table>\n",
       "<p>498 rows × 12 columns</p>\n",
       "</div>"
      ],
      "text/plain": [
       "month     1       2       3       4       5       6       7       8       9   \\\n",
       "user_id                                                                        \n",
       "1000     0.0     0.0     0.0     0.0     0.0     0.0     0.0     0.0     0.0   \n",
       "1001     0.0     0.0     0.0     0.0     0.0     0.0     0.0     0.0     0.0   \n",
       "1002     0.0     0.0     0.0     0.0     0.0     0.0   600.0  1000.0   400.0   \n",
       "1003     0.0     0.0     0.0     0.0     0.0     0.0     0.0     0.0     0.0   \n",
       "1004     0.0     0.0     0.0     0.0     0.0     0.0     0.0     0.0     0.0   \n",
       "...      ...     ...     ...     ...     ...     ...     ...     ...     ...   \n",
       "1495     0.0     0.0     0.0     0.0     0.0     0.0     0.0     0.0   450.0   \n",
       "1496     0.0  2882.0  2171.0  1263.0  1800.0  1165.0  2046.0  1681.0  2400.0   \n",
       "1497     0.0     0.0     0.0     0.0     0.0     0.0     0.0     0.0     0.0   \n",
       "1498     0.0     0.0     0.0     0.0     0.0     0.0     0.0  1836.0  1400.0   \n",
       "1499     0.0     0.0     0.0     0.0     0.0     0.0     0.0     0.0     0.0   \n",
       "\n",
       "month        10      11      12  \n",
       "user_id                          \n",
       "1000        0.0     0.0     0.0  \n",
       "1001        0.0   600.0     0.0  \n",
       "1002        0.0   800.0   600.0  \n",
       "1003        0.0     0.0     0.0  \n",
       "1004        0.0     0.0     0.0  \n",
       "...         ...     ...     ...  \n",
       "1495        0.0  1350.0     0.0  \n",
       "1496     2600.0  2486.0  1257.0  \n",
       "1497        0.0     0.0  1135.0  \n",
       "1498     1200.0     0.0     0.0  \n",
       "1499      600.0   963.0    48.0  \n",
       "\n",
       "[498 rows x 12 columns]"
      ]
     },
     "execution_count": 30,
     "metadata": {},
     "output_type": "execute_result"
    }
   ],
   "source": [
    "user_month_billing = internet_user_month_billing.add(messages_user_month_billing, fill_value = 0).add(calls_user_month_billing, fill_value = 0)\n",
    "user_month_billing"
   ]
  },
  {
   "cell_type": "markdown",
   "metadata": {},
   "source": [
    "Добавим абонентскую плату"
   ]
  },
  {
   "cell_type": "code",
   "execution_count": 31,
   "metadata": {},
   "outputs": [],
   "source": [
    "#Добавим в users столбцы с месяцами подключения и откоючения.\n",
    "users['reg_month'] = pd.DatetimeIndex(users['reg_date']).month\n",
    "users['churn_month'] = pd.DatetimeIndex(users['churn_date']).month"
   ]
  },
  {
   "cell_type": "code",
   "execution_count": 32,
   "metadata": {
    "scrolled": false
   },
   "outputs": [
    {
     "name": "stdout",
     "output_type": "stream",
     "text": [
      "Ой\n",
      "Ой\n"
     ]
    }
   ],
   "source": [
    "#Добавим абонентскую плату для разных тарифов. Чтоб цикл не прерывался пропущенными данными добавим try except\n",
    "for row in filter_smart: \n",
    "    try:\n",
    "        user_month_billing.loc[row , users['reg_month'][row - 1000] : users['churn_month'][row - 1000]]  += tariffs['rub_monthly_fee'][0]\n",
    "    except:\n",
    "        print('Ой')\n",
    "\n",
    "for row in filter_ultra: \n",
    "    try:\n",
    "        user_month_billing.loc[row , users['reg_month'][row - 1000] : users['churn_month'][row - 1000]]  += tariffs['rub_monthly_fee'][1]\n",
    "    except:\n",
    "        print('Ой')\n"
   ]
  },
  {
   "cell_type": "markdown",
   "metadata": {},
   "source": [
    "<div class=\"alert alert-success\">\n",
    "<h2>Комментарий ревьбюера</h2>\n",
    "\n",
    "Вместо не очень информативного `print Ой` можно писать `pass` \n",
    "</div>"
   ]
  },
  {
   "cell_type": "markdown",
   "metadata": {},
   "source": [
    "**Помесячная выручка с каждого пользователя**"
   ]
  },
  {
   "cell_type": "code",
   "execution_count": 33,
   "metadata": {},
   "outputs": [
    {
     "data": {
      "text/html": [
       "<div>\n",
       "<style scoped>\n",
       "    .dataframe tbody tr th:only-of-type {\n",
       "        vertical-align: middle;\n",
       "    }\n",
       "\n",
       "    .dataframe tbody tr th {\n",
       "        vertical-align: top;\n",
       "    }\n",
       "\n",
       "    .dataframe thead th {\n",
       "        text-align: right;\n",
       "    }\n",
       "</style>\n",
       "<table border=\"1\" class=\"dataframe\">\n",
       "  <thead>\n",
       "    <tr style=\"text-align: right;\">\n",
       "      <th>month</th>\n",
       "      <th>1</th>\n",
       "      <th>2</th>\n",
       "      <th>3</th>\n",
       "      <th>4</th>\n",
       "      <th>5</th>\n",
       "      <th>6</th>\n",
       "      <th>7</th>\n",
       "      <th>8</th>\n",
       "      <th>9</th>\n",
       "      <th>10</th>\n",
       "      <th>11</th>\n",
       "      <th>12</th>\n",
       "    </tr>\n",
       "    <tr>\n",
       "      <th>user_id</th>\n",
       "      <th></th>\n",
       "      <th></th>\n",
       "      <th></th>\n",
       "      <th></th>\n",
       "      <th></th>\n",
       "      <th></th>\n",
       "      <th></th>\n",
       "      <th></th>\n",
       "      <th></th>\n",
       "      <th></th>\n",
       "      <th></th>\n",
       "      <th></th>\n",
       "    </tr>\n",
       "  </thead>\n",
       "  <tbody>\n",
       "    <tr>\n",
       "      <th>1000</th>\n",
       "      <td>0.0</td>\n",
       "      <td>0.0</td>\n",
       "      <td>0.0</td>\n",
       "      <td>0.0</td>\n",
       "      <td>1950.0</td>\n",
       "      <td>1950.0</td>\n",
       "      <td>1950.0</td>\n",
       "      <td>1950.0</td>\n",
       "      <td>1950.0</td>\n",
       "      <td>1950.0</td>\n",
       "      <td>1950.0</td>\n",
       "      <td>1950.0</td>\n",
       "    </tr>\n",
       "    <tr>\n",
       "      <th>1001</th>\n",
       "      <td>0.0</td>\n",
       "      <td>0.0</td>\n",
       "      <td>0.0</td>\n",
       "      <td>0.0</td>\n",
       "      <td>0.0</td>\n",
       "      <td>0.0</td>\n",
       "      <td>0.0</td>\n",
       "      <td>0.0</td>\n",
       "      <td>0.0</td>\n",
       "      <td>0.0</td>\n",
       "      <td>1150.0</td>\n",
       "      <td>550.0</td>\n",
       "    </tr>\n",
       "    <tr>\n",
       "      <th>1002</th>\n",
       "      <td>0.0</td>\n",
       "      <td>0.0</td>\n",
       "      <td>0.0</td>\n",
       "      <td>0.0</td>\n",
       "      <td>0.0</td>\n",
       "      <td>550.0</td>\n",
       "      <td>1150.0</td>\n",
       "      <td>1550.0</td>\n",
       "      <td>950.0</td>\n",
       "      <td>550.0</td>\n",
       "      <td>1350.0</td>\n",
       "      <td>1150.0</td>\n",
       "    </tr>\n",
       "    <tr>\n",
       "      <th>1003</th>\n",
       "      <td>0.0</td>\n",
       "      <td>0.0</td>\n",
       "      <td>0.0</td>\n",
       "      <td>0.0</td>\n",
       "      <td>0.0</td>\n",
       "      <td>0.0</td>\n",
       "      <td>0.0</td>\n",
       "      <td>1950.0</td>\n",
       "      <td>1950.0</td>\n",
       "      <td>1950.0</td>\n",
       "      <td>1950.0</td>\n",
       "      <td>1950.0</td>\n",
       "    </tr>\n",
       "    <tr>\n",
       "      <th>1004</th>\n",
       "      <td>0.0</td>\n",
       "      <td>0.0</td>\n",
       "      <td>0.0</td>\n",
       "      <td>0.0</td>\n",
       "      <td>1950.0</td>\n",
       "      <td>1950.0</td>\n",
       "      <td>1950.0</td>\n",
       "      <td>1950.0</td>\n",
       "      <td>1950.0</td>\n",
       "      <td>1950.0</td>\n",
       "      <td>1950.0</td>\n",
       "      <td>1950.0</td>\n",
       "    </tr>\n",
       "    <tr>\n",
       "      <th>...</th>\n",
       "      <td>...</td>\n",
       "      <td>...</td>\n",
       "      <td>...</td>\n",
       "      <td>...</td>\n",
       "      <td>...</td>\n",
       "      <td>...</td>\n",
       "      <td>...</td>\n",
       "      <td>...</td>\n",
       "      <td>...</td>\n",
       "      <td>...</td>\n",
       "      <td>...</td>\n",
       "      <td>...</td>\n",
       "    </tr>\n",
       "    <tr>\n",
       "      <th>1495</th>\n",
       "      <td>0.0</td>\n",
       "      <td>0.0</td>\n",
       "      <td>0.0</td>\n",
       "      <td>0.0</td>\n",
       "      <td>0.0</td>\n",
       "      <td>0.0</td>\n",
       "      <td>0.0</td>\n",
       "      <td>1950.0</td>\n",
       "      <td>2400.0</td>\n",
       "      <td>1950.0</td>\n",
       "      <td>3300.0</td>\n",
       "      <td>1950.0</td>\n",
       "    </tr>\n",
       "    <tr>\n",
       "      <th>1496</th>\n",
       "      <td>550.0</td>\n",
       "      <td>3432.0</td>\n",
       "      <td>2721.0</td>\n",
       "      <td>1813.0</td>\n",
       "      <td>2350.0</td>\n",
       "      <td>1715.0</td>\n",
       "      <td>2596.0</td>\n",
       "      <td>2231.0</td>\n",
       "      <td>2950.0</td>\n",
       "      <td>3150.0</td>\n",
       "      <td>3036.0</td>\n",
       "      <td>1807.0</td>\n",
       "    </tr>\n",
       "    <tr>\n",
       "      <th>1497</th>\n",
       "      <td>0.0</td>\n",
       "      <td>0.0</td>\n",
       "      <td>0.0</td>\n",
       "      <td>0.0</td>\n",
       "      <td>0.0</td>\n",
       "      <td>0.0</td>\n",
       "      <td>0.0</td>\n",
       "      <td>0.0</td>\n",
       "      <td>0.0</td>\n",
       "      <td>550.0</td>\n",
       "      <td>550.0</td>\n",
       "      <td>1685.0</td>\n",
       "    </tr>\n",
       "    <tr>\n",
       "      <th>1498</th>\n",
       "      <td>0.0</td>\n",
       "      <td>0.0</td>\n",
       "      <td>0.0</td>\n",
       "      <td>0.0</td>\n",
       "      <td>0.0</td>\n",
       "      <td>0.0</td>\n",
       "      <td>550.0</td>\n",
       "      <td>2386.0</td>\n",
       "      <td>1950.0</td>\n",
       "      <td>1750.0</td>\n",
       "      <td>0.0</td>\n",
       "      <td>0.0</td>\n",
       "    </tr>\n",
       "    <tr>\n",
       "      <th>1499</th>\n",
       "      <td>0.0</td>\n",
       "      <td>0.0</td>\n",
       "      <td>0.0</td>\n",
       "      <td>0.0</td>\n",
       "      <td>0.0</td>\n",
       "      <td>0.0</td>\n",
       "      <td>0.0</td>\n",
       "      <td>0.0</td>\n",
       "      <td>550.0</td>\n",
       "      <td>1150.0</td>\n",
       "      <td>1513.0</td>\n",
       "      <td>598.0</td>\n",
       "    </tr>\n",
       "  </tbody>\n",
       "</table>\n",
       "<p>498 rows × 12 columns</p>\n",
       "</div>"
      ],
      "text/plain": [
       "month       1       2       3       4       5       6       7       8   \\\n",
       "user_id                                                                  \n",
       "1000       0.0     0.0     0.0     0.0  1950.0  1950.0  1950.0  1950.0   \n",
       "1001       0.0     0.0     0.0     0.0     0.0     0.0     0.0     0.0   \n",
       "1002       0.0     0.0     0.0     0.0     0.0   550.0  1150.0  1550.0   \n",
       "1003       0.0     0.0     0.0     0.0     0.0     0.0     0.0  1950.0   \n",
       "1004       0.0     0.0     0.0     0.0  1950.0  1950.0  1950.0  1950.0   \n",
       "...        ...     ...     ...     ...     ...     ...     ...     ...   \n",
       "1495       0.0     0.0     0.0     0.0     0.0     0.0     0.0  1950.0   \n",
       "1496     550.0  3432.0  2721.0  1813.0  2350.0  1715.0  2596.0  2231.0   \n",
       "1497       0.0     0.0     0.0     0.0     0.0     0.0     0.0     0.0   \n",
       "1498       0.0     0.0     0.0     0.0     0.0     0.0   550.0  2386.0   \n",
       "1499       0.0     0.0     0.0     0.0     0.0     0.0     0.0     0.0   \n",
       "\n",
       "month        9       10      11      12  \n",
       "user_id                                  \n",
       "1000     1950.0  1950.0  1950.0  1950.0  \n",
       "1001        0.0     0.0  1150.0   550.0  \n",
       "1002      950.0   550.0  1350.0  1150.0  \n",
       "1003     1950.0  1950.0  1950.0  1950.0  \n",
       "1004     1950.0  1950.0  1950.0  1950.0  \n",
       "...         ...     ...     ...     ...  \n",
       "1495     2400.0  1950.0  3300.0  1950.0  \n",
       "1496     2950.0  3150.0  3036.0  1807.0  \n",
       "1497        0.0   550.0   550.0  1685.0  \n",
       "1498     1950.0  1750.0     0.0     0.0  \n",
       "1499      550.0  1150.0  1513.0   598.0  \n",
       "\n",
       "[498 rows x 12 columns]"
      ]
     },
     "execution_count": 33,
     "metadata": {},
     "output_type": "execute_result"
    }
   ],
   "source": [
    "user_month_billing"
   ]
  },
  {
   "cell_type": "markdown",
   "metadata": {},
   "source": [
    "### Вывод"
   ]
  },
  {
   "cell_type": "markdown",
   "metadata": {},
   "source": [
    "Проанализировали входные данные. Нулевые звонки и интернет сесии оставили как есть. Они не должны повлиять на результаты исследования.\\\n",
    "Преобразовали даты в нужный формат.\\\n",
    "Посчитали для каждого пользователя:\\\n",
    "количество сделанных звонков и израсходованных минут разговора по месяцам;\\\n",
    "количество отправленных сообщений по месяцам;\\\n",
    "объем израсходованного интернет-трафика по месяцам;\\\n",
    "помесячную выручку с каждого пользователя.\n",
    "\n",
    "По 2м клиентам данных потребления услуг не обнаружилось. Абоненскую плату им не начислили."
   ]
  },
  {
   "cell_type": "markdown",
   "metadata": {},
   "source": [
    "## Анализ данных"
   ]
  },
  {
   "cell_type": "markdown",
   "metadata": {},
   "source": [
    "### Исследование поведения клиентов оператора на разных тарифах"
   ]
  },
  {
   "cell_type": "code",
   "execution_count": 34,
   "metadata": {},
   "outputs": [
    {
     "data": {
      "text/html": [
       "<div>\n",
       "<style scoped>\n",
       "    .dataframe tbody tr th:only-of-type {\n",
       "        vertical-align: middle;\n",
       "    }\n",
       "\n",
       "    .dataframe tbody tr th {\n",
       "        vertical-align: top;\n",
       "    }\n",
       "\n",
       "    .dataframe thead th {\n",
       "        text-align: right;\n",
       "    }\n",
       "</style>\n",
       "<table border=\"1\" class=\"dataframe\">\n",
       "  <thead>\n",
       "    <tr style=\"text-align: right;\">\n",
       "      <th></th>\n",
       "      <th>messages_included</th>\n",
       "      <th>mb_per_month_included</th>\n",
       "      <th>minutes_included</th>\n",
       "      <th>rub_monthly_fee</th>\n",
       "      <th>rub_per_gb</th>\n",
       "      <th>rub_per_message</th>\n",
       "      <th>rub_per_minute</th>\n",
       "      <th>tariff_name</th>\n",
       "    </tr>\n",
       "  </thead>\n",
       "  <tbody>\n",
       "    <tr>\n",
       "      <th>0</th>\n",
       "      <td>50</td>\n",
       "      <td>15360</td>\n",
       "      <td>500</td>\n",
       "      <td>550</td>\n",
       "      <td>200</td>\n",
       "      <td>3</td>\n",
       "      <td>3</td>\n",
       "      <td>smart</td>\n",
       "    </tr>\n",
       "    <tr>\n",
       "      <th>1</th>\n",
       "      <td>1000</td>\n",
       "      <td>30720</td>\n",
       "      <td>3000</td>\n",
       "      <td>1950</td>\n",
       "      <td>150</td>\n",
       "      <td>1</td>\n",
       "      <td>1</td>\n",
       "      <td>ultra</td>\n",
       "    </tr>\n",
       "  </tbody>\n",
       "</table>\n",
       "</div>"
      ],
      "text/plain": [
       "   messages_included  mb_per_month_included  minutes_included  \\\n",
       "0                 50                  15360               500   \n",
       "1               1000                  30720              3000   \n",
       "\n",
       "   rub_monthly_fee  rub_per_gb  rub_per_message  rub_per_minute tariff_name  \n",
       "0              550         200                3               3       smart  \n",
       "1             1950         150                1               1       ultra  "
      ]
     },
     "execution_count": 34,
     "metadata": {},
     "output_type": "execute_result"
    }
   ],
   "source": [
    "tariffs"
   ]
  },
  {
   "cell_type": "code",
   "execution_count": 35,
   "metadata": {
    "scrolled": false
   },
   "outputs": [
    {
     "name": "stdout",
     "output_type": "stream",
     "text": [
      "Cреднее количество, дисперсия и стандартное отклонение для минут разговоров в месяц для тарифа Смарт:\n",
      "mean      419.062978\n",
      "var     35844.189551\n",
      "std       189.325618\n",
      "dtype: float64\n",
      "Cреднее количество, дисперсия и стандартное отклонение для минут разговоров в месяц для тарифа Ультра:\n",
      "mean      545.451104\n",
      "var     94203.418396\n",
      "std       306.925754\n",
      "dtype: float64\n"
     ]
    },
    {
     "data": {
      "image/png": "[encoded data removed]",
      "text/plain": [
       "<Figure size 1080x504 with 1 Axes>"
      ]
     },
     "metadata": {
      "needs_background": "light"
     },
     "output_type": "display_data"
    },
    {
     "name": "stdout",
     "output_type": "stream",
     "text": [
      "Cреднее количество, дисперсия и стандартное отклонение для сообщений в месяц для тарифа Смарт:\n",
      "mean     38.716441\n",
      "var     717.594201\n",
      "std      26.787949\n",
      "dtype: float64\n",
      "Cреднее количество, дисперсия и стандартное отклонение для сообщений в месяц для тарифа Ультра:\n",
      "mean      61.161006\n",
      "var     2109.659183\n",
      "std       45.931026\n",
      "dtype: float64\n"
     ]
    },
    {
     "data": {
      "image/png": "[encoded data removed]",
      "text/plain": [
       "<Figure size 1080x504 with 1 Axes>"
      ]
     },
     "metadata": {
      "needs_background": "light"
     },
     "output_type": "display_data"
    },
    {
     "name": "stdout",
     "output_type": "stream",
     "text": [
      "Cреднее количество, дисперсия и стандартное отклонение для объёма интернет-трафика в месяц для тарифа Смарт:\n",
      "mean    16.336176\n",
      "var     32.923756\n",
      "std      5.737923\n",
      "dtype: float64\n",
      "Cреднее количество, дисперсия и стандартное отклонение для объёма интернет-трафика в месяц для тарифа Ультра:\n",
      "mean    19.694359\n",
      "var     94.146734\n",
      "std      9.702924\n",
      "dtype: float64\n"
     ]
    },
    {
     "data": {
      "image/png": "[encoded data removed]",
      "text/plain": [
       "<Figure size 1080x504 with 1 Axes>"
      ]
     },
     "metadata": {
      "needs_background": "light"
     },
     "output_type": "display_data"
    }
   ],
   "source": [
    "res_data = [[calls_user_month['sum'], 'звонки'], \n",
    "            [messages_user_month, 'сообщения'],\n",
    "            [internet_user_month, 'интернет']]\n",
    "\n",
    "for res_service, service_name in res_data:\n",
    "    if service_name == 'звонки':\n",
    "        title1 = 'Cреднее количество, дисперсия и стандартное отклонение для минут разговоров в месяц для тарифа Смарт:'\n",
    "        title2 = 'Cреднее количество, дисперсия и стандартное отклонение для минут разговоров в месяц для тарифа Ультра:'\n",
    "        title_graf = 'Гистрограммы минут разговоров в месяц для 2х тарифов'\n",
    "        limit = tariffs['minutes_included']\n",
    "    if service_name == 'сообщения':\n",
    "        title1 = 'Cреднее количество, дисперсия и стандартное отклонение для сообщений в месяц для тарифа Смарт:'\n",
    "        title2 = 'Cреднее количество, дисперсия и стандартное отклонение для сообщений в месяц для тарифа Ультра:'\n",
    "        title_graf = 'Гистрограммы сообщений в месяц для 2х тарифов'\n",
    "        limit = tariffs['messages_included']\n",
    "    if service_name == 'интернет':\n",
    "        title1 = 'Cреднее количество, дисперсия и стандартное отклонение для объёма интернет-трафика в месяц для тарифа Смарт:'\n",
    "        title2 = 'Cреднее количество, дисперсия и стандартное отклонение для объёма интернет-трафика в месяц для тарифа Ультра:'\n",
    "        title_graf = 'Гистрограммы  объёма интернет-трафика в месяц для 2х тарифов'\n",
    "        limit = tariffs['mb_per_month_included'] / 1024\n",
    "    print(title1)\n",
    "    print(res_service[res_service.index.isin(filter_smart)].stack().agg(['mean','var','std']))\n",
    "    print(title2)\n",
    "    print(res_service[res_service.index.isin(filter_ultra)].stack().agg(['mean','var','std']))\n",
    "    res_service[res_service.index.isin(filter_smart)].stack().hist(bins = 100, figsize=(15,7), alpha = 0.5)\n",
    "    res_service[res_service.index.isin(filter_ultra)].stack().hist(bins = 100, figsize=(15,7), alpha = 0.5)\n",
    "    plt.axvline(limit[0], color = 'red')\n",
    "    plt.axvline(limit[1], color = 'green')\n",
    "    plt.title(title_graf)\n",
    "    plt.legend(['Лимит Смарт','Лимит Ультра' ,'Тариф Смарт', 'Тариф Ультра'])\n",
    "    plt.show()\n",
    "    \n"
   ]
  },
  {
   "cell_type": "markdown",
   "metadata": {},
   "source": [
    "### Вывод"
   ]
  },
  {
   "cell_type": "markdown",
   "metadata": {},
   "source": [
    "Среднее колиличество минут разговоров в месяц на тарифе Смарт/Ультра - 419/545 мин. Для тарифа Смарт чуть меньше, для тарифа Ультра чуть больше. \\\n",
    "Среднее колиличество сообщений 38/61.\\\n",
    "Средний интернет-трафик 16/19\\\n",
    "Дисперсия и стандартное отклонение на трифе Ультра везде больше.\\\n",
    "Можно сделать вывод, что пользователи тарифа Смарт стараются укладыватся в лимиты, но не у всех получается. Большим спросом пользуется интернет-трафик. На трифе Смарт его средннее больше чем лимит включенный в ежемесячную плату."
   ]
  },
  {
   "cell_type": "markdown",
   "metadata": {},
   "source": [
    "## Проверка гипотез"
   ]
  },
  {
   "cell_type": "markdown",
   "metadata": {},
   "source": [
    "### Cредняя выручка пользователей тарифов «Ультра» и «Смарт» различаются"
   ]
  },
  {
   "cell_type": "code",
   "execution_count": 36,
   "metadata": {},
   "outputs": [],
   "source": [
    "## Сформируем выборки для разных тарифов\n",
    "sample_smart = user_month_billing[user_month_billing.index.isin(filter_smart)][user_month_billing > 0].stack()\n",
    "sample_ultra = user_month_billing[user_month_billing.index.isin(filter_ultra)][user_month_billing > 0].stack()"
   ]
  },
  {
   "cell_type": "markdown",
   "metadata": {},
   "source": [
    "Посчитаем среднюю выручку, ее дисперсию и стандартное отклонение для тарифа Смарт"
   ]
  },
  {
   "cell_type": "code",
   "execution_count": 37,
   "metadata": {
    "scrolled": true
   },
   "outputs": [
    {
     "data": {
      "text/plain": [
       "mean      1289.973531\n",
       "var     669785.708006\n",
       "std        818.404367\n",
       "dtype: float64"
      ]
     },
     "execution_count": 37,
     "metadata": {},
     "output_type": "execute_result"
    }
   ],
   "source": [
    "sample_smart.agg(['mean','var','std'])"
   ]
  },
  {
   "cell_type": "markdown",
   "metadata": {},
   "source": [
    "Посчитаем среднюю выручку, ее дисперсию и стандартное отклонение для тарифа Ультра"
   ]
  },
  {
   "cell_type": "code",
   "execution_count": 38,
   "metadata": {},
   "outputs": [
    {
     "data": {
      "text/plain": [
       "mean      2070.152284\n",
       "var     141516.745079\n",
       "std        376.187114\n",
       "dtype: float64"
      ]
     },
     "execution_count": 38,
     "metadata": {},
     "output_type": "execute_result"
    }
   ],
   "source": [
    "sample_ultra.agg(['mean','var','std'])"
   ]
  },
  {
   "cell_type": "markdown",
   "metadata": {},
   "source": [
    "Построим гистрограммы для месячной выручки"
   ]
  },
  {
   "cell_type": "code",
   "execution_count": 39,
   "metadata": {
    "scrolled": false
   },
   "outputs": [
    {
     "data": {
      "image/png": "[encoded data removed]",
      "text/plain": [
       "<Figure size 720x504 with 1 Axes>"
      ]
     },
     "metadata": {
      "needs_background": "light"
     },
     "output_type": "display_data"
    }
   ],
   "source": [
    "sample_smart.hist(bins = 20, figsize=(10,7), alpha = 0.5)\n",
    "sample_ultra.hist(bins = 20, figsize=(10,7), alpha = 0.5)\n",
    "plt.title('Гистрограммы помесячной выручки с каждого пользователя  для 2х тарифов')\n",
    "plt.legend(['Тариф Смарт', 'Тариф Ультра'])\n",
    "plt.show()"
   ]
  },
  {
   "cell_type": "markdown",
   "metadata": {},
   "source": [
    "Сформулируем гипотезу: \\\n",
    "Cредняя выручка пользователей тарифов «Ультра» и «Смарт» равны - нулевая гипотеза Н0\\\n",
    "Cредняя выручка пользователей тарифов «Ультра» и «Смарт» различны - альтернативная гипотеза Н1\n"
   ]
  },
  {
   "cell_type": "code",
   "execution_count": 40,
   "metadata": {
    "scrolled": true
   },
   "outputs": [
    {
     "name": "stdout",
     "output_type": "stream",
     "text": [
      "p-значение: 4.2606313931076085e-250\n",
      "Отвергаем нулевую гипотезу\n"
     ]
    }
   ],
   "source": [
    "alpha = 0.001 #Уровень значимости\n",
    "results = st.ttest_ind(sample_smart, sample_ultra, equal_var = False) #Дисперсии сильно отличаются\n",
    "results.pvalue\n",
    "\n",
    "print('p-значение:', results.pvalue)\n",
    "\n",
    "if results.pvalue < alpha:\n",
    "    print(\"Отвергаем нулевую гипотезу\")\n",
    "else:\n",
    "    print(\"Не получилось отвергнуть нулевую гипотезу\")"
   ]
  },
  {
   "cell_type": "markdown",
   "metadata": {},
   "source": [
    "### Cредняя выручка пользователей из Москвы отличается от выручки пользователей из других регионов"
   ]
  },
  {
   "cell_type": "code",
   "execution_count": 41,
   "metadata": {},
   "outputs": [],
   "source": [
    "# Зададим фильтры пользователей из Москвы и регионов\n",
    "filter_moskow = users.loc[users['city'] == 'Москва']['user_id']\n",
    "filter_region = users.loc[users['city'] != 'Москва']['user_id']"
   ]
  },
  {
   "cell_type": "code",
   "execution_count": 42,
   "metadata": {},
   "outputs": [],
   "source": [
    "# Сформируем выборки пользователей из Москвы и регионов\n",
    "sample_moskow = user_month_billing[user_month_billing.index.isin(filter_moskow)][user_month_billing > 0].stack()\n",
    "sample_region = user_month_billing[user_month_billing.index.isin(filter_region)][user_month_billing > 0].stack()"
   ]
  },
  {
   "cell_type": "markdown",
   "metadata": {},
   "source": [
    "Посчитаем среднюю выручку, ее дисперсию и стандартное отклонение для Москвы"
   ]
  },
  {
   "cell_type": "code",
   "execution_count": 43,
   "metadata": {},
   "outputs": [
    {
     "data": {
      "text/plain": [
       "mean      1546.713584\n",
       "var     565636.467012\n",
       "std        752.088071\n",
       "dtype: float64"
      ]
     },
     "execution_count": 43,
     "metadata": {},
     "output_type": "execute_result"
    }
   ],
   "source": [
    "sample_moskow.agg(['mean','var','std'])"
   ]
  },
  {
   "cell_type": "markdown",
   "metadata": {},
   "source": [
    "Посчитаем среднюю выручку, ее дисперсию и стандартное отклонение для регионов"
   ]
  },
  {
   "cell_type": "code",
   "execution_count": 44,
   "metadata": {},
   "outputs": [
    {
     "data": {
      "text/plain": [
       "mean      1524.936227\n",
       "var     654137.628522\n",
       "std        808.787752\n",
       "dtype: float64"
      ]
     },
     "execution_count": 44,
     "metadata": {},
     "output_type": "execute_result"
    }
   ],
   "source": [
    "sample_region.agg(['mean','var','std'])"
   ]
  },
  {
   "cell_type": "markdown",
   "metadata": {},
   "source": [
    "Построим гистрограммы для месячной выручки"
   ]
  },
  {
   "cell_type": "code",
   "execution_count": 45,
   "metadata": {},
   "outputs": [
    {
     "data": {
      "image/png": "[encoded data removed]",
      "text/plain": [
       "<Figure size 720x504 with 1 Axes>"
      ]
     },
     "metadata": {
      "needs_background": "light"
     },
     "output_type": "display_data"
    }
   ],
   "source": [
    "sample_moskow.hist(bins = 20, figsize=(10,7), alpha = 0.5)\n",
    "sample_region.hist(bins = 20, figsize=(10,7), alpha = 0.5)\n",
    "plt.title('Гистрограммы помесячной выручки с каждого пользователя для разных мест')\n",
    "plt.legend(['Москва', 'Регион'])\n",
    "plt.show()"
   ]
  },
  {
   "cell_type": "markdown",
   "metadata": {},
   "source": [
    "Проверим гипотезу: \\\n",
    "Cредняя выручка пользователи из Москвы равна выручке пользователей из других регионов - Нулевая гипотеза Н0\\\n",
    "Cредняя выручка пользователи из Москвы отличается от выручки пользователей из других регионов - Альтернативная гипотеза Н1"
   ]
  },
  {
   "cell_type": "code",
   "execution_count": 46,
   "metadata": {},
   "outputs": [
    {
     "name": "stdout",
     "output_type": "stream",
     "text": [
      "p-значение: 0.5440152911670224\n",
      "Не получилось отвергнуть нулевую гипотезу\n"
     ]
    }
   ],
   "source": [
    "alpha = 0.001 # Уровень значимости \n",
    "results = st.ttest_ind(sample_moskow, sample_region, equal_var = True)\n",
    "\n",
    "print('p-значение:', results.pvalue)\n",
    "\n",
    "if results.pvalue < alpha:\n",
    "    print(\"Отвергаем нулевую гипотезу\")\n",
    "else:\n",
    "    print(\"Не получилось отвергнуть нулевую гипотезу\")"
   ]
  },
  {
   "cell_type": "markdown",
   "metadata": {},
   "source": [
    "### Вывод"
   ]
  },
  {
   "cell_type": "markdown",
   "metadata": {},
   "source": [
    "В обоих случаях имеющиеся данные не противоречат выдвинутым гипотезам."
   ]
  },
  {
   "cell_type": "markdown",
   "metadata": {},
   "source": [
    "## Общий вывод"
   ]
  },
  {
   "cell_type": "markdown",
   "metadata": {},
   "source": [
    "Предварительная обработка показала, что при сборе данных есть проблема нулевых значений в длительности звонков и потребления траффика в интернет сессиях.\n",
    "\n",
    "Анализ данных показал, что:\\\n",
    "Среднее колличество потребляемых минут для тарифа Смарт 419, для тарифа Ультра 545;\\\n",
    "Среднее колличество смс для тарифа Смарт 20, для тарифа Ультра 30;\\\n",
    "Среднее потребление интернет-трафика тарифа Смарт 16, для тарифа Ультра 19.\n",
    "\n",
    "Пользователям тарифа Смарт не хватает интернет-траффика. Нужно пересмотреть существующие тарифы или добавить промежуточный тариф с большими лимитами и стоимостью.\n",
    "\n",
    "Проверка гипотез показала, что с высоким уронем значимости 0.1%:\\\n",
    "Cредняя выручка пользователей тарифов Ультра и Смарт различаются\\\n",
    "Cредняя выручка пользователи из Москвы равна выручке пользователей из других регионов\n",
    "\n",
    "Если считать какой тариф лучше исходя из дохода то лучше тариф Смарт. Суммарний доход можно оценить по гистрограммам помесячной выручки или сложить платежи всех клиентов по тарифу.\n"
   ]
  },
  {
   "cell_type": "code",
   "execution_count": 47,
   "metadata": {},
   "outputs": [
    {
     "data": {
      "text/plain": [
       "2875351.0"
      ]
     },
     "execution_count": 47,
     "metadata": {},
     "output_type": "execute_result"
    }
   ],
   "source": [
    "sample_smart.sum() #Сумма платежей по тарифу Смарт"
   ]
  },
  {
   "cell_type": "code",
   "execution_count": 48,
   "metadata": {},
   "outputs": [
    {
     "data": {
      "text/plain": [
       "2039100.0"
      ]
     },
     "execution_count": 48,
     "metadata": {},
     "output_type": "execute_result"
    }
   ],
   "source": [
    "sample_ultra.sum() #Сумма платежей по тарифу Ультра"
   ]
  }
 ],
 "metadata": {
  "ExecuteTimeLog": [
   {
    "duration": 409,
    "start_time": "2021-07-24T21:36:07.734Z"
   },
   {
    "duration": 763,
    "start_time": "2021-07-24T21:37:32.525Z"
   },
   {
    "duration": 228,
    "start_time": "2021-07-24T21:37:33.291Z"
   },
   {
    "duration": 197,
    "start_time": "2021-07-24T21:38:09.222Z"
   },
   {
    "duration": 436,
    "start_time": "2021-07-24T21:53:14.998Z"
   },
   {
    "duration": 415,
    "start_time": "2021-07-24T21:55:33.752Z"
   },
   {
    "duration": 762,
    "start_time": "2021-07-24T21:55:44.489Z"
   },
   {
    "duration": 434,
    "start_time": "2021-07-24T21:55:45.254Z"
   },
   {
    "duration": -1251,
    "start_time": "2021-07-24T21:55:46.941Z"
   },
   {
    "duration": 13,
    "start_time": "2021-07-24T21:56:06.634Z"
   },
   {
    "duration": 5,
    "start_time": "2021-07-24T21:56:38.865Z"
   },
   {
    "duration": 6,
    "start_time": "2021-07-24T21:56:49.250Z"
   },
   {
    "duration": 352,
    "start_time": "2021-07-24T21:56:56.530Z"
   },
   {
    "duration": 4,
    "start_time": "2021-07-24T21:57:13.833Z"
   },
   {
    "duration": 775,
    "start_time": "2021-07-24T21:57:30.153Z"
   },
   {
    "duration": 795,
    "start_time": "2021-07-24T21:59:04.463Z"
   },
   {
    "duration": 783,
    "start_time": "2021-07-24T21:59:05.261Z"
   },
   {
    "duration": -1247,
    "start_time": "2021-07-24T21:59:07.294Z"
   },
   {
    "duration": 356,
    "start_time": "2021-07-24T22:00:39.201Z"
   },
   {
    "duration": 117,
    "start_time": "2021-07-24T22:00:52.744Z"
   },
   {
    "duration": 713,
    "start_time": "2021-07-24T22:03:35.119Z"
   },
   {
    "duration": 389,
    "start_time": "2021-07-24T22:03:50.303Z"
   },
   {
    "duration": 3,
    "start_time": "2021-07-24T22:07:24.565Z"
   },
   {
    "duration": 51,
    "start_time": "2021-07-24T22:10:58.597Z"
   },
   {
    "duration": 200,
    "start_time": "2021-07-24T22:11:03.317Z"
   },
   {
    "duration": 168,
    "start_time": "2021-07-24T22:11:05.517Z"
   },
   {
    "duration": 27,
    "start_time": "2021-07-24T22:11:08.004Z"
   },
   {
    "duration": 52,
    "start_time": "2021-07-24T22:11:11.012Z"
   },
   {
    "duration": 219,
    "start_time": "2021-07-24T22:22:36.841Z"
   },
   {
    "duration": 176,
    "start_time": "2021-07-24T22:22:53.433Z"
   },
   {
    "duration": 36,
    "start_time": "2021-07-24T22:23:32.305Z"
   },
   {
    "duration": 135,
    "start_time": "2021-07-24T22:25:00.193Z"
   },
   {
    "duration": 387,
    "start_time": "2021-07-24T22:36:51.237Z"
   },
   {
    "duration": 389,
    "start_time": "2021-07-24T22:50:55.622Z"
   },
   {
    "duration": 385,
    "start_time": "2021-07-24T23:04:19.036Z"
   },
   {
    "duration": 716,
    "start_time": "2021-07-24T23:07:30.649Z"
   },
   {
    "duration": 4,
    "start_time": "2021-07-24T23:07:31.368Z"
   },
   {
    "duration": 226,
    "start_time": "2021-07-24T23:07:31.375Z"
   },
   {
    "duration": 180,
    "start_time": "2021-07-24T23:07:31.604Z"
   },
   {
    "duration": 126,
    "start_time": "2021-07-24T23:07:31.787Z"
   },
   {
    "duration": 34,
    "start_time": "2021-07-24T23:07:31.916Z"
   },
   {
    "duration": 51,
    "start_time": "2021-07-24T23:07:31.953Z"
   },
   {
    "duration": 491,
    "start_time": "2021-07-24T23:07:32.007Z"
   },
   {
    "duration": 384,
    "start_time": "2021-07-24T23:09:37.851Z"
   },
   {
    "duration": 413,
    "start_time": "2021-07-25T18:18:41.929Z"
   },
   {
    "duration": 830,
    "start_time": "2021-07-25T18:19:16.403Z"
   },
   {
    "duration": 3,
    "start_time": "2021-07-25T18:19:17.865Z"
   },
   {
    "duration": 249,
    "start_time": "2021-07-25T18:19:18.612Z"
   },
   {
    "duration": 267,
    "start_time": "2021-07-25T18:19:34.238Z"
   },
   {
    "duration": 277,
    "start_time": "2021-07-25T18:19:40.318Z"
   },
   {
    "duration": 1176,
    "start_time": "2021-07-25T19:52:13.576Z"
   },
   {
    "duration": 196,
    "start_time": "2021-07-25T19:57:28.581Z"
   },
   {
    "duration": 240,
    "start_time": "2021-07-25T19:57:37.728Z"
   },
   {
    "duration": 237,
    "start_time": "2021-07-25T19:57:57.113Z"
   },
   {
    "duration": 39,
    "start_time": "2021-07-25T20:01:49.157Z"
   },
   {
    "duration": 257,
    "start_time": "2021-07-25T20:02:50.968Z"
   },
   {
    "duration": 219,
    "start_time": "2021-07-25T20:03:02.333Z"
   },
   {
    "duration": 634,
    "start_time": "2021-07-25T20:28:08.466Z"
   },
   {
    "duration": 213,
    "start_time": "2021-07-25T20:28:15.462Z"
   },
   {
    "duration": 24,
    "start_time": "2021-07-25T20:29:30.349Z"
   },
   {
    "duration": 184,
    "start_time": "2021-07-25T20:35:44.430Z"
   },
   {
    "duration": 177,
    "start_time": "2021-07-25T20:35:54.596Z"
   },
   {
    "duration": 124,
    "start_time": "2021-07-25T20:42:59.348Z"
   },
   {
    "duration": 122,
    "start_time": "2021-07-25T20:43:05.220Z"
   },
   {
    "duration": 19,
    "start_time": "2021-07-25T20:43:37.873Z"
   },
   {
    "duration": 28,
    "start_time": "2021-07-25T20:50:21.242Z"
   },
   {
    "duration": 1410,
    "start_time": "2021-07-25T20:50:26.641Z"
   },
   {
    "duration": 29,
    "start_time": "2021-07-25T20:50:42.386Z"
   },
   {
    "duration": 15,
    "start_time": "2021-07-25T20:51:08.195Z"
   },
   {
    "duration": 60,
    "start_time": "2021-07-25T20:56:29.001Z"
   },
   {
    "duration": 43,
    "start_time": "2021-07-25T20:56:34.726Z"
   },
   {
    "duration": 9,
    "start_time": "2021-07-25T20:56:49.062Z"
   },
   {
    "duration": 115,
    "start_time": "2021-07-25T21:12:18.712Z"
   },
   {
    "duration": 52,
    "start_time": "2021-07-25T21:28:20.834Z"
   },
   {
    "duration": 21,
    "start_time": "2021-07-25T21:28:27.724Z"
   },
   {
    "duration": 24,
    "start_time": "2021-07-25T21:28:50.436Z"
   },
   {
    "duration": 48,
    "start_time": "2021-07-25T21:32:16.715Z"
   },
   {
    "duration": 24,
    "start_time": "2021-07-25T21:32:33.636Z"
   },
   {
    "duration": 18,
    "start_time": "2021-07-25T21:32:48.259Z"
   },
   {
    "duration": 64,
    "start_time": "2021-07-25T21:43:13.003Z"
   },
   {
    "duration": 22,
    "start_time": "2021-07-25T21:48:23.537Z"
   },
   {
    "duration": 374,
    "start_time": "2021-07-25T21:49:02.838Z"
   },
   {
    "duration": 19,
    "start_time": "2021-07-25T21:49:16.149Z"
   },
   {
    "duration": 361,
    "start_time": "2021-07-25T21:53:49.366Z"
   },
   {
    "duration": 9362,
    "start_time": "2021-07-25T21:55:05.717Z"
   },
   {
    "duration": 9746,
    "start_time": "2021-07-25T21:55:38.395Z"
   },
   {
    "duration": 3396,
    "start_time": "2021-07-25T21:56:43.427Z"
   },
   {
    "duration": 2962,
    "start_time": "2021-07-25T21:57:08.600Z"
   },
   {
    "duration": 24,
    "start_time": "2021-07-25T21:58:56.836Z"
   },
   {
    "duration": 16,
    "start_time": "2021-07-25T22:07:05.131Z"
   },
   {
    "duration": 3147,
    "start_time": "2021-07-25T22:07:30.946Z"
   },
   {
    "duration": 3273,
    "start_time": "2021-07-25T22:07:58.049Z"
   },
   {
    "duration": 3127,
    "start_time": "2021-07-25T22:08:30.455Z"
   },
   {
    "duration": 571,
    "start_time": "2021-07-25T22:08:46.872Z"
   },
   {
    "duration": 280,
    "start_time": "2021-07-25T22:10:07.074Z"
   },
   {
    "duration": 639,
    "start_time": "2021-07-25T22:10:23.887Z"
   },
   {
    "duration": 584,
    "start_time": "2021-07-25T22:12:49.927Z"
   },
   {
    "duration": 867,
    "start_time": "2021-07-25T22:13:08.776Z"
   },
   {
    "duration": 119,
    "start_time": "2021-07-25T22:13:50.441Z"
   },
   {
    "duration": 699,
    "start_time": "2021-07-25T22:14:03.287Z"
   },
   {
    "duration": 544,
    "start_time": "2021-07-25T22:14:18.238Z"
   },
   {
    "duration": 618,
    "start_time": "2021-07-25T22:15:39.726Z"
   },
   {
    "duration": 1103,
    "start_time": "2021-07-25T22:16:45.367Z"
   },
   {
    "duration": 4,
    "start_time": "2021-07-25T22:17:57.485Z"
   },
   {
    "duration": 613,
    "start_time": "2021-07-25T22:18:03.702Z"
   },
   {
    "duration": 617,
    "start_time": "2021-07-25T22:20:21.956Z"
   },
   {
    "duration": 644,
    "start_time": "2021-07-25T22:20:37.438Z"
   },
   {
    "duration": 379,
    "start_time": "2021-07-25T23:06:43.005Z"
   },
   {
    "duration": 384,
    "start_time": "2021-07-25T23:07:27.516Z"
   },
   {
    "duration": 382,
    "start_time": "2021-07-25T23:07:41.163Z"
   },
   {
    "duration": 449,
    "start_time": "2021-07-25T23:08:31.024Z"
   },
   {
    "duration": 904,
    "start_time": "2021-07-25T23:08:54.594Z"
   },
   {
    "duration": 4,
    "start_time": "2021-07-25T23:08:55.505Z"
   },
   {
    "duration": 235,
    "start_time": "2021-07-25T23:08:55.519Z"
   },
   {
    "duration": 27,
    "start_time": "2021-07-25T23:08:55.757Z"
   },
   {
    "duration": 195,
    "start_time": "2021-07-25T23:08:55.786Z"
   },
   {
    "duration": 28,
    "start_time": "2021-07-25T23:08:55.983Z"
   },
   {
    "duration": 134,
    "start_time": "2021-07-25T23:08:56.014Z"
   },
   {
    "duration": 19,
    "start_time": "2021-07-25T23:08:56.152Z"
   },
   {
    "duration": 30,
    "start_time": "2021-07-25T23:08:56.174Z"
   },
   {
    "duration": 10,
    "start_time": "2021-07-25T23:08:56.207Z"
   },
   {
    "duration": 75,
    "start_time": "2021-07-25T23:08:56.220Z"
   },
   {
    "duration": 17,
    "start_time": "2021-07-25T23:08:56.298Z"
   },
   {
    "duration": 56,
    "start_time": "2021-07-25T23:08:56.318Z"
   },
   {
    "duration": 653,
    "start_time": "2021-07-25T23:08:56.377Z"
   },
   {
    "duration": 661,
    "start_time": "2021-07-25T23:08:57.034Z"
   },
   {
    "duration": 484,
    "start_time": "2021-07-25T23:15:14.579Z"
   },
   {
    "duration": 868,
    "start_time": "2021-07-25T23:15:41.657Z"
   },
   {
    "duration": 4,
    "start_time": "2021-07-25T23:15:42.528Z"
   },
   {
    "duration": 248,
    "start_time": "2021-07-25T23:15:42.540Z"
   },
   {
    "duration": 40,
    "start_time": "2021-07-25T23:15:42.791Z"
   },
   {
    "duration": 203,
    "start_time": "2021-07-25T23:15:42.834Z"
   },
   {
    "duration": 24,
    "start_time": "2021-07-25T23:15:43.040Z"
   },
   {
    "duration": 160,
    "start_time": "2021-07-25T23:15:43.069Z"
   },
   {
    "duration": 19,
    "start_time": "2021-07-25T23:15:43.231Z"
   },
   {
    "duration": 29,
    "start_time": "2021-07-25T23:15:43.253Z"
   },
   {
    "duration": 19,
    "start_time": "2021-07-25T23:15:43.300Z"
   },
   {
    "duration": 63,
    "start_time": "2021-07-25T23:15:43.321Z"
   },
   {
    "duration": 8,
    "start_time": "2021-07-25T23:15:43.387Z"
   },
   {
    "duration": 67,
    "start_time": "2021-07-25T23:15:43.397Z"
   },
   {
    "duration": 603,
    "start_time": "2021-07-25T23:15:43.466Z"
   },
   {
    "duration": 63,
    "start_time": "2021-07-25T23:15:44.072Z"
   },
   {
    "duration": 600,
    "start_time": "2021-07-25T23:15:44.138Z"
   },
   {
    "duration": 31,
    "start_time": "2021-07-25T23:19:38.792Z"
   },
   {
    "duration": 8,
    "start_time": "2021-07-25T23:19:44.258Z"
   },
   {
    "duration": 21,
    "start_time": "2021-07-25T23:20:04.509Z"
   },
   {
    "duration": 12,
    "start_time": "2021-07-25T23:29:09.727Z"
   },
   {
    "duration": 13,
    "start_time": "2021-07-25T23:29:35.654Z"
   },
   {
    "duration": 11,
    "start_time": "2021-07-25T23:30:35.652Z"
   },
   {
    "duration": 16,
    "start_time": "2021-07-25T23:30:39.707Z"
   },
   {
    "duration": 621,
    "start_time": "2021-07-25T23:31:10.139Z"
   },
   {
    "duration": 14,
    "start_time": "2021-07-25T23:32:05.811Z"
   },
   {
    "duration": 132,
    "start_time": "2021-07-25T23:35:01.069Z"
   },
   {
    "duration": 319,
    "start_time": "2021-07-26T12:53:14.534Z"
   },
   {
    "duration": 929,
    "start_time": "2021-07-26T12:53:19.058Z"
   },
   {
    "duration": 4,
    "start_time": "2021-07-26T12:53:19.989Z"
   },
   {
    "duration": 230,
    "start_time": "2021-07-26T12:53:19.997Z"
   },
   {
    "duration": 28,
    "start_time": "2021-07-26T12:53:20.230Z"
   },
   {
    "duration": 211,
    "start_time": "2021-07-26T12:53:20.261Z"
   },
   {
    "duration": 29,
    "start_time": "2021-07-26T12:53:20.475Z"
   },
   {
    "duration": 140,
    "start_time": "2021-07-26T12:53:20.507Z"
   },
   {
    "duration": 32,
    "start_time": "2021-07-26T12:53:20.653Z"
   },
   {
    "duration": 31,
    "start_time": "2021-07-26T12:53:20.688Z"
   },
   {
    "duration": 14,
    "start_time": "2021-07-26T12:53:20.722Z"
   },
   {
    "duration": 55,
    "start_time": "2021-07-26T12:53:20.739Z"
   },
   {
    "duration": 9,
    "start_time": "2021-07-26T12:53:20.796Z"
   },
   {
    "duration": 80,
    "start_time": "2021-07-26T12:53:20.807Z"
   },
   {
    "duration": 653,
    "start_time": "2021-07-26T12:53:20.890Z"
   },
   {
    "duration": 107,
    "start_time": "2021-07-26T12:53:21.547Z"
   },
   {
    "duration": 641,
    "start_time": "2021-07-26T12:53:21.657Z"
   },
   {
    "duration": 36,
    "start_time": "2021-07-26T12:53:22.300Z"
   },
   {
    "duration": 14,
    "start_time": "2021-07-26T12:53:22.339Z"
   },
   {
    "duration": 14,
    "start_time": "2021-07-26T12:53:22.384Z"
   },
   {
    "duration": 7,
    "start_time": "2021-07-26T13:00:14.699Z"
   },
   {
    "duration": 9,
    "start_time": "2021-07-26T13:02:55.160Z"
   },
   {
    "duration": 94,
    "start_time": "2021-07-26T13:04:28.700Z"
   },
   {
    "duration": 22,
    "start_time": "2021-07-26T13:04:45.596Z"
   },
   {
    "duration": 90,
    "start_time": "2021-07-26T13:08:32.564Z"
   },
   {
    "duration": 79,
    "start_time": "2021-07-26T13:08:38.474Z"
   },
   {
    "duration": 15,
    "start_time": "2021-07-26T13:09:14.767Z"
   },
   {
    "duration": 14,
    "start_time": "2021-07-26T13:10:03.027Z"
   },
   {
    "duration": 28,
    "start_time": "2021-07-26T13:10:24.929Z"
   },
   {
    "duration": 17,
    "start_time": "2021-07-26T13:10:53.402Z"
   },
   {
    "duration": 27,
    "start_time": "2021-07-26T13:12:49.724Z"
   },
   {
    "duration": 386,
    "start_time": "2021-07-26T13:12:55.584Z"
   },
   {
    "duration": 14,
    "start_time": "2021-07-26T13:13:01.937Z"
   },
   {
    "duration": 18,
    "start_time": "2021-07-26T13:13:32.535Z"
   },
   {
    "duration": 29,
    "start_time": "2021-07-26T13:13:46.224Z"
   },
   {
    "duration": 286,
    "start_time": "2021-07-26T13:19:16.831Z"
   },
   {
    "duration": 141,
    "start_time": "2021-07-26T13:19:25.942Z"
   },
   {
    "duration": 307,
    "start_time": "2021-07-26T13:19:32.582Z"
   },
   {
    "duration": 41,
    "start_time": "2021-07-26T13:20:15.974Z"
   },
   {
    "duration": 275,
    "start_time": "2021-07-26T13:20:50.519Z"
   },
   {
    "duration": 25,
    "start_time": "2021-07-26T13:24:03.537Z"
   },
   {
    "duration": 8817,
    "start_time": "2021-07-26T13:25:29.766Z"
   },
   {
    "duration": 288,
    "start_time": "2021-07-26T13:25:53.949Z"
   },
   {
    "duration": 328,
    "start_time": "2021-07-26T13:26:36.486Z"
   },
   {
    "duration": 286,
    "start_time": "2021-07-26T13:26:54.973Z"
   },
   {
    "duration": 276,
    "start_time": "2021-07-26T13:28:18.133Z"
   },
   {
    "duration": 22,
    "start_time": "2021-07-26T13:28:23.244Z"
   },
   {
    "duration": 12,
    "start_time": "2021-07-26T13:30:37.132Z"
   },
   {
    "duration": 268,
    "start_time": "2021-07-26T13:31:13.556Z"
   },
   {
    "duration": 265,
    "start_time": "2021-07-26T13:34:55.164Z"
   },
   {
    "duration": 292,
    "start_time": "2021-07-26T13:35:27.802Z"
   },
   {
    "duration": 294,
    "start_time": "2021-07-26T13:36:33.401Z"
   },
   {
    "duration": 366,
    "start_time": "2021-07-26T13:37:02.022Z"
   },
   {
    "duration": 319,
    "start_time": "2021-07-26T13:42:49.106Z"
   },
   {
    "duration": 877,
    "start_time": "2021-07-26T13:42:55.822Z"
   },
   {
    "duration": 3,
    "start_time": "2021-07-26T13:42:56.705Z"
   },
   {
    "duration": 240,
    "start_time": "2021-07-26T13:42:56.710Z"
   },
   {
    "duration": 37,
    "start_time": "2021-07-26T13:42:56.952Z"
   },
   {
    "duration": 206,
    "start_time": "2021-07-26T13:42:56.992Z"
   },
   {
    "duration": 23,
    "start_time": "2021-07-26T13:42:57.200Z"
   },
   {
    "duration": 154,
    "start_time": "2021-07-26T13:42:57.225Z"
   },
   {
    "duration": 24,
    "start_time": "2021-07-26T13:42:57.385Z"
   },
   {
    "duration": 25,
    "start_time": "2021-07-26T13:42:57.412Z"
   },
   {
    "duration": 12,
    "start_time": "2021-07-26T13:42:57.440Z"
   },
   {
    "duration": 39,
    "start_time": "2021-07-26T13:42:57.488Z"
   },
   {
    "duration": 11,
    "start_time": "2021-07-26T13:42:57.530Z"
   },
   {
    "duration": 79,
    "start_time": "2021-07-26T13:42:57.543Z"
   },
   {
    "duration": 62,
    "start_time": "2021-07-26T13:42:57.624Z"
   },
   {
    "duration": 757,
    "start_time": "2021-07-26T13:42:57.690Z"
   },
   {
    "duration": 331,
    "start_time": "2021-07-26T13:42:58.450Z"
   },
   {
    "duration": 343,
    "start_time": "2021-07-26T13:42:58.784Z"
   },
   {
    "duration": 360,
    "start_time": "2021-07-26T13:42:59.129Z"
   },
   {
    "duration": 334,
    "start_time": "2021-07-26T13:42:59.493Z"
   },
   {
    "duration": 687,
    "start_time": "2021-07-26T13:42:59.830Z"
   },
   {
    "duration": 38,
    "start_time": "2021-07-26T13:43:00.520Z"
   },
   {
    "duration": 29,
    "start_time": "2021-07-26T13:43:00.560Z"
   },
   {
    "duration": 17,
    "start_time": "2021-07-26T13:43:00.592Z"
   },
   {
    "duration": 24,
    "start_time": "2021-07-26T13:45:10.086Z"
   },
   {
    "duration": 4,
    "start_time": "2021-07-26T15:13:28.115Z"
   },
   {
    "duration": 6823,
    "start_time": "2021-07-26T15:13:30.127Z"
   },
   {
    "duration": 236,
    "start_time": "2021-07-26T15:14:14.434Z"
   },
   {
    "duration": -852,
    "start_time": "2021-07-26T15:14:46.600Z"
   },
   {
    "duration": -856,
    "start_time": "2021-07-26T15:14:46.606Z"
   },
   {
    "duration": 7385,
    "start_time": "2021-07-26T15:15:26.046Z"
   },
   {
    "duration": 820,
    "start_time": "2021-07-26T15:15:37.878Z"
   },
   {
    "duration": 3,
    "start_time": "2021-07-26T15:15:38.700Z"
   },
   {
    "duration": 218,
    "start_time": "2021-07-26T15:15:38.706Z"
   },
   {
    "duration": 27,
    "start_time": "2021-07-26T15:15:38.927Z"
   },
   {
    "duration": 182,
    "start_time": "2021-07-26T15:15:38.957Z"
   },
   {
    "duration": 22,
    "start_time": "2021-07-26T15:15:39.142Z"
   },
   {
    "duration": 119,
    "start_time": "2021-07-26T15:15:39.182Z"
   },
   {
    "duration": 18,
    "start_time": "2021-07-26T15:15:39.304Z"
   },
   {
    "duration": 22,
    "start_time": "2021-07-26T15:15:39.326Z"
   },
   {
    "duration": 32,
    "start_time": "2021-07-26T15:15:39.351Z"
   },
   {
    "duration": 37,
    "start_time": "2021-07-26T15:15:39.386Z"
   },
   {
    "duration": 8,
    "start_time": "2021-07-26T15:15:39.425Z"
   },
   {
    "duration": 5,
    "start_time": "2021-07-26T15:15:39.435Z"
   },
   {
    "duration": 73,
    "start_time": "2021-07-26T15:15:39.442Z"
   },
   {
    "duration": 25,
    "start_time": "2021-07-26T15:15:39.517Z"
   },
   {
    "duration": 74,
    "start_time": "2021-07-26T15:15:39.545Z"
   },
   {
    "duration": 41,
    "start_time": "2021-07-26T15:15:39.622Z"
   },
   {
    "duration": 631,
    "start_time": "2021-07-26T15:15:39.682Z"
   },
   {
    "duration": 303,
    "start_time": "2021-07-26T15:15:40.315Z"
   },
   {
    "duration": 326,
    "start_time": "2021-07-26T15:15:40.622Z"
   },
   {
    "duration": 344,
    "start_time": "2021-07-26T15:15:40.951Z"
   },
   {
    "duration": 302,
    "start_time": "2021-07-26T15:15:41.298Z"
   },
   {
    "duration": 599,
    "start_time": "2021-07-26T15:15:41.604Z"
   },
   {
    "duration": 20,
    "start_time": "2021-07-26T15:15:42.206Z"
   },
   {
    "duration": 15,
    "start_time": "2021-07-26T15:15:42.228Z"
   },
   {
    "duration": 40,
    "start_time": "2021-07-26T15:15:42.245Z"
   },
   {
    "duration": 3,
    "start_time": "2021-07-26T15:18:03.293Z"
   },
   {
    "duration": 25,
    "start_time": "2021-07-26T15:18:05.522Z"
   },
   {
    "duration": 27,
    "start_time": "2021-07-26T15:18:27.045Z"
   },
   {
    "duration": 4,
    "start_time": "2021-07-26T15:25:21.784Z"
   },
   {
    "duration": 4,
    "start_time": "2021-07-26T15:25:44.664Z"
   },
   {
    "duration": 4,
    "start_time": "2021-07-26T15:25:45.176Z"
   },
   {
    "duration": 76,
    "start_time": "2021-07-26T15:29:50.131Z"
   },
   {
    "duration": 20,
    "start_time": "2021-07-26T15:30:04.730Z"
   },
   {
    "duration": 5,
    "start_time": "2021-07-26T15:31:19.969Z"
   },
   {
    "duration": 19,
    "start_time": "2021-07-26T15:47:25.759Z"
   },
   {
    "duration": 55,
    "start_time": "2021-07-26T15:48:39.432Z"
   },
   {
    "duration": 61,
    "start_time": "2021-07-26T15:50:26.257Z"
   },
   {
    "duration": 67,
    "start_time": "2021-07-26T15:51:16.507Z"
   },
   {
    "duration": 372,
    "start_time": "2021-07-26T15:52:22.684Z"
   },
   {
    "duration": 315,
    "start_time": "2021-07-26T15:52:53.509Z"
   },
   {
    "duration": 62,
    "start_time": "2021-07-26T15:53:29.322Z"
   },
   {
    "duration": 835,
    "start_time": "2021-07-26T15:54:50.287Z"
   },
   {
    "duration": 3,
    "start_time": "2021-07-26T15:54:51.125Z"
   },
   {
    "duration": 223,
    "start_time": "2021-07-26T15:54:51.131Z"
   },
   {
    "duration": 35,
    "start_time": "2021-07-26T15:54:51.357Z"
   },
   {
    "duration": 184,
    "start_time": "2021-07-26T15:54:51.395Z"
   },
   {
    "duration": 23,
    "start_time": "2021-07-26T15:54:51.581Z"
   },
   {
    "duration": 132,
    "start_time": "2021-07-26T15:54:51.606Z"
   },
   {
    "duration": 19,
    "start_time": "2021-07-26T15:54:51.741Z"
   },
   {
    "duration": 40,
    "start_time": "2021-07-26T15:54:51.763Z"
   },
   {
    "duration": 13,
    "start_time": "2021-07-26T15:54:51.806Z"
   },
   {
    "duration": 45,
    "start_time": "2021-07-26T15:54:51.822Z"
   },
   {
    "duration": 8,
    "start_time": "2021-07-26T15:54:51.870Z"
   },
   {
    "duration": 19,
    "start_time": "2021-07-26T15:54:51.881Z"
   },
   {
    "duration": 162,
    "start_time": "2021-07-26T15:54:51.902Z"
   },
   {
    "duration": 624,
    "start_time": "2021-07-26T15:54:52.067Z"
   },
   {
    "duration": 300,
    "start_time": "2021-07-26T15:54:52.694Z"
   },
   {
    "duration": 310,
    "start_time": "2021-07-26T15:54:52.996Z"
   },
   {
    "duration": 337,
    "start_time": "2021-07-26T15:54:53.309Z"
   },
   {
    "duration": 316,
    "start_time": "2021-07-26T15:54:53.649Z"
   },
   {
    "duration": 606,
    "start_time": "2021-07-26T15:54:53.968Z"
   },
   {
    "duration": 24,
    "start_time": "2021-07-26T15:54:54.576Z"
   },
   {
    "duration": 14,
    "start_time": "2021-07-26T15:54:54.603Z"
   },
   {
    "duration": 12,
    "start_time": "2021-07-26T15:54:54.621Z"
   },
   {
    "duration": 330,
    "start_time": "2021-07-26T15:56:35.479Z"
   },
   {
    "duration": 861,
    "start_time": "2021-07-26T15:56:41.941Z"
   },
   {
    "duration": 4,
    "start_time": "2021-07-26T15:56:42.805Z"
   },
   {
    "duration": 232,
    "start_time": "2021-07-26T15:56:42.813Z"
   },
   {
    "duration": 38,
    "start_time": "2021-07-26T15:56:43.048Z"
   },
   {
    "duration": 177,
    "start_time": "2021-07-26T15:56:43.089Z"
   },
   {
    "duration": 29,
    "start_time": "2021-07-26T15:56:43.269Z"
   },
   {
    "duration": 132,
    "start_time": "2021-07-26T15:56:43.301Z"
   },
   {
    "duration": 19,
    "start_time": "2021-07-26T15:56:43.435Z"
   },
   {
    "duration": 33,
    "start_time": "2021-07-26T15:56:43.457Z"
   },
   {
    "duration": 10,
    "start_time": "2021-07-26T15:56:43.492Z"
   },
   {
    "duration": 41,
    "start_time": "2021-07-26T15:56:43.504Z"
   },
   {
    "duration": 9,
    "start_time": "2021-07-26T15:56:43.548Z"
   },
   {
    "duration": 23,
    "start_time": "2021-07-26T15:56:43.559Z"
   },
   {
    "duration": 161,
    "start_time": "2021-07-26T15:56:43.584Z"
   },
   {
    "duration": 621,
    "start_time": "2021-07-26T15:56:43.747Z"
   },
   {
    "duration": 299,
    "start_time": "2021-07-26T15:56:44.370Z"
   },
   {
    "duration": 317,
    "start_time": "2021-07-26T15:56:44.671Z"
   },
   {
    "duration": 341,
    "start_time": "2021-07-26T15:56:44.991Z"
   },
   {
    "duration": 316,
    "start_time": "2021-07-26T15:56:45.334Z"
   },
   {
    "duration": 696,
    "start_time": "2021-07-26T15:56:45.652Z"
   },
   {
    "duration": 37,
    "start_time": "2021-07-26T15:56:46.351Z"
   },
   {
    "duration": 17,
    "start_time": "2021-07-26T15:56:46.391Z"
   },
   {
    "duration": 13,
    "start_time": "2021-07-26T15:56:46.410Z"
   },
   {
    "duration": 353,
    "start_time": "2021-07-26T16:08:28.909Z"
   },
   {
    "duration": 359,
    "start_time": "2021-07-26T16:09:03.139Z"
   },
   {
    "duration": 374,
    "start_time": "2021-07-26T16:09:09.858Z"
   },
   {
    "duration": 382,
    "start_time": "2021-07-26T16:09:44.131Z"
   },
   {
    "duration": 477,
    "start_time": "2021-07-26T16:10:31.210Z"
   },
   {
    "duration": 377,
    "start_time": "2021-07-26T16:10:35.611Z"
   },
   {
    "duration": 536,
    "start_time": "2021-07-26T16:11:29.668Z"
   },
   {
    "duration": 92,
    "start_time": "2021-07-26T16:11:59.130Z"
   },
   {
    "duration": 383,
    "start_time": "2021-07-26T16:12:12.235Z"
   },
   {
    "duration": 870,
    "start_time": "2021-07-26T16:13:18.683Z"
   },
   {
    "duration": 229,
    "start_time": "2021-07-26T16:13:19.557Z"
   },
   {
    "duration": 28,
    "start_time": "2021-07-26T16:13:19.789Z"
   },
   {
    "duration": 200,
    "start_time": "2021-07-26T16:13:19.819Z"
   },
   {
    "duration": 23,
    "start_time": "2021-07-26T16:13:20.022Z"
   },
   {
    "duration": 144,
    "start_time": "2021-07-26T16:13:20.047Z"
   },
   {
    "duration": 20,
    "start_time": "2021-07-26T16:13:20.194Z"
   },
   {
    "duration": 25,
    "start_time": "2021-07-26T16:13:20.217Z"
   },
   {
    "duration": 8,
    "start_time": "2021-07-26T16:13:20.246Z"
   },
   {
    "duration": 37,
    "start_time": "2021-07-26T16:13:20.281Z"
   },
   {
    "duration": 9,
    "start_time": "2021-07-26T16:13:20.320Z"
   },
   {
    "duration": 175,
    "start_time": "2021-07-26T16:13:20.331Z"
   },
   {
    "duration": 651,
    "start_time": "2021-07-26T16:13:20.508Z"
   },
   {
    "duration": 305,
    "start_time": "2021-07-26T16:13:21.162Z"
   },
   {
    "duration": 444,
    "start_time": "2021-07-26T16:13:21.470Z"
   },
   {
    "duration": 496,
    "start_time": "2021-07-26T16:13:21.917Z"
   },
   {
    "duration": 445,
    "start_time": "2021-07-26T16:13:22.416Z"
   },
   {
    "duration": 910,
    "start_time": "2021-07-26T16:13:22.864Z"
   },
   {
    "duration": 24,
    "start_time": "2021-07-26T16:13:23.777Z"
   },
   {
    "duration": 14,
    "start_time": "2021-07-26T16:13:23.803Z"
   },
   {
    "duration": 12,
    "start_time": "2021-07-26T16:13:23.819Z"
   },
   {
    "duration": 270,
    "start_time": "2021-07-26T16:26:06.789Z"
   },
   {
    "duration": 145,
    "start_time": "2021-07-26T16:33:04.563Z"
   },
   {
    "duration": 25,
    "start_time": "2021-07-26T16:33:11.771Z"
   },
   {
    "duration": 14,
    "start_time": "2021-07-26T16:33:46.778Z"
   },
   {
    "duration": 11,
    "start_time": "2021-07-26T16:34:13.738Z"
   },
   {
    "duration": 12,
    "start_time": "2021-07-26T16:36:15.954Z"
   },
   {
    "duration": 10,
    "start_time": "2021-07-26T16:38:12.169Z"
   },
   {
    "duration": 12,
    "start_time": "2021-07-26T16:38:15.801Z"
   },
   {
    "duration": 11,
    "start_time": "2021-07-26T16:39:36.304Z"
   },
   {
    "duration": 277,
    "start_time": "2021-07-26T16:40:10.288Z"
   },
   {
    "duration": 357,
    "start_time": "2021-07-26T16:41:27.433Z"
   },
   {
    "duration": 261,
    "start_time": "2021-07-26T16:41:54.023Z"
   },
   {
    "duration": 79,
    "start_time": "2021-07-26T16:43:34.168Z"
   },
   {
    "duration": 76,
    "start_time": "2021-07-26T16:43:43.514Z"
   },
   {
    "duration": 114,
    "start_time": "2021-07-26T16:44:01.839Z"
   },
   {
    "duration": 98,
    "start_time": "2021-07-26T16:44:52.703Z"
   },
   {
    "duration": 19,
    "start_time": "2021-07-26T16:45:19.517Z"
   },
   {
    "duration": 273,
    "start_time": "2021-07-26T16:45:29.055Z"
   },
   {
    "duration": 12,
    "start_time": "2021-07-26T16:45:42.935Z"
   },
   {
    "duration": 282,
    "start_time": "2021-07-26T16:45:58.006Z"
   },
   {
    "duration": 18,
    "start_time": "2021-07-26T16:46:18.431Z"
   },
   {
    "duration": 12,
    "start_time": "2021-07-26T16:46:25.169Z"
   },
   {
    "duration": 276,
    "start_time": "2021-07-26T16:46:42.968Z"
   },
   {
    "duration": 12,
    "start_time": "2021-07-26T16:47:17.942Z"
   },
   {
    "duration": 16,
    "start_time": "2021-07-26T16:47:37.400Z"
   },
   {
    "duration": 302,
    "start_time": "2021-07-26T16:48:00.839Z"
   },
   {
    "duration": 305,
    "start_time": "2021-07-26T16:48:10.783Z"
   },
   {
    "duration": 11,
    "start_time": "2021-07-26T16:48:15.545Z"
   },
   {
    "duration": 11,
    "start_time": "2021-07-26T16:48:32.749Z"
   },
   {
    "duration": 1017,
    "start_time": "2021-07-26T16:48:37.603Z"
   },
   {
    "duration": 11,
    "start_time": "2021-07-26T16:48:53.213Z"
   },
   {
    "duration": 20,
    "start_time": "2021-07-26T16:49:12.790Z"
   },
   {
    "duration": 3,
    "start_time": "2021-07-26T16:54:20.268Z"
   },
   {
    "duration": 300,
    "start_time": "2021-07-26T16:57:08.036Z"
   },
   {
    "duration": 323,
    "start_time": "2021-07-26T16:57:45.683Z"
   },
   {
    "duration": 301,
    "start_time": "2021-07-26T16:58:18.884Z"
   },
   {
    "duration": 487,
    "start_time": "2021-07-26T16:58:54.195Z"
   },
   {
    "duration": 341,
    "start_time": "2021-07-26T17:00:24.427Z"
   },
   {
    "duration": 15,
    "start_time": "2021-07-26T17:35:34.504Z"
   },
   {
    "duration": 274,
    "start_time": "2021-07-26T17:35:51.902Z"
   },
   {
    "duration": 330,
    "start_time": "2021-07-26T17:46:20.818Z"
   },
   {
    "duration": 334,
    "start_time": "2021-07-26T17:46:48.676Z"
   },
   {
    "duration": 337,
    "start_time": "2021-07-26T17:47:56.028Z"
   },
   {
    "duration": 423,
    "start_time": "2021-07-26T17:48:37.478Z"
   },
   {
    "duration": 3,
    "start_time": "2021-07-26T17:49:22.363Z"
   },
   {
    "duration": 3,
    "start_time": "2021-07-26T17:49:24.056Z"
   },
   {
    "duration": 3,
    "start_time": "2021-07-26T17:50:20.832Z"
   },
   {
    "duration": 3,
    "start_time": "2021-07-26T17:50:21.329Z"
   },
   {
    "duration": 610,
    "start_time": "2021-07-26T17:51:14.896Z"
   },
   {
    "duration": 1015,
    "start_time": "2021-07-26T17:52:48.720Z"
   },
   {
    "duration": 253,
    "start_time": "2021-07-26T17:53:49.031Z"
   },
   {
    "duration": 425,
    "start_time": "2021-07-26T17:54:40.983Z"
   },
   {
    "duration": 336,
    "start_time": "2021-07-26T17:59:28.236Z"
   },
   {
    "duration": 352,
    "start_time": "2021-07-26T18:00:02.798Z"
   },
   {
    "duration": 241,
    "start_time": "2021-07-26T18:58:28.457Z"
   },
   {
    "duration": 46,
    "start_time": "2021-07-26T18:58:41.118Z"
   },
   {
    "duration": 50,
    "start_time": "2021-07-26T18:59:08.460Z"
   },
   {
    "duration": 304,
    "start_time": "2021-07-26T19:02:00.786Z"
   },
   {
    "duration": 7,
    "start_time": "2021-07-26T19:02:50.874Z"
   },
   {
    "duration": 12,
    "start_time": "2021-07-26T19:03:03.923Z"
   },
   {
    "duration": 52,
    "start_time": "2021-07-26T19:27:21.699Z"
   },
   {
    "duration": 18,
    "start_time": "2021-07-26T19:28:18.779Z"
   },
   {
    "duration": 46,
    "start_time": "2021-07-26T19:31:31.165Z"
   },
   {
    "duration": 48,
    "start_time": "2021-07-26T19:31:36.779Z"
   },
   {
    "duration": 46,
    "start_time": "2021-07-26T19:31:43.171Z"
   },
   {
    "duration": 40,
    "start_time": "2021-07-26T19:31:58.562Z"
   },
   {
    "duration": 37,
    "start_time": "2021-07-26T19:46:02.935Z"
   },
   {
    "duration": 36,
    "start_time": "2021-07-26T19:46:11.503Z"
   },
   {
    "duration": 43,
    "start_time": "2021-07-26T19:46:57.565Z"
   },
   {
    "duration": 97,
    "start_time": "2021-07-26T19:48:14.205Z"
   },
   {
    "duration": 75,
    "start_time": "2021-07-26T19:55:39.263Z"
   },
   {
    "duration": 84,
    "start_time": "2021-07-26T19:55:47.667Z"
   },
   {
    "duration": 75,
    "start_time": "2021-07-26T21:49:12.078Z"
   },
   {
    "duration": 8085,
    "start_time": "2021-07-26T21:53:22.778Z"
   },
   {
    "duration": 248,
    "start_time": "2021-07-26T21:58:09.561Z"
   },
   {
    "duration": 6380,
    "start_time": "2021-07-26T21:58:31.320Z"
   },
   {
    "duration": 126,
    "start_time": "2021-07-26T22:09:46.440Z"
   },
   {
    "duration": 111,
    "start_time": "2021-07-26T22:11:27.366Z"
   },
   {
    "duration": 6452,
    "start_time": "2021-07-26T22:33:17.066Z"
   },
   {
    "duration": 980,
    "start_time": "2021-07-26T22:33:56.255Z"
   },
   {
    "duration": 217,
    "start_time": "2021-07-26T22:33:57.238Z"
   },
   {
    "duration": 38,
    "start_time": "2021-07-26T22:33:57.460Z"
   },
   {
    "duration": 185,
    "start_time": "2021-07-26T22:33:57.501Z"
   },
   {
    "duration": 24,
    "start_time": "2021-07-26T22:33:57.689Z"
   },
   {
    "duration": 141,
    "start_time": "2021-07-26T22:33:57.716Z"
   },
   {
    "duration": 23,
    "start_time": "2021-07-26T22:33:57.859Z"
   },
   {
    "duration": 24,
    "start_time": "2021-07-26T22:33:57.886Z"
   },
   {
    "duration": 10,
    "start_time": "2021-07-26T22:33:57.913Z"
   },
   {
    "duration": 42,
    "start_time": "2021-07-26T22:33:57.926Z"
   },
   {
    "duration": 8,
    "start_time": "2021-07-26T22:33:57.982Z"
   },
   {
    "duration": 163,
    "start_time": "2021-07-26T22:33:57.993Z"
   },
   {
    "duration": 639,
    "start_time": "2021-07-26T22:33:58.159Z"
   },
   {
    "duration": 3,
    "start_time": "2021-07-26T22:33:58.800Z"
   },
   {
    "duration": 7,
    "start_time": "2021-07-26T22:33:58.805Z"
   },
   {
    "duration": 6,
    "start_time": "2021-07-26T22:33:58.814Z"
   },
   {
    "duration": 351,
    "start_time": "2021-07-26T22:33:58.822Z"
   },
   {
    "duration": 6,
    "start_time": "2021-07-26T22:33:59.176Z"
   },
   {
    "duration": 3,
    "start_time": "2021-07-26T22:33:59.185Z"
   },
   {
    "duration": 658,
    "start_time": "2021-07-26T22:33:59.190Z"
   },
   {
    "duration": 375,
    "start_time": "2021-07-26T22:33:59.850Z"
   },
   {
    "duration": 7576,
    "start_time": "2021-07-26T22:34:00.228Z"
   },
   {
    "duration": -986,
    "start_time": "2021-07-26T22:34:08.793Z"
   },
   {
    "duration": -988,
    "start_time": "2021-07-26T22:34:08.796Z"
   },
   {
    "duration": -989,
    "start_time": "2021-07-26T22:34:08.799Z"
   },
   {
    "duration": -991,
    "start_time": "2021-07-26T22:34:08.802Z"
   },
   {
    "duration": -991,
    "start_time": "2021-07-26T22:34:08.804Z"
   },
   {
    "duration": 6464,
    "start_time": "2021-07-26T22:35:59.712Z"
   },
   {
    "duration": 287,
    "start_time": "2021-07-26T22:36:13.664Z"
   },
   {
    "duration": 298,
    "start_time": "2021-07-26T22:36:15.959Z"
   },
   {
    "duration": 70,
    "start_time": "2021-07-26T22:37:55.511Z"
   },
   {
    "duration": 97,
    "start_time": "2021-07-26T22:38:30.039Z"
   },
   {
    "duration": 94,
    "start_time": "2021-07-26T22:39:30.798Z"
   },
   {
    "duration": 18,
    "start_time": "2021-07-26T22:41:26.254Z"
   },
   {
    "duration": 18,
    "start_time": "2021-07-26T22:41:37.767Z"
   },
   {
    "duration": 91,
    "start_time": "2021-07-26T22:42:14.462Z"
   },
   {
    "duration": 69,
    "start_time": "2021-07-26T22:42:23.110Z"
   },
   {
    "duration": 18,
    "start_time": "2021-07-26T22:42:25.967Z"
   },
   {
    "duration": 16,
    "start_time": "2021-07-26T22:42:27.990Z"
   },
   {
    "duration": 15,
    "start_time": "2021-07-26T22:42:28.695Z"
   },
   {
    "duration": 120,
    "start_time": "2021-07-26T22:45:14.285Z"
   },
   {
    "duration": 307,
    "start_time": "2021-07-26T23:14:03.658Z"
   },
   {
    "duration": 71,
    "start_time": "2021-07-26T23:14:55.255Z"
   },
   {
    "duration": 361,
    "start_time": "2021-07-26T23:15:46.853Z"
   },
   {
    "duration": 68,
    "start_time": "2021-07-26T23:17:51.259Z"
   },
   {
    "duration": 67,
    "start_time": "2021-07-26T23:18:31.156Z"
   },
   {
    "duration": 49,
    "start_time": "2021-07-26T23:21:21.371Z"
   },
   {
    "duration": 257,
    "start_time": "2021-07-26T23:30:55.083Z"
   },
   {
    "duration": 73,
    "start_time": "2021-07-26T23:31:42.634Z"
   },
   {
    "duration": 241,
    "start_time": "2021-07-26T23:38:54.124Z"
   },
   {
    "duration": 288,
    "start_time": "2021-07-26T23:39:17.989Z"
   },
   {
    "duration": 7,
    "start_time": "2021-07-26T23:39:51.525Z"
   },
   {
    "duration": 32,
    "start_time": "2021-07-26T23:40:21.564Z"
   },
   {
    "duration": 34,
    "start_time": "2021-07-26T23:43:39.710Z"
   },
   {
    "duration": 78,
    "start_time": "2021-07-27T18:37:13.955Z"
   },
   {
    "duration": 278,
    "start_time": "2021-07-27T18:37:25.623Z"
   },
   {
    "duration": 711,
    "start_time": "2021-07-27T18:37:35.611Z"
   },
   {
    "duration": 150,
    "start_time": "2021-07-27T18:37:36.324Z"
   },
   {
    "duration": 22,
    "start_time": "2021-07-27T18:37:36.477Z"
   },
   {
    "duration": 293,
    "start_time": "2021-07-27T18:37:36.501Z"
   },
   {
    "duration": 16,
    "start_time": "2021-07-27T18:37:36.796Z"
   },
   {
    "duration": 90,
    "start_time": "2021-07-27T18:37:36.814Z"
   },
   {
    "duration": 13,
    "start_time": "2021-07-27T18:37:36.905Z"
   },
   {
    "duration": 19,
    "start_time": "2021-07-27T18:37:36.921Z"
   },
   {
    "duration": 7,
    "start_time": "2021-07-27T18:37:36.942Z"
   },
   {
    "duration": 34,
    "start_time": "2021-07-27T18:37:36.951Z"
   },
   {
    "duration": 6,
    "start_time": "2021-07-27T18:37:36.987Z"
   },
   {
    "duration": 112,
    "start_time": "2021-07-27T18:37:36.994Z"
   },
   {
    "duration": 370,
    "start_time": "2021-07-27T18:37:37.108Z"
   },
   {
    "duration": 11,
    "start_time": "2021-07-27T18:37:37.480Z"
   },
   {
    "duration": 12,
    "start_time": "2021-07-27T18:37:37.493Z"
   },
   {
    "duration": 25,
    "start_time": "2021-07-27T18:37:37.507Z"
   },
   {
    "duration": 224,
    "start_time": "2021-07-27T18:37:37.533Z"
   },
   {
    "duration": 2,
    "start_time": "2021-07-27T18:37:37.759Z"
   },
   {
    "duration": 6,
    "start_time": "2021-07-27T18:37:37.763Z"
   },
   {
    "duration": 400,
    "start_time": "2021-07-27T18:37:37.770Z"
   },
   {
    "duration": 259,
    "start_time": "2021-07-27T18:37:38.172Z"
   },
   {
    "duration": 46,
    "start_time": "2021-07-27T18:37:38.433Z"
   },
   {
    "duration": 17,
    "start_time": "2021-07-27T18:37:38.492Z"
   },
   {
    "duration": 11,
    "start_time": "2021-07-27T18:37:38.511Z"
   },
   {
    "duration": 9,
    "start_time": "2021-07-27T18:37:38.524Z"
   },
   {
    "duration": 95,
    "start_time": "2021-07-27T18:37:38.535Z"
   },
   {
    "duration": 358,
    "start_time": "2021-07-27T18:37:38.632Z"
   },
   {
    "duration": -1396,
    "start_time": "2021-07-27T18:37:40.389Z"
   },
   {
    "duration": -1401,
    "start_time": "2021-07-27T18:37:40.395Z"
   },
   {
    "duration": -1402,
    "start_time": "2021-07-27T18:37:40.397Z"
   },
   {
    "duration": -1404,
    "start_time": "2021-07-27T18:37:40.400Z"
   },
   {
    "duration": -1406,
    "start_time": "2021-07-27T18:37:40.403Z"
   },
   {
    "duration": 36,
    "start_time": "2021-07-27T18:37:59.040Z"
   },
   {
    "duration": 257,
    "start_time": "2021-07-27T18:38:04.704Z"
   },
   {
    "duration": 57,
    "start_time": "2021-07-27T18:38:27.944Z"
   },
   {
    "duration": 46,
    "start_time": "2021-07-27T18:38:33.840Z"
   },
   {
    "duration": 324,
    "start_time": "2021-07-27T18:39:04.119Z"
   },
   {
    "duration": 35,
    "start_time": "2021-07-27T18:39:18.319Z"
   },
   {
    "duration": 28,
    "start_time": "2021-07-27T18:40:27.327Z"
   },
   {
    "duration": 33,
    "start_time": "2021-07-27T18:40:33.087Z"
   },
   {
    "duration": 56,
    "start_time": "2021-07-27T18:41:09.984Z"
   },
   {
    "duration": 53,
    "start_time": "2021-07-27T18:42:28.813Z"
   },
   {
    "duration": 72,
    "start_time": "2021-07-27T18:42:44.306Z"
   },
   {
    "duration": 49,
    "start_time": "2021-07-27T18:44:06.775Z"
   },
   {
    "duration": 86,
    "start_time": "2021-07-27T18:49:16.724Z"
   },
   {
    "duration": 36,
    "start_time": "2021-07-27T18:49:31.363Z"
   },
   {
    "duration": 36,
    "start_time": "2021-07-27T18:49:39.036Z"
   },
   {
    "duration": 8,
    "start_time": "2021-07-27T18:49:46.923Z"
   },
   {
    "duration": 8,
    "start_time": "2021-07-27T18:50:46.524Z"
   },
   {
    "duration": 1243,
    "start_time": "2021-07-27T18:50:59.670Z"
   },
   {
    "duration": 219,
    "start_time": "2021-07-27T18:51:00.915Z"
   },
   {
    "duration": 20,
    "start_time": "2021-07-27T18:51:01.137Z"
   },
   {
    "duration": 149,
    "start_time": "2021-07-27T18:51:01.159Z"
   },
   {
    "duration": 19,
    "start_time": "2021-07-27T18:51:01.310Z"
   },
   {
    "duration": 102,
    "start_time": "2021-07-27T18:51:01.330Z"
   },
   {
    "duration": 13,
    "start_time": "2021-07-27T18:51:01.434Z"
   },
   {
    "duration": 26,
    "start_time": "2021-07-27T18:51:01.449Z"
   },
   {
    "duration": 12,
    "start_time": "2021-07-27T18:51:01.477Z"
   },
   {
    "duration": 44,
    "start_time": "2021-07-27T18:51:01.490Z"
   },
   {
    "duration": 5,
    "start_time": "2021-07-27T18:51:01.536Z"
   },
   {
    "duration": 158,
    "start_time": "2021-07-27T18:51:01.543Z"
   },
   {
    "duration": 370,
    "start_time": "2021-07-27T18:51:01.703Z"
   },
   {
    "duration": 2,
    "start_time": "2021-07-27T18:51:02.075Z"
   },
   {
    "duration": 16,
    "start_time": "2021-07-27T18:51:02.078Z"
   },
   {
    "duration": 8,
    "start_time": "2021-07-27T18:51:02.096Z"
   },
   {
    "duration": 296,
    "start_time": "2021-07-27T18:51:02.106Z"
   },
   {
    "duration": 6,
    "start_time": "2021-07-27T18:51:02.403Z"
   },
   {
    "duration": 3,
    "start_time": "2021-07-27T18:51:02.411Z"
   },
   {
    "duration": 435,
    "start_time": "2021-07-27T18:51:02.416Z"
   },
   {
    "duration": 222,
    "start_time": "2021-07-27T18:51:02.853Z"
   },
   {
    "duration": 54,
    "start_time": "2021-07-27T18:51:03.077Z"
   },
   {
    "duration": 17,
    "start_time": "2021-07-27T18:51:03.134Z"
   },
   {
    "duration": 12,
    "start_time": "2021-07-27T18:51:03.153Z"
   },
   {
    "duration": 40,
    "start_time": "2021-07-27T18:51:03.167Z"
   },
   {
    "duration": 50,
    "start_time": "2021-07-27T18:51:03.210Z"
   },
   {
    "duration": 48,
    "start_time": "2021-07-27T18:51:03.262Z"
   },
   {
    "duration": 14,
    "start_time": "2021-07-27T18:51:03.311Z"
   },
   {
    "duration": 32,
    "start_time": "2021-07-27T18:51:03.327Z"
   },
   {
    "duration": 9,
    "start_time": "2021-07-27T18:51:03.361Z"
   },
   {
    "duration": 13,
    "start_time": "2021-07-27T18:51:03.392Z"
   },
   {
    "duration": 377,
    "start_time": "2021-07-27T18:52:56.240Z"
   },
   {
    "duration": 52,
    "start_time": "2021-07-27T18:54:05.512Z"
   },
   {
    "duration": 244,
    "start_time": "2021-07-27T18:54:11.400Z"
   },
   {
    "duration": 46,
    "start_time": "2021-07-27T18:55:29.447Z"
   },
   {
    "duration": 18,
    "start_time": "2021-07-27T18:55:33.919Z"
   },
   {
    "duration": 19,
    "start_time": "2021-07-27T18:55:38.623Z"
   },
   {
    "duration": 11,
    "start_time": "2021-07-27T18:55:39.463Z"
   },
   {
    "duration": 685,
    "start_time": "2021-07-27T18:55:44.157Z"
   },
   {
    "duration": 153,
    "start_time": "2021-07-27T18:55:44.844Z"
   },
   {
    "duration": 21,
    "start_time": "2021-07-27T18:55:45.000Z"
   },
   {
    "duration": 146,
    "start_time": "2021-07-27T18:55:45.024Z"
   },
   {
    "duration": 24,
    "start_time": "2021-07-27T18:55:45.172Z"
   },
   {
    "duration": 120,
    "start_time": "2021-07-27T18:55:45.198Z"
   },
   {
    "duration": 14,
    "start_time": "2021-07-27T18:55:45.320Z"
   },
   {
    "duration": 22,
    "start_time": "2021-07-27T18:55:45.337Z"
   },
   {
    "duration": 8,
    "start_time": "2021-07-27T18:55:45.361Z"
   },
   {
    "duration": 34,
    "start_time": "2021-07-27T18:55:45.371Z"
   },
   {
    "duration": 7,
    "start_time": "2021-07-27T18:55:45.407Z"
   },
   {
    "duration": 131,
    "start_time": "2021-07-27T18:55:45.416Z"
   },
   {
    "duration": 393,
    "start_time": "2021-07-27T18:55:45.549Z"
   },
   {
    "duration": 2,
    "start_time": "2021-07-27T18:55:45.944Z"
   },
   {
    "duration": 22,
    "start_time": "2021-07-27T18:55:45.948Z"
   },
   {
    "duration": 10,
    "start_time": "2021-07-27T18:55:45.972Z"
   },
   {
    "duration": 214,
    "start_time": "2021-07-27T18:55:45.984Z"
   },
   {
    "duration": 2,
    "start_time": "2021-07-27T18:55:46.200Z"
   },
   {
    "duration": 9,
    "start_time": "2021-07-27T18:55:46.204Z"
   },
   {
    "duration": 413,
    "start_time": "2021-07-27T18:55:46.215Z"
   },
   {
    "duration": 219,
    "start_time": "2021-07-27T18:55:46.630Z"
   },
   {
    "duration": 58,
    "start_time": "2021-07-27T18:55:46.851Z"
   },
   {
    "duration": 17,
    "start_time": "2021-07-27T18:55:46.912Z"
   },
   {
    "duration": 16,
    "start_time": "2021-07-27T18:55:46.931Z"
   },
   {
    "duration": 11,
    "start_time": "2021-07-27T18:55:46.949Z"
   },
   {
    "duration": 350,
    "start_time": "2021-07-27T18:55:46.962Z"
   },
   {
    "duration": -1397,
    "start_time": "2021-07-27T18:55:48.711Z"
   },
   {
    "duration": -1399,
    "start_time": "2021-07-27T18:55:48.714Z"
   },
   {
    "duration": -1399,
    "start_time": "2021-07-27T18:55:48.715Z"
   },
   {
    "duration": -1401,
    "start_time": "2021-07-27T18:55:48.717Z"
   },
   {
    "duration": 55,
    "start_time": "2021-07-27T18:56:11.140Z"
   },
   {
    "duration": 37,
    "start_time": "2021-07-27T18:56:24.195Z"
   },
   {
    "duration": 48,
    "start_time": "2021-07-27T18:56:43.868Z"
   },
   {
    "duration": 264,
    "start_time": "2021-07-27T18:56:53.868Z"
   },
   {
    "duration": 497,
    "start_time": "2021-07-27T18:57:40.780Z"
   },
   {
    "duration": 466,
    "start_time": "2021-07-27T18:57:45.683Z"
   },
   {
    "duration": 84,
    "start_time": "2021-07-27T18:58:31.115Z"
   },
   {
    "duration": 88,
    "start_time": "2021-07-27T18:58:37.725Z"
   },
   {
    "duration": 40,
    "start_time": "2021-07-27T18:58:41.812Z"
   },
   {
    "duration": 36,
    "start_time": "2021-07-27T18:58:50.451Z"
   },
   {
    "duration": 291,
    "start_time": "2021-07-27T18:58:56.683Z"
   },
   {
    "duration": 5,
    "start_time": "2021-07-27T18:59:16.701Z"
   },
   {
    "duration": 22,
    "start_time": "2021-07-27T18:59:23.922Z"
   },
   {
    "duration": 7,
    "start_time": "2021-07-27T19:07:22.585Z"
   },
   {
    "duration": 23,
    "start_time": "2021-07-27T19:07:25.548Z"
   },
   {
    "duration": 105,
    "start_time": "2021-07-27T19:08:38.395Z"
   },
   {
    "duration": 110,
    "start_time": "2021-07-27T19:08:54.844Z"
   },
   {
    "duration": 48,
    "start_time": "2021-07-27T19:08:57.745Z"
   },
   {
    "duration": 670,
    "start_time": "2021-07-27T19:09:05.069Z"
   },
   {
    "duration": 161,
    "start_time": "2021-07-27T19:09:05.740Z"
   },
   {
    "duration": 19,
    "start_time": "2021-07-27T19:09:05.903Z"
   },
   {
    "duration": 137,
    "start_time": "2021-07-27T19:09:05.924Z"
   },
   {
    "duration": 15,
    "start_time": "2021-07-27T19:09:06.062Z"
   },
   {
    "duration": 93,
    "start_time": "2021-07-27T19:09:06.079Z"
   },
   {
    "duration": 17,
    "start_time": "2021-07-27T19:09:06.174Z"
   },
   {
    "duration": 20,
    "start_time": "2021-07-27T19:09:06.193Z"
   },
   {
    "duration": 6,
    "start_time": "2021-07-27T19:09:06.215Z"
   },
   {
    "duration": 37,
    "start_time": "2021-07-27T19:09:06.223Z"
   },
   {
    "duration": 7,
    "start_time": "2021-07-27T19:09:06.261Z"
   },
   {
    "duration": 105,
    "start_time": "2021-07-27T19:09:06.270Z"
   },
   {
    "duration": 360,
    "start_time": "2021-07-27T19:09:06.377Z"
   },
   {
    "duration": 2,
    "start_time": "2021-07-27T19:09:06.738Z"
   },
   {
    "duration": 7,
    "start_time": "2021-07-27T19:09:06.742Z"
   },
   {
    "duration": 5,
    "start_time": "2021-07-27T19:09:06.750Z"
   },
   {
    "duration": 216,
    "start_time": "2021-07-27T19:09:06.756Z"
   },
   {
    "duration": 3,
    "start_time": "2021-07-27T19:09:06.973Z"
   },
   {
    "duration": 6,
    "start_time": "2021-07-27T19:09:06.977Z"
   },
   {
    "duration": 562,
    "start_time": "2021-07-27T19:09:06.992Z"
   },
   {
    "duration": 292,
    "start_time": "2021-07-27T19:09:07.556Z"
   },
   {
    "duration": 64,
    "start_time": "2021-07-27T19:09:07.849Z"
   },
   {
    "duration": 20,
    "start_time": "2021-07-27T19:09:07.917Z"
   },
   {
    "duration": 15,
    "start_time": "2021-07-27T19:09:07.939Z"
   },
   {
    "duration": 10,
    "start_time": "2021-07-27T19:09:07.955Z"
   },
   {
    "duration": 100,
    "start_time": "2021-07-27T19:09:07.966Z"
   },
   {
    "duration": 52,
    "start_time": "2021-07-27T19:09:08.067Z"
   },
   {
    "duration": 31,
    "start_time": "2021-07-27T19:09:08.121Z"
   },
   {
    "duration": 7,
    "start_time": "2021-07-27T19:09:08.154Z"
   },
   {
    "duration": 39,
    "start_time": "2021-07-27T19:09:08.163Z"
   },
   {
    "duration": 54,
    "start_time": "2021-07-27T19:09:34.183Z"
   },
   {
    "duration": 28,
    "start_time": "2021-07-27T19:09:37.006Z"
   },
   {
    "duration": 7,
    "start_time": "2021-07-27T19:10:03.244Z"
   },
   {
    "duration": 7,
    "start_time": "2021-07-27T19:10:14.045Z"
   },
   {
    "duration": 8,
    "start_time": "2021-07-27T19:10:33.732Z"
   },
   {
    "duration": 373,
    "start_time": "2021-07-27T19:11:29.339Z"
   },
   {
    "duration": 10,
    "start_time": "2021-07-27T19:11:43.109Z"
   },
   {
    "duration": 332,
    "start_time": "2021-07-27T19:13:48.107Z"
   },
   {
    "duration": 80,
    "start_time": "2021-07-27T19:21:01.273Z"
   },
   {
    "duration": 272,
    "start_time": "2021-07-27T19:21:17.561Z"
   },
   {
    "duration": 16,
    "start_time": "2021-07-27T19:21:32.546Z"
   },
   {
    "duration": 260,
    "start_time": "2021-07-27T19:23:01.161Z"
   },
   {
    "duration": 687,
    "start_time": "2021-07-27T19:23:23.848Z"
   },
   {
    "duration": 17,
    "start_time": "2021-07-27T19:23:57.530Z"
   },
   {
    "duration": 23,
    "start_time": "2021-07-27T19:25:48.272Z"
   },
   {
    "duration": 254,
    "start_time": "2021-07-27T19:27:55.679Z"
   },
   {
    "duration": 65,
    "start_time": "2021-07-27T19:33:00.686Z"
   },
   {
    "duration": 2,
    "start_time": "2021-07-27T19:34:02.141Z"
   },
   {
    "duration": -1418,
    "start_time": "2021-07-27T19:34:28.184Z"
   },
   {
    "duration": 70,
    "start_time": "2021-07-27T19:35:41.605Z"
   },
   {
    "duration": 6334,
    "start_time": "2021-07-27T19:35:43.276Z"
   },
   {
    "duration": 6040,
    "start_time": "2021-07-27T19:36:08.005Z"
   },
   {
    "duration": 8,
    "start_time": "2021-07-27T19:37:06.924Z"
   },
   {
    "duration": 79,
    "start_time": "2021-07-27T19:37:45.804Z"
   },
   {
    "duration": 13,
    "start_time": "2021-07-27T19:37:49.453Z"
   },
   {
    "duration": 16,
    "start_time": "2021-07-27T19:41:00.531Z"
   },
   {
    "duration": 7173,
    "start_time": "2021-07-27T19:41:14.027Z"
   },
   {
    "duration": 6296,
    "start_time": "2021-07-27T19:42:11.907Z"
   },
   {
    "duration": 15,
    "start_time": "2021-07-27T19:42:29.738Z"
   },
   {
    "duration": 5882,
    "start_time": "2021-07-27T19:44:37.114Z"
   },
   {
    "duration": 6287,
    "start_time": "2021-07-27T19:44:56.665Z"
   },
   {
    "duration": 5867,
    "start_time": "2021-07-27T19:49:23.233Z"
   },
   {
    "duration": 5956,
    "start_time": "2021-07-27T19:49:30.631Z"
   },
   {
    "duration": 5329,
    "start_time": "2021-07-27T19:49:46.448Z"
   },
   {
    "duration": 240,
    "start_time": "2021-07-27T19:52:16.801Z"
   },
   {
    "duration": 4925,
    "start_time": "2021-07-27T19:52:33.030Z"
   },
   {
    "duration": 4439,
    "start_time": "2021-07-27T19:54:05.784Z"
   },
   {
    "duration": 697,
    "start_time": "2021-07-27T19:54:17.973Z"
   },
   {
    "duration": 202,
    "start_time": "2021-07-27T19:54:18.672Z"
   },
   {
    "duration": 25,
    "start_time": "2021-07-27T19:54:18.876Z"
   },
   {
    "duration": 128,
    "start_time": "2021-07-27T19:54:18.903Z"
   },
   {
    "duration": 15,
    "start_time": "2021-07-27T19:54:19.033Z"
   },
   {
    "duration": 93,
    "start_time": "2021-07-27T19:54:19.050Z"
   },
   {
    "duration": 13,
    "start_time": "2021-07-27T19:54:19.144Z"
   },
   {
    "duration": 21,
    "start_time": "2021-07-27T19:54:19.159Z"
   },
   {
    "duration": 13,
    "start_time": "2021-07-27T19:54:19.182Z"
   },
   {
    "duration": 47,
    "start_time": "2021-07-27T19:54:19.197Z"
   },
   {
    "duration": 8,
    "start_time": "2021-07-27T19:54:19.246Z"
   },
   {
    "duration": 117,
    "start_time": "2021-07-27T19:54:19.256Z"
   },
   {
    "duration": 366,
    "start_time": "2021-07-27T19:54:19.375Z"
   },
   {
    "duration": 2,
    "start_time": "2021-07-27T19:54:19.742Z"
   },
   {
    "duration": 5,
    "start_time": "2021-07-27T19:54:19.746Z"
   },
   {
    "duration": 4,
    "start_time": "2021-07-27T19:54:19.753Z"
   },
   {
    "duration": 212,
    "start_time": "2021-07-27T19:54:19.759Z"
   },
   {
    "duration": 2,
    "start_time": "2021-07-27T19:54:19.973Z"
   },
   {
    "duration": 15,
    "start_time": "2021-07-27T19:54:19.976Z"
   },
   {
    "duration": 407,
    "start_time": "2021-07-27T19:54:19.993Z"
   },
   {
    "duration": 216,
    "start_time": "2021-07-27T19:54:20.402Z"
   },
   {
    "duration": 47,
    "start_time": "2021-07-27T19:54:20.620Z"
   },
   {
    "duration": 28,
    "start_time": "2021-07-27T19:54:20.670Z"
   },
   {
    "duration": 12,
    "start_time": "2021-07-27T19:54:20.700Z"
   },
   {
    "duration": 11,
    "start_time": "2021-07-27T19:54:20.714Z"
   },
   {
    "duration": 103,
    "start_time": "2021-07-27T19:54:20.726Z"
   },
   {
    "duration": 13,
    "start_time": "2021-07-27T19:54:20.831Z"
   },
   {
    "duration": 4678,
    "start_time": "2021-07-27T19:54:20.846Z"
   },
   {
    "duration": -1424,
    "start_time": "2021-07-27T19:54:26.949Z"
   },
   {
    "duration": -1426,
    "start_time": "2021-07-27T19:54:26.952Z"
   },
   {
    "duration": -1427,
    "start_time": "2021-07-27T19:54:26.955Z"
   },
   {
    "duration": -1428,
    "start_time": "2021-07-27T19:54:26.957Z"
   },
   {
    "duration": -1429,
    "start_time": "2021-07-27T19:54:26.959Z"
   },
   {
    "duration": -1431,
    "start_time": "2021-07-27T19:54:26.962Z"
   },
   {
    "duration": 4470,
    "start_time": "2021-07-27T19:55:56.564Z"
   },
   {
    "duration": 4961,
    "start_time": "2021-07-27T19:56:03.956Z"
   },
   {
    "duration": 16,
    "start_time": "2021-07-27T19:56:18.538Z"
   },
   {
    "duration": 953,
    "start_time": "2021-07-27T19:58:48.635Z"
   },
   {
    "duration": 16,
    "start_time": "2021-07-27T19:59:24.354Z"
   },
   {
    "duration": 7,
    "start_time": "2021-07-27T19:59:34.178Z"
   },
   {
    "duration": 4818,
    "start_time": "2021-07-27T20:00:16.210Z"
   },
   {
    "duration": 15,
    "start_time": "2021-07-27T20:00:30.274Z"
   },
   {
    "duration": 7,
    "start_time": "2021-07-27T20:00:39.914Z"
   },
   {
    "duration": 6,
    "start_time": "2021-07-27T20:02:29.377Z"
   },
   {
    "duration": 7,
    "start_time": "2021-07-27T20:02:43.800Z"
   },
   {
    "duration": 6,
    "start_time": "2021-07-27T20:02:52.480Z"
   },
   {
    "duration": 5,
    "start_time": "2021-07-27T20:03:36.512Z"
   },
   {
    "duration": 1018,
    "start_time": "2021-07-27T20:06:46.088Z"
   },
   {
    "duration": 83,
    "start_time": "2021-07-27T20:07:45.584Z"
   },
   {
    "duration": 945,
    "start_time": "2021-07-27T20:07:47.687Z"
   },
   {
    "duration": 245,
    "start_time": "2021-07-27T20:10:15.654Z"
   },
   {
    "duration": 240,
    "start_time": "2021-07-27T20:10:28.190Z"
   },
   {
    "duration": 267,
    "start_time": "2021-07-27T20:10:35.950Z"
   },
   {
    "duration": 261,
    "start_time": "2021-07-27T20:12:02.662Z"
   },
   {
    "duration": 258,
    "start_time": "2021-07-27T20:12:40.517Z"
   },
   {
    "duration": 16,
    "start_time": "2021-07-27T20:13:02.477Z"
   },
   {
    "duration": 79,
    "start_time": "2021-07-27T20:13:57.064Z"
   },
   {
    "duration": 7888,
    "start_time": "2021-07-27T20:14:51.190Z"
   },
   {
    "duration": 5,
    "start_time": "2021-07-27T20:15:05.493Z"
   },
   {
    "duration": 5,
    "start_time": "2021-07-27T20:15:23.733Z"
   },
   {
    "duration": 244,
    "start_time": "2021-07-27T20:16:05.957Z"
   },
   {
    "duration": 30,
    "start_time": "2021-07-27T20:16:17.476Z"
   },
   {
    "duration": 38,
    "start_time": "2021-07-27T20:16:24.685Z"
   },
   {
    "duration": 7,
    "start_time": "2021-07-27T20:17:58.260Z"
   },
   {
    "duration": 34,
    "start_time": "2021-07-27T20:18:44.667Z"
   },
   {
    "duration": 7,
    "start_time": "2021-07-27T20:18:52.931Z"
   },
   {
    "duration": 5,
    "start_time": "2021-07-27T20:19:03.723Z"
   },
   {
    "duration": 26,
    "start_time": "2021-07-27T20:19:08.131Z"
   },
   {
    "duration": 12,
    "start_time": "2021-07-27T20:19:36.811Z"
   },
   {
    "duration": 225,
    "start_time": "2021-07-27T20:21:08.315Z"
   },
   {
    "duration": 11,
    "start_time": "2021-07-27T20:21:14.779Z"
   },
   {
    "duration": 257,
    "start_time": "2021-07-27T20:21:48.443Z"
   },
   {
    "duration": 244,
    "start_time": "2021-07-27T20:22:08.643Z"
   },
   {
    "duration": 256,
    "start_time": "2021-07-27T20:22:36.012Z"
   },
   {
    "duration": 248,
    "start_time": "2021-07-27T20:22:51.236Z"
   },
   {
    "duration": 37,
    "start_time": "2021-07-27T20:24:12.419Z"
   },
   {
    "duration": 715,
    "start_time": "2021-07-27T20:29:59.905Z"
   },
   {
    "duration": 42,
    "start_time": "2021-07-27T20:53:00.421Z"
   },
   {
    "duration": 34,
    "start_time": "2021-07-27T20:53:21.819Z"
   },
   {
    "duration": 5,
    "start_time": "2021-07-27T20:53:47.963Z"
   },
   {
    "duration": 242,
    "start_time": "2021-07-27T20:55:36.074Z"
   },
   {
    "duration": 254,
    "start_time": "2021-07-27T20:55:59.675Z"
   },
   {
    "duration": 4,
    "start_time": "2021-07-27T20:56:14.794Z"
   },
   {
    "duration": 253,
    "start_time": "2021-07-27T21:04:51.734Z"
   },
   {
    "duration": 239,
    "start_time": "2021-07-27T21:09:57.766Z"
   },
   {
    "duration": 249,
    "start_time": "2021-07-27T21:10:18.661Z"
   },
   {
    "duration": 7,
    "start_time": "2021-07-27T21:10:28.295Z"
   },
   {
    "duration": 83,
    "start_time": "2021-07-27T21:15:31.768Z"
   },
   {
    "duration": 40,
    "start_time": "2021-07-27T21:16:52.204Z"
   },
   {
    "duration": 78,
    "start_time": "2021-07-27T21:16:56.974Z"
   },
   {
    "duration": 939,
    "start_time": "2021-07-27T21:20:44.779Z"
   },
   {
    "duration": 149,
    "start_time": "2021-07-27T21:20:45.719Z"
   },
   {
    "duration": 26,
    "start_time": "2021-07-27T21:20:45.872Z"
   },
   {
    "duration": 124,
    "start_time": "2021-07-27T21:20:45.899Z"
   },
   {
    "duration": 15,
    "start_time": "2021-07-27T21:20:46.025Z"
   },
   {
    "duration": 91,
    "start_time": "2021-07-27T21:20:46.042Z"
   },
   {
    "duration": 13,
    "start_time": "2021-07-27T21:20:46.135Z"
   },
   {
    "duration": 19,
    "start_time": "2021-07-27T21:20:46.150Z"
   },
   {
    "duration": 5,
    "start_time": "2021-07-27T21:20:46.171Z"
   },
   {
    "duration": 31,
    "start_time": "2021-07-27T21:20:46.177Z"
   },
   {
    "duration": 5,
    "start_time": "2021-07-27T21:20:46.210Z"
   },
   {
    "duration": 105,
    "start_time": "2021-07-27T21:20:46.216Z"
   },
   {
    "duration": 336,
    "start_time": "2021-07-27T21:20:46.323Z"
   },
   {
    "duration": 2,
    "start_time": "2021-07-27T21:20:46.661Z"
   },
   {
    "duration": 5,
    "start_time": "2021-07-27T21:20:46.665Z"
   },
   {
    "duration": 5,
    "start_time": "2021-07-27T21:20:46.672Z"
   },
   {
    "duration": 205,
    "start_time": "2021-07-27T21:20:46.678Z"
   },
   {
    "duration": 2,
    "start_time": "2021-07-27T21:20:46.884Z"
   },
   {
    "duration": 5,
    "start_time": "2021-07-27T21:20:46.890Z"
   },
   {
    "duration": 383,
    "start_time": "2021-07-27T21:20:46.897Z"
   },
   {
    "duration": 222,
    "start_time": "2021-07-27T21:20:47.281Z"
   },
   {
    "duration": 46,
    "start_time": "2021-07-27T21:20:47.506Z"
   },
   {
    "duration": 15,
    "start_time": "2021-07-27T21:20:47.554Z"
   },
   {
    "duration": 27,
    "start_time": "2021-07-27T21:20:47.571Z"
   },
   {
    "duration": 9,
    "start_time": "2021-07-27T21:20:47.599Z"
   },
   {
    "duration": 83,
    "start_time": "2021-07-27T21:20:47.609Z"
   },
   {
    "duration": 7310,
    "start_time": "2021-07-27T21:20:47.693Z"
   },
   {
    "duration": -1442,
    "start_time": "2021-07-27T21:20:56.447Z"
   },
   {
    "duration": -1445,
    "start_time": "2021-07-27T21:20:56.451Z"
   },
   {
    "duration": -1447,
    "start_time": "2021-07-27T21:20:56.454Z"
   },
   {
    "duration": -1449,
    "start_time": "2021-07-27T21:20:56.457Z"
   },
   {
    "duration": 5,
    "start_time": "2021-07-27T21:21:08.428Z"
   },
   {
    "duration": 4,
    "start_time": "2021-07-27T21:23:24.453Z"
   },
   {
    "duration": 35,
    "start_time": "2021-07-27T21:23:25.556Z"
   },
   {
    "duration": 31,
    "start_time": "2021-07-27T21:23:28.651Z"
   },
   {
    "duration": 224,
    "start_time": "2021-07-27T21:23:31.293Z"
   },
   {
    "duration": 289,
    "start_time": "2021-07-27T21:26:06.181Z"
   },
   {
    "duration": 77,
    "start_time": "2021-07-27T21:26:16.836Z"
   },
   {
    "duration": 16,
    "start_time": "2021-07-27T21:26:30.627Z"
   },
   {
    "duration": 7,
    "start_time": "2021-07-27T21:30:12.683Z"
   },
   {
    "duration": 4,
    "start_time": "2021-07-27T21:30:36.827Z"
   },
   {
    "duration": 3,
    "start_time": "2021-07-27T21:30:45.546Z"
   },
   {
    "duration": 18,
    "start_time": "2021-07-27T21:31:22.106Z"
   },
   {
    "duration": 14,
    "start_time": "2021-07-27T22:12:45.048Z"
   },
   {
    "duration": 14,
    "start_time": "2021-07-27T22:28:20.209Z"
   },
   {
    "duration": 248,
    "start_time": "2021-07-27T22:32:19.744Z"
   },
   {
    "duration": 6045,
    "start_time": "2021-07-27T22:32:54.522Z"
   },
   {
    "duration": 4448,
    "start_time": "2021-07-27T22:33:08.358Z"
   },
   {
    "duration": 17,
    "start_time": "2021-07-27T22:34:32.929Z"
   },
   {
    "duration": 6,
    "start_time": "2021-07-27T22:34:49.830Z"
   },
   {
    "duration": 17,
    "start_time": "2021-07-27T22:35:08.878Z"
   },
   {
    "duration": 28,
    "start_time": "2021-07-27T22:49:25.052Z"
   },
   {
    "duration": 16,
    "start_time": "2021-07-27T22:49:45.379Z"
   },
   {
    "duration": 30,
    "start_time": "2021-07-27T22:49:59.650Z"
   },
   {
    "duration": 3,
    "start_time": "2021-07-27T22:51:05.706Z"
   },
   {
    "duration": 857,
    "start_time": "2021-07-28T11:49:10.208Z"
   },
   {
    "duration": 225,
    "start_time": "2021-07-28T11:49:11.068Z"
   },
   {
    "duration": 28,
    "start_time": "2021-07-28T11:49:11.296Z"
   },
   {
    "duration": 198,
    "start_time": "2021-07-28T11:49:11.327Z"
   },
   {
    "duration": 39,
    "start_time": "2021-07-28T11:49:11.528Z"
   },
   {
    "duration": 131,
    "start_time": "2021-07-28T11:49:11.570Z"
   },
   {
    "duration": 20,
    "start_time": "2021-07-28T11:49:11.704Z"
   },
   {
    "duration": 38,
    "start_time": "2021-07-28T11:49:11.730Z"
   },
   {
    "duration": 10,
    "start_time": "2021-07-28T11:49:11.771Z"
   },
   {
    "duration": 51,
    "start_time": "2021-07-28T11:49:11.783Z"
   },
   {
    "duration": 8,
    "start_time": "2021-07-28T11:49:11.836Z"
   },
   {
    "duration": 178,
    "start_time": "2021-07-28T11:49:11.846Z"
   },
   {
    "duration": 773,
    "start_time": "2021-07-28T11:49:12.027Z"
   },
   {
    "duration": 4,
    "start_time": "2021-07-28T11:49:12.803Z"
   },
   {
    "duration": 7,
    "start_time": "2021-07-28T11:49:12.810Z"
   },
   {
    "duration": 5,
    "start_time": "2021-07-28T11:49:12.819Z"
   },
   {
    "duration": 378,
    "start_time": "2021-07-28T11:49:12.827Z"
   },
   {
    "duration": 3,
    "start_time": "2021-07-28T11:49:13.207Z"
   },
   {
    "duration": 15,
    "start_time": "2021-07-28T11:49:13.213Z"
   },
   {
    "duration": 677,
    "start_time": "2021-07-28T11:49:13.231Z"
   },
   {
    "duration": 372,
    "start_time": "2021-07-28T11:49:13.910Z"
   },
   {
    "duration": 89,
    "start_time": "2021-07-28T11:49:14.285Z"
   },
   {
    "duration": 23,
    "start_time": "2021-07-28T11:49:14.379Z"
   },
   {
    "duration": 20,
    "start_time": "2021-07-28T11:49:14.405Z"
   },
   {
    "duration": 53,
    "start_time": "2021-07-28T11:49:14.428Z"
   },
   {
    "duration": 136,
    "start_time": "2021-07-28T11:49:14.484Z"
   },
   {
    "duration": 6,
    "start_time": "2021-07-28T11:49:14.622Z"
   },
   {
    "duration": 79,
    "start_time": "2021-07-28T11:49:14.630Z"
   },
   {
    "duration": 65,
    "start_time": "2021-07-28T11:49:14.712Z"
   },
   {
    "duration": 25,
    "start_time": "2021-07-28T11:49:14.779Z"
   },
   {
    "duration": 6,
    "start_time": "2021-07-28T11:49:14.807Z"
   },
   {
    "duration": 5,
    "start_time": "2021-07-28T11:49:14.815Z"
   },
   {
    "duration": 109,
    "start_time": "2021-07-28T11:49:14.822Z"
   },
   {
    "duration": -1374,
    "start_time": "2021-07-28T11:49:16.308Z"
   },
   {
    "duration": 125,
    "start_time": "2021-07-28T11:55:38.051Z"
   },
   {
    "duration": 1782,
    "start_time": "2021-07-28T11:55:50.698Z"
   },
   {
    "duration": 228,
    "start_time": "2021-07-28T11:55:52.483Z"
   },
   {
    "duration": 27,
    "start_time": "2021-07-28T11:55:52.715Z"
   },
   {
    "duration": 205,
    "start_time": "2021-07-28T11:55:52.745Z"
   },
   {
    "duration": 30,
    "start_time": "2021-07-28T11:55:52.952Z"
   },
   {
    "duration": 136,
    "start_time": "2021-07-28T11:55:52.985Z"
   },
   {
    "duration": 21,
    "start_time": "2021-07-28T11:55:53.124Z"
   },
   {
    "duration": 40,
    "start_time": "2021-07-28T11:55:53.147Z"
   },
   {
    "duration": 17,
    "start_time": "2021-07-28T11:55:53.191Z"
   },
   {
    "duration": 74,
    "start_time": "2021-07-28T11:55:53.211Z"
   },
   {
    "duration": 12,
    "start_time": "2021-07-28T11:55:53.288Z"
   },
   {
    "duration": 172,
    "start_time": "2021-07-28T11:55:53.303Z"
   },
   {
    "duration": 655,
    "start_time": "2021-07-28T11:55:53.477Z"
   },
   {
    "duration": 2,
    "start_time": "2021-07-28T11:55:54.135Z"
   },
   {
    "duration": 26,
    "start_time": "2021-07-28T11:55:54.140Z"
   },
   {
    "duration": 4,
    "start_time": "2021-07-28T11:55:54.168Z"
   },
   {
    "duration": 360,
    "start_time": "2021-07-28T11:55:54.174Z"
   },
   {
    "duration": 4,
    "start_time": "2021-07-28T11:55:54.537Z"
   },
   {
    "duration": 5,
    "start_time": "2021-07-28T11:55:54.544Z"
   },
   {
    "duration": 693,
    "start_time": "2021-07-28T11:55:54.567Z"
   },
   {
    "duration": 371,
    "start_time": "2021-07-28T11:55:55.262Z"
   },
   {
    "duration": 88,
    "start_time": "2021-07-28T11:55:55.635Z"
   },
   {
    "duration": 43,
    "start_time": "2021-07-28T11:55:55.726Z"
   },
   {
    "duration": 24,
    "start_time": "2021-07-28T11:55:55.772Z"
   },
   {
    "duration": 22,
    "start_time": "2021-07-28T11:55:55.799Z"
   },
   {
    "duration": 197,
    "start_time": "2021-07-28T11:55:55.824Z"
   },
   {
    "duration": 6217,
    "start_time": "2021-07-28T11:55:56.028Z"
   },
   {
    "duration": -1378,
    "start_time": "2021-07-28T11:56:03.627Z"
   },
   {
    "duration": -1379,
    "start_time": "2021-07-28T11:56:03.630Z"
   },
   {
    "duration": -1380,
    "start_time": "2021-07-28T11:56:03.632Z"
   },
   {
    "duration": -1380,
    "start_time": "2021-07-28T11:56:03.635Z"
   },
   {
    "duration": -1381,
    "start_time": "2021-07-28T11:56:03.637Z"
   },
   {
    "duration": -1380,
    "start_time": "2021-07-28T11:56:03.639Z"
   },
   {
    "duration": -1382,
    "start_time": "2021-07-28T11:56:03.642Z"
   },
   {
    "duration": 3,
    "start_time": "2021-07-28T11:56:20.680Z"
   },
   {
    "duration": 56,
    "start_time": "2021-07-28T11:56:22.463Z"
   },
   {
    "duration": 50,
    "start_time": "2021-07-28T11:56:24.024Z"
   },
   {
    "duration": 28,
    "start_time": "2021-07-28T11:56:24.863Z"
   },
   {
    "duration": 6,
    "start_time": "2021-07-28T11:56:25.591Z"
   },
   {
    "duration": 3,
    "start_time": "2021-07-28T11:56:27.416Z"
   },
   {
    "duration": 127,
    "start_time": "2021-07-28T12:01:23.687Z"
   },
   {
    "duration": 120,
    "start_time": "2021-07-28T12:01:50.509Z"
   },
   {
    "duration": 7,
    "start_time": "2021-07-28T12:01:56.759Z"
   },
   {
    "duration": 8,
    "start_time": "2021-07-28T12:09:56.900Z"
   },
   {
    "duration": 27,
    "start_time": "2021-07-28T12:24:16.272Z"
   },
   {
    "duration": 9,
    "start_time": "2021-07-28T12:24:31.608Z"
   },
   {
    "duration": 8981,
    "start_time": "2021-07-28T12:36:21.420Z"
   },
   {
    "duration": 871,
    "start_time": "2021-07-28T12:36:36.184Z"
   },
   {
    "duration": 233,
    "start_time": "2021-07-28T12:36:37.058Z"
   },
   {
    "duration": 29,
    "start_time": "2021-07-28T12:36:37.294Z"
   },
   {
    "duration": 199,
    "start_time": "2021-07-28T12:36:37.326Z"
   },
   {
    "duration": 39,
    "start_time": "2021-07-28T12:36:37.528Z"
   },
   {
    "duration": 133,
    "start_time": "2021-07-28T12:36:37.570Z"
   },
   {
    "duration": 20,
    "start_time": "2021-07-28T12:36:37.705Z"
   },
   {
    "duration": 43,
    "start_time": "2021-07-28T12:36:37.730Z"
   },
   {
    "duration": 10,
    "start_time": "2021-07-28T12:36:37.776Z"
   },
   {
    "duration": 50,
    "start_time": "2021-07-28T12:36:37.789Z"
   },
   {
    "duration": 9,
    "start_time": "2021-07-28T12:36:37.841Z"
   },
   {
    "duration": 170,
    "start_time": "2021-07-28T12:36:37.852Z"
   },
   {
    "duration": 663,
    "start_time": "2021-07-28T12:36:38.025Z"
   },
   {
    "duration": 4,
    "start_time": "2021-07-28T12:36:38.691Z"
   },
   {
    "duration": 7,
    "start_time": "2021-07-28T12:36:38.697Z"
   },
   {
    "duration": 6,
    "start_time": "2021-07-28T12:36:38.706Z"
   },
   {
    "duration": 365,
    "start_time": "2021-07-28T12:36:38.715Z"
   },
   {
    "duration": 3,
    "start_time": "2021-07-28T12:36:39.083Z"
   },
   {
    "duration": 6,
    "start_time": "2021-07-28T12:36:39.089Z"
   },
   {
    "duration": 710,
    "start_time": "2021-07-28T12:36:39.097Z"
   },
   {
    "duration": 367,
    "start_time": "2021-07-28T12:36:39.809Z"
   },
   {
    "duration": 72,
    "start_time": "2021-07-28T12:36:40.178Z"
   },
   {
    "duration": 24,
    "start_time": "2021-07-28T12:36:40.266Z"
   },
   {
    "duration": 18,
    "start_time": "2021-07-28T12:36:40.292Z"
   },
   {
    "duration": 17,
    "start_time": "2021-07-28T12:36:40.312Z"
   },
   {
    "duration": 159,
    "start_time": "2021-07-28T12:36:40.331Z"
   },
   {
    "duration": 6,
    "start_time": "2021-07-28T12:36:40.492Z"
   },
   {
    "duration": 75,
    "start_time": "2021-07-28T12:36:40.500Z"
   },
   {
    "duration": 49,
    "start_time": "2021-07-28T12:36:40.578Z"
   },
   {
    "duration": 46,
    "start_time": "2021-07-28T12:36:40.629Z"
   },
   {
    "duration": 5,
    "start_time": "2021-07-28T12:36:40.677Z"
   },
   {
    "duration": 8562,
    "start_time": "2021-07-28T12:36:40.684Z"
   },
   {
    "duration": -1395,
    "start_time": "2021-07-28T12:36:50.643Z"
   },
   {
    "duration": -1395,
    "start_time": "2021-07-28T12:36:50.645Z"
   },
   {
    "duration": 12861,
    "start_time": "2021-07-28T12:37:31.734Z"
   },
   {
    "duration": 8127,
    "start_time": "2021-07-28T12:38:44.861Z"
   },
   {
    "duration": 27,
    "start_time": "2021-07-28T12:40:17.172Z"
   },
   {
    "duration": 6463,
    "start_time": "2021-07-28T12:41:03.804Z"
   },
   {
    "duration": 5736,
    "start_time": "2021-07-28T12:41:22.773Z"
   },
   {
    "duration": 1303,
    "start_time": "2021-07-28T12:45:08.373Z"
   },
   {
    "duration": 3987,
    "start_time": "2021-07-28T12:45:21.410Z"
   },
   {
    "duration": 6,
    "start_time": "2021-07-28T12:45:41.522Z"
   },
   {
    "duration": 332,
    "start_time": "2021-07-28T12:46:11.890Z"
   },
   {
    "duration": 1223,
    "start_time": "2021-07-28T12:46:35.625Z"
   },
   {
    "duration": 6,
    "start_time": "2021-07-28T12:46:54.634Z"
   },
   {
    "duration": 1306,
    "start_time": "2021-07-28T12:47:15.802Z"
   },
   {
    "duration": 7581,
    "start_time": "2021-07-28T13:03:54.676Z"
   },
   {
    "duration": 8,
    "start_time": "2021-07-28T13:04:06.988Z"
   },
   {
    "duration": 5,
    "start_time": "2021-07-28T13:04:19.332Z"
   },
   {
    "duration": 313,
    "start_time": "2021-07-28T13:04:51.036Z"
   },
   {
    "duration": 330,
    "start_time": "2021-07-28T13:05:08.853Z"
   },
   {
    "duration": 29,
    "start_time": "2021-07-28T13:05:23.243Z"
   },
   {
    "duration": 6031,
    "start_time": "2021-07-28T13:05:56.014Z"
   },
   {
    "duration": 362,
    "start_time": "2021-07-28T13:06:21.924Z"
   },
   {
    "duration": 9,
    "start_time": "2021-07-28T13:06:30.140Z"
   },
   {
    "duration": 9,
    "start_time": "2021-07-28T13:08:09.899Z"
   },
   {
    "duration": 26,
    "start_time": "2021-07-28T13:09:59.482Z"
   },
   {
    "duration": 8,
    "start_time": "2021-07-28T13:11:07.658Z"
   },
   {
    "duration": 29,
    "start_time": "2021-07-28T13:40:52.867Z"
   },
   {
    "duration": 14,
    "start_time": "2021-07-28T13:41:49.655Z"
   },
   {
    "duration": 8,
    "start_time": "2021-07-28T13:42:42.219Z"
   },
   {
    "duration": 28,
    "start_time": "2021-07-28T13:43:31.762Z"
   },
   {
    "duration": 9,
    "start_time": "2021-07-28T13:46:02.064Z"
   },
   {
    "duration": 30,
    "start_time": "2021-07-28T13:52:43.290Z"
   },
   {
    "duration": 30,
    "start_time": "2021-07-28T13:54:36.790Z"
   },
   {
    "duration": 31,
    "start_time": "2021-07-28T13:54:55.591Z"
   },
   {
    "duration": 29,
    "start_time": "2021-07-28T13:56:21.093Z"
   },
   {
    "duration": 5572,
    "start_time": "2021-07-28T13:56:52.820Z"
   },
   {
    "duration": 31,
    "start_time": "2021-07-28T13:57:24.836Z"
   },
   {
    "duration": 27,
    "start_time": "2021-07-28T13:59:33.171Z"
   },
   {
    "duration": 12,
    "start_time": "2021-07-28T13:59:42.965Z"
   },
   {
    "duration": 30,
    "start_time": "2021-07-28T13:59:45.188Z"
   },
   {
    "duration": 34,
    "start_time": "2021-07-28T13:59:51.044Z"
   },
   {
    "duration": 18,
    "start_time": "2021-07-28T14:00:19.044Z"
   },
   {
    "duration": 9,
    "start_time": "2021-07-28T14:00:32.036Z"
   },
   {
    "duration": 18,
    "start_time": "2021-07-28T14:00:46.492Z"
   },
   {
    "duration": 32,
    "start_time": "2021-07-28T14:00:54.037Z"
   },
   {
    "duration": 16,
    "start_time": "2021-07-28T14:01:53.420Z"
   },
   {
    "duration": 16,
    "start_time": "2021-07-28T14:02:00.692Z"
   },
   {
    "duration": 30,
    "start_time": "2021-07-28T14:02:14.291Z"
   },
   {
    "duration": 10,
    "start_time": "2021-07-28T14:02:30.132Z"
   },
   {
    "duration": 49,
    "start_time": "2021-07-28T14:03:50.378Z"
   },
   {
    "duration": 35,
    "start_time": "2021-07-28T14:04:05.363Z"
   },
   {
    "duration": 321,
    "start_time": "2021-07-28T14:09:43.594Z"
   },
   {
    "duration": 38,
    "start_time": "2021-07-28T14:10:08.937Z"
   },
   {
    "duration": 28,
    "start_time": "2021-07-28T14:10:34.281Z"
   },
   {
    "duration": 34,
    "start_time": "2021-07-28T14:10:48.345Z"
   },
   {
    "duration": 46,
    "start_time": "2021-07-28T14:11:28.042Z"
   },
   {
    "duration": 35,
    "start_time": "2021-07-28T14:21:23.598Z"
   },
   {
    "duration": 38,
    "start_time": "2021-07-28T14:21:34.318Z"
   },
   {
    "duration": 35,
    "start_time": "2021-07-28T14:22:02.415Z"
   },
   {
    "duration": 32,
    "start_time": "2021-07-28T14:22:27.384Z"
   },
   {
    "duration": 29,
    "start_time": "2021-07-28T15:51:16.385Z"
   },
   {
    "duration": 10,
    "start_time": "2021-07-28T15:51:45.430Z"
   },
   {
    "duration": 12,
    "start_time": "2021-07-28T15:53:01.444Z"
   },
   {
    "duration": 33,
    "start_time": "2021-07-28T15:54:29.333Z"
   },
   {
    "duration": 35,
    "start_time": "2021-07-28T15:54:37.309Z"
   },
   {
    "duration": 49,
    "start_time": "2021-07-28T18:17:50.335Z"
   },
   {
    "duration": 45,
    "start_time": "2021-07-28T18:17:55.905Z"
   },
   {
    "duration": 49,
    "start_time": "2021-07-28T18:18:22.301Z"
   },
   {
    "duration": 119,
    "start_time": "2021-07-28T18:24:35.209Z"
   },
   {
    "duration": 38,
    "start_time": "2021-07-28T18:44:01.990Z"
   },
   {
    "duration": 47,
    "start_time": "2021-07-28T18:52:38.131Z"
   },
   {
    "duration": 45,
    "start_time": "2021-07-28T18:57:44.228Z"
   },
   {
    "duration": 42,
    "start_time": "2021-07-28T18:58:02.349Z"
   },
   {
    "duration": 44,
    "start_time": "2021-07-28T18:58:45.234Z"
   },
   {
    "duration": 66,
    "start_time": "2021-07-28T18:59:45.925Z"
   },
   {
    "duration": 32,
    "start_time": "2021-07-28T19:06:45.395Z"
   },
   {
    "duration": 41,
    "start_time": "2021-07-28T19:11:18.545Z"
   },
   {
    "duration": 328,
    "start_time": "2021-07-28T19:11:49.971Z"
   },
   {
    "duration": 40,
    "start_time": "2021-07-28T19:11:57.489Z"
   },
   {
    "duration": 44,
    "start_time": "2021-07-28T19:17:01.198Z"
   },
   {
    "duration": 25,
    "start_time": "2021-07-28T19:17:08.567Z"
   },
   {
    "duration": 26,
    "start_time": "2021-07-28T19:18:32.135Z"
   },
   {
    "duration": 9,
    "start_time": "2021-07-28T19:20:21.046Z"
   },
   {
    "duration": 9,
    "start_time": "2021-07-28T19:21:16.471Z"
   },
   {
    "duration": 10,
    "start_time": "2021-07-28T19:22:46.301Z"
   },
   {
    "duration": 40,
    "start_time": "2021-07-28T19:34:06.474Z"
   },
   {
    "duration": 320,
    "start_time": "2021-07-28T19:36:05.010Z"
   },
   {
    "duration": 5,
    "start_time": "2021-07-28T19:36:17.152Z"
   },
   {
    "duration": 5,
    "start_time": "2021-07-28T19:36:24.896Z"
   },
   {
    "duration": 25,
    "start_time": "2021-07-28T19:36:31.472Z"
   },
   {
    "duration": 292,
    "start_time": "2021-07-29T13:32:56.117Z"
   },
   {
    "duration": -1916,
    "start_time": "2021-07-29T13:41:28.243Z"
   },
   {
    "duration": -1921,
    "start_time": "2021-07-29T13:41:28.249Z"
   },
   {
    "duration": -1925,
    "start_time": "2021-07-29T13:41:28.254Z"
   },
   {
    "duration": -1927,
    "start_time": "2021-07-29T13:41:28.257Z"
   },
   {
    "duration": -1934,
    "start_time": "2021-07-29T13:41:28.265Z"
   },
   {
    "duration": -1938,
    "start_time": "2021-07-29T13:41:28.270Z"
   },
   {
    "duration": -1940,
    "start_time": "2021-07-29T13:41:28.273Z"
   },
   {
    "duration": -1942,
    "start_time": "2021-07-29T13:41:28.276Z"
   },
   {
    "duration": -1945,
    "start_time": "2021-07-29T13:41:28.280Z"
   },
   {
    "duration": -1948,
    "start_time": "2021-07-29T13:41:28.284Z"
   },
   {
    "duration": -1951,
    "start_time": "2021-07-29T13:41:28.288Z"
   },
   {
    "duration": -1954,
    "start_time": "2021-07-29T13:41:28.292Z"
   },
   {
    "duration": -1957,
    "start_time": "2021-07-29T13:41:28.296Z"
   },
   {
    "duration": -1959,
    "start_time": "2021-07-29T13:41:28.299Z"
   },
   {
    "duration": -1962,
    "start_time": "2021-07-29T13:41:28.303Z"
   },
   {
    "duration": -1965,
    "start_time": "2021-07-29T13:41:28.307Z"
   },
   {
    "duration": -1968,
    "start_time": "2021-07-29T13:41:28.311Z"
   },
   {
    "duration": -1970,
    "start_time": "2021-07-29T13:41:28.314Z"
   },
   {
    "duration": -1973,
    "start_time": "2021-07-29T13:41:28.317Z"
   },
   {
    "duration": -1975,
    "start_time": "2021-07-29T13:41:28.320Z"
   },
   {
    "duration": -1978,
    "start_time": "2021-07-29T13:41:28.324Z"
   },
   {
    "duration": -1982,
    "start_time": "2021-07-29T13:41:28.329Z"
   },
   {
    "duration": -1984,
    "start_time": "2021-07-29T13:41:28.332Z"
   },
   {
    "duration": -1988,
    "start_time": "2021-07-29T13:41:28.336Z"
   },
   {
    "duration": -1990,
    "start_time": "2021-07-29T13:41:28.339Z"
   },
   {
    "duration": -1993,
    "start_time": "2021-07-29T13:41:28.343Z"
   },
   {
    "duration": -1995,
    "start_time": "2021-07-29T13:41:28.346Z"
   },
   {
    "duration": -1997,
    "start_time": "2021-07-29T13:41:28.349Z"
   },
   {
    "duration": -2000,
    "start_time": "2021-07-29T13:41:28.353Z"
   },
   {
    "duration": -2001,
    "start_time": "2021-07-29T13:41:28.356Z"
   },
   {
    "duration": -2003,
    "start_time": "2021-07-29T13:41:28.359Z"
   },
   {
    "duration": -2005,
    "start_time": "2021-07-29T13:41:28.362Z"
   },
   {
    "duration": -2009,
    "start_time": "2021-07-29T13:41:28.367Z"
   },
   {
    "duration": -2010,
    "start_time": "2021-07-29T13:41:28.369Z"
   },
   {
    "duration": -2011,
    "start_time": "2021-07-29T13:41:28.371Z"
   },
   {
    "duration": -2014,
    "start_time": "2021-07-29T13:41:28.375Z"
   },
   {
    "duration": -2016,
    "start_time": "2021-07-29T13:41:28.378Z"
   },
   {
    "duration": 610,
    "start_time": "2021-07-29T13:42:38.132Z"
   },
   {
    "duration": 155,
    "start_time": "2021-07-29T13:42:38.744Z"
   },
   {
    "duration": 18,
    "start_time": "2021-07-29T13:42:38.901Z"
   },
   {
    "duration": 130,
    "start_time": "2021-07-29T13:42:38.921Z"
   },
   {
    "duration": 16,
    "start_time": "2021-07-29T13:42:39.052Z"
   },
   {
    "duration": 94,
    "start_time": "2021-07-29T13:42:39.070Z"
   },
   {
    "duration": 25,
    "start_time": "2021-07-29T13:42:39.166Z"
   },
   {
    "duration": 20,
    "start_time": "2021-07-29T13:42:39.194Z"
   },
   {
    "duration": 6,
    "start_time": "2021-07-29T13:42:39.216Z"
   },
   {
    "duration": 35,
    "start_time": "2021-07-29T13:42:39.223Z"
   },
   {
    "duration": 5,
    "start_time": "2021-07-29T13:42:39.259Z"
   },
   {
    "duration": 110,
    "start_time": "2021-07-29T13:42:39.266Z"
   },
   {
    "duration": 343,
    "start_time": "2021-07-29T13:42:39.378Z"
   },
   {
    "duration": 2,
    "start_time": "2021-07-29T13:42:39.722Z"
   },
   {
    "duration": 5,
    "start_time": "2021-07-29T13:42:39.726Z"
   },
   {
    "duration": 4,
    "start_time": "2021-07-29T13:42:39.733Z"
   },
   {
    "duration": 210,
    "start_time": "2021-07-29T13:42:39.738Z"
   },
   {
    "duration": 2,
    "start_time": "2021-07-29T13:42:39.949Z"
   },
   {
    "duration": 6,
    "start_time": "2021-07-29T13:42:39.952Z"
   },
   {
    "duration": 389,
    "start_time": "2021-07-29T13:42:39.960Z"
   },
   {
    "duration": 220,
    "start_time": "2021-07-29T13:42:40.350Z"
   },
   {
    "duration": 57,
    "start_time": "2021-07-29T13:42:40.572Z"
   },
   {
    "duration": 17,
    "start_time": "2021-07-29T13:42:40.633Z"
   },
   {
    "duration": 13,
    "start_time": "2021-07-29T13:42:40.652Z"
   },
   {
    "duration": 33,
    "start_time": "2021-07-29T13:42:40.667Z"
   },
   {
    "duration": 72,
    "start_time": "2021-07-29T13:42:40.702Z"
   },
   {
    "duration": 27,
    "start_time": "2021-07-29T13:42:40.776Z"
   },
   {
    "duration": 37,
    "start_time": "2021-07-29T13:42:40.805Z"
   },
   {
    "duration": 7,
    "start_time": "2021-07-29T13:42:40.844Z"
   },
   {
    "duration": 62,
    "start_time": "2021-07-29T13:42:40.853Z"
   },
   {
    "duration": 6,
    "start_time": "2021-07-29T13:42:40.917Z"
   },
   {
    "duration": 29,
    "start_time": "2021-07-29T13:42:40.924Z"
   },
   {
    "duration": 45,
    "start_time": "2021-07-29T13:42:40.955Z"
   },
   {
    "duration": 13,
    "start_time": "2021-07-29T13:42:41.001Z"
   },
   {
    "duration": 29,
    "start_time": "2021-07-29T13:42:41.015Z"
   },
   {
    "duration": 94,
    "start_time": "2021-07-29T13:42:41.046Z"
   },
   {
    "duration": -1147,
    "start_time": "2021-07-29T13:42:42.288Z"
   },
   {
    "duration": 26,
    "start_time": "2021-07-29T13:43:59.406Z"
   },
   {
    "duration": 15,
    "start_time": "2021-07-29T13:47:08.780Z"
   },
   {
    "duration": 22,
    "start_time": "2021-07-29T14:10:07.440Z"
   },
   {
    "duration": 22,
    "start_time": "2021-07-29T14:10:18.625Z"
   },
   {
    "duration": 310,
    "start_time": "2021-07-29T14:17:07.913Z"
   },
   {
    "duration": 35,
    "start_time": "2021-07-29T14:17:36.640Z"
   },
   {
    "duration": 250,
    "start_time": "2021-07-29T14:17:55.938Z"
   },
   {
    "duration": 246,
    "start_time": "2021-07-29T14:19:25.310Z"
   },
   {
    "duration": 239,
    "start_time": "2021-07-29T14:42:38.235Z"
   },
   {
    "duration": 242,
    "start_time": "2021-07-29T14:42:52.847Z"
   },
   {
    "duration": 2,
    "start_time": "2021-07-29T14:44:31.143Z"
   },
   {
    "duration": 263,
    "start_time": "2021-07-29T14:44:50.490Z"
   },
   {
    "duration": 357,
    "start_time": "2021-07-29T14:45:17.990Z"
   },
   {
    "duration": 5,
    "start_time": "2021-07-29T14:46:30.136Z"
   },
   {
    "duration": 14,
    "start_time": "2021-07-29T14:46:38.445Z"
   },
   {
    "duration": 12,
    "start_time": "2021-07-29T14:47:13.609Z"
   },
   {
    "duration": 245,
    "start_time": "2021-07-29T14:48:49.687Z"
   },
   {
    "duration": 648,
    "start_time": "2021-07-29T14:49:28.383Z"
   },
   {
    "duration": 210,
    "start_time": "2021-07-29T14:49:29.033Z"
   },
   {
    "duration": 26,
    "start_time": "2021-07-29T14:49:29.248Z"
   },
   {
    "duration": 138,
    "start_time": "2021-07-29T14:49:29.276Z"
   },
   {
    "duration": 17,
    "start_time": "2021-07-29T14:49:29.416Z"
   },
   {
    "duration": 99,
    "start_time": "2021-07-29T14:49:29.435Z"
   },
   {
    "duration": 13,
    "start_time": "2021-07-29T14:49:29.537Z"
   },
   {
    "duration": 21,
    "start_time": "2021-07-29T14:49:29.552Z"
   },
   {
    "duration": 6,
    "start_time": "2021-07-29T14:49:29.575Z"
   },
   {
    "duration": 37,
    "start_time": "2021-07-29T14:49:29.592Z"
   },
   {
    "duration": 7,
    "start_time": "2021-07-29T14:49:29.630Z"
   },
   {
    "duration": 107,
    "start_time": "2021-07-29T14:49:29.639Z"
   },
   {
    "duration": 10,
    "start_time": "2021-07-29T14:49:29.747Z"
   },
   {
    "duration": 361,
    "start_time": "2021-07-29T14:49:29.758Z"
   },
   {
    "duration": 2,
    "start_time": "2021-07-29T14:49:30.121Z"
   },
   {
    "duration": 10,
    "start_time": "2021-07-29T14:49:30.125Z"
   },
   {
    "duration": 8,
    "start_time": "2021-07-29T14:49:30.137Z"
   },
   {
    "duration": 189,
    "start_time": "2021-07-29T14:49:30.146Z"
   },
   {
    "duration": 2,
    "start_time": "2021-07-29T14:49:30.337Z"
   },
   {
    "duration": 17,
    "start_time": "2021-07-29T14:49:30.341Z"
   },
   {
    "duration": 444,
    "start_time": "2021-07-29T14:49:30.360Z"
   },
   {
    "duration": 226,
    "start_time": "2021-07-29T14:49:30.807Z"
   },
   {
    "duration": 61,
    "start_time": "2021-07-29T14:49:31.036Z"
   },
   {
    "duration": 16,
    "start_time": "2021-07-29T14:49:31.099Z"
   },
   {
    "duration": 14,
    "start_time": "2021-07-29T14:49:31.117Z"
   },
   {
    "duration": 13,
    "start_time": "2021-07-29T14:49:31.132Z"
   },
   {
    "duration": 99,
    "start_time": "2021-07-29T14:49:31.146Z"
   },
   {
    "duration": 12,
    "start_time": "2021-07-29T14:49:31.246Z"
   },
   {
    "duration": 46,
    "start_time": "2021-07-29T14:49:31.260Z"
   },
   {
    "duration": 5,
    "start_time": "2021-07-29T14:49:31.308Z"
   },
   {
    "duration": 33,
    "start_time": "2021-07-29T14:49:31.315Z"
   },
   {
    "duration": 5,
    "start_time": "2021-07-29T14:49:31.349Z"
   },
   {
    "duration": 37,
    "start_time": "2021-07-29T14:49:31.355Z"
   },
   {
    "duration": 21,
    "start_time": "2021-07-29T14:49:31.394Z"
   },
   {
    "duration": 15,
    "start_time": "2021-07-29T14:49:31.416Z"
   },
   {
    "duration": 302,
    "start_time": "2021-07-29T14:49:31.432Z"
   },
   {
    "duration": -1177,
    "start_time": "2021-07-29T14:49:32.913Z"
   },
   {
    "duration": -1181,
    "start_time": "2021-07-29T14:49:32.918Z"
   },
   {
    "duration": -1183,
    "start_time": "2021-07-29T14:49:32.921Z"
   },
   {
    "duration": 307,
    "start_time": "2021-07-29T14:52:52.209Z"
   },
   {
    "duration": 70,
    "start_time": "2021-07-29T14:53:17.657Z"
   },
   {
    "duration": 29,
    "start_time": "2021-07-29T14:54:28.568Z"
   },
   {
    "duration": 17,
    "start_time": "2021-07-29T14:54:50.089Z"
   },
   {
    "duration": 22,
    "start_time": "2021-07-29T14:56:33.992Z"
   },
   {
    "duration": 23,
    "start_time": "2021-07-29T14:56:50.866Z"
   },
   {
    "duration": 42,
    "start_time": "2021-07-29T14:58:13.016Z"
   },
   {
    "duration": 23,
    "start_time": "2021-07-29T14:58:57.536Z"
   },
   {
    "duration": 91,
    "start_time": "2021-07-29T15:15:16.275Z"
   },
   {
    "duration": 4,
    "start_time": "2021-07-29T15:15:23.331Z"
   },
   {
    "duration": 429,
    "start_time": "2021-07-29T15:15:43.737Z"
   },
   {
    "duration": 4,
    "start_time": "2021-07-29T15:15:53.275Z"
   },
   {
    "duration": 4,
    "start_time": "2021-07-29T15:17:02.962Z"
   },
   {
    "duration": 5,
    "start_time": "2021-07-29T15:17:53.890Z"
   },
   {
    "duration": 4,
    "start_time": "2021-07-29T15:17:58.562Z"
   },
   {
    "duration": 4,
    "start_time": "2021-07-29T15:18:30.338Z"
   },
   {
    "duration": 82,
    "start_time": "2021-07-29T15:19:58.971Z"
   },
   {
    "duration": 36,
    "start_time": "2021-07-29T15:20:06.313Z"
   },
   {
    "duration": 3,
    "start_time": "2021-07-29T15:22:16.569Z"
   },
   {
    "duration": 28,
    "start_time": "2021-07-29T16:02:05.328Z"
   },
   {
    "duration": 5,
    "start_time": "2021-07-29T16:08:36.653Z"
   },
   {
    "duration": 4,
    "start_time": "2021-07-29T16:09:13.148Z"
   },
   {
    "duration": 31,
    "start_time": "2021-07-29T16:09:34.439Z"
   },
   {
    "duration": 81,
    "start_time": "2021-07-29T16:16:06.435Z"
   },
   {
    "duration": 83,
    "start_time": "2021-07-29T16:20:28.746Z"
   },
   {
    "duration": 4,
    "start_time": "2021-07-29T16:20:59.399Z"
   },
   {
    "duration": 81,
    "start_time": "2021-07-29T16:21:27.176Z"
   },
   {
    "duration": 3,
    "start_time": "2021-07-29T16:21:46.440Z"
   },
   {
    "duration": 4,
    "start_time": "2021-07-29T16:21:59.169Z"
   },
   {
    "duration": 5,
    "start_time": "2021-07-29T16:22:15.359Z"
   },
   {
    "duration": 510,
    "start_time": "2021-07-29T16:22:19.839Z"
   },
   {
    "duration": 496,
    "start_time": "2021-07-29T16:23:43.767Z"
   },
   {
    "duration": 5,
    "start_time": "2021-07-29T16:24:03.536Z"
   },
   {
    "duration": 5,
    "start_time": "2021-07-29T16:24:06.712Z"
   },
   {
    "duration": 511,
    "start_time": "2021-07-29T16:24:09.270Z"
   },
   {
    "duration": 5,
    "start_time": "2021-07-29T16:27:47.631Z"
   },
   {
    "duration": 791,
    "start_time": "2021-07-29T16:28:21.111Z"
   },
   {
    "duration": 5,
    "start_time": "2021-07-29T16:29:02.823Z"
   },
   {
    "duration": 513,
    "start_time": "2021-07-29T16:29:06.966Z"
   },
   {
    "duration": 6,
    "start_time": "2021-07-29T16:30:06.718Z"
   },
   {
    "duration": 5,
    "start_time": "2021-07-29T16:30:09.790Z"
   },
   {
    "duration": 499,
    "start_time": "2021-07-29T16:30:10.550Z"
   },
   {
    "duration": 88,
    "start_time": "2021-07-29T16:30:22.294Z"
   },
   {
    "duration": 4,
    "start_time": "2021-07-29T16:30:29.727Z"
   },
   {
    "duration": 487,
    "start_time": "2021-07-29T16:30:35.823Z"
   },
   {
    "duration": 493,
    "start_time": "2021-07-29T16:30:53.766Z"
   },
   {
    "duration": 5,
    "start_time": "2021-07-29T16:31:13.054Z"
   },
   {
    "duration": 510,
    "start_time": "2021-07-29T16:31:15.855Z"
   },
   {
    "duration": 5,
    "start_time": "2021-07-29T16:32:46.445Z"
   },
   {
    "duration": 5,
    "start_time": "2021-07-29T16:32:48.757Z"
   },
   {
    "duration": 243,
    "start_time": "2021-07-29T16:32:49.539Z"
   },
   {
    "duration": 5,
    "start_time": "2021-07-29T16:33:04.598Z"
   },
   {
    "duration": 502,
    "start_time": "2021-07-29T16:33:05.287Z"
   },
   {
    "duration": 5,
    "start_time": "2021-07-29T16:33:22.565Z"
   },
   {
    "duration": 508,
    "start_time": "2021-07-29T16:33:24.109Z"
   },
   {
    "duration": 4,
    "start_time": "2021-07-29T16:34:25.037Z"
   },
   {
    "duration": 483,
    "start_time": "2021-07-29T16:34:28.780Z"
   },
   {
    "duration": 5,
    "start_time": "2021-07-29T16:37:03.180Z"
   },
   {
    "duration": 4,
    "start_time": "2021-07-29T16:37:08.109Z"
   },
   {
    "duration": 5,
    "start_time": "2021-07-29T16:37:11.228Z"
   },
   {
    "duration": 478,
    "start_time": "2021-07-29T16:37:13.932Z"
   },
   {
    "duration": 24,
    "start_time": "2021-07-29T16:46:31.460Z"
   },
   {
    "duration": 5,
    "start_time": "2021-07-29T16:47:21.840Z"
   },
   {
    "duration": 5,
    "start_time": "2021-07-29T16:47:24.792Z"
   },
   {
    "duration": 619,
    "start_time": "2021-07-29T16:47:26.324Z"
   },
   {
    "duration": 5,
    "start_time": "2021-07-29T16:47:46.417Z"
   },
   {
    "duration": 4,
    "start_time": "2021-07-29T16:47:48.409Z"
   },
   {
    "duration": 503,
    "start_time": "2021-07-29T16:47:48.872Z"
   },
   {
    "duration": 8,
    "start_time": "2021-07-29T16:49:36.920Z"
   },
   {
    "duration": 52,
    "start_time": "2021-07-29T16:49:37.753Z"
   },
   {
    "duration": 4,
    "start_time": "2021-07-29T17:04:24.833Z"
   },
   {
    "duration": 31,
    "start_time": "2021-07-29T17:04:25.671Z"
   },
   {
    "duration": 40,
    "start_time": "2021-07-29T17:06:11.284Z"
   },
   {
    "duration": 34,
    "start_time": "2021-07-29T17:07:54.451Z"
   },
   {
    "duration": 273,
    "start_time": "2021-07-29T17:15:48.864Z"
   },
   {
    "duration": 31,
    "start_time": "2021-07-29T17:16:01.074Z"
   },
   {
    "duration": 33,
    "start_time": "2021-07-29T17:17:39.889Z"
   },
   {
    "duration": 22,
    "start_time": "2021-07-29T17:17:45.865Z"
   },
   {
    "duration": 33,
    "start_time": "2021-07-29T17:17:49.816Z"
   },
   {
    "duration": 33,
    "start_time": "2021-07-29T17:20:35.881Z"
   },
   {
    "duration": 14,
    "start_time": "2021-07-29T17:24:44.831Z"
   },
   {
    "duration": 17,
    "start_time": "2021-07-29T17:25:36.887Z"
   },
   {
    "duration": 14,
    "start_time": "2021-07-29T17:26:16.254Z"
   },
   {
    "duration": 5,
    "start_time": "2021-07-29T17:32:00.494Z"
   },
   {
    "duration": 33,
    "start_time": "2021-07-29T17:32:04.085Z"
   },
   {
    "duration": 35,
    "start_time": "2021-07-29T17:32:15.524Z"
   },
   {
    "duration": 35,
    "start_time": "2021-07-29T17:32:49.357Z"
   },
   {
    "duration": 16,
    "start_time": "2021-07-29T17:32:57.709Z"
   },
   {
    "duration": 632,
    "start_time": "2021-07-29T17:35:24.571Z"
   },
   {
    "duration": 153,
    "start_time": "2021-07-29T17:35:25.205Z"
   },
   {
    "duration": 19,
    "start_time": "2021-07-29T17:35:25.361Z"
   },
   {
    "duration": 124,
    "start_time": "2021-07-29T17:35:25.382Z"
   },
   {
    "duration": 20,
    "start_time": "2021-07-29T17:35:25.508Z"
   },
   {
    "duration": 94,
    "start_time": "2021-07-29T17:35:25.530Z"
   },
   {
    "duration": 14,
    "start_time": "2021-07-29T17:35:25.626Z"
   },
   {
    "duration": 18,
    "start_time": "2021-07-29T17:35:25.643Z"
   },
   {
    "duration": 8,
    "start_time": "2021-07-29T17:35:25.663Z"
   },
   {
    "duration": 34,
    "start_time": "2021-07-29T17:35:25.672Z"
   },
   {
    "duration": 5,
    "start_time": "2021-07-29T17:35:25.708Z"
   },
   {
    "duration": 114,
    "start_time": "2021-07-29T17:35:25.714Z"
   },
   {
    "duration": 8,
    "start_time": "2021-07-29T17:35:25.830Z"
   },
   {
    "duration": 337,
    "start_time": "2021-07-29T17:35:25.840Z"
   },
   {
    "duration": 2,
    "start_time": "2021-07-29T17:35:26.178Z"
   },
   {
    "duration": 10,
    "start_time": "2021-07-29T17:35:26.182Z"
   },
   {
    "duration": 5,
    "start_time": "2021-07-29T17:35:26.193Z"
   },
   {
    "duration": 194,
    "start_time": "2021-07-29T17:35:26.199Z"
   },
   {
    "duration": 2,
    "start_time": "2021-07-29T17:35:26.395Z"
   },
   {
    "duration": 7,
    "start_time": "2021-07-29T17:35:26.399Z"
   },
   {
    "duration": 387,
    "start_time": "2021-07-29T17:35:26.408Z"
   },
   {
    "duration": 219,
    "start_time": "2021-07-29T17:35:26.797Z"
   },
   {
    "duration": 45,
    "start_time": "2021-07-29T17:35:27.019Z"
   },
   {
    "duration": 28,
    "start_time": "2021-07-29T17:35:27.066Z"
   },
   {
    "duration": 11,
    "start_time": "2021-07-29T17:35:27.096Z"
   },
   {
    "duration": 9,
    "start_time": "2021-07-29T17:35:27.109Z"
   },
   {
    "duration": 86,
    "start_time": "2021-07-29T17:35:27.119Z"
   },
   {
    "duration": 37,
    "start_time": "2021-07-29T17:35:27.207Z"
   },
   {
    "duration": 4,
    "start_time": "2021-07-29T17:35:27.246Z"
   },
   {
    "duration": 65,
    "start_time": "2021-07-29T17:35:27.251Z"
   },
   {
    "duration": 5,
    "start_time": "2021-07-29T17:35:27.318Z"
   },
   {
    "duration": 8,
    "start_time": "2021-07-29T17:35:27.324Z"
   },
   {
    "duration": 35,
    "start_time": "2021-07-29T17:35:27.333Z"
   },
   {
    "duration": 35,
    "start_time": "2021-07-29T17:35:27.369Z"
   },
   {
    "duration": 36,
    "start_time": "2021-07-29T17:35:27.405Z"
   },
   {
    "duration": 15,
    "start_time": "2021-07-29T17:35:27.442Z"
   },
   {
    "duration": 534,
    "start_time": "2021-07-29T17:35:27.458Z"
   },
   {
    "duration": 17,
    "start_time": "2021-07-29T17:36:37.152Z"
   },
   {
    "duration": 18,
    "start_time": "2021-07-29T17:37:04.216Z"
   },
   {
    "duration": 71,
    "start_time": "2021-07-29T17:39:20.263Z"
   },
   {
    "duration": 41,
    "start_time": "2021-07-29T17:39:42.190Z"
   },
   {
    "duration": 322,
    "start_time": "2021-07-29T21:54:29.580Z"
   },
   {
    "duration": 778,
    "start_time": "2021-07-29T21:54:39.139Z"
   },
   {
    "duration": 218,
    "start_time": "2021-07-29T21:54:39.920Z"
   },
   {
    "duration": 25,
    "start_time": "2021-07-29T21:54:40.141Z"
   },
   {
    "duration": 174,
    "start_time": "2021-07-29T21:54:40.182Z"
   },
   {
    "duration": 26,
    "start_time": "2021-07-29T21:54:40.358Z"
   },
   {
    "duration": 127,
    "start_time": "2021-07-29T21:54:40.386Z"
   },
   {
    "duration": 18,
    "start_time": "2021-07-29T21:54:40.516Z"
   },
   {
    "duration": 24,
    "start_time": "2021-07-29T21:54:40.537Z"
   },
   {
    "duration": 9,
    "start_time": "2021-07-29T21:54:40.583Z"
   },
   {
    "duration": 42,
    "start_time": "2021-07-29T21:54:40.594Z"
   },
   {
    "duration": 8,
    "start_time": "2021-07-29T21:54:40.638Z"
   },
   {
    "duration": 195,
    "start_time": "2021-07-29T21:54:40.648Z"
   },
   {
    "duration": 14,
    "start_time": "2021-07-29T21:54:40.845Z"
   },
   {
    "duration": 646,
    "start_time": "2021-07-29T21:54:40.862Z"
   },
   {
    "duration": 3,
    "start_time": "2021-07-29T21:54:41.511Z"
   },
   {
    "duration": 6,
    "start_time": "2021-07-29T21:54:41.516Z"
   },
   {
    "duration": 14,
    "start_time": "2021-07-29T21:54:41.524Z"
   },
   {
    "duration": 319,
    "start_time": "2021-07-29T21:54:41.540Z"
   },
   {
    "duration": 4,
    "start_time": "2021-07-29T21:54:41.861Z"
   },
   {
    "duration": 15,
    "start_time": "2021-07-29T21:54:41.867Z"
   },
   {
    "duration": 628,
    "start_time": "2021-07-29T21:54:41.884Z"
   },
   {
    "duration": 342,
    "start_time": "2021-07-29T21:54:42.514Z"
   },
   {
    "duration": 77,
    "start_time": "2021-07-29T21:54:42.860Z"
   },
   {
    "duration": 22,
    "start_time": "2021-07-29T21:54:42.940Z"
   },
   {
    "duration": 30,
    "start_time": "2021-07-29T21:54:42.964Z"
   },
   {
    "duration": 14,
    "start_time": "2021-07-29T21:54:42.996Z"
   },
   {
    "duration": 132,
    "start_time": "2021-07-29T21:54:43.012Z"
   },
   {
    "duration": 62,
    "start_time": "2021-07-29T21:54:43.146Z"
   },
   {
    "duration": 3,
    "start_time": "2021-07-29T21:54:43.211Z"
   },
   {
    "duration": 70,
    "start_time": "2021-07-29T21:54:43.217Z"
   },
   {
    "duration": 6,
    "start_time": "2021-07-29T21:54:43.289Z"
   },
   {
    "duration": 10,
    "start_time": "2021-07-29T21:54:43.298Z"
   },
   {
    "duration": 75,
    "start_time": "2021-07-29T21:54:43.310Z"
   },
   {
    "duration": 57,
    "start_time": "2021-07-29T21:54:43.388Z"
   },
   {
    "duration": 76,
    "start_time": "2021-07-29T21:54:43.447Z"
   },
   {
    "duration": 28,
    "start_time": "2021-07-29T21:54:43.525Z"
   },
   {
    "duration": 69,
    "start_time": "2021-07-29T21:54:43.555Z"
   },
   {
    "duration": 9,
    "start_time": "2021-07-29T21:54:43.626Z"
   },
   {
    "duration": 29,
    "start_time": "2021-07-29T22:00:30.006Z"
   },
   {
    "duration": 808,
    "start_time": "2021-07-29T22:00:46.936Z"
   },
   {
    "duration": 211,
    "start_time": "2021-07-29T22:00:47.746Z"
   },
   {
    "duration": 34,
    "start_time": "2021-07-29T22:00:47.959Z"
   },
   {
    "duration": 173,
    "start_time": "2021-07-29T22:00:47.996Z"
   },
   {
    "duration": 24,
    "start_time": "2021-07-29T22:00:48.171Z"
   },
   {
    "duration": 122,
    "start_time": "2021-07-29T22:00:48.198Z"
   },
   {
    "duration": 18,
    "start_time": "2021-07-29T22:00:48.322Z"
   },
   {
    "duration": 38,
    "start_time": "2021-07-29T22:00:48.344Z"
   },
   {
    "duration": 8,
    "start_time": "2021-07-29T22:00:48.385Z"
   },
   {
    "duration": 40,
    "start_time": "2021-07-29T22:00:48.395Z"
   },
   {
    "duration": 8,
    "start_time": "2021-07-29T22:00:48.437Z"
   },
   {
    "duration": 172,
    "start_time": "2021-07-29T22:00:48.448Z"
   },
   {
    "duration": 17,
    "start_time": "2021-07-29T22:00:48.622Z"
   },
   {
    "duration": 594,
    "start_time": "2021-07-29T22:00:48.642Z"
   },
   {
    "duration": 3,
    "start_time": "2021-07-29T22:00:49.238Z"
   },
   {
    "duration": 8,
    "start_time": "2021-07-29T22:00:49.243Z"
   },
   {
    "duration": 11,
    "start_time": "2021-07-29T22:00:49.254Z"
   },
   {
    "duration": 305,
    "start_time": "2021-07-29T22:00:49.268Z"
   },
   {
    "duration": 3,
    "start_time": "2021-07-29T22:00:49.582Z"
   },
   {
    "duration": 6,
    "start_time": "2021-07-29T22:00:49.587Z"
   },
   {
    "duration": 637,
    "start_time": "2021-07-29T22:00:49.595Z"
   },
   {
    "duration": 340,
    "start_time": "2021-07-29T22:00:50.235Z"
   },
   {
    "duration": 67,
    "start_time": "2021-07-29T22:00:50.586Z"
   },
   {
    "duration": 42,
    "start_time": "2021-07-29T22:00:50.656Z"
   },
   {
    "duration": 19,
    "start_time": "2021-07-29T22:00:50.701Z"
   },
   {
    "duration": 14,
    "start_time": "2021-07-29T22:00:50.722Z"
   },
   {
    "duration": 146,
    "start_time": "2021-07-29T22:00:50.738Z"
   },
   {
    "duration": 56,
    "start_time": "2021-07-29T22:00:50.886Z"
   },
   {
    "duration": 4,
    "start_time": "2021-07-29T22:00:50.944Z"
   },
   {
    "duration": 78,
    "start_time": "2021-07-29T22:00:50.950Z"
   },
   {
    "duration": 8,
    "start_time": "2021-07-29T22:00:51.030Z"
   },
   {
    "duration": 9,
    "start_time": "2021-07-29T22:00:51.041Z"
   },
   {
    "duration": 85,
    "start_time": "2021-07-29T22:00:51.052Z"
   },
   {
    "duration": 89,
    "start_time": "2021-07-29T22:00:51.140Z"
   },
   {
    "duration": 72,
    "start_time": "2021-07-29T22:00:51.232Z"
   },
   {
    "duration": 30,
    "start_time": "2021-07-29T22:00:51.307Z"
   },
   {
    "duration": 51,
    "start_time": "2021-07-29T22:00:51.339Z"
   },
   {
    "duration": 8,
    "start_time": "2021-07-29T22:00:51.392Z"
   },
   {
    "duration": 26,
    "start_time": "2021-07-29T22:04:40.215Z"
   },
   {
    "duration": 27,
    "start_time": "2021-07-29T22:05:09.207Z"
   },
   {
    "duration": 25,
    "start_time": "2021-07-29T22:06:17.855Z"
   },
   {
    "duration": 28,
    "start_time": "2021-07-29T22:07:02.175Z"
   },
   {
    "duration": 24,
    "start_time": "2021-07-29T22:08:40.286Z"
   },
   {
    "duration": 24,
    "start_time": "2021-07-29T22:08:47.254Z"
   },
   {
    "duration": 11,
    "start_time": "2021-07-29T22:09:04.734Z"
   },
   {
    "duration": 10,
    "start_time": "2021-07-29T22:11:03.084Z"
   },
   {
    "duration": 10,
    "start_time": "2021-07-29T22:12:20.540Z"
   },
   {
    "duration": 24,
    "start_time": "2021-07-29T22:12:44.039Z"
   },
   {
    "duration": 400,
    "start_time": "2021-07-29T22:13:27.692Z"
   },
   {
    "duration": 276,
    "start_time": "2021-07-29T22:14:26.380Z"
   },
   {
    "duration": 282,
    "start_time": "2021-07-29T22:15:06.532Z"
   },
   {
    "duration": 12,
    "start_time": "2021-07-29T22:21:26.979Z"
   },
   {
    "duration": 25,
    "start_time": "2021-07-29T22:21:32.981Z"
   },
   {
    "duration": 10,
    "start_time": "2021-07-29T22:28:37.282Z"
   },
   {
    "duration": 25,
    "start_time": "2021-07-29T22:28:40.912Z"
   },
   {
    "duration": 13,
    "start_time": "2021-07-29T22:29:10.872Z"
   },
   {
    "duration": 25,
    "start_time": "2021-07-29T22:29:14.234Z"
   },
   {
    "duration": 29,
    "start_time": "2021-07-29T22:31:57.599Z"
   },
   {
    "duration": 10,
    "start_time": "2021-07-29T22:38:31.006Z"
   },
   {
    "duration": 27,
    "start_time": "2021-07-29T22:40:22.337Z"
   },
   {
    "duration": 251,
    "start_time": "2021-07-29T22:46:44.095Z"
   },
   {
    "duration": 33,
    "start_time": "2021-07-29T22:50:54.955Z"
   },
   {
    "duration": 39,
    "start_time": "2021-07-29T23:18:44.260Z"
   },
   {
    "duration": 38,
    "start_time": "2021-07-29T23:18:50.666Z"
   },
   {
    "duration": 37,
    "start_time": "2021-07-29T23:19:00.586Z"
   },
   {
    "duration": 26,
    "start_time": "2021-07-29T23:48:28.028Z"
   },
   {
    "duration": 9,
    "start_time": "2021-07-29T23:48:44.425Z"
   },
   {
    "duration": 6439,
    "start_time": "2021-07-29T23:49:09.624Z"
   },
   {
    "duration": 8,
    "start_time": "2021-07-29T23:49:17.960Z"
   },
   {
    "duration": 17,
    "start_time": "2021-07-29T23:50:00.032Z"
   },
   {
    "duration": 16,
    "start_time": "2021-07-29T23:50:09.144Z"
   },
   {
    "duration": 282,
    "start_time": "2021-07-29T23:51:28.816Z"
   },
   {
    "duration": 5,
    "start_time": "2021-07-29T23:52:19.647Z"
   },
   {
    "duration": 394,
    "start_time": "2021-07-29T23:52:31.607Z"
   },
   {
    "duration": 6,
    "start_time": "2021-07-29T23:55:32.862Z"
   },
   {
    "duration": 16,
    "start_time": "2021-07-29T23:55:52.326Z"
   },
   {
    "duration": 5,
    "start_time": "2021-07-29T23:56:27.006Z"
   },
   {
    "duration": 6,
    "start_time": "2021-07-29T23:56:31.461Z"
   },
   {
    "duration": 18,
    "start_time": "2021-07-29T23:56:32.319Z"
   },
   {
    "duration": 5,
    "start_time": "2021-07-29T23:56:35.902Z"
   },
   {
    "duration": 17,
    "start_time": "2021-07-29T23:56:36.638Z"
   },
   {
    "duration": 16,
    "start_time": "2021-07-29T23:57:02.142Z"
   },
   {
    "duration": 235,
    "start_time": "2021-07-30T00:02:39.868Z"
   },
   {
    "duration": 8,
    "start_time": "2021-07-30T00:02:54.453Z"
   },
   {
    "duration": 241,
    "start_time": "2021-07-30T00:03:06.916Z"
   },
   {
    "duration": 7,
    "start_time": "2021-07-30T00:04:52.380Z"
   },
   {
    "duration": 293,
    "start_time": "2021-07-30T00:12:23.461Z"
   },
   {
    "duration": 792,
    "start_time": "2021-07-30T00:12:50.897Z"
   },
   {
    "duration": 203,
    "start_time": "2021-07-30T00:12:51.691Z"
   },
   {
    "duration": 25,
    "start_time": "2021-07-30T00:12:51.897Z"
   },
   {
    "duration": 187,
    "start_time": "2021-07-30T00:12:51.925Z"
   },
   {
    "duration": 22,
    "start_time": "2021-07-30T00:12:52.114Z"
   },
   {
    "duration": 129,
    "start_time": "2021-07-30T00:12:52.138Z"
   },
   {
    "duration": 22,
    "start_time": "2021-07-30T00:12:52.269Z"
   },
   {
    "duration": 22,
    "start_time": "2021-07-30T00:12:52.295Z"
   },
   {
    "duration": 8,
    "start_time": "2021-07-30T00:12:52.320Z"
   },
   {
    "duration": 54,
    "start_time": "2021-07-30T00:12:52.330Z"
   },
   {
    "duration": 9,
    "start_time": "2021-07-30T00:12:52.387Z"
   },
   {
    "duration": 171,
    "start_time": "2021-07-30T00:12:52.400Z"
   },
   {
    "duration": 22,
    "start_time": "2021-07-30T00:12:52.574Z"
   },
   {
    "duration": 646,
    "start_time": "2021-07-30T00:12:52.599Z"
   },
   {
    "duration": 2,
    "start_time": "2021-07-30T00:12:53.248Z"
   },
   {
    "duration": 6,
    "start_time": "2021-07-30T00:12:53.253Z"
   },
   {
    "duration": 22,
    "start_time": "2021-07-30T00:12:53.261Z"
   },
   {
    "duration": 304,
    "start_time": "2021-07-30T00:12:53.285Z"
   },
   {
    "duration": 3,
    "start_time": "2021-07-30T00:12:53.591Z"
   },
   {
    "duration": 5,
    "start_time": "2021-07-30T00:12:53.597Z"
   },
   {
    "duration": 655,
    "start_time": "2021-07-30T00:12:53.604Z"
   },
   {
    "duration": 338,
    "start_time": "2021-07-30T00:12:54.261Z"
   },
   {
    "duration": 82,
    "start_time": "2021-07-30T00:12:54.604Z"
   },
   {
    "duration": 22,
    "start_time": "2021-07-30T00:12:54.688Z"
   },
   {
    "duration": 18,
    "start_time": "2021-07-30T00:12:54.712Z"
   },
   {
    "duration": 19,
    "start_time": "2021-07-30T00:12:54.732Z"
   },
   {
    "duration": 118,
    "start_time": "2021-07-30T00:12:54.782Z"
   },
   {
    "duration": 54,
    "start_time": "2021-07-30T00:12:54.903Z"
   },
   {
    "duration": 23,
    "start_time": "2021-07-30T00:12:54.959Z"
   },
   {
    "duration": 50,
    "start_time": "2021-07-30T00:12:54.984Z"
   },
   {
    "duration": 7,
    "start_time": "2021-07-30T00:12:55.036Z"
   },
   {
    "duration": 9,
    "start_time": "2021-07-30T00:12:55.045Z"
   },
   {
    "duration": 59,
    "start_time": "2021-07-30T00:12:55.082Z"
   },
   {
    "duration": 80,
    "start_time": "2021-07-30T00:12:55.143Z"
   },
   {
    "duration": 75,
    "start_time": "2021-07-30T00:12:55.225Z"
   },
   {
    "duration": 28,
    "start_time": "2021-07-30T00:12:55.303Z"
   },
   {
    "duration": 6,
    "start_time": "2021-07-30T00:12:55.333Z"
   },
   {
    "duration": 43,
    "start_time": "2021-07-30T00:12:55.341Z"
   },
   {
    "duration": 9,
    "start_time": "2021-07-30T00:12:55.387Z"
   },
   {
    "duration": 23,
    "start_time": "2021-07-30T00:14:16.705Z"
   },
   {
    "duration": 16,
    "start_time": "2021-07-30T00:14:45.368Z"
   },
   {
    "duration": 820,
    "start_time": "2021-07-30T00:15:14.246Z"
   },
   {
    "duration": 218,
    "start_time": "2021-07-30T00:15:15.069Z"
   },
   {
    "duration": 28,
    "start_time": "2021-07-30T00:15:15.291Z"
   },
   {
    "duration": 183,
    "start_time": "2021-07-30T00:15:15.323Z"
   },
   {
    "duration": 21,
    "start_time": "2021-07-30T00:15:15.508Z"
   },
   {
    "duration": 130,
    "start_time": "2021-07-30T00:15:15.531Z"
   },
   {
    "duration": 20,
    "start_time": "2021-07-30T00:15:15.663Z"
   },
   {
    "duration": 23,
    "start_time": "2021-07-30T00:15:15.687Z"
   },
   {
    "duration": 8,
    "start_time": "2021-07-30T00:15:15.713Z"
   },
   {
    "duration": 42,
    "start_time": "2021-07-30T00:15:15.724Z"
   },
   {
    "duration": 18,
    "start_time": "2021-07-30T00:15:15.769Z"
   },
   {
    "duration": 164,
    "start_time": "2021-07-30T00:15:15.789Z"
   },
   {
    "duration": 27,
    "start_time": "2021-07-30T00:15:15.955Z"
   },
   {
    "duration": 586,
    "start_time": "2021-07-30T00:15:15.985Z"
   },
   {
    "duration": 8,
    "start_time": "2021-07-30T00:15:16.574Z"
   },
   {
    "duration": 7,
    "start_time": "2021-07-30T00:15:16.585Z"
   },
   {
    "duration": 6,
    "start_time": "2021-07-30T00:15:16.594Z"
   },
   {
    "duration": 310,
    "start_time": "2021-07-30T00:15:16.603Z"
   },
   {
    "duration": 4,
    "start_time": "2021-07-30T00:15:16.915Z"
   },
   {
    "duration": 8,
    "start_time": "2021-07-30T00:15:16.921Z"
   },
   {
    "duration": 643,
    "start_time": "2021-07-30T00:15:16.932Z"
   },
   {
    "duration": 340,
    "start_time": "2021-07-30T00:15:17.578Z"
   },
   {
    "duration": 76,
    "start_time": "2021-07-30T00:15:17.923Z"
   },
   {
    "duration": 23,
    "start_time": "2021-07-30T00:15:18.002Z"
   },
   {
    "duration": 17,
    "start_time": "2021-07-30T00:15:18.027Z"
   },
   {
    "duration": 40,
    "start_time": "2021-07-30T00:15:18.046Z"
   },
   {
    "duration": 120,
    "start_time": "2021-07-30T00:15:18.088Z"
   },
   {
    "duration": 73,
    "start_time": "2021-07-30T00:15:18.211Z"
   },
   {
    "duration": 4,
    "start_time": "2021-07-30T00:15:18.286Z"
   },
   {
    "duration": 51,
    "start_time": "2021-07-30T00:15:18.292Z"
   },
   {
    "duration": 7,
    "start_time": "2021-07-30T00:15:18.345Z"
   },
   {
    "duration": 31,
    "start_time": "2021-07-30T00:15:18.354Z"
   },
   {
    "duration": 60,
    "start_time": "2021-07-30T00:15:18.388Z"
   },
   {
    "duration": 77,
    "start_time": "2021-07-30T00:15:18.450Z"
   },
   {
    "duration": 69,
    "start_time": "2021-07-30T00:15:18.530Z"
   },
   {
    "duration": 29,
    "start_time": "2021-07-30T00:15:18.601Z"
   },
   {
    "duration": 6,
    "start_time": "2021-07-30T00:15:18.632Z"
   },
   {
    "duration": 42,
    "start_time": "2021-07-30T00:15:18.640Z"
   },
   {
    "duration": 9,
    "start_time": "2021-07-30T00:15:18.684Z"
   },
   {
    "duration": 761,
    "start_time": "2021-07-30T00:17:43.302Z"
   },
   {
    "duration": 5,
    "start_time": "2021-07-30T00:19:41.299Z"
   },
   {
    "duration": 276,
    "start_time": "2021-07-30T00:19:48.356Z"
   },
   {
    "duration": 7,
    "start_time": "2021-07-30T00:21:02.324Z"
   },
   {
    "duration": 14,
    "start_time": "2021-07-30T00:21:02.613Z"
   },
   {
    "duration": 285,
    "start_time": "2021-07-30T00:22:35.292Z"
   },
   {
    "duration": 81,
    "start_time": "2021-07-30T00:23:54.083Z"
   },
   {
    "duration": 292,
    "start_time": "2021-07-30T00:24:17.562Z"
   },
   {
    "duration": 242,
    "start_time": "2021-07-30T00:24:35.791Z"
   },
   {
    "duration": 3,
    "start_time": "2021-07-30T00:25:01.513Z"
   },
   {
    "duration": 242,
    "start_time": "2021-07-30T00:25:09.266Z"
   },
   {
    "duration": 261,
    "start_time": "2021-07-30T00:27:27.476Z"
   },
   {
    "duration": 5,
    "start_time": "2021-07-30T00:32:39.825Z"
   },
   {
    "duration": 27,
    "start_time": "2021-07-30T00:32:51.161Z"
   },
   {
    "duration": 31,
    "start_time": "2021-07-30T00:33:59.093Z"
   },
   {
    "duration": 9,
    "start_time": "2021-07-30T00:36:31.722Z"
   },
   {
    "duration": 22,
    "start_time": "2021-07-30T00:37:21.107Z"
   },
   {
    "duration": 27,
    "start_time": "2021-07-30T00:39:09.135Z"
   },
   {
    "duration": 4885,
    "start_time": "2021-07-30T00:41:04.800Z"
   },
   {
    "duration": 4659,
    "start_time": "2021-07-30T00:42:03.542Z"
   },
   {
    "duration": 5,
    "start_time": "2021-07-30T00:42:35.613Z"
   },
   {
    "duration": 66,
    "start_time": "2021-07-30T00:43:08.334Z"
   },
   {
    "duration": 21,
    "start_time": "2021-07-30T00:47:46.711Z"
   },
   {
    "duration": 6457,
    "start_time": "2021-07-30T00:48:10.278Z"
   },
   {
    "duration": 6172,
    "start_time": "2021-07-30T00:48:41.374Z"
   },
   {
    "duration": 6299,
    "start_time": "2021-07-30T00:50:21.068Z"
   },
   {
    "duration": 24,
    "start_time": "2021-07-30T00:50:47.461Z"
   },
   {
    "duration": 7,
    "start_time": "2021-07-30T00:52:45.430Z"
   },
   {
    "duration": 8,
    "start_time": "2021-07-30T00:53:30.003Z"
   },
   {
    "duration": 7,
    "start_time": "2021-07-30T00:53:42.343Z"
   },
   {
    "duration": 7,
    "start_time": "2021-07-30T00:54:43.483Z"
   },
   {
    "duration": 26,
    "start_time": "2021-07-30T00:55:30.842Z"
   },
   {
    "duration": 11,
    "start_time": "2021-07-30T00:56:31.661Z"
   },
   {
    "duration": 27,
    "start_time": "2021-07-30T00:59:12.330Z"
   },
   {
    "duration": 6393,
    "start_time": "2021-07-30T00:59:26.097Z"
   },
   {
    "duration": 6167,
    "start_time": "2021-07-30T01:00:00.856Z"
   },
   {
    "duration": 7,
    "start_time": "2021-07-30T01:00:15.065Z"
   },
   {
    "duration": 6406,
    "start_time": "2021-07-30T01:00:27.942Z"
   },
   {
    "duration": 6223,
    "start_time": "2021-07-30T01:00:36.296Z"
   },
   {
    "duration": 21,
    "start_time": "2021-07-30T01:01:04.226Z"
   },
   {
    "duration": 7354,
    "start_time": "2021-07-30T01:01:18.842Z"
   },
   {
    "duration": 22,
    "start_time": "2021-07-30T01:01:38.105Z"
   },
   {
    "duration": 7,
    "start_time": "2021-07-30T01:04:15.592Z"
   },
   {
    "duration": 55,
    "start_time": "2021-07-30T01:05:06.573Z"
   },
   {
    "duration": 6233,
    "start_time": "2021-07-30T01:07:32.439Z"
   },
   {
    "duration": 7,
    "start_time": "2021-07-30T01:07:42.439Z"
   },
   {
    "duration": 7,
    "start_time": "2021-07-30T01:07:59.182Z"
   },
   {
    "duration": 5,
    "start_time": "2021-07-30T01:08:26.632Z"
   },
   {
    "duration": 6,
    "start_time": "2021-07-30T01:08:32.526Z"
   },
   {
    "duration": 3346,
    "start_time": "2021-07-30T01:08:56.200Z"
   },
   {
    "duration": 3370,
    "start_time": "2021-07-30T01:09:38.276Z"
   },
   {
    "duration": 5225,
    "start_time": "2021-07-30T01:09:57.020Z"
   },
   {
    "duration": 7,
    "start_time": "2021-07-30T01:10:35.630Z"
   },
   {
    "duration": 6,
    "start_time": "2021-07-30T01:10:52.086Z"
   },
   {
    "duration": 6384,
    "start_time": "2021-07-30T01:11:01.942Z"
   },
   {
    "duration": 20,
    "start_time": "2021-07-30T01:11:23.197Z"
   },
   {
    "duration": 20,
    "start_time": "2021-07-30T01:12:12.608Z"
   },
   {
    "duration": 21,
    "start_time": "2021-07-30T01:13:49.453Z"
   },
   {
    "duration": 7,
    "start_time": "2021-07-30T01:14:19.808Z"
   },
   {
    "duration": 7,
    "start_time": "2021-07-30T01:14:44.685Z"
   },
   {
    "duration": 7,
    "start_time": "2021-07-30T01:15:37.362Z"
   },
   {
    "duration": 1923,
    "start_time": "2021-07-30T01:16:36.957Z"
   },
   {
    "duration": 6255,
    "start_time": "2021-07-30T01:16:47.556Z"
   },
   {
    "duration": 6304,
    "start_time": "2021-07-30T01:16:55.869Z"
   },
   {
    "duration": 11,
    "start_time": "2021-07-30T01:20:54.141Z"
   },
   {
    "duration": 19,
    "start_time": "2021-07-30T01:21:19.747Z"
   },
   {
    "duration": 6080,
    "start_time": "2021-07-30T01:21:45.273Z"
   },
   {
    "duration": 7,
    "start_time": "2021-07-30T01:21:58.165Z"
   },
   {
    "duration": 6930,
    "start_time": "2021-07-30T01:22:55.747Z"
   },
   {
    "duration": 6642,
    "start_time": "2021-07-30T01:24:17.452Z"
   },
   {
    "duration": 6,
    "start_time": "2021-07-30T01:24:44.506Z"
   },
   {
    "duration": 7256,
    "start_time": "2021-07-30T01:27:18.340Z"
   },
   {
    "duration": 7105,
    "start_time": "2021-07-30T01:27:33.683Z"
   },
   {
    "duration": 6698,
    "start_time": "2021-07-30T01:28:16.682Z"
   },
   {
    "duration": 92,
    "start_time": "2021-07-30T01:31:51.802Z"
   },
   {
    "duration": 7071,
    "start_time": "2021-07-30T01:32:22.960Z"
   },
   {
    "duration": 7163,
    "start_time": "2021-07-30T01:33:05.445Z"
   },
   {
    "duration": 6898,
    "start_time": "2021-07-30T01:34:44.265Z"
   },
   {
    "duration": 6797,
    "start_time": "2021-07-30T01:36:38.344Z"
   },
   {
    "duration": 7671,
    "start_time": "2021-07-30T01:37:36.567Z"
   },
   {
    "duration": 7,
    "start_time": "2021-07-30T01:39:40.302Z"
   },
   {
    "duration": 7,
    "start_time": "2021-07-30T01:40:49.359Z"
   },
   {
    "duration": 7103,
    "start_time": "2021-07-30T01:42:18.453Z"
   },
   {
    "duration": 6334,
    "start_time": "2021-07-30T01:43:11.893Z"
   },
   {
    "duration": 7,
    "start_time": "2021-07-30T01:43:45.168Z"
   },
   {
    "duration": 6,
    "start_time": "2021-07-30T01:43:52.629Z"
   },
   {
    "duration": 91,
    "start_time": "2021-07-30T01:46:53.462Z"
   },
   {
    "duration": 99,
    "start_time": "2021-07-30T01:47:25.237Z"
   },
   {
    "duration": 585,
    "start_time": "2021-07-30T01:48:14.027Z"
   },
   {
    "duration": 241,
    "start_time": "2021-07-30T01:48:39.756Z"
   },
   {
    "duration": 490,
    "start_time": "2021-07-30T01:49:03.939Z"
   },
   {
    "duration": 9,
    "start_time": "2021-07-30T01:49:18.434Z"
   },
   {
    "duration": 25,
    "start_time": "2021-07-30T01:49:28.997Z"
   },
   {
    "duration": 718,
    "start_time": "2021-07-30T01:59:53.218Z"
   },
   {
    "duration": 9,
    "start_time": "2021-07-30T01:59:56.310Z"
   },
   {
    "duration": 24,
    "start_time": "2021-07-30T02:00:03.880Z"
   },
   {
    "duration": 6,
    "start_time": "2021-07-30T02:02:31.383Z"
   },
   {
    "duration": 847,
    "start_time": "2021-07-30T02:07:16.690Z"
   },
   {
    "duration": 236,
    "start_time": "2021-07-30T02:07:17.540Z"
   },
   {
    "duration": 26,
    "start_time": "2021-07-30T02:07:17.783Z"
   },
   {
    "duration": 180,
    "start_time": "2021-07-30T02:07:17.812Z"
   },
   {
    "duration": 22,
    "start_time": "2021-07-30T02:07:17.994Z"
   },
   {
    "duration": 129,
    "start_time": "2021-07-30T02:07:18.018Z"
   },
   {
    "duration": 18,
    "start_time": "2021-07-30T02:07:18.149Z"
   },
   {
    "duration": 27,
    "start_time": "2021-07-30T02:07:18.184Z"
   },
   {
    "duration": 10,
    "start_time": "2021-07-30T02:07:18.215Z"
   },
   {
    "duration": 38,
    "start_time": "2021-07-30T02:07:18.228Z"
   },
   {
    "duration": 8,
    "start_time": "2021-07-30T02:07:18.268Z"
   },
   {
    "duration": 165,
    "start_time": "2021-07-30T02:07:18.283Z"
   },
   {
    "duration": 576,
    "start_time": "2021-07-30T02:07:18.450Z"
   },
   {
    "duration": 3,
    "start_time": "2021-07-30T02:07:19.028Z"
   },
   {
    "duration": 5,
    "start_time": "2021-07-30T02:07:19.034Z"
   },
   {
    "duration": 9,
    "start_time": "2021-07-30T02:07:19.041Z"
   },
   {
    "duration": 334,
    "start_time": "2021-07-30T02:07:19.052Z"
   },
   {
    "duration": 3,
    "start_time": "2021-07-30T02:07:19.388Z"
   },
   {
    "duration": 7,
    "start_time": "2021-07-30T02:07:19.393Z"
   },
   {
    "duration": 671,
    "start_time": "2021-07-30T02:07:19.402Z"
   },
   {
    "duration": 354,
    "start_time": "2021-07-30T02:07:20.075Z"
   },
   {
    "duration": 79,
    "start_time": "2021-07-30T02:07:20.432Z"
   },
   {
    "duration": 23,
    "start_time": "2021-07-30T02:07:20.516Z"
   },
   {
    "duration": 20,
    "start_time": "2021-07-30T02:07:20.542Z"
   },
   {
    "duration": 26,
    "start_time": "2021-07-30T02:07:20.564Z"
   },
   {
    "duration": 128,
    "start_time": "2021-07-30T02:07:20.593Z"
   },
   {
    "duration": 61,
    "start_time": "2021-07-30T02:07:20.723Z"
   },
   {
    "duration": 4,
    "start_time": "2021-07-30T02:07:20.786Z"
   },
   {
    "duration": 61,
    "start_time": "2021-07-30T02:07:20.792Z"
   },
   {
    "duration": 7,
    "start_time": "2021-07-30T02:07:20.855Z"
   },
   {
    "duration": 13,
    "start_time": "2021-07-30T02:07:20.865Z"
   },
   {
    "duration": 72,
    "start_time": "2021-07-30T02:07:20.880Z"
   },
   {
    "duration": 68,
    "start_time": "2021-07-30T02:07:20.955Z"
   },
   {
    "duration": 158,
    "start_time": "2021-07-30T02:07:21.025Z"
   },
   {
    "duration": 30,
    "start_time": "2021-07-30T02:07:21.185Z"
   },
   {
    "duration": 7,
    "start_time": "2021-07-30T02:07:21.218Z"
   },
   {
    "duration": 857,
    "start_time": "2021-07-30T02:07:21.227Z"
   },
   {
    "duration": 10,
    "start_time": "2021-07-30T02:07:22.087Z"
   },
   {
    "duration": 28,
    "start_time": "2021-07-30T02:07:22.099Z"
   },
   {
    "duration": 26,
    "start_time": "2021-07-30T02:15:48.953Z"
   },
   {
    "duration": 11,
    "start_time": "2021-07-30T02:16:12.530Z"
   },
   {
    "duration": 9,
    "start_time": "2021-07-30T02:16:37.903Z"
   },
   {
    "duration": 14,
    "start_time": "2021-07-30T02:18:37.670Z"
   },
   {
    "duration": 11,
    "start_time": "2021-07-30T02:25:39.707Z"
   },
   {
    "duration": 915,
    "start_time": "2021-07-30T09:19:06.110Z"
   },
   {
    "duration": 333,
    "start_time": "2021-07-30T09:19:07.028Z"
   },
   {
    "duration": 60,
    "start_time": "2021-07-30T09:19:07.376Z"
   },
   {
    "duration": 206,
    "start_time": "2021-07-30T09:19:07.446Z"
   },
   {
    "duration": 31,
    "start_time": "2021-07-30T09:19:07.655Z"
   },
   {
    "duration": 134,
    "start_time": "2021-07-30T09:19:07.690Z"
   },
   {
    "duration": 19,
    "start_time": "2021-07-30T09:19:07.826Z"
   },
   {
    "duration": 24,
    "start_time": "2021-07-30T09:19:07.849Z"
   },
   {
    "duration": 13,
    "start_time": "2021-07-30T09:19:07.885Z"
   },
   {
    "duration": 68,
    "start_time": "2021-07-30T09:19:07.901Z"
   },
   {
    "duration": 22,
    "start_time": "2021-07-30T09:19:07.971Z"
   },
   {
    "duration": 205,
    "start_time": "2021-07-30T09:19:07.996Z"
   },
   {
    "duration": 651,
    "start_time": "2021-07-30T09:19:08.203Z"
   },
   {
    "duration": 3,
    "start_time": "2021-07-30T09:19:08.856Z"
   },
   {
    "duration": 22,
    "start_time": "2021-07-30T09:19:08.861Z"
   },
   {
    "duration": 18,
    "start_time": "2021-07-30T09:19:08.886Z"
   },
   {
    "duration": 393,
    "start_time": "2021-07-30T09:19:08.906Z"
   },
   {
    "duration": 3,
    "start_time": "2021-07-30T09:19:09.302Z"
   },
   {
    "duration": 43,
    "start_time": "2021-07-30T09:19:09.307Z"
   },
   {
    "duration": 708,
    "start_time": "2021-07-30T09:19:09.353Z"
   },
   {
    "duration": 381,
    "start_time": "2021-07-30T09:19:10.064Z"
   },
   {
    "duration": 88,
    "start_time": "2021-07-30T09:19:10.447Z"
   },
   {
    "duration": 23,
    "start_time": "2021-07-30T09:19:10.540Z"
   },
   {
    "duration": 33,
    "start_time": "2021-07-30T09:19:10.566Z"
   },
   {
    "duration": 27,
    "start_time": "2021-07-30T09:19:10.602Z"
   },
   {
    "duration": 134,
    "start_time": "2021-07-30T09:19:10.631Z"
   },
   {
    "duration": 68,
    "start_time": "2021-07-30T09:19:10.768Z"
   },
   {
    "duration": 4,
    "start_time": "2021-07-30T09:19:10.838Z"
   },
   {
    "duration": 82,
    "start_time": "2021-07-30T09:19:10.844Z"
   },
   {
    "duration": 7,
    "start_time": "2021-07-30T09:19:10.929Z"
   },
   {
    "duration": 27,
    "start_time": "2021-07-30T09:19:10.938Z"
   },
   {
    "duration": 80,
    "start_time": "2021-07-30T09:19:10.967Z"
   },
   {
    "duration": 73,
    "start_time": "2021-07-30T09:19:11.049Z"
   },
   {
    "duration": 78,
    "start_time": "2021-07-30T09:19:11.124Z"
   },
   {
    "duration": 32,
    "start_time": "2021-07-30T09:19:11.205Z"
   },
   {
    "duration": 13,
    "start_time": "2021-07-30T09:19:11.240Z"
   },
   {
    "duration": 722,
    "start_time": "2021-07-30T09:19:11.256Z"
   },
   {
    "duration": 30,
    "start_time": "2021-07-30T09:19:11.985Z"
   },
   {
    "duration": 11,
    "start_time": "2021-07-30T09:19:12.018Z"
   },
   {
    "duration": 518,
    "start_time": "2021-07-30T09:19:22.912Z"
   },
   {
    "duration": 14,
    "start_time": "2021-07-30T09:22:57.287Z"
   },
   {
    "duration": 12,
    "start_time": "2021-07-30T09:23:25.629Z"
   },
   {
    "duration": 311,
    "start_time": "2021-07-30T09:24:08.694Z"
   },
   {
    "duration": 314,
    "start_time": "2021-07-30T09:29:12.717Z"
   },
   {
    "duration": 533,
    "start_time": "2021-07-30T09:30:12.204Z"
   },
   {
    "duration": 14,
    "start_time": "2021-07-30T09:31:51.011Z"
   },
   {
    "duration": 10,
    "start_time": "2021-07-30T09:32:57.203Z"
   },
   {
    "duration": 424,
    "start_time": "2021-07-30T09:34:49.346Z"
   },
   {
    "duration": 4,
    "start_time": "2021-07-30T09:34:56.578Z"
   },
   {
    "duration": 460,
    "start_time": "2021-07-30T09:34:57.268Z"
   },
   {
    "duration": 574,
    "start_time": "2021-07-30T09:35:28.409Z"
   },
   {
    "duration": 577,
    "start_time": "2021-07-30T09:35:29.203Z"
   },
   {
    "duration": 4,
    "start_time": "2021-07-30T09:36:31.610Z"
   },
   {
    "duration": 7,
    "start_time": "2021-07-30T09:36:33.298Z"
   },
   {
    "duration": 6,
    "start_time": "2021-07-30T09:36:59.218Z"
   },
   {
    "duration": 410,
    "start_time": "2021-07-30T09:37:26.954Z"
   },
   {
    "duration": 5,
    "start_time": "2021-07-30T09:38:31.473Z"
   },
   {
    "duration": 9,
    "start_time": "2021-07-30T09:38:33.787Z"
   },
   {
    "duration": 6,
    "start_time": "2021-07-30T09:38:35.619Z"
   },
   {
    "duration": 9,
    "start_time": "2021-07-30T09:38:56.986Z"
   },
   {
    "duration": 5,
    "start_time": "2021-07-30T09:39:03.921Z"
   },
   {
    "duration": 10,
    "start_time": "2021-07-30T09:39:04.489Z"
   },
   {
    "duration": 11,
    "start_time": "2021-07-30T09:39:05.395Z"
   },
   {
    "duration": 11,
    "start_time": "2021-07-30T09:39:55.914Z"
   },
   {
    "duration": 9,
    "start_time": "2021-07-30T09:40:06.898Z"
   },
   {
    "duration": 10,
    "start_time": "2021-07-30T09:40:40.832Z"
   },
   {
    "duration": 28,
    "start_time": "2021-07-30T09:41:15.768Z"
   },
   {
    "duration": 10,
    "start_time": "2021-07-30T09:41:51.689Z"
   },
   {
    "duration": 10,
    "start_time": "2021-07-30T09:45:07.544Z"
   },
   {
    "duration": 12,
    "start_time": "2021-07-30T09:45:17.480Z"
   },
   {
    "duration": 395,
    "start_time": "2021-07-30T09:48:45.888Z"
   },
   {
    "duration": 10,
    "start_time": "2021-07-30T09:50:05.007Z"
   },
   {
    "duration": 12,
    "start_time": "2021-07-30T09:50:56.862Z"
   },
   {
    "duration": 399,
    "start_time": "2021-07-30T09:51:13.808Z"
   },
   {
    "duration": 15,
    "start_time": "2021-07-30T09:51:25.967Z"
   },
   {
    "duration": 12,
    "start_time": "2021-07-30T09:53:02.174Z"
   },
   {
    "duration": 337,
    "start_time": "2021-07-30T09:53:21.973Z"
   },
   {
    "duration": 308,
    "start_time": "2021-07-30T09:53:39.039Z"
   },
   {
    "duration": 11,
    "start_time": "2021-07-30T09:56:45.466Z"
   },
   {
    "duration": 509,
    "start_time": "2021-07-30T09:59:08.500Z"
   },
   {
    "duration": 40,
    "start_time": "2021-07-30T09:59:21.470Z"
   },
   {
    "duration": 43,
    "start_time": "2021-07-30T09:59:41.818Z"
   },
   {
    "duration": 2226,
    "start_time": "2021-07-30T10:01:20.140Z"
   },
   {
    "duration": 2224,
    "start_time": "2021-07-30T10:02:00.828Z"
   },
   {
    "duration": 2461,
    "start_time": "2021-07-30T10:02:12.811Z"
   },
   {
    "duration": 2216,
    "start_time": "2021-07-30T10:02:18.532Z"
   },
   {
    "duration": 2269,
    "start_time": "2021-07-30T10:02:27.232Z"
   },
   {
    "duration": 566,
    "start_time": "2021-07-30T10:03:03.460Z"
   },
   {
    "duration": 435,
    "start_time": "2021-07-30T10:04:01.791Z"
   },
   {
    "duration": 35,
    "start_time": "2021-07-30T10:04:30.493Z"
   },
   {
    "duration": 684,
    "start_time": "2021-07-30T10:04:42.524Z"
   },
   {
    "duration": 2563,
    "start_time": "2021-07-30T10:06:54.681Z"
   },
   {
    "duration": 37,
    "start_time": "2021-07-30T10:07:14.017Z"
   },
   {
    "duration": 44,
    "start_time": "2021-07-30T10:07:30.002Z"
   },
   {
    "duration": 5957,
    "start_time": "2021-07-30T10:07:59.266Z"
   },
   {
    "duration": 4147,
    "start_time": "2021-07-30T10:08:20.181Z"
   },
   {
    "duration": 3882,
    "start_time": "2021-07-30T10:09:47.249Z"
   },
   {
    "duration": 3795,
    "start_time": "2021-07-30T10:10:07.672Z"
   },
   {
    "duration": 4236,
    "start_time": "2021-07-30T10:10:44.865Z"
   },
   {
    "duration": 4575,
    "start_time": "2021-07-30T10:11:02.087Z"
   },
   {
    "duration": 4786,
    "start_time": "2021-07-30T10:11:46.739Z"
   },
   {
    "duration": 204,
    "start_time": "2021-07-30T10:12:57.721Z"
   },
   {
    "duration": 3303,
    "start_time": "2021-07-30T10:15:30.135Z"
   },
   {
    "duration": 4876,
    "start_time": "2021-07-30T10:16:53.536Z"
   },
   {
    "duration": 5065,
    "start_time": "2021-07-30T10:22:36.827Z"
   },
   {
    "duration": 4,
    "start_time": "2021-07-30T10:23:21.042Z"
   },
   {
    "duration": 4916,
    "start_time": "2021-07-30T10:23:35.149Z"
   },
   {
    "duration": 5476,
    "start_time": "2021-07-30T10:23:52.142Z"
   },
   {
    "duration": 4514,
    "start_time": "2021-07-30T10:26:27.437Z"
   },
   {
    "duration": 5097,
    "start_time": "2021-07-30T10:26:56.761Z"
   },
   {
    "duration": 5332,
    "start_time": "2021-07-30T10:28:00.589Z"
   },
   {
    "duration": 4712,
    "start_time": "2021-07-30T10:28:16.264Z"
   },
   {
    "duration": 4819,
    "start_time": "2021-07-30T10:33:01.466Z"
   },
   {
    "duration": 3324,
    "start_time": "2021-07-30T10:35:48.442Z"
   },
   {
    "duration": 3558,
    "start_time": "2021-07-30T10:37:22.361Z"
   },
   {
    "duration": 3293,
    "start_time": "2021-07-30T10:37:46.520Z"
   },
   {
    "duration": 7097,
    "start_time": "2021-07-30T10:38:00.994Z"
   },
   {
    "duration": 419,
    "start_time": "2021-07-30T11:26:52.230Z"
   },
   {
    "duration": 399,
    "start_time": "2021-07-30T11:28:47.649Z"
   },
   {
    "duration": 28,
    "start_time": "2021-07-30T11:53:58.744Z"
   },
   {
    "duration": 12,
    "start_time": "2021-07-30T11:54:16.288Z"
   },
   {
    "duration": 396,
    "start_time": "2021-07-30T12:07:22.765Z"
   },
   {
    "duration": 9,
    "start_time": "2021-07-30T12:08:16.732Z"
   },
   {
    "duration": 37,
    "start_time": "2021-07-30T12:08:30.940Z"
   },
   {
    "duration": 396,
    "start_time": "2021-07-30T12:08:48.619Z"
   },
   {
    "duration": 11,
    "start_time": "2021-07-30T12:09:01.827Z"
   },
   {
    "duration": 9,
    "start_time": "2021-07-30T12:18:33.864Z"
   },
   {
    "duration": 9,
    "start_time": "2021-07-30T12:18:43.480Z"
   },
   {
    "duration": 18,
    "start_time": "2021-07-30T12:19:03.778Z"
   },
   {
    "duration": 16,
    "start_time": "2021-07-30T12:19:35.728Z"
   },
   {
    "duration": 10,
    "start_time": "2021-07-30T12:19:48.696Z"
   },
   {
    "duration": 9,
    "start_time": "2021-07-30T12:20:11.232Z"
   },
   {
    "duration": 714,
    "start_time": "2021-07-30T12:20:53.912Z"
   },
   {
    "duration": 555,
    "start_time": "2021-07-30T12:21:09.079Z"
   },
   {
    "duration": 12,
    "start_time": "2021-07-30T12:24:12.328Z"
   },
   {
    "duration": 388,
    "start_time": "2021-07-30T12:25:07.480Z"
   },
   {
    "duration": 396,
    "start_time": "2021-07-30T12:25:20.958Z"
   },
   {
    "duration": 578,
    "start_time": "2021-07-30T12:28:32.598Z"
   },
   {
    "duration": 477,
    "start_time": "2021-07-30T12:29:08.334Z"
   },
   {
    "duration": 508,
    "start_time": "2021-07-30T12:31:24.101Z"
   },
   {
    "duration": 495,
    "start_time": "2021-07-30T12:31:41.124Z"
   },
   {
    "duration": 822,
    "start_time": "2021-07-30T12:32:13.863Z"
   },
   {
    "duration": 507,
    "start_time": "2021-07-30T12:35:06.132Z"
   },
   {
    "duration": 500,
    "start_time": "2021-07-30T12:35:35.068Z"
   },
   {
    "duration": 935,
    "start_time": "2021-07-30T12:45:37.202Z"
   },
   {
    "duration": 25,
    "start_time": "2021-07-30T12:45:55.217Z"
   },
   {
    "duration": 26,
    "start_time": "2021-07-30T12:49:51.328Z"
   },
   {
    "duration": 645,
    "start_time": "2021-07-30T13:00:16.886Z"
   },
   {
    "duration": 418,
    "start_time": "2021-07-30T13:00:26.958Z"
   },
   {
    "duration": 16,
    "start_time": "2021-07-30T13:02:30.972Z"
   },
   {
    "duration": 465,
    "start_time": "2021-07-30T13:07:16.900Z"
   },
   {
    "duration": 442,
    "start_time": "2021-07-30T13:07:38.219Z"
   },
   {
    "duration": 453,
    "start_time": "2021-07-30T13:07:46.021Z"
   },
   {
    "duration": 454,
    "start_time": "2021-07-30T13:07:53.946Z"
   },
   {
    "duration": 456,
    "start_time": "2021-07-30T13:08:44.116Z"
   },
   {
    "duration": 445,
    "start_time": "2021-07-30T13:10:22.482Z"
   },
   {
    "duration": 457,
    "start_time": "2021-07-30T13:11:24.396Z"
   },
   {
    "duration": 403,
    "start_time": "2021-07-30T13:11:52.051Z"
   },
   {
    "duration": 396,
    "start_time": "2021-07-30T13:12:23.442Z"
   },
   {
    "duration": 455,
    "start_time": "2021-07-30T13:12:29.426Z"
   },
   {
    "duration": 1180,
    "start_time": "2021-07-30T13:14:38.186Z"
   },
   {
    "duration": 1190,
    "start_time": "2021-07-30T13:15:02.081Z"
   },
   {
    "duration": 1489,
    "start_time": "2021-07-30T13:41:10.509Z"
   },
   {
    "duration": 2236,
    "start_time": "2021-07-30T13:42:49.067Z"
   },
   {
    "duration": 1688,
    "start_time": "2021-07-30T13:44:15.483Z"
   },
   {
    "duration": 1842,
    "start_time": "2021-07-30T14:14:10.364Z"
   },
   {
    "duration": 2229,
    "start_time": "2021-07-30T14:14:41.850Z"
   },
   {
    "duration": 3621,
    "start_time": "2021-07-30T14:16:55.058Z"
   },
   {
    "duration": 355,
    "start_time": "2021-07-30T19:18:09.557Z"
   },
   {
    "duration": 1038,
    "start_time": "2021-07-30T19:18:17.769Z"
   },
   {
    "duration": 320,
    "start_time": "2021-07-30T19:18:18.809Z"
   },
   {
    "duration": 50,
    "start_time": "2021-07-30T19:18:19.133Z"
   },
   {
    "duration": 217,
    "start_time": "2021-07-30T19:18:19.187Z"
   },
   {
    "duration": 35,
    "start_time": "2021-07-30T19:18:19.407Z"
   },
   {
    "duration": 178,
    "start_time": "2021-07-30T19:18:19.461Z"
   },
   {
    "duration": 34,
    "start_time": "2021-07-30T19:18:19.642Z"
   },
   {
    "duration": 25,
    "start_time": "2021-07-30T19:18:19.679Z"
   },
   {
    "duration": 9,
    "start_time": "2021-07-30T19:18:19.708Z"
   },
   {
    "duration": 75,
    "start_time": "2021-07-30T19:18:19.721Z"
   },
   {
    "duration": 13,
    "start_time": "2021-07-30T19:18:19.799Z"
   },
   {
    "duration": 193,
    "start_time": "2021-07-30T19:18:19.814Z"
   },
   {
    "duration": 962,
    "start_time": "2021-07-30T19:18:20.009Z"
   },
   {
    "duration": 5,
    "start_time": "2021-07-30T19:18:20.974Z"
   },
   {
    "duration": 15,
    "start_time": "2021-07-30T19:18:20.981Z"
   },
   {
    "duration": 13,
    "start_time": "2021-07-30T19:18:20.998Z"
   },
   {
    "duration": 476,
    "start_time": "2021-07-30T19:18:21.014Z"
   },
   {
    "duration": 3,
    "start_time": "2021-07-30T19:18:21.493Z"
   },
   {
    "duration": 12,
    "start_time": "2021-07-30T19:18:21.499Z"
   },
   {
    "duration": 1041,
    "start_time": "2021-07-30T19:18:21.514Z"
   },
   {
    "duration": 531,
    "start_time": "2021-07-30T19:18:22.561Z"
   },
   {
    "duration": 98,
    "start_time": "2021-07-30T19:18:23.095Z"
   },
   {
    "duration": 31,
    "start_time": "2021-07-30T19:18:23.197Z"
   },
   {
    "duration": 45,
    "start_time": "2021-07-30T19:18:23.231Z"
   },
   {
    "duration": 22,
    "start_time": "2021-07-30T19:18:23.279Z"
   },
   {
    "duration": 196,
    "start_time": "2021-07-30T19:18:23.304Z"
   },
   {
    "duration": 101,
    "start_time": "2021-07-30T19:18:23.508Z"
   },
   {
    "duration": 5,
    "start_time": "2021-07-30T19:18:23.613Z"
   },
   {
    "duration": 84,
    "start_time": "2021-07-30T19:18:23.620Z"
   },
   {
    "duration": 7,
    "start_time": "2021-07-30T19:18:23.707Z"
   },
   {
    "duration": 7,
    "start_time": "2021-07-30T19:18:23.717Z"
   },
   {
    "duration": 101,
    "start_time": "2021-07-30T19:18:23.727Z"
   },
   {
    "duration": 70,
    "start_time": "2021-07-30T19:18:23.831Z"
   },
   {
    "duration": 86,
    "start_time": "2021-07-30T19:18:23.904Z"
   },
   {
    "duration": 34,
    "start_time": "2021-07-30T19:18:23.993Z"
   },
   {
    "duration": 8,
    "start_time": "2021-07-30T19:18:24.030Z"
   },
   {
    "duration": 930,
    "start_time": "2021-07-30T19:18:24.066Z"
   },
   {
    "duration": 39,
    "start_time": "2021-07-30T19:18:24.999Z"
   },
   {
    "duration": 4955,
    "start_time": "2021-07-30T19:18:25.041Z"
   },
   {
    "duration": 25,
    "start_time": "2021-07-30T19:18:29.998Z"
   },
   {
    "duration": 598,
    "start_time": "2021-07-30T19:18:30.026Z"
   },
   {
    "duration": 6,
    "start_time": "2021-07-30T19:18:30.628Z"
   },
   {
    "duration": 37,
    "start_time": "2021-07-30T19:18:30.636Z"
   },
   {
    "duration": 8,
    "start_time": "2021-07-30T19:18:30.676Z"
   },
   {
    "duration": 554,
    "start_time": "2021-07-30T19:24:28.524Z"
   },
   {
    "duration": 32,
    "start_time": "2021-07-30T19:25:14.049Z"
   },
   {
    "duration": 373,
    "start_time": "2021-07-30T19:28:07.005Z"
   },
   {
    "duration": 271,
    "start_time": "2021-07-30T19:28:33.137Z"
   },
   {
    "duration": 301,
    "start_time": "2021-07-30T19:30:29.154Z"
   },
   {
    "duration": 30,
    "start_time": "2021-07-30T19:30:52.776Z"
   },
   {
    "duration": 273,
    "start_time": "2021-07-30T19:31:27.977Z"
   },
   {
    "duration": 36,
    "start_time": "2021-07-30T19:31:58.681Z"
   },
   {
    "duration": 276,
    "start_time": "2021-07-30T19:32:41.193Z"
   },
   {
    "duration": 34,
    "start_time": "2021-07-30T19:32:54.490Z"
   },
   {
    "duration": 250,
    "start_time": "2021-07-30T19:33:27.453Z"
   },
   {
    "duration": 28,
    "start_time": "2021-07-30T19:33:59.688Z"
   },
   {
    "duration": 36,
    "start_time": "2021-07-30T19:34:32.015Z"
   },
   {
    "duration": 28,
    "start_time": "2021-07-30T19:34:47.807Z"
   },
   {
    "duration": 37,
    "start_time": "2021-07-30T19:34:55.182Z"
   },
   {
    "duration": 23,
    "start_time": "2021-07-30T19:35:22.870Z"
   },
   {
    "duration": 552,
    "start_time": "2021-07-30T19:35:53.957Z"
   },
   {
    "duration": 279,
    "start_time": "2021-07-30T19:37:07.278Z"
   },
   {
    "duration": 22,
    "start_time": "2021-07-30T19:40:24.660Z"
   },
   {
    "duration": 14,
    "start_time": "2021-07-30T19:45:30.198Z"
   },
   {
    "duration": 23,
    "start_time": "2021-07-30T19:47:04.516Z"
   },
   {
    "duration": 522,
    "start_time": "2021-07-30T19:50:14.778Z"
   },
   {
    "duration": 731,
    "start_time": "2021-07-30T19:52:20.658Z"
   },
   {
    "duration": 607,
    "start_time": "2021-07-30T19:52:32.704Z"
   },
   {
    "duration": 542,
    "start_time": "2021-07-30T19:58:07.077Z"
   },
   {
    "duration": 521,
    "start_time": "2021-07-30T20:03:48.553Z"
   },
   {
    "duration": 28,
    "start_time": "2021-07-30T20:07:09.989Z"
   },
   {
    "duration": 10,
    "start_time": "2021-07-30T20:07:11.621Z"
   },
   {
    "duration": 112,
    "start_time": "2021-07-30T20:07:12.629Z"
   },
   {
    "duration": 9,
    "start_time": "2021-07-30T20:07:22.277Z"
   },
   {
    "duration": 9,
    "start_time": "2021-07-30T20:07:23.980Z"
   },
   {
    "duration": 554,
    "start_time": "2021-07-30T20:07:45.062Z"
   },
   {
    "duration": 293,
    "start_time": "2021-07-30T20:08:03.693Z"
   },
   {
    "duration": 26,
    "start_time": "2021-07-30T20:08:23.732Z"
   },
   {
    "duration": 8,
    "start_time": "2021-07-30T20:08:24.197Z"
   },
   {
    "duration": 9,
    "start_time": "2021-07-30T20:08:25.276Z"
   },
   {
    "duration": 508,
    "start_time": "2021-07-30T20:08:25.837Z"
   },
   {
    "duration": 7,
    "start_time": "2021-07-30T20:10:28.830Z"
   },
   {
    "duration": 10,
    "start_time": "2021-07-30T20:22:21.018Z"
   },
   {
    "duration": 9,
    "start_time": "2021-07-30T20:25:16.856Z"
   },
   {
    "duration": 9,
    "start_time": "2021-07-30T20:30:10.866Z"
   },
   {
    "duration": 24,
    "start_time": "2021-07-30T20:30:13.280Z"
   },
   {
    "duration": 41,
    "start_time": "2021-07-30T20:30:29.982Z"
   },
   {
    "duration": 75,
    "start_time": "2021-07-30T20:30:56.502Z"
   },
   {
    "duration": 23,
    "start_time": "2021-07-30T20:31:51.512Z"
   },
   {
    "duration": 27,
    "start_time": "2021-07-30T20:33:38.438Z"
   },
   {
    "duration": 10,
    "start_time": "2021-07-30T20:34:59.781Z"
   },
   {
    "duration": 9,
    "start_time": "2021-07-30T20:37:01.590Z"
   },
   {
    "duration": 567,
    "start_time": "2021-07-30T20:43:43.470Z"
   },
   {
    "duration": 6,
    "start_time": "2021-07-30T20:46:14.894Z"
   },
   {
    "duration": 7,
    "start_time": "2021-07-30T21:58:48.783Z"
   },
   {
    "duration": 7,
    "start_time": "2021-07-30T21:59:41.034Z"
   },
   {
    "duration": 7,
    "start_time": "2021-07-30T22:00:16.423Z"
   },
   {
    "duration": 7,
    "start_time": "2021-07-30T22:00:33.937Z"
   },
   {
    "duration": 7,
    "start_time": "2021-07-30T22:01:54.724Z"
   },
   {
    "duration": 1322,
    "start_time": "2021-07-30T22:44:57.607Z"
   },
   {
    "duration": 219,
    "start_time": "2021-07-30T22:44:58.932Z"
   },
   {
    "duration": 31,
    "start_time": "2021-07-30T22:44:59.154Z"
   },
   {
    "duration": 190,
    "start_time": "2021-07-30T22:44:59.188Z"
   },
   {
    "duration": 23,
    "start_time": "2021-07-30T22:44:59.380Z"
   },
   {
    "duration": 133,
    "start_time": "2021-07-30T22:44:59.405Z"
   },
   {
    "duration": 28,
    "start_time": "2021-07-30T22:44:59.540Z"
   },
   {
    "duration": 24,
    "start_time": "2021-07-30T22:44:59.572Z"
   },
   {
    "duration": 9,
    "start_time": "2021-07-30T22:44:59.601Z"
   },
   {
    "duration": 81,
    "start_time": "2021-07-30T22:44:59.614Z"
   },
   {
    "duration": 12,
    "start_time": "2021-07-30T22:44:59.699Z"
   },
   {
    "duration": 269,
    "start_time": "2021-07-30T22:44:59.714Z"
   },
   {
    "duration": 957,
    "start_time": "2021-07-30T22:44:59.987Z"
   },
   {
    "duration": 3,
    "start_time": "2021-07-30T22:45:00.948Z"
   },
   {
    "duration": 16,
    "start_time": "2021-07-30T22:45:00.961Z"
   },
   {
    "duration": 11,
    "start_time": "2021-07-30T22:45:00.980Z"
   },
   {
    "duration": 456,
    "start_time": "2021-07-30T22:45:00.994Z"
   },
   {
    "duration": 953,
    "start_time": "2021-07-30T22:45:01.453Z"
   },
   {
    "duration": 527,
    "start_time": "2021-07-30T22:45:02.410Z"
   },
   {
    "duration": 93,
    "start_time": "2021-07-30T22:45:02.941Z"
   },
   {
    "duration": 46,
    "start_time": "2021-07-30T22:45:03.037Z"
   },
   {
    "duration": 25,
    "start_time": "2021-07-30T22:45:03.087Z"
   },
   {
    "duration": 51,
    "start_time": "2021-07-30T22:45:03.120Z"
   },
   {
    "duration": 184,
    "start_time": "2021-07-30T22:45:03.176Z"
   },
   {
    "duration": 101,
    "start_time": "2021-07-30T22:45:03.363Z"
   },
   {
    "duration": 5,
    "start_time": "2021-07-30T22:45:03.467Z"
   },
   {
    "duration": 101,
    "start_time": "2021-07-30T22:45:03.475Z"
   },
   {
    "duration": 9,
    "start_time": "2021-07-30T22:45:03.579Z"
   },
   {
    "duration": 27,
    "start_time": "2021-07-30T22:45:03.591Z"
   },
   {
    "duration": 104,
    "start_time": "2021-07-30T22:45:03.621Z"
   },
   {
    "duration": 112,
    "start_time": "2021-07-30T22:45:03.729Z"
   },
   {
    "duration": 124,
    "start_time": "2021-07-30T22:45:03.844Z"
   },
   {
    "duration": 47,
    "start_time": "2021-07-30T22:45:03.971Z"
   },
   {
    "duration": 7,
    "start_time": "2021-07-30T22:45:04.020Z"
   },
   {
    "duration": 771,
    "start_time": "2021-07-30T22:45:04.029Z"
   },
   {
    "duration": 27,
    "start_time": "2021-07-30T22:45:04.802Z"
   },
   {
    "duration": 3314,
    "start_time": "2021-07-30T22:45:04.832Z"
   },
   {
    "duration": 32,
    "start_time": "2021-07-30T22:45:08.148Z"
   },
   {
    "duration": 8,
    "start_time": "2021-07-30T22:45:08.182Z"
   },
   {
    "duration": 10,
    "start_time": "2021-07-30T22:45:08.192Z"
   },
   {
    "duration": 550,
    "start_time": "2021-07-30T22:45:08.204Z"
   },
   {
    "duration": 90,
    "start_time": "2021-07-30T22:45:08.761Z"
   },
   {
    "duration": 593,
    "start_time": "2021-07-30T22:45:08.260Z"
   },
   {
    "duration": 589,
    "start_time": "2021-07-30T22:45:08.265Z"
   },
   {
    "duration": 586,
    "start_time": "2021-07-30T22:45:08.270Z"
   },
   {
    "duration": 581,
    "start_time": "2021-07-30T22:45:08.276Z"
   },
   {
    "duration": 577,
    "start_time": "2021-07-30T22:45:08.281Z"
   },
   {
    "duration": 574,
    "start_time": "2021-07-30T22:45:08.286Z"
   },
   {
    "duration": 570,
    "start_time": "2021-07-30T22:45:08.291Z"
   },
   {
    "duration": 569,
    "start_time": "2021-07-30T22:45:08.294Z"
   },
   {
    "duration": 1393,
    "start_time": "2021-07-30T22:50:06.339Z"
   },
   {
    "duration": 231,
    "start_time": "2021-07-30T22:50:07.735Z"
   },
   {
    "duration": 29,
    "start_time": "2021-07-30T22:50:07.969Z"
   },
   {
    "duration": 200,
    "start_time": "2021-07-30T22:50:08.001Z"
   },
   {
    "duration": 26,
    "start_time": "2021-07-30T22:50:08.203Z"
   },
   {
    "duration": 142,
    "start_time": "2021-07-30T22:50:08.231Z"
   },
   {
    "duration": 19,
    "start_time": "2021-07-30T22:50:08.376Z"
   },
   {
    "duration": 25,
    "start_time": "2021-07-30T22:50:08.400Z"
   },
   {
    "duration": 8,
    "start_time": "2021-07-30T22:50:08.429Z"
   },
   {
    "duration": 71,
    "start_time": "2021-07-30T22:50:08.463Z"
   },
   {
    "duration": 11,
    "start_time": "2021-07-30T22:50:08.537Z"
   },
   {
    "duration": 169,
    "start_time": "2021-07-30T22:50:08.551Z"
   },
   {
    "duration": 639,
    "start_time": "2021-07-30T22:50:08.722Z"
   },
   {
    "duration": 3,
    "start_time": "2021-07-30T22:50:09.364Z"
   },
   {
    "duration": 9,
    "start_time": "2021-07-30T22:50:09.369Z"
   },
   {
    "duration": 13,
    "start_time": "2021-07-30T22:50:09.380Z"
   },
   {
    "duration": 337,
    "start_time": "2021-07-30T22:50:09.395Z"
   },
   {
    "duration": 644,
    "start_time": "2021-07-30T22:50:09.735Z"
   },
   {
    "duration": 382,
    "start_time": "2021-07-30T22:50:10.381Z"
   },
   {
    "duration": 73,
    "start_time": "2021-07-30T22:50:10.765Z"
   },
   {
    "duration": 41,
    "start_time": "2021-07-30T22:50:10.841Z"
   },
   {
    "duration": 19,
    "start_time": "2021-07-30T22:50:10.884Z"
   },
   {
    "duration": 16,
    "start_time": "2021-07-30T22:50:10.908Z"
   },
   {
    "duration": 126,
    "start_time": "2021-07-30T22:50:10.964Z"
   },
   {
    "duration": 79,
    "start_time": "2021-07-30T22:50:11.093Z"
   },
   {
    "duration": 5,
    "start_time": "2021-07-30T22:50:11.175Z"
   },
   {
    "duration": 81,
    "start_time": "2021-07-30T22:50:11.183Z"
   },
   {
    "duration": 7,
    "start_time": "2021-07-30T22:50:11.266Z"
   },
   {
    "duration": 9,
    "start_time": "2021-07-30T22:50:11.275Z"
   },
   {
    "duration": 84,
    "start_time": "2021-07-30T22:50:11.286Z"
   },
   {
    "duration": 69,
    "start_time": "2021-07-30T22:50:11.372Z"
   },
   {
    "duration": 87,
    "start_time": "2021-07-30T22:50:11.443Z"
   },
   {
    "duration": 51,
    "start_time": "2021-07-30T22:50:11.533Z"
   },
   {
    "duration": 8,
    "start_time": "2021-07-30T22:50:11.587Z"
   },
   {
    "duration": 776,
    "start_time": "2021-07-30T22:50:11.598Z"
   },
   {
    "duration": 34,
    "start_time": "2021-07-30T22:50:12.377Z"
   },
   {
    "duration": 3384,
    "start_time": "2021-07-30T22:50:12.415Z"
   },
   {
    "duration": 27,
    "start_time": "2021-07-30T22:50:15.802Z"
   },
   {
    "duration": 30,
    "start_time": "2021-07-30T22:50:15.832Z"
   },
   {
    "duration": 10,
    "start_time": "2021-07-30T22:50:15.865Z"
   },
   {
    "duration": 532,
    "start_time": "2021-07-30T22:50:15.877Z"
   },
   {
    "duration": 81,
    "start_time": "2021-07-30T22:50:16.412Z"
   },
   {
    "duration": 673,
    "start_time": "2021-07-30T22:50:15.822Z"
   },
   {
    "duration": 669,
    "start_time": "2021-07-30T22:50:15.828Z"
   },
   {
    "duration": 665,
    "start_time": "2021-07-30T22:50:15.833Z"
   },
   {
    "duration": 663,
    "start_time": "2021-07-30T22:50:15.837Z"
   },
   {
    "duration": 658,
    "start_time": "2021-07-30T22:50:15.843Z"
   },
   {
    "duration": 641,
    "start_time": "2021-07-30T22:50:15.862Z"
   },
   {
    "duration": 636,
    "start_time": "2021-07-30T22:50:15.868Z"
   },
   {
    "duration": 635,
    "start_time": "2021-07-30T22:50:15.871Z"
   },
   {
    "duration": 6,
    "start_time": "2021-07-30T22:52:55.114Z"
   },
   {
    "duration": 6,
    "start_time": "2021-07-30T22:53:29.163Z"
   },
   {
    "duration": 1330,
    "start_time": "2021-07-30T22:57:08.683Z"
   },
   {
    "duration": 235,
    "start_time": "2021-07-30T22:57:10.016Z"
   },
   {
    "duration": 34,
    "start_time": "2021-07-30T22:57:10.254Z"
   },
   {
    "duration": 208,
    "start_time": "2021-07-30T22:57:10.291Z"
   },
   {
    "duration": 22,
    "start_time": "2021-07-30T22:57:10.501Z"
   },
   {
    "duration": 148,
    "start_time": "2021-07-30T22:57:10.525Z"
   },
   {
    "duration": 19,
    "start_time": "2021-07-30T22:57:10.675Z"
   },
   {
    "duration": 24,
    "start_time": "2021-07-30T22:57:10.698Z"
   },
   {
    "duration": 9,
    "start_time": "2021-07-30T22:57:10.725Z"
   },
   {
    "duration": 71,
    "start_time": "2021-07-30T22:57:10.763Z"
   },
   {
    "duration": 9,
    "start_time": "2021-07-30T22:57:10.836Z"
   },
   {
    "duration": 169,
    "start_time": "2021-07-30T22:57:10.847Z"
   },
   {
    "duration": 626,
    "start_time": "2021-07-30T22:57:11.018Z"
   },
   {
    "duration": 2,
    "start_time": "2021-07-30T22:57:11.647Z"
   },
   {
    "duration": 12,
    "start_time": "2021-07-30T22:57:11.651Z"
   },
   {
    "duration": 11,
    "start_time": "2021-07-30T22:57:11.666Z"
   },
   {
    "duration": 334,
    "start_time": "2021-07-30T22:57:11.679Z"
   },
   {
    "duration": 787,
    "start_time": "2021-07-30T22:57:12.016Z"
   },
   {
    "duration": 376,
    "start_time": "2021-07-30T22:57:12.805Z"
   },
   {
    "duration": 89,
    "start_time": "2021-07-30T22:57:13.184Z"
   },
   {
    "duration": 25,
    "start_time": "2021-07-30T22:57:13.275Z"
   },
   {
    "duration": 24,
    "start_time": "2021-07-30T22:57:13.303Z"
   },
   {
    "duration": 25,
    "start_time": "2021-07-30T22:57:13.365Z"
   },
   {
    "duration": 210,
    "start_time": "2021-07-30T22:57:13.395Z"
   },
   {
    "duration": 107,
    "start_time": "2021-07-30T22:57:13.608Z"
   },
   {
    "duration": 4,
    "start_time": "2021-07-30T22:57:13.719Z"
   },
   {
    "duration": 107,
    "start_time": "2021-07-30T22:57:13.727Z"
   },
   {
    "duration": 11,
    "start_time": "2021-07-30T22:57:13.838Z"
   },
   {
    "duration": 8,
    "start_time": "2021-07-30T22:57:13.862Z"
   },
   {
    "duration": 67,
    "start_time": "2021-07-30T22:57:13.872Z"
   },
   {
    "duration": 80,
    "start_time": "2021-07-30T22:57:13.942Z"
   },
   {
    "duration": 80,
    "start_time": "2021-07-30T22:57:14.024Z"
   },
   {
    "duration": 34,
    "start_time": "2021-07-30T22:57:14.106Z"
   },
   {
    "duration": 23,
    "start_time": "2021-07-30T22:57:14.142Z"
   },
   {
    "duration": 724,
    "start_time": "2021-07-30T22:57:14.167Z"
   },
   {
    "duration": 25,
    "start_time": "2021-07-30T22:57:14.894Z"
   },
   {
    "duration": 3375,
    "start_time": "2021-07-30T22:57:14.921Z"
   },
   {
    "duration": 28,
    "start_time": "2021-07-30T22:57:18.298Z"
   },
   {
    "duration": 11,
    "start_time": "2021-07-30T22:57:18.328Z"
   },
   {
    "duration": 9,
    "start_time": "2021-07-30T22:57:18.362Z"
   },
   {
    "duration": 525,
    "start_time": "2021-07-30T22:57:18.374Z"
   },
   {
    "duration": 7,
    "start_time": "2021-07-30T22:57:18.902Z"
   },
   {
    "duration": 10,
    "start_time": "2021-07-30T22:57:18.911Z"
   },
   {
    "duration": 51,
    "start_time": "2021-07-30T22:57:18.924Z"
   },
   {
    "duration": 9,
    "start_time": "2021-07-30T22:57:18.977Z"
   },
   {
    "duration": 99,
    "start_time": "2021-07-30T22:57:18.988Z"
   },
   {
    "duration": 653,
    "start_time": "2021-07-30T22:57:18.437Z"
   },
   {
    "duration": 649,
    "start_time": "2021-07-30T22:57:18.443Z"
   },
   {
    "duration": 641,
    "start_time": "2021-07-30T22:57:18.452Z"
   },
   {
    "duration": 1350,
    "start_time": "2021-07-30T22:58:21.965Z"
   },
   {
    "duration": 227,
    "start_time": "2021-07-30T22:58:23.317Z"
   },
   {
    "duration": 35,
    "start_time": "2021-07-30T22:58:23.546Z"
   },
   {
    "duration": 201,
    "start_time": "2021-07-30T22:58:23.584Z"
   },
   {
    "duration": 22,
    "start_time": "2021-07-30T22:58:23.787Z"
   },
   {
    "duration": 139,
    "start_time": "2021-07-30T22:58:23.812Z"
   },
   {
    "duration": 24,
    "start_time": "2021-07-30T22:58:23.953Z"
   },
   {
    "duration": 27,
    "start_time": "2021-07-30T22:58:23.981Z"
   },
   {
    "duration": 13,
    "start_time": "2021-07-30T22:58:24.011Z"
   },
   {
    "duration": 55,
    "start_time": "2021-07-30T22:58:24.026Z"
   },
   {
    "duration": 9,
    "start_time": "2021-07-30T22:58:24.083Z"
   },
   {
    "duration": 185,
    "start_time": "2021-07-30T22:58:24.095Z"
   },
   {
    "duration": 652,
    "start_time": "2021-07-30T22:58:24.283Z"
   },
   {
    "duration": 3,
    "start_time": "2021-07-30T22:58:24.938Z"
   },
   {
    "duration": 18,
    "start_time": "2021-07-30T22:58:24.943Z"
   },
   {
    "duration": 3,
    "start_time": "2021-07-30T22:58:24.964Z"
   },
   {
    "duration": 337,
    "start_time": "2021-07-30T22:58:24.970Z"
   },
   {
    "duration": 1102,
    "start_time": "2021-07-30T22:58:25.310Z"
   },
   {
    "duration": 603,
    "start_time": "2021-07-30T22:58:26.415Z"
   },
   {
    "duration": 107,
    "start_time": "2021-07-30T22:58:27.022Z"
   },
   {
    "duration": 42,
    "start_time": "2021-07-30T22:58:27.132Z"
   },
   {
    "duration": 26,
    "start_time": "2021-07-30T22:58:27.178Z"
   },
   {
    "duration": 48,
    "start_time": "2021-07-30T22:58:27.214Z"
   },
   {
    "duration": 203,
    "start_time": "2021-07-30T22:58:27.266Z"
   },
   {
    "duration": 109,
    "start_time": "2021-07-30T22:58:27.472Z"
   },
   {
    "duration": 5,
    "start_time": "2021-07-30T22:58:27.584Z"
   },
   {
    "duration": 110,
    "start_time": "2021-07-30T22:58:27.592Z"
   },
   {
    "duration": 11,
    "start_time": "2021-07-30T22:58:27.705Z"
   },
   {
    "duration": 28,
    "start_time": "2021-07-30T22:58:27.719Z"
   },
   {
    "duration": 83,
    "start_time": "2021-07-30T22:58:27.750Z"
   },
   {
    "duration": 78,
    "start_time": "2021-07-30T22:58:27.835Z"
   },
   {
    "duration": 98,
    "start_time": "2021-07-30T22:58:27.915Z"
   },
   {
    "duration": 35,
    "start_time": "2021-07-30T22:58:28.063Z"
   },
   {
    "duration": 6,
    "start_time": "2021-07-30T22:58:28.101Z"
   },
   {
    "duration": 759,
    "start_time": "2021-07-30T22:58:28.110Z"
   },
   {
    "duration": 27,
    "start_time": "2021-07-30T22:58:28.871Z"
   },
   {
    "duration": 4157,
    "start_time": "2021-07-30T22:58:28.900Z"
   },
   {
    "duration": 27,
    "start_time": "2021-07-30T22:58:33.062Z"
   },
   {
    "duration": 8,
    "start_time": "2021-07-30T22:58:33.091Z"
   },
   {
    "duration": 10,
    "start_time": "2021-07-30T22:58:33.102Z"
   },
   {
    "duration": 566,
    "start_time": "2021-07-30T22:58:33.115Z"
   },
   {
    "duration": 7,
    "start_time": "2021-07-30T22:58:33.684Z"
   },
   {
    "duration": 10,
    "start_time": "2021-07-30T22:58:33.693Z"
   },
   {
    "duration": 27,
    "start_time": "2021-07-30T22:58:33.706Z"
   },
   {
    "duration": 34,
    "start_time": "2021-07-30T22:58:33.735Z"
   },
   {
    "duration": 10,
    "start_time": "2021-07-30T22:58:33.772Z"
   },
   {
    "duration": 581,
    "start_time": "2021-07-30T22:58:33.785Z"
   },
   {
    "duration": 10,
    "start_time": "2021-07-30T22:58:34.369Z"
   },
   {
    "duration": 1440,
    "start_time": "2021-07-30T23:01:41.235Z"
   },
   {
    "duration": 236,
    "start_time": "2021-07-30T23:01:42.678Z"
   },
   {
    "duration": 28,
    "start_time": "2021-07-30T23:01:42.917Z"
   },
   {
    "duration": 185,
    "start_time": "2021-07-30T23:01:42.963Z"
   },
   {
    "duration": 31,
    "start_time": "2021-07-30T23:01:43.151Z"
   },
   {
    "duration": 201,
    "start_time": "2021-07-30T23:01:43.185Z"
   },
   {
    "duration": 30,
    "start_time": "2021-07-30T23:01:43.390Z"
   },
   {
    "duration": 39,
    "start_time": "2021-07-30T23:01:43.425Z"
   },
   {
    "duration": 10,
    "start_time": "2021-07-30T23:01:43.467Z"
   },
   {
    "duration": 63,
    "start_time": "2021-07-30T23:01:43.480Z"
   },
   {
    "duration": 9,
    "start_time": "2021-07-30T23:01:43.545Z"
   },
   {
    "duration": 175,
    "start_time": "2021-07-30T23:01:43.556Z"
   },
   {
    "duration": 640,
    "start_time": "2021-07-30T23:01:43.733Z"
   },
   {
    "duration": 3,
    "start_time": "2021-07-30T23:01:44.375Z"
   },
   {
    "duration": 6,
    "start_time": "2021-07-30T23:01:44.381Z"
   },
   {
    "duration": 7,
    "start_time": "2021-07-30T23:01:44.390Z"
   },
   {
    "duration": 355,
    "start_time": "2021-07-30T23:01:44.399Z"
   },
   {
    "duration": 663,
    "start_time": "2021-07-30T23:01:44.756Z"
   },
   {
    "duration": 385,
    "start_time": "2021-07-30T23:01:45.422Z"
   },
   {
    "duration": 90,
    "start_time": "2021-07-30T23:01:45.810Z"
   },
   {
    "duration": 27,
    "start_time": "2021-07-30T23:01:45.902Z"
   },
   {
    "duration": 40,
    "start_time": "2021-07-30T23:01:45.932Z"
   },
   {
    "duration": 17,
    "start_time": "2021-07-30T23:01:45.979Z"
   },
   {
    "duration": 155,
    "start_time": "2021-07-30T23:01:46.000Z"
   },
   {
    "duration": 62,
    "start_time": "2021-07-30T23:01:46.158Z"
   },
   {
    "duration": 5,
    "start_time": "2021-07-30T23:01:46.224Z"
   },
   {
    "duration": 83,
    "start_time": "2021-07-30T23:01:46.231Z"
   },
   {
    "duration": 7,
    "start_time": "2021-07-30T23:01:46.316Z"
   },
   {
    "duration": 7,
    "start_time": "2021-07-30T23:01:46.326Z"
   },
   {
    "duration": 136,
    "start_time": "2021-07-30T23:01:46.335Z"
   },
   {
    "duration": 67,
    "start_time": "2021-07-30T23:01:46.474Z"
   },
   {
    "duration": 67,
    "start_time": "2021-07-30T23:01:46.562Z"
   },
   {
    "duration": 51,
    "start_time": "2021-07-30T23:01:46.632Z"
   },
   {
    "duration": 8,
    "start_time": "2021-07-30T23:01:46.685Z"
   },
   {
    "duration": 767,
    "start_time": "2021-07-30T23:01:46.695Z"
   },
   {
    "duration": 27,
    "start_time": "2021-07-30T23:01:47.464Z"
   },
   {
    "duration": 3403,
    "start_time": "2021-07-30T23:01:47.494Z"
   },
   {
    "duration": 29,
    "start_time": "2021-07-30T23:01:50.900Z"
   },
   {
    "duration": 35,
    "start_time": "2021-07-30T23:01:50.931Z"
   },
   {
    "duration": 9,
    "start_time": "2021-07-30T23:01:50.969Z"
   },
   {
    "duration": 539,
    "start_time": "2021-07-30T23:01:50.980Z"
   },
   {
    "duration": 9,
    "start_time": "2021-07-30T23:01:51.523Z"
   },
   {
    "duration": 34,
    "start_time": "2021-07-30T23:01:51.535Z"
   },
   {
    "duration": 39,
    "start_time": "2021-07-30T23:01:51.572Z"
   },
   {
    "duration": 11,
    "start_time": "2021-07-30T23:01:51.614Z"
   },
   {
    "duration": 36,
    "start_time": "2021-07-30T23:01:51.627Z"
   },
   {
    "duration": 545,
    "start_time": "2021-07-30T23:01:51.666Z"
   },
   {
    "duration": 7,
    "start_time": "2021-07-30T23:01:52.214Z"
   },
   {
    "duration": 116,
    "start_time": "2021-07-31T18:46:34.410Z"
   },
   {
    "duration": 1540,
    "start_time": "2021-07-31T19:04:37.015Z"
   },
   {
    "duration": 230,
    "start_time": "2021-07-31T19:04:38.558Z"
   },
   {
    "duration": 27,
    "start_time": "2021-07-31T19:04:38.791Z"
   },
   {
    "duration": 194,
    "start_time": "2021-07-31T19:04:38.821Z"
   },
   {
    "duration": 22,
    "start_time": "2021-07-31T19:04:39.017Z"
   },
   {
    "duration": 146,
    "start_time": "2021-07-31T19:04:39.041Z"
   },
   {
    "duration": 18,
    "start_time": "2021-07-31T19:04:39.189Z"
   },
   {
    "duration": 24,
    "start_time": "2021-07-31T19:04:39.212Z"
   },
   {
    "duration": 30,
    "start_time": "2021-07-31T19:04:39.239Z"
   },
   {
    "duration": 52,
    "start_time": "2021-07-31T19:04:39.271Z"
   },
   {
    "duration": 8,
    "start_time": "2021-07-31T19:04:39.325Z"
   },
   {
    "duration": 159,
    "start_time": "2021-07-31T19:04:39.336Z"
   },
   {
    "duration": 646,
    "start_time": "2021-07-31T19:04:39.497Z"
   },
   {
    "duration": 3,
    "start_time": "2021-07-31T19:04:40.146Z"
   },
   {
    "duration": 16,
    "start_time": "2021-07-31T19:04:40.151Z"
   },
   {
    "duration": 16,
    "start_time": "2021-07-31T19:04:40.169Z"
   },
   {
    "duration": 333,
    "start_time": "2021-07-31T19:04:40.187Z"
   },
   {
    "duration": 621,
    "start_time": "2021-07-31T19:04:40.522Z"
   },
   {
    "duration": 375,
    "start_time": "2021-07-31T19:04:41.145Z"
   },
   {
    "duration": 84,
    "start_time": "2021-07-31T19:04:41.523Z"
   },
   {
    "duration": 24,
    "start_time": "2021-07-31T19:04:41.612Z"
   },
   {
    "duration": 34,
    "start_time": "2021-07-31T19:04:41.639Z"
   },
   {
    "duration": 15,
    "start_time": "2021-07-31T19:04:41.679Z"
   },
   {
    "duration": 231,
    "start_time": "2021-07-31T19:04:41.697Z"
   },
   {
    "duration": 69,
    "start_time": "2021-07-31T19:04:41.930Z"
   },
   {
    "duration": 3,
    "start_time": "2021-07-31T19:04:42.001Z"
   },
   {
    "duration": 71,
    "start_time": "2021-07-31T19:04:42.006Z"
   },
   {
    "duration": 7,
    "start_time": "2021-07-31T19:04:42.079Z"
   },
   {
    "duration": 15,
    "start_time": "2021-07-31T19:04:42.088Z"
   },
   {
    "duration": 82,
    "start_time": "2021-07-31T19:04:42.106Z"
   },
   {
    "duration": 79,
    "start_time": "2021-07-31T19:04:42.190Z"
   },
   {
    "duration": 68,
    "start_time": "2021-07-31T19:04:42.271Z"
   },
   {
    "duration": 53,
    "start_time": "2021-07-31T19:04:42.341Z"
   },
   {
    "duration": 7,
    "start_time": "2021-07-31T19:04:42.396Z"
   },
   {
    "duration": 748,
    "start_time": "2021-07-31T19:04:42.405Z"
   },
   {
    "duration": 25,
    "start_time": "2021-07-31T19:04:43.168Z"
   },
   {
    "duration": 102,
    "start_time": "2021-07-31T19:04:43.195Z"
   },
   {
    "duration": -44,
    "start_time": "2021-07-31T19:04:43.344Z"
   },
   {
    "duration": -47,
    "start_time": "2021-07-31T19:04:43.348Z"
   },
   {
    "duration": -59,
    "start_time": "2021-07-31T19:04:43.362Z"
   },
   {
    "duration": -62,
    "start_time": "2021-07-31T19:04:43.366Z"
   },
   {
    "duration": -63,
    "start_time": "2021-07-31T19:04:43.369Z"
   },
   {
    "duration": -66,
    "start_time": "2021-07-31T19:04:43.373Z"
   },
   {
    "duration": -67,
    "start_time": "2021-07-31T19:04:43.375Z"
   },
   {
    "duration": -68,
    "start_time": "2021-07-31T19:04:43.378Z"
   },
   {
    "duration": -69,
    "start_time": "2021-07-31T19:04:43.380Z"
   },
   {
    "duration": -74,
    "start_time": "2021-07-31T19:04:43.387Z"
   },
   {
    "duration": -76,
    "start_time": "2021-07-31T19:04:43.391Z"
   },
   {
    "duration": -78,
    "start_time": "2021-07-31T19:04:43.394Z"
   },
   {
    "duration": 4,
    "start_time": "2021-07-31T19:09:54.922Z"
   },
   {
    "duration": 242,
    "start_time": "2021-07-31T19:09:54.928Z"
   },
   {
    "duration": 26,
    "start_time": "2021-07-31T19:09:55.173Z"
   },
   {
    "duration": 195,
    "start_time": "2021-07-31T19:09:55.202Z"
   },
   {
    "duration": 22,
    "start_time": "2021-07-31T19:09:55.399Z"
   },
   {
    "duration": 148,
    "start_time": "2021-07-31T19:09:55.423Z"
   },
   {
    "duration": 20,
    "start_time": "2021-07-31T19:09:55.573Z"
   },
   {
    "duration": 24,
    "start_time": "2021-07-31T19:09:55.597Z"
   },
   {
    "duration": 8,
    "start_time": "2021-07-31T19:09:55.624Z"
   },
   {
    "duration": 63,
    "start_time": "2021-07-31T19:09:55.635Z"
   },
   {
    "duration": 8,
    "start_time": "2021-07-31T19:09:55.701Z"
   },
   {
    "duration": 166,
    "start_time": "2021-07-31T19:09:55.712Z"
   },
   {
    "duration": 643,
    "start_time": "2021-07-31T19:09:55.880Z"
   },
   {
    "duration": 3,
    "start_time": "2021-07-31T19:09:56.525Z"
   },
   {
    "duration": 7,
    "start_time": "2021-07-31T19:09:56.530Z"
   },
   {
    "duration": 8,
    "start_time": "2021-07-31T19:09:56.540Z"
   },
   {
    "duration": 327,
    "start_time": "2021-07-31T19:09:56.567Z"
   },
   {
    "duration": 643,
    "start_time": "2021-07-31T19:09:56.896Z"
   },
   {
    "duration": 377,
    "start_time": "2021-07-31T19:09:57.542Z"
   },
   {
    "duration": 102,
    "start_time": "2021-07-31T19:09:57.922Z"
   },
   {
    "duration": 26,
    "start_time": "2021-07-31T19:09:58.026Z"
   },
   {
    "duration": 21,
    "start_time": "2021-07-31T19:09:58.068Z"
   },
   {
    "duration": 19,
    "start_time": "2021-07-31T19:09:58.096Z"
   },
   {
    "duration": 149,
    "start_time": "2021-07-31T19:09:58.119Z"
   },
   {
    "duration": 60,
    "start_time": "2021-07-31T19:09:58.271Z"
   },
   {
    "duration": 4,
    "start_time": "2021-07-31T19:09:58.333Z"
   },
   {
    "duration": 74,
    "start_time": "2021-07-31T19:09:58.339Z"
   },
   {
    "duration": 8,
    "start_time": "2021-07-31T19:09:58.416Z"
   },
   {
    "duration": 40,
    "start_time": "2021-07-31T19:09:58.427Z"
   },
   {
    "duration": 68,
    "start_time": "2021-07-31T19:09:58.470Z"
   },
   {
    "duration": 78,
    "start_time": "2021-07-31T19:09:58.540Z"
   },
   {
    "duration": 83,
    "start_time": "2021-07-31T19:09:58.620Z"
   },
   {
    "duration": 33,
    "start_time": "2021-07-31T19:09:58.706Z"
   },
   {
    "duration": 30,
    "start_time": "2021-07-31T19:09:58.742Z"
   },
   {
    "duration": 745,
    "start_time": "2021-07-31T19:09:58.774Z"
   },
   {
    "duration": 26,
    "start_time": "2021-07-31T19:09:59.521Z"
   },
   {
    "duration": 3447,
    "start_time": "2021-07-31T19:09:59.567Z"
   },
   {
    "duration": 30,
    "start_time": "2021-07-31T19:10:03.017Z"
   },
   {
    "duration": 22,
    "start_time": "2021-07-31T19:10:03.050Z"
   },
   {
    "duration": 35,
    "start_time": "2021-07-31T19:10:03.075Z"
   },
   {
    "duration": 533,
    "start_time": "2021-07-31T19:10:03.112Z"
   },
   {
    "duration": 7,
    "start_time": "2021-07-31T19:10:03.647Z"
   },
   {
    "duration": 9,
    "start_time": "2021-07-31T19:10:03.667Z"
   },
   {
    "duration": 33,
    "start_time": "2021-07-31T19:10:03.678Z"
   },
   {
    "duration": 8,
    "start_time": "2021-07-31T19:10:03.714Z"
   },
   {
    "duration": 13,
    "start_time": "2021-07-31T19:10:03.724Z"
   },
   {
    "duration": 557,
    "start_time": "2021-07-31T19:10:03.739Z"
   },
   {
    "duration": 7,
    "start_time": "2021-07-31T19:10:04.298Z"
   },
   {
    "duration": 6,
    "start_time": "2021-07-31T19:10:47.735Z"
   },
   {
    "duration": 96,
    "start_time": "2021-07-31T19:13:57.894Z"
   },
   {
    "duration": 265,
    "start_time": "2021-08-01T23:30:12.768Z"
   },
   {
    "duration": 929,
    "start_time": "2021-08-01T23:30:19.339Z"
   },
   {
    "duration": 156,
    "start_time": "2021-08-01T23:30:20.270Z"
   },
   {
    "duration": 18,
    "start_time": "2021-08-01T23:30:20.428Z"
   },
   {
    "duration": 124,
    "start_time": "2021-08-01T23:30:20.448Z"
   },
   {
    "duration": 19,
    "start_time": "2021-08-01T23:30:20.574Z"
   },
   {
    "duration": 84,
    "start_time": "2021-08-01T23:30:20.595Z"
   },
   {
    "duration": 13,
    "start_time": "2021-08-01T23:30:20.681Z"
   },
   {
    "duration": 19,
    "start_time": "2021-08-01T23:30:20.696Z"
   },
   {
    "duration": 5,
    "start_time": "2021-08-01T23:30:20.717Z"
   },
   {
    "duration": 39,
    "start_time": "2021-08-01T23:30:20.723Z"
   },
   {
    "duration": 5,
    "start_time": "2021-08-01T23:30:20.764Z"
   },
   {
    "duration": 109,
    "start_time": "2021-08-01T23:30:20.770Z"
   },
   {
    "duration": 334,
    "start_time": "2021-08-01T23:30:20.881Z"
   },
   {
    "duration": 2,
    "start_time": "2021-08-01T23:30:21.217Z"
   },
   {
    "duration": 8,
    "start_time": "2021-08-01T23:30:21.220Z"
   },
   {
    "duration": 5,
    "start_time": "2021-08-01T23:30:21.229Z"
   },
   {
    "duration": 477,
    "start_time": "2021-08-01T23:30:21.236Z"
   },
   {
    "duration": -76,
    "start_time": "2021-08-01T23:30:21.791Z"
   },
   {
    "duration": -78,
    "start_time": "2021-08-01T23:30:21.794Z"
   },
   {
    "duration": -81,
    "start_time": "2021-08-01T23:30:21.798Z"
   },
   {
    "duration": -84,
    "start_time": "2021-08-01T23:30:21.802Z"
   },
   {
    "duration": -94,
    "start_time": "2021-08-01T23:30:21.813Z"
   },
   {
    "duration": -97,
    "start_time": "2021-08-01T23:30:21.817Z"
   },
   {
    "duration": -99,
    "start_time": "2021-08-01T23:30:21.820Z"
   },
   {
    "duration": -103,
    "start_time": "2021-08-01T23:30:21.824Z"
   },
   {
    "duration": -105,
    "start_time": "2021-08-01T23:30:21.827Z"
   },
   {
    "duration": -107,
    "start_time": "2021-08-01T23:30:21.830Z"
   },
   {
    "duration": -110,
    "start_time": "2021-08-01T23:30:21.834Z"
   },
   {
    "duration": -114,
    "start_time": "2021-08-01T23:30:21.839Z"
   },
   {
    "duration": -117,
    "start_time": "2021-08-01T23:30:21.843Z"
   },
   {
    "duration": -120,
    "start_time": "2021-08-01T23:30:21.847Z"
   },
   {
    "duration": -122,
    "start_time": "2021-08-01T23:30:21.849Z"
   },
   {
    "duration": -124,
    "start_time": "2021-08-01T23:30:21.852Z"
   },
   {
    "duration": -126,
    "start_time": "2021-08-01T23:30:21.855Z"
   },
   {
    "duration": -128,
    "start_time": "2021-08-01T23:30:21.858Z"
   },
   {
    "duration": -130,
    "start_time": "2021-08-01T23:30:21.861Z"
   },
   {
    "duration": -134,
    "start_time": "2021-08-01T23:30:21.866Z"
   },
   {
    "duration": -137,
    "start_time": "2021-08-01T23:30:21.869Z"
   },
   {
    "duration": -139,
    "start_time": "2021-08-01T23:30:21.872Z"
   },
   {
    "duration": -141,
    "start_time": "2021-08-01T23:30:21.875Z"
   },
   {
    "duration": -145,
    "start_time": "2021-08-01T23:30:21.879Z"
   },
   {
    "duration": -146,
    "start_time": "2021-08-01T23:30:21.882Z"
   },
   {
    "duration": -154,
    "start_time": "2021-08-01T23:30:21.891Z"
   },
   {
    "duration": -157,
    "start_time": "2021-08-01T23:30:21.894Z"
   },
   {
    "duration": -159,
    "start_time": "2021-08-01T23:30:21.898Z"
   },
   {
    "duration": -162,
    "start_time": "2021-08-01T23:30:21.901Z"
   },
   {
    "duration": -164,
    "start_time": "2021-08-01T23:30:21.905Z"
   },
   {
    "duration": -168,
    "start_time": "2021-08-01T23:30:21.910Z"
   },
   {
    "duration": 4072,
    "start_time": "2021-08-01T23:31:37.187Z"
   },
   {
    "duration": 176,
    "start_time": "2021-08-01T23:35:44.560Z"
   },
   {
    "duration": 76,
    "start_time": "2021-08-01T23:45:53.081Z"
   },
   {
    "duration": 71,
    "start_time": "2021-08-01T23:46:32.503Z"
   },
   {
    "duration": 81,
    "start_time": "2021-08-01T23:46:43.037Z"
   },
   {
    "duration": 977,
    "start_time": "2021-08-01T23:46:52.589Z"
   },
   {
    "duration": 152,
    "start_time": "2021-08-01T23:46:53.568Z"
   },
   {
    "duration": 18,
    "start_time": "2021-08-01T23:46:53.722Z"
   },
   {
    "duration": 123,
    "start_time": "2021-08-01T23:46:53.742Z"
   },
   {
    "duration": 14,
    "start_time": "2021-08-01T23:46:53.867Z"
   },
   {
    "duration": 84,
    "start_time": "2021-08-01T23:46:53.891Z"
   },
   {
    "duration": 14,
    "start_time": "2021-08-01T23:46:53.977Z"
   },
   {
    "duration": 19,
    "start_time": "2021-08-01T23:46:53.993Z"
   },
   {
    "duration": 5,
    "start_time": "2021-08-01T23:46:54.013Z"
   },
   {
    "duration": 39,
    "start_time": "2021-08-01T23:46:54.020Z"
   },
   {
    "duration": 5,
    "start_time": "2021-08-01T23:46:54.061Z"
   },
   {
    "duration": 109,
    "start_time": "2021-08-01T23:46:54.067Z"
   },
   {
    "duration": 329,
    "start_time": "2021-08-01T23:46:54.177Z"
   },
   {
    "duration": 2,
    "start_time": "2021-08-01T23:46:54.508Z"
   },
   {
    "duration": 6,
    "start_time": "2021-08-01T23:46:54.512Z"
   },
   {
    "duration": 4,
    "start_time": "2021-08-01T23:46:54.520Z"
   },
   {
    "duration": 189,
    "start_time": "2021-08-01T23:46:54.526Z"
   },
   {
    "duration": 79,
    "start_time": "2021-08-01T23:46:54.716Z"
   },
   {
    "duration": -83,
    "start_time": "2021-08-01T23:46:54.881Z"
   },
   {
    "duration": -86,
    "start_time": "2021-08-01T23:46:54.885Z"
   },
   {
    "duration": -90,
    "start_time": "2021-08-01T23:46:54.889Z"
   },
   {
    "duration": -93,
    "start_time": "2021-08-01T23:46:54.893Z"
   },
   {
    "duration": -96,
    "start_time": "2021-08-01T23:46:54.897Z"
   },
   {
    "duration": -99,
    "start_time": "2021-08-01T23:46:54.901Z"
   },
   {
    "duration": -103,
    "start_time": "2021-08-01T23:46:54.905Z"
   },
   {
    "duration": -105,
    "start_time": "2021-08-01T23:46:54.908Z"
   },
   {
    "duration": -108,
    "start_time": "2021-08-01T23:46:54.911Z"
   },
   {
    "duration": -109,
    "start_time": "2021-08-01T23:46:54.913Z"
   },
   {
    "duration": -112,
    "start_time": "2021-08-01T23:46:54.916Z"
   },
   {
    "duration": -119,
    "start_time": "2021-08-01T23:46:54.924Z"
   },
   {
    "duration": -122,
    "start_time": "2021-08-01T23:46:54.927Z"
   },
   {
    "duration": -124,
    "start_time": "2021-08-01T23:46:54.930Z"
   },
   {
    "duration": -126,
    "start_time": "2021-08-01T23:46:54.933Z"
   },
   {
    "duration": -131,
    "start_time": "2021-08-01T23:46:54.938Z"
   },
   {
    "duration": -133,
    "start_time": "2021-08-01T23:46:54.941Z"
   },
   {
    "duration": -138,
    "start_time": "2021-08-01T23:46:54.946Z"
   },
   {
    "duration": -141,
    "start_time": "2021-08-01T23:46:54.950Z"
   },
   {
    "duration": -146,
    "start_time": "2021-08-01T23:46:54.955Z"
   },
   {
    "duration": -149,
    "start_time": "2021-08-01T23:46:54.959Z"
   },
   {
    "duration": -152,
    "start_time": "2021-08-01T23:46:54.962Z"
   },
   {
    "duration": -154,
    "start_time": "2021-08-01T23:46:54.965Z"
   },
   {
    "duration": -156,
    "start_time": "2021-08-01T23:46:54.967Z"
   },
   {
    "duration": -158,
    "start_time": "2021-08-01T23:46:54.970Z"
   },
   {
    "duration": -160,
    "start_time": "2021-08-01T23:46:54.973Z"
   },
   {
    "duration": -161,
    "start_time": "2021-08-01T23:46:54.975Z"
   },
   {
    "duration": -163,
    "start_time": "2021-08-01T23:46:54.978Z"
   },
   {
    "duration": -166,
    "start_time": "2021-08-01T23:46:54.981Z"
   },
   {
    "duration": -171,
    "start_time": "2021-08-01T23:46:54.987Z"
   },
   {
    "duration": -173,
    "start_time": "2021-08-01T23:46:54.990Z"
   },
   {
    "duration": 74,
    "start_time": "2021-08-01T23:48:41.329Z"
   },
   {
    "duration": 86,
    "start_time": "2021-08-01T23:49:11.793Z"
   },
   {
    "duration": 19,
    "start_time": "2021-08-01T23:49:57.650Z"
   },
   {
    "duration": 79,
    "start_time": "2021-08-01T23:50:14.666Z"
   },
   {
    "duration": 156,
    "start_time": "2021-08-01T23:50:21.321Z"
   },
   {
    "duration": 321,
    "start_time": "2021-08-01T23:50:55.609Z"
   },
   {
    "duration": 229,
    "start_time": "2021-08-01T23:52:31.793Z"
   },
   {
    "duration": 316,
    "start_time": "2021-08-01T23:52:53.520Z"
   },
   {
    "duration": 220,
    "start_time": "2021-08-01T23:53:45.112Z"
   },
   {
    "duration": 77,
    "start_time": "2021-08-01T23:54:02.495Z"
   },
   {
    "duration": 236,
    "start_time": "2021-08-01T23:54:22.455Z"
   },
   {
    "duration": 14,
    "start_time": "2021-08-01T23:55:05.089Z"
   },
   {
    "duration": 17,
    "start_time": "2021-08-01T23:55:42.040Z"
   },
   {
    "duration": 19,
    "start_time": "2021-08-01T23:57:15.650Z"
   },
   {
    "duration": 663,
    "start_time": "2021-08-01T23:57:59.808Z"
   },
   {
    "duration": 230,
    "start_time": "2021-08-01T23:58:09.312Z"
   },
   {
    "duration": 14,
    "start_time": "2021-08-02T00:09:35.021Z"
   },
   {
    "duration": 946,
    "start_time": "2021-08-02T00:11:52.817Z"
   },
   {
    "duration": 151,
    "start_time": "2021-08-02T00:11:53.765Z"
   },
   {
    "duration": 18,
    "start_time": "2021-08-02T00:11:53.918Z"
   },
   {
    "duration": 126,
    "start_time": "2021-08-02T00:11:53.938Z"
   },
   {
    "duration": 25,
    "start_time": "2021-08-02T00:11:54.066Z"
   },
   {
    "duration": 88,
    "start_time": "2021-08-02T00:11:54.093Z"
   },
   {
    "duration": 12,
    "start_time": "2021-08-02T00:11:54.183Z"
   },
   {
    "duration": 20,
    "start_time": "2021-08-02T00:11:54.197Z"
   },
   {
    "duration": 6,
    "start_time": "2021-08-02T00:11:54.219Z"
   },
   {
    "duration": 33,
    "start_time": "2021-08-02T00:11:54.227Z"
   },
   {
    "duration": 5,
    "start_time": "2021-08-02T00:11:54.261Z"
   },
   {
    "duration": 108,
    "start_time": "2021-08-02T00:11:54.268Z"
   },
   {
    "duration": 340,
    "start_time": "2021-08-02T00:11:54.378Z"
   },
   {
    "duration": 2,
    "start_time": "2021-08-02T00:11:54.720Z"
   },
   {
    "duration": 5,
    "start_time": "2021-08-02T00:11:54.723Z"
   },
   {
    "duration": 5,
    "start_time": "2021-08-02T00:11:54.729Z"
   },
   {
    "duration": 187,
    "start_time": "2021-08-02T00:11:54.735Z"
   },
   {
    "duration": 332,
    "start_time": "2021-08-02T00:11:54.923Z"
   },
   {
    "duration": 212,
    "start_time": "2021-08-02T00:11:55.257Z"
   },
   {
    "duration": 55,
    "start_time": "2021-08-02T00:11:55.471Z"
   },
   {
    "duration": 17,
    "start_time": "2021-08-02T00:11:55.528Z"
   },
   {
    "duration": 12,
    "start_time": "2021-08-02T00:11:55.546Z"
   },
   {
    "duration": 10,
    "start_time": "2021-08-02T00:11:55.561Z"
   },
   {
    "duration": 72,
    "start_time": "2021-08-02T00:11:55.592Z"
   },
   {
    "duration": 49,
    "start_time": "2021-08-02T00:11:55.666Z"
   },
   {
    "duration": 2,
    "start_time": "2021-08-02T00:11:55.717Z"
   },
   {
    "duration": 35,
    "start_time": "2021-08-02T00:11:55.721Z"
   },
   {
    "duration": 4,
    "start_time": "2021-08-02T00:11:55.758Z"
   },
   {
    "duration": 8,
    "start_time": "2021-08-02T00:11:55.763Z"
   },
   {
    "duration": 47,
    "start_time": "2021-08-02T00:11:55.773Z"
   },
   {
    "duration": 32,
    "start_time": "2021-08-02T00:11:55.821Z"
   },
   {
    "duration": 48,
    "start_time": "2021-08-02T00:11:55.854Z"
   },
   {
    "duration": 17,
    "start_time": "2021-08-02T00:11:55.904Z"
   },
   {
    "duration": 4,
    "start_time": "2021-08-02T00:11:55.922Z"
   },
   {
    "duration": 396,
    "start_time": "2021-08-02T00:11:55.927Z"
   },
   {
    "duration": 21,
    "start_time": "2021-08-02T00:11:56.325Z"
   },
   {
    "duration": 1766,
    "start_time": "2021-08-02T00:11:56.349Z"
   },
   {
    "duration": 14,
    "start_time": "2021-08-02T00:11:58.117Z"
   },
   {
    "duration": 5,
    "start_time": "2021-08-02T00:11:58.132Z"
   },
   {
    "duration": 7,
    "start_time": "2021-08-02T00:11:58.138Z"
   },
   {
    "duration": 286,
    "start_time": "2021-08-02T00:11:58.146Z"
   },
   {
    "duration": 4,
    "start_time": "2021-08-02T00:11:58.434Z"
   },
   {
    "duration": 7,
    "start_time": "2021-08-02T00:11:58.440Z"
   },
   {
    "duration": 14,
    "start_time": "2021-08-02T00:11:58.449Z"
   },
   {
    "duration": 5,
    "start_time": "2021-08-02T00:11:58.465Z"
   },
   {
    "duration": 23,
    "start_time": "2021-08-02T00:11:58.471Z"
   },
   {
    "duration": 306,
    "start_time": "2021-08-02T00:11:58.496Z"
   },
   {
    "duration": 5,
    "start_time": "2021-08-02T00:11:58.804Z"
   },
   {
    "duration": 73,
    "start_time": "2021-08-02T00:15:22.955Z"
   },
   {
    "duration": 89,
    "start_time": "2021-08-02T00:22:22.041Z"
   },
   {
    "duration": 73,
    "start_time": "2021-08-02T00:27:39.161Z"
   },
   {
    "duration": 5,
    "start_time": "2021-08-02T00:33:11.664Z"
   },
   {
    "duration": 4,
    "start_time": "2021-08-02T00:33:35.971Z"
   },
   {
    "duration": 8,
    "start_time": "2021-08-02T00:35:46.115Z"
   },
   {
    "duration": 7,
    "start_time": "2021-08-02T00:36:39.210Z"
   },
   {
    "duration": 975,
    "start_time": "2021-08-02T00:45:04.225Z"
   },
   {
    "duration": 153,
    "start_time": "2021-08-02T00:45:05.202Z"
   },
   {
    "duration": 19,
    "start_time": "2021-08-02T00:45:05.357Z"
   },
   {
    "duration": 129,
    "start_time": "2021-08-02T00:45:05.377Z"
   },
   {
    "duration": 15,
    "start_time": "2021-08-02T00:45:05.508Z"
   },
   {
    "duration": 90,
    "start_time": "2021-08-02T00:45:05.525Z"
   },
   {
    "duration": 13,
    "start_time": "2021-08-02T00:45:05.616Z"
   },
   {
    "duration": 24,
    "start_time": "2021-08-02T00:45:05.632Z"
   },
   {
    "duration": 7,
    "start_time": "2021-08-02T00:45:05.658Z"
   },
   {
    "duration": 37,
    "start_time": "2021-08-02T00:45:05.666Z"
   },
   {
    "duration": 6,
    "start_time": "2021-08-02T00:45:05.705Z"
   },
   {
    "duration": 123,
    "start_time": "2021-08-02T00:45:05.712Z"
   },
   {
    "duration": 348,
    "start_time": "2021-08-02T00:45:05.837Z"
   },
   {
    "duration": 2,
    "start_time": "2021-08-02T00:45:06.191Z"
   },
   {
    "duration": 6,
    "start_time": "2021-08-02T00:45:06.194Z"
   },
   {
    "duration": 5,
    "start_time": "2021-08-02T00:45:06.201Z"
   },
   {
    "duration": 186,
    "start_time": "2021-08-02T00:45:06.207Z"
   },
   {
    "duration": 329,
    "start_time": "2021-08-02T00:45:06.395Z"
   },
   {
    "duration": 213,
    "start_time": "2021-08-02T00:45:06.726Z"
   },
   {
    "duration": 56,
    "start_time": "2021-08-02T00:45:06.941Z"
   },
   {
    "duration": 16,
    "start_time": "2021-08-02T00:45:06.999Z"
   },
   {
    "duration": 11,
    "start_time": "2021-08-02T00:45:07.017Z"
   },
   {
    "duration": 10,
    "start_time": "2021-08-02T00:45:07.031Z"
   },
   {
    "duration": 97,
    "start_time": "2021-08-02T00:45:07.042Z"
   },
   {
    "duration": 36,
    "start_time": "2021-08-02T00:45:07.141Z"
   },
   {
    "duration": 14,
    "start_time": "2021-08-02T00:45:07.178Z"
   },
   {
    "duration": 35,
    "start_time": "2021-08-02T00:45:07.193Z"
   },
   {
    "duration": 4,
    "start_time": "2021-08-02T00:45:07.230Z"
   },
   {
    "duration": 5,
    "start_time": "2021-08-02T00:45:07.236Z"
   },
   {
    "duration": 69,
    "start_time": "2021-08-02T00:45:07.243Z"
   },
   {
    "duration": 48,
    "start_time": "2021-08-02T00:45:07.314Z"
   },
   {
    "duration": 60,
    "start_time": "2021-08-02T00:45:07.364Z"
   },
   {
    "duration": 24,
    "start_time": "2021-08-02T00:45:07.426Z"
   },
   {
    "duration": 5,
    "start_time": "2021-08-02T00:45:07.452Z"
   },
   {
    "duration": 509,
    "start_time": "2021-08-02T00:45:07.458Z"
   },
   {
    "duration": 14,
    "start_time": "2021-08-02T00:45:07.969Z"
   },
   {
    "duration": 1733,
    "start_time": "2021-08-02T00:45:07.991Z"
   },
   {
    "duration": 15,
    "start_time": "2021-08-02T00:45:09.725Z"
   },
   {
    "duration": 6,
    "start_time": "2021-08-02T00:45:09.741Z"
   },
   {
    "duration": 11,
    "start_time": "2021-08-02T00:45:09.748Z"
   },
   {
    "duration": 291,
    "start_time": "2021-08-02T00:45:09.761Z"
   },
   {
    "duration": 6,
    "start_time": "2021-08-02T00:45:10.054Z"
   },
   {
    "duration": 12,
    "start_time": "2021-08-02T00:45:10.062Z"
   },
   {
    "duration": 24,
    "start_time": "2021-08-02T00:45:10.075Z"
   },
   {
    "duration": 6,
    "start_time": "2021-08-02T00:45:10.101Z"
   },
   {
    "duration": 6,
    "start_time": "2021-08-02T00:45:10.109Z"
   },
   {
    "duration": 309,
    "start_time": "2021-08-02T00:45:10.117Z"
   },
   {
    "duration": 6,
    "start_time": "2021-08-02T00:45:10.428Z"
   },
   {
    "duration": 8,
    "start_time": "2021-08-02T00:45:10.436Z"
   },
   {
    "duration": 6,
    "start_time": "2021-08-02T00:45:10.445Z"
   },
   {
    "duration": 1481,
    "start_time": "2021-08-02T14:25:13.053Z"
   },
   {
    "duration": 224,
    "start_time": "2021-08-02T14:25:14.536Z"
   },
   {
    "duration": 28,
    "start_time": "2021-08-02T14:25:14.763Z"
   },
   {
    "duration": 300,
    "start_time": "2021-08-02T14:25:14.795Z"
   },
   {
    "duration": 24,
    "start_time": "2021-08-02T14:25:15.097Z"
   },
   {
    "duration": 145,
    "start_time": "2021-08-02T14:25:15.123Z"
   },
   {
    "duration": 19,
    "start_time": "2021-08-02T14:25:15.271Z"
   },
   {
    "duration": 25,
    "start_time": "2021-08-02T14:25:15.293Z"
   },
   {
    "duration": 11,
    "start_time": "2021-08-02T14:25:15.321Z"
   },
   {
    "duration": 46,
    "start_time": "2021-08-02T14:25:15.335Z"
   },
   {
    "duration": 8,
    "start_time": "2021-08-02T14:25:15.384Z"
   },
   {
    "duration": 196,
    "start_time": "2021-08-02T14:25:15.394Z"
   },
   {
    "duration": 636,
    "start_time": "2021-08-02T14:25:15.593Z"
   },
   {
    "duration": 3,
    "start_time": "2021-08-02T14:25:16.232Z"
   },
   {
    "duration": 8,
    "start_time": "2021-08-02T14:25:16.237Z"
   },
   {
    "duration": 21,
    "start_time": "2021-08-02T14:25:16.247Z"
   },
   {
    "duration": 333,
    "start_time": "2021-08-02T14:25:16.271Z"
   },
   {
    "duration": 8130,
    "start_time": "2021-08-02T14:25:38.721Z"
   },
   {
    "duration": 5369,
    "start_time": "2021-08-02T14:27:05.556Z"
   },
   {
    "duration": 9,
    "start_time": "2021-08-02T14:27:12.419Z"
   },
   {
    "duration": 7,
    "start_time": "2021-08-02T14:28:04.914Z"
   },
   {
    "duration": 8182,
    "start_time": "2021-08-02T14:28:23.331Z"
   },
   {
    "duration": 592,
    "start_time": "2021-08-02T14:29:33.276Z"
   },
   {
    "duration": 283,
    "start_time": "2021-08-02T14:29:38.465Z"
   },
   {
    "duration": 280,
    "start_time": "2021-08-02T14:29:51.848Z"
   },
   {
    "duration": 286,
    "start_time": "2021-08-02T14:30:07.264Z"
   },
   {
    "duration": 386,
    "start_time": "2021-08-02T14:30:30.098Z"
   },
   {
    "duration": 8151,
    "start_time": "2021-08-02T14:31:21.838Z"
   },
   {
    "duration": 276,
    "start_time": "2021-08-02T14:31:38.803Z"
   },
   {
    "duration": 278,
    "start_time": "2021-08-02T14:31:50.356Z"
   },
   {
    "duration": 10212,
    "start_time": "2021-08-02T14:32:07.061Z"
   },
   {
    "duration": 10480,
    "start_time": "2021-08-02T14:32:58.062Z"
   },
   {
    "duration": 4742,
    "start_time": "2021-08-02T14:34:09.383Z"
   },
   {
    "duration": 4813,
    "start_time": "2021-08-02T14:34:26.209Z"
   },
   {
    "duration": 10526,
    "start_time": "2021-08-02T14:34:43.043Z"
   },
   {
    "duration": 10831,
    "start_time": "2021-08-02T14:36:14.661Z"
   },
   {
    "duration": 12017,
    "start_time": "2021-08-02T14:36:32.283Z"
   },
   {
    "duration": 11863,
    "start_time": "2021-08-02T14:38:42.227Z"
   },
   {
    "duration": 4811,
    "start_time": "2021-08-02T14:39:35.981Z"
   },
   {
    "duration": 5412,
    "start_time": "2021-08-02T14:40:31.370Z"
   },
   {
    "duration": 4880,
    "start_time": "2021-08-02T14:41:03.074Z"
   },
   {
    "duration": 110,
    "start_time": "2021-08-02T14:42:08.627Z"
   },
   {
    "duration": 4977,
    "start_time": "2021-08-02T14:42:19.252Z"
   },
   {
    "duration": 5408,
    "start_time": "2021-08-02T14:42:33.920Z"
   },
   {
    "duration": 4943,
    "start_time": "2021-08-02T14:43:17.166Z"
   },
   {
    "duration": 10609,
    "start_time": "2021-08-02T14:44:12.680Z"
   },
   {
    "duration": 9,
    "start_time": "2021-08-02T14:44:44.168Z"
   },
   {
    "duration": 7,
    "start_time": "2021-08-02T14:44:50.406Z"
   },
   {
    "duration": 8,
    "start_time": "2021-08-02T14:44:53.585Z"
   },
   {
    "duration": 7,
    "start_time": "2021-08-02T14:44:55.629Z"
   },
   {
    "duration": 11018,
    "start_time": "2021-08-02T14:45:45.067Z"
   },
   {
    "duration": 5233,
    "start_time": "2021-08-02T14:46:07.471Z"
   },
   {
    "duration": 4786,
    "start_time": "2021-08-02T14:46:25.218Z"
   },
   {
    "duration": 5240,
    "start_time": "2021-08-02T14:47:22.760Z"
   },
   {
    "duration": 4756,
    "start_time": "2021-08-02T14:47:56.404Z"
   },
   {
    "duration": 5184,
    "start_time": "2021-08-02T14:48:14.264Z"
   },
   {
    "duration": 5260,
    "start_time": "2021-08-02T14:48:54.889Z"
   },
   {
    "duration": 5167,
    "start_time": "2021-08-02T14:49:01.786Z"
   },
   {
    "duration": 5141,
    "start_time": "2021-08-02T14:49:18.877Z"
   },
   {
    "duration": 360,
    "start_time": "2021-08-02T14:56:11.839Z"
   },
   {
    "duration": 384,
    "start_time": "2021-08-02T14:57:04.548Z"
   },
   {
    "duration": 379,
    "start_time": "2021-08-02T14:59:10.928Z"
   },
   {
    "duration": 366,
    "start_time": "2021-08-02T14:59:17.724Z"
   },
   {
    "duration": 118,
    "start_time": "2021-08-02T14:59:29.209Z"
   },
   {
    "duration": 4,
    "start_time": "2021-08-02T15:00:01.382Z"
   },
   {
    "duration": 232,
    "start_time": "2021-08-02T15:00:01.389Z"
   },
   {
    "duration": 45,
    "start_time": "2021-08-02T15:00:01.624Z"
   },
   {
    "duration": 189,
    "start_time": "2021-08-02T15:00:01.672Z"
   },
   {
    "duration": 25,
    "start_time": "2021-08-02T15:00:01.867Z"
   },
   {
    "duration": 146,
    "start_time": "2021-08-02T15:00:01.894Z"
   },
   {
    "duration": 28,
    "start_time": "2021-08-02T15:00:02.043Z"
   },
   {
    "duration": 36,
    "start_time": "2021-08-02T15:00:02.075Z"
   },
   {
    "duration": 37,
    "start_time": "2021-08-02T15:00:02.114Z"
   },
   {
    "duration": 67,
    "start_time": "2021-08-02T15:00:02.154Z"
   },
   {
    "duration": 10,
    "start_time": "2021-08-02T15:00:02.224Z"
   },
   {
    "duration": 175,
    "start_time": "2021-08-02T15:00:02.236Z"
   },
   {
    "duration": 664,
    "start_time": "2021-08-02T15:00:02.413Z"
   },
   {
    "duration": 4,
    "start_time": "2021-08-02T15:00:03.079Z"
   },
   {
    "duration": 8,
    "start_time": "2021-08-02T15:00:03.085Z"
   },
   {
    "duration": 8,
    "start_time": "2021-08-02T15:00:03.095Z"
   },
   {
    "duration": 348,
    "start_time": "2021-08-02T15:00:03.105Z"
   },
   {
    "duration": 4827,
    "start_time": "2021-08-02T15:00:03.455Z"
   },
   {
    "duration": 659,
    "start_time": "2021-08-02T15:00:08.285Z"
   },
   {
    "duration": 376,
    "start_time": "2021-08-02T15:00:08.947Z"
   },
   {
    "duration": 88,
    "start_time": "2021-08-02T15:00:09.325Z"
   },
   {
    "duration": 23,
    "start_time": "2021-08-02T15:00:09.416Z"
   },
   {
    "duration": 31,
    "start_time": "2021-08-02T15:00:09.444Z"
   },
   {
    "duration": 16,
    "start_time": "2021-08-02T15:00:09.478Z"
   },
   {
    "duration": 131,
    "start_time": "2021-08-02T15:00:09.497Z"
   },
   {
    "duration": 70,
    "start_time": "2021-08-02T15:00:09.630Z"
   },
   {
    "duration": 4,
    "start_time": "2021-08-02T15:00:09.702Z"
   },
   {
    "duration": 68,
    "start_time": "2021-08-02T15:00:09.708Z"
   },
   {
    "duration": 8,
    "start_time": "2021-08-02T15:00:09.779Z"
   },
   {
    "duration": 9,
    "start_time": "2021-08-02T15:00:09.790Z"
   },
   {
    "duration": 95,
    "start_time": "2021-08-02T15:00:09.801Z"
   },
   {
    "duration": 81,
    "start_time": "2021-08-02T15:00:09.898Z"
   },
   {
    "duration": 66,
    "start_time": "2021-08-02T15:00:09.981Z"
   },
   {
    "duration": 50,
    "start_time": "2021-08-02T15:00:10.049Z"
   },
   {
    "duration": 7,
    "start_time": "2021-08-02T15:00:10.101Z"
   },
   {
    "duration": 765,
    "start_time": "2021-08-02T15:00:10.110Z"
   },
   {
    "duration": 26,
    "start_time": "2021-08-02T15:00:10.877Z"
   },
   {
    "duration": 15,
    "start_time": "2021-08-02T15:00:14.825Z"
   },
   {
    "duration": 428,
    "start_time": "2021-08-02T15:00:21.317Z"
   },
   {
    "duration": 147,
    "start_time": "2021-08-02T15:00:33.520Z"
   },
   {
    "duration": 426,
    "start_time": "2021-08-02T15:01:29.929Z"
   },
   {
    "duration": 140,
    "start_time": "2021-08-02T15:01:40.537Z"
   },
   {
    "duration": 87,
    "start_time": "2021-08-02T15:01:55.852Z"
   },
   {
    "duration": 82,
    "start_time": "2021-08-02T15:02:03.141Z"
   },
   {
    "duration": 87,
    "start_time": "2021-08-02T15:02:07.568Z"
   },
   {
    "duration": 89,
    "start_time": "2021-08-02T15:02:16.667Z"
   },
   {
    "duration": 118,
    "start_time": "2021-08-02T15:02:28.536Z"
   },
   {
    "duration": 124,
    "start_time": "2021-08-02T15:02:37.304Z"
   },
   {
    "duration": 117,
    "start_time": "2021-08-02T15:02:51.534Z"
   },
   {
    "duration": 116,
    "start_time": "2021-08-02T15:03:04.932Z"
   },
   {
    "duration": 408,
    "start_time": "2021-08-02T15:03:07.123Z"
   },
   {
    "duration": 438,
    "start_time": "2021-08-02T15:03:15.472Z"
   },
   {
    "duration": 430,
    "start_time": "2021-08-02T15:03:20.995Z"
   },
   {
    "duration": 464,
    "start_time": "2021-08-02T15:03:23.344Z"
   },
   {
    "duration": 438,
    "start_time": "2021-08-02T15:03:48.246Z"
   },
   {
    "duration": 405,
    "start_time": "2021-08-02T15:03:50.217Z"
   },
   {
    "duration": 123,
    "start_time": "2021-08-02T15:04:04.003Z"
   },
   {
    "duration": 147,
    "start_time": "2021-08-02T15:04:20.082Z"
   },
   {
    "duration": 114,
    "start_time": "2021-08-02T15:06:26.254Z"
   },
   {
    "duration": 348,
    "start_time": "2021-08-02T15:07:42.978Z"
   },
   {
    "duration": 11,
    "start_time": "2021-08-02T15:07:45.465Z"
   },
   {
    "duration": 3532,
    "start_time": "2021-08-02T15:10:01.027Z"
   },
   {
    "duration": 3303,
    "start_time": "2021-08-02T15:10:45.569Z"
   },
   {
    "duration": 4204,
    "start_time": "2021-08-02T15:11:14.938Z"
   },
   {
    "duration": 5219,
    "start_time": "2021-08-02T15:11:29.677Z"
   },
   {
    "duration": 4021,
    "start_time": "2021-08-02T15:11:42.327Z"
   },
   {
    "duration": 4243,
    "start_time": "2021-08-02T15:12:09.556Z"
   },
   {
    "duration": 1782,
    "start_time": "2021-08-03T00:33:24.653Z"
   },
   {
    "duration": 336,
    "start_time": "2021-08-03T00:33:26.439Z"
   },
   {
    "duration": 44,
    "start_time": "2021-08-03T00:33:26.779Z"
   },
   {
    "duration": 283,
    "start_time": "2021-08-03T00:33:26.827Z"
   },
   {
    "duration": 48,
    "start_time": "2021-08-03T00:33:27.113Z"
   },
   {
    "duration": 171,
    "start_time": "2021-08-03T00:33:27.165Z"
   },
   {
    "duration": 36,
    "start_time": "2021-08-03T00:33:27.340Z"
   },
   {
    "duration": 32,
    "start_time": "2021-08-03T00:33:27.381Z"
   },
   {
    "duration": 13,
    "start_time": "2021-08-03T00:33:27.417Z"
   },
   {
    "duration": 72,
    "start_time": "2021-08-03T00:33:27.434Z"
   },
   {
    "duration": 12,
    "start_time": "2021-08-03T00:33:27.509Z"
   },
   {
    "duration": 178,
    "start_time": "2021-08-03T00:33:27.524Z"
   },
   {
    "duration": 635,
    "start_time": "2021-08-03T00:33:27.704Z"
   },
   {
    "duration": 3,
    "start_time": "2021-08-03T00:33:28.341Z"
   },
   {
    "duration": 6,
    "start_time": "2021-08-03T00:33:28.346Z"
   },
   {
    "duration": 10,
    "start_time": "2021-08-03T00:33:28.363Z"
   },
   {
    "duration": 329,
    "start_time": "2021-08-03T00:33:28.376Z"
   },
   {
    "duration": 5073,
    "start_time": "2021-08-03T00:33:28.708Z"
   },
   {
    "duration": 636,
    "start_time": "2021-08-03T00:33:33.785Z"
   },
   {
    "duration": 381,
    "start_time": "2021-08-03T00:33:34.424Z"
   },
   {
    "duration": 91,
    "start_time": "2021-08-03T00:33:34.809Z"
   },
   {
    "duration": 25,
    "start_time": "2021-08-03T00:33:34.902Z"
   },
   {
    "duration": 35,
    "start_time": "2021-08-03T00:33:34.934Z"
   },
   {
    "duration": 15,
    "start_time": "2021-08-03T00:33:34.972Z"
   },
   {
    "duration": 153,
    "start_time": "2021-08-03T00:33:34.990Z"
   },
   {
    "duration": 68,
    "start_time": "2021-08-03T00:33:35.145Z"
   },
   {
    "duration": 3,
    "start_time": "2021-08-03T00:33:35.216Z"
   },
   {
    "duration": 78,
    "start_time": "2021-08-03T00:33:35.221Z"
   },
   {
    "duration": 7,
    "start_time": "2021-08-03T00:33:35.301Z"
   },
   {
    "duration": 8,
    "start_time": "2021-08-03T00:33:35.311Z"
   },
   {
    "duration": 89,
    "start_time": "2021-08-03T00:33:35.321Z"
   },
   {
    "duration": 79,
    "start_time": "2021-08-03T00:33:35.412Z"
   },
   {
    "duration": 74,
    "start_time": "2021-08-03T00:33:35.494Z"
   },
   {
    "duration": 31,
    "start_time": "2021-08-03T00:33:35.570Z"
   },
   {
    "duration": 7,
    "start_time": "2021-08-03T00:33:35.603Z"
   },
   {
    "duration": 740,
    "start_time": "2021-08-03T00:33:35.614Z"
   },
   {
    "duration": 27,
    "start_time": "2021-08-03T00:33:36.361Z"
   },
   {
    "duration": 271,
    "start_time": "2021-08-03T00:33:36.391Z"
   },
   {
    "duration": 15,
    "start_time": "2021-08-03T00:33:36.665Z"
   },
   {
    "duration": 5999,
    "start_time": "2021-08-03T00:33:36.684Z"
   },
   {
    "duration": 40,
    "start_time": "2021-08-03T00:33:42.686Z"
   },
   {
    "duration": 33,
    "start_time": "2021-08-03T00:33:42.729Z"
   },
   {
    "duration": 12,
    "start_time": "2021-08-03T00:33:42.765Z"
   },
   {
    "duration": 773,
    "start_time": "2021-08-03T00:33:42.781Z"
   },
   {
    "duration": 10,
    "start_time": "2021-08-03T00:33:43.562Z"
   },
   {
    "duration": 22,
    "start_time": "2021-08-03T00:33:43.574Z"
   },
   {
    "duration": 68,
    "start_time": "2021-08-03T00:33:43.599Z"
   },
   {
    "duration": 10,
    "start_time": "2021-08-03T00:33:43.669Z"
   },
   {
    "duration": 18,
    "start_time": "2021-08-03T00:33:43.682Z"
   },
   {
    "duration": 542,
    "start_time": "2021-08-03T00:33:43.702Z"
   },
   {
    "duration": 16,
    "start_time": "2021-08-03T00:33:44.246Z"
   },
   {
    "duration": 9,
    "start_time": "2021-08-03T00:33:44.264Z"
   },
   {
    "duration": 8,
    "start_time": "2021-08-03T00:33:44.275Z"
   },
   {
    "duration": 3348,
    "start_time": "2021-08-03T00:34:56.240Z"
   },
   {
    "duration": 2832,
    "start_time": "2021-08-03T00:36:42.460Z"
   },
   {
    "duration": 3906,
    "start_time": "2021-08-03T00:38:51.292Z"
   }
  ],
  "kernelspec": {
   "display_name": "Python 3 (ipykernel)",
   "language": "python",
   "name": "python3"
  },
  "language_info": {
   "codemirror_mode": {
    "name": "ipython",
    "version": 3
   },
   "file_extension": ".py",
   "mimetype": "text/x-python",
   "name": "python",
   "nbconvert_exporter": "python",
   "pygments_lexer": "ipython3",
   "version": "3.9.7"
  },
  "toc": {
   "base_numbering": 1,
   "nav_menu": {},
   "number_sections": true,
   "sideBar": true,
   "skip_h1_title": true,
   "title_cell": "Table of Contents",
   "title_sidebar": "Contents",
   "toc_cell": false,
   "toc_position": {
    "height": "calc(100% - 180px)",
    "left": "10px",
    "top": "150px",
    "width": "486.391px"
   },
   "toc_section_display": true,
   "toc_window_display": true
  }
 },
 "nbformat": 4,
 "nbformat_minor": 2
}
