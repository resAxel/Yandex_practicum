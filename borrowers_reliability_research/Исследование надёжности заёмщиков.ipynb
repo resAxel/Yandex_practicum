{
 "cells": [
  {
   "cell_type": "markdown",
   "metadata": {},
   "source": [
    "<div style=\"border:solid green 2px; padding: 20px\">\n",
    "<b>Алексей, привет!</b>\n",
    "\n",
    "Меня зовут Евгений Дащенко, и я буду проверять твой проект. Предлагаю общаться на «ты» 😊 Но если это не удобно - дай знать, и мы перейдем на \"вы\". \n",
    "\n",
    "Моя основная цель — не указать на совершенные тобою ошибки, а поделиться своим опытом и помочь тебе стать аналитиком данных. Ты уже проделал большую работу над проектом, но давай сделаем его еще лучше. Ниже ты найдешь мои комментарии - пожалуйста, не перемещай, не изменяй и не удаляй их. Я буду использовать цветовую разметку:\n",
    "\n",
    "<div class=\"alert alert-danger\">\n",
    "<b>Комментарий ревьюера:</b> Так выделены самые важные замечания. Без их отработки проект не будет принят. </div>\n",
    "\n",
    "<div class=\"alert alert-warning\">\n",
    "<b>Комментарий ревьюера:</b> Так выделены небольшие замечания. Одна-два таких замечания в проекте допустимы, но если их будет больше - тебе будет необходимо внести исправления. Это как тестовое задание при приеме на работу: очень много мелких ошибок могут стать причиной отказа кандидату. \n",
    "\n",
    "</div>\n",
    "\n",
    "<div class=\"alert alert-success\">\n",
    "<b>Комментарий ревьюера:</b> Так я выделяю все остальные комментарии.</div>\n",
    "\n",
    "Давай работать над проектом в диалоге: если ты что-то меняешь в проекте или отвечаешь на мои комменатри — пиши об этом. Мне будет легче отследить изменения, если ты выделишь свои комментарии:\n",
    "<div class=\"alert alert-info\"> <b>Комментарий студента:</b> Например, вот так.</div>\n",
    "\n",
    "Всё это поможет выполнить повторную проверку твоего проекта оперативнее. "
   ]
  },
  {
   "cell_type": "markdown",
   "metadata": {},
   "source": [
    "# Исследование надёжности заёмщиков\n",
    "\n",
    "Заказчик — кредитный отдел банка. Нужно разобраться, влияет ли семейное положение и количество детей клиента на факт погашения кредита в срок. Входные данные от банка — статистика о платёжеспособности клиентов.\n",
    "\n",
    "Результаты исследования будут учтены при построении модели **кредитного скоринга** — специальной системы, которая оценивает способность потенциального заёмщика вернуть кредит банку."
   ]
  },
  {
   "cell_type": "markdown",
   "metadata": {},
   "source": [
    "<div class=\"alert alert-success\">\n",
    "<b>Комментарий ревьюера:</b>\n",
    "\n",
    "Здорово, когда есть вступление в сам проект, каждый сможет быстрее разобраться в концепции / деталях работы. \n",
    "\n",
    "</div>"
   ]
  },
  {
   "cell_type": "markdown",
   "metadata": {},
   "source": [
    "## Шаг 1. Откройте файл с данными и изучите общую информацию"
   ]
  },
  {
   "cell_type": "code",
   "execution_count": 1,
   "metadata": {},
   "outputs": [
    {
     "name": "stdout",
     "output_type": "stream",
     "text": [
      "<class 'pandas.core.frame.DataFrame'>\n",
      "RangeIndex: 21525 entries, 0 to 21524\n",
      "Data columns (total 12 columns):\n",
      "children            21525 non-null int64\n",
      "days_employed       19351 non-null float64\n",
      "dob_years           21525 non-null int64\n",
      "education           21525 non-null object\n",
      "education_id        21525 non-null int64\n",
      "family_status       21525 non-null object\n",
      "family_status_id    21525 non-null int64\n",
      "gender              21525 non-null object\n",
      "income_type         21525 non-null object\n",
      "debt                21525 non-null int64\n",
      "total_income        19351 non-null float64\n",
      "purpose             21525 non-null object\n",
      "dtypes: float64(2), int64(5), object(5)\n",
      "memory usage: 2.0+ MB\n"
     ]
    },
    {
     "data": {
      "text/html": [
       "<div>\n",
       "<style scoped>\n",
       "    .dataframe tbody tr th:only-of-type {\n",
       "        vertical-align: middle;\n",
       "    }\n",
       "\n",
       "    .dataframe tbody tr th {\n",
       "        vertical-align: top;\n",
       "    }\n",
       "\n",
       "    .dataframe thead th {\n",
       "        text-align: right;\n",
       "    }\n",
       "</style>\n",
       "<table border=\"1\" class=\"dataframe\">\n",
       "  <thead>\n",
       "    <tr style=\"text-align: right;\">\n",
       "      <th></th>\n",
       "      <th>children</th>\n",
       "      <th>days_employed</th>\n",
       "      <th>dob_years</th>\n",
       "      <th>education</th>\n",
       "      <th>education_id</th>\n",
       "      <th>family_status</th>\n",
       "      <th>family_status_id</th>\n",
       "      <th>gender</th>\n",
       "      <th>income_type</th>\n",
       "      <th>debt</th>\n",
       "      <th>total_income</th>\n",
       "      <th>purpose</th>\n",
       "    </tr>\n",
       "  </thead>\n",
       "  <tbody>\n",
       "    <tr>\n",
       "      <td>0</td>\n",
       "      <td>1</td>\n",
       "      <td>-8437.673028</td>\n",
       "      <td>42</td>\n",
       "      <td>высшее</td>\n",
       "      <td>0</td>\n",
       "      <td>женат / замужем</td>\n",
       "      <td>0</td>\n",
       "      <td>F</td>\n",
       "      <td>сотрудник</td>\n",
       "      <td>0</td>\n",
       "      <td>253875.639453</td>\n",
       "      <td>покупка жилья</td>\n",
       "    </tr>\n",
       "    <tr>\n",
       "      <td>1</td>\n",
       "      <td>1</td>\n",
       "      <td>-4024.803754</td>\n",
       "      <td>36</td>\n",
       "      <td>среднее</td>\n",
       "      <td>1</td>\n",
       "      <td>женат / замужем</td>\n",
       "      <td>0</td>\n",
       "      <td>F</td>\n",
       "      <td>сотрудник</td>\n",
       "      <td>0</td>\n",
       "      <td>112080.014102</td>\n",
       "      <td>приобретение автомобиля</td>\n",
       "    </tr>\n",
       "    <tr>\n",
       "      <td>2</td>\n",
       "      <td>0</td>\n",
       "      <td>-5623.422610</td>\n",
       "      <td>33</td>\n",
       "      <td>Среднее</td>\n",
       "      <td>1</td>\n",
       "      <td>женат / замужем</td>\n",
       "      <td>0</td>\n",
       "      <td>M</td>\n",
       "      <td>сотрудник</td>\n",
       "      <td>0</td>\n",
       "      <td>145885.952297</td>\n",
       "      <td>покупка жилья</td>\n",
       "    </tr>\n",
       "    <tr>\n",
       "      <td>3</td>\n",
       "      <td>3</td>\n",
       "      <td>-4124.747207</td>\n",
       "      <td>32</td>\n",
       "      <td>среднее</td>\n",
       "      <td>1</td>\n",
       "      <td>женат / замужем</td>\n",
       "      <td>0</td>\n",
       "      <td>M</td>\n",
       "      <td>сотрудник</td>\n",
       "      <td>0</td>\n",
       "      <td>267628.550329</td>\n",
       "      <td>дополнительное образование</td>\n",
       "    </tr>\n",
       "    <tr>\n",
       "      <td>4</td>\n",
       "      <td>0</td>\n",
       "      <td>340266.072047</td>\n",
       "      <td>53</td>\n",
       "      <td>среднее</td>\n",
       "      <td>1</td>\n",
       "      <td>гражданский брак</td>\n",
       "      <td>1</td>\n",
       "      <td>F</td>\n",
       "      <td>пенсионер</td>\n",
       "      <td>0</td>\n",
       "      <td>158616.077870</td>\n",
       "      <td>сыграть свадьбу</td>\n",
       "    </tr>\n",
       "  </tbody>\n",
       "</table>\n",
       "</div>"
      ],
      "text/plain": [
       "   children  days_employed  dob_years education  education_id  \\\n",
       "0         1   -8437.673028         42    высшее             0   \n",
       "1         1   -4024.803754         36   среднее             1   \n",
       "2         0   -5623.422610         33   Среднее             1   \n",
       "3         3   -4124.747207         32   среднее             1   \n",
       "4         0  340266.072047         53   среднее             1   \n",
       "\n",
       "      family_status  family_status_id gender income_type  debt   total_income  \\\n",
       "0   женат / замужем                 0      F   сотрудник     0  253875.639453   \n",
       "1   женат / замужем                 0      F   сотрудник     0  112080.014102   \n",
       "2   женат / замужем                 0      M   сотрудник     0  145885.952297   \n",
       "3   женат / замужем                 0      M   сотрудник     0  267628.550329   \n",
       "4  гражданский брак                 1      F   пенсионер     0  158616.077870   \n",
       "\n",
       "                      purpose  \n",
       "0               покупка жилья  \n",
       "1     приобретение автомобиля  \n",
       "2               покупка жилья  \n",
       "3  дополнительное образование  \n",
       "4             сыграть свадьбу  "
      ]
     },
     "execution_count": 1,
     "metadata": {},
     "output_type": "execute_result"
    }
   ],
   "source": [
    "import pandas as pd\n",
    "data = pd.read_csv('/datasets/data.csv')\n",
    "data.info()\n",
    "data.head()"
   ]
  },
  {
   "cell_type": "markdown",
   "metadata": {},
   "source": [
    "**Вывод**"
   ]
  },
  {
   "cell_type": "markdown",
   "metadata": {},
   "source": [
    "Прочитали файл. Посмотрели его содержание и типы данных. Табоица содержит 21525 записей. Cтолбцы \"days_employed\" и \"total_income\" имет меньшее количество значений чем остальные столбцы. Столбец \"days_employed\" - общий трудовой стаж имеет отрицательные значения. Отрицательного стажа быть не должно. В столбце \"education\" разный регистр."
   ]
  },
  {
   "cell_type": "markdown",
   "metadata": {},
   "source": [
    "<div class=\"alert alert-success\">\n",
    "<b>Комментарий ревьюера:</b>\n",
    "\n",
    "Что ж, первичные данные посмотрели, давай теперь их обработаем. \n",
    "    \n",
    "</div>"
   ]
  },
  {
   "cell_type": "markdown",
   "metadata": {},
   "source": [
    "## Шаг 2. Предобработка данных"
   ]
  },
  {
   "cell_type": "markdown",
   "metadata": {},
   "source": [
    "### Обработка пропусков"
   ]
  },
  {
   "cell_type": "code",
   "execution_count": 2,
   "metadata": {
    "scrolled": false
   },
   "outputs": [
    {
     "name": "stdout",
     "output_type": "stream",
     "text": [
      "Количество пропусков до замены\n",
      "children               0\n",
      "days_employed       2174\n",
      "dob_years              0\n",
      "education              0\n",
      "education_id           0\n",
      "family_status          0\n",
      "family_status_id       0\n",
      "gender                 0\n",
      "income_type            0\n",
      "debt                   0\n",
      "total_income        2174\n",
      "purpose                0\n",
      "dtype: int64\n",
      "\n",
      "Количество пропусков после замены\n",
      "children            0\n",
      "days_employed       0\n",
      "dob_years           0\n",
      "education           0\n",
      "education_id        0\n",
      "family_status       0\n",
      "family_status_id    0\n",
      "gender              0\n",
      "income_type         0\n",
      "debt                0\n",
      "total_income        0\n",
      "purpose             0\n",
      "dtype: int64\n"
     ]
    },
    {
     "data": {
      "text/html": [
       "<div>\n",
       "<style scoped>\n",
       "    .dataframe tbody tr th:only-of-type {\n",
       "        vertical-align: middle;\n",
       "    }\n",
       "\n",
       "    .dataframe tbody tr th {\n",
       "        vertical-align: top;\n",
       "    }\n",
       "\n",
       "    .dataframe thead th {\n",
       "        text-align: right;\n",
       "    }\n",
       "</style>\n",
       "<table border=\"1\" class=\"dataframe\">\n",
       "  <thead>\n",
       "    <tr style=\"text-align: right;\">\n",
       "      <th></th>\n",
       "      <th>children</th>\n",
       "      <th>days_employed</th>\n",
       "      <th>dob_years</th>\n",
       "      <th>education</th>\n",
       "      <th>education_id</th>\n",
       "      <th>family_status</th>\n",
       "      <th>family_status_id</th>\n",
       "      <th>gender</th>\n",
       "      <th>income_type</th>\n",
       "      <th>debt</th>\n",
       "      <th>total_income</th>\n",
       "      <th>purpose</th>\n",
       "    </tr>\n",
       "  </thead>\n",
       "  <tbody>\n",
       "    <tr>\n",
       "      <td>0</td>\n",
       "      <td>1</td>\n",
       "      <td>-8437.673028</td>\n",
       "      <td>42</td>\n",
       "      <td>высшее</td>\n",
       "      <td>0</td>\n",
       "      <td>женат / замужем</td>\n",
       "      <td>0</td>\n",
       "      <td>F</td>\n",
       "      <td>сотрудник</td>\n",
       "      <td>0</td>\n",
       "      <td>253875.639453</td>\n",
       "      <td>покупка жилья</td>\n",
       "    </tr>\n",
       "    <tr>\n",
       "      <td>1</td>\n",
       "      <td>1</td>\n",
       "      <td>-4024.803754</td>\n",
       "      <td>36</td>\n",
       "      <td>среднее</td>\n",
       "      <td>1</td>\n",
       "      <td>женат / замужем</td>\n",
       "      <td>0</td>\n",
       "      <td>F</td>\n",
       "      <td>сотрудник</td>\n",
       "      <td>0</td>\n",
       "      <td>112080.014102</td>\n",
       "      <td>приобретение автомобиля</td>\n",
       "    </tr>\n",
       "    <tr>\n",
       "      <td>2</td>\n",
       "      <td>0</td>\n",
       "      <td>-5623.422610</td>\n",
       "      <td>33</td>\n",
       "      <td>Среднее</td>\n",
       "      <td>1</td>\n",
       "      <td>женат / замужем</td>\n",
       "      <td>0</td>\n",
       "      <td>M</td>\n",
       "      <td>сотрудник</td>\n",
       "      <td>0</td>\n",
       "      <td>145885.952297</td>\n",
       "      <td>покупка жилья</td>\n",
       "    </tr>\n",
       "    <tr>\n",
       "      <td>3</td>\n",
       "      <td>3</td>\n",
       "      <td>-4124.747207</td>\n",
       "      <td>32</td>\n",
       "      <td>среднее</td>\n",
       "      <td>1</td>\n",
       "      <td>женат / замужем</td>\n",
       "      <td>0</td>\n",
       "      <td>M</td>\n",
       "      <td>сотрудник</td>\n",
       "      <td>0</td>\n",
       "      <td>267628.550329</td>\n",
       "      <td>дополнительное образование</td>\n",
       "    </tr>\n",
       "    <tr>\n",
       "      <td>4</td>\n",
       "      <td>0</td>\n",
       "      <td>340266.072047</td>\n",
       "      <td>53</td>\n",
       "      <td>среднее</td>\n",
       "      <td>1</td>\n",
       "      <td>гражданский брак</td>\n",
       "      <td>1</td>\n",
       "      <td>F</td>\n",
       "      <td>пенсионер</td>\n",
       "      <td>0</td>\n",
       "      <td>158616.077870</td>\n",
       "      <td>сыграть свадьбу</td>\n",
       "    </tr>\n",
       "  </tbody>\n",
       "</table>\n",
       "</div>"
      ],
      "text/plain": [
       "   children  days_employed  dob_years education  education_id  \\\n",
       "0         1   -8437.673028         42    высшее             0   \n",
       "1         1   -4024.803754         36   среднее             1   \n",
       "2         0   -5623.422610         33   Среднее             1   \n",
       "3         3   -4124.747207         32   среднее             1   \n",
       "4         0  340266.072047         53   среднее             1   \n",
       "\n",
       "      family_status  family_status_id gender income_type  debt   total_income  \\\n",
       "0   женат / замужем                 0      F   сотрудник     0  253875.639453   \n",
       "1   женат / замужем                 0      F   сотрудник     0  112080.014102   \n",
       "2   женат / замужем                 0      M   сотрудник     0  145885.952297   \n",
       "3   женат / замужем                 0      M   сотрудник     0  267628.550329   \n",
       "4  гражданский брак                 1      F   пенсионер     0  158616.077870   \n",
       "\n",
       "                      purpose  \n",
       "0               покупка жилья  \n",
       "1     приобретение автомобиля  \n",
       "2               покупка жилья  \n",
       "3  дополнительное образование  \n",
       "4             сыграть свадьбу  "
      ]
     },
     "execution_count": 2,
     "metadata": {},
     "output_type": "execute_result"
    }
   ],
   "source": [
    "\n",
    "print('Количество пропусков до замены')\n",
    "print(data.isna().sum())\n",
    "\n",
    "   \n",
    "\n",
    "data_grouped_median = data.groupby('income_type').agg({'days_employed': ['median'],'total_income': ['median']}) #Применим функцию median по столбам к сгрупированым данным.\n",
    "#print(data_grouped_median['total_income']['median'])\n",
    "income_type = data['income_type'].unique() #получим список групп\n",
    "\n",
    "#print(data_grouped_median['days_employed']['median'])\n",
    "#заменим пропуски на медианное знасение соответсвующей группы.\n",
    "for inc in income_type:\n",
    "    data.loc[data['income_type'] == inc,['total_income']] = data.loc[data['income_type'] == inc,['total_income']].fillna(data_grouped_median['total_income']['median'][inc])\n",
    "    data.loc[data['income_type'] == inc,['days_employed']] = data.loc[data['income_type'] == inc,['days_employed']].fillna(data_grouped_median['days_employed']['median'][inc])\n",
    "#data['total_income'] = data.loc[data['income_type'] == 'госслужащий',['total_income']].fillna(data_grouped_median['total_income']['median']['госслужащий'])\n",
    "print('')  \n",
    "print('Количество пропусков после замены')   \n",
    "print(data.isna().sum())\n",
    "#data.loc[data['income_type'] == 'госслужащий',['total_income']]\n",
    "data.head()\n",
    "\n"
   ]
  },
  {
   "cell_type": "markdown",
   "metadata": {},
   "source": [
    "<div class=\"alert alert-success\">\n",
    "<b>Комментарий ревьюера:</b>\n",
    "\n",
    "Отличный и классный способ заполнить пропуски с помощью сгруппированных данных 👍\n",
    "    \n",
    "Таким образом мы точечно повышаем уровень дисперсии в наших данных.\n",
    "    \n",
    "</div>"
   ]
  },
  {
   "cell_type": "markdown",
   "metadata": {},
   "source": [
    "**Вывод**"
   ]
  },
  {
   "cell_type": "markdown",
   "metadata": {},
   "source": [
    "В столбцах \"days_employed\" (стаж) и \"total_income\" (зарплата) имеется одинаковое количество пропущенных значений. Пропуски составлят 10%. Возможно в какойто момент эти данные на записывались. Заменили пропущенные значения на медианные значения для соответсвующей группы income_type чтобы эти замены как можно меньше воияли на общуб сатаистику."
   ]
  },
  {
   "cell_type": "markdown",
   "metadata": {},
   "source": [
    "### Замена типа данных"
   ]
  },
  {
   "cell_type": "code",
   "execution_count": 3,
   "metadata": {
    "scrolled": true
   },
   "outputs": [
    {
     "name": "stdout",
     "output_type": "stream",
     "text": [
      "Максимальный трудовой стаж 1101, лет\n",
      "Минимальный трудовой стаж -50, лет\n",
      "\n",
      "Медианный трудовой стаж по группам, лет\n",
      "income_type\n",
      "безработный        1003\n",
      "в декрете            -9\n",
      "госслужащий          -7\n",
      "компаньон            -4\n",
      "пенсионер          1000\n",
      "предприниматель      -1\n",
      "сотрудник            -4\n",
      "студент              -1\n",
      "Name: days_employed, dtype: int64\n"
     ]
    }
   ],
   "source": [
    "# заменим тип данных  в столбце days_employed на целочисленный\n",
    "data['days_employed'] = data['days_employed'].astype('int')\n",
    "\n",
    "print('Максимальный трудовой стаж {:.0f}, лет'.format(data['days_employed'].max()/365))\n",
    "print('Минимальный трудовой стаж {:.0f}, лет'.format(data['days_employed'].min()/365))\n",
    "print('')\n",
    "print('Медианный трудовой стаж по группам, лет')\n",
    "print((data.groupby('income_type')['days_employed'].median() / 365).astype('int'))\n",
    "\n",
    "\n",
    "\n",
    "\n"
   ]
  },
  {
   "cell_type": "code",
   "execution_count": 4,
   "metadata": {},
   "outputs": [
    {
     "name": "stdout",
     "output_type": "stream",
     "text": [
      "Максимальный ежемесячный доход 2265604, руб\n",
      "Минимальный ежемесячный доход 20667, руб\n",
      "\n",
      "Медианный ежемесячный доход по группам, руб\n",
      "income_type\n",
      "безработный        131339\n",
      "в декрете           53829\n",
      "госслужащий        150447\n",
      "компаньон          172357\n",
      "пенсионер          118514\n",
      "предприниматель    499163\n",
      "сотрудник          142594\n",
      "студент             98201\n",
      "Name: total_income, dtype: int64\n"
     ]
    }
   ],
   "source": [
    "data['total_income'] = data['total_income'].astype('int') # заменим тип данных  в столбце total_income на целочисленный\n",
    "print('Максимальный ежемесячный доход {:.0f}, руб'.format(data['total_income'].max()))\n",
    "print('Минимальный ежемесячный доход {:.0f}, руб'.format(data['total_income'].min()))\n",
    "print('')\n",
    "print('Медианный ежемесячный доход по группам, руб')\n",
    "print((data.groupby('income_type')['total_income'].median()).astype('int'))"
   ]
  },
  {
   "cell_type": "markdown",
   "metadata": {},
   "source": [
    "<div class=\"alert alert-success\">\n",
    "<b>Комментарий ревьюера:</b>\n",
    "\n",
    "В том числе метод `fillna` и `astype` можно применять к нескольким столбцам одновременно.\n",
    "    \n",
    "Если столбцов более 2–ух, то рекомендую применять цикл `for`.\n",
    "    \n",
    "Пример: \n",
    "    \n",
    "`df.astype({ \"col1\": \"float64\", \"col2\": \"int64\"})`\n",
    "    \n",
    "</div>"
   ]
  },
  {
   "cell_type": "markdown",
   "metadata": {},
   "source": [
    "**Вывод**"
   ]
  },
  {
   "cell_type": "markdown",
   "metadata": {},
   "source": [
    "В столбцах \"days_employed\" и \"total_income\" поменяли тип данных с float на int. Не все данные в столюце \"days_employed\" соответсвуют заявленным. Наблюдаются аномально высокие значения для пенсионеров и безработных. С зарплатми вроде все нормально, если это Москва."
   ]
  },
  {
   "cell_type": "markdown",
   "metadata": {},
   "source": [
    "### Обработка дубликатов"
   ]
  },
  {
   "cell_type": "code",
   "execution_count": 5,
   "metadata": {},
   "outputs": [
    {
     "name": "stdout",
     "output_type": "stream",
     "text": [
      "Колличество дубликатов 54\n"
     ]
    },
    {
     "data": {
      "text/plain": [
       "0"
      ]
     },
     "execution_count": 5,
     "metadata": {},
     "output_type": "execute_result"
    }
   ],
   "source": [
    "data['education'].str.lower()\n",
    "print('Колличество дубликатов',data.duplicated().sum())\n",
    "data = data.drop_duplicates().reset_index(drop = True)\n",
    "data.duplicated().sum()"
   ]
  },
  {
   "cell_type": "markdown",
   "metadata": {},
   "source": [
    "<div class=\"alert alert-success\">\n",
    "<b>Комментарий ревьюера:</b>\n",
    "\n",
    "Обрати внимание, что мы не перевели данные в нижний регистр в столбце.\n",
    "    \n",
    "Оставил приммер ниже.\n",
    "    \n",
    "</div>"
   ]
  },
  {
   "cell_type": "code",
   "execution_count": 6,
   "metadata": {
    "scrolled": true
   },
   "outputs": [
    {
     "name": "stdout",
     "output_type": "stream",
     "text": [
      "Колличество дубликатов 17\n"
     ]
    },
    {
     "data": {
      "text/plain": [
       "0"
      ]
     },
     "execution_count": 6,
     "metadata": {},
     "output_type": "execute_result"
    }
   ],
   "source": [
    "data['education'] = data['education'].str.lower()\n",
    "print('Колличество дубликатов',data.duplicated().sum())\n",
    "data = data.drop_duplicates().reset_index(drop = True)\n",
    "data.duplicated().sum()"
   ]
  },
  {
   "cell_type": "markdown",
   "metadata": {},
   "source": [
    "**Вывод**"
   ]
  },
  {
   "cell_type": "markdown",
   "metadata": {},
   "source": [
    "Обнаружено 54 дубликата. Все они дропнуты. Для поиска и устранения дубликатов использовали метод drop_duplicates() со сбросом индексов. Чтобы исключить повторения предварительно привели все строковые параметры к нижнему регистру."
   ]
  },
  {
   "cell_type": "markdown",
   "metadata": {},
   "source": [
    "<div class=\"alert alert-success\">\n",
    "<b>Комментарий ревьюера:</b>\n",
    "\n",
    "В целом хорошо, что удалили дубликаты, они нам ни к чему.\n",
    "    \n",
    "</div>"
   ]
  },
  {
   "cell_type": "markdown",
   "metadata": {},
   "source": [
    "### Лемматизация"
   ]
  },
  {
   "cell_type": "code",
   "execution_count": 7,
   "metadata": {},
   "outputs": [
    {
     "name": "stdout",
     "output_type": "stream",
     "text": [
      "<class 'pandas.core.frame.DataFrame'>\n",
      "RangeIndex: 110048 entries, 0 to 110047\n",
      "Data columns (total 1 columns):\n",
      "lemmas    110048 non-null object\n",
      "dtypes: object(1)\n",
      "memory usage: 859.9+ KB\n",
      "                  33570\n",
      "\\n                21454\n",
      "недвижимость       6351\n",
      "покупка            5897\n",
      "жилье              4460\n",
      "автомобиль         4306\n",
      "образование        4013\n",
      "с                  2918\n",
      "операция           2604\n",
      "свадьба            2324\n",
      "свой               2230\n",
      "на                 2222\n",
      "строительство      1878\n",
      "высокий            1374\n",
      "получение          1314\n",
      "коммерческий       1311\n",
      "для                1289\n",
      "жилой              1230\n",
      "сделка              941\n",
      "дополнительный      906\n",
      "заниматься          904\n",
      "проведение          768\n",
      "сыграть             765\n",
      "сдача               651\n",
      "семья               638\n",
      "собственный         635\n",
      "со                  627\n",
      "ремонт              607\n",
      "подержанный         486\n",
      "подержать           478\n",
      "приобретение        461\n",
      "профильный          436\n",
      "Name: lemmas, dtype: int64\n"
     ]
    }
   ],
   "source": [
    "from pymystem3 import Mystem\n",
    "m = Mystem()\n",
    "lemmas = []\n",
    "purpose_cat = []\n",
    "# запишем в массив lemmas леммы за столбца purpose\n",
    "for row in range(len(data)):\n",
    "    lem = m.lemmatize(data.loc[row]['purpose'])\n",
    "    for l in lem:\n",
    "        lemmas.append(l)\n",
    "        \n",
    "# создадим dataframe чтобы посчитать колличество уникальных значений применив метод value_counts\n",
    "col = ['lemmas']\n",
    "lemmas_col = pd.DataFrame(data = lemmas, columns = col)\n",
    "lemmas_col.info()\n",
    "print(lemmas_col['lemmas'].value_counts()) \n",
    "#m.lemmatize(data.loc[0]['purpose'])\n",
    "#data.head()\n",
    "\n",
    "\n",
    "\n"
   ]
  },
  {
   "cell_type": "markdown",
   "metadata": {},
   "source": [
    "**Вывод**"
   ]
  },
  {
   "cell_type": "markdown",
   "metadata": {},
   "source": [
    "Лемматизировали цели получения кредита. Среди целей кредита можно воделить следующие: недвижимость, жилье, автомобиль, образование, свадьба, ремонт."
   ]
  },
  {
   "cell_type": "markdown",
   "metadata": {},
   "source": [
    "### Категоризация данных"
   ]
  },
  {
   "cell_type": "code",
   "execution_count": 8,
   "metadata": {},
   "outputs": [
    {
     "name": "stdout",
     "output_type": "stream",
     "text": [
      "\n",
      "Распределение по категориям целей кредита, чел\n",
      "жилье          10811\n",
      "автомобиль      4306\n",
      "образование     4013\n",
      "свадьба         2324\n",
      "Name: purpose_cat, dtype: int64\n",
      "\n",
      "Распределение по категориям дохода, чел\n",
      "средний    16769\n",
      "бедный      4463\n",
      "богатый      222\n",
      "Name: total_income_cat, dtype: int64\n"
     ]
    },
    {
     "data": {
      "text/html": [
       "<div>\n",
       "<style scoped>\n",
       "    .dataframe tbody tr th:only-of-type {\n",
       "        vertical-align: middle;\n",
       "    }\n",
       "\n",
       "    .dataframe tbody tr th {\n",
       "        vertical-align: top;\n",
       "    }\n",
       "\n",
       "    .dataframe thead th {\n",
       "        text-align: right;\n",
       "    }\n",
       "</style>\n",
       "<table border=\"1\" class=\"dataframe\">\n",
       "  <thead>\n",
       "    <tr style=\"text-align: right;\">\n",
       "      <th></th>\n",
       "      <th>children</th>\n",
       "      <th>days_employed</th>\n",
       "      <th>dob_years</th>\n",
       "      <th>education</th>\n",
       "      <th>education_id</th>\n",
       "      <th>family_status</th>\n",
       "      <th>family_status_id</th>\n",
       "      <th>gender</th>\n",
       "      <th>income_type</th>\n",
       "      <th>debt</th>\n",
       "      <th>total_income</th>\n",
       "      <th>purpose</th>\n",
       "      <th>purpose_cat</th>\n",
       "      <th>total_income_cat</th>\n",
       "    </tr>\n",
       "  </thead>\n",
       "  <tbody>\n",
       "    <tr>\n",
       "      <td>0</td>\n",
       "      <td>1</td>\n",
       "      <td>-8437</td>\n",
       "      <td>42</td>\n",
       "      <td>высшее</td>\n",
       "      <td>0</td>\n",
       "      <td>женат / замужем</td>\n",
       "      <td>0</td>\n",
       "      <td>F</td>\n",
       "      <td>сотрудник</td>\n",
       "      <td>0</td>\n",
       "      <td>253875</td>\n",
       "      <td>покупка жилья</td>\n",
       "      <td>жилье</td>\n",
       "      <td>средний</td>\n",
       "    </tr>\n",
       "    <tr>\n",
       "      <td>1</td>\n",
       "      <td>1</td>\n",
       "      <td>-4024</td>\n",
       "      <td>36</td>\n",
       "      <td>среднее</td>\n",
       "      <td>1</td>\n",
       "      <td>женат / замужем</td>\n",
       "      <td>0</td>\n",
       "      <td>F</td>\n",
       "      <td>сотрудник</td>\n",
       "      <td>0</td>\n",
       "      <td>112080</td>\n",
       "      <td>приобретение автомобиля</td>\n",
       "      <td>автомобиль</td>\n",
       "      <td>средний</td>\n",
       "    </tr>\n",
       "    <tr>\n",
       "      <td>2</td>\n",
       "      <td>0</td>\n",
       "      <td>-5623</td>\n",
       "      <td>33</td>\n",
       "      <td>среднее</td>\n",
       "      <td>1</td>\n",
       "      <td>женат / замужем</td>\n",
       "      <td>0</td>\n",
       "      <td>M</td>\n",
       "      <td>сотрудник</td>\n",
       "      <td>0</td>\n",
       "      <td>145885</td>\n",
       "      <td>покупка жилья</td>\n",
       "      <td>жилье</td>\n",
       "      <td>средний</td>\n",
       "    </tr>\n",
       "    <tr>\n",
       "      <td>3</td>\n",
       "      <td>3</td>\n",
       "      <td>-4124</td>\n",
       "      <td>32</td>\n",
       "      <td>среднее</td>\n",
       "      <td>1</td>\n",
       "      <td>женат / замужем</td>\n",
       "      <td>0</td>\n",
       "      <td>M</td>\n",
       "      <td>сотрудник</td>\n",
       "      <td>0</td>\n",
       "      <td>267628</td>\n",
       "      <td>дополнительное образование</td>\n",
       "      <td>образование</td>\n",
       "      <td>средний</td>\n",
       "    </tr>\n",
       "    <tr>\n",
       "      <td>4</td>\n",
       "      <td>0</td>\n",
       "      <td>340266</td>\n",
       "      <td>53</td>\n",
       "      <td>среднее</td>\n",
       "      <td>1</td>\n",
       "      <td>гражданский брак</td>\n",
       "      <td>1</td>\n",
       "      <td>F</td>\n",
       "      <td>пенсионер</td>\n",
       "      <td>0</td>\n",
       "      <td>158616</td>\n",
       "      <td>сыграть свадьбу</td>\n",
       "      <td>свадьба</td>\n",
       "      <td>средний</td>\n",
       "    </tr>\n",
       "  </tbody>\n",
       "</table>\n",
       "</div>"
      ],
      "text/plain": [
       "   children  days_employed  dob_years education  education_id  \\\n",
       "0         1          -8437         42    высшее             0   \n",
       "1         1          -4024         36   среднее             1   \n",
       "2         0          -5623         33   среднее             1   \n",
       "3         3          -4124         32   среднее             1   \n",
       "4         0         340266         53   среднее             1   \n",
       "\n",
       "      family_status  family_status_id gender income_type  debt  total_income  \\\n",
       "0   женат / замужем                 0      F   сотрудник     0        253875   \n",
       "1   женат / замужем                 0      F   сотрудник     0        112080   \n",
       "2   женат / замужем                 0      M   сотрудник     0        145885   \n",
       "3   женат / замужем                 0      M   сотрудник     0        267628   \n",
       "4  гражданский брак                 1      F   пенсионер     0        158616   \n",
       "\n",
       "                      purpose  purpose_cat total_income_cat  \n",
       "0               покупка жилья        жилье          средний  \n",
       "1     приобретение автомобиля   автомобиль          средний  \n",
       "2               покупка жилья        жилье          средний  \n",
       "3  дополнительное образование  образование          средний  \n",
       "4             сыграть свадьбу      свадьба          средний  "
      ]
     },
     "execution_count": 8,
     "metadata": {},
     "output_type": "execute_result"
    }
   ],
   "source": [
    "# запишем массив с категориями\n",
    "purpose_cat = []\n",
    "# для каждого клиента выделим из данных лемматизации категорию и запишем ее.\n",
    "for row in range(len(data)):\n",
    "    lem = m.lemmatize(data.loc[row]['purpose'])\n",
    "    \n",
    "    if 'недвижимость' in lem:\n",
    "        purpose_cat.append('жилье')\n",
    "    elif 'жилье' in lem:\n",
    "        purpose_cat.append('жилье')\n",
    "    elif 'автомобиль' in lem:\n",
    "        purpose_cat.append('автомобиль')\n",
    "    elif 'образование' in lem:\n",
    "        purpose_cat.append('образование')\n",
    "    elif 'свадьба' in lem:\n",
    "        purpose_cat.append('свадьба')\n",
    "    elif 'ремонт' in lem:\n",
    "        purpose_cat.append('ремонт')\n",
    "    else:\n",
    "        purpose_cat.append('-')\n",
    "        \n",
    "# создадим dataframe чтобы посчитать колличество уникальных значений применив метод value_counts    \n",
    "col = ['purpose_cat']\n",
    "purpose_cat_col = pd.DataFrame(data = purpose_cat, columns = col)\n",
    "print('')\n",
    "print('Распределение по категориям целей кредита, чел')\n",
    "print(purpose_cat_col['purpose_cat'].value_counts())\n",
    "# добавим столбец с категориями в общую таблицу\n",
    "data['purpose_cat'] = purpose_cat\n",
    "\n",
    "total_income_cat = []\n",
    "# для каждого клиента определим уровень дохода и отнесем его к группе.\n",
    "for row in range(len(data)):\n",
    "    ti = data.loc[row]['total_income']\n",
    "    if ti <= 100000:\n",
    "        total_income_cat.append('бедный')\n",
    "    if 100000 < ti <= 500000:\n",
    "        total_income_cat.append('средний')\n",
    "    if 500000 < ti:\n",
    "        total_income_cat.append('богатый')\n",
    "                \n",
    "col = ['total_income_cat']\n",
    "total_income_cat_col = pd.DataFrame(data = total_income_cat, columns = col)\n",
    "print('')\n",
    "print('Распределение по категориям дохода, чел')\n",
    "print(total_income_cat_col['total_income_cat'].value_counts())\n",
    "# добавим столбец с категориями в общую таблицу\n",
    "data['total_income_cat'] = total_income_cat\n",
    "\n",
    "\n",
    "data.head()\n"
   ]
  },
  {
   "cell_type": "markdown",
   "metadata": {},
   "source": [
    "<div class=\"alert alert-success\">\n",
    "<b>Комментарий ревьюера:</b>\n",
    "\n",
    "Категории кредитов опредилили верно 👍\n",
    "    \n",
    "</div>"
   ]
  },
  {
   "cell_type": "markdown",
   "metadata": {},
   "source": [
    "<div class=\"alert alert-success\">\n",
    "<b>Комментарий ревьюера:</b>\n",
    "\n",
    "В том числе, чтобы определить категории по нашим доходам, мы можем обратиться к стандартным квантилям.\n",
    "    \n",
    "Если ещё с ними не знакомы, то ничего страшного позже в кусре мы будем их изучать.\n",
    "    \n",
    "</div>"
   ]
  },
  {
   "cell_type": "markdown",
   "metadata": {},
   "source": [
    "**Вывод**"
   ]
  },
  {
   "cell_type": "markdown",
   "metadata": {},
   "source": [
    "Разложили цели кредита на выделенные выше категории. Категория \"ремонт\" как отдельня не выделилась. Видимо она попала в категорию жилье."
   ]
  },
  {
   "cell_type": "markdown",
   "metadata": {},
   "source": [
    "## Шаг 3. Ответьте на вопросы"
   ]
  },
  {
   "cell_type": "markdown",
   "metadata": {},
   "source": [
    "- Есть ли зависимость между наличием детей и возвратом кредита в срок?"
   ]
  },
  {
   "cell_type": "markdown",
   "metadata": {},
   "source": [
    "**Вывод**"
   ]
  },
  {
   "cell_type": "code",
   "execution_count": 9,
   "metadata": {},
   "outputs": [
    {
     "name": "stdout",
     "output_type": "stream",
     "text": [
      "Распредеоение клиентов по колличеству детей:\n",
      "children\n",
      "-1        47\n",
      " 0     14091\n",
      " 1      4808\n",
      " 2      2052\n",
      " 3       330\n",
      " 4        41\n",
      " 5         9\n",
      " 20       76\n",
      "Name: debt, dtype: int64\n",
      "\n",
      "Процент неплательщиков в зависимати от колличества детей, %:\n"
     ]
    },
    {
     "data": {
      "text/plain": [
       "children\n",
       "-1      2\n",
       " 0      7\n",
       " 1      9\n",
       " 2      9\n",
       " 3      8\n",
       " 4      9\n",
       " 5      0\n",
       " 20    10\n",
       "Name: debt, dtype: int64"
      ]
     },
     "execution_count": 9,
     "metadata": {},
     "output_type": "execute_result"
    }
   ],
   "source": [
    "print('Распредеоение клиентов по колличеству детей:')\n",
    "print(data.groupby('children')['debt'].count())\n",
    "print('')\n",
    "print('Процент неплательщиков в зависимати от колличества детей, %:')\n",
    "#сгруппируем данные по столбцу children и посчитаем отношение дожников к общему колличеству человек в группе и выразим в процентах\n",
    "(data.groupby('children')['debt'].sum() / data.groupby('children')['debt'].count() * 100).astype('int') "
   ]
  },
  {
   "cell_type": "markdown",
   "metadata": {},
   "source": [
    "Ярко выраженной зависимоти не наблюдается. Результаты в пределах 7-9% Отбнаружилось 2 артефакта, которые в выводах учитывать не будем. Отрицательных детей быть не может. Возможно опечатка. 20 детей  слишком много и таких людей не может быть так много. Скорей всего это ошибка. Также выделяется группа с 5ю детьми, но она слишком малочисленна чтобы делать по ней выводы. Её можно обьединить с соседней группой."
   ]
  },
  {
   "cell_type": "markdown",
   "metadata": {},
   "source": [
    "<div class=\"alert alert-danger\">\n",
    "<b>Комментарий ревьюера:</b>\n",
    "\n",
    "<s>Обрати внимание, что мы не совсем верно посчитали ответы на вопросы.\n",
    "    \n",
    "Здесь нам нужно посчитать вероятность клиента стать должником.\n",
    "    \n",
    "Как она расчитывается ? \n",
    "    \n",
    "Вероятность = кол–во клиентов не вернувших долг / общее кол–во клиентов в группе\n",
    "    \n",
    "Это посчитать можно с помощью сводных таблиц `pivot_table`, хочу напомнить, что сводные таблицы это те же датафремы. То есть в них можно добавлять столбцы и делать нужные нам расчеты.\n",
    "    \n",
    "Давай поправим пожалуйста эти расчеты.\n",
    "    \n",
    "</div>"
   ]
  },
  {
   "cell_type": "markdown",
   "metadata": {},
   "source": [
    "<div class=\"alert alert-info\"> \n",
    "<b>Комментарий студента:</b> \n",
    "    \n",
    "Привет Евгений!\n",
    "Не понял твоего замечания. Формула которую я использую такаяже. Я счтаю сколько в группе должников data.groupby('family_status')['debt'].sum()\n",
    "и делю на общее колличество человек в группе data.groupby('family_status')['debt'].count() и выражаю в процентах.\n",
    "Зачем тут сводная таблица? для более красочного предствления результатов? \n",
    "</div>"
   ]
  },
  {
   "cell_type": "markdown",
   "metadata": {},
   "source": [
    "<div class=\"alert alert-success\">\n",
    "<b>Комментарий ревьюера (2):</b>\n",
    "\n",
    "Сори, не заметил изменения типа в данных на `int`.\n",
    "    \n",
    "Тогда вся логика расчета верна 😊\n",
    "    \n",
    "---\n",
    "    \n",
    "Лучше в таких расчетах не менять тип в данных, потому что таким образом мы отбрасываем все значения которые есть после запятой.\n",
    "    \n",
    "На крайний случай мы можем использовать метод `round`, чтобы округлить по-математическим правилам наши числа.\n",
    "    \n",
    "</div>"
   ]
  },
  {
   "cell_type": "markdown",
   "metadata": {},
   "source": [
    "- Есть ли зависимость между семейным положением и возвратом кредита в срок?"
   ]
  },
  {
   "cell_type": "code",
   "execution_count": null,
   "metadata": {},
   "outputs": [],
   "source": [
    "print('Распредеоение клиентов по семейному положению, чел:')\n",
    "print(data.groupby('family_status')['debt'].count())\n",
    "print('')\n",
    "print('Процент неплательщиков в зависимати от семейного положения, %:')\n",
    "#сгруппируем данные по столбцу family_status и посчитаем отношение дожников к общему колличеству человек в группе и выразим в процентах\n",
    "(data.groupby('family_status')['debt'].sum() / data.groupby('family_status')['debt'].count() * 100).astype('int')"
   ]
  },
  {
   "cell_type": "markdown",
   "metadata": {},
   "source": [
    "**Вывод**"
   ]
  },
  {
   "cell_type": "markdown",
   "metadata": {},
   "source": [
    "Ярко выраженной зависимоти не наблюдается. Результаты в пределах 6-9%"
   ]
  },
  {
   "cell_type": "markdown",
   "metadata": {},
   "source": [
    "<div class=\"alert alert-success\">\n",
    "<b>Комментарий ревьюера:</b>\n",
    "\n",
    "\n",
    "    \n",
    "Обрати внимание, что наши действия повторяются с точки зрения расчетов.\n",
    "    \n",
    "Это говорит о том, что мы можем создать функцию для постоянных расчетов. Тем самым мы сможем оптимизировать свой код 😊\n",
    "    \n",
    "</div>"
   ]
  },
  {
   "cell_type": "markdown",
   "metadata": {},
   "source": [
    "- Есть ли зависимость между уровнем дохода и возвратом кредита в срок?"
   ]
  },
  {
   "cell_type": "code",
   "execution_count": null,
   "metadata": {},
   "outputs": [],
   "source": [
    "print('Распредеоение клиентов по уровню ещемесячного дохода, чел:')\n",
    "print(data.groupby('total_income_cat')['debt'].count())\n",
    "print('')\n",
    "print('Процент неплательщиков в зависимати от ещемесячного дохода, %:')\n",
    "#сгруппируем данные по столбцу total_income_cat и посчитаем отношение дожников к общему колличеству человек в группе и выразим в процентах\n",
    "(data.groupby('total_income_cat')['debt'].sum() / data.groupby('total_income_cat')['debt'].count() * 100).astype('int')"
   ]
  },
  {
   "cell_type": "markdown",
   "metadata": {},
   "source": [
    "**Вывод**"
   ]
  },
  {
   "cell_type": "markdown",
   "metadata": {},
   "source": [
    "Ярко выраженной зависимоти не наблюдается. Результаты в пределах 6-8%"
   ]
  },
  {
   "cell_type": "markdown",
   "metadata": {},
   "source": [
    "- Как разные цели кредита влияют на его возврат в срок?"
   ]
  },
  {
   "cell_type": "code",
   "execution_count": null,
   "metadata": {},
   "outputs": [],
   "source": [
    "print('Распредеоение клиентов по уровню ещемесячного дохода, чел:')\n",
    "print(data.groupby('purpose_cat')['debt'].count())\n",
    "print('')\n",
    "print('Процент неплательщиков в зависимати от ещемесячного дохода, %:')\n",
    "#сгруппируем данные по столбцу purpose_cat и посчитаем отношение дожников к общему колличеству человек в группе и выразим в процентах\n",
    "(data.groupby('purpose_cat')['debt'].sum() / data.groupby('purpose_cat')['debt'].count() * 100).astype('int')"
   ]
  },
  {
   "cell_type": "markdown",
   "metadata": {},
   "source": [
    "**Вывод**"
   ]
  },
  {
   "cell_type": "markdown",
   "metadata": {},
   "source": [
    "Ярко выраженной зависимоти не наблюдается. Результаты в пределах 7-9%"
   ]
  },
  {
   "cell_type": "markdown",
   "metadata": {},
   "source": [
    "<div class=\"alert alert-success\">\n",
    "<b>Комментарий ревьюера:</b>\n",
    "\n",
    "\n",
    "    \n",
    "В том числе можно было бы построить графики, например с помощью метода `hist` \n",
    "    \n",
    "Как раз способы визуализации, мы уже будем проходить в следующем проекте 😊\n",
    "    \n",
    "</div>"
   ]
  },
  {
   "cell_type": "markdown",
   "metadata": {},
   "source": [
    "<div class=\"alert alert-success\">\n",
    "<b>Комментарий ревьюера:</b>\n",
    "\n",
    "В целом если мы посмотрим на расчеты, то все таки сможем заметить различия в вероятностях тех или иных групп в бОльшей степени стать должником.\n",
    "    \n",
    "Именно такие вероятности обычно используются при построении скоринговых моделей, когда модель оценивает платежеспособность клиента.\n",
    "    \n",
    "\n",
    "    \n",
    "</div>"
   ]
  },
  {
   "cell_type": "markdown",
   "metadata": {},
   "source": [
    "## Шаг 4. Общий вывод"
   ]
  },
  {
   "cell_type": "markdown",
   "metadata": {},
   "source": [
    "Правнализировали статистику платежеспособности клиентов банка. Не нашли никакой интересной иформации. Процент должников не зависит не от семейного положения, ни от уровня дохода, ни от колличества детей, ни от целей крелита. Нужно выдавать кредит всем категорям граждан без дискриминации.\n",
    "Надо разобратся со сбором статистики по общему трудовому стажу. Данные явно записываются не правильно. "
   ]
  },
  {
   "cell_type": "markdown",
   "metadata": {},
   "source": [
    "<div class=\"alert alert-success\">\n",
    "<b>Комментарий ревьюера:</b>\n",
    "\n",
    "       \n",
    "В целом сам проект выполнен на хорошем уровне! На протяжении всей работы чувствуется глубина проработки задачи и это безусловный плюс для нас.\n",
    "    \n",
    "Хочется отметить, что мы узнали достаточно много нового в этом проекте и с уверенностью можем двигаться дальше. На что рекомендую обращать внимание сразу с самого старта так сказать, а именно на повторяемость кода. Если наши действия начинают повторяться более 2-х раз, то имеет смысл задуматься над: \n",
    "    \n",
    "- внедрением цикла \n",
    "- внедрением функции\n",
    "- внедрением комбинации цикл + функция\n",
    "    \n",
    "Такие вещи могут сразу не бросаться в глаза, но постепенно мы придём к такому подходу 😊\n",
    "    \n",
    "Поздравляю с успешным завершением проекта 😊👍\n",
    "    \n",
    "И желаю успехов в новых работах 😊\n",
    "    \n",
    "**[общий комментарий]** Не стоит забывать про оформление своей работы, это важный такой же важный этап. Рекомендую «не стесняться» использовать ячейки типа **markdown** там где нам необходимо отобразить свои размышления, в том числе с использованием дополнительной стилизации.\n",
    "    \n",
    "https://sqlbak.com/blog/jupyter-notebook-markdown-cheatsheet\n",
    "    \n",
    "    \n",
    "</div>"
   ]
  },
  {
   "cell_type": "markdown",
   "metadata": {},
   "source": [
    "## Чек-лист готовности проекта\n",
    "\n",
    "Поставьте 'x' в выполненных пунктах. Далее нажмите Shift+Enter."
   ]
  },
  {
   "cell_type": "markdown",
   "metadata": {},
   "source": [
    "- [x]  открыт файл;\n",
    "- [ ]  файл изучен;\n",
    "- [ ]  определены пропущенные значения;\n",
    "- [ ]  заполнены пропущенные значения;\n",
    "- [ ]  есть пояснение, какие пропущенные значения обнаружены;\n",
    "- [ ]  описаны возможные причины появления пропусков в данных;\n",
    "- [ ]  объяснено, по какому принципу заполнены пропуски;\n",
    "- [ ]  заменен вещественный тип данных на целочисленный;\n",
    "- [ ]  есть пояснение, какой метод используется для изменения типа данных и почему;\n",
    "- [ ]  удалены дубликаты;\n",
    "- [ ]  есть пояснение, какой метод используется для поиска и удаления дубликатов;\n",
    "- [ ]  описаны возможные причины появления дубликатов в данных;\n",
    "- [ ]  выделены леммы в значениях столбца с целями получения кредита;\n",
    "- [ ]  описан процесс лемматизации;\n",
    "- [ ]  данные категоризированы;\n",
    "- [ ]  есть объяснение принципа категоризации данных;\n",
    "- [ ]  есть ответ на вопрос: \"Есть ли зависимость между наличием детей и возвратом кредита в срок?\";\n",
    "- [ ]  есть ответ на вопрос: \"Есть ли зависимость между семейным положением и возвратом кредита в срок?\";\n",
    "- [ ]  есть ответ на вопрос: \"Есть ли зависимость между уровнем дохода и возвратом кредита в срок?\";\n",
    "- [ ]  есть ответ на вопрос: \"Как разные цели кредита влияют на его возврат в срок?\";\n",
    "- [ ]  в каждом этапе есть выводы;\n",
    "- [ ]  есть общий вывод."
   ]
  }
 ],
 "metadata": {
  "ExecuteTimeLog": [
   {
    "duration": 884,
    "start_time": "2021-06-26T10:59:40.649Z"
   },
   {
    "duration": 91,
    "start_time": "2021-06-26T11:00:58.850Z"
   },
   {
    "duration": 323,
    "start_time": "2021-06-27T20:56:40.566Z"
   },
   {
    "duration": 1117,
    "start_time": "2021-06-27T20:57:46.983Z"
   },
   {
    "duration": 28,
    "start_time": "2021-06-27T20:57:53.950Z"
   },
   {
    "duration": 13,
    "start_time": "2021-06-27T20:58:16.835Z"
   },
   {
    "duration": 13,
    "start_time": "2021-06-27T22:03:00.087Z"
   },
   {
    "duration": 13,
    "start_time": "2021-06-27T22:03:18.624Z"
   },
   {
    "duration": 830,
    "start_time": "2021-06-27T22:10:00.279Z"
   },
   {
    "duration": 13,
    "start_time": "2021-06-27T22:10:01.115Z"
   },
   {
    "duration": 409,
    "start_time": "2021-06-27T22:11:09.935Z"
   },
   {
    "duration": 77,
    "start_time": "2021-06-27T22:11:38.025Z"
   },
   {
    "duration": 86,
    "start_time": "2021-06-27T22:12:03.907Z"
   },
   {
    "duration": 30,
    "start_time": "2021-06-27T22:22:02.144Z"
   },
   {
    "duration": 31,
    "start_time": "2021-06-27T22:22:06.168Z"
   },
   {
    "duration": 306,
    "start_time": "2021-06-27T22:22:36.491Z"
   },
   {
    "duration": 257,
    "start_time": "2021-06-27T22:23:10.893Z"
   },
   {
    "duration": 957,
    "start_time": "2021-06-27T22:23:22.831Z"
   },
   {
    "duration": 28,
    "start_time": "2021-06-27T22:23:26.802Z"
   },
   {
    "duration": 35,
    "start_time": "2021-06-27T22:24:00.724Z"
   },
   {
    "duration": 53,
    "start_time": "2021-06-27T22:33:41.996Z"
   },
   {
    "duration": 56,
    "start_time": "2021-06-27T22:34:07.448Z"
   },
   {
    "duration": 41,
    "start_time": "2021-06-27T22:35:15.008Z"
   },
   {
    "duration": 27,
    "start_time": "2021-06-27T22:36:41.265Z"
   },
   {
    "duration": 21,
    "start_time": "2021-06-27T22:37:17.591Z"
   },
   {
    "duration": 12,
    "start_time": "2021-06-27T23:09:06.524Z"
   },
   {
    "duration": 792,
    "start_time": "2021-06-27T23:09:19.281Z"
   },
   {
    "duration": 12,
    "start_time": "2021-06-27T23:09:20.075Z"
   },
   {
    "duration": 368,
    "start_time": "2021-06-27T23:45:18.681Z"
   },
   {
    "duration": 287,
    "start_time": "2021-06-27T23:45:34.952Z"
   },
   {
    "duration": 12,
    "start_time": "2021-06-27T23:46:45.311Z"
   },
   {
    "duration": 21,
    "start_time": "2021-06-27T23:49:27.241Z"
   },
   {
    "duration": 28,
    "start_time": "2021-06-27T23:53:08.307Z"
   },
   {
    "duration": 6810,
    "start_time": "2021-06-27T23:54:33.619Z"
   },
   {
    "duration": 287,
    "start_time": "2021-06-27T23:55:02.799Z"
   },
   {
    "duration": 80,
    "start_time": "2021-06-27T23:56:26.323Z"
   },
   {
    "duration": 82,
    "start_time": "2021-06-27T23:56:51.183Z"
   },
   {
    "duration": 287,
    "start_time": "2021-06-27T23:57:36.058Z"
   },
   {
    "duration": 287,
    "start_time": "2021-06-27T23:58:00.006Z"
   },
   {
    "duration": 273,
    "start_time": "2021-06-27T23:58:46.370Z"
   },
   {
    "duration": 25,
    "start_time": "2021-06-28T00:02:11.525Z"
   },
   {
    "duration": 850,
    "start_time": "2021-06-28T23:09:44.827Z"
   },
   {
    "duration": 396,
    "start_time": "2021-06-28T23:09:45.680Z"
   },
   {
    "duration": 26,
    "start_time": "2021-06-28T23:10:07.036Z"
   },
   {
    "duration": 13,
    "start_time": "2021-06-28T23:15:01.067Z"
   },
   {
    "duration": 13,
    "start_time": "2021-06-28T23:15:18.051Z"
   },
   {
    "duration": 30,
    "start_time": "2021-06-28T23:18:35.322Z"
   },
   {
    "duration": 25,
    "start_time": "2021-06-28T23:18:55.728Z"
   },
   {
    "duration": 23,
    "start_time": "2021-06-28T23:19:14.105Z"
   },
   {
    "duration": 23,
    "start_time": "2021-06-28T23:19:25.930Z"
   },
   {
    "duration": 23,
    "start_time": "2021-06-28T23:19:41.153Z"
   },
   {
    "duration": 22,
    "start_time": "2021-06-28T23:19:50.682Z"
   },
   {
    "duration": 27,
    "start_time": "2021-06-28T23:20:45.737Z"
   },
   {
    "duration": 22,
    "start_time": "2021-06-28T23:20:51.603Z"
   },
   {
    "duration": 21,
    "start_time": "2021-06-28T23:21:19.186Z"
   },
   {
    "duration": 22,
    "start_time": "2021-06-28T23:24:43.944Z"
   },
   {
    "duration": 44,
    "start_time": "2021-06-28T23:24:57.231Z"
   },
   {
    "duration": 122,
    "start_time": "2021-06-28T23:32:11.844Z"
   },
   {
    "duration": 102,
    "start_time": "2021-06-28T23:32:49.199Z"
   },
   {
    "duration": 120,
    "start_time": "2021-06-28T23:33:00.469Z"
   },
   {
    "duration": 368,
    "start_time": "2021-06-28T23:33:20.846Z"
   },
   {
    "duration": 308,
    "start_time": "2021-06-28T23:34:55.541Z"
   },
   {
    "duration": 35,
    "start_time": "2021-06-28T23:35:28.182Z"
   },
   {
    "duration": -1183,
    "start_time": "2021-06-28T23:37:21.374Z"
   },
   {
    "duration": 24,
    "start_time": "2021-06-28T23:42:02.531Z"
   },
   {
    "duration": 24,
    "start_time": "2021-06-28T23:42:25.055Z"
   },
   {
    "duration": 24,
    "start_time": "2021-06-28T23:42:46.364Z"
   },
   {
    "duration": 8299,
    "start_time": "2021-06-28T23:46:00.722Z"
   },
   {
    "duration": 7851,
    "start_time": "2021-06-28T23:46:24.635Z"
   },
   {
    "duration": 6155,
    "start_time": "2021-06-28T23:46:53.186Z"
   },
   {
    "duration": 32,
    "start_time": "2021-06-28T23:47:50.010Z"
   },
   {
    "duration": 32,
    "start_time": "2021-06-28T23:48:48.641Z"
   },
   {
    "duration": 32,
    "start_time": "2021-06-28T23:48:56.970Z"
   },
   {
    "duration": 39,
    "start_time": "2021-06-28T23:49:23.696Z"
   },
   {
    "duration": 39,
    "start_time": "2021-06-28T23:49:36.748Z"
   },
   {
    "duration": 43,
    "start_time": "2021-06-28T23:50:04.449Z"
   },
   {
    "duration": 55,
    "start_time": "2021-06-28T23:50:12.250Z"
   },
   {
    "duration": 39,
    "start_time": "2021-06-28T23:50:29.527Z"
   },
   {
    "duration": 40,
    "start_time": "2021-06-28T23:51:39.663Z"
   },
   {
    "duration": 53,
    "start_time": "2021-06-28T23:52:01.784Z"
   },
   {
    "duration": 56,
    "start_time": "2021-06-28T23:52:51.225Z"
   },
   {
    "duration": 57,
    "start_time": "2021-06-28T23:53:29.302Z"
   },
   {
    "duration": 39,
    "start_time": "2021-06-28T23:56:18.096Z"
   },
   {
    "duration": 41,
    "start_time": "2021-06-29T00:00:27.821Z"
   },
   {
    "duration": 26,
    "start_time": "2021-06-29T00:00:38.624Z"
   },
   {
    "duration": 28,
    "start_time": "2021-06-29T00:05:17.988Z"
   },
   {
    "duration": 62,
    "start_time": "2021-06-29T00:06:05.668Z"
   },
   {
    "duration": 62,
    "start_time": "2021-06-29T00:06:46.284Z"
   },
   {
    "duration": 87,
    "start_time": "2021-06-29T00:06:59.235Z"
   },
   {
    "duration": 71,
    "start_time": "2021-06-29T00:07:24.652Z"
   },
   {
    "duration": 75,
    "start_time": "2021-06-29T00:10:38.581Z"
   },
   {
    "duration": 70,
    "start_time": "2021-06-29T00:10:47.788Z"
   },
   {
    "duration": 602,
    "start_time": "2021-06-29T00:11:40.091Z"
   },
   {
    "duration": 72,
    "start_time": "2021-06-29T00:12:05.586Z"
   },
   {
    "duration": 108,
    "start_time": "2021-06-29T00:13:07.789Z"
   },
   {
    "duration": 91,
    "start_time": "2021-06-29T00:14:06.955Z"
   },
   {
    "duration": 571,
    "start_time": "2021-06-29T00:14:36.258Z"
   },
   {
    "duration": 525,
    "start_time": "2021-06-29T00:16:25.595Z"
   },
   {
    "duration": 541,
    "start_time": "2021-06-29T00:18:26.940Z"
   },
   {
    "duration": 570,
    "start_time": "2021-06-29T00:18:39.973Z"
   },
   {
    "duration": 886,
    "start_time": "2021-06-29T00:18:55.135Z"
   },
   {
    "duration": 122,
    "start_time": "2021-06-29T00:18:56.023Z"
   },
   {
    "duration": 81,
    "start_time": "2021-06-29T00:19:19.515Z"
   },
   {
    "duration": 549,
    "start_time": "2021-06-29T00:19:43.400Z"
   },
   {
    "duration": 81,
    "start_time": "2021-06-29T00:19:59.179Z"
   },
   {
    "duration": 42,
    "start_time": "2021-06-29T00:21:10.291Z"
   },
   {
    "duration": 834,
    "start_time": "2021-06-29T00:21:16.983Z"
   },
   {
    "duration": 55,
    "start_time": "2021-06-29T00:21:17.820Z"
   },
   {
    "duration": 908,
    "start_time": "2021-06-29T00:23:49.745Z"
   },
   {
    "duration": 65,
    "start_time": "2021-06-29T00:23:50.655Z"
   },
   {
    "duration": 102,
    "start_time": "2021-06-29T00:25:04.547Z"
   },
   {
    "duration": 107,
    "start_time": "2021-06-29T00:25:46.911Z"
   },
   {
    "duration": 8902,
    "start_time": "2021-06-29T00:26:19.144Z"
   },
   {
    "duration": 97,
    "start_time": "2021-06-29T00:27:00.695Z"
   },
   {
    "duration": 835,
    "start_time": "2021-06-29T00:27:09.098Z"
   },
   {
    "duration": 78,
    "start_time": "2021-06-29T00:27:09.935Z"
   },
   {
    "duration": 64,
    "start_time": "2021-06-29T00:27:42.369Z"
   },
   {
    "duration": 71,
    "start_time": "2021-06-29T00:28:41.734Z"
   },
   {
    "duration": 63,
    "start_time": "2021-06-29T00:29:35.184Z"
   },
   {
    "duration": 64,
    "start_time": "2021-06-29T00:29:59.514Z"
   },
   {
    "duration": 883,
    "start_time": "2021-06-29T00:30:05.695Z"
   },
   {
    "duration": 66,
    "start_time": "2021-06-29T00:30:06.581Z"
   },
   {
    "duration": 76,
    "start_time": "2021-06-29T00:31:19.220Z"
   },
   {
    "duration": 83,
    "start_time": "2021-06-29T00:31:47.909Z"
   },
   {
    "duration": 831,
    "start_time": "2021-06-29T00:31:55.209Z"
   },
   {
    "duration": 92,
    "start_time": "2021-06-29T00:31:56.043Z"
   },
   {
    "duration": 74,
    "start_time": "2021-06-29T00:32:34.763Z"
   },
   {
    "duration": 2346,
    "start_time": "2021-06-29T00:32:59.501Z"
   },
   {
    "duration": 75,
    "start_time": "2021-06-29T00:33:10.803Z"
   },
   {
    "duration": 81,
    "start_time": "2021-06-29T00:33:31.956Z"
   },
   {
    "duration": 42,
    "start_time": "2021-06-29T00:33:50.104Z"
   },
   {
    "duration": 861,
    "start_time": "2021-06-29T00:33:55.680Z"
   },
   {
    "duration": 47,
    "start_time": "2021-06-29T00:33:56.545Z"
   },
   {
    "duration": -1192,
    "start_time": "2021-06-29T00:35:21.267Z"
   },
   {
    "duration": -1193,
    "start_time": "2021-06-29T00:35:21.269Z"
   },
   {
    "duration": 315,
    "start_time": "2021-06-29T00:35:57.532Z"
   },
   {
    "duration": 866,
    "start_time": "2021-06-29T00:36:53.247Z"
   },
   {
    "duration": 35,
    "start_time": "2021-06-29T00:36:54.116Z"
   },
   {
    "duration": 72,
    "start_time": "2021-06-29T00:38:16.991Z"
   },
   {
    "duration": 869,
    "start_time": "2021-06-29T00:38:25.146Z"
   },
   {
    "duration": 75,
    "start_time": "2021-06-29T00:38:26.018Z"
   },
   {
    "duration": 74,
    "start_time": "2021-06-29T00:39:11.834Z"
   },
   {
    "duration": 112,
    "start_time": "2021-06-29T00:40:06.245Z"
   },
   {
    "duration": 833,
    "start_time": "2021-06-29T00:40:19.009Z"
   },
   {
    "duration": 131,
    "start_time": "2021-06-29T00:40:19.844Z"
   },
   {
    "duration": 110,
    "start_time": "2021-06-29T00:40:34.066Z"
   },
   {
    "duration": 113,
    "start_time": "2021-06-29T00:41:31.490Z"
   },
   {
    "duration": 847,
    "start_time": "2021-06-29T00:41:36.590Z"
   },
   {
    "duration": 122,
    "start_time": "2021-06-29T00:41:37.439Z"
   },
   {
    "duration": 106,
    "start_time": "2021-06-29T00:41:50.475Z"
   },
   {
    "duration": 98,
    "start_time": "2021-06-29T00:42:14.786Z"
   },
   {
    "duration": 109,
    "start_time": "2021-06-29T00:48:38.704Z"
   },
   {
    "duration": 109,
    "start_time": "2021-06-29T00:49:45.361Z"
   },
   {
    "duration": 182,
    "start_time": "2021-06-29T00:51:56.864Z"
   },
   {
    "duration": 345,
    "start_time": "2021-06-29T21:56:23.250Z"
   },
   {
    "duration": 926,
    "start_time": "2021-06-29T21:56:28.915Z"
   },
   {
    "duration": 198,
    "start_time": "2021-06-29T21:56:29.844Z"
   },
   {
    "duration": 172,
    "start_time": "2021-06-29T21:56:51.902Z"
   },
   {
    "duration": 180,
    "start_time": "2021-06-29T21:57:25.114Z"
   },
   {
    "duration": 306,
    "start_time": "2021-06-29T21:57:56.023Z"
   },
   {
    "duration": 1200,
    "start_time": "2021-06-29T21:58:28.267Z"
   },
   {
    "duration": 194,
    "start_time": "2021-06-29T21:58:29.469Z"
   },
   {
    "duration": 173,
    "start_time": "2021-06-29T21:58:51.197Z"
   },
   {
    "duration": 179,
    "start_time": "2021-06-29T22:00:05.173Z"
   },
   {
    "duration": 833,
    "start_time": "2021-06-29T22:00:27.519Z"
   },
   {
    "duration": 195,
    "start_time": "2021-06-29T22:00:28.356Z"
   },
   {
    "duration": 92,
    "start_time": "2021-06-29T22:00:28.554Z"
   },
   {
    "duration": 180,
    "start_time": "2021-06-29T22:01:42.062Z"
   },
   {
    "duration": 6,
    "start_time": "2021-06-29T22:03:39.349Z"
   },
   {
    "duration": 20,
    "start_time": "2021-06-29T22:03:55.619Z"
   },
   {
    "duration": 20,
    "start_time": "2021-06-29T22:04:30.244Z"
   },
   {
    "duration": 7,
    "start_time": "2021-06-29T22:04:38.284Z"
   },
   {
    "duration": 9,
    "start_time": "2021-06-29T22:04:50.349Z"
   },
   {
    "duration": 28,
    "start_time": "2021-06-29T22:07:47.898Z"
   },
   {
    "duration": 23,
    "start_time": "2021-06-29T22:09:06.425Z"
   },
   {
    "duration": 400,
    "start_time": "2021-06-29T22:09:42.930Z"
   },
   {
    "duration": 315,
    "start_time": "2021-06-29T22:11:13.075Z"
   },
   {
    "duration": 314,
    "start_time": "2021-06-29T22:11:31.041Z"
   },
   {
    "duration": 63,
    "start_time": "2021-06-29T22:11:51.265Z"
   },
   {
    "duration": 312,
    "start_time": "2021-06-29T22:12:04.797Z"
   },
   {
    "duration": 59,
    "start_time": "2021-06-29T22:12:11.618Z"
   },
   {
    "duration": 22,
    "start_time": "2021-06-29T22:12:21.665Z"
   },
   {
    "duration": 50,
    "start_time": "2021-06-29T22:12:31.745Z"
   },
   {
    "duration": 57,
    "start_time": "2021-06-29T22:12:41.896Z"
   },
   {
    "duration": 80,
    "start_time": "2021-06-29T22:17:03.655Z"
   },
   {
    "duration": 71,
    "start_time": "2021-06-29T22:17:19.736Z"
   },
   {
    "duration": 836,
    "start_time": "2021-06-29T22:17:33.341Z"
   },
   {
    "duration": 202,
    "start_time": "2021-06-29T22:17:34.180Z"
   },
   {
    "duration": 8,
    "start_time": "2021-06-29T22:17:34.385Z"
   },
   {
    "duration": 97,
    "start_time": "2021-06-29T22:17:34.396Z"
   },
   {
    "duration": 53,
    "start_time": "2021-06-29T22:17:42.138Z"
   },
   {
    "duration": 59,
    "start_time": "2021-06-29T22:18:20.493Z"
   },
   {
    "duration": 438,
    "start_time": "2021-06-30T20:22:03.764Z"
   },
   {
    "duration": 876,
    "start_time": "2021-06-30T20:22:10.830Z"
   },
   {
    "duration": 184,
    "start_time": "2021-06-30T20:22:11.709Z"
   },
   {
    "duration": 14,
    "start_time": "2021-06-30T20:22:11.896Z"
   },
   {
    "duration": 72,
    "start_time": "2021-06-30T20:22:11.913Z"
   },
   {
    "duration": 57,
    "start_time": "2021-06-30T20:23:27.995Z"
   },
   {
    "duration": 72,
    "start_time": "2021-06-30T20:23:57.826Z"
   },
   {
    "duration": 80,
    "start_time": "2021-06-30T20:24:07.038Z"
   },
   {
    "duration": 838,
    "start_time": "2021-06-30T20:24:12.434Z"
   },
   {
    "duration": 191,
    "start_time": "2021-06-30T20:24:13.275Z"
   },
   {
    "duration": 7,
    "start_time": "2021-06-30T20:24:13.469Z"
   },
   {
    "duration": 92,
    "start_time": "2021-06-30T20:24:13.479Z"
   },
   {
    "duration": 141,
    "start_time": "2021-06-30T20:25:03.970Z"
   },
   {
    "duration": 882,
    "start_time": "2021-06-30T20:25:16.195Z"
   },
   {
    "duration": 193,
    "start_time": "2021-06-30T20:25:17.079Z"
   },
   {
    "duration": 7,
    "start_time": "2021-06-30T20:25:17.275Z"
   },
   {
    "duration": 108,
    "start_time": "2021-06-30T20:25:17.284Z"
   },
   {
    "duration": 8,
    "start_time": "2021-06-30T20:27:54.441Z"
   },
   {
    "duration": 541,
    "start_time": "2021-06-30T20:28:19.383Z"
   },
   {
    "duration": 117,
    "start_time": "2021-06-30T20:28:42.272Z"
   },
   {
    "duration": 833,
    "start_time": "2021-06-30T20:29:17.246Z"
   },
   {
    "duration": 187,
    "start_time": "2021-06-30T20:29:18.081Z"
   },
   {
    "duration": 112,
    "start_time": "2021-06-30T20:29:18.271Z"
   },
   {
    "duration": -633,
    "start_time": "2021-06-30T20:29:19.019Z"
   },
   {
    "duration": 147,
    "start_time": "2021-06-30T20:29:28.296Z"
   },
   {
    "duration": 8,
    "start_time": "2021-06-30T20:29:43.689Z"
   },
   {
    "duration": 6,
    "start_time": "2021-06-30T20:30:50.012Z"
   },
   {
    "duration": 115,
    "start_time": "2021-06-30T20:35:28.406Z"
   },
   {
    "duration": 7,
    "start_time": "2021-06-30T20:35:57.439Z"
   },
   {
    "duration": 7,
    "start_time": "2021-06-30T20:39:48.451Z"
   },
   {
    "duration": 203,
    "start_time": "2021-06-30T20:41:48.553Z"
   },
   {
    "duration": 968,
    "start_time": "2021-06-30T20:41:56.773Z"
   },
   {
    "duration": 195,
    "start_time": "2021-06-30T20:41:57.743Z"
   },
   {
    "duration": 9,
    "start_time": "2021-06-30T20:41:57.942Z"
   },
   {
    "duration": 106,
    "start_time": "2021-06-30T20:41:57.954Z"
   },
   {
    "duration": 207,
    "start_time": "2021-06-30T20:42:33.208Z"
   },
   {
    "duration": 884,
    "start_time": "2021-06-30T20:42:40.118Z"
   },
   {
    "duration": 281,
    "start_time": "2021-06-30T20:42:41.005Z"
   },
   {
    "duration": 19,
    "start_time": "2021-06-30T20:42:41.290Z"
   },
   {
    "duration": 97,
    "start_time": "2021-06-30T20:42:41.312Z"
   },
   {
    "duration": 202,
    "start_time": "2021-06-30T20:43:26.596Z"
   },
   {
    "duration": 204,
    "start_time": "2021-06-30T20:43:41.188Z"
   },
   {
    "duration": 208,
    "start_time": "2021-06-30T20:47:25.195Z"
   },
   {
    "duration": 206,
    "start_time": "2021-06-30T20:47:52.154Z"
   },
   {
    "duration": 898,
    "start_time": "2021-06-30T20:48:39.583Z"
   },
   {
    "duration": 199,
    "start_time": "2021-06-30T20:48:40.484Z"
   },
   {
    "duration": 8,
    "start_time": "2021-06-30T20:48:40.685Z"
   },
   {
    "duration": 75,
    "start_time": "2021-06-30T20:48:40.710Z"
   },
   {
    "duration": 216,
    "start_time": "2021-06-30T20:51:09.585Z"
   },
   {
    "duration": 874,
    "start_time": "2021-06-30T20:51:41.220Z"
   },
   {
    "duration": 214,
    "start_time": "2021-06-30T20:51:42.097Z"
   },
   {
    "duration": 7,
    "start_time": "2021-06-30T20:51:42.317Z"
   },
   {
    "duration": 101,
    "start_time": "2021-06-30T20:51:42.326Z"
   },
   {
    "duration": 916,
    "start_time": "2021-06-30T20:53:01.371Z"
   },
   {
    "duration": 225,
    "start_time": "2021-06-30T20:53:02.290Z"
   },
   {
    "duration": 9,
    "start_time": "2021-06-30T20:53:02.518Z"
   },
   {
    "duration": 105,
    "start_time": "2021-06-30T20:53:02.529Z"
   },
   {
    "duration": 16,
    "start_time": "2021-06-30T20:54:19.057Z"
   },
   {
    "duration": 495,
    "start_time": "2021-06-30T20:55:35.620Z"
   },
   {
    "duration": 29,
    "start_time": "2021-06-30T20:56:02.868Z"
   },
   {
    "duration": 14,
    "start_time": "2021-06-30T20:57:35.528Z"
   },
   {
    "duration": 410,
    "start_time": "2021-06-30T20:58:23.014Z"
   },
   {
    "duration": 913,
    "start_time": "2021-06-30T20:58:37.073Z"
   },
   {
    "duration": 213,
    "start_time": "2021-06-30T20:58:37.989Z"
   },
   {
    "duration": 480,
    "start_time": "2021-06-30T20:58:38.209Z"
   },
   {
    "duration": -652,
    "start_time": "2021-06-30T20:58:39.344Z"
   },
   {
    "duration": 1023,
    "start_time": "2021-06-30T20:59:47.548Z"
   },
   {
    "duration": 114,
    "start_time": "2021-06-30T20:59:59.637Z"
   },
   {
    "duration": 13,
    "start_time": "2021-06-30T21:00:11.687Z"
   },
   {
    "duration": 536,
    "start_time": "2021-06-30T21:01:29.447Z"
   },
   {
    "duration": 12,
    "start_time": "2021-06-30T21:03:22.479Z"
   },
   {
    "duration": 14,
    "start_time": "2021-06-30T21:03:56.809Z"
   },
   {
    "duration": 13,
    "start_time": "2021-06-30T21:04:04.336Z"
   },
   {
    "duration": 16,
    "start_time": "2021-06-30T21:04:21.982Z"
   },
   {
    "duration": 410,
    "start_time": "2021-06-30T21:05:46.358Z"
   },
   {
    "duration": 14,
    "start_time": "2021-06-30T21:05:54.197Z"
   },
   {
    "duration": 18,
    "start_time": "2021-06-30T21:06:45.367Z"
   },
   {
    "duration": 15,
    "start_time": "2021-06-30T21:06:49.987Z"
   },
   {
    "duration": 856,
    "start_time": "2021-06-30T21:06:58.042Z"
   },
   {
    "duration": 242,
    "start_time": "2021-06-30T21:06:58.902Z"
   },
   {
    "duration": 23,
    "start_time": "2021-06-30T21:06:59.147Z"
   },
   {
    "duration": 98,
    "start_time": "2021-06-30T21:06:59.172Z"
   },
   {
    "duration": 14,
    "start_time": "2021-06-30T21:07:22.968Z"
   },
   {
    "duration": 261,
    "start_time": "2021-06-30T21:22:03.014Z"
   },
   {
    "duration": 322,
    "start_time": "2021-06-30T21:23:19.251Z"
   },
   {
    "duration": 511,
    "start_time": "2021-06-30T21:24:00.542Z"
   },
   {
    "duration": 152,
    "start_time": "2021-06-30T21:31:47.496Z"
   },
   {
    "duration": 869,
    "start_time": "2021-06-30T21:31:58.730Z"
   },
   {
    "duration": 146,
    "start_time": "2021-06-30T21:31:59.602Z"
   },
   {
    "duration": -647,
    "start_time": "2021-06-30T21:32:00.398Z"
   },
   {
    "duration": -648,
    "start_time": "2021-06-30T21:32:00.400Z"
   },
   {
    "duration": 193,
    "start_time": "2021-06-30T21:32:20.733Z"
   },
   {
    "duration": 190,
    "start_time": "2021-06-30T21:33:11.022Z"
   },
   {
    "duration": 838,
    "start_time": "2021-06-30T21:33:21.064Z"
   },
   {
    "duration": 207,
    "start_time": "2021-06-30T21:33:21.905Z"
   },
   {
    "duration": 22,
    "start_time": "2021-06-30T21:33:22.114Z"
   },
   {
    "duration": 110,
    "start_time": "2021-06-30T21:33:22.139Z"
   },
   {
    "duration": 201,
    "start_time": "2021-06-30T21:34:55.176Z"
   },
   {
    "duration": 9677,
    "start_time": "2021-06-30T21:38:06.032Z"
   },
   {
    "duration": 906,
    "start_time": "2021-06-30T21:38:30.649Z"
   },
   {
    "duration": 291,
    "start_time": "2021-06-30T21:38:31.558Z"
   },
   {
    "duration": 17,
    "start_time": "2021-06-30T21:38:31.852Z"
   },
   {
    "duration": 102,
    "start_time": "2021-06-30T21:38:31.872Z"
   },
   {
    "duration": 205,
    "start_time": "2021-06-30T21:42:48.084Z"
   },
   {
    "duration": 455,
    "start_time": "2021-06-30T21:44:03.791Z"
   },
   {
    "duration": 204,
    "start_time": "2021-06-30T21:44:52.563Z"
   },
   {
    "duration": 4289,
    "start_time": "2021-06-30T21:45:43.047Z"
   },
   {
    "duration": 9357,
    "start_time": "2021-06-30T21:46:12.672Z"
   },
   {
    "duration": 30768,
    "start_time": "2021-06-30T21:46:44.806Z"
   },
   {
    "duration": 358,
    "start_time": "2021-06-30T21:49:44.614Z"
   },
   {
    "duration": 351,
    "start_time": "2021-06-30T21:50:21.548Z"
   },
   {
    "duration": 119,
    "start_time": "2021-06-30T21:51:21.076Z"
   },
   {
    "duration": 412,
    "start_time": "2021-06-30T21:51:39.998Z"
   },
   {
    "duration": 12300,
    "start_time": "2021-06-30T21:51:58.911Z"
   },
   {
    "duration": 471,
    "start_time": "2021-06-30T21:52:36.894Z"
   },
   {
    "duration": 425,
    "start_time": "2021-06-30T21:52:55.905Z"
   },
   {
    "duration": 400,
    "start_time": "2021-06-30T21:54:19.697Z"
   },
   {
    "duration": 361,
    "start_time": "2021-06-30T21:54:41.920Z"
   },
   {
    "duration": 6811,
    "start_time": "2021-06-30T21:55:01.748Z"
   },
   {
    "duration": 6277,
    "start_time": "2021-06-30T21:55:25.960Z"
   },
   {
    "duration": 435,
    "start_time": "2021-06-30T21:58:07.873Z"
   },
   {
    "duration": 6971,
    "start_time": "2021-06-30T21:58:18.496Z"
   },
   {
    "duration": 7090,
    "start_time": "2021-06-30T21:58:53.172Z"
   },
   {
    "duration": 6491,
    "start_time": "2021-06-30T21:59:03.993Z"
   },
   {
    "duration": 425,
    "start_time": "2021-06-30T22:18:30.432Z"
   },
   {
    "duration": 353,
    "start_time": "2021-06-30T22:18:50.320Z"
   },
   {
    "duration": 9754,
    "start_time": "2021-06-30T22:19:36.742Z"
   },
   {
    "duration": 908,
    "start_time": "2021-06-30T22:19:58.005Z"
   },
   {
    "duration": 212,
    "start_time": "2021-06-30T22:19:58.917Z"
   },
   {
    "duration": 23,
    "start_time": "2021-06-30T22:19:59.131Z"
   },
   {
    "duration": 101,
    "start_time": "2021-06-30T22:19:59.156Z"
   },
   {
    "duration": 10044,
    "start_time": "2021-06-30T22:19:59.260Z"
   },
   {
    "duration": 9484,
    "start_time": "2021-06-30T22:20:15.348Z"
   },
   {
    "duration": 10045,
    "start_time": "2021-06-30T22:20:47.284Z"
   },
   {
    "duration": 893,
    "start_time": "2021-06-30T22:21:15.816Z"
   },
   {
    "duration": 216,
    "start_time": "2021-06-30T22:21:16.712Z"
   },
   {
    "duration": 21,
    "start_time": "2021-06-30T22:21:16.931Z"
   },
   {
    "duration": 95,
    "start_time": "2021-06-30T22:21:16.955Z"
   },
   {
    "duration": 9417,
    "start_time": "2021-06-30T22:21:17.053Z"
   },
   {
    "duration": 6,
    "start_time": "2021-06-30T22:22:07.823Z"
   },
   {
    "duration": 936,
    "start_time": "2021-06-30T22:22:41.207Z"
   },
   {
    "duration": 10648,
    "start_time": "2021-06-30T22:30:20.740Z"
   },
   {
    "duration": 1320,
    "start_time": "2021-06-30T22:36:22.276Z"
   },
   {
    "duration": 9395,
    "start_time": "2021-06-30T22:38:05.908Z"
   },
   {
    "duration": 130,
    "start_time": "2021-06-30T22:39:26.636Z"
   },
   {
    "duration": 28444,
    "start_time": "2021-06-30T22:39:42.052Z"
   },
   {
    "duration": 24594,
    "start_time": "2021-06-30T22:41:49.388Z"
   },
   {
    "duration": 1334,
    "start_time": "2021-06-30T22:42:26.158Z"
   },
   {
    "duration": 132,
    "start_time": "2021-06-30T22:43:27.112Z"
   },
   {
    "duration": 115,
    "start_time": "2021-06-30T22:43:44.490Z"
   },
   {
    "duration": 866,
    "start_time": "2021-06-30T22:44:14.567Z"
   },
   {
    "duration": 203,
    "start_time": "2021-06-30T22:44:15.435Z"
   },
   {
    "duration": 28,
    "start_time": "2021-06-30T22:44:15.641Z"
   },
   {
    "duration": 143,
    "start_time": "2021-06-30T22:44:15.672Z"
   },
   {
    "duration": 164,
    "start_time": "2021-06-30T22:44:15.818Z"
   },
   {
    "duration": 24285,
    "start_time": "2021-06-30T22:44:46.049Z"
   },
   {
    "duration": 24366,
    "start_time": "2021-06-30T22:48:33.955Z"
   },
   {
    "duration": 110,
    "start_time": "2021-06-30T23:02:39.149Z"
   },
   {
    "duration": 487,
    "start_time": "2021-06-30T23:03:05.321Z"
   },
   {
    "duration": -668,
    "start_time": "2021-06-30T23:03:54.224Z"
   },
   {
    "duration": 903,
    "start_time": "2021-06-30T23:04:11.822Z"
   },
   {
    "duration": 200,
    "start_time": "2021-06-30T23:04:12.728Z"
   },
   {
    "duration": 22,
    "start_time": "2021-06-30T23:04:12.933Z"
   },
   {
    "duration": 104,
    "start_time": "2021-06-30T23:04:12.957Z"
   },
   {
    "duration": 15394,
    "start_time": "2021-06-30T23:04:13.063Z"
   },
   {
    "duration": 15357,
    "start_time": "2021-06-30T23:04:41.209Z"
   },
   {
    "duration": 15124,
    "start_time": "2021-06-30T23:05:20.808Z"
   },
   {
    "duration": 869,
    "start_time": "2021-06-30T23:06:48.911Z"
   },
   {
    "duration": 202,
    "start_time": "2021-06-30T23:06:49.784Z"
   },
   {
    "duration": 40,
    "start_time": "2021-06-30T23:06:49.990Z"
   },
   {
    "duration": 99,
    "start_time": "2021-06-30T23:06:50.034Z"
   },
   {
    "duration": 14878,
    "start_time": "2021-06-30T23:06:50.137Z"
   },
   {
    "duration": 14929,
    "start_time": "2021-06-30T23:07:09.859Z"
   },
   {
    "duration": 15621,
    "start_time": "2021-06-30T23:19:19.917Z"
   },
   {
    "duration": 150,
    "start_time": "2021-06-30T23:34:34.216Z"
   },
   {
    "duration": 921,
    "start_time": "2021-06-30T23:34:51.683Z"
   },
   {
    "duration": 293,
    "start_time": "2021-06-30T23:34:52.607Z"
   },
   {
    "duration": 19,
    "start_time": "2021-06-30T23:34:52.908Z"
   },
   {
    "duration": 103,
    "start_time": "2021-06-30T23:34:52.929Z"
   },
   {
    "duration": 134,
    "start_time": "2021-06-30T23:34:53.034Z"
   },
   {
    "duration": 3370,
    "start_time": "2021-06-30T23:35:20.815Z"
   },
   {
    "duration": 15564,
    "start_time": "2021-06-30T23:40:29.854Z"
   },
   {
    "duration": 14893,
    "start_time": "2021-06-30T23:41:34.140Z"
   },
   {
    "duration": 154,
    "start_time": "2021-06-30T23:50:18.718Z"
   },
   {
    "duration": 14944,
    "start_time": "2021-06-30T23:50:46.956Z"
   },
   {
    "duration": 1423,
    "start_time": "2021-06-30T23:54:16.433Z"
   },
   {
    "duration": 44482,
    "start_time": "2021-06-30T23:54:48.627Z"
   },
   {
    "duration": 14955,
    "start_time": "2021-06-30T23:56:00.550Z"
   },
   {
    "duration": 15853,
    "start_time": "2021-06-30T23:57:35.797Z"
   },
   {
    "duration": 15276,
    "start_time": "2021-06-30T23:59:10.632Z"
   },
   {
    "duration": -700,
    "start_time": "2021-07-01T00:04:04.991Z"
   },
   {
    "duration": 908,
    "start_time": "2021-07-01T00:04:27.221Z"
   },
   {
    "duration": 202,
    "start_time": "2021-07-01T00:04:28.132Z"
   },
   {
    "duration": 24,
    "start_time": "2021-07-01T00:04:28.338Z"
   },
   {
    "duration": 110,
    "start_time": "2021-07-01T00:04:28.365Z"
   },
   {
    "duration": 15053,
    "start_time": "2021-07-01T00:04:28.478Z"
   },
   {
    "duration": 15507,
    "start_time": "2021-07-01T00:04:55.680Z"
   },
   {
    "duration": 15202,
    "start_time": "2021-07-01T00:05:23.855Z"
   },
   {
    "duration": 15279,
    "start_time": "2021-07-01T00:06:16.077Z"
   },
   {
    "duration": 15130,
    "start_time": "2021-07-01T00:06:49.024Z"
   },
   {
    "duration": 15313,
    "start_time": "2021-07-01T00:09:20.687Z"
   },
   {
    "duration": 14810,
    "start_time": "2021-07-01T00:09:45.451Z"
   },
   {
    "duration": 444,
    "start_time": "2021-07-01T21:05:48.307Z"
   },
   {
    "duration": 960,
    "start_time": "2021-07-01T21:05:55.287Z"
   },
   {
    "duration": 211,
    "start_time": "2021-07-01T21:05:56.250Z"
   },
   {
    "duration": 17,
    "start_time": "2021-07-01T21:05:56.464Z"
   },
   {
    "duration": 107,
    "start_time": "2021-07-01T21:05:56.483Z"
   },
   {
    "duration": 15769,
    "start_time": "2021-07-01T21:05:56.592Z"
   },
   {
    "duration": 22,
    "start_time": "2021-07-01T21:06:12.363Z"
   },
   {
    "duration": 15199,
    "start_time": "2021-07-01T21:11:31.488Z"
   },
   {
    "duration": 907,
    "start_time": "2021-07-01T21:11:49.550Z"
   },
   {
    "duration": 230,
    "start_time": "2021-07-01T21:11:50.461Z"
   },
   {
    "duration": 47,
    "start_time": "2021-07-01T21:11:50.694Z"
   },
   {
    "duration": 114,
    "start_time": "2021-07-01T21:11:50.744Z"
   },
   {
    "duration": 15810,
    "start_time": "2021-07-01T21:11:50.860Z"
   },
   {
    "duration": 21,
    "start_time": "2021-07-01T21:12:06.672Z"
   },
   {
    "duration": 7,
    "start_time": "2021-07-01T21:19:07.487Z"
   },
   {
    "duration": 7381,
    "start_time": "2021-07-01T21:19:54.997Z"
   },
   {
    "duration": 31516,
    "start_time": "2021-07-01T21:20:18.079Z"
   },
   {
    "duration": 13810,
    "start_time": "2021-07-01T21:23:22.059Z"
   },
   {
    "duration": 111,
    "start_time": "2021-07-01T21:24:27.565Z"
   },
   {
    "duration": 91,
    "start_time": "2021-07-01T21:24:49.774Z"
   },
   {
    "duration": 828,
    "start_time": "2021-07-01T21:27:26.242Z"
   },
   {
    "duration": 206,
    "start_time": "2021-07-01T21:27:27.073Z"
   },
   {
    "duration": 21,
    "start_time": "2021-07-01T21:27:27.281Z"
   },
   {
    "duration": 96,
    "start_time": "2021-07-01T21:27:27.304Z"
   },
   {
    "duration": 15728,
    "start_time": "2021-07-01T21:27:27.403Z"
   },
   {
    "duration": 28537,
    "start_time": "2021-07-01T21:27:43.137Z"
   },
   {
    "duration": 28160,
    "start_time": "2021-07-01T21:28:44.815Z"
   },
   {
    "duration": 6,
    "start_time": "2021-07-01T21:30:57.773Z"
   },
   {
    "duration": 7,
    "start_time": "2021-07-01T21:31:32.854Z"
   },
   {
    "duration": 365,
    "start_time": "2021-07-01T21:31:52.901Z"
   },
   {
    "duration": 280,
    "start_time": "2021-07-01T21:32:33.645Z"
   },
   {
    "duration": 95,
    "start_time": "2021-07-01T21:44:50.663Z"
   },
   {
    "duration": 98,
    "start_time": "2021-07-01T21:45:57.762Z"
   },
   {
    "duration": 102,
    "start_time": "2021-07-01T21:49:56.368Z"
   },
   {
    "duration": 13447,
    "start_time": "2021-07-01T21:56:14.993Z"
   },
   {
    "duration": 14125,
    "start_time": "2021-07-01T21:57:23.302Z"
   },
   {
    "duration": 13464,
    "start_time": "2021-07-01T21:58:57.415Z"
   },
   {
    "duration": 13398,
    "start_time": "2021-07-01T22:00:41.317Z"
   },
   {
    "duration": 13386,
    "start_time": "2021-07-01T22:03:11.525Z"
   },
   {
    "duration": 13417,
    "start_time": "2021-07-01T22:04:58.973Z"
   },
   {
    "duration": 13520,
    "start_time": "2021-07-01T22:06:02.676Z"
   },
   {
    "duration": 13507,
    "start_time": "2021-07-01T22:08:54.179Z"
   },
   {
    "duration": 13429,
    "start_time": "2021-07-01T22:24:43.055Z"
   },
   {
    "duration": 13379,
    "start_time": "2021-07-01T22:45:27.609Z"
   },
   {
    "duration": 13424,
    "start_time": "2021-07-01T22:47:22.208Z"
   },
   {
    "duration": 276,
    "start_time": "2021-07-01T22:49:11.659Z"
   },
   {
    "duration": 86,
    "start_time": "2021-07-01T22:51:16.279Z"
   },
   {
    "duration": 89,
    "start_time": "2021-07-01T22:51:26.087Z"
   },
   {
    "duration": 260,
    "start_time": "2021-07-01T22:51:41.015Z"
   },
   {
    "duration": 279,
    "start_time": "2021-07-01T22:52:39.695Z"
   },
   {
    "duration": 278,
    "start_time": "2021-07-01T22:53:38.582Z"
   },
   {
    "duration": 8,
    "start_time": "2021-07-01T22:54:32.840Z"
   },
   {
    "duration": 87,
    "start_time": "2021-07-01T23:08:52.753Z"
   },
   {
    "duration": 94,
    "start_time": "2021-07-01T23:09:05.524Z"
   },
   {
    "duration": 90,
    "start_time": "2021-07-01T23:09:28.064Z"
   },
   {
    "duration": 95,
    "start_time": "2021-07-01T23:09:46.402Z"
   },
   {
    "duration": 95,
    "start_time": "2021-07-01T23:09:54.378Z"
   },
   {
    "duration": 288,
    "start_time": "2021-07-01T23:10:00.945Z"
   },
   {
    "duration": 110,
    "start_time": "2021-07-01T23:11:32.297Z"
   },
   {
    "duration": 113,
    "start_time": "2021-07-01T23:13:34.941Z"
   },
   {
    "duration": 7136,
    "start_time": "2021-07-01T23:21:10.659Z"
   },
   {
    "duration": 7570,
    "start_time": "2021-07-01T23:23:04.986Z"
   },
   {
    "duration": 7662,
    "start_time": "2021-07-01T23:23:22.609Z"
   },
   {
    "duration": 5091,
    "start_time": "2021-07-01T23:23:49.310Z"
   },
   {
    "duration": 309,
    "start_time": "2021-07-01T23:24:18.495Z"
   },
   {
    "duration": 318,
    "start_time": "2021-07-01T23:27:30.877Z"
   },
   {
    "duration": 112,
    "start_time": "2021-07-01T23:32:40.016Z"
   },
   {
    "duration": 91,
    "start_time": "2021-07-01T23:33:24.563Z"
   },
   {
    "duration": 13392,
    "start_time": "2021-07-01T23:33:56.451Z"
   },
   {
    "duration": 13292,
    "start_time": "2021-07-01T23:35:04.309Z"
   },
   {
    "duration": 13398,
    "start_time": "2021-07-01T23:37:28.590Z"
   },
   {
    "duration": 13303,
    "start_time": "2021-07-01T23:37:42.638Z"
   },
   {
    "duration": 13472,
    "start_time": "2021-07-01T23:38:38.212Z"
   },
   {
    "duration": 13414,
    "start_time": "2021-07-01T23:39:58.745Z"
   },
   {
    "duration": 13341,
    "start_time": "2021-07-01T23:41:40.992Z"
   },
   {
    "duration": 13404,
    "start_time": "2021-07-01T23:44:50.672Z"
   },
   {
    "duration": 13305,
    "start_time": "2021-07-01T23:45:29.846Z"
   },
   {
    "duration": 13480,
    "start_time": "2021-07-01T23:46:24.855Z"
   },
   {
    "duration": 13636,
    "start_time": "2021-07-01T23:48:20.823Z"
   },
   {
    "duration": 13459,
    "start_time": "2021-07-01T23:49:55.622Z"
   },
   {
    "duration": 13350,
    "start_time": "2021-07-01T23:50:33.224Z"
   },
   {
    "duration": 287,
    "start_time": "2021-07-01T23:51:45.360Z"
   },
   {
    "duration": 13455,
    "start_time": "2021-07-01T23:51:56.582Z"
   },
   {
    "duration": 89,
    "start_time": "2021-07-01T23:53:56.213Z"
   },
   {
    "duration": 13335,
    "start_time": "2021-07-01T23:54:13.698Z"
   },
   {
    "duration": 907,
    "start_time": "2021-07-02T07:56:08.281Z"
   },
   {
    "duration": 225,
    "start_time": "2021-07-02T07:56:09.191Z"
   },
   {
    "duration": 24,
    "start_time": "2021-07-02T07:56:09.420Z"
   },
   {
    "duration": 108,
    "start_time": "2021-07-02T07:56:09.447Z"
   },
   {
    "duration": 15717,
    "start_time": "2021-07-02T07:56:09.557Z"
   },
   {
    "duration": 14848,
    "start_time": "2021-07-02T07:56:25.277Z"
   },
   {
    "duration": 16135,
    "start_time": "2021-07-02T08:08:33.390Z"
   },
   {
    "duration": 114,
    "start_time": "2021-07-02T08:21:18.642Z"
   },
   {
    "duration": 33830,
    "start_time": "2021-07-02T08:21:24.462Z"
   },
   {
    "duration": 30617,
    "start_time": "2021-07-02T08:25:55.989Z"
   },
   {
    "duration": 28867,
    "start_time": "2021-07-02T08:29:46.271Z"
   },
   {
    "duration": 150,
    "start_time": "2021-07-02T08:35:53.471Z"
   },
   {
    "duration": 171,
    "start_time": "2021-07-02T08:36:07.299Z"
   },
   {
    "duration": 113,
    "start_time": "2021-07-02T08:36:36.282Z"
   },
   {
    "duration": 800,
    "start_time": "2021-07-02T08:36:51.535Z"
   },
   {
    "duration": 304,
    "start_time": "2021-07-02T08:36:52.339Z"
   },
   {
    "duration": 47,
    "start_time": "2021-07-02T08:36:52.650Z"
   },
   {
    "duration": 115,
    "start_time": "2021-07-02T08:36:52.700Z"
   },
   {
    "duration": 15305,
    "start_time": "2021-07-02T08:36:52.818Z"
   },
   {
    "duration": 121,
    "start_time": "2021-07-02T08:37:08.126Z"
   },
   {
    "duration": 15458,
    "start_time": "2021-07-02T08:37:48.018Z"
   },
   {
    "duration": 14931,
    "start_time": "2021-07-02T08:38:58.624Z"
   },
   {
    "duration": 443,
    "start_time": "2021-07-02T08:42:23.503Z"
   },
   {
    "duration": 15789,
    "start_time": "2021-07-02T08:46:12.231Z"
   },
   {
    "duration": 114,
    "start_time": "2021-07-02T08:56:21.341Z"
   },
   {
    "duration": 14736,
    "start_time": "2021-07-02T08:59:17.100Z"
   },
   {
    "duration": 14186,
    "start_time": "2021-07-02T09:02:08.482Z"
   },
   {
    "duration": 14553,
    "start_time": "2021-07-02T09:10:20.137Z"
   },
   {
    "duration": 15099,
    "start_time": "2021-07-02T09:13:38.324Z"
   },
   {
    "duration": 7,
    "start_time": "2021-07-02T09:31:26.853Z"
   },
   {
    "duration": 9,
    "start_time": "2021-07-02T09:32:45.066Z"
   },
   {
    "duration": 11,
    "start_time": "2021-07-02T09:43:15.058Z"
   },
   {
    "duration": 865,
    "start_time": "2021-07-02T09:51:28.782Z"
   },
   {
    "duration": 205,
    "start_time": "2021-07-02T09:51:29.650Z"
   },
   {
    "duration": 44,
    "start_time": "2021-07-02T09:51:29.858Z"
   },
   {
    "duration": 82,
    "start_time": "2021-07-02T09:51:29.905Z"
   },
   {
    "duration": 15340,
    "start_time": "2021-07-02T09:51:29.990Z"
   },
   {
    "duration": 14181,
    "start_time": "2021-07-02T09:51:45.332Z"
   },
   {
    "duration": 11,
    "start_time": "2021-07-02T09:51:59.516Z"
   },
   {
    "duration": 9,
    "start_time": "2021-07-02T09:51:59.531Z"
   },
   {
    "duration": 15,
    "start_time": "2021-07-02T10:00:55.818Z"
   },
   {
    "duration": 16,
    "start_time": "2021-07-02T10:02:13.932Z"
   },
   {
    "duration": 17,
    "start_time": "2021-07-02T10:02:50.165Z"
   },
   {
    "duration": 16,
    "start_time": "2021-07-02T10:04:24.965Z"
   },
   {
    "duration": 14,
    "start_time": "2021-07-02T10:04:27.643Z"
   },
   {
    "duration": 11,
    "start_time": "2021-07-02T10:13:14.201Z"
   },
   {
    "duration": 13,
    "start_time": "2021-07-02T10:16:27.800Z"
   },
   {
    "duration": 19418,
    "start_time": "2021-07-02T10:36:00.446Z"
   },
   {
    "duration": 19607,
    "start_time": "2021-07-02T10:36:53.620Z"
   },
   {
    "duration": 19478,
    "start_time": "2021-07-02T10:39:52.486Z"
   },
   {
    "duration": 14,
    "start_time": "2021-07-02T10:41:18.201Z"
   },
   {
    "duration": 21,
    "start_time": "2021-07-02T10:45:36.825Z"
   },
   {
    "duration": 28,
    "start_time": "2021-07-02T10:45:56.952Z"
   },
   {
    "duration": 28,
    "start_time": "2021-07-02T10:47:26.960Z"
   },
   {
    "duration": 12,
    "start_time": "2021-07-02T10:48:20.912Z"
   },
   {
    "duration": 15,
    "start_time": "2021-07-02T10:48:42.177Z"
   },
   {
    "duration": 18,
    "start_time": "2021-07-02T10:49:23.583Z"
   },
   {
    "duration": 18,
    "start_time": "2021-07-02T10:50:23.337Z"
   },
   {
    "duration": 26,
    "start_time": "2021-07-02T10:50:43.719Z"
   },
   {
    "duration": 531,
    "start_time": "2021-07-02T10:52:01.909Z"
   },
   {
    "duration": 312,
    "start_time": "2021-07-02T10:52:40.542Z"
   },
   {
    "duration": 24,
    "start_time": "2021-07-02T10:53:31.246Z"
   },
   {
    "duration": 19,
    "start_time": "2021-07-02T10:56:02.063Z"
   },
   {
    "duration": 16,
    "start_time": "2021-07-02T10:57:41.845Z"
   },
   {
    "duration": 17,
    "start_time": "2021-07-02T10:58:57.213Z"
   },
   {
    "duration": 21,
    "start_time": "2021-07-02T11:03:05.652Z"
   },
   {
    "duration": 21,
    "start_time": "2021-07-02T11:06:26.029Z"
   },
   {
    "duration": 16,
    "start_time": "2021-07-02T11:06:31.314Z"
   },
   {
    "duration": 19,
    "start_time": "2021-07-02T11:17:15.046Z"
   },
   {
    "duration": 20129,
    "start_time": "2021-07-02T11:19:11.427Z"
   },
   {
    "duration": 147,
    "start_time": "2021-07-02T11:20:45.807Z"
   },
   {
    "duration": 114,
    "start_time": "2021-07-02T11:21:22.999Z"
   },
   {
    "duration": 19050,
    "start_time": "2021-07-02T11:21:40.287Z"
   },
   {
    "duration": -806,
    "start_time": "2021-07-02T11:23:33.450Z"
   },
   {
    "duration": 824,
    "start_time": "2021-07-02T11:23:48.519Z"
   },
   {
    "duration": 209,
    "start_time": "2021-07-02T11:23:49.346Z"
   },
   {
    "duration": 40,
    "start_time": "2021-07-02T11:23:49.558Z"
   },
   {
    "duration": 15,
    "start_time": "2021-07-02T11:23:49.601Z"
   },
   {
    "duration": 135,
    "start_time": "2021-07-02T11:23:49.618Z"
   },
   {
    "duration": 14812,
    "start_time": "2021-07-02T11:23:49.755Z"
   },
   {
    "duration": 19521,
    "start_time": "2021-07-02T11:24:04.570Z"
   },
   {
    "duration": 23,
    "start_time": "2021-07-02T11:24:24.094Z"
   },
   {
    "duration": 21,
    "start_time": "2021-07-02T11:24:24.120Z"
   },
   {
    "duration": 59,
    "start_time": "2021-07-02T11:24:24.143Z"
   },
   {
    "duration": 9,
    "start_time": "2021-07-02T11:24:24.204Z"
   },
   {
    "duration": 19782,
    "start_time": "2021-07-02T11:24:43.286Z"
   },
   {
    "duration": 20375,
    "start_time": "2021-07-02T11:25:51.654Z"
   },
   {
    "duration": 20,
    "start_time": "2021-07-02T11:28:15.430Z"
   },
   {
    "duration": 376,
    "start_time": "2021-07-02T11:48:07.983Z"
   },
   {
    "duration": 4350,
    "start_time": "2021-07-02T11:48:36.461Z"
   },
   {
    "duration": 187,
    "start_time": "2021-07-02T11:48:40.813Z"
   },
   {
    "duration": 29,
    "start_time": "2021-07-02T11:48:41.003Z"
   },
   {
    "duration": 17,
    "start_time": "2021-07-02T11:48:41.035Z"
   },
   {
    "duration": 79,
    "start_time": "2021-07-02T11:48:41.054Z"
   },
   {
    "duration": 79,
    "start_time": "2021-07-02T11:48:41.135Z"
   },
   {
    "duration": 14594,
    "start_time": "2021-07-02T11:48:41.216Z"
   },
   {
    "duration": 19609,
    "start_time": "2021-07-02T11:48:55.814Z"
   },
   {
    "duration": 20,
    "start_time": "2021-07-02T11:49:15.426Z"
   },
   {
    "duration": 45,
    "start_time": "2021-07-02T11:49:15.449Z"
   },
   {
    "duration": 19,
    "start_time": "2021-07-02T11:49:15.497Z"
   },
   {
    "duration": 19,
    "start_time": "2021-07-02T11:49:15.519Z"
   },
   {
    "duration": 110,
    "start_time": "2021-07-02T12:38:05.405Z"
   },
   {
    "duration": 111,
    "start_time": "2021-07-02T12:38:42.275Z"
   },
   {
    "duration": 111,
    "start_time": "2021-07-02T12:38:56.328Z"
   },
   {
    "duration": 838,
    "start_time": "2021-07-02T12:39:33.729Z"
   },
   {
    "duration": 217,
    "start_time": "2021-07-02T12:39:34.573Z"
   },
   {
    "duration": 22,
    "start_time": "2021-07-02T12:39:34.794Z"
   },
   {
    "duration": 15,
    "start_time": "2021-07-02T12:39:34.819Z"
   },
   {
    "duration": 105,
    "start_time": "2021-07-02T12:39:34.837Z"
   },
   {
    "duration": 102,
    "start_time": "2021-07-02T12:39:34.944Z"
   },
   {
    "duration": 15113,
    "start_time": "2021-07-02T12:39:35.051Z"
   },
   {
    "duration": 19920,
    "start_time": "2021-07-02T12:39:50.167Z"
   },
   {
    "duration": 29,
    "start_time": "2021-07-02T12:40:10.091Z"
   },
   {
    "duration": 115,
    "start_time": "2021-07-02T12:40:10.123Z"
   },
   {
    "duration": -816,
    "start_time": "2021-07-02T12:40:11.056Z"
   },
   {
    "duration": -816,
    "start_time": "2021-07-02T12:40:11.058Z"
   },
   {
    "duration": -815,
    "start_time": "2021-07-02T12:40:11.060Z"
   }
  ],
  "kernelspec": {
   "display_name": "Python 3",
   "language": "python",
   "name": "python3"
  },
  "language_info": {
   "codemirror_mode": {
    "name": "ipython",
    "version": 3
   },
   "file_extension": ".py",
   "mimetype": "text/x-python",
   "name": "python",
   "nbconvert_exporter": "python",
   "pygments_lexer": "ipython3",
   "version": "3.7.8"
  },
  "toc": {
   "base_numbering": 1,
   "nav_menu": {},
   "number_sections": true,
   "sideBar": true,
   "skip_h1_title": true,
   "title_cell": "Table of Contents",
   "title_sidebar": "Contents",
   "toc_cell": false,
   "toc_position": {},
   "toc_section_display": true,
   "toc_window_display": true
  }
 },
 "nbformat": 4,
 "nbformat_minor": 2
}
