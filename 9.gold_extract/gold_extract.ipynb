{
 "cells": [
  {
   "cell_type": "markdown",
   "metadata": {
    "toc": true
   },
   "source": [
    "<h1>Содержание<span class=\"tocSkip\"></span></h1>\n",
    "<div class=\"toc\"><ul class=\"toc-item\"><li><span><a href=\"#Подготовка-данных\" data-toc-modified-id=\"Подготовка-данных-1\"><span class=\"toc-item-num\">1&nbsp;&nbsp;</span>Подготовка данных</a></span><ul class=\"toc-item\"><li><span><a href=\"#Загрузка-данных\" data-toc-modified-id=\"Загрузка-данных-1.1\"><span class=\"toc-item-num\">1.1&nbsp;&nbsp;</span>Загрузка данных</a></span></li><li><span><a href=\"#Проверка-рассчета-эффективности-обогащения\" data-toc-modified-id=\"Проверка-рассчета-эффективности-обогащения-1.2\"><span class=\"toc-item-num\">1.2&nbsp;&nbsp;</span>Проверка рассчета эффективности обогащения</a></span></li><li><span><a href=\"#Анализ-признаков,-недоступных-в-тестовой-выборке\" data-toc-modified-id=\"Анализ-признаков,-недоступных-в-тестовой-выборке-1.3\"><span class=\"toc-item-num\">1.3&nbsp;&nbsp;</span>Анализ признаков, недоступных в тестовой выборке</a></span></li><li><span><a href=\"#Предобработка-данных\" data-toc-modified-id=\"Предобработка-данных-1.4\"><span class=\"toc-item-num\">1.4&nbsp;&nbsp;</span>Предобработка данных</a></span></li></ul></li><li><span><a href=\"#Анализ-данных\" data-toc-modified-id=\"Анализ-данных-2\"><span class=\"toc-item-num\">2&nbsp;&nbsp;</span>Анализ данных</a></span><ul class=\"toc-item\"><li><span><a href=\"#Изменение-концентрации-металлов-(Au,-Ag,-Pb)-на-различных-этапах-очистки\" data-toc-modified-id=\"Изменение-концентрации-металлов-(Au,-Ag,-Pb)-на-различных-этапах-очистки-2.1\"><span class=\"toc-item-num\">2.1&nbsp;&nbsp;</span>Изменение концентрации металлов (Au, Ag, Pb) на различных этапах очистки</a></span></li><li><span><a href=\"#Распределение-размеров-гранул-сырья-на-обучающей-и-тестовой-выборках\" data-toc-modified-id=\"Распределение-размеров-гранул-сырья-на-обучающей-и-тестовой-выборках-2.2\"><span class=\"toc-item-num\">2.2&nbsp;&nbsp;</span>Распределение размеров гранул сырья на обучающей и тестовой выборках</a></span></li><li><span><a href=\"#Исследование-суммарной-концентрации-всех-веществ-на-разных-стадиях\" data-toc-modified-id=\"Исследование-суммарной-концентрации-всех-веществ-на-разных-стадиях-2.3\"><span class=\"toc-item-num\">2.3&nbsp;&nbsp;</span>Исследование суммарной концентрации всех веществ на разных стадиях</a></span></li></ul></li><li><span><a href=\"#Модель\" data-toc-modified-id=\"Модель-3\"><span class=\"toc-item-num\">3&nbsp;&nbsp;</span>Модель</a></span><ul class=\"toc-item\"><li><span><a href=\"#Функция-для-вычисления-итоговой-sMAPE\" data-toc-modified-id=\"Функция-для-вычисления-итоговой-sMAPE-3.1\"><span class=\"toc-item-num\">3.1&nbsp;&nbsp;</span>Функция для вычисления итоговой sMAPE</a></span></li><li><span><a href=\"#Обучение-разных-модели-и-оценка-их-качества-кросс-валидацией\" data-toc-modified-id=\"Обучение-разных-модели-и-оценка-их-качества-кросс-валидацией-3.2\"><span class=\"toc-item-num\">3.2&nbsp;&nbsp;</span>Обучение разных модели и оценка их качества кросс-валидацией</a></span><ul class=\"toc-item\"><li><span><a href=\"#Подготовка-данных\" data-toc-modified-id=\"Подготовка-данных-3.2.1\"><span class=\"toc-item-num\">3.2.1&nbsp;&nbsp;</span>Подготовка данных</a></span></li><li><span><a href=\"#Оценка-качества-моделей-кросс-валидацией\" data-toc-modified-id=\"Оценка-качества-моделей-кросс-валидацией-3.2.2\"><span class=\"toc-item-num\">3.2.2&nbsp;&nbsp;</span>Оценка качества моделей кросс-валидацией</a></span></li><li><span><a href=\"#Оценка-качества-моделей-кросс-валидацией-с-подбором-гиперпараметров\" data-toc-modified-id=\"Оценка-качества-моделей-кросс-валидацией-с-подбором-гиперпараметров-3.2.3\"><span class=\"toc-item-num\">3.2.3&nbsp;&nbsp;</span>Оценка качества моделей кросс-валидацией с подбором гиперпараметров</a></span></li><li><span><a href=\"#Выбор-лучшей-модели-и-проверка-её-на-тестовой-выборке\" data-toc-modified-id=\"Выбор-лучшей-модели-и-проверка-её-на-тестовой-выборке-3.2.4\"><span class=\"toc-item-num\">3.2.4&nbsp;&nbsp;</span>Выбор лучшей модели и проверка её на тестовой выборке</a></span></li></ul></li></ul></li><li><span><a href=\"#Вывод\" data-toc-modified-id=\"Вывод-4\"><span class=\"toc-item-num\">4&nbsp;&nbsp;</span>Вывод</a></span></li><li><span><a href=\"#Чек-лист-готовности-проекта\" data-toc-modified-id=\"Чек-лист-готовности-проекта-5\"><span class=\"toc-item-num\">5&nbsp;&nbsp;</span>Чек-лист готовности проекта</a></span></li></ul></div>"
   ]
  },
  {
   "cell_type": "markdown",
   "metadata": {},
   "source": [
    "# Восстановление золота из руды"
   ]
  },
  {
   "cell_type": "markdown",
   "metadata": {},
   "source": [
    "Цель проекта: Подготовить прототип модели машинного обучения для предсказать коэффициент восстановления золота из золотосодержащей руды по данным с параметрами добычи и очистки.\n",
    "\n",
    "Заказчик: «Цифра». Компания разрабатывает решения для эффективной работы промышленных предприятий.\n",
    "\n",
    "Модель поможет оптимизировать производство, чтобы не запускать предприятие с убыточными характеристиками.\n",
    "\n",
    "План работы:\n",
    "\n",
    "1. Подготовить данные;\n",
    "2. Провести исследовательский анализ данных;\n",
    "3. Построить и обучить модель.\n"
   ]
  },
  {
   "cell_type": "markdown",
   "metadata": {},
   "source": [
    "## Подготовка данных"
   ]
  },
  {
   "cell_type": "code",
   "execution_count": 1,
   "metadata": {},
   "outputs": [],
   "source": [
    "import pandas as pd\n",
    "import matplotlib.pyplot as plt\n",
    "import numpy as np\n",
    "\n",
    "from sklearn.metrics import mean_absolute_error\n",
    "from sklearn.metrics import make_scorer\n",
    "\n",
    "from sklearn.linear_model import LinearRegression\n",
    "from sklearn.ensemble import RandomForestRegressor\n",
    "from sklearn.tree import DecisionTreeRegressor\n",
    "from sklearn.dummy import DummyRegressor\n",
    "\n",
    "from sklearn.model_selection import cross_val_score\n",
    "\n",
    "from sklearn.preprocessing import StandardScaler\n",
    "from sklearn.model_selection import GridSearchCV\n",
    "from sklearn.utils import shuffle\n",
    "\n",
    "import warnings\n",
    "import sklearn.exceptions\n"
   ]
  },
  {
   "cell_type": "markdown",
   "metadata": {},
   "source": [
    "### Загрузка данных"
   ]
  },
  {
   "cell_type": "code",
   "execution_count": 2,
   "metadata": {},
   "outputs": [],
   "source": [
    "train = pd.read_csv('Ya_data/gold_extract/gold_recovery_train_new.csv')\n",
    "test = pd.read_csv('Ya_data/gold_extract/gold_recovery_test_new.csv')\n",
    "full = pd.read_csv('Ya_data/gold_extract/gold_recovery_full_new.csv')"
   ]
  },
  {
   "cell_type": "markdown",
   "metadata": {},
   "source": [
    "Посмотрим содержимое файлов."
   ]
  },
  {
   "cell_type": "code",
   "execution_count": 3,
   "metadata": {
    "scrolled": false
   },
   "outputs": [
    {
     "name": "stdout",
     "output_type": "stream",
     "text": [
      "<class 'pandas.core.frame.DataFrame'>\n",
      "RangeIndex: 14149 entries, 0 to 14148\n",
      "Data columns (total 87 columns):\n",
      " #   Column                                              Non-Null Count  Dtype  \n",
      "---  ------                                              --------------  -----  \n",
      " 0   date                                                14149 non-null  object \n",
      " 1   final.output.concentrate_ag                         14148 non-null  float64\n",
      " 2   final.output.concentrate_pb                         14148 non-null  float64\n",
      " 3   final.output.concentrate_sol                        13938 non-null  float64\n",
      " 4   final.output.concentrate_au                         14149 non-null  float64\n",
      " 5   final.output.recovery                               14149 non-null  float64\n",
      " 6   final.output.tail_ag                                14149 non-null  float64\n",
      " 7   final.output.tail_pb                                14049 non-null  float64\n",
      " 8   final.output.tail_sol                               14144 non-null  float64\n",
      " 9   final.output.tail_au                                14149 non-null  float64\n",
      " 10  primary_cleaner.input.sulfate                       14129 non-null  float64\n",
      " 11  primary_cleaner.input.depressant                    14117 non-null  float64\n",
      " 12  primary_cleaner.input.feed_size                     14149 non-null  float64\n",
      " 13  primary_cleaner.input.xanthate                      14049 non-null  float64\n",
      " 14  primary_cleaner.output.concentrate_ag               14149 non-null  float64\n",
      " 15  primary_cleaner.output.concentrate_pb               14063 non-null  float64\n",
      " 16  primary_cleaner.output.concentrate_sol              13863 non-null  float64\n",
      " 17  primary_cleaner.output.concentrate_au               14149 non-null  float64\n",
      " 18  primary_cleaner.output.tail_ag                      14148 non-null  float64\n",
      " 19  primary_cleaner.output.tail_pb                      14134 non-null  float64\n",
      " 20  primary_cleaner.output.tail_sol                     14103 non-null  float64\n",
      " 21  primary_cleaner.output.tail_au                      14149 non-null  float64\n",
      " 22  primary_cleaner.state.floatbank8_a_air              14145 non-null  float64\n",
      " 23  primary_cleaner.state.floatbank8_a_level            14148 non-null  float64\n",
      " 24  primary_cleaner.state.floatbank8_b_air              14145 non-null  float64\n",
      " 25  primary_cleaner.state.floatbank8_b_level            14148 non-null  float64\n",
      " 26  primary_cleaner.state.floatbank8_c_air              14147 non-null  float64\n",
      " 27  primary_cleaner.state.floatbank8_c_level            14148 non-null  float64\n",
      " 28  primary_cleaner.state.floatbank8_d_air              14146 non-null  float64\n",
      " 29  primary_cleaner.state.floatbank8_d_level            14148 non-null  float64\n",
      " 30  rougher.calculation.sulfate_to_au_concentrate       14148 non-null  float64\n",
      " 31  rougher.calculation.floatbank10_sulfate_to_au_feed  14148 non-null  float64\n",
      " 32  rougher.calculation.floatbank11_sulfate_to_au_feed  14148 non-null  float64\n",
      " 33  rougher.calculation.au_pb_ratio                     14149 non-null  float64\n",
      " 34  rougher.input.feed_ag                               14149 non-null  float64\n",
      " 35  rougher.input.feed_pb                               14049 non-null  float64\n",
      " 36  rougher.input.feed_rate                             14141 non-null  float64\n",
      " 37  rougher.input.feed_size                             14005 non-null  float64\n",
      " 38  rougher.input.feed_sol                              14071 non-null  float64\n",
      " 39  rougher.input.feed_au                               14149 non-null  float64\n",
      " 40  rougher.input.floatbank10_sulfate                   14120 non-null  float64\n",
      " 41  rougher.input.floatbank10_xanthate                  14141 non-null  float64\n",
      " 42  rougher.input.floatbank11_sulfate                   14113 non-null  float64\n",
      " 43  rougher.input.floatbank11_xanthate                  13721 non-null  float64\n",
      " 44  rougher.output.concentrate_ag                       14149 non-null  float64\n",
      " 45  rougher.output.concentrate_pb                       14149 non-null  float64\n",
      " 46  rougher.output.concentrate_sol                      14127 non-null  float64\n",
      " 47  rougher.output.concentrate_au                       14149 non-null  float64\n",
      " 48  rougher.output.recovery                             14149 non-null  float64\n",
      " 49  rougher.output.tail_ag                              14148 non-null  float64\n",
      " 50  rougher.output.tail_pb                              14149 non-null  float64\n",
      " 51  rougher.output.tail_sol                             14149 non-null  float64\n",
      " 52  rougher.output.tail_au                              14149 non-null  float64\n",
      " 53  rougher.state.floatbank10_a_air                     14148 non-null  float64\n",
      " 54  rougher.state.floatbank10_a_level                   14148 non-null  float64\n",
      " 55  rougher.state.floatbank10_b_air                     14148 non-null  float64\n",
      " 56  rougher.state.floatbank10_b_level                   14148 non-null  float64\n",
      " 57  rougher.state.floatbank10_c_air                     14148 non-null  float64\n",
      " 58  rougher.state.floatbank10_c_level                   14148 non-null  float64\n",
      " 59  rougher.state.floatbank10_d_air                     14149 non-null  float64\n",
      " 60  rougher.state.floatbank10_d_level                   14149 non-null  float64\n",
      " 61  rougher.state.floatbank10_e_air                     13713 non-null  float64\n",
      " 62  rougher.state.floatbank10_e_level                   14149 non-null  float64\n",
      " 63  rougher.state.floatbank10_f_air                     14149 non-null  float64\n",
      " 64  rougher.state.floatbank10_f_level                   14149 non-null  float64\n",
      " 65  secondary_cleaner.output.tail_ag                    14147 non-null  float64\n",
      " 66  secondary_cleaner.output.tail_pb                    14139 non-null  float64\n",
      " 67  secondary_cleaner.output.tail_sol                   12544 non-null  float64\n",
      " 68  secondary_cleaner.output.tail_au                    14149 non-null  float64\n",
      " 69  secondary_cleaner.state.floatbank2_a_air            13932 non-null  float64\n",
      " 70  secondary_cleaner.state.floatbank2_a_level          14148 non-null  float64\n",
      " 71  secondary_cleaner.state.floatbank2_b_air            14128 non-null  float64\n",
      " 72  secondary_cleaner.state.floatbank2_b_level          14148 non-null  float64\n",
      " 73  secondary_cleaner.state.floatbank3_a_air            14145 non-null  float64\n",
      " 74  secondary_cleaner.state.floatbank3_a_level          14148 non-null  float64\n",
      " 75  secondary_cleaner.state.floatbank3_b_air            14148 non-null  float64\n",
      " 76  secondary_cleaner.state.floatbank3_b_level          14148 non-null  float64\n",
      " 77  secondary_cleaner.state.floatbank4_a_air            14143 non-null  float64\n",
      " 78  secondary_cleaner.state.floatbank4_a_level          14148 non-null  float64\n",
      " 79  secondary_cleaner.state.floatbank4_b_air            14148 non-null  float64\n",
      " 80  secondary_cleaner.state.floatbank4_b_level          14148 non-null  float64\n",
      " 81  secondary_cleaner.state.floatbank5_a_air            14148 non-null  float64\n",
      " 82  secondary_cleaner.state.floatbank5_a_level          14148 non-null  float64\n",
      " 83  secondary_cleaner.state.floatbank5_b_air            14148 non-null  float64\n",
      " 84  secondary_cleaner.state.floatbank5_b_level          14148 non-null  float64\n",
      " 85  secondary_cleaner.state.floatbank6_a_air            14147 non-null  float64\n",
      " 86  secondary_cleaner.state.floatbank6_a_level          14148 non-null  float64\n",
      "dtypes: float64(86), object(1)\n",
      "memory usage: 9.4+ MB\n"
     ]
    }
   ],
   "source": [
    "train.info()"
   ]
  },
  {
   "cell_type": "code",
   "execution_count": 4,
   "metadata": {
    "scrolled": false
   },
   "outputs": [
    {
     "data": {
      "text/html": [
       "<div>\n",
       "<style scoped>\n",
       "    .dataframe tbody tr th:only-of-type {\n",
       "        vertical-align: middle;\n",
       "    }\n",
       "\n",
       "    .dataframe tbody tr th {\n",
       "        vertical-align: top;\n",
       "    }\n",
       "\n",
       "    .dataframe thead th {\n",
       "        text-align: right;\n",
       "    }\n",
       "</style>\n",
       "<table border=\"1\" class=\"dataframe\">\n",
       "  <thead>\n",
       "    <tr style=\"text-align: right;\">\n",
       "      <th></th>\n",
       "      <th>date</th>\n",
       "      <th>final.output.concentrate_ag</th>\n",
       "      <th>final.output.concentrate_pb</th>\n",
       "      <th>final.output.concentrate_sol</th>\n",
       "      <th>final.output.concentrate_au</th>\n",
       "      <th>final.output.recovery</th>\n",
       "      <th>final.output.tail_ag</th>\n",
       "      <th>final.output.tail_pb</th>\n",
       "      <th>final.output.tail_sol</th>\n",
       "      <th>final.output.tail_au</th>\n",
       "      <th>...</th>\n",
       "      <th>secondary_cleaner.state.floatbank4_a_air</th>\n",
       "      <th>secondary_cleaner.state.floatbank4_a_level</th>\n",
       "      <th>secondary_cleaner.state.floatbank4_b_air</th>\n",
       "      <th>secondary_cleaner.state.floatbank4_b_level</th>\n",
       "      <th>secondary_cleaner.state.floatbank5_a_air</th>\n",
       "      <th>secondary_cleaner.state.floatbank5_a_level</th>\n",
       "      <th>secondary_cleaner.state.floatbank5_b_air</th>\n",
       "      <th>secondary_cleaner.state.floatbank5_b_level</th>\n",
       "      <th>secondary_cleaner.state.floatbank6_a_air</th>\n",
       "      <th>secondary_cleaner.state.floatbank6_a_level</th>\n",
       "    </tr>\n",
       "  </thead>\n",
       "  <tbody>\n",
       "    <tr>\n",
       "      <th>0</th>\n",
       "      <td>2016-01-15 00:00:00</td>\n",
       "      <td>6.055403</td>\n",
       "      <td>9.889648</td>\n",
       "      <td>5.507324</td>\n",
       "      <td>42.192020</td>\n",
       "      <td>70.541216</td>\n",
       "      <td>10.411962</td>\n",
       "      <td>0.895447</td>\n",
       "      <td>16.904297</td>\n",
       "      <td>2.143149</td>\n",
       "      <td>...</td>\n",
       "      <td>14.016835</td>\n",
       "      <td>-502.488007</td>\n",
       "      <td>12.099931</td>\n",
       "      <td>-504.715942</td>\n",
       "      <td>9.925633</td>\n",
       "      <td>-498.310211</td>\n",
       "      <td>8.079666</td>\n",
       "      <td>-500.470978</td>\n",
       "      <td>14.151341</td>\n",
       "      <td>-605.841980</td>\n",
       "    </tr>\n",
       "    <tr>\n",
       "      <th>1</th>\n",
       "      <td>2016-01-15 01:00:00</td>\n",
       "      <td>6.029369</td>\n",
       "      <td>9.968944</td>\n",
       "      <td>5.257781</td>\n",
       "      <td>42.701629</td>\n",
       "      <td>69.266198</td>\n",
       "      <td>10.462676</td>\n",
       "      <td>0.927452</td>\n",
       "      <td>16.634514</td>\n",
       "      <td>2.224930</td>\n",
       "      <td>...</td>\n",
       "      <td>13.992281</td>\n",
       "      <td>-505.503262</td>\n",
       "      <td>11.950531</td>\n",
       "      <td>-501.331529</td>\n",
       "      <td>10.039245</td>\n",
       "      <td>-500.169983</td>\n",
       "      <td>7.984757</td>\n",
       "      <td>-500.582168</td>\n",
       "      <td>13.998353</td>\n",
       "      <td>-599.787184</td>\n",
       "    </tr>\n",
       "    <tr>\n",
       "      <th>2</th>\n",
       "      <td>2016-01-15 02:00:00</td>\n",
       "      <td>6.055926</td>\n",
       "      <td>10.213995</td>\n",
       "      <td>5.383759</td>\n",
       "      <td>42.657501</td>\n",
       "      <td>68.116445</td>\n",
       "      <td>10.507046</td>\n",
       "      <td>0.953716</td>\n",
       "      <td>16.208849</td>\n",
       "      <td>2.257889</td>\n",
       "      <td>...</td>\n",
       "      <td>14.015015</td>\n",
       "      <td>-502.520901</td>\n",
       "      <td>11.912783</td>\n",
       "      <td>-501.133383</td>\n",
       "      <td>10.070913</td>\n",
       "      <td>-500.129135</td>\n",
       "      <td>8.013877</td>\n",
       "      <td>-500.517572</td>\n",
       "      <td>14.028663</td>\n",
       "      <td>-601.427363</td>\n",
       "    </tr>\n",
       "    <tr>\n",
       "      <th>3</th>\n",
       "      <td>2016-01-15 03:00:00</td>\n",
       "      <td>6.047977</td>\n",
       "      <td>9.977019</td>\n",
       "      <td>4.858634</td>\n",
       "      <td>42.689819</td>\n",
       "      <td>68.347543</td>\n",
       "      <td>10.422762</td>\n",
       "      <td>0.883763</td>\n",
       "      <td>16.532835</td>\n",
       "      <td>2.146849</td>\n",
       "      <td>...</td>\n",
       "      <td>14.036510</td>\n",
       "      <td>-500.857308</td>\n",
       "      <td>11.999550</td>\n",
       "      <td>-501.193686</td>\n",
       "      <td>9.970366</td>\n",
       "      <td>-499.201640</td>\n",
       "      <td>7.977324</td>\n",
       "      <td>-500.255908</td>\n",
       "      <td>14.005551</td>\n",
       "      <td>-599.996129</td>\n",
       "    </tr>\n",
       "    <tr>\n",
       "      <th>4</th>\n",
       "      <td>2016-01-15 04:00:00</td>\n",
       "      <td>6.148599</td>\n",
       "      <td>10.142511</td>\n",
       "      <td>4.939416</td>\n",
       "      <td>42.774141</td>\n",
       "      <td>66.927016</td>\n",
       "      <td>10.360302</td>\n",
       "      <td>0.792826</td>\n",
       "      <td>16.525686</td>\n",
       "      <td>2.055292</td>\n",
       "      <td>...</td>\n",
       "      <td>14.027298</td>\n",
       "      <td>-499.838632</td>\n",
       "      <td>11.953070</td>\n",
       "      <td>-501.053894</td>\n",
       "      <td>9.925709</td>\n",
       "      <td>-501.686727</td>\n",
       "      <td>7.894242</td>\n",
       "      <td>-500.356035</td>\n",
       "      <td>13.996647</td>\n",
       "      <td>-601.496691</td>\n",
       "    </tr>\n",
       "  </tbody>\n",
       "</table>\n",
       "<p>5 rows × 87 columns</p>\n",
       "</div>"
      ],
      "text/plain": [
       "                  date  final.output.concentrate_ag  \\\n",
       "0  2016-01-15 00:00:00                     6.055403   \n",
       "1  2016-01-15 01:00:00                     6.029369   \n",
       "2  2016-01-15 02:00:00                     6.055926   \n",
       "3  2016-01-15 03:00:00                     6.047977   \n",
       "4  2016-01-15 04:00:00                     6.148599   \n",
       "\n",
       "   final.output.concentrate_pb  final.output.concentrate_sol  \\\n",
       "0                     9.889648                      5.507324   \n",
       "1                     9.968944                      5.257781   \n",
       "2                    10.213995                      5.383759   \n",
       "3                     9.977019                      4.858634   \n",
       "4                    10.142511                      4.939416   \n",
       "\n",
       "   final.output.concentrate_au  final.output.recovery  final.output.tail_ag  \\\n",
       "0                    42.192020              70.541216             10.411962   \n",
       "1                    42.701629              69.266198             10.462676   \n",
       "2                    42.657501              68.116445             10.507046   \n",
       "3                    42.689819              68.347543             10.422762   \n",
       "4                    42.774141              66.927016             10.360302   \n",
       "\n",
       "   final.output.tail_pb  final.output.tail_sol  final.output.tail_au  ...  \\\n",
       "0              0.895447              16.904297              2.143149  ...   \n",
       "1              0.927452              16.634514              2.224930  ...   \n",
       "2              0.953716              16.208849              2.257889  ...   \n",
       "3              0.883763              16.532835              2.146849  ...   \n",
       "4              0.792826              16.525686              2.055292  ...   \n",
       "\n",
       "   secondary_cleaner.state.floatbank4_a_air  \\\n",
       "0                                 14.016835   \n",
       "1                                 13.992281   \n",
       "2                                 14.015015   \n",
       "3                                 14.036510   \n",
       "4                                 14.027298   \n",
       "\n",
       "   secondary_cleaner.state.floatbank4_a_level  \\\n",
       "0                                 -502.488007   \n",
       "1                                 -505.503262   \n",
       "2                                 -502.520901   \n",
       "3                                 -500.857308   \n",
       "4                                 -499.838632   \n",
       "\n",
       "   secondary_cleaner.state.floatbank4_b_air  \\\n",
       "0                                 12.099931   \n",
       "1                                 11.950531   \n",
       "2                                 11.912783   \n",
       "3                                 11.999550   \n",
       "4                                 11.953070   \n",
       "\n",
       "   secondary_cleaner.state.floatbank4_b_level  \\\n",
       "0                                 -504.715942   \n",
       "1                                 -501.331529   \n",
       "2                                 -501.133383   \n",
       "3                                 -501.193686   \n",
       "4                                 -501.053894   \n",
       "\n",
       "   secondary_cleaner.state.floatbank5_a_air  \\\n",
       "0                                  9.925633   \n",
       "1                                 10.039245   \n",
       "2                                 10.070913   \n",
       "3                                  9.970366   \n",
       "4                                  9.925709   \n",
       "\n",
       "   secondary_cleaner.state.floatbank5_a_level  \\\n",
       "0                                 -498.310211   \n",
       "1                                 -500.169983   \n",
       "2                                 -500.129135   \n",
       "3                                 -499.201640   \n",
       "4                                 -501.686727   \n",
       "\n",
       "   secondary_cleaner.state.floatbank5_b_air  \\\n",
       "0                                  8.079666   \n",
       "1                                  7.984757   \n",
       "2                                  8.013877   \n",
       "3                                  7.977324   \n",
       "4                                  7.894242   \n",
       "\n",
       "   secondary_cleaner.state.floatbank5_b_level  \\\n",
       "0                                 -500.470978   \n",
       "1                                 -500.582168   \n",
       "2                                 -500.517572   \n",
       "3                                 -500.255908   \n",
       "4                                 -500.356035   \n",
       "\n",
       "   secondary_cleaner.state.floatbank6_a_air  \\\n",
       "0                                 14.151341   \n",
       "1                                 13.998353   \n",
       "2                                 14.028663   \n",
       "3                                 14.005551   \n",
       "4                                 13.996647   \n",
       "\n",
       "   secondary_cleaner.state.floatbank6_a_level  \n",
       "0                                 -605.841980  \n",
       "1                                 -599.787184  \n",
       "2                                 -601.427363  \n",
       "3                                 -599.996129  \n",
       "4                                 -601.496691  \n",
       "\n",
       "[5 rows x 87 columns]"
      ]
     },
     "execution_count": 4,
     "metadata": {},
     "output_type": "execute_result"
    }
   ],
   "source": [
    "train.head()"
   ]
  },
  {
   "cell_type": "code",
   "execution_count": 5,
   "metadata": {
    "scrolled": false
   },
   "outputs": [
    {
     "name": "stdout",
     "output_type": "stream",
     "text": [
      "<class 'pandas.core.frame.DataFrame'>\n",
      "RangeIndex: 5290 entries, 0 to 5289\n",
      "Data columns (total 53 columns):\n",
      " #   Column                                      Non-Null Count  Dtype  \n",
      "---  ------                                      --------------  -----  \n",
      " 0   date                                        5290 non-null   object \n",
      " 1   primary_cleaner.input.sulfate               5286 non-null   float64\n",
      " 2   primary_cleaner.input.depressant            5285 non-null   float64\n",
      " 3   primary_cleaner.input.feed_size             5290 non-null   float64\n",
      " 4   primary_cleaner.input.xanthate              5286 non-null   float64\n",
      " 5   primary_cleaner.state.floatbank8_a_air      5290 non-null   float64\n",
      " 6   primary_cleaner.state.floatbank8_a_level    5290 non-null   float64\n",
      " 7   primary_cleaner.state.floatbank8_b_air      5290 non-null   float64\n",
      " 8   primary_cleaner.state.floatbank8_b_level    5290 non-null   float64\n",
      " 9   primary_cleaner.state.floatbank8_c_air      5290 non-null   float64\n",
      " 10  primary_cleaner.state.floatbank8_c_level    5290 non-null   float64\n",
      " 11  primary_cleaner.state.floatbank8_d_air      5290 non-null   float64\n",
      " 12  primary_cleaner.state.floatbank8_d_level    5290 non-null   float64\n",
      " 13  rougher.input.feed_ag                       5290 non-null   float64\n",
      " 14  rougher.input.feed_pb                       5290 non-null   float64\n",
      " 15  rougher.input.feed_rate                     5287 non-null   float64\n",
      " 16  rougher.input.feed_size                     5289 non-null   float64\n",
      " 17  rougher.input.feed_sol                      5269 non-null   float64\n",
      " 18  rougher.input.feed_au                       5290 non-null   float64\n",
      " 19  rougher.input.floatbank10_sulfate           5285 non-null   float64\n",
      " 20  rougher.input.floatbank10_xanthate          5290 non-null   float64\n",
      " 21  rougher.input.floatbank11_sulfate           5282 non-null   float64\n",
      " 22  rougher.input.floatbank11_xanthate          5265 non-null   float64\n",
      " 23  rougher.state.floatbank10_a_air             5290 non-null   float64\n",
      " 24  rougher.state.floatbank10_a_level           5290 non-null   float64\n",
      " 25  rougher.state.floatbank10_b_air             5290 non-null   float64\n",
      " 26  rougher.state.floatbank10_b_level           5290 non-null   float64\n",
      " 27  rougher.state.floatbank10_c_air             5290 non-null   float64\n",
      " 28  rougher.state.floatbank10_c_level           5290 non-null   float64\n",
      " 29  rougher.state.floatbank10_d_air             5290 non-null   float64\n",
      " 30  rougher.state.floatbank10_d_level           5290 non-null   float64\n",
      " 31  rougher.state.floatbank10_e_air             5290 non-null   float64\n",
      " 32  rougher.state.floatbank10_e_level           5290 non-null   float64\n",
      " 33  rougher.state.floatbank10_f_air             5290 non-null   float64\n",
      " 34  rougher.state.floatbank10_f_level           5290 non-null   float64\n",
      " 35  secondary_cleaner.state.floatbank2_a_air    5287 non-null   float64\n",
      " 36  secondary_cleaner.state.floatbank2_a_level  5290 non-null   float64\n",
      " 37  secondary_cleaner.state.floatbank2_b_air    5288 non-null   float64\n",
      " 38  secondary_cleaner.state.floatbank2_b_level  5290 non-null   float64\n",
      " 39  secondary_cleaner.state.floatbank3_a_air    5281 non-null   float64\n",
      " 40  secondary_cleaner.state.floatbank3_a_level  5290 non-null   float64\n",
      " 41  secondary_cleaner.state.floatbank3_b_air    5290 non-null   float64\n",
      " 42  secondary_cleaner.state.floatbank3_b_level  5290 non-null   float64\n",
      " 43  secondary_cleaner.state.floatbank4_a_air    5290 non-null   float64\n",
      " 44  secondary_cleaner.state.floatbank4_a_level  5290 non-null   float64\n",
      " 45  secondary_cleaner.state.floatbank4_b_air    5290 non-null   float64\n",
      " 46  secondary_cleaner.state.floatbank4_b_level  5290 non-null   float64\n",
      " 47  secondary_cleaner.state.floatbank5_a_air    5290 non-null   float64\n",
      " 48  secondary_cleaner.state.floatbank5_a_level  5290 non-null   float64\n",
      " 49  secondary_cleaner.state.floatbank5_b_air    5290 non-null   float64\n",
      " 50  secondary_cleaner.state.floatbank5_b_level  5290 non-null   float64\n",
      " 51  secondary_cleaner.state.floatbank6_a_air    5290 non-null   float64\n",
      " 52  secondary_cleaner.state.floatbank6_a_level  5290 non-null   float64\n",
      "dtypes: float64(52), object(1)\n",
      "memory usage: 2.1+ MB\n"
     ]
    }
   ],
   "source": [
    "test.info()"
   ]
  },
  {
   "cell_type": "code",
   "execution_count": 6,
   "metadata": {
    "scrolled": false
   },
   "outputs": [
    {
     "name": "stdout",
     "output_type": "stream",
     "text": [
      "<class 'pandas.core.frame.DataFrame'>\n",
      "RangeIndex: 19439 entries, 0 to 19438\n",
      "Data columns (total 87 columns):\n",
      " #   Column                                              Non-Null Count  Dtype  \n",
      "---  ------                                              --------------  -----  \n",
      " 0   date                                                19439 non-null  object \n",
      " 1   final.output.concentrate_ag                         19438 non-null  float64\n",
      " 2   final.output.concentrate_pb                         19438 non-null  float64\n",
      " 3   final.output.concentrate_sol                        19228 non-null  float64\n",
      " 4   final.output.concentrate_au                         19439 non-null  float64\n",
      " 5   final.output.recovery                               19439 non-null  float64\n",
      " 6   final.output.tail_ag                                19438 non-null  float64\n",
      " 7   final.output.tail_pb                                19338 non-null  float64\n",
      " 8   final.output.tail_sol                               19433 non-null  float64\n",
      " 9   final.output.tail_au                                19439 non-null  float64\n",
      " 10  primary_cleaner.input.sulfate                       19415 non-null  float64\n",
      " 11  primary_cleaner.input.depressant                    19402 non-null  float64\n",
      " 12  primary_cleaner.input.feed_size                     19439 non-null  float64\n",
      " 13  primary_cleaner.input.xanthate                      19335 non-null  float64\n",
      " 14  primary_cleaner.output.concentrate_ag               19439 non-null  float64\n",
      " 15  primary_cleaner.output.concentrate_pb               19323 non-null  float64\n",
      " 16  primary_cleaner.output.concentrate_sol              19069 non-null  float64\n",
      " 17  primary_cleaner.output.concentrate_au               19439 non-null  float64\n",
      " 18  primary_cleaner.output.tail_ag                      19435 non-null  float64\n",
      " 19  primary_cleaner.output.tail_pb                      19418 non-null  float64\n",
      " 20  primary_cleaner.output.tail_sol                     19377 non-null  float64\n",
      " 21  primary_cleaner.output.tail_au                      19439 non-null  float64\n",
      " 22  primary_cleaner.state.floatbank8_a_air              19435 non-null  float64\n",
      " 23  primary_cleaner.state.floatbank8_a_level            19438 non-null  float64\n",
      " 24  primary_cleaner.state.floatbank8_b_air              19435 non-null  float64\n",
      " 25  primary_cleaner.state.floatbank8_b_level            19438 non-null  float64\n",
      " 26  primary_cleaner.state.floatbank8_c_air              19437 non-null  float64\n",
      " 27  primary_cleaner.state.floatbank8_c_level            19438 non-null  float64\n",
      " 28  primary_cleaner.state.floatbank8_d_air              19436 non-null  float64\n",
      " 29  primary_cleaner.state.floatbank8_d_level            19438 non-null  float64\n",
      " 30  rougher.calculation.sulfate_to_au_concentrate       19437 non-null  float64\n",
      " 31  rougher.calculation.floatbank10_sulfate_to_au_feed  19437 non-null  float64\n",
      " 32  rougher.calculation.floatbank11_sulfate_to_au_feed  19437 non-null  float64\n",
      " 33  rougher.calculation.au_pb_ratio                     19439 non-null  float64\n",
      " 34  rougher.input.feed_ag                               19439 non-null  float64\n",
      " 35  rougher.input.feed_pb                               19339 non-null  float64\n",
      " 36  rougher.input.feed_rate                             19428 non-null  float64\n",
      " 37  rougher.input.feed_size                             19294 non-null  float64\n",
      " 38  rougher.input.feed_sol                              19340 non-null  float64\n",
      " 39  rougher.input.feed_au                               19439 non-null  float64\n",
      " 40  rougher.input.floatbank10_sulfate                   19405 non-null  float64\n",
      " 41  rougher.input.floatbank10_xanthate                  19431 non-null  float64\n",
      " 42  rougher.input.floatbank11_sulfate                   19395 non-null  float64\n",
      " 43  rougher.input.floatbank11_xanthate                  18986 non-null  float64\n",
      " 44  rougher.output.concentrate_ag                       19439 non-null  float64\n",
      " 45  rougher.output.concentrate_pb                       19439 non-null  float64\n",
      " 46  rougher.output.concentrate_sol                      19416 non-null  float64\n",
      " 47  rougher.output.concentrate_au                       19439 non-null  float64\n",
      " 48  rougher.output.recovery                             19439 non-null  float64\n",
      " 49  rougher.output.tail_ag                              19438 non-null  float64\n",
      " 50  rougher.output.tail_pb                              19439 non-null  float64\n",
      " 51  rougher.output.tail_sol                             19439 non-null  float64\n",
      " 52  rougher.output.tail_au                              19439 non-null  float64\n",
      " 53  rougher.state.floatbank10_a_air                     19438 non-null  float64\n",
      " 54  rougher.state.floatbank10_a_level                   19438 non-null  float64\n",
      " 55  rougher.state.floatbank10_b_air                     19438 non-null  float64\n",
      " 56  rougher.state.floatbank10_b_level                   19438 non-null  float64\n",
      " 57  rougher.state.floatbank10_c_air                     19438 non-null  float64\n",
      " 58  rougher.state.floatbank10_c_level                   19438 non-null  float64\n",
      " 59  rougher.state.floatbank10_d_air                     19439 non-null  float64\n",
      " 60  rougher.state.floatbank10_d_level                   19439 non-null  float64\n",
      " 61  rougher.state.floatbank10_e_air                     19003 non-null  float64\n",
      " 62  rougher.state.floatbank10_e_level                   19439 non-null  float64\n",
      " 63  rougher.state.floatbank10_f_air                     19439 non-null  float64\n",
      " 64  rougher.state.floatbank10_f_level                   19439 non-null  float64\n",
      " 65  secondary_cleaner.output.tail_ag                    19437 non-null  float64\n",
      " 66  secondary_cleaner.output.tail_pb                    19427 non-null  float64\n",
      " 67  secondary_cleaner.output.tail_sol                   17691 non-null  float64\n",
      " 68  secondary_cleaner.output.tail_au                    19439 non-null  float64\n",
      " 69  secondary_cleaner.state.floatbank2_a_air            19219 non-null  float64\n",
      " 70  secondary_cleaner.state.floatbank2_a_level          19438 non-null  float64\n",
      " 71  secondary_cleaner.state.floatbank2_b_air            19416 non-null  float64\n",
      " 72  secondary_cleaner.state.floatbank2_b_level          19438 non-null  float64\n",
      " 73  secondary_cleaner.state.floatbank3_a_air            19426 non-null  float64\n",
      " 74  secondary_cleaner.state.floatbank3_a_level          19438 non-null  float64\n",
      " 75  secondary_cleaner.state.floatbank3_b_air            19438 non-null  float64\n",
      " 76  secondary_cleaner.state.floatbank3_b_level          19438 non-null  float64\n",
      " 77  secondary_cleaner.state.floatbank4_a_air            19433 non-null  float64\n",
      " 78  secondary_cleaner.state.floatbank4_a_level          19438 non-null  float64\n",
      " 79  secondary_cleaner.state.floatbank4_b_air            19438 non-null  float64\n",
      " 80  secondary_cleaner.state.floatbank4_b_level          19438 non-null  float64\n",
      " 81  secondary_cleaner.state.floatbank5_a_air            19438 non-null  float64\n",
      " 82  secondary_cleaner.state.floatbank5_a_level          19438 non-null  float64\n",
      " 83  secondary_cleaner.state.floatbank5_b_air            19438 non-null  float64\n",
      " 84  secondary_cleaner.state.floatbank5_b_level          19438 non-null  float64\n",
      " 85  secondary_cleaner.state.floatbank6_a_air            19437 non-null  float64\n",
      " 86  secondary_cleaner.state.floatbank6_a_level          19438 non-null  float64\n",
      "dtypes: float64(86), object(1)\n",
      "memory usage: 12.9+ MB\n"
     ]
    }
   ],
   "source": [
    "full.info()"
   ]
  },
  {
   "cell_type": "markdown",
   "metadata": {},
   "source": [
    "В тренировочных данных содержится 87 признаков в 14149 обьектах. Некоторые признаки содержат пропуски. "
   ]
  },
  {
   "cell_type": "markdown",
   "metadata": {},
   "source": [
    "В тестовых данных содержится 53 признака в 5290 обьектах. Некоторые признаки содержат пропуски."
   ]
  },
  {
   "cell_type": "markdown",
   "metadata": {},
   "source": [
    "В исходных данных содержится 87 признаков в 19439 обьектах. Некоторые признаки содержат пропуски."
   ]
  },
  {
   "cell_type": "markdown",
   "metadata": {},
   "source": [
    "### Проверка рассчета эффективности обогащения"
   ]
  },
  {
   "cell_type": "markdown",
   "metadata": {},
   "source": [
    "Проверим правильность рассчета эффективности обогащения (флотации). Для этого посччитаем эффективность обогащения по формуле и сравним данными из rougher.output.recovery с помощью MAE (cреднее абсолютное отклонение)."
   ]
  },
  {
   "attachments": {
    "image.png": {
     "image/png": "[encoded data removed]"
    }
   },
   "cell_type": "markdown",
   "metadata": {},
   "source": [
    "![image.png](attachment:image.png)"
   ]
  },
  {
   "cell_type": "code",
   "execution_count": 7,
   "metadata": {
    "scrolled": true
   },
   "outputs": [
    {
     "name": "stdout",
     "output_type": "stream",
     "text": [
      "<class 'pandas.core.frame.DataFrame'>\n",
      "RangeIndex: 19439 entries, 0 to 19438\n",
      "Data columns (total 4 columns):\n",
      " #   Column                         Non-Null Count  Dtype  \n",
      "---  ------                         --------------  -----  \n",
      " 0   rougher.output.tail_au         19439 non-null  float64\n",
      " 1   rougher.input.feed_au          19439 non-null  float64\n",
      " 2   rougher.output.concentrate_au  19439 non-null  float64\n",
      " 3   rougher.output.recovery        19439 non-null  float64\n",
      "dtypes: float64(4)\n",
      "memory usage: 607.6 KB\n"
     ]
    }
   ],
   "source": [
    "full[{'rougher.output.concentrate_au', 'rougher.output.tail_au', 'rougher.input.feed_au', 'rougher.output.recovery'}].info()"
   ]
  },
  {
   "cell_type": "code",
   "execution_count": 8,
   "metadata": {},
   "outputs": [
    {
     "name": "stdout",
     "output_type": "stream",
     "text": [
      "MAE между расчётами и значением признака 0\n"
     ]
    }
   ],
   "source": [
    "C = full['rougher.output.concentrate_au'] #доля золота в концентрате после флотации/очистки\n",
    "T = full['rougher.output.tail_au'] #доля золота в отвальных хвостах после флотации/очистки \n",
    "F = full['rougher.input.feed_au'] #доля золота в сырье/концентрате до флотации/очистки\n",
    "recovery = (C*(F-T)) / (F*(C-T)) * 100\n",
    "MAE = mean_absolute_error(recovery, full['rougher.output.recovery'])\n",
    "print('MAE между расчётами и значением признака', round(MAE))"
   ]
  },
  {
   "cell_type": "markdown",
   "metadata": {},
   "source": [
    "Ошибка равна нулю, что соответсвует правильности расчета."
   ]
  },
  {
   "cell_type": "markdown",
   "metadata": {},
   "source": [
    "### Анализ признаков, недоступных в тестовой выборке"
   ]
  },
  {
   "cell_type": "code",
   "execution_count": 9,
   "metadata": {
    "scrolled": false
   },
   "outputs": [
    {
     "data": {
      "text/plain": [
       "0                           final.output.concentrate_ag\n",
       "1                           final.output.concentrate_au\n",
       "2                           final.output.concentrate_pb\n",
       "3                          final.output.concentrate_sol\n",
       "4                                 final.output.recovery\n",
       "5                                  final.output.tail_ag\n",
       "6                                  final.output.tail_au\n",
       "7                                  final.output.tail_pb\n",
       "8                                 final.output.tail_sol\n",
       "9                 primary_cleaner.output.concentrate_ag\n",
       "10                primary_cleaner.output.concentrate_au\n",
       "11                primary_cleaner.output.concentrate_pb\n",
       "12               primary_cleaner.output.concentrate_sol\n",
       "13                       primary_cleaner.output.tail_ag\n",
       "14                       primary_cleaner.output.tail_au\n",
       "15                       primary_cleaner.output.tail_pb\n",
       "16                      primary_cleaner.output.tail_sol\n",
       "17                      rougher.calculation.au_pb_ratio\n",
       "18    rougher.calculation.floatbank10_sulfate_to_au_...\n",
       "19    rougher.calculation.floatbank11_sulfate_to_au_...\n",
       "20        rougher.calculation.sulfate_to_au_concentrate\n",
       "21                        rougher.output.concentrate_ag\n",
       "22                        rougher.output.concentrate_au\n",
       "23                        rougher.output.concentrate_pb\n",
       "24                       rougher.output.concentrate_sol\n",
       "25                              rougher.output.recovery\n",
       "26                               rougher.output.tail_ag\n",
       "27                               rougher.output.tail_au\n",
       "28                               rougher.output.tail_pb\n",
       "29                              rougher.output.tail_sol\n",
       "30                     secondary_cleaner.output.tail_ag\n",
       "31                     secondary_cleaner.output.tail_au\n",
       "32                     secondary_cleaner.output.tail_pb\n",
       "33                    secondary_cleaner.output.tail_sol\n",
       "dtype: object"
      ]
     },
     "execution_count": 9,
     "metadata": {},
     "output_type": "execute_result"
    }
   ],
   "source": [
    "pd.Series(train.columns.difference(test.columns))"
   ]
  },
  {
   "cell_type": "markdown",
   "metadata": {},
   "source": [
    "В тестовой выборке отсутсвуют 30 параметров из блока output — параметры продукта для всех 4х этапов и 4 парамтра из блока calculation - расчётные характеристики для этапа обогощения (флотации). Данные отсутсвуют потому что замеряются и/или рассчитываются значительно позже."
   ]
  },
  {
   "cell_type": "markdown",
   "metadata": {},
   "source": [
    "###  Предобработка данных"
   ]
  },
  {
   "cell_type": "markdown",
   "metadata": {},
   "source": [
    "Посмотрим долю пропущенных данных в разных параметрах"
   ]
  },
  {
   "cell_type": "code",
   "execution_count": 10,
   "metadata": {
    "scrolled": true
   },
   "outputs": [
    {
     "data": {
      "text/plain": [
       "secondary_cleaner.output.tail_sol           0.089922\n",
       "rougher.input.floatbank11_xanthate          0.023304\n",
       "rougher.state.floatbank10_e_air             0.022429\n",
       "primary_cleaner.output.concentrate_sol      0.019034\n",
       "secondary_cleaner.state.floatbank2_a_air    0.011317\n",
       "final.output.concentrate_sol                0.010854\n",
       "rougher.input.feed_size                     0.007459\n",
       "primary_cleaner.output.concentrate_pb       0.005967\n",
       "primary_cleaner.input.xanthate              0.005350\n",
       "final.output.tail_pb                        0.005196\n",
       "dtype: float64"
      ]
     },
     "execution_count": 10,
     "metadata": {},
     "output_type": "execute_result"
    }
   ],
   "source": [
    "full.isna().mean().sort_values(ascending = False).head(10)"
   ]
  },
  {
   "cell_type": "code",
   "execution_count": 11,
   "metadata": {},
   "outputs": [
    {
     "data": {
      "text/plain": [
       "secondary_cleaner.output.tail_sol           0.113436\n",
       "rougher.state.floatbank10_e_air             0.030815\n",
       "rougher.input.floatbank11_xanthate          0.030249\n",
       "primary_cleaner.output.concentrate_sol      0.020213\n",
       "secondary_cleaner.state.floatbank2_a_air    0.015337\n",
       "final.output.concentrate_sol                0.014913\n",
       "rougher.input.feed_size                     0.010177\n",
       "primary_cleaner.input.xanthate              0.007068\n",
       "rougher.input.feed_pb                       0.007068\n",
       "final.output.tail_pb                        0.007068\n",
       "dtype: float64"
      ]
     },
     "execution_count": 11,
     "metadata": {},
     "output_type": "execute_result"
    }
   ],
   "source": [
    "train.isna().mean().sort_values(ascending = False).head(10)"
   ]
  },
  {
   "cell_type": "code",
   "execution_count": 12,
   "metadata": {},
   "outputs": [
    {
     "data": {
      "text/plain": [
       "rougher.input.floatbank11_xanthate          0.004726\n",
       "rougher.input.feed_sol                      0.003970\n",
       "secondary_cleaner.state.floatbank3_a_air    0.001701\n",
       "rougher.input.floatbank11_sulfate           0.001512\n",
       "primary_cleaner.input.depressant            0.000945\n",
       "rougher.input.floatbank10_sulfate           0.000945\n",
       "primary_cleaner.input.xanthate              0.000756\n",
       "primary_cleaner.input.sulfate               0.000756\n",
       "rougher.input.feed_rate                     0.000567\n",
       "secondary_cleaner.state.floatbank2_a_air    0.000567\n",
       "dtype: float64"
      ]
     },
     "execution_count": 12,
     "metadata": {},
     "output_type": "execute_result"
    }
   ],
   "source": [
    "test.isna().mean().sort_values(ascending = False).head(10)"
   ]
  },
  {
   "cell_type": "markdown",
   "metadata": {},
   "source": [
    "Данные индексируются датой и временем получения информации (признак date). Заменим формат данных в признаке date и посмотрим временной отрезок на котором полученны данные."
   ]
  },
  {
   "cell_type": "code",
   "execution_count": 13,
   "metadata": {},
   "outputs": [],
   "source": [
    "full['date'] = pd.to_datetime(full['date'])\n",
    "train['date'] = pd.to_datetime(train['date'])\n",
    "test['date'] = pd.to_datetime(test['date'])"
   ]
  },
  {
   "cell_type": "code",
   "execution_count": 14,
   "metadata": {
    "scrolled": true
   },
   "outputs": [
    {
     "data": {
      "text/plain": [
       "min   2016-01-15 00:00:00\n",
       "max   2018-08-18 10:59:59\n",
       "Name: date, dtype: datetime64[ns]"
      ]
     },
     "execution_count": 14,
     "metadata": {},
     "output_type": "execute_result"
    }
   ],
   "source": [
    "full['date'].agg([min, max])"
   ]
  },
  {
   "cell_type": "code",
   "execution_count": 15,
   "metadata": {},
   "outputs": [
    {
     "data": {
      "image/png": "[encoded data removed]",
      "text/plain": [
       "<Figure size 432x288 with 1 Axes>"
      ]
     },
     "metadata": {
      "needs_background": "light"
     },
     "output_type": "display_data"
    }
   ],
   "source": [
    "full['date'].plot(title = \"График изменения времени общей выборки\")\n",
    "plt.show()"
   ]
  },
  {
   "cell_type": "code",
   "execution_count": 16,
   "metadata": {},
   "outputs": [
    {
     "data": {
      "image/png": "[encoded data removed]",
      "text/plain": [
       "<Figure size 432x288 with 1 Axes>"
      ]
     },
     "metadata": {
      "needs_background": "light"
     },
     "output_type": "display_data"
    }
   ],
   "source": [
    "train['date'].plot(title = \"График изменения времени тренировочной выборки\")\n",
    "plt.show()"
   ]
  },
  {
   "cell_type": "code",
   "execution_count": 17,
   "metadata": {},
   "outputs": [
    {
     "data": {
      "image/png": "[encoded data removed]",
      "text/plain": [
       "<Figure size 432x288 with 1 Axes>"
      ]
     },
     "metadata": {
      "needs_background": "light"
     },
     "output_type": "display_data"
    }
   ],
   "source": [
    "test['date'].plot(title = \"График изменения времени тестовой выборки\")\n",
    "plt.show()"
   ]
  },
  {
   "cell_type": "markdown",
   "metadata": {},
   "source": [
    "Данные с 2016 по 2018 год. В общей выборке сильных разрывов не наблюдается. В тренировочной и тестовой выборках видно что данные вытаскивались блоками."
   ]
  },
  {
   "cell_type": "markdown",
   "metadata": {},
   "source": [
    "Соседние по времени параметры часто похожи, поэтому заполним пропуски предшесвующими значениями. Небольшое колличество разрывов с тестовой и тренировойчной выборках на общее распределение параметров не повлияет."
   ]
  },
  {
   "cell_type": "code",
   "execution_count": 18,
   "metadata": {},
   "outputs": [],
   "source": [
    "full = full.ffill(axis = 0)\n",
    "train = train.ffill(axis = 0)\n",
    "test = test.ffill(axis = 0)"
   ]
  },
  {
   "cell_type": "code",
   "execution_count": 19,
   "metadata": {},
   "outputs": [
    {
     "data": {
      "text/plain": [
       "date                                 0.0\n",
       "rougher.state.floatbank10_b_air      0.0\n",
       "rougher.state.floatbank10_f_air      0.0\n",
       "rougher.state.floatbank10_e_level    0.0\n",
       "rougher.state.floatbank10_e_air      0.0\n",
       "dtype: float64"
      ]
     },
     "execution_count": 19,
     "metadata": {},
     "output_type": "execute_result"
    }
   ],
   "source": [
    "full.isna().mean().sort_values(ascending = False).head()"
   ]
  },
  {
   "cell_type": "code",
   "execution_count": 20,
   "metadata": {},
   "outputs": [
    {
     "data": {
      "text/plain": [
       "date                                 0.0\n",
       "rougher.state.floatbank10_b_air      0.0\n",
       "rougher.state.floatbank10_f_air      0.0\n",
       "rougher.state.floatbank10_e_level    0.0\n",
       "rougher.state.floatbank10_e_air      0.0\n",
       "dtype: float64"
      ]
     },
     "execution_count": 20,
     "metadata": {},
     "output_type": "execute_result"
    }
   ],
   "source": [
    "train.isna().mean().sort_values(ascending = False).head()"
   ]
  },
  {
   "cell_type": "code",
   "execution_count": 21,
   "metadata": {},
   "outputs": [
    {
     "data": {
      "text/plain": [
       "date                                 0.0\n",
       "rougher.state.floatbank10_c_air      0.0\n",
       "rougher.state.floatbank10_d_air      0.0\n",
       "rougher.state.floatbank10_d_level    0.0\n",
       "rougher.state.floatbank10_e_air      0.0\n",
       "dtype: float64"
      ]
     },
     "execution_count": 21,
     "metadata": {},
     "output_type": "execute_result"
    }
   ],
   "source": [
    "test.isna().mean().sort_values(ascending = False).head()"
   ]
  },
  {
   "cell_type": "markdown",
   "metadata": {},
   "source": [
    "Пропуски устранены."
   ]
  },
  {
   "cell_type": "markdown",
   "metadata": {},
   "source": [
    "Загрузили данные. Проверили расчет эффективности обогощения. Расчет правильный. Посмотрели недостающие признаки в тестовой выборке. Заполнили пропуски предыдущими значениями."
   ]
  },
  {
   "cell_type": "markdown",
   "metadata": {},
   "source": [
    "## Анализ данных"
   ]
  },
  {
   "cell_type": "markdown",
   "metadata": {},
   "source": [
    "### Изменение концентрации металлов (Au, Ag, Pb) на различных этапах очистки"
   ]
  },
  {
   "cell_type": "code",
   "execution_count": 22,
   "metadata": {
    "scrolled": false
   },
   "outputs": [
    {
     "data": {
      "image/png": "[encoded data removed]",
      "text/plain": [
       "<Figure size 1080x576 with 1 Axes>"
      ]
     },
     "metadata": {
      "needs_background": "light"
     },
     "output_type": "display_data"
    },
    {
     "data": {
      "image/png": "[encoded data removed]",
      "text/plain": [
       "<Figure size 1080x576 with 1 Axes>"
      ]
     },
     "metadata": {
      "needs_background": "light"
     },
     "output_type": "display_data"
    },
    {
     "data": {
      "image/png": "[encoded data removed]",
      "text/plain": [
       "<Figure size 1080x576 with 1 Axes>"
      ]
     },
     "metadata": {
      "needs_background": "light"
     },
     "output_type": "display_data"
    }
   ],
   "source": [
    "for metall in ['au', 'ag', 'pb']:\n",
    "    \n",
    "    globals()['concentrate_%s' % metall] = []\n",
    "    for stage in ['rougher.input.feed_', \n",
    "                  'rougher.output.concentrate_', \n",
    "                  'primary_cleaner.output.concentrate_', \n",
    "                  'final.output.concentrate_']:\n",
    "        feature_name = '%(st)s%(met)s' % {'st' : stage, 'met' : metall}\n",
    "        globals()['concentrate_%s' % metall].append(full[feature_name])\n",
    "    pd.DataFrame(globals()['concentrate_%s' % metall]).T.plot(kind='box',\n",
    "                                                         figsize=(15,8),\n",
    "                                                         title = f'Средняя концентрация {metall} на разных этапах')\n",
    "    plt.show()\n",
    "        "
   ]
  },
  {
   "cell_type": "markdown",
   "metadata": {},
   "source": [
    "Первый столбец - концентрация в исходноем сырье. Средняя концентрация золота (au) растет линейно на каждом этапе. Средняя концентрация серебра (ag)  растет только на 1м этапе, далее линейно снижается. Свинец (pb) растет только на первых 2х этапах, на последнем не меняется. В данных  наблюдается довольно много выбросов."
   ]
  },
  {
   "cell_type": "markdown",
   "metadata": {},
   "source": [
    "### Распределение размеров гранул сырья на обучающей и тестовой выборках"
   ]
  },
  {
   "cell_type": "code",
   "execution_count": 23,
   "metadata": {},
   "outputs": [
    {
     "data": {
      "image/png": "[encoded data removed]",
      "text/plain": [
       "<Figure size 1080x504 with 1 Axes>"
      ]
     },
     "metadata": {
      "needs_background": "light"
     },
     "output_type": "display_data"
    }
   ],
   "source": [
    "train['rougher.input.feed_size'].hist(bins = 500, figsize=(15,7), alpha = 0.5)\n",
    "test['rougher.input.feed_size'].hist(bins = 500, figsize=(15,7), alpha = 0.5)\n",
    "plt.title('Гистрограммы размеров гранул сырья перед процессом обогащения')\n",
    "plt.legend(['Обучающая выборка', 'Тестовая выборка'])\n",
    "plt.show()"
   ]
  },
  {
   "cell_type": "code",
   "execution_count": 24,
   "metadata": {},
   "outputs": [
    {
     "data": {
      "image/png": "[encoded data removed]",
      "text/plain": [
       "<Figure size 1080x504 with 1 Axes>"
      ]
     },
     "metadata": {
      "needs_background": "light"
     },
     "output_type": "display_data"
    }
   ],
   "source": [
    "train['primary_cleaner.input.feed_size'].hist(bins = 500, figsize=(15,7), alpha = 0.5)\n",
    "test['primary_cleaner.input.feed_size'].hist(bins = 500, figsize=(15,7), alpha = 0.5)\n",
    "plt.title('Гистрограммы размеров гранул сырья перед первым этапом очистки')\n",
    "plt.legend(['Обучающая выборка', 'Тестовая выборка'])\n",
    "plt.show()"
   ]
  },
  {
   "cell_type": "markdown",
   "metadata": {},
   "source": [
    "Перед процессом обогощения распределение размеров гранул сырья имеют отличие, но после обогощения это отличие исчезает. "
   ]
  },
  {
   "cell_type": "markdown",
   "metadata": {},
   "source": [
    "### Исследование суммарной концентрации всех веществ на разных стадиях"
   ]
  },
  {
   "cell_type": "markdown",
   "metadata": {},
   "source": [
    "Просуммируем Au, Ag, Pb и Sol на 3х этапах: в сырье, в черновом концентратe и финальном концентратах."
   ]
  },
  {
   "cell_type": "code",
   "execution_count": 25,
   "metadata": {
    "scrolled": false
   },
   "outputs": [
    {
     "data": {
      "image/png": "[encoded data removed]",
      "text/plain": [
       "<Figure size 1080x576 with 1 Axes>"
      ]
     },
     "metadata": {
      "needs_background": "light"
     },
     "output_type": "display_data"
    }
   ],
   "source": [
    "sum_concentration = []\n",
    "for stage in ['rougher.input.feed_', \n",
    "              'rougher.output.concentrate_', \n",
    "              'final.output.concentrate_']:          \n",
    "    sum_concentration.append(full[{'%sau' % stage, '%sag' % stage, '%spb' % stage, '%ssol' % stage}].sum(axis=1))\n",
    "sum_concentration_df = pd.DataFrame(sum_concentration, index = ['в сырье', 'в черновом концентратe', 'в финальном концентратe']).T\n",
    "sum_concentration_df.plot(\n",
    "                          kind='box', \n",
    "                          figsize=(15,8),  \n",
    "                          title = 'Cуммарная концентрация всех веществ на разных стадиях')\n",
    "plt.show() "
   ]
  },
  {
   "cell_type": "markdown",
   "metadata": {},
   "source": [
    "После обогощения в черновом концентрате суммарная концентрация веществ возрастает. После 2х этапов очистки в финальном концентрате суммарна концентрация всех веществ немного снижается, но как показано в п.2.1 концентрация золота увеличивается, а серебра снижается. Таким образом выделяется нужный нам металл.  \n",
    "\n",
    "На графике видно, что в некоторых случаях суммарные концентрации равны нулю. Проверим что у нас с нулями."
   ]
  },
  {
   "cell_type": "code",
   "execution_count": 26,
   "metadata": {
    "scrolled": true
   },
   "outputs": [
    {
     "data": {
      "text/plain": [
       "в сырье                      0\n",
       "в черновом концентратe     394\n",
       "в финальном концентратe     98\n",
       "dtype: int64"
      ]
     },
     "execution_count": 26,
     "metadata": {},
     "output_type": "execute_result"
    }
   ],
   "source": [
    "sum_concentration_df.isin([0]).sum()"
   ]
  },
  {
   "cell_type": "markdown",
   "metadata": {},
   "source": [
    "Странная ситуация. В сырье что-нибудь но есть, но потом куда-то испаряется. Это является аномальныым значением. В суммарной концентрации всегда что-нибудь должно быть. Удалим нулевые аномалии из всех выборок. "
   ]
  },
  {
   "cell_type": "code",
   "execution_count": 27,
   "metadata": {},
   "outputs": [],
   "source": [
    "for stage in ['rougher.input.feed_', \n",
    "             'rougher.output.concentrate_', \n",
    "             'final.output.concentrate_']:\n",
    "    zero_date = full[full[{'%sau' % stage, '%sag' % stage, '%spb' % stage, '%ssol' % stage}].sum(axis=1).isin([0])]['date']\n",
    "    \n",
    "    full.drop(full[full.date.isin(zero_date)].index, inplace=True)\n",
    "    train.drop(train[train.date.isin(zero_date)].index, inplace=True)\n",
    "    test.drop(test[test.date.isin(zero_date)].index, inplace=True)\n",
    "   "
   ]
  },
  {
   "cell_type": "markdown",
   "metadata": {},
   "source": [
    "## Модель"
   ]
  },
  {
   "cell_type": "markdown",
   "metadata": {},
   "source": [
    "### Функция для вычисления итоговой sMAPE"
   ]
  },
  {
   "cell_type": "markdown",
   "metadata": {},
   "source": [
    "Метрика качества sMAPE (симметричное среднее абсолютное процентное отклонение) вычитсляется по формулам:"
   ]
  },
  {
   "attachments": {
    "image.png": {
     "image/png": "[encoded data removed]"
    }
   },
   "cell_type": "markdown",
   "metadata": {},
   "source": [
    "![image.png](attachment:image.png)"
   ]
  },
  {
   "attachments": {
    "image.png": {
     "image/png": "[encoded data removed]"
    }
   },
   "cell_type": "markdown",
   "metadata": {},
   "source": [
    "![image.png](attachment:image.png)"
   ]
  },
  {
   "cell_type": "code",
   "execution_count": 28,
   "metadata": {},
   "outputs": [],
   "source": [
    "def two_smape_score(y_true, y_pred):\n",
    "    \n",
    "    smape = (2* abs(y_true - y_pred) / (abs(y_true) + abs(y_pred))).sum() / len(y_true) *100\n",
    "    result = smape['rougher.output.recovery'] * 0.25 + smape['final.output.recovery'] * 0.75\n",
    "    return result"
   ]
  },
  {
   "cell_type": "markdown",
   "metadata": {},
   "source": [
    "Проверим правильность вычисления на тестовых данных. На одинаковых данных результат должен быть равен 0."
   ]
  },
  {
   "cell_type": "code",
   "execution_count": 29,
   "metadata": {},
   "outputs": [
    {
     "data": {
      "text/plain": [
       "0.0"
      ]
     },
     "execution_count": 29,
     "metadata": {},
     "output_type": "execute_result"
    }
   ],
   "source": [
    "true = pd.DataFrame({'rougher.output.recovery': [1, -6, 10, 0],\n",
    "                       'final.output.recovery': [1, -6, 10, 0]})\n",
    "pred = np.array([[1, 1], \n",
    "                 [-6, -6],  \n",
    "                 [10, 10],\n",
    "                 [0, 0]])\n",
    "two_smape_score(true, pred)"
   ]
  },
  {
   "cell_type": "markdown",
   "metadata": {},
   "source": [
    "Обернем нашу функцию в make_scorer для дальнейшего использования в GridSearchCV и cross_val_score. Поскольку нам нужен наименьший показатель установим greater_is_better негативным. В результате мерике будет добавлятся знак минус. Потому, что алгоритмы работают на увеличение метрики."
   ]
  },
  {
   "cell_type": "code",
   "execution_count": 30,
   "metadata": {},
   "outputs": [],
   "source": [
    "smape_scorer = make_scorer(two_smape_score, greater_is_better=False)"
   ]
  },
  {
   "cell_type": "markdown",
   "metadata": {},
   "source": [
    "### Обучение разных модели и оценка их качества кросс-валидацией"
   ]
  },
  {
   "cell_type": "markdown",
   "metadata": {},
   "source": [
    "#### Подготовка данных"
   ]
  },
  {
   "cell_type": "markdown",
   "metadata": {},
   "source": [
    "Нужно спрогнозировать сразу две величины:\\\n",
    "эффективность обогащения чернового концентрата rougher.output.recovery;\\\n",
    "эффективность обогащения финального концентрата final.output.recovery.\\\n",
    "Поскольку эти признаки отсутсвуют в тестовой выборке восстановим их из полной выборке по соотвествующим датам.\n",
    "Сформируем тестовую и обучающую выбрки и разделим их объекты на признаки и цели"
   ]
  },
  {
   "cell_type": "code",
   "execution_count": 31,
   "metadata": {},
   "outputs": [
    {
     "name": "stdout",
     "output_type": "stream",
     "text": [
      "Обучающие объекты: признаки (13795, 52), цели (13795, 2)\n",
      "Тестовые объекты: признаки (5154, 52), цели (5154, 2)\n"
     ]
    }
   ],
   "source": [
    "features_train = train[test.columns].drop(['date'], axis = 1) #берем все признаки из тестовой выборки кроме даты\n",
    "target_train = train[{'rougher.output.recovery', 'final.output.recovery'}] #берем 2 целевых признака\n",
    "features_test = test.drop(['date'], axis = 1) #берем все признаки кроме даты\n",
    "target_test = full[full.date.isin(test.date)][{'rougher.output.recovery', 'final.output.recovery'}].reset_index(drop=True)\n",
    "\n",
    "print('Обучающие объекты: признаки {}, цели {}'.format(features_train.shape, target_train.shape))\n",
    "print('Тестовые объекты: признаки {}, цели {}'.format(features_test.shape, target_test.shape))"
   ]
  },
  {
   "cell_type": "markdown",
   "metadata": {},
   "source": [
    "#### Оценка качества моделей кросс-валидацией"
   ]
  },
  {
   "cell_type": "markdown",
   "metadata": {},
   "source": [
    "Восаользуемся фукцией cross_val_score для проверки качества 3х моделей."
   ]
  },
  {
   "cell_type": "code",
   "execution_count": 32,
   "metadata": {},
   "outputs": [],
   "source": [
    "models = [[DecisionTreeRegressor(random_state=12345), 'DecisionTreeRegressor'],\n",
    "          [RandomForestRegressor(random_state=12345, n_estimators = 10), 'RandomForestRegressor'], # ограничим колличество деревьев чтобы ускорить вычисления\n",
    "          [LinearRegression(), 'LinearRegression']]"
   ]
  },
  {
   "cell_type": "code",
   "execution_count": 33,
   "metadata": {
    "scrolled": false
   },
   "outputs": [
    {
     "name": "stdout",
     "output_type": "stream",
     "text": [
      "Оценки sMAPE модели DecisionTreeRegressor : [-14.76075473 -13.03826494 -14.47104442 -17.36471156 -15.7445426 ]\n",
      "Средняя оценка sMAPE  модели DecisionTreeRegressor : -15.07586365057752\n",
      "______________________________________________________________________________________\n",
      "Оценки sMAPE модели RandomForestRegressor : [ -9.97617897  -9.28860079  -9.39303843  -9.84172243 -11.44650276]\n",
      "Средняя оценка sMAPE  модели RandomForestRegressor : -9.98920867440926\n",
      "______________________________________________________________________________________\n",
      "Оценки sMAPE модели LinearRegression : [-12.18766934  -8.82700893  -8.47113559  -8.16452608 -12.64767041]\n",
      "Средняя оценка sMAPE  модели LinearRegression : -10.05960206909363\n",
      "______________________________________________________________________________________\n"
     ]
    }
   ],
   "source": [
    "for model, name in models:\n",
    "    scores = cross_val_score(model, features_train, target_train, scoring = smape_scorer, cv=5, n_jobs=-1)\n",
    "    print ('Оценки sMAPE модели',name, ':', scores)\n",
    "    final_score = scores.mean()\n",
    "    print('Средняя оценка sMAPE  модели',name,':', final_score)\n",
    "    print('______________________________________________________________________________________')\n"
   ]
  },
  {
   "cell_type": "markdown",
   "metadata": {},
   "source": [
    "Лучший результат показывает модель линейная регрессия. "
   ]
  },
  {
   "cell_type": "markdown",
   "metadata": {},
   "source": [
    "#### Оценка качества моделей кросс-валидацией с подбором гиперпараметров"
   ]
  },
  {
   "cell_type": "code",
   "execution_count": 34,
   "metadata": {},
   "outputs": [],
   "source": [
    "# подбираем гиперпараметры и учим модель\n",
    "def model_learn(model_name, param, x, y):\n",
    "    warnings.filterwarnings(\"ignore\", category=sklearn.exceptions.UndefinedMetricWarning)\n",
    "    model = GridSearchCV(model_name, param, scoring=smape_scorer, cv=5, n_jobs=-1)\n",
    "    model.fit(x, y)\n",
    "    return model\n"
   ]
  },
  {
   "cell_type": "code",
   "execution_count": 35,
   "metadata": {},
   "outputs": [],
   "source": [
    "# дипазон параметров для перебора\n",
    "parametrs_DTR = { 'max_depth': range (1,10),\n",
    "                 'min_samples_leaf': range (1,6),\n",
    "                 'min_samples_split': range (2,6,2) }\n",
    "\n",
    "parametrs_RFR = { 'n_estimators': range (5,15,5),\n",
    "                 'max_depth': range (8,14,2),\n",
    "                 'min_samples_leaf': range (2,6,2),\n",
    "                 'min_samples_split': range (2,6,2) }\n",
    "\n",
    "parametrs_LR = { }"
   ]
  },
  {
   "cell_type": "markdown",
   "metadata": {},
   "source": [
    "Подбираем гиперпараметры для одиночного дерева"
   ]
  },
  {
   "cell_type": "code",
   "execution_count": 36,
   "metadata": {},
   "outputs": [
    {
     "name": "stdout",
     "output_type": "stream",
     "text": [
      "Лучшие параметры для DecisionTreeRegressor: {'max_depth': 1, 'min_samples_leaf': 1, 'min_samples_split': 2}\n",
      "Лучшая оценка sMAPE: -8.987481089659127\n"
     ]
    }
   ],
   "source": [
    "model_DTR = DecisionTreeRegressor(random_state=12345)\n",
    "best_DTR = model_learn(model_DTR, parametrs_DTR, features_train, target_train)\n",
    "print(\"Лучшие параметры для DecisionTreeRegressor:\", best_DTR.best_params_)\n",
    "print('Лучшая оценка sMAPE:',  best_DTR.best_score_ )\n"
   ]
  },
  {
   "cell_type": "markdown",
   "metadata": {},
   "source": [
    "Подбираем гиперпараметры для случайного леса"
   ]
  },
  {
   "cell_type": "code",
   "execution_count": 37,
   "metadata": {
    "scrolled": false
   },
   "outputs": [
    {
     "name": "stdout",
     "output_type": "stream",
     "text": [
      "Лучшие параметры для RandomForestRegressor: {'max_depth': 8, 'min_samples_leaf': 2, 'min_samples_split': 2, 'n_estimators': 10}\n",
      "Лучшая оценка sMAPE: -9.310473251751727\n"
     ]
    }
   ],
   "source": [
    "model_RFR = RandomForestRegressor(random_state=12345)\n",
    "best_RFR = model_learn(model_RFR, parametrs_RFR, features_train, target_train)\n",
    "print(\"Лучшие параметры для RandomForestRegressor:\", best_RFR.best_params_)\n",
    "print('Лучшая оценка sMAPE:',  best_RFR.best_score_ )"
   ]
  },
  {
   "cell_type": "markdown",
   "metadata": {},
   "source": [
    "Для линейной регресси нечего подбирать. Тут просто повторяется механизм кросвалидации."
   ]
  },
  {
   "cell_type": "code",
   "execution_count": 38,
   "metadata": {
    "scrolled": false
   },
   "outputs": [
    {
     "name": "stdout",
     "output_type": "stream",
     "text": [
      "Лучшие параметры для LinearRegression: {}\n",
      "Лучшая оценка sMAPE: -10.05960206909363\n"
     ]
    }
   ],
   "source": [
    "model_LR = LinearRegression()\n",
    "best_LR = model_learn(model_LR, parametrs_LR, features_train, target_train)\n",
    "print(\"Лучшие параметры для LinearRegression:\", best_LR.best_params_)\n",
    "print('Лучшая оценка sMAPE:',  best_LR.best_score_ )"
   ]
  },
  {
   "cell_type": "markdown",
   "metadata": {},
   "source": [
    "Подбор гиперпараметров улучшил результаты деревьев. Минимальная метрика теперь у одиночного дерева."
   ]
  },
  {
   "cell_type": "markdown",
   "metadata": {},
   "source": [
    "#### Выбор лучшей модели и проверка её на тестовой выборке"
   ]
  },
  {
   "cell_type": "markdown",
   "metadata": {},
   "source": [
    "Проверим обученные модели на тестовой выборке."
   ]
  },
  {
   "cell_type": "code",
   "execution_count": 39,
   "metadata": {},
   "outputs": [],
   "source": [
    "best_models = [[best_DTR.best_estimator_, 'DecisionTreeRegressor'],\n",
    "              [best_RFR.best_estimator_, 'RandomForestRegressor'],\n",
    "              [best_LR.best_estimator_, 'LinearRegression']]"
   ]
  },
  {
   "cell_type": "code",
   "execution_count": 40,
   "metadata": {},
   "outputs": [
    {
     "name": "stdout",
     "output_type": "stream",
     "text": [
      "Лучшая оценка sMAPE для DecisionTreeRegressor на тестовой выборке: 7.2175594601064725\n",
      "Лучшая оценка sMAPE для RandomForestRegressor на тестовой выборке: 7.1326072421171345\n",
      "Лучшая оценка sMAPE для LinearRegression на тестовой выборке: 7.585925657008353\n"
     ]
    }
   ],
   "source": [
    "for best_model, model_name in best_models:\n",
    "    predictions_test = best_model.predict(features_test)\n",
    "    sMAPE = two_smape_score(target_test, predictions_test)\n",
    "    print('Лучшая оценка sMAPE для', model_name, 'на тестовой выборке:', sMAPE)"
   ]
  },
  {
   "cell_type": "markdown",
   "metadata": {},
   "source": [
    "На тестовой лучшие результаты почти одинаковые. Минимум показывает случайный лес."
   ]
  },
  {
   "cell_type": "markdown",
   "metadata": {},
   "source": [
    "## Вывод"
   ]
  },
  {
   "cell_type": "markdown",
   "metadata": {},
   "source": [
    "На первом этапе проведена подготовка данных. Прпроверены правильность расчетов, анализ признаков и обработка пропусков.  \n",
    "На втором этапе проанализированы стадии техпроцесса. Рассмотрены изменения концентрации меаллов и размеров гранул сырья. Выявлены и удаленв аномалии.  \n",
    "Нв третьм этапе проведенны исследования моделей и сприменением кросс-валидации. Метрика качества задана по формуле. На обучающей выборке лучшие показатели у случайного леса. Подбор гиперпараметров улучшил результаты деревьев. Минимальная метрика у одиночного дерева. На тестовой выборке лучший результат показал случайный лес. Но все 3 модели показивают примерно одинаковые результаты на метрике среднее абсолютное процентное отклонение. Линейна регрессия проще, поэтому для задачи предсказания эффективности обогащения стоит выбрать её."
   ]
  },
  {
   "cell_type": "markdown",
   "metadata": {},
   "source": [
    "## Чек-лист готовности проекта"
   ]
  },
  {
   "cell_type": "markdown",
   "metadata": {},
   "source": [
    "- [x]  Jupyter Notebook открыт\n",
    "- [x]  Весь код выполняется без ошибок\n",
    "- [x]  Ячейки с кодом расположены в порядке выполнения\n",
    "- [x]  Выполнен шаг 1: данные подготовлены\n",
    "    - [x]  Проверена формула вычисления эффективности обогащения\n",
    "    - [x]  Проанализированы признаки, недоступные в тестовой выборке\n",
    "    - [x]  Проведена предобработка данных\n",
    "- [x]  Выполнен шаг 2: данные проанализированы\n",
    "    - [x]  Исследовано изменение концентрации элементов на каждом этапе\n",
    "    - [x]  Проанализированы распределения размеров гранул на обучающей и тестовой выборках\n",
    "    - [x]  Исследованы суммарные концентрации\n",
    "- [x]  Выполнен шаг 3: построена модель прогнозирования\n",
    "    - [x]  Написана функция для вычисления итогового *sMAPE*\n",
    "    - [x]  Обучено и проверено несколько моделей\n",
    "    - [x]  Выбрана лучшая модель, её качество проверено на тестовой выборке"
   ]
  },
  {
   "cell_type": "code",
   "execution_count": null,
   "metadata": {},
   "outputs": [],
   "source": []
  }
 ],
 "metadata": {
  "ExecuteTimeLog": [
   {
    "duration": 299,
    "start_time": "2021-09-28T15:35:13.244Z"
   },
   {
    "duration": 584,
    "start_time": "2021-09-28T15:35:17.911Z"
   },
   {
    "duration": 278,
    "start_time": "2021-09-28T15:35:18.499Z"
   },
   {
    "duration": 717,
    "start_time": "2021-09-28T15:37:35.608Z"
   },
   {
    "duration": 227,
    "start_time": "2021-09-28T15:38:04.381Z"
   },
   {
    "duration": 233,
    "start_time": "2021-09-28T15:38:12.414Z"
   },
   {
    "duration": 15,
    "start_time": "2021-09-28T15:38:45.869Z"
   },
   {
    "duration": 10,
    "start_time": "2021-09-28T15:40:29.615Z"
   },
   {
    "duration": 17,
    "start_time": "2021-09-28T15:41:03.461Z"
   },
   {
    "duration": 337,
    "start_time": "2021-09-29T19:49:44.090Z"
   },
   {
    "duration": 742,
    "start_time": "2021-09-29T19:49:49.088Z"
   },
   {
    "duration": 872,
    "start_time": "2021-09-29T19:49:49.832Z"
   },
   {
    "duration": 26,
    "start_time": "2021-09-29T19:49:57.200Z"
   },
   {
    "duration": 16,
    "start_time": "2021-09-29T19:50:03.279Z"
   },
   {
    "duration": 26,
    "start_time": "2021-09-29T19:50:11.383Z"
   },
   {
    "duration": 13,
    "start_time": "2021-09-29T19:52:35.582Z"
   },
   {
    "duration": 19,
    "start_time": "2021-09-29T19:52:46.318Z"
   },
   {
    "duration": 1009,
    "start_time": "2021-09-29T19:53:00.671Z"
   },
   {
    "duration": 8,
    "start_time": "2021-09-29T19:53:17.718Z"
   },
   {
    "duration": 11,
    "start_time": "2021-09-29T19:54:54.726Z"
   },
   {
    "duration": 581,
    "start_time": "2021-09-29T20:32:46.691Z"
   },
   {
    "duration": 9,
    "start_time": "2021-09-29T20:34:18.426Z"
   },
   {
    "duration": 7927,
    "start_time": "2021-09-29T20:43:23.875Z"
   },
   {
    "duration": 6587,
    "start_time": "2021-09-29T20:44:36.177Z"
   },
   {
    "duration": 7575,
    "start_time": "2021-09-29T20:45:00.136Z"
   },
   {
    "duration": 9,
    "start_time": "2021-09-29T20:46:11.974Z"
   },
   {
    "duration": 6714,
    "start_time": "2021-09-29T20:46:49.206Z"
   },
   {
    "duration": 287,
    "start_time": "2021-09-29T20:46:57.238Z"
   },
   {
    "duration": 7632,
    "start_time": "2021-09-29T20:48:47.461Z"
   },
   {
    "duration": 8860,
    "start_time": "2021-09-29T20:49:13.709Z"
   },
   {
    "duration": 21,
    "start_time": "2021-09-29T20:49:45.614Z"
   },
   {
    "duration": 19,
    "start_time": "2021-09-29T20:50:17.933Z"
   },
   {
    "duration": 35,
    "start_time": "2021-09-29T20:50:36.437Z"
   },
   {
    "duration": 11,
    "start_time": "2021-09-29T20:51:10.852Z"
   },
   {
    "duration": 9,
    "start_time": "2021-09-29T20:55:46.405Z"
   },
   {
    "duration": 15,
    "start_time": "2021-09-29T21:05:09.796Z"
   },
   {
    "duration": 860,
    "start_time": "2021-09-29T21:25:45.125Z"
   },
   {
    "duration": 6,
    "start_time": "2021-09-29T21:26:51.642Z"
   },
   {
    "duration": 460,
    "start_time": "2021-09-29T21:32:25.256Z"
   },
   {
    "duration": 256,
    "start_time": "2021-09-29T21:33:04.408Z"
   },
   {
    "duration": 518,
    "start_time": "2021-09-29T21:33:18.465Z"
   },
   {
    "duration": 436,
    "start_time": "2021-09-29T21:39:26.150Z"
   },
   {
    "duration": 5,
    "start_time": "2021-09-29T21:43:15.613Z"
   },
   {
    "duration": 6,
    "start_time": "2021-09-29T21:43:33.821Z"
   },
   {
    "duration": 309,
    "start_time": "2021-09-29T21:44:28.133Z"
   },
   {
    "duration": 8,
    "start_time": "2021-09-29T21:55:29.489Z"
   },
   {
    "duration": 7,
    "start_time": "2021-09-29T21:59:03.416Z"
   },
   {
    "duration": 8,
    "start_time": "2021-09-29T21:59:16.104Z"
   },
   {
    "duration": 8,
    "start_time": "2021-09-29T22:01:45.415Z"
   },
   {
    "duration": 9,
    "start_time": "2021-09-29T22:01:56.079Z"
   },
   {
    "duration": 465,
    "start_time": "2021-09-29T22:02:58.767Z"
   },
   {
    "duration": 9,
    "start_time": "2021-09-29T22:03:12.031Z"
   },
   {
    "duration": 18,
    "start_time": "2021-09-29T22:05:10.214Z"
   },
   {
    "duration": 13,
    "start_time": "2021-09-29T22:08:43.805Z"
   },
   {
    "duration": 1363,
    "start_time": "2021-09-30T10:32:52.508Z"
   },
   {
    "duration": 880,
    "start_time": "2021-09-30T10:32:53.874Z"
   },
   {
    "duration": 25,
    "start_time": "2021-09-30T10:32:54.757Z"
   },
   {
    "duration": 22,
    "start_time": "2021-09-30T10:32:54.785Z"
   },
   {
    "duration": 17,
    "start_time": "2021-09-30T10:32:54.810Z"
   },
   {
    "duration": 64,
    "start_time": "2021-09-30T10:32:54.829Z"
   },
   {
    "duration": 10,
    "start_time": "2021-09-30T10:32:54.895Z"
   },
   {
    "duration": 20,
    "start_time": "2021-09-30T10:32:54.909Z"
   },
   {
    "duration": 8,
    "start_time": "2021-09-30T10:32:54.931Z"
   },
   {
    "duration": 37,
    "start_time": "2021-09-30T10:32:54.941Z"
   },
   {
    "duration": 5,
    "start_time": "2021-09-30T10:32:54.980Z"
   },
   {
    "duration": 8,
    "start_time": "2021-09-30T10:33:18.044Z"
   },
   {
    "duration": 7,
    "start_time": "2021-09-30T10:34:46.193Z"
   },
   {
    "duration": 7,
    "start_time": "2021-09-30T10:34:52.752Z"
   },
   {
    "duration": 7,
    "start_time": "2021-09-30T10:35:11.554Z"
   },
   {
    "duration": 8,
    "start_time": "2021-09-30T10:35:27.657Z"
   },
   {
    "duration": 8,
    "start_time": "2021-09-30T10:36:29.737Z"
   },
   {
    "duration": 7,
    "start_time": "2021-09-30T11:49:16.126Z"
   },
   {
    "duration": 10,
    "start_time": "2021-09-30T11:52:33.052Z"
   },
   {
    "duration": 392,
    "start_time": "2021-09-30T11:52:55.810Z"
   },
   {
    "duration": 10,
    "start_time": "2021-09-30T11:53:23.482Z"
   },
   {
    "duration": 8,
    "start_time": "2021-09-30T11:54:34.025Z"
   },
   {
    "duration": 13,
    "start_time": "2021-09-30T11:56:08.161Z"
   },
   {
    "duration": 12,
    "start_time": "2021-09-30T11:56:42.929Z"
   },
   {
    "duration": 13,
    "start_time": "2021-09-30T11:56:56.417Z"
   },
   {
    "duration": 14,
    "start_time": "2021-09-30T12:02:27.247Z"
   },
   {
    "duration": 17,
    "start_time": "2021-09-30T12:09:37.185Z"
   },
   {
    "duration": 16,
    "start_time": "2021-09-30T12:09:46.501Z"
   },
   {
    "duration": 80,
    "start_time": "2021-09-30T12:11:48.492Z"
   },
   {
    "duration": 58,
    "start_time": "2021-09-30T12:12:21.972Z"
   },
   {
    "duration": 19,
    "start_time": "2021-09-30T12:13:07.550Z"
   },
   {
    "duration": 22,
    "start_time": "2021-09-30T12:13:20.925Z"
   },
   {
    "duration": 17,
    "start_time": "2021-09-30T12:13:25.548Z"
   },
   {
    "duration": 20,
    "start_time": "2021-09-30T13:30:42.199Z"
   },
   {
    "duration": 21,
    "start_time": "2021-09-30T13:30:54.194Z"
   },
   {
    "duration": 33,
    "start_time": "2021-09-30T13:32:54.170Z"
   },
   {
    "duration": 10,
    "start_time": "2021-09-30T13:36:16.387Z"
   },
   {
    "duration": 8,
    "start_time": "2021-09-30T13:36:26.672Z"
   },
   {
    "duration": 12,
    "start_time": "2021-09-30T13:37:22.208Z"
   },
   {
    "duration": 11,
    "start_time": "2021-09-30T13:38:01.578Z"
   },
   {
    "duration": 11,
    "start_time": "2021-09-30T13:38:59.992Z"
   },
   {
    "duration": 417,
    "start_time": "2021-09-30T13:44:17.018Z"
   },
   {
    "duration": 15,
    "start_time": "2021-09-30T13:48:50.114Z"
   },
   {
    "duration": 13,
    "start_time": "2021-09-30T13:49:17.953Z"
   },
   {
    "duration": 354,
    "start_time": "2021-09-30T13:49:41.321Z"
   },
   {
    "duration": 14,
    "start_time": "2021-09-30T13:51:50.134Z"
   },
   {
    "duration": 15,
    "start_time": "2021-09-30T13:52:07.704Z"
   },
   {
    "duration": 265,
    "start_time": "2021-09-30T13:55:11.058Z"
   },
   {
    "duration": 368,
    "start_time": "2021-09-30T13:55:24.144Z"
   },
   {
    "duration": 7,
    "start_time": "2021-09-30T13:55:37.465Z"
   },
   {
    "duration": 11,
    "start_time": "2021-09-30T13:55:41.488Z"
   },
   {
    "duration": 12,
    "start_time": "2021-09-30T13:55:45.256Z"
   },
   {
    "duration": 9,
    "start_time": "2021-09-30T13:55:46.583Z"
   },
   {
    "duration": 345,
    "start_time": "2021-09-30T14:21:35.337Z"
   },
   {
    "duration": 488,
    "start_time": "2021-09-30T14:22:10.408Z"
   },
   {
    "duration": 10,
    "start_time": "2021-09-30T14:37:27.837Z"
   },
   {
    "duration": 9,
    "start_time": "2021-09-30T14:37:51.202Z"
   },
   {
    "duration": 287,
    "start_time": "2021-09-30T14:38:40.429Z"
   },
   {
    "duration": 8,
    "start_time": "2021-09-30T14:38:53.659Z"
   },
   {
    "duration": 7452,
    "start_time": "2021-09-30T14:41:20.809Z"
   },
   {
    "duration": 9,
    "start_time": "2021-09-30T14:44:21.905Z"
   },
   {
    "duration": 16,
    "start_time": "2021-09-30T14:46:03.721Z"
   },
   {
    "duration": 9,
    "start_time": "2021-09-30T14:48:26.703Z"
   },
   {
    "duration": 6,
    "start_time": "2021-09-30T14:56:39.445Z"
   },
   {
    "duration": 6,
    "start_time": "2021-09-30T15:01:31.093Z"
   },
   {
    "duration": 6,
    "start_time": "2021-09-30T15:01:47.029Z"
   },
   {
    "duration": 293,
    "start_time": "2021-09-30T15:02:00.043Z"
   },
   {
    "duration": 259,
    "start_time": "2021-09-30T15:03:17.588Z"
   },
   {
    "duration": 99,
    "start_time": "2021-09-30T15:04:46.548Z"
   },
   {
    "duration": 397,
    "start_time": "2021-09-30T15:04:55.908Z"
   },
   {
    "duration": 422,
    "start_time": "2021-09-30T15:05:17.131Z"
   },
   {
    "duration": 305,
    "start_time": "2021-09-30T15:11:59.074Z"
   },
   {
    "duration": 287,
    "start_time": "2021-09-30T15:13:48.479Z"
   },
   {
    "duration": 257,
    "start_time": "2021-09-30T15:14:01.968Z"
   },
   {
    "duration": 6,
    "start_time": "2021-09-30T15:14:47.952Z"
   },
   {
    "duration": 6,
    "start_time": "2021-09-30T15:15:36.400Z"
   },
   {
    "duration": 6,
    "start_time": "2021-09-30T15:16:55.119Z"
   },
   {
    "duration": 258,
    "start_time": "2021-09-30T15:22:02.445Z"
   },
   {
    "duration": 9,
    "start_time": "2021-09-30T15:22:28.717Z"
   },
   {
    "duration": 254,
    "start_time": "2021-09-30T15:22:49.255Z"
   },
   {
    "duration": 296,
    "start_time": "2021-09-30T15:23:01.621Z"
   },
   {
    "duration": 244,
    "start_time": "2021-09-30T15:23:16.589Z"
   },
   {
    "duration": 8,
    "start_time": "2021-09-30T15:23:24.789Z"
   },
   {
    "duration": 1114,
    "start_time": "2021-09-30T15:25:15.797Z"
   },
   {
    "duration": 660,
    "start_time": "2021-09-30T15:26:10.485Z"
   },
   {
    "duration": 854,
    "start_time": "2021-09-30T15:26:23.860Z"
   },
   {
    "duration": 1132,
    "start_time": "2021-09-30T15:27:19.909Z"
   },
   {
    "duration": 7,
    "start_time": "2021-09-30T15:28:14.147Z"
   },
   {
    "duration": 6,
    "start_time": "2021-09-30T15:31:01.419Z"
   },
   {
    "duration": 713,
    "start_time": "2021-09-30T15:35:46.729Z"
   },
   {
    "duration": 8,
    "start_time": "2021-09-30T15:39:04.393Z"
   },
   {
    "duration": 17,
    "start_time": "2021-09-30T15:41:04.055Z"
   },
   {
    "duration": 4,
    "start_time": "2021-09-30T15:41:34.655Z"
   },
   {
    "duration": 5,
    "start_time": "2021-09-30T15:42:38.503Z"
   },
   {
    "duration": 5,
    "start_time": "2021-09-30T15:42:40.695Z"
   },
   {
    "duration": 163,
    "start_time": "2021-09-30T15:43:11.095Z"
   },
   {
    "duration": 14,
    "start_time": "2021-09-30T15:43:17.287Z"
   },
   {
    "duration": 7,
    "start_time": "2021-09-30T15:43:20.174Z"
   },
   {
    "duration": 5,
    "start_time": "2021-09-30T15:43:22.118Z"
   },
   {
    "duration": 6,
    "start_time": "2021-09-30T15:43:22.558Z"
   },
   {
    "duration": 8,
    "start_time": "2021-09-30T15:43:43.126Z"
   },
   {
    "duration": 7,
    "start_time": "2021-09-30T15:43:51.663Z"
   },
   {
    "duration": 8,
    "start_time": "2021-09-30T15:43:57.119Z"
   },
   {
    "duration": 247,
    "start_time": "2021-09-30T15:44:39.671Z"
   },
   {
    "duration": 250,
    "start_time": "2021-09-30T15:46:16.445Z"
   },
   {
    "duration": 365,
    "start_time": "2021-09-30T15:46:39.565Z"
   },
   {
    "duration": 16,
    "start_time": "2021-09-30T15:47:55.765Z"
   },
   {
    "duration": 6,
    "start_time": "2021-09-30T15:48:32.366Z"
   },
   {
    "duration": 15,
    "start_time": "2021-09-30T15:48:59.037Z"
   },
   {
    "duration": 6,
    "start_time": "2021-09-30T15:48:59.989Z"
   },
   {
    "duration": 13,
    "start_time": "2021-09-30T15:49:24.796Z"
   },
   {
    "duration": 6,
    "start_time": "2021-09-30T15:49:25.860Z"
   },
   {
    "duration": 1361,
    "start_time": "2021-09-30T15:49:42.961Z"
   },
   {
    "duration": 911,
    "start_time": "2021-09-30T15:49:44.325Z"
   },
   {
    "duration": 38,
    "start_time": "2021-09-30T15:49:45.240Z"
   },
   {
    "duration": 42,
    "start_time": "2021-09-30T15:49:45.282Z"
   },
   {
    "duration": 41,
    "start_time": "2021-09-30T15:49:45.326Z"
   },
   {
    "duration": 26,
    "start_time": "2021-09-30T15:49:45.370Z"
   },
   {
    "duration": 9,
    "start_time": "2021-09-30T15:49:45.398Z"
   },
   {
    "duration": 19,
    "start_time": "2021-09-30T15:49:45.411Z"
   },
   {
    "duration": 36,
    "start_time": "2021-09-30T15:49:45.433Z"
   },
   {
    "duration": 17,
    "start_time": "2021-09-30T15:49:45.471Z"
   },
   {
    "duration": 17,
    "start_time": "2021-09-30T15:49:45.491Z"
   },
   {
    "duration": 15,
    "start_time": "2021-09-30T15:49:45.510Z"
   },
   {
    "duration": 14,
    "start_time": "2021-09-30T15:49:45.569Z"
   },
   {
    "duration": 20,
    "start_time": "2021-09-30T15:49:45.586Z"
   },
   {
    "duration": 475,
    "start_time": "2021-09-30T15:49:45.609Z"
   },
   {
    "duration": 448,
    "start_time": "2021-09-30T15:49:46.087Z"
   },
   {
    "duration": -860,
    "start_time": "2021-09-30T15:49:47.398Z"
   },
   {
    "duration": -862,
    "start_time": "2021-09-30T15:49:47.401Z"
   },
   {
    "duration": -862,
    "start_time": "2021-09-30T15:49:47.402Z"
   },
   {
    "duration": -862,
    "start_time": "2021-09-30T15:49:47.404Z"
   },
   {
    "duration": -863,
    "start_time": "2021-09-30T15:49:47.406Z"
   },
   {
    "duration": -865,
    "start_time": "2021-09-30T15:49:47.410Z"
   },
   {
    "duration": -867,
    "start_time": "2021-09-30T15:49:47.413Z"
   },
   {
    "duration": 15,
    "start_time": "2021-09-30T15:50:38.594Z"
   },
   {
    "duration": 5,
    "start_time": "2021-09-30T15:50:40.049Z"
   },
   {
    "duration": 6,
    "start_time": "2021-09-30T15:50:41.001Z"
   },
   {
    "duration": 7,
    "start_time": "2021-09-30T15:50:41.385Z"
   },
   {
    "duration": 6,
    "start_time": "2021-09-30T15:51:20.857Z"
   },
   {
    "duration": 5,
    "start_time": "2021-09-30T15:51:21.299Z"
   },
   {
    "duration": 6,
    "start_time": "2021-09-30T15:51:21.738Z"
   },
   {
    "duration": 6,
    "start_time": "2021-09-30T15:51:22.426Z"
   },
   {
    "duration": 6,
    "start_time": "2021-09-30T15:51:23.193Z"
   },
   {
    "duration": 8,
    "start_time": "2021-09-30T15:51:23.682Z"
   },
   {
    "duration": 7,
    "start_time": "2021-09-30T15:51:35.587Z"
   },
   {
    "duration": 8,
    "start_time": "2021-09-30T15:52:19.869Z"
   },
   {
    "duration": 315,
    "start_time": "2021-09-30T15:52:28.552Z"
   },
   {
    "duration": 226,
    "start_time": "2021-09-30T15:52:57.689Z"
   },
   {
    "duration": 278,
    "start_time": "2021-09-30T15:54:46.769Z"
   },
   {
    "duration": 498,
    "start_time": "2021-09-30T15:57:49.096Z"
   },
   {
    "duration": 5,
    "start_time": "2021-09-30T15:58:57.968Z"
   },
   {
    "duration": 765,
    "start_time": "2021-09-30T15:59:06.712Z"
   },
   {
    "duration": 586,
    "start_time": "2021-09-30T16:01:51.543Z"
   },
   {
    "duration": 710,
    "start_time": "2021-09-30T16:02:05.660Z"
   },
   {
    "duration": 733,
    "start_time": "2021-09-30T16:03:20.256Z"
   },
   {
    "duration": 731,
    "start_time": "2021-09-30T16:04:48.479Z"
   },
   {
    "duration": 805,
    "start_time": "2021-09-30T16:05:03.094Z"
   },
   {
    "duration": 712,
    "start_time": "2021-09-30T16:06:39.375Z"
   },
   {
    "duration": 703,
    "start_time": "2021-09-30T16:07:15.126Z"
   },
   {
    "duration": 692,
    "start_time": "2021-09-30T16:08:27.390Z"
   },
   {
    "duration": 908,
    "start_time": "2021-09-30T16:09:26.061Z"
   },
   {
    "duration": 902,
    "start_time": "2021-09-30T16:09:44.893Z"
   },
   {
    "duration": 883,
    "start_time": "2021-09-30T16:52:04.965Z"
   },
   {
    "duration": 510,
    "start_time": "2021-09-30T16:52:39.712Z"
   },
   {
    "duration": 814,
    "start_time": "2021-09-30T16:53:55.215Z"
   },
   {
    "duration": 958,
    "start_time": "2021-09-30T16:54:44.343Z"
   },
   {
    "duration": 1148,
    "start_time": "2021-09-30T17:09:41.108Z"
   },
   {
    "duration": 814,
    "start_time": "2021-09-30T17:10:13.698Z"
   },
   {
    "duration": 5,
    "start_time": "2021-09-30T17:34:42.425Z"
   },
   {
    "duration": 280,
    "start_time": "2021-09-30T17:34:49.098Z"
   },
   {
    "duration": 10,
    "start_time": "2021-09-30T17:34:56.634Z"
   },
   {
    "duration": 12,
    "start_time": "2021-09-30T17:35:30.235Z"
   },
   {
    "duration": 755,
    "start_time": "2021-09-30T17:35:42.970Z"
   },
   {
    "duration": 38651,
    "start_time": "2021-09-30T17:36:50.377Z"
   },
   {
    "duration": 1557,
    "start_time": "2021-09-30T17:39:35.785Z"
   },
   {
    "duration": 1172,
    "start_time": "2021-09-30T17:41:25.481Z"
   },
   {
    "duration": 1242,
    "start_time": "2021-09-30T17:42:32.208Z"
   },
   {
    "duration": 1188,
    "start_time": "2021-09-30T17:42:43.095Z"
   },
   {
    "duration": 1285,
    "start_time": "2021-09-30T17:45:36.248Z"
   },
   {
    "duration": 4360,
    "start_time": "2021-09-30T17:47:34.237Z"
   },
   {
    "duration": 3689,
    "start_time": "2021-09-30T17:53:27.423Z"
   },
   {
    "duration": 85,
    "start_time": "2021-09-30T18:10:23.007Z"
   },
   {
    "duration": 8,
    "start_time": "2021-09-30T18:10:36.425Z"
   },
   {
    "duration": 747,
    "start_time": "2021-09-30T18:14:02.643Z"
   },
   {
    "duration": 884,
    "start_time": "2021-09-30T18:16:20.698Z"
   },
   {
    "duration": 1023,
    "start_time": "2021-09-30T18:17:54.585Z"
   },
   {
    "duration": 951,
    "start_time": "2021-09-30T18:18:04.184Z"
   },
   {
    "duration": 6248,
    "start_time": "2021-09-30T18:18:25.110Z"
   },
   {
    "duration": 3432,
    "start_time": "2021-09-30T18:18:40.574Z"
   },
   {
    "duration": 4145,
    "start_time": "2021-09-30T18:23:50.174Z"
   },
   {
    "duration": 4282,
    "start_time": "2021-09-30T18:27:13.540Z"
   },
   {
    "duration": 8,
    "start_time": "2021-09-30T20:15:54.035Z"
   },
   {
    "duration": 256,
    "start_time": "2021-09-30T20:32:17.093Z"
   },
   {
    "duration": 6640,
    "start_time": "2021-09-30T20:33:03.354Z"
   },
   {
    "duration": 71,
    "start_time": "2021-09-30T20:33:34.698Z"
   },
   {
    "duration": 4,
    "start_time": "2021-09-30T20:36:54.993Z"
   },
   {
    "duration": 7,
    "start_time": "2021-09-30T20:37:13.306Z"
   },
   {
    "duration": 7139,
    "start_time": "2021-09-30T20:38:35.448Z"
   },
   {
    "duration": 7261,
    "start_time": "2021-09-30T20:38:54.935Z"
   },
   {
    "duration": 15,
    "start_time": "2021-09-30T20:39:50.688Z"
   },
   {
    "duration": 258,
    "start_time": "2021-09-30T20:40:50.263Z"
   },
   {
    "duration": 271,
    "start_time": "2021-09-30T20:41:25.064Z"
   },
   {
    "duration": 9,
    "start_time": "2021-09-30T20:41:48.063Z"
   },
   {
    "duration": 13,
    "start_time": "2021-09-30T20:41:51.471Z"
   },
   {
    "duration": 9,
    "start_time": "2021-09-30T20:43:01.710Z"
   },
   {
    "duration": 15,
    "start_time": "2021-09-30T20:43:05.793Z"
   },
   {
    "duration": 13,
    "start_time": "2021-09-30T20:43:37.685Z"
   },
   {
    "duration": 14,
    "start_time": "2021-09-30T20:43:39.894Z"
   },
   {
    "duration": 6,
    "start_time": "2021-09-30T20:43:40.782Z"
   },
   {
    "duration": 9,
    "start_time": "2021-09-30T20:44:29.502Z"
   },
   {
    "duration": 10,
    "start_time": "2021-09-30T20:47:23.205Z"
   },
   {
    "duration": 14,
    "start_time": "2021-09-30T20:47:42.483Z"
   },
   {
    "duration": 11,
    "start_time": "2021-09-30T20:47:44.101Z"
   },
   {
    "duration": 8,
    "start_time": "2021-09-30T20:47:44.716Z"
   },
   {
    "duration": 13,
    "start_time": "2021-09-30T20:49:39.587Z"
   },
   {
    "duration": 15,
    "start_time": "2021-09-30T20:53:00.315Z"
   },
   {
    "duration": 10,
    "start_time": "2021-09-30T20:53:10.115Z"
   },
   {
    "duration": 931,
    "start_time": "2021-09-30T20:53:56.540Z"
   },
   {
    "duration": 723,
    "start_time": "2021-09-30T20:55:29.669Z"
   },
   {
    "duration": 1164,
    "start_time": "2021-09-30T20:57:01.961Z"
   },
   {
    "duration": 244,
    "start_time": "2021-09-30T20:58:11.371Z"
   },
   {
    "duration": 1281,
    "start_time": "2021-09-30T20:58:21.131Z"
   },
   {
    "duration": 1387,
    "start_time": "2021-09-30T21:02:35.684Z"
   },
   {
    "duration": 2368,
    "start_time": "2021-09-30T21:04:06.176Z"
   },
   {
    "duration": 1414,
    "start_time": "2021-09-30T21:06:39.817Z"
   },
   {
    "duration": 1210,
    "start_time": "2021-09-30T21:08:50.825Z"
   },
   {
    "duration": 1326,
    "start_time": "2021-09-30T21:09:12.174Z"
   },
   {
    "duration": 1108,
    "start_time": "2021-09-30T21:10:36.264Z"
   },
   {
    "duration": 1126,
    "start_time": "2021-09-30T21:13:58.991Z"
   },
   {
    "duration": 1227,
    "start_time": "2021-09-30T21:14:08.886Z"
   },
   {
    "duration": 1335,
    "start_time": "2021-09-30T21:14:47.798Z"
   },
   {
    "duration": 1194,
    "start_time": "2021-09-30T21:16:53.518Z"
   },
   {
    "duration": 1107,
    "start_time": "2021-09-30T21:17:14.477Z"
   },
   {
    "duration": 1220,
    "start_time": "2021-09-30T21:19:09.786Z"
   },
   {
    "duration": 1215,
    "start_time": "2021-09-30T21:21:26.720Z"
   },
   {
    "duration": 1126,
    "start_time": "2021-09-30T21:21:53.099Z"
   },
   {
    "duration": 1338,
    "start_time": "2021-09-30T21:32:28.520Z"
   },
   {
    "duration": 888,
    "start_time": "2021-09-30T21:32:29.861Z"
   },
   {
    "duration": 29,
    "start_time": "2021-09-30T21:32:30.752Z"
   },
   {
    "duration": 36,
    "start_time": "2021-09-30T21:32:30.784Z"
   },
   {
    "duration": 46,
    "start_time": "2021-09-30T21:32:30.822Z"
   },
   {
    "duration": 28,
    "start_time": "2021-09-30T21:32:30.870Z"
   },
   {
    "duration": 11,
    "start_time": "2021-09-30T21:32:30.900Z"
   },
   {
    "duration": 33,
    "start_time": "2021-09-30T21:32:30.915Z"
   },
   {
    "duration": 22,
    "start_time": "2021-09-30T21:32:30.951Z"
   },
   {
    "duration": 113,
    "start_time": "2021-09-30T21:32:30.975Z"
   },
   {
    "duration": 21,
    "start_time": "2021-09-30T21:32:31.090Z"
   },
   {
    "duration": 23,
    "start_time": "2021-09-30T21:32:31.113Z"
   },
   {
    "duration": 17,
    "start_time": "2021-09-30T21:32:31.139Z"
   },
   {
    "duration": 29,
    "start_time": "2021-09-30T21:32:31.158Z"
   },
   {
    "duration": 340,
    "start_time": "2021-09-30T21:32:31.190Z"
   },
   {
    "duration": 3569,
    "start_time": "2021-09-30T21:32:31.532Z"
   },
   {
    "duration": 4011,
    "start_time": "2021-09-30T21:32:35.104Z"
   },
   {
    "duration": 4020,
    "start_time": "2021-09-30T21:32:39.118Z"
   },
   {
    "duration": 5004,
    "start_time": "2021-09-30T21:32:43.140Z"
   },
   {
    "duration": 1158,
    "start_time": "2021-09-30T21:32:48.148Z"
   },
   {
    "duration": 390,
    "start_time": "2021-09-30T21:32:49.308Z"
   },
   {
    "duration": -964,
    "start_time": "2021-09-30T21:32:50.666Z"
   },
   {
    "duration": -965,
    "start_time": "2021-09-30T21:32:50.668Z"
   },
   {
    "duration": 260,
    "start_time": "2021-09-30T23:46:13.404Z"
   },
   {
    "duration": 259,
    "start_time": "2021-09-30T23:46:36.363Z"
   },
   {
    "duration": 5,
    "start_time": "2021-09-30T23:46:46.579Z"
   },
   {
    "duration": 307,
    "start_time": "2021-09-30T23:47:14.299Z"
   },
   {
    "duration": 7,
    "start_time": "2021-09-30T23:47:25.379Z"
   },
   {
    "duration": 7,
    "start_time": "2021-09-30T23:47:43.830Z"
   },
   {
    "duration": 8,
    "start_time": "2021-09-30T23:48:23.075Z"
   },
   {
    "duration": 8,
    "start_time": "2021-09-30T23:48:42.042Z"
   },
   {
    "duration": 246,
    "start_time": "2021-09-30T23:48:55.090Z"
   },
   {
    "duration": 8,
    "start_time": "2021-09-30T23:49:36.003Z"
   },
   {
    "duration": 9,
    "start_time": "2021-09-30T23:50:35.394Z"
   },
   {
    "duration": 9,
    "start_time": "2021-09-30T23:50:42.826Z"
   },
   {
    "duration": 9,
    "start_time": "2021-09-30T23:51:34.188Z"
   },
   {
    "duration": 10,
    "start_time": "2021-09-30T23:51:45.920Z"
   },
   {
    "duration": 10,
    "start_time": "2021-09-30T23:51:58.665Z"
   },
   {
    "duration": 10,
    "start_time": "2021-09-30T23:52:14.185Z"
   },
   {
    "duration": 10,
    "start_time": "2021-09-30T23:52:45.440Z"
   },
   {
    "duration": 9,
    "start_time": "2021-09-30T23:52:51.289Z"
   },
   {
    "duration": 10,
    "start_time": "2021-09-30T23:53:51.880Z"
   },
   {
    "duration": 9,
    "start_time": "2021-09-30T23:54:23.735Z"
   },
   {
    "duration": 9,
    "start_time": "2021-09-30T23:54:43.666Z"
   },
   {
    "duration": 9,
    "start_time": "2021-09-30T23:54:55.474Z"
   },
   {
    "duration": 4,
    "start_time": "2021-09-30T23:56:10.600Z"
   },
   {
    "duration": 8,
    "start_time": "2021-09-30T23:56:36.946Z"
   },
   {
    "duration": 8,
    "start_time": "2021-09-30T23:57:14.696Z"
   },
   {
    "duration": 9,
    "start_time": "2021-09-30T23:57:24.167Z"
   },
   {
    "duration": 7,
    "start_time": "2021-09-30T23:57:47.371Z"
   },
   {
    "duration": 7,
    "start_time": "2021-09-30T23:57:59.497Z"
   },
   {
    "duration": 8,
    "start_time": "2021-09-30T23:58:35.935Z"
   },
   {
    "duration": 7,
    "start_time": "2021-09-30T23:58:48.687Z"
   },
   {
    "duration": 8,
    "start_time": "2021-09-30T23:58:56.080Z"
   },
   {
    "duration": 463,
    "start_time": "2021-10-01T11:18:52.322Z"
   },
   {
    "duration": 1542,
    "start_time": "2021-10-01T11:19:03.599Z"
   },
   {
    "duration": 872,
    "start_time": "2021-10-01T11:19:05.144Z"
   },
   {
    "duration": 23,
    "start_time": "2021-10-01T11:19:06.020Z"
   },
   {
    "duration": 67,
    "start_time": "2021-10-01T11:19:06.047Z"
   },
   {
    "duration": 21,
    "start_time": "2021-10-01T11:19:06.117Z"
   },
   {
    "duration": 55,
    "start_time": "2021-10-01T11:19:06.141Z"
   },
   {
    "duration": 11,
    "start_time": "2021-10-01T11:19:06.199Z"
   },
   {
    "duration": 16,
    "start_time": "2021-10-01T11:19:06.215Z"
   },
   {
    "duration": 7,
    "start_time": "2021-10-01T11:19:06.235Z"
   },
   {
    "duration": 51,
    "start_time": "2021-10-01T11:19:06.245Z"
   },
   {
    "duration": 17,
    "start_time": "2021-10-01T11:19:06.298Z"
   },
   {
    "duration": 14,
    "start_time": "2021-10-01T11:19:06.317Z"
   },
   {
    "duration": 57,
    "start_time": "2021-10-01T11:19:06.333Z"
   },
   {
    "duration": 11,
    "start_time": "2021-10-01T11:19:06.392Z"
   },
   {
    "duration": 378,
    "start_time": "2021-10-01T11:19:06.406Z"
   },
   {
    "duration": 3835,
    "start_time": "2021-10-01T11:19:06.787Z"
   },
   {
    "duration": 4409,
    "start_time": "2021-10-01T11:19:10.626Z"
   },
   {
    "duration": 4238,
    "start_time": "2021-10-01T11:19:15.037Z"
   },
   {
    "duration": 106,
    "start_time": "2021-10-01T11:19:19.278Z"
   },
   {
    "duration": -1857,
    "start_time": "2021-10-01T11:19:21.243Z"
   },
   {
    "duration": -1860,
    "start_time": "2021-10-01T11:19:21.248Z"
   },
   {
    "duration": -1861,
    "start_time": "2021-10-01T11:19:21.250Z"
   },
   {
    "duration": -1862,
    "start_time": "2021-10-01T11:19:21.253Z"
   },
   {
    "duration": -1863,
    "start_time": "2021-10-01T11:19:21.255Z"
   },
   {
    "duration": -1862,
    "start_time": "2021-10-01T11:19:21.257Z"
   },
   {
    "duration": 1349,
    "start_time": "2021-10-01T11:20:08.911Z"
   },
   {
    "duration": 4,
    "start_time": "2021-10-01T11:35:26.579Z"
   },
   {
    "duration": 8,
    "start_time": "2021-10-01T11:35:27.058Z"
   },
   {
    "duration": 16,
    "start_time": "2021-10-01T11:58:56.604Z"
   },
   {
    "duration": 1330,
    "start_time": "2021-10-01T11:59:08.031Z"
   },
   {
    "duration": 842,
    "start_time": "2021-10-01T11:59:09.364Z"
   },
   {
    "duration": 25,
    "start_time": "2021-10-01T11:59:10.209Z"
   },
   {
    "duration": 52,
    "start_time": "2021-10-01T11:59:10.237Z"
   },
   {
    "duration": 18,
    "start_time": "2021-10-01T11:59:10.292Z"
   },
   {
    "duration": 27,
    "start_time": "2021-10-01T11:59:10.313Z"
   },
   {
    "duration": 45,
    "start_time": "2021-10-01T11:59:10.342Z"
   },
   {
    "duration": 15,
    "start_time": "2021-10-01T11:59:10.391Z"
   },
   {
    "duration": 8,
    "start_time": "2021-10-01T11:59:10.409Z"
   },
   {
    "duration": 17,
    "start_time": "2021-10-01T11:59:10.419Z"
   },
   {
    "duration": 52,
    "start_time": "2021-10-01T11:59:10.438Z"
   },
   {
    "duration": 17,
    "start_time": "2021-10-01T11:59:10.493Z"
   },
   {
    "duration": 13,
    "start_time": "2021-10-01T11:59:10.513Z"
   },
   {
    "duration": 12,
    "start_time": "2021-10-01T11:59:10.529Z"
   },
   {
    "duration": 666,
    "start_time": "2021-10-01T11:59:10.544Z"
   },
   {
    "duration": 3480,
    "start_time": "2021-10-01T11:59:11.213Z"
   },
   {
    "duration": 4023,
    "start_time": "2021-10-01T11:59:14.695Z"
   },
   {
    "duration": 3887,
    "start_time": "2021-10-01T11:59:18.721Z"
   },
   {
    "duration": 1073,
    "start_time": "2021-10-01T11:59:22.611Z"
   },
   {
    "duration": 4,
    "start_time": "2021-10-01T11:59:23.687Z"
   },
   {
    "duration": 18,
    "start_time": "2021-10-01T11:59:23.693Z"
   },
   {
    "duration": 14,
    "start_time": "2021-10-01T12:00:43.947Z"
   },
   {
    "duration": 11,
    "start_time": "2021-10-01T12:01:03.890Z"
   },
   {
    "duration": 28,
    "start_time": "2021-10-01T12:02:37.849Z"
   },
   {
    "duration": 14,
    "start_time": "2021-10-01T12:03:21.993Z"
   },
   {
    "duration": 11,
    "start_time": "2021-10-01T12:03:22.489Z"
   },
   {
    "duration": 15,
    "start_time": "2021-10-01T12:05:11.192Z"
   },
   {
    "duration": 94,
    "start_time": "2021-10-01T12:13:52.014Z"
   },
   {
    "duration": 303,
    "start_time": "2021-10-01T12:15:37.517Z"
   },
   {
    "duration": 333,
    "start_time": "2021-10-01T12:16:48.829Z"
   },
   {
    "duration": 454,
    "start_time": "2021-10-01T12:18:04.040Z"
   },
   {
    "duration": 588,
    "start_time": "2021-10-01T12:18:05.487Z"
   },
   {
    "duration": 388,
    "start_time": "2021-10-01T12:18:07.348Z"
   },
   {
    "duration": 1384,
    "start_time": "2021-10-01T12:26:49.420Z"
   },
   {
    "duration": 870,
    "start_time": "2021-10-01T12:26:50.807Z"
   },
   {
    "duration": 24,
    "start_time": "2021-10-01T12:26:51.680Z"
   },
   {
    "duration": 34,
    "start_time": "2021-10-01T12:26:51.707Z"
   },
   {
    "duration": 45,
    "start_time": "2021-10-01T12:26:51.744Z"
   },
   {
    "duration": 26,
    "start_time": "2021-10-01T12:26:51.792Z"
   },
   {
    "duration": 9,
    "start_time": "2021-10-01T12:26:51.821Z"
   },
   {
    "duration": 16,
    "start_time": "2021-10-01T12:26:51.834Z"
   },
   {
    "duration": 7,
    "start_time": "2021-10-01T12:26:51.885Z"
   },
   {
    "duration": 21,
    "start_time": "2021-10-01T12:26:51.895Z"
   },
   {
    "duration": 12,
    "start_time": "2021-10-01T12:26:51.919Z"
   },
   {
    "duration": 9,
    "start_time": "2021-10-01T12:26:51.934Z"
   },
   {
    "duration": 21,
    "start_time": "2021-10-01T12:26:51.984Z"
   },
   {
    "duration": 8,
    "start_time": "2021-10-01T12:26:52.007Z"
   },
   {
    "duration": 355,
    "start_time": "2021-10-01T12:26:52.017Z"
   },
   {
    "duration": 448,
    "start_time": "2021-10-01T12:26:52.375Z"
   },
   {
    "duration": 310,
    "start_time": "2021-10-01T12:26:52.826Z"
   },
   {
    "duration": 28,
    "start_time": "2021-10-01T12:26:53.139Z"
   },
   {
    "duration": 16,
    "start_time": "2021-10-01T12:26:53.182Z"
   },
   {
    "duration": 17,
    "start_time": "2021-10-01T12:26:53.201Z"
   },
   {
    "duration": 13,
    "start_time": "2021-10-01T12:26:53.221Z"
   },
   {
    "duration": 3963,
    "start_time": "2021-10-01T12:26:53.237Z"
   },
   {
    "duration": 3900,
    "start_time": "2021-10-01T12:26:57.204Z"
   },
   {
    "duration": 4062,
    "start_time": "2021-10-01T12:27:01.107Z"
   },
   {
    "duration": 1102,
    "start_time": "2021-10-01T12:27:05.171Z"
   },
   {
    "duration": 4,
    "start_time": "2021-10-01T12:27:06.282Z"
   },
   {
    "duration": 17,
    "start_time": "2021-10-01T12:27:06.289Z"
   },
   {
    "duration": 16,
    "start_time": "2021-10-01T15:00:24.943Z"
   },
   {
    "duration": 5,
    "start_time": "2021-10-01T15:04:13.765Z"
   },
   {
    "duration": 42,
    "start_time": "2021-10-01T15:05:04.212Z"
   },
   {
    "duration": 358,
    "start_time": "2021-10-01T15:05:48.414Z"
   },
   {
    "duration": 29,
    "start_time": "2021-10-01T15:05:56.852Z"
   },
   {
    "duration": 7,
    "start_time": "2021-10-01T15:06:24.477Z"
   },
   {
    "duration": 841,
    "start_time": "2021-10-01T15:12:15.354Z"
   },
   {
    "duration": 25,
    "start_time": "2021-10-01T15:12:26.418Z"
   },
   {
    "duration": 13,
    "start_time": "2021-10-01T15:13:55.098Z"
   },
   {
    "duration": 6980,
    "start_time": "2021-10-01T15:14:18.732Z"
   },
   {
    "duration": 8111,
    "start_time": "2021-10-01T15:15:48.435Z"
   },
   {
    "duration": 92,
    "start_time": "2021-10-01T15:17:53.202Z"
   },
   {
    "duration": 94,
    "start_time": "2021-10-01T15:18:39.889Z"
   },
   {
    "duration": 6453,
    "start_time": "2021-10-01T15:19:21.472Z"
   },
   {
    "duration": 265,
    "start_time": "2021-10-01T15:19:44.432Z"
   },
   {
    "duration": 7,
    "start_time": "2021-10-01T15:20:19.352Z"
   },
   {
    "duration": 99,
    "start_time": "2021-10-01T15:22:27.560Z"
   },
   {
    "duration": 30,
    "start_time": "2021-10-01T15:22:38.017Z"
   },
   {
    "duration": 90,
    "start_time": "2021-10-01T15:23:13.755Z"
   },
   {
    "duration": 283,
    "start_time": "2021-10-01T15:23:19.815Z"
   },
   {
    "duration": 313,
    "start_time": "2021-10-01T15:25:34.502Z"
   },
   {
    "duration": 53,
    "start_time": "2021-10-01T15:26:23.207Z"
   },
   {
    "duration": 328,
    "start_time": "2021-10-01T15:26:45.270Z"
   },
   {
    "duration": 206,
    "start_time": "2021-10-01T15:30:55.167Z"
   },
   {
    "duration": 46,
    "start_time": "2021-10-01T15:31:03.974Z"
   },
   {
    "duration": 35,
    "start_time": "2021-10-01T15:31:29.279Z"
   },
   {
    "duration": 6,
    "start_time": "2021-10-01T15:31:37.693Z"
   },
   {
    "duration": 3280,
    "start_time": "2021-10-01T15:31:56.701Z"
   },
   {
    "duration": 263,
    "start_time": "2021-10-01T15:32:13.772Z"
   },
   {
    "duration": 6,
    "start_time": "2021-10-01T15:32:19.381Z"
   },
   {
    "duration": 284,
    "start_time": "2021-10-01T15:32:44.629Z"
   },
   {
    "duration": 241,
    "start_time": "2021-10-01T15:34:45.476Z"
   },
   {
    "duration": 249,
    "start_time": "2021-10-01T15:35:08.363Z"
   },
   {
    "duration": 54,
    "start_time": "2021-10-01T15:36:34.956Z"
   },
   {
    "duration": 249,
    "start_time": "2021-10-01T15:36:50.435Z"
   },
   {
    "duration": 310,
    "start_time": "2021-10-01T15:36:59.266Z"
   },
   {
    "duration": 81,
    "start_time": "2021-10-01T15:41:06.533Z"
   },
   {
    "duration": 81,
    "start_time": "2021-10-01T15:42:12.745Z"
   },
   {
    "duration": 108,
    "start_time": "2021-10-01T15:43:01.811Z"
   },
   {
    "duration": 8,
    "start_time": "2021-10-01T15:45:10.756Z"
   },
   {
    "duration": 236,
    "start_time": "2021-10-01T15:45:43.896Z"
   },
   {
    "duration": 4,
    "start_time": "2021-10-01T15:48:12.065Z"
   },
   {
    "duration": 1416,
    "start_time": "2021-10-01T15:48:18.838Z"
   },
   {
    "duration": 868,
    "start_time": "2021-10-01T15:48:20.256Z"
   },
   {
    "duration": 24,
    "start_time": "2021-10-01T15:48:21.127Z"
   },
   {
    "duration": 53,
    "start_time": "2021-10-01T15:48:21.154Z"
   },
   {
    "duration": 18,
    "start_time": "2021-10-01T15:48:21.210Z"
   },
   {
    "duration": 60,
    "start_time": "2021-10-01T15:48:21.231Z"
   },
   {
    "duration": 12,
    "start_time": "2021-10-01T15:48:21.294Z"
   },
   {
    "duration": 15,
    "start_time": "2021-10-01T15:48:21.311Z"
   },
   {
    "duration": 8,
    "start_time": "2021-10-01T15:48:21.330Z"
   },
   {
    "duration": 57,
    "start_time": "2021-10-01T15:48:21.341Z"
   },
   {
    "duration": 15,
    "start_time": "2021-10-01T15:48:21.401Z"
   },
   {
    "duration": 12,
    "start_time": "2021-10-01T15:48:21.419Z"
   },
   {
    "duration": 4,
    "start_time": "2021-10-01T15:48:21.433Z"
   },
   {
    "duration": 13,
    "start_time": "2021-10-01T15:48:21.484Z"
   },
   {
    "duration": 402,
    "start_time": "2021-10-01T15:48:21.500Z"
   },
   {
    "duration": -1312,
    "start_time": "2021-10-01T15:48:23.219Z"
   },
   {
    "duration": -1314,
    "start_time": "2021-10-01T15:48:23.223Z"
   },
   {
    "duration": -1315,
    "start_time": "2021-10-01T15:48:23.226Z"
   },
   {
    "duration": -1317,
    "start_time": "2021-10-01T15:48:23.230Z"
   },
   {
    "duration": -1319,
    "start_time": "2021-10-01T15:48:23.234Z"
   },
   {
    "duration": -1319,
    "start_time": "2021-10-01T15:48:23.237Z"
   },
   {
    "duration": -1321,
    "start_time": "2021-10-01T15:48:23.241Z"
   },
   {
    "duration": -1321,
    "start_time": "2021-10-01T15:48:23.243Z"
   },
   {
    "duration": -1324,
    "start_time": "2021-10-01T15:48:23.248Z"
   },
   {
    "duration": -1325,
    "start_time": "2021-10-01T15:48:23.251Z"
   },
   {
    "duration": -1327,
    "start_time": "2021-10-01T15:48:23.255Z"
   },
   {
    "duration": -1330,
    "start_time": "2021-10-01T15:48:23.260Z"
   },
   {
    "duration": -1344,
    "start_time": "2021-10-01T15:48:23.276Z"
   },
   {
    "duration": -1348,
    "start_time": "2021-10-01T15:48:23.282Z"
   },
   {
    "duration": -1348,
    "start_time": "2021-10-01T15:48:23.285Z"
   },
   {
    "duration": -1351,
    "start_time": "2021-10-01T15:48:23.290Z"
   },
   {
    "duration": -1357,
    "start_time": "2021-10-01T15:48:23.298Z"
   },
   {
    "duration": -1361,
    "start_time": "2021-10-01T15:48:23.303Z"
   },
   {
    "duration": -1369,
    "start_time": "2021-10-01T15:48:23.313Z"
   },
   {
    "duration": -1337,
    "start_time": "2021-10-01T15:48:23.320Z"
   },
   {
    "duration": -1341,
    "start_time": "2021-10-01T15:48:23.327Z"
   },
   {
    "duration": -1345,
    "start_time": "2021-10-01T15:48:23.333Z"
   },
   {
    "duration": -1349,
    "start_time": "2021-10-01T15:48:23.339Z"
   },
   {
    "duration": -1349,
    "start_time": "2021-10-01T15:48:23.341Z"
   },
   {
    "duration": 8,
    "start_time": "2021-10-01T15:48:48.178Z"
   },
   {
    "duration": 239,
    "start_time": "2021-10-01T15:49:06.125Z"
   },
   {
    "duration": 271,
    "start_time": "2021-10-01T15:49:27.251Z"
   },
   {
    "duration": 1412,
    "start_time": "2021-10-01T15:50:03.386Z"
   },
   {
    "duration": 864,
    "start_time": "2021-10-01T15:50:04.801Z"
   },
   {
    "duration": 27,
    "start_time": "2021-10-01T15:50:05.668Z"
   },
   {
    "duration": 35,
    "start_time": "2021-10-01T15:50:05.698Z"
   },
   {
    "duration": 16,
    "start_time": "2021-10-01T15:50:05.735Z"
   },
   {
    "duration": 26,
    "start_time": "2021-10-01T15:50:05.783Z"
   },
   {
    "duration": 10,
    "start_time": "2021-10-01T15:50:05.811Z"
   },
   {
    "duration": 15,
    "start_time": "2021-10-01T15:50:05.825Z"
   },
   {
    "duration": 42,
    "start_time": "2021-10-01T15:50:05.843Z"
   },
   {
    "duration": 17,
    "start_time": "2021-10-01T15:50:05.888Z"
   },
   {
    "duration": 13,
    "start_time": "2021-10-01T15:50:05.907Z"
   },
   {
    "duration": 9,
    "start_time": "2021-10-01T15:50:05.922Z"
   },
   {
    "duration": 67,
    "start_time": "2021-10-01T15:50:05.934Z"
   },
   {
    "duration": 10,
    "start_time": "2021-10-01T15:50:06.003Z"
   },
   {
    "duration": 509,
    "start_time": "2021-10-01T15:50:06.016Z"
   },
   {
    "duration": 327,
    "start_time": "2021-10-01T15:50:06.528Z"
   },
   {
    "duration": 305,
    "start_time": "2021-10-01T15:50:06.857Z"
   },
   {
    "duration": 36,
    "start_time": "2021-10-01T15:50:07.165Z"
   },
   {
    "duration": 17,
    "start_time": "2021-10-01T15:50:07.203Z"
   },
   {
    "duration": 14,
    "start_time": "2021-10-01T15:50:07.222Z"
   },
   {
    "duration": 43,
    "start_time": "2021-10-01T15:50:07.239Z"
   },
   {
    "duration": 3643,
    "start_time": "2021-10-01T15:50:07.285Z"
   },
   {
    "duration": 4019,
    "start_time": "2021-10-01T15:50:10.932Z"
   },
   {
    "duration": 3818,
    "start_time": "2021-10-01T15:50:14.954Z"
   },
   {
    "duration": 1120,
    "start_time": "2021-10-01T15:50:18.774Z"
   },
   {
    "duration": 4,
    "start_time": "2021-10-01T15:50:19.897Z"
   },
   {
    "duration": 11,
    "start_time": "2021-10-01T15:50:19.904Z"
   },
   {
    "duration": 88,
    "start_time": "2021-10-01T15:50:19.918Z"
   },
   {
    "duration": 9,
    "start_time": "2021-10-01T15:50:20.009Z"
   },
   {
    "duration": 137,
    "start_time": "2021-10-01T15:50:20.022Z"
   },
   {
    "duration": -1256,
    "start_time": "2021-10-01T15:50:21.418Z"
   },
   {
    "duration": -1258,
    "start_time": "2021-10-01T15:50:21.421Z"
   },
   {
    "duration": -1261,
    "start_time": "2021-10-01T15:50:21.425Z"
   },
   {
    "duration": -1262,
    "start_time": "2021-10-01T15:50:21.428Z"
   },
   {
    "duration": -1264,
    "start_time": "2021-10-01T15:50:21.431Z"
   },
   {
    "duration": -1265,
    "start_time": "2021-10-01T15:50:21.433Z"
   },
   {
    "duration": -1266,
    "start_time": "2021-10-01T15:50:21.436Z"
   },
   {
    "duration": -1267,
    "start_time": "2021-10-01T15:50:21.438Z"
   },
   {
    "duration": -1268,
    "start_time": "2021-10-01T15:50:21.440Z"
   },
   {
    "duration": 92,
    "start_time": "2021-10-01T15:50:58.883Z"
   },
   {
    "duration": 589,
    "start_time": "2021-10-01T15:52:59.930Z"
   },
   {
    "duration": 92,
    "start_time": "2021-10-01T15:54:30.522Z"
   },
   {
    "duration": 97,
    "start_time": "2021-10-01T15:54:48.306Z"
   },
   {
    "duration": 98,
    "start_time": "2021-10-01T15:55:19.529Z"
   },
   {
    "duration": 82,
    "start_time": "2021-10-01T15:55:36.657Z"
   },
   {
    "duration": 303,
    "start_time": "2021-10-01T15:57:13.579Z"
   },
   {
    "duration": 250,
    "start_time": "2021-10-01T15:57:47.051Z"
   },
   {
    "duration": 30,
    "start_time": "2021-10-01T15:57:57.201Z"
   },
   {
    "duration": 251,
    "start_time": "2021-10-01T15:58:26.602Z"
   },
   {
    "duration": 270,
    "start_time": "2021-10-01T15:58:33.841Z"
   },
   {
    "duration": 110,
    "start_time": "2021-10-01T15:58:54.505Z"
   },
   {
    "duration": 100,
    "start_time": "2021-10-01T16:00:57.099Z"
   },
   {
    "duration": 263,
    "start_time": "2021-10-01T16:01:04.257Z"
   },
   {
    "duration": 290,
    "start_time": "2021-10-01T16:01:10.704Z"
   },
   {
    "duration": 351,
    "start_time": "2021-10-01T16:01:29.952Z"
   },
   {
    "duration": 54,
    "start_time": "2021-10-01T16:01:35.960Z"
   },
   {
    "duration": 60,
    "start_time": "2021-10-01T16:04:41.880Z"
   },
   {
    "duration": 58,
    "start_time": "2021-10-01T16:04:54.706Z"
   },
   {
    "duration": 42,
    "start_time": "2021-10-01T16:05:11.504Z"
   },
   {
    "duration": 13,
    "start_time": "2021-10-01T16:05:31.616Z"
   },
   {
    "duration": 14,
    "start_time": "2021-10-01T16:05:55.279Z"
   },
   {
    "duration": 7,
    "start_time": "2021-10-01T16:06:13.865Z"
   },
   {
    "duration": 11,
    "start_time": "2021-10-01T16:07:13.088Z"
   },
   {
    "duration": 355,
    "start_time": "2021-10-01T16:07:49.416Z"
   },
   {
    "duration": 274,
    "start_time": "2021-10-01T16:07:55.728Z"
   },
   {
    "duration": 578,
    "start_time": "2021-10-01T16:08:13.814Z"
   },
   {
    "duration": 12,
    "start_time": "2021-10-01T16:08:23.918Z"
   },
   {
    "duration": 7268,
    "start_time": "2021-10-01T16:08:49.447Z"
   },
   {
    "duration": 21,
    "start_time": "2021-10-01T16:09:03.837Z"
   },
   {
    "duration": 322,
    "start_time": "2021-10-01T16:12:42.245Z"
   },
   {
    "duration": 21,
    "start_time": "2021-10-01T16:13:20.383Z"
   },
   {
    "duration": 289,
    "start_time": "2021-10-01T16:13:36.254Z"
   },
   {
    "duration": 68,
    "start_time": "2021-10-01T16:14:31.685Z"
   },
   {
    "duration": 47,
    "start_time": "2021-10-01T16:15:51.408Z"
   },
   {
    "duration": 31,
    "start_time": "2021-10-01T16:17:07.379Z"
   },
   {
    "duration": 23,
    "start_time": "2021-10-01T16:17:14.846Z"
   },
   {
    "duration": 15,
    "start_time": "2021-10-01T16:17:52.429Z"
   },
   {
    "duration": 48,
    "start_time": "2021-10-01T16:17:57.244Z"
   },
   {
    "duration": 18,
    "start_time": "2021-10-01T16:18:00.100Z"
   },
   {
    "duration": 47,
    "start_time": "2021-10-01T16:59:38.807Z"
   },
   {
    "duration": 22,
    "start_time": "2021-10-01T16:59:50.431Z"
   },
   {
    "duration": 1410,
    "start_time": "2021-10-01T17:06:21.997Z"
   },
   {
    "duration": 840,
    "start_time": "2021-10-01T17:06:23.409Z"
   },
   {
    "duration": 31,
    "start_time": "2021-10-01T17:06:24.252Z"
   },
   {
    "duration": 33,
    "start_time": "2021-10-01T17:06:24.286Z"
   },
   {
    "duration": 19,
    "start_time": "2021-10-01T17:06:24.321Z"
   },
   {
    "duration": 56,
    "start_time": "2021-10-01T17:06:24.342Z"
   },
   {
    "duration": 10,
    "start_time": "2021-10-01T17:06:24.401Z"
   },
   {
    "duration": 17,
    "start_time": "2021-10-01T17:06:24.415Z"
   },
   {
    "duration": 8,
    "start_time": "2021-10-01T17:06:24.435Z"
   },
   {
    "duration": 51,
    "start_time": "2021-10-01T17:06:24.445Z"
   },
   {
    "duration": 13,
    "start_time": "2021-10-01T17:06:24.498Z"
   },
   {
    "duration": 9,
    "start_time": "2021-10-01T17:06:24.514Z"
   },
   {
    "duration": 19,
    "start_time": "2021-10-01T17:06:24.526Z"
   },
   {
    "duration": 40,
    "start_time": "2021-10-01T17:06:24.548Z"
   },
   {
    "duration": 349,
    "start_time": "2021-10-01T17:06:24.590Z"
   },
   {
    "duration": 346,
    "start_time": "2021-10-01T17:06:24.941Z"
   },
   {
    "duration": 310,
    "start_time": "2021-10-01T17:06:25.289Z"
   },
   {
    "duration": 29,
    "start_time": "2021-10-01T17:06:25.601Z"
   },
   {
    "duration": 16,
    "start_time": "2021-10-01T17:06:25.632Z"
   },
   {
    "duration": 42,
    "start_time": "2021-10-01T17:06:25.650Z"
   },
   {
    "duration": 9,
    "start_time": "2021-10-01T17:06:25.694Z"
   },
   {
    "duration": 3455,
    "start_time": "2021-10-01T17:06:25.705Z"
   },
   {
    "duration": 3725,
    "start_time": "2021-10-01T17:06:29.165Z"
   },
   {
    "duration": 3774,
    "start_time": "2021-10-01T17:06:32.892Z"
   },
   {
    "duration": 1095,
    "start_time": "2021-10-01T17:06:36.669Z"
   },
   {
    "duration": 4,
    "start_time": "2021-10-01T17:06:37.766Z"
   },
   {
    "duration": 8,
    "start_time": "2021-10-01T17:06:37.783Z"
   },
   {
    "duration": 12,
    "start_time": "2021-10-01T17:06:37.794Z"
   },
   {
    "duration": 27,
    "start_time": "2021-10-01T17:06:37.808Z"
   },
   {
    "duration": 55,
    "start_time": "2021-10-01T17:06:37.837Z"
   },
   {
    "duration": 78,
    "start_time": "2021-10-01T17:06:37.895Z"
   },
   {
    "duration": -1282,
    "start_time": "2021-10-01T17:06:39.257Z"
   },
   {
    "duration": -1283,
    "start_time": "2021-10-01T17:06:39.259Z"
   },
   {
    "duration": -1284,
    "start_time": "2021-10-01T17:06:39.262Z"
   },
   {
    "duration": -1286,
    "start_time": "2021-10-01T17:06:39.265Z"
   },
   {
    "duration": 25,
    "start_time": "2021-10-01T17:11:46.977Z"
   },
   {
    "duration": 111,
    "start_time": "2021-10-01T17:12:25.519Z"
   },
   {
    "duration": 15,
    "start_time": "2021-10-01T17:25:54.285Z"
   },
   {
    "duration": 40,
    "start_time": "2021-10-01T17:28:38.936Z"
   },
   {
    "duration": 18,
    "start_time": "2021-10-01T17:29:02.316Z"
   },
   {
    "duration": 39,
    "start_time": "2021-10-01T17:30:35.984Z"
   },
   {
    "duration": 463,
    "start_time": "2021-10-01T17:32:14.532Z"
   },
   {
    "duration": 1408,
    "start_time": "2021-10-01T17:33:11.407Z"
   },
   {
    "duration": 901,
    "start_time": "2021-10-01T17:33:12.818Z"
   },
   {
    "duration": 23,
    "start_time": "2021-10-01T17:33:13.722Z"
   },
   {
    "duration": 57,
    "start_time": "2021-10-01T17:33:13.748Z"
   },
   {
    "duration": 18,
    "start_time": "2021-10-01T17:33:13.808Z"
   },
   {
    "duration": 56,
    "start_time": "2021-10-01T17:33:13.829Z"
   },
   {
    "duration": 15,
    "start_time": "2021-10-01T17:33:13.887Z"
   },
   {
    "duration": 14,
    "start_time": "2021-10-01T17:33:13.906Z"
   },
   {
    "duration": 8,
    "start_time": "2021-10-01T17:33:13.923Z"
   },
   {
    "duration": 51,
    "start_time": "2021-10-01T17:33:13.933Z"
   },
   {
    "duration": 18,
    "start_time": "2021-10-01T17:33:13.986Z"
   },
   {
    "duration": 14,
    "start_time": "2021-10-01T17:33:14.007Z"
   },
   {
    "duration": 61,
    "start_time": "2021-10-01T17:33:14.024Z"
   },
   {
    "duration": 10,
    "start_time": "2021-10-01T17:33:14.090Z"
   },
   {
    "duration": 377,
    "start_time": "2021-10-01T17:33:14.102Z"
   },
   {
    "duration": 345,
    "start_time": "2021-10-01T17:33:14.481Z"
   },
   {
    "duration": 326,
    "start_time": "2021-10-01T17:33:14.829Z"
   },
   {
    "duration": 42,
    "start_time": "2021-10-01T17:33:15.157Z"
   },
   {
    "duration": 16,
    "start_time": "2021-10-01T17:33:15.202Z"
   },
   {
    "duration": 14,
    "start_time": "2021-10-01T17:33:15.220Z"
   },
   {
    "duration": 9,
    "start_time": "2021-10-01T17:33:15.236Z"
   },
   {
    "duration": 3951,
    "start_time": "2021-10-01T17:33:15.247Z"
   },
   {
    "duration": 3963,
    "start_time": "2021-10-01T17:33:19.203Z"
   },
   {
    "duration": 3988,
    "start_time": "2021-10-01T17:33:23.169Z"
   },
   {
    "duration": 1129,
    "start_time": "2021-10-01T17:33:27.160Z"
   },
   {
    "duration": 5,
    "start_time": "2021-10-01T17:33:28.293Z"
   },
   {
    "duration": 11,
    "start_time": "2021-10-01T17:33:28.301Z"
   },
   {
    "duration": 5,
    "start_time": "2021-10-01T17:33:28.314Z"
   },
   {
    "duration": 24,
    "start_time": "2021-10-01T17:33:28.322Z"
   },
   {
    "duration": 477,
    "start_time": "2021-10-01T17:33:28.349Z"
   },
   {
    "duration": -1301,
    "start_time": "2021-10-01T17:33:30.131Z"
   },
   {
    "duration": -1303,
    "start_time": "2021-10-01T17:33:30.134Z"
   },
   {
    "duration": -1304,
    "start_time": "2021-10-01T17:33:30.137Z"
   },
   {
    "duration": -1306,
    "start_time": "2021-10-01T17:33:30.140Z"
   },
   {
    "duration": -1307,
    "start_time": "2021-10-01T17:33:30.142Z"
   },
   {
    "duration": 4,
    "start_time": "2021-10-01T17:33:42.042Z"
   },
   {
    "duration": 8,
    "start_time": "2021-10-01T17:33:42.905Z"
   },
   {
    "duration": 8,
    "start_time": "2021-10-01T17:33:54.834Z"
   },
   {
    "duration": 3,
    "start_time": "2021-10-01T17:39:50.248Z"
   },
   {
    "duration": 3,
    "start_time": "2021-10-01T17:39:56.143Z"
   },
   {
    "duration": 86,
    "start_time": "2021-10-01T17:40:11.633Z"
   },
   {
    "duration": 4,
    "start_time": "2021-10-01T17:40:12.800Z"
   },
   {
    "duration": 62,
    "start_time": "2021-10-01T17:40:44.231Z"
   },
   {
    "duration": 206,
    "start_time": "2021-10-01T17:40:57.886Z"
   },
   {
    "duration": 311,
    "start_time": "2021-10-01T17:41:06.561Z"
   },
   {
    "duration": 257,
    "start_time": "2021-10-01T17:41:40.159Z"
   },
   {
    "duration": 40,
    "start_time": "2021-10-01T17:42:06.951Z"
   },
   {
    "duration": 91,
    "start_time": "2021-10-01T17:43:45.502Z"
   },
   {
    "duration": 303,
    "start_time": "2021-10-01T17:50:35.671Z"
   },
   {
    "duration": 54,
    "start_time": "2021-10-01T17:51:36.429Z"
   },
   {
    "duration": 12,
    "start_time": "2021-10-01T17:52:05.988Z"
   },
   {
    "duration": 2572,
    "start_time": "2021-10-01T17:52:14.624Z"
   },
   {
    "duration": 1987,
    "start_time": "2021-10-01T17:52:17.199Z"
   },
   {
    "duration": 27,
    "start_time": "2021-10-01T17:52:19.190Z"
   },
   {
    "duration": 164,
    "start_time": "2021-10-01T17:52:19.220Z"
   },
   {
    "duration": 22,
    "start_time": "2021-10-01T17:52:19.388Z"
   },
   {
    "duration": 102,
    "start_time": "2021-10-01T17:52:19.413Z"
   },
   {
    "duration": 67,
    "start_time": "2021-10-01T17:52:19.518Z"
   },
   {
    "duration": 18,
    "start_time": "2021-10-01T17:52:19.591Z"
   },
   {
    "duration": 73,
    "start_time": "2021-10-01T17:52:19.614Z"
   },
   {
    "duration": 24,
    "start_time": "2021-10-01T17:52:19.690Z"
   },
   {
    "duration": 77,
    "start_time": "2021-10-01T17:52:19.717Z"
   },
   {
    "duration": 11,
    "start_time": "2021-10-01T17:52:19.797Z"
   },
   {
    "duration": 92,
    "start_time": "2021-10-01T17:52:19.811Z"
   },
   {
    "duration": 8,
    "start_time": "2021-10-01T17:52:19.905Z"
   },
   {
    "duration": 770,
    "start_time": "2021-10-01T17:52:19.916Z"
   },
   {
    "duration": 733,
    "start_time": "2021-10-01T17:52:20.690Z"
   },
   {
    "duration": 821,
    "start_time": "2021-10-01T17:52:21.481Z"
   },
   {
    "duration": 91,
    "start_time": "2021-10-01T17:52:22.305Z"
   },
   {
    "duration": 17,
    "start_time": "2021-10-01T17:52:22.398Z"
   },
   {
    "duration": 80,
    "start_time": "2021-10-01T17:52:22.418Z"
   },
   {
    "duration": 11,
    "start_time": "2021-10-01T17:52:22.501Z"
   },
   {
    "duration": 8070,
    "start_time": "2021-10-01T17:52:22.515Z"
   },
   {
    "duration": 8723,
    "start_time": "2021-10-01T17:52:30.593Z"
   },
   {
    "duration": 11791,
    "start_time": "2021-10-01T17:52:39.319Z"
   },
   {
    "duration": 3310,
    "start_time": "2021-10-01T17:52:51.113Z"
   },
   {
    "duration": 58,
    "start_time": "2021-10-01T17:52:54.426Z"
   },
   {
    "duration": 17,
    "start_time": "2021-10-01T17:52:54.487Z"
   },
   {
    "duration": 5,
    "start_time": "2021-10-01T17:52:54.507Z"
   },
   {
    "duration": 91,
    "start_time": "2021-10-01T17:52:54.515Z"
   },
   {
    "duration": 81,
    "start_time": "2021-10-01T17:52:54.608Z"
   },
   {
    "duration": 118,
    "start_time": "2021-10-01T17:52:54.692Z"
   },
   {
    "duration": 95,
    "start_time": "2021-10-01T17:52:54.813Z"
   },
   {
    "duration": 732,
    "start_time": "2021-10-01T17:52:54.911Z"
   },
   {
    "duration": -1303,
    "start_time": "2021-10-01T17:52:56.949Z"
   },
   {
    "duration": -1305,
    "start_time": "2021-10-01T17:52:56.952Z"
   },
   {
    "duration": -1305,
    "start_time": "2021-10-01T17:52:56.954Z"
   },
   {
    "duration": 5,
    "start_time": "2021-10-01T18:18:04.491Z"
   },
   {
    "duration": 12,
    "start_time": "2021-10-01T18:18:05.777Z"
   },
   {
    "duration": 275,
    "start_time": "2021-10-01T18:23:25.710Z"
   },
   {
    "duration": 5,
    "start_time": "2021-10-01T18:24:45.473Z"
   },
   {
    "duration": 4,
    "start_time": "2021-10-01T18:25:13.447Z"
   },
   {
    "duration": 5,
    "start_time": "2021-10-01T18:38:28.714Z"
   },
   {
    "duration": 5,
    "start_time": "2021-10-01T18:39:53.138Z"
   },
   {
    "duration": 5,
    "start_time": "2021-10-01T18:40:00.729Z"
   },
   {
    "duration": 525,
    "start_time": "2021-10-01T18:40:01.306Z"
   },
   {
    "duration": 5,
    "start_time": "2021-10-01T18:40:30.794Z"
   },
   {
    "duration": 30892,
    "start_time": "2021-10-01T18:40:34.084Z"
   },
   {
    "duration": 351,
    "start_time": "2021-10-01T18:44:13.337Z"
   },
   {
    "duration": 6,
    "start_time": "2021-10-01T18:45:10.909Z"
   },
   {
    "duration": 920,
    "start_time": "2021-10-01T18:45:10.918Z"
   },
   {
    "duration": 25,
    "start_time": "2021-10-01T18:45:11.841Z"
   },
   {
    "duration": 33,
    "start_time": "2021-10-01T18:45:11.882Z"
   },
   {
    "duration": 18,
    "start_time": "2021-10-01T18:45:11.918Z"
   },
   {
    "duration": 54,
    "start_time": "2021-10-01T18:45:11.939Z"
   },
   {
    "duration": 11,
    "start_time": "2021-10-01T18:45:11.995Z"
   },
   {
    "duration": 9,
    "start_time": "2021-10-01T18:45:12.010Z"
   },
   {
    "duration": 11,
    "start_time": "2021-10-01T18:45:12.023Z"
   },
   {
    "duration": 49,
    "start_time": "2021-10-01T18:45:12.036Z"
   },
   {
    "duration": 13,
    "start_time": "2021-10-01T18:45:12.088Z"
   },
   {
    "duration": 11,
    "start_time": "2021-10-01T18:45:12.104Z"
   },
   {
    "duration": 19,
    "start_time": "2021-10-01T18:45:12.118Z"
   },
   {
    "duration": 48,
    "start_time": "2021-10-01T18:45:12.140Z"
   },
   {
    "duration": 346,
    "start_time": "2021-10-01T18:45:12.190Z"
   },
   {
    "duration": 524,
    "start_time": "2021-10-01T18:45:12.539Z"
   },
   {
    "duration": 307,
    "start_time": "2021-10-01T18:45:13.065Z"
   },
   {
    "duration": 33,
    "start_time": "2021-10-01T18:45:13.375Z"
   },
   {
    "duration": 14,
    "start_time": "2021-10-01T18:45:13.410Z"
   },
   {
    "duration": 12,
    "start_time": "2021-10-01T18:45:13.427Z"
   },
   {
    "duration": 48,
    "start_time": "2021-10-01T18:45:13.442Z"
   },
   {
    "duration": 3694,
    "start_time": "2021-10-01T18:45:13.493Z"
   },
   {
    "duration": 3842,
    "start_time": "2021-10-01T18:45:17.193Z"
   },
   {
    "duration": 3965,
    "start_time": "2021-10-01T18:45:21.039Z"
   },
   {
    "duration": 1248,
    "start_time": "2021-10-01T18:45:25.007Z"
   },
   {
    "duration": 4,
    "start_time": "2021-10-01T18:45:26.257Z"
   },
   {
    "duration": 25,
    "start_time": "2021-10-01T18:45:26.263Z"
   },
   {
    "duration": 5,
    "start_time": "2021-10-01T18:45:26.291Z"
   },
   {
    "duration": 35,
    "start_time": "2021-10-01T18:45:26.299Z"
   },
   {
    "duration": 25,
    "start_time": "2021-10-01T18:47:46.034Z"
   },
   {
    "duration": 37,
    "start_time": "2021-10-01T18:47:47.344Z"
   },
   {
    "duration": 6,
    "start_time": "2021-10-01T18:47:57.691Z"
   },
   {
    "duration": 37,
    "start_time": "2021-10-01T18:48:05.975Z"
   },
   {
    "duration": 67,
    "start_time": "2021-10-01T18:48:40.976Z"
   },
   {
    "duration": 3,
    "start_time": "2021-10-01T18:48:50.751Z"
   },
   {
    "duration": 4,
    "start_time": "2021-10-01T18:48:52.750Z"
   },
   {
    "duration": 4,
    "start_time": "2021-10-01T18:48:53.816Z"
   },
   {
    "duration": 5,
    "start_time": "2021-10-01T18:48:54.496Z"
   },
   {
    "duration": 29854,
    "start_time": "2021-10-01T18:48:55.504Z"
   },
   {
    "duration": 4,
    "start_time": "2021-10-01T18:55:12.354Z"
   },
   {
    "duration": 10,
    "start_time": "2021-10-01T18:55:12.877Z"
   },
   {
    "duration": 4,
    "start_time": "2021-10-01T18:55:34.414Z"
   },
   {
    "duration": 30478,
    "start_time": "2021-10-01T18:56:11.503Z"
   },
   {
    "duration": -1367,
    "start_time": "2021-10-01T18:56:43.352Z"
   },
   {
    "duration": 4,
    "start_time": "2021-10-01T19:40:32.978Z"
   },
   {
    "duration": 871,
    "start_time": "2021-10-01T19:40:38.754Z"
   },
   {
    "duration": 567,
    "start_time": "2021-10-01T19:42:02.993Z"
   },
   {
    "duration": 4,
    "start_time": "2021-10-01T19:42:27.534Z"
   },
   {
    "duration": 6,
    "start_time": "2021-10-01T19:42:36.775Z"
   },
   {
    "duration": 4,
    "start_time": "2021-10-01T19:42:46.103Z"
   },
   {
    "duration": 6,
    "start_time": "2021-10-01T19:42:46.607Z"
   },
   {
    "duration": 82672,
    "start_time": "2021-10-01T19:42:47.263Z"
   },
   {
    "duration": 6,
    "start_time": "2021-10-01T19:47:08.372Z"
   },
   {
    "duration": 8,
    "start_time": "2021-10-01T20:09:49.520Z"
   },
   {
    "duration": 535,
    "start_time": "2021-10-01T21:11:54.186Z"
   },
   {
    "duration": 5,
    "start_time": "2021-10-01T21:17:17.242Z"
   },
   {
    "duration": 587,
    "start_time": "2021-10-01T21:17:20.080Z"
   },
   {
    "duration": 487,
    "start_time": "2021-10-01T21:18:14.383Z"
   },
   {
    "duration": 619,
    "start_time": "2021-10-01T21:18:30.710Z"
   },
   {
    "duration": 5,
    "start_time": "2021-10-01T21:20:24.290Z"
   },
   {
    "duration": 856,
    "start_time": "2021-10-01T21:20:24.298Z"
   },
   {
    "duration": 30,
    "start_time": "2021-10-01T21:20:25.157Z"
   },
   {
    "duration": 29,
    "start_time": "2021-10-01T21:20:25.190Z"
   },
   {
    "duration": 18,
    "start_time": "2021-10-01T21:20:25.221Z"
   },
   {
    "duration": 53,
    "start_time": "2021-10-01T21:20:25.241Z"
   },
   {
    "duration": 9,
    "start_time": "2021-10-01T21:20:25.297Z"
   },
   {
    "duration": 10,
    "start_time": "2021-10-01T21:20:25.310Z"
   },
   {
    "duration": 8,
    "start_time": "2021-10-01T21:20:25.323Z"
   },
   {
    "duration": 51,
    "start_time": "2021-10-01T21:20:25.333Z"
   },
   {
    "duration": 14,
    "start_time": "2021-10-01T21:20:25.386Z"
   },
   {
    "duration": 10,
    "start_time": "2021-10-01T21:20:25.402Z"
   },
   {
    "duration": 32,
    "start_time": "2021-10-01T21:20:25.415Z"
   },
   {
    "duration": 35,
    "start_time": "2021-10-01T21:20:25.449Z"
   },
   {
    "duration": 321,
    "start_time": "2021-10-01T21:20:25.486Z"
   },
   {
    "duration": 328,
    "start_time": "2021-10-01T21:20:25.810Z"
   },
   {
    "duration": 297,
    "start_time": "2021-10-01T21:20:26.140Z"
   },
   {
    "duration": 20,
    "start_time": "2021-10-01T21:20:26.439Z"
   },
   {
    "duration": 31,
    "start_time": "2021-10-01T21:20:26.462Z"
   },
   {
    "duration": 12,
    "start_time": "2021-10-01T21:20:26.496Z"
   },
   {
    "duration": 18,
    "start_time": "2021-10-01T21:20:26.511Z"
   },
   {
    "duration": 3324,
    "start_time": "2021-10-01T21:20:26.532Z"
   },
   {
    "duration": 3781,
    "start_time": "2021-10-01T21:20:29.861Z"
   },
   {
    "duration": 3769,
    "start_time": "2021-10-01T21:20:33.645Z"
   },
   {
    "duration": 1144,
    "start_time": "2021-10-01T21:20:37.417Z"
   },
   {
    "duration": 4,
    "start_time": "2021-10-01T21:20:41.717Z"
   },
   {
    "duration": 485,
    "start_time": "2021-10-01T21:20:44.934Z"
   },
   {
    "duration": 5,
    "start_time": "2021-10-01T21:21:55.021Z"
   },
   {
    "duration": 8,
    "start_time": "2021-10-01T21:21:55.695Z"
   },
   {
    "duration": 8,
    "start_time": "2021-10-01T21:22:00.606Z"
   },
   {
    "duration": 4,
    "start_time": "2021-10-01T21:24:39.829Z"
   },
   {
    "duration": 4,
    "start_time": "2021-10-01T21:24:48.868Z"
   },
   {
    "duration": 5,
    "start_time": "2021-10-01T21:24:54.852Z"
   },
   {
    "duration": 559,
    "start_time": "2021-10-01T21:24:55.756Z"
   },
   {
    "duration": 8,
    "start_time": "2021-10-01T21:37:16.708Z"
   },
   {
    "duration": 9,
    "start_time": "2021-10-01T21:38:39.207Z"
   },
   {
    "duration": 8,
    "start_time": "2021-10-01T21:39:21.663Z"
   },
   {
    "duration": 9,
    "start_time": "2021-10-01T21:39:29.319Z"
   },
   {
    "duration": 12,
    "start_time": "2021-10-01T21:57:19.769Z"
   },
   {
    "duration": 265,
    "start_time": "2021-10-01T21:58:03.826Z"
   },
   {
    "duration": 16,
    "start_time": "2021-10-01T21:58:33.348Z"
   },
   {
    "duration": 21,
    "start_time": "2021-10-01T22:01:03.977Z"
   },
   {
    "duration": 13,
    "start_time": "2021-10-01T22:01:14.688Z"
   },
   {
    "duration": 12,
    "start_time": "2021-10-01T22:01:16.704Z"
   },
   {
    "duration": 13,
    "start_time": "2021-10-01T22:01:20.529Z"
   },
   {
    "duration": 1658,
    "start_time": "2021-10-01T22:01:35.547Z"
   },
   {
    "duration": 865,
    "start_time": "2021-10-01T22:01:37.208Z"
   },
   {
    "duration": 24,
    "start_time": "2021-10-01T22:01:38.079Z"
   },
   {
    "duration": 33,
    "start_time": "2021-10-01T22:01:38.105Z"
   },
   {
    "duration": 49,
    "start_time": "2021-10-01T22:01:38.141Z"
   },
   {
    "duration": 27,
    "start_time": "2021-10-01T22:01:38.192Z"
   },
   {
    "duration": 10,
    "start_time": "2021-10-01T22:01:38.223Z"
   },
   {
    "duration": 14,
    "start_time": "2021-10-01T22:01:38.236Z"
   },
   {
    "duration": 34,
    "start_time": "2021-10-01T22:01:38.253Z"
   },
   {
    "duration": 18,
    "start_time": "2021-10-01T22:01:38.289Z"
   },
   {
    "duration": 12,
    "start_time": "2021-10-01T22:01:38.310Z"
   },
   {
    "duration": 9,
    "start_time": "2021-10-01T22:01:38.324Z"
   },
   {
    "duration": 61,
    "start_time": "2021-10-01T22:01:38.336Z"
   },
   {
    "duration": 8,
    "start_time": "2021-10-01T22:01:38.399Z"
   },
   {
    "duration": 326,
    "start_time": "2021-10-01T22:01:38.410Z"
   },
   {
    "duration": 324,
    "start_time": "2021-10-01T22:01:38.738Z"
   },
   {
    "duration": 298,
    "start_time": "2021-10-01T22:01:39.064Z"
   },
   {
    "duration": 37,
    "start_time": "2021-10-01T22:01:39.365Z"
   },
   {
    "duration": 17,
    "start_time": "2021-10-01T22:01:39.404Z"
   },
   {
    "duration": 14,
    "start_time": "2021-10-01T22:01:39.423Z"
   },
   {
    "duration": 44,
    "start_time": "2021-10-01T22:01:39.439Z"
   },
   {
    "duration": 3610,
    "start_time": "2021-10-01T22:01:39.489Z"
   },
   {
    "duration": 3667,
    "start_time": "2021-10-01T22:01:43.102Z"
   },
   {
    "duration": 4121,
    "start_time": "2021-10-01T22:01:46.783Z"
   },
   {
    "duration": 1089,
    "start_time": "2021-10-01T22:01:50.906Z"
   },
   {
    "duration": 5,
    "start_time": "2021-10-01T22:01:51.998Z"
   },
   {
    "duration": 7,
    "start_time": "2021-10-01T22:01:52.005Z"
   },
   {
    "duration": 11,
    "start_time": "2021-10-01T22:01:52.015Z"
   },
   {
    "duration": 9,
    "start_time": "2021-10-01T22:01:52.028Z"
   },
   {
    "duration": 9,
    "start_time": "2021-10-01T22:01:52.040Z"
   },
   {
    "duration": 27,
    "start_time": "2021-10-01T22:01:52.082Z"
   },
   {
    "duration": 36,
    "start_time": "2021-10-01T22:01:52.112Z"
   },
   {
    "duration": 101,
    "start_time": "2021-10-01T22:01:52.150Z"
   },
   {
    "duration": 3,
    "start_time": "2021-10-01T22:01:52.254Z"
   },
   {
    "duration": 22,
    "start_time": "2021-10-01T22:01:52.260Z"
   },
   {
    "duration": 15,
    "start_time": "2021-10-01T22:01:52.285Z"
   },
   {
    "duration": 15,
    "start_time": "2021-10-01T22:01:52.302Z"
   },
   {
    "duration": 6,
    "start_time": "2021-10-01T22:01:52.319Z"
   },
   {
    "duration": 15,
    "start_time": "2021-10-01T22:01:52.328Z"
   },
   {
    "duration": 663,
    "start_time": "2021-10-01T22:01:52.346Z"
   },
   {
    "duration": -479,
    "start_time": "2021-10-01T22:01:53.490Z"
   },
   {
    "duration": -482,
    "start_time": "2021-10-01T22:01:53.495Z"
   },
   {
    "duration": -484,
    "start_time": "2021-10-01T22:01:53.498Z"
   },
   {
    "duration": 13,
    "start_time": "2021-10-01T22:02:57.231Z"
   },
   {
    "duration": 12,
    "start_time": "2021-10-01T22:02:58.071Z"
   },
   {
    "duration": 25,
    "start_time": "2021-10-01T22:03:28.039Z"
   },
   {
    "duration": 13,
    "start_time": "2021-10-01T22:03:32.575Z"
   },
   {
    "duration": 13,
    "start_time": "2021-10-01T22:03:33.111Z"
   },
   {
    "duration": 1409,
    "start_time": "2021-10-01T22:03:38.285Z"
   },
   {
    "duration": 860,
    "start_time": "2021-10-01T22:03:39.696Z"
   },
   {
    "duration": 33,
    "start_time": "2021-10-01T22:03:40.559Z"
   },
   {
    "duration": 33,
    "start_time": "2021-10-01T22:03:40.594Z"
   },
   {
    "duration": 15,
    "start_time": "2021-10-01T22:03:40.629Z"
   },
   {
    "duration": 57,
    "start_time": "2021-10-01T22:03:40.646Z"
   },
   {
    "duration": 9,
    "start_time": "2021-10-01T22:03:40.706Z"
   },
   {
    "duration": 14,
    "start_time": "2021-10-01T22:03:40.720Z"
   },
   {
    "duration": 7,
    "start_time": "2021-10-01T22:03:40.737Z"
   },
   {
    "duration": 50,
    "start_time": "2021-10-01T22:03:40.746Z"
   },
   {
    "duration": 12,
    "start_time": "2021-10-01T22:03:40.799Z"
   },
   {
    "duration": 9,
    "start_time": "2021-10-01T22:03:40.814Z"
   },
   {
    "duration": 20,
    "start_time": "2021-10-01T22:03:40.825Z"
   },
   {
    "duration": 41,
    "start_time": "2021-10-01T22:03:40.847Z"
   },
   {
    "duration": 334,
    "start_time": "2021-10-01T22:03:40.890Z"
   },
   {
    "duration": 340,
    "start_time": "2021-10-01T22:03:41.227Z"
   },
   {
    "duration": 315,
    "start_time": "2021-10-01T22:03:41.570Z"
   },
   {
    "duration": 29,
    "start_time": "2021-10-01T22:03:41.887Z"
   },
   {
    "duration": 15,
    "start_time": "2021-10-01T22:03:41.919Z"
   },
   {
    "duration": 14,
    "start_time": "2021-10-01T22:03:41.937Z"
   },
   {
    "duration": 10,
    "start_time": "2021-10-01T22:03:41.983Z"
   },
   {
    "duration": 3450,
    "start_time": "2021-10-01T22:03:41.995Z"
   },
   {
    "duration": 3921,
    "start_time": "2021-10-01T22:03:45.450Z"
   },
   {
    "duration": 3810,
    "start_time": "2021-10-01T22:03:49.382Z"
   },
   {
    "duration": 1077,
    "start_time": "2021-10-01T22:03:53.195Z"
   },
   {
    "duration": 5,
    "start_time": "2021-10-01T22:03:54.282Z"
   },
   {
    "duration": 7,
    "start_time": "2021-10-01T22:03:54.290Z"
   },
   {
    "duration": 10,
    "start_time": "2021-10-01T22:03:54.300Z"
   },
   {
    "duration": 9,
    "start_time": "2021-10-01T22:03:54.313Z"
   },
   {
    "duration": 4,
    "start_time": "2021-10-01T22:03:54.325Z"
   },
   {
    "duration": 75,
    "start_time": "2021-10-01T22:03:54.332Z"
   },
   {
    "duration": 38,
    "start_time": "2021-10-01T22:03:54.410Z"
   },
   {
    "duration": 75,
    "start_time": "2021-10-01T22:03:54.482Z"
   },
   {
    "duration": 3,
    "start_time": "2021-10-01T22:03:54.560Z"
   },
   {
    "duration": 18,
    "start_time": "2021-10-01T22:03:54.566Z"
   },
   {
    "duration": 16,
    "start_time": "2021-10-01T22:03:54.587Z"
   },
   {
    "duration": 14,
    "start_time": "2021-10-01T22:03:54.605Z"
   },
   {
    "duration": 5,
    "start_time": "2021-10-01T22:03:54.622Z"
   },
   {
    "duration": 6,
    "start_time": "2021-10-01T22:03:54.630Z"
   },
   {
    "duration": 666,
    "start_time": "2021-10-01T22:03:54.638Z"
   },
   {
    "duration": -491,
    "start_time": "2021-10-01T22:03:55.799Z"
   },
   {
    "duration": -493,
    "start_time": "2021-10-01T22:03:55.803Z"
   },
   {
    "duration": -494,
    "start_time": "2021-10-01T22:03:55.806Z"
   },
   {
    "duration": 24,
    "start_time": "2021-10-01T22:04:37.469Z"
   },
   {
    "duration": 40,
    "start_time": "2021-10-01T22:04:38.887Z"
   },
   {
    "duration": 66,
    "start_time": "2021-10-01T22:04:40.269Z"
   },
   {
    "duration": 3,
    "start_time": "2021-10-01T22:04:41.733Z"
   },
   {
    "duration": 3,
    "start_time": "2021-10-01T22:04:43.637Z"
   },
   {
    "duration": 13,
    "start_time": "2021-10-01T22:04:44.461Z"
   },
   {
    "duration": 13,
    "start_time": "2021-10-01T22:04:46.109Z"
   },
   {
    "duration": 12,
    "start_time": "2021-10-01T22:04:50.710Z"
   },
   {
    "duration": 12,
    "start_time": "2021-10-01T22:04:51.333Z"
   },
   {
    "duration": 22,
    "start_time": "2021-10-01T22:04:57.389Z"
   },
   {
    "duration": 13,
    "start_time": "2021-10-01T22:05:01.253Z"
   },
   {
    "duration": 13,
    "start_time": "2021-10-01T22:05:01.740Z"
   },
   {
    "duration": 1393,
    "start_time": "2021-10-01T22:05:23.304Z"
   },
   {
    "duration": 868,
    "start_time": "2021-10-01T22:05:24.703Z"
   },
   {
    "duration": 28,
    "start_time": "2021-10-01T22:05:25.574Z"
   },
   {
    "duration": 33,
    "start_time": "2021-10-01T22:05:25.605Z"
   },
   {
    "duration": 44,
    "start_time": "2021-10-01T22:05:25.640Z"
   },
   {
    "duration": 25,
    "start_time": "2021-10-01T22:05:25.686Z"
   },
   {
    "duration": 9,
    "start_time": "2021-10-01T22:05:25.714Z"
   },
   {
    "duration": 15,
    "start_time": "2021-10-01T22:05:25.727Z"
   },
   {
    "duration": 40,
    "start_time": "2021-10-01T22:05:25.745Z"
   },
   {
    "duration": 21,
    "start_time": "2021-10-01T22:05:25.789Z"
   },
   {
    "duration": 15,
    "start_time": "2021-10-01T22:05:25.813Z"
   },
   {
    "duration": 11,
    "start_time": "2021-10-01T22:05:25.830Z"
   },
   {
    "duration": 58,
    "start_time": "2021-10-01T22:05:25.843Z"
   },
   {
    "duration": 8,
    "start_time": "2021-10-01T22:05:25.903Z"
   },
   {
    "duration": 345,
    "start_time": "2021-10-01T22:05:25.913Z"
   },
   {
    "duration": 327,
    "start_time": "2021-10-01T22:05:26.261Z"
   },
   {
    "duration": 296,
    "start_time": "2021-10-01T22:05:26.590Z"
   },
   {
    "duration": 29,
    "start_time": "2021-10-01T22:05:26.888Z"
   },
   {
    "duration": 17,
    "start_time": "2021-10-01T22:05:26.919Z"
   },
   {
    "duration": 13,
    "start_time": "2021-10-01T22:05:26.938Z"
   },
   {
    "duration": 8,
    "start_time": "2021-10-01T22:05:26.983Z"
   },
   {
    "duration": 3428,
    "start_time": "2021-10-01T22:05:26.994Z"
   },
   {
    "duration": 3813,
    "start_time": "2021-10-01T22:05:30.424Z"
   },
   {
    "duration": 3787,
    "start_time": "2021-10-01T22:05:34.239Z"
   },
   {
    "duration": 1090,
    "start_time": "2021-10-01T22:05:38.029Z"
   },
   {
    "duration": 5,
    "start_time": "2021-10-01T22:05:39.124Z"
   },
   {
    "duration": 7,
    "start_time": "2021-10-01T22:05:39.132Z"
   },
   {
    "duration": 9,
    "start_time": "2021-10-01T22:05:39.142Z"
   },
   {
    "duration": 32,
    "start_time": "2021-10-01T22:05:39.154Z"
   },
   {
    "duration": 3,
    "start_time": "2021-10-01T22:05:39.188Z"
   },
   {
    "duration": 27,
    "start_time": "2021-10-01T22:05:39.194Z"
   },
   {
    "duration": 69,
    "start_time": "2021-10-01T22:05:39.224Z"
   },
   {
    "duration": 73,
    "start_time": "2021-10-01T22:05:39.295Z"
   },
   {
    "duration": 13,
    "start_time": "2021-10-01T22:05:39.370Z"
   },
   {
    "duration": 7,
    "start_time": "2021-10-01T22:05:39.385Z"
   },
   {
    "duration": 16,
    "start_time": "2021-10-01T22:05:39.394Z"
   },
   {
    "duration": 16,
    "start_time": "2021-10-01T22:05:39.413Z"
   },
   {
    "duration": 5,
    "start_time": "2021-10-01T22:05:39.431Z"
   },
   {
    "duration": 44,
    "start_time": "2021-10-01T22:05:39.438Z"
   },
   {
    "duration": 649,
    "start_time": "2021-10-01T22:05:39.484Z"
   },
   {
    "duration": -494,
    "start_time": "2021-10-01T22:05:40.630Z"
   },
   {
    "duration": -496,
    "start_time": "2021-10-01T22:05:40.633Z"
   },
   {
    "duration": -497,
    "start_time": "2021-10-01T22:05:40.636Z"
   },
   {
    "duration": 13,
    "start_time": "2021-10-01T22:05:59.368Z"
   },
   {
    "duration": 1376,
    "start_time": "2021-10-01T22:06:06.028Z"
   },
   {
    "duration": 871,
    "start_time": "2021-10-01T22:06:07.407Z"
   },
   {
    "duration": 25,
    "start_time": "2021-10-01T22:06:08.283Z"
   },
   {
    "duration": 33,
    "start_time": "2021-10-01T22:06:08.311Z"
   },
   {
    "duration": 43,
    "start_time": "2021-10-01T22:06:08.346Z"
   },
   {
    "duration": 27,
    "start_time": "2021-10-01T22:06:08.392Z"
   },
   {
    "duration": 10,
    "start_time": "2021-10-01T22:06:08.421Z"
   },
   {
    "duration": 25,
    "start_time": "2021-10-01T22:06:08.435Z"
   },
   {
    "duration": 25,
    "start_time": "2021-10-01T22:06:08.463Z"
   },
   {
    "duration": 25,
    "start_time": "2021-10-01T22:06:08.490Z"
   },
   {
    "duration": 12,
    "start_time": "2021-10-01T22:06:08.518Z"
   },
   {
    "duration": 12,
    "start_time": "2021-10-01T22:06:08.532Z"
   },
   {
    "duration": 51,
    "start_time": "2021-10-01T22:06:08.546Z"
   },
   {
    "duration": 8,
    "start_time": "2021-10-01T22:06:08.599Z"
   },
   {
    "duration": 326,
    "start_time": "2021-10-01T22:06:08.609Z"
   },
   {
    "duration": 327,
    "start_time": "2021-10-01T22:06:08.938Z"
   },
   {
    "duration": 294,
    "start_time": "2021-10-01T22:06:09.268Z"
   },
   {
    "duration": 37,
    "start_time": "2021-10-01T22:06:09.564Z"
   },
   {
    "duration": 15,
    "start_time": "2021-10-01T22:06:09.603Z"
   },
   {
    "duration": 16,
    "start_time": "2021-10-01T22:06:09.621Z"
   },
   {
    "duration": 44,
    "start_time": "2021-10-01T22:06:09.639Z"
   },
   {
    "duration": 3526,
    "start_time": "2021-10-01T22:06:09.686Z"
   },
   {
    "duration": 3733,
    "start_time": "2021-10-01T22:06:13.217Z"
   },
   {
    "duration": 3775,
    "start_time": "2021-10-01T22:06:16.952Z"
   },
   {
    "duration": 1083,
    "start_time": "2021-10-01T22:06:20.730Z"
   },
   {
    "duration": 4,
    "start_time": "2021-10-01T22:06:21.816Z"
   },
   {
    "duration": 5,
    "start_time": "2021-10-01T22:06:21.823Z"
   },
   {
    "duration": 10,
    "start_time": "2021-10-01T22:06:21.830Z"
   },
   {
    "duration": 7,
    "start_time": "2021-10-01T22:06:21.842Z"
   },
   {
    "duration": 31,
    "start_time": "2021-10-01T22:06:21.852Z"
   },
   {
    "duration": 27,
    "start_time": "2021-10-01T22:06:21.886Z"
   },
   {
    "duration": 68,
    "start_time": "2021-10-01T22:06:21.916Z"
   },
   {
    "duration": 77,
    "start_time": "2021-10-01T22:06:21.987Z"
   },
   {
    "duration": 17,
    "start_time": "2021-10-01T22:06:22.066Z"
   },
   {
    "duration": 10,
    "start_time": "2021-10-01T22:06:22.086Z"
   },
   {
    "duration": 15,
    "start_time": "2021-10-01T22:06:22.099Z"
   },
   {
    "duration": 13,
    "start_time": "2021-10-01T22:06:22.117Z"
   },
   {
    "duration": 5,
    "start_time": "2021-10-01T22:06:22.133Z"
   },
   {
    "duration": 6,
    "start_time": "2021-10-01T22:06:22.184Z"
   },
   {
    "duration": 650,
    "start_time": "2021-10-01T22:06:22.193Z"
   },
   {
    "duration": -488,
    "start_time": "2021-10-01T22:06:23.334Z"
   },
   {
    "duration": -497,
    "start_time": "2021-10-01T22:06:23.344Z"
   },
   {
    "duration": -500,
    "start_time": "2021-10-01T22:06:23.349Z"
   },
   {
    "duration": 1544,
    "start_time": "2021-10-01T22:06:42.461Z"
   },
   {
    "duration": 875,
    "start_time": "2021-10-01T22:06:44.008Z"
   },
   {
    "duration": 24,
    "start_time": "2021-10-01T22:06:44.886Z"
   },
   {
    "duration": 33,
    "start_time": "2021-10-01T22:06:44.913Z"
   },
   {
    "duration": 42,
    "start_time": "2021-10-01T22:06:44.949Z"
   },
   {
    "duration": 28,
    "start_time": "2021-10-01T22:06:44.993Z"
   },
   {
    "duration": 10,
    "start_time": "2021-10-01T22:06:45.023Z"
   },
   {
    "duration": 15,
    "start_time": "2021-10-01T22:06:45.036Z"
   },
   {
    "duration": 8,
    "start_time": "2021-10-01T22:06:45.083Z"
   },
   {
    "duration": 24,
    "start_time": "2021-10-01T22:06:45.094Z"
   },
   {
    "duration": 13,
    "start_time": "2021-10-01T22:06:45.121Z"
   },
   {
    "duration": 10,
    "start_time": "2021-10-01T22:06:45.137Z"
   },
   {
    "duration": 24,
    "start_time": "2021-10-01T22:06:45.183Z"
   },
   {
    "duration": 10,
    "start_time": "2021-10-01T22:06:45.210Z"
   },
   {
    "duration": 371,
    "start_time": "2021-10-01T22:06:45.223Z"
   },
   {
    "duration": 341,
    "start_time": "2021-10-01T22:06:45.597Z"
   },
   {
    "duration": 305,
    "start_time": "2021-10-01T22:06:45.940Z"
   },
   {
    "duration": 41,
    "start_time": "2021-10-01T22:06:46.248Z"
   },
   {
    "duration": 16,
    "start_time": "2021-10-01T22:06:46.291Z"
   },
   {
    "duration": 14,
    "start_time": "2021-10-01T22:06:46.310Z"
   },
   {
    "duration": 8,
    "start_time": "2021-10-01T22:06:46.327Z"
   },
   {
    "duration": 3517,
    "start_time": "2021-10-01T22:06:46.337Z"
   },
   {
    "duration": 3743,
    "start_time": "2021-10-01T22:06:49.859Z"
   },
   {
    "duration": 3689,
    "start_time": "2021-10-01T22:06:53.604Z"
   },
   {
    "duration": 1062,
    "start_time": "2021-10-01T22:06:57.295Z"
   },
   {
    "duration": 4,
    "start_time": "2021-10-01T22:06:58.360Z"
   },
   {
    "duration": 17,
    "start_time": "2021-10-01T22:06:58.367Z"
   },
   {
    "duration": 10,
    "start_time": "2021-10-01T22:06:58.387Z"
   },
   {
    "duration": 8,
    "start_time": "2021-10-01T22:06:58.400Z"
   },
   {
    "duration": 14,
    "start_time": "2021-10-01T22:06:58.411Z"
   },
   {
    "duration": 55,
    "start_time": "2021-10-01T22:06:58.428Z"
   },
   {
    "duration": 36,
    "start_time": "2021-10-01T22:06:58.486Z"
   },
   {
    "duration": 101,
    "start_time": "2021-10-01T22:06:58.524Z"
   },
   {
    "duration": 4,
    "start_time": "2021-10-01T22:06:58.627Z"
   },
   {
    "duration": 7,
    "start_time": "2021-10-01T22:06:58.633Z"
   },
   {
    "duration": 14,
    "start_time": "2021-10-01T22:06:58.643Z"
   },
   {
    "duration": 35,
    "start_time": "2021-10-01T22:06:58.660Z"
   },
   {
    "duration": 5,
    "start_time": "2021-10-01T22:06:58.699Z"
   },
   {
    "duration": 8,
    "start_time": "2021-10-01T22:06:58.707Z"
   },
   {
    "duration": 684,
    "start_time": "2021-10-01T22:06:58.717Z"
   },
   {
    "duration": -479,
    "start_time": "2021-10-01T22:06:59.883Z"
   },
   {
    "duration": -481,
    "start_time": "2021-10-01T22:06:59.887Z"
   },
   {
    "duration": -485,
    "start_time": "2021-10-01T22:06:59.892Z"
   },
   {
    "duration": 1444,
    "start_time": "2021-10-01T22:07:50.878Z"
   },
   {
    "duration": 876,
    "start_time": "2021-10-01T22:07:52.325Z"
   },
   {
    "duration": 25,
    "start_time": "2021-10-01T22:07:53.205Z"
   },
   {
    "duration": 60,
    "start_time": "2021-10-01T22:07:53.233Z"
   },
   {
    "duration": 17,
    "start_time": "2021-10-01T22:07:53.296Z"
   },
   {
    "duration": 27,
    "start_time": "2021-10-01T22:07:53.316Z"
   },
   {
    "duration": 42,
    "start_time": "2021-10-01T22:07:53.345Z"
   },
   {
    "duration": 15,
    "start_time": "2021-10-01T22:07:53.391Z"
   },
   {
    "duration": 8,
    "start_time": "2021-10-01T22:07:53.408Z"
   },
   {
    "duration": 22,
    "start_time": "2021-10-01T22:07:53.418Z"
   },
   {
    "duration": 49,
    "start_time": "2021-10-01T22:07:53.442Z"
   },
   {
    "duration": 10,
    "start_time": "2021-10-01T22:07:53.493Z"
   },
   {
    "duration": 21,
    "start_time": "2021-10-01T22:07:53.505Z"
   },
   {
    "duration": 10,
    "start_time": "2021-10-01T22:07:53.529Z"
   },
   {
    "duration": 358,
    "start_time": "2021-10-01T22:07:53.542Z"
   },
   {
    "duration": 324,
    "start_time": "2021-10-01T22:07:53.902Z"
   },
   {
    "duration": 303,
    "start_time": "2021-10-01T22:07:54.228Z"
   },
   {
    "duration": 28,
    "start_time": "2021-10-01T22:07:54.534Z"
   },
   {
    "duration": 35,
    "start_time": "2021-10-01T22:07:54.564Z"
   },
   {
    "duration": 13,
    "start_time": "2021-10-01T22:07:54.601Z"
   },
   {
    "duration": 9,
    "start_time": "2021-10-01T22:07:54.617Z"
   },
   {
    "duration": 3375,
    "start_time": "2021-10-01T22:07:54.628Z"
   },
   {
    "duration": 3693,
    "start_time": "2021-10-01T22:07:58.008Z"
   },
   {
    "duration": 3972,
    "start_time": "2021-10-01T22:08:01.704Z"
   },
   {
    "duration": 1055,
    "start_time": "2021-10-01T22:08:05.682Z"
   },
   {
    "duration": 5,
    "start_time": "2021-10-01T22:08:06.739Z"
   },
   {
    "duration": 12,
    "start_time": "2021-10-01T22:08:06.746Z"
   },
   {
    "duration": 24,
    "start_time": "2021-10-01T22:08:06.760Z"
   },
   {
    "duration": 9,
    "start_time": "2021-10-01T22:08:06.786Z"
   },
   {
    "duration": 9,
    "start_time": "2021-10-01T22:08:06.797Z"
   },
   {
    "duration": 35,
    "start_time": "2021-10-01T22:08:06.808Z"
   },
   {
    "duration": 53,
    "start_time": "2021-10-01T22:08:06.845Z"
   },
   {
    "duration": 90,
    "start_time": "2021-10-01T22:08:06.900Z"
   },
   {
    "duration": 3,
    "start_time": "2021-10-01T22:08:06.992Z"
   },
   {
    "duration": 13,
    "start_time": "2021-10-01T22:08:06.997Z"
   },
   {
    "duration": 21,
    "start_time": "2021-10-01T22:08:07.012Z"
   },
   {
    "duration": 20,
    "start_time": "2021-10-01T22:08:07.035Z"
   },
   {
    "duration": 24,
    "start_time": "2021-10-01T22:08:07.058Z"
   },
   {
    "duration": 9,
    "start_time": "2021-10-01T22:08:07.085Z"
   },
   {
    "duration": 692,
    "start_time": "2021-10-01T22:08:07.097Z"
   },
   {
    "duration": -477,
    "start_time": "2021-10-01T22:08:08.269Z"
   },
   {
    "duration": -479,
    "start_time": "2021-10-01T22:08:08.272Z"
   },
   {
    "duration": -480,
    "start_time": "2021-10-01T22:08:08.275Z"
   },
   {
    "duration": 1708,
    "start_time": "2021-10-01T22:08:29.703Z"
   },
   {
    "duration": 851,
    "start_time": "2021-10-01T22:08:31.414Z"
   },
   {
    "duration": 27,
    "start_time": "2021-10-01T22:08:32.268Z"
   },
   {
    "duration": 33,
    "start_time": "2021-10-01T22:08:32.298Z"
   },
   {
    "duration": 15,
    "start_time": "2021-10-01T22:08:32.334Z"
   },
   {
    "duration": 53,
    "start_time": "2021-10-01T22:08:32.351Z"
   },
   {
    "duration": 10,
    "start_time": "2021-10-01T22:08:32.406Z"
   },
   {
    "duration": 13,
    "start_time": "2021-10-01T22:08:32.420Z"
   },
   {
    "duration": 7,
    "start_time": "2021-10-01T22:08:32.436Z"
   },
   {
    "duration": 50,
    "start_time": "2021-10-01T22:08:32.446Z"
   },
   {
    "duration": 12,
    "start_time": "2021-10-01T22:08:32.498Z"
   },
   {
    "duration": 9,
    "start_time": "2021-10-01T22:08:32.513Z"
   },
   {
    "duration": 63,
    "start_time": "2021-10-01T22:08:32.524Z"
   },
   {
    "duration": 9,
    "start_time": "2021-10-01T22:08:32.589Z"
   },
   {
    "duration": 339,
    "start_time": "2021-10-01T22:08:32.600Z"
   },
   {
    "duration": 329,
    "start_time": "2021-10-01T22:08:32.941Z"
   },
   {
    "duration": 334,
    "start_time": "2021-10-01T22:08:33.273Z"
   },
   {
    "duration": 26,
    "start_time": "2021-10-01T22:08:33.609Z"
   },
   {
    "duration": 14,
    "start_time": "2021-10-01T22:08:33.638Z"
   },
   {
    "duration": 38,
    "start_time": "2021-10-01T22:08:33.654Z"
   },
   {
    "duration": 10,
    "start_time": "2021-10-01T22:08:33.694Z"
   },
   {
    "duration": 3510,
    "start_time": "2021-10-01T22:08:33.706Z"
   },
   {
    "duration": 3696,
    "start_time": "2021-10-01T22:08:37.221Z"
   },
   {
    "duration": 3891,
    "start_time": "2021-10-01T22:08:40.920Z"
   },
   {
    "duration": 1095,
    "start_time": "2021-10-01T22:08:44.814Z"
   },
   {
    "duration": 4,
    "start_time": "2021-10-01T22:08:45.911Z"
   },
   {
    "duration": 18,
    "start_time": "2021-10-01T22:08:45.918Z"
   },
   {
    "duration": 13,
    "start_time": "2021-10-01T22:08:45.938Z"
   },
   {
    "duration": 12,
    "start_time": "2021-10-01T22:08:45.954Z"
   },
   {
    "duration": 15,
    "start_time": "2021-10-01T22:08:45.969Z"
   },
   {
    "duration": 29,
    "start_time": "2021-10-01T22:08:45.987Z"
   },
   {
    "duration": 64,
    "start_time": "2021-10-01T22:08:46.018Z"
   },
   {
    "duration": 80,
    "start_time": "2021-10-01T22:08:46.085Z"
   },
   {
    "duration": 3,
    "start_time": "2021-10-01T22:08:46.183Z"
   },
   {
    "duration": 5,
    "start_time": "2021-10-01T22:08:46.189Z"
   },
   {
    "duration": 16,
    "start_time": "2021-10-01T22:08:46.196Z"
   },
   {
    "duration": 12,
    "start_time": "2021-10-01T22:08:46.215Z"
   },
   {
    "duration": 7,
    "start_time": "2021-10-01T22:08:46.230Z"
   },
   {
    "duration": 14,
    "start_time": "2021-10-01T22:08:46.240Z"
   },
   {
    "duration": 681,
    "start_time": "2021-10-01T22:08:46.283Z"
   },
   {
    "duration": -495,
    "start_time": "2021-10-01T22:08:47.461Z"
   },
   {
    "duration": -496,
    "start_time": "2021-10-01T22:08:47.464Z"
   },
   {
    "duration": -497,
    "start_time": "2021-10-01T22:08:47.466Z"
   },
   {
    "duration": 44,
    "start_time": "2021-10-01T23:23:47.413Z"
   },
   {
    "duration": 339,
    "start_time": "2021-10-01T23:26:54.535Z"
   },
   {
    "duration": 316,
    "start_time": "2021-10-01T23:27:22.567Z"
   },
   {
    "duration": 292,
    "start_time": "2021-10-01T23:27:37.895Z"
   },
   {
    "duration": 7,
    "start_time": "2021-10-01T23:31:02.718Z"
   },
   {
    "duration": 6,
    "start_time": "2021-10-01T23:31:50.349Z"
   },
   {
    "duration": 8,
    "start_time": "2021-10-01T23:32:02.942Z"
   },
   {
    "duration": 222,
    "start_time": "2021-10-01T23:32:32.278Z"
   },
   {
    "duration": 272,
    "start_time": "2021-10-01T23:32:43.831Z"
   },
   {
    "duration": 14,
    "start_time": "2021-10-01T23:33:01.197Z"
   },
   {
    "duration": 7,
    "start_time": "2021-10-01T23:33:37.190Z"
   },
   {
    "duration": 7,
    "start_time": "2021-10-01T23:33:42.422Z"
   },
   {
    "duration": 13,
    "start_time": "2021-10-01T23:39:45.555Z"
   },
   {
    "duration": 316,
    "start_time": "2021-10-01T23:40:51.882Z"
   },
   {
    "duration": 5,
    "start_time": "2021-10-01T23:41:49.723Z"
   },
   {
    "duration": 10,
    "start_time": "2021-10-01T23:42:05.940Z"
   },
   {
    "duration": 410,
    "start_time": "2021-10-01T23:42:13.378Z"
   },
   {
    "duration": 14,
    "start_time": "2021-10-01T23:42:15.090Z"
   },
   {
    "duration": 5,
    "start_time": "2021-10-01T23:48:18.601Z"
   },
   {
    "duration": 4,
    "start_time": "2021-10-01T23:48:19.039Z"
   },
   {
    "duration": 6089,
    "start_time": "2021-10-01T23:50:30.271Z"
   },
   {
    "duration": 5,
    "start_time": "2021-10-02T00:08:04.436Z"
   },
   {
    "duration": 7341,
    "start_time": "2021-10-02T00:08:19.052Z"
   },
   {
    "duration": 8504,
    "start_time": "2021-10-02T00:09:49.970Z"
   },
   {
    "duration": 13,
    "start_time": "2021-10-02T00:10:01.771Z"
   },
   {
    "duration": 5,
    "start_time": "2021-10-02T00:15:01.524Z"
   },
   {
    "duration": 526,
    "start_time": "2021-10-02T00:15:11.434Z"
   },
   {
    "duration": 4,
    "start_time": "2021-10-02T00:17:34.167Z"
   },
   {
    "duration": 512,
    "start_time": "2021-10-02T00:17:49.320Z"
   },
   {
    "duration": 5,
    "start_time": "2021-10-02T00:18:53.112Z"
   },
   {
    "duration": 11,
    "start_time": "2021-10-02T00:19:08.871Z"
   },
   {
    "duration": 4,
    "start_time": "2021-10-02T00:19:53.855Z"
   },
   {
    "duration": 5,
    "start_time": "2021-10-02T00:20:47.520Z"
   },
   {
    "duration": 6,
    "start_time": "2021-10-02T00:20:50.391Z"
   },
   {
    "duration": 1328,
    "start_time": "2021-10-02T00:20:52.384Z"
   },
   {
    "duration": 88,
    "start_time": "2021-10-02T00:32:09.774Z"
   },
   {
    "duration": 229,
    "start_time": "2021-10-02T00:32:23.814Z"
   },
   {
    "duration": 294,
    "start_time": "2021-10-02T00:33:51.587Z"
   },
   {
    "duration": 772,
    "start_time": "2021-10-02T00:35:00.171Z"
   },
   {
    "duration": 277,
    "start_time": "2021-10-02T00:35:14.466Z"
   },
   {
    "duration": 1643,
    "start_time": "2021-10-02T13:46:18.747Z"
   },
   {
    "duration": 37,
    "start_time": "2021-10-02T13:46:33.202Z"
   },
   {
    "duration": 344,
    "start_time": "2021-10-02T13:51:18.019Z"
   },
   {
    "duration": 1196,
    "start_time": "2021-10-02T13:51:25.160Z"
   },
   {
    "duration": 2993,
    "start_time": "2021-10-02T13:51:26.358Z"
   },
   {
    "duration": 16,
    "start_time": "2021-10-02T13:51:29.353Z"
   },
   {
    "duration": 23,
    "start_time": "2021-10-02T13:51:29.372Z"
   },
   {
    "duration": 10,
    "start_time": "2021-10-02T13:51:29.397Z"
   },
   {
    "duration": 19,
    "start_time": "2021-10-02T13:51:29.409Z"
   },
   {
    "duration": 8,
    "start_time": "2021-10-02T13:51:29.430Z"
   },
   {
    "duration": 37,
    "start_time": "2021-10-02T13:51:29.440Z"
   },
   {
    "duration": 5,
    "start_time": "2021-10-02T13:51:29.479Z"
   },
   {
    "duration": 16,
    "start_time": "2021-10-02T13:51:29.485Z"
   },
   {
    "duration": 9,
    "start_time": "2021-10-02T13:51:29.503Z"
   },
   {
    "duration": 7,
    "start_time": "2021-10-02T13:51:29.514Z"
   },
   {
    "duration": 15,
    "start_time": "2021-10-02T13:51:29.523Z"
   },
   {
    "duration": 39,
    "start_time": "2021-10-02T13:51:29.539Z"
   },
   {
    "duration": 215,
    "start_time": "2021-10-02T13:51:29.580Z"
   },
   {
    "duration": 205,
    "start_time": "2021-10-02T13:51:29.796Z"
   },
   {
    "duration": 204,
    "start_time": "2021-10-02T13:51:30.003Z"
   },
   {
    "duration": 22,
    "start_time": "2021-10-02T13:51:30.209Z"
   },
   {
    "duration": 11,
    "start_time": "2021-10-02T13:51:30.233Z"
   },
   {
    "duration": 32,
    "start_time": "2021-10-02T13:51:30.246Z"
   },
   {
    "duration": 7,
    "start_time": "2021-10-02T13:51:30.280Z"
   },
   {
    "duration": 2202,
    "start_time": "2021-10-02T13:51:30.288Z"
   },
   {
    "duration": 2260,
    "start_time": "2021-10-02T13:51:32.494Z"
   },
   {
    "duration": 2389,
    "start_time": "2021-10-02T13:51:34.756Z"
   },
   {
    "duration": 777,
    "start_time": "2021-10-02T13:51:37.147Z"
   },
   {
    "duration": 3,
    "start_time": "2021-10-02T13:51:37.926Z"
   },
   {
    "duration": 11,
    "start_time": "2021-10-02T13:51:37.931Z"
   },
   {
    "duration": 5,
    "start_time": "2021-10-02T13:51:37.944Z"
   },
   {
    "duration": 779,
    "start_time": "2021-10-02T13:51:37.950Z"
   },
   {
    "duration": -613,
    "start_time": "2021-10-02T13:51:39.344Z"
   },
   {
    "duration": -620,
    "start_time": "2021-10-02T13:51:39.352Z"
   },
   {
    "duration": -621,
    "start_time": "2021-10-02T13:51:39.354Z"
   },
   {
    "duration": -623,
    "start_time": "2021-10-02T13:51:39.357Z"
   },
   {
    "duration": -627,
    "start_time": "2021-10-02T13:51:39.362Z"
   },
   {
    "duration": -630,
    "start_time": "2021-10-02T13:51:39.366Z"
   },
   {
    "duration": -632,
    "start_time": "2021-10-02T13:51:39.369Z"
   },
   {
    "duration": -634,
    "start_time": "2021-10-02T13:51:39.372Z"
   },
   {
    "duration": -639,
    "start_time": "2021-10-02T13:51:39.378Z"
   },
   {
    "duration": -641,
    "start_time": "2021-10-02T13:51:39.381Z"
   },
   {
    "duration": -643,
    "start_time": "2021-10-02T13:51:39.384Z"
   },
   {
    "duration": -646,
    "start_time": "2021-10-02T13:51:39.388Z"
   },
   {
    "duration": -649,
    "start_time": "2021-10-02T13:51:39.392Z"
   },
   {
    "duration": -650,
    "start_time": "2021-10-02T13:51:39.394Z"
   },
   {
    "duration": -652,
    "start_time": "2021-10-02T13:51:39.397Z"
   },
   {
    "duration": -654,
    "start_time": "2021-10-02T13:51:39.399Z"
   },
   {
    "duration": -655,
    "start_time": "2021-10-02T13:51:39.401Z"
   },
   {
    "duration": -664,
    "start_time": "2021-10-02T13:51:39.411Z"
   },
   {
    "duration": 7,
    "start_time": "2021-10-02T13:51:58.425Z"
   },
   {
    "duration": 6,
    "start_time": "2021-10-02T13:52:06.103Z"
   },
   {
    "duration": 4,
    "start_time": "2021-10-02T13:52:26.279Z"
   },
   {
    "duration": 667,
    "start_time": "2021-10-02T13:52:27.928Z"
   },
   {
    "duration": 4,
    "start_time": "2021-10-02T13:52:52.663Z"
   },
   {
    "duration": 6,
    "start_time": "2021-10-02T13:52:55.495Z"
   },
   {
    "duration": 22,
    "start_time": "2021-10-02T13:58:20.095Z"
   },
   {
    "duration": 121,
    "start_time": "2021-10-02T13:58:35.158Z"
   },
   {
    "duration": 10,
    "start_time": "2021-10-02T13:58:37.126Z"
   },
   {
    "duration": 10,
    "start_time": "2021-10-02T13:58:39.734Z"
   },
   {
    "duration": 7,
    "start_time": "2021-10-02T14:02:20.349Z"
   },
   {
    "duration": 3,
    "start_time": "2021-10-02T14:02:49.653Z"
   },
   {
    "duration": 3,
    "start_time": "2021-10-02T14:03:51.508Z"
   },
   {
    "duration": 4,
    "start_time": "2021-10-02T14:03:53.860Z"
   },
   {
    "duration": 811,
    "start_time": "2021-10-02T14:03:56.828Z"
   },
   {
    "duration": 812,
    "start_time": "2021-10-02T14:05:45.044Z"
   },
   {
    "duration": 4,
    "start_time": "2021-10-02T14:07:23.395Z"
   },
   {
    "duration": 347,
    "start_time": "2021-10-02T14:07:39.338Z"
   },
   {
    "duration": 3,
    "start_time": "2021-10-02T14:08:15.604Z"
   },
   {
    "duration": 379,
    "start_time": "2021-10-02T14:08:16.211Z"
   },
   {
    "duration": 694,
    "start_time": "2021-10-02T14:08:22.332Z"
   },
   {
    "duration": 4,
    "start_time": "2021-10-02T14:08:55.518Z"
   },
   {
    "duration": 7,
    "start_time": "2021-10-02T14:08:58.960Z"
   },
   {
    "duration": 6,
    "start_time": "2021-10-02T14:08:59.587Z"
   },
   {
    "duration": 8,
    "start_time": "2021-10-02T14:09:10.701Z"
   },
   {
    "duration": 7,
    "start_time": "2021-10-02T14:09:15.763Z"
   },
   {
    "duration": 3,
    "start_time": "2021-10-02T14:09:16.307Z"
   },
   {
    "duration": 358,
    "start_time": "2021-10-02T14:09:17.100Z"
   },
   {
    "duration": 3,
    "start_time": "2021-10-02T14:13:39.874Z"
   },
   {
    "duration": 3,
    "start_time": "2021-10-02T14:13:40.257Z"
   },
   {
    "duration": 4,
    "start_time": "2021-10-02T14:13:40.633Z"
   },
   {
    "duration": 8,
    "start_time": "2021-10-02T14:13:49.537Z"
   },
   {
    "duration": 3,
    "start_time": "2021-10-02T14:13:50.144Z"
   },
   {
    "duration": 329,
    "start_time": "2021-10-02T14:13:50.690Z"
   },
   {
    "duration": 3,
    "start_time": "2021-10-02T14:20:25.377Z"
   },
   {
    "duration": 7,
    "start_time": "2021-10-02T14:20:33.255Z"
   },
   {
    "duration": 2,
    "start_time": "2021-10-02T14:20:38.224Z"
   },
   {
    "duration": 709,
    "start_time": "2021-10-02T14:20:39.143Z"
   },
   {
    "duration": 2103,
    "start_time": "2021-10-02T14:22:40.842Z"
   },
   {
    "duration": 730,
    "start_time": "2021-10-02T14:22:42.947Z"
   },
   {
    "duration": 16,
    "start_time": "2021-10-02T14:22:43.679Z"
   },
   {
    "duration": 21,
    "start_time": "2021-10-02T14:22:43.697Z"
   },
   {
    "duration": 10,
    "start_time": "2021-10-02T14:22:43.719Z"
   },
   {
    "duration": 52,
    "start_time": "2021-10-02T14:22:43.731Z"
   },
   {
    "duration": 10,
    "start_time": "2021-10-02T14:22:43.785Z"
   },
   {
    "duration": 11,
    "start_time": "2021-10-02T14:22:43.799Z"
   },
   {
    "duration": 6,
    "start_time": "2021-10-02T14:22:43.813Z"
   },
   {
    "duration": 14,
    "start_time": "2021-10-02T14:22:43.821Z"
   },
   {
    "duration": 42,
    "start_time": "2021-10-02T14:22:43.837Z"
   },
   {
    "duration": 8,
    "start_time": "2021-10-02T14:22:43.881Z"
   },
   {
    "duration": 15,
    "start_time": "2021-10-02T14:22:43.891Z"
   },
   {
    "duration": 7,
    "start_time": "2021-10-02T14:22:43.907Z"
   },
   {
    "duration": 253,
    "start_time": "2021-10-02T14:22:43.915Z"
   },
   {
    "duration": 201,
    "start_time": "2021-10-02T14:22:44.171Z"
   },
   {
    "duration": 191,
    "start_time": "2021-10-02T14:22:44.377Z"
   },
   {
    "duration": 26,
    "start_time": "2021-10-02T14:22:44.570Z"
   },
   {
    "duration": 12,
    "start_time": "2021-10-02T14:22:44.598Z"
   },
   {
    "duration": 11,
    "start_time": "2021-10-02T14:22:44.612Z"
   },
   {
    "duration": 7,
    "start_time": "2021-10-02T14:22:44.624Z"
   },
   {
    "duration": 2182,
    "start_time": "2021-10-02T14:22:44.633Z"
   },
   {
    "duration": 2210,
    "start_time": "2021-10-02T14:22:46.819Z"
   },
   {
    "duration": 2413,
    "start_time": "2021-10-02T14:22:49.031Z"
   },
   {
    "duration": 685,
    "start_time": "2021-10-02T14:22:51.445Z"
   },
   {
    "duration": 4,
    "start_time": "2021-10-02T14:22:52.131Z"
   },
   {
    "duration": 6,
    "start_time": "2021-10-02T14:22:52.136Z"
   },
   {
    "duration": 5,
    "start_time": "2021-10-02T14:22:52.144Z"
   },
   {
    "duration": 7,
    "start_time": "2021-10-02T14:22:52.151Z"
   },
   {
    "duration": 5,
    "start_time": "2021-10-02T14:22:52.176Z"
   },
   {
    "duration": 3,
    "start_time": "2021-10-02T14:22:52.183Z"
   },
   {
    "duration": 23,
    "start_time": "2021-10-02T14:22:52.187Z"
   },
   {
    "duration": 38,
    "start_time": "2021-10-02T14:22:52.211Z"
   },
   {
    "duration": 2,
    "start_time": "2021-10-02T14:22:52.251Z"
   },
   {
    "duration": 401,
    "start_time": "2021-10-02T14:22:52.277Z"
   },
   {
    "duration": 10,
    "start_time": "2021-10-02T14:22:52.682Z"
   },
   {
    "duration": 93,
    "start_time": "2021-10-02T14:22:52.693Z"
   },
   {
    "duration": 9,
    "start_time": "2021-10-02T14:22:52.788Z"
   },
   {
    "duration": 79,
    "start_time": "2021-10-02T14:22:52.798Z"
   },
   {
    "duration": 438,
    "start_time": "2021-10-02T14:22:52.878Z"
   },
   {
    "duration": -609,
    "start_time": "2021-10-02T14:22:53.927Z"
   },
   {
    "duration": -613,
    "start_time": "2021-10-02T14:22:53.932Z"
   },
   {
    "duration": -614,
    "start_time": "2021-10-02T14:22:53.934Z"
   },
   {
    "duration": -617,
    "start_time": "2021-10-02T14:22:53.939Z"
   },
   {
    "duration": -622,
    "start_time": "2021-10-02T14:22:53.945Z"
   },
   {
    "duration": -631,
    "start_time": "2021-10-02T14:22:53.955Z"
   },
   {
    "duration": -631,
    "start_time": "2021-10-02T14:22:53.957Z"
   },
   {
    "duration": -634,
    "start_time": "2021-10-02T14:22:53.961Z"
   },
   {
    "duration": 3,
    "start_time": "2021-10-02T14:25:29.108Z"
   },
   {
    "duration": 3,
    "start_time": "2021-10-02T14:25:29.605Z"
   },
   {
    "duration": 655,
    "start_time": "2021-10-02T14:25:30.315Z"
   },
   {
    "duration": 4,
    "start_time": "2021-10-02T14:27:45.491Z"
   },
   {
    "duration": 7,
    "start_time": "2021-10-02T14:27:47.780Z"
   },
   {
    "duration": 6,
    "start_time": "2021-10-02T14:27:48.218Z"
   },
   {
    "duration": 7,
    "start_time": "2021-10-02T14:28:25.612Z"
   },
   {
    "duration": 3,
    "start_time": "2021-10-02T14:28:32.931Z"
   },
   {
    "duration": 583,
    "start_time": "2021-10-02T14:29:10.675Z"
   },
   {
    "duration": 336,
    "start_time": "2021-10-02T14:44:15.674Z"
   },
   {
    "duration": 561,
    "start_time": "2021-10-02T14:45:06.365Z"
   },
   {
    "duration": 3,
    "start_time": "2021-10-02T14:45:22.131Z"
   },
   {
    "duration": 5,
    "start_time": "2021-10-02T14:45:43.678Z"
   },
   {
    "duration": 340,
    "start_time": "2021-10-02T14:48:34.253Z"
   },
   {
    "duration": 3,
    "start_time": "2021-10-02T14:49:35.837Z"
   },
   {
    "duration": 36739,
    "start_time": "2021-10-02T14:49:50.589Z"
   },
   {
    "duration": 2,
    "start_time": "2021-10-02T14:58:38.516Z"
   },
   {
    "duration": 886,
    "start_time": "2021-10-02T14:59:29.665Z"
   },
   {
    "duration": 37881,
    "start_time": "2021-10-02T15:00:09.433Z"
   },
   {
    "duration": 4,
    "start_time": "2021-10-02T15:01:19.122Z"
   },
   {
    "duration": 10,
    "start_time": "2021-10-02T15:01:39.201Z"
   },
   {
    "duration": 1276,
    "start_time": "2021-10-02T15:01:45.142Z"
   },
   {
    "duration": 729,
    "start_time": "2021-10-02T15:01:46.421Z"
   },
   {
    "duration": 17,
    "start_time": "2021-10-02T15:01:47.152Z"
   },
   {
    "duration": 25,
    "start_time": "2021-10-02T15:01:47.171Z"
   },
   {
    "duration": 11,
    "start_time": "2021-10-02T15:01:47.198Z"
   },
   {
    "duration": 21,
    "start_time": "2021-10-02T15:01:47.211Z"
   },
   {
    "duration": 7,
    "start_time": "2021-10-02T15:01:47.234Z"
   },
   {
    "duration": 471,
    "start_time": "2021-10-02T15:01:47.243Z"
   },
   {
    "duration": -632,
    "start_time": "2021-10-02T15:01:48.348Z"
   },
   {
    "duration": -639,
    "start_time": "2021-10-02T15:01:48.357Z"
   },
   {
    "duration": -644,
    "start_time": "2021-10-02T15:01:48.362Z"
   },
   {
    "duration": -646,
    "start_time": "2021-10-02T15:01:48.365Z"
   },
   {
    "duration": -647,
    "start_time": "2021-10-02T15:01:48.368Z"
   },
   {
    "duration": -651,
    "start_time": "2021-10-02T15:01:48.373Z"
   },
   {
    "duration": -654,
    "start_time": "2021-10-02T15:01:48.376Z"
   },
   {
    "duration": -656,
    "start_time": "2021-10-02T15:01:48.379Z"
   },
   {
    "duration": -658,
    "start_time": "2021-10-02T15:01:48.383Z"
   },
   {
    "duration": -661,
    "start_time": "2021-10-02T15:01:48.387Z"
   },
   {
    "duration": -664,
    "start_time": "2021-10-02T15:01:48.391Z"
   },
   {
    "duration": -667,
    "start_time": "2021-10-02T15:01:48.395Z"
   },
   {
    "duration": -670,
    "start_time": "2021-10-02T15:01:48.399Z"
   },
   {
    "duration": -678,
    "start_time": "2021-10-02T15:01:48.408Z"
   },
   {
    "duration": -680,
    "start_time": "2021-10-02T15:01:48.411Z"
   },
   {
    "duration": -683,
    "start_time": "2021-10-02T15:01:48.414Z"
   },
   {
    "duration": -685,
    "start_time": "2021-10-02T15:01:48.418Z"
   },
   {
    "duration": -688,
    "start_time": "2021-10-02T15:01:48.422Z"
   },
   {
    "duration": -691,
    "start_time": "2021-10-02T15:01:48.426Z"
   },
   {
    "duration": -693,
    "start_time": "2021-10-02T15:01:48.429Z"
   },
   {
    "duration": -695,
    "start_time": "2021-10-02T15:01:48.432Z"
   },
   {
    "duration": -697,
    "start_time": "2021-10-02T15:01:48.435Z"
   },
   {
    "duration": -699,
    "start_time": "2021-10-02T15:01:48.438Z"
   },
   {
    "duration": -701,
    "start_time": "2021-10-02T15:01:48.441Z"
   },
   {
    "duration": -702,
    "start_time": "2021-10-02T15:01:48.443Z"
   },
   {
    "duration": -704,
    "start_time": "2021-10-02T15:01:48.446Z"
   },
   {
    "duration": -706,
    "start_time": "2021-10-02T15:01:48.449Z"
   },
   {
    "duration": -708,
    "start_time": "2021-10-02T15:01:48.452Z"
   },
   {
    "duration": -710,
    "start_time": "2021-10-02T15:01:48.455Z"
   },
   {
    "duration": -711,
    "start_time": "2021-10-02T15:01:48.457Z"
   },
   {
    "duration": -712,
    "start_time": "2021-10-02T15:01:48.459Z"
   },
   {
    "duration": -713,
    "start_time": "2021-10-02T15:01:48.461Z"
   },
   {
    "duration": -715,
    "start_time": "2021-10-02T15:01:48.464Z"
   },
   {
    "duration": -716,
    "start_time": "2021-10-02T15:01:48.466Z"
   },
   {
    "duration": -717,
    "start_time": "2021-10-02T15:01:48.468Z"
   },
   {
    "duration": -719,
    "start_time": "2021-10-02T15:01:48.471Z"
   },
   {
    "duration": -697,
    "start_time": "2021-10-02T15:01:48.473Z"
   },
   {
    "duration": -699,
    "start_time": "2021-10-02T15:01:48.476Z"
   },
   {
    "duration": -699,
    "start_time": "2021-10-02T15:01:48.478Z"
   },
   {
    "duration": -700,
    "start_time": "2021-10-02T15:01:48.480Z"
   },
   {
    "duration": -703,
    "start_time": "2021-10-02T15:01:48.484Z"
   },
   {
    "duration": -712,
    "start_time": "2021-10-02T15:01:48.494Z"
   },
   {
    "duration": -714,
    "start_time": "2021-10-02T15:01:48.497Z"
   },
   {
    "duration": 4,
    "start_time": "2021-10-02T15:03:12.770Z"
   },
   {
    "duration": 1175,
    "start_time": "2021-10-02T15:03:21.149Z"
   },
   {
    "duration": 721,
    "start_time": "2021-10-02T15:03:22.326Z"
   },
   {
    "duration": 16,
    "start_time": "2021-10-02T15:03:23.049Z"
   },
   {
    "duration": 23,
    "start_time": "2021-10-02T15:03:23.076Z"
   },
   {
    "duration": 11,
    "start_time": "2021-10-02T15:03:23.100Z"
   },
   {
    "duration": 19,
    "start_time": "2021-10-02T15:03:23.112Z"
   },
   {
    "duration": 7,
    "start_time": "2021-10-02T15:03:23.132Z"
   },
   {
    "duration": 43,
    "start_time": "2021-10-02T15:03:23.142Z"
   },
   {
    "duration": 5,
    "start_time": "2021-10-02T15:03:23.187Z"
   },
   {
    "duration": 13,
    "start_time": "2021-10-02T15:03:23.194Z"
   },
   {
    "duration": 8,
    "start_time": "2021-10-02T15:03:23.209Z"
   },
   {
    "duration": 7,
    "start_time": "2021-10-02T15:03:23.219Z"
   },
   {
    "duration": 14,
    "start_time": "2021-10-02T15:03:23.227Z"
   },
   {
    "duration": 37,
    "start_time": "2021-10-02T15:03:23.243Z"
   },
   {
    "duration": 213,
    "start_time": "2021-10-02T15:03:23.282Z"
   },
   {
    "duration": 211,
    "start_time": "2021-10-02T15:03:23.497Z"
   },
   {
    "duration": 193,
    "start_time": "2021-10-02T15:03:23.710Z"
   },
   {
    "duration": 24,
    "start_time": "2021-10-02T15:03:23.905Z"
   },
   {
    "duration": 11,
    "start_time": "2021-10-02T15:03:23.930Z"
   },
   {
    "duration": 9,
    "start_time": "2021-10-02T15:03:23.943Z"
   },
   {
    "duration": 29,
    "start_time": "2021-10-02T15:03:23.953Z"
   },
   {
    "duration": 2176,
    "start_time": "2021-10-02T15:03:23.984Z"
   },
   {
    "duration": 2221,
    "start_time": "2021-10-02T15:03:26.164Z"
   },
   {
    "duration": 2327,
    "start_time": "2021-10-02T15:03:28.387Z"
   },
   {
    "duration": 678,
    "start_time": "2021-10-02T15:03:30.716Z"
   },
   {
    "duration": 3,
    "start_time": "2021-10-02T15:03:31.396Z"
   },
   {
    "duration": 21,
    "start_time": "2021-10-02T15:03:31.401Z"
   },
   {
    "duration": 10,
    "start_time": "2021-10-02T15:03:31.423Z"
   },
   {
    "duration": 21,
    "start_time": "2021-10-02T15:03:31.434Z"
   },
   {
    "duration": 10,
    "start_time": "2021-10-02T15:03:31.457Z"
   },
   {
    "duration": 6,
    "start_time": "2021-10-02T15:03:31.469Z"
   },
   {
    "duration": 31,
    "start_time": "2021-10-02T15:03:31.477Z"
   },
   {
    "duration": 35,
    "start_time": "2021-10-02T15:03:31.510Z"
   },
   {
    "duration": 2,
    "start_time": "2021-10-02T15:03:31.547Z"
   },
   {
    "duration": 20,
    "start_time": "2021-10-02T15:03:31.551Z"
   },
   {
    "duration": 18,
    "start_time": "2021-10-02T15:03:31.573Z"
   },
   {
    "duration": 8,
    "start_time": "2021-10-02T15:03:31.593Z"
   },
   {
    "duration": 36874,
    "start_time": "2021-10-02T15:03:31.603Z"
   },
   {
    "duration": 205,
    "start_time": "2021-10-02T15:04:08.478Z"
   },
   {
    "duration": 98,
    "start_time": "2021-10-02T15:04:08.685Z"
   },
   {
    "duration": 13,
    "start_time": "2021-10-02T15:04:08.786Z"
   },
   {
    "duration": 10,
    "start_time": "2021-10-02T15:04:08.801Z"
   },
   {
    "duration": 792,
    "start_time": "2021-10-02T15:04:08.813Z"
   },
   {
    "duration": -629,
    "start_time": "2021-10-02T15:04:10.236Z"
   },
   {
    "duration": -631,
    "start_time": "2021-10-02T15:04:10.239Z"
   },
   {
    "duration": -632,
    "start_time": "2021-10-02T15:04:10.241Z"
   },
   {
    "duration": -634,
    "start_time": "2021-10-02T15:04:10.244Z"
   },
   {
    "duration": -635,
    "start_time": "2021-10-02T15:04:10.246Z"
   },
   {
    "duration": -638,
    "start_time": "2021-10-02T15:04:10.249Z"
   },
   {
    "duration": -639,
    "start_time": "2021-10-02T15:04:10.251Z"
   },
   {
    "duration": -641,
    "start_time": "2021-10-02T15:04:10.254Z"
   },
   {
    "duration": 38178,
    "start_time": "2021-10-02T15:04:43.481Z"
   },
   {
    "duration": 3,
    "start_time": "2021-10-02T15:06:49.123Z"
   },
   {
    "duration": 6,
    "start_time": "2021-10-02T15:06:50.489Z"
   },
   {
    "duration": 2,
    "start_time": "2021-10-02T15:06:58.249Z"
   },
   {
    "duration": 38426,
    "start_time": "2021-10-02T15:07:03.448Z"
   },
   {
    "duration": 3,
    "start_time": "2021-10-02T15:07:56.408Z"
   },
   {
    "duration": 5,
    "start_time": "2021-10-02T15:07:57.640Z"
   },
   {
    "duration": 2,
    "start_time": "2021-10-02T15:07:58.824Z"
   },
   {
    "duration": 36163,
    "start_time": "2021-10-02T15:08:00.218Z"
   },
   {
    "duration": 10,
    "start_time": "2021-10-02T15:13:22.742Z"
   },
   {
    "duration": 3,
    "start_time": "2021-10-02T15:13:24.567Z"
   },
   {
    "duration": 5,
    "start_time": "2021-10-02T15:13:25.670Z"
   },
   {
    "duration": 2,
    "start_time": "2021-10-02T15:13:26.983Z"
   },
   {
    "duration": 36041,
    "start_time": "2021-10-02T15:13:28.054Z"
   },
   {
    "duration": 100,
    "start_time": "2021-10-02T15:21:39.884Z"
   },
   {
    "duration": 9,
    "start_time": "2021-10-02T15:21:41.638Z"
   },
   {
    "duration": 9,
    "start_time": "2021-10-02T15:21:42.236Z"
   },
   {
    "duration": 8,
    "start_time": "2021-10-02T15:21:54.228Z"
   },
   {
    "duration": 7,
    "start_time": "2021-10-02T15:22:01.597Z"
   },
   {
    "duration": 8,
    "start_time": "2021-10-02T15:22:03.900Z"
   },
   {
    "duration": 670,
    "start_time": "2021-10-02T15:22:05.228Z"
   },
   {
    "duration": 4,
    "start_time": "2021-10-02T15:22:33.588Z"
   },
   {
    "duration": 8,
    "start_time": "2021-10-02T15:23:15.596Z"
   },
   {
    "duration": 565,
    "start_time": "2021-10-02T15:23:16.244Z"
   },
   {
    "duration": 1347,
    "start_time": "2021-10-02T15:26:50.361Z"
   },
   {
    "duration": 8,
    "start_time": "2021-10-02T15:26:52.323Z"
   },
   {
    "duration": 7,
    "start_time": "2021-10-02T15:26:53.603Z"
   },
   {
    "duration": 11,
    "start_time": "2021-10-02T15:26:56.108Z"
   },
   {
    "duration": 8,
    "start_time": "2021-10-02T15:27:00.523Z"
   },
   {
    "duration": 371,
    "start_time": "2021-10-02T15:27:01.721Z"
   },
   {
    "duration": 9,
    "start_time": "2021-10-02T15:27:19.722Z"
   },
   {
    "duration": 9,
    "start_time": "2021-10-02T15:27:25.762Z"
   },
   {
    "duration": 3,
    "start_time": "2021-10-02T15:27:28.634Z"
   },
   {
    "duration": 7,
    "start_time": "2021-10-02T15:27:37.473Z"
   },
   {
    "duration": 1313,
    "start_time": "2021-10-02T15:27:55.177Z"
   },
   {
    "duration": 6,
    "start_time": "2021-10-02T15:27:56.492Z"
   },
   {
    "duration": 7,
    "start_time": "2021-10-02T15:27:58.786Z"
   },
   {
    "duration": 8,
    "start_time": "2021-10-02T15:28:00.162Z"
   },
   {
    "duration": 57,
    "start_time": "2021-10-02T15:28:27.722Z"
   },
   {
    "duration": 7,
    "start_time": "2021-10-02T15:28:28.458Z"
   },
   {
    "duration": 7,
    "start_time": "2021-10-02T15:28:29.017Z"
   },
   {
    "duration": 8,
    "start_time": "2021-10-02T15:28:29.666Z"
   },
   {
    "duration": 1330,
    "start_time": "2021-10-02T15:28:58.817Z"
   },
   {
    "duration": 7,
    "start_time": "2021-10-02T15:29:00.149Z"
   },
   {
    "duration": 8,
    "start_time": "2021-10-02T15:29:07.026Z"
   },
   {
    "duration": 7,
    "start_time": "2021-10-02T15:29:09.954Z"
   },
   {
    "duration": 1237,
    "start_time": "2021-10-02T15:29:27.190Z"
   },
   {
    "duration": 769,
    "start_time": "2021-10-02T15:29:28.429Z"
   },
   {
    "duration": 17,
    "start_time": "2021-10-02T15:29:29.200Z"
   },
   {
    "duration": 23,
    "start_time": "2021-10-02T15:29:29.218Z"
   },
   {
    "duration": 35,
    "start_time": "2021-10-02T15:29:29.242Z"
   },
   {
    "duration": 18,
    "start_time": "2021-10-02T15:29:29.279Z"
   },
   {
    "duration": 8,
    "start_time": "2021-10-02T15:29:29.299Z"
   },
   {
    "duration": 12,
    "start_time": "2021-10-02T15:29:29.310Z"
   },
   {
    "duration": 5,
    "start_time": "2021-10-02T15:29:29.324Z"
   },
   {
    "duration": 17,
    "start_time": "2021-10-02T15:29:29.331Z"
   },
   {
    "duration": 10,
    "start_time": "2021-10-02T15:29:29.377Z"
   },
   {
    "duration": 7,
    "start_time": "2021-10-02T15:29:29.389Z"
   },
   {
    "duration": 16,
    "start_time": "2021-10-02T15:29:29.397Z"
   },
   {
    "duration": 5,
    "start_time": "2021-10-02T15:29:29.415Z"
   },
   {
    "duration": 237,
    "start_time": "2021-10-02T15:29:29.422Z"
   },
   {
    "duration": 208,
    "start_time": "2021-10-02T15:29:29.661Z"
   },
   {
    "duration": 193,
    "start_time": "2021-10-02T15:29:29.872Z"
   },
   {
    "duration": 27,
    "start_time": "2021-10-02T15:29:30.067Z"
   },
   {
    "duration": 11,
    "start_time": "2021-10-02T15:29:30.095Z"
   },
   {
    "duration": 9,
    "start_time": "2021-10-02T15:29:30.108Z"
   },
   {
    "duration": 6,
    "start_time": "2021-10-02T15:29:30.119Z"
   },
   {
    "duration": 2206,
    "start_time": "2021-10-02T15:29:30.127Z"
   },
   {
    "duration": 2325,
    "start_time": "2021-10-02T15:29:32.338Z"
   },
   {
    "duration": 2343,
    "start_time": "2021-10-02T15:29:34.665Z"
   },
   {
    "duration": 689,
    "start_time": "2021-10-02T15:29:37.009Z"
   },
   {
    "duration": 3,
    "start_time": "2021-10-02T15:29:37.700Z"
   },
   {
    "duration": 11,
    "start_time": "2021-10-02T15:29:37.704Z"
   },
   {
    "duration": 8,
    "start_time": "2021-10-02T15:29:37.717Z"
   },
   {
    "duration": 15,
    "start_time": "2021-10-02T15:29:37.727Z"
   },
   {
    "duration": 10,
    "start_time": "2021-10-02T15:29:37.744Z"
   },
   {
    "duration": 8,
    "start_time": "2021-10-02T15:29:37.755Z"
   },
   {
    "duration": 27,
    "start_time": "2021-10-02T15:29:37.765Z"
   },
   {
    "duration": 38,
    "start_time": "2021-10-02T15:29:37.794Z"
   },
   {
    "duration": 9,
    "start_time": "2021-10-02T15:29:37.834Z"
   },
   {
    "duration": 2,
    "start_time": "2021-10-02T15:29:37.845Z"
   },
   {
    "duration": 30,
    "start_time": "2021-10-02T15:29:37.849Z"
   },
   {
    "duration": 2,
    "start_time": "2021-10-02T15:29:37.881Z"
   },
   {
    "duration": 437,
    "start_time": "2021-10-02T15:29:37.885Z"
   },
   {
    "duration": -659,
    "start_time": "2021-10-02T15:29:38.983Z"
   },
   {
    "duration": -663,
    "start_time": "2021-10-02T15:29:38.988Z"
   },
   {
    "duration": -669,
    "start_time": "2021-10-02T15:29:38.994Z"
   },
   {
    "duration": -673,
    "start_time": "2021-10-02T15:29:38.999Z"
   },
   {
    "duration": -675,
    "start_time": "2021-10-02T15:29:39.002Z"
   },
   {
    "duration": -677,
    "start_time": "2021-10-02T15:29:39.005Z"
   },
   {
    "duration": -678,
    "start_time": "2021-10-02T15:29:39.007Z"
   },
   {
    "duration": -680,
    "start_time": "2021-10-02T15:29:39.010Z"
   },
   {
    "duration": -682,
    "start_time": "2021-10-02T15:29:39.013Z"
   },
   {
    "duration": -684,
    "start_time": "2021-10-02T15:29:39.016Z"
   },
   {
    "duration": -687,
    "start_time": "2021-10-02T15:29:39.020Z"
   },
   {
    "duration": -690,
    "start_time": "2021-10-02T15:29:39.024Z"
   },
   {
    "duration": -691,
    "start_time": "2021-10-02T15:29:39.026Z"
   },
   {
    "duration": 492,
    "start_time": "2021-10-02T15:29:57.934Z"
   },
   {
    "duration": 36928,
    "start_time": "2021-10-02T15:30:17.303Z"
   },
   {
    "duration": 1354,
    "start_time": "2021-10-02T15:31:11.070Z"
   },
   {
    "duration": 7,
    "start_time": "2021-10-02T15:31:12.426Z"
   },
   {
    "duration": 8,
    "start_time": "2021-10-02T15:31:14.341Z"
   },
   {
    "duration": 11,
    "start_time": "2021-10-02T15:31:16.053Z"
   },
   {
    "duration": 166,
    "start_time": "2021-10-02T15:31:31.414Z"
   },
   {
    "duration": 7,
    "start_time": "2021-10-02T15:31:32.518Z"
   },
   {
    "duration": 10,
    "start_time": "2021-10-02T15:31:33.181Z"
   },
   {
    "duration": 11,
    "start_time": "2021-10-02T15:31:33.974Z"
   },
   {
    "duration": 9519,
    "start_time": "2021-10-02T15:32:24.285Z"
   },
   {
    "duration": 8,
    "start_time": "2021-10-02T15:32:45.077Z"
   },
   {
    "duration": 4,
    "start_time": "2021-10-02T15:33:31.501Z"
   },
   {
    "duration": 10,
    "start_time": "2021-10-02T15:33:43.165Z"
   },
   {
    "duration": 4,
    "start_time": "2021-10-02T15:34:22.524Z"
   },
   {
    "duration": 5,
    "start_time": "2021-10-02T15:34:56.788Z"
   },
   {
    "duration": 6,
    "start_time": "2021-10-02T15:34:58.412Z"
   },
   {
    "duration": 12,
    "start_time": "2021-10-02T15:35:16.411Z"
   },
   {
    "duration": 1374,
    "start_time": "2021-10-02T15:36:13.044Z"
   },
   {
    "duration": 7,
    "start_time": "2021-10-02T15:36:14.420Z"
   },
   {
    "duration": 9,
    "start_time": "2021-10-02T15:36:16.972Z"
   },
   {
    "duration": 13,
    "start_time": "2021-10-02T15:36:17.940Z"
   },
   {
    "duration": 7081,
    "start_time": "2021-10-02T15:39:57.747Z"
   },
   {
    "duration": 4,
    "start_time": "2021-10-02T15:42:36.723Z"
   },
   {
    "duration": 6,
    "start_time": "2021-10-02T15:43:21.530Z"
   },
   {
    "duration": 7,
    "start_time": "2021-10-02T15:44:36.506Z"
   },
   {
    "duration": 8,
    "start_time": "2021-10-02T15:44:38.369Z"
   },
   {
    "duration": 1290,
    "start_time": "2021-10-02T15:44:41.114Z"
   },
   {
    "duration": 752,
    "start_time": "2021-10-02T15:45:15.601Z"
   },
   {
    "duration": 10,
    "start_time": "2021-10-02T15:45:49.490Z"
   },
   {
    "duration": 12,
    "start_time": "2021-10-02T15:46:02.441Z"
   },
   {
    "duration": 9,
    "start_time": "2021-10-02T15:46:08.513Z"
   },
   {
    "duration": 10,
    "start_time": "2021-10-02T15:46:32.106Z"
   },
   {
    "duration": 10,
    "start_time": "2021-10-02T15:46:35.320Z"
   },
   {
    "duration": 1226,
    "start_time": "2021-10-02T15:47:19.192Z"
   },
   {
    "duration": 861,
    "start_time": "2021-10-02T15:47:20.419Z"
   },
   {
    "duration": 27,
    "start_time": "2021-10-02T15:47:21.282Z"
   },
   {
    "duration": 38,
    "start_time": "2021-10-02T15:47:21.312Z"
   },
   {
    "duration": 38,
    "start_time": "2021-10-02T15:47:21.353Z"
   },
   {
    "duration": 22,
    "start_time": "2021-10-02T15:47:21.393Z"
   },
   {
    "duration": 8,
    "start_time": "2021-10-02T15:47:21.417Z"
   },
   {
    "duration": 23,
    "start_time": "2021-10-02T15:47:21.428Z"
   },
   {
    "duration": 24,
    "start_time": "2021-10-02T15:47:21.454Z"
   },
   {
    "duration": 22,
    "start_time": "2021-10-02T15:47:21.480Z"
   },
   {
    "duration": 12,
    "start_time": "2021-10-02T15:47:21.504Z"
   },
   {
    "duration": 21,
    "start_time": "2021-10-02T15:47:21.517Z"
   },
   {
    "duration": 37,
    "start_time": "2021-10-02T15:47:21.540Z"
   },
   {
    "duration": 7,
    "start_time": "2021-10-02T15:47:21.579Z"
   },
   {
    "duration": 226,
    "start_time": "2021-10-02T15:47:21.588Z"
   },
   {
    "duration": 216,
    "start_time": "2021-10-02T15:47:21.816Z"
   },
   {
    "duration": 202,
    "start_time": "2021-10-02T15:47:22.035Z"
   },
   {
    "duration": 37,
    "start_time": "2021-10-02T15:47:22.239Z"
   },
   {
    "duration": 12,
    "start_time": "2021-10-02T15:47:22.279Z"
   },
   {
    "duration": 17,
    "start_time": "2021-10-02T15:47:22.294Z"
   },
   {
    "duration": 8,
    "start_time": "2021-10-02T15:47:22.313Z"
   },
   {
    "duration": 2264,
    "start_time": "2021-10-02T15:47:22.323Z"
   },
   {
    "duration": 2364,
    "start_time": "2021-10-02T15:47:24.591Z"
   },
   {
    "duration": 4615,
    "start_time": "2021-10-02T15:47:26.974Z"
   },
   {
    "duration": 1162,
    "start_time": "2021-10-02T15:47:31.592Z"
   },
   {
    "duration": 5,
    "start_time": "2021-10-02T15:47:32.756Z"
   },
   {
    "duration": 15,
    "start_time": "2021-10-02T15:47:32.763Z"
   },
   {
    "duration": 6,
    "start_time": "2021-10-02T15:47:32.780Z"
   },
   {
    "duration": 13,
    "start_time": "2021-10-02T15:47:32.788Z"
   },
   {
    "duration": 13,
    "start_time": "2021-10-02T15:47:32.803Z"
   },
   {
    "duration": 3,
    "start_time": "2021-10-02T15:47:32.819Z"
   },
   {
    "duration": 55,
    "start_time": "2021-10-02T15:47:32.824Z"
   },
   {
    "duration": 38,
    "start_time": "2021-10-02T15:47:32.881Z"
   },
   {
    "duration": 9,
    "start_time": "2021-10-02T15:47:32.921Z"
   },
   {
    "duration": 3,
    "start_time": "2021-10-02T15:47:32.932Z"
   },
   {
    "duration": 11,
    "start_time": "2021-10-02T15:47:32.937Z"
   },
   {
    "duration": 3,
    "start_time": "2021-10-02T15:47:32.950Z"
   },
   {
    "duration": 37108,
    "start_time": "2021-10-02T15:47:32.977Z"
   },
   {
    "duration": 1356,
    "start_time": "2021-10-02T15:48:10.087Z"
   },
   {
    "duration": 7,
    "start_time": "2021-10-02T15:48:11.445Z"
   },
   {
    "duration": 22,
    "start_time": "2021-10-02T15:48:11.454Z"
   },
   {
    "duration": 5,
    "start_time": "2021-10-02T15:48:11.478Z"
   },
   {
    "duration": 21,
    "start_time": "2021-10-02T15:48:11.485Z"
   },
   {
    "duration": 437,
    "start_time": "2021-10-02T15:48:11.508Z"
   },
   {
    "duration": -639,
    "start_time": "2021-10-02T15:48:12.586Z"
   },
   {
    "duration": -647,
    "start_time": "2021-10-02T15:48:12.595Z"
   },
   {
    "duration": -649,
    "start_time": "2021-10-02T15:48:12.598Z"
   },
   {
    "duration": -651,
    "start_time": "2021-10-02T15:48:12.601Z"
   },
   {
    "duration": -652,
    "start_time": "2021-10-02T15:48:12.603Z"
   },
   {
    "duration": -654,
    "start_time": "2021-10-02T15:48:12.606Z"
   },
   {
    "duration": -657,
    "start_time": "2021-10-02T15:48:12.610Z"
   },
   {
    "duration": -659,
    "start_time": "2021-10-02T15:48:12.613Z"
   },
   {
    "duration": 10,
    "start_time": "2021-10-02T17:00:02.875Z"
   },
   {
    "duration": 10,
    "start_time": "2021-10-02T17:00:11.884Z"
   },
   {
    "duration": 8563,
    "start_time": "2021-10-02T17:02:25.625Z"
   },
   {
    "duration": 6,
    "start_time": "2021-10-02T17:02:53.561Z"
   },
   {
    "duration": 10,
    "start_time": "2021-10-02T17:03:27.776Z"
   },
   {
    "duration": 13,
    "start_time": "2021-10-02T17:05:41.578Z"
   },
   {
    "duration": 16,
    "start_time": "2021-10-02T17:06:41.559Z"
   },
   {
    "duration": 1200,
    "start_time": "2021-10-02T17:42:11.218Z"
   },
   {
    "duration": 746,
    "start_time": "2021-10-02T17:42:12.420Z"
   },
   {
    "duration": 22,
    "start_time": "2021-10-02T17:42:13.168Z"
   },
   {
    "duration": 24,
    "start_time": "2021-10-02T17:42:13.193Z"
   },
   {
    "duration": 11,
    "start_time": "2021-10-02T17:42:13.219Z"
   },
   {
    "duration": 52,
    "start_time": "2021-10-02T17:42:13.232Z"
   },
   {
    "duration": 7,
    "start_time": "2021-10-02T17:42:13.286Z"
   },
   {
    "duration": 11,
    "start_time": "2021-10-02T17:42:13.296Z"
   },
   {
    "duration": 5,
    "start_time": "2021-10-02T17:42:13.309Z"
   },
   {
    "duration": 14,
    "start_time": "2021-10-02T17:42:13.316Z"
   },
   {
    "duration": 9,
    "start_time": "2021-10-02T17:42:13.332Z"
   },
   {
    "duration": 40,
    "start_time": "2021-10-02T17:42:13.343Z"
   },
   {
    "duration": 17,
    "start_time": "2021-10-02T17:42:13.385Z"
   },
   {
    "duration": 6,
    "start_time": "2021-10-02T17:42:13.404Z"
   },
   {
    "duration": 232,
    "start_time": "2021-10-02T17:42:13.412Z"
   },
   {
    "duration": 207,
    "start_time": "2021-10-02T17:42:13.646Z"
   },
   {
    "duration": 218,
    "start_time": "2021-10-02T17:42:13.855Z"
   },
   {
    "duration": 25,
    "start_time": "2021-10-02T17:42:14.075Z"
   },
   {
    "duration": 11,
    "start_time": "2021-10-02T17:42:14.102Z"
   },
   {
    "duration": 11,
    "start_time": "2021-10-02T17:42:14.115Z"
   },
   {
    "duration": 7,
    "start_time": "2021-10-02T17:42:14.127Z"
   },
   {
    "duration": 2205,
    "start_time": "2021-10-02T17:42:14.135Z"
   },
   {
    "duration": 2475,
    "start_time": "2021-10-02T17:42:16.344Z"
   },
   {
    "duration": 2361,
    "start_time": "2021-10-02T17:42:18.821Z"
   },
   {
    "duration": 1119,
    "start_time": "2021-10-02T17:42:21.184Z"
   },
   {
    "duration": 4,
    "start_time": "2021-10-02T17:42:22.305Z"
   },
   {
    "duration": 6,
    "start_time": "2021-10-02T17:42:22.311Z"
   },
   {
    "duration": 7,
    "start_time": "2021-10-02T17:42:22.319Z"
   },
   {
    "duration": 19,
    "start_time": "2021-10-02T17:42:22.328Z"
   },
   {
    "duration": 29,
    "start_time": "2021-10-02T17:42:22.349Z"
   },
   {
    "duration": 2,
    "start_time": "2021-10-02T17:42:22.380Z"
   },
   {
    "duration": 32,
    "start_time": "2021-10-02T17:42:22.383Z"
   },
   {
    "duration": 36,
    "start_time": "2021-10-02T17:42:22.417Z"
   },
   {
    "duration": 9,
    "start_time": "2021-10-02T17:42:22.455Z"
   },
   {
    "duration": 3,
    "start_time": "2021-10-02T17:42:22.477Z"
   },
   {
    "duration": 12,
    "start_time": "2021-10-02T17:42:22.482Z"
   },
   {
    "duration": 6,
    "start_time": "2021-10-02T17:42:22.495Z"
   },
   {
    "duration": 39076,
    "start_time": "2021-10-02T17:42:22.503Z"
   },
   {
    "duration": 2020,
    "start_time": "2021-10-02T17:43:01.582Z"
   },
   {
    "duration": 7,
    "start_time": "2021-10-02T17:43:03.603Z"
   },
   {
    "duration": 12,
    "start_time": "2021-10-02T17:43:03.612Z"
   },
   {
    "duration": 20,
    "start_time": "2021-10-02T17:43:03.626Z"
   },
   {
    "duration": 6,
    "start_time": "2021-10-02T17:43:03.648Z"
   },
   {
    "duration": 500,
    "start_time": "2021-10-02T17:43:03.656Z"
   },
   {
    "duration": -607,
    "start_time": "2021-10-02T17:43:04.764Z"
   },
   {
    "duration": -611,
    "start_time": "2021-10-02T17:43:04.769Z"
   },
   {
    "duration": -612,
    "start_time": "2021-10-02T17:43:04.771Z"
   },
   {
    "duration": -614,
    "start_time": "2021-10-02T17:43:04.774Z"
   },
   {
    "duration": -615,
    "start_time": "2021-10-02T17:43:04.776Z"
   },
   {
    "duration": -617,
    "start_time": "2021-10-02T17:43:04.779Z"
   },
   {
    "duration": -620,
    "start_time": "2021-10-02T17:43:04.782Z"
   },
   {
    "duration": -622,
    "start_time": "2021-10-02T17:43:04.785Z"
   },
   {
    "duration": 11,
    "start_time": "2021-10-02T17:44:22.522Z"
   },
   {
    "duration": 337,
    "start_time": "2021-10-02T17:44:46.241Z"
   },
   {
    "duration": 12,
    "start_time": "2021-10-02T17:45:00.281Z"
   },
   {
    "duration": 11,
    "start_time": "2021-10-02T17:45:14.561Z"
   },
   {
    "duration": 11,
    "start_time": "2021-10-02T17:47:22.400Z"
   },
   {
    "duration": 12,
    "start_time": "2021-10-02T17:47:33.248Z"
   },
   {
    "duration": 18,
    "start_time": "2021-10-02T17:47:44.945Z"
   },
   {
    "duration": 4,
    "start_time": "2021-10-02T17:49:38.817Z"
   },
   {
    "duration": 727,
    "start_time": "2021-10-02T17:50:11.446Z"
   },
   {
    "duration": 4,
    "start_time": "2021-10-02T17:50:40.262Z"
   },
   {
    "duration": 5,
    "start_time": "2021-10-02T17:50:42.974Z"
   },
   {
    "duration": 3,
    "start_time": "2021-10-02T17:50:54.343Z"
   },
   {
    "duration": 714,
    "start_time": "2021-10-02T17:50:57.959Z"
   },
   {
    "duration": 4,
    "start_time": "2021-10-02T17:52:03.655Z"
   },
   {
    "duration": 6,
    "start_time": "2021-10-02T17:52:08.791Z"
   },
   {
    "duration": 125,
    "start_time": "2021-10-02T17:53:29.735Z"
   },
   {
    "duration": 4,
    "start_time": "2021-10-02T17:53:34.678Z"
   },
   {
    "duration": 6,
    "start_time": "2021-10-02T17:53:37.118Z"
   },
   {
    "duration": 4,
    "start_time": "2021-10-02T17:53:40.949Z"
   },
   {
    "duration": 7,
    "start_time": "2021-10-02T17:53:48.206Z"
   },
   {
    "duration": 7,
    "start_time": "2021-10-02T17:53:53.686Z"
   },
   {
    "duration": 7,
    "start_time": "2021-10-02T17:54:06.822Z"
   },
   {
    "duration": 8,
    "start_time": "2021-10-02T17:54:07.421Z"
   },
   {
    "duration": 11,
    "start_time": "2021-10-02T17:54:53.358Z"
   },
   {
    "duration": 362,
    "start_time": "2021-10-02T17:57:03.280Z"
   },
   {
    "duration": 16,
    "start_time": "2021-10-02T17:57:09.533Z"
   },
   {
    "duration": 118,
    "start_time": "2021-10-02T18:08:53.009Z"
   },
   {
    "duration": 111,
    "start_time": "2021-10-02T18:09:27.041Z"
   },
   {
    "duration": 105,
    "start_time": "2021-10-02T18:09:35.129Z"
   },
   {
    "duration": 4,
    "start_time": "2021-10-02T18:09:59.065Z"
   },
   {
    "duration": 7,
    "start_time": "2021-10-02T18:10:05.072Z"
   },
   {
    "duration": 7,
    "start_time": "2021-10-02T18:10:09.345Z"
   },
   {
    "duration": 6,
    "start_time": "2021-10-02T18:10:15.985Z"
   },
   {
    "duration": 4,
    "start_time": "2021-10-02T18:10:32.297Z"
   },
   {
    "duration": 6,
    "start_time": "2021-10-02T18:10:34.145Z"
   },
   {
    "duration": 4,
    "start_time": "2021-10-02T18:11:26.416Z"
   },
   {
    "duration": 8,
    "start_time": "2021-10-02T18:11:29.376Z"
   },
   {
    "duration": 4,
    "start_time": "2021-10-02T18:12:23.184Z"
   },
   {
    "duration": 8,
    "start_time": "2021-10-02T18:12:25.176Z"
   },
   {
    "duration": 4,
    "start_time": "2021-10-02T18:13:04.336Z"
   },
   {
    "duration": 9,
    "start_time": "2021-10-02T18:13:07.456Z"
   },
   {
    "duration": 4,
    "start_time": "2021-10-02T18:13:39.368Z"
   },
   {
    "duration": 3,
    "start_time": "2021-10-02T18:13:40.266Z"
   },
   {
    "duration": 9,
    "start_time": "2021-10-02T18:13:43.400Z"
   },
   {
    "duration": 4,
    "start_time": "2021-10-02T18:14:15.384Z"
   },
   {
    "duration": 8,
    "start_time": "2021-10-02T18:14:17.368Z"
   },
   {
    "duration": 3,
    "start_time": "2021-10-02T18:15:35.040Z"
   },
   {
    "duration": 683,
    "start_time": "2021-10-02T18:15:37.255Z"
   },
   {
    "duration": 4,
    "start_time": "2021-10-02T18:16:02.918Z"
   },
   {
    "duration": 960,
    "start_time": "2021-10-02T18:16:04.936Z"
   },
   {
    "duration": 5,
    "start_time": "2021-10-02T18:17:58.806Z"
   },
   {
    "duration": 705,
    "start_time": "2021-10-02T18:18:02.295Z"
   },
   {
    "duration": 4,
    "start_time": "2021-10-02T18:18:09.167Z"
   },
   {
    "duration": 7,
    "start_time": "2021-10-02T18:18:11.111Z"
   },
   {
    "duration": 13,
    "start_time": "2021-10-02T18:18:14.430Z"
   },
   {
    "duration": 15,
    "start_time": "2021-10-02T18:18:28.422Z"
   },
   {
    "duration": 13,
    "start_time": "2021-10-02T18:18:52.310Z"
   },
   {
    "duration": 15728,
    "start_time": "2021-10-02T18:19:16.509Z"
   },
   {
    "duration": 3,
    "start_time": "2021-10-02T18:19:42.965Z"
   },
   {
    "duration": 14619,
    "start_time": "2021-10-02T18:19:46.367Z"
   },
   {
    "duration": 1173,
    "start_time": "2021-10-02T18:20:29.254Z"
   },
   {
    "duration": 768,
    "start_time": "2021-10-02T18:20:30.429Z"
   },
   {
    "duration": 15,
    "start_time": "2021-10-02T18:20:31.200Z"
   },
   {
    "duration": 22,
    "start_time": "2021-10-02T18:20:31.217Z"
   },
   {
    "duration": 11,
    "start_time": "2021-10-02T18:20:31.241Z"
   },
   {
    "duration": 19,
    "start_time": "2021-10-02T18:20:31.277Z"
   },
   {
    "duration": 14,
    "start_time": "2021-10-02T18:20:31.299Z"
   },
   {
    "duration": 11,
    "start_time": "2021-10-02T18:20:31.316Z"
   },
   {
    "duration": 6,
    "start_time": "2021-10-02T18:20:31.329Z"
   },
   {
    "duration": 42,
    "start_time": "2021-10-02T18:20:31.336Z"
   },
   {
    "duration": 9,
    "start_time": "2021-10-02T18:20:31.380Z"
   },
   {
    "duration": 13,
    "start_time": "2021-10-02T18:20:31.391Z"
   },
   {
    "duration": 19,
    "start_time": "2021-10-02T18:20:31.407Z"
   },
   {
    "duration": 13,
    "start_time": "2021-10-02T18:20:31.428Z"
   },
   {
    "duration": 222,
    "start_time": "2021-10-02T18:20:31.443Z"
   },
   {
    "duration": 211,
    "start_time": "2021-10-02T18:20:31.667Z"
   },
   {
    "duration": 190,
    "start_time": "2021-10-02T18:20:31.880Z"
   },
   {
    "duration": 25,
    "start_time": "2021-10-02T18:20:32.072Z"
   },
   {
    "duration": 13,
    "start_time": "2021-10-02T18:20:32.098Z"
   },
   {
    "duration": 11,
    "start_time": "2021-10-02T18:20:32.113Z"
   },
   {
    "duration": 7,
    "start_time": "2021-10-02T18:20:32.125Z"
   },
   {
    "duration": 2327,
    "start_time": "2021-10-02T18:20:32.134Z"
   },
   {
    "duration": 2422,
    "start_time": "2021-10-02T18:20:34.464Z"
   },
   {
    "duration": 2735,
    "start_time": "2021-10-02T18:20:36.888Z"
   },
   {
    "duration": 688,
    "start_time": "2021-10-02T18:20:39.626Z"
   },
   {
    "duration": 3,
    "start_time": "2021-10-02T18:20:40.317Z"
   },
   {
    "duration": 7,
    "start_time": "2021-10-02T18:20:40.322Z"
   },
   {
    "duration": 5,
    "start_time": "2021-10-02T18:20:40.331Z"
   },
   {
    "duration": 10,
    "start_time": "2021-10-02T18:20:40.338Z"
   },
   {
    "duration": 37,
    "start_time": "2021-10-02T18:20:40.350Z"
   },
   {
    "duration": 6,
    "start_time": "2021-10-02T18:20:40.389Z"
   },
   {
    "duration": 25,
    "start_time": "2021-10-02T18:20:40.397Z"
   },
   {
    "duration": 52,
    "start_time": "2021-10-02T18:20:40.424Z"
   },
   {
    "duration": 9,
    "start_time": "2021-10-02T18:20:40.478Z"
   },
   {
    "duration": 4,
    "start_time": "2021-10-02T18:20:40.489Z"
   },
   {
    "duration": 8,
    "start_time": "2021-10-02T18:20:40.494Z"
   },
   {
    "duration": 3,
    "start_time": "2021-10-02T18:20:40.504Z"
   },
   {
    "duration": 39479,
    "start_time": "2021-10-02T18:20:40.509Z"
   },
   {
    "duration": 1434,
    "start_time": "2021-10-02T18:21:19.990Z"
   },
   {
    "duration": 15,
    "start_time": "2021-10-02T18:21:21.425Z"
   },
   {
    "duration": 6,
    "start_time": "2021-10-02T18:21:21.442Z"
   },
   {
    "duration": 38,
    "start_time": "2021-10-02T18:21:21.450Z"
   },
   {
    "duration": 14,
    "start_time": "2021-10-02T18:21:21.489Z"
   },
   {
    "duration": 12,
    "start_time": "2021-10-02T18:21:21.505Z"
   },
   {
    "duration": 430,
    "start_time": "2021-10-02T18:21:21.518Z"
   },
   {
    "duration": -600,
    "start_time": "2021-10-02T18:21:22.549Z"
   },
   {
    "duration": -610,
    "start_time": "2021-10-02T18:21:22.560Z"
   },
   {
    "duration": -612,
    "start_time": "2021-10-02T18:21:22.563Z"
   },
   {
    "duration": -614,
    "start_time": "2021-10-02T18:21:22.566Z"
   },
   {
    "duration": -616,
    "start_time": "2021-10-02T18:21:22.569Z"
   },
   {
    "duration": -618,
    "start_time": "2021-10-02T18:21:22.572Z"
   },
   {
    "duration": -619,
    "start_time": "2021-10-02T18:21:22.574Z"
   },
   {
    "duration": -621,
    "start_time": "2021-10-02T18:21:22.577Z"
   },
   {
    "duration": 14,
    "start_time": "2021-10-02T18:24:17.574Z"
   },
   {
    "duration": 357,
    "start_time": "2021-10-02T18:24:19.111Z"
   },
   {
    "duration": 8,
    "start_time": "2021-10-02T18:30:22.037Z"
   },
   {
    "duration": 1756,
    "start_time": "2021-10-02T18:32:07.948Z"
   },
   {
    "duration": 5,
    "start_time": "2021-10-02T18:33:40.827Z"
   },
   {
    "duration": 5,
    "start_time": "2021-10-02T18:33:43.036Z"
   },
   {
    "duration": 3,
    "start_time": "2021-10-02T18:33:49.409Z"
   },
   {
    "duration": 1462,
    "start_time": "2021-10-02T18:33:50.638Z"
   },
   {
    "duration": 5,
    "start_time": "2021-10-02T18:38:49.378Z"
   },
   {
    "duration": 15,
    "start_time": "2021-10-02T18:38:53.939Z"
   },
   {
    "duration": 5,
    "start_time": "2021-10-02T18:39:22.091Z"
   },
   {
    "duration": 17,
    "start_time": "2021-10-02T18:39:25.074Z"
   },
   {
    "duration": 6,
    "start_time": "2021-10-02T18:39:52.129Z"
   },
   {
    "duration": 15,
    "start_time": "2021-10-02T18:39:54.745Z"
   },
   {
    "duration": 1563,
    "start_time": "2021-10-02T18:39:59.233Z"
   },
   {
    "duration": 3,
    "start_time": "2021-10-02T18:40:16.849Z"
   },
   {
    "duration": 1630,
    "start_time": "2021-10-02T18:40:18.561Z"
   },
   {
    "duration": 5,
    "start_time": "2021-10-02T18:40:39.338Z"
   },
   {
    "duration": 3,
    "start_time": "2021-10-02T18:40:43.194Z"
   },
   {
    "duration": 1463,
    "start_time": "2021-10-02T18:40:43.721Z"
   },
   {
    "duration": 5,
    "start_time": "2021-10-02T18:41:36.105Z"
   },
   {
    "duration": 3,
    "start_time": "2021-10-02T18:41:46.800Z"
   },
   {
    "duration": 1685,
    "start_time": "2021-10-02T18:41:47.705Z"
   },
   {
    "duration": 23,
    "start_time": "2021-10-02T18:42:23.969Z"
   },
   {
    "duration": 4,
    "start_time": "2021-10-02T18:48:00.674Z"
   },
   {
    "duration": 721,
    "start_time": "2021-10-02T18:48:05.271Z"
   },
   {
    "duration": 5,
    "start_time": "2021-10-02T18:48:34.511Z"
   },
   {
    "duration": 22,
    "start_time": "2021-10-02T18:48:37.487Z"
   },
   {
    "duration": 5,
    "start_time": "2021-10-02T18:49:30.599Z"
   },
   {
    "duration": 7,
    "start_time": "2021-10-02T18:49:31.839Z"
   },
   {
    "duration": 24,
    "start_time": "2021-10-02T18:49:32.536Z"
   },
   {
    "duration": 125,
    "start_time": "2021-10-02T18:49:55.728Z"
   },
   {
    "duration": 59,
    "start_time": "2021-10-02T18:50:05.232Z"
   },
   {
    "duration": 5,
    "start_time": "2021-10-02T18:52:06.950Z"
   },
   {
    "duration": 22,
    "start_time": "2021-10-02T18:52:08.926Z"
   },
   {
    "duration": 25,
    "start_time": "2021-10-02T18:52:15.086Z"
   },
   {
    "duration": 1580,
    "start_time": "2021-10-02T18:52:29.199Z"
   },
   {
    "duration": 2,
    "start_time": "2021-10-02T18:52:35.014Z"
   },
   {
    "duration": 1684,
    "start_time": "2021-10-02T18:52:36.110Z"
   },
   {
    "duration": 6,
    "start_time": "2021-10-02T18:53:37.014Z"
   },
   {
    "duration": 3,
    "start_time": "2021-10-02T18:53:44.429Z"
   },
   {
    "duration": 2231,
    "start_time": "2021-10-02T18:53:45.053Z"
   },
   {
    "duration": 5,
    "start_time": "2021-10-02T18:54:22.989Z"
   },
   {
    "duration": 1361,
    "start_time": "2021-10-02T18:54:27.533Z"
   },
   {
    "duration": 5,
    "start_time": "2021-10-02T18:55:04.337Z"
   },
   {
    "duration": 3,
    "start_time": "2021-10-02T18:55:24.221Z"
   },
   {
    "duration": 1479,
    "start_time": "2021-10-02T18:55:25.204Z"
   },
   {
    "duration": 13,
    "start_time": "2021-10-02T18:57:14.501Z"
   },
   {
    "duration": 13,
    "start_time": "2021-10-02T18:57:59.157Z"
   },
   {
    "duration": 5,
    "start_time": "2021-10-02T18:59:16.948Z"
   },
   {
    "duration": 15,
    "start_time": "2021-10-02T18:59:21.059Z"
   },
   {
    "duration": 3,
    "start_time": "2021-10-02T18:59:53.347Z"
   },
   {
    "duration": 1476,
    "start_time": "2021-10-02T18:59:54.011Z"
   },
   {
    "duration": 5,
    "start_time": "2021-10-02T19:00:57.883Z"
   },
   {
    "duration": 746,
    "start_time": "2021-10-02T19:01:00.475Z"
   },
   {
    "duration": 5,
    "start_time": "2021-10-02T19:01:45.611Z"
   },
   {
    "duration": 14,
    "start_time": "2021-10-02T19:01:49.956Z"
   },
   {
    "duration": 2,
    "start_time": "2021-10-02T19:02:02.211Z"
   },
   {
    "duration": 1480,
    "start_time": "2021-10-02T19:02:02.699Z"
   },
   {
    "duration": 1194,
    "start_time": "2021-10-02T19:02:21.996Z"
   },
   {
    "duration": 754,
    "start_time": "2021-10-02T19:02:23.192Z"
   },
   {
    "duration": 16,
    "start_time": "2021-10-02T19:02:23.949Z"
   },
   {
    "duration": 25,
    "start_time": "2021-10-02T19:02:23.976Z"
   },
   {
    "duration": 11,
    "start_time": "2021-10-02T19:02:24.003Z"
   },
   {
    "duration": 24,
    "start_time": "2021-10-02T19:02:24.016Z"
   },
   {
    "duration": 39,
    "start_time": "2021-10-02T19:02:24.042Z"
   },
   {
    "duration": 13,
    "start_time": "2021-10-02T19:02:24.083Z"
   },
   {
    "duration": 6,
    "start_time": "2021-10-02T19:02:24.101Z"
   },
   {
    "duration": 16,
    "start_time": "2021-10-02T19:02:24.110Z"
   },
   {
    "duration": 9,
    "start_time": "2021-10-02T19:02:24.128Z"
   },
   {
    "duration": 44,
    "start_time": "2021-10-02T19:02:24.139Z"
   },
   {
    "duration": 18,
    "start_time": "2021-10-02T19:02:24.185Z"
   },
   {
    "duration": 6,
    "start_time": "2021-10-02T19:02:24.205Z"
   },
   {
    "duration": 231,
    "start_time": "2021-10-02T19:02:24.213Z"
   },
   {
    "duration": 223,
    "start_time": "2021-10-02T19:02:24.447Z"
   },
   {
    "duration": 204,
    "start_time": "2021-10-02T19:02:24.672Z"
   },
   {
    "duration": 26,
    "start_time": "2021-10-02T19:02:24.878Z"
   },
   {
    "duration": 13,
    "start_time": "2021-10-02T19:02:24.906Z"
   },
   {
    "duration": 47,
    "start_time": "2021-10-02T19:02:24.921Z"
   },
   {
    "duration": 32,
    "start_time": "2021-10-02T19:02:24.970Z"
   },
   {
    "duration": 2308,
    "start_time": "2021-10-02T19:02:25.005Z"
   },
   {
    "duration": 2243,
    "start_time": "2021-10-02T19:02:27.314Z"
   },
   {
    "duration": 2319,
    "start_time": "2021-10-02T19:02:29.559Z"
   },
   {
    "duration": 675,
    "start_time": "2021-10-02T19:02:31.880Z"
   },
   {
    "duration": 5,
    "start_time": "2021-10-02T19:02:32.557Z"
   },
   {
    "duration": 4,
    "start_time": "2021-10-02T19:02:32.575Z"
   },
   {
    "duration": 5,
    "start_time": "2021-10-02T19:02:32.582Z"
   },
   {
    "duration": 9,
    "start_time": "2021-10-02T19:02:32.589Z"
   },
   {
    "duration": 15,
    "start_time": "2021-10-02T19:02:32.599Z"
   },
   {
    "duration": 2,
    "start_time": "2021-10-02T19:02:32.616Z"
   },
   {
    "duration": 63,
    "start_time": "2021-10-02T19:02:32.620Z"
   },
   {
    "duration": 39,
    "start_time": "2021-10-02T19:02:32.685Z"
   },
   {
    "duration": 9,
    "start_time": "2021-10-02T19:02:32.726Z"
   },
   {
    "duration": 2,
    "start_time": "2021-10-02T19:02:32.737Z"
   },
   {
    "duration": 10,
    "start_time": "2021-10-02T19:02:32.741Z"
   },
   {
    "duration": 3,
    "start_time": "2021-10-02T19:02:32.752Z"
   },
   {
    "duration": 1332,
    "start_time": "2021-10-02T19:02:32.756Z"
   },
   {
    "duration": 37255,
    "start_time": "2021-10-02T19:02:34.090Z"
   },
   {
    "duration": 1431,
    "start_time": "2021-10-02T19:03:11.347Z"
   },
   {
    "duration": 19,
    "start_time": "2021-10-02T19:03:12.781Z"
   },
   {
    "duration": 8,
    "start_time": "2021-10-02T19:03:12.802Z"
   },
   {
    "duration": 21,
    "start_time": "2021-10-02T19:03:12.812Z"
   },
   {
    "duration": 43,
    "start_time": "2021-10-02T19:03:12.835Z"
   },
   {
    "duration": 14,
    "start_time": "2021-10-02T19:03:12.879Z"
   },
   {
    "duration": 542,
    "start_time": "2021-10-02T19:03:12.895Z"
   },
   {
    "duration": -604,
    "start_time": "2021-10-02T19:03:14.043Z"
   },
   {
    "duration": -608,
    "start_time": "2021-10-02T19:03:14.048Z"
   },
   {
    "duration": -628,
    "start_time": "2021-10-02T19:03:14.069Z"
   },
   {
    "duration": -631,
    "start_time": "2021-10-02T19:03:14.073Z"
   },
   {
    "duration": -633,
    "start_time": "2021-10-02T19:03:14.077Z"
   },
   {
    "duration": -636,
    "start_time": "2021-10-02T19:03:14.081Z"
   },
   {
    "duration": -638,
    "start_time": "2021-10-02T19:03:14.084Z"
   },
   {
    "duration": -639,
    "start_time": "2021-10-02T19:03:14.086Z"
   },
   {
    "duration": 9,
    "start_time": "2021-10-03T11:09:13.039Z"
   },
   {
    "duration": 404,
    "start_time": "2021-10-03T11:09:16.836Z"
   },
   {
    "duration": 1521,
    "start_time": "2021-10-03T11:09:21.763Z"
   },
   {
    "duration": 863,
    "start_time": "2021-10-03T11:09:23.286Z"
   },
   {
    "duration": 27,
    "start_time": "2021-10-03T11:09:24.152Z"
   },
   {
    "duration": 37,
    "start_time": "2021-10-03T11:09:24.182Z"
   },
   {
    "duration": 48,
    "start_time": "2021-10-03T11:09:24.222Z"
   },
   {
    "duration": 29,
    "start_time": "2021-10-03T11:09:24.273Z"
   },
   {
    "duration": 12,
    "start_time": "2021-10-03T11:09:24.305Z"
   },
   {
    "duration": 48,
    "start_time": "2021-10-03T11:09:24.322Z"
   },
   {
    "duration": 10,
    "start_time": "2021-10-03T11:09:24.374Z"
   },
   {
    "duration": 19,
    "start_time": "2021-10-03T11:09:24.387Z"
   },
   {
    "duration": 57,
    "start_time": "2021-10-03T11:09:24.409Z"
   },
   {
    "duration": 9,
    "start_time": "2021-10-03T11:09:24.468Z"
   },
   {
    "duration": 19,
    "start_time": "2021-10-03T11:09:24.479Z"
   },
   {
    "duration": 8,
    "start_time": "2021-10-03T11:09:24.500Z"
   },
   {
    "duration": 386,
    "start_time": "2021-10-03T11:09:24.511Z"
   },
   {
    "duration": 352,
    "start_time": "2021-10-03T11:09:24.900Z"
   },
   {
    "duration": 329,
    "start_time": "2021-10-03T11:09:25.257Z"
   },
   {
    "duration": 29,
    "start_time": "2021-10-03T11:09:25.589Z"
   },
   {
    "duration": 39,
    "start_time": "2021-10-03T11:09:25.620Z"
   },
   {
    "duration": 14,
    "start_time": "2021-10-03T11:09:25.661Z"
   },
   {
    "duration": 9,
    "start_time": "2021-10-03T11:09:25.678Z"
   },
   {
    "duration": 3572,
    "start_time": "2021-10-03T11:09:25.689Z"
   },
   {
    "duration": 3900,
    "start_time": "2021-10-03T11:09:29.266Z"
   },
   {
    "duration": 3938,
    "start_time": "2021-10-03T11:09:33.169Z"
   },
   {
    "duration": 1095,
    "start_time": "2021-10-03T11:09:37.109Z"
   },
   {
    "duration": 5,
    "start_time": "2021-10-03T11:09:38.206Z"
   },
   {
    "duration": 7,
    "start_time": "2021-10-03T11:09:38.213Z"
   },
   {
    "duration": 10,
    "start_time": "2021-10-03T11:09:38.222Z"
   },
   {
    "duration": 32,
    "start_time": "2021-10-03T11:09:38.234Z"
   },
   {
    "duration": 27,
    "start_time": "2021-10-03T11:09:38.268Z"
   },
   {
    "duration": 8,
    "start_time": "2021-10-03T11:09:38.297Z"
   },
   {
    "duration": 31,
    "start_time": "2021-10-03T11:09:38.307Z"
   },
   {
    "duration": 43,
    "start_time": "2021-10-03T11:09:38.358Z"
   },
   {
    "duration": 11,
    "start_time": "2021-10-03T11:09:38.403Z"
   },
   {
    "duration": 10,
    "start_time": "2021-10-03T11:09:38.416Z"
   },
   {
    "duration": 34,
    "start_time": "2021-10-03T11:09:38.428Z"
   },
   {
    "duration": 13,
    "start_time": "2021-10-03T11:09:38.465Z"
   },
   {
    "duration": 1987,
    "start_time": "2021-10-03T11:09:38.481Z"
   },
   {
    "duration": 44856,
    "start_time": "2021-10-03T11:09:40.471Z"
   },
   {
    "duration": 1736,
    "start_time": "2021-10-03T11:10:25.330Z"
   },
   {
    "duration": 22,
    "start_time": "2021-10-03T11:10:27.068Z"
   },
   {
    "duration": 9,
    "start_time": "2021-10-03T11:10:27.092Z"
   },
   {
    "duration": 56,
    "start_time": "2021-10-03T11:10:27.103Z"
   },
   {
    "duration": 23,
    "start_time": "2021-10-03T11:10:27.161Z"
   },
   {
    "duration": 24,
    "start_time": "2021-10-03T11:10:27.187Z"
   },
   {
    "duration": 515,
    "start_time": "2021-10-03T11:10:27.214Z"
   },
   {
    "duration": -1842,
    "start_time": "2021-10-03T11:10:29.573Z"
   },
   {
    "duration": -1850,
    "start_time": "2021-10-03T11:10:29.582Z"
   },
   {
    "duration": -1852,
    "start_time": "2021-10-03T11:10:29.585Z"
   },
   {
    "duration": -1853,
    "start_time": "2021-10-03T11:10:29.588Z"
   },
   {
    "duration": -1854,
    "start_time": "2021-10-03T11:10:29.590Z"
   },
   {
    "duration": -1858,
    "start_time": "2021-10-03T11:10:29.595Z"
   },
   {
    "duration": -1859,
    "start_time": "2021-10-03T11:10:29.597Z"
   },
   {
    "duration": -1863,
    "start_time": "2021-10-03T11:10:29.602Z"
   },
   {
    "duration": 23,
    "start_time": "2021-10-03T11:13:14.791Z"
   },
   {
    "duration": 8,
    "start_time": "2021-10-03T11:14:11.814Z"
   },
   {
    "duration": 22,
    "start_time": "2021-10-03T11:14:14.690Z"
   },
   {
    "duration": 4,
    "start_time": "2021-10-03T11:14:41.150Z"
   },
   {
    "duration": 1741,
    "start_time": "2021-10-03T11:14:42.039Z"
   },
   {
    "duration": 7,
    "start_time": "2021-10-03T11:16:41.912Z"
   },
   {
    "duration": 9,
    "start_time": "2021-10-03T11:17:04.343Z"
   },
   {
    "duration": 14,
    "start_time": "2021-10-03T11:22:32.849Z"
   },
   {
    "duration": 15,
    "start_time": "2021-10-03T11:24:21.490Z"
   },
   {
    "duration": 15,
    "start_time": "2021-10-03T11:25:08.492Z"
   },
   {
    "duration": 16,
    "start_time": "2021-10-03T11:25:34.188Z"
   },
   {
    "duration": 17,
    "start_time": "2021-10-03T11:25:48.002Z"
   },
   {
    "duration": 22,
    "start_time": "2021-10-03T11:25:59.320Z"
   },
   {
    "duration": 528,
    "start_time": "2021-10-03T11:26:37.288Z"
   },
   {
    "duration": 23,
    "start_time": "2021-10-03T11:27:01.007Z"
   },
   {
    "duration": 407,
    "start_time": "2021-10-03T11:28:03.136Z"
   },
   {
    "duration": 11,
    "start_time": "2021-10-03T11:28:16.635Z"
   },
   {
    "duration": 369,
    "start_time": "2021-10-03T11:29:17.947Z"
   },
   {
    "duration": 8,
    "start_time": "2021-10-03T11:29:38.947Z"
   },
   {
    "duration": 16,
    "start_time": "2021-10-03T11:30:25.783Z"
   },
   {
    "duration": 22,
    "start_time": "2021-10-03T11:30:39.899Z"
   },
   {
    "duration": 126,
    "start_time": "2021-10-03T11:30:59.419Z"
   },
   {
    "duration": 21,
    "start_time": "2021-10-03T11:31:12.850Z"
   },
   {
    "duration": 15,
    "start_time": "2021-10-03T11:31:35.914Z"
   },
   {
    "duration": 20,
    "start_time": "2021-10-03T11:32:33.964Z"
   },
   {
    "duration": 15,
    "start_time": "2021-10-03T11:32:40.554Z"
   },
   {
    "duration": 5,
    "start_time": "2021-10-03T11:54:06.024Z"
   },
   {
    "duration": 16,
    "start_time": "2021-10-03T11:54:53.837Z"
   },
   {
    "duration": 5,
    "start_time": "2021-10-03T11:56:34.665Z"
   },
   {
    "duration": 5,
    "start_time": "2021-10-03T11:57:05.756Z"
   },
   {
    "duration": 15,
    "start_time": "2021-10-03T11:57:20.876Z"
   },
   {
    "duration": 345,
    "start_time": "2021-10-03T11:58:08.164Z"
   },
   {
    "duration": 5,
    "start_time": "2021-10-03T11:58:38.051Z"
   },
   {
    "duration": 17,
    "start_time": "2021-10-03T11:58:40.843Z"
   },
   {
    "duration": 16,
    "start_time": "2021-10-03T11:59:04.410Z"
   },
   {
    "duration": 18,
    "start_time": "2021-10-03T12:00:22.348Z"
   },
   {
    "duration": 5,
    "start_time": "2021-10-03T12:00:36.371Z"
   },
   {
    "duration": 10,
    "start_time": "2021-10-03T12:00:36.770Z"
   },
   {
    "duration": 16,
    "start_time": "2021-10-03T12:00:37.394Z"
   },
   {
    "duration": 4,
    "start_time": "2021-10-03T12:02:14.467Z"
   },
   {
    "duration": 708,
    "start_time": "2021-10-03T12:02:20.643Z"
   },
   {
    "duration": 13,
    "start_time": "2021-10-03T12:02:55.114Z"
   },
   {
    "duration": 4,
    "start_time": "2021-10-03T12:03:33.394Z"
   },
   {
    "duration": 3796,
    "start_time": "2021-10-03T12:03:36.642Z"
   },
   {
    "duration": 4,
    "start_time": "2021-10-03T12:04:29.792Z"
   },
   {
    "duration": 1701,
    "start_time": "2021-10-03T12:04:30.674Z"
   },
   {
    "duration": 424,
    "start_time": "2021-10-03T12:05:23.177Z"
   },
   {
    "duration": 5,
    "start_time": "2021-10-03T12:05:41.681Z"
   },
   {
    "duration": 6,
    "start_time": "2021-10-03T12:06:30.596Z"
   },
   {
    "duration": 6,
    "start_time": "2021-10-03T12:06:31.221Z"
   },
   {
    "duration": 85818,
    "start_time": "2021-10-03T12:06:32.324Z"
   },
   {
    "duration": 5,
    "start_time": "2021-10-03T12:08:49.496Z"
   },
   {
    "duration": 714,
    "start_time": "2021-10-03T12:09:00.737Z"
   },
   {
    "duration": 690,
    "start_time": "2021-10-03T12:13:02.007Z"
   },
   {
    "duration": 436,
    "start_time": "2021-10-03T12:13:36.952Z"
   },
   {
    "duration": 755,
    "start_time": "2021-10-03T12:13:41.363Z"
   },
   {
    "duration": 9,
    "start_time": "2021-10-03T12:13:44.159Z"
   },
   {
    "duration": 6,
    "start_time": "2021-10-03T12:14:00.496Z"
   },
   {
    "duration": 6,
    "start_time": "2021-10-03T12:14:29.814Z"
   },
   {
    "duration": 722,
    "start_time": "2021-10-03T12:14:47.063Z"
   },
   {
    "duration": 6,
    "start_time": "2021-10-03T12:32:39.092Z"
   },
   {
    "duration": 1507,
    "start_time": "2021-10-03T12:33:44.224Z"
   },
   {
    "duration": 881,
    "start_time": "2021-10-03T12:33:45.733Z"
   },
   {
    "duration": 24,
    "start_time": "2021-10-03T12:33:46.617Z"
   },
   {
    "duration": 35,
    "start_time": "2021-10-03T12:33:46.657Z"
   },
   {
    "duration": 15,
    "start_time": "2021-10-03T12:33:46.695Z"
   },
   {
    "duration": 57,
    "start_time": "2021-10-03T12:33:46.713Z"
   },
   {
    "duration": 10,
    "start_time": "2021-10-03T12:33:46.773Z"
   },
   {
    "duration": 18,
    "start_time": "2021-10-03T12:33:46.787Z"
   },
   {
    "duration": 8,
    "start_time": "2021-10-03T12:33:46.809Z"
   },
   {
    "duration": 44,
    "start_time": "2021-10-03T12:33:46.819Z"
   },
   {
    "duration": 14,
    "start_time": "2021-10-03T12:33:46.865Z"
   },
   {
    "duration": 9,
    "start_time": "2021-10-03T12:33:46.881Z"
   },
   {
    "duration": 34,
    "start_time": "2021-10-03T12:33:46.892Z"
   },
   {
    "duration": 36,
    "start_time": "2021-10-03T12:33:46.928Z"
   },
   {
    "duration": 351,
    "start_time": "2021-10-03T12:33:46.967Z"
   },
   {
    "duration": 342,
    "start_time": "2021-10-03T12:33:47.321Z"
   },
   {
    "duration": 427,
    "start_time": "2021-10-03T12:33:47.665Z"
   },
   {
    "duration": 30,
    "start_time": "2021-10-03T12:33:48.096Z"
   },
   {
    "duration": 35,
    "start_time": "2021-10-03T12:33:48.128Z"
   },
   {
    "duration": 13,
    "start_time": "2021-10-03T12:33:48.166Z"
   },
   {
    "duration": 12,
    "start_time": "2021-10-03T12:33:48.183Z"
   },
   {
    "duration": 3733,
    "start_time": "2021-10-03T12:33:48.197Z"
   },
   {
    "duration": 3870,
    "start_time": "2021-10-03T12:33:51.936Z"
   },
   {
    "duration": 3884,
    "start_time": "2021-10-03T12:33:55.809Z"
   },
   {
    "duration": 1257,
    "start_time": "2021-10-03T12:33:59.695Z"
   },
   {
    "duration": 5,
    "start_time": "2021-10-03T12:34:00.958Z"
   },
   {
    "duration": 25,
    "start_time": "2021-10-03T12:34:00.966Z"
   },
   {
    "duration": 42,
    "start_time": "2021-10-03T12:34:00.994Z"
   },
   {
    "duration": 73,
    "start_time": "2021-10-03T12:34:01.039Z"
   },
   {
    "duration": 880,
    "start_time": "2021-10-03T12:34:01.115Z"
   },
   {
    "duration": -1903,
    "start_time": "2021-10-03T12:34:03.902Z"
   },
   {
    "duration": -1924,
    "start_time": "2021-10-03T12:34:03.925Z"
   },
   {
    "duration": -1928,
    "start_time": "2021-10-03T12:34:03.931Z"
   },
   {
    "duration": -1930,
    "start_time": "2021-10-03T12:34:03.935Z"
   },
   {
    "duration": -1936,
    "start_time": "2021-10-03T12:34:03.943Z"
   },
   {
    "duration": -1936,
    "start_time": "2021-10-03T12:34:03.946Z"
   },
   {
    "duration": -1940,
    "start_time": "2021-10-03T12:34:03.951Z"
   },
   {
    "duration": -1941,
    "start_time": "2021-10-03T12:34:03.955Z"
   },
   {
    "duration": -1949,
    "start_time": "2021-10-03T12:34:03.965Z"
   },
   {
    "duration": -1954,
    "start_time": "2021-10-03T12:34:03.972Z"
   },
   {
    "duration": -1958,
    "start_time": "2021-10-03T12:34:03.978Z"
   },
   {
    "duration": -1962,
    "start_time": "2021-10-03T12:34:03.984Z"
   },
   {
    "duration": -1964,
    "start_time": "2021-10-03T12:34:03.989Z"
   },
   {
    "duration": -1968,
    "start_time": "2021-10-03T12:34:03.994Z"
   },
   {
    "duration": -1975,
    "start_time": "2021-10-03T12:34:04.003Z"
   },
   {
    "duration": -1986,
    "start_time": "2021-10-03T12:34:04.017Z"
   },
   {
    "duration": -1987,
    "start_time": "2021-10-03T12:34:04.020Z"
   },
   {
    "duration": -1966,
    "start_time": "2021-10-03T12:34:04.024Z"
   },
   {
    "duration": -1967,
    "start_time": "2021-10-03T12:34:04.028Z"
   },
   {
    "duration": -1970,
    "start_time": "2021-10-03T12:34:04.033Z"
   },
   {
    "duration": -1972,
    "start_time": "2021-10-03T12:34:04.037Z"
   },
   {
    "duration": -1972,
    "start_time": "2021-10-03T12:34:04.040Z"
   },
   {
    "duration": -1973,
    "start_time": "2021-10-03T12:34:04.043Z"
   },
   {
    "duration": -1974,
    "start_time": "2021-10-03T12:34:04.046Z"
   },
   {
    "duration": -1976,
    "start_time": "2021-10-03T12:34:04.050Z"
   },
   {
    "duration": -1978,
    "start_time": "2021-10-03T12:34:04.054Z"
   },
   {
    "duration": -1981,
    "start_time": "2021-10-03T12:34:04.059Z"
   },
   {
    "duration": 6,
    "start_time": "2021-10-03T12:34:26.629Z"
   },
   {
    "duration": 8,
    "start_time": "2021-10-03T12:34:28.349Z"
   },
   {
    "duration": 8,
    "start_time": "2021-10-03T12:34:28.968Z"
   },
   {
    "duration": 24,
    "start_time": "2021-10-03T12:34:34.301Z"
   },
   {
    "duration": 27,
    "start_time": "2021-10-03T12:35:55.021Z"
   },
   {
    "duration": 42,
    "start_time": "2021-10-03T12:35:56.476Z"
   },
   {
    "duration": 11,
    "start_time": "2021-10-03T12:36:00.517Z"
   },
   {
    "duration": 4,
    "start_time": "2021-10-03T12:36:01.911Z"
   },
   {
    "duration": 8,
    "start_time": "2021-10-03T12:36:03.604Z"
   },
   {
    "duration": 383,
    "start_time": "2021-10-03T12:36:06.292Z"
   },
   {
    "duration": 381,
    "start_time": "2021-10-03T12:36:09.183Z"
   },
   {
    "duration": 3,
    "start_time": "2021-10-03T12:36:31.632Z"
   },
   {
    "duration": 1544,
    "start_time": "2021-10-03T12:36:32.716Z"
   },
   {
    "duration": 44910,
    "start_time": "2021-10-03T12:36:35.180Z"
   },
   {
    "duration": 1601,
    "start_time": "2021-10-03T12:38:54.316Z"
   },
   {
    "duration": 6,
    "start_time": "2021-10-03T12:38:56.559Z"
   },
   {
    "duration": 6,
    "start_time": "2021-10-03T12:39:37.740Z"
   },
   {
    "duration": 9,
    "start_time": "2021-10-03T12:39:40.044Z"
   },
   {
    "duration": 6,
    "start_time": "2021-10-03T12:39:40.428Z"
   },
   {
    "duration": 366,
    "start_time": "2021-10-03T12:40:10.828Z"
   },
   {
    "duration": 371,
    "start_time": "2021-10-03T12:41:44.059Z"
   },
   {
    "duration": 341,
    "start_time": "2021-10-03T12:43:03.991Z"
   },
   {
    "duration": 352,
    "start_time": "2021-10-03T12:45:36.892Z"
   },
   {
    "duration": 5,
    "start_time": "2021-10-03T12:46:32.731Z"
   },
   {
    "duration": 375,
    "start_time": "2021-10-03T12:46:38.489Z"
   },
   {
    "duration": 364,
    "start_time": "2021-10-03T12:47:29.929Z"
   },
   {
    "duration": 403,
    "start_time": "2021-10-03T12:47:36.214Z"
   },
   {
    "duration": 344,
    "start_time": "2021-10-03T12:48:15.577Z"
   },
   {
    "duration": 5,
    "start_time": "2021-10-03T12:48:40.733Z"
   },
   {
    "duration": 8,
    "start_time": "2021-10-03T12:48:43.355Z"
   },
   {
    "duration": 6,
    "start_time": "2021-10-03T12:48:43.977Z"
   },
   {
    "duration": 895,
    "start_time": "2021-10-03T12:48:46.662Z"
   },
   {
    "duration": 350,
    "start_time": "2021-10-03T12:50:28.928Z"
   },
   {
    "duration": 9,
    "start_time": "2021-10-03T12:50:29.443Z"
   },
   {
    "duration": 6,
    "start_time": "2021-10-03T12:50:30.370Z"
   },
   {
    "duration": 339,
    "start_time": "2021-10-03T12:50:51.052Z"
   },
   {
    "duration": 6,
    "start_time": "2021-10-03T12:51:11.940Z"
   },
   {
    "duration": 9,
    "start_time": "2021-10-03T12:51:13.220Z"
   },
   {
    "duration": 6,
    "start_time": "2021-10-03T12:51:13.952Z"
   },
   {
    "duration": 14,
    "start_time": "2021-10-03T12:51:15.160Z"
   },
   {
    "duration": 6,
    "start_time": "2021-10-03T12:51:57.715Z"
   },
   {
    "duration": 8,
    "start_time": "2021-10-03T12:51:59.560Z"
   },
   {
    "duration": 5,
    "start_time": "2021-10-03T12:52:20.841Z"
   },
   {
    "duration": 13,
    "start_time": "2021-10-03T12:52:21.358Z"
   },
   {
    "duration": 6,
    "start_time": "2021-10-03T12:52:57.880Z"
   },
   {
    "duration": 8,
    "start_time": "2021-10-03T12:52:59.102Z"
   },
   {
    "duration": 6,
    "start_time": "2021-10-03T12:53:00.059Z"
   },
   {
    "duration": 14,
    "start_time": "2021-10-03T12:53:01.064Z"
   },
   {
    "duration": 12,
    "start_time": "2021-10-03T12:53:14.700Z"
   },
   {
    "duration": 7,
    "start_time": "2021-10-03T12:53:38.519Z"
   },
   {
    "duration": 14,
    "start_time": "2021-10-03T12:53:39.440Z"
   },
   {
    "duration": 6,
    "start_time": "2021-10-03T12:54:08.287Z"
   },
   {
    "duration": 13,
    "start_time": "2021-10-03T12:54:09.199Z"
   },
   {
    "duration": 6,
    "start_time": "2021-10-03T12:54:16.823Z"
   },
   {
    "duration": 14,
    "start_time": "2021-10-03T12:54:18.119Z"
   },
   {
    "duration": 16,
    "start_time": "2021-10-03T12:55:44.894Z"
   },
   {
    "duration": 20,
    "start_time": "2021-10-03T13:03:43.073Z"
   },
   {
    "duration": 139,
    "start_time": "2021-10-03T13:04:33.915Z"
   },
   {
    "duration": 453,
    "start_time": "2021-10-03T13:29:37.866Z"
   },
   {
    "duration": 364,
    "start_time": "2021-10-03T13:30:00.922Z"
   },
   {
    "duration": 4,
    "start_time": "2021-10-03T13:33:35.180Z"
   },
   {
    "duration": 6,
    "start_time": "2021-10-03T13:33:36.996Z"
   },
   {
    "duration": 7,
    "start_time": "2021-10-03T13:33:46.801Z"
   },
   {
    "duration": 11599,
    "start_time": "2021-10-03T13:33:57.492Z"
   },
   {
    "duration": 6,
    "start_time": "2021-10-03T13:34:33.589Z"
   },
   {
    "duration": 421,
    "start_time": "2021-10-03T13:34:39.860Z"
   },
   {
    "duration": 6,
    "start_time": "2021-10-03T13:34:47.369Z"
   },
   {
    "duration": 384,
    "start_time": "2021-10-03T13:36:06.082Z"
   },
   {
    "duration": 5,
    "start_time": "2021-10-03T13:39:36.624Z"
   },
   {
    "duration": 6,
    "start_time": "2021-10-03T13:39:42.751Z"
   },
   {
    "duration": 45433,
    "start_time": "2021-10-03T13:40:38.725Z"
   },
   {
    "duration": 3,
    "start_time": "2021-10-03T13:46:21.053Z"
   },
   {
    "duration": 5,
    "start_time": "2021-10-03T13:46:21.668Z"
   },
   {
    "duration": 46861,
    "start_time": "2021-10-03T13:48:16.116Z"
   },
   {
    "duration": 45265,
    "start_time": "2021-10-03T13:50:09.596Z"
   },
   {
    "duration": 740,
    "start_time": "2021-10-03T13:51:32.208Z"
   },
   {
    "duration": 45300,
    "start_time": "2021-10-03T13:51:44.959Z"
   },
   {
    "duration": 49234,
    "start_time": "2021-10-03T13:52:41.327Z"
   },
   {
    "duration": 3,
    "start_time": "2021-10-03T13:57:00.369Z"
   },
   {
    "duration": 1792,
    "start_time": "2021-10-03T13:57:01.272Z"
   },
   {
    "duration": 45530,
    "start_time": "2021-10-03T13:57:03.139Z"
   },
   {
    "duration": 4,
    "start_time": "2021-10-03T13:57:56.014Z"
   },
   {
    "duration": 13,
    "start_time": "2021-10-03T13:58:38.350Z"
   },
   {
    "duration": 5,
    "start_time": "2021-10-03T13:59:34.341Z"
   },
   {
    "duration": 5,
    "start_time": "2021-10-03T13:59:35.900Z"
   },
   {
    "duration": 81675,
    "start_time": "2021-10-03T13:59:50.232Z"
   },
   {
    "duration": 5,
    "start_time": "2021-10-03T14:12:16.577Z"
   },
   {
    "duration": 8,
    "start_time": "2021-10-03T14:12:19.538Z"
   },
   {
    "duration": 82176,
    "start_time": "2021-10-03T14:22:46.162Z"
   },
   {
    "duration": 5,
    "start_time": "2021-10-03T14:24:20.614Z"
   },
   {
    "duration": 6,
    "start_time": "2021-10-03T14:24:21.117Z"
   },
   {
    "duration": 3,
    "start_time": "2021-10-03T14:24:30.663Z"
   },
   {
    "duration": 1558,
    "start_time": "2021-10-03T14:24:32.302Z"
   },
   {
    "duration": 381616,
    "start_time": "2021-10-03T14:24:44.150Z"
   },
   {
    "duration": 17,
    "start_time": "2021-10-03T14:31:05.768Z"
   },
   {
    "duration": 80648,
    "start_time": "2021-10-03T14:41:20.456Z"
   },
   {
    "duration": 80924,
    "start_time": "2021-10-03T14:42:51.938Z"
   },
   {
    "duration": 99783,
    "start_time": "2021-10-03T14:46:43.104Z"
   },
   {
    "duration": 720908,
    "start_time": "2021-10-03T14:48:42.455Z"
   },
   {
    "duration": -1929,
    "start_time": "2021-10-03T15:00:45.295Z"
   },
   {
    "duration": 1355,
    "start_time": "2021-10-03T15:00:48.792Z"
   },
   {
    "duration": 6,
    "start_time": "2021-10-03T15:01:49.475Z"
   },
   {
    "duration": 5,
    "start_time": "2021-10-03T15:03:06.499Z"
   },
   {
    "duration": 1072,
    "start_time": "2021-10-03T15:03:13.596Z"
   },
   {
    "duration": 152,
    "start_time": "2021-10-03T15:04:27.507Z"
   },
   {
    "duration": 5,
    "start_time": "2021-10-03T15:06:39.563Z"
   },
   {
    "duration": 5,
    "start_time": "2021-10-03T15:06:45.862Z"
   },
   {
    "duration": 6,
    "start_time": "2021-10-03T15:07:38.073Z"
   },
   {
    "duration": 5,
    "start_time": "2021-10-03T15:08:24.786Z"
   },
   {
    "duration": 699,
    "start_time": "2021-10-03T15:08:28.792Z"
   },
   {
    "duration": 5,
    "start_time": "2021-10-03T15:09:19.425Z"
   },
   {
    "duration": 685,
    "start_time": "2021-10-03T15:09:33.124Z"
   },
   {
    "duration": 7,
    "start_time": "2021-10-03T15:10:54.130Z"
   },
   {
    "duration": 93935,
    "start_time": "2021-10-03T15:11:01.433Z"
   },
   {
    "duration": 4,
    "start_time": "2021-10-03T15:14:00.800Z"
   },
   {
    "duration": 6,
    "start_time": "2021-10-03T15:14:06.944Z"
   },
   {
    "duration": 5,
    "start_time": "2021-10-03T15:14:18.815Z"
   },
   {
    "duration": 5,
    "start_time": "2021-10-03T15:14:23.155Z"
   },
   {
    "duration": 779,
    "start_time": "2021-10-03T15:14:26.400Z"
   },
   {
    "duration": 5,
    "start_time": "2021-10-03T15:14:48.624Z"
   },
   {
    "duration": 82353,
    "start_time": "2021-10-03T15:15:01.352Z"
   },
   {
    "duration": 4,
    "start_time": "2021-10-03T15:24:38.949Z"
   },
   {
    "duration": 6,
    "start_time": "2021-10-03T15:44:54.195Z"
   },
   {
    "duration": 1915,
    "start_time": "2021-10-03T15:45:38.043Z"
   },
   {
    "duration": 1027,
    "start_time": "2021-10-03T15:45:39.961Z"
   },
   {
    "duration": 25,
    "start_time": "2021-10-03T15:45:40.991Z"
   },
   {
    "duration": 57,
    "start_time": "2021-10-03T15:45:41.020Z"
   },
   {
    "duration": 19,
    "start_time": "2021-10-03T15:45:41.080Z"
   },
   {
    "duration": 57,
    "start_time": "2021-10-03T15:45:41.102Z"
   },
   {
    "duration": 14,
    "start_time": "2021-10-03T15:45:41.163Z"
   },
   {
    "duration": 30,
    "start_time": "2021-10-03T15:45:41.182Z"
   },
   {
    "duration": 13,
    "start_time": "2021-10-03T15:45:41.217Z"
   },
   {
    "duration": 40,
    "start_time": "2021-10-03T15:45:41.234Z"
   },
   {
    "duration": 18,
    "start_time": "2021-10-03T15:45:41.276Z"
   },
   {
    "duration": 12,
    "start_time": "2021-10-03T15:45:41.298Z"
   },
   {
    "duration": 72,
    "start_time": "2021-10-03T15:45:41.313Z"
   },
   {
    "duration": 10,
    "start_time": "2021-10-03T15:45:41.387Z"
   },
   {
    "duration": 392,
    "start_time": "2021-10-03T15:45:41.399Z"
   },
   {
    "duration": 503,
    "start_time": "2021-10-03T15:45:41.794Z"
   },
   {
    "duration": 461,
    "start_time": "2021-10-03T15:45:42.301Z"
   },
   {
    "duration": 30,
    "start_time": "2021-10-03T15:45:42.765Z"
   },
   {
    "duration": 16,
    "start_time": "2021-10-03T15:45:42.799Z"
   },
   {
    "duration": 61,
    "start_time": "2021-10-03T15:45:42.818Z"
   },
   {
    "duration": 14,
    "start_time": "2021-10-03T15:45:42.882Z"
   },
   {
    "duration": 4407,
    "start_time": "2021-10-03T15:45:42.899Z"
   },
   {
    "duration": 4325,
    "start_time": "2021-10-03T15:45:47.314Z"
   },
   {
    "duration": 4385,
    "start_time": "2021-10-03T15:45:51.642Z"
   },
   {
    "duration": 1193,
    "start_time": "2021-10-03T15:45:56.029Z"
   },
   {
    "duration": 5,
    "start_time": "2021-10-03T15:45:57.224Z"
   },
   {
    "duration": 36,
    "start_time": "2021-10-03T15:45:57.231Z"
   },
   {
    "duration": 11,
    "start_time": "2021-10-03T15:45:57.269Z"
   },
   {
    "duration": 40,
    "start_time": "2021-10-03T15:45:57.283Z"
   },
   {
    "duration": 74,
    "start_time": "2021-10-03T15:45:57.326Z"
   },
   {
    "duration": 14,
    "start_time": "2021-10-03T15:45:57.403Z"
   },
   {
    "duration": 9,
    "start_time": "2021-10-03T15:45:57.419Z"
   },
   {
    "duration": 353078,
    "start_time": "2021-10-03T15:45:57.430Z"
   },
   {
    "duration": -1974,
    "start_time": "2021-10-03T15:51:52.485Z"
   },
   {
    "duration": -1979,
    "start_time": "2021-10-03T15:51:52.492Z"
   },
   {
    "duration": -1978,
    "start_time": "2021-10-03T15:51:52.498Z"
   },
   {
    "duration": -1981,
    "start_time": "2021-10-03T15:51:52.502Z"
   },
   {
    "duration": -1983,
    "start_time": "2021-10-03T15:51:52.506Z"
   },
   {
    "duration": -1985,
    "start_time": "2021-10-03T15:51:52.510Z"
   },
   {
    "duration": -1986,
    "start_time": "2021-10-03T15:51:52.512Z"
   },
   {
    "duration": -1988,
    "start_time": "2021-10-03T15:51:52.515Z"
   },
   {
    "duration": -1988,
    "start_time": "2021-10-03T15:51:52.517Z"
   },
   {
    "duration": -1989,
    "start_time": "2021-10-03T15:51:52.520Z"
   },
   {
    "duration": 125625,
    "start_time": "2021-10-03T15:51:52.129Z"
   },
   {
    "duration": 5,
    "start_time": "2021-10-03T15:53:58.797Z"
   },
   {
    "duration": 44733,
    "start_time": "2021-10-03T15:53:59.439Z"
   },
   {
    "duration": 4,
    "start_time": "2021-10-03T15:55:24.637Z"
   },
   {
    "duration": 5,
    "start_time": "2021-10-03T15:55:25.373Z"
   },
   {
    "duration": 87834,
    "start_time": "2021-10-03T15:55:25.977Z"
   },
   {
    "duration": 98477,
    "start_time": "2021-10-03T15:56:53.813Z"
   },
   {
    "duration": 967,
    "start_time": "2021-10-03T15:58:32.293Z"
   },
   {
    "duration": 4,
    "start_time": "2021-10-03T16:04:45.891Z"
   },
   {
    "duration": 5,
    "start_time": "2021-10-03T16:04:46.521Z"
   },
   {
    "duration": 22725,
    "start_time": "2021-10-03T16:04:48.218Z"
   },
   {
    "duration": -1962,
    "start_time": "2021-10-03T16:05:12.908Z"
   },
   {
    "duration": -1967,
    "start_time": "2021-10-03T16:05:12.918Z"
   },
   {
    "duration": 4,
    "start_time": "2021-10-03T16:05:19.397Z"
   },
   {
    "duration": 5,
    "start_time": "2021-10-03T16:05:19.877Z"
   },
   {
    "duration": 167866,
    "start_time": "2021-10-03T16:05:20.336Z"
   },
   {
    "duration": 194696,
    "start_time": "2021-10-03T16:08:08.205Z"
   },
   {
    "duration": 1961,
    "start_time": "2021-10-03T16:11:22.904Z"
   },
   {
    "duration": 1623,
    "start_time": "2021-10-03T16:12:38.227Z"
   },
   {
    "duration": 82102,
    "start_time": "2021-10-03T16:13:29.696Z"
   },
   {
    "duration": 8,
    "start_time": "2021-10-03T16:16:39.603Z"
   },
   {
    "duration": 77638,
    "start_time": "2021-10-03T16:16:54.056Z"
   },
   {
    "duration": 250,
    "start_time": "2021-10-03T16:18:31.215Z"
   },
   {
    "duration": 494,
    "start_time": "2021-10-03T16:18:42.671Z"
   },
   {
    "duration": 319,
    "start_time": "2021-10-03T16:18:46.439Z"
   },
   {
    "duration": 2185,
    "start_time": "2021-10-03T16:19:06.374Z"
   },
   {
    "duration": 59950,
    "start_time": "2021-10-03T16:19:45.015Z"
   },
   {
    "duration": 18,
    "start_time": "2021-10-03T16:21:01.912Z"
   },
   {
    "duration": 44,
    "start_time": "2021-10-03T16:21:53.419Z"
   },
   {
    "duration": 17,
    "start_time": "2021-10-03T16:22:06.678Z"
   },
   {
    "duration": 369,
    "start_time": "2021-10-03T16:23:11.521Z"
   },
   {
    "duration": 1760,
    "start_time": "2021-10-03T16:23:28.373Z"
   },
   {
    "duration": 1618,
    "start_time": "2021-10-03T16:25:38.124Z"
   },
   {
    "duration": 10,
    "start_time": "2021-10-03T16:25:43.614Z"
   },
   {
    "duration": 9,
    "start_time": "2021-10-03T16:26:16.412Z"
   },
   {
    "duration": 19,
    "start_time": "2021-10-03T16:27:26.652Z"
   },
   {
    "duration": 5,
    "start_time": "2021-10-03T16:27:30.060Z"
   },
   {
    "duration": 12,
    "start_time": "2021-10-03T16:27:42.525Z"
   },
   {
    "duration": 77,
    "start_time": "2021-10-03T16:27:45.181Z"
   },
   {
    "duration": 15,
    "start_time": "2021-10-03T16:27:47.564Z"
   },
   {
    "duration": 12,
    "start_time": "2021-10-03T16:29:46.732Z"
   },
   {
    "duration": 1655,
    "start_time": "2021-10-03T16:33:24.559Z"
   },
   {
    "duration": 4,
    "start_time": "2021-10-03T16:39:51.142Z"
   },
   {
    "duration": 84,
    "start_time": "2021-10-03T16:39:52.180Z"
   },
   {
    "duration": 90,
    "start_time": "2021-10-03T16:40:15.273Z"
   },
   {
    "duration": 7,
    "start_time": "2021-10-03T16:42:31.492Z"
   },
   {
    "duration": 19,
    "start_time": "2021-10-03T16:43:59.071Z"
   },
   {
    "duration": 12,
    "start_time": "2021-10-03T16:44:44.567Z"
   },
   {
    "duration": 369,
    "start_time": "2021-10-03T16:45:57.019Z"
   },
   {
    "duration": 2429,
    "start_time": "2021-10-03T16:46:37.263Z"
   },
   {
    "duration": 1976,
    "start_time": "2021-10-03T16:48:05.824Z"
   },
   {
    "duration": 297,
    "start_time": "2021-10-03T16:48:23.995Z"
   },
   {
    "duration": 4,
    "start_time": "2021-10-03T16:55:04.564Z"
   },
   {
    "duration": 1519,
    "start_time": "2021-10-03T16:55:09.758Z"
   },
   {
    "duration": 912,
    "start_time": "2021-10-03T16:55:11.280Z"
   },
   {
    "duration": 25,
    "start_time": "2021-10-03T16:55:12.198Z"
   },
   {
    "duration": 52,
    "start_time": "2021-10-03T16:55:12.226Z"
   },
   {
    "duration": 17,
    "start_time": "2021-10-03T16:55:12.280Z"
   },
   {
    "duration": 61,
    "start_time": "2021-10-03T16:55:12.299Z"
   },
   {
    "duration": 11,
    "start_time": "2021-10-03T16:55:12.364Z"
   },
   {
    "duration": 15,
    "start_time": "2021-10-03T16:55:12.378Z"
   },
   {
    "duration": 8,
    "start_time": "2021-10-03T16:55:12.395Z"
   },
   {
    "duration": 55,
    "start_time": "2021-10-03T16:55:12.405Z"
   },
   {
    "duration": 14,
    "start_time": "2021-10-03T16:55:12.462Z"
   },
   {
    "duration": 11,
    "start_time": "2021-10-03T16:55:12.478Z"
   },
   {
    "duration": 35,
    "start_time": "2021-10-03T16:55:12.492Z"
   },
   {
    "duration": 32,
    "start_time": "2021-10-03T16:55:12.531Z"
   },
   {
    "duration": 356,
    "start_time": "2021-10-03T16:55:12.566Z"
   },
   {
    "duration": 324,
    "start_time": "2021-10-03T16:55:12.925Z"
   },
   {
    "duration": 304,
    "start_time": "2021-10-03T16:55:13.256Z"
   },
   {
    "duration": 31,
    "start_time": "2021-10-03T16:55:13.562Z"
   },
   {
    "duration": 17,
    "start_time": "2021-10-03T16:55:13.595Z"
   },
   {
    "duration": 44,
    "start_time": "2021-10-03T16:55:13.615Z"
   },
   {
    "duration": 10,
    "start_time": "2021-10-03T16:55:13.662Z"
   },
   {
    "duration": 3612,
    "start_time": "2021-10-03T16:55:13.678Z"
   },
   {
    "duration": 3865,
    "start_time": "2021-10-03T16:55:17.293Z"
   },
   {
    "duration": 3878,
    "start_time": "2021-10-03T16:55:21.160Z"
   },
   {
    "duration": 1216,
    "start_time": "2021-10-03T16:55:25.041Z"
   },
   {
    "duration": 5,
    "start_time": "2021-10-03T16:55:26.260Z"
   },
   {
    "duration": 20,
    "start_time": "2021-10-03T16:55:26.268Z"
   },
   {
    "duration": 11,
    "start_time": "2021-10-03T16:55:26.291Z"
   },
   {
    "duration": 61,
    "start_time": "2021-10-03T16:55:26.305Z"
   },
   {
    "duration": 49,
    "start_time": "2021-10-03T16:55:26.369Z"
   },
   {
    "duration": 12,
    "start_time": "2021-10-03T16:55:26.420Z"
   },
   {
    "duration": 133,
    "start_time": "2021-10-03T16:55:26.435Z"
   },
   {
    "duration": -1979,
    "start_time": "2021-10-03T16:55:28.550Z"
   },
   {
    "duration": -2006,
    "start_time": "2021-10-03T16:55:28.579Z"
   },
   {
    "duration": -2050,
    "start_time": "2021-10-03T16:55:28.626Z"
   },
   {
    "duration": -2059,
    "start_time": "2021-10-03T16:55:28.637Z"
   },
   {
    "duration": -2074,
    "start_time": "2021-10-03T16:55:28.655Z"
   },
   {
    "duration": -2076,
    "start_time": "2021-10-03T16:55:28.659Z"
   },
   {
    "duration": -2078,
    "start_time": "2021-10-03T16:55:28.663Z"
   },
   {
    "duration": -2079,
    "start_time": "2021-10-03T16:55:28.666Z"
   },
   {
    "duration": -2081,
    "start_time": "2021-10-03T16:55:28.671Z"
   },
   {
    "duration": -2083,
    "start_time": "2021-10-03T16:55:28.675Z"
   },
   {
    "duration": -2085,
    "start_time": "2021-10-03T16:55:28.679Z"
   },
   {
    "duration": -2086,
    "start_time": "2021-10-03T16:55:28.682Z"
   },
   {
    "duration": -2088,
    "start_time": "2021-10-03T16:55:28.686Z"
   },
   {
    "duration": -2090,
    "start_time": "2021-10-03T16:55:28.690Z"
   },
   {
    "duration": -2091,
    "start_time": "2021-10-03T16:55:28.693Z"
   },
   {
    "duration": 4,
    "start_time": "2021-10-03T16:55:49.036Z"
   },
   {
    "duration": 46268,
    "start_time": "2021-10-03T16:55:50.099Z"
   },
   {
    "duration": 5,
    "start_time": "2021-10-03T16:57:27.147Z"
   },
   {
    "duration": 6,
    "start_time": "2021-10-03T16:57:27.722Z"
   },
   {
    "duration": 166503,
    "start_time": "2021-10-03T16:57:28.387Z"
   },
   {
    "duration": 203881,
    "start_time": "2021-10-03T17:00:14.892Z"
   },
   {
    "duration": 1888,
    "start_time": "2021-10-03T17:03:38.776Z"
   },
   {
    "duration": 7,
    "start_time": "2021-10-03T17:05:18.961Z"
   },
   {
    "duration": 4,
    "start_time": "2021-10-03T17:05:20.553Z"
   },
   {
    "duration": 137,
    "start_time": "2021-10-03T17:05:21.220Z"
   },
   {
    "duration": 17,
    "start_time": "2021-10-03T17:09:38.383Z"
   },
   {
    "duration": 16,
    "start_time": "2021-10-03T17:09:53.465Z"
   },
   {
    "duration": 17,
    "start_time": "2021-10-03T17:10:10.488Z"
   },
   {
    "duration": 16,
    "start_time": "2021-10-03T17:10:16.792Z"
   },
   {
    "duration": 16,
    "start_time": "2021-10-03T17:10:27.423Z"
   },
   {
    "duration": 16,
    "start_time": "2021-10-03T17:10:52.513Z"
   },
   {
    "duration": 16,
    "start_time": "2021-10-03T17:11:51.209Z"
   },
   {
    "duration": 16,
    "start_time": "2021-10-03T17:11:55.095Z"
   },
   {
    "duration": 16,
    "start_time": "2021-10-03T17:12:00.991Z"
   },
   {
    "duration": 5,
    "start_time": "2021-10-03T17:12:18.530Z"
   },
   {
    "duration": 15,
    "start_time": "2021-10-03T17:12:25.487Z"
   },
   {
    "duration": 16,
    "start_time": "2021-10-03T17:12:55.482Z"
   },
   {
    "duration": 17,
    "start_time": "2021-10-03T17:13:00.226Z"
   },
   {
    "duration": 17,
    "start_time": "2021-10-03T17:13:36.422Z"
   },
   {
    "duration": 1484,
    "start_time": "2021-10-03T17:13:46.598Z"
   },
   {
    "duration": 998,
    "start_time": "2021-10-03T17:13:48.085Z"
   },
   {
    "duration": 26,
    "start_time": "2021-10-03T17:13:49.091Z"
   },
   {
    "duration": 62,
    "start_time": "2021-10-03T17:13:49.120Z"
   },
   {
    "duration": 17,
    "start_time": "2021-10-03T17:13:49.186Z"
   },
   {
    "duration": 61,
    "start_time": "2021-10-03T17:13:49.206Z"
   },
   {
    "duration": 12,
    "start_time": "2021-10-03T17:13:49.273Z"
   },
   {
    "duration": 16,
    "start_time": "2021-10-03T17:13:49.288Z"
   },
   {
    "duration": 9,
    "start_time": "2021-10-03T17:13:49.307Z"
   },
   {
    "duration": 19,
    "start_time": "2021-10-03T17:13:49.358Z"
   },
   {
    "duration": 15,
    "start_time": "2021-10-03T17:13:49.380Z"
   },
   {
    "duration": 12,
    "start_time": "2021-10-03T17:13:49.397Z"
   },
   {
    "duration": 64,
    "start_time": "2021-10-03T17:13:49.412Z"
   },
   {
    "duration": 11,
    "start_time": "2021-10-03T17:13:49.478Z"
   },
   {
    "duration": 354,
    "start_time": "2021-10-03T17:13:49.492Z"
   },
   {
    "duration": 337,
    "start_time": "2021-10-03T17:13:49.849Z"
   },
   {
    "duration": 312,
    "start_time": "2021-10-03T17:13:50.189Z"
   },
   {
    "duration": 29,
    "start_time": "2021-10-03T17:13:50.504Z"
   },
   {
    "duration": 39,
    "start_time": "2021-10-03T17:13:50.536Z"
   },
   {
    "duration": 14,
    "start_time": "2021-10-03T17:13:50.577Z"
   },
   {
    "duration": 9,
    "start_time": "2021-10-03T17:13:50.593Z"
   },
   {
    "duration": 3554,
    "start_time": "2021-10-03T17:13:50.607Z"
   },
   {
    "duration": 3832,
    "start_time": "2021-10-03T17:13:54.164Z"
   },
   {
    "duration": 3839,
    "start_time": "2021-10-03T17:13:57.999Z"
   },
   {
    "duration": 1105,
    "start_time": "2021-10-03T17:14:01.841Z"
   },
   {
    "duration": 4,
    "start_time": "2021-10-03T17:14:02.948Z"
   },
   {
    "duration": 19,
    "start_time": "2021-10-03T17:14:02.957Z"
   },
   {
    "duration": 17,
    "start_time": "2021-10-03T17:14:02.978Z"
   },
   {
    "duration": 44,
    "start_time": "2021-10-03T17:14:02.998Z"
   },
   {
    "duration": 73,
    "start_time": "2021-10-03T17:14:03.044Z"
   },
   {
    "duration": 11,
    "start_time": "2021-10-03T17:14:03.119Z"
   },
   {
    "duration": 21,
    "start_time": "2021-10-03T17:14:03.132Z"
   },
   {
    "duration": 45805,
    "start_time": "2021-10-03T17:14:03.155Z"
   },
   {
    "duration": 7,
    "start_time": "2021-10-03T17:14:48.964Z"
   },
   {
    "duration": 8,
    "start_time": "2021-10-03T17:14:49.059Z"
   },
   {
    "duration": 169452,
    "start_time": "2021-10-03T17:14:49.070Z"
   },
   {
    "duration": 195189,
    "start_time": "2021-10-03T17:17:38.524Z"
   },
   {
    "duration": 1951,
    "start_time": "2021-10-03T17:20:53.716Z"
   },
   {
    "duration": 95,
    "start_time": "2021-10-03T17:20:55.670Z"
   },
   {
    "duration": 93,
    "start_time": "2021-10-03T17:20:55.767Z"
   },
   {
    "duration": 101,
    "start_time": "2021-10-03T17:20:55.862Z"
   },
   {
    "duration": 95,
    "start_time": "2021-10-03T17:20:55.966Z"
   },
   {
    "duration": 27,
    "start_time": "2021-10-03T17:20:56.063Z"
   },
   {
    "duration": 73,
    "start_time": "2021-10-03T17:20:56.093Z"
   },
   {
    "duration": 13,
    "start_time": "2021-10-03T17:20:56.259Z"
   },
   {
    "duration": 363,
    "start_time": "2021-10-03T17:20:56.274Z"
   },
   {
    "duration": 516,
    "start_time": "2021-10-03T17:31:44.545Z"
   },
   {
    "duration": 4,
    "start_time": "2021-10-03T17:33:00.528Z"
   },
   {
    "duration": 17,
    "start_time": "2021-10-03T17:33:06.619Z"
   },
   {
    "duration": 4,
    "start_time": "2021-10-03T17:33:10.366Z"
   },
   {
    "duration": 4,
    "start_time": "2021-10-03T17:33:19.351Z"
   },
   {
    "duration": 45059,
    "start_time": "2021-10-03T17:33:19.999Z"
   },
   {
    "duration": 164733,
    "start_time": "2021-10-03T17:38:40.711Z"
   },
   {
    "duration": 194349,
    "start_time": "2021-10-03T17:41:25.446Z"
   },
   {
    "duration": 2560,
    "start_time": "2021-10-03T17:44:39.798Z"
   },
   {
    "duration": 126,
    "start_time": "2021-10-03T17:44:42.361Z"
   },
   {
    "duration": 4,
    "start_time": "2021-10-03T17:45:19.079Z"
   },
   {
    "duration": 86,
    "start_time": "2021-10-03T17:45:19.580Z"
   },
   {
    "duration": 276,
    "start_time": "2021-10-03T17:53:14.650Z"
   },
   {
    "duration": 61,
    "start_time": "2021-10-03T17:53:30.705Z"
   },
   {
    "duration": 5,
    "start_time": "2021-10-03T17:56:41.732Z"
   },
   {
    "duration": 362,
    "start_time": "2021-10-03T17:58:22.440Z"
   },
   {
    "duration": 5,
    "start_time": "2021-10-03T17:58:58.959Z"
   },
   {
    "duration": 380,
    "start_time": "2021-10-03T17:59:20.153Z"
   },
   {
    "duration": 6,
    "start_time": "2021-10-03T18:00:00.408Z"
   },
   {
    "duration": 5,
    "start_time": "2021-10-03T18:01:22.228Z"
   },
   {
    "duration": 6,
    "start_time": "2021-10-03T18:01:41.115Z"
   },
   {
    "duration": 4,
    "start_time": "2021-10-03T18:03:03.679Z"
   },
   {
    "duration": 390,
    "start_time": "2021-10-03T18:03:04.215Z"
   },
   {
    "duration": 4,
    "start_time": "2021-10-03T18:03:55.630Z"
   },
   {
    "duration": 4,
    "start_time": "2021-10-03T18:04:03.406Z"
   },
   {
    "duration": 97,
    "start_time": "2021-10-03T18:04:05.663Z"
   },
   {
    "duration": 7,
    "start_time": "2021-10-03T18:05:07.511Z"
   },
   {
    "duration": 351,
    "start_time": "2021-10-03T18:06:20.025Z"
   },
   {
    "duration": 11573,
    "start_time": "2021-10-03T18:12:33.987Z"
   },
   {
    "duration": 5,
    "start_time": "2021-10-03T18:21:25.997Z"
   },
   {
    "duration": 167947,
    "start_time": "2021-10-03T18:21:35.918Z"
   },
   {
    "duration": 628478,
    "start_time": "2021-10-03T18:24:23.868Z"
   },
   {
    "duration": 1817,
    "start_time": "2021-10-03T18:34:52.349Z"
   },
   {
    "duration": 550,
    "start_time": "2021-10-03T19:34:16.948Z"
   },
   {
    "duration": 6,
    "start_time": "2021-10-03T19:41:08.351Z"
   },
   {
    "duration": 1510,
    "start_time": "2021-10-03T19:43:30.776Z"
   },
   {
    "duration": 888,
    "start_time": "2021-10-03T19:43:32.288Z"
   },
   {
    "duration": 23,
    "start_time": "2021-10-03T19:43:33.179Z"
   },
   {
    "duration": 52,
    "start_time": "2021-10-03T19:43:33.205Z"
   },
   {
    "duration": 16,
    "start_time": "2021-10-03T19:43:33.260Z"
   },
   {
    "duration": 26,
    "start_time": "2021-10-03T19:43:33.279Z"
   },
   {
    "duration": 10,
    "start_time": "2021-10-03T19:43:33.307Z"
   },
   {
    "duration": 14,
    "start_time": "2021-10-03T19:43:33.357Z"
   },
   {
    "duration": 8,
    "start_time": "2021-10-03T19:43:33.374Z"
   },
   {
    "duration": 21,
    "start_time": "2021-10-03T19:43:33.384Z"
   },
   {
    "duration": 14,
    "start_time": "2021-10-03T19:43:33.407Z"
   },
   {
    "duration": 43,
    "start_time": "2021-10-03T19:43:33.424Z"
   },
   {
    "duration": 22,
    "start_time": "2021-10-03T19:43:33.469Z"
   },
   {
    "duration": 8,
    "start_time": "2021-10-03T19:43:33.493Z"
   },
   {
    "duration": 366,
    "start_time": "2021-10-03T19:43:33.504Z"
   },
   {
    "duration": 329,
    "start_time": "2021-10-03T19:43:33.873Z"
   },
   {
    "duration": 313,
    "start_time": "2021-10-03T19:43:34.204Z"
   },
   {
    "duration": 39,
    "start_time": "2021-10-03T19:43:34.519Z"
   },
   {
    "duration": 16,
    "start_time": "2021-10-03T19:43:34.560Z"
   },
   {
    "duration": 14,
    "start_time": "2021-10-03T19:43:34.579Z"
   },
   {
    "duration": 8,
    "start_time": "2021-10-03T19:43:34.595Z"
   },
   {
    "duration": 3612,
    "start_time": "2021-10-03T19:43:34.606Z"
   },
   {
    "duration": 3684,
    "start_time": "2021-10-03T19:43:38.223Z"
   },
   {
    "duration": 3779,
    "start_time": "2021-10-03T19:43:41.910Z"
   },
   {
    "duration": 1099,
    "start_time": "2021-10-03T19:43:45.692Z"
   },
   {
    "duration": 4,
    "start_time": "2021-10-03T19:43:46.794Z"
   },
   {
    "duration": 23,
    "start_time": "2021-10-03T19:43:46.800Z"
   },
   {
    "duration": 5,
    "start_time": "2021-10-03T19:43:46.825Z"
   },
   {
    "duration": 48,
    "start_time": "2021-10-03T19:43:46.832Z"
   },
   {
    "duration": 39,
    "start_time": "2021-10-03T19:43:46.883Z"
   },
   {
    "duration": 35,
    "start_time": "2021-10-03T19:43:46.925Z"
   },
   {
    "duration": 4,
    "start_time": "2021-10-03T19:43:46.963Z"
   },
   {
    "duration": 45102,
    "start_time": "2021-10-03T19:43:46.969Z"
   },
   {
    "duration": 5,
    "start_time": "2021-10-03T19:44:32.159Z"
   },
   {
    "duration": 23,
    "start_time": "2021-10-03T19:44:32.166Z"
   },
   {
    "duration": 165621,
    "start_time": "2021-10-03T19:44:32.192Z"
   },
   {
    "duration": 550895,
    "start_time": "2021-10-03T19:47:17.815Z"
   },
   {
    "duration": -2017,
    "start_time": "2021-10-03T19:56:30.729Z"
   },
   {
    "duration": -2020,
    "start_time": "2021-10-03T19:56:30.734Z"
   },
   {
    "duration": -2022,
    "start_time": "2021-10-03T19:56:30.737Z"
   },
   {
    "duration": -2023,
    "start_time": "2021-10-03T19:56:30.740Z"
   },
   {
    "duration": -2025,
    "start_time": "2021-10-03T19:56:30.743Z"
   },
   {
    "duration": -2025,
    "start_time": "2021-10-03T19:56:30.746Z"
   },
   {
    "duration": -2029,
    "start_time": "2021-10-03T19:56:30.751Z"
   },
   {
    "duration": 5,
    "start_time": "2021-10-03T19:56:31.074Z"
   },
   {
    "duration": 15,
    "start_time": "2021-10-03T19:56:32.858Z"
   },
   {
    "duration": 16,
    "start_time": "2021-10-03T19:56:39.166Z"
   },
   {
    "duration": 16,
    "start_time": "2021-10-03T19:56:47.038Z"
   },
   {
    "duration": 14,
    "start_time": "2021-10-03T19:56:54.206Z"
   },
   {
    "duration": 16,
    "start_time": "2021-10-03T19:56:58.755Z"
   },
   {
    "duration": 16,
    "start_time": "2021-10-03T19:57:07.421Z"
   },
   {
    "duration": 16,
    "start_time": "2021-10-03T19:57:11.639Z"
   },
   {
    "duration": 5,
    "start_time": "2021-10-03T19:57:22.502Z"
   },
   {
    "duration": 18,
    "start_time": "2021-10-03T19:57:23.390Z"
   },
   {
    "duration": 4,
    "start_time": "2021-10-03T19:57:24.786Z"
   },
   {
    "duration": 22,
    "start_time": "2021-10-03T19:57:31.094Z"
   },
   {
    "duration": 38,
    "start_time": "2021-10-03T19:57:33.245Z"
   },
   {
    "duration": 10,
    "start_time": "2021-10-03T19:57:34.390Z"
   },
   {
    "duration": 4,
    "start_time": "2021-10-03T19:57:38.233Z"
   },
   {
    "duration": 45166,
    "start_time": "2021-10-03T19:57:39.005Z"
   },
   {
    "duration": 5,
    "start_time": "2021-10-03T19:59:33.708Z"
   },
   {
    "duration": 5,
    "start_time": "2021-10-03T19:59:34.165Z"
   },
   {
    "duration": 166584,
    "start_time": "2021-10-03T19:59:35.221Z"
   },
   {
    "duration": 623632,
    "start_time": "2021-10-03T20:02:21.807Z"
   },
   {
    "duration": 1721,
    "start_time": "2021-10-03T20:12:45.442Z"
   },
   {
    "duration": 3,
    "start_time": "2021-10-03T20:13:18.263Z"
   },
   {
    "duration": 58,
    "start_time": "2021-10-03T20:13:18.809Z"
   },
   {
    "duration": 11397,
    "start_time": "2021-10-03T20:13:23.665Z"
   },
   {
    "duration": 1463,
    "start_time": "2021-10-03T20:25:36.815Z"
   },
   {
    "duration": 877,
    "start_time": "2021-10-03T20:25:38.281Z"
   },
   {
    "duration": 24,
    "start_time": "2021-10-03T20:25:39.161Z"
   },
   {
    "duration": 35,
    "start_time": "2021-10-03T20:25:39.188Z"
   },
   {
    "duration": 45,
    "start_time": "2021-10-03T20:25:39.225Z"
   },
   {
    "duration": 29,
    "start_time": "2021-10-03T20:25:39.273Z"
   },
   {
    "duration": 10,
    "start_time": "2021-10-03T20:25:39.304Z"
   },
   {
    "duration": 20,
    "start_time": "2021-10-03T20:25:39.316Z"
   },
   {
    "duration": 8,
    "start_time": "2021-10-03T20:25:39.360Z"
   },
   {
    "duration": 21,
    "start_time": "2021-10-03T20:25:39.371Z"
   },
   {
    "duration": 13,
    "start_time": "2021-10-03T20:25:39.394Z"
   },
   {
    "duration": 49,
    "start_time": "2021-10-03T20:25:39.409Z"
   },
   {
    "duration": 20,
    "start_time": "2021-10-03T20:25:39.461Z"
   },
   {
    "duration": 17,
    "start_time": "2021-10-03T20:25:39.483Z"
   },
   {
    "duration": 345,
    "start_time": "2021-10-03T20:25:39.502Z"
   },
   {
    "duration": 338,
    "start_time": "2021-10-03T20:25:39.849Z"
   },
   {
    "duration": 306,
    "start_time": "2021-10-03T20:25:40.189Z"
   },
   {
    "duration": 26,
    "start_time": "2021-10-03T20:25:40.497Z"
   },
   {
    "duration": 34,
    "start_time": "2021-10-03T20:25:40.526Z"
   },
   {
    "duration": 14,
    "start_time": "2021-10-03T20:25:40.562Z"
   },
   {
    "duration": 9,
    "start_time": "2021-10-03T20:25:40.578Z"
   },
   {
    "duration": 3609,
    "start_time": "2021-10-03T20:25:40.589Z"
   },
   {
    "duration": 3736,
    "start_time": "2021-10-03T20:25:44.201Z"
   },
   {
    "duration": 3796,
    "start_time": "2021-10-03T20:25:47.940Z"
   },
   {
    "duration": 1090,
    "start_time": "2021-10-03T20:25:51.739Z"
   },
   {
    "duration": 5,
    "start_time": "2021-10-03T20:25:52.832Z"
   },
   {
    "duration": 27,
    "start_time": "2021-10-03T20:25:52.843Z"
   },
   {
    "duration": 4,
    "start_time": "2021-10-03T20:25:52.873Z"
   },
   {
    "duration": 28,
    "start_time": "2021-10-03T20:25:52.879Z"
   },
   {
    "duration": 85,
    "start_time": "2021-10-03T20:25:52.909Z"
   },
   {
    "duration": 11,
    "start_time": "2021-10-03T20:25:52.996Z"
   },
   {
    "duration": 7,
    "start_time": "2021-10-03T20:25:53.009Z"
   },
   {
    "duration": 44545,
    "start_time": "2021-10-03T20:25:53.018Z"
   },
   {
    "duration": 91,
    "start_time": "2021-10-03T20:26:37.567Z"
   },
   {
    "duration": 17,
    "start_time": "2021-10-03T20:26:37.661Z"
   },
   {
    "duration": 165343,
    "start_time": "2021-10-03T20:26:37.681Z"
   },
   {
    "duration": 365813,
    "start_time": "2021-10-03T20:29:23.027Z"
   },
   {
    "duration": 1930,
    "start_time": "2021-10-03T20:35:28.842Z"
   },
   {
    "duration": 121,
    "start_time": "2021-10-03T20:35:30.860Z"
   },
   {
    "duration": -65,
    "start_time": "2021-10-03T20:35:31.049Z"
   },
   {
    "duration": -68,
    "start_time": "2021-10-03T20:35:31.053Z"
   },
   {
    "duration": 4,
    "start_time": "2021-10-03T20:42:00.653Z"
   },
   {
    "duration": 126,
    "start_time": "2021-10-03T20:42:01.233Z"
   },
   {
    "duration": 1523,
    "start_time": "2021-10-03T20:53:00.974Z"
   },
   {
    "duration": 917,
    "start_time": "2021-10-03T20:53:02.499Z"
   },
   {
    "duration": 25,
    "start_time": "2021-10-03T20:53:03.419Z"
   },
   {
    "duration": 35,
    "start_time": "2021-10-03T20:53:03.458Z"
   },
   {
    "duration": 14,
    "start_time": "2021-10-03T20:53:03.496Z"
   },
   {
    "duration": 59,
    "start_time": "2021-10-03T20:53:03.513Z"
   },
   {
    "duration": 10,
    "start_time": "2021-10-03T20:53:03.574Z"
   },
   {
    "duration": 14,
    "start_time": "2021-10-03T20:53:03.588Z"
   },
   {
    "duration": 10,
    "start_time": "2021-10-03T20:53:03.605Z"
   },
   {
    "duration": 60,
    "start_time": "2021-10-03T20:53:03.618Z"
   },
   {
    "duration": 17,
    "start_time": "2021-10-03T20:53:03.681Z"
   },
   {
    "duration": 13,
    "start_time": "2021-10-03T20:53:03.701Z"
   },
   {
    "duration": 72,
    "start_time": "2021-10-03T20:53:03.717Z"
   },
   {
    "duration": 12,
    "start_time": "2021-10-03T20:53:03.792Z"
   },
   {
    "duration": 353,
    "start_time": "2021-10-03T20:53:03.807Z"
   },
   {
    "duration": 385,
    "start_time": "2021-10-03T20:53:04.163Z"
   },
   {
    "duration": 336,
    "start_time": "2021-10-03T20:53:04.557Z"
   },
   {
    "duration": 29,
    "start_time": "2021-10-03T20:53:04.896Z"
   },
   {
    "duration": 38,
    "start_time": "2021-10-03T20:53:04.928Z"
   },
   {
    "duration": 14,
    "start_time": "2021-10-03T20:53:04.968Z"
   },
   {
    "duration": 9,
    "start_time": "2021-10-03T20:53:04.984Z"
   },
   {
    "duration": 3985,
    "start_time": "2021-10-03T20:53:04.995Z"
   },
   {
    "duration": 3954,
    "start_time": "2021-10-03T20:53:08.985Z"
   },
   {
    "duration": 3960,
    "start_time": "2021-10-03T20:53:12.942Z"
   },
   {
    "duration": 1114,
    "start_time": "2021-10-03T20:53:16.905Z"
   },
   {
    "duration": 6,
    "start_time": "2021-10-03T20:53:18.021Z"
   },
   {
    "duration": 34,
    "start_time": "2021-10-03T20:53:18.029Z"
   },
   {
    "duration": 8,
    "start_time": "2021-10-03T20:53:18.066Z"
   },
   {
    "duration": 29,
    "start_time": "2021-10-03T20:53:18.077Z"
   },
   {
    "duration": 79,
    "start_time": "2021-10-03T20:53:18.109Z"
   },
   {
    "duration": 15,
    "start_time": "2021-10-03T20:53:18.190Z"
   },
   {
    "duration": 5,
    "start_time": "2021-10-03T20:53:18.208Z"
   },
   {
    "duration": 45447,
    "start_time": "2021-10-03T20:53:18.216Z"
   },
   {
    "duration": 4,
    "start_time": "2021-10-03T20:54:03.665Z"
   },
   {
    "duration": 11,
    "start_time": "2021-10-03T20:54:03.671Z"
   },
   {
    "duration": 167000,
    "start_time": "2021-10-03T20:54:03.684Z"
   },
   {
    "duration": 364039,
    "start_time": "2021-10-03T20:56:50.687Z"
   },
   {
    "duration": 2033,
    "start_time": "2021-10-03T21:02:54.729Z"
   },
   {
    "duration": 4,
    "start_time": "2021-10-03T21:02:56.764Z"
   },
   {
    "duration": 199,
    "start_time": "2021-10-03T21:02:56.859Z"
   },
   {
    "duration": 1874,
    "start_time": "2021-10-04T06:33:47.183Z"
   },
   {
    "duration": 1500,
    "start_time": "2021-10-04T06:33:49.059Z"
   },
   {
    "duration": 16,
    "start_time": "2021-10-04T06:33:50.560Z"
   },
   {
    "duration": 88,
    "start_time": "2021-10-04T06:33:50.578Z"
   },
   {
    "duration": 12,
    "start_time": "2021-10-04T06:33:50.668Z"
   },
   {
    "duration": 76,
    "start_time": "2021-10-04T06:33:50.681Z"
   },
   {
    "duration": 7,
    "start_time": "2021-10-04T06:33:54.525Z"
   },
   {
    "duration": 10,
    "start_time": "2021-10-04T06:33:54.712Z"
   },
   {
    "duration": 6,
    "start_time": "2021-10-04T06:33:55.351Z"
   },
   {
    "duration": 12,
    "start_time": "2021-10-04T06:33:56.218Z"
   },
   {
    "duration": 12,
    "start_time": "2021-10-04T06:33:56.392Z"
   },
   {
    "duration": 7,
    "start_time": "2021-10-04T06:33:56.559Z"
   },
   {
    "duration": 24,
    "start_time": "2021-10-04T06:33:57.228Z"
   },
   {
    "duration": 6,
    "start_time": "2021-10-04T06:33:58.349Z"
   },
   {
    "duration": 364,
    "start_time": "2021-10-04T06:33:58.532Z"
   },
   {
    "duration": 437,
    "start_time": "2021-10-04T06:33:59.113Z"
   },
   {
    "duration": 399,
    "start_time": "2021-10-04T06:33:59.552Z"
   },
   {
    "duration": 27,
    "start_time": "2021-10-04T06:34:00.274Z"
   },
   {
    "duration": 12,
    "start_time": "2021-10-04T06:34:00.974Z"
   },
   {
    "duration": 27,
    "start_time": "2021-10-04T06:34:01.223Z"
   },
   {
    "duration": 7,
    "start_time": "2021-10-04T06:34:01.504Z"
   },
   {
    "duration": 4312,
    "start_time": "2021-10-04T06:34:02.779Z"
   },
   {
    "duration": 4730,
    "start_time": "2021-10-04T06:34:07.149Z"
   },
   {
    "duration": 4890,
    "start_time": "2021-10-04T06:34:11.882Z"
   },
   {
    "duration": 1384,
    "start_time": "2021-10-04T06:34:16.775Z"
   },
   {
    "duration": 3,
    "start_time": "2021-10-04T06:34:18.161Z"
   },
   {
    "duration": 16,
    "start_time": "2021-10-04T06:34:19.138Z"
   },
   {
    "duration": 3,
    "start_time": "2021-10-04T06:34:19.725Z"
   },
   {
    "duration": 26,
    "start_time": "2021-10-04T06:34:41.836Z"
   },
   {
    "duration": 52,
    "start_time": "2021-10-04T06:35:10.724Z"
   },
   {
    "duration": 11,
    "start_time": "2021-10-04T06:35:11.696Z"
   },
   {
    "duration": 3,
    "start_time": "2021-10-04T06:35:22.420Z"
   },
   {
    "duration": 75397,
    "start_time": "2021-10-04T06:35:23.157Z"
   },
   {
    "duration": 120,
    "start_time": "2021-10-04T10:03:58.694Z"
   },
   {
    "duration": 395,
    "start_time": "2021-10-04T20:45:18.163Z"
   },
   {
    "duration": 1654,
    "start_time": "2021-10-04T20:45:25.031Z"
   },
   {
    "duration": 887,
    "start_time": "2021-10-04T20:45:26.687Z"
   },
   {
    "duration": 24,
    "start_time": "2021-10-04T20:45:27.577Z"
   },
   {
    "duration": 60,
    "start_time": "2021-10-04T20:45:27.604Z"
   },
   {
    "duration": 17,
    "start_time": "2021-10-04T20:45:27.666Z"
   },
   {
    "duration": 25,
    "start_time": "2021-10-04T20:45:27.685Z"
   },
   {
    "duration": 47,
    "start_time": "2021-10-04T20:45:27.712Z"
   },
   {
    "duration": 15,
    "start_time": "2021-10-04T20:45:27.763Z"
   },
   {
    "duration": 8,
    "start_time": "2021-10-04T20:45:27.781Z"
   },
   {
    "duration": 27,
    "start_time": "2021-10-04T20:45:27.791Z"
   },
   {
    "duration": 41,
    "start_time": "2021-10-04T20:45:27.820Z"
   },
   {
    "duration": 10,
    "start_time": "2021-10-04T20:45:27.863Z"
   },
   {
    "duration": 21,
    "start_time": "2021-10-04T20:45:27.875Z"
   },
   {
    "duration": 12,
    "start_time": "2021-10-04T20:45:27.898Z"
   },
   {
    "duration": 367,
    "start_time": "2021-10-04T20:45:27.913Z"
   },
   {
    "duration": 329,
    "start_time": "2021-10-04T20:45:28.282Z"
   },
   {
    "duration": 311,
    "start_time": "2021-10-04T20:45:28.614Z"
   },
   {
    "duration": 39,
    "start_time": "2021-10-04T20:45:28.928Z"
   },
   {
    "duration": 15,
    "start_time": "2021-10-04T20:45:28.970Z"
   },
   {
    "duration": 17,
    "start_time": "2021-10-04T20:45:28.987Z"
   },
   {
    "duration": 12,
    "start_time": "2021-10-04T20:45:29.007Z"
   },
   {
    "duration": 3583,
    "start_time": "2021-10-04T20:45:29.021Z"
   },
   {
    "duration": 3772,
    "start_time": "2021-10-04T20:45:32.609Z"
   },
   {
    "duration": 4120,
    "start_time": "2021-10-04T20:45:36.384Z"
   },
   {
    "duration": 1128,
    "start_time": "2021-10-04T20:45:40.507Z"
   },
   {
    "duration": 841,
    "start_time": "2021-10-04T20:45:41.638Z"
   },
   {
    "duration": 4,
    "start_time": "2021-10-04T20:45:42.483Z"
   },
   {
    "duration": 22,
    "start_time": "2021-10-04T20:45:42.490Z"
   },
   {
    "duration": 20,
    "start_time": "2021-10-04T20:45:42.514Z"
   },
   {
    "duration": 50,
    "start_time": "2021-10-04T20:45:42.536Z"
   },
   {
    "duration": 75,
    "start_time": "2021-10-04T20:45:42.589Z"
   },
   {
    "duration": 14,
    "start_time": "2021-10-04T20:45:42.667Z"
   },
   {
    "duration": 7,
    "start_time": "2021-10-04T20:45:42.684Z"
   },
   {
    "duration": 48082,
    "start_time": "2021-10-04T20:45:42.694Z"
   },
   {
    "duration": 5,
    "start_time": "2021-10-04T20:46:30.779Z"
   },
   {
    "duration": 71,
    "start_time": "2021-10-04T20:46:30.787Z"
   },
   {
    "duration": 214503,
    "start_time": "2021-10-04T20:46:30.861Z"
   },
   {
    "duration": 376504,
    "start_time": "2021-10-04T20:50:05.367Z"
   },
   {
    "duration": 2790,
    "start_time": "2021-10-04T20:56:21.874Z"
   },
   {
    "duration": 4,
    "start_time": "2021-10-04T20:56:24.757Z"
   },
   {
    "duration": 195,
    "start_time": "2021-10-04T20:56:24.764Z"
   },
   {
    "duration": 741,
    "start_time": "2021-10-04T20:56:24.963Z"
   },
   {
    "duration": 1171,
    "start_time": "2021-10-04T21:24:46.806Z"
   },
   {
    "duration": 683,
    "start_time": "2021-10-04T21:24:54.938Z"
   },
   {
    "duration": 1243,
    "start_time": "2021-10-04T21:27:40.138Z"
   },
   {
    "duration": 13,
    "start_time": "2021-10-04T21:28:47.393Z"
   },
   {
    "duration": 14,
    "start_time": "2021-10-04T21:28:56.121Z"
   },
   {
    "duration": 16,
    "start_time": "2021-10-04T21:29:27.021Z"
   },
   {
    "duration": 7,
    "start_time": "2021-10-04T21:29:57.465Z"
   },
   {
    "duration": 14,
    "start_time": "2021-10-04T21:30:04.753Z"
   },
   {
    "duration": 17,
    "start_time": "2021-10-04T21:33:30.783Z"
   },
   {
    "duration": 11,
    "start_time": "2021-10-04T21:34:05.856Z"
   },
   {
    "duration": 8478,
    "start_time": "2021-10-04T21:34:28.232Z"
   },
   {
    "duration": 116,
    "start_time": "2021-10-04T21:34:49.872Z"
   },
   {
    "duration": 336,
    "start_time": "2021-10-04T21:35:54.614Z"
   },
   {
    "duration": 14,
    "start_time": "2021-10-04T21:36:04.488Z"
   },
   {
    "duration": 9272,
    "start_time": "2021-10-04T21:36:11.304Z"
   },
   {
    "duration": 14,
    "start_time": "2021-10-04T21:36:36.888Z"
   },
   {
    "duration": 8,
    "start_time": "2021-10-04T21:36:56.647Z"
   },
   {
    "duration": 14,
    "start_time": "2021-10-04T21:37:57.750Z"
   },
   {
    "duration": 14,
    "start_time": "2021-10-04T21:39:14.086Z"
   },
   {
    "duration": 9,
    "start_time": "2021-10-04T21:39:28.142Z"
   },
   {
    "duration": 13,
    "start_time": "2021-10-04T21:39:49.094Z"
   },
   {
    "duration": 7,
    "start_time": "2021-10-04T21:40:07.895Z"
   },
   {
    "duration": 7,
    "start_time": "2021-10-04T21:45:26.069Z"
   },
   {
    "duration": 345,
    "start_time": "2021-10-04T21:51:26.713Z"
   },
   {
    "duration": 17,
    "start_time": "2021-10-04T21:52:03.227Z"
   },
   {
    "duration": 15,
    "start_time": "2021-10-04T21:53:00.293Z"
   },
   {
    "duration": 11,
    "start_time": "2021-10-04T21:54:56.122Z"
   },
   {
    "duration": 9,
    "start_time": "2021-10-04T21:55:04.722Z"
   },
   {
    "duration": 11,
    "start_time": "2021-10-04T21:55:14.113Z"
   },
   {
    "duration": 42,
    "start_time": "2021-10-04T21:56:46.960Z"
   },
   {
    "duration": 100,
    "start_time": "2021-10-04T22:01:49.124Z"
   },
   {
    "duration": 105,
    "start_time": "2021-10-04T22:01:52.595Z"
   },
   {
    "duration": 105,
    "start_time": "2021-10-04T22:02:02.499Z"
   },
   {
    "duration": 115,
    "start_time": "2021-10-04T22:03:05.869Z"
   },
   {
    "duration": 97,
    "start_time": "2021-10-04T22:03:06.951Z"
   },
   {
    "duration": 212,
    "start_time": "2021-10-04T22:03:26.446Z"
   },
   {
    "duration": 102,
    "start_time": "2021-10-04T22:03:28.463Z"
   },
   {
    "duration": 114,
    "start_time": "2021-10-04T22:03:47.487Z"
   },
   {
    "duration": 12,
    "start_time": "2021-10-04T22:06:57.607Z"
   },
   {
    "duration": 11,
    "start_time": "2021-10-04T22:08:51.750Z"
   },
   {
    "duration": 1112,
    "start_time": "2021-10-04T22:22:39.131Z"
   },
   {
    "duration": 7,
    "start_time": "2021-10-04T22:22:56.889Z"
   },
   {
    "duration": 1186,
    "start_time": "2021-10-04T22:23:45.785Z"
   },
   {
    "duration": 7,
    "start_time": "2021-10-04T22:23:52.752Z"
   },
   {
    "duration": 5,
    "start_time": "2021-10-04T22:25:20.409Z"
   },
   {
    "duration": 1166,
    "start_time": "2021-10-04T22:25:52.097Z"
   },
   {
    "duration": 5,
    "start_time": "2021-10-04T22:26:00.375Z"
   },
   {
    "duration": 6,
    "start_time": "2021-10-04T22:27:10.160Z"
   },
   {
    "duration": 1093,
    "start_time": "2021-10-04T22:27:32.770Z"
   },
   {
    "duration": 7,
    "start_time": "2021-10-04T22:27:37.455Z"
   },
   {
    "duration": 7,
    "start_time": "2021-10-04T22:27:58.616Z"
   },
   {
    "duration": 360,
    "start_time": "2021-10-04T22:31:02.383Z"
   },
   {
    "duration": 311,
    "start_time": "2021-10-04T22:32:33.655Z"
   },
   {
    "duration": 311,
    "start_time": "2021-10-04T22:33:54.886Z"
   },
   {
    "duration": 6,
    "start_time": "2021-10-04T22:34:06.942Z"
   },
   {
    "duration": 2629,
    "start_time": "2021-10-04T22:36:07.645Z"
   },
   {
    "duration": 55,
    "start_time": "2021-10-04T22:36:34.142Z"
   },
   {
    "duration": 331,
    "start_time": "2021-10-04T22:41:25.621Z"
   },
   {
    "duration": 54,
    "start_time": "2021-10-04T22:42:01.731Z"
   },
   {
    "duration": 52,
    "start_time": "2021-10-04T22:44:16.748Z"
   },
   {
    "duration": 44,
    "start_time": "2021-10-04T22:50:49.620Z"
   },
   {
    "duration": 55,
    "start_time": "2021-10-04T22:50:54.577Z"
   },
   {
    "duration": 12,
    "start_time": "2021-10-04T22:51:24.425Z"
   },
   {
    "duration": 11,
    "start_time": "2021-10-04T22:51:33.544Z"
   },
   {
    "duration": 17,
    "start_time": "2021-10-04T22:52:53.384Z"
   },
   {
    "duration": 17,
    "start_time": "2021-10-04T22:53:02.063Z"
   },
   {
    "duration": 11,
    "start_time": "2021-10-04T22:53:08.615Z"
   },
   {
    "duration": 39,
    "start_time": "2021-10-04T22:53:11.151Z"
   },
   {
    "duration": 15,
    "start_time": "2021-10-04T22:53:14.143Z"
   },
   {
    "duration": 11,
    "start_time": "2021-10-04T22:54:52.912Z"
   },
   {
    "duration": 15,
    "start_time": "2021-10-04T22:55:20.927Z"
   },
   {
    "duration": 11,
    "start_time": "2021-10-04T22:55:24.007Z"
   },
   {
    "duration": 63,
    "start_time": "2021-10-04T23:07:45.380Z"
   },
   {
    "duration": 10,
    "start_time": "2021-10-04T23:07:55.772Z"
   },
   {
    "duration": 120,
    "start_time": "2021-10-04T23:16:05.377Z"
   },
   {
    "duration": 62,
    "start_time": "2021-10-04T23:16:26.871Z"
   },
   {
    "duration": 11,
    "start_time": "2021-10-04T23:16:27.937Z"
   },
   {
    "duration": 10,
    "start_time": "2021-10-04T23:16:28.496Z"
   },
   {
    "duration": 15,
    "start_time": "2021-10-04T23:16:30.792Z"
   },
   {
    "duration": 8,
    "start_time": "2021-10-04T23:18:06.671Z"
   },
   {
    "duration": 1905,
    "start_time": "2021-10-04T23:18:32.496Z"
   },
   {
    "duration": 2068,
    "start_time": "2021-10-04T23:18:57.198Z"
   },
   {
    "duration": 903,
    "start_time": "2021-10-04T23:18:59.268Z"
   },
   {
    "duration": 26,
    "start_time": "2021-10-04T23:19:00.174Z"
   },
   {
    "duration": 62,
    "start_time": "2021-10-04T23:19:00.203Z"
   },
   {
    "duration": 17,
    "start_time": "2021-10-04T23:19:00.267Z"
   },
   {
    "duration": 28,
    "start_time": "2021-10-04T23:19:00.288Z"
   },
   {
    "duration": 45,
    "start_time": "2021-10-04T23:19:00.320Z"
   },
   {
    "duration": 13,
    "start_time": "2021-10-04T23:19:00.373Z"
   },
   {
    "duration": 10,
    "start_time": "2021-10-04T23:19:00.391Z"
   },
   {
    "duration": 57,
    "start_time": "2021-10-04T23:19:00.404Z"
   },
   {
    "duration": 15,
    "start_time": "2021-10-04T23:19:00.464Z"
   },
   {
    "duration": 12,
    "start_time": "2021-10-04T23:19:00.482Z"
   },
   {
    "duration": 64,
    "start_time": "2021-10-04T23:19:00.497Z"
   },
   {
    "duration": 10,
    "start_time": "2021-10-04T23:19:00.563Z"
   },
   {
    "duration": 344,
    "start_time": "2021-10-04T23:19:00.576Z"
   },
   {
    "duration": 348,
    "start_time": "2021-10-04T23:19:00.923Z"
   },
   {
    "duration": 318,
    "start_time": "2021-10-04T23:19:01.275Z"
   },
   {
    "duration": 30,
    "start_time": "2021-10-04T23:19:01.597Z"
   },
   {
    "duration": 34,
    "start_time": "2021-10-04T23:19:01.629Z"
   },
   {
    "duration": 18,
    "start_time": "2021-10-04T23:19:01.666Z"
   },
   {
    "duration": 30,
    "start_time": "2021-10-04T23:19:01.687Z"
   },
   {
    "duration": 3548,
    "start_time": "2021-10-04T23:19:01.720Z"
   },
   {
    "duration": 3897,
    "start_time": "2021-10-04T23:19:05.276Z"
   },
   {
    "duration": 3892,
    "start_time": "2021-10-04T23:19:09.176Z"
   },
   {
    "duration": 2504,
    "start_time": "2021-10-04T23:19:13.070Z"
   },
   {
    "duration": -1567,
    "start_time": "2021-10-04T23:19:17.143Z"
   },
   {
    "duration": -1568,
    "start_time": "2021-10-04T23:19:17.146Z"
   },
   {
    "duration": -1571,
    "start_time": "2021-10-04T23:19:17.150Z"
   },
   {
    "duration": -1572,
    "start_time": "2021-10-04T23:19:17.153Z"
   },
   {
    "duration": -1575,
    "start_time": "2021-10-04T23:19:17.157Z"
   },
   {
    "duration": -1577,
    "start_time": "2021-10-04T23:19:17.160Z"
   },
   {
    "duration": -1580,
    "start_time": "2021-10-04T23:19:17.165Z"
   },
   {
    "duration": -1582,
    "start_time": "2021-10-04T23:19:17.168Z"
   },
   {
    "duration": -1587,
    "start_time": "2021-10-04T23:19:17.174Z"
   },
   {
    "duration": -1588,
    "start_time": "2021-10-04T23:19:17.176Z"
   },
   {
    "duration": -1590,
    "start_time": "2021-10-04T23:19:17.180Z"
   },
   {
    "duration": -1599,
    "start_time": "2021-10-04T23:19:17.190Z"
   },
   {
    "duration": -1605,
    "start_time": "2021-10-04T23:19:17.197Z"
   },
   {
    "duration": -1609,
    "start_time": "2021-10-04T23:19:17.202Z"
   },
   {
    "duration": -1611,
    "start_time": "2021-10-04T23:19:17.205Z"
   },
   {
    "duration": -1613,
    "start_time": "2021-10-04T23:19:17.208Z"
   },
   {
    "duration": -1616,
    "start_time": "2021-10-04T23:19:17.213Z"
   },
   {
    "duration": -1618,
    "start_time": "2021-10-04T23:19:17.216Z"
   },
   {
    "duration": -1623,
    "start_time": "2021-10-04T23:19:17.222Z"
   },
   {
    "duration": 9,
    "start_time": "2021-10-04T23:20:30.615Z"
   },
   {
    "duration": 1846,
    "start_time": "2021-10-04T23:22:00.664Z"
   },
   {
    "duration": 14,
    "start_time": "2021-10-04T23:24:01.862Z"
   },
   {
    "duration": 532,
    "start_time": "2021-10-04T23:24:54.416Z"
   },
   {
    "duration": 14,
    "start_time": "2021-10-04T23:25:29.213Z"
   },
   {
    "duration": 1890,
    "start_time": "2021-10-04T23:25:58.574Z"
   },
   {
    "duration": 1912,
    "start_time": "2021-10-04T23:26:57.838Z"
   },
   {
    "duration": 1932,
    "start_time": "2021-10-04T23:28:21.582Z"
   },
   {
    "duration": 1070,
    "start_time": "2021-10-04T23:29:21.253Z"
   },
   {
    "duration": 14,
    "start_time": "2021-10-04T23:29:34.068Z"
   },
   {
    "duration": 7,
    "start_time": "2021-10-04T23:29:42.028Z"
   },
   {
    "duration": 84,
    "start_time": "2021-10-04T23:29:43.924Z"
   },
   {
    "duration": 10,
    "start_time": "2021-10-04T23:29:44.588Z"
   },
   {
    "duration": 10,
    "start_time": "2021-10-04T23:29:47.638Z"
   },
   {
    "duration": 738,
    "start_time": "2021-10-04T23:32:31.346Z"
   },
   {
    "duration": 1442,
    "start_time": "2021-10-04T23:33:06.341Z"
   },
   {
    "duration": 880,
    "start_time": "2021-10-04T23:33:07.786Z"
   },
   {
    "duration": 24,
    "start_time": "2021-10-04T23:33:08.668Z"
   },
   {
    "duration": 33,
    "start_time": "2021-10-04T23:33:08.694Z"
   },
   {
    "duration": 36,
    "start_time": "2021-10-04T23:33:08.730Z"
   },
   {
    "duration": 32,
    "start_time": "2021-10-04T23:33:08.769Z"
   },
   {
    "duration": 9,
    "start_time": "2021-10-04T23:33:08.803Z"
   },
   {
    "duration": 43,
    "start_time": "2021-10-04T23:33:08.816Z"
   },
   {
    "duration": 12,
    "start_time": "2021-10-04T23:33:08.863Z"
   },
   {
    "duration": 31,
    "start_time": "2021-10-04T23:33:08.879Z"
   },
   {
    "duration": 15,
    "start_time": "2021-10-04T23:33:08.914Z"
   },
   {
    "duration": 33,
    "start_time": "2021-10-04T23:33:08.932Z"
   },
   {
    "duration": 22,
    "start_time": "2021-10-04T23:33:08.968Z"
   },
   {
    "duration": 11,
    "start_time": "2021-10-04T23:33:08.992Z"
   },
   {
    "duration": 373,
    "start_time": "2021-10-04T23:33:09.006Z"
   },
   {
    "duration": 335,
    "start_time": "2021-10-04T23:33:09.382Z"
   },
   {
    "duration": 328,
    "start_time": "2021-10-04T23:33:09.721Z"
   },
   {
    "duration": 30,
    "start_time": "2021-10-04T23:33:10.052Z"
   },
   {
    "duration": 18,
    "start_time": "2021-10-04T23:33:10.084Z"
   },
   {
    "duration": 56,
    "start_time": "2021-10-04T23:33:10.105Z"
   },
   {
    "duration": 12,
    "start_time": "2021-10-04T23:33:10.163Z"
   },
   {
    "duration": 3579,
    "start_time": "2021-10-04T23:33:10.178Z"
   },
   {
    "duration": 3838,
    "start_time": "2021-10-04T23:33:13.762Z"
   },
   {
    "duration": 3964,
    "start_time": "2021-10-04T23:33:17.603Z"
   },
   {
    "duration": 1104,
    "start_time": "2021-10-04T23:33:21.570Z"
   },
   {
    "duration": 8,
    "start_time": "2021-10-04T23:33:22.677Z"
   },
   {
    "duration": 109,
    "start_time": "2021-10-04T23:33:22.688Z"
   },
   {
    "duration": 805,
    "start_time": "2021-10-04T23:33:22.800Z"
   },
   {
    "duration": 4,
    "start_time": "2021-10-04T23:33:23.608Z"
   },
   {
    "duration": 17,
    "start_time": "2021-10-04T23:33:23.615Z"
   },
   {
    "duration": 25,
    "start_time": "2021-10-04T23:33:23.634Z"
   },
   {
    "duration": 23,
    "start_time": "2021-10-04T23:33:23.661Z"
   },
   {
    "duration": 35,
    "start_time": "2021-10-04T23:33:23.687Z"
   },
   {
    "duration": 38,
    "start_time": "2021-10-04T23:33:23.724Z"
   },
   {
    "duration": 4,
    "start_time": "2021-10-04T23:33:23.765Z"
   },
   {
    "duration": 38292,
    "start_time": "2021-10-04T23:33:23.772Z"
   },
   {
    "duration": 90,
    "start_time": "2021-10-04T23:34:02.066Z"
   },
   {
    "duration": 5,
    "start_time": "2021-10-04T23:34:02.159Z"
   },
   {
    "duration": 13070,
    "start_time": "2021-10-04T23:34:02.166Z"
   },
   {
    "duration": -1611,
    "start_time": "2021-10-04T23:34:16.852Z"
   },
   {
    "duration": -1614,
    "start_time": "2021-10-04T23:34:16.857Z"
   },
   {
    "duration": -1615,
    "start_time": "2021-10-04T23:34:16.860Z"
   },
   {
    "duration": -1617,
    "start_time": "2021-10-04T23:34:16.864Z"
   },
   {
    "duration": -1618,
    "start_time": "2021-10-04T23:34:16.867Z"
   },
   {
    "duration": 489,
    "start_time": "2021-10-04T23:34:17.843Z"
   },
   {
    "duration": 499,
    "start_time": "2021-10-04T23:34:27.660Z"
   },
   {
    "duration": 1499,
    "start_time": "2021-10-04T23:34:44.085Z"
   },
   {
    "duration": 871,
    "start_time": "2021-10-04T23:34:45.586Z"
   },
   {
    "duration": 24,
    "start_time": "2021-10-04T23:34:46.463Z"
   },
   {
    "duration": 34,
    "start_time": "2021-10-04T23:34:46.490Z"
   },
   {
    "duration": 43,
    "start_time": "2021-10-04T23:34:46.527Z"
   },
   {
    "duration": 26,
    "start_time": "2021-10-04T23:34:46.573Z"
   },
   {
    "duration": 9,
    "start_time": "2021-10-04T23:34:46.603Z"
   },
   {
    "duration": 43,
    "start_time": "2021-10-04T23:34:46.615Z"
   },
   {
    "duration": 8,
    "start_time": "2021-10-04T23:34:46.661Z"
   },
   {
    "duration": 30,
    "start_time": "2021-10-04T23:34:46.671Z"
   },
   {
    "duration": 12,
    "start_time": "2021-10-04T23:34:46.703Z"
   },
   {
    "duration": 9,
    "start_time": "2021-10-04T23:34:46.718Z"
   },
   {
    "duration": 47,
    "start_time": "2021-10-04T23:34:46.729Z"
   },
   {
    "duration": 8,
    "start_time": "2021-10-04T23:34:46.778Z"
   },
   {
    "duration": 332,
    "start_time": "2021-10-04T23:34:46.788Z"
   },
   {
    "duration": 328,
    "start_time": "2021-10-04T23:34:47.123Z"
   },
   {
    "duration": 307,
    "start_time": "2021-10-04T23:34:47.453Z"
   },
   {
    "duration": 30,
    "start_time": "2021-10-04T23:34:47.762Z"
   },
   {
    "duration": 16,
    "start_time": "2021-10-04T23:34:47.794Z"
   },
   {
    "duration": 47,
    "start_time": "2021-10-04T23:34:47.812Z"
   },
   {
    "duration": 10,
    "start_time": "2021-10-04T23:34:47.861Z"
   },
   {
    "duration": 3485,
    "start_time": "2021-10-04T23:34:47.876Z"
   },
   {
    "duration": 3639,
    "start_time": "2021-10-04T23:34:51.364Z"
   },
   {
    "duration": 3910,
    "start_time": "2021-10-04T23:34:55.005Z"
   },
   {
    "duration": 1107,
    "start_time": "2021-10-04T23:34:58.918Z"
   },
   {
    "duration": 11,
    "start_time": "2021-10-04T23:35:00.028Z"
   },
   {
    "duration": 51,
    "start_time": "2021-10-04T23:35:00.059Z"
   },
   {
    "duration": 754,
    "start_time": "2021-10-04T23:35:00.113Z"
   },
   {
    "duration": 5,
    "start_time": "2021-10-04T23:35:00.869Z"
   },
   {
    "duration": 26,
    "start_time": "2021-10-04T23:35:00.876Z"
   },
   {
    "duration": 18,
    "start_time": "2021-10-04T23:35:00.905Z"
   },
   {
    "duration": 43,
    "start_time": "2021-10-04T23:35:00.925Z"
   },
   {
    "duration": 43,
    "start_time": "2021-10-04T23:35:00.972Z"
   },
   {
    "duration": 12,
    "start_time": "2021-10-04T23:35:01.017Z"
   },
   {
    "duration": 6,
    "start_time": "2021-10-04T23:35:01.056Z"
   },
   {
    "duration": 44099,
    "start_time": "2021-10-04T23:35:01.065Z"
   },
   {
    "duration": 6,
    "start_time": "2021-10-04T23:35:45.168Z"
   },
   {
    "duration": 81,
    "start_time": "2021-10-04T23:35:45.177Z"
   },
   {
    "duration": 26011,
    "start_time": "2021-10-04T23:35:45.260Z"
   },
   {
    "duration": -1596,
    "start_time": "2021-10-04T23:36:12.871Z"
   },
   {
    "duration": -1599,
    "start_time": "2021-10-04T23:36:12.876Z"
   },
   {
    "duration": -1605,
    "start_time": "2021-10-04T23:36:12.884Z"
   },
   {
    "duration": -1607,
    "start_time": "2021-10-04T23:36:12.888Z"
   },
   {
    "duration": -1607,
    "start_time": "2021-10-04T23:36:12.891Z"
   },
   {
    "duration": 61,
    "start_time": "2021-10-04T23:36:14.194Z"
   },
   {
    "duration": 597,
    "start_time": "2021-10-04T23:36:16.362Z"
   },
   {
    "duration": 54,
    "start_time": "2021-10-04T23:36:24.305Z"
   },
   {
    "duration": 515,
    "start_time": "2021-10-04T23:36:25.297Z"
   },
   {
    "duration": 81,
    "start_time": "2021-10-04T23:36:37.225Z"
   },
   {
    "duration": 540,
    "start_time": "2021-10-04T23:36:38.122Z"
   },
   {
    "duration": 326,
    "start_time": "2021-10-04T23:38:19.865Z"
   },
   {
    "duration": 1455,
    "start_time": "2021-10-04T23:40:12.429Z"
   },
   {
    "duration": 896,
    "start_time": "2021-10-04T23:40:13.886Z"
   },
   {
    "duration": 26,
    "start_time": "2021-10-04T23:40:14.786Z"
   },
   {
    "duration": 56,
    "start_time": "2021-10-04T23:40:14.816Z"
   },
   {
    "duration": 17,
    "start_time": "2021-10-04T23:40:14.875Z"
   },
   {
    "duration": 61,
    "start_time": "2021-10-04T23:40:14.896Z"
   },
   {
    "duration": 10,
    "start_time": "2021-10-04T23:40:14.960Z"
   },
   {
    "duration": 13,
    "start_time": "2021-10-04T23:40:14.974Z"
   },
   {
    "duration": 7,
    "start_time": "2021-10-04T23:40:14.990Z"
   },
   {
    "duration": 18,
    "start_time": "2021-10-04T23:40:14.999Z"
   },
   {
    "duration": 14,
    "start_time": "2021-10-04T23:40:15.057Z"
   },
   {
    "duration": 10,
    "start_time": "2021-10-04T23:40:15.074Z"
   },
   {
    "duration": 22,
    "start_time": "2021-10-04T23:40:15.087Z"
   },
   {
    "duration": 9,
    "start_time": "2021-10-04T23:40:15.112Z"
   },
   {
    "duration": 377,
    "start_time": "2021-10-04T23:40:15.123Z"
   },
   {
    "duration": 339,
    "start_time": "2021-10-04T23:40:15.503Z"
   },
   {
    "duration": 308,
    "start_time": "2021-10-04T23:40:15.845Z"
   },
   {
    "duration": 28,
    "start_time": "2021-10-04T23:40:16.155Z"
   },
   {
    "duration": 16,
    "start_time": "2021-10-04T23:40:16.185Z"
   },
   {
    "duration": 14,
    "start_time": "2021-10-04T23:40:16.203Z"
   },
   {
    "duration": 41,
    "start_time": "2021-10-04T23:40:16.219Z"
   },
   {
    "duration": 3674,
    "start_time": "2021-10-04T23:40:16.262Z"
   },
   {
    "duration": 3754,
    "start_time": "2021-10-04T23:40:19.940Z"
   },
   {
    "duration": 3905,
    "start_time": "2021-10-04T23:40:23.697Z"
   },
   {
    "duration": 1076,
    "start_time": "2021-10-04T23:40:27.605Z"
   },
   {
    "duration": 9,
    "start_time": "2021-10-04T23:40:28.683Z"
   },
   {
    "duration": 101,
    "start_time": "2021-10-04T23:40:28.694Z"
   },
   {
    "duration": 4,
    "start_time": "2021-10-04T23:40:28.798Z"
   },
   {
    "duration": 18,
    "start_time": "2021-10-04T23:40:28.804Z"
   },
   {
    "duration": 11,
    "start_time": "2021-10-04T23:40:28.824Z"
   },
   {
    "duration": 37,
    "start_time": "2021-10-04T23:40:28.837Z"
   },
   {
    "duration": 35,
    "start_time": "2021-10-04T23:40:28.877Z"
   },
   {
    "duration": 9,
    "start_time": "2021-10-04T23:40:28.914Z"
   },
   {
    "duration": 32,
    "start_time": "2021-10-04T23:40:28.926Z"
   },
   {
    "duration": 37115,
    "start_time": "2021-10-04T23:40:28.960Z"
   },
   {
    "duration": 6,
    "start_time": "2021-10-04T23:41:06.159Z"
   },
   {
    "duration": 91,
    "start_time": "2021-10-04T23:41:06.167Z"
   },
   {
    "duration": 156403,
    "start_time": "2021-10-04T23:41:06.261Z"
   },
   {
    "duration": 339307,
    "start_time": "2021-10-04T23:43:42.666Z"
   },
   {
    "duration": 1787,
    "start_time": "2021-10-04T23:49:21.975Z"
   },
   {
    "duration": 93,
    "start_time": "2021-10-04T23:49:23.765Z"
   },
   {
    "duration": 774,
    "start_time": "2021-10-04T23:49:23.861Z"
   },
   {
    "duration": 37,
    "start_time": "2021-10-04T23:58:45.653Z"
   },
   {
    "duration": 38,
    "start_time": "2021-10-04T23:59:06.556Z"
   },
   {
    "duration": 8,
    "start_time": "2021-10-04T23:59:22.098Z"
   },
   {
    "duration": 348,
    "start_time": "2021-10-05T00:02:46.674Z"
   },
   {
    "duration": 7,
    "start_time": "2021-10-05T00:03:12.186Z"
   },
   {
    "duration": 101,
    "start_time": "2021-10-05T00:05:58.313Z"
   },
   {
    "duration": 20,
    "start_time": "2021-10-05T00:06:04.737Z"
   },
   {
    "duration": 19,
    "start_time": "2021-10-05T00:11:19.854Z"
   },
   {
    "duration": 18,
    "start_time": "2021-10-05T00:11:27.703Z"
   },
   {
    "duration": 20,
    "start_time": "2021-10-05T00:11:40.536Z"
   },
   {
    "duration": 1450,
    "start_time": "2021-10-05T00:12:26.610Z"
   },
   {
    "duration": 886,
    "start_time": "2021-10-05T00:12:28.063Z"
   },
   {
    "duration": 23,
    "start_time": "2021-10-05T00:12:28.953Z"
   },
   {
    "duration": 34,
    "start_time": "2021-10-05T00:12:28.979Z"
   },
   {
    "duration": 44,
    "start_time": "2021-10-05T00:12:29.015Z"
   },
   {
    "duration": 26,
    "start_time": "2021-10-05T00:12:29.061Z"
   },
   {
    "duration": 9,
    "start_time": "2021-10-05T00:12:29.089Z"
   },
   {
    "duration": 17,
    "start_time": "2021-10-05T00:12:29.102Z"
   },
   {
    "duration": 37,
    "start_time": "2021-10-05T00:12:29.122Z"
   },
   {
    "duration": 21,
    "start_time": "2021-10-05T00:12:29.162Z"
   },
   {
    "duration": 13,
    "start_time": "2021-10-05T00:12:29.185Z"
   },
   {
    "duration": 9,
    "start_time": "2021-10-05T00:12:29.201Z"
   },
   {
    "duration": 57,
    "start_time": "2021-10-05T00:12:29.213Z"
   },
   {
    "duration": 11,
    "start_time": "2021-10-05T00:12:29.273Z"
   },
   {
    "duration": 359,
    "start_time": "2021-10-05T00:12:29.287Z"
   },
   {
    "duration": 341,
    "start_time": "2021-10-05T00:12:29.648Z"
   },
   {
    "duration": 312,
    "start_time": "2021-10-05T00:12:29.992Z"
   },
   {
    "duration": 28,
    "start_time": "2021-10-05T00:12:30.307Z"
   },
   {
    "duration": 33,
    "start_time": "2021-10-05T00:12:30.338Z"
   },
   {
    "duration": 15,
    "start_time": "2021-10-05T00:12:30.373Z"
   },
   {
    "duration": 12,
    "start_time": "2021-10-05T00:12:30.391Z"
   },
   {
    "duration": 3582,
    "start_time": "2021-10-05T00:12:30.405Z"
   },
   {
    "duration": 3919,
    "start_time": "2021-10-05T00:12:33.992Z"
   },
   {
    "duration": 3961,
    "start_time": "2021-10-05T00:12:37.914Z"
   },
   {
    "duration": 1165,
    "start_time": "2021-10-05T00:12:41.878Z"
   },
   {
    "duration": 14,
    "start_time": "2021-10-05T00:12:43.047Z"
   },
   {
    "duration": 25,
    "start_time": "2021-10-05T00:12:43.064Z"
   },
   {
    "duration": 5,
    "start_time": "2021-10-05T00:12:43.092Z"
   },
   {
    "duration": 63,
    "start_time": "2021-10-05T00:12:43.100Z"
   },
   {
    "duration": 6,
    "start_time": "2021-10-05T00:12:43.166Z"
   },
   {
    "duration": 29,
    "start_time": "2021-10-05T00:12:43.174Z"
   },
   {
    "duration": 5,
    "start_time": "2021-10-05T00:12:43.206Z"
   },
   {
    "duration": 86,
    "start_time": "2021-10-05T00:12:43.214Z"
   },
   {
    "duration": 12,
    "start_time": "2021-10-05T00:12:43.302Z"
   },
   {
    "duration": 6,
    "start_time": "2021-10-05T00:12:43.316Z"
   },
   {
    "duration": 43942,
    "start_time": "2021-10-05T00:12:43.324Z"
   },
   {
    "duration": 91,
    "start_time": "2021-10-05T00:13:27.269Z"
   },
   {
    "duration": 7,
    "start_time": "2021-10-05T00:13:27.363Z"
   },
   {
    "duration": 162679,
    "start_time": "2021-10-05T00:13:27.373Z"
   },
   {
    "duration": 100883,
    "start_time": "2021-10-05T00:16:10.058Z"
   },
   {
    "duration": -1635,
    "start_time": "2021-10-05T00:17:52.579Z"
   },
   {
    "duration": -1639,
    "start_time": "2021-10-05T00:17:52.584Z"
   },
   {
    "duration": -1641,
    "start_time": "2021-10-05T00:17:52.587Z"
   },
   {
    "duration": -1642,
    "start_time": "2021-10-05T00:17:52.590Z"
   },
   {
    "duration": -1644,
    "start_time": "2021-10-05T00:17:52.593Z"
   },
   {
    "duration": 53,
    "start_time": "2021-10-05T00:17:52.953Z"
   },
   {
    "duration": 90,
    "start_time": "2021-10-05T00:19:40.433Z"
   },
   {
    "duration": 62,
    "start_time": "2021-10-05T00:20:30.145Z"
   },
   {
    "duration": 9,
    "start_time": "2021-10-05T00:21:34.445Z"
   },
   {
    "duration": 71,
    "start_time": "2021-10-05T00:21:56.288Z"
   },
   {
    "duration": 344,
    "start_time": "2021-10-05T00:22:37.943Z"
   },
   {
    "duration": 49,
    "start_time": "2021-10-05T00:23:01.296Z"
   },
   {
    "duration": 41,
    "start_time": "2021-10-05T00:24:00.960Z"
   },
   {
    "duration": 162,
    "start_time": "2021-10-05T00:26:45.456Z"
   },
   {
    "duration": 48,
    "start_time": "2021-10-05T00:26:50.087Z"
   },
   {
    "duration": 49,
    "start_time": "2021-10-05T00:27:00.807Z"
   },
   {
    "duration": 42,
    "start_time": "2021-10-05T00:27:01.816Z"
   },
   {
    "duration": 1093,
    "start_time": "2021-10-05T00:27:59.942Z"
   },
   {
    "duration": 9,
    "start_time": "2021-10-05T00:28:07.245Z"
   },
   {
    "duration": 88,
    "start_time": "2021-10-05T00:29:37.173Z"
   },
   {
    "duration": 1083,
    "start_time": "2021-10-05T00:29:41.941Z"
   },
   {
    "duration": 9,
    "start_time": "2021-10-05T00:29:48.719Z"
   },
   {
    "duration": 28,
    "start_time": "2021-10-05T00:30:30.477Z"
   },
   {
    "duration": 2282,
    "start_time": "2021-10-05T00:32:05.111Z"
   },
   {
    "duration": 900,
    "start_time": "2021-10-05T00:32:07.396Z"
   },
   {
    "duration": 24,
    "start_time": "2021-10-05T00:32:08.298Z"
   },
   {
    "duration": 50,
    "start_time": "2021-10-05T00:32:08.325Z"
   },
   {
    "duration": 18,
    "start_time": "2021-10-05T00:32:08.377Z"
   },
   {
    "duration": 27,
    "start_time": "2021-10-05T00:32:08.397Z"
   },
   {
    "duration": 36,
    "start_time": "2021-10-05T00:32:08.427Z"
   },
   {
    "duration": 20,
    "start_time": "2021-10-05T00:32:08.467Z"
   },
   {
    "duration": 15,
    "start_time": "2021-10-05T00:32:08.490Z"
   },
   {
    "duration": 26,
    "start_time": "2021-10-05T00:32:08.508Z"
   },
   {
    "duration": 27,
    "start_time": "2021-10-05T00:32:08.537Z"
   },
   {
    "duration": 9,
    "start_time": "2021-10-05T00:32:08.567Z"
   },
   {
    "duration": 21,
    "start_time": "2021-10-05T00:32:08.578Z"
   },
   {
    "duration": 8,
    "start_time": "2021-10-05T00:32:08.601Z"
   },
   {
    "duration": 492,
    "start_time": "2021-10-05T00:32:08.612Z"
   },
   {
    "duration": 513,
    "start_time": "2021-10-05T00:32:09.159Z"
   },
   {
    "duration": 341,
    "start_time": "2021-10-05T00:32:09.675Z"
   },
   {
    "duration": 43,
    "start_time": "2021-10-05T00:32:10.019Z"
   },
   {
    "duration": 17,
    "start_time": "2021-10-05T00:32:10.064Z"
   },
   {
    "duration": 14,
    "start_time": "2021-10-05T00:32:10.083Z"
   },
   {
    "duration": 9,
    "start_time": "2021-10-05T00:32:10.099Z"
   },
   {
    "duration": 3659,
    "start_time": "2021-10-05T00:32:10.110Z"
   },
   {
    "duration": 3832,
    "start_time": "2021-10-05T00:32:13.774Z"
   },
   {
    "duration": 3973,
    "start_time": "2021-10-05T00:32:17.610Z"
   },
   {
    "duration": 1098,
    "start_time": "2021-10-05T00:32:21.586Z"
   },
   {
    "duration": 9,
    "start_time": "2021-10-05T00:32:22.686Z"
   },
   {
    "duration": 118,
    "start_time": "2021-10-05T00:32:22.697Z"
   },
   {
    "duration": 4,
    "start_time": "2021-10-05T00:32:22.817Z"
   },
   {
    "duration": 19,
    "start_time": "2021-10-05T00:32:22.824Z"
   },
   {
    "duration": 3,
    "start_time": "2021-10-05T00:32:22.858Z"
   },
   {
    "duration": 22,
    "start_time": "2021-10-05T00:32:22.864Z"
   },
   {
    "duration": 15,
    "start_time": "2021-10-05T00:32:22.889Z"
   },
   {
    "duration": 62,
    "start_time": "2021-10-05T00:32:22.906Z"
   },
   {
    "duration": 9,
    "start_time": "2021-10-05T00:32:22.971Z"
   },
   {
    "duration": 7,
    "start_time": "2021-10-05T00:32:22.982Z"
   },
   {
    "duration": 37170,
    "start_time": "2021-10-05T00:32:22.992Z"
   },
   {
    "duration": 6,
    "start_time": "2021-10-05T00:33:00.166Z"
   },
   {
    "duration": 83,
    "start_time": "2021-10-05T00:33:00.175Z"
   },
   {
    "duration": 154912,
    "start_time": "2021-10-05T00:33:00.260Z"
   },
   {
    "duration": 337784,
    "start_time": "2021-10-05T00:35:35.175Z"
   },
   {
    "duration": 1897,
    "start_time": "2021-10-05T00:41:12.962Z"
   },
   {
    "duration": 95,
    "start_time": "2021-10-05T00:41:14.863Z"
   },
   {
    "duration": 106,
    "start_time": "2021-10-05T00:41:14.961Z"
   },
   {
    "duration": 450,
    "start_time": "2021-10-05T00:41:15.159Z"
   },
   {
    "duration": 441,
    "start_time": "2021-10-05T00:41:20.803Z"
   },
   {
    "duration": 5,
    "start_time": "2021-10-05T00:41:45.655Z"
   },
   {
    "duration": 879,
    "start_time": "2021-10-05T00:41:51.150Z"
   },
   {
    "duration": 19,
    "start_time": "2021-10-05T00:42:14.806Z"
   },
   {
    "duration": 17,
    "start_time": "2021-10-05T00:43:02.766Z"
   },
   {
    "duration": 16,
    "start_time": "2021-10-05T00:43:47.901Z"
   },
   {
    "duration": 1195,
    "start_time": "2021-10-05T00:45:49.997Z"
   },
   {
    "duration": 16,
    "start_time": "2021-10-05T00:46:19.670Z"
   },
   {
    "duration": 17,
    "start_time": "2021-10-05T00:46:27.724Z"
   },
   {
    "duration": 6,
    "start_time": "2021-10-05T00:48:00.299Z"
   },
   {
    "duration": 16,
    "start_time": "2021-10-05T00:50:28.302Z"
   },
   {
    "duration": 18,
    "start_time": "2021-10-05T00:51:51.963Z"
   },
   {
    "duration": 6,
    "start_time": "2021-10-05T00:52:15.178Z"
   },
   {
    "duration": 16,
    "start_time": "2021-10-05T00:54:07.658Z"
   },
   {
    "duration": 16,
    "start_time": "2021-10-05T00:54:55.793Z"
   },
   {
    "duration": 17,
    "start_time": "2021-10-05T00:55:04.369Z"
   },
   {
    "duration": 7,
    "start_time": "2021-10-05T00:55:30.353Z"
   },
   {
    "duration": 16,
    "start_time": "2021-10-05T00:57:47.706Z"
   },
   {
    "duration": 15,
    "start_time": "2021-10-05T00:58:07.905Z"
   },
   {
    "duration": 10,
    "start_time": "2021-10-05T01:00:14.551Z"
   },
   {
    "duration": 17,
    "start_time": "2021-10-05T01:18:09.554Z"
   },
   {
    "duration": 16,
    "start_time": "2021-10-05T01:18:20.027Z"
   },
   {
    "duration": 16,
    "start_time": "2021-10-05T01:18:30.051Z"
   },
   {
    "duration": 18,
    "start_time": "2021-10-05T01:18:35.313Z"
   },
   {
    "duration": 1173,
    "start_time": "2021-10-08T15:02:21.115Z"
   },
   {
    "duration": 714,
    "start_time": "2021-10-08T15:02:22.290Z"
   },
   {
    "duration": 15,
    "start_time": "2021-10-08T15:02:23.006Z"
   },
   {
    "duration": 31,
    "start_time": "2021-10-08T15:02:23.023Z"
   },
   {
    "duration": 22,
    "start_time": "2021-10-08T15:02:23.055Z"
   },
   {
    "duration": 33,
    "start_time": "2021-10-08T15:02:23.079Z"
   },
   {
    "duration": 20,
    "start_time": "2021-10-08T15:02:23.113Z"
   },
   {
    "duration": 34,
    "start_time": "2021-10-08T15:02:23.135Z"
   },
   {
    "duration": 23,
    "start_time": "2021-10-08T15:02:23.171Z"
   },
   {
    "duration": 33,
    "start_time": "2021-10-08T15:02:23.196Z"
   },
   {
    "duration": 9,
    "start_time": "2021-10-08T15:02:23.231Z"
   },
   {
    "duration": 7,
    "start_time": "2021-10-08T15:02:23.242Z"
   },
   {
    "duration": 14,
    "start_time": "2021-10-08T15:02:23.251Z"
   },
   {
    "duration": 7,
    "start_time": "2021-10-08T15:02:23.267Z"
   },
   {
    "duration": 209,
    "start_time": "2021-10-08T15:02:23.275Z"
   },
   {
    "duration": 195,
    "start_time": "2021-10-08T15:02:23.485Z"
   },
   {
    "duration": 184,
    "start_time": "2021-10-08T15:02:23.681Z"
   },
   {
    "duration": 23,
    "start_time": "2021-10-08T15:02:23.867Z"
   },
   {
    "duration": 11,
    "start_time": "2021-10-08T15:02:23.892Z"
   },
   {
    "duration": 10,
    "start_time": "2021-10-08T15:02:23.904Z"
   },
   {
    "duration": 31,
    "start_time": "2021-10-08T15:02:23.915Z"
   },
   {
    "duration": 86,
    "start_time": "2021-10-08T15:02:23.948Z"
   },
   {
    "duration": -2961,
    "start_time": "2021-10-08T15:02:26.998Z"
   },
   {
    "duration": -2965,
    "start_time": "2021-10-08T15:02:27.003Z"
   },
   {
    "duration": -2968,
    "start_time": "2021-10-08T15:02:27.007Z"
   },
   {
    "duration": -2976,
    "start_time": "2021-10-08T15:02:27.016Z"
   },
   {
    "duration": -2985,
    "start_time": "2021-10-08T15:02:27.026Z"
   },
   {
    "duration": -2988,
    "start_time": "2021-10-08T15:02:27.030Z"
   },
   {
    "duration": -2992,
    "start_time": "2021-10-08T15:02:27.035Z"
   },
   {
    "duration": -2995,
    "start_time": "2021-10-08T15:02:27.039Z"
   },
   {
    "duration": -2997,
    "start_time": "2021-10-08T15:02:27.043Z"
   },
   {
    "duration": -3000,
    "start_time": "2021-10-08T15:02:27.047Z"
   },
   {
    "duration": -3004,
    "start_time": "2021-10-08T15:02:27.052Z"
   },
   {
    "duration": -3007,
    "start_time": "2021-10-08T15:02:27.056Z"
   },
   {
    "duration": -3011,
    "start_time": "2021-10-08T15:02:27.061Z"
   },
   {
    "duration": -3014,
    "start_time": "2021-10-08T15:02:27.065Z"
   },
   {
    "duration": -3025,
    "start_time": "2021-10-08T15:02:27.077Z"
   },
   {
    "duration": -3029,
    "start_time": "2021-10-08T15:02:27.082Z"
   },
   {
    "duration": -3036,
    "start_time": "2021-10-08T15:02:27.090Z"
   },
   {
    "duration": -3041,
    "start_time": "2021-10-08T15:02:27.096Z"
   },
   {
    "duration": -3048,
    "start_time": "2021-10-08T15:02:27.104Z"
   },
   {
    "duration": -3053,
    "start_time": "2021-10-08T15:02:27.110Z"
   },
   {
    "duration": -3067,
    "start_time": "2021-10-08T15:02:27.125Z"
   },
   {
    "duration": -3071,
    "start_time": "2021-10-08T15:02:27.131Z"
   },
   {
    "duration": 2077,
    "start_time": "2021-10-08T15:03:51.479Z"
   },
   {
    "duration": 88,
    "start_time": "2021-10-08T15:04:37.516Z"
   },
   {
    "duration": 616,
    "start_time": "2021-10-08T15:04:57.390Z"
   },
   {
    "duration": 773,
    "start_time": "2021-10-08T15:05:34.154Z"
   },
   {
    "duration": 2104,
    "start_time": "2021-10-08T15:05:49.455Z"
   },
   {
    "duration": 1100,
    "start_time": "2021-10-16T22:12:06.004Z"
   },
   {
    "duration": 708,
    "start_time": "2021-10-16T22:12:07.105Z"
   },
   {
    "duration": 16,
    "start_time": "2021-10-16T22:12:07.815Z"
   },
   {
    "duration": 20,
    "start_time": "2021-10-16T22:12:07.833Z"
   },
   {
    "duration": 26,
    "start_time": "2021-10-16T22:12:07.855Z"
   },
   {
    "duration": 17,
    "start_time": "2021-10-16T22:12:07.883Z"
   },
   {
    "duration": 7,
    "start_time": "2021-10-16T22:12:07.902Z"
   },
   {
    "duration": 11,
    "start_time": "2021-10-16T22:12:07.912Z"
   },
   {
    "duration": 5,
    "start_time": "2021-10-16T22:12:07.925Z"
   },
   {
    "duration": 49,
    "start_time": "2021-10-16T22:12:07.932Z"
   },
   {
    "duration": 10,
    "start_time": "2021-10-16T22:12:07.983Z"
   },
   {
    "duration": 8,
    "start_time": "2021-10-16T22:12:07.995Z"
   },
   {
    "duration": 13,
    "start_time": "2021-10-16T22:12:08.005Z"
   },
   {
    "duration": 6,
    "start_time": "2021-10-16T22:12:08.020Z"
   },
   {
    "duration": 227,
    "start_time": "2021-10-16T22:12:08.028Z"
   },
   {
    "duration": 194,
    "start_time": "2021-10-16T22:12:08.257Z"
   },
   {
    "duration": 177,
    "start_time": "2021-10-16T22:12:08.453Z"
   },
   {
    "duration": 22,
    "start_time": "2021-10-16T22:12:08.631Z"
   },
   {
    "duration": 21,
    "start_time": "2021-10-16T22:12:08.655Z"
   },
   {
    "duration": 9,
    "start_time": "2021-10-16T22:12:08.678Z"
   },
   {
    "duration": 7,
    "start_time": "2021-10-16T22:12:08.689Z"
   },
   {
    "duration": 2003,
    "start_time": "2021-10-16T22:12:08.698Z"
   },
   {
    "duration": 2065,
    "start_time": "2021-10-16T22:12:10.704Z"
   },
   {
    "duration": 2191,
    "start_time": "2021-10-16T22:12:12.776Z"
   },
   {
    "duration": 638,
    "start_time": "2021-10-16T22:12:14.969Z"
   },
   {
    "duration": 5,
    "start_time": "2021-10-16T22:12:15.609Z"
   },
   {
    "duration": 74,
    "start_time": "2021-10-16T22:12:15.615Z"
   },
   {
    "duration": 3,
    "start_time": "2021-10-16T22:12:15.691Z"
   },
   {
    "duration": 20,
    "start_time": "2021-10-16T22:12:15.695Z"
   },
   {
    "duration": 12,
    "start_time": "2021-10-16T22:12:15.717Z"
   },
   {
    "duration": 23,
    "start_time": "2021-10-16T22:12:15.730Z"
   },
   {
    "duration": 40,
    "start_time": "2021-10-16T22:12:15.755Z"
   },
   {
    "duration": 6,
    "start_time": "2021-10-16T22:12:15.797Z"
   },
   {
    "duration": 8,
    "start_time": "2021-10-16T22:12:15.805Z"
   },
   {
    "duration": 30163,
    "start_time": "2021-10-16T22:12:15.815Z"
   },
   {
    "duration": 3,
    "start_time": "2021-10-16T22:12:45.980Z"
   },
   {
    "duration": 6,
    "start_time": "2021-10-16T22:12:45.984Z"
   },
   {
    "duration": 121777,
    "start_time": "2021-10-16T22:12:45.991Z"
   },
   {
    "duration": 264946,
    "start_time": "2021-10-16T22:14:47.770Z"
   },
   {
    "duration": 1659,
    "start_time": "2021-10-16T22:19:12.718Z"
   },
   {
    "duration": 4,
    "start_time": "2021-10-16T22:19:14.379Z"
   },
   {
    "duration": 133,
    "start_time": "2021-10-16T22:19:14.386Z"
   },
   {
    "duration": 103,
    "start_time": "2021-10-16T22:19:14.578Z"
   },
   {
    "duration": 11,
    "start_time": "2021-10-16T22:19:14.683Z"
   },
   {
    "duration": 1148,
    "start_time": "2021-10-16T22:48:20.441Z"
   },
   {
    "duration": 689,
    "start_time": "2021-10-16T22:48:21.591Z"
   },
   {
    "duration": 15,
    "start_time": "2021-10-16T22:48:22.283Z"
   },
   {
    "duration": 20,
    "start_time": "2021-10-16T22:48:22.300Z"
   },
   {
    "duration": 11,
    "start_time": "2021-10-16T22:48:22.322Z"
   },
   {
    "duration": 45,
    "start_time": "2021-10-16T22:48:22.334Z"
   },
   {
    "duration": 8,
    "start_time": "2021-10-16T22:48:22.381Z"
   },
   {
    "duration": 8,
    "start_time": "2021-10-16T22:48:22.392Z"
   },
   {
    "duration": 5,
    "start_time": "2021-10-16T22:48:22.402Z"
   },
   {
    "duration": 10,
    "start_time": "2021-10-16T22:48:22.409Z"
   },
   {
    "duration": 9,
    "start_time": "2021-10-16T22:48:22.421Z"
   },
   {
    "duration": 47,
    "start_time": "2021-10-16T22:48:22.431Z"
   },
   {
    "duration": 15,
    "start_time": "2021-10-16T22:48:22.479Z"
   },
   {
    "duration": 9,
    "start_time": "2021-10-16T22:48:22.496Z"
   },
   {
    "duration": 200,
    "start_time": "2021-10-16T22:48:22.506Z"
   },
   {
    "duration": 205,
    "start_time": "2021-10-16T22:48:22.707Z"
   },
   {
    "duration": 176,
    "start_time": "2021-10-16T22:48:22.913Z"
   },
   {
    "duration": 22,
    "start_time": "2021-10-16T22:48:23.090Z"
   },
   {
    "duration": 11,
    "start_time": "2021-10-16T22:48:23.114Z"
   },
   {
    "duration": 9,
    "start_time": "2021-10-16T22:48:23.126Z"
   },
   {
    "duration": 5,
    "start_time": "2021-10-16T22:48:23.137Z"
   },
   {
    "duration": 1997,
    "start_time": "2021-10-16T22:48:23.145Z"
   },
   {
    "duration": 2089,
    "start_time": "2021-10-16T22:48:25.144Z"
   },
   {
    "duration": 2156,
    "start_time": "2021-10-16T22:48:27.235Z"
   },
   {
    "duration": 615,
    "start_time": "2021-10-16T22:48:29.393Z"
   },
   {
    "duration": 6,
    "start_time": "2021-10-16T22:48:30.010Z"
   },
   {
    "duration": 82,
    "start_time": "2021-10-16T22:48:30.017Z"
   },
   {
    "duration": 3,
    "start_time": "2021-10-16T22:48:30.101Z"
   },
   {
    "duration": 13,
    "start_time": "2021-10-16T22:48:30.105Z"
   },
   {
    "duration": 4,
    "start_time": "2021-10-16T22:48:30.120Z"
   },
   {
    "duration": 16,
    "start_time": "2021-10-16T22:48:30.126Z"
   },
   {
    "duration": 48,
    "start_time": "2021-10-16T22:48:30.144Z"
   },
   {
    "duration": 2,
    "start_time": "2021-10-16T22:48:30.194Z"
   },
   {
    "duration": 6,
    "start_time": "2021-10-16T22:48:30.198Z"
   },
   {
    "duration": 27682,
    "start_time": "2021-10-16T22:48:30.205Z"
   },
   {
    "duration": 4,
    "start_time": "2021-10-16T22:48:57.976Z"
   },
   {
    "duration": 12,
    "start_time": "2021-10-16T22:48:57.981Z"
   },
   {
    "duration": 116826,
    "start_time": "2021-10-16T22:48:57.995Z"
   },
   {
    "duration": 252739,
    "start_time": "2021-10-16T22:50:54.823Z"
   },
   {
    "duration": 1416,
    "start_time": "2021-10-16T22:55:07.564Z"
   },
   {
    "duration": 94,
    "start_time": "2021-10-16T22:55:08.983Z"
   },
   {
    "duration": 100,
    "start_time": "2021-10-16T22:55:09.079Z"
   },
   {
    "duration": 102,
    "start_time": "2021-10-16T22:55:09.181Z"
   },
   {
    "duration": 9,
    "start_time": "2021-10-16T22:55:09.285Z"
   },
   {
    "duration": 10,
    "start_time": "2021-10-17T00:26:33.492Z"
   },
   {
    "duration": 9,
    "start_time": "2021-10-17T00:26:40.747Z"
   }
  ],
  "kernelspec": {
   "display_name": "Python 3 (ipykernel)",
   "language": "python",
   "name": "python3"
  },
  "language_info": {
   "codemirror_mode": {
    "name": "ipython",
    "version": 3
   },
   "file_extension": ".py",
   "mimetype": "text/x-python",
   "name": "python",
   "nbconvert_exporter": "python",
   "pygments_lexer": "ipython3",
   "version": "3.9.7"
  },
  "toc": {
   "base_numbering": 1,
   "nav_menu": {},
   "number_sections": true,
   "sideBar": true,
   "skip_h1_title": true,
   "title_cell": "Содержание",
   "title_sidebar": "Contents",
   "toc_cell": true,
   "toc_position": {
    "height": "calc(100% - 180px)",
    "left": "10px",
    "top": "150px",
    "width": "281.375px"
   },
   "toc_section_display": true,
   "toc_window_display": true
  }
 },
 "nbformat": 4,
 "nbformat_minor": 2
}
